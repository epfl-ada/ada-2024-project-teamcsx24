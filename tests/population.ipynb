{
 "cells": [
  {
   "cell_type": "markdown",
   "metadata": {},
   "source": [
    "This notebook is to answer : \"Proportion de films traduits par pays (compter les nombres de langues de traduction par films)\""
   ]
  },
  {
   "cell_type": "code",
   "execution_count": 1,
   "metadata": {},
   "outputs": [
    {
     "name": "stdout",
     "output_type": "stream",
     "text": [
      "{'/m/09c7w0': 'United States of America', '/m/05b4w': 'Norway', '/m/07ssc': 'United Kingdom', '/m/0345h': 'Germany', '/m/0hzlz': 'South Africa', '/m/0jgd': 'Argentina', '/m/03_3d': 'Japan', '/m/01znc_': 'Turkey', '/m/03f2w': 'German Democratic Republic', '/m/05vz3zq': 'Soviet Union', '/m/0f8l9c': 'France', '/m/03rjj': 'Italy', '/m/03rk0': 'India', '/m/0ctw_b': 'New Zealand', '/m/0b90_r': 'Mexico', '/m/0chghy': 'Australia', '/m/03h64': 'Hong Kong', '/m/059j2': 'Netherlands', '/m/0k6nt': 'Denmark', '/m/0d0vqn': 'Sweden', '/m/0d060g': 'Canada', '/m/015fr': 'Brazil', '/m/06mzp': 'Switzerland', '/m/05qhw': 'Poland', '/m/06mkj': 'Spain', '/m/06qd3': 'South Korea', '/m/03gj2': 'Hungary', '/m/082fr': 'West Germany', '/m/05sb1': 'Pakistan', '/m/087vz': 'Yugoslavia', '/m/0h3y': 'Algeria', '/m/016zwt': 'Nepal', '/m/019rg5': 'Kenya', '/m/02jx1': 'England', '/m/02vzc': 'Finland', '/m/03rt9': 'Ireland', '/m/0d05w3': 'China', '/m/0h7x': 'Austria', '/m/05v8c': 'Philippines', '/m/06c1y': 'Romania', '/m/06npd': 'Slovakia', '/m/01mjq': 'Czech Republic', '/m/05r4w': 'Portugal', '/m/02k54': 'Egypt', '/m/01mk6': 'Czechoslovakia', '/m/05bcl': 'Northern Ireland', '/m/03spz': 'Israel', '/m/03rj0': 'Iceland', '/m/03ryn': 'Indonesia', '/m/0154j': 'Belgium', '/m/035qy': 'Greece', '/m/0d05q4': 'Iraq', '/m/0bjv6': 'Republic of Macedonia', '/m/06bnz': 'Russia', '/m/06f32': 'Taiwan', '/m/04hqz': 'Lebanon', '/m/03shp': 'Iran', '/m/0166b': 'Bosnia and Herzegovina', '/m/01pj7': 'Croatia', '/m/09pmkv': 'Malaysia', '/m/07t_x': 'Uzbekistan', '/m/059z0': 'Nazi Germany', '/m/084n_': 'Weimar Republic', '/m/04wgh': 'Morocco', '/m/05r7t': 'Puerto Rico', '/m/04g61': 'Luxembourg', '/m/07fj_': 'Tunisia', '/m/0jdx': 'Albania', '/m/01xbgx': 'Cambodia', '/m/07f1x': 'Thailand', '/m/02kmm': 'Estonia', '/m/01p1v': 'Chile', '/m/06q1r': 'Scotland', '/m/07ylj': 'Venezuela', '/m/01crd5': 'Vietnam', '/m/06m_5': 'Sri Lanka', '/m/06t2t': 'Singapore', '/m/06srk': 'Senegal', '/m/01ls2': 'Colombia', '/m/04v09': 'Mali', '/m/0162b': 'Bangladesh', '/m/0jhd': 'Azerbaijan', '/m/05qx1': 'Panama', '/m/077qn': 'Serbia', '/m/01699': 'Burkina Faso', '/m/06t8v': 'Slovenia', '/m/015qh': 'Bulgaria', '/m/07t21': 'Ukraine', '/m/07hj4m': 'Slovak Republic', '/m/0d04z6': 'Cuba', '/m/04v3q': 'Malta', '/m/0165v': 'Bolivia', '/m/07twz': 'Uruguay', '/m/02psqkz': 'Kingdom of Italy', '/m/048fz': 'Korea', '/m/04w58': 'Monaco', '/m/03_r3': 'Jamaica', '/m/016wzw': 'Peru', '/m/04xn_': 'Burma', '/m/014tss': 'Kingdom of Great Britain', '/m/01rhrd': 'Socialist Federal Republic of Yugoslavia', '/m/0d0kn': 'Georgia', '/m/06swt': 'Serbia and Montenegro', '/m/03t1s': 'Isle of Man', '/m/0247pq': 'Uzbek SSR', '/m/01p8s': 'Costa Rica', '/m/0697s': 'Qatar', '/m/04gzd': 'Lithuania', '/m/0247my': 'Georgian SSR', '/m/01nln': 'Cameroon', '/m/0h44w': 'Mandatory Palestine', '/m/0nyg5': 'Palestinian territories', '/m/07bxhl': 'Bhutan', '/m/047yc': 'Kuwait', '/m/0j1z8': 'United Arab Emirates', '/m/01rbb': 'Crime', '/m/018j0w': 'Federal Republic of Yugoslavia', '/m/0jdd': 'Afghanistan', '/m/088q4': 'Zimbabwe', '/m/03__y': 'Jordan', '/m/04gqr': 'Libya', '/m/088xp': 'Democratic Republic of the Congo', '/m/019pcs': 'Ethiopia', '/m/04w8f': 'Mongolia', '/m/05cgv': 'Nigeria', '/m/033fcj': 'Soviet occupation zone', '/m/0jgx': 'Armenia', '/m/056vv': 'Montenegro', '/m/0212ny': 'Ukrainian SSR', '/m/0j5g9': 'Wales', '/m/088vb': 'Zambia', '/m/03676': 'Guinea', '/m/0160w': 'Bahamas', '/m/0329by': 'Iraqi Kurdistan', '/m/0j11': 'Aruba', '/m/01c4pv': 'Turkmenistan', '/m/01rxw': 'Congo', '/m/0161c': 'Bahrain', '/m/036b_': 'Guinea-Bissau', '/m/03gyl': 'Haiti', '/m/0h66xzc': 'Republic of China', '/m/0999q': 'Malayalam Language', '/m/04thp': 'Macau', '/m/01ppq': 'Cyprus', '/m/0604m': 'Palestinian Territories', '/m/04306rv': 'German Language', '/m/0jzptwn': 'Ukranian SSR'}\n"
     ]
    }
   ],
   "source": [
    "import pandas as pd\n",
    "import json\n",
    "\n",
    "# Load the CSV file into a dataframe\n",
    "movies_df = pd.read_csv('../data/cleanData/movies_cleaned.csv')\n",
    "\n",
    "# Load the dictionaries\n",
    "with open('../data/freebaseIdDictionnaries/languages', 'r') as file:\n",
    "    languages_dict = json.load(file)\n",
    "with open('../data/freebaseIdDictionnaries/countries', 'r') as file:\n",
    "    countries_dict = json.load(file)\n",
    "\n",
    "print(countries_dict)\n",
    "# Convert the 'countries_freebase_id' columns to lists\n",
    "movies_df['countries_freebase_id'] = movies_df['countries_freebase_id'].apply(eval)\n",
    "\n",
    "# Explode the lists in 'countries_freebase_id' and 'languages_freebase_id' columns\n",
    "movies_df_exploded = movies_df.explode('countries_freebase_id').explode('languages_freebase_id')\n",
    "\n",
    "# Group by 'countries_freebase_id' and count unique 'languages_freebase_id'\n",
    "max_languages_per_country = movies_df_exploded.groupby('countries_freebase_id')['languages_freebase_id'].nunique()\n",
    "\n",
    "# Order the result from biggest to smallest\n",
    "max_languages_per_country_sorted = max_languages_per_country.sort_values(ascending=False)\n"
   ]
  },
  {
   "cell_type": "code",
   "execution_count": null,
   "metadata": {},
   "outputs": [
    {
     "name": "stdout",
     "output_type": "stream",
     "text": [
      "countries_freebase_id\n",
      "United States of America    622\n",
      "France                      428\n",
      "Germany                     369\n",
      "United Kingdom              334\n",
      "Italy                       176\n",
      "                           ... \n",
      "German Language               1\n",
      "Iraqi Kurdistan               1\n",
      "Palestinian Territories       1\n",
      "Ukranian SSR                  1\n",
      "Guinea-Bissau                 1\n",
      "Name: languages_freebase_id, Length: 147, dtype: int64\n"
     ]
    }
   ],
   "source": [
    "# Map the index to country names using countries_dict\n",
    "max_languages_per_country_sorted.index = max_languages_per_country_sorted.index.map(countries_dict.get)\n",
    "\n",
    "#print the index of max_languages_per_country_sorted\n",
    "print(max_languages_per_country_sorted)\n"
   ]
  }
 ],
 "metadata": {
  "kernelspec": {
   "display_name": "ada",
   "language": "python",
   "name": "python3"
  },
  "language_info": {
   "codemirror_mode": {
    "name": "ipython",
    "version": 3
   },
   "file_extension": ".py",
   "mimetype": "text/x-python",
   "name": "python",
   "nbconvert_exporter": "python",
   "pygments_lexer": "ipython3",
   "version": "3.11.10"
  }
 },
 "nbformat": 4,
 "nbformat_minor": 2
}
