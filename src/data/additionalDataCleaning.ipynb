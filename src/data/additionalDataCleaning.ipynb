{
 "cells": [
  {
   "cell_type": "code",
   "execution_count": 74,
   "metadata": {},
   "outputs": [],
   "source": [
    "import pandas as pd\n",
    "import matplotlib.pyplot as plt\n",
    "import ast"
   ]
  },
  {
   "cell_type": "markdown",
   "metadata": {},
   "source": [
    "# Data importation"
   ]
  },
  {
   "cell_type": "markdown",
   "metadata": {},
   "source": [
    "## Original movie data"
   ]
  },
  {
   "cell_type": "code",
   "execution_count": 87,
   "metadata": {},
   "outputs": [
    {
     "data": {
      "text/html": [
       "<div>\n",
       "<style scoped>\n",
       "    .dataframe tbody tr th:only-of-type {\n",
       "        vertical-align: middle;\n",
       "    }\n",
       "\n",
       "    .dataframe tbody tr th {\n",
       "        vertical-align: top;\n",
       "    }\n",
       "\n",
       "    .dataframe thead th {\n",
       "        text-align: right;\n",
       "    }\n",
       "</style>\n",
       "<table border=\"1\" class=\"dataframe\">\n",
       "  <thead>\n",
       "    <tr style=\"text-align: right;\">\n",
       "      <th></th>\n",
       "      <th>wiki_id</th>\n",
       "      <th>freebase_id</th>\n",
       "      <th>original_title</th>\n",
       "      <th>release_date</th>\n",
       "      <th>revenue</th>\n",
       "      <th>runtime</th>\n",
       "      <th>languages</th>\n",
       "      <th>countries</th>\n",
       "      <th>genres</th>\n",
       "      <th>countries_freebase_id</th>\n",
       "      <th>languages_freebase_id</th>\n",
       "      <th>genres_freebase_id</th>\n",
       "    </tr>\n",
       "  </thead>\n",
       "  <tbody>\n",
       "    <tr>\n",
       "      <th>0</th>\n",
       "      <td>975900</td>\n",
       "      <td>/m/03vyhn</td>\n",
       "      <td>Ghosts of Mars</td>\n",
       "      <td>2001-08-24</td>\n",
       "      <td>14010832.0</td>\n",
       "      <td>98.0</td>\n",
       "      <td>['English Language']</td>\n",
       "      <td>['United States of America']</td>\n",
       "      <td>['Thriller', 'Science Fiction', 'Horror', 'Adv...</td>\n",
       "      <td>['/m/09c7w0']</td>\n",
       "      <td>['/m/02h40lc']</td>\n",
       "      <td>['/m/01jfsb', '/m/06n90', '/m/03npn', '/m/03k9...</td>\n",
       "    </tr>\n",
       "    <tr>\n",
       "      <th>1</th>\n",
       "      <td>3196793</td>\n",
       "      <td>/m/08yl5d</td>\n",
       "      <td>Getting Away with Murder: The JonBenét Ramsey ...</td>\n",
       "      <td>2000-02-16</td>\n",
       "      <td>NaN</td>\n",
       "      <td>95.0</td>\n",
       "      <td>['English Language']</td>\n",
       "      <td>['United States of America']</td>\n",
       "      <td>['Mystery', 'Biographical film', 'Drama', 'Cri...</td>\n",
       "      <td>['/m/09c7w0']</td>\n",
       "      <td>['/m/02h40lc']</td>\n",
       "      <td>['/m/02n4kr', '/m/03bxz7', '/m/07s9rl0', '/m/0...</td>\n",
       "    </tr>\n",
       "    <tr>\n",
       "      <th>2</th>\n",
       "      <td>28463795</td>\n",
       "      <td>/m/0crgdbh</td>\n",
       "      <td>Brun bitter</td>\n",
       "      <td>1988-01-01</td>\n",
       "      <td>NaN</td>\n",
       "      <td>83.0</td>\n",
       "      <td>['Norwegian Language']</td>\n",
       "      <td>['Norway']</td>\n",
       "      <td>['Crime Fiction', 'Drama']</td>\n",
       "      <td>['/m/05b4w']</td>\n",
       "      <td>['/m/05f_3']</td>\n",
       "      <td>['/m/0lsxr', '/m/07s9rl0']</td>\n",
       "    </tr>\n",
       "    <tr>\n",
       "      <th>3</th>\n",
       "      <td>9363483</td>\n",
       "      <td>/m/0285_cd</td>\n",
       "      <td>White Of The Eye</td>\n",
       "      <td>1987-01-01</td>\n",
       "      <td>NaN</td>\n",
       "      <td>110.0</td>\n",
       "      <td>['English Language']</td>\n",
       "      <td>['United Kingdom']</td>\n",
       "      <td>['Thriller', 'Erotic thriller', 'Psychological...</td>\n",
       "      <td>['/m/07ssc']</td>\n",
       "      <td>['/m/02h40lc']</td>\n",
       "      <td>['/m/01jfsb', '/m/0glj9q', '/m/09blyk']</td>\n",
       "    </tr>\n",
       "    <tr>\n",
       "      <th>4</th>\n",
       "      <td>261236</td>\n",
       "      <td>/m/01mrr1</td>\n",
       "      <td>A Woman in Flames</td>\n",
       "      <td>1983-01-01</td>\n",
       "      <td>NaN</td>\n",
       "      <td>106.0</td>\n",
       "      <td>['German Language']</td>\n",
       "      <td>['Germany']</td>\n",
       "      <td>['Drama']</td>\n",
       "      <td>['/m/0345h']</td>\n",
       "      <td>['/m/04306rv']</td>\n",
       "      <td>['/m/07s9rl0']</td>\n",
       "    </tr>\n",
       "    <tr>\n",
       "      <th>5</th>\n",
       "      <td>13696889</td>\n",
       "      <td>/m/03cfc81</td>\n",
       "      <td>The Gangsters</td>\n",
       "      <td>1913-05-29</td>\n",
       "      <td>NaN</td>\n",
       "      <td>35.0</td>\n",
       "      <td>['Silent film', 'English Language']</td>\n",
       "      <td>['United States of America']</td>\n",
       "      <td>['Short Film', 'Silent film', 'Indie', 'Black-...</td>\n",
       "      <td>['/m/09c7w0']</td>\n",
       "      <td>['/m/06ppq', '/m/02h40lc']</td>\n",
       "      <td>['/m/02hmvc', '/m/06ppq', '/m/0219x_', '/m/01g...</td>\n",
       "    </tr>\n",
       "    <tr>\n",
       "      <th>6</th>\n",
       "      <td>18998739</td>\n",
       "      <td>/m/04jcqvw</td>\n",
       "      <td>The Sorcerer's Apprentice</td>\n",
       "      <td>2002-01-01</td>\n",
       "      <td>NaN</td>\n",
       "      <td>86.0</td>\n",
       "      <td>['English Language']</td>\n",
       "      <td>['South Africa']</td>\n",
       "      <td>['Family Film', 'Fantasy', 'Adventure', 'World...</td>\n",
       "      <td>['/m/0hzlz']</td>\n",
       "      <td>['/m/02h40lc']</td>\n",
       "      <td>['/m/0hqxf', '/m/01hmnh', '/m/03k9fj', '/m/03q...</td>\n",
       "    </tr>\n",
       "    <tr>\n",
       "      <th>7</th>\n",
       "      <td>10408933</td>\n",
       "      <td>/m/02qc0j7</td>\n",
       "      <td>Alexander's Ragtime Band</td>\n",
       "      <td>1938-08-16</td>\n",
       "      <td>3600000.0</td>\n",
       "      <td>106.0</td>\n",
       "      <td>['English Language']</td>\n",
       "      <td>['United States of America']</td>\n",
       "      <td>['Musical', 'Comedy', 'Black-and-white']</td>\n",
       "      <td>['/m/09c7w0']</td>\n",
       "      <td>['/m/02h40lc']</td>\n",
       "      <td>['/m/04t36', '/m/01z4y', '/m/01g6gs']</td>\n",
       "    </tr>\n",
       "    <tr>\n",
       "      <th>8</th>\n",
       "      <td>9997961</td>\n",
       "      <td>/m/06_y2j7</td>\n",
       "      <td>Contigo y aquí</td>\n",
       "      <td>1974-01-01</td>\n",
       "      <td>NaN</td>\n",
       "      <td>NaN</td>\n",
       "      <td>['Spanish Language']</td>\n",
       "      <td>['Argentina']</td>\n",
       "      <td>['Musical', 'Drama', 'Comedy']</td>\n",
       "      <td>['/m/0jgd']</td>\n",
       "      <td>['/m/06nm1']</td>\n",
       "      <td>['/m/04t36', '/m/07s9rl0', '/m/01z4y']</td>\n",
       "    </tr>\n",
       "    <tr>\n",
       "      <th>9</th>\n",
       "      <td>2345652</td>\n",
       "      <td>/m/075f66</td>\n",
       "      <td>City of the Dead</td>\n",
       "      <td>1960-01-01</td>\n",
       "      <td>NaN</td>\n",
       "      <td>76.0</td>\n",
       "      <td>['English Language']</td>\n",
       "      <td>['United Kingdom']</td>\n",
       "      <td>['Horror', 'Supernatural']</td>\n",
       "      <td>['/m/07ssc']</td>\n",
       "      <td>['/m/02h40lc']</td>\n",
       "      <td>['/m/03npn', '/m/0fdjb']</td>\n",
       "    </tr>\n",
       "  </tbody>\n",
       "</table>\n",
       "</div>"
      ],
      "text/plain": [
       "    wiki_id freebase_id                                     original_title  \\\n",
       "0    975900   /m/03vyhn                                     Ghosts of Mars   \n",
       "1   3196793   /m/08yl5d  Getting Away with Murder: The JonBenét Ramsey ...   \n",
       "2  28463795  /m/0crgdbh                                        Brun bitter   \n",
       "3   9363483  /m/0285_cd                                   White Of The Eye   \n",
       "4    261236   /m/01mrr1                                  A Woman in Flames   \n",
       "5  13696889  /m/03cfc81                                      The Gangsters   \n",
       "6  18998739  /m/04jcqvw                          The Sorcerer's Apprentice   \n",
       "7  10408933  /m/02qc0j7                           Alexander's Ragtime Band   \n",
       "8   9997961  /m/06_y2j7                                     Contigo y aquí   \n",
       "9   2345652   /m/075f66                                   City of the Dead   \n",
       "\n",
       "  release_date     revenue  runtime                            languages  \\\n",
       "0   2001-08-24  14010832.0     98.0                 ['English Language']   \n",
       "1   2000-02-16         NaN     95.0                 ['English Language']   \n",
       "2   1988-01-01         NaN     83.0               ['Norwegian Language']   \n",
       "3   1987-01-01         NaN    110.0                 ['English Language']   \n",
       "4   1983-01-01         NaN    106.0                  ['German Language']   \n",
       "5   1913-05-29         NaN     35.0  ['Silent film', 'English Language']   \n",
       "6   2002-01-01         NaN     86.0                 ['English Language']   \n",
       "7   1938-08-16   3600000.0    106.0                 ['English Language']   \n",
       "8   1974-01-01         NaN      NaN                 ['Spanish Language']   \n",
       "9   1960-01-01         NaN     76.0                 ['English Language']   \n",
       "\n",
       "                      countries  \\\n",
       "0  ['United States of America']   \n",
       "1  ['United States of America']   \n",
       "2                    ['Norway']   \n",
       "3            ['United Kingdom']   \n",
       "4                   ['Germany']   \n",
       "5  ['United States of America']   \n",
       "6              ['South Africa']   \n",
       "7  ['United States of America']   \n",
       "8                 ['Argentina']   \n",
       "9            ['United Kingdom']   \n",
       "\n",
       "                                              genres countries_freebase_id  \\\n",
       "0  ['Thriller', 'Science Fiction', 'Horror', 'Adv...         ['/m/09c7w0']   \n",
       "1  ['Mystery', 'Biographical film', 'Drama', 'Cri...         ['/m/09c7w0']   \n",
       "2                         ['Crime Fiction', 'Drama']          ['/m/05b4w']   \n",
       "3  ['Thriller', 'Erotic thriller', 'Psychological...          ['/m/07ssc']   \n",
       "4                                          ['Drama']          ['/m/0345h']   \n",
       "5  ['Short Film', 'Silent film', 'Indie', 'Black-...         ['/m/09c7w0']   \n",
       "6  ['Family Film', 'Fantasy', 'Adventure', 'World...          ['/m/0hzlz']   \n",
       "7           ['Musical', 'Comedy', 'Black-and-white']         ['/m/09c7w0']   \n",
       "8                     ['Musical', 'Drama', 'Comedy']           ['/m/0jgd']   \n",
       "9                         ['Horror', 'Supernatural']          ['/m/07ssc']   \n",
       "\n",
       "        languages_freebase_id  \\\n",
       "0              ['/m/02h40lc']   \n",
       "1              ['/m/02h40lc']   \n",
       "2                ['/m/05f_3']   \n",
       "3              ['/m/02h40lc']   \n",
       "4              ['/m/04306rv']   \n",
       "5  ['/m/06ppq', '/m/02h40lc']   \n",
       "6              ['/m/02h40lc']   \n",
       "7              ['/m/02h40lc']   \n",
       "8                ['/m/06nm1']   \n",
       "9              ['/m/02h40lc']   \n",
       "\n",
       "                                  genres_freebase_id  \n",
       "0  ['/m/01jfsb', '/m/06n90', '/m/03npn', '/m/03k9...  \n",
       "1  ['/m/02n4kr', '/m/03bxz7', '/m/07s9rl0', '/m/0...  \n",
       "2                         ['/m/0lsxr', '/m/07s9rl0']  \n",
       "3            ['/m/01jfsb', '/m/0glj9q', '/m/09blyk']  \n",
       "4                                     ['/m/07s9rl0']  \n",
       "5  ['/m/02hmvc', '/m/06ppq', '/m/0219x_', '/m/01g...  \n",
       "6  ['/m/0hqxf', '/m/01hmnh', '/m/03k9fj', '/m/03q...  \n",
       "7              ['/m/04t36', '/m/01z4y', '/m/01g6gs']  \n",
       "8             ['/m/04t36', '/m/07s9rl0', '/m/01z4y']  \n",
       "9                           ['/m/03npn', '/m/0fdjb']  "
      ]
     },
     "execution_count": 87,
     "metadata": {},
     "output_type": "execute_result"
    }
   ],
   "source": [
    "df_movies = pd.read_csv('../../data/cleanData/movies_cleaned.csv')\n",
    "\n",
    "df_movies.head(10)"
   ]
  },
  {
   "cell_type": "code",
   "execution_count": 76,
   "metadata": {},
   "outputs": [
    {
     "name": "stdout",
     "output_type": "stream",
     "text": [
      "<class 'pandas.core.frame.DataFrame'>\n",
      "RangeIndex: 81741 entries, 0 to 81740\n",
      "Data columns (total 12 columns):\n",
      " #   Column                 Non-Null Count  Dtype  \n",
      "---  ------                 --------------  -----  \n",
      " 0   wiki_id                81741 non-null  int64  \n",
      " 1   freebase_id            81741 non-null  object \n",
      " 2   original_title         81741 non-null  object \n",
      " 3   release_date           74839 non-null  object \n",
      " 4   revenue                8401 non-null   float64\n",
      " 5   runtime                61291 non-null  float64\n",
      " 6   languages              81741 non-null  object \n",
      " 7   countries              81741 non-null  object \n",
      " 8   genres                 81741 non-null  object \n",
      " 9   countries_freebase_id  81741 non-null  object \n",
      " 10  languages_freebase_id  81741 non-null  object \n",
      " 11  genres_freebase_id     81741 non-null  object \n",
      "dtypes: float64(2), int64(1), object(9)\n",
      "memory usage: 7.5+ MB\n"
     ]
    }
   ],
   "source": [
    "df_movies.info()"
   ]
  },
  {
   "cell_type": "markdown",
   "metadata": {},
   "source": [
    "## Additional movie data from Kaggle"
   ]
  },
  {
   "cell_type": "code",
   "execution_count": 110,
   "metadata": {},
   "outputs": [
    {
     "data": {
      "text/html": [
       "<div>\n",
       "<style scoped>\n",
       "    .dataframe tbody tr th:only-of-type {\n",
       "        vertical-align: middle;\n",
       "    }\n",
       "\n",
       "    .dataframe tbody tr th {\n",
       "        vertical-align: top;\n",
       "    }\n",
       "\n",
       "    .dataframe thead th {\n",
       "        text-align: right;\n",
       "    }\n",
       "</style>\n",
       "<table border=\"1\" class=\"dataframe\">\n",
       "  <thead>\n",
       "    <tr style=\"text-align: right;\">\n",
       "      <th></th>\n",
       "      <th>imdb_id</th>\n",
       "      <th>original_title</th>\n",
       "      <th>original_language</th>\n",
       "      <th>budget</th>\n",
       "      <th>revenue</th>\n",
       "      <th>release_date</th>\n",
       "      <th>title</th>\n",
       "    </tr>\n",
       "  </thead>\n",
       "  <tbody>\n",
       "    <tr>\n",
       "      <th>0</th>\n",
       "      <td>tt0055827</td>\n",
       "      <td>Le Caporal épinglé</td>\n",
       "      <td>fr</td>\n",
       "      <td>0</td>\n",
       "      <td>0</td>\n",
       "      <td>1962-05-23</td>\n",
       "      <td>The Elusive Corporal</td>\n",
       "    </tr>\n",
       "    <tr>\n",
       "      <th>1</th>\n",
       "      <td>tt0055910</td>\n",
       "      <td>Cybèle ou les dimanches de ville d'Avray</td>\n",
       "      <td>fr</td>\n",
       "      <td>0</td>\n",
       "      <td>0</td>\n",
       "      <td>1962-11-12</td>\n",
       "      <td>Sundays and Cybele</td>\n",
       "    </tr>\n",
       "  </tbody>\n",
       "</table>\n",
       "</div>"
      ],
      "text/plain": [
       "     imdb_id                            original_title original_language  \\\n",
       "0  tt0055827                        Le Caporal épinglé                fr   \n",
       "1  tt0055910  Cybèle ou les dimanches de ville d'Avray                fr   \n",
       "\n",
       "  budget revenue release_date                 title  \n",
       "0      0       0   1962-05-23  The Elusive Corporal  \n",
       "1      0       0   1962-11-12    Sundays and Cybele  "
      ]
     },
     "execution_count": 110,
     "metadata": {},
     "output_type": "execute_result"
    }
   ],
   "source": [
    "df_movies_additional = pd.read_csv('../../data/additionalData/Kaggle_movie_data_tmdb_filtered.csv')\n",
    "df_movies_additional.head(2)"
   ]
  },
  {
   "cell_type": "markdown",
   "metadata": {},
   "source": [
    "## Inflation dataset from Kaggle"
   ]
  },
  {
   "cell_type": "code",
   "execution_count": 89,
   "metadata": {},
   "outputs": [
    {
     "data": {
      "text/html": [
       "<div>\n",
       "<style scoped>\n",
       "    .dataframe tbody tr th:only-of-type {\n",
       "        vertical-align: middle;\n",
       "    }\n",
       "\n",
       "    .dataframe tbody tr th {\n",
       "        vertical-align: top;\n",
       "    }\n",
       "\n",
       "    .dataframe thead th {\n",
       "        text-align: right;\n",
       "    }\n",
       "</style>\n",
       "<table border=\"1\" class=\"dataframe\">\n",
       "  <thead>\n",
       "    <tr style=\"text-align: right;\">\n",
       "      <th></th>\n",
       "      <th>Yearmon</th>\n",
       "      <th>CPI</th>\n",
       "    </tr>\n",
       "  </thead>\n",
       "  <tbody>\n",
       "    <tr>\n",
       "      <th>0</th>\n",
       "      <td>01-01-1913</td>\n",
       "      <td>9.8</td>\n",
       "    </tr>\n",
       "    <tr>\n",
       "      <th>1</th>\n",
       "      <td>01-02-1913</td>\n",
       "      <td>9.8</td>\n",
       "    </tr>\n",
       "  </tbody>\n",
       "</table>\n",
       "</div>"
      ],
      "text/plain": [
       "      Yearmon  CPI\n",
       "0  01-01-1913  9.8\n",
       "1  01-02-1913  9.8"
      ]
     },
     "execution_count": 89,
     "metadata": {},
     "output_type": "execute_result"
    }
   ],
   "source": [
    "df_inflation_additional_monthly = pd.read_csv('../../data/additionalData/Kaggle_US_CPI.csv')\n",
    "df_inflation_additional_monthly.head(2)"
   ]
  },
  {
   "cell_type": "markdown",
   "metadata": {},
   "source": [
    "# Data preprocessing"
   ]
  },
  {
   "cell_type": "markdown",
   "metadata": {},
   "source": [
    "## Additional movie data from Kaggle"
   ]
  },
  {
   "cell_type": "markdown",
   "metadata": {},
   "source": [
    "Convert budget to pd.to_numeric format"
   ]
  },
  {
   "cell_type": "code",
   "execution_count": 79,
   "metadata": {},
   "outputs": [],
   "source": [
    "df_movies_additional['budget'] = pd.to_numeric(df_movies_additional['budget'], errors='coerce')"
   ]
  },
  {
   "cell_type": "markdown",
   "metadata": {},
   "source": [
    "## Additional movie data from Kaggle where budget is not null"
   ]
  },
  {
   "cell_type": "code",
   "execution_count": 80,
   "metadata": {},
   "outputs": [],
   "source": [
    "df_movies_additional_filtered = df_movies_additional.loc[df_movies_additional['budget'] != 0]"
   ]
  },
  {
   "cell_type": "markdown",
   "metadata": {},
   "source": [
    "## Inflation dataset from Kaggle"
   ]
  },
  {
   "cell_type": "code",
   "execution_count": 97,
   "metadata": {},
   "outputs": [],
   "source": [
    "df_inflation_additional_monthly['Yearmon'] = pd.to_datetime(df_inflation_additional_monthly['Yearmon'])\n",
    "df_inflation_additional_monthly['year'] = df_inflation_additional_monthly['Yearmon'].dt.year\n",
    "df_inflation_additional_annual = df_inflation_additional_monthly.groupby('year')['CPI'].mean().reset_index()"
   ]
  },
  {
   "cell_type": "markdown",
   "metadata": {},
   "source": [
    "Save cleaned datasets"
   ]
  },
  {
   "cell_type": "code",
   "execution_count": 112,
   "metadata": {},
   "outputs": [
    {
     "name": "stdout",
     "output_type": "stream",
     "text": [
      "Saved Kaggle_US_CPI_monthly_cleaned to ../../data/cleanData/Kaggle_US_CPI_monthly_cleaned.csv\n",
      "Saved Kaggle_movie_data_tmdb_cleaned to ../../data/cleanData/Kaggle_movie_data_tmdb_cleaned.csv\n",
      "Saved Kaggle_movie_data_tmdb_filtered_cleaned to ../../data/cleanData/Kaggle_movie_data_tmdb_filtered_cleaned.csv\n",
      "Saved Kaggle_US_CPI_annual_cleaned to ../../data/cleanData/Kaggle_US_CPI_annual_cleaned.csv\n"
     ]
    }
   ],
   "source": [
    "def save_dataset(df, filename):\n",
    "    file_path = f'../../data/cleanData/{filename}.csv'\n",
    "    df.to_csv(file_path, index=False)\n",
    "    print(f\"Saved {filename} to {file_path}\")\n",
    "\n",
    "# Save cleaned dataset\n",
    "save_dataset(df_inflation_additional_monthly, 'Kaggle_US_CPI_monthly_cleaned')\n",
    "save_dataset(df_movies_additional, 'Kaggle_movie_data_tmdb_cleaned')\n",
    "save_dataset(df_movies_additional_filtered, 'Kaggle_movie_data_tmdb_filtered_cleaned')\n",
    "save_dataset(df_inflation_additional_annual, 'Kaggle_US_CPI_annual_cleaned')"
   ]
  },
  {
   "cell_type": "markdown",
   "metadata": {},
   "source": [
    "# Data statistics overview"
   ]
  },
  {
   "cell_type": "code",
   "execution_count": null,
   "metadata": {},
   "outputs": [],
   "source": []
  },
  {
   "cell_type": "code",
   "execution_count": 81,
   "metadata": {},
   "outputs": [],
   "source": [
    "from matplotlib_venn import venn2\n",
    "\n",
    "def intersectionIMDbID(df1, df2, name1, name2, id_column='id'):\n",
    "    # Ids extraction from each DataFrame\n",
    "    ids1 = set(df1[id_column].unique())\n",
    "    ids2 = set(df2[id_column].unique())\n",
    "    \n",
    "    # Compute intersection and differences\n",
    "    intersection = ids1 & ids2\n",
    "    only_df1 = ids1 - ids2\n",
    "    only_df2 = ids2 - ids1\n",
    "    \n",
    "    # Count elements\n",
    "    count_intersection = len(intersection)\n",
    "    count_only_df1 = len(only_df1)\n",
    "    count_only_df2 = len(only_df2)\n",
    "    total = count_intersection + count_only_df1 + count_only_df2\n",
    "\n",
    "    # Venn diagram\n",
    "    venn = venn2(subsets=(1, 1, 1), set_labels=(name1, name2))\n",
    "    \n",
    "    # Add counts\n",
    "    venn.get_label_by_id('10').set_text(f'{count_only_df1}')\n",
    "    venn.get_label_by_id('01').set_text(f'{count_only_df2}')\n",
    "    venn.get_label_by_id('11').set_text(f'{count_intersection}')\n",
    "    \n",
    "    plt.title(\"Intersection between \" + name1 + \" and \" + name2)\n",
    "    plt.show()"
   ]
  },
  {
   "cell_type": "markdown",
   "metadata": {},
   "source": [
    "## Additional movie data from Kaggle"
   ]
  },
  {
   "cell_type": "code",
   "execution_count": 82,
   "metadata": {},
   "outputs": [
    {
     "name": "stdout",
     "output_type": "stream",
     "text": [
      "<class 'pandas.core.frame.DataFrame'>\n",
      "RangeIndex: 119931 entries, 0 to 119930\n",
      "Data columns (total 6 columns):\n",
      " #   Column             Non-Null Count   Dtype  \n",
      "---  ------             --------------   -----  \n",
      " 0   imdb_id            114475 non-null  object \n",
      " 1   original_title     119392 non-null  object \n",
      " 2   original_language  119392 non-null  object \n",
      " 3   budget             119074 non-null  float64\n",
      " 4   revenue            119071 non-null  object \n",
      " 5   title              118752 non-null  object \n",
      "dtypes: float64(1), object(5)\n",
      "memory usage: 5.5+ MB\n"
     ]
    }
   ],
   "source": [
    "df_movies_additional.info()"
   ]
  },
  {
   "cell_type": "code",
   "execution_count": 83,
   "metadata": {},
   "outputs": [
    {
     "data": {
      "image/png": "[encoded data removed]",
      "text/plain": [
       "<Figure size 640x480 with 1 Axes>"
      ]
     },
     "metadata": {},
     "output_type": "display_data"
    }
   ],
   "source": [
    "intersectionIMDbID(df_movies, df_movies_additional, 'Main', 'Kaggle', id_column='original_title')"
   ]
  },
  {
   "cell_type": "markdown",
   "metadata": {},
   "source": [
    "## Additional movie data from Kaggle where budget is not null"
   ]
  },
  {
   "cell_type": "code",
   "execution_count": 84,
   "metadata": {},
   "outputs": [
    {
     "name": "stdout",
     "output_type": "stream",
     "text": [
      "<class 'pandas.core.frame.DataFrame'>\n",
      "Index: 15043 entries, 4 to 119928\n",
      "Data columns (total 6 columns):\n",
      " #   Column             Non-Null Count  Dtype  \n",
      "---  ------             --------------  -----  \n",
      " 0   imdb_id            14391 non-null  object \n",
      " 1   original_title     14504 non-null  object \n",
      " 2   original_language  14504 non-null  object \n",
      " 3   budget             14186 non-null  float64\n",
      " 4   revenue            14496 non-null  object \n",
      " 5   title              14178 non-null  object \n",
      "dtypes: float64(1), object(5)\n",
      "memory usage: 822.7+ KB\n"
     ]
    }
   ],
   "source": [
    "df_movies_additional_filtered.info()"
   ]
  },
  {
   "cell_type": "code",
   "execution_count": 85,
   "metadata": {},
   "outputs": [
    {
     "data": {
      "image/png": "[encoded data removed]",
      "text/plain": [
       "<Figure size 640x480 with 1 Axes>"
      ]
     },
     "metadata": {},
     "output_type": "display_data"
    }
   ],
   "source": [
    "intersectionIMDbID(df_movies, df_movies_additional_filtered, 'Main', 'Kaggle where budget not null', id_column='original_title')"
   ]
  },
  {
   "cell_type": "markdown",
   "metadata": {},
   "source": [
    "## Inflation dataset from Kaggle"
   ]
  },
  {
   "cell_type": "code",
   "execution_count": 90,
   "metadata": {},
   "outputs": [
    {
     "name": "stdout",
     "output_type": "stream",
     "text": [
      "<class 'pandas.core.frame.DataFrame'>\n",
      "RangeIndex: 1296 entries, 0 to 1295\n",
      "Data columns (total 2 columns):\n",
      " #   Column   Non-Null Count  Dtype  \n",
      "---  ------   --------------  -----  \n",
      " 0   Yearmon  1296 non-null   object \n",
      " 1   CPI      1296 non-null   float64\n",
      "dtypes: float64(1), object(1)\n",
      "memory usage: 20.4+ KB\n"
     ]
    }
   ],
   "source": [
    "df_inflation_additional_monthly.info()"
   ]
  },
  {
   "cell_type": "code",
   "execution_count": 98,
   "metadata": {},
   "outputs": [
    {
     "name": "stdout",
     "output_type": "stream",
     "text": [
      "<class 'pandas.core.frame.DataFrame'>\n",
      "RangeIndex: 108 entries, 0 to 107\n",
      "Data columns (total 2 columns):\n",
      " #   Column  Non-Null Count  Dtype  \n",
      "---  ------  --------------  -----  \n",
      " 0   year    108 non-null    int32  \n",
      " 1   CPI     108 non-null    float64\n",
      "dtypes: float64(1), int32(1)\n",
      "memory usage: 1.4 KB\n"
     ]
    }
   ],
   "source": [
    "df_inflation_additional_annual.info()"
   ]
  },
  {
   "cell_type": "code",
   "execution_count": 107,
   "metadata": {},
   "outputs": [
    {
     "data": {
      "image/png": "[encoded data removed]",
      "text/plain": [
       "<Figure size 1000x600 with 1 Axes>"
      ]
     },
     "metadata": {},
     "output_type": "display_data"
    }
   ],
   "source": [
    "# plot the temporal evolution of the Consumer Price Index (CPI)\n",
    "plt.figure(figsize=(10, 6))\n",
    "plt.plot(df_inflation_additional_annual['year'], df_inflation_additional_annual['CPI'], marker='o')\n",
    "plt.title('Consumer Price Index (CPI) evolution')\n",
    "plt.xlabel('Year')\n",
    "plt.ylabel('CPI')\n",
    "plt.grid()\n",
    "plt.show()\n"
   ]
  }
 ],
 "metadata": {
  "kernelspec": {
   "display_name": "ada",
   "language": "python",
   "name": "python3"
  },
  "language_info": {
   "codemirror_mode": {
    "name": "ipython",
    "version": 3
   },
   "file_extension": ".py",
   "mimetype": "text/x-python",
   "name": "python",
   "nbconvert_exporter": "python",
   "pygments_lexer": "ipython3",
   "version": "3.11.10"
  }
 },
 "nbformat": 4,
 "nbformat_minor": 2
}
