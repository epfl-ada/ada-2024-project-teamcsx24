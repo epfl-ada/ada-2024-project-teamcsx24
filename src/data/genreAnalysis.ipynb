{
 "cells": [
  {
   "cell_type": "markdown",
   "metadata": {},
   "source": [
    "# Genre analysis"
   ]
  },
  {
   "cell_type": "markdown",
   "metadata": {},
   "source": [
    "This notebook will analyze the evolution of genres in movies over the years and over the countries."
   ]
  },
  {
   "cell_type": "code",
   "execution_count": 2,
   "metadata": {},
   "outputs": [],
   "source": [
    "# Modules to import\n",
    "import sys\n",
    "import pandas as pd\n",
    "import numpy as np\n",
    "import matplotlib.pyplot as plt\n",
    "import plotly.express as px\n",
    "from dash import *"
   ]
  },
  {
   "cell_type": "code",
   "execution_count": 7,
   "metadata": {},
   "outputs": [
    {
     "name": "stderr",
     "output_type": "stream",
     "text": [
      "c:\\Users\\arnau\\OneDrive\\Documents\\Scolarité EPFL\\ADA\\ada-2024-project-teamcsx24\\src\\data\\dataLoader.py:10: FutureWarning:\n",
      "\n",
      "DataFrame.applymap has been deprecated. Use DataFrame.map instead.\n",
      "\n"
     ]
    }
   ],
   "source": [
    "# Paths to add\n",
    "paths = ['../data','../scripts','../utils']\n",
    "for path in paths:\n",
    "    sys.path.append(path)\n",
    "    \n",
    "# Data loader\n",
    "from dataLoader import loadDataframe\n",
    "\n",
    "# Load data\n",
    "path_to_directory = '../../data/cleanData/'\n",
    "df_movies = loadDataframe('movies', path_to_directory)"
   ]
  },
  {
   "cell_type": "markdown",
   "metadata": {},
   "source": [
    "### Creation of dataframe (number of movies per genre per year per region or country)"
   ]
  },
  {
   "cell_type": "markdown",
   "metadata": {},
   "source": [
    "Modification of country names to match with geopandas name"
   ]
  },
  {
   "cell_type": "code",
   "execution_count": 8,
   "metadata": {},
   "outputs": [
    {
     "data": {
      "text/html": [
       "<div>\n",
       "<style scoped>\n",
       "    .dataframe tbody tr th:only-of-type {\n",
       "        vertical-align: middle;\n",
       "    }\n",
       "\n",
       "    .dataframe tbody tr th {\n",
       "        vertical-align: top;\n",
       "    }\n",
       "\n",
       "    .dataframe thead th {\n",
       "        text-align: right;\n",
       "    }\n",
       "</style>\n",
       "<table border=\"1\" class=\"dataframe\">\n",
       "  <thead>\n",
       "    <tr style=\"text-align: right;\">\n",
       "      <th></th>\n",
       "      <th>wiki_id</th>\n",
       "      <th>freebase_id</th>\n",
       "      <th>original_title</th>\n",
       "      <th>release_date</th>\n",
       "      <th>revenue</th>\n",
       "      <th>runtime</th>\n",
       "      <th>languages</th>\n",
       "      <th>countries</th>\n",
       "      <th>genres</th>\n",
       "      <th>countries_freebase_id</th>\n",
       "      <th>languages_freebase_id</th>\n",
       "      <th>genres_freebase_id</th>\n",
       "    </tr>\n",
       "  </thead>\n",
       "  <tbody>\n",
       "    <tr>\n",
       "      <th>0</th>\n",
       "      <td>975900</td>\n",
       "      <td>/m/03vyhn</td>\n",
       "      <td>Ghosts of Mars</td>\n",
       "      <td>2001-08-24</td>\n",
       "      <td>14010832.0</td>\n",
       "      <td>98.0</td>\n",
       "      <td>[English Language]</td>\n",
       "      <td>[United States of America]</td>\n",
       "      <td>[Thriller, Science Fiction, Horror, Adventure,...</td>\n",
       "      <td>[/m/09c7w0]</td>\n",
       "      <td>[/m/02h40lc]</td>\n",
       "      <td>[/m/01jfsb, /m/06n90, /m/03npn, /m/03k9fj, /m/...</td>\n",
       "    </tr>\n",
       "    <tr>\n",
       "      <th>1</th>\n",
       "      <td>3196793</td>\n",
       "      <td>/m/08yl5d</td>\n",
       "      <td>Getting Away with Murder: The JonBenét Ramsey ...</td>\n",
       "      <td>2000-02-16</td>\n",
       "      <td>NaN</td>\n",
       "      <td>95.0</td>\n",
       "      <td>[English Language]</td>\n",
       "      <td>[United States of America]</td>\n",
       "      <td>[Mystery, Biographical film, Drama, Crime Drama]</td>\n",
       "      <td>[/m/09c7w0]</td>\n",
       "      <td>[/m/02h40lc]</td>\n",
       "      <td>[/m/02n4kr, /m/03bxz7, /m/07s9rl0, /m/0hj3n01]</td>\n",
       "    </tr>\n",
       "  </tbody>\n",
       "</table>\n",
       "</div>"
      ],
      "text/plain": [
       "   wiki_id freebase_id                                     original_title  \\\n",
       "0   975900   /m/03vyhn                                     Ghosts of Mars   \n",
       "1  3196793   /m/08yl5d  Getting Away with Murder: The JonBenét Ramsey ...   \n",
       "\n",
       "  release_date     revenue  runtime           languages  \\\n",
       "0   2001-08-24  14010832.0     98.0  [English Language]   \n",
       "1   2000-02-16         NaN     95.0  [English Language]   \n",
       "\n",
       "                    countries  \\\n",
       "0  [United States of America]   \n",
       "1  [United States of America]   \n",
       "\n",
       "                                              genres countries_freebase_id  \\\n",
       "0  [Thriller, Science Fiction, Horror, Adventure,...           [/m/09c7w0]   \n",
       "1   [Mystery, Biographical film, Drama, Crime Drama]           [/m/09c7w0]   \n",
       "\n",
       "  languages_freebase_id                                 genres_freebase_id  \n",
       "0          [/m/02h40lc]  [/m/01jfsb, /m/06n90, /m/03npn, /m/03k9fj, /m/...  \n",
       "1          [/m/02h40lc]     [/m/02n4kr, /m/03bxz7, /m/07s9rl0, /m/0hj3n01]  "
      ]
     },
     "execution_count": 8,
     "metadata": {},
     "output_type": "execute_result"
    }
   ],
   "source": [
    "df_movies.head(2)"
   ]
  },
  {
   "cell_type": "code",
   "execution_count": 9,
   "metadata": {},
   "outputs": [],
   "source": [
    "from generalUtils import transformCountryNameGpd\n",
    "df_movies['countries'] = df_movies['countries_freebase_id'].apply(transformCountryNameGpd)"
   ]
  },
  {
   "cell_type": "markdown",
   "metadata": {},
   "source": [
    "Preparation of the dataset for the analysis (explode genres and countries)"
   ]
  },
  {
   "cell_type": "code",
   "execution_count": 10,
   "metadata": {},
   "outputs": [
    {
     "data": {
      "text/html": [
       "<div>\n",
       "<style scoped>\n",
       "    .dataframe tbody tr th:only-of-type {\n",
       "        vertical-align: middle;\n",
       "    }\n",
       "\n",
       "    .dataframe tbody tr th {\n",
       "        vertical-align: top;\n",
       "    }\n",
       "\n",
       "    .dataframe thead th {\n",
       "        text-align: right;\n",
       "    }\n",
       "</style>\n",
       "<table border=\"1\" class=\"dataframe\">\n",
       "  <thead>\n",
       "    <tr style=\"text-align: right;\">\n",
       "      <th></th>\n",
       "      <th>wiki_id</th>\n",
       "      <th>freebase_id</th>\n",
       "      <th>original_title</th>\n",
       "      <th>release_date</th>\n",
       "      <th>revenue</th>\n",
       "      <th>runtime</th>\n",
       "      <th>languages</th>\n",
       "      <th>countries</th>\n",
       "      <th>genres</th>\n",
       "      <th>countries_freebase_id</th>\n",
       "      <th>languages_freebase_id</th>\n",
       "      <th>genres_freebase_id</th>\n",
       "    </tr>\n",
       "  </thead>\n",
       "  <tbody>\n",
       "    <tr>\n",
       "      <th>0</th>\n",
       "      <td>975900</td>\n",
       "      <td>/m/03vyhn</td>\n",
       "      <td>Ghosts of Mars</td>\n",
       "      <td>2001-08-24</td>\n",
       "      <td>14010832.0</td>\n",
       "      <td>98.0</td>\n",
       "      <td>[English Language]</td>\n",
       "      <td>United States of America</td>\n",
       "      <td>Thriller</td>\n",
       "      <td>[/m/09c7w0]</td>\n",
       "      <td>[/m/02h40lc]</td>\n",
       "      <td>[/m/01jfsb, /m/06n90, /m/03npn, /m/03k9fj, /m/...</td>\n",
       "    </tr>\n",
       "    <tr>\n",
       "      <th>0</th>\n",
       "      <td>975900</td>\n",
       "      <td>/m/03vyhn</td>\n",
       "      <td>Ghosts of Mars</td>\n",
       "      <td>2001-08-24</td>\n",
       "      <td>14010832.0</td>\n",
       "      <td>98.0</td>\n",
       "      <td>[English Language]</td>\n",
       "      <td>United States of America</td>\n",
       "      <td>Science Fiction</td>\n",
       "      <td>[/m/09c7w0]</td>\n",
       "      <td>[/m/02h40lc]</td>\n",
       "      <td>[/m/01jfsb, /m/06n90, /m/03npn, /m/03k9fj, /m/...</td>\n",
       "    </tr>\n",
       "    <tr>\n",
       "      <th>0</th>\n",
       "      <td>975900</td>\n",
       "      <td>/m/03vyhn</td>\n",
       "      <td>Ghosts of Mars</td>\n",
       "      <td>2001-08-24</td>\n",
       "      <td>14010832.0</td>\n",
       "      <td>98.0</td>\n",
       "      <td>[English Language]</td>\n",
       "      <td>United States of America</td>\n",
       "      <td>Horror</td>\n",
       "      <td>[/m/09c7w0]</td>\n",
       "      <td>[/m/02h40lc]</td>\n",
       "      <td>[/m/01jfsb, /m/06n90, /m/03npn, /m/03k9fj, /m/...</td>\n",
       "    </tr>\n",
       "  </tbody>\n",
       "</table>\n",
       "</div>"
      ],
      "text/plain": [
       "   wiki_id freebase_id  original_title release_date     revenue  runtime  \\\n",
       "0   975900   /m/03vyhn  Ghosts of Mars   2001-08-24  14010832.0     98.0   \n",
       "0   975900   /m/03vyhn  Ghosts of Mars   2001-08-24  14010832.0     98.0   \n",
       "0   975900   /m/03vyhn  Ghosts of Mars   2001-08-24  14010832.0     98.0   \n",
       "\n",
       "            languages                 countries           genres  \\\n",
       "0  [English Language]  United States of America         Thriller   \n",
       "0  [English Language]  United States of America  Science Fiction   \n",
       "0  [English Language]  United States of America           Horror   \n",
       "\n",
       "  countries_freebase_id languages_freebase_id  \\\n",
       "0           [/m/09c7w0]          [/m/02h40lc]   \n",
       "0           [/m/09c7w0]          [/m/02h40lc]   \n",
       "0           [/m/09c7w0]          [/m/02h40lc]   \n",
       "\n",
       "                                  genres_freebase_id  \n",
       "0  [/m/01jfsb, /m/06n90, /m/03npn, /m/03k9fj, /m/...  \n",
       "0  [/m/01jfsb, /m/06n90, /m/03npn, /m/03k9fj, /m/...  \n",
       "0  [/m/01jfsb, /m/06n90, /m/03npn, /m/03k9fj, /m/...  "
      ]
     },
     "execution_count": 10,
     "metadata": {},
     "output_type": "execute_result"
    }
   ],
   "source": [
    "df_genres_countries_exploded = df_movies.explode('genres').explode('countries')\n",
    "df_genres_countries_exploded.head(3)"
   ]
  },
  {
   "cell_type": "code",
   "execution_count": 11,
   "metadata": {},
   "outputs": [
    {
     "data": {
      "text/plain": [
       "wiki_id                       0\n",
       "freebase_id                   0\n",
       "original_title                0\n",
       "release_date              12530\n",
       "revenue                  240221\n",
       "runtime                   41850\n",
       "languages                     0\n",
       "countries                 13759\n",
       "genres                     2361\n",
       "countries_freebase_id         0\n",
       "languages_freebase_id         0\n",
       "genres_freebase_id            0\n",
       "dtype: int64"
      ]
     },
     "execution_count": 11,
     "metadata": {},
     "output_type": "execute_result"
    }
   ],
   "source": [
    "# Check for missing values\n",
    "df_genres_countries_exploded.isna().sum()"
   ]
  },
  {
   "cell_type": "code",
   "execution_count": 12,
   "metadata": {},
   "outputs": [
    {
     "name": "stdout",
     "output_type": "stream",
     "text": [
      "Total number of movies: 81741\n",
      "Total number of movies with countries, release date and genres: 68144\n",
      "Pourcentage of dropped movies: 16.63%\n"
     ]
    }
   ],
   "source": [
    "# Print number of movies\n",
    "nb_movies = df_genres_countries_exploded['wiki_id'].nunique()\n",
    "print(f'Total number of movies: {nb_movies}')\n",
    "\n",
    "df_genres_countries_exploded.dropna(subset=['countries','release_date','genres'], inplace=True)\n",
    "\n",
    "nb_movies_after_dropna = df_genres_countries_exploded['wiki_id'].nunique()\n",
    "print(f'Total number of movies with countries, release date and genres: {nb_movies_after_dropna}')\n",
    "\n",
    "print(f'Pourcentage of dropped movies: {100*(1-nb_movies_after_dropna/nb_movies):.2f}%')"
   ]
  },
  {
   "cell_type": "markdown",
   "metadata": {},
   "source": [
    "Only 84% of the movies have genre, country and release date information. It represents 68144 movies, which seems to be enough for the analysis."
   ]
  },
  {
   "cell_type": "code",
   "execution_count": 13,
   "metadata": {},
   "outputs": [],
   "source": [
    "from generalUtils import attachWorldRegion\n",
    "df_genres_countries_exploded['region'] = df_genres_countries_exploded['countries'].apply(attachWorldRegion)"
   ]
  },
  {
   "cell_type": "code",
   "execution_count": 14,
   "metadata": {},
   "outputs": [
    {
     "name": "stdout",
     "output_type": "stream",
     "text": [
      "Number of unique genres:  362\n",
      "['Thriller' 'Science Fiction' 'Horror' 'Adventure' 'Supernatural' 'Action'\n",
      " 'Space western' 'Mystery' 'Biographical film' 'Drama' 'Crime Drama'\n",
      " 'Crime Fiction' 'Erotic thriller' 'Psychological thriller' 'Short Film'\n",
      " 'Silent film' 'Indie' 'Black-and-white' 'Comedy' 'Family Film' 'Fantasy'\n",
      " 'World cinema' 'Musical' 'Japanese Movies' 'Action/Adventure'\n",
      " 'Romantic comedy' 'Ensemble Film' 'Comedy-drama' 'Romantic drama'\n",
      " 'Romance Film' 'Costume drama' 'War film' 'Epic' 'Period piece'\n",
      " 'Film adaptation' \"Children's/Family\" \"Children's Fantasy\" 'Future noir'\n",
      " 'Comedy film' 'Coming of age' 'Suspense' 'Crime Thriller' 'Black comedy'\n",
      " 'Bollywood' 'Marriage Drama' 'Wuxia' 'Martial Arts Film' 'Chinese Movies'\n",
      " 'Western' 'Parody' 'Mockumentary' 'Fan film' 'Cult' 'Adventure Comedy'\n",
      " 'Slapstick' 'Biopic [feature]' 'Historical Epic' 'Sports' 'Family Drama'\n",
      " 'Political drama' 'Historical fiction' 'Courtroom Drama'\n",
      " 'Culture & Society' 'Biography' 'Documentary' 'Christmas movie'\n",
      " 'Television movie' 'Malayalam Cinema' 'Action Comedy' 'Blaxploitation'\n",
      " 'Erotica' 'Sci-Fi Horror' 'Satire' 'Epic Western' 'Gangster Film'\n",
      " 'Softcore Porn' 'Sexploitation' 'B-movie' 'Zombie Film'\n",
      " 'Action Thrillers' 'Musical Drama' 'Erotic Drama' 'Pornographic movie'\n",
      " 'Slasher' 'Film noir' 'Social issues' 'Legal drama' 'New Hollywood'\n",
      " 'History' 'Experimental film' 'Surrealism' 'Tragicomedy' 'Avant-garde'\n",
      " 'Crime Comedy' 'Monster movie' 'Natural horror films' 'Creature Film'\n",
      " 'Gender Issues' 'LGBT' 'Music' 'Comedy of Errors' 'Historical drama'\n",
      " 'Political thriller' 'Melodrama' 'Americana' 'Detective fiction'\n",
      " 'Detective' 'Concert film' 'Horror Comedy' 'Anime' 'Childhood Drama'\n",
      " 'Docudrama' 'Teen' 'Gothic Film' 'Disaster' 'Art film' 'Domestic Comedy'\n",
      " 'Musical comedy' 'Family-Oriented Adventure' 'Escape Film' 'Prison'\n",
      " 'Dance' 'Superhero movie' 'Filipino Movies' 'Filipino' 'Spy' 'Animation'\n",
      " 'Combat Films' 'Fantasy Adventure' 'Political cinema' 'Comedy horror'\n",
      " 'C-Movie' 'Dystopia' 'Buddy film' 'Tragedy' 'Time travel'\n",
      " 'Sword and sorcery' 'Political satire' 'Gross-out film' 'Gross out'\n",
      " 'Doomsday film' 'Plague' 'Propaganda film' 'Screwball comedy'\n",
      " 'Comedy Western' 'Gay' 'Gay Interest' 'Gay Themed'\n",
      " 'Film & Television History' 'Film' 'Medical fiction' 'Costume Adventure'\n",
      " 'Rockumentary' 'Feminist Film' 'Educational' 'Buddy cop'\n",
      " 'Film \\\\u00e0 clef' 'Costume Horror' 'Pre-Code'\n",
      " 'Juvenile Delinquency Film' 'Christian film' 'Natural disaster'\n",
      " 'Movie serial' 'Linguistics' 'Language & Literature' 'Comedy of manners'\n",
      " \"Children's\" 'Remake' 'Fantasy Comedy' 'Media Satire'\n",
      " 'Computer Animation' 'Spaghetti Western' 'Dogme 95' 'Backstage Musical'\n",
      " 'Law & Crime' 'Hybrid Western' 'Stop motion'\n",
      " 'Roadshow theatrical release' 'Sex comedy' 'Tollywood'\n",
      " 'Women in prison films' 'Holiday Film' 'Heavenly Comedy' 'Road movie'\n",
      " 'Giallo' 'Anthology' 'Existentialism' 'Social problem film'\n",
      " 'Sci-Fi Adventure' 'Anthropology' 'Gay pornography' 'Auto racing'\n",
      " 'Slice of life story' 'Kitchen sink realism' 'British New Wave'\n",
      " 'Samurai cinema' 'Heist' 'Gulf War' 'Archaeology' 'Romantic fantasy'\n",
      " 'Religious Film' 'Biker Film' 'Animal Picture' 'Absurdism'\n",
      " 'Swashbuckler films' 'Hagiography' 'Hardcore pornography' 'Adult'\n",
      " 'Animated Musical' 'Anti-war' 'Anti-war film' 'Cavalry Film'\n",
      " 'Haunted House Film' 'Space opera' 'Czechoslovak New Wave' 'Animals'\n",
      " 'Addiction Drama' 'Chase Movie' 'Tokusatsu' 'Pornography'\n",
      " 'Extreme Sports' 'Superhero' 'Apocalyptic and post-apocalyptic fiction'\n",
      " 'Whodunit' 'Environmental Science' 'Airplanes and airports' 'Alien Film'\n",
      " 'Graphic & Applied Arts' 'Animated cartoon' 'Essay Film'\n",
      " 'Inspirational Drama' 'Revisionist Western' 'Pinku eiga'\n",
      " 'Stand-up comedy' 'Jungle Film' 'Fairy tale' 'Comedy Thriller'\n",
      " 'Tamil cinema' 'Punk rock' 'Libraries and librarians' 'Workplace Comedy'\n",
      " 'Caper story' 'Demonic child' 'Illnesses & Disabilities' 'Expressionism'\n",
      " 'Glamorized Spy Film' 'Early Black Cinema' 'Interpersonal Relationships'\n",
      " 'British Empire Film' 'Monster' 'Sword and sorcery films' 'B-Western'\n",
      " 'Bengali Cinema' 'Filmed Play' 'Northern' 'Hip hop movies' 'Humour'\n",
      " 'Roadshow/Carny' 'Exploitation' 'Sword and Sandal' 'Nature' 'Travel'\n",
      " 'Mumblecore' \"Children's Entertainment\" 'Splatter film' 'Star vehicle'\n",
      " 'Business' 'Stoner film' 'Mythological Fantasy' 'Journalism' 'Camp'\n",
      " 'Boxing' 'Mondo film' 'Latino' 'Alien invasion' 'Sponsored film'\n",
      " 'Foreign legion' 'Heaven-Can-Wait Fantasies' 'Baseball' 'Prison film'\n",
      " 'Conspiracy fiction' 'Crime' 'Master Criminal Films' 'Jukebox musical'\n",
      " 'Indian Western' 'Road-Horror' 'Werewolf fiction' 'Feature film'\n",
      " 'Neo-noir' 'Private military company' 'Finance & Investing' 'Computers'\n",
      " 'Movies About Gladiators' 'Horse racing' 'Nuclear warfare'\n",
      " 'Inventions & Innovations' 'Instrumental Music' 'Media Studies'\n",
      " 'Archives and records' 'Psycho-biddy' 'Outlaw biker film' 'Prison escape'\n",
      " 'Z movie' 'News' 'Beach Film' 'Live action' 'Education'\n",
      " 'Health & Fitness' 'Film-Opera' 'Period Horror' 'Comdedy'\n",
      " \"Children's Issues\" 'Science fiction Western' 'Bloopers & Candid Camera'\n",
      " 'Psychological horror' 'Albino bias' 'Family & Personal Relationships'\n",
      " 'Steampunk' 'Fantasy Drama' 'Sci-Fi Thriller' 'Courtroom Comedy'\n",
      " 'Operetta' 'Parkour in popular culture' 'Cyberpunk' 'Coming-of-age film'\n",
      " 'Historical Documentaries' 'Cold War' 'Political Documetary'\n",
      " 'Fictional film' 'World History' 'Bruceploitation' 'Ealing Comedies'\n",
      " 'Silhouette animation' 'Female buddy film' 'Race movie' 'Breakdance'\n",
      " 'Acid western' 'War effort' 'Reboot' 'School story' 'Supermarionation'\n",
      " 'Clay animation' 'Sci Fi Pictures original films' 'Outlaw' 'Kafkaesque'\n",
      " 'Vampire movies' 'Goat gland' 'Therimin music' 'Beach Party film'\n",
      " 'Singing cowboy' 'Point of view shot' 'Revenge' 'Patriotic film'\n",
      " 'Chick flick' 'Ninja movie' 'Buddy Picture' 'Statutory rape'\n",
      " 'New Queer Cinema' 'Neorealism' 'The Netherlands in World War II'\n",
      " 'Revisionist Fairy Tale' 'Homoeroticism']\n"
     ]
    }
   ],
   "source": [
    "print(\"Number of unique genres: \", df_genres_countries_exploded['genres'].nunique())\n",
    "print(df_genres_countries_exploded['genres'].unique())"
   ]
  },
  {
   "cell_type": "markdown",
   "metadata": {},
   "source": [
    "There are 362 different genres in the dataset. The most common genres are Drama, Comedy and Romance. To begin with, we will analyze the evolution of the most common genres over years and countries."
   ]
  },
  {
   "cell_type": "code",
   "execution_count": 15,
   "metadata": {},
   "outputs": [
    {
     "data": {
      "image/png": "[encoded data removed]",
      "text/plain": [
       "<Figure size 1000x500 with 1 Axes>"
      ]
     },
     "metadata": {},
     "output_type": "display_data"
    }
   ],
   "source": [
    "most_common_genres = df_genres_countries_exploded['genres'].value_counts().head(10)\n",
    "\n",
    "plt.figure(figsize=(10,5))\n",
    "plt.bar(most_common_genres.index, most_common_genres.values)\n",
    "plt.title('Most common genres')\n",
    "plt.ylabel('Number of movies')\n",
    "plt.xticks(rotation=45)\n",
    "plt.show()"
   ]
  },
  {
   "cell_type": "code",
   "execution_count": 16,
   "metadata": {},
   "outputs": [],
   "source": [
    "# Convert release date to year\n",
    "df_genres_countries_exploded['year'] = pd.to_datetime(df_genres_countries_exploded['release_date']).dt.year"
   ]
  },
  {
   "cell_type": "code",
   "execution_count": null,
   "metadata": {},
   "outputs": [
    {
     "data": {
      "application/vnd.plotly.v1+json": {
       "config": {
        "plotlyServerURL": "https://plot.ly"
       },
       "data": [
        {
         "hovertemplate": "genres=Absurdism<br>release_date=%{x}<br>countries=%{y}<extra></extra>",
         "legendgroup": "Absurdism",
         "marker": {
          "color": "#636efa",
          "symbol": "circle"
         },
         "mode": "markers",
         "name": "Absurdism",
         "orientation": "v",
         "showlegend": true,
         "type": "scatter",
         "x": [
          "1929-05-03T00:00:00"
         ],
         "xaxis": "x",
         "y": [
          "United States of America"
         ],
         "yaxis": "y"
        },
        {
         "hovertemplate": "genres=Acid western<br>release_date=%{x}<br>countries=%{y}<extra></extra>",
         "legendgroup": "Acid western",
         "marker": {
          "color": "#EF553B",
          "symbol": "circle"
         },
         "mode": "markers",
         "name": "Acid western",
         "orientation": "v",
         "showlegend": true,
         "type": "scatter",
         "x": [
          "1967-01-01T00:00:00"
         ],
         "xaxis": "x",
         "y": [
          "United States of America"
         ],
         "yaxis": "y"
        },
        {
         "hovertemplate": "genres=Action<br>release_date=%{x}<br>countries=%{y}<extra></extra>",
         "legendgroup": "Action",
         "marker": {
          "color": "#00cc96",
          "symbol": "circle"
         },
         "mode": "markers",
         "name": "Action",
         "orientation": "v",
         "showlegend": true,
         "type": "scatter",
         "x": [
          "1903-01-01T00:00:00"
         ],
         "xaxis": "x",
         "y": [
          "United States of America"
         ],
         "yaxis": "y"
        },
        {
         "hovertemplate": "genres=Action Comedy<br>release_date=%{x}<br>countries=%{y}<extra></extra>",
         "legendgroup": "Action Comedy",
         "marker": {
          "color": "#ab63fa",
          "symbol": "circle"
         },
         "mode": "markers",
         "name": "Action Comedy",
         "orientation": "v",
         "showlegend": true,
         "type": "scatter",
         "x": [
          "1934-06-16T00:00:00"
         ],
         "xaxis": "x",
         "y": [
          "United States of America"
         ],
         "yaxis": "y"
        },
        {
         "hovertemplate": "genres=Action Thrillers<br>release_date=%{x}<br>countries=%{y}<extra></extra>",
         "legendgroup": "Action Thrillers",
         "marker": {
          "color": "#FFA15A",
          "symbol": "circle"
         },
         "mode": "markers",
         "name": "Action Thrillers",
         "orientation": "v",
         "showlegend": true,
         "type": "scatter",
         "x": [
          "1914-12-28T00:00:00"
         ],
         "xaxis": "x",
         "y": [
          "United States of America"
         ],
         "yaxis": "y"
        },
        {
         "hovertemplate": "genres=Action/Adventure<br>release_date=%{x}<br>countries=%{y}<extra></extra>",
         "legendgroup": "Action/Adventure",
         "marker": {
          "color": "#19d3f3",
          "symbol": "circle"
         },
         "mode": "markers",
         "name": "Action/Adventure",
         "orientation": "v",
         "showlegend": true,
         "type": "scatter",
         "x": [
          "1915-11-21T00:00:00"
         ],
         "xaxis": "x",
         "y": [
          "United States of America"
         ],
         "yaxis": "y"
        },
        {
         "hovertemplate": "genres=Addiction Drama<br>release_date=%{x}<br>countries=%{y}<extra></extra>",
         "legendgroup": "Addiction Drama",
         "marker": {
          "color": "#FF6692",
          "symbol": "circle"
         },
         "mode": "markers",
         "name": "Addiction Drama",
         "orientation": "v",
         "showlegend": true,
         "type": "scatter",
         "x": [
          "1932-01-01T00:00:00"
         ],
         "xaxis": "x",
         "y": [
          "United States of America"
         ],
         "yaxis": "y"
        },
        {
         "hovertemplate": "genres=Adult<br>release_date=%{x}<br>countries=%{y}<extra></extra>",
         "legendgroup": "Adult",
         "marker": {
          "color": "#B6E880",
          "symbol": "circle"
         },
         "mode": "markers",
         "name": "Adult",
         "orientation": "v",
         "showlegend": true,
         "type": "scatter",
         "x": [
          "1910-01-01T00:00:00"
         ],
         "xaxis": "x",
         "y": [
          "Germany"
         ],
         "yaxis": "y"
        },
        {
         "hovertemplate": "genres=Adventure<br>release_date=%{x}<br>countries=%{y}<extra></extra>",
         "legendgroup": "Adventure",
         "marker": {
          "color": "#FF97FF",
          "symbol": "circle"
         },
         "mode": "markers",
         "name": "Adventure",
         "orientation": "v",
         "showlegend": true,
         "type": "scatter",
         "x": [
          "1899-01-01T00:00:00"
         ],
         "xaxis": "x",
         "y": [
          "France"
         ],
         "yaxis": "y"
        },
        {
         "hovertemplate": "genres=Adventure Comedy<br>release_date=%{x}<br>countries=%{y}<extra></extra>",
         "legendgroup": "Adventure Comedy",
         "marker": {
          "color": "#FECB52",
          "symbol": "circle"
         },
         "mode": "markers",
         "name": "Adventure Comedy",
         "orientation": "v",
         "showlegend": true,
         "type": "scatter",
         "x": [
          "1915-11-14T00:00:00"
         ],
         "xaxis": "x",
         "y": [
          "United States of America"
         ],
         "yaxis": "y"
        },
        {
         "hovertemplate": "genres=Airplanes and airports<br>release_date=%{x}<br>countries=%{y}<extra></extra>",
         "legendgroup": "Airplanes and airports",
         "marker": {
          "color": "#636efa",
          "symbol": "circle"
         },
         "mode": "markers",
         "name": "Airplanes and airports",
         "orientation": "v",
         "showlegend": true,
         "type": "scatter",
         "x": [
          "1927-08-12T00:00:00"
         ],
         "xaxis": "x",
         "y": [
          "United States of America"
         ],
         "yaxis": "y"
        },
        {
         "hovertemplate": "genres=Albino bias<br>release_date=%{x}<br>countries=%{y}<extra></extra>",
         "legendgroup": "Albino bias",
         "marker": {
          "color": "#EF553B",
          "symbol": "circle"
         },
         "mode": "markers",
         "name": "Albino bias",
         "orientation": "v",
         "showlegend": true,
         "type": "scatter",
         "x": [
          "1971-01-01T00:00:00"
         ],
         "xaxis": "x",
         "y": [
          "United States of America"
         ],
         "yaxis": "y"
        },
        {
         "hovertemplate": "genres=Alien Film<br>release_date=%{x}<br>countries=%{y}<extra></extra>",
         "legendgroup": "Alien Film",
         "marker": {
          "color": "#00cc96",
          "symbol": "circle"
         },
         "mode": "markers",
         "name": "Alien Film",
         "orientation": "v",
         "showlegend": true,
         "type": "scatter",
         "x": [
          "1951-04-27T00:00:00"
         ],
         "xaxis": "x",
         "y": [
          "United States of America"
         ],
         "yaxis": "y"
        },
        {
         "hovertemplate": "genres=Alien invasion<br>release_date=%{x}<br>countries=%{y}<extra></extra>",
         "legendgroup": "Alien invasion",
         "marker": {
          "color": "#ab63fa",
          "symbol": "circle"
         },
         "mode": "markers",
         "name": "Alien invasion",
         "orientation": "v",
         "showlegend": true,
         "type": "scatter",
         "x": [
          "1953-04-22T00:00:00"
         ],
         "xaxis": "x",
         "y": [
          "United States of America"
         ],
         "yaxis": "y"
        },
        {
         "hovertemplate": "genres=Americana<br>release_date=%{x}<br>countries=%{y}<extra></extra>",
         "legendgroup": "Americana",
         "marker": {
          "color": "#FFA15A",
          "symbol": "circle"
         },
         "mode": "markers",
         "name": "Americana",
         "orientation": "v",
         "showlegend": true,
         "type": "scatter",
         "x": [
          "1932-01-01T00:00:00"
         ],
         "xaxis": "x",
         "y": [
          "United States of America"
         ],
         "yaxis": "y"
        },
        {
         "hovertemplate": "genres=Animal Picture<br>release_date=%{x}<br>countries=%{y}<extra></extra>",
         "legendgroup": "Animal Picture",
         "marker": {
          "color": "#19d3f3",
          "symbol": "circle"
         },
         "mode": "markers",
         "name": "Animal Picture",
         "orientation": "v",
         "showlegend": true,
         "type": "scatter",
         "x": [
          "1925-11-17T00:00:00"
         ],
         "xaxis": "x",
         "y": [
          "United States of America"
         ],
         "yaxis": "y"
        },
        {
         "hovertemplate": "genres=Animals<br>release_date=%{x}<br>countries=%{y}<extra></extra>",
         "legendgroup": "Animals",
         "marker": {
          "color": "#FF6692",
          "symbol": "circle"
         },
         "mode": "markers",
         "name": "Animals",
         "orientation": "v",
         "showlegend": true,
         "type": "scatter",
         "x": [
          "1942-06-04T00:00:00"
         ],
         "xaxis": "x",
         "y": [
          "United States of America"
         ],
         "yaxis": "y"
        },
        {
         "hovertemplate": "genres=Animated Musical<br>release_date=%{x}<br>countries=%{y}<extra></extra>",
         "legendgroup": "Animated Musical",
         "marker": {
          "color": "#B6E880",
          "symbol": "circle"
         },
         "mode": "markers",
         "name": "Animated Musical",
         "orientation": "v",
         "showlegend": true,
         "type": "scatter",
         "x": [
          "1940-11-13T00:00:00"
         ],
         "xaxis": "x",
         "y": [
          "United States of America"
         ],
         "yaxis": "y"
        },
        {
         "hovertemplate": "genres=Animated cartoon<br>release_date=%{x}<br>countries=%{y}<extra></extra>",
         "legendgroup": "Animated cartoon",
         "marker": {
          "color": "#FF97FF",
          "symbol": "circle"
         },
         "mode": "markers",
         "name": "Animated cartoon",
         "orientation": "v",
         "showlegend": true,
         "type": "scatter",
         "x": [
          "1931-12-12T00:00:00"
         ],
         "xaxis": "x",
         "y": [
          "United States of America"
         ],
         "yaxis": "y"
        },
        {
         "hovertemplate": "genres=Animation<br>release_date=%{x}<br>countries=%{y}<extra></extra>",
         "legendgroup": "Animation",
         "marker": {
          "color": "#FECB52",
          "symbol": "circle"
         },
         "mode": "markers",
         "name": "Animation",
         "orientation": "v",
         "showlegend": true,
         "type": "scatter",
         "x": [
          "1892-10-28T00:00:00",
          "1892-10-28T00:00:00",
          "1892-10-28T00:00:00"
         ],
         "xaxis": "x",
         "y": [
          "France",
          "France",
          "France"
         ],
         "yaxis": "y"
        },
        {
         "hovertemplate": "genres=Anime<br>release_date=%{x}<br>countries=%{y}<extra></extra>",
         "legendgroup": "Anime",
         "marker": {
          "color": "#636efa",
          "symbol": "circle"
         },
         "mode": "markers",
         "name": "Anime",
         "orientation": "v",
         "showlegend": true,
         "type": "scatter",
         "x": [
          "1917-01-01T00:00:00",
          "1917-01-01T00:00:00"
         ],
         "xaxis": "x",
         "y": [
          "Japan",
          "Germany"
         ],
         "yaxis": "y"
        },
        {
         "hovertemplate": "genres=Anthology<br>release_date=%{x}<br>countries=%{y}<extra></extra>",
         "legendgroup": "Anthology",
         "marker": {
          "color": "#EF553B",
          "symbol": "circle"
         },
         "mode": "markers",
         "name": "Anthology",
         "orientation": "v",
         "showlegend": true,
         "type": "scatter",
         "x": [
          "1921-09-26T00:00:00"
         ],
         "xaxis": "x",
         "y": [
          "United States of America"
         ],
         "yaxis": "y"
        },
        {
         "hovertemplate": "genres=Anthropology<br>release_date=%{x}<br>countries=%{y}<extra></extra>",
         "legendgroup": "Anthropology",
         "marker": {
          "color": "#00cc96",
          "symbol": "circle"
         },
         "mode": "markers",
         "name": "Anthropology",
         "orientation": "v",
         "showlegend": true,
         "type": "scatter",
         "x": [
          "1922-01-01T00:00:00"
         ],
         "xaxis": "x",
         "y": [
          "United States of America"
         ],
         "yaxis": "y"
        },
        {
         "hovertemplate": "genres=Anti-war<br>release_date=%{x}<br>countries=%{y}<extra></extra>",
         "legendgroup": "Anti-war",
         "marker": {
          "color": "#ab63fa",
          "symbol": "circle"
         },
         "mode": "markers",
         "name": "Anti-war",
         "orientation": "v",
         "showlegend": true,
         "type": "scatter",
         "x": [
          "1916-01-01T00:00:00"
         ],
         "xaxis": "x",
         "y": [
          "United States of America"
         ],
         "yaxis": "y"
        },
        {
         "hovertemplate": "genres=Anti-war film<br>release_date=%{x}<br>countries=%{y}<extra></extra>",
         "legendgroup": "Anti-war film",
         "marker": {
          "color": "#FFA15A",
          "symbol": "circle"
         },
         "mode": "markers",
         "name": "Anti-war film",
         "orientation": "v",
         "showlegend": true,
         "type": "scatter",
         "x": [
          "1916-01-01T00:00:00"
         ],
         "xaxis": "x",
         "y": [
          "United States of America"
         ],
         "yaxis": "y"
        },
        {
         "hovertemplate": "genres=Apocalyptic and post-apocalyptic fiction<br>release_date=%{x}<br>countries=%{y}<extra></extra>",
         "legendgroup": "Apocalyptic and post-apocalyptic fiction",
         "marker": {
          "color": "#19d3f3",
          "symbol": "circle"
         },
         "mode": "markers",
         "name": "Apocalyptic and post-apocalyptic fiction",
         "orientation": "v",
         "showlegend": true,
         "type": "scatter",
         "x": [
          "1933-08-13T00:00:00"
         ],
         "xaxis": "x",
         "y": [
          "United States of America"
         ],
         "yaxis": "y"
        },
        {
         "hovertemplate": "genres=Archaeology<br>release_date=%{x}<br>countries=%{y}<extra></extra>",
         "legendgroup": "Archaeology",
         "marker": {
          "color": "#FF6692",
          "symbol": "circle"
         },
         "mode": "markers",
         "name": "Archaeology",
         "orientation": "v",
         "showlegend": true,
         "type": "scatter",
         "x": [
          "1932-12-22T00:00:00"
         ],
         "xaxis": "x",
         "y": [
          "United States of America"
         ],
         "yaxis": "y"
        },
        {
         "hovertemplate": "genres=Archives and records<br>release_date=%{x}<br>countries=%{y}<extra></extra>",
         "legendgroup": "Archives and records",
         "marker": {
          "color": "#B6E880",
          "symbol": "circle"
         },
         "mode": "markers",
         "name": "Archives and records",
         "orientation": "v",
         "showlegend": true,
         "type": "scatter",
         "x": [
          "1950-03-04T00:00:00"
         ],
         "xaxis": "x",
         "y": [
          "United States of America"
         ],
         "yaxis": "y"
        },
        {
         "hovertemplate": "genres=Art film<br>release_date=%{x}<br>countries=%{y}<extra></extra>",
         "legendgroup": "Art film",
         "marker": {
          "color": "#FF97FF",
          "symbol": "circle"
         },
         "mode": "markers",
         "name": "Art film",
         "orientation": "v",
         "showlegend": true,
         "type": "scatter",
         "x": [
          "1923-01-01T00:00:00"
         ],
         "xaxis": "x",
         "y": [
          "France"
         ],
         "yaxis": "y"
        },
        {
         "hovertemplate": "genres=Auto racing<br>release_date=%{x}<br>countries=%{y}<extra></extra>",
         "legendgroup": "Auto racing",
         "marker": {
          "color": "#FECB52",
          "symbol": "circle"
         },
         "mode": "markers",
         "name": "Auto racing",
         "orientation": "v",
         "showlegend": true,
         "type": "scatter",
         "x": [
          "1913-10-30T00:00:00"
         ],
         "xaxis": "x",
         "y": [
          "United States of America"
         ],
         "yaxis": "y"
        },
        {
         "hovertemplate": "genres=Avant-garde<br>release_date=%{x}<br>countries=%{y}<extra></extra>",
         "legendgroup": "Avant-garde",
         "marker": {
          "color": "#636efa",
          "symbol": "circle"
         },
         "mode": "markers",
         "name": "Avant-garde",
         "orientation": "v",
         "showlegend": true,
         "type": "scatter",
         "x": [
          "1921-01-01T00:00:00"
         ],
         "xaxis": "x",
         "y": [
          "United States of America"
         ],
         "yaxis": "y"
        },
        {
         "hovertemplate": "genres=B-Western<br>release_date=%{x}<br>countries=%{y}<extra></extra>",
         "legendgroup": "B-Western",
         "marker": {
          "color": "#EF553B",
          "symbol": "circle"
         },
         "mode": "markers",
         "name": "B-Western",
         "orientation": "v",
         "showlegend": true,
         "type": "scatter",
         "x": [
          "1916-01-01T00:00:00"
         ],
         "xaxis": "x",
         "y": [
          "United States of America"
         ],
         "yaxis": "y"
        },
        {
         "hovertemplate": "genres=B-movie<br>release_date=%{x}<br>countries=%{y}<extra></extra>",
         "legendgroup": "B-movie",
         "marker": {
          "color": "#00cc96",
          "symbol": "circle"
         },
         "mode": "markers",
         "name": "B-movie",
         "orientation": "v",
         "showlegend": true,
         "type": "scatter",
         "x": [
          "1936-06-04T00:00:00"
         ],
         "xaxis": "x",
         "y": [
          "United States of America"
         ],
         "yaxis": "y"
        },
        {
         "hovertemplate": "genres=Backstage Musical<br>release_date=%{x}<br>countries=%{y}<extra></extra>",
         "legendgroup": "Backstage Musical",
         "marker": {
          "color": "#ab63fa",
          "symbol": "circle"
         },
         "mode": "markers",
         "name": "Backstage Musical",
         "orientation": "v",
         "showlegend": true,
         "type": "scatter",
         "x": [
          "1929-02-01T00:00:00"
         ],
         "xaxis": "x",
         "y": [
          "United States of America"
         ],
         "yaxis": "y"
        },
        {
         "hovertemplate": "genres=Baseball<br>release_date=%{x}<br>countries=%{y}<extra></extra>",
         "legendgroup": "Baseball",
         "marker": {
          "color": "#FFA15A",
          "symbol": "circle"
         },
         "mode": "markers",
         "name": "Baseball",
         "orientation": "v",
         "showlegend": true,
         "type": "scatter",
         "x": [
          "1976-04-07T00:00:00"
         ],
         "xaxis": "x",
         "y": [
          "United States of America"
         ],
         "yaxis": "y"
        },
        {
         "hovertemplate": "genres=Beach Film<br>release_date=%{x}<br>countries=%{y}<extra></extra>",
         "legendgroup": "Beach Film",
         "marker": {
          "color": "#19d3f3",
          "symbol": "circle"
         },
         "mode": "markers",
         "name": "Beach Film",
         "orientation": "v",
         "showlegend": true,
         "type": "scatter",
         "x": [
          "1959-04-10T00:00:00"
         ],
         "xaxis": "x",
         "y": [
          "United States of America"
         ],
         "yaxis": "y"
        },
        {
         "hovertemplate": "genres=Beach Party film<br>release_date=%{x}<br>countries=%{y}<extra></extra>",
         "legendgroup": "Beach Party film",
         "marker": {
          "color": "#FF6692",
          "symbol": "circle"
         },
         "mode": "markers",
         "name": "Beach Party film",
         "orientation": "v",
         "showlegend": true,
         "type": "scatter",
         "x": [
          "1964-01-01T00:00:00"
         ],
         "xaxis": "x",
         "y": [
          "United States of America"
         ],
         "yaxis": "y"
        },
        {
         "hovertemplate": "genres=Bengali Cinema<br>release_date=%{x}<br>countries=%{y}<extra></extra>",
         "legendgroup": "Bengali Cinema",
         "marker": {
          "color": "#B6E880",
          "symbol": "circle"
         },
         "mode": "markers",
         "name": "Bengali Cinema",
         "orientation": "v",
         "showlegend": true,
         "type": "scatter",
         "x": [
          "1935-01-01T00:00:00"
         ],
         "xaxis": "x",
         "y": [
          "India"
         ],
         "yaxis": "y"
        },
        {
         "hovertemplate": "genres=Biker Film<br>release_date=%{x}<br>countries=%{y}<extra></extra>",
         "legendgroup": "Biker Film",
         "marker": {
          "color": "#FF97FF",
          "symbol": "circle"
         },
         "mode": "markers",
         "name": "Biker Film",
         "orientation": "v",
         "showlegend": true,
         "type": "scatter",
         "x": [
          "1953-12-30T00:00:00"
         ],
         "xaxis": "x",
         "y": [
          "United States of America"
         ],
         "yaxis": "y"
        },
        {
         "hovertemplate": "genres=Biographical film<br>release_date=%{x}<br>countries=%{y}<extra></extra>",
         "legendgroup": "Biographical film",
         "marker": {
          "color": "#FECB52",
          "symbol": "circle"
         },
         "mode": "markers",
         "name": "Biographical film",
         "orientation": "v",
         "showlegend": true,
         "type": "scatter",
         "x": [
          "1896-01-01T00:00:00"
         ],
         "xaxis": "x",
         "y": [
          "France"
         ],
         "yaxis": "y"
        },
        {
         "hovertemplate": "genres=Biography<br>release_date=%{x}<br>countries=%{y}<extra></extra>",
         "legendgroup": "Biography",
         "marker": {
          "color": "#636efa",
          "symbol": "circle"
         },
         "mode": "markers",
         "name": "Biography",
         "orientation": "v",
         "showlegend": true,
         "type": "scatter",
         "x": [
          "1906-12-26T00:00:00"
         ],
         "xaxis": "x",
         "y": [
          "Australia"
         ],
         "yaxis": "y"
        },
        {
         "hovertemplate": "genres=Biopic [feature]<br>release_date=%{x}<br>countries=%{y}<extra></extra>",
         "legendgroup": "Biopic [feature]",
         "marker": {
          "color": "#EF553B",
          "symbol": "circle"
         },
         "mode": "markers",
         "name": "Biopic [feature]",
         "orientation": "v",
         "showlegend": true,
         "type": "scatter",
         "x": [
          "1916-03-26T00:00:00"
         ],
         "xaxis": "x",
         "y": [
          "United States of America"
         ],
         "yaxis": "y"
        },
        {
         "hovertemplate": "genres=Black comedy<br>release_date=%{x}<br>countries=%{y}<extra></extra>",
         "legendgroup": "Black comedy",
         "marker": {
          "color": "#00cc96",
          "symbol": "circle"
         },
         "mode": "markers",
         "name": "Black comedy",
         "orientation": "v",
         "showlegend": true,
         "type": "scatter",
         "x": [
          "1920-10-27T00:00:00"
         ],
         "xaxis": "x",
         "y": [
          "United States of America"
         ],
         "yaxis": "y"
        },
        {
         "hovertemplate": "genres=Black-and-white<br>release_date=%{x}<br>countries=%{y}<extra></extra>",
         "legendgroup": "Black-and-white",
         "marker": {
          "color": "#ab63fa",
          "symbol": "circle"
         },
         "mode": "markers",
         "name": "Black-and-white",
         "orientation": "v",
         "showlegend": true,
         "type": "scatter",
         "x": [
          "1888-01-01T00:00:00"
         ],
         "xaxis": "x",
         "y": [
          "United Kingdom"
         ],
         "yaxis": "y"
        },
        {
         "hovertemplate": "genres=Blaxploitation<br>release_date=%{x}<br>countries=%{y}<extra></extra>",
         "legendgroup": "Blaxploitation",
         "marker": {
          "color": "#FFA15A",
          "symbol": "circle"
         },
         "mode": "markers",
         "name": "Blaxploitation",
         "orientation": "v",
         "showlegend": true,
         "type": "scatter",
         "x": [
          "1968-01-01T00:00:00"
         ],
         "xaxis": "x",
         "y": [
          "United States of America"
         ],
         "yaxis": "y"
        },
        {
         "hovertemplate": "genres=Bloopers & Candid Camera<br>release_date=%{x}<br>countries=%{y}<extra></extra>",
         "legendgroup": "Bloopers & Candid Camera",
         "marker": {
          "color": "#19d3f3",
          "symbol": "circle"
         },
         "mode": "markers",
         "name": "Bloopers & Candid Camera",
         "orientation": "v",
         "showlegend": true,
         "type": "scatter",
         "x": [
          "2002-10-25T00:00:00",
          "2002-10-25T00:00:00"
         ],
         "xaxis": "x",
         "y": [
          "United States of America",
          "Japan"
         ],
         "yaxis": "y"
        },
        {
         "hovertemplate": "genres=Bollywood<br>release_date=%{x}<br>countries=%{y}<extra></extra>",
         "legendgroup": "Bollywood",
         "marker": {
          "color": "#FF6692",
          "symbol": "circle"
         },
         "mode": "markers",
         "name": "Bollywood",
         "orientation": "v",
         "showlegend": true,
         "type": "scatter",
         "x": [
          "1928-01-01T00:00:00"
         ],
         "xaxis": "x",
         "y": [
          "India"
         ],
         "yaxis": "y"
        },
        {
         "hovertemplate": "genres=Boxing<br>release_date=%{x}<br>countries=%{y}<extra></extra>",
         "legendgroup": "Boxing",
         "marker": {
          "color": "#B6E880",
          "symbol": "circle"
         },
         "mode": "markers",
         "name": "Boxing",
         "orientation": "v",
         "showlegend": true,
         "type": "scatter",
         "x": [
          "1931-01-01T00:00:00"
         ],
         "xaxis": "x",
         "y": [
          "United States of America"
         ],
         "yaxis": "y"
        },
        {
         "hovertemplate": "genres=Breakdance<br>release_date=%{x}<br>countries=%{y}<extra></extra>",
         "legendgroup": "Breakdance",
         "marker": {
          "color": "#FF97FF",
          "symbol": "circle"
         },
         "mode": "markers",
         "name": "Breakdance",
         "orientation": "v",
         "showlegend": true,
         "type": "scatter",
         "x": [
          "1984-06-06T00:00:00"
         ],
         "xaxis": "x",
         "y": [
          "United States of America"
         ],
         "yaxis": "y"
        },
        {
         "hovertemplate": "genres=British Empire Film<br>release_date=%{x}<br>countries=%{y}<extra></extra>",
         "legendgroup": "British Empire Film",
         "marker": {
          "color": "#FECB52",
          "symbol": "circle"
         },
         "mode": "markers",
         "name": "British Empire Film",
         "orientation": "v",
         "showlegend": true,
         "type": "scatter",
         "x": [
          "1935-01-11T00:00:00"
         ],
         "xaxis": "x",
         "y": [
          "United States of America"
         ],
         "yaxis": "y"
        },
        {
         "hovertemplate": "genres=British New Wave<br>release_date=%{x}<br>countries=%{y}<extra></extra>",
         "legendgroup": "British New Wave",
         "marker": {
          "color": "#636efa",
          "symbol": "circle"
         },
         "mode": "markers",
         "name": "British New Wave",
         "orientation": "v",
         "showlegend": true,
         "type": "scatter",
         "x": [
          "1959-03-30T00:00:00"
         ],
         "xaxis": "x",
         "y": [
          "United Kingdom"
         ],
         "yaxis": "y"
        },
        {
         "hovertemplate": "genres=Bruceploitation<br>release_date=%{x}<br>countries=%{y}<extra></extra>",
         "legendgroup": "Bruceploitation",
         "marker": {
          "color": "#EF553B",
          "symbol": "circle"
         },
         "mode": "markers",
         "name": "Bruceploitation",
         "orientation": "v",
         "showlegend": true,
         "type": "scatter",
         "x": [
          "1976-01-01T00:00:00"
         ],
         "xaxis": "x",
         "y": [
          "China"
         ],
         "yaxis": "y"
        },
        {
         "hovertemplate": "genres=Buddy Picture<br>release_date=%{x}<br>countries=%{y}<extra></extra>",
         "legendgroup": "Buddy Picture",
         "marker": {
          "color": "#00cc96",
          "symbol": "circle"
         },
         "mode": "markers",
         "name": "Buddy Picture",
         "orientation": "v",
         "showlegend": true,
         "type": "scatter",
         "x": [
          "2010-08-07T00:00:00",
          "2010-08-07T00:00:00",
          "2010-08-07T00:00:00"
         ],
         "xaxis": "x",
         "y": [
          "France",
          "Romania",
          "Hungary"
         ],
         "yaxis": "y"
        },
        {
         "hovertemplate": "genres=Buddy cop<br>release_date=%{x}<br>countries=%{y}<extra></extra>",
         "legendgroup": "Buddy cop",
         "marker": {
          "color": "#ab63fa",
          "symbol": "circle"
         },
         "mode": "markers",
         "name": "Buddy cop",
         "orientation": "v",
         "showlegend": true,
         "type": "scatter",
         "x": [
          "1982-12-08T00:00:00"
         ],
         "xaxis": "x",
         "y": [
          "United States of America"
         ],
         "yaxis": "y"
        },
        {
         "hovertemplate": "genres=Buddy film<br>release_date=%{x}<br>countries=%{y}<extra></extra>",
         "legendgroup": "Buddy film",
         "marker": {
          "color": "#FFA15A",
          "symbol": "circle"
         },
         "mode": "markers",
         "name": "Buddy film",
         "orientation": "v",
         "showlegend": true,
         "type": "scatter",
         "x": [
          "1927-09-23T00:00:00"
         ],
         "xaxis": "x",
         "y": [
          "United States of America"
         ],
         "yaxis": "y"
        },
        {
         "hovertemplate": "genres=Business<br>release_date=%{x}<br>countries=%{y}<extra></extra>",
         "legendgroup": "Business",
         "marker": {
          "color": "#19d3f3",
          "symbol": "circle"
         },
         "mode": "markers",
         "name": "Business",
         "orientation": "v",
         "showlegend": true,
         "type": "scatter",
         "x": [
          "2000-04-25T00:00:00"
         ],
         "xaxis": "x",
         "y": [
          "United States of America"
         ],
         "yaxis": "y"
        },
        {
         "hovertemplate": "genres=C-Movie<br>release_date=%{x}<br>countries=%{y}<extra></extra>",
         "legendgroup": "C-Movie",
         "marker": {
          "color": "#FF6692",
          "symbol": "circle"
         },
         "mode": "markers",
         "name": "C-Movie",
         "orientation": "v",
         "showlegend": true,
         "type": "scatter",
         "x": [
          "2002-02-03T00:00:00"
         ],
         "xaxis": "x",
         "y": [
          "United Kingdom"
         ],
         "yaxis": "y"
        },
        {
         "hovertemplate": "genres=Camp<br>release_date=%{x}<br>countries=%{y}<extra></extra>",
         "legendgroup": "Camp",
         "marker": {
          "color": "#B6E880",
          "symbol": "circle"
         },
         "mode": "markers",
         "name": "Camp",
         "orientation": "v",
         "showlegend": true,
         "type": "scatter",
         "x": [
          "1966-07-30T00:00:00"
         ],
         "xaxis": "x",
         "y": [
          "United States of America"
         ],
         "yaxis": "y"
        },
        {
         "hovertemplate": "genres=Caper story<br>release_date=%{x}<br>countries=%{y}<extra></extra>",
         "legendgroup": "Caper story",
         "marker": {
          "color": "#FF97FF",
          "symbol": "circle"
         },
         "mode": "markers",
         "name": "Caper story",
         "orientation": "v",
         "showlegend": true,
         "type": "scatter",
         "x": [
          "1938-05-11T00:00:00"
         ],
         "xaxis": "x",
         "y": [
          "United States of America"
         ],
         "yaxis": "y"
        },
        {
         "hovertemplate": "genres=Cavalry Film<br>release_date=%{x}<br>countries=%{y}<extra></extra>",
         "legendgroup": "Cavalry Film",
         "marker": {
          "color": "#FECB52",
          "symbol": "circle"
         },
         "mode": "markers",
         "name": "Cavalry Film",
         "orientation": "v",
         "showlegend": true,
         "type": "scatter",
         "x": [
          "1923-08-17T00:00:00"
         ],
         "xaxis": "x",
         "y": [
          "United States of America"
         ],
         "yaxis": "y"
        },
        {
         "hovertemplate": "genres=Chase Movie<br>release_date=%{x}<br>countries=%{y}<extra></extra>",
         "legendgroup": "Chase Movie",
         "marker": {
          "color": "#636efa",
          "symbol": "circle"
         },
         "mode": "markers",
         "name": "Chase Movie",
         "orientation": "v",
         "showlegend": true,
         "type": "scatter",
         "x": [
          "1913-06-03T00:00:00"
         ],
         "xaxis": "x",
         "y": [
          "United States of America"
         ],
         "yaxis": "y"
        },
        {
         "hovertemplate": "genres=Chick flick<br>release_date=%{x}<br>countries=%{y}<extra></extra>",
         "legendgroup": "Chick flick",
         "marker": {
          "color": "#EF553B",
          "symbol": "circle"
         },
         "mode": "markers",
         "name": "Chick flick",
         "orientation": "v",
         "showlegend": true,
         "type": "scatter",
         "x": [
          "2010-05-14T00:00:00"
         ],
         "xaxis": "x",
         "y": [
          "United States of America"
         ],
         "yaxis": "y"
        },
        {
         "hovertemplate": "genres=Childhood Drama<br>release_date=%{x}<br>countries=%{y}<extra></extra>",
         "legendgroup": "Childhood Drama",
         "marker": {
          "color": "#00cc96",
          "symbol": "circle"
         },
         "mode": "markers",
         "name": "Childhood Drama",
         "orientation": "v",
         "showlegend": true,
         "type": "scatter",
         "x": [
          "1936-09-18T00:00:00"
         ],
         "xaxis": "x",
         "y": [
          "United States of America"
         ],
         "yaxis": "y"
        },
        {
         "hovertemplate": "genres=Children's<br>release_date=%{x}<br>countries=%{y}<extra></extra>",
         "legendgroup": "Children's",
         "marker": {
          "color": "#ab63fa",
          "symbol": "circle"
         },
         "mode": "markers",
         "name": "Children's",
         "orientation": "v",
         "showlegend": true,
         "type": "scatter",
         "x": [
          "1934-12-14T00:00:00"
         ],
         "xaxis": "x",
         "y": [
          "United States of America"
         ],
         "yaxis": "y"
        },
        {
         "hovertemplate": "genres=Children's Entertainment<br>release_date=%{x}<br>countries=%{y}<extra></extra>",
         "legendgroup": "Children's Entertainment",
         "marker": {
          "color": "#FFA15A",
          "symbol": "circle"
         },
         "mode": "markers",
         "name": "Children's Entertainment",
         "orientation": "v",
         "showlegend": true,
         "type": "scatter",
         "x": [
          "1982-04-09T00:00:00",
          "1982-04-09T00:00:00"
         ],
         "xaxis": "x",
         "y": [
          "United States of America",
          "Japan"
         ],
         "yaxis": "y"
        },
        {
         "hovertemplate": "genres=Children's Fantasy<br>release_date=%{x}<br>countries=%{y}<extra></extra>",
         "legendgroup": "Children's Fantasy",
         "marker": {
          "color": "#19d3f3",
          "symbol": "circle"
         },
         "mode": "markers",
         "name": "Children's Fantasy",
         "orientation": "v",
         "showlegend": true,
         "type": "scatter",
         "x": [
          "1914-09-28T00:00:00"
         ],
         "xaxis": "x",
         "y": [
          "United States of America"
         ],
         "yaxis": "y"
        },
        {
         "hovertemplate": "genres=Children's Issues<br>release_date=%{x}<br>countries=%{y}<extra></extra>",
         "legendgroup": "Children's Issues",
         "marker": {
          "color": "#FF6692",
          "symbol": "circle"
         },
         "mode": "markers",
         "name": "Children's Issues",
         "orientation": "v",
         "showlegend": true,
         "type": "scatter",
         "x": [
          "1988-01-01T00:00:00"
         ],
         "xaxis": "x",
         "y": [
          "United States of America"
         ],
         "yaxis": "y"
        },
        {
         "hovertemplate": "genres=Children's/Family<br>release_date=%{x}<br>countries=%{y}<extra></extra>",
         "legendgroup": "Children's/Family",
         "marker": {
          "color": "#B6E880",
          "symbol": "circle"
         },
         "mode": "markers",
         "name": "Children's/Family",
         "orientation": "v",
         "showlegend": true,
         "type": "scatter",
         "x": [
          "1914-09-28T00:00:00"
         ],
         "xaxis": "x",
         "y": [
          "United States of America"
         ],
         "yaxis": "y"
        },
        {
         "hovertemplate": "genres=Chinese Movies<br>release_date=%{x}<br>countries=%{y}<extra></extra>",
         "legendgroup": "Chinese Movies",
         "marker": {
          "color": "#FF97FF",
          "symbol": "circle"
         },
         "mode": "markers",
         "name": "Chinese Movies",
         "orientation": "v",
         "showlegend": true,
         "type": "scatter",
         "x": [
          "1922-01-01T00:00:00",
          "1922-01-01T00:00:00"
         ],
         "xaxis": "x",
         "y": [
          "China",
          "China"
         ],
         "yaxis": "y"
        },
        {
         "hovertemplate": "genres=Christian film<br>release_date=%{x}<br>countries=%{y}<extra></extra>",
         "legendgroup": "Christian film",
         "marker": {
          "color": "#FECB52",
          "symbol": "circle"
         },
         "mode": "markers",
         "name": "Christian film",
         "orientation": "v",
         "showlegend": true,
         "type": "scatter",
         "x": [
          "1912-10-03T00:00:00"
         ],
         "xaxis": "x",
         "y": [
          "United States of America"
         ],
         "yaxis": "y"
        },
        {
         "hovertemplate": "genres=Christmas movie<br>release_date=%{x}<br>countries=%{y}<extra></extra>",
         "legendgroup": "Christmas movie",
         "marker": {
          "color": "#636efa",
          "symbol": "circle"
         },
         "mode": "markers",
         "name": "Christmas movie",
         "orientation": "v",
         "showlegend": true,
         "type": "scatter",
         "x": [
          "1934-12-14T00:00:00"
         ],
         "xaxis": "x",
         "y": [
          "United States of America"
         ],
         "yaxis": "y"
        },
        {
         "hovertemplate": "genres=Clay animation<br>release_date=%{x}<br>countries=%{y}<extra></extra>",
         "legendgroup": "Clay animation",
         "marker": {
          "color": "#EF553B",
          "symbol": "circle"
         },
         "mode": "markers",
         "name": "Clay animation",
         "orientation": "v",
         "showlegend": true,
         "type": "scatter",
         "x": [
          "1987-01-01T00:00:00"
         ],
         "xaxis": "x",
         "y": [
          "United States of America"
         ],
         "yaxis": "y"
        },
        {
         "hovertemplate": "genres=Cold War<br>release_date=%{x}<br>countries=%{y}<extra></extra>",
         "legendgroup": "Cold War",
         "marker": {
          "color": "#00cc96",
          "symbol": "circle"
         },
         "mode": "markers",
         "name": "Cold War",
         "orientation": "v",
         "showlegend": true,
         "type": "scatter",
         "x": [
          "1951-09-18T00:00:00"
         ],
         "xaxis": "x",
         "y": [
          "United States of America"
         ],
         "yaxis": "y"
        },
        {
         "hovertemplate": "genres=Combat Films<br>release_date=%{x}<br>countries=%{y}<extra></extra>",
         "legendgroup": "Combat Films",
         "marker": {
          "color": "#ab63fa",
          "symbol": "circle"
         },
         "mode": "markers",
         "name": "Combat Films",
         "orientation": "v",
         "showlegend": true,
         "type": "scatter",
         "x": [
          "1918-03-09T00:00:00"
         ],
         "xaxis": "x",
         "y": [
          "United States of America"
         ],
         "yaxis": "y"
        },
        {
         "hovertemplate": "genres=Comdedy<br>release_date=%{x}<br>countries=%{y}<extra></extra>",
         "legendgroup": "Comdedy",
         "marker": {
          "color": "#FFA15A",
          "symbol": "circle"
         },
         "mode": "markers",
         "name": "Comdedy",
         "orientation": "v",
         "showlegend": true,
         "type": "scatter",
         "x": [
          "2007-01-01T00:00:00"
         ],
         "xaxis": "x",
         "y": [
          "New Zealand"
         ],
         "yaxis": "y"
        },
        {
         "hovertemplate": "genres=Comedy<br>release_date=%{x}<br>countries=%{y}<extra></extra>",
         "legendgroup": "Comedy",
         "marker": {
          "color": "#19d3f3",
          "symbol": "circle"
         },
         "mode": "markers",
         "name": "Comedy",
         "orientation": "v",
         "showlegend": true,
         "type": "scatter",
         "x": [
          "1895-01-01T00:00:00",
          "1895-01-01T00:00:00"
         ],
         "xaxis": "x",
         "y": [
          "France",
          "France"
         ],
         "yaxis": "y"
        },
        {
         "hovertemplate": "genres=Comedy Thriller<br>release_date=%{x}<br>countries=%{y}<extra></extra>",
         "legendgroup": "Comedy Thriller",
         "marker": {
          "color": "#FF6692",
          "symbol": "circle"
         },
         "mode": "markers",
         "name": "Comedy Thriller",
         "orientation": "v",
         "showlegend": true,
         "type": "scatter",
         "x": [
          "1932-08-09T00:00:00"
         ],
         "xaxis": "x",
         "y": [
          "United States of America"
         ],
         "yaxis": "y"
        },
        {
         "hovertemplate": "genres=Comedy Western<br>release_date=%{x}<br>countries=%{y}<extra></extra>",
         "legendgroup": "Comedy Western",
         "marker": {
          "color": "#B6E880",
          "symbol": "circle"
         },
         "mode": "markers",
         "name": "Comedy Western",
         "orientation": "v",
         "showlegend": true,
         "type": "scatter",
         "x": [
          "1923-08-17T00:00:00"
         ],
         "xaxis": "x",
         "y": [
          "United States of America"
         ],
         "yaxis": "y"
        },
        {
         "hovertemplate": "genres=Comedy film<br>release_date=%{x}<br>countries=%{y}<extra></extra>",
         "legendgroup": "Comedy film",
         "marker": {
          "color": "#FF97FF",
          "symbol": "circle"
         },
         "mode": "markers",
         "name": "Comedy film",
         "orientation": "v",
         "showlegend": true,
         "type": "scatter",
         "x": [
          "1896-01-01T00:00:00"
         ],
         "xaxis": "x",
         "y": [
          "France"
         ],
         "yaxis": "y"
        },
        {
         "hovertemplate": "genres=Comedy horror<br>release_date=%{x}<br>countries=%{y}<extra></extra>",
         "legendgroup": "Comedy horror",
         "marker": {
          "color": "#FECB52",
          "symbol": "circle"
         },
         "mode": "markers",
         "name": "Comedy horror",
         "orientation": "v",
         "showlegend": true,
         "type": "scatter",
         "x": [
          "1985-01-01T00:00:00"
         ],
         "xaxis": "x",
         "y": [
          "United States of America"
         ],
         "yaxis": "y"
        },
        {
         "hovertemplate": "genres=Comedy of Errors<br>release_date=%{x}<br>countries=%{y}<extra></extra>",
         "legendgroup": "Comedy of Errors",
         "marker": {
          "color": "#636efa",
          "symbol": "circle"
         },
         "mode": "markers",
         "name": "Comedy of Errors",
         "orientation": "v",
         "showlegend": true,
         "type": "scatter",
         "x": [
          "1914-01-01T00:00:00"
         ],
         "xaxis": "x",
         "y": [
          "United States of America"
         ],
         "yaxis": "y"
        },
        {
         "hovertemplate": "genres=Comedy of manners<br>release_date=%{x}<br>countries=%{y}<extra></extra>",
         "legendgroup": "Comedy of manners",
         "marker": {
          "color": "#EF553B",
          "symbol": "circle"
         },
         "mode": "markers",
         "name": "Comedy of manners",
         "orientation": "v",
         "showlegend": true,
         "type": "scatter",
         "x": [
          "1914-02-28T00:00:00"
         ],
         "xaxis": "x",
         "y": [
          "United States of America"
         ],
         "yaxis": "y"
        },
        {
         "hovertemplate": "genres=Comedy-drama<br>release_date=%{x}<br>countries=%{y}<extra></extra>",
         "legendgroup": "Comedy-drama",
         "marker": {
          "color": "#00cc96",
          "symbol": "circle"
         },
         "mode": "markers",
         "name": "Comedy-drama",
         "orientation": "v",
         "showlegend": true,
         "type": "scatter",
         "x": [
          "1914-01-26T00:00:00"
         ],
         "xaxis": "x",
         "y": [
          "United States of America"
         ],
         "yaxis": "y"
        },
        {
         "hovertemplate": "genres=Coming of age<br>release_date=%{x}<br>countries=%{y}<extra></extra>",
         "legendgroup": "Coming of age",
         "marker": {
          "color": "#ab63fa",
          "symbol": "circle"
         },
         "mode": "markers",
         "name": "Coming of age",
         "orientation": "v",
         "showlegend": true,
         "type": "scatter",
         "x": [
          "1924-03-23T00:00:00"
         ],
         "xaxis": "x",
         "y": [
          "United States of America"
         ],
         "yaxis": "y"
        },
        {
         "hovertemplate": "genres=Coming-of-age film<br>release_date=%{x}<br>countries=%{y}<extra></extra>",
         "legendgroup": "Coming-of-age film",
         "marker": {
          "color": "#FFA15A",
          "symbol": "circle"
         },
         "mode": "markers",
         "name": "Coming-of-age film",
         "orientation": "v",
         "showlegend": true,
         "type": "scatter",
         "x": [
          "1969-01-01T00:00:00"
         ],
         "xaxis": "x",
         "y": [
          "United States of America"
         ],
         "yaxis": "y"
        },
        {
         "hovertemplate": "genres=Computer Animation<br>release_date=%{x}<br>countries=%{y}<extra></extra>",
         "legendgroup": "Computer Animation",
         "marker": {
          "color": "#19d3f3",
          "symbol": "circle"
         },
         "mode": "markers",
         "name": "Computer Animation",
         "orientation": "v",
         "showlegend": true,
         "type": "scatter",
         "x": [
          "1981-09-06T00:00:00"
         ],
         "xaxis": "x",
         "y": [
          "United States of America"
         ],
         "yaxis": "y"
        },
        {
         "hovertemplate": "genres=Computers<br>release_date=%{x}<br>countries=%{y}<extra></extra>",
         "legendgroup": "Computers",
         "marker": {
          "color": "#FF6692",
          "symbol": "circle"
         },
         "mode": "markers",
         "name": "Computers",
         "orientation": "v",
         "showlegend": true,
         "type": "scatter",
         "x": [
          "2000-01-01T00:00:00"
         ],
         "xaxis": "x",
         "y": [
          "United Kingdom"
         ],
         "yaxis": "y"
        },
        {
         "hovertemplate": "genres=Concert film<br>release_date=%{x}<br>countries=%{y}<extra></extra>",
         "legendgroup": "Concert film",
         "marker": {
          "color": "#B6E880",
          "symbol": "circle"
         },
         "mode": "markers",
         "name": "Concert film",
         "orientation": "v",
         "showlegend": true,
         "type": "scatter",
         "x": [
          "1955-01-01T00:00:00"
         ],
         "xaxis": "x",
         "y": [
          "United States of America"
         ],
         "yaxis": "y"
        },
        {
         "hovertemplate": "genres=Conspiracy fiction<br>release_date=%{x}<br>countries=%{y}<extra></extra>",
         "legendgroup": "Conspiracy fiction",
         "marker": {
          "color": "#FF97FF",
          "symbol": "circle"
         },
         "mode": "markers",
         "name": "Conspiracy fiction",
         "orientation": "v",
         "showlegend": true,
         "type": "scatter",
         "x": [
          "1977-12-01T00:00:00",
          "1977-12-01T00:00:00"
         ],
         "xaxis": "x",
         "y": [
          "United States of America",
          "United Kingdom"
         ],
         "yaxis": "y"
        },
        {
         "hovertemplate": "genres=Costume Adventure<br>release_date=%{x}<br>countries=%{y}<extra></extra>",
         "legendgroup": "Costume Adventure",
         "marker": {
          "color": "#FECB52",
          "symbol": "circle"
         },
         "mode": "markers",
         "name": "Costume Adventure",
         "orientation": "v",
         "showlegend": true,
         "type": "scatter",
         "x": [
          "1914-04-18T00:00:00"
         ],
         "xaxis": "x",
         "y": [
          "Italy"
         ],
         "yaxis": "y"
        },
        {
         "hovertemplate": "genres=Costume Horror<br>release_date=%{x}<br>countries=%{y}<extra></extra>",
         "legendgroup": "Costume Horror",
         "marker": {
          "color": "#636efa",
          "symbol": "circle"
         },
         "mode": "markers",
         "name": "Costume Horror",
         "orientation": "v",
         "showlegend": true,
         "type": "scatter",
         "x": [
          "1922-03-04T00:00:00"
         ],
         "xaxis": "x",
         "y": [
          "Germany"
         ],
         "yaxis": "y"
        },
        {
         "hovertemplate": "genres=Costume drama<br>release_date=%{x}<br>countries=%{y}<extra></extra>",
         "legendgroup": "Costume drama",
         "marker": {
          "color": "#EF553B",
          "symbol": "circle"
         },
         "mode": "markers",
         "name": "Costume drama",
         "orientation": "v",
         "showlegend": true,
         "type": "scatter",
         "x": [
          "1915-01-01T00:00:00"
         ],
         "xaxis": "x",
         "y": [
          "United States of America"
         ],
         "yaxis": "y"
        },
        {
         "hovertemplate": "genres=Courtroom Comedy<br>release_date=%{x}<br>countries=%{y}<extra></extra>",
         "legendgroup": "Courtroom Comedy",
         "marker": {
          "color": "#00cc96",
          "symbol": "circle"
         },
         "mode": "markers",
         "name": "Courtroom Comedy",
         "orientation": "v",
         "showlegend": true,
         "type": "scatter",
         "x": [
          "1962-01-01T00:00:00"
         ],
         "xaxis": "x",
         "y": [
          "United Kingdom"
         ],
         "yaxis": "y"
        },
        {
         "hovertemplate": "genres=Courtroom Drama<br>release_date=%{x}<br>countries=%{y}<extra></extra>",
         "legendgroup": "Courtroom Drama",
         "marker": {
          "color": "#ab63fa",
          "symbol": "circle"
         },
         "mode": "markers",
         "name": "Courtroom Drama",
         "orientation": "v",
         "showlegend": true,
         "type": "scatter",
         "x": [
          "1929-04-03T00:00:00"
         ],
         "xaxis": "x",
         "y": [
          "United States of America"
         ],
         "yaxis": "y"
        },
        {
         "hovertemplate": "genres=Creature Film<br>release_date=%{x}<br>countries=%{y}<extra></extra>",
         "legendgroup": "Creature Film",
         "marker": {
          "color": "#FFA15A",
          "symbol": "circle"
         },
         "mode": "markers",
         "name": "Creature Film",
         "orientation": "v",
         "showlegend": true,
         "type": "scatter",
         "x": [
          "1922-12-03T00:00:00"
         ],
         "xaxis": "x",
         "y": [
          "United States of America"
         ],
         "yaxis": "y"
        },
        {
         "hovertemplate": "genres=Crime<br>release_date=%{x}<br>countries=%{y}<extra></extra>",
         "legendgroup": "Crime",
         "marker": {
          "color": "#19d3f3",
          "symbol": "circle"
         },
         "mode": "markers",
         "name": "Crime",
         "orientation": "v",
         "showlegend": true,
         "type": "scatter",
         "x": [
          "1925-01-01T00:00:00"
         ],
         "xaxis": "x",
         "y": [
          "United Kingdom"
         ],
         "yaxis": "y"
        },
        {
         "hovertemplate": "genres=Crime Comedy<br>release_date=%{x}<br>countries=%{y}<extra></extra>",
         "legendgroup": "Crime Comedy",
         "marker": {
          "color": "#FF6692",
          "symbol": "circle"
         },
         "mode": "markers",
         "name": "Crime Comedy",
         "orientation": "v",
         "showlegend": true,
         "type": "scatter",
         "x": [
          "1914-09-14T00:00:00"
         ],
         "xaxis": "x",
         "y": [
          "United States of America"
         ],
         "yaxis": "y"
        },
        {
         "hovertemplate": "genres=Crime Drama<br>release_date=%{x}<br>countries=%{y}<extra></extra>",
         "legendgroup": "Crime Drama",
         "marker": {
          "color": "#B6E880",
          "symbol": "circle"
         },
         "mode": "markers",
         "name": "Crime Drama",
         "orientation": "v",
         "showlegend": true,
         "type": "scatter",
         "x": [
          "1914-01-01T00:00:00"
         ],
         "xaxis": "x",
         "y": [
          "United States of America"
         ],
         "yaxis": "y"
        },
        {
         "hovertemplate": "genres=Crime Fiction<br>release_date=%{x}<br>countries=%{y}<extra></extra>",
         "legendgroup": "Crime Fiction",
         "marker": {
          "color": "#FF97FF",
          "symbol": "circle"
         },
         "mode": "markers",
         "name": "Crime Fiction",
         "orientation": "v",
         "showlegend": true,
         "type": "scatter",
         "x": [
          "1901-01-01T00:00:00"
         ],
         "xaxis": "x",
         "y": [
          "France"
         ],
         "yaxis": "y"
        },
        {
         "hovertemplate": "genres=Crime Thriller<br>release_date=%{x}<br>countries=%{y}<extra></extra>",
         "legendgroup": "Crime Thriller",
         "marker": {
          "color": "#FECB52",
          "symbol": "circle"
         },
         "mode": "markers",
         "name": "Crime Thriller",
         "orientation": "v",
         "showlegend": true,
         "type": "scatter",
         "x": [
          "1915-01-28T00:00:00"
         ],
         "xaxis": "x",
         "y": [
          "United States of America"
         ],
         "yaxis": "y"
        },
        {
         "hovertemplate": "genres=Cult<br>release_date=%{x}<br>countries=%{y}<extra></extra>",
         "legendgroup": "Cult",
         "marker": {
          "color": "#636efa",
          "symbol": "circle"
         },
         "mode": "markers",
         "name": "Cult",
         "orientation": "v",
         "showlegend": true,
         "type": "scatter",
         "x": [
          "1929-06-06T00:00:00"
         ],
         "xaxis": "x",
         "y": [
          "France"
         ],
         "yaxis": "y"
        },
        {
         "hovertemplate": "genres=Culture & Society<br>release_date=%{x}<br>countries=%{y}<extra></extra>",
         "legendgroup": "Culture & Society",
         "marker": {
          "color": "#EF553B",
          "symbol": "circle"
         },
         "mode": "markers",
         "name": "Culture & Society",
         "orientation": "v",
         "showlegend": true,
         "type": "scatter",
         "x": [
          "1915-07-09T00:00:00"
         ],
         "xaxis": "x",
         "y": [
          "United States of America"
         ],
         "yaxis": "y"
        },
        {
         "hovertemplate": "genres=Cyberpunk<br>release_date=%{x}<br>countries=%{y}<extra></extra>",
         "legendgroup": "Cyberpunk",
         "marker": {
          "color": "#00cc96",
          "symbol": "circle"
         },
         "mode": "markers",
         "name": "Cyberpunk",
         "orientation": "v",
         "showlegend": true,
         "type": "scatter",
         "x": [
          "1982-06-25T00:00:00",
          "1982-06-25T00:00:00"
         ],
         "xaxis": "x",
         "y": [
          "United States of America",
          "China"
         ],
         "yaxis": "y"
        },
        {
         "hovertemplate": "genres=Czechoslovak New Wave<br>release_date=%{x}<br>countries=%{y}<extra></extra>",
         "legendgroup": "Czechoslovak New Wave",
         "marker": {
          "color": "#ab63fa",
          "symbol": "circle"
         },
         "mode": "markers",
         "name": "Czechoslovak New Wave",
         "orientation": "v",
         "showlegend": true,
         "type": "scatter",
         "x": [
          "1962-01-01T00:00:00"
         ],
         "xaxis": "x",
         "y": [
          "Czechia"
         ],
         "yaxis": "y"
        },
        {
         "hovertemplate": "genres=Dance<br>release_date=%{x}<br>countries=%{y}<extra></extra>",
         "legendgroup": "Dance",
         "marker": {
          "color": "#FFA15A",
          "symbol": "circle"
         },
         "mode": "markers",
         "name": "Dance",
         "orientation": "v",
         "showlegend": true,
         "type": "scatter",
         "x": [
          "1933-01-01T00:00:00"
         ],
         "xaxis": "x",
         "y": [
          "United States of America"
         ],
         "yaxis": "y"
        },
        {
         "hovertemplate": "genres=Demonic child<br>release_date=%{x}<br>countries=%{y}<extra></extra>",
         "legendgroup": "Demonic child",
         "marker": {
          "color": "#19d3f3",
          "symbol": "circle"
         },
         "mode": "markers",
         "name": "Demonic child",
         "orientation": "v",
         "showlegend": true,
         "type": "scatter",
         "x": [
          "1973-06-19T00:00:00"
         ],
         "xaxis": "x",
         "y": [
          "United States of America"
         ],
         "yaxis": "y"
        },
        {
         "hovertemplate": "genres=Detective<br>release_date=%{x}<br>countries=%{y}<extra></extra>",
         "legendgroup": "Detective",
         "marker": {
          "color": "#FF6692",
          "symbol": "circle"
         },
         "mode": "markers",
         "name": "Detective",
         "orientation": "v",
         "showlegend": true,
         "type": "scatter",
         "x": [
          "1914-06-10T00:00:00"
         ],
         "xaxis": "x",
         "y": [
          "United States of America"
         ],
         "yaxis": "y"
        },
        {
         "hovertemplate": "genres=Detective fiction<br>release_date=%{x}<br>countries=%{y}<extra></extra>",
         "legendgroup": "Detective fiction",
         "marker": {
          "color": "#B6E880",
          "symbol": "circle"
         },
         "mode": "markers",
         "name": "Detective fiction",
         "orientation": "v",
         "showlegend": true,
         "type": "scatter",
         "x": [
          "1914-06-10T00:00:00"
         ],
         "xaxis": "x",
         "y": [
          "United States of America"
         ],
         "yaxis": "y"
        },
        {
         "hovertemplate": "genres=Disaster<br>release_date=%{x}<br>countries=%{y}<extra></extra>",
         "legendgroup": "Disaster",
         "marker": {
          "color": "#FF97FF",
          "symbol": "circle"
         },
         "mode": "markers",
         "name": "Disaster",
         "orientation": "v",
         "showlegend": true,
         "type": "scatter",
         "x": [
          "1912-01-01T00:00:00"
         ],
         "xaxis": "x",
         "y": [
          "Germany"
         ],
         "yaxis": "y"
        },
        {
         "hovertemplate": "genres=Docudrama<br>release_date=%{x}<br>countries=%{y}<extra></extra>",
         "legendgroup": "Docudrama",
         "marker": {
          "color": "#FECB52",
          "symbol": "circle"
         },
         "mode": "markers",
         "name": "Docudrama",
         "orientation": "v",
         "showlegend": true,
         "type": "scatter",
         "x": [
          "1931-01-01T00:00:00",
          "1931-01-01T00:00:00",
          "1931-01-01T00:00:00"
         ],
         "xaxis": "x",
         "y": [
          "Germany",
          "France",
          "Germany"
         ],
         "yaxis": "y"
        },
        {
         "hovertemplate": "genres=Documentary<br>release_date=%{x}<br>countries=%{y}<extra></extra>",
         "legendgroup": "Documentary",
         "marker": {
          "color": "#636efa",
          "symbol": "circle"
         },
         "mode": "markers",
         "name": "Documentary",
         "orientation": "v",
         "showlegend": true,
         "type": "scatter",
         "x": [
          "1894-01-01T00:00:00",
          "1894-01-01T00:00:00",
          "1894-01-01T00:00:00"
         ],
         "xaxis": "x",
         "y": [
          "United States of America",
          "United States of America",
          "United States of America"
         ],
         "yaxis": "y"
        },
        {
         "hovertemplate": "genres=Dogme 95<br>release_date=%{x}<br>countries=%{y}<extra></extra>",
         "legendgroup": "Dogme 95",
         "marker": {
          "color": "#EF553B",
          "symbol": "circle"
         },
         "mode": "markers",
         "name": "Dogme 95",
         "orientation": "v",
         "showlegend": true,
         "type": "scatter",
         "x": [
          "1952-11-14T00:00:00"
         ],
         "xaxis": "x",
         "y": [
          "United States of America"
         ],
         "yaxis": "y"
        },
        {
         "hovertemplate": "genres=Domestic Comedy<br>release_date=%{x}<br>countries=%{y}<extra></extra>",
         "legendgroup": "Domestic Comedy",
         "marker": {
          "color": "#00cc96",
          "symbol": "circle"
         },
         "mode": "markers",
         "name": "Domestic Comedy",
         "orientation": "v",
         "showlegend": true,
         "type": "scatter",
         "x": [
          "1925-07-19T00:00:00"
         ],
         "xaxis": "x",
         "y": [
          "United States of America"
         ],
         "yaxis": "y"
        },
        {
         "hovertemplate": "genres=Doomsday film<br>release_date=%{x}<br>countries=%{y}<extra></extra>",
         "legendgroup": "Doomsday film",
         "marker": {
          "color": "#ab63fa",
          "symbol": "circle"
         },
         "mode": "markers",
         "name": "Doomsday film",
         "orientation": "v",
         "showlegend": true,
         "type": "scatter",
         "x": [
          "1936-01-01T00:00:00"
         ],
         "xaxis": "x",
         "y": [
          "United Kingdom"
         ],
         "yaxis": "y"
        },
        {
         "hovertemplate": "genres=Drama<br>release_date=%{x}<br>countries=%{y}<extra></extra>",
         "legendgroup": "Drama",
         "marker": {
          "color": "#FFA15A",
          "symbol": "circle"
         },
         "mode": "markers",
         "name": "Drama",
         "orientation": "v",
         "showlegend": true,
         "type": "scatter",
         "x": [
          "1896-09-01T00:00:00"
         ],
         "xaxis": "x",
         "y": [
          "United States of America"
         ],
         "yaxis": "y"
        },
        {
         "hovertemplate": "genres=Dystopia<br>release_date=%{x}<br>countries=%{y}<extra></extra>",
         "legendgroup": "Dystopia",
         "marker": {
          "color": "#19d3f3",
          "symbol": "circle"
         },
         "mode": "markers",
         "name": "Dystopia",
         "orientation": "v",
         "showlegend": true,
         "type": "scatter",
         "x": [
          "1927-01-10T00:00:00",
          "1927-01-10T00:00:00"
         ],
         "xaxis": "x",
         "y": [
          "Germany",
          "Germany"
         ],
         "yaxis": "y"
        },
        {
         "hovertemplate": "genres=Ealing Comedies<br>release_date=%{x}<br>countries=%{y}<extra></extra>",
         "legendgroup": "Ealing Comedies",
         "marker": {
          "color": "#FF6692",
          "symbol": "circle"
         },
         "mode": "markers",
         "name": "Ealing Comedies",
         "orientation": "v",
         "showlegend": true,
         "type": "scatter",
         "x": [
          "1947-01-01T00:00:00"
         ],
         "xaxis": "x",
         "y": [
          "United Kingdom"
         ],
         "yaxis": "y"
        },
        {
         "hovertemplate": "genres=Early Black Cinema<br>release_date=%{x}<br>countries=%{y}<extra></extra>",
         "legendgroup": "Early Black Cinema",
         "marker": {
          "color": "#B6E880",
          "symbol": "circle"
         },
         "mode": "markers",
         "name": "Early Black Cinema",
         "orientation": "v",
         "showlegend": true,
         "type": "scatter",
         "x": [
          "1920-01-01T00:00:00"
         ],
         "xaxis": "x",
         "y": [
          "United States of America"
         ],
         "yaxis": "y"
        },
        {
         "hovertemplate": "genres=Education<br>release_date=%{x}<br>countries=%{y}<extra></extra>",
         "legendgroup": "Education",
         "marker": {
          "color": "#FF97FF",
          "symbol": "circle"
         },
         "mode": "markers",
         "name": "Education",
         "orientation": "v",
         "showlegend": true,
         "type": "scatter",
         "x": [
          "1977-01-01T00:00:00"
         ],
         "xaxis": "x",
         "y": [
          "United Kingdom"
         ],
         "yaxis": "y"
        },
        {
         "hovertemplate": "genres=Educational<br>release_date=%{x}<br>countries=%{y}<extra></extra>",
         "legendgroup": "Educational",
         "marker": {
          "color": "#FECB52",
          "symbol": "circle"
         },
         "mode": "markers",
         "name": "Educational",
         "orientation": "v",
         "showlegend": true,
         "type": "scatter",
         "x": [
          "1946-10-18T00:00:00"
         ],
         "xaxis": "x",
         "y": [
          "United States of America"
         ],
         "yaxis": "y"
        },
        {
         "hovertemplate": "genres=Ensemble Film<br>release_date=%{x}<br>countries=%{y}<extra></extra>",
         "legendgroup": "Ensemble Film",
         "marker": {
          "color": "#636efa",
          "symbol": "circle"
         },
         "mode": "markers",
         "name": "Ensemble Film",
         "orientation": "v",
         "showlegend": true,
         "type": "scatter",
         "x": [
          "1925-01-01T00:00:00"
         ],
         "xaxis": "x",
         "y": [
          "Germany"
         ],
         "yaxis": "y"
        },
        {
         "hovertemplate": "genres=Environmental Science<br>release_date=%{x}<br>countries=%{y}<extra></extra>",
         "legendgroup": "Environmental Science",
         "marker": {
          "color": "#EF553B",
          "symbol": "circle"
         },
         "mode": "markers",
         "name": "Environmental Science",
         "orientation": "v",
         "showlegend": true,
         "type": "scatter",
         "x": [
          "1953-06-30T00:00:00"
         ],
         "xaxis": "x",
         "y": [
          "United States of America"
         ],
         "yaxis": "y"
        },
        {
         "hovertemplate": "genres=Epic<br>release_date=%{x}<br>countries=%{y}<extra></extra>",
         "legendgroup": "Epic",
         "marker": {
          "color": "#00cc96",
          "symbol": "circle"
         },
         "mode": "markers",
         "name": "Epic",
         "orientation": "v",
         "showlegend": true,
         "type": "scatter",
         "x": [
          "1914-03-08T00:00:00"
         ],
         "xaxis": "x",
         "y": [
          "United States of America"
         ],
         "yaxis": "y"
        },
        {
         "hovertemplate": "genres=Epic Western<br>release_date=%{x}<br>countries=%{y}<extra></extra>",
         "legendgroup": "Epic Western",
         "marker": {
          "color": "#ab63fa",
          "symbol": "circle"
         },
         "mode": "markers",
         "name": "Epic Western",
         "orientation": "v",
         "showlegend": true,
         "type": "scatter",
         "x": [
          "1923-01-01T00:00:00"
         ],
         "xaxis": "x",
         "y": [
          "United States of America"
         ],
         "yaxis": "y"
        },
        {
         "hovertemplate": "genres=Erotic Drama<br>release_date=%{x}<br>countries=%{y}<extra></extra>",
         "legendgroup": "Erotic Drama",
         "marker": {
          "color": "#FFA15A",
          "symbol": "circle"
         },
         "mode": "markers",
         "name": "Erotic Drama",
         "orientation": "v",
         "showlegend": true,
         "type": "scatter",
         "x": [
          "1964-05-31T00:00:00"
         ],
         "xaxis": "x",
         "y": [
          "Japan"
         ],
         "yaxis": "y"
        },
        {
         "hovertemplate": "genres=Erotic thriller<br>release_date=%{x}<br>countries=%{y}<extra></extra>",
         "legendgroup": "Erotic thriller",
         "marker": {
          "color": "#19d3f3",
          "symbol": "circle"
         },
         "mode": "markers",
         "name": "Erotic thriller",
         "orientation": "v",
         "showlegend": true,
         "type": "scatter",
         "x": [
          "1966-07-01T00:00:00"
         ],
         "xaxis": "x",
         "y": [
          "Japan"
         ],
         "yaxis": "y"
        },
        {
         "hovertemplate": "genres=Erotica<br>release_date=%{x}<br>countries=%{y}<extra></extra>",
         "legendgroup": "Erotica",
         "marker": {
          "color": "#FF6692",
          "symbol": "circle"
         },
         "mode": "markers",
         "name": "Erotica",
         "orientation": "v",
         "showlegend": true,
         "type": "scatter",
         "x": [
          "1959-01-01T00:00:00"
         ],
         "xaxis": "x",
         "y": [
          "United States of America"
         ],
         "yaxis": "y"
        },
        {
         "hovertemplate": "genres=Escape Film<br>release_date=%{x}<br>countries=%{y}<extra></extra>",
         "legendgroup": "Escape Film",
         "marker": {
          "color": "#B6E880",
          "symbol": "circle"
         },
         "mode": "markers",
         "name": "Escape Film",
         "orientation": "v",
         "showlegend": true,
         "type": "scatter",
         "x": [
          "1927-10-08T00:00:00"
         ],
         "xaxis": "x",
         "y": [
          "United States of America"
         ],
         "yaxis": "y"
        },
        {
         "hovertemplate": "genres=Essay Film<br>release_date=%{x}<br>countries=%{y}<extra></extra>",
         "legendgroup": "Essay Film",
         "marker": {
          "color": "#FF97FF",
          "symbol": "circle"
         },
         "mode": "markers",
         "name": "Essay Film",
         "orientation": "v",
         "showlegend": true,
         "type": "scatter",
         "x": [
          "1967-01-01T00:00:00"
         ],
         "xaxis": "x",
         "y": [
          "France"
         ],
         "yaxis": "y"
        },
        {
         "hovertemplate": "genres=Existentialism<br>release_date=%{x}<br>countries=%{y}<extra></extra>",
         "legendgroup": "Existentialism",
         "marker": {
          "color": "#FECB52",
          "symbol": "circle"
         },
         "mode": "markers",
         "name": "Existentialism",
         "orientation": "v",
         "showlegend": true,
         "type": "scatter",
         "x": [
          "1952-01-01T00:00:00"
         ],
         "xaxis": "x",
         "y": [
          "Japan"
         ],
         "yaxis": "y"
        },
        {
         "hovertemplate": "genres=Experimental film<br>release_date=%{x}<br>countries=%{y}<extra></extra>",
         "legendgroup": "Experimental film",
         "marker": {
          "color": "#636efa",
          "symbol": "circle"
         },
         "mode": "markers",
         "name": "Experimental film",
         "orientation": "v",
         "showlegend": true,
         "type": "scatter",
         "x": [
          "1921-01-01T00:00:00"
         ],
         "xaxis": "x",
         "y": [
          "United States of America"
         ],
         "yaxis": "y"
        },
        {
         "hovertemplate": "genres=Exploitation<br>release_date=%{x}<br>countries=%{y}<extra></extra>",
         "legendgroup": "Exploitation",
         "marker": {
          "color": "#EF553B",
          "symbol": "circle"
         },
         "mode": "markers",
         "name": "Exploitation",
         "orientation": "v",
         "showlegend": true,
         "type": "scatter",
         "x": [
          "1934-01-01T00:00:00"
         ],
         "xaxis": "x",
         "y": [
          "United States of America"
         ],
         "yaxis": "y"
        },
        {
         "hovertemplate": "genres=Expressionism<br>release_date=%{x}<br>countries=%{y}<extra></extra>",
         "legendgroup": "Expressionism",
         "marker": {
          "color": "#00cc96",
          "symbol": "circle"
         },
         "mode": "markers",
         "name": "Expressionism",
         "orientation": "v",
         "showlegend": true,
         "type": "scatter",
         "x": [
          "1922-03-04T00:00:00"
         ],
         "xaxis": "x",
         "y": [
          "Germany"
         ],
         "yaxis": "y"
        },
        {
         "hovertemplate": "genres=Extreme Sports<br>release_date=%{x}<br>countries=%{y}<extra></extra>",
         "legendgroup": "Extreme Sports",
         "marker": {
          "color": "#ab63fa",
          "symbol": "circle"
         },
         "mode": "markers",
         "name": "Extreme Sports",
         "orientation": "v",
         "showlegend": true,
         "type": "scatter",
         "x": [
          "1920-11-01T00:00:00"
         ],
         "xaxis": "x",
         "y": [
          "United States of America"
         ],
         "yaxis": "y"
        },
        {
         "hovertemplate": "genres=Fairy tale<br>release_date=%{x}<br>countries=%{y}<extra></extra>",
         "legendgroup": "Fairy tale",
         "marker": {
          "color": "#FFA15A",
          "symbol": "circle"
         },
         "mode": "markers",
         "name": "Fairy tale",
         "orientation": "v",
         "showlegend": true,
         "type": "scatter",
         "x": [
          "1925-12-22T00:00:00"
         ],
         "xaxis": "x",
         "y": [
          "United States of America"
         ],
         "yaxis": "y"
        },
        {
         "hovertemplate": "genres=Family & Personal Relationships<br>release_date=%{x}<br>countries=%{y}<extra></extra>",
         "legendgroup": "Family & Personal Relationships",
         "marker": {
          "color": "#19d3f3",
          "symbol": "circle"
         },
         "mode": "markers",
         "name": "Family & Personal Relationships",
         "orientation": "v",
         "showlegend": true,
         "type": "scatter",
         "x": [
          "1965-01-01T00:00:00"
         ],
         "xaxis": "x",
         "y": [
          "Italy"
         ],
         "yaxis": "y"
        },
        {
         "hovertemplate": "genres=Family Drama<br>release_date=%{x}<br>countries=%{y}<extra></extra>",
         "legendgroup": "Family Drama",
         "marker": {
          "color": "#FF6692",
          "symbol": "circle"
         },
         "mode": "markers",
         "name": "Family Drama",
         "orientation": "v",
         "showlegend": true,
         "type": "scatter",
         "x": [
          "1921-01-23T00:00:00"
         ],
         "xaxis": "x",
         "y": [
          "United States of America"
         ],
         "yaxis": "y"
        },
        {
         "hovertemplate": "genres=Family Film<br>release_date=%{x}<br>countries=%{y}<extra></extra>",
         "legendgroup": "Family Film",
         "marker": {
          "color": "#B6E880",
          "symbol": "circle"
         },
         "mode": "markers",
         "name": "Family Film",
         "orientation": "v",
         "showlegend": true,
         "type": "scatter",
         "x": [
          "1896-01-01T00:00:00"
         ],
         "xaxis": "x",
         "y": [
          "France"
         ],
         "yaxis": "y"
        },
        {
         "hovertemplate": "genres=Family-Oriented Adventure<br>release_date=%{x}<br>countries=%{y}<extra></extra>",
         "legendgroup": "Family-Oriented Adventure",
         "marker": {
          "color": "#FF97FF",
          "symbol": "circle"
         },
         "mode": "markers",
         "name": "Family-Oriented Adventure",
         "orientation": "v",
         "showlegend": true,
         "type": "scatter",
         "x": [
          "1914-10-14T00:00:00"
         ],
         "xaxis": "x",
         "y": [
          "United States of America"
         ],
         "yaxis": "y"
        },
        {
         "hovertemplate": "genres=Fan film<br>release_date=%{x}<br>countries=%{y}<extra></extra>",
         "legendgroup": "Fan film",
         "marker": {
          "color": "#FECB52",
          "symbol": "circle"
         },
         "mode": "markers",
         "name": "Fan film",
         "orientation": "v",
         "showlegend": true,
         "type": "scatter",
         "x": [
          "1989-03-01T00:00:00"
         ],
         "xaxis": "x",
         "y": [
          "United States of America"
         ],
         "yaxis": "y"
        },
        {
         "hovertemplate": "genres=Fantasy<br>release_date=%{x}<br>countries=%{y}<extra></extra>",
         "legendgroup": "Fantasy",
         "marker": {
          "color": "#636efa",
          "symbol": "circle"
         },
         "mode": "markers",
         "name": "Fantasy",
         "orientation": "v",
         "showlegend": true,
         "type": "scatter",
         "x": [
          "1896-01-01T00:00:00",
          "1896-01-01T00:00:00"
         ],
         "xaxis": "x",
         "y": [
          "France",
          "France"
         ],
         "yaxis": "y"
        },
        {
         "hovertemplate": "genres=Fantasy Adventure<br>release_date=%{x}<br>countries=%{y}<extra></extra>",
         "legendgroup": "Fantasy Adventure",
         "marker": {
          "color": "#EF553B",
          "symbol": "circle"
         },
         "mode": "markers",
         "name": "Fantasy Adventure",
         "orientation": "v",
         "showlegend": true,
         "type": "scatter",
         "x": [
          "1924-02-14T00:00:00"
         ],
         "xaxis": "x",
         "y": [
          "Germany"
         ],
         "yaxis": "y"
        },
        {
         "hovertemplate": "genres=Fantasy Comedy<br>release_date=%{x}<br>countries=%{y}<extra></extra>",
         "legendgroup": "Fantasy Comedy",
         "marker": {
          "color": "#00cc96",
          "symbol": "circle"
         },
         "mode": "markers",
         "name": "Fantasy Comedy",
         "orientation": "v",
         "showlegend": true,
         "type": "scatter",
         "x": [
          "1909-08-10T00:00:00"
         ],
         "xaxis": "x",
         "y": [
          "United States of America"
         ],
         "yaxis": "y"
        },
        {
         "hovertemplate": "genres=Fantasy Drama<br>release_date=%{x}<br>countries=%{y}<extra></extra>",
         "legendgroup": "Fantasy Drama",
         "marker": {
          "color": "#ab63fa",
          "symbol": "circle"
         },
         "mode": "markers",
         "name": "Fantasy Drama",
         "orientation": "v",
         "showlegend": true,
         "type": "scatter",
         "x": [
          "1925-12-16T00:00:00"
         ],
         "xaxis": "x",
         "y": [
          "United States of America"
         ],
         "yaxis": "y"
        },
        {
         "hovertemplate": "genres=Feature film<br>release_date=%{x}<br>countries=%{y}<extra></extra>",
         "legendgroup": "Feature film",
         "marker": {
          "color": "#FFA15A",
          "symbol": "circle"
         },
         "mode": "markers",
         "name": "Feature film",
         "orientation": "v",
         "showlegend": true,
         "type": "scatter",
         "x": [
          "1975-01-01T00:00:00"
         ],
         "xaxis": "x",
         "y": [
          "India"
         ],
         "yaxis": "y"
        },
        {
         "hovertemplate": "genres=Female buddy film<br>release_date=%{x}<br>countries=%{y}<extra></extra>",
         "legendgroup": "Female buddy film",
         "marker": {
          "color": "#19d3f3",
          "symbol": "circle"
         },
         "mode": "markers",
         "name": "Female buddy film",
         "orientation": "v",
         "showlegend": true,
         "type": "scatter",
         "x": [
          "1991-05-01T00:00:00",
          "1991-05-01T00:00:00"
         ],
         "xaxis": "x",
         "y": [
          "United States of America",
          "France"
         ],
         "yaxis": "y"
        },
        {
         "hovertemplate": "genres=Feminist Film<br>release_date=%{x}<br>countries=%{y}<extra></extra>",
         "legendgroup": "Feminist Film",
         "marker": {
          "color": "#FF6692",
          "symbol": "circle"
         },
         "mode": "markers",
         "name": "Feminist Film",
         "orientation": "v",
         "showlegend": true,
         "type": "scatter",
         "x": [
          "1936-01-01T00:00:00"
         ],
         "xaxis": "x",
         "y": [
          "United States of America"
         ],
         "yaxis": "y"
        },
        {
         "hovertemplate": "genres=Fictional film<br>release_date=%{x}<br>countries=%{y}<extra></extra>",
         "legendgroup": "Fictional film",
         "marker": {
          "color": "#B6E880",
          "symbol": "circle"
         },
         "mode": "markers",
         "name": "Fictional film",
         "orientation": "v",
         "showlegend": true,
         "type": "scatter",
         "x": [
          "1971-12-29T00:00:00"
         ],
         "xaxis": "x",
         "y": [
          "United States of America"
         ],
         "yaxis": "y"
        },
        {
         "hovertemplate": "genres=Filipino<br>release_date=%{x}<br>countries=%{y}<extra></extra>",
         "legendgroup": "Filipino",
         "marker": {
          "color": "#FF97FF",
          "symbol": "circle"
         },
         "mode": "markers",
         "name": "Filipino",
         "orientation": "v",
         "showlegend": true,
         "type": "scatter",
         "x": [
          "1955-01-01T00:00:00"
         ],
         "xaxis": "x",
         "y": [
          "Philippines"
         ],
         "yaxis": "y"
        },
        {
         "hovertemplate": "genres=Filipino Movies<br>release_date=%{x}<br>countries=%{y}<extra></extra>",
         "legendgroup": "Filipino Movies",
         "marker": {
          "color": "#FECB52",
          "symbol": "circle"
         },
         "mode": "markers",
         "name": "Filipino Movies",
         "orientation": "v",
         "showlegend": true,
         "type": "scatter",
         "x": [
          "1919-01-01T00:00:00"
         ],
         "xaxis": "x",
         "y": [
          "Philippines"
         ],
         "yaxis": "y"
        },
        {
         "hovertemplate": "genres=Film<br>release_date=%{x}<br>countries=%{y}<extra></extra>",
         "legendgroup": "Film",
         "marker": {
          "color": "#636efa",
          "symbol": "circle"
         },
         "mode": "markers",
         "name": "Film",
         "orientation": "v",
         "showlegend": true,
         "type": "scatter",
         "x": [
          "1932-01-01T00:00:00"
         ],
         "xaxis": "x",
         "y": [
          "United States of America"
         ],
         "yaxis": "y"
        },
        {
         "hovertemplate": "genres=Film & Television History<br>release_date=%{x}<br>countries=%{y}<extra></extra>",
         "legendgroup": "Film & Television History",
         "marker": {
          "color": "#EF553B",
          "symbol": "circle"
         },
         "mode": "markers",
         "name": "Film & Television History",
         "orientation": "v",
         "showlegend": true,
         "type": "scatter",
         "x": [
          "1914-02-28T00:00:00"
         ],
         "xaxis": "x",
         "y": [
          "United States of America"
         ],
         "yaxis": "y"
        },
        {
         "hovertemplate": "genres=Film \\u00e0 clef<br>release_date=%{x}<br>countries=%{y}<extra></extra>",
         "legendgroup": "Film \\u00e0 clef",
         "marker": {
          "color": "#00cc96",
          "symbol": "circle"
         },
         "mode": "markers",
         "name": "Film \\u00e0 clef",
         "orientation": "v",
         "showlegend": true,
         "type": "scatter",
         "x": [
          "1928-11-11T00:00:00"
         ],
         "xaxis": "x",
         "y": [
          "United States of America"
         ],
         "yaxis": "y"
        },
        {
         "hovertemplate": "genres=Film adaptation<br>release_date=%{x}<br>countries=%{y}<extra></extra>",
         "legendgroup": "Film adaptation",
         "marker": {
          "color": "#ab63fa",
          "symbol": "circle"
         },
         "mode": "markers",
         "name": "Film adaptation",
         "orientation": "v",
         "showlegend": true,
         "type": "scatter",
         "x": [
          "1919-05-11T00:00:00"
         ],
         "xaxis": "x",
         "y": [
          "United States of America"
         ],
         "yaxis": "y"
        },
        {
         "hovertemplate": "genres=Film noir<br>release_date=%{x}<br>countries=%{y}<extra></extra>",
         "legendgroup": "Film noir",
         "marker": {
          "color": "#FFA15A",
          "symbol": "circle"
         },
         "mode": "markers",
         "name": "Film noir",
         "orientation": "v",
         "showlegend": true,
         "type": "scatter",
         "x": [
          "1930-02-15T00:00:00"
         ],
         "xaxis": "x",
         "y": [
          "United States of America"
         ],
         "yaxis": "y"
        },
        {
         "hovertemplate": "genres=Film-Opera<br>release_date=%{x}<br>countries=%{y}<extra></extra>",
         "legendgroup": "Film-Opera",
         "marker": {
          "color": "#19d3f3",
          "symbol": "circle"
         },
         "mode": "markers",
         "name": "Film-Opera",
         "orientation": "v",
         "showlegend": true,
         "type": "scatter",
         "x": [
          "1951-01-01T00:00:00"
         ],
         "xaxis": "x",
         "y": [
          "United Kingdom"
         ],
         "yaxis": "y"
        },
        {
         "hovertemplate": "genres=Filmed Play<br>release_date=%{x}<br>countries=%{y}<extra></extra>",
         "legendgroup": "Filmed Play",
         "marker": {
          "color": "#FF6692",
          "symbol": "circle"
         },
         "mode": "markers",
         "name": "Filmed Play",
         "orientation": "v",
         "showlegend": true,
         "type": "scatter",
         "x": [
          "1953-01-01T00:00:00"
         ],
         "xaxis": "x",
         "y": [
          "United States of America"
         ],
         "yaxis": "y"
        },
        {
         "hovertemplate": "genres=Finance & Investing<br>release_date=%{x}<br>countries=%{y}<extra></extra>",
         "legendgroup": "Finance & Investing",
         "marker": {
          "color": "#B6E880",
          "symbol": "circle"
         },
         "mode": "markers",
         "name": "Finance & Investing",
         "orientation": "v",
         "showlegend": true,
         "type": "scatter",
         "x": [
          "2001-01-21T00:00:00"
         ],
         "xaxis": "x",
         "y": [
          "United States of America"
         ],
         "yaxis": "y"
        },
        {
         "hovertemplate": "genres=Foreign legion<br>release_date=%{x}<br>countries=%{y}<extra></extra>",
         "legendgroup": "Foreign legion",
         "marker": {
          "color": "#FF97FF",
          "symbol": "circle"
         },
         "mode": "markers",
         "name": "Foreign legion",
         "orientation": "v",
         "showlegend": true,
         "type": "scatter",
         "x": [
          "1926-01-01T00:00:00"
         ],
         "xaxis": "x",
         "y": [
          "United States of America"
         ],
         "yaxis": "y"
        },
        {
         "hovertemplate": "genres=Future noir<br>release_date=%{x}<br>countries=%{y}<extra></extra>",
         "legendgroup": "Future noir",
         "marker": {
          "color": "#FECB52",
          "symbol": "circle"
         },
         "mode": "markers",
         "name": "Future noir",
         "orientation": "v",
         "showlegend": true,
         "type": "scatter",
         "x": [
          "1965-01-01T00:00:00",
          "1965-01-01T00:00:00"
         ],
         "xaxis": "x",
         "y": [
          "France",
          "Italy"
         ],
         "yaxis": "y"
        },
        {
         "hovertemplate": "genres=Gangster Film<br>release_date=%{x}<br>countries=%{y}<extra></extra>",
         "legendgroup": "Gangster Film",
         "marker": {
          "color": "#636efa",
          "symbol": "circle"
         },
         "mode": "markers",
         "name": "Gangster Film",
         "orientation": "v",
         "showlegend": true,
         "type": "scatter",
         "x": [
          "1912-01-01T00:00:00"
         ],
         "xaxis": "x",
         "y": [
          "United States of America"
         ],
         "yaxis": "y"
        },
        {
         "hovertemplate": "genres=Gay<br>release_date=%{x}<br>countries=%{y}<extra></extra>",
         "legendgroup": "Gay",
         "marker": {
          "color": "#EF553B",
          "symbol": "circle"
         },
         "mode": "markers",
         "name": "Gay",
         "orientation": "v",
         "showlegend": true,
         "type": "scatter",
         "x": [
          "1919-06-30T00:00:00",
          "1919-06-30T00:00:00"
         ],
         "xaxis": "x",
         "y": [
          "Germany",
          "Germany"
         ],
         "yaxis": "y"
        },
        {
         "hovertemplate": "genres=Gay Interest<br>release_date=%{x}<br>countries=%{y}<extra></extra>",
         "legendgroup": "Gay Interest",
         "marker": {
          "color": "#00cc96",
          "symbol": "circle"
         },
         "mode": "markers",
         "name": "Gay Interest",
         "orientation": "v",
         "showlegend": true,
         "type": "scatter",
         "x": [
          "1919-06-30T00:00:00",
          "1919-06-30T00:00:00"
         ],
         "xaxis": "x",
         "y": [
          "Germany",
          "Germany"
         ],
         "yaxis": "y"
        },
        {
         "hovertemplate": "genres=Gay Themed<br>release_date=%{x}<br>countries=%{y}<extra></extra>",
         "legendgroup": "Gay Themed",
         "marker": {
          "color": "#ab63fa",
          "symbol": "circle"
         },
         "mode": "markers",
         "name": "Gay Themed",
         "orientation": "v",
         "showlegend": true,
         "type": "scatter",
         "x": [
          "1919-06-30T00:00:00",
          "1919-06-30T00:00:00"
         ],
         "xaxis": "x",
         "y": [
          "Germany",
          "Germany"
         ],
         "yaxis": "y"
        },
        {
         "hovertemplate": "genres=Gay pornography<br>release_date=%{x}<br>countries=%{y}<extra></extra>",
         "legendgroup": "Gay pornography",
         "marker": {
          "color": "#FFA15A",
          "symbol": "circle"
         },
         "mode": "markers",
         "name": "Gay pornography",
         "orientation": "v",
         "showlegend": true,
         "type": "scatter",
         "x": [
          "1920-01-01T00:00:00"
         ],
         "xaxis": "x",
         "y": [
          "France"
         ],
         "yaxis": "y"
        },
        {
         "hovertemplate": "genres=Gender Issues<br>release_date=%{x}<br>countries=%{y}<extra></extra>",
         "legendgroup": "Gender Issues",
         "marker": {
          "color": "#19d3f3",
          "symbol": "circle"
         },
         "mode": "markers",
         "name": "Gender Issues",
         "orientation": "v",
         "showlegend": true,
         "type": "scatter",
         "x": [
          "1924-01-01T00:00:00",
          "1924-01-01T00:00:00"
         ],
         "xaxis": "x",
         "y": [
          "Russia",
          "Russia"
         ],
         "yaxis": "y"
        },
        {
         "hovertemplate": "genres=Giallo<br>release_date=%{x}<br>countries=%{y}<extra></extra>",
         "legendgroup": "Giallo",
         "marker": {
          "color": "#FF6692",
          "symbol": "circle"
         },
         "mode": "markers",
         "name": "Giallo",
         "orientation": "v",
         "showlegend": true,
         "type": "scatter",
         "x": [
          "1961-08-12T00:00:00"
         ],
         "xaxis": "x",
         "y": [
          "United States of America"
         ],
         "yaxis": "y"
        },
        {
         "hovertemplate": "genres=Glamorized Spy Film<br>release_date=%{x}<br>countries=%{y}<extra></extra>",
         "legendgroup": "Glamorized Spy Film",
         "marker": {
          "color": "#B6E880",
          "symbol": "circle"
         },
         "mode": "markers",
         "name": "Glamorized Spy Film",
         "orientation": "v",
         "showlegend": true,
         "type": "scatter",
         "x": [
          "1952-07-29T00:00:00"
         ],
         "xaxis": "x",
         "y": [
          "United States of America"
         ],
         "yaxis": "y"
        },
        {
         "hovertemplate": "genres=Goat gland<br>release_date=%{x}<br>countries=%{y}<extra></extra>",
         "legendgroup": "Goat gland",
         "marker": {
          "color": "#FF97FF",
          "symbol": "circle"
         },
         "mode": "markers",
         "name": "Goat gland",
         "orientation": "v",
         "showlegend": true,
         "type": "scatter",
         "x": [
          "1929-01-01T00:00:00",
          "1929-01-01T00:00:00"
         ],
         "xaxis": "x",
         "y": [
          "United Kingdom",
          "United Kingdom"
         ],
         "yaxis": "y"
        },
        {
         "hovertemplate": "genres=Gothic Film<br>release_date=%{x}<br>countries=%{y}<extra></extra>",
         "legendgroup": "Gothic Film",
         "marker": {
          "color": "#FECB52",
          "symbol": "circle"
         },
         "mode": "markers",
         "name": "Gothic Film",
         "orientation": "v",
         "showlegend": true,
         "type": "scatter",
         "x": [
          "1922-03-04T00:00:00"
         ],
         "xaxis": "x",
         "y": [
          "Germany"
         ],
         "yaxis": "y"
        },
        {
         "hovertemplate": "genres=Graphic & Applied Arts<br>release_date=%{x}<br>countries=%{y}<extra></extra>",
         "legendgroup": "Graphic & Applied Arts",
         "marker": {
          "color": "#636efa",
          "symbol": "circle"
         },
         "mode": "markers",
         "name": "Graphic & Applied Arts",
         "orientation": "v",
         "showlegend": true,
         "type": "scatter",
         "x": [
          "1950-01-01T00:00:00",
          "1950-01-01T00:00:00",
          "1950-01-01T00:00:00"
         ],
         "xaxis": "x",
         "y": [
          "Switzerland",
          "Germany",
          "Germany"
         ],
         "yaxis": "y"
        },
        {
         "hovertemplate": "genres=Gross out<br>release_date=%{x}<br>countries=%{y}<extra></extra>",
         "legendgroup": "Gross out",
         "marker": {
          "color": "#EF553B",
          "symbol": "circle"
         },
         "mode": "markers",
         "name": "Gross out",
         "orientation": "v",
         "showlegend": true,
         "type": "scatter",
         "x": [
          "1972-03-17T00:00:00"
         ],
         "xaxis": "x",
         "y": [
          "United States of America"
         ],
         "yaxis": "y"
        },
        {
         "hovertemplate": "genres=Gross-out film<br>release_date=%{x}<br>countries=%{y}<extra></extra>",
         "legendgroup": "Gross-out film",
         "marker": {
          "color": "#00cc96",
          "symbol": "circle"
         },
         "mode": "markers",
         "name": "Gross-out film",
         "orientation": "v",
         "showlegend": true,
         "type": "scatter",
         "x": [
          "1972-03-17T00:00:00"
         ],
         "xaxis": "x",
         "y": [
          "United States of America"
         ],
         "yaxis": "y"
        },
        {
         "hovertemplate": "genres=Gulf War<br>release_date=%{x}<br>countries=%{y}<extra></extra>",
         "legendgroup": "Gulf War",
         "marker": {
          "color": "#ab63fa",
          "symbol": "circle"
         },
         "mode": "markers",
         "name": "Gulf War",
         "orientation": "v",
         "showlegend": true,
         "type": "scatter",
         "x": [
          "1992-01-01T00:00:00",
          "1992-01-01T00:00:00",
          "1992-01-01T00:00:00",
          "1992-01-01T00:00:00"
         ],
         "xaxis": "x",
         "y": [
          "France",
          "United Kingdom",
          "United Kingdom",
          "Germany"
         ],
         "yaxis": "y"
        },
        {
         "hovertemplate": "genres=Hagiography<br>release_date=%{x}<br>countries=%{y}<extra></extra>",
         "legendgroup": "Hagiography",
         "marker": {
          "color": "#FFA15A",
          "symbol": "circle"
         },
         "mode": "markers",
         "name": "Hagiography",
         "orientation": "v",
         "showlegend": true,
         "type": "scatter",
         "x": [
          "1928-04-21T00:00:00",
          "1928-04-21T00:00:00"
         ],
         "xaxis": "x",
         "y": [
          "France",
          "Denmark"
         ],
         "yaxis": "y"
        },
        {
         "hovertemplate": "genres=Hardcore pornography<br>release_date=%{x}<br>countries=%{y}<extra></extra>",
         "legendgroup": "Hardcore pornography",
         "marker": {
          "color": "#19d3f3",
          "symbol": "circle"
         },
         "mode": "markers",
         "name": "Hardcore pornography",
         "orientation": "v",
         "showlegend": true,
         "type": "scatter",
         "x": [
          "1972-01-01T00:00:00"
         ],
         "xaxis": "x",
         "y": [
          "United States of America"
         ],
         "yaxis": "y"
        },
        {
         "hovertemplate": "genres=Haunted House Film<br>release_date=%{x}<br>countries=%{y}<extra></extra>",
         "legendgroup": "Haunted House Film",
         "marker": {
          "color": "#FF6692",
          "symbol": "circle"
         },
         "mode": "markers",
         "name": "Haunted House Film",
         "orientation": "v",
         "showlegend": true,
         "type": "scatter",
         "x": [
          "1930-10-23T00:00:00"
         ],
         "xaxis": "x",
         "y": [
          "United States of America"
         ],
         "yaxis": "y"
        },
        {
         "hovertemplate": "genres=Health & Fitness<br>release_date=%{x}<br>countries=%{y}<extra></extra>",
         "legendgroup": "Health & Fitness",
         "marker": {
          "color": "#B6E880",
          "symbol": "circle"
         },
         "mode": "markers",
         "name": "Health & Fitness",
         "orientation": "v",
         "showlegend": true,
         "type": "scatter",
         "x": [
          "1925-10-12T00:00:00",
          "1925-10-12T00:00:00"
         ],
         "xaxis": "x",
         "y": [
          "Germany",
          "Germany"
         ],
         "yaxis": "y"
        },
        {
         "hovertemplate": "genres=Heaven-Can-Wait Fantasies<br>release_date=%{x}<br>countries=%{y}<extra></extra>",
         "legendgroup": "Heaven-Can-Wait Fantasies",
         "marker": {
          "color": "#FF97FF",
          "symbol": "circle"
         },
         "mode": "markers",
         "name": "Heaven-Can-Wait Fantasies",
         "orientation": "v",
         "showlegend": true,
         "type": "scatter",
         "x": [
          "1939-07-06T00:00:00"
         ],
         "xaxis": "x",
         "y": [
          "United States of America"
         ],
         "yaxis": "y"
        },
        {
         "hovertemplate": "genres=Heavenly Comedy<br>release_date=%{x}<br>countries=%{y}<extra></extra>",
         "legendgroup": "Heavenly Comedy",
         "marker": {
          "color": "#FECB52",
          "symbol": "circle"
         },
         "mode": "markers",
         "name": "Heavenly Comedy",
         "orientation": "v",
         "showlegend": true,
         "type": "scatter",
         "x": [
          "1941-01-01T00:00:00"
         ],
         "xaxis": "x",
         "y": [
          "United States of America"
         ],
         "yaxis": "y"
        },
        {
         "hovertemplate": "genres=Heist<br>release_date=%{x}<br>countries=%{y}<extra></extra>",
         "legendgroup": "Heist",
         "marker": {
          "color": "#636efa",
          "symbol": "circle"
         },
         "mode": "markers",
         "name": "Heist",
         "orientation": "v",
         "showlegend": true,
         "type": "scatter",
         "x": [
          "1938-01-01T00:00:00"
         ],
         "xaxis": "x",
         "y": [
          "United States of America"
         ],
         "yaxis": "y"
        },
        {
         "hovertemplate": "genres=Hip hop movies<br>release_date=%{x}<br>countries=%{y}<extra></extra>",
         "legendgroup": "Hip hop movies",
         "marker": {
          "color": "#EF553B",
          "symbol": "circle"
         },
         "mode": "markers",
         "name": "Hip hop movies",
         "orientation": "v",
         "showlegend": true,
         "type": "scatter",
         "x": [
          "1982-01-01T00:00:00"
         ],
         "xaxis": "x",
         "y": [
          "United States of America"
         ],
         "yaxis": "y"
        },
        {
         "hovertemplate": "genres=Historical Documentaries<br>release_date=%{x}<br>countries=%{y}<extra></extra>",
         "legendgroup": "Historical Documentaries",
         "marker": {
          "color": "#00cc96",
          "symbol": "circle"
         },
         "mode": "markers",
         "name": "Historical Documentaries",
         "orientation": "v",
         "showlegend": true,
         "type": "scatter",
         "x": [
          "1976-01-01T00:00:00"
         ],
         "xaxis": "x",
         "y": [
          "United States of America"
         ],
         "yaxis": "y"
        },
        {
         "hovertemplate": "genres=Historical Epic<br>release_date=%{x}<br>countries=%{y}<extra></extra>",
         "legendgroup": "Historical Epic",
         "marker": {
          "color": "#ab63fa",
          "symbol": "circle"
         },
         "mode": "markers",
         "name": "Historical Epic",
         "orientation": "v",
         "showlegend": true,
         "type": "scatter",
         "x": [
          "1914-04-18T00:00:00"
         ],
         "xaxis": "x",
         "y": [
          "Italy"
         ],
         "yaxis": "y"
        },
        {
         "hovertemplate": "genres=Historical drama<br>release_date=%{x}<br>countries=%{y}<extra></extra>",
         "legendgroup": "Historical drama",
         "marker": {
          "color": "#FFA15A",
          "symbol": "circle"
         },
         "mode": "markers",
         "name": "Historical drama",
         "orientation": "v",
         "showlegend": true,
         "type": "scatter",
         "x": [
          "1909-01-01T00:00:00"
         ],
         "xaxis": "x",
         "y": [
          "Argentina"
         ],
         "yaxis": "y"
        },
        {
         "hovertemplate": "genres=Historical fiction<br>release_date=%{x}<br>countries=%{y}<extra></extra>",
         "legendgroup": "Historical fiction",
         "marker": {
          "color": "#19d3f3",
          "symbol": "circle"
         },
         "mode": "markers",
         "name": "Historical fiction",
         "orientation": "v",
         "showlegend": true,
         "type": "scatter",
         "x": [
          "1912-07-12T00:00:00"
         ],
         "xaxis": "x",
         "y": [
          "France"
         ],
         "yaxis": "y"
        },
        {
         "hovertemplate": "genres=History<br>release_date=%{x}<br>countries=%{y}<extra></extra>",
         "legendgroup": "History",
         "marker": {
          "color": "#FF6692",
          "symbol": "circle"
         },
         "mode": "markers",
         "name": "History",
         "orientation": "v",
         "showlegend": true,
         "type": "scatter",
         "x": [
          "1895-08-28T00:00:00"
         ],
         "xaxis": "x",
         "y": [
          "United States of America"
         ],
         "yaxis": "y"
        },
        {
         "hovertemplate": "genres=Holiday Film<br>release_date=%{x}<br>countries=%{y}<extra></extra>",
         "legendgroup": "Holiday Film",
         "marker": {
          "color": "#B6E880",
          "symbol": "circle"
         },
         "mode": "markers",
         "name": "Holiday Film",
         "orientation": "v",
         "showlegend": true,
         "type": "scatter",
         "x": [
          "1950-01-01T00:00:00"
         ],
         "xaxis": "x",
         "y": [
          "United States of America"
         ],
         "yaxis": "y"
        },
        {
         "hovertemplate": "genres=Homoeroticism<br>release_date=%{x}<br>countries=%{y}<extra></extra>",
         "legendgroup": "Homoeroticism",
         "marker": {
          "color": "#FF97FF",
          "symbol": "circle"
         },
         "mode": "markers",
         "name": "Homoeroticism",
         "orientation": "v",
         "showlegend": true,
         "type": "scatter",
         "x": [
          "1983-01-01T00:00:00",
          "1983-01-01T00:00:00",
          "1983-01-01T00:00:00"
         ],
         "xaxis": "x",
         "y": [
          "Japan",
          "United Kingdom",
          "New Zealand"
         ],
         "yaxis": "y"
        },
        {
         "hovertemplate": "genres=Horror<br>release_date=%{x}<br>countries=%{y}<extra></extra>",
         "legendgroup": "Horror",
         "marker": {
          "color": "#FECB52",
          "symbol": "circle"
         },
         "mode": "markers",
         "name": "Horror",
         "orientation": "v",
         "showlegend": true,
         "type": "scatter",
         "x": [
          "1896-12-24T00:00:00"
         ],
         "xaxis": "x",
         "y": [
          "France"
         ],
         "yaxis": "y"
        },
        {
         "hovertemplate": "genres=Horror Comedy<br>release_date=%{x}<br>countries=%{y}<extra></extra>",
         "legendgroup": "Horror Comedy",
         "marker": {
          "color": "#636efa",
          "symbol": "circle"
         },
         "mode": "markers",
         "name": "Horror Comedy",
         "orientation": "v",
         "showlegend": true,
         "type": "scatter",
         "x": [
          "1940-11-22T00:00:00"
         ],
         "xaxis": "x",
         "y": [
          "United States of America"
         ],
         "yaxis": "y"
        },
        {
         "hovertemplate": "genres=Horse racing<br>release_date=%{x}<br>countries=%{y}<extra></extra>",
         "legendgroup": "Horse racing",
         "marker": {
          "color": "#EF553B",
          "symbol": "circle"
         },
         "mode": "markers",
         "name": "Horse racing",
         "orientation": "v",
         "showlegend": true,
         "type": "scatter",
         "x": [
          "1934-10-31T00:00:00"
         ],
         "xaxis": "x",
         "y": [
          "United States of America"
         ],
         "yaxis": "y"
        },
        {
         "hovertemplate": "genres=Humour<br>release_date=%{x}<br>countries=%{y}<extra></extra>",
         "legendgroup": "Humour",
         "marker": {
          "color": "#00cc96",
          "symbol": "circle"
         },
         "mode": "markers",
         "name": "Humour",
         "orientation": "v",
         "showlegend": true,
         "type": "scatter",
         "x": [
          "1974-04-03T00:00:00"
         ],
         "xaxis": "x",
         "y": [
          "United Kingdom"
         ],
         "yaxis": "y"
        },
        {
         "hovertemplate": "genres=Hybrid Western<br>release_date=%{x}<br>countries=%{y}<extra></extra>",
         "legendgroup": "Hybrid Western",
         "marker": {
          "color": "#ab63fa",
          "symbol": "circle"
         },
         "mode": "markers",
         "name": "Hybrid Western",
         "orientation": "v",
         "showlegend": true,
         "type": "scatter",
         "x": [
          "1932-09-10T00:00:00"
         ],
         "xaxis": "x",
         "y": [
          "United States of America"
         ],
         "yaxis": "y"
        },
        {
         "hovertemplate": "genres=Illnesses & Disabilities<br>release_date=%{x}<br>countries=%{y}<extra></extra>",
         "legendgroup": "Illnesses & Disabilities",
         "marker": {
          "color": "#FFA15A",
          "symbol": "circle"
         },
         "mode": "markers",
         "name": "Illnesses & Disabilities",
         "orientation": "v",
         "showlegend": true,
         "type": "scatter",
         "x": [
          "1938-01-01T00:00:00"
         ],
         "xaxis": "x",
         "y": [
          "United States of America"
         ],
         "yaxis": "y"
        },
        {
         "hovertemplate": "genres=Indian Western<br>release_date=%{x}<br>countries=%{y}<extra></extra>",
         "legendgroup": "Indian Western",
         "marker": {
          "color": "#19d3f3",
          "symbol": "circle"
         },
         "mode": "markers",
         "name": "Indian Western",
         "orientation": "v",
         "showlegend": true,
         "type": "scatter",
         "x": [
          "1950-09-15T00:00:00"
         ],
         "xaxis": "x",
         "y": [
          "United States of America"
         ],
         "yaxis": "y"
        },
        {
         "hovertemplate": "genres=Indie<br>release_date=%{x}<br>countries=%{y}<extra></extra>",
         "legendgroup": "Indie",
         "marker": {
          "color": "#FF6692",
          "symbol": "circle"
         },
         "mode": "markers",
         "name": "Indie",
         "orientation": "v",
         "showlegend": true,
         "type": "scatter",
         "x": [
          "1888-01-01T00:00:00"
         ],
         "xaxis": "x",
         "y": [
          "United Kingdom"
         ],
         "yaxis": "y"
        },
        {
         "hovertemplate": "genres=Inspirational Drama<br>release_date=%{x}<br>countries=%{y}<extra></extra>",
         "legendgroup": "Inspirational Drama",
         "marker": {
          "color": "#B6E880",
          "symbol": "circle"
         },
         "mode": "markers",
         "name": "Inspirational Drama",
         "orientation": "v",
         "showlegend": true,
         "type": "scatter",
         "x": [
          "1933-01-01T00:00:00"
         ],
         "xaxis": "x",
         "y": [
          "United States of America"
         ],
         "yaxis": "y"
        },
        {
         "hovertemplate": "genres=Instrumental Music<br>release_date=%{x}<br>countries=%{y}<extra></extra>",
         "legendgroup": "Instrumental Music",
         "marker": {
          "color": "#FF97FF",
          "symbol": "circle"
         },
         "mode": "markers",
         "name": "Instrumental Music",
         "orientation": "v",
         "showlegend": true,
         "type": "scatter",
         "x": [
          "1947-01-01T00:00:00"
         ],
         "xaxis": "x",
         "y": [
          "United States of America"
         ],
         "yaxis": "y"
        },
        {
         "hovertemplate": "genres=Interpersonal Relationships<br>release_date=%{x}<br>countries=%{y}<extra></extra>",
         "legendgroup": "Interpersonal Relationships",
         "marker": {
          "color": "#FECB52",
          "symbol": "circle"
         },
         "mode": "markers",
         "name": "Interpersonal Relationships",
         "orientation": "v",
         "showlegend": true,
         "type": "scatter",
         "x": [
          "1965-01-01T00:00:00"
         ],
         "xaxis": "x",
         "y": [
          "Italy"
         ],
         "yaxis": "y"
        },
        {
         "hovertemplate": "genres=Inventions & Innovations<br>release_date=%{x}<br>countries=%{y}<extra></extra>",
         "legendgroup": "Inventions & Innovations",
         "marker": {
          "color": "#636efa",
          "symbol": "circle"
         },
         "mode": "markers",
         "name": "Inventions & Innovations",
         "orientation": "v",
         "showlegend": true,
         "type": "scatter",
         "x": [
          "1978-01-01T00:00:00"
         ],
         "xaxis": "x",
         "y": [
          "United States of America"
         ],
         "yaxis": "y"
        },
        {
         "hovertemplate": "genres=Japanese Movies<br>release_date=%{x}<br>countries=%{y}<extra></extra>",
         "legendgroup": "Japanese Movies",
         "marker": {
          "color": "#EF553B",
          "symbol": "circle"
         },
         "mode": "markers",
         "name": "Japanese Movies",
         "orientation": "v",
         "showlegend": true,
         "type": "scatter",
         "x": [
          "1917-01-01T00:00:00",
          "1917-01-01T00:00:00"
         ],
         "xaxis": "x",
         "y": [
          "Japan",
          "Germany"
         ],
         "yaxis": "y"
        },
        {
         "hovertemplate": "genres=Journalism<br>release_date=%{x}<br>countries=%{y}<extra></extra>",
         "legendgroup": "Journalism",
         "marker": {
          "color": "#00cc96",
          "symbol": "circle"
         },
         "mode": "markers",
         "name": "Journalism",
         "orientation": "v",
         "showlegend": true,
         "type": "scatter",
         "x": [
          "1996-01-01T00:00:00"
         ],
         "xaxis": "x",
         "y": [
          "United States of America"
         ],
         "yaxis": "y"
        },
        {
         "hovertemplate": "genres=Jukebox musical<br>release_date=%{x}<br>countries=%{y}<extra></extra>",
         "legendgroup": "Jukebox musical",
         "marker": {
          "color": "#ab63fa",
          "symbol": "circle"
         },
         "mode": "markers",
         "name": "Jukebox musical",
         "orientation": "v",
         "showlegend": true,
         "type": "scatter",
         "x": [
          "1964-07-06T00:00:00"
         ],
         "xaxis": "x",
         "y": [
          "United Kingdom"
         ],
         "yaxis": "y"
        },
        {
         "hovertemplate": "genres=Jungle Film<br>release_date=%{x}<br>countries=%{y}<extra></extra>",
         "legendgroup": "Jungle Film",
         "marker": {
          "color": "#FFA15A",
          "symbol": "circle"
         },
         "mode": "markers",
         "name": "Jungle Film",
         "orientation": "v",
         "showlegend": true,
         "type": "scatter",
         "x": [
          "1918-09-16T00:00:00"
         ],
         "xaxis": "x",
         "y": [
          "United States of America"
         ],
         "yaxis": "y"
        },
        {
         "hovertemplate": "genres=Juvenile Delinquency Film<br>release_date=%{x}<br>countries=%{y}<extra></extra>",
         "legendgroup": "Juvenile Delinquency Film",
         "marker": {
          "color": "#19d3f3",
          "symbol": "circle"
         },
         "mode": "markers",
         "name": "Juvenile Delinquency Film",
         "orientation": "v",
         "showlegend": true,
         "type": "scatter",
         "x": [
          "1932-01-01T00:00:00"
         ],
         "xaxis": "x",
         "y": [
          "United States of America"
         ],
         "yaxis": "y"
        },
        {
         "hovertemplate": "genres=Kafkaesque<br>release_date=%{x}<br>countries=%{y}<extra></extra>",
         "legendgroup": "Kafkaesque",
         "marker": {
          "color": "#FF6692",
          "symbol": "circle"
         },
         "mode": "markers",
         "name": "Kafkaesque",
         "orientation": "v",
         "showlegend": true,
         "type": "scatter",
         "x": [
          "1965-09-27T00:00:00"
         ],
         "xaxis": "x",
         "y": [
          "United States of America"
         ],
         "yaxis": "y"
        },
        {
         "hovertemplate": "genres=Kitchen sink realism<br>release_date=%{x}<br>countries=%{y}<extra></extra>",
         "legendgroup": "Kitchen sink realism",
         "marker": {
          "color": "#B6E880",
          "symbol": "circle"
         },
         "mode": "markers",
         "name": "Kitchen sink realism",
         "orientation": "v",
         "showlegend": true,
         "type": "scatter",
         "x": [
          "1947-11-23T00:00:00"
         ],
         "xaxis": "x",
         "y": [
          "United Kingdom"
         ],
         "yaxis": "y"
        },
        {
         "hovertemplate": "genres=LGBT<br>release_date=%{x}<br>countries=%{y}<extra></extra>",
         "legendgroup": "LGBT",
         "marker": {
          "color": "#FF97FF",
          "symbol": "circle"
         },
         "mode": "markers",
         "name": "LGBT",
         "orientation": "v",
         "showlegend": true,
         "type": "scatter",
         "x": [
          "1912-02-28T00:00:00"
         ],
         "xaxis": "x",
         "y": [
          "United States of America"
         ],
         "yaxis": "y"
        },
        {
         "hovertemplate": "genres=Language & Literature<br>release_date=%{x}<br>countries=%{y}<extra></extra>",
         "legendgroup": "Language & Literature",
         "marker": {
          "color": "#FECB52",
          "symbol": "circle"
         },
         "mode": "markers",
         "name": "Language & Literature",
         "orientation": "v",
         "showlegend": true,
         "type": "scatter",
         "x": [
          "1965-01-01T00:00:00"
         ],
         "xaxis": "x",
         "y": [
          "United Kingdom"
         ],
         "yaxis": "y"
        },
        {
         "hovertemplate": "genres=Latino<br>release_date=%{x}<br>countries=%{y}<extra></extra>",
         "legendgroup": "Latino",
         "marker": {
          "color": "#636efa",
          "symbol": "circle"
         },
         "mode": "markers",
         "name": "Latino",
         "orientation": "v",
         "showlegend": true,
         "type": "scatter",
         "x": [
          "2010-06-10T00:00:00",
          "2010-06-10T00:00:00"
         ],
         "xaxis": "x",
         "y": [
          "Argentina",
          "United Kingdom"
         ],
         "yaxis": "y"
        },
        {
         "hovertemplate": "genres=Law & Crime<br>release_date=%{x}<br>countries=%{y}<extra></extra>",
         "legendgroup": "Law & Crime",
         "marker": {
          "color": "#EF553B",
          "symbol": "circle"
         },
         "mode": "markers",
         "name": "Law & Crime",
         "orientation": "v",
         "showlegend": true,
         "type": "scatter",
         "x": [
          "1963-11-23T00:00:00"
         ],
         "xaxis": "x",
         "y": [
          "United States of America"
         ],
         "yaxis": "y"
        },
        {
         "hovertemplate": "genres=Legal drama<br>release_date=%{x}<br>countries=%{y}<extra></extra>",
         "legendgroup": "Legal drama",
         "marker": {
          "color": "#00cc96",
          "symbol": "circle"
         },
         "mode": "markers",
         "name": "Legal drama",
         "orientation": "v",
         "showlegend": true,
         "type": "scatter",
         "x": [
          "1944-01-01T00:00:00"
         ],
         "xaxis": "x",
         "y": [
          "United States of America"
         ],
         "yaxis": "y"
        },
        {
         "hovertemplate": "genres=Libraries and librarians<br>release_date=%{x}<br>countries=%{y}<extra></extra>",
         "legendgroup": "Libraries and librarians",
         "marker": {
          "color": "#ab63fa",
          "symbol": "circle"
         },
         "mode": "markers",
         "name": "Libraries and librarians",
         "orientation": "v",
         "showlegend": true,
         "type": "scatter",
         "x": [
          "1956-07-31T00:00:00"
         ],
         "xaxis": "x",
         "y": [
          "United States of America"
         ],
         "yaxis": "y"
        },
        {
         "hovertemplate": "genres=Linguistics<br>release_date=%{x}<br>countries=%{y}<extra></extra>",
         "legendgroup": "Linguistics",
         "marker": {
          "color": "#FFA15A",
          "symbol": "circle"
         },
         "mode": "markers",
         "name": "Linguistics",
         "orientation": "v",
         "showlegend": true,
         "type": "scatter",
         "x": [
          "2004-01-01T00:00:00",
          "2004-01-01T00:00:00",
          "2004-01-01T00:00:00",
          "2004-01-01T00:00:00"
         ],
         "xaxis": "x",
         "y": [
          "France",
          "Belgium",
          "Israel",
          "Germany"
         ],
         "yaxis": "y"
        },
        {
         "hovertemplate": "genres=Live action<br>release_date=%{x}<br>countries=%{y}<extra></extra>",
         "legendgroup": "Live action",
         "marker": {
          "color": "#19d3f3",
          "symbol": "circle"
         },
         "mode": "markers",
         "name": "Live action",
         "orientation": "v",
         "showlegend": true,
         "type": "scatter",
         "x": [
          "1982-05-23T00:00:00"
         ],
         "xaxis": "x",
         "y": [
          "United Kingdom"
         ],
         "yaxis": "y"
        },
        {
         "hovertemplate": "genres=Malayalam Cinema<br>release_date=%{x}<br>countries=%{y}<extra></extra>",
         "legendgroup": "Malayalam Cinema",
         "marker": {
          "color": "#FF6692",
          "symbol": "circle"
         },
         "mode": "markers",
         "name": "Malayalam Cinema",
         "orientation": "v",
         "showlegend": true,
         "type": "scatter",
         "x": [
          "1981-01-01T00:00:00"
         ],
         "xaxis": "x",
         "y": [
          "India"
         ],
         "yaxis": "y"
        },
        {
         "hovertemplate": "genres=Marriage Drama<br>release_date=%{x}<br>countries=%{y}<extra></extra>",
         "legendgroup": "Marriage Drama",
         "marker": {
          "color": "#B6E880",
          "symbol": "circle"
         },
         "mode": "markers",
         "name": "Marriage Drama",
         "orientation": "v",
         "showlegend": true,
         "type": "scatter",
         "x": [
          "1921-09-25T00:00:00"
         ],
         "xaxis": "x",
         "y": [
          "United States of America"
         ],
         "yaxis": "y"
        },
        {
         "hovertemplate": "genres=Martial Arts Film<br>release_date=%{x}<br>countries=%{y}<extra></extra>",
         "legendgroup": "Martial Arts Film",
         "marker": {
          "color": "#FF97FF",
          "symbol": "circle"
         },
         "mode": "markers",
         "name": "Martial Arts Film",
         "orientation": "v",
         "showlegend": true,
         "type": "scatter",
         "x": [
          "1927-11-01T00:00:00"
         ],
         "xaxis": "x",
         "y": [
          "United States of America"
         ],
         "yaxis": "y"
        },
        {
         "hovertemplate": "genres=Master Criminal Films<br>release_date=%{x}<br>countries=%{y}<extra></extra>",
         "legendgroup": "Master Criminal Films",
         "marker": {
          "color": "#FECB52",
          "symbol": "circle"
         },
         "mode": "markers",
         "name": "Master Criminal Films",
         "orientation": "v",
         "showlegend": true,
         "type": "scatter",
         "x": [
          "1930-05-02T00:00:00"
         ],
         "xaxis": "x",
         "y": [
          "United States of America"
         ],
         "yaxis": "y"
        },
        {
         "hovertemplate": "genres=Media Satire<br>release_date=%{x}<br>countries=%{y}<extra></extra>",
         "legendgroup": "Media Satire",
         "marker": {
          "color": "#636efa",
          "symbol": "circle"
         },
         "mode": "markers",
         "name": "Media Satire",
         "orientation": "v",
         "showlegend": true,
         "type": "scatter",
         "x": [
          "1931-09-26T00:00:00"
         ],
         "xaxis": "x",
         "y": [
          "United States of America"
         ],
         "yaxis": "y"
        },
        {
         "hovertemplate": "genres=Media Studies<br>release_date=%{x}<br>countries=%{y}<extra></extra>",
         "legendgroup": "Media Studies",
         "marker": {
          "color": "#EF553B",
          "symbol": "circle"
         },
         "mode": "markers",
         "name": "Media Studies",
         "orientation": "v",
         "showlegend": true,
         "type": "scatter",
         "x": [
          "1985-06-21T00:00:00"
         ],
         "xaxis": "x",
         "y": [
          "United States of America"
         ],
         "yaxis": "y"
        },
        {
         "hovertemplate": "genres=Medical fiction<br>release_date=%{x}<br>countries=%{y}<extra></extra>",
         "legendgroup": "Medical fiction",
         "marker": {
          "color": "#00cc96",
          "symbol": "circle"
         },
         "mode": "markers",
         "name": "Medical fiction",
         "orientation": "v",
         "showlegend": true,
         "type": "scatter",
         "x": [
          "1931-12-07T00:00:00"
         ],
         "xaxis": "x",
         "y": [
          "United States of America"
         ],
         "yaxis": "y"
        },
        {
         "hovertemplate": "genres=Melodrama<br>release_date=%{x}<br>countries=%{y}<extra></extra>",
         "legendgroup": "Melodrama",
         "marker": {
          "color": "#ab63fa",
          "symbol": "circle"
         },
         "mode": "markers",
         "name": "Melodrama",
         "orientation": "v",
         "showlegend": true,
         "type": "scatter",
         "x": [
          "1910-01-01T00:00:00"
         ],
         "xaxis": "x",
         "y": [
          "United States of America"
         ],
         "yaxis": "y"
        },
        {
         "hovertemplate": "genres=Mockumentary<br>release_date=%{x}<br>countries=%{y}<extra></extra>",
         "legendgroup": "Mockumentary",
         "marker": {
          "color": "#FFA15A",
          "symbol": "circle"
         },
         "mode": "markers",
         "name": "Mockumentary",
         "orientation": "v",
         "showlegend": true,
         "type": "scatter",
         "x": [
          "1966-11-17T00:00:00"
         ],
         "xaxis": "x",
         "y": [
          "United States of America"
         ],
         "yaxis": "y"
        },
        {
         "hovertemplate": "genres=Mondo film<br>release_date=%{x}<br>countries=%{y}<extra></extra>",
         "legendgroup": "Mondo film",
         "marker": {
          "color": "#19d3f3",
          "symbol": "circle"
         },
         "mode": "markers",
         "name": "Mondo film",
         "orientation": "v",
         "showlegend": true,
         "type": "scatter",
         "x": [
          "1962-01-01T00:00:00"
         ],
         "xaxis": "x",
         "y": [
          "Italy"
         ],
         "yaxis": "y"
        },
        {
         "hovertemplate": "genres=Monster<br>release_date=%{x}<br>countries=%{y}<extra></extra>",
         "legendgroup": "Monster",
         "marker": {
          "color": "#FF6692",
          "symbol": "circle"
         },
         "mode": "markers",
         "name": "Monster",
         "orientation": "v",
         "showlegend": true,
         "type": "scatter",
         "x": [
          "1931-01-01T00:00:00"
         ],
         "xaxis": "x",
         "y": [
          "United States of America"
         ],
         "yaxis": "y"
        },
        {
         "hovertemplate": "genres=Monster movie<br>release_date=%{x}<br>countries=%{y}<extra></extra>",
         "legendgroup": "Monster movie",
         "marker": {
          "color": "#B6E880",
          "symbol": "circle"
         },
         "mode": "markers",
         "name": "Monster movie",
         "orientation": "v",
         "showlegend": true,
         "type": "scatter",
         "x": [
          "1932-12-22T00:00:00"
         ],
         "xaxis": "x",
         "y": [
          "United States of America"
         ],
         "yaxis": "y"
        },
        {
         "hovertemplate": "genres=Movie serial<br>release_date=%{x}<br>countries=%{y}<extra></extra>",
         "legendgroup": "Movie serial",
         "marker": {
          "color": "#FF97FF",
          "symbol": "circle"
         },
         "mode": "markers",
         "name": "Movie serial",
         "orientation": "v",
         "showlegend": true,
         "type": "scatter",
         "x": [
          "1915-05-22T00:00:00"
         ],
         "xaxis": "x",
         "y": [
          "United States of America"
         ],
         "yaxis": "y"
        },
        {
         "hovertemplate": "genres=Movies About Gladiators<br>release_date=%{x}<br>countries=%{y}<extra></extra>",
         "legendgroup": "Movies About Gladiators",
         "marker": {
          "color": "#FECB52",
          "symbol": "circle"
         },
         "mode": "markers",
         "name": "Movies About Gladiators",
         "orientation": "v",
         "showlegend": true,
         "type": "scatter",
         "x": [
          "1954-01-01T00:00:00"
         ],
         "xaxis": "x",
         "y": [
          "United States of America"
         ],
         "yaxis": "y"
        },
        {
         "hovertemplate": "genres=Mumblecore<br>release_date=%{x}<br>countries=%{y}<extra></extra>",
         "legendgroup": "Mumblecore",
         "marker": {
          "color": "#636efa",
          "symbol": "circle"
         },
         "mode": "markers",
         "name": "Mumblecore",
         "orientation": "v",
         "showlegend": true,
         "type": "scatter",
         "x": [
          "2005-01-01T00:00:00"
         ],
         "xaxis": "x",
         "y": [
          "United States of America"
         ],
         "yaxis": "y"
        },
        {
         "hovertemplate": "genres=Music<br>release_date=%{x}<br>countries=%{y}<extra></extra>",
         "legendgroup": "Music",
         "marker": {
          "color": "#EF553B",
          "symbol": "circle"
         },
         "mode": "markers",
         "name": "Music",
         "orientation": "v",
         "showlegend": true,
         "type": "scatter",
         "x": [
          "1912-02-07T00:00:00",
          "1912-02-07T00:00:00",
          "1912-02-07T00:00:00"
         ],
         "xaxis": "x",
         "y": [
          "Switzerland",
          "United States of America",
          "United Kingdom"
         ],
         "yaxis": "y"
        },
        {
         "hovertemplate": "genres=Musical<br>release_date=%{x}<br>countries=%{y}<extra></extra>",
         "legendgroup": "Musical",
         "marker": {
          "color": "#00cc96",
          "symbol": "circle"
         },
         "mode": "markers",
         "name": "Musical",
         "orientation": "v",
         "showlegend": true,
         "type": "scatter",
         "x": [
          "1906-10-30T00:00:00"
         ],
         "xaxis": "x",
         "y": [
          "Italy"
         ],
         "yaxis": "y"
        },
        {
         "hovertemplate": "genres=Musical Drama<br>release_date=%{x}<br>countries=%{y}<extra></extra>",
         "legendgroup": "Musical Drama",
         "marker": {
          "color": "#ab63fa",
          "symbol": "circle"
         },
         "mode": "markers",
         "name": "Musical Drama",
         "orientation": "v",
         "showlegend": true,
         "type": "scatter",
         "x": [
          "1928-08-17T00:00:00"
         ],
         "xaxis": "x",
         "y": [
          "United States of America"
         ],
         "yaxis": "y"
        },
        {
         "hovertemplate": "genres=Musical comedy<br>release_date=%{x}<br>countries=%{y}<extra></extra>",
         "legendgroup": "Musical comedy",
         "marker": {
          "color": "#FFA15A",
          "symbol": "circle"
         },
         "mode": "markers",
         "name": "Musical comedy",
         "orientation": "v",
         "showlegend": true,
         "type": "scatter",
         "x": [
          "1929-05-25T00:00:00"
         ],
         "xaxis": "x",
         "y": [
          "United States of America"
         ],
         "yaxis": "y"
        },
        {
         "hovertemplate": "genres=Mystery<br>release_date=%{x}<br>countries=%{y}<extra></extra>",
         "legendgroup": "Mystery",
         "marker": {
          "color": "#19d3f3",
          "symbol": "circle"
         },
         "mode": "markers",
         "name": "Mystery",
         "orientation": "v",
         "showlegend": true,
         "type": "scatter",
         "x": [
          "1913-07-19T00:00:00"
         ],
         "xaxis": "x",
         "y": [
          "United States of America"
         ],
         "yaxis": "y"
        },
        {
         "hovertemplate": "genres=Mythological Fantasy<br>release_date=%{x}<br>countries=%{y}<extra></extra>",
         "legendgroup": "Mythological Fantasy",
         "marker": {
          "color": "#FF6692",
          "symbol": "circle"
         },
         "mode": "markers",
         "name": "Mythological Fantasy",
         "orientation": "v",
         "showlegend": true,
         "type": "scatter",
         "x": [
          "1924-02-14T00:00:00"
         ],
         "xaxis": "x",
         "y": [
          "Germany"
         ],
         "yaxis": "y"
        },
        {
         "hovertemplate": "genres=Natural disaster<br>release_date=%{x}<br>countries=%{y}<extra></extra>",
         "legendgroup": "Natural disaster",
         "marker": {
          "color": "#B6E880",
          "symbol": "circle"
         },
         "mode": "markers",
         "name": "Natural disaster",
         "orientation": "v",
         "showlegend": true,
         "type": "scatter",
         "x": [
          "1933-08-13T00:00:00"
         ],
         "xaxis": "x",
         "y": [
          "United States of America"
         ],
         "yaxis": "y"
        },
        {
         "hovertemplate": "genres=Natural horror films<br>release_date=%{x}<br>countries=%{y}<extra></extra>",
         "legendgroup": "Natural horror films",
         "marker": {
          "color": "#FF97FF",
          "symbol": "circle"
         },
         "mode": "markers",
         "name": "Natural horror films",
         "orientation": "v",
         "showlegend": true,
         "type": "scatter",
         "x": [
          "1940-01-01T00:00:00"
         ],
         "xaxis": "x",
         "y": [
          "United States of America"
         ],
         "yaxis": "y"
        },
        {
         "hovertemplate": "genres=Nature<br>release_date=%{x}<br>countries=%{y}<extra></extra>",
         "legendgroup": "Nature",
         "marker": {
          "color": "#FECB52",
          "symbol": "circle"
         },
         "mode": "markers",
         "name": "Nature",
         "orientation": "v",
         "showlegend": true,
         "type": "scatter",
         "x": [
          "1942-06-04T00:00:00"
         ],
         "xaxis": "x",
         "y": [
          "United States of America"
         ],
         "yaxis": "y"
        },
        {
         "hovertemplate": "genres=Neo-noir<br>release_date=%{x}<br>countries=%{y}<extra></extra>",
         "legendgroup": "Neo-noir",
         "marker": {
          "color": "#636efa",
          "symbol": "circle"
         },
         "mode": "markers",
         "name": "Neo-noir",
         "orientation": "v",
         "showlegend": true,
         "type": "scatter",
         "x": [
          "1960-03-16T00:00:00",
          "1960-03-16T00:00:00"
         ],
         "xaxis": "x",
         "y": [
          "United States of America",
          "France"
         ],
         "yaxis": "y"
        },
        {
         "hovertemplate": "genres=Neorealism<br>release_date=%{x}<br>countries=%{y}<extra></extra>",
         "legendgroup": "Neorealism",
         "marker": {
          "color": "#EF553B",
          "symbol": "circle"
         },
         "mode": "markers",
         "name": "Neorealism",
         "orientation": "v",
         "showlegend": true,
         "type": "scatter",
         "x": [
          "1936-01-01T00:00:00",
          "1936-01-01T00:00:00"
         ],
         "xaxis": "x",
         "y": [
          "Italy",
          "Italy"
         ],
         "yaxis": "y"
        },
        {
         "hovertemplate": "genres=New Hollywood<br>release_date=%{x}<br>countries=%{y}<extra></extra>",
         "legendgroup": "New Hollywood",
         "marker": {
          "color": "#00cc96",
          "symbol": "circle"
         },
         "mode": "markers",
         "name": "New Hollywood",
         "orientation": "v",
         "showlegend": true,
         "type": "scatter",
         "x": [
          "1967-01-01T00:00:00"
         ],
         "xaxis": "x",
         "y": [
          "United States of America"
         ],
         "yaxis": "y"
        },
        {
         "hovertemplate": "genres=New Queer Cinema<br>release_date=%{x}<br>countries=%{y}<extra></extra>",
         "legendgroup": "New Queer Cinema",
         "marker": {
          "color": "#ab63fa",
          "symbol": "circle"
         },
         "mode": "markers",
         "name": "New Queer Cinema",
         "orientation": "v",
         "showlegend": true,
         "type": "scatter",
         "x": [
          "1971-01-01T00:00:00",
          "1971-01-01T00:00:00"
         ],
         "xaxis": "x",
         "y": [
          "Germany",
          "Germany"
         ],
         "yaxis": "y"
        },
        {
         "hovertemplate": "genres=News<br>release_date=%{x}<br>countries=%{y}<extra></extra>",
         "legendgroup": "News",
         "marker": {
          "color": "#FFA15A",
          "symbol": "circle"
         },
         "mode": "markers",
         "name": "News",
         "orientation": "v",
         "showlegend": true,
         "type": "scatter",
         "x": [
          "1898-01-01T00:00:00"
         ],
         "xaxis": "x",
         "y": [
          "United States of America"
         ],
         "yaxis": "y"
        },
        {
         "hovertemplate": "genres=Ninja movie<br>release_date=%{x}<br>countries=%{y}<extra></extra>",
         "legendgroup": "Ninja movie",
         "marker": {
          "color": "#19d3f3",
          "symbol": "circle"
         },
         "mode": "markers",
         "name": "Ninja movie",
         "orientation": "v",
         "showlegend": true,
         "type": "scatter",
         "x": [
          "2008-07-11T00:00:00"
         ],
         "xaxis": "x",
         "y": [
          "United Kingdom"
         ],
         "yaxis": "y"
        },
        {
         "hovertemplate": "genres=Northern<br>release_date=%{x}<br>countries=%{y}<extra></extra>",
         "legendgroup": "Northern",
         "marker": {
          "color": "#FF6692",
          "symbol": "circle"
         },
         "mode": "markers",
         "name": "Northern",
         "orientation": "v",
         "showlegend": true,
         "type": "scatter",
         "x": [
          "1910-01-01T00:00:00"
         ],
         "xaxis": "x",
         "y": [
          "United States of America"
         ],
         "yaxis": "y"
        },
        {
         "hovertemplate": "genres=Nuclear warfare<br>release_date=%{x}<br>countries=%{y}<extra></extra>",
         "legendgroup": "Nuclear warfare",
         "marker": {
          "color": "#B6E880",
          "symbol": "circle"
         },
         "mode": "markers",
         "name": "Nuclear warfare",
         "orientation": "v",
         "showlegend": true,
         "type": "scatter",
         "x": [
          "1959-12-17T00:00:00"
         ],
         "xaxis": "x",
         "y": [
          "United States of America"
         ],
         "yaxis": "y"
        },
        {
         "hovertemplate": "genres=Operetta<br>release_date=%{x}<br>countries=%{y}<extra></extra>",
         "legendgroup": "Operetta",
         "marker": {
          "color": "#FF97FF",
          "symbol": "circle"
         },
         "mode": "markers",
         "name": "Operetta",
         "orientation": "v",
         "showlegend": true,
         "type": "scatter",
         "x": [
          "1929-04-08T00:00:00"
         ],
         "xaxis": "x",
         "y": [
          "United States of America"
         ],
         "yaxis": "y"
        },
        {
         "hovertemplate": "genres=Outlaw<br>release_date=%{x}<br>countries=%{y}<extra></extra>",
         "legendgroup": "Outlaw",
         "marker": {
          "color": "#FECB52",
          "symbol": "circle"
         },
         "mode": "markers",
         "name": "Outlaw",
         "orientation": "v",
         "showlegend": true,
         "type": "scatter",
         "x": [
          "1967-08-04T00:00:00"
         ],
         "xaxis": "x",
         "y": [
          "United States of America"
         ],
         "yaxis": "y"
        },
        {
         "hovertemplate": "genres=Outlaw biker film<br>release_date=%{x}<br>countries=%{y}<extra></extra>",
         "legendgroup": "Outlaw biker film",
         "marker": {
          "color": "#636efa",
          "symbol": "circle"
         },
         "mode": "markers",
         "name": "Outlaw biker film",
         "orientation": "v",
         "showlegend": true,
         "type": "scatter",
         "x": [
          "1953-12-30T00:00:00"
         ],
         "xaxis": "x",
         "y": [
          "United States of America"
         ],
         "yaxis": "y"
        },
        {
         "hovertemplate": "genres=Parkour in popular culture<br>release_date=%{x}<br>countries=%{y}<extra></extra>",
         "legendgroup": "Parkour in popular culture",
         "marker": {
          "color": "#EF553B",
          "symbol": "circle"
         },
         "mode": "markers",
         "name": "Parkour in popular culture",
         "orientation": "v",
         "showlegend": true,
         "type": "scatter",
         "x": [
          "2000-03-29T00:00:00"
         ],
         "xaxis": "x",
         "y": [
          "France"
         ],
         "yaxis": "y"
        },
        {
         "hovertemplate": "genres=Parody<br>release_date=%{x}<br>countries=%{y}<extra></extra>",
         "legendgroup": "Parody",
         "marker": {
          "color": "#00cc96",
          "symbol": "circle"
         },
         "mode": "markers",
         "name": "Parody",
         "orientation": "v",
         "showlegend": true,
         "type": "scatter",
         "x": [
          "1915-11-14T00:00:00"
         ],
         "xaxis": "x",
         "y": [
          "United States of America"
         ],
         "yaxis": "y"
        },
        {
         "hovertemplate": "genres=Patriotic film<br>release_date=%{x}<br>countries=%{y}<extra></extra>",
         "legendgroup": "Patriotic film",
         "marker": {
          "color": "#ab63fa",
          "symbol": "circle"
         },
         "mode": "markers",
         "name": "Patriotic film",
         "orientation": "v",
         "showlegend": true,
         "type": "scatter",
         "x": [
          "1944-06-01T00:00:00"
         ],
         "xaxis": "x",
         "y": [
          "United States of America"
         ],
         "yaxis": "y"
        },
        {
         "hovertemplate": "genres=Period Horror<br>release_date=%{x}<br>countries=%{y}<extra></extra>",
         "legendgroup": "Period Horror",
         "marker": {
          "color": "#FFA15A",
          "symbol": "circle"
         },
         "mode": "markers",
         "name": "Period Horror",
         "orientation": "v",
         "showlegend": true,
         "type": "scatter",
         "x": [
          "1972-11-05T00:00:00"
         ],
         "xaxis": "x",
         "y": [
          "United Kingdom"
         ],
         "yaxis": "y"
        },
        {
         "hovertemplate": "genres=Period piece<br>release_date=%{x}<br>countries=%{y}<extra></extra>",
         "legendgroup": "Period piece",
         "marker": {
          "color": "#19d3f3",
          "symbol": "circle"
         },
         "mode": "markers",
         "name": "Period piece",
         "orientation": "v",
         "showlegend": true,
         "type": "scatter",
         "x": [
          "1910-01-01T00:00:00"
         ],
         "xaxis": "x",
         "y": [
          "United States of America"
         ],
         "yaxis": "y"
        },
        {
         "hovertemplate": "genres=Pinku eiga<br>release_date=%{x}<br>countries=%{y}<extra></extra>",
         "legendgroup": "Pinku eiga",
         "marker": {
          "color": "#FF6692",
          "symbol": "circle"
         },
         "mode": "markers",
         "name": "Pinku eiga",
         "orientation": "v",
         "showlegend": true,
         "type": "scatter",
         "x": [
          "1964-06-21T00:00:00"
         ],
         "xaxis": "x",
         "y": [
          "Japan"
         ],
         "yaxis": "y"
        },
        {
         "hovertemplate": "genres=Plague<br>release_date=%{x}<br>countries=%{y}<extra></extra>",
         "legendgroup": "Plague",
         "marker": {
          "color": "#B6E880",
          "symbol": "circle"
         },
         "mode": "markers",
         "name": "Plague",
         "orientation": "v",
         "showlegend": true,
         "type": "scatter",
         "x": [
          "2002-03-12T00:00:00",
          "2002-03-12T00:00:00",
          "2002-03-12T00:00:00",
          "2002-03-12T00:00:00",
          "2002-03-12T00:00:00"
         ],
         "xaxis": "x",
         "y": [
          "United States of America",
          "France",
          "Canada",
          "United Kingdom",
          "Germany"
         ],
         "yaxis": "y"
        },
        {
         "hovertemplate": "genres=Point of view shot<br>release_date=%{x}<br>countries=%{y}<extra></extra>",
         "legendgroup": "Point of view shot",
         "marker": {
          "color": "#FF97FF",
          "symbol": "circle"
         },
         "mode": "markers",
         "name": "Point of view shot",
         "orientation": "v",
         "showlegend": true,
         "type": "scatter",
         "x": [
          "1931-12-31T00:00:00"
         ],
         "xaxis": "x",
         "y": [
          "United States of America"
         ],
         "yaxis": "y"
        },
        {
         "hovertemplate": "genres=Political Documetary<br>release_date=%{x}<br>countries=%{y}<extra></extra>",
         "legendgroup": "Political Documetary",
         "marker": {
          "color": "#FECB52",
          "symbol": "circle"
         },
         "mode": "markers",
         "name": "Political Documetary",
         "orientation": "v",
         "showlegend": true,
         "type": "scatter",
         "x": [
          "2004-04-14T00:00:00"
         ],
         "xaxis": "x",
         "y": [
          "United States of America"
         ],
         "yaxis": "y"
        },
        {
         "hovertemplate": "genres=Political cinema<br>release_date=%{x}<br>countries=%{y}<extra></extra>",
         "legendgroup": "Political cinema",
         "marker": {
          "color": "#636efa",
          "symbol": "circle"
         },
         "mode": "markers",
         "name": "Political cinema",
         "orientation": "v",
         "showlegend": true,
         "type": "scatter",
         "x": [
          "1933-01-01T00:00:00"
         ],
         "xaxis": "x",
         "y": [
          "United States of America"
         ],
         "yaxis": "y"
        },
        {
         "hovertemplate": "genres=Political drama<br>release_date=%{x}<br>countries=%{y}<extra></extra>",
         "legendgroup": "Political drama",
         "marker": {
          "color": "#EF553B",
          "symbol": "circle"
         },
         "mode": "markers",
         "name": "Political drama",
         "orientation": "v",
         "showlegend": true,
         "type": "scatter",
         "x": [
          "1919-04-19T00:00:00"
         ],
         "xaxis": "x",
         "y": [
          "United States of America"
         ],
         "yaxis": "y"
        },
        {
         "hovertemplate": "genres=Political satire<br>release_date=%{x}<br>countries=%{y}<extra></extra>",
         "legendgroup": "Political satire",
         "marker": {
          "color": "#00cc96",
          "symbol": "circle"
         },
         "mode": "markers",
         "name": "Political satire",
         "orientation": "v",
         "showlegend": true,
         "type": "scatter",
         "x": [
          "1921-01-01T00:00:00"
         ],
         "xaxis": "x",
         "y": [
          "United States of America"
         ],
         "yaxis": "y"
        },
        {
         "hovertemplate": "genres=Political thriller<br>release_date=%{x}<br>countries=%{y}<extra></extra>",
         "legendgroup": "Political thriller",
         "marker": {
          "color": "#ab63fa",
          "symbol": "circle"
         },
         "mode": "markers",
         "name": "Political thriller",
         "orientation": "v",
         "showlegend": true,
         "type": "scatter",
         "x": [
          "1940-01-01T00:00:00"
         ],
         "xaxis": "x",
         "y": [
          "United States of America"
         ],
         "yaxis": "y"
        },
        {
         "hovertemplate": "genres=Pornographic movie<br>release_date=%{x}<br>countries=%{y}<extra></extra>",
         "legendgroup": "Pornographic movie",
         "marker": {
          "color": "#FFA15A",
          "symbol": "circle"
         },
         "mode": "markers",
         "name": "Pornographic movie",
         "orientation": "v",
         "showlegend": true,
         "type": "scatter",
         "x": [
          "1899-01-01T00:00:00"
         ],
         "xaxis": "x",
         "y": [
          "France"
         ],
         "yaxis": "y"
        },
        {
         "hovertemplate": "genres=Pornography<br>release_date=%{x}<br>countries=%{y}<extra></extra>",
         "legendgroup": "Pornography",
         "marker": {
          "color": "#19d3f3",
          "symbol": "circle"
         },
         "mode": "markers",
         "name": "Pornography",
         "orientation": "v",
         "showlegend": true,
         "type": "scatter",
         "x": [
          "1951-01-01T00:00:00"
         ],
         "xaxis": "x",
         "y": [
          "United States of America"
         ],
         "yaxis": "y"
        },
        {
         "hovertemplate": "genres=Pre-Code<br>release_date=%{x}<br>countries=%{y}<extra></extra>",
         "legendgroup": "Pre-Code",
         "marker": {
          "color": "#FF6692",
          "symbol": "circle"
         },
         "mode": "markers",
         "name": "Pre-Code",
         "orientation": "v",
         "showlegend": true,
         "type": "scatter",
         "x": [
          "1921-10-30T00:00:00"
         ],
         "xaxis": "x",
         "y": [
          "United States of America"
         ],
         "yaxis": "y"
        },
        {
         "hovertemplate": "genres=Prison<br>release_date=%{x}<br>countries=%{y}<extra></extra>",
         "legendgroup": "Prison",
         "marker": {
          "color": "#B6E880",
          "symbol": "circle"
         },
         "mode": "markers",
         "name": "Prison",
         "orientation": "v",
         "showlegend": true,
         "type": "scatter",
         "x": [
          "1930-05-03T00:00:00"
         ],
         "xaxis": "x",
         "y": [
          "United States of America"
         ],
         "yaxis": "y"
        },
        {
         "hovertemplate": "genres=Prison escape<br>release_date=%{x}<br>countries=%{y}<extra></extra>",
         "legendgroup": "Prison escape",
         "marker": {
          "color": "#FF97FF",
          "symbol": "circle"
         },
         "mode": "markers",
         "name": "Prison escape",
         "orientation": "v",
         "showlegend": true,
         "type": "scatter",
         "x": [
          "1943-08-06T00:00:00"
         ],
         "xaxis": "x",
         "y": [
          "United States of America"
         ],
         "yaxis": "y"
        },
        {
         "hovertemplate": "genres=Prison film<br>release_date=%{x}<br>countries=%{y}<extra></extra>",
         "legendgroup": "Prison film",
         "marker": {
          "color": "#FECB52",
          "symbol": "circle"
         },
         "mode": "markers",
         "name": "Prison film",
         "orientation": "v",
         "showlegend": true,
         "type": "scatter",
         "x": [
          "1939-07-22T00:00:00"
         ],
         "xaxis": "x",
         "y": [
          "United States of America"
         ],
         "yaxis": "y"
        },
        {
         "hovertemplate": "genres=Private military company<br>release_date=%{x}<br>countries=%{y}<extra></extra>",
         "legendgroup": "Private military company",
         "marker": {
          "color": "#636efa",
          "symbol": "circle"
         },
         "mode": "markers",
         "name": "Private military company",
         "orientation": "v",
         "showlegend": true,
         "type": "scatter",
         "x": [
          "2005-01-20T00:00:00",
          "2005-01-20T00:00:00",
          "2005-01-20T00:00:00",
          "2005-01-20T00:00:00"
         ],
         "xaxis": "x",
         "y": [
          "United States of America",
          "France",
          "Canada",
          "United Kingdom"
         ],
         "yaxis": "y"
        },
        {
         "hovertemplate": "genres=Propaganda film<br>release_date=%{x}<br>countries=%{y}<extra></extra>",
         "legendgroup": "Propaganda film",
         "marker": {
          "color": "#EF553B",
          "symbol": "circle"
         },
         "mode": "markers",
         "name": "Propaganda film",
         "orientation": "v",
         "showlegend": true,
         "type": "scatter",
         "x": [
          "1915-01-01T00:00:00"
         ],
         "xaxis": "x",
         "y": [
          "United States of America"
         ],
         "yaxis": "y"
        },
        {
         "hovertemplate": "genres=Psycho-biddy<br>release_date=%{x}<br>countries=%{y}<extra></extra>",
         "legendgroup": "Psycho-biddy",
         "marker": {
          "color": "#00cc96",
          "symbol": "circle"
         },
         "mode": "markers",
         "name": "Psycho-biddy",
         "orientation": "v",
         "showlegend": true,
         "type": "scatter",
         "x": [
          "1964-01-01T00:00:00"
         ],
         "xaxis": "x",
         "y": [
          "United States of America"
         ],
         "yaxis": "y"
        },
        {
         "hovertemplate": "genres=Psychological horror<br>release_date=%{x}<br>countries=%{y}<extra></extra>",
         "legendgroup": "Psychological horror",
         "marker": {
          "color": "#ab63fa",
          "symbol": "circle"
         },
         "mode": "markers",
         "name": "Psychological horror",
         "orientation": "v",
         "showlegend": true,
         "type": "scatter",
         "x": [
          "1963-08-01T00:00:00",
          "1963-08-01T00:00:00"
         ],
         "xaxis": "x",
         "y": [
          "United States of America",
          "United Kingdom"
         ],
         "yaxis": "y"
        },
        {
         "hovertemplate": "genres=Psychological thriller<br>release_date=%{x}<br>countries=%{y}<extra></extra>",
         "legendgroup": "Psychological thriller",
         "marker": {
          "color": "#FFA15A",
          "symbol": "circle"
         },
         "mode": "markers",
         "name": "Psychological thriller",
         "orientation": "v",
         "showlegend": true,
         "type": "scatter",
         "x": [
          "1924-09-29T00:00:00"
         ],
         "xaxis": "x",
         "y": [
          "United States of America"
         ],
         "yaxis": "y"
        },
        {
         "hovertemplate": "genres=Punk rock<br>release_date=%{x}<br>countries=%{y}<extra></extra>",
         "legendgroup": "Punk rock",
         "marker": {
          "color": "#19d3f3",
          "symbol": "circle"
         },
         "mode": "markers",
         "name": "Punk rock",
         "orientation": "v",
         "showlegend": true,
         "type": "scatter",
         "x": [
          "1976-01-01T00:00:00"
         ],
         "xaxis": "x",
         "y": [
          "United States of America"
         ],
         "yaxis": "y"
        },
        {
         "hovertemplate": "genres=Race movie<br>release_date=%{x}<br>countries=%{y}<extra></extra>",
         "legendgroup": "Race movie",
         "marker": {
          "color": "#FF6692",
          "symbol": "circle"
         },
         "mode": "markers",
         "name": "Race movie",
         "orientation": "v",
         "showlegend": true,
         "type": "scatter",
         "x": [
          "1925-11-09T00:00:00"
         ],
         "xaxis": "x",
         "y": [
          "United States of America"
         ],
         "yaxis": "y"
        },
        {
         "hovertemplate": "genres=Reboot<br>release_date=%{x}<br>countries=%{y}<extra></extra>",
         "legendgroup": "Reboot",
         "marker": {
          "color": "#B6E880",
          "symbol": "circle"
         },
         "mode": "markers",
         "name": "Reboot",
         "orientation": "v",
         "showlegend": true,
         "type": "scatter",
         "x": [
          "2005-06-10T00:00:00",
          "2005-06-10T00:00:00"
         ],
         "xaxis": "x",
         "y": [
          "United States of America",
          "United Kingdom"
         ],
         "yaxis": "y"
        },
        {
         "hovertemplate": "genres=Religious Film<br>release_date=%{x}<br>countries=%{y}<extra></extra>",
         "legendgroup": "Religious Film",
         "marker": {
          "color": "#FF97FF",
          "symbol": "circle"
         },
         "mode": "markers",
         "name": "Religious Film",
         "orientation": "v",
         "showlegend": true,
         "type": "scatter",
         "x": [
          "1921-01-24T00:00:00"
         ],
         "xaxis": "x",
         "y": [
          "Denmark"
         ],
         "yaxis": "y"
        },
        {
         "hovertemplate": "genres=Remake<br>release_date=%{x}<br>countries=%{y}<extra></extra>",
         "legendgroup": "Remake",
         "marker": {
          "color": "#FECB52",
          "symbol": "circle"
         },
         "mode": "markers",
         "name": "Remake",
         "orientation": "v",
         "showlegend": true,
         "type": "scatter",
         "x": [
          "1930-11-29T00:00:00"
         ],
         "xaxis": "x",
         "y": [
          "United States of America"
         ],
         "yaxis": "y"
        },
        {
         "hovertemplate": "genres=Revenge<br>release_date=%{x}<br>countries=%{y}<extra></extra>",
         "legendgroup": "Revenge",
         "marker": {
          "color": "#636efa",
          "symbol": "circle"
         },
         "mode": "markers",
         "name": "Revenge",
         "orientation": "v",
         "showlegend": true,
         "type": "scatter",
         "x": [
          "1989-01-01T00:00:00"
         ],
         "xaxis": "x",
         "y": [
          "India"
         ],
         "yaxis": "y"
        },
        {
         "hovertemplate": "genres=Revisionist Fairy Tale<br>release_date=%{x}<br>countries=%{y}<extra></extra>",
         "legendgroup": "Revisionist Fairy Tale",
         "marker": {
          "color": "#EF553B",
          "symbol": "circle"
         },
         "mode": "markers",
         "name": "Revisionist Fairy Tale",
         "orientation": "v",
         "showlegend": true,
         "type": "scatter",
         "x": [
          "2006-01-13T00:00:00"
         ],
         "xaxis": "x",
         "y": [
          "United States of America"
         ],
         "yaxis": "y"
        },
        {
         "hovertemplate": "genres=Revisionist Western<br>release_date=%{x}<br>countries=%{y}<extra></extra>",
         "legendgroup": "Revisionist Western",
         "marker": {
          "color": "#00cc96",
          "symbol": "circle"
         },
         "mode": "markers",
         "name": "Revisionist Western",
         "orientation": "v",
         "showlegend": true,
         "type": "scatter",
         "x": [
          "1952-01-01T00:00:00"
         ],
         "xaxis": "x",
         "y": [
          "United States of America"
         ],
         "yaxis": "y"
        },
        {
         "hovertemplate": "genres=Road movie<br>release_date=%{x}<br>countries=%{y}<extra></extra>",
         "legendgroup": "Road movie",
         "marker": {
          "color": "#ab63fa",
          "symbol": "circle"
         },
         "mode": "markers",
         "name": "Road movie",
         "orientation": "v",
         "showlegend": true,
         "type": "scatter",
         "x": [
          "1934-02-22T00:00:00"
         ],
         "xaxis": "x",
         "y": [
          "United States of America"
         ],
         "yaxis": "y"
        },
        {
         "hovertemplate": "genres=Road-Horror<br>release_date=%{x}<br>countries=%{y}<extra></extra>",
         "legendgroup": "Road-Horror",
         "marker": {
          "color": "#FFA15A",
          "symbol": "circle"
         },
         "mode": "markers",
         "name": "Road-Horror",
         "orientation": "v",
         "showlegend": true,
         "type": "scatter",
         "x": [
          "1977-01-01T00:00:00"
         ],
         "xaxis": "x",
         "y": [
          "United States of America"
         ],
         "yaxis": "y"
        },
        {
         "hovertemplate": "genres=Roadshow theatrical release<br>release_date=%{x}<br>countries=%{y}<extra></extra>",
         "legendgroup": "Roadshow theatrical release",
         "marker": {
          "color": "#19d3f3",
          "symbol": "circle"
         },
         "mode": "markers",
         "name": "Roadshow theatrical release",
         "orientation": "v",
         "showlegend": true,
         "type": "scatter",
         "x": [
          "1927-12-27T00:00:00"
         ],
         "xaxis": "x",
         "y": [
          "United States of America"
         ],
         "yaxis": "y"
        },
        {
         "hovertemplate": "genres=Roadshow/Carny<br>release_date=%{x}<br>countries=%{y}<extra></extra>",
         "legendgroup": "Roadshow/Carny",
         "marker": {
          "color": "#FF6692",
          "symbol": "circle"
         },
         "mode": "markers",
         "name": "Roadshow/Carny",
         "orientation": "v",
         "showlegend": true,
         "type": "scatter",
         "x": [
          "1932-01-01T00:00:00"
         ],
         "xaxis": "x",
         "y": [
          "United States of America"
         ],
         "yaxis": "y"
        },
        {
         "hovertemplate": "genres=Rockumentary<br>release_date=%{x}<br>countries=%{y}<extra></extra>",
         "legendgroup": "Rockumentary",
         "marker": {
          "color": "#B6E880",
          "symbol": "circle"
         },
         "mode": "markers",
         "name": "Rockumentary",
         "orientation": "v",
         "showlegend": true,
         "type": "scatter",
         "x": [
          "1964-12-29T00:00:00"
         ],
         "xaxis": "x",
         "y": [
          "United States of America"
         ],
         "yaxis": "y"
        },
        {
         "hovertemplate": "genres=Romance Film<br>release_date=%{x}<br>countries=%{y}<extra></extra>",
         "legendgroup": "Romance Film",
         "marker": {
          "color": "#FF97FF",
          "symbol": "circle"
         },
         "mode": "markers",
         "name": "Romance Film",
         "orientation": "v",
         "showlegend": true,
         "type": "scatter",
         "x": [
          "1896-01-01T00:00:00"
         ],
         "xaxis": "x",
         "y": [
          "United States of America"
         ],
         "yaxis": "y"
        },
        {
         "hovertemplate": "genres=Romantic comedy<br>release_date=%{x}<br>countries=%{y}<extra></extra>",
         "legendgroup": "Romantic comedy",
         "marker": {
          "color": "#FECB52",
          "symbol": "circle"
         },
         "mode": "markers",
         "name": "Romantic comedy",
         "orientation": "v",
         "showlegend": true,
         "type": "scatter",
         "x": [
          "1909-12-30T00:00:00"
         ],
         "xaxis": "x",
         "y": [
          "United States of America"
         ],
         "yaxis": "y"
        },
        {
         "hovertemplate": "genres=Romantic drama<br>release_date=%{x}<br>countries=%{y}<extra></extra>",
         "legendgroup": "Romantic drama",
         "marker": {
          "color": "#636efa",
          "symbol": "circle"
         },
         "mode": "markers",
         "name": "Romantic drama",
         "orientation": "v",
         "showlegend": true,
         "type": "scatter",
         "x": [
          "1912-07-12T00:00:00"
         ],
         "xaxis": "x",
         "y": [
          "France"
         ],
         "yaxis": "y"
        },
        {
         "hovertemplate": "genres=Romantic fantasy<br>release_date=%{x}<br>countries=%{y}<extra></extra>",
         "legendgroup": "Romantic fantasy",
         "marker": {
          "color": "#EF553B",
          "symbol": "circle"
         },
         "mode": "markers",
         "name": "Romantic fantasy",
         "orientation": "v",
         "showlegend": true,
         "type": "scatter",
         "x": [
          "1925-12-22T00:00:00"
         ],
         "xaxis": "x",
         "y": [
          "United States of America"
         ],
         "yaxis": "y"
        },
        {
         "hovertemplate": "genres=Samurai cinema<br>release_date=%{x}<br>countries=%{y}<extra></extra>",
         "legendgroup": "Samurai cinema",
         "marker": {
          "color": "#00cc96",
          "symbol": "circle"
         },
         "mode": "markers",
         "name": "Samurai cinema",
         "orientation": "v",
         "showlegend": true,
         "type": "scatter",
         "x": [
          "1941-12-08T00:00:00"
         ],
         "xaxis": "x",
         "y": [
          "Japan"
         ],
         "yaxis": "y"
        },
        {
         "hovertemplate": "genres=Satire<br>release_date=%{x}<br>countries=%{y}<extra></extra>",
         "legendgroup": "Satire",
         "marker": {
          "color": "#ab63fa",
          "symbol": "circle"
         },
         "mode": "markers",
         "name": "Satire",
         "orientation": "v",
         "showlegend": true,
         "type": "scatter",
         "x": [
          "1916-09-04T00:00:00"
         ],
         "xaxis": "x",
         "y": [
          "United States of America"
         ],
         "yaxis": "y"
        },
        {
         "hovertemplate": "genres=School story<br>release_date=%{x}<br>countries=%{y}<extra></extra>",
         "legendgroup": "School story",
         "marker": {
          "color": "#FFA15A",
          "symbol": "circle"
         },
         "mode": "markers",
         "name": "School story",
         "orientation": "v",
         "showlegend": true,
         "type": "scatter",
         "x": [
          "1940-07-14T00:00:00"
         ],
         "xaxis": "x",
         "y": [
          "United States of America"
         ],
         "yaxis": "y"
        },
        {
         "hovertemplate": "genres=Sci Fi Pictures original films<br>release_date=%{x}<br>countries=%{y}<extra></extra>",
         "legendgroup": "Sci Fi Pictures original films",
         "marker": {
          "color": "#19d3f3",
          "symbol": "circle"
         },
         "mode": "markers",
         "name": "Sci Fi Pictures original films",
         "orientation": "v",
         "showlegend": true,
         "type": "scatter",
         "x": [
          "2004-01-01T00:00:00",
          "2004-01-01T00:00:00"
         ],
         "xaxis": "x",
         "y": [
          "United States of America",
          "Germany"
         ],
         "yaxis": "y"
        },
        {
         "hovertemplate": "genres=Sci-Fi Adventure<br>release_date=%{x}<br>countries=%{y}<extra></extra>",
         "legendgroup": "Sci-Fi Adventure",
         "marker": {
          "color": "#FF6692",
          "symbol": "circle"
         },
         "mode": "markers",
         "name": "Sci-Fi Adventure",
         "orientation": "v",
         "showlegend": true,
         "type": "scatter",
         "x": [
          "1945-04-20T00:00:00"
         ],
         "xaxis": "x",
         "y": [
          "United States of America"
         ],
         "yaxis": "y"
        },
        {
         "hovertemplate": "genres=Sci-Fi Horror<br>release_date=%{x}<br>countries=%{y}<extra></extra>",
         "legendgroup": "Sci-Fi Horror",
         "marker": {
          "color": "#B6E880",
          "symbol": "circle"
         },
         "mode": "markers",
         "name": "Sci-Fi Horror",
         "orientation": "v",
         "showlegend": true,
         "type": "scatter",
         "x": [
          "1934-12-20T00:00:00"
         ],
         "xaxis": "x",
         "y": [
          "Poland"
         ],
         "yaxis": "y"
        },
        {
         "hovertemplate": "genres=Sci-Fi Thriller<br>release_date=%{x}<br>countries=%{y}<extra></extra>",
         "legendgroup": "Sci-Fi Thriller",
         "marker": {
          "color": "#FF97FF",
          "symbol": "circle"
         },
         "mode": "markers",
         "name": "Sci-Fi Thriller",
         "orientation": "v",
         "showlegend": true,
         "type": "scatter",
         "x": [
          "1977-08-01T00:00:00"
         ],
         "xaxis": "x",
         "y": [
          "United States of America"
         ],
         "yaxis": "y"
        },
        {
         "hovertemplate": "genres=Science Fiction<br>release_date=%{x}<br>countries=%{y}<extra></extra>",
         "legendgroup": "Science Fiction",
         "marker": {
          "color": "#FECB52",
          "symbol": "circle"
         },
         "mode": "markers",
         "name": "Science Fiction",
         "orientation": "v",
         "showlegend": true,
         "type": "scatter",
         "x": [
          "1902-09-01T00:00:00"
         ],
         "xaxis": "x",
         "y": [
          "France"
         ],
         "yaxis": "y"
        },
        {
         "hovertemplate": "genres=Science fiction Western<br>release_date=%{x}<br>countries=%{y}<extra></extra>",
         "legendgroup": "Science fiction Western",
         "marker": {
          "color": "#636efa",
          "symbol": "circle"
         },
         "mode": "markers",
         "name": "Science fiction Western",
         "orientation": "v",
         "showlegend": true,
         "type": "scatter",
         "x": [
          "1973-11-21T00:00:00"
         ],
         "xaxis": "x",
         "y": [
          "United States of America"
         ],
         "yaxis": "y"
        },
        {
         "hovertemplate": "genres=Screwball comedy<br>release_date=%{x}<br>countries=%{y}<extra></extra>",
         "legendgroup": "Screwball comedy",
         "marker": {
          "color": "#EF553B",
          "symbol": "circle"
         },
         "mode": "markers",
         "name": "Screwball comedy",
         "orientation": "v",
         "showlegend": true,
         "type": "scatter",
         "x": [
          "1918-03-18T00:00:00"
         ],
         "xaxis": "x",
         "y": [
          "United States of America"
         ],
         "yaxis": "y"
        },
        {
         "hovertemplate": "genres=Sex comedy<br>release_date=%{x}<br>countries=%{y}<extra></extra>",
         "legendgroup": "Sex comedy",
         "marker": {
          "color": "#00cc96",
          "symbol": "circle"
         },
         "mode": "markers",
         "name": "Sex comedy",
         "orientation": "v",
         "showlegend": true,
         "type": "scatter",
         "x": [
          "1927-06-12T00:00:00"
         ],
         "xaxis": "x",
         "y": [
          "United States of America"
         ],
         "yaxis": "y"
        },
        {
         "hovertemplate": "genres=Sexploitation<br>release_date=%{x}<br>countries=%{y}<extra></extra>",
         "legendgroup": "Sexploitation",
         "marker": {
          "color": "#ab63fa",
          "symbol": "circle"
         },
         "mode": "markers",
         "name": "Sexploitation",
         "orientation": "v",
         "showlegend": true,
         "type": "scatter",
         "x": [
          "1938-01-01T00:00:00"
         ],
         "xaxis": "x",
         "y": [
          "United States of America"
         ],
         "yaxis": "y"
        },
        {
         "hovertemplate": "genres=Short Film<br>release_date=%{x}<br>countries=%{y}<extra></extra>",
         "legendgroup": "Short Film",
         "marker": {
          "color": "#FFA15A",
          "symbol": "circle"
         },
         "mode": "markers",
         "name": "Short Film",
         "orientation": "v",
         "showlegend": true,
         "type": "scatter",
         "x": [
          "1888-01-01T00:00:00"
         ],
         "xaxis": "x",
         "y": [
          "United Kingdom"
         ],
         "yaxis": "y"
        },
        {
         "hovertemplate": "genres=Silent film<br>release_date=%{x}<br>countries=%{y}<extra></extra>",
         "legendgroup": "Silent film",
         "marker": {
          "color": "#19d3f3",
          "symbol": "circle"
         },
         "mode": "markers",
         "name": "Silent film",
         "orientation": "v",
         "showlegend": true,
         "type": "scatter",
         "x": [
          "1888-01-01T00:00:00"
         ],
         "xaxis": "x",
         "y": [
          "United Kingdom"
         ],
         "yaxis": "y"
        },
        {
         "hovertemplate": "genres=Silhouette animation<br>release_date=%{x}<br>countries=%{y}<extra></extra>",
         "legendgroup": "Silhouette animation",
         "marker": {
          "color": "#FF6692",
          "symbol": "circle"
         },
         "mode": "markers",
         "name": "Silhouette animation",
         "orientation": "v",
         "showlegend": true,
         "type": "scatter",
         "x": [
          "1926-01-01T00:00:00",
          "1926-01-01T00:00:00"
         ],
         "xaxis": "x",
         "y": [
          "Germany",
          "Germany"
         ],
         "yaxis": "y"
        },
        {
         "hovertemplate": "genres=Singing cowboy<br>release_date=%{x}<br>countries=%{y}<extra></extra>",
         "legendgroup": "Singing cowboy",
         "marker": {
          "color": "#B6E880",
          "symbol": "circle"
         },
         "mode": "markers",
         "name": "Singing cowboy",
         "orientation": "v",
         "showlegend": true,
         "type": "scatter",
         "x": [
          "1933-01-01T00:00:00"
         ],
         "xaxis": "x",
         "y": [
          "United States of America"
         ],
         "yaxis": "y"
        },
        {
         "hovertemplate": "genres=Slapstick<br>release_date=%{x}<br>countries=%{y}<extra></extra>",
         "legendgroup": "Slapstick",
         "marker": {
          "color": "#FF97FF",
          "symbol": "circle"
         },
         "mode": "markers",
         "name": "Slapstick",
         "orientation": "v",
         "showlegend": true,
         "type": "scatter",
         "x": [
          "1910-11-23T00:00:00"
         ],
         "xaxis": "x",
         "y": [
          "United States of America"
         ],
         "yaxis": "y"
        },
        {
         "hovertemplate": "genres=Slasher<br>release_date=%{x}<br>countries=%{y}<extra></extra>",
         "legendgroup": "Slasher",
         "marker": {
          "color": "#FECB52",
          "symbol": "circle"
         },
         "mode": "markers",
         "name": "Slasher",
         "orientation": "v",
         "showlegend": true,
         "type": "scatter",
         "x": [
          "1916-10-23T00:00:00"
         ],
         "xaxis": "x",
         "y": [
          "United States of America"
         ],
         "yaxis": "y"
        },
        {
         "hovertemplate": "genres=Slice of life story<br>release_date=%{x}<br>countries=%{y}<extra></extra>",
         "legendgroup": "Slice of life story",
         "marker": {
          "color": "#636efa",
          "symbol": "circle"
         },
         "mode": "markers",
         "name": "Slice of life story",
         "orientation": "v",
         "showlegend": true,
         "type": "scatter",
         "x": [
          "1956-04-01T00:00:00"
         ],
         "xaxis": "x",
         "y": [
          "United States of America"
         ],
         "yaxis": "y"
        },
        {
         "hovertemplate": "genres=Social issues<br>release_date=%{x}<br>countries=%{y}<extra></extra>",
         "legendgroup": "Social issues",
         "marker": {
          "color": "#EF553B",
          "symbol": "circle"
         },
         "mode": "markers",
         "name": "Social issues",
         "orientation": "v",
         "showlegend": true,
         "type": "scatter",
         "x": [
          "1930-05-28T00:00:00"
         ],
         "xaxis": "x",
         "y": [
          "France"
         ],
         "yaxis": "y"
        },
        {
         "hovertemplate": "genres=Social problem film<br>release_date=%{x}<br>countries=%{y}<extra></extra>",
         "legendgroup": "Social problem film",
         "marker": {
          "color": "#00cc96",
          "symbol": "circle"
         },
         "mode": "markers",
         "name": "Social problem film",
         "orientation": "v",
         "showlegend": true,
         "type": "scatter",
         "x": [
          "1909-12-13T00:00:00"
         ],
         "xaxis": "x",
         "y": [
          "United States of America"
         ],
         "yaxis": "y"
        },
        {
         "hovertemplate": "genres=Softcore Porn<br>release_date=%{x}<br>countries=%{y}<extra></extra>",
         "legendgroup": "Softcore Porn",
         "marker": {
          "color": "#ab63fa",
          "symbol": "circle"
         },
         "mode": "markers",
         "name": "Softcore Porn",
         "orientation": "v",
         "showlegend": true,
         "type": "scatter",
         "x": [
          "1968-01-01T00:00:00"
         ],
         "xaxis": "x",
         "y": [
          "United States of America"
         ],
         "yaxis": "y"
        },
        {
         "hovertemplate": "genres=Space opera<br>release_date=%{x}<br>countries=%{y}<extra></extra>",
         "legendgroup": "Space opera",
         "marker": {
          "color": "#FFA15A",
          "symbol": "circle"
         },
         "mode": "markers",
         "name": "Space opera",
         "orientation": "v",
         "showlegend": true,
         "type": "scatter",
         "x": [
          "1980-05-21T00:00:00"
         ],
         "xaxis": "x",
         "y": [
          "United States of America"
         ],
         "yaxis": "y"
        },
        {
         "hovertemplate": "genres=Space western<br>release_date=%{x}<br>countries=%{y}<extra></extra>",
         "legendgroup": "Space western",
         "marker": {
          "color": "#19d3f3",
          "symbol": "circle"
         },
         "mode": "markers",
         "name": "Space western",
         "orientation": "v",
         "showlegend": true,
         "type": "scatter",
         "x": [
          "1969-10-20T00:00:00"
         ],
         "xaxis": "x",
         "y": [
          "United Kingdom"
         ],
         "yaxis": "y"
        },
        {
         "hovertemplate": "genres=Spaghetti Western<br>release_date=%{x}<br>countries=%{y}<extra></extra>",
         "legendgroup": "Spaghetti Western",
         "marker": {
          "color": "#FF6692",
          "symbol": "circle"
         },
         "mode": "markers",
         "name": "Spaghetti Western",
         "orientation": "v",
         "showlegend": true,
         "type": "scatter",
         "x": [
          "1936-01-01T00:00:00"
         ],
         "xaxis": "x",
         "y": [
          "United States of America"
         ],
         "yaxis": "y"
        },
        {
         "hovertemplate": "genres=Splatter film<br>release_date=%{x}<br>countries=%{y}<extra></extra>",
         "legendgroup": "Splatter film",
         "marker": {
          "color": "#B6E880",
          "symbol": "circle"
         },
         "mode": "markers",
         "name": "Splatter film",
         "orientation": "v",
         "showlegend": true,
         "type": "scatter",
         "x": [
          "1963-07-06T00:00:00"
         ],
         "xaxis": "x",
         "y": [
          "United States of America"
         ],
         "yaxis": "y"
        },
        {
         "hovertemplate": "genres=Sponsored film<br>release_date=%{x}<br>countries=%{y}<extra></extra>",
         "legendgroup": "Sponsored film",
         "marker": {
          "color": "#FF97FF",
          "symbol": "circle"
         },
         "mode": "markers",
         "name": "Sponsored film",
         "orientation": "v",
         "showlegend": true,
         "type": "scatter",
         "x": [
          "1942-01-01T00:00:00"
         ],
         "xaxis": "x",
         "y": [
          "United Kingdom"
         ],
         "yaxis": "y"
        },
        {
         "hovertemplate": "genres=Sports<br>release_date=%{x}<br>countries=%{y}<extra></extra>",
         "legendgroup": "Sports",
         "marker": {
          "color": "#FECB52",
          "symbol": "circle"
         },
         "mode": "markers",
         "name": "Sports",
         "orientation": "v",
         "showlegend": true,
         "type": "scatter",
         "x": [
          "1911-01-06T00:00:00"
         ],
         "xaxis": "x",
         "y": [
          "United States of America"
         ],
         "yaxis": "y"
        },
        {
         "hovertemplate": "genres=Spy<br>release_date=%{x}<br>countries=%{y}<extra></extra>",
         "legendgroup": "Spy",
         "marker": {
          "color": "#636efa",
          "symbol": "circle"
         },
         "mode": "markers",
         "name": "Spy",
         "orientation": "v",
         "showlegend": true,
         "type": "scatter",
         "x": [
          "1917-10-01T00:00:00"
         ],
         "xaxis": "x",
         "y": [
          "United States of America"
         ],
         "yaxis": "y"
        },
        {
         "hovertemplate": "genres=Stand-up comedy<br>release_date=%{x}<br>countries=%{y}<extra></extra>",
         "legendgroup": "Stand-up comedy",
         "marker": {
          "color": "#EF553B",
          "symbol": "circle"
         },
         "mode": "markers",
         "name": "Stand-up comedy",
         "orientation": "v",
         "showlegend": true,
         "type": "scatter",
         "x": [
          "1972-01-03T00:00:00"
         ],
         "xaxis": "x",
         "y": [
          "United States of America"
         ],
         "yaxis": "y"
        },
        {
         "hovertemplate": "genres=Star vehicle<br>release_date=%{x}<br>countries=%{y}<extra></extra>",
         "legendgroup": "Star vehicle",
         "marker": {
          "color": "#00cc96",
          "symbol": "circle"
         },
         "mode": "markers",
         "name": "Star vehicle",
         "orientation": "v",
         "showlegend": true,
         "type": "scatter",
         "x": [
          "1939-08-12T00:00:00"
         ],
         "xaxis": "x",
         "y": [
          "United States of America"
         ],
         "yaxis": "y"
        },
        {
         "hovertemplate": "genres=Statutory rape<br>release_date=%{x}<br>countries=%{y}<extra></extra>",
         "legendgroup": "Statutory rape",
         "marker": {
          "color": "#ab63fa",
          "symbol": "circle"
         },
         "mode": "markers",
         "name": "Statutory rape",
         "orientation": "v",
         "showlegend": true,
         "type": "scatter",
         "x": [
          "1980-08-26T00:00:00"
         ],
         "xaxis": "x",
         "y": [
          "United States of America"
         ],
         "yaxis": "y"
        },
        {
         "hovertemplate": "genres=Steampunk<br>release_date=%{x}<br>countries=%{y}<extra></extra>",
         "legendgroup": "Steampunk",
         "marker": {
          "color": "#FFA15A",
          "symbol": "circle"
         },
         "mode": "markers",
         "name": "Steampunk",
         "orientation": "v",
         "showlegend": true,
         "type": "scatter",
         "x": [
          "1936-01-01T00:00:00"
         ],
         "xaxis": "x",
         "y": [
          "United Kingdom"
         ],
         "yaxis": "y"
        },
        {
         "hovertemplate": "genres=Stoner film<br>release_date=%{x}<br>countries=%{y}<extra></extra>",
         "legendgroup": "Stoner film",
         "marker": {
          "color": "#19d3f3",
          "symbol": "circle"
         },
         "mode": "markers",
         "name": "Stoner film",
         "orientation": "v",
         "showlegend": true,
         "type": "scatter",
         "x": [
          "1936-01-15T00:00:00"
         ],
         "xaxis": "x",
         "y": [
          "United States of America"
         ],
         "yaxis": "y"
        },
        {
         "hovertemplate": "genres=Stop motion<br>release_date=%{x}<br>countries=%{y}<extra></extra>",
         "legendgroup": "Stop motion",
         "marker": {
          "color": "#FF6692",
          "symbol": "circle"
         },
         "mode": "markers",
         "name": "Stop motion",
         "orientation": "v",
         "showlegend": true,
         "type": "scatter",
         "x": [
          "1915-11-19T00:00:00"
         ],
         "xaxis": "x",
         "y": [
          "United States of America"
         ],
         "yaxis": "y"
        },
        {
         "hovertemplate": "genres=Superhero<br>release_date=%{x}<br>countries=%{y}<extra></extra>",
         "legendgroup": "Superhero",
         "marker": {
          "color": "#B6E880",
          "symbol": "circle"
         },
         "mode": "markers",
         "name": "Superhero",
         "orientation": "v",
         "showlegend": true,
         "type": "scatter",
         "x": [
          "1937-10-29T00:00:00"
         ],
         "xaxis": "x",
         "y": [
          "United States of America"
         ],
         "yaxis": "y"
        },
        {
         "hovertemplate": "genres=Superhero movie<br>release_date=%{x}<br>countries=%{y}<extra></extra>",
         "legendgroup": "Superhero movie",
         "marker": {
          "color": "#FF97FF",
          "symbol": "circle"
         },
         "mode": "markers",
         "name": "Superhero movie",
         "orientation": "v",
         "showlegend": true,
         "type": "scatter",
         "x": [
          "1920-01-01T00:00:00"
         ],
         "xaxis": "x",
         "y": [
          "United States of America"
         ],
         "yaxis": "y"
        },
        {
         "hovertemplate": "genres=Supermarionation<br>release_date=%{x}<br>countries=%{y}<extra></extra>",
         "legendgroup": "Supermarionation",
         "marker": {
          "color": "#FECB52",
          "symbol": "circle"
         },
         "mode": "markers",
         "name": "Supermarionation",
         "orientation": "v",
         "showlegend": true,
         "type": "scatter",
         "x": [
          "1966-12-15T00:00:00"
         ],
         "xaxis": "x",
         "y": [
          "United Kingdom"
         ],
         "yaxis": "y"
        },
        {
         "hovertemplate": "genres=Supernatural<br>release_date=%{x}<br>countries=%{y}<extra></extra>",
         "legendgroup": "Supernatural",
         "marker": {
          "color": "#636efa",
          "symbol": "circle"
         },
         "mode": "markers",
         "name": "Supernatural",
         "orientation": "v",
         "showlegend": true,
         "type": "scatter",
         "x": [
          "1923-01-01T00:00:00",
          "1923-01-01T00:00:00"
         ],
         "xaxis": "x",
         "y": [
          "Denmark",
          "Sweden"
         ],
         "yaxis": "y"
        },
        {
         "hovertemplate": "genres=Surrealism<br>release_date=%{x}<br>countries=%{y}<extra></extra>",
         "legendgroup": "Surrealism",
         "marker": {
          "color": "#EF553B",
          "symbol": "circle"
         },
         "mode": "markers",
         "name": "Surrealism",
         "orientation": "v",
         "showlegend": true,
         "type": "scatter",
         "x": [
          "1908-02-01T00:00:00"
         ],
         "xaxis": "x",
         "y": [
          "United States of America"
         ],
         "yaxis": "y"
        },
        {
         "hovertemplate": "genres=Suspense<br>release_date=%{x}<br>countries=%{y}<extra></extra>",
         "legendgroup": "Suspense",
         "marker": {
          "color": "#00cc96",
          "symbol": "circle"
         },
         "mode": "markers",
         "name": "Suspense",
         "orientation": "v",
         "showlegend": true,
         "type": "scatter",
         "x": [
          "1927-02-14T00:00:00"
         ],
         "xaxis": "x",
         "y": [
          "United Kingdom"
         ],
         "yaxis": "y"
        },
        {
         "hovertemplate": "genres=Swashbuckler films<br>release_date=%{x}<br>countries=%{y}<extra></extra>",
         "legendgroup": "Swashbuckler films",
         "marker": {
          "color": "#ab63fa",
          "symbol": "circle"
         },
         "mode": "markers",
         "name": "Swashbuckler films",
         "orientation": "v",
         "showlegend": true,
         "type": "scatter",
         "x": [
          "1913-09-22T00:00:00"
         ],
         "xaxis": "x",
         "y": [
          "United States of America"
         ],
         "yaxis": "y"
        },
        {
         "hovertemplate": "genres=Sword and Sandal<br>release_date=%{x}<br>countries=%{y}<extra></extra>",
         "legendgroup": "Sword and Sandal",
         "marker": {
          "color": "#FFA15A",
          "symbol": "circle"
         },
         "mode": "markers",
         "name": "Sword and Sandal",
         "orientation": "v",
         "showlegend": true,
         "type": "scatter",
         "x": [
          "1914-04-18T00:00:00"
         ],
         "xaxis": "x",
         "y": [
          "Italy"
         ],
         "yaxis": "y"
        },
        {
         "hovertemplate": "genres=Sword and sorcery<br>release_date=%{x}<br>countries=%{y}<extra></extra>",
         "legendgroup": "Sword and sorcery",
         "marker": {
          "color": "#19d3f3",
          "symbol": "circle"
         },
         "mode": "markers",
         "name": "Sword and sorcery",
         "orientation": "v",
         "showlegend": true,
         "type": "scatter",
         "x": [
          "1924-04-26T00:00:00",
          "1924-04-26T00:00:00"
         ],
         "xaxis": "x",
         "y": [
          "Germany",
          "Germany"
         ],
         "yaxis": "y"
        },
        {
         "hovertemplate": "genres=Sword and sorcery films<br>release_date=%{x}<br>countries=%{y}<extra></extra>",
         "legendgroup": "Sword and sorcery films",
         "marker": {
          "color": "#FF6692",
          "symbol": "circle"
         },
         "mode": "markers",
         "name": "Sword and sorcery films",
         "orientation": "v",
         "showlegend": true,
         "type": "scatter",
         "x": [
          "1924-02-14T00:00:00"
         ],
         "xaxis": "x",
         "y": [
          "Germany"
         ],
         "yaxis": "y"
        },
        {
         "hovertemplate": "genres=Tamil cinema<br>release_date=%{x}<br>countries=%{y}<extra></extra>",
         "legendgroup": "Tamil cinema",
         "marker": {
          "color": "#B6E880",
          "symbol": "circle"
         },
         "mode": "markers",
         "name": "Tamil cinema",
         "orientation": "v",
         "showlegend": true,
         "type": "scatter",
         "x": [
          "1975-08-18T00:00:00"
         ],
         "xaxis": "x",
         "y": [
          "India"
         ],
         "yaxis": "y"
        },
        {
         "hovertemplate": "genres=Teen<br>release_date=%{x}<br>countries=%{y}<extra></extra>",
         "legendgroup": "Teen",
         "marker": {
          "color": "#FF97FF",
          "symbol": "circle"
         },
         "mode": "markers",
         "name": "Teen",
         "orientation": "v",
         "showlegend": true,
         "type": "scatter",
         "x": [
          "1938-01-01T00:00:00"
         ],
         "xaxis": "x",
         "y": [
          "United States of America"
         ],
         "yaxis": "y"
        },
        {
         "hovertemplate": "genres=Television movie<br>release_date=%{x}<br>countries=%{y}<extra></extra>",
         "legendgroup": "Television movie",
         "marker": {
          "color": "#FECB52",
          "symbol": "circle"
         },
         "mode": "markers",
         "name": "Television movie",
         "orientation": "v",
         "showlegend": true,
         "type": "scatter",
         "x": [
          "1925-10-15T00:00:00"
         ],
         "xaxis": "x",
         "y": [
          "United States of America"
         ],
         "yaxis": "y"
        },
        {
         "hovertemplate": "genres=The Netherlands in World War II<br>release_date=%{x}<br>countries=%{y}<extra></extra>",
         "legendgroup": "The Netherlands in World War II",
         "marker": {
          "color": "#636efa",
          "symbol": "circle"
         },
         "mode": "markers",
         "name": "The Netherlands in World War II",
         "orientation": "v",
         "showlegend": true,
         "type": "scatter",
         "x": [
          "1977-01-01T00:00:00",
          "1977-01-01T00:00:00"
         ],
         "xaxis": "x",
         "y": [
          "United States of America",
          "United Kingdom"
         ],
         "yaxis": "y"
        },
        {
         "hovertemplate": "genres=Therimin music<br>release_date=%{x}<br>countries=%{y}<extra></extra>",
         "legendgroup": "Therimin music",
         "marker": {
          "color": "#EF553B",
          "symbol": "circle"
         },
         "mode": "markers",
         "name": "Therimin music",
         "orientation": "v",
         "showlegend": true,
         "type": "scatter",
         "x": [
          "1945-10-31T00:00:00"
         ],
         "xaxis": "x",
         "y": [
          "United States of America"
         ],
         "yaxis": "y"
        },
        {
         "hovertemplate": "genres=Thriller<br>release_date=%{x}<br>countries=%{y}<extra></extra>",
         "legendgroup": "Thriller",
         "marker": {
          "color": "#00cc96",
          "symbol": "circle"
         },
         "mode": "markers",
         "name": "Thriller",
         "orientation": "v",
         "showlegend": true,
         "type": "scatter",
         "x": [
          "1911-07-14T00:00:00"
         ],
         "xaxis": "x",
         "y": [
          "United States of America"
         ],
         "yaxis": "y"
        },
        {
         "hovertemplate": "genres=Time travel<br>release_date=%{x}<br>countries=%{y}<extra></extra>",
         "legendgroup": "Time travel",
         "marker": {
          "color": "#ab63fa",
          "symbol": "circle"
         },
         "mode": "markers",
         "name": "Time travel",
         "orientation": "v",
         "showlegend": true,
         "type": "scatter",
         "x": [
          "1933-01-01T00:00:00"
         ],
         "xaxis": "x",
         "y": [
          "United States of America"
         ],
         "yaxis": "y"
        },
        {
         "hovertemplate": "genres=Tokusatsu<br>release_date=%{x}<br>countries=%{y}<extra></extra>",
         "legendgroup": "Tokusatsu",
         "marker": {
          "color": "#FFA15A",
          "symbol": "circle"
         },
         "mode": "markers",
         "name": "Tokusatsu",
         "orientation": "v",
         "showlegend": true,
         "type": "scatter",
         "x": [
          "1974-04-01T00:00:00",
          "1974-04-01T00:00:00"
         ],
         "xaxis": "x",
         "y": [
          "Thailand",
          "Japan"
         ],
         "yaxis": "y"
        },
        {
         "hovertemplate": "genres=Tollywood<br>release_date=%{x}<br>countries=%{y}<extra></extra>",
         "legendgroup": "Tollywood",
         "marker": {
          "color": "#19d3f3",
          "symbol": "circle"
         },
         "mode": "markers",
         "name": "Tollywood",
         "orientation": "v",
         "showlegend": true,
         "type": "scatter",
         "x": [
          "1953-01-01T00:00:00"
         ],
         "xaxis": "x",
         "y": [
          "India"
         ],
         "yaxis": "y"
        },
        {
         "hovertemplate": "genres=Tragedy<br>release_date=%{x}<br>countries=%{y}<extra></extra>",
         "legendgroup": "Tragedy",
         "marker": {
          "color": "#FF6692",
          "symbol": "circle"
         },
         "mode": "markers",
         "name": "Tragedy",
         "orientation": "v",
         "showlegend": true,
         "type": "scatter",
         "x": [
          "1935-02-02T00:00:00",
          "1935-02-02T00:00:00"
         ],
         "xaxis": "x",
         "y": [
          "China",
          "Taiwan"
         ],
         "yaxis": "y"
        },
        {
         "hovertemplate": "genres=Tragicomedy<br>release_date=%{x}<br>countries=%{y}<extra></extra>",
         "legendgroup": "Tragicomedy",
         "marker": {
          "color": "#B6E880",
          "symbol": "circle"
         },
         "mode": "markers",
         "name": "Tragicomedy",
         "orientation": "v",
         "showlegend": true,
         "type": "scatter",
         "x": [
          "1930-01-01T00:00:00"
         ],
         "xaxis": "x",
         "y": [
          "United Kingdom"
         ],
         "yaxis": "y"
        },
        {
         "hovertemplate": "genres=Travel<br>release_date=%{x}<br>countries=%{y}<extra></extra>",
         "legendgroup": "Travel",
         "marker": {
          "color": "#FF97FF",
          "symbol": "circle"
         },
         "mode": "markers",
         "name": "Travel",
         "orientation": "v",
         "showlegend": true,
         "type": "scatter",
         "x": [
          "1925-03-20T00:00:00"
         ],
         "xaxis": "x",
         "y": [
          "United States of America"
         ],
         "yaxis": "y"
        },
        {
         "hovertemplate": "genres=Vampire movies<br>release_date=%{x}<br>countries=%{y}<extra></extra>",
         "legendgroup": "Vampire movies",
         "marker": {
          "color": "#FECB52",
          "symbol": "circle"
         },
         "mode": "markers",
         "name": "Vampire movies",
         "orientation": "v",
         "showlegend": true,
         "type": "scatter",
         "x": [
          "2007-06-01T00:00:00"
         ],
         "xaxis": "x",
         "y": [
          "United States of America"
         ],
         "yaxis": "y"
        },
        {
         "hovertemplate": "genres=War effort<br>release_date=%{x}<br>countries=%{y}<extra></extra>",
         "legendgroup": "War effort",
         "marker": {
          "color": "#636efa",
          "symbol": "circle"
         },
         "mode": "markers",
         "name": "War effort",
         "orientation": "v",
         "showlegend": true,
         "type": "scatter",
         "x": [
          "1943-01-01T00:00:00"
         ],
         "xaxis": "x",
         "y": [
          "United States of America"
         ],
         "yaxis": "y"
        },
        {
         "hovertemplate": "genres=War film<br>release_date=%{x}<br>countries=%{y}<extra></extra>",
         "legendgroup": "War film",
         "marker": {
          "color": "#EF553B",
          "symbol": "circle"
         },
         "mode": "markers",
         "name": "War film",
         "orientation": "v",
         "showlegend": true,
         "type": "scatter",
         "x": [
          "1897-01-01T00:00:00"
         ],
         "xaxis": "x",
         "y": [
          "France"
         ],
         "yaxis": "y"
        },
        {
         "hovertemplate": "genres=Werewolf fiction<br>release_date=%{x}<br>countries=%{y}<extra></extra>",
         "legendgroup": "Werewolf fiction",
         "marker": {
          "color": "#00cc96",
          "symbol": "circle"
         },
         "mode": "markers",
         "name": "Werewolf fiction",
         "orientation": "v",
         "showlegend": true,
         "type": "scatter",
         "x": [
          "1935-05-13T00:00:00"
         ],
         "xaxis": "x",
         "y": [
          "United States of America"
         ],
         "yaxis": "y"
        },
        {
         "hovertemplate": "genres=Western<br>release_date=%{x}<br>countries=%{y}<extra></extra>",
         "legendgroup": "Western",
         "marker": {
          "color": "#ab63fa",
          "symbol": "circle"
         },
         "mode": "markers",
         "name": "Western",
         "orientation": "v",
         "showlegend": true,
         "type": "scatter",
         "x": [
          "1894-01-01T00:00:00"
         ],
         "xaxis": "x",
         "y": [
          "United States of America"
         ],
         "yaxis": "y"
        },
        {
         "hovertemplate": "genres=Whodunit<br>release_date=%{x}<br>countries=%{y}<extra></extra>",
         "legendgroup": "Whodunit",
         "marker": {
          "color": "#FFA15A",
          "symbol": "circle"
         },
         "mode": "markers",
         "name": "Whodunit",
         "orientation": "v",
         "showlegend": true,
         "type": "scatter",
         "x": [
          "1932-01-01T00:00:00"
         ],
         "xaxis": "x",
         "y": [
          "United Kingdom"
         ],
         "yaxis": "y"
        },
        {
         "hovertemplate": "genres=Women in prison films<br>release_date=%{x}<br>countries=%{y}<extra></extra>",
         "legendgroup": "Women in prison films",
         "marker": {
          "color": "#19d3f3",
          "symbol": "circle"
         },
         "mode": "markers",
         "name": "Women in prison films",
         "orientation": "v",
         "showlegend": true,
         "type": "scatter",
         "x": [
          "1933-02-04T00:00:00"
         ],
         "xaxis": "x",
         "y": [
          "United States of America"
         ],
         "yaxis": "y"
        },
        {
         "hovertemplate": "genres=Workplace Comedy<br>release_date=%{x}<br>countries=%{y}<extra></extra>",
         "legendgroup": "Workplace Comedy",
         "marker": {
          "color": "#FF6692",
          "symbol": "circle"
         },
         "mode": "markers",
         "name": "Workplace Comedy",
         "orientation": "v",
         "showlegend": true,
         "type": "scatter",
         "x": [
          "1931-01-01T00:00:00",
          "1931-01-01T00:00:00"
         ],
         "xaxis": "x",
         "y": [
          "France",
          "United States of America"
         ],
         "yaxis": "y"
        },
        {
         "hovertemplate": "genres=World History<br>release_date=%{x}<br>countries=%{y}<extra></extra>",
         "legendgroup": "World History",
         "marker": {
          "color": "#B6E880",
          "symbol": "circle"
         },
         "mode": "markers",
         "name": "World History",
         "orientation": "v",
         "showlegend": true,
         "type": "scatter",
         "x": [
          "1941-01-01T00:00:00"
         ],
         "xaxis": "x",
         "y": [
          "United Kingdom"
         ],
         "yaxis": "y"
        },
        {
         "hovertemplate": "genres=World cinema<br>release_date=%{x}<br>countries=%{y}<extra></extra>",
         "legendgroup": "World cinema",
         "marker": {
          "color": "#FF97FF",
          "symbol": "circle"
         },
         "mode": "markers",
         "name": "World cinema",
         "orientation": "v",
         "showlegend": true,
         "type": "scatter",
         "x": [
          "1913-08-22T00:00:00"
         ],
         "xaxis": "x",
         "y": [
          "Germany"
         ],
         "yaxis": "y"
        },
        {
         "hovertemplate": "genres=Wuxia<br>release_date=%{x}<br>countries=%{y}<extra></extra>",
         "legendgroup": "Wuxia",
         "marker": {
          "color": "#FECB52",
          "symbol": "circle"
         },
         "mode": "markers",
         "name": "Wuxia",
         "orientation": "v",
         "showlegend": true,
         "type": "scatter",
         "x": [
          "1930-01-01T00:00:00",
          "1930-01-01T00:00:00",
          "1930-01-01T00:00:00"
         ],
         "xaxis": "x",
         "y": [
          "China",
          "China",
          "China"
         ],
         "yaxis": "y"
        },
        {
         "hovertemplate": "genres=Z movie<br>release_date=%{x}<br>countries=%{y}<extra></extra>",
         "legendgroup": "Z movie",
         "marker": {
          "color": "#636efa",
          "symbol": "circle"
         },
         "mode": "markers",
         "name": "Z movie",
         "orientation": "v",
         "showlegend": true,
         "type": "scatter",
         "x": [
          "1959-07-22T00:00:00"
         ],
         "xaxis": "x",
         "y": [
          "United States of America"
         ],
         "yaxis": "y"
        },
        {
         "hovertemplate": "genres=Zombie Film<br>release_date=%{x}<br>countries=%{y}<extra></extra>",
         "legendgroup": "Zombie Film",
         "marker": {
          "color": "#EF553B",
          "symbol": "circle"
         },
         "mode": "markers",
         "name": "Zombie Film",
         "orientation": "v",
         "showlegend": true,
         "type": "scatter",
         "x": [
          "1919-04-25T00:00:00"
         ],
         "xaxis": "x",
         "y": [
          "France"
         ],
         "yaxis": "y"
        }
       ],
       "layout": {
        "legend": {
         "title": {
          "text": "genres"
         },
         "tracegroupgap": 0
        },
        "margin": {
         "t": 60
        },
        "template": {
         "data": {
          "bar": [
           {
            "error_x": {
             "color": "#2a3f5f"
            },
            "error_y": {
             "color": "#2a3f5f"
            },
            "marker": {
             "line": {
              "color": "#E5ECF6",
              "width": 0.5
             },
             "pattern": {
              "fillmode": "overlay",
              "size": 10,
              "solidity": 0.2
             }
            },
            "type": "bar"
           }
          ],
          "barpolar": [
           {
            "marker": {
             "line": {
              "color": "#E5ECF6",
              "width": 0.5
             },
             "pattern": {
              "fillmode": "overlay",
              "size": 10,
              "solidity": 0.2
             }
            },
            "type": "barpolar"
           }
          ],
          "carpet": [
           {
            "aaxis": {
             "endlinecolor": "#2a3f5f",
             "gridcolor": "white",
             "linecolor": "white",
             "minorgridcolor": "white",
             "startlinecolor": "#2a3f5f"
            },
            "baxis": {
             "endlinecolor": "#2a3f5f",
             "gridcolor": "white",
             "linecolor": "white",
             "minorgridcolor": "white",
             "startlinecolor": "#2a3f5f"
            },
            "type": "carpet"
           }
          ],
          "choropleth": [
           {
            "colorbar": {
             "outlinewidth": 0,
             "ticks": ""
            },
            "type": "choropleth"
           }
          ],
          "contour": [
           {
            "colorbar": {
             "outlinewidth": 0,
             "ticks": ""
            },
            "colorscale": [
             [
              0,
              "#0d0887"
             ],
             [
              0.1111111111111111,
              "#46039f"
             ],
             [
              0.2222222222222222,
              "#7201a8"
             ],
             [
              0.3333333333333333,
              "#9c179e"
             ],
             [
              0.4444444444444444,
              "#bd3786"
             ],
             [
              0.5555555555555556,
              "#d8576b"
             ],
             [
              0.6666666666666666,
              "#ed7953"
             ],
             [
              0.7777777777777778,
              "#fb9f3a"
             ],
             [
              0.8888888888888888,
              "#fdca26"
             ],
             [
              1,
              "#f0f921"
             ]
            ],
            "type": "contour"
           }
          ],
          "contourcarpet": [
           {
            "colorbar": {
             "outlinewidth": 0,
             "ticks": ""
            },
            "type": "contourcarpet"
           }
          ],
          "heatmap": [
           {
            "colorbar": {
             "outlinewidth": 0,
             "ticks": ""
            },
            "colorscale": [
             [
              0,
              "#0d0887"
             ],
             [
              0.1111111111111111,
              "#46039f"
             ],
             [
              0.2222222222222222,
              "#7201a8"
             ],
             [
              0.3333333333333333,
              "#9c179e"
             ],
             [
              0.4444444444444444,
              "#bd3786"
             ],
             [
              0.5555555555555556,
              "#d8576b"
             ],
             [
              0.6666666666666666,
              "#ed7953"
             ],
             [
              0.7777777777777778,
              "#fb9f3a"
             ],
             [
              0.8888888888888888,
              "#fdca26"
             ],
             [
              1,
              "#f0f921"
             ]
            ],
            "type": "heatmap"
           }
          ],
          "heatmapgl": [
           {
            "colorbar": {
             "outlinewidth": 0,
             "ticks": ""
            },
            "colorscale": [
             [
              0,
              "#0d0887"
             ],
             [
              0.1111111111111111,
              "#46039f"
             ],
             [
              0.2222222222222222,
              "#7201a8"
             ],
             [
              0.3333333333333333,
              "#9c179e"
             ],
             [
              0.4444444444444444,
              "#bd3786"
             ],
             [
              0.5555555555555556,
              "#d8576b"
             ],
             [
              0.6666666666666666,
              "#ed7953"
             ],
             [
              0.7777777777777778,
              "#fb9f3a"
             ],
             [
              0.8888888888888888,
              "#fdca26"
             ],
             [
              1,
              "#f0f921"
             ]
            ],
            "type": "heatmapgl"
           }
          ],
          "histogram": [
           {
            "marker": {
             "pattern": {
              "fillmode": "overlay",
              "size": 10,
              "solidity": 0.2
             }
            },
            "type": "histogram"
           }
          ],
          "histogram2d": [
           {
            "colorbar": {
             "outlinewidth": 0,
             "ticks": ""
            },
            "colorscale": [
             [
              0,
              "#0d0887"
             ],
             [
              0.1111111111111111,
              "#46039f"
             ],
             [
              0.2222222222222222,
              "#7201a8"
             ],
             [
              0.3333333333333333,
              "#9c179e"
             ],
             [
              0.4444444444444444,
              "#bd3786"
             ],
             [
              0.5555555555555556,
              "#d8576b"
             ],
             [
              0.6666666666666666,
              "#ed7953"
             ],
             [
              0.7777777777777778,
              "#fb9f3a"
             ],
             [
              0.8888888888888888,
              "#fdca26"
             ],
             [
              1,
              "#f0f921"
             ]
            ],
            "type": "histogram2d"
           }
          ],
          "histogram2dcontour": [
           {
            "colorbar": {
             "outlinewidth": 0,
             "ticks": ""
            },
            "colorscale": [
             [
              0,
              "#0d0887"
             ],
             [
              0.1111111111111111,
              "#46039f"
             ],
             [
              0.2222222222222222,
              "#7201a8"
             ],
             [
              0.3333333333333333,
              "#9c179e"
             ],
             [
              0.4444444444444444,
              "#bd3786"
             ],
             [
              0.5555555555555556,
              "#d8576b"
             ],
             [
              0.6666666666666666,
              "#ed7953"
             ],
             [
              0.7777777777777778,
              "#fb9f3a"
             ],
             [
              0.8888888888888888,
              "#fdca26"
             ],
             [
              1,
              "#f0f921"
             ]
            ],
            "type": "histogram2dcontour"
           }
          ],
          "mesh3d": [
           {
            "colorbar": {
             "outlinewidth": 0,
             "ticks": ""
            },
            "type": "mesh3d"
           }
          ],
          "parcoords": [
           {
            "line": {
             "colorbar": {
              "outlinewidth": 0,
              "ticks": ""
             }
            },
            "type": "parcoords"
           }
          ],
          "pie": [
           {
            "automargin": true,
            "type": "pie"
           }
          ],
          "scatter": [
           {
            "fillpattern": {
             "fillmode": "overlay",
             "size": 10,
             "solidity": 0.2
            },
            "type": "scatter"
           }
          ],
          "scatter3d": [
           {
            "line": {
             "colorbar": {
              "outlinewidth": 0,
              "ticks": ""
             }
            },
            "marker": {
             "colorbar": {
              "outlinewidth": 0,
              "ticks": ""
             }
            },
            "type": "scatter3d"
           }
          ],
          "scattercarpet": [
           {
            "marker": {
             "colorbar": {
              "outlinewidth": 0,
              "ticks": ""
             }
            },
            "type": "scattercarpet"
           }
          ],
          "scattergeo": [
           {
            "marker": {
             "colorbar": {
              "outlinewidth": 0,
              "ticks": ""
             }
            },
            "type": "scattergeo"
           }
          ],
          "scattergl": [
           {
            "marker": {
             "colorbar": {
              "outlinewidth": 0,
              "ticks": ""
             }
            },
            "type": "scattergl"
           }
          ],
          "scattermapbox": [
           {
            "marker": {
             "colorbar": {
              "outlinewidth": 0,
              "ticks": ""
             }
            },
            "type": "scattermapbox"
           }
          ],
          "scatterpolar": [
           {
            "marker": {
             "colorbar": {
              "outlinewidth": 0,
              "ticks": ""
             }
            },
            "type": "scatterpolar"
           }
          ],
          "scatterpolargl": [
           {
            "marker": {
             "colorbar": {
              "outlinewidth": 0,
              "ticks": ""
             }
            },
            "type": "scatterpolargl"
           }
          ],
          "scatterternary": [
           {
            "marker": {
             "colorbar": {
              "outlinewidth": 0,
              "ticks": ""
             }
            },
            "type": "scatterternary"
           }
          ],
          "surface": [
           {
            "colorbar": {
             "outlinewidth": 0,
             "ticks": ""
            },
            "colorscale": [
             [
              0,
              "#0d0887"
             ],
             [
              0.1111111111111111,
              "#46039f"
             ],
             [
              0.2222222222222222,
              "#7201a8"
             ],
             [
              0.3333333333333333,
              "#9c179e"
             ],
             [
              0.4444444444444444,
              "#bd3786"
             ],
             [
              0.5555555555555556,
              "#d8576b"
             ],
             [
              0.6666666666666666,
              "#ed7953"
             ],
             [
              0.7777777777777778,
              "#fb9f3a"
             ],
             [
              0.8888888888888888,
              "#fdca26"
             ],
             [
              1,
              "#f0f921"
             ]
            ],
            "type": "surface"
           }
          ],
          "table": [
           {
            "cells": {
             "fill": {
              "color": "#EBF0F8"
             },
             "line": {
              "color": "white"
             }
            },
            "header": {
             "fill": {
              "color": "#C8D4E3"
             },
             "line": {
              "color": "white"
             }
            },
            "type": "table"
           }
          ]
         },
         "layout": {
          "annotationdefaults": {
           "arrowcolor": "#2a3f5f",
           "arrowhead": 0,
           "arrowwidth": 1
          },
          "autotypenumbers": "strict",
          "coloraxis": {
           "colorbar": {
            "outlinewidth": 0,
            "ticks": ""
           }
          },
          "colorscale": {
           "diverging": [
            [
             0,
             "#8e0152"
            ],
            [
             0.1,
             "#c51b7d"
            ],
            [
             0.2,
             "#de77ae"
            ],
            [
             0.3,
             "#f1b6da"
            ],
            [
             0.4,
             "#fde0ef"
            ],
            [
             0.5,
             "#f7f7f7"
            ],
            [
             0.6,
             "#e6f5d0"
            ],
            [
             0.7,
             "#b8e186"
            ],
            [
             0.8,
             "#7fbc41"
            ],
            [
             0.9,
             "#4d9221"
            ],
            [
             1,
             "#276419"
            ]
           ],
           "sequential": [
            [
             0,
             "#0d0887"
            ],
            [
             0.1111111111111111,
             "#46039f"
            ],
            [
             0.2222222222222222,
             "#7201a8"
            ],
            [
             0.3333333333333333,
             "#9c179e"
            ],
            [
             0.4444444444444444,
             "#bd3786"
            ],
            [
             0.5555555555555556,
             "#d8576b"
            ],
            [
             0.6666666666666666,
             "#ed7953"
            ],
            [
             0.7777777777777778,
             "#fb9f3a"
            ],
            [
             0.8888888888888888,
             "#fdca26"
            ],
            [
             1,
             "#f0f921"
            ]
           ],
           "sequentialminus": [
            [
             0,
             "#0d0887"
            ],
            [
             0.1111111111111111,
             "#46039f"
            ],
            [
             0.2222222222222222,
             "#7201a8"
            ],
            [
             0.3333333333333333,
             "#9c179e"
            ],
            [
             0.4444444444444444,
             "#bd3786"
            ],
            [
             0.5555555555555556,
             "#d8576b"
            ],
            [
             0.6666666666666666,
             "#ed7953"
            ],
            [
             0.7777777777777778,
             "#fb9f3a"
            ],
            [
             0.8888888888888888,
             "#fdca26"
            ],
            [
             1,
             "#f0f921"
            ]
           ]
          },
          "colorway": [
           "#636efa",
           "#EF553B",
           "#00cc96",
           "#ab63fa",
           "#FFA15A",
           "#19d3f3",
           "#FF6692",
           "#B6E880",
           "#FF97FF",
           "#FECB52"
          ],
          "font": {
           "color": "#2a3f5f"
          },
          "geo": {
           "bgcolor": "white",
           "lakecolor": "white",
           "landcolor": "#E5ECF6",
           "showlakes": true,
           "showland": true,
           "subunitcolor": "white"
          },
          "hoverlabel": {
           "align": "left"
          },
          "hovermode": "closest",
          "mapbox": {
           "style": "light"
          },
          "paper_bgcolor": "white",
          "plot_bgcolor": "#E5ECF6",
          "polar": {
           "angularaxis": {
            "gridcolor": "white",
            "linecolor": "white",
            "ticks": ""
           },
           "bgcolor": "#E5ECF6",
           "radialaxis": {
            "gridcolor": "white",
            "linecolor": "white",
            "ticks": ""
           }
          },
          "scene": {
           "xaxis": {
            "backgroundcolor": "#E5ECF6",
            "gridcolor": "white",
            "gridwidth": 2,
            "linecolor": "white",
            "showbackground": true,
            "ticks": "",
            "zerolinecolor": "white"
           },
           "yaxis": {
            "backgroundcolor": "#E5ECF6",
            "gridcolor": "white",
            "gridwidth": 2,
            "linecolor": "white",
            "showbackground": true,
            "ticks": "",
            "zerolinecolor": "white"
           },
           "zaxis": {
            "backgroundcolor": "#E5ECF6",
            "gridcolor": "white",
            "gridwidth": 2,
            "linecolor": "white",
            "showbackground": true,
            "ticks": "",
            "zerolinecolor": "white"
           }
          },
          "shapedefaults": {
           "line": {
            "color": "#2a3f5f"
           }
          },
          "ternary": {
           "aaxis": {
            "gridcolor": "white",
            "linecolor": "white",
            "ticks": ""
           },
           "baxis": {
            "gridcolor": "white",
            "linecolor": "white",
            "ticks": ""
           },
           "bgcolor": "#E5ECF6",
           "caxis": {
            "gridcolor": "white",
            "linecolor": "white",
            "ticks": ""
           }
          },
          "title": {
           "x": 0.05
          },
          "xaxis": {
           "automargin": true,
           "gridcolor": "white",
           "linecolor": "white",
           "ticks": "",
           "title": {
            "standoff": 15
           },
           "zerolinecolor": "white",
           "zerolinewidth": 2
          },
          "yaxis": {
           "automargin": true,
           "gridcolor": "white",
           "linecolor": "white",
           "ticks": "",
           "title": {
            "standoff": 15
           },
           "zerolinecolor": "white",
           "zerolinewidth": 2
          }
         }
        },
        "title": {
         "text": "Timeline of apparition of genres"
        },
        "xaxis": {
         "anchor": "y",
         "domain": [
          0,
          1
         ],
         "title": {
          "text": "release_date"
         }
        },
        "yaxis": {
         "anchor": "x",
         "automargin": true,
         "categoryorder": "total ascending",
         "domain": [
          0,
          1
         ],
         "tickmode": "array",
         "tickvals": [
          "United States of America",
          "Germany",
          "France",
          "Japan",
          "India",
          "Australia",
          "United Kingdom",
          "China",
          "Romania",
          "Hungary",
          "New Zealand",
          "Italy",
          "Czechia",
          "Philippines",
          "Russia",
          "Switzerland",
          "Denmark",
          "Argentina",
          "Belgium",
          "Israel",
          "Canada",
          "Poland",
          "Sweden",
          "Thailand",
          "Taiwan"
         ],
         "title": {
          "text": "Countries"
         }
        }
       }
      }
     },
     "metadata": {},
     "output_type": "display_data"
    }
   ],
   "source": [
    "# Timeline of apparition of genres\n",
    "first_year_genre = df_genres_countries_exploded.groupby('genres')['release_date'].min().reset_index()\n",
    "first_year_genre = first_year_genre.merge(df_genres_countries_exploded[['genres','countries','release_date']], on=['genres','release_date'], how='left')\n",
    "\n",
    "# Plot a 2D graph with x=year, y=country, color=genre\n",
    "fig = px.scatter(first_year_genre, x='release_date', y='countries', color='genres')\n",
    "fig.update_layout(\n",
    "    title='Timeline of apparition of genres',\n",
    "    yaxis=dict(\n",
    "        title='Countries',\n",
    "        categoryorder='total ascending',  \n",
    "        tickmode='array',\n",
    "        tickvals=first_year_genre['countries'].unique(),\n",
    "        automargin=True\n",
    "    )\n",
    ")\n",
    "fig.show()"
   ]
  },
  {
   "cell_type": "code",
   "execution_count": 59,
   "metadata": {},
   "outputs": [
    {
     "data": {
      "application/vnd.plotly.v1+json": {
       "config": {
        "plotlyServerURL": "https://plot.ly"
       },
       "data": [
        {
         "alignmentgroup": "True",
         "bingroup": "x",
         "histfunc": "sum",
         "hovertemplate": "countries=%{x}<br>sum of genre_count=%{y}<extra></extra>",
         "legendgroup": "",
         "marker": {
          "color": "#636efa",
          "pattern": {
           "shape": ""
          }
         },
         "name": "",
         "offsetgroup": "",
         "orientation": "v",
         "showlegend": false,
         "type": "histogram",
         "x": [
          "Argentina",
          "Australia",
          "Belgium",
          "Canada",
          "China",
          "Czechia",
          "Denmark",
          "France",
          "Germany",
          "Hungary",
          "India",
          "Israel",
          "Italy",
          "Japan",
          "New Zealand",
          "Philippines",
          "Poland",
          "Romania",
          "Russia",
          "Sweden",
          "Switzerland",
          "Taiwan",
          "Thailand",
          "United Kingdom",
          "United States of America"
         ],
         "xaxis": "x",
         "y": [
          2,
          1,
          1,
          2,
          5,
          1,
          3,
          32,
          26,
          1,
          7,
          1,
          9,
          11,
          2,
          2,
          1,
          1,
          1,
          1,
          2,
          1,
          1,
          39,
          248
         ],
         "yaxis": "y"
        }
       ],
       "layout": {
        "barmode": "relative",
        "legend": {
         "tracegroupgap": 0
        },
        "margin": {
         "t": 60
        },
        "template": {
         "data": {
          "bar": [
           {
            "error_x": {
             "color": "#2a3f5f"
            },
            "error_y": {
             "color": "#2a3f5f"
            },
            "marker": {
             "line": {
              "color": "#E5ECF6",
              "width": 0.5
             },
             "pattern": {
              "fillmode": "overlay",
              "size": 10,
              "solidity": 0.2
             }
            },
            "type": "bar"
           }
          ],
          "barpolar": [
           {
            "marker": {
             "line": {
              "color": "#E5ECF6",
              "width": 0.5
             },
             "pattern": {
              "fillmode": "overlay",
              "size": 10,
              "solidity": 0.2
             }
            },
            "type": "barpolar"
           }
          ],
          "carpet": [
           {
            "aaxis": {
             "endlinecolor": "#2a3f5f",
             "gridcolor": "white",
             "linecolor": "white",
             "minorgridcolor": "white",
             "startlinecolor": "#2a3f5f"
            },
            "baxis": {
             "endlinecolor": "#2a3f5f",
             "gridcolor": "white",
             "linecolor": "white",
             "minorgridcolor": "white",
             "startlinecolor": "#2a3f5f"
            },
            "type": "carpet"
           }
          ],
          "choropleth": [
           {
            "colorbar": {
             "outlinewidth": 0,
             "ticks": ""
            },
            "type": "choropleth"
           }
          ],
          "contour": [
           {
            "colorbar": {
             "outlinewidth": 0,
             "ticks": ""
            },
            "colorscale": [
             [
              0,
              "#0d0887"
             ],
             [
              0.1111111111111111,
              "#46039f"
             ],
             [
              0.2222222222222222,
              "#7201a8"
             ],
             [
              0.3333333333333333,
              "#9c179e"
             ],
             [
              0.4444444444444444,
              "#bd3786"
             ],
             [
              0.5555555555555556,
              "#d8576b"
             ],
             [
              0.6666666666666666,
              "#ed7953"
             ],
             [
              0.7777777777777778,
              "#fb9f3a"
             ],
             [
              0.8888888888888888,
              "#fdca26"
             ],
             [
              1,
              "#f0f921"
             ]
            ],
            "type": "contour"
           }
          ],
          "contourcarpet": [
           {
            "colorbar": {
             "outlinewidth": 0,
             "ticks": ""
            },
            "type": "contourcarpet"
           }
          ],
          "heatmap": [
           {
            "colorbar": {
             "outlinewidth": 0,
             "ticks": ""
            },
            "colorscale": [
             [
              0,
              "#0d0887"
             ],
             [
              0.1111111111111111,
              "#46039f"
             ],
             [
              0.2222222222222222,
              "#7201a8"
             ],
             [
              0.3333333333333333,
              "#9c179e"
             ],
             [
              0.4444444444444444,
              "#bd3786"
             ],
             [
              0.5555555555555556,
              "#d8576b"
             ],
             [
              0.6666666666666666,
              "#ed7953"
             ],
             [
              0.7777777777777778,
              "#fb9f3a"
             ],
             [
              0.8888888888888888,
              "#fdca26"
             ],
             [
              1,
              "#f0f921"
             ]
            ],
            "type": "heatmap"
           }
          ],
          "heatmapgl": [
           {
            "colorbar": {
             "outlinewidth": 0,
             "ticks": ""
            },
            "colorscale": [
             [
              0,
              "#0d0887"
             ],
             [
              0.1111111111111111,
              "#46039f"
             ],
             [
              0.2222222222222222,
              "#7201a8"
             ],
             [
              0.3333333333333333,
              "#9c179e"
             ],
             [
              0.4444444444444444,
              "#bd3786"
             ],
             [
              0.5555555555555556,
              "#d8576b"
             ],
             [
              0.6666666666666666,
              "#ed7953"
             ],
             [
              0.7777777777777778,
              "#fb9f3a"
             ],
             [
              0.8888888888888888,
              "#fdca26"
             ],
             [
              1,
              "#f0f921"
             ]
            ],
            "type": "heatmapgl"
           }
          ],
          "histogram": [
           {
            "marker": {
             "pattern": {
              "fillmode": "overlay",
              "size": 10,
              "solidity": 0.2
             }
            },
            "type": "histogram"
           }
          ],
          "histogram2d": [
           {
            "colorbar": {
             "outlinewidth": 0,
             "ticks": ""
            },
            "colorscale": [
             [
              0,
              "#0d0887"
             ],
             [
              0.1111111111111111,
              "#46039f"
             ],
             [
              0.2222222222222222,
              "#7201a8"
             ],
             [
              0.3333333333333333,
              "#9c179e"
             ],
             [
              0.4444444444444444,
              "#bd3786"
             ],
             [
              0.5555555555555556,
              "#d8576b"
             ],
             [
              0.6666666666666666,
              "#ed7953"
             ],
             [
              0.7777777777777778,
              "#fb9f3a"
             ],
             [
              0.8888888888888888,
              "#fdca26"
             ],
             [
              1,
              "#f0f921"
             ]
            ],
            "type": "histogram2d"
           }
          ],
          "histogram2dcontour": [
           {
            "colorbar": {
             "outlinewidth": 0,
             "ticks": ""
            },
            "colorscale": [
             [
              0,
              "#0d0887"
             ],
             [
              0.1111111111111111,
              "#46039f"
             ],
             [
              0.2222222222222222,
              "#7201a8"
             ],
             [
              0.3333333333333333,
              "#9c179e"
             ],
             [
              0.4444444444444444,
              "#bd3786"
             ],
             [
              0.5555555555555556,
              "#d8576b"
             ],
             [
              0.6666666666666666,
              "#ed7953"
             ],
             [
              0.7777777777777778,
              "#fb9f3a"
             ],
             [
              0.8888888888888888,
              "#fdca26"
             ],
             [
              1,
              "#f0f921"
             ]
            ],
            "type": "histogram2dcontour"
           }
          ],
          "mesh3d": [
           {
            "colorbar": {
             "outlinewidth": 0,
             "ticks": ""
            },
            "type": "mesh3d"
           }
          ],
          "parcoords": [
           {
            "line": {
             "colorbar": {
              "outlinewidth": 0,
              "ticks": ""
             }
            },
            "type": "parcoords"
           }
          ],
          "pie": [
           {
            "automargin": true,
            "type": "pie"
           }
          ],
          "scatter": [
           {
            "fillpattern": {
             "fillmode": "overlay",
             "size": 10,
             "solidity": 0.2
            },
            "type": "scatter"
           }
          ],
          "scatter3d": [
           {
            "line": {
             "colorbar": {
              "outlinewidth": 0,
              "ticks": ""
             }
            },
            "marker": {
             "colorbar": {
              "outlinewidth": 0,
              "ticks": ""
             }
            },
            "type": "scatter3d"
           }
          ],
          "scattercarpet": [
           {
            "marker": {
             "colorbar": {
              "outlinewidth": 0,
              "ticks": ""
             }
            },
            "type": "scattercarpet"
           }
          ],
          "scattergeo": [
           {
            "marker": {
             "colorbar": {
              "outlinewidth": 0,
              "ticks": ""
             }
            },
            "type": "scattergeo"
           }
          ],
          "scattergl": [
           {
            "marker": {
             "colorbar": {
              "outlinewidth": 0,
              "ticks": ""
             }
            },
            "type": "scattergl"
           }
          ],
          "scattermapbox": [
           {
            "marker": {
             "colorbar": {
              "outlinewidth": 0,
              "ticks": ""
             }
            },
            "type": "scattermapbox"
           }
          ],
          "scatterpolar": [
           {
            "marker": {
             "colorbar": {
              "outlinewidth": 0,
              "ticks": ""
             }
            },
            "type": "scatterpolar"
           }
          ],
          "scatterpolargl": [
           {
            "marker": {
             "colorbar": {
              "outlinewidth": 0,
              "ticks": ""
             }
            },
            "type": "scatterpolargl"
           }
          ],
          "scatterternary": [
           {
            "marker": {
             "colorbar": {
              "outlinewidth": 0,
              "ticks": ""
             }
            },
            "type": "scatterternary"
           }
          ],
          "surface": [
           {
            "colorbar": {
             "outlinewidth": 0,
             "ticks": ""
            },
            "colorscale": [
             [
              0,
              "#0d0887"
             ],
             [
              0.1111111111111111,
              "#46039f"
             ],
             [
              0.2222222222222222,
              "#7201a8"
             ],
             [
              0.3333333333333333,
              "#9c179e"
             ],
             [
              0.4444444444444444,
              "#bd3786"
             ],
             [
              0.5555555555555556,
              "#d8576b"
             ],
             [
              0.6666666666666666,
              "#ed7953"
             ],
             [
              0.7777777777777778,
              "#fb9f3a"
             ],
             [
              0.8888888888888888,
              "#fdca26"
             ],
             [
              1,
              "#f0f921"
             ]
            ],
            "type": "surface"
           }
          ],
          "table": [
           {
            "cells": {
             "fill": {
              "color": "#EBF0F8"
             },
             "line": {
              "color": "white"
             }
            },
            "header": {
             "fill": {
              "color": "#C8D4E3"
             },
             "line": {
              "color": "white"
             }
            },
            "type": "table"
           }
          ]
         },
         "layout": {
          "annotationdefaults": {
           "arrowcolor": "#2a3f5f",
           "arrowhead": 0,
           "arrowwidth": 1
          },
          "autotypenumbers": "strict",
          "coloraxis": {
           "colorbar": {
            "outlinewidth": 0,
            "ticks": ""
           }
          },
          "colorscale": {
           "diverging": [
            [
             0,
             "#8e0152"
            ],
            [
             0.1,
             "#c51b7d"
            ],
            [
             0.2,
             "#de77ae"
            ],
            [
             0.3,
             "#f1b6da"
            ],
            [
             0.4,
             "#fde0ef"
            ],
            [
             0.5,
             "#f7f7f7"
            ],
            [
             0.6,
             "#e6f5d0"
            ],
            [
             0.7,
             "#b8e186"
            ],
            [
             0.8,
             "#7fbc41"
            ],
            [
             0.9,
             "#4d9221"
            ],
            [
             1,
             "#276419"
            ]
           ],
           "sequential": [
            [
             0,
             "#0d0887"
            ],
            [
             0.1111111111111111,
             "#46039f"
            ],
            [
             0.2222222222222222,
             "#7201a8"
            ],
            [
             0.3333333333333333,
             "#9c179e"
            ],
            [
             0.4444444444444444,
             "#bd3786"
            ],
            [
             0.5555555555555556,
             "#d8576b"
            ],
            [
             0.6666666666666666,
             "#ed7953"
            ],
            [
             0.7777777777777778,
             "#fb9f3a"
            ],
            [
             0.8888888888888888,
             "#fdca26"
            ],
            [
             1,
             "#f0f921"
            ]
           ],
           "sequentialminus": [
            [
             0,
             "#0d0887"
            ],
            [
             0.1111111111111111,
             "#46039f"
            ],
            [
             0.2222222222222222,
             "#7201a8"
            ],
            [
             0.3333333333333333,
             "#9c179e"
            ],
            [
             0.4444444444444444,
             "#bd3786"
            ],
            [
             0.5555555555555556,
             "#d8576b"
            ],
            [
             0.6666666666666666,
             "#ed7953"
            ],
            [
             0.7777777777777778,
             "#fb9f3a"
            ],
            [
             0.8888888888888888,
             "#fdca26"
            ],
            [
             1,
             "#f0f921"
            ]
           ]
          },
          "colorway": [
           "#636efa",
           "#EF553B",
           "#00cc96",
           "#ab63fa",
           "#FFA15A",
           "#19d3f3",
           "#FF6692",
           "#B6E880",
           "#FF97FF",
           "#FECB52"
          ],
          "font": {
           "color": "#2a3f5f"
          },
          "geo": {
           "bgcolor": "white",
           "lakecolor": "white",
           "landcolor": "#E5ECF6",
           "showlakes": true,
           "showland": true,
           "subunitcolor": "white"
          },
          "hoverlabel": {
           "align": "left"
          },
          "hovermode": "closest",
          "mapbox": {
           "style": "light"
          },
          "paper_bgcolor": "white",
          "plot_bgcolor": "#E5ECF6",
          "polar": {
           "angularaxis": {
            "gridcolor": "white",
            "linecolor": "white",
            "ticks": ""
           },
           "bgcolor": "#E5ECF6",
           "radialaxis": {
            "gridcolor": "white",
            "linecolor": "white",
            "ticks": ""
           }
          },
          "scene": {
           "xaxis": {
            "backgroundcolor": "#E5ECF6",
            "gridcolor": "white",
            "gridwidth": 2,
            "linecolor": "white",
            "showbackground": true,
            "ticks": "",
            "zerolinecolor": "white"
           },
           "yaxis": {
            "backgroundcolor": "#E5ECF6",
            "gridcolor": "white",
            "gridwidth": 2,
            "linecolor": "white",
            "showbackground": true,
            "ticks": "",
            "zerolinecolor": "white"
           },
           "zaxis": {
            "backgroundcolor": "#E5ECF6",
            "gridcolor": "white",
            "gridwidth": 2,
            "linecolor": "white",
            "showbackground": true,
            "ticks": "",
            "zerolinecolor": "white"
           }
          },
          "shapedefaults": {
           "line": {
            "color": "#2a3f5f"
           }
          },
          "ternary": {
           "aaxis": {
            "gridcolor": "white",
            "linecolor": "white",
            "ticks": ""
           },
           "baxis": {
            "gridcolor": "white",
            "linecolor": "white",
            "ticks": ""
           },
           "bgcolor": "#E5ECF6",
           "caxis": {
            "gridcolor": "white",
            "linecolor": "white",
            "ticks": ""
           }
          },
          "title": {
           "x": 0.05
          },
          "xaxis": {
           "automargin": true,
           "gridcolor": "white",
           "linecolor": "white",
           "ticks": "",
           "title": {
            "standoff": 15
           },
           "zerolinecolor": "white",
           "zerolinewidth": 2
          },
          "yaxis": {
           "automargin": true,
           "gridcolor": "white",
           "linecolor": "white",
           "ticks": "",
           "title": {
            "standoff": 15
           },
           "zerolinecolor": "white",
           "zerolinewidth": 2
          }
         }
        },
        "title": {
         "text": "Number of genres first apparition per country"
        },
        "xaxis": {
         "anchor": "y",
         "automargin": true,
         "categoryorder": "total descending",
         "domain": [
          0,
          1
         ],
         "tickmode": "array",
         "tickvals": [
          "Argentina",
          "Australia",
          "Belgium",
          "Canada",
          "China",
          "Czechia",
          "Denmark",
          "France",
          "Germany",
          "Hungary",
          "India",
          "Israel",
          "Italy",
          "Japan",
          "New Zealand",
          "Philippines",
          "Poland",
          "Romania",
          "Russia",
          "Sweden",
          "Switzerland",
          "Taiwan",
          "Thailand",
          "United Kingdom",
          "United States of America"
         ],
         "title": {
          "text": "Countries"
         }
        },
        "yaxis": {
         "anchor": "x",
         "domain": [
          0,
          1
         ],
         "title": {
          "text": "Number of genres"
         }
        }
       }
      }
     },
     "metadata": {},
     "output_type": "display_data"
    }
   ],
   "source": [
    "# Count the number of unique genres per country\n",
    "genre_count_by_country = (\n",
    "    first_year_genre.groupby('countries')['genres']\n",
    "    .nunique()\n",
    "    .reset_index()\n",
    "    .rename(columns={'genres': 'genre_count'})\n",
    ")\n",
    "\n",
    "# Histogram of number of genres (y axis) per country (x axis)\n",
    "fig = px.histogram(genre_count_by_country, x='countries', y='genre_count')\n",
    "fig.update_layout(\n",
    "    title='Number of genres first apparition per country',\n",
    "    xaxis=dict(\n",
    "        title='Countries',\n",
    "        categoryorder='total descending',  \n",
    "        tickmode='array',\n",
    "        tickvals=genre_count_by_country['countries'].unique(),\n",
    "        automargin=True\n",
    "    ),\n",
    "    yaxis=dict(\n",
    "        title='Number of genres'\n",
    "    )\n",
    ")\n",
    "fig.show()\n"
   ]
  },
  {
   "cell_type": "markdown",
   "metadata": {},
   "source": [
    "In the previous scatterplot, we observe that the United States, France, Germany and the United Kingdom are the countries where most of the cinematographic genres appeared."
   ]
  },
  {
   "cell_type": "code",
   "execution_count": 12,
   "metadata": {},
   "outputs": [],
   "source": [
    "df1 = df_genres_countries_exploded.groupby(['region','year','genres']).size().reset_index(name='count')\n",
    "df2 = df_genres_countries_exploded.groupby(['countries','year','genres']).size().reset_index(name='count')\n",
    "\n",
    "# Save data\n",
    "df1.to_csv('../../data/cultureData/df1.csv', index=False)\n",
    "df2.to_csv('../../data/cultureData/df2.csv', index=False)"
   ]
  },
  {
   "cell_type": "markdown",
   "metadata": {},
   "source": [
    "### 1. Analysis per world region"
   ]
  },
  {
   "cell_type": "code",
   "execution_count": 3,
   "metadata": {},
   "outputs": [
    {
     "data": {
      "text/html": [
       "<div>\n",
       "<style scoped>\n",
       "    .dataframe tbody tr th:only-of-type {\n",
       "        vertical-align: middle;\n",
       "    }\n",
       "\n",
       "    .dataframe tbody tr th {\n",
       "        vertical-align: top;\n",
       "    }\n",
       "\n",
       "    .dataframe thead th {\n",
       "        text-align: right;\n",
       "    }\n",
       "</style>\n",
       "<table border=\"1\" class=\"dataframe\">\n",
       "  <thead>\n",
       "    <tr style=\"text-align: right;\">\n",
       "      <th></th>\n",
       "      <th>region</th>\n",
       "      <th>year</th>\n",
       "      <th>genres</th>\n",
       "      <th>count</th>\n",
       "    </tr>\n",
       "  </thead>\n",
       "  <tbody>\n",
       "    <tr>\n",
       "      <th>0</th>\n",
       "      <td>Africa</td>\n",
       "      <td>1916</td>\n",
       "      <td>Drama</td>\n",
       "      <td>1</td>\n",
       "    </tr>\n",
       "    <tr>\n",
       "      <th>1</th>\n",
       "      <td>Africa</td>\n",
       "      <td>1916</td>\n",
       "      <td>Historical fiction</td>\n",
       "      <td>1</td>\n",
       "    </tr>\n",
       "  </tbody>\n",
       "</table>\n",
       "</div>"
      ],
      "text/plain": [
       "   region  year              genres  count\n",
       "0  Africa  1916               Drama      1\n",
       "1  Africa  1916  Historical fiction      1"
      ]
     },
     "execution_count": 3,
     "metadata": {},
     "output_type": "execute_result"
    }
   ],
   "source": [
    "df = pd.read_csv('../../data/cultureData/df1.csv')\n",
    "df.head(2)"
   ]
  },
  {
   "cell_type": "code",
   "execution_count": 4,
   "metadata": {},
   "outputs": [
    {
     "data": {
      "text/html": [
       "\n",
       "        <iframe\n",
       "            width=\"100%\"\n",
       "            height=\"650\"\n",
       "            src=\"http://127.0.0.1:8050/\"\n",
       "            frameborder=\"0\"\n",
       "            allowfullscreen\n",
       "            \n",
       "        ></iframe>\n",
       "        "
      ],
      "text/plain": [
       "<IPython.lib.display.IFrame at 0x278c713be50>"
      ]
     },
     "metadata": {},
     "output_type": "display_data"
    }
   ],
   "source": [
    "# Create the app\n",
    "app1 = Dash(__name__)\n",
    "\n",
    "app1.layout = html.Div([\n",
    "    html.H1(\"Genre Evolution Over Time by Region\"),\n",
    "    html.Label(\"Select Regions:\"),\n",
    "    dcc.Dropdown(\n",
    "        id='regions-multi-dropdown',\n",
    "        options=[{'label': region, 'value': region} for region in df['region'].unique()],\n",
    "        value=[df['region'].unique()[0]],\n",
    "        multi=True\n",
    "    ),\n",
    "    html.Label(\"Select Genres:\"),\n",
    "    dcc.Dropdown(\n",
    "        id='genres-multi-dropdown',\n",
    "        options=[{'label': genre, 'value': genre} for genre in df['genres'].unique()],\n",
    "        value=[df['genres'].unique()[0]],\n",
    "        multi=True\n",
    "    ),\n",
    "    html.Div(id='multi-trends-container')  # Container for the charts\n",
    "])\n",
    "\n",
    "# Callback to update the charts\n",
    "@app1.callback(\n",
    "    Output('multi-trends-container', 'children'),\n",
    "    [Input('regions-multi-dropdown', 'value'),\n",
    "     Input('genres-multi-dropdown', 'value')]\n",
    ")\n",
    "def update_multi_trends(selected_regions, selected_genres):\n",
    "    # Filter data\n",
    "    filtered_df = df[(df['region'].isin(selected_regions)) & (df['genres'].isin(selected_genres))]\n",
    "    trends = filtered_df.groupby(['year', 'genres', 'region'])['count'].sum().reset_index()\n",
    "    \n",
    "    # Generate charts for each genre\n",
    "    graphs = []\n",
    "    for genre in selected_genres:\n",
    "        genre_data = trends[trends['genres'] == genre]\n",
    "        fig = px.line(\n",
    "            genre_data, \n",
    "            x='year', \n",
    "            y='count', \n",
    "            color='region',\n",
    "            title=f\"Trends for Genre: {genre}\",\n",
    "            labels={'count': 'Number of Films', 'year': 'Year'}\n",
    "        )\n",
    "        graphs.append(dcc.Graph(figure=fig))\n",
    "    \n",
    "    # Organize the charts: 2 per row\n",
    "    rows = []\n",
    "    for i in range(0, len(graphs), 2):\n",
    "        row = html.Div(graphs[i:i + 2], style={'display': 'flex', 'justify-content': 'space-between'})\n",
    "        rows.append(row)\n",
    "    \n",
    "    return rows\n",
    "\n",
    "app1.run(port=8050)"
   ]
  },
  {
   "cell_type": "markdown",
   "metadata": {},
   "source": [
    "As we can see in the previous graphs, some regions of the world develop new genres of films that are then taken up by other regions of the world. For example, in the Drama or Comedy category, the United States are the precursors and the other regions of the world follow the trend. In order, Europe, Asia, then South America and Africa start to produce films of these genres.\n",
    "\n",
    "These first elements illustrate a form of cultural propagation throughout the world, which thus reflects the premises of globalization."
   ]
  },
  {
   "cell_type": "code",
   "execution_count": 5,
   "metadata": {},
   "outputs": [],
   "source": [
    "from plotly.subplots import make_subplots\n",
    "import plotly.graph_objects as go"
   ]
  },
  {
   "cell_type": "code",
   "execution_count": 6,
   "metadata": {},
   "outputs": [
    {
     "data": {
      "text/html": [
       "\n",
       "        <iframe\n",
       "            width=\"100%\"\n",
       "            height=\"650\"\n",
       "            src=\"http://127.0.0.1:8050/\"\n",
       "            frameborder=\"0\"\n",
       "            allowfullscreen\n",
       "            \n",
       "        ></iframe>\n",
       "        "
      ],
      "text/plain": [
       "<IPython.lib.display.IFrame at 0x278b58508b0>"
      ]
     },
     "metadata": {},
     "output_type": "display_data"
    }
   ],
   "source": [
    "# Initialize Dash app\n",
    "app2 = Dash()\n",
    "\n",
    "app2.layout = html.Div([\n",
    "    dcc.Dropdown(\n",
    "        id=\"region-selector\",\n",
    "        options=[{\"label\": c, \"value\": c} for c in df[\"region\"].unique()],\n",
    "        value=[df[\"region\"].unique()[0]],  # Default to the first region\n",
    "        multi=True  # Enable multi-selection\n",
    "    ),\n",
    "    dcc.Graph(id=\"genre-proportion\")\n",
    "])\n",
    "\n",
    "@app2.callback(\n",
    "    Output(\"genre-proportion\", \"figure\"),\n",
    "    [Input(\"region-selector\", \"value\")]\n",
    ")\n",
    "\n",
    "def update_genre_proportion(selected_regions):\n",
    "    # Create a subplot layout for multiple pie charts\n",
    "    cols = len(selected_regions)  # Number of columns (based on selected regions)\n",
    "    fig = make_subplots(\n",
    "        rows=1, cols=cols,\n",
    "        subplot_titles=selected_regions,\n",
    "        specs=[[{\"type\": \"domain\"}] * cols]\n",
    "    )\n",
    "    \n",
    "    # Add a pie chart for each selected region\n",
    "    for idx, region in enumerate(selected_regions):\n",
    "        region_data = df[df[\"region\"] == region]\n",
    "        top_genres = (\n",
    "            region_data.groupby(\"genres\")[\"count\"]\n",
    "            .sum()\n",
    "            .nlargest(5)\n",
    "            .reset_index()\n",
    "        )\n",
    "        fig.add_trace(\n",
    "            go.Pie(\n",
    "                labels=top_genres[\"genres\"],\n",
    "                values=top_genres[\"count\"],\n",
    "                name=region,\n",
    "                legendgroup=\"genres\"  # Group legends across all pie charts\n",
    "            ),\n",
    "            row=1, col=idx + 1\n",
    "        )\n",
    "    \n",
    "    # Update layout for shared legend\n",
    "    fig.update_layout(\n",
    "        title_text=\"Top 5 Genres for Selected Regions\",\n",
    "        title_x=0.5,  # Center the title\n",
    "        height=500,\n",
    "        legend=dict(\n",
    "            orientation=\"v\",  # Vertical legend\n",
    "            x=1.05,  # Move legend to the right\n",
    "            y=0.5,\n",
    "            yanchor=\"middle\"\n",
    "        )\n",
    "    )\n",
    "    \n",
    "    return fig\n",
    "\n",
    "app2.run_server(mode='inline')"
   ]
  },
  {
   "cell_type": "markdown",
   "metadata": {},
   "source": [
    "### 2. Analysis per country"
   ]
  },
  {
   "cell_type": "code",
   "execution_count": 85,
   "metadata": {},
   "outputs": [
    {
     "data": {
      "text/html": [
       "<div>\n",
       "<style scoped>\n",
       "    .dataframe tbody tr th:only-of-type {\n",
       "        vertical-align: middle;\n",
       "    }\n",
       "\n",
       "    .dataframe tbody tr th {\n",
       "        vertical-align: top;\n",
       "    }\n",
       "\n",
       "    .dataframe thead th {\n",
       "        text-align: right;\n",
       "    }\n",
       "</style>\n",
       "<table border=\"1\" class=\"dataframe\">\n",
       "  <thead>\n",
       "    <tr style=\"text-align: right;\">\n",
       "      <th></th>\n",
       "      <th>countries</th>\n",
       "      <th>year</th>\n",
       "      <th>genres</th>\n",
       "      <th>count</th>\n",
       "    </tr>\n",
       "  </thead>\n",
       "  <tbody>\n",
       "    <tr>\n",
       "      <th>0</th>\n",
       "      <td>Afghanistan</td>\n",
       "      <td>1975</td>\n",
       "      <td>Action/Adventure</td>\n",
       "      <td>1</td>\n",
       "    </tr>\n",
       "    <tr>\n",
       "      <th>1</th>\n",
       "      <td>Afghanistan</td>\n",
       "      <td>1975</td>\n",
       "      <td>Bollywood</td>\n",
       "      <td>1</td>\n",
       "    </tr>\n",
       "    <tr>\n",
       "      <th>2</th>\n",
       "      <td>Afghanistan</td>\n",
       "      <td>1975</td>\n",
       "      <td>Thriller</td>\n",
       "      <td>1</td>\n",
       "    </tr>\n",
       "    <tr>\n",
       "      <th>3</th>\n",
       "      <td>Afghanistan</td>\n",
       "      <td>1975</td>\n",
       "      <td>World cinema</td>\n",
       "      <td>1</td>\n",
       "    </tr>\n",
       "    <tr>\n",
       "      <th>4</th>\n",
       "      <td>Afghanistan</td>\n",
       "      <td>1992</td>\n",
       "      <td>Action/Adventure</td>\n",
       "      <td>1</td>\n",
       "    </tr>\n",
       "  </tbody>\n",
       "</table>\n",
       "</div>"
      ],
      "text/plain": [
       "     countries  year            genres  count\n",
       "0  Afghanistan  1975  Action/Adventure      1\n",
       "1  Afghanistan  1975         Bollywood      1\n",
       "2  Afghanistan  1975          Thriller      1\n",
       "3  Afghanistan  1975      World cinema      1\n",
       "4  Afghanistan  1992  Action/Adventure      1"
      ]
     },
     "execution_count": 85,
     "metadata": {},
     "output_type": "execute_result"
    }
   ],
   "source": [
    "df2 = pd.read_csv('../../data/cultureData/df2.csv')\n",
    "df2.head()"
   ]
  },
  {
   "cell_type": "code",
   "execution_count": 72,
   "metadata": {},
   "outputs": [
    {
     "name": "stderr",
     "output_type": "stream",
     "text": [
      "C:\\Users\\arnau\\AppData\\Local\\Temp\\ipykernel_34516\\2996306357.py:2: DeprecationWarning:\n",
      "\n",
      "DataFrameGroupBy.apply operated on the grouping columns. This behavior is deprecated, and in a future version of pandas the grouping columns will be excluded from the operation. Either pass `include_groups=False` to exclude the groupings or explicitly select the grouping columns after groupby to silence this warning.\n",
      "\n"
     ]
    },
    {
     "data": {
      "application/vnd.plotly.v1+json": {
       "config": {
        "plotlyServerURL": "https://plot.ly"
       },
       "data": [
        {
         "alignmentgroup": "True",
         "hovertemplate": "Genres=%{x}<br>Proportion=%{y}<extra></extra>",
         "legendgroup": "",
         "marker": {
          "color": "#636efa",
          "pattern": {
           "shape": ""
          }
         },
         "name": "",
         "offsetgroup": "",
         "orientation": "v",
         "showlegend": false,
         "textposition": "auto",
         "type": "bar",
         "x": [
          "Drama",
          "Documentary",
          "Short Film",
          "Chinese Movies",
          "Art film",
          "Comedy",
          "Japanese Movies",
          "Filipino Movies",
          "Thriller",
          "Comedy film",
          "Action"
         ],
         "xaxis": "x",
         "y": [
          0.8666666666666667,
          0.02857142857142857,
          0.01904761904761905,
          0.01904761904761905,
          0.009523809523809525,
          0.009523809523809525,
          0.009523809523809525,
          0.009523809523809525,
          0.009523809523809525,
          0.009523809523809525,
          0.009523809523809525
         ],
         "yaxis": "y"
        }
       ],
       "layout": {
        "barmode": "relative",
        "legend": {
         "tracegroupgap": 0
        },
        "template": {
         "data": {
          "bar": [
           {
            "error_x": {
             "color": "#2a3f5f"
            },
            "error_y": {
             "color": "#2a3f5f"
            },
            "marker": {
             "line": {
              "color": "#E5ECF6",
              "width": 0.5
             },
             "pattern": {
              "fillmode": "overlay",
              "size": 10,
              "solidity": 0.2
             }
            },
            "type": "bar"
           }
          ],
          "barpolar": [
           {
            "marker": {
             "line": {
              "color": "#E5ECF6",
              "width": 0.5
             },
             "pattern": {
              "fillmode": "overlay",
              "size": 10,
              "solidity": 0.2
             }
            },
            "type": "barpolar"
           }
          ],
          "carpet": [
           {
            "aaxis": {
             "endlinecolor": "#2a3f5f",
             "gridcolor": "white",
             "linecolor": "white",
             "minorgridcolor": "white",
             "startlinecolor": "#2a3f5f"
            },
            "baxis": {
             "endlinecolor": "#2a3f5f",
             "gridcolor": "white",
             "linecolor": "white",
             "minorgridcolor": "white",
             "startlinecolor": "#2a3f5f"
            },
            "type": "carpet"
           }
          ],
          "choropleth": [
           {
            "colorbar": {
             "outlinewidth": 0,
             "ticks": ""
            },
            "type": "choropleth"
           }
          ],
          "contour": [
           {
            "colorbar": {
             "outlinewidth": 0,
             "ticks": ""
            },
            "colorscale": [
             [
              0,
              "#0d0887"
             ],
             [
              0.1111111111111111,
              "#46039f"
             ],
             [
              0.2222222222222222,
              "#7201a8"
             ],
             [
              0.3333333333333333,
              "#9c179e"
             ],
             [
              0.4444444444444444,
              "#bd3786"
             ],
             [
              0.5555555555555556,
              "#d8576b"
             ],
             [
              0.6666666666666666,
              "#ed7953"
             ],
             [
              0.7777777777777778,
              "#fb9f3a"
             ],
             [
              0.8888888888888888,
              "#fdca26"
             ],
             [
              1,
              "#f0f921"
             ]
            ],
            "type": "contour"
           }
          ],
          "contourcarpet": [
           {
            "colorbar": {
             "outlinewidth": 0,
             "ticks": ""
            },
            "type": "contourcarpet"
           }
          ],
          "heatmap": [
           {
            "colorbar": {
             "outlinewidth": 0,
             "ticks": ""
            },
            "colorscale": [
             [
              0,
              "#0d0887"
             ],
             [
              0.1111111111111111,
              "#46039f"
             ],
             [
              0.2222222222222222,
              "#7201a8"
             ],
             [
              0.3333333333333333,
              "#9c179e"
             ],
             [
              0.4444444444444444,
              "#bd3786"
             ],
             [
              0.5555555555555556,
              "#d8576b"
             ],
             [
              0.6666666666666666,
              "#ed7953"
             ],
             [
              0.7777777777777778,
              "#fb9f3a"
             ],
             [
              0.8888888888888888,
              "#fdca26"
             ],
             [
              1,
              "#f0f921"
             ]
            ],
            "type": "heatmap"
           }
          ],
          "heatmapgl": [
           {
            "colorbar": {
             "outlinewidth": 0,
             "ticks": ""
            },
            "colorscale": [
             [
              0,
              "#0d0887"
             ],
             [
              0.1111111111111111,
              "#46039f"
             ],
             [
              0.2222222222222222,
              "#7201a8"
             ],
             [
              0.3333333333333333,
              "#9c179e"
             ],
             [
              0.4444444444444444,
              "#bd3786"
             ],
             [
              0.5555555555555556,
              "#d8576b"
             ],
             [
              0.6666666666666666,
              "#ed7953"
             ],
             [
              0.7777777777777778,
              "#fb9f3a"
             ],
             [
              0.8888888888888888,
              "#fdca26"
             ],
             [
              1,
              "#f0f921"
             ]
            ],
            "type": "heatmapgl"
           }
          ],
          "histogram": [
           {
            "marker": {
             "pattern": {
              "fillmode": "overlay",
              "size": 10,
              "solidity": 0.2
             }
            },
            "type": "histogram"
           }
          ],
          "histogram2d": [
           {
            "colorbar": {
             "outlinewidth": 0,
             "ticks": ""
            },
            "colorscale": [
             [
              0,
              "#0d0887"
             ],
             [
              0.1111111111111111,
              "#46039f"
             ],
             [
              0.2222222222222222,
              "#7201a8"
             ],
             [
              0.3333333333333333,
              "#9c179e"
             ],
             [
              0.4444444444444444,
              "#bd3786"
             ],
             [
              0.5555555555555556,
              "#d8576b"
             ],
             [
              0.6666666666666666,
              "#ed7953"
             ],
             [
              0.7777777777777778,
              "#fb9f3a"
             ],
             [
              0.8888888888888888,
              "#fdca26"
             ],
             [
              1,
              "#f0f921"
             ]
            ],
            "type": "histogram2d"
           }
          ],
          "histogram2dcontour": [
           {
            "colorbar": {
             "outlinewidth": 0,
             "ticks": ""
            },
            "colorscale": [
             [
              0,
              "#0d0887"
             ],
             [
              0.1111111111111111,
              "#46039f"
             ],
             [
              0.2222222222222222,
              "#7201a8"
             ],
             [
              0.3333333333333333,
              "#9c179e"
             ],
             [
              0.4444444444444444,
              "#bd3786"
             ],
             [
              0.5555555555555556,
              "#d8576b"
             ],
             [
              0.6666666666666666,
              "#ed7953"
             ],
             [
              0.7777777777777778,
              "#fb9f3a"
             ],
             [
              0.8888888888888888,
              "#fdca26"
             ],
             [
              1,
              "#f0f921"
             ]
            ],
            "type": "histogram2dcontour"
           }
          ],
          "mesh3d": [
           {
            "colorbar": {
             "outlinewidth": 0,
             "ticks": ""
            },
            "type": "mesh3d"
           }
          ],
          "parcoords": [
           {
            "line": {
             "colorbar": {
              "outlinewidth": 0,
              "ticks": ""
             }
            },
            "type": "parcoords"
           }
          ],
          "pie": [
           {
            "automargin": true,
            "type": "pie"
           }
          ],
          "scatter": [
           {
            "fillpattern": {
             "fillmode": "overlay",
             "size": 10,
             "solidity": 0.2
            },
            "type": "scatter"
           }
          ],
          "scatter3d": [
           {
            "line": {
             "colorbar": {
              "outlinewidth": 0,
              "ticks": ""
             }
            },
            "marker": {
             "colorbar": {
              "outlinewidth": 0,
              "ticks": ""
             }
            },
            "type": "scatter3d"
           }
          ],
          "scattercarpet": [
           {
            "marker": {
             "colorbar": {
              "outlinewidth": 0,
              "ticks": ""
             }
            },
            "type": "scattercarpet"
           }
          ],
          "scattergeo": [
           {
            "marker": {
             "colorbar": {
              "outlinewidth": 0,
              "ticks": ""
             }
            },
            "type": "scattergeo"
           }
          ],
          "scattergl": [
           {
            "marker": {
             "colorbar": {
              "outlinewidth": 0,
              "ticks": ""
             }
            },
            "type": "scattergl"
           }
          ],
          "scattermapbox": [
           {
            "marker": {
             "colorbar": {
              "outlinewidth": 0,
              "ticks": ""
             }
            },
            "type": "scattermapbox"
           }
          ],
          "scatterpolar": [
           {
            "marker": {
             "colorbar": {
              "outlinewidth": 0,
              "ticks": ""
             }
            },
            "type": "scatterpolar"
           }
          ],
          "scatterpolargl": [
           {
            "marker": {
             "colorbar": {
              "outlinewidth": 0,
              "ticks": ""
             }
            },
            "type": "scatterpolargl"
           }
          ],
          "scatterternary": [
           {
            "marker": {
             "colorbar": {
              "outlinewidth": 0,
              "ticks": ""
             }
            },
            "type": "scatterternary"
           }
          ],
          "surface": [
           {
            "colorbar": {
             "outlinewidth": 0,
             "ticks": ""
            },
            "colorscale": [
             [
              0,
              "#0d0887"
             ],
             [
              0.1111111111111111,
              "#46039f"
             ],
             [
              0.2222222222222222,
              "#7201a8"
             ],
             [
              0.3333333333333333,
              "#9c179e"
             ],
             [
              0.4444444444444444,
              "#bd3786"
             ],
             [
              0.5555555555555556,
              "#d8576b"
             ],
             [
              0.6666666666666666,
              "#ed7953"
             ],
             [
              0.7777777777777778,
              "#fb9f3a"
             ],
             [
              0.8888888888888888,
              "#fdca26"
             ],
             [
              1,
              "#f0f921"
             ]
            ],
            "type": "surface"
           }
          ],
          "table": [
           {
            "cells": {
             "fill": {
              "color": "#EBF0F8"
             },
             "line": {
              "color": "white"
             }
            },
            "header": {
             "fill": {
              "color": "#C8D4E3"
             },
             "line": {
              "color": "white"
             }
            },
            "type": "table"
           }
          ]
         },
         "layout": {
          "annotationdefaults": {
           "arrowcolor": "#2a3f5f",
           "arrowhead": 0,
           "arrowwidth": 1
          },
          "autotypenumbers": "strict",
          "coloraxis": {
           "colorbar": {
            "outlinewidth": 0,
            "ticks": ""
           }
          },
          "colorscale": {
           "diverging": [
            [
             0,
             "#8e0152"
            ],
            [
             0.1,
             "#c51b7d"
            ],
            [
             0.2,
             "#de77ae"
            ],
            [
             0.3,
             "#f1b6da"
            ],
            [
             0.4,
             "#fde0ef"
            ],
            [
             0.5,
             "#f7f7f7"
            ],
            [
             0.6,
             "#e6f5d0"
            ],
            [
             0.7,
             "#b8e186"
            ],
            [
             0.8,
             "#7fbc41"
            ],
            [
             0.9,
             "#4d9221"
            ],
            [
             1,
             "#276419"
            ]
           ],
           "sequential": [
            [
             0,
             "#0d0887"
            ],
            [
             0.1111111111111111,
             "#46039f"
            ],
            [
             0.2222222222222222,
             "#7201a8"
            ],
            [
             0.3333333333333333,
             "#9c179e"
            ],
            [
             0.4444444444444444,
             "#bd3786"
            ],
            [
             0.5555555555555556,
             "#d8576b"
            ],
            [
             0.6666666666666666,
             "#ed7953"
            ],
            [
             0.7777777777777778,
             "#fb9f3a"
            ],
            [
             0.8888888888888888,
             "#fdca26"
            ],
            [
             1,
             "#f0f921"
            ]
           ],
           "sequentialminus": [
            [
             0,
             "#0d0887"
            ],
            [
             0.1111111111111111,
             "#46039f"
            ],
            [
             0.2222222222222222,
             "#7201a8"
            ],
            [
             0.3333333333333333,
             "#9c179e"
            ],
            [
             0.4444444444444444,
             "#bd3786"
            ],
            [
             0.5555555555555556,
             "#d8576b"
            ],
            [
             0.6666666666666666,
             "#ed7953"
            ],
            [
             0.7777777777777778,
             "#fb9f3a"
            ],
            [
             0.8888888888888888,
             "#fdca26"
            ],
            [
             1,
             "#f0f921"
            ]
           ]
          },
          "colorway": [
           "#636efa",
           "#EF553B",
           "#00cc96",
           "#ab63fa",
           "#FFA15A",
           "#19d3f3",
           "#FF6692",
           "#B6E880",
           "#FF97FF",
           "#FECB52"
          ],
          "font": {
           "color": "#2a3f5f"
          },
          "geo": {
           "bgcolor": "white",
           "lakecolor": "white",
           "landcolor": "#E5ECF6",
           "showlakes": true,
           "showland": true,
           "subunitcolor": "white"
          },
          "hoverlabel": {
           "align": "left"
          },
          "hovermode": "closest",
          "mapbox": {
           "style": "light"
          },
          "paper_bgcolor": "white",
          "plot_bgcolor": "#E5ECF6",
          "polar": {
           "angularaxis": {
            "gridcolor": "white",
            "linecolor": "white",
            "ticks": ""
           },
           "bgcolor": "#E5ECF6",
           "radialaxis": {
            "gridcolor": "white",
            "linecolor": "white",
            "ticks": ""
           }
          },
          "scene": {
           "xaxis": {
            "backgroundcolor": "#E5ECF6",
            "gridcolor": "white",
            "gridwidth": 2,
            "linecolor": "white",
            "showbackground": true,
            "ticks": "",
            "zerolinecolor": "white"
           },
           "yaxis": {
            "backgroundcolor": "#E5ECF6",
            "gridcolor": "white",
            "gridwidth": 2,
            "linecolor": "white",
            "showbackground": true,
            "ticks": "",
            "zerolinecolor": "white"
           },
           "zaxis": {
            "backgroundcolor": "#E5ECF6",
            "gridcolor": "white",
            "gridwidth": 2,
            "linecolor": "white",
            "showbackground": true,
            "ticks": "",
            "zerolinecolor": "white"
           }
          },
          "shapedefaults": {
           "line": {
            "color": "#2a3f5f"
           }
          },
          "ternary": {
           "aaxis": {
            "gridcolor": "white",
            "linecolor": "white",
            "ticks": ""
           },
           "baxis": {
            "gridcolor": "white",
            "linecolor": "white",
            "ticks": ""
           },
           "bgcolor": "#E5ECF6",
           "caxis": {
            "gridcolor": "white",
            "linecolor": "white",
            "ticks": ""
           }
          },
          "title": {
           "x": 0.05
          },
          "xaxis": {
           "automargin": true,
           "gridcolor": "white",
           "linecolor": "white",
           "ticks": "",
           "title": {
            "standoff": 15
           },
           "zerolinecolor": "white",
           "zerolinewidth": 2
          },
          "yaxis": {
           "automargin": true,
           "gridcolor": "white",
           "linecolor": "white",
           "ticks": "",
           "title": {
            "standoff": 15
           },
           "zerolinecolor": "white",
           "zerolinewidth": 2
          }
         }
        },
        "title": {
         "text": "Proportion of times a genre is the most common genre in a country"
        },
        "xaxis": {
         "anchor": "y",
         "domain": [
          0,
          1
         ],
         "title": {
          "text": "Genres"
         }
        },
        "yaxis": {
         "anchor": "x",
         "domain": [
          0,
          1
         ],
         "title": {
          "text": "Proportion"
         }
        }
       }
      }
     },
     "metadata": {},
     "output_type": "display_data"
    }
   ],
   "source": [
    "df_tot_nb_movies_per_genre_per_country = df2.groupby(['countries','genres']).size().reset_index(name='count')\n",
    "df_most_genre_per_country = df_tot_nb_movies_per_genre_per_country.groupby('countries').apply(lambda x: x.nlargest(1, 'count')).reset_index(drop=True)\n",
    "\n",
    "# Plot the number of times a genre is the most common genre in a country\n",
    "most_genres_count = df_most_genre_per_country['genres'].value_counts()\n",
    "proportion_most_common_genre = most_genres_count / most_genres_count.sum()\n",
    "\n",
    "fig = px.bar(\n",
    "    x=proportion_most_common_genre.index,\n",
    "    y=proportion_most_common_genre.values,\n",
    "    labels={'x': 'Genres', 'y': 'Proportion'},\n",
    "    title='Proportion of times a genre is the most common genre in a country'\n",
    ")\n",
    "fig.show()\n"
   ]
  },
  {
   "cell_type": "code",
   "execution_count": 73,
   "metadata": {},
   "outputs": [
    {
     "data": {
      "application/vnd.plotly.v1+json": {
       "config": {
        "plotlyServerURL": "https://plot.ly"
       },
       "data": [
        {
         "colorscale": [
          [
           0,
           "#636efa"
          ],
          [
           1,
           "#636efa"
          ]
         ],
         "geo": "geo",
         "hovertemplate": "<b>%{hovertext}</b><br><br>genres=Documentary<br>countries=%{location}<extra></extra>",
         "hovertext": [
          "Documentary",
          "Documentary",
          "Documentary"
         ],
         "locationmode": "country names",
         "locations": [
          "Afghanistan",
          "Democratic Republic of the Congo",
          "Ethiopia"
         ],
         "name": "Documentary",
         "showlegend": true,
         "showscale": false,
         "type": "choropleth",
         "z": [
          1,
          1,
          1
         ]
        },
        {
         "colorscale": [
          [
           0,
           "#EF553B"
          ],
          [
           1,
           "#EF553B"
          ]
         ],
         "geo": "geo",
         "hovertemplate": "<b>%{hovertext}</b><br><br>genres=Drama<br>countries=%{location}<extra></extra>",
         "hovertext": [
          "Drama",
          "Drama",
          "Drama",
          "Drama",
          "Drama",
          "Drama",
          "Drama",
          "Drama",
          "Drama",
          "Drama",
          "Drama",
          "Drama",
          "Drama",
          "Drama",
          "Drama",
          "Drama",
          "Drama",
          "Drama",
          "Drama",
          "Drama",
          "Drama",
          "Drama",
          "Drama",
          "Drama",
          "Drama",
          "Drama",
          "Drama",
          "Drama",
          "Drama",
          "Drama",
          "Drama",
          "Drama",
          "Drama",
          "Drama",
          "Drama",
          "Drama",
          "Drama",
          "Drama",
          "Drama",
          "Drama",
          "Drama",
          "Drama",
          "Drama",
          "Drama",
          "Drama",
          "Drama",
          "Drama",
          "Drama",
          "Drama",
          "Drama",
          "Drama",
          "Drama",
          "Drama",
          "Drama",
          "Drama",
          "Drama",
          "Drama",
          "Drama",
          "Drama",
          "Drama",
          "Drama",
          "Drama",
          "Drama",
          "Drama",
          "Drama",
          "Drama",
          "Drama",
          "Drama",
          "Drama",
          "Drama",
          "Drama",
          "Drama",
          "Drama",
          "Drama",
          "Drama",
          "Drama",
          "Drama",
          "Drama",
          "Drama",
          "Drama",
          "Drama",
          "Drama",
          "Drama",
          "Drama",
          "Drama",
          "Drama",
          "Drama",
          "Drama",
          "Drama",
          "Drama",
          "Drama"
         ],
         "locationmode": "country names",
         "locations": [
          "Albania",
          "Algeria",
          "Argentina",
          "Armenia",
          "Australia",
          "Austria",
          "Azerbaijan",
          "Bangladesh",
          "Belgium",
          "Bolivia",
          "Bosnia and Herzegovina",
          "Brazil",
          "Bulgaria",
          "Burkina Faso",
          "Cambodia",
          "Cameroon",
          "Chile",
          "Colombia",
          "Costa Rica",
          "Croatia",
          "Cuba",
          "Cyprus",
          "Czechia",
          "Denmark",
          "Egypt",
          "Estonia",
          "France",
          "Georgia",
          "Germany",
          "Greece",
          "Guinea",
          "Guinea-Bissau",
          "Haiti",
          "Hungary",
          "Iceland",
          "India",
          "Indonesia",
          "Iran",
          "Iraq",
          "Ireland",
          "Israel",
          "Italy",
          "Jamaica",
          "Jordan",
          "Kenya",
          "Kuwait",
          "Lebanon",
          "Libya",
          "Lithuania",
          "Luxembourg",
          "Malaysia",
          "Mali",
          "Mexico",
          "Mongolia",
          "Montenegro",
          "Morocco",
          "Myanmar",
          "Nepal",
          "Netherlands",
          "New Zealand",
          "Nigeria",
          "North Macedonia",
          "Norway",
          "Pakistan",
          "Panama",
          "Peru",
          "Poland",
          "Portugal",
          "Qatar",
          "Republic of Serbia",
          "Romania",
          "Russia",
          "Senegal",
          "Slovakia",
          "Slovenia",
          "South Africa",
          "South Korea",
          "Spain",
          "Sri Lanka",
          "Sweden",
          "Switzerland",
          "Thailand",
          "The Bahamas",
          "Tunisia",
          "Turkey",
          "Ukraine",
          "United Kingdom",
          "Uruguay",
          "Venezuela",
          "Vietnam",
          "Zambia"
         ],
         "name": "Drama",
         "showlegend": true,
         "showscale": false,
         "type": "choropleth",
         "z": [
          1,
          1,
          1,
          1,
          1,
          1,
          1,
          1,
          1,
          1,
          1,
          1,
          1,
          1,
          1,
          1,
          1,
          1,
          1,
          1,
          1,
          1,
          1,
          1,
          1,
          1,
          1,
          1,
          1,
          1,
          1,
          1,
          1,
          1,
          1,
          1,
          1,
          1,
          1,
          1,
          1,
          1,
          1,
          1,
          1,
          1,
          1,
          1,
          1,
          1,
          1,
          1,
          1,
          1,
          1,
          1,
          1,
          1,
          1,
          1,
          1,
          1,
          1,
          1,
          1,
          1,
          1,
          1,
          1,
          1,
          1,
          1,
          1,
          1,
          1,
          1,
          1,
          1,
          1,
          1,
          1,
          1,
          1,
          1,
          1,
          1,
          1,
          1,
          1,
          1,
          1
         ]
        },
        {
         "colorscale": [
          [
           0,
           "#00cc96"
          ],
          [
           1,
           "#00cc96"
          ]
         ],
         "geo": "geo",
         "hovertemplate": "<b>%{hovertext}</b><br><br>genres=Art film<br>countries=%{location}<extra></extra>",
         "hovertext": [
          "Art film"
         ],
         "locationmode": "country names",
         "locations": [
          "Bhutan"
         ],
         "name": "Art film",
         "showlegend": true,
         "showscale": false,
         "type": "choropleth",
         "z": [
          1
         ]
        },
        {
         "colorscale": [
          [
           0,
           "#ab63fa"
          ],
          [
           1,
           "#ab63fa"
          ]
         ],
         "geo": "geo",
         "hovertemplate": "<b>%{hovertext}</b><br><br>genres=Short Film<br>countries=%{location}<extra></extra>",
         "hovertext": [
          "Short Film",
          "Short Film"
         ],
         "locationmode": "country names",
         "locations": [
          "Canada",
          "United States of America"
         ],
         "name": "Short Film",
         "showlegend": true,
         "showscale": false,
         "type": "choropleth",
         "z": [
          1,
          1
         ]
        },
        {
         "colorscale": [
          [
           0,
           "#FFA15A"
          ],
          [
           1,
           "#FFA15A"
          ]
         ],
         "geo": "geo",
         "hovertemplate": "<b>%{hovertext}</b><br><br>genres=Chinese Movies<br>countries=%{location}<extra></extra>",
         "hovertext": [
          "Chinese Movies",
          "Chinese Movies"
         ],
         "locationmode": "country names",
         "locations": [
          "China",
          "Taiwan"
         ],
         "name": "Chinese Movies",
         "showlegend": true,
         "showscale": false,
         "type": "choropleth",
         "z": [
          1,
          1
         ]
        },
        {
         "colorscale": [
          [
           0,
           "#19d3f3"
          ],
          [
           1,
           "#19d3f3"
          ]
         ],
         "geo": "geo",
         "hovertemplate": "<b>%{hovertext}</b><br><br>genres=Comedy<br>countries=%{location}<extra></extra>",
         "hovertext": [
          "Comedy"
         ],
         "locationmode": "country names",
         "locations": [
          "Finland"
         ],
         "name": "Comedy",
         "showlegend": true,
         "showscale": false,
         "type": "choropleth",
         "z": [
          1
         ]
        },
        {
         "colorscale": [
          [
           0,
           "#FF6692"
          ],
          [
           1,
           "#FF6692"
          ]
         ],
         "geo": "geo",
         "hovertemplate": "<b>%{hovertext}</b><br><br>genres=Japanese Movies<br>countries=%{location}<extra></extra>",
         "hovertext": [
          "Japanese Movies"
         ],
         "locationmode": "country names",
         "locations": [
          "Japan"
         ],
         "name": "Japanese Movies",
         "showlegend": true,
         "showscale": false,
         "type": "choropleth",
         "z": [
          1
         ]
        },
        {
         "colorscale": [
          [
           0,
           "#B6E880"
          ],
          [
           1,
           "#B6E880"
          ]
         ],
         "geo": "geo",
         "hovertemplate": "<b>%{hovertext}</b><br><br>genres=Filipino Movies<br>countries=%{location}<extra></extra>",
         "hovertext": [
          "Filipino Movies"
         ],
         "locationmode": "country names",
         "locations": [
          "Philippines"
         ],
         "name": "Filipino Movies",
         "showlegend": true,
         "showscale": false,
         "type": "choropleth",
         "z": [
          1
         ]
        },
        {
         "colorscale": [
          [
           0,
           "#FF97FF"
          ],
          [
           1,
           "#FF97FF"
          ]
         ],
         "geo": "geo",
         "hovertemplate": "<b>%{hovertext}</b><br><br>genres=Thriller<br>countries=%{location}<extra></extra>",
         "hovertext": [
          "Thriller"
         ],
         "locationmode": "country names",
         "locations": [
          "United Arab Emirates"
         ],
         "name": "Thriller",
         "showlegend": true,
         "showscale": false,
         "type": "choropleth",
         "z": [
          1
         ]
        },
        {
         "colorscale": [
          [
           0,
           "#FECB52"
          ],
          [
           1,
           "#FECB52"
          ]
         ],
         "geo": "geo",
         "hovertemplate": "<b>%{hovertext}</b><br><br>genres=Comedy film<br>countries=%{location}<extra></extra>",
         "hovertext": [
          "Comedy film"
         ],
         "locationmode": "country names",
         "locations": [
          "Uzbekistan"
         ],
         "name": "Comedy film",
         "showlegend": true,
         "showscale": false,
         "type": "choropleth",
         "z": [
          1
         ]
        },
        {
         "colorscale": [
          [
           0,
           "#636efa"
          ],
          [
           1,
           "#636efa"
          ]
         ],
         "geo": "geo",
         "hovertemplate": "<b>%{hovertext}</b><br><br>genres=Action<br>countries=%{location}<extra></extra>",
         "hovertext": [
          "Action"
         ],
         "locationmode": "country names",
         "locations": [
          "Zimbabwe"
         ],
         "name": "Action",
         "showlegend": true,
         "showscale": false,
         "type": "choropleth",
         "z": [
          1
         ]
        }
       ],
       "layout": {
        "geo": {
         "center": {},
         "domain": {
          "x": [
           0,
           1
          ],
          "y": [
           0,
           1
          ]
         },
         "projection": {
          "type": "natural earth"
         }
        },
        "legend": {
         "title": {
          "text": "genres"
         },
         "tracegroupgap": 0
        },
        "template": {
         "data": {
          "bar": [
           {
            "error_x": {
             "color": "#2a3f5f"
            },
            "error_y": {
             "color": "#2a3f5f"
            },
            "marker": {
             "line": {
              "color": "#E5ECF6",
              "width": 0.5
             },
             "pattern": {
              "fillmode": "overlay",
              "size": 10,
              "solidity": 0.2
             }
            },
            "type": "bar"
           }
          ],
          "barpolar": [
           {
            "marker": {
             "line": {
              "color": "#E5ECF6",
              "width": 0.5
             },
             "pattern": {
              "fillmode": "overlay",
              "size": 10,
              "solidity": 0.2
             }
            },
            "type": "barpolar"
           }
          ],
          "carpet": [
           {
            "aaxis": {
             "endlinecolor": "#2a3f5f",
             "gridcolor": "white",
             "linecolor": "white",
             "minorgridcolor": "white",
             "startlinecolor": "#2a3f5f"
            },
            "baxis": {
             "endlinecolor": "#2a3f5f",
             "gridcolor": "white",
             "linecolor": "white",
             "minorgridcolor": "white",
             "startlinecolor": "#2a3f5f"
            },
            "type": "carpet"
           }
          ],
          "choropleth": [
           {
            "colorbar": {
             "outlinewidth": 0,
             "ticks": ""
            },
            "type": "choropleth"
           }
          ],
          "contour": [
           {
            "colorbar": {
             "outlinewidth": 0,
             "ticks": ""
            },
            "colorscale": [
             [
              0,
              "#0d0887"
             ],
             [
              0.1111111111111111,
              "#46039f"
             ],
             [
              0.2222222222222222,
              "#7201a8"
             ],
             [
              0.3333333333333333,
              "#9c179e"
             ],
             [
              0.4444444444444444,
              "#bd3786"
             ],
             [
              0.5555555555555556,
              "#d8576b"
             ],
             [
              0.6666666666666666,
              "#ed7953"
             ],
             [
              0.7777777777777778,
              "#fb9f3a"
             ],
             [
              0.8888888888888888,
              "#fdca26"
             ],
             [
              1,
              "#f0f921"
             ]
            ],
            "type": "contour"
           }
          ],
          "contourcarpet": [
           {
            "colorbar": {
             "outlinewidth": 0,
             "ticks": ""
            },
            "type": "contourcarpet"
           }
          ],
          "heatmap": [
           {
            "colorbar": {
             "outlinewidth": 0,
             "ticks": ""
            },
            "colorscale": [
             [
              0,
              "#0d0887"
             ],
             [
              0.1111111111111111,
              "#46039f"
             ],
             [
              0.2222222222222222,
              "#7201a8"
             ],
             [
              0.3333333333333333,
              "#9c179e"
             ],
             [
              0.4444444444444444,
              "#bd3786"
             ],
             [
              0.5555555555555556,
              "#d8576b"
             ],
             [
              0.6666666666666666,
              "#ed7953"
             ],
             [
              0.7777777777777778,
              "#fb9f3a"
             ],
             [
              0.8888888888888888,
              "#fdca26"
             ],
             [
              1,
              "#f0f921"
             ]
            ],
            "type": "heatmap"
           }
          ],
          "heatmapgl": [
           {
            "colorbar": {
             "outlinewidth": 0,
             "ticks": ""
            },
            "colorscale": [
             [
              0,
              "#0d0887"
             ],
             [
              0.1111111111111111,
              "#46039f"
             ],
             [
              0.2222222222222222,
              "#7201a8"
             ],
             [
              0.3333333333333333,
              "#9c179e"
             ],
             [
              0.4444444444444444,
              "#bd3786"
             ],
             [
              0.5555555555555556,
              "#d8576b"
             ],
             [
              0.6666666666666666,
              "#ed7953"
             ],
             [
              0.7777777777777778,
              "#fb9f3a"
             ],
             [
              0.8888888888888888,
              "#fdca26"
             ],
             [
              1,
              "#f0f921"
             ]
            ],
            "type": "heatmapgl"
           }
          ],
          "histogram": [
           {
            "marker": {
             "pattern": {
              "fillmode": "overlay",
              "size": 10,
              "solidity": 0.2
             }
            },
            "type": "histogram"
           }
          ],
          "histogram2d": [
           {
            "colorbar": {
             "outlinewidth": 0,
             "ticks": ""
            },
            "colorscale": [
             [
              0,
              "#0d0887"
             ],
             [
              0.1111111111111111,
              "#46039f"
             ],
             [
              0.2222222222222222,
              "#7201a8"
             ],
             [
              0.3333333333333333,
              "#9c179e"
             ],
             [
              0.4444444444444444,
              "#bd3786"
             ],
             [
              0.5555555555555556,
              "#d8576b"
             ],
             [
              0.6666666666666666,
              "#ed7953"
             ],
             [
              0.7777777777777778,
              "#fb9f3a"
             ],
             [
              0.8888888888888888,
              "#fdca26"
             ],
             [
              1,
              "#f0f921"
             ]
            ],
            "type": "histogram2d"
           }
          ],
          "histogram2dcontour": [
           {
            "colorbar": {
             "outlinewidth": 0,
             "ticks": ""
            },
            "colorscale": [
             [
              0,
              "#0d0887"
             ],
             [
              0.1111111111111111,
              "#46039f"
             ],
             [
              0.2222222222222222,
              "#7201a8"
             ],
             [
              0.3333333333333333,
              "#9c179e"
             ],
             [
              0.4444444444444444,
              "#bd3786"
             ],
             [
              0.5555555555555556,
              "#d8576b"
             ],
             [
              0.6666666666666666,
              "#ed7953"
             ],
             [
              0.7777777777777778,
              "#fb9f3a"
             ],
             [
              0.8888888888888888,
              "#fdca26"
             ],
             [
              1,
              "#f0f921"
             ]
            ],
            "type": "histogram2dcontour"
           }
          ],
          "mesh3d": [
           {
            "colorbar": {
             "outlinewidth": 0,
             "ticks": ""
            },
            "type": "mesh3d"
           }
          ],
          "parcoords": [
           {
            "line": {
             "colorbar": {
              "outlinewidth": 0,
              "ticks": ""
             }
            },
            "type": "parcoords"
           }
          ],
          "pie": [
           {
            "automargin": true,
            "type": "pie"
           }
          ],
          "scatter": [
           {
            "fillpattern": {
             "fillmode": "overlay",
             "size": 10,
             "solidity": 0.2
            },
            "type": "scatter"
           }
          ],
          "scatter3d": [
           {
            "line": {
             "colorbar": {
              "outlinewidth": 0,
              "ticks": ""
             }
            },
            "marker": {
             "colorbar": {
              "outlinewidth": 0,
              "ticks": ""
             }
            },
            "type": "scatter3d"
           }
          ],
          "scattercarpet": [
           {
            "marker": {
             "colorbar": {
              "outlinewidth": 0,
              "ticks": ""
             }
            },
            "type": "scattercarpet"
           }
          ],
          "scattergeo": [
           {
            "marker": {
             "colorbar": {
              "outlinewidth": 0,
              "ticks": ""
             }
            },
            "type": "scattergeo"
           }
          ],
          "scattergl": [
           {
            "marker": {
             "colorbar": {
              "outlinewidth": 0,
              "ticks": ""
             }
            },
            "type": "scattergl"
           }
          ],
          "scattermapbox": [
           {
            "marker": {
             "colorbar": {
              "outlinewidth": 0,
              "ticks": ""
             }
            },
            "type": "scattermapbox"
           }
          ],
          "scatterpolar": [
           {
            "marker": {
             "colorbar": {
              "outlinewidth": 0,
              "ticks": ""
             }
            },
            "type": "scatterpolar"
           }
          ],
          "scatterpolargl": [
           {
            "marker": {
             "colorbar": {
              "outlinewidth": 0,
              "ticks": ""
             }
            },
            "type": "scatterpolargl"
           }
          ],
          "scatterternary": [
           {
            "marker": {
             "colorbar": {
              "outlinewidth": 0,
              "ticks": ""
             }
            },
            "type": "scatterternary"
           }
          ],
          "surface": [
           {
            "colorbar": {
             "outlinewidth": 0,
             "ticks": ""
            },
            "colorscale": [
             [
              0,
              "#0d0887"
             ],
             [
              0.1111111111111111,
              "#46039f"
             ],
             [
              0.2222222222222222,
              "#7201a8"
             ],
             [
              0.3333333333333333,
              "#9c179e"
             ],
             [
              0.4444444444444444,
              "#bd3786"
             ],
             [
              0.5555555555555556,
              "#d8576b"
             ],
             [
              0.6666666666666666,
              "#ed7953"
             ],
             [
              0.7777777777777778,
              "#fb9f3a"
             ],
             [
              0.8888888888888888,
              "#fdca26"
             ],
             [
              1,
              "#f0f921"
             ]
            ],
            "type": "surface"
           }
          ],
          "table": [
           {
            "cells": {
             "fill": {
              "color": "#EBF0F8"
             },
             "line": {
              "color": "white"
             }
            },
            "header": {
             "fill": {
              "color": "#C8D4E3"
             },
             "line": {
              "color": "white"
             }
            },
            "type": "table"
           }
          ]
         },
         "layout": {
          "annotationdefaults": {
           "arrowcolor": "#2a3f5f",
           "arrowhead": 0,
           "arrowwidth": 1
          },
          "autotypenumbers": "strict",
          "coloraxis": {
           "colorbar": {
            "outlinewidth": 0,
            "ticks": ""
           }
          },
          "colorscale": {
           "diverging": [
            [
             0,
             "#8e0152"
            ],
            [
             0.1,
             "#c51b7d"
            ],
            [
             0.2,
             "#de77ae"
            ],
            [
             0.3,
             "#f1b6da"
            ],
            [
             0.4,
             "#fde0ef"
            ],
            [
             0.5,
             "#f7f7f7"
            ],
            [
             0.6,
             "#e6f5d0"
            ],
            [
             0.7,
             "#b8e186"
            ],
            [
             0.8,
             "#7fbc41"
            ],
            [
             0.9,
             "#4d9221"
            ],
            [
             1,
             "#276419"
            ]
           ],
           "sequential": [
            [
             0,
             "#0d0887"
            ],
            [
             0.1111111111111111,
             "#46039f"
            ],
            [
             0.2222222222222222,
             "#7201a8"
            ],
            [
             0.3333333333333333,
             "#9c179e"
            ],
            [
             0.4444444444444444,
             "#bd3786"
            ],
            [
             0.5555555555555556,
             "#d8576b"
            ],
            [
             0.6666666666666666,
             "#ed7953"
            ],
            [
             0.7777777777777778,
             "#fb9f3a"
            ],
            [
             0.8888888888888888,
             "#fdca26"
            ],
            [
             1,
             "#f0f921"
            ]
           ],
           "sequentialminus": [
            [
             0,
             "#0d0887"
            ],
            [
             0.1111111111111111,
             "#46039f"
            ],
            [
             0.2222222222222222,
             "#7201a8"
            ],
            [
             0.3333333333333333,
             "#9c179e"
            ],
            [
             0.4444444444444444,
             "#bd3786"
            ],
            [
             0.5555555555555556,
             "#d8576b"
            ],
            [
             0.6666666666666666,
             "#ed7953"
            ],
            [
             0.7777777777777778,
             "#fb9f3a"
            ],
            [
             0.8888888888888888,
             "#fdca26"
            ],
            [
             1,
             "#f0f921"
            ]
           ]
          },
          "colorway": [
           "#636efa",
           "#EF553B",
           "#00cc96",
           "#ab63fa",
           "#FFA15A",
           "#19d3f3",
           "#FF6692",
           "#B6E880",
           "#FF97FF",
           "#FECB52"
          ],
          "font": {
           "color": "#2a3f5f"
          },
          "geo": {
           "bgcolor": "white",
           "lakecolor": "white",
           "landcolor": "#E5ECF6",
           "showlakes": true,
           "showland": true,
           "subunitcolor": "white"
          },
          "hoverlabel": {
           "align": "left"
          },
          "hovermode": "closest",
          "mapbox": {
           "style": "light"
          },
          "paper_bgcolor": "white",
          "plot_bgcolor": "#E5ECF6",
          "polar": {
           "angularaxis": {
            "gridcolor": "white",
            "linecolor": "white",
            "ticks": ""
           },
           "bgcolor": "#E5ECF6",
           "radialaxis": {
            "gridcolor": "white",
            "linecolor": "white",
            "ticks": ""
           }
          },
          "scene": {
           "xaxis": {
            "backgroundcolor": "#E5ECF6",
            "gridcolor": "white",
            "gridwidth": 2,
            "linecolor": "white",
            "showbackground": true,
            "ticks": "",
            "zerolinecolor": "white"
           },
           "yaxis": {
            "backgroundcolor": "#E5ECF6",
            "gridcolor": "white",
            "gridwidth": 2,
            "linecolor": "white",
            "showbackground": true,
            "ticks": "",
            "zerolinecolor": "white"
           },
           "zaxis": {
            "backgroundcolor": "#E5ECF6",
            "gridcolor": "white",
            "gridwidth": 2,
            "linecolor": "white",
            "showbackground": true,
            "ticks": "",
            "zerolinecolor": "white"
           }
          },
          "shapedefaults": {
           "line": {
            "color": "#2a3f5f"
           }
          },
          "ternary": {
           "aaxis": {
            "gridcolor": "white",
            "linecolor": "white",
            "ticks": ""
           },
           "baxis": {
            "gridcolor": "white",
            "linecolor": "white",
            "ticks": ""
           },
           "bgcolor": "#E5ECF6",
           "caxis": {
            "gridcolor": "white",
            "linecolor": "white",
            "ticks": ""
           }
          },
          "title": {
           "x": 0.05
          },
          "xaxis": {
           "automargin": true,
           "gridcolor": "white",
           "linecolor": "white",
           "ticks": "",
           "title": {
            "standoff": 15
           },
           "zerolinecolor": "white",
           "zerolinewidth": 2
          },
          "yaxis": {
           "automargin": true,
           "gridcolor": "white",
           "linecolor": "white",
           "ticks": "",
           "title": {
            "standoff": 15
           },
           "zerolinecolor": "white",
           "zerolinewidth": 2
          }
         }
        },
        "title": {
         "text": "Most common genre per country"
        }
       }
      }
     },
     "metadata": {},
     "output_type": "display_data"
    }
   ],
   "source": [
    "# Plot a world map with the most common genre per country\n",
    "fig = px.choropleth(df_most_genre_per_country, \n",
    "                    locations='countries',\n",
    "                    locationmode='country names',\n",
    "                    color='genres',\n",
    "                    title='Most common genre per country',\n",
    "                    hover_name='genres',\n",
    "                    projection='natural earth')\n",
    "fig.show()"
   ]
  },
  {
   "cell_type": "markdown",
   "metadata": {},
   "source": [
    "If we consider the overall production of movies since the beginning of cinema's industry, we can see that almost the Drama is the most produced genre in each country."
   ]
  },
  {
   "cell_type": "code",
   "execution_count": 86,
   "metadata": {},
   "outputs": [
    {
     "name": "stderr",
     "output_type": "stream",
     "text": [
      "C:\\Users\\arnau\\AppData\\Local\\Temp\\ipykernel_34516\\3535230502.py:1: DeprecationWarning:\n",
      "\n",
      "DataFrameGroupBy.apply operated on the grouping columns. This behavior is deprecated, and in a future version of pandas the grouping columns will be excluded from the operation. Either pass `include_groups=False` to exclude the groupings or explicitly select the grouping columns after groupby to silence this warning.\n",
      "\n"
     ]
    }
   ],
   "source": [
    "df_most_genre_per_country_over_time = df2.groupby(['countries','year']).apply(lambda x: x.nlargest(1, 'count')).reset_index(drop=True)"
   ]
  },
  {
   "cell_type": "code",
   "execution_count": 95,
   "metadata": {},
   "outputs": [
    {
     "data": {
      "text/html": [
       "\n",
       "        <iframe\n",
       "            width=\"100%\"\n",
       "            height=\"650\"\n",
       "            src=\"http://127.0.0.1:8050/\"\n",
       "            frameborder=\"0\"\n",
       "            allowfullscreen\n",
       "            \n",
       "        ></iframe>\n",
       "        "
      ],
      "text/plain": [
       "<IPython.lib.display.IFrame at 0x278d05931f0>"
      ]
     },
     "metadata": {},
     "output_type": "display_data"
    }
   ],
   "source": [
    "# Générer les marques pour le slider (par exemple, tous les 10 ans)\n",
    "slider_marks = {\n",
    "    year: str(year) for year in range(\n",
    "        df_most_genre_per_country_over_time['year'].min(),\n",
    "        df_most_genre_per_country_over_time['year'].max() + 1,\n",
    "        10  # Intervalle des années à afficher dans la légende\n",
    "    )\n",
    "}\n",
    "\n",
    "# Initialiser l'application Dash\n",
    "app3 = dash.Dash(__name__)\n",
    "\n",
    "# Layout de l'application\n",
    "app3.layout = html.Div([\n",
    "    dcc.Graph(id='choropleth-map'),\n",
    "    dcc.Slider(\n",
    "        id='year-slider',\n",
    "        min=df_most_genre_per_country_over_time['year'].min(),\n",
    "        max=df_most_genre_per_country_over_time['year'].max(),\n",
    "        value=df_most_genre_per_country_over_time['year'].min(),\n",
    "        marks=slider_marks,\n",
    "        step=1\n",
    "    ),\n",
    "    dcc.Interval(\n",
    "        id='interval-component',\n",
    "        interval=1000,  # Intervalle en millisecondes (ici 1 seconde)\n",
    "        n_intervals=0\n",
    "    )\n",
    "])\n",
    "\n",
    "# Callback pour mettre à jour la carte\n",
    "@app3.callback(\n",
    "    Output('choropleth-map', 'figure'),\n",
    "    [Input('year-slider', 'value')]\n",
    ")\n",
    "def update_map(selected_year):\n",
    "    filtered_df = df_most_genre_per_country_over_time[df_most_genre_per_country_over_time['year'] == selected_year]\n",
    "    fig = px.choropleth(filtered_df,\n",
    "                        locations='countries',\n",
    "                        locationmode='country names',\n",
    "                        color='genres',\n",
    "                        title=f'Most common genre per country in {selected_year}',\n",
    "                        hover_name='genres',\n",
    "                        projection='natural earth')\n",
    "    return fig\n",
    "\n",
    "# Callback pour lire automatiquement l'année sur le slider\n",
    "@app3.callback(\n",
    "    Output('year-slider', 'value'),\n",
    "    [Input('year-slider', 'value'),\n",
    "     Input('interval-component', 'n_intervals')]\n",
    ")\n",
    "def auto_slide(current_value, n_intervals):\n",
    "    # Incrémenter l'année à chaque intervalle\n",
    "    next_year = current_value + 1\n",
    "    if next_year > df_most_genre_per_country_over_time['year'].max():\n",
    "        next_year = df_most_genre_per_country_over_time['year'].min()  # Revenir à la première année\n",
    "    return next_year\n",
    "\n",
    "# Exécuter l'application\n",
    "if __name__ == '__main__':\n",
    "    app3.run_server(debug=True)"
   ]
  },
  {
   "cell_type": "code",
   "execution_count": null,
   "metadata": {},
   "outputs": [],
   "source": []
  }
 ],
 "metadata": {
  "kernelspec": {
   "display_name": "new_env",
   "language": "python",
   "name": "python3"
  },
  "language_info": {
   "codemirror_mode": {
    "name": "ipython",
    "version": 3
   },
   "file_extension": ".py",
   "mimetype": "text/x-python",
   "name": "python",
   "nbconvert_exporter": "python",
   "pygments_lexer": "ipython3",
   "version": "3.10.15"
  }
 },
 "nbformat": 4,
 "nbformat_minor": 2
}
