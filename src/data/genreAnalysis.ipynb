{
 "cells": [
  {
   "cell_type": "markdown",
   "metadata": {},
   "source": [
    "# Genre analysis"
   ]
  },
  {
   "cell_type": "markdown",
   "metadata": {},
   "source": [
    "This notebook will analyze the evolution of genres in movies over the years and over the countries."
   ]
  },
  {
   "cell_type": "code",
   "execution_count": 1,
   "metadata": {},
   "outputs": [],
   "source": [
    "# Modules to import\n",
    "import sys\n",
    "import pandas as pd\n",
    "import numpy as np\n",
    "import matplotlib.pyplot as plt\n",
    "import plotly.express as px\n",
    "from dash import Dash, dcc, html, Input, Output"
   ]
  },
  {
   "cell_type": "code",
   "execution_count": 2,
   "metadata": {},
   "outputs": [
    {
     "name": "stderr",
     "output_type": "stream",
     "text": [
      "c:\\Users\\arnau\\OneDrive\\Documents\\Scolarité EPFL\\ADA\\ada-2024-project-teamcsx24\\src\\data\\dataLoader.py:10: FutureWarning: DataFrame.applymap has been deprecated. Use DataFrame.map instead.\n",
      "  df[columns_to_convert] = df[columns_to_convert].applymap(eval)\n"
     ]
    }
   ],
   "source": [
    "# Paths to add\n",
    "paths = ['../data','../scripts','../utils']\n",
    "for path in paths:\n",
    "    sys.path.append(path)\n",
    "    \n",
    "# Data loader\n",
    "from dataLoader import loadDataframe\n",
    "\n",
    "# Load data\n",
    "path_to_directory = '../../data/cleanData/'\n",
    "df_movies = loadDataframe('movies', path_to_directory)"
   ]
  },
  {
   "cell_type": "markdown",
   "metadata": {},
   "source": [
    "Modification of country names to match with geopandas name"
   ]
  },
  {
   "cell_type": "code",
   "execution_count": 3,
   "metadata": {},
   "outputs": [
    {
     "data": {
      "text/html": [
       "<div>\n",
       "<style scoped>\n",
       "    .dataframe tbody tr th:only-of-type {\n",
       "        vertical-align: middle;\n",
       "    }\n",
       "\n",
       "    .dataframe tbody tr th {\n",
       "        vertical-align: top;\n",
       "    }\n",
       "\n",
       "    .dataframe thead th {\n",
       "        text-align: right;\n",
       "    }\n",
       "</style>\n",
       "<table border=\"1\" class=\"dataframe\">\n",
       "  <thead>\n",
       "    <tr style=\"text-align: right;\">\n",
       "      <th></th>\n",
       "      <th>wiki_id</th>\n",
       "      <th>freebase_id</th>\n",
       "      <th>original_title</th>\n",
       "      <th>release_date</th>\n",
       "      <th>revenue</th>\n",
       "      <th>runtime</th>\n",
       "      <th>languages</th>\n",
       "      <th>countries</th>\n",
       "      <th>genres</th>\n",
       "      <th>countries_freebase_id</th>\n",
       "      <th>languages_freebase_id</th>\n",
       "      <th>genres_freebase_id</th>\n",
       "    </tr>\n",
       "  </thead>\n",
       "  <tbody>\n",
       "    <tr>\n",
       "      <th>0</th>\n",
       "      <td>975900</td>\n",
       "      <td>/m/03vyhn</td>\n",
       "      <td>Ghosts of Mars</td>\n",
       "      <td>2001-08-24</td>\n",
       "      <td>14010832.0</td>\n",
       "      <td>98.0</td>\n",
       "      <td>[English Language]</td>\n",
       "      <td>[United States of America]</td>\n",
       "      <td>[Thriller, Science Fiction, Horror, Adventure,...</td>\n",
       "      <td>[/m/09c7w0]</td>\n",
       "      <td>[/m/02h40lc]</td>\n",
       "      <td>[/m/01jfsb, /m/06n90, /m/03npn, /m/03k9fj, /m/...</td>\n",
       "    </tr>\n",
       "    <tr>\n",
       "      <th>1</th>\n",
       "      <td>3196793</td>\n",
       "      <td>/m/08yl5d</td>\n",
       "      <td>Getting Away with Murder: The JonBenét Ramsey ...</td>\n",
       "      <td>2000-02-16</td>\n",
       "      <td>NaN</td>\n",
       "      <td>95.0</td>\n",
       "      <td>[English Language]</td>\n",
       "      <td>[United States of America]</td>\n",
       "      <td>[Mystery, Biographical film, Drama, Crime Drama]</td>\n",
       "      <td>[/m/09c7w0]</td>\n",
       "      <td>[/m/02h40lc]</td>\n",
       "      <td>[/m/02n4kr, /m/03bxz7, /m/07s9rl0, /m/0hj3n01]</td>\n",
       "    </tr>\n",
       "  </tbody>\n",
       "</table>\n",
       "</div>"
      ],
      "text/plain": [
       "   wiki_id freebase_id                                     original_title  \\\n",
       "0   975900   /m/03vyhn                                     Ghosts of Mars   \n",
       "1  3196793   /m/08yl5d  Getting Away with Murder: The JonBenét Ramsey ...   \n",
       "\n",
       "  release_date     revenue  runtime           languages  \\\n",
       "0   2001-08-24  14010832.0     98.0  [English Language]   \n",
       "1   2000-02-16         NaN     95.0  [English Language]   \n",
       "\n",
       "                    countries  \\\n",
       "0  [United States of America]   \n",
       "1  [United States of America]   \n",
       "\n",
       "                                              genres countries_freebase_id  \\\n",
       "0  [Thriller, Science Fiction, Horror, Adventure,...           [/m/09c7w0]   \n",
       "1   [Mystery, Biographical film, Drama, Crime Drama]           [/m/09c7w0]   \n",
       "\n",
       "  languages_freebase_id                                 genres_freebase_id  \n",
       "0          [/m/02h40lc]  [/m/01jfsb, /m/06n90, /m/03npn, /m/03k9fj, /m/...  \n",
       "1          [/m/02h40lc]     [/m/02n4kr, /m/03bxz7, /m/07s9rl0, /m/0hj3n01]  "
      ]
     },
     "execution_count": 3,
     "metadata": {},
     "output_type": "execute_result"
    }
   ],
   "source": [
    "df_movies.head(2)"
   ]
  },
  {
   "cell_type": "code",
   "execution_count": 4,
   "metadata": {},
   "outputs": [],
   "source": [
    "from generalUtils import transformCountryNameGpd"
   ]
  },
  {
   "cell_type": "code",
   "execution_count": 5,
   "metadata": {},
   "outputs": [],
   "source": [
    "df_movies['countries'] = df_movies['countries_freebase_id'].apply(transformCountryNameGpd)"
   ]
  },
  {
   "cell_type": "markdown",
   "metadata": {},
   "source": [
    "Preparation of the dataset for the analysis (explode genres and countries)"
   ]
  },
  {
   "cell_type": "code",
   "execution_count": 6,
   "metadata": {},
   "outputs": [
    {
     "data": {
      "text/html": [
       "<div>\n",
       "<style scoped>\n",
       "    .dataframe tbody tr th:only-of-type {\n",
       "        vertical-align: middle;\n",
       "    }\n",
       "\n",
       "    .dataframe tbody tr th {\n",
       "        vertical-align: top;\n",
       "    }\n",
       "\n",
       "    .dataframe thead th {\n",
       "        text-align: right;\n",
       "    }\n",
       "</style>\n",
       "<table border=\"1\" class=\"dataframe\">\n",
       "  <thead>\n",
       "    <tr style=\"text-align: right;\">\n",
       "      <th></th>\n",
       "      <th>wiki_id</th>\n",
       "      <th>freebase_id</th>\n",
       "      <th>original_title</th>\n",
       "      <th>release_date</th>\n",
       "      <th>revenue</th>\n",
       "      <th>runtime</th>\n",
       "      <th>languages</th>\n",
       "      <th>countries</th>\n",
       "      <th>genres</th>\n",
       "      <th>countries_freebase_id</th>\n",
       "      <th>languages_freebase_id</th>\n",
       "      <th>genres_freebase_id</th>\n",
       "    </tr>\n",
       "  </thead>\n",
       "  <tbody>\n",
       "    <tr>\n",
       "      <th>0</th>\n",
       "      <td>975900</td>\n",
       "      <td>/m/03vyhn</td>\n",
       "      <td>Ghosts of Mars</td>\n",
       "      <td>2001-08-24</td>\n",
       "      <td>14010832.0</td>\n",
       "      <td>98.0</td>\n",
       "      <td>[English Language]</td>\n",
       "      <td>United States of America</td>\n",
       "      <td>Thriller</td>\n",
       "      <td>[/m/09c7w0]</td>\n",
       "      <td>[/m/02h40lc]</td>\n",
       "      <td>[/m/01jfsb, /m/06n90, /m/03npn, /m/03k9fj, /m/...</td>\n",
       "    </tr>\n",
       "    <tr>\n",
       "      <th>0</th>\n",
       "      <td>975900</td>\n",
       "      <td>/m/03vyhn</td>\n",
       "      <td>Ghosts of Mars</td>\n",
       "      <td>2001-08-24</td>\n",
       "      <td>14010832.0</td>\n",
       "      <td>98.0</td>\n",
       "      <td>[English Language]</td>\n",
       "      <td>United States of America</td>\n",
       "      <td>Science Fiction</td>\n",
       "      <td>[/m/09c7w0]</td>\n",
       "      <td>[/m/02h40lc]</td>\n",
       "      <td>[/m/01jfsb, /m/06n90, /m/03npn, /m/03k9fj, /m/...</td>\n",
       "    </tr>\n",
       "    <tr>\n",
       "      <th>0</th>\n",
       "      <td>975900</td>\n",
       "      <td>/m/03vyhn</td>\n",
       "      <td>Ghosts of Mars</td>\n",
       "      <td>2001-08-24</td>\n",
       "      <td>14010832.0</td>\n",
       "      <td>98.0</td>\n",
       "      <td>[English Language]</td>\n",
       "      <td>United States of America</td>\n",
       "      <td>Horror</td>\n",
       "      <td>[/m/09c7w0]</td>\n",
       "      <td>[/m/02h40lc]</td>\n",
       "      <td>[/m/01jfsb, /m/06n90, /m/03npn, /m/03k9fj, /m/...</td>\n",
       "    </tr>\n",
       "  </tbody>\n",
       "</table>\n",
       "</div>"
      ],
      "text/plain": [
       "   wiki_id freebase_id  original_title release_date     revenue  runtime  \\\n",
       "0   975900   /m/03vyhn  Ghosts of Mars   2001-08-24  14010832.0     98.0   \n",
       "0   975900   /m/03vyhn  Ghosts of Mars   2001-08-24  14010832.0     98.0   \n",
       "0   975900   /m/03vyhn  Ghosts of Mars   2001-08-24  14010832.0     98.0   \n",
       "\n",
       "            languages                 countries           genres  \\\n",
       "0  [English Language]  United States of America         Thriller   \n",
       "0  [English Language]  United States of America  Science Fiction   \n",
       "0  [English Language]  United States of America           Horror   \n",
       "\n",
       "  countries_freebase_id languages_freebase_id  \\\n",
       "0           [/m/09c7w0]          [/m/02h40lc]   \n",
       "0           [/m/09c7w0]          [/m/02h40lc]   \n",
       "0           [/m/09c7w0]          [/m/02h40lc]   \n",
       "\n",
       "                                  genres_freebase_id  \n",
       "0  [/m/01jfsb, /m/06n90, /m/03npn, /m/03k9fj, /m/...  \n",
       "0  [/m/01jfsb, /m/06n90, /m/03npn, /m/03k9fj, /m/...  \n",
       "0  [/m/01jfsb, /m/06n90, /m/03npn, /m/03k9fj, /m/...  "
      ]
     },
     "execution_count": 6,
     "metadata": {},
     "output_type": "execute_result"
    }
   ],
   "source": [
    "df_genres_countries_exploded = df_movies.explode('genres').explode('countries')\n",
    "df_genres_countries_exploded.head(3)"
   ]
  },
  {
   "cell_type": "code",
   "execution_count": 7,
   "metadata": {},
   "outputs": [
    {
     "data": {
      "text/plain": [
       "wiki_id                       0\n",
       "freebase_id                   0\n",
       "original_title                0\n",
       "release_date              12530\n",
       "revenue                  240221\n",
       "runtime                   41850\n",
       "languages                     0\n",
       "countries                 13759\n",
       "genres                     2361\n",
       "countries_freebase_id         0\n",
       "languages_freebase_id         0\n",
       "genres_freebase_id            0\n",
       "dtype: int64"
      ]
     },
     "execution_count": 7,
     "metadata": {},
     "output_type": "execute_result"
    }
   ],
   "source": [
    "# Check for missing values\n",
    "df_genres_countries_exploded.isna().sum()"
   ]
  },
  {
   "cell_type": "code",
   "execution_count": 8,
   "metadata": {},
   "outputs": [
    {
     "name": "stdout",
     "output_type": "stream",
     "text": [
      "Total number of movies: 81741\n",
      "Total number of movies with countries, release date and genres: 68144\n",
      "Pourcentage of dropped movies: 16.63%\n"
     ]
    }
   ],
   "source": [
    "# Print number of movies\n",
    "nb_movies = df_genres_countries_exploded['wiki_id'].nunique()\n",
    "print(f'Total number of movies: {nb_movies}')\n",
    "\n",
    "df_genres_countries_exploded.dropna(subset=['countries','release_date','genres'], inplace=True)\n",
    "\n",
    "nb_movies_after_dropna = df_genres_countries_exploded['wiki_id'].nunique()\n",
    "print(f'Total number of movies with countries, release date and genres: {nb_movies_after_dropna}')\n",
    "\n",
    "print(f'Pourcentage of dropped movies: {100*(1-nb_movies_after_dropna/nb_movies):.2f}%')"
   ]
  },
  {
   "cell_type": "markdown",
   "metadata": {},
   "source": [
    "Only 84% of the movies have genre, country and release date information. It represents 68144 movies, which seems to be enough for the analysis."
   ]
  },
  {
   "cell_type": "code",
   "execution_count": 9,
   "metadata": {},
   "outputs": [],
   "source": [
    "from generalUtils import attachWorldRegion\n",
    "df_genres_countries_exploded['region'] = df_genres_countries_exploded['countries'].apply(attachWorldRegion)"
   ]
  },
  {
   "cell_type": "code",
   "execution_count": 10,
   "metadata": {},
   "outputs": [
    {
     "name": "stdout",
     "output_type": "stream",
     "text": [
      "Number of unique genres:  362\n",
      "['Thriller' 'Science Fiction' 'Horror' 'Adventure' 'Supernatural' 'Action'\n",
      " 'Space western' 'Mystery' 'Biographical film' 'Drama' 'Crime Drama'\n",
      " 'Crime Fiction' 'Erotic thriller' 'Psychological thriller' 'Short Film'\n",
      " 'Silent film' 'Indie' 'Black-and-white' 'Comedy' 'Family Film' 'Fantasy'\n",
      " 'World cinema' 'Musical' 'Japanese Movies' 'Action/Adventure'\n",
      " 'Romantic comedy' 'Ensemble Film' 'Comedy-drama' 'Romantic drama'\n",
      " 'Romance Film' 'Costume drama' 'War film' 'Epic' 'Period piece'\n",
      " 'Film adaptation' \"Children's/Family\" \"Children's Fantasy\" 'Future noir'\n",
      " 'Comedy film' 'Coming of age' 'Suspense' 'Crime Thriller' 'Black comedy'\n",
      " 'Bollywood' 'Marriage Drama' 'Wuxia' 'Martial Arts Film' 'Chinese Movies'\n",
      " 'Western' 'Parody' 'Mockumentary' 'Fan film' 'Cult' 'Adventure Comedy'\n",
      " 'Slapstick' 'Biopic [feature]' 'Historical Epic' 'Sports' 'Family Drama'\n",
      " 'Political drama' 'Historical fiction' 'Courtroom Drama'\n",
      " 'Culture & Society' 'Biography' 'Documentary' 'Christmas movie'\n",
      " 'Television movie' 'Malayalam Cinema' 'Action Comedy' 'Blaxploitation'\n",
      " 'Erotica' 'Sci-Fi Horror' 'Satire' 'Epic Western' 'Gangster Film'\n",
      " 'Softcore Porn' 'Sexploitation' 'B-movie' 'Zombie Film'\n",
      " 'Action Thrillers' 'Musical Drama' 'Erotic Drama' 'Pornographic movie'\n",
      " 'Slasher' 'Film noir' 'Social issues' 'Legal drama' 'New Hollywood'\n",
      " 'History' 'Experimental film' 'Surrealism' 'Tragicomedy' 'Avant-garde'\n",
      " 'Crime Comedy' 'Monster movie' 'Natural horror films' 'Creature Film'\n",
      " 'Gender Issues' 'LGBT' 'Music' 'Comedy of Errors' 'Historical drama'\n",
      " 'Political thriller' 'Melodrama' 'Americana' 'Detective fiction'\n",
      " 'Detective' 'Concert film' 'Horror Comedy' 'Anime' 'Childhood Drama'\n",
      " 'Docudrama' 'Teen' 'Gothic Film' 'Disaster' 'Art film' 'Domestic Comedy'\n",
      " 'Musical comedy' 'Family-Oriented Adventure' 'Escape Film' 'Prison'\n",
      " 'Dance' 'Superhero movie' 'Filipino Movies' 'Filipino' 'Spy' 'Animation'\n",
      " 'Combat Films' 'Fantasy Adventure' 'Political cinema' 'Comedy horror'\n",
      " 'C-Movie' 'Dystopia' 'Buddy film' 'Tragedy' 'Time travel'\n",
      " 'Sword and sorcery' 'Political satire' 'Gross-out film' 'Gross out'\n",
      " 'Doomsday film' 'Plague' 'Propaganda film' 'Screwball comedy'\n",
      " 'Comedy Western' 'Gay' 'Gay Interest' 'Gay Themed'\n",
      " 'Film & Television History' 'Film' 'Medical fiction' 'Costume Adventure'\n",
      " 'Rockumentary' 'Feminist Film' 'Educational' 'Buddy cop'\n",
      " 'Film \\\\u00e0 clef' 'Costume Horror' 'Pre-Code'\n",
      " 'Juvenile Delinquency Film' 'Christian film' 'Natural disaster'\n",
      " 'Movie serial' 'Linguistics' 'Language & Literature' 'Comedy of manners'\n",
      " \"Children's\" 'Remake' 'Fantasy Comedy' 'Media Satire'\n",
      " 'Computer Animation' 'Spaghetti Western' 'Dogme 95' 'Backstage Musical'\n",
      " 'Law & Crime' 'Hybrid Western' 'Stop motion'\n",
      " 'Roadshow theatrical release' 'Sex comedy' 'Tollywood'\n",
      " 'Women in prison films' 'Holiday Film' 'Heavenly Comedy' 'Road movie'\n",
      " 'Giallo' 'Anthology' 'Existentialism' 'Social problem film'\n",
      " 'Sci-Fi Adventure' 'Anthropology' 'Gay pornography' 'Auto racing'\n",
      " 'Slice of life story' 'Kitchen sink realism' 'British New Wave'\n",
      " 'Samurai cinema' 'Heist' 'Gulf War' 'Archaeology' 'Romantic fantasy'\n",
      " 'Religious Film' 'Biker Film' 'Animal Picture' 'Absurdism'\n",
      " 'Swashbuckler films' 'Hagiography' 'Hardcore pornography' 'Adult'\n",
      " 'Animated Musical' 'Anti-war' 'Anti-war film' 'Cavalry Film'\n",
      " 'Haunted House Film' 'Space opera' 'Czechoslovak New Wave' 'Animals'\n",
      " 'Addiction Drama' 'Chase Movie' 'Tokusatsu' 'Pornography'\n",
      " 'Extreme Sports' 'Superhero' 'Apocalyptic and post-apocalyptic fiction'\n",
      " 'Whodunit' 'Environmental Science' 'Airplanes and airports' 'Alien Film'\n",
      " 'Graphic & Applied Arts' 'Animated cartoon' 'Essay Film'\n",
      " 'Inspirational Drama' 'Revisionist Western' 'Pinku eiga'\n",
      " 'Stand-up comedy' 'Jungle Film' 'Fairy tale' 'Comedy Thriller'\n",
      " 'Tamil cinema' 'Punk rock' 'Libraries and librarians' 'Workplace Comedy'\n",
      " 'Caper story' 'Demonic child' 'Illnesses & Disabilities' 'Expressionism'\n",
      " 'Glamorized Spy Film' 'Early Black Cinema' 'Interpersonal Relationships'\n",
      " 'British Empire Film' 'Monster' 'Sword and sorcery films' 'B-Western'\n",
      " 'Bengali Cinema' 'Filmed Play' 'Northern' 'Hip hop movies' 'Humour'\n",
      " 'Roadshow/Carny' 'Exploitation' 'Sword and Sandal' 'Nature' 'Travel'\n",
      " 'Mumblecore' \"Children's Entertainment\" 'Splatter film' 'Star vehicle'\n",
      " 'Business' 'Stoner film' 'Mythological Fantasy' 'Journalism' 'Camp'\n",
      " 'Boxing' 'Mondo film' 'Latino' 'Alien invasion' 'Sponsored film'\n",
      " 'Foreign legion' 'Heaven-Can-Wait Fantasies' 'Baseball' 'Prison film'\n",
      " 'Conspiracy fiction' 'Crime' 'Master Criminal Films' 'Jukebox musical'\n",
      " 'Indian Western' 'Road-Horror' 'Werewolf fiction' 'Feature film'\n",
      " 'Neo-noir' 'Private military company' 'Finance & Investing' 'Computers'\n",
      " 'Movies About Gladiators' 'Horse racing' 'Nuclear warfare'\n",
      " 'Inventions & Innovations' 'Instrumental Music' 'Media Studies'\n",
      " 'Archives and records' 'Psycho-biddy' 'Outlaw biker film' 'Prison escape'\n",
      " 'Z movie' 'News' 'Beach Film' 'Live action' 'Education'\n",
      " 'Health & Fitness' 'Film-Opera' 'Period Horror' 'Comdedy'\n",
      " \"Children's Issues\" 'Science fiction Western' 'Bloopers & Candid Camera'\n",
      " 'Psychological horror' 'Albino bias' 'Family & Personal Relationships'\n",
      " 'Steampunk' 'Fantasy Drama' 'Sci-Fi Thriller' 'Courtroom Comedy'\n",
      " 'Operetta' 'Parkour in popular culture' 'Cyberpunk' 'Coming-of-age film'\n",
      " 'Historical Documentaries' 'Cold War' 'Political Documetary'\n",
      " 'Fictional film' 'World History' 'Bruceploitation' 'Ealing Comedies'\n",
      " 'Silhouette animation' 'Female buddy film' 'Race movie' 'Breakdance'\n",
      " 'Acid western' 'War effort' 'Reboot' 'School story' 'Supermarionation'\n",
      " 'Clay animation' 'Sci Fi Pictures original films' 'Outlaw' 'Kafkaesque'\n",
      " 'Vampire movies' 'Goat gland' 'Therimin music' 'Beach Party film'\n",
      " 'Singing cowboy' 'Point of view shot' 'Revenge' 'Patriotic film'\n",
      " 'Chick flick' 'Ninja movie' 'Buddy Picture' 'Statutory rape'\n",
      " 'New Queer Cinema' 'Neorealism' 'The Netherlands in World War II'\n",
      " 'Revisionist Fairy Tale' 'Homoeroticism']\n"
     ]
    }
   ],
   "source": [
    "print(\"Number of unique genres: \", df_genres_countries_exploded['genres'].nunique())\n",
    "print(df_genres_countries_exploded['genres'].unique())"
   ]
  },
  {
   "cell_type": "markdown",
   "metadata": {},
   "source": [
    "There are 362 different genres in the dataset. The most common genres are Drama, Comedy and Romance. To begin with, we will analyze the evolution of the most common genres over years and countries."
   ]
  },
  {
   "cell_type": "code",
   "execution_count": 11,
   "metadata": {},
   "outputs": [
    {
     "data": {
      "image/png": "[encoded data removed]",
      "text/plain": [
       "<Figure size 1000x500 with 1 Axes>"
      ]
     },
     "metadata": {},
     "output_type": "display_data"
    }
   ],
   "source": [
    "most_common_genres = df_genres_countries_exploded['genres'].value_counts().head(10)\n",
    "\n",
    "plt.figure(figsize=(10,5))\n",
    "plt.bar(most_common_genres.index, most_common_genres.values)\n",
    "plt.title('Most common genres')\n",
    "plt.ylabel('Number of movies')\n",
    "plt.xticks(rotation=45)\n",
    "plt.show()"
   ]
  },
  {
   "cell_type": "code",
   "execution_count": 12,
   "metadata": {},
   "outputs": [],
   "source": [
    "# Convert release date to year\n",
    "df_genres_countries_exploded['year'] = pd.to_datetime(df_genres_countries_exploded['release_date']).dt.year"
   ]
  },
  {
   "cell_type": "markdown",
   "metadata": {},
   "source": [
    "### 1. Analysis per world region"
   ]
  },
  {
   "cell_type": "code",
   "execution_count": 13,
   "metadata": {},
   "outputs": [
    {
     "data": {
      "text/plain": [
       "array(['North America', 'Europe', 'Africa', 'South America',\n",
       "       'East and Southeast Asia', 'Middle East',\n",
       "       'Eastern Europe and Central Asia', 'South Asia', 'Oceania'],\n",
       "      dtype=object)"
      ]
     },
     "execution_count": 13,
     "metadata": {},
     "output_type": "execute_result"
    }
   ],
   "source": [
    "# Unique regions\n",
    "df_genres_countries_exploded['region'].unique()"
   ]
  },
  {
   "cell_type": "code",
   "execution_count": 23,
   "metadata": {},
   "outputs": [
    {
     "data": {
      "text/html": [
       "<div>\n",
       "<style scoped>\n",
       "    .dataframe tbody tr th:only-of-type {\n",
       "        vertical-align: middle;\n",
       "    }\n",
       "\n",
       "    .dataframe tbody tr th {\n",
       "        vertical-align: top;\n",
       "    }\n",
       "\n",
       "    .dataframe thead th {\n",
       "        text-align: right;\n",
       "    }\n",
       "</style>\n",
       "<table border=\"1\" class=\"dataframe\">\n",
       "  <thead>\n",
       "    <tr style=\"text-align: right;\">\n",
       "      <th></th>\n",
       "      <th>region</th>\n",
       "      <th>year</th>\n",
       "      <th>genres</th>\n",
       "      <th>count</th>\n",
       "    </tr>\n",
       "  </thead>\n",
       "  <tbody>\n",
       "    <tr>\n",
       "      <th>0</th>\n",
       "      <td>Africa</td>\n",
       "      <td>1916</td>\n",
       "      <td>Drama</td>\n",
       "      <td>1</td>\n",
       "    </tr>\n",
       "    <tr>\n",
       "      <th>1</th>\n",
       "      <td>Africa</td>\n",
       "      <td>1916</td>\n",
       "      <td>Historical fiction</td>\n",
       "      <td>1</td>\n",
       "    </tr>\n",
       "    <tr>\n",
       "      <th>2</th>\n",
       "      <td>Africa</td>\n",
       "      <td>1916</td>\n",
       "      <td>Silent film</td>\n",
       "      <td>1</td>\n",
       "    </tr>\n",
       "    <tr>\n",
       "      <th>3</th>\n",
       "      <td>Africa</td>\n",
       "      <td>1932</td>\n",
       "      <td>Black-and-white</td>\n",
       "      <td>1</td>\n",
       "    </tr>\n",
       "    <tr>\n",
       "      <th>4</th>\n",
       "      <td>Africa</td>\n",
       "      <td>1932</td>\n",
       "      <td>Drama</td>\n",
       "      <td>1</td>\n",
       "    </tr>\n",
       "  </tbody>\n",
       "</table>\n",
       "</div>"
      ],
      "text/plain": [
       "   region  year              genres  count\n",
       "0  Africa  1916               Drama      1\n",
       "1  Africa  1916  Historical fiction      1\n",
       "2  Africa  1916         Silent film      1\n",
       "3  Africa  1932     Black-and-white      1\n",
       "4  Africa  1932               Drama      1"
      ]
     },
     "execution_count": 23,
     "metadata": {},
     "output_type": "execute_result"
    }
   ],
   "source": [
    "df = df_genres_countries_exploded.groupby(['region','year','genres']).size().reset_index(name='count')\n",
    "df.head(5)"
   ]
  },
  {
   "cell_type": "code",
   "execution_count": 24,
   "metadata": {},
   "outputs": [],
   "source": [
    "from plotly.subplots import make_subplots\n",
    "import plotly.graph_objects as go"
   ]
  },
  {
   "cell_type": "code",
   "execution_count": 26,
   "metadata": {},
   "outputs": [
    {
     "data": {
      "text/html": [
       "\n",
       "        <iframe\n",
       "            width=\"100%\"\n",
       "            height=\"650\"\n",
       "            src=\"http://127.0.0.1:8050/\"\n",
       "            frameborder=\"0\"\n",
       "            allowfullscreen\n",
       "            \n",
       "        ></iframe>\n",
       "        "
      ],
      "text/plain": [
       "<IPython.lib.display.IFrame at 0x291feef4160>"
      ]
     },
     "metadata": {},
     "output_type": "display_data"
    }
   ],
   "source": [
    "# Initialize Dash app\n",
    "app = Dash(__name__)\n",
    "\n",
    "app.layout = html.Div([\n",
    "    dcc.Dropdown(\n",
    "        id=\"region-selector\",\n",
    "        options=[{\"label\": c, \"value\": c} for c in df[\"region\"].unique()],\n",
    "        value=[df[\"region\"].unique()[0]],  # Default to the first region\n",
    "        multi=True  # Enable multi-selection\n",
    "    ),\n",
    "    dcc.Graph(id=\"genre-proportion\")\n",
    "])\n",
    "\n",
    "@app.callback(\n",
    "    Output(\"genre-proportion\", \"figure\"),\n",
    "    [Input(\"region-selector\", \"value\")]\n",
    ")\n",
    "def update_genre_proportion(selected_regions):\n",
    "    # Create a subplot layout for multiple pie charts\n",
    "    rows = 1  # Number of rows\n",
    "    cols = len(selected_regions)  # Number of columns (based on selected regions)\n",
    "    fig = make_subplots(\n",
    "        rows=1, cols=cols,\n",
    "        subplot_titles=selected_regions,\n",
    "        specs=[[{\"type\": \"domain\"}] * cols]\n",
    "    )\n",
    "    \n",
    "    # Add a pie chart for each selected region\n",
    "    for idx, region in enumerate(selected_regions):\n",
    "        region_data = df[df[\"region\"] == region]\n",
    "        top_genres = (\n",
    "            region_data.groupby(\"genres\")[\"count\"]\n",
    "            .sum()\n",
    "            .nlargest(5)\n",
    "            .reset_index()\n",
    "        )\n",
    "        fig.add_trace(\n",
    "            go.Pie(\n",
    "                labels=top_genres[\"genres\"],\n",
    "                values=top_genres[\"count\"],\n",
    "                name=region\n",
    "            ),\n",
    "            row=1, col=idx + 1\n",
    "        )\n",
    "    \n",
    "    # Update layout to make it visually appealing\n",
    "    fig.update_layout(\n",
    "        title_text=\"Top 5 Genres for Selected Regions\",\n",
    "        title_x=0.5,  # Center the title\n",
    "        height=500,\n",
    "        showlegend=False  # Avoid repeated legends for each pie chart\n",
    "    )\n",
    "    \n",
    "    return fig\n",
    "\n",
    "if __name__ == \"__main__\":\n",
    "    app.run_server(debug=True)"
   ]
  },
  {
   "cell_type": "markdown",
   "metadata": {},
   "source": [
    "### 2. Analysis per country"
   ]
  },
  {
   "cell_type": "code",
   "execution_count": 17,
   "metadata": {},
   "outputs": [
    {
     "data": {
      "text/html": [
       "<div>\n",
       "<style scoped>\n",
       "    .dataframe tbody tr th:only-of-type {\n",
       "        vertical-align: middle;\n",
       "    }\n",
       "\n",
       "    .dataframe tbody tr th {\n",
       "        vertical-align: top;\n",
       "    }\n",
       "\n",
       "    .dataframe thead th {\n",
       "        text-align: right;\n",
       "    }\n",
       "</style>\n",
       "<table border=\"1\" class=\"dataframe\">\n",
       "  <thead>\n",
       "    <tr style=\"text-align: right;\">\n",
       "      <th></th>\n",
       "      <th>countries</th>\n",
       "      <th>year</th>\n",
       "      <th>genres</th>\n",
       "      <th>count</th>\n",
       "    </tr>\n",
       "  </thead>\n",
       "  <tbody>\n",
       "    <tr>\n",
       "      <th>0</th>\n",
       "      <td>Afghanistan</td>\n",
       "      <td>1975</td>\n",
       "      <td>Action/Adventure</td>\n",
       "      <td>1</td>\n",
       "    </tr>\n",
       "    <tr>\n",
       "      <th>1</th>\n",
       "      <td>Afghanistan</td>\n",
       "      <td>1975</td>\n",
       "      <td>Bollywood</td>\n",
       "      <td>1</td>\n",
       "    </tr>\n",
       "    <tr>\n",
       "      <th>2</th>\n",
       "      <td>Afghanistan</td>\n",
       "      <td>1975</td>\n",
       "      <td>Thriller</td>\n",
       "      <td>1</td>\n",
       "    </tr>\n",
       "    <tr>\n",
       "      <th>3</th>\n",
       "      <td>Afghanistan</td>\n",
       "      <td>1975</td>\n",
       "      <td>World cinema</td>\n",
       "      <td>1</td>\n",
       "    </tr>\n",
       "    <tr>\n",
       "      <th>4</th>\n",
       "      <td>Afghanistan</td>\n",
       "      <td>1992</td>\n",
       "      <td>Action/Adventure</td>\n",
       "      <td>1</td>\n",
       "    </tr>\n",
       "  </tbody>\n",
       "</table>\n",
       "</div>"
      ],
      "text/plain": [
       "     countries  year            genres  count\n",
       "0  Afghanistan  1975  Action/Adventure      1\n",
       "1  Afghanistan  1975         Bollywood      1\n",
       "2  Afghanistan  1975          Thriller      1\n",
       "3  Afghanistan  1975      World cinema      1\n",
       "4  Afghanistan  1992  Action/Adventure      1"
      ]
     },
     "execution_count": 17,
     "metadata": {},
     "output_type": "execute_result"
    }
   ],
   "source": [
    "df = df_genres_countries_exploded.groupby(['countries', 'year', 'genres']).size().reset_index(name='count')\n",
    "df.head(5)"
   ]
  },
  {
   "cell_type": "code",
   "execution_count": 47,
   "metadata": {},
   "outputs": [
    {
     "data": {
      "text/html": [
       "\n",
       "        <iframe\n",
       "            width=\"100%\"\n",
       "            height=\"650\"\n",
       "            src=\"http://127.0.0.1:8050/\"\n",
       "            frameborder=\"0\"\n",
       "            allowfullscreen\n",
       "            \n",
       "        ></iframe>\n",
       "        "
      ],
      "text/plain": [
       "<IPython.lib.display.IFrame at 0x2a3ce9c4580>"
      ]
     },
     "metadata": {},
     "output_type": "display_data"
    }
   ],
   "source": [
    "# Initialize Dash app\n",
    "app = Dash(__name__)\n",
    "\n",
    "app.layout = html.Div([\n",
    "    dcc.Dropdown(\n",
    "        id=\"country-selector\",\n",
    "        options=[{\"label\": c, \"value\": c} for c in df[\"countries\"].unique()],\n",
    "        value=df[\"countries\"].unique()[0]\n",
    "    ),\n",
    "    dcc.Graph(id=\"genre-proportion\")\n",
    "])\n",
    "\n",
    "@app.callback(\n",
    "    Output(\"genre-proportion\", \"figure\"),\n",
    "    [Input(\"country-selector\", \"value\")]\n",
    ")\n",
    "def update_genre_proportion(selected_country):\n",
    "    country_data = df[df[\"countries\"] == selected_country]\n",
    "    top_genres = (\n",
    "        country_data.groupby(\"genres\")[\"count\"]\n",
    "        .sum()\n",
    "        .nlargest(5)\n",
    "        .reset_index()\n",
    "    )\n",
    "    fig = px.pie(\n",
    "        top_genres, \n",
    "        names=\"genres\", \n",
    "        values=\"count\", \n",
    "        title=f\"5 major genres proportion in {selected_country}\"\n",
    "    )\n",
    "    return fig\n",
    "\n",
    "if __name__ == \"__main__\":\n",
    "    app.run_server(debug=True)"
   ]
  },
  {
   "cell_type": "code",
   "execution_count": 43,
   "metadata": {},
   "outputs": [
    {
     "data": {
      "text/html": [
       "\n",
       "        <iframe\n",
       "            width=\"100%\"\n",
       "            height=\"650\"\n",
       "            src=\"http://127.0.0.1:8050/\"\n",
       "            frameborder=\"0\"\n",
       "            allowfullscreen\n",
       "            \n",
       "        ></iframe>\n",
       "        "
      ],
      "text/plain": [
       "<IPython.lib.display.IFrame at 0x2a3d2b48400>"
      ]
     },
     "metadata": {},
     "output_type": "display_data"
    }
   ],
   "source": [
    "app1 = Dash(__name__)\n",
    "\n",
    "# Layout for multi-country and genre trends\n",
    "app1.layout = html.Div([\n",
    "    html.H1(\"Trends by Countries and Genres\"),\n",
    "    html.Label(\"Select Countries:\"),\n",
    "    dcc.Dropdown(\n",
    "        id='countries-multi-dropdown',\n",
    "        options=[{'label': country, 'value': country} for country in df['countries'].unique()],\n",
    "        value=[df['countries'].unique()[0]],\n",
    "        multi=True\n",
    "    ),\n",
    "    html.Label(\"Select Genres:\"),\n",
    "    dcc.Dropdown(\n",
    "        id='genres-multi-dropdown',\n",
    "        options=[{'label': genre, 'value': genre} for genre in df['genres'].unique()],\n",
    "        value=[df['genres'].unique()[0]],\n",
    "        multi=True\n",
    "    ),\n",
    "    dcc.Graph(id='multi-trends-plot')\n",
    "])\n",
    "\n",
    "# Callback for multi-country and genre trends\n",
    "@app1.callback(\n",
    "    Output('multi-trends-plot', 'figure'),\n",
    "    [Input('countries-multi-dropdown', 'value'),\n",
    "     Input('genres-multi-dropdown', 'value')]\n",
    ")\n",
    "def update_multi_trends_plot(selected_countries, selected_genres):\n",
    "    filtered_df = df[(df['countries'].isin(selected_countries)) & (df['genres'].isin(selected_genres))]\n",
    "    trends = filtered_df.groupby(['year', 'genres', 'countries'])['count'].sum().reset_index()\n",
    "    fig = px.line(trends, x='year', y='count', color='genres', facet_col='countries',\n",
    "                  title=\"Trends Across Countries and Genres\",\n",
    "                  labels={'count': 'Number of Films', 'year': 'Year'})\n",
    "    return fig\n",
    "\n",
    "if __name__ == \"__main__\":\n",
    "    app1.run_server(debug=True)"
   ]
  },
  {
   "cell_type": "code",
   "execution_count": 46,
   "metadata": {},
   "outputs": [
    {
     "ename": "AssertionError",
     "evalue": "The setup method 'errorhandler' can no longer be called on the application. It has already handled its first request, any changes will not be applied consistently.\nMake sure all imports, decorators, functions, etc. needed to set up the application are done before running it.",
     "output_type": "error",
     "traceback": [
      "\u001b[1;31m---------------------------------------------------------------------------\u001b[0m",
      "\u001b[1;31mAssertionError\u001b[0m                            Traceback (most recent call last)",
      "Cell \u001b[1;32mIn[46], line 28\u001b[0m\n\u001b[0;32m     25\u001b[0m     \u001b[38;5;28;01mreturn\u001b[39;00m fig\n\u001b[0;32m     27\u001b[0m \u001b[38;5;28;01mif\u001b[39;00m \u001b[38;5;18m__name__\u001b[39m \u001b[38;5;241m==\u001b[39m \u001b[38;5;124m\"\u001b[39m\u001b[38;5;124m__main__\u001b[39m\u001b[38;5;124m\"\u001b[39m:\n\u001b[1;32m---> 28\u001b[0m     \u001b[43mapp\u001b[49m\u001b[38;5;241;43m.\u001b[39;49m\u001b[43mrun_server\u001b[49m\u001b[43m(\u001b[49m\u001b[43mdebug\u001b[49m\u001b[38;5;241;43m=\u001b[39;49m\u001b[38;5;28;43;01mTrue\u001b[39;49;00m\u001b[43m)\u001b[49m\n",
      "File \u001b[1;32mc:\\Users\\arnau\\anaconda3\\envs\\new_env\\lib\\site-packages\\dash\\dash.py:2287\u001b[0m, in \u001b[0;36mDash.run_server\u001b[1;34m(self, *args, **kwargs)\u001b[0m\n\u001b[0;32m   2277\u001b[0m \u001b[38;5;250m\u001b[39m\u001b[38;5;124;03m\"\"\"`run_server` is a deprecated alias of `run` and may be removed in a\u001b[39;00m\n\u001b[0;32m   2278\u001b[0m \u001b[38;5;124;03mfuture version. We recommend using `app.run` instead.\u001b[39;00m\n\u001b[0;32m   2279\u001b[0m \n\u001b[0;32m   2280\u001b[0m \u001b[38;5;124;03mSee `app.run` for usage information.\u001b[39;00m\n\u001b[0;32m   2281\u001b[0m \u001b[38;5;124;03m\"\"\"\u001b[39;00m\n\u001b[0;32m   2282\u001b[0m warnings\u001b[38;5;241m.\u001b[39mwarn(\n\u001b[0;32m   2283\u001b[0m     \u001b[38;5;167;01mDeprecationWarning\u001b[39;00m(\n\u001b[0;32m   2284\u001b[0m         \u001b[38;5;124m\"\u001b[39m\u001b[38;5;124mDash.run_server is deprecated and will be removed in Dash 3.0\u001b[39m\u001b[38;5;124m\"\u001b[39m\n\u001b[0;32m   2285\u001b[0m     )\n\u001b[0;32m   2286\u001b[0m )\n\u001b[1;32m-> 2287\u001b[0m \u001b[38;5;28mself\u001b[39m\u001b[38;5;241m.\u001b[39mrun(\u001b[38;5;241m*\u001b[39margs, \u001b[38;5;241m*\u001b[39m\u001b[38;5;241m*\u001b[39mkwargs)\n",
      "File \u001b[1;32mc:\\Users\\arnau\\anaconda3\\envs\\new_env\\lib\\site-packages\\dash\\dash.py:2098\u001b[0m, in \u001b[0;36mDash.run\u001b[1;34m(self, host, port, proxy, debug, jupyter_mode, jupyter_width, jupyter_height, jupyter_server_url, dev_tools_ui, dev_tools_props_check, dev_tools_serve_dev_bundles, dev_tools_hot_reload, dev_tools_hot_reload_interval, dev_tools_hot_reload_watch_interval, dev_tools_hot_reload_max_retry, dev_tools_silence_routes_logging, dev_tools_prune_errors, **flask_run_options)\u001b[0m\n\u001b[0;32m   2095\u001b[0m \u001b[38;5;28;01mif\u001b[39;00m debug \u001b[38;5;129;01mis\u001b[39;00m \u001b[38;5;28;01mNone\u001b[39;00m:\n\u001b[0;32m   2096\u001b[0m     debug \u001b[38;5;241m=\u001b[39m get_combined_config(\u001b[38;5;124m\"\u001b[39m\u001b[38;5;124mdebug\u001b[39m\u001b[38;5;124m\"\u001b[39m, \u001b[38;5;28;01mNone\u001b[39;00m, \u001b[38;5;28;01mFalse\u001b[39;00m)\n\u001b[1;32m-> 2098\u001b[0m debug \u001b[38;5;241m=\u001b[39m \u001b[38;5;28;43mself\u001b[39;49m\u001b[38;5;241;43m.\u001b[39;49m\u001b[43menable_dev_tools\u001b[49m\u001b[43m(\u001b[49m\n\u001b[0;32m   2099\u001b[0m \u001b[43m    \u001b[49m\u001b[43mdebug\u001b[49m\u001b[43m,\u001b[49m\n\u001b[0;32m   2100\u001b[0m \u001b[43m    \u001b[49m\u001b[43mdev_tools_ui\u001b[49m\u001b[43m,\u001b[49m\n\u001b[0;32m   2101\u001b[0m \u001b[43m    \u001b[49m\u001b[43mdev_tools_props_check\u001b[49m\u001b[43m,\u001b[49m\n\u001b[0;32m   2102\u001b[0m \u001b[43m    \u001b[49m\u001b[43mdev_tools_serve_dev_bundles\u001b[49m\u001b[43m,\u001b[49m\n\u001b[0;32m   2103\u001b[0m \u001b[43m    \u001b[49m\u001b[43mdev_tools_hot_reload\u001b[49m\u001b[43m,\u001b[49m\n\u001b[0;32m   2104\u001b[0m \u001b[43m    \u001b[49m\u001b[43mdev_tools_hot_reload_interval\u001b[49m\u001b[43m,\u001b[49m\n\u001b[0;32m   2105\u001b[0m \u001b[43m    \u001b[49m\u001b[43mdev_tools_hot_reload_watch_interval\u001b[49m\u001b[43m,\u001b[49m\n\u001b[0;32m   2106\u001b[0m \u001b[43m    \u001b[49m\u001b[43mdev_tools_hot_reload_max_retry\u001b[49m\u001b[43m,\u001b[49m\n\u001b[0;32m   2107\u001b[0m \u001b[43m    \u001b[49m\u001b[43mdev_tools_silence_routes_logging\u001b[49m\u001b[43m,\u001b[49m\n\u001b[0;32m   2108\u001b[0m \u001b[43m    \u001b[49m\u001b[43mdev_tools_prune_errors\u001b[49m\u001b[43m,\u001b[49m\n\u001b[0;32m   2109\u001b[0m \u001b[43m\u001b[49m\u001b[43m)\u001b[49m\n\u001b[0;32m   2111\u001b[0m \u001b[38;5;66;03m# Evaluate the env variables at runtime\u001b[39;00m\n\u001b[0;32m   2113\u001b[0m host \u001b[38;5;241m=\u001b[39m os\u001b[38;5;241m.\u001b[39mgetenv(\u001b[38;5;124m\"\u001b[39m\u001b[38;5;124mHOST\u001b[39m\u001b[38;5;124m\"\u001b[39m, host)\n",
      "File \u001b[1;32mc:\\Users\\arnau\\anaconda3\\envs\\new_env\\lib\\site-packages\\dash\\dash.py:1868\u001b[0m, in \u001b[0;36mDash.enable_dev_tools\u001b[1;34m(self, debug, dev_tools_ui, dev_tools_props_check, dev_tools_serve_dev_bundles, dev_tools_hot_reload, dev_tools_hot_reload_interval, dev_tools_hot_reload_watch_interval, dev_tools_hot_reload_max_retry, dev_tools_silence_routes_logging, dev_tools_prune_errors)\u001b[0m\n\u001b[0;32m   1866\u001b[0m \u001b[38;5;28;01mif\u001b[39;00m debug:\n\u001b[0;32m   1867\u001b[0m     \u001b[38;5;28;01mif\u001b[39;00m jupyter_dash\u001b[38;5;241m.\u001b[39mactive:\n\u001b[1;32m-> 1868\u001b[0m         \u001b[43mjupyter_dash\u001b[49m\u001b[38;5;241;43m.\u001b[39;49m\u001b[43mconfigure_callback_exception_handling\u001b[49m\u001b[43m(\u001b[49m\n\u001b[0;32m   1869\u001b[0m \u001b[43m            \u001b[49m\u001b[38;5;28;43mself\u001b[39;49m\u001b[43m,\u001b[49m\u001b[43m \u001b[49m\u001b[43mdev_tools\u001b[49m\u001b[38;5;241;43m.\u001b[39;49m\u001b[43mprune_errors\u001b[49m\n\u001b[0;32m   1870\u001b[0m \u001b[43m        \u001b[49m\u001b[43m)\u001b[49m\n\u001b[0;32m   1871\u001b[0m     \u001b[38;5;28;01melif\u001b[39;00m dev_tools\u001b[38;5;241m.\u001b[39mprune_errors:\n\u001b[0;32m   1872\u001b[0m         secret \u001b[38;5;241m=\u001b[39m gen_salt(\u001b[38;5;241m20\u001b[39m)\n",
      "File \u001b[1;32mc:\\Users\\arnau\\anaconda3\\envs\\new_env\\lib\\site-packages\\dash\\_jupyter.py:447\u001b[0m, in \u001b[0;36mJupyterDash.configure_callback_exception_handling\u001b[1;34m(self, app, dev_tools_prune_errors)\u001b[0m\n\u001b[0;32m    444\u001b[0m \u001b[38;5;28;01mdef\u001b[39;00m \u001b[38;5;21mconfigure_callback_exception_handling\u001b[39m(\u001b[38;5;28mself\u001b[39m, app, dev_tools_prune_errors):\n\u001b[0;32m    445\u001b[0m \u001b[38;5;250m    \u001b[39m\u001b[38;5;124;03m\"\"\"Install traceback handling for callbacks\"\"\"\u001b[39;00m\n\u001b[1;32m--> 447\u001b[0m     \u001b[38;5;129m@app\u001b[39m\u001b[38;5;241;43m.\u001b[39;49m\u001b[43mserver\u001b[49m\u001b[38;5;241;43m.\u001b[39;49m\u001b[43merrorhandler\u001b[49m\u001b[43m(\u001b[49m\u001b[38;5;167;43;01mException\u001b[39;49;00m\u001b[43m)\u001b[49m\n\u001b[0;32m    448\u001b[0m     \u001b[38;5;28;01mdef\u001b[39;00m \u001b[38;5;21m_wrap_errors\u001b[39m(error):\n\u001b[0;32m    449\u001b[0m         \u001b[38;5;66;03m# Compute number of stack frames to skip to get down to callback\u001b[39;00m\n\u001b[0;32m    450\u001b[0m         skip \u001b[38;5;241m=\u001b[39m _get_skip(error) \u001b[38;5;28;01mif\u001b[39;00m dev_tools_prune_errors \u001b[38;5;28;01melse\u001b[39;00m \u001b[38;5;241m0\u001b[39m\n\u001b[0;32m    452\u001b[0m         \u001b[38;5;66;03m# Customized formatargvalues function we can place function parameters\u001b[39;00m\n\u001b[0;32m    453\u001b[0m         \u001b[38;5;66;03m# on separate lines\u001b[39;00m\n",
      "File \u001b[1;32mc:\\Users\\arnau\\anaconda3\\envs\\new_env\\lib\\site-packages\\flask\\sansio\\scaffold.py:46\u001b[0m, in \u001b[0;36msetupmethod.<locals>.wrapper_func\u001b[1;34m(self, *args, **kwargs)\u001b[0m\n\u001b[0;32m     45\u001b[0m \u001b[38;5;28;01mdef\u001b[39;00m \u001b[38;5;21mwrapper_func\u001b[39m(\u001b[38;5;28mself\u001b[39m: Scaffold, \u001b[38;5;241m*\u001b[39margs: t\u001b[38;5;241m.\u001b[39mAny, \u001b[38;5;241m*\u001b[39m\u001b[38;5;241m*\u001b[39mkwargs: t\u001b[38;5;241m.\u001b[39mAny) \u001b[38;5;241m-\u001b[39m\u001b[38;5;241m>\u001b[39m t\u001b[38;5;241m.\u001b[39mAny:\n\u001b[1;32m---> 46\u001b[0m     \u001b[38;5;28;43mself\u001b[39;49m\u001b[38;5;241;43m.\u001b[39;49m\u001b[43m_check_setup_finished\u001b[49m\u001b[43m(\u001b[49m\u001b[43mf_name\u001b[49m\u001b[43m)\u001b[49m\n\u001b[0;32m     47\u001b[0m     \u001b[38;5;28;01mreturn\u001b[39;00m f(\u001b[38;5;28mself\u001b[39m, \u001b[38;5;241m*\u001b[39margs, \u001b[38;5;241m*\u001b[39m\u001b[38;5;241m*\u001b[39mkwargs)\n",
      "File \u001b[1;32mc:\\Users\\arnau\\anaconda3\\envs\\new_env\\lib\\site-packages\\flask\\sansio\\app.py:415\u001b[0m, in \u001b[0;36mApp._check_setup_finished\u001b[1;34m(self, f_name)\u001b[0m\n\u001b[0;32m    413\u001b[0m \u001b[38;5;28;01mdef\u001b[39;00m \u001b[38;5;21m_check_setup_finished\u001b[39m(\u001b[38;5;28mself\u001b[39m, f_name: \u001b[38;5;28mstr\u001b[39m) \u001b[38;5;241m-\u001b[39m\u001b[38;5;241m>\u001b[39m \u001b[38;5;28;01mNone\u001b[39;00m:\n\u001b[0;32m    414\u001b[0m     \u001b[38;5;28;01mif\u001b[39;00m \u001b[38;5;28mself\u001b[39m\u001b[38;5;241m.\u001b[39m_got_first_request:\n\u001b[1;32m--> 415\u001b[0m         \u001b[38;5;28;01mraise\u001b[39;00m \u001b[38;5;167;01mAssertionError\u001b[39;00m(\n\u001b[0;32m    416\u001b[0m             \u001b[38;5;124mf\u001b[39m\u001b[38;5;124m\"\u001b[39m\u001b[38;5;124mThe setup method \u001b[39m\u001b[38;5;124m'\u001b[39m\u001b[38;5;132;01m{\u001b[39;00mf_name\u001b[38;5;132;01m}\u001b[39;00m\u001b[38;5;124m'\u001b[39m\u001b[38;5;124m can no longer be called\u001b[39m\u001b[38;5;124m\"\u001b[39m\n\u001b[0;32m    417\u001b[0m             \u001b[38;5;124m\"\u001b[39m\u001b[38;5;124m on the application. It has already handled its first\u001b[39m\u001b[38;5;124m\"\u001b[39m\n\u001b[0;32m    418\u001b[0m             \u001b[38;5;124m\"\u001b[39m\u001b[38;5;124m request, any changes will not be applied\u001b[39m\u001b[38;5;124m\"\u001b[39m\n\u001b[0;32m    419\u001b[0m             \u001b[38;5;124m\"\u001b[39m\u001b[38;5;124m consistently.\u001b[39m\u001b[38;5;130;01m\\n\u001b[39;00m\u001b[38;5;124m\"\u001b[39m\n\u001b[0;32m    420\u001b[0m             \u001b[38;5;124m\"\u001b[39m\u001b[38;5;124mMake sure all imports, decorators, functions, etc.\u001b[39m\u001b[38;5;124m\"\u001b[39m\n\u001b[0;32m    421\u001b[0m             \u001b[38;5;124m\"\u001b[39m\u001b[38;5;124m needed to set up the application are done before\u001b[39m\u001b[38;5;124m\"\u001b[39m\n\u001b[0;32m    422\u001b[0m             \u001b[38;5;124m\"\u001b[39m\u001b[38;5;124m running it.\u001b[39m\u001b[38;5;124m\"\u001b[39m\n\u001b[0;32m    423\u001b[0m         )\n",
      "\u001b[1;31mAssertionError\u001b[0m: The setup method 'errorhandler' can no longer be called on the application. It has already handled its first request, any changes will not be applied consistently.\nMake sure all imports, decorators, functions, etc. needed to set up the application are done before running it."
     ]
    }
   ],
   "source": [
    "# Layout for map\n",
    "app.layout = html.Div([\n",
    "    html.H1(\"Film Production Map by Genre\"),\n",
    "    html.Label(\"Select a Genre:\"),\n",
    "    dcc.Dropdown(\n",
    "        id='map-genre-dropdown',\n",
    "        options=[{'label': genre, 'value': genre} for genre in df['genres'].unique()],\n",
    "        value=df['genres'].unique()[0]\n",
    "    ),\n",
    "    dcc.Graph(id='genre-map-plot')\n",
    "])\n",
    "\n",
    "# Callback for map\n",
    "@app.callback(\n",
    "    Output('genre-map-plot', 'figure'),\n",
    "    Input('map-genre-dropdown', 'value')\n",
    ")\n",
    "def update_genre_map_plot(selected_genre):\n",
    "    filtered_df = df[df['genres'] == selected_genre]\n",
    "    trends = filtered_df.groupby(['year', 'countries'])['count'].sum().reset_index()\n",
    "    fig = px.choropleth(trends, locations='countries', locationmode='country names',\n",
    "                        color='count', animation_frame='year',\n",
    "                        title=f\"Film Production Map for {selected_genre}\",\n",
    "                        labels={'count': 'Number of Films'})\n",
    "    return fig\n",
    "\n",
    "if __name__ == \"__main__\":\n",
    "    app.run_server(debug=True)"
   ]
  }
 ],
 "metadata": {
  "kernelspec": {
   "display_name": "new_env",
   "language": "python",
   "name": "python3"
  },
  "language_info": {
   "codemirror_mode": {
    "name": "ipython",
    "version": 3
   },
   "file_extension": ".py",
   "mimetype": "text/x-python",
   "name": "python",
   "nbconvert_exporter": "python",
   "pygments_lexer": "ipython3",
   "version": "3.10.15"
  }
 },
 "nbformat": 4,
 "nbformat_minor": 2
}
