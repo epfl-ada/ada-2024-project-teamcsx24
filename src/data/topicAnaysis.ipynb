{
 "cells": [
  {
   "cell_type": "markdown",
   "metadata": {},
   "source": [
    "# Topics Analysis"
   ]
  },
  {
   "cell_type": "code",
   "execution_count": 1,
   "metadata": {},
   "outputs": [],
   "source": [
    "import pandas as pd"
   ]
  },
  {
   "cell_type": "code",
   "execution_count": 2,
   "metadata": {},
   "outputs": [
    {
     "data": {
      "text/html": [
       "<div>\n",
       "<style scoped>\n",
       "    .dataframe tbody tr th:only-of-type {\n",
       "        vertical-align: middle;\n",
       "    }\n",
       "\n",
       "    .dataframe tbody tr th {\n",
       "        vertical-align: top;\n",
       "    }\n",
       "\n",
       "    .dataframe thead th {\n",
       "        text-align: right;\n",
       "    }\n",
       "</style>\n",
       "<table border=\"1\" class=\"dataframe\">\n",
       "  <thead>\n",
       "    <tr style=\"text-align: right;\">\n",
       "      <th></th>\n",
       "      <th>wiki_id</th>\n",
       "      <th>cleaned_summary</th>\n",
       "      <th>language</th>\n",
       "      <th>topic</th>\n",
       "      <th>topic_name</th>\n",
       "    </tr>\n",
       "  </thead>\n",
       "  <tbody>\n",
       "    <tr>\n",
       "      <th>0</th>\n",
       "      <td>23890098</td>\n",
       "      <td>shlykov hard work taxi driver lyosha saxophoni...</td>\n",
       "      <td>en</td>\n",
       "      <td>-1</td>\n",
       "      <td>Unclassified</td>\n",
       "    </tr>\n",
       "    <tr>\n",
       "      <th>1</th>\n",
       "      <td>31186339</td>\n",
       "      <td>nation panem consist wealthy capitol twelve po...</td>\n",
       "      <td>en</td>\n",
       "      <td>-1</td>\n",
       "      <td>Unclassified</td>\n",
       "    </tr>\n",
       "    <tr>\n",
       "      <th>2</th>\n",
       "      <td>20663735</td>\n",
       "      <td>poovalli induchoodan sentence six year prison ...</td>\n",
       "      <td>en</td>\n",
       "      <td>0</td>\n",
       "      <td>Love &amp; Family</td>\n",
       "    </tr>\n",
       "    <tr>\n",
       "      <th>3</th>\n",
       "      <td>2231378</td>\n",
       "      <td>lemon drop kid new york city swindler illegall...</td>\n",
       "      <td>en</td>\n",
       "      <td>-1</td>\n",
       "      <td>Unclassified</td>\n",
       "    </tr>\n",
       "    <tr>\n",
       "      <th>4</th>\n",
       "      <td>595909</td>\n",
       "      <td>seventh day adventist church pastor michael ch...</td>\n",
       "      <td>en</td>\n",
       "      <td>-1</td>\n",
       "      <td>Unclassified</td>\n",
       "    </tr>\n",
       "  </tbody>\n",
       "</table>\n",
       "</div>"
      ],
      "text/plain": [
       "    wiki_id                                    cleaned_summary language  \\\n",
       "0  23890098  shlykov hard work taxi driver lyosha saxophoni...       en   \n",
       "1  31186339  nation panem consist wealthy capitol twelve po...       en   \n",
       "2  20663735  poovalli induchoodan sentence six year prison ...       en   \n",
       "3   2231378  lemon drop kid new york city swindler illegall...       en   \n",
       "4    595909  seventh day adventist church pastor michael ch...       en   \n",
       "\n",
       "   topic     topic_name  \n",
       "0     -1   Unclassified  \n",
       "1     -1   Unclassified  \n",
       "2      0  Love & Family  \n",
       "3     -1   Unclassified  \n",
       "4     -1   Unclassified  "
      ]
     },
     "execution_count": 2,
     "metadata": {},
     "output_type": "execute_result"
    }
   ],
   "source": [
    "df = pd.read_csv('../../data/topicModelData/summaries_with_topics.csv')\n",
    "df.head()"
   ]
  },
  {
   "cell_type": "code",
   "execution_count": 4,
   "metadata": {},
   "outputs": [
    {
     "data": {
      "text/plain": [
       "topic_name\n",
       "Love & Family     7433\n",
       "Crime             4606\n",
       "Investigation     1384\n",
       "Martial Arts      1165\n",
       "Family Drama       673\n",
       "Sci-Fi Earth       638\n",
       "Civil War          477\n",
       "French Life        396\n",
       "WWII               356\n",
       "Space              352\n",
       "Pirates            286\n",
       "USSR               227\n",
       "Soldiers           224\n",
       "Cartoons           219\n",
       "Monsters           217\n",
       "Sports             211\n",
       "Samurai            181\n",
       "Tom & Jerry        158\n",
       "Royalty            152\n",
       "Christmas          150\n",
       "Stooges            146\n",
       "Africa             134\n",
       "Charlie Brown      108\n",
       "Middle East        104\n",
       "College             97\n",
       "Disney              92\n",
       "Tokyo Life          91\n",
       "Fantasy             85\n",
       "Pink Panther        84\n",
       "Yakuza              83\n",
       "Jungle              80\n",
       "Racing              77\n",
       "Musketeers          75\n",
       "Laurel & Hardy      69\n",
       "Betty Boop          58\n",
       "Godzilla            54\n",
       "Roman Empire        54\n",
       "Politics            52\n",
       "School Life         51\n",
       "Boxing              50\n",
       "Name: count, dtype: int64"
      ]
     },
     "execution_count": 4,
     "metadata": {},
     "output_type": "execute_result"
    }
   ],
   "source": [
    "df = df[df['topic'] != -1]\n",
    "df['topic_name'].value_counts()"
   ]
  },
  {
   "cell_type": "code",
   "execution_count": null,
   "metadata": {},
   "outputs": [],
   "source": []
  }
 ],
 "metadata": {
  "kernelspec": {
   "display_name": "new_env",
   "language": "python",
   "name": "python3"
  },
  "language_info": {
   "codemirror_mode": {
    "name": "ipython",
    "version": 3
   },
   "file_extension": ".py",
   "mimetype": "text/x-python",
   "name": "python",
   "nbconvert_exporter": "python",
   "pygments_lexer": "ipython3",
   "version": "3.10.15"
  }
 },
 "nbformat": 4,
 "nbformat_minor": 2
}
