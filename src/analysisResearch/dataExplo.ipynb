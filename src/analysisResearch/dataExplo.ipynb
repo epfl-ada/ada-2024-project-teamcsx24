{
 "cells": [
  {
   "cell_type": "code",
   "execution_count": 1,
   "metadata": {},
   "outputs": [],
   "source": [
    "import pandas as pd\n",
    "import matplotlib.pyplot as plt\n",
    "\n",
    "import sys\n",
    "sys.path.append('../data')\n",
    "from dataLoader import loadDataframe"
   ]
  },
  {
   "cell_type": "markdown",
   "metadata": {},
   "source": [
    "Import datas"
   ]
  },
  {
   "cell_type": "code",
   "execution_count": 2,
   "metadata": {},
   "outputs": [],
   "source": [
    "path_to_directory = '../../data/cleanData/'\n",
    "df_movies = loadDataframe('movies', path_to_directory)\n",
    "df_characters = loadDataframe('characters', path_to_directory)\n",
    "df_clusters = loadDataframe('clusters', path_to_directory)\n",
    "df_summaries = loadDataframe('summaries', path_to_directory)"
   ]
  },
  {
   "cell_type": "markdown",
   "metadata": {},
   "source": [
    "# Data exploration"
   ]
  },
  {
   "cell_type": "markdown",
   "metadata": {},
   "source": [
    "### Genres exploration"
   ]
  },
  {
   "cell_type": "code",
   "execution_count": 3,
   "metadata": {},
   "outputs": [
    {
     "data": {
      "image/png": "[encoded data removed]",
      "text/plain": [
       "<Figure size 640x480 with 1 Axes>"
      ]
     },
     "metadata": {},
     "output_type": "display_data"
    }
   ],
   "source": [
    "# Distribution of number of movies per year\n",
    "plt.hist(df_movies['release_date'].dt.year, bins=range(1890, 2020, 1))\n",
    "plt.xlabel('Year')\n",
    "plt.ylabel('Number of movies')\n",
    "plt.title('Distribution of number of movies per year')\n",
    "plt.show()"
   ]
  },
  {
   "cell_type": "markdown",
   "metadata": {},
   "source": [
    "The total movies produced per year increases over time."
   ]
  },
  {
   "cell_type": "code",
   "execution_count": 4,
   "metadata": {},
   "outputs": [
    {
     "data": {
      "text/html": [
       "<div>\n",
       "<style scoped>\n",
       "    .dataframe tbody tr th:only-of-type {\n",
       "        vertical-align: middle;\n",
       "    }\n",
       "\n",
       "    .dataframe tbody tr th {\n",
       "        vertical-align: top;\n",
       "    }\n",
       "\n",
       "    .dataframe thead th {\n",
       "        text-align: right;\n",
       "    }\n",
       "</style>\n",
       "<table border=\"1\" class=\"dataframe\">\n",
       "  <thead>\n",
       "    <tr style=\"text-align: right;\">\n",
       "      <th></th>\n",
       "      <th>wiki_id</th>\n",
       "      <th>freebase_id</th>\n",
       "      <th>original_title</th>\n",
       "      <th>release_date</th>\n",
       "      <th>revenue</th>\n",
       "      <th>runtime</th>\n",
       "      <th>languages</th>\n",
       "      <th>countries</th>\n",
       "      <th>genres</th>\n",
       "      <th>countries_freebase_id</th>\n",
       "      <th>languages_freebase_id</th>\n",
       "      <th>genres_freebase_id</th>\n",
       "    </tr>\n",
       "  </thead>\n",
       "  <tbody>\n",
       "    <tr>\n",
       "      <th>0</th>\n",
       "      <td>975900</td>\n",
       "      <td>/m/03vyhn</td>\n",
       "      <td>Ghosts of Mars</td>\n",
       "      <td>2001-08-24</td>\n",
       "      <td>14010832.0</td>\n",
       "      <td>98.0</td>\n",
       "      <td>[English Language]</td>\n",
       "      <td>United States of America</td>\n",
       "      <td>Thriller</td>\n",
       "      <td>['/m/09c7w0']</td>\n",
       "      <td>['/m/02h40lc']</td>\n",
       "      <td>['/m/01jfsb', '/m/06n90', '/m/03npn', '/m/03k9...</td>\n",
       "    </tr>\n",
       "    <tr>\n",
       "      <th>0</th>\n",
       "      <td>975900</td>\n",
       "      <td>/m/03vyhn</td>\n",
       "      <td>Ghosts of Mars</td>\n",
       "      <td>2001-08-24</td>\n",
       "      <td>14010832.0</td>\n",
       "      <td>98.0</td>\n",
       "      <td>[English Language]</td>\n",
       "      <td>United States of America</td>\n",
       "      <td>Science Fiction</td>\n",
       "      <td>['/m/09c7w0']</td>\n",
       "      <td>['/m/02h40lc']</td>\n",
       "      <td>['/m/01jfsb', '/m/06n90', '/m/03npn', '/m/03k9...</td>\n",
       "    </tr>\n",
       "    <tr>\n",
       "      <th>0</th>\n",
       "      <td>975900</td>\n",
       "      <td>/m/03vyhn</td>\n",
       "      <td>Ghosts of Mars</td>\n",
       "      <td>2001-08-24</td>\n",
       "      <td>14010832.0</td>\n",
       "      <td>98.0</td>\n",
       "      <td>[English Language]</td>\n",
       "      <td>United States of America</td>\n",
       "      <td>Horror</td>\n",
       "      <td>['/m/09c7w0']</td>\n",
       "      <td>['/m/02h40lc']</td>\n",
       "      <td>['/m/01jfsb', '/m/06n90', '/m/03npn', '/m/03k9...</td>\n",
       "    </tr>\n",
       "  </tbody>\n",
       "</table>\n",
       "</div>"
      ],
      "text/plain": [
       "   wiki_id freebase_id  original_title release_date     revenue  runtime  \\\n",
       "0   975900   /m/03vyhn  Ghosts of Mars   2001-08-24  14010832.0     98.0   \n",
       "0   975900   /m/03vyhn  Ghosts of Mars   2001-08-24  14010832.0     98.0   \n",
       "0   975900   /m/03vyhn  Ghosts of Mars   2001-08-24  14010832.0     98.0   \n",
       "\n",
       "            languages                 countries           genres  \\\n",
       "0  [English Language]  United States of America         Thriller   \n",
       "0  [English Language]  United States of America  Science Fiction   \n",
       "0  [English Language]  United States of America           Horror   \n",
       "\n",
       "  countries_freebase_id languages_freebase_id  \\\n",
       "0         ['/m/09c7w0']        ['/m/02h40lc']   \n",
       "0         ['/m/09c7w0']        ['/m/02h40lc']   \n",
       "0         ['/m/09c7w0']        ['/m/02h40lc']   \n",
       "\n",
       "                                  genres_freebase_id  \n",
       "0  ['/m/01jfsb', '/m/06n90', '/m/03npn', '/m/03k9...  \n",
       "0  ['/m/01jfsb', '/m/06n90', '/m/03npn', '/m/03k9...  \n",
       "0  ['/m/01jfsb', '/m/06n90', '/m/03npn', '/m/03k9...  "
      ]
     },
     "execution_count": 4,
     "metadata": {},
     "output_type": "execute_result"
    }
   ],
   "source": [
    "df_genres_countries_exploded = df_movies.explode('genres').explode('countries')\n",
    "df_genres_countries_exploded.head(3)"
   ]
  },
  {
   "cell_type": "code",
   "execution_count": 5,
   "metadata": {},
   "outputs": [
    {
     "name": "stdout",
     "output_type": "stream",
     "text": [
      "Number of unique genres:  363\n",
      "['Thriller' 'Science Fiction' 'Horror' 'Adventure' 'Supernatural' 'Action'\n",
      " 'Space western' 'Mystery' 'Biographical film' 'Drama' 'Crime Drama'\n",
      " 'Crime Fiction' 'Erotic thriller' 'Psychological thriller' 'Short Film'\n",
      " 'Silent film' 'Indie' 'Black-and-white' 'Comedy' 'Family Film' 'Fantasy'\n",
      " 'World cinema' 'Musical' 'Japanese Movies' 'Action/Adventure'\n",
      " 'Romantic comedy' 'Ensemble Film' 'Comedy-drama' 'Romantic drama'\n",
      " 'Romance Film' 'Costume drama' 'War film' 'Epic' 'Period piece'\n",
      " 'Film adaptation' 'Animation' \"Children's/Family\" \"Children's Fantasy\"\n",
      " nan 'Future noir' 'Comedy film' 'Coming of age' 'Suspense'\n",
      " 'Crime Thriller' 'Black comedy' 'Bollywood' 'Marriage Drama' 'Wuxia'\n",
      " 'Martial Arts Film' 'Chinese Movies' 'Western' 'Parody' 'Mockumentary'\n",
      " 'Fan film' 'Cult' 'Adventure Comedy' 'Slapstick' 'Biopic [feature]'\n",
      " 'Historical Epic' 'Sports' 'Family Drama' 'Political drama'\n",
      " 'Historical fiction' 'Courtroom Drama' 'Culture & Society' 'Biography'\n",
      " 'Documentary' 'Christmas movie' 'Television movie' 'Malayalam Cinema'\n",
      " 'Historical drama' 'Action Comedy' 'Blaxploitation' 'Erotica'\n",
      " 'Sci-Fi Horror' 'Satire' 'Epic Western' 'Gangster Film' 'Softcore Porn'\n",
      " 'Sexploitation' 'B-movie' 'Zombie Film' 'Action Thrillers'\n",
      " 'Musical Drama' 'Erotic Drama' 'Pornographic movie' 'Slasher' 'Film noir'\n",
      " 'Social issues' 'Legal drama' 'New Hollywood' 'History'\n",
      " 'Experimental film' 'Surrealism' 'Tragicomedy' 'Avant-garde'\n",
      " 'Crime Comedy' 'Fantasy Comedy' 'Monster movie' 'Natural horror films'\n",
      " 'Creature Film' 'Gender Issues' 'LGBT' 'Music' 'Comedy of Errors'\n",
      " 'Political thriller' 'Melodrama' 'Americana' 'Detective fiction'\n",
      " 'Detective' 'Concert film' 'Horror Comedy' 'Anime' 'Childhood Drama'\n",
      " 'Docudrama' 'Teen' 'Gothic Film' 'Disaster' 'Art film' 'Domestic Comedy'\n",
      " 'Musical comedy' 'Family-Oriented Adventure' 'Escape Film' 'Prison'\n",
      " 'Dance' 'Superhero movie' 'Filipino Movies' 'Filipino' 'Spy'\n",
      " 'Combat Films' 'Fantasy Adventure' 'Political cinema' 'Comedy horror'\n",
      " 'C-Movie' 'Dystopia' 'Buddy film' 'Tragedy' 'Time travel'\n",
      " 'Sword and sorcery' 'Political satire' 'Gross-out film' 'Gross out'\n",
      " 'Doomsday film' 'Plague' 'Propaganda film' 'Screwball comedy'\n",
      " 'Comedy Western' 'Gay' 'Gay Interest' 'Gay Themed'\n",
      " 'Film & Television History' 'Film' 'Medical fiction' 'Costume Adventure'\n",
      " 'Rockumentary' 'Feminist Film' 'Educational' 'Buddy cop'\n",
      " 'Film \\\\u00e0 clef' 'Costume Horror' 'Pre-Code'\n",
      " 'Juvenile Delinquency Film' 'Christian film' 'Natural disaster'\n",
      " 'Movie serial' 'Linguistics' 'Language & Literature' 'Comedy of manners'\n",
      " \"Children's\" 'Remake' 'Media Satire' 'Computer Animation'\n",
      " 'Spaghetti Western' 'Dogme 95' 'Backstage Musical' 'Law & Crime'\n",
      " 'Hybrid Western' 'Stop motion' 'Roadshow theatrical release' 'Sex comedy'\n",
      " 'Tollywood' 'Women in prison films' 'Holiday Film' 'Heavenly Comedy'\n",
      " 'Road movie' 'Giallo' 'Anthology' 'Existentialism' 'Social problem film'\n",
      " 'Sci-Fi Adventure' 'Anthropology' 'Gay pornography' 'Stoner film'\n",
      " 'Auto racing' 'Slice of life story' 'Kitchen sink realism'\n",
      " 'British New Wave' 'Samurai cinema' 'Heist' 'Gulf War' 'Archaeology'\n",
      " 'Romantic fantasy' 'Religious Film' 'Biker Film' 'Animal Picture'\n",
      " 'Absurdism' 'Swashbuckler films' 'Hagiography' 'Hardcore pornography'\n",
      " 'Adult' 'Animated Musical' 'Anti-war' 'Anti-war film' 'Cavalry Film'\n",
      " 'Haunted House Film' 'Space opera' 'Czechoslovak New Wave' 'Animals'\n",
      " 'Addiction Drama' 'Punk rock' 'Chase Movie' 'Tokusatsu' 'Pornography'\n",
      " 'Extreme Sports' 'Superhero' 'Apocalyptic and post-apocalyptic fiction'\n",
      " 'Whodunit' 'Environmental Science' 'Airplanes and airports' 'Travel'\n",
      " 'Alien Film' 'Graphic & Applied Arts' 'Animated cartoon' 'Essay Film'\n",
      " 'Inspirational Drama' 'Revisionist Western' 'Pinku eiga'\n",
      " 'Stand-up comedy' 'Jungle Film' 'Fairy tale' 'Comedy Thriller'\n",
      " 'Tamil cinema' 'Libraries and librarians' 'Workplace Comedy'\n",
      " 'Caper story' 'Demonic child' 'Illnesses & Disabilities' 'Expressionism'\n",
      " 'Glamorized Spy Film' 'Early Black Cinema' 'Interpersonal Relationships'\n",
      " 'British Empire Film' 'Monster' 'Sword and sorcery films' 'B-Western'\n",
      " 'Bengali Cinema' 'Filmed Play' 'Northern' 'Hip hop movies' 'Humour'\n",
      " 'Roadshow/Carny' 'Exploitation' 'Sword and Sandal' 'Nature' 'Mumblecore'\n",
      " \"Children's Entertainment\" 'Splatter film' 'Star vehicle' 'Business'\n",
      " 'Mythological Fantasy' 'Journalism' 'Camp' 'Boxing' 'Mondo film' 'Latino'\n",
      " 'Alien invasion' 'Sponsored film' 'Revenge' 'Foreign legion'\n",
      " 'Historical Documentaries' 'Heaven-Can-Wait Fantasies' 'Baseball'\n",
      " 'Prison film' 'Conspiracy fiction' 'Crime' 'Master Criminal Films'\n",
      " 'Jukebox musical' 'Indian Western' 'Road-Horror' 'Werewolf fiction'\n",
      " 'Feature film' 'Neo-noir' 'Private military company'\n",
      " 'Finance & Investing' 'Computers' 'Movies About Gladiators'\n",
      " 'Horse racing' 'Nuclear warfare' 'Inventions & Innovations'\n",
      " 'Instrumental Music' 'Media Studies' 'Archives and records'\n",
      " 'Psycho-biddy' 'Outlaw biker film' 'Prison escape' 'Z movie' 'News'\n",
      " 'Beach Film' 'Live action' 'Fictional film' 'Education'\n",
      " 'Health & Fitness' 'Film-Opera' 'Period Horror' 'Comdedy'\n",
      " \"Children's Issues\" 'Science fiction Western' 'Bloopers & Candid Camera'\n",
      " 'Psychological horror' 'Albino bias' 'Family & Personal Relationships'\n",
      " 'Steampunk' 'Fantasy Drama' 'Sci-Fi Thriller' 'Courtroom Comedy'\n",
      " 'Operetta' 'Parkour in popular culture' 'Cyberpunk' 'Coming-of-age film'\n",
      " 'Cold War' 'Political Documetary' 'World History' 'Reboot'\n",
      " 'Bruceploitation' 'Ealing Comedies' 'Silhouette animation'\n",
      " 'Female buddy film' 'Race movie' 'Breakdance' 'Acid western' 'War effort'\n",
      " 'School story' 'Clay animation' 'Supermarionation'\n",
      " 'Sci Fi Pictures original films' 'Outlaw' 'Kafkaesque' 'Vampire movies'\n",
      " 'Goat gland' 'Therimin music' 'Beach Party film' 'Singing cowboy'\n",
      " 'Point of view shot' 'Romantic thriller' 'Patriotic film' 'Chick flick'\n",
      " 'Ninja movie' 'Buddy Picture' 'Statutory rape' 'New Queer Cinema'\n",
      " 'Neorealism' 'The Netherlands in World War II' 'Revisionist Fairy Tale'\n",
      " 'Homoeroticism']\n"
     ]
    }
   ],
   "source": [
    "print(\"Number of unique genres: \", df_genres_countries_exploded['genres'].nunique())\n",
    "\n",
    "print(df_genres_countries_exploded['genres'].unique())\n"
   ]
  },
  {
   "cell_type": "code",
   "execution_count": 6,
   "metadata": {},
   "outputs": [
    {
     "data": {
      "image/png": "[encoded data removed]",
      "text/plain": [
       "<Figure size 1000x500 with 1 Axes>"
      ]
     },
     "metadata": {},
     "output_type": "display_data"
    }
   ],
   "source": [
    "# Distribution of number of movies per genre (top 10)\n",
    "plt.figure(figsize=(10, 5))\n",
    "df_genres_countries_exploded['genres'].value_counts().head(10).plot(kind='bar')\n",
    "plt.xlabel('Genre')\n",
    "plt.ylabel('Number of movies')\n",
    "plt.title('Distribution of number of movies per genre (top 10)')\n",
    "plt.show()\n"
   ]
  },
  {
   "cell_type": "markdown",
   "metadata": {},
   "source": [
    "There are a lot of different genres in the dataset (363). The most common genres are Drama, Comedy and Romance. In the dataset, we see that some genres are quiet similar (e.g. Gay, Gay Interest, Gay Themed). In our future analysis, we could group these genres together to have a more accurate analysis."
   ]
  },
  {
   "cell_type": "code",
   "execution_count": 7,
   "metadata": {},
   "outputs": [
    {
     "data": {
      "image/png": "[encoded data removed]",
      "text/plain": [
       "<Figure size 1500x1000 with 1 Axes>"
      ]
     },
     "metadata": {},
     "output_type": "display_data"
    }
   ],
   "source": [
    "# Genres over time\n",
    "genres = ['Action', 'Drama', 'Comedy', 'Black-and-white','Propaganda film'] \n",
    "\n",
    "fig, ax = plt.subplots(1, 1, figsize=(15, 10))\n",
    "for genre in genres:\n",
    "    df_genre = df_genres_countries_exploded[df_genres_countries_exploded['genres'] == genre]\n",
    "    df_genre = df_genre.groupby(df_genre['release_date'].dt.year).size()\n",
    "    df_genre.plot(ax=ax, label=genre)\n",
    "plt.xlabel('Year')\n",
    "plt.ylabel('Number of movies')\n",
    "plt.title('Genres over time')\n",
    "plt.legend()\n",
    "plt.show()"
   ]
  },
  {
   "cell_type": "markdown",
   "metadata": {},
   "source": [
    "On the previous graph, we can see the evolution for the whole world of the number of movies per genres produced over time. Some genres are decreasing over time (e.g. Black and White), some genres appear temporarly (e.g. Propaganda film) and some genres are increasing over time (e.g. Action, Drama)."
   ]
  },
  {
   "cell_type": "code",
   "execution_count": 19,
   "metadata": {},
   "outputs": [
    {
     "data": {
      "text/html": [
       "<div>\n",
       "<style scoped>\n",
       "    .dataframe tbody tr th:only-of-type {\n",
       "        vertical-align: middle;\n",
       "    }\n",
       "\n",
       "    .dataframe tbody tr th {\n",
       "        vertical-align: top;\n",
       "    }\n",
       "\n",
       "    .dataframe thead th {\n",
       "        text-align: right;\n",
       "    }\n",
       "</style>\n",
       "<table border=\"1\" class=\"dataframe\">\n",
       "  <thead>\n",
       "    <tr style=\"text-align: right;\">\n",
       "      <th></th>\n",
       "      <th>wiki_id</th>\n",
       "      <th>freebase_id</th>\n",
       "      <th>original_title</th>\n",
       "      <th>release_date</th>\n",
       "      <th>revenue</th>\n",
       "      <th>runtime</th>\n",
       "      <th>languages</th>\n",
       "      <th>countries</th>\n",
       "      <th>genres</th>\n",
       "      <th>countries_freebase_id</th>\n",
       "      <th>languages_freebase_id</th>\n",
       "      <th>genres_freebase_id</th>\n",
       "    </tr>\n",
       "  </thead>\n",
       "  <tbody>\n",
       "    <tr>\n",
       "      <th>0</th>\n",
       "      <td>975900</td>\n",
       "      <td>/m/03vyhn</td>\n",
       "      <td>Ghosts of Mars</td>\n",
       "      <td>2001-08-24</td>\n",
       "      <td>14010832.0</td>\n",
       "      <td>98.0</td>\n",
       "      <td>[English Language]</td>\n",
       "      <td>United States of America</td>\n",
       "      <td>Thriller</td>\n",
       "      <td>['/m/09c7w0']</td>\n",
       "      <td>['/m/02h40lc']</td>\n",
       "      <td>['/m/01jfsb', '/m/06n90', '/m/03npn', '/m/03k9...</td>\n",
       "    </tr>\n",
       "    <tr>\n",
       "      <th>0</th>\n",
       "      <td>975900</td>\n",
       "      <td>/m/03vyhn</td>\n",
       "      <td>Ghosts of Mars</td>\n",
       "      <td>2001-08-24</td>\n",
       "      <td>14010832.0</td>\n",
       "      <td>98.0</td>\n",
       "      <td>[English Language]</td>\n",
       "      <td>United States of America</td>\n",
       "      <td>Science Fiction</td>\n",
       "      <td>['/m/09c7w0']</td>\n",
       "      <td>['/m/02h40lc']</td>\n",
       "      <td>['/m/01jfsb', '/m/06n90', '/m/03npn', '/m/03k9...</td>\n",
       "    </tr>\n",
       "    <tr>\n",
       "      <th>0</th>\n",
       "      <td>975900</td>\n",
       "      <td>/m/03vyhn</td>\n",
       "      <td>Ghosts of Mars</td>\n",
       "      <td>2001-08-24</td>\n",
       "      <td>14010832.0</td>\n",
       "      <td>98.0</td>\n",
       "      <td>[English Language]</td>\n",
       "      <td>United States of America</td>\n",
       "      <td>Horror</td>\n",
       "      <td>['/m/09c7w0']</td>\n",
       "      <td>['/m/02h40lc']</td>\n",
       "      <td>['/m/01jfsb', '/m/06n90', '/m/03npn', '/m/03k9...</td>\n",
       "    </tr>\n",
       "    <tr>\n",
       "      <th>0</th>\n",
       "      <td>975900</td>\n",
       "      <td>/m/03vyhn</td>\n",
       "      <td>Ghosts of Mars</td>\n",
       "      <td>2001-08-24</td>\n",
       "      <td>14010832.0</td>\n",
       "      <td>98.0</td>\n",
       "      <td>[English Language]</td>\n",
       "      <td>United States of America</td>\n",
       "      <td>Adventure</td>\n",
       "      <td>['/m/09c7w0']</td>\n",
       "      <td>['/m/02h40lc']</td>\n",
       "      <td>['/m/01jfsb', '/m/06n90', '/m/03npn', '/m/03k9...</td>\n",
       "    </tr>\n",
       "    <tr>\n",
       "      <th>0</th>\n",
       "      <td>975900</td>\n",
       "      <td>/m/03vyhn</td>\n",
       "      <td>Ghosts of Mars</td>\n",
       "      <td>2001-08-24</td>\n",
       "      <td>14010832.0</td>\n",
       "      <td>98.0</td>\n",
       "      <td>[English Language]</td>\n",
       "      <td>United States of America</td>\n",
       "      <td>Supernatural</td>\n",
       "      <td>['/m/09c7w0']</td>\n",
       "      <td>['/m/02h40lc']</td>\n",
       "      <td>['/m/01jfsb', '/m/06n90', '/m/03npn', '/m/03k9...</td>\n",
       "    </tr>\n",
       "  </tbody>\n",
       "</table>\n",
       "</div>"
      ],
      "text/plain": [
       "   wiki_id freebase_id  original_title release_date     revenue  runtime  \\\n",
       "0   975900   /m/03vyhn  Ghosts of Mars   2001-08-24  14010832.0     98.0   \n",
       "0   975900   /m/03vyhn  Ghosts of Mars   2001-08-24  14010832.0     98.0   \n",
       "0   975900   /m/03vyhn  Ghosts of Mars   2001-08-24  14010832.0     98.0   \n",
       "0   975900   /m/03vyhn  Ghosts of Mars   2001-08-24  14010832.0     98.0   \n",
       "0   975900   /m/03vyhn  Ghosts of Mars   2001-08-24  14010832.0     98.0   \n",
       "\n",
       "            languages                 countries           genres  \\\n",
       "0  [English Language]  United States of America         Thriller   \n",
       "0  [English Language]  United States of America  Science Fiction   \n",
       "0  [English Language]  United States of America           Horror   \n",
       "0  [English Language]  United States of America        Adventure   \n",
       "0  [English Language]  United States of America     Supernatural   \n",
       "\n",
       "  countries_freebase_id languages_freebase_id  \\\n",
       "0         ['/m/09c7w0']        ['/m/02h40lc']   \n",
       "0         ['/m/09c7w0']        ['/m/02h40lc']   \n",
       "0         ['/m/09c7w0']        ['/m/02h40lc']   \n",
       "0         ['/m/09c7w0']        ['/m/02h40lc']   \n",
       "0         ['/m/09c7w0']        ['/m/02h40lc']   \n",
       "\n",
       "                                  genres_freebase_id  \n",
       "0  ['/m/01jfsb', '/m/06n90', '/m/03npn', '/m/03k9...  \n",
       "0  ['/m/01jfsb', '/m/06n90', '/m/03npn', '/m/03k9...  \n",
       "0  ['/m/01jfsb', '/m/06n90', '/m/03npn', '/m/03k9...  \n",
       "0  ['/m/01jfsb', '/m/06n90', '/m/03npn', '/m/03k9...  \n",
       "0  ['/m/01jfsb', '/m/06n90', '/m/03npn', '/m/03k9...  "
      ]
     },
     "execution_count": 19,
     "metadata": {},
     "output_type": "execute_result"
    }
   ],
   "source": [
    "df_genres_countries_exploded.head()"
   ]
  },
  {
   "cell_type": "code",
   "execution_count": 20,
   "metadata": {},
   "outputs": [
    {
     "name": "stderr",
     "output_type": "stream",
     "text": [
      "C:\\Users\\arnau\\AppData\\Local\\Temp\\ipykernel_11460\\675473540.py:4: SettingWithCopyWarning:\n",
      "\n",
      "\n",
      "A value is trying to be set on a copy of a slice from a DataFrame.\n",
      "Try using .loc[row_indexer,col_indexer] = value instead\n",
      "\n",
      "See the caveats in the documentation: https://pandas.pydata.org/pandas-docs/stable/user_guide/indexing.html#returning-a-view-versus-a-copy\n",
      "\n",
      "C:\\Users\\arnau\\AppData\\Local\\Temp\\ipykernel_11460\\675473540.py:5: SettingWithCopyWarning:\n",
      "\n",
      "\n",
      "A value is trying to be set on a copy of a slice from a DataFrame\n",
      "\n",
      "See the caveats in the documentation: https://pandas.pydata.org/pandas-docs/stable/user_guide/indexing.html#returning-a-view-versus-a-copy\n",
      "\n",
      "C:\\Users\\arnau\\AppData\\Local\\Temp\\ipykernel_11460\\675473540.py:6: SettingWithCopyWarning:\n",
      "\n",
      "\n",
      "A value is trying to be set on a copy of a slice from a DataFrame.\n",
      "Try using .loc[row_indexer,col_indexer] = value instead\n",
      "\n",
      "See the caveats in the documentation: https://pandas.pydata.org/pandas-docs/stable/user_guide/indexing.html#returning-a-view-versus-a-copy\n",
      "\n"
     ]
    },
    {
     "data": {
      "image/png": "[encoded data removed]",
      "text/plain": [
       "<Figure size 1000x600 with 1 Axes>"
      ]
     },
     "metadata": {},
     "output_type": "display_data"
    }
   ],
   "source": [
    "# Genre evolution per country\n",
    "def plotGenreTrend(df, countries, genre):\n",
    "    df_filtered = df[(df['genres'] == genre) & (df['countries'].isin(countries))]\n",
    "    df_filtered['release_date'] = pd.to_datetime(df_filtered['release_date'], errors='coerce')\n",
    "    df_filtered.dropna(subset=['release_date'], inplace=True)\n",
    "    df_filtered['year'] = df_filtered['release_date'].dt.year\n",
    "    trend_data = df_filtered.groupby(['countries', 'year']).size().unstack(fill_value=0)\n",
    "    \n",
    "    plt.figure(figsize=(10, 6))\n",
    "    for country in countries:\n",
    "        if country in trend_data.index:\n",
    "            plt.plot(trend_data.columns, trend_data.loc[country], label=country)\n",
    "    \n",
    "    plt.title(f\"Trend of '{genre}' over time\")\n",
    "    plt.xlabel(\"Year\")\n",
    "    plt.ylabel(\"Number of movies\")\n",
    "    plt.legend(title=\"Country\")\n",
    "    plt.grid(True)\n",
    "    plt.show()\n",
    "    \n",
    "countries = ['United States of America', 'United Kingdom', 'France', 'Germany', 'Italy']\n",
    "genre = 'Action'\n",
    "plotGenreTrend(df_genres_countries_exploded, countries, genre)"
   ]
  },
  {
   "cell_type": "markdown",
   "metadata": {},
   "source": [
    "In the previous graph, we can see an example of the evolution of the number of movies produced for genre 'Action' over time for different countries. It is noted that the United States is a pioneer in the production of action films and that after the explosion of action films in the United States, other countries followed the trend, which may indicate an influence of the United States on other countries and be linked to globalization."
   ]
  },
  {
   "cell_type": "markdown",
   "metadata": {},
   "source": [
    "### Topic Modeling Bertopic"
   ]
  },
  {
   "cell_type": "code",
   "execution_count": 12,
   "metadata": {},
   "outputs": [
    {
     "name": "stdout",
     "output_type": "stream",
     "text": [
      "Requirement already satisfied: bertopic in c:\\users\\arnau\\anaconda3\\envs\\ada\\lib\\site-packages (0.16.4)\n",
      "Requirement already satisfied: hdbscan>=0.8.29 in c:\\users\\arnau\\anaconda3\\envs\\ada\\lib\\site-packages (from bertopic) (0.8.39)\n",
      "Requirement already satisfied: numpy>=1.20.0 in c:\\users\\arnau\\anaconda3\\envs\\ada\\lib\\site-packages (from bertopic) (1.24.3)\n",
      "Requirement already satisfied: pandas>=1.1.5 in c:\\users\\arnau\\anaconda3\\envs\\ada\\lib\\site-packages (from bertopic) (2.0.3)\n",
      "Requirement already satisfied: plotly>=4.7.0 in c:\\users\\arnau\\anaconda3\\envs\\ada\\lib\\site-packages (from bertopic) (5.24.1)\n",
      "Requirement already satisfied: scikit-learn>=0.22.2.post1 in c:\\users\\arnau\\anaconda3\\envs\\ada\\lib\\site-packages (from bertopic) (1.5.2)\n",
      "Requirement already satisfied: sentence-transformers>=0.4.1 in c:\\users\\arnau\\anaconda3\\envs\\ada\\lib\\site-packages (from bertopic) (3.3.0)\n",
      "Requirement already satisfied: tqdm>=4.41.1 in c:\\users\\arnau\\anaconda3\\envs\\ada\\lib\\site-packages (from bertopic) (4.67.0)\n",
      "Requirement already satisfied: umap-learn>=0.5.0 in c:\\users\\arnau\\anaconda3\\envs\\ada\\lib\\site-packages (from bertopic) (0.5.7)\n",
      "Collecting scipy>=1.0 (from hdbscan>=0.8.29->bertopic)\n",
      "  Downloading scipy-1.10.1-cp38-cp38-win_amd64.whl.metadata (58 kB)\n",
      "Requirement already satisfied: joblib>=1.0 in c:\\users\\arnau\\anaconda3\\envs\\ada\\lib\\site-packages (from hdbscan>=0.8.29->bertopic) (1.4.2)\n",
      "Requirement already satisfied: python-dateutil>=2.8.2 in c:\\users\\arnau\\anaconda3\\envs\\ada\\lib\\site-packages (from pandas>=1.1.5->bertopic) (2.9.0.post0)\n",
      "Requirement already satisfied: pytz>=2020.1 in c:\\users\\arnau\\anaconda3\\envs\\ada\\lib\\site-packages (from pandas>=1.1.5->bertopic) (2024.1)\n",
      "Requirement already satisfied: tzdata>=2022.1 in c:\\users\\arnau\\anaconda3\\envs\\ada\\lib\\site-packages (from pandas>=1.1.5->bertopic) (2023.3)\n",
      "Requirement already satisfied: tenacity>=6.2.0 in c:\\users\\arnau\\anaconda3\\envs\\ada\\lib\\site-packages (from plotly>=4.7.0->bertopic) (9.0.0)\n",
      "Requirement already satisfied: packaging in c:\\users\\arnau\\anaconda3\\envs\\ada\\lib\\site-packages (from plotly>=4.7.0->bertopic) (24.1)\n",
      "Requirement already satisfied: threadpoolctl>=3.1.0 in c:\\users\\arnau\\anaconda3\\envs\\ada\\lib\\site-packages (from scikit-learn>=0.22.2.post1->bertopic) (3.5.0)\n",
      "Requirement already satisfied: transformers<5.0.0,>=4.41.0 in c:\\users\\arnau\\anaconda3\\envs\\ada\\lib\\site-packages (from sentence-transformers>=0.4.1->bertopic) (4.46.2)\n",
      "Requirement already satisfied: torch>=1.11.0 in c:\\users\\arnau\\anaconda3\\envs\\ada\\lib\\site-packages (from sentence-transformers>=0.4.1->bertopic) (2.5.1)\n",
      "Requirement already satisfied: huggingface-hub>=0.20.0 in c:\\users\\arnau\\anaconda3\\envs\\ada\\lib\\site-packages (from sentence-transformers>=0.4.1->bertopic) (0.26.2)\n",
      "Requirement already satisfied: Pillow in c:\\users\\arnau\\anaconda3\\envs\\ada\\lib\\site-packages (from sentence-transformers>=0.4.1->bertopic) (10.4.0)\n",
      "Requirement already satisfied: colorama in c:\\users\\arnau\\anaconda3\\envs\\ada\\lib\\site-packages (from tqdm>=4.41.1->bertopic) (0.4.6)\n",
      "Requirement already satisfied: numba>=0.51.2 in c:\\users\\arnau\\anaconda3\\envs\\ada\\lib\\site-packages (from umap-learn>=0.5.0->bertopic) (0.60.0)\n",
      "Requirement already satisfied: pynndescent>=0.5 in c:\\users\\arnau\\anaconda3\\envs\\ada\\lib\\site-packages (from umap-learn>=0.5.0->bertopic) (0.5.13)\n",
      "Requirement already satisfied: filelock in c:\\users\\arnau\\anaconda3\\envs\\ada\\lib\\site-packages (from huggingface-hub>=0.20.0->sentence-transformers>=0.4.1->bertopic) (3.16.1)\n",
      "Requirement already satisfied: fsspec>=2023.5.0 in c:\\users\\arnau\\anaconda3\\envs\\ada\\lib\\site-packages (from huggingface-hub>=0.20.0->sentence-transformers>=0.4.1->bertopic) (2024.10.0)\n",
      "Requirement already satisfied: pyyaml>=5.1 in c:\\users\\arnau\\anaconda3\\envs\\ada\\lib\\site-packages (from huggingface-hub>=0.20.0->sentence-transformers>=0.4.1->bertopic) (6.0.2)\n",
      "Requirement already satisfied: requests in c:\\users\\arnau\\anaconda3\\envs\\ada\\lib\\site-packages (from huggingface-hub>=0.20.0->sentence-transformers>=0.4.1->bertopic) (2.32.3)\n",
      "Requirement already satisfied: typing-extensions>=3.7.4.3 in c:\\users\\arnau\\anaconda3\\envs\\ada\\lib\\site-packages (from huggingface-hub>=0.20.0->sentence-transformers>=0.4.1->bertopic) (4.11.0)\n",
      "Requirement already satisfied: llvmlite<0.44,>=0.43.0dev0 in c:\\users\\arnau\\anaconda3\\envs\\ada\\lib\\site-packages (from numba>=0.51.2->umap-learn>=0.5.0->bertopic) (0.43.0)\n",
      "Requirement already satisfied: six>=1.5 in c:\\users\\arnau\\anaconda3\\envs\\ada\\lib\\site-packages (from python-dateutil>=2.8.2->pandas>=1.1.5->bertopic) (1.16.0)\n",
      "Requirement already satisfied: networkx in c:\\users\\arnau\\anaconda3\\envs\\ada\\lib\\site-packages (from torch>=1.11.0->sentence-transformers>=0.4.1->bertopic) (3.4.2)\n",
      "Requirement already satisfied: jinja2 in c:\\users\\arnau\\anaconda3\\envs\\ada\\lib\\site-packages (from torch>=1.11.0->sentence-transformers>=0.4.1->bertopic) (3.1.4)\n",
      "Collecting sympy==1.12.1 (from torch>=1.11.0->sentence-transformers>=0.4.1->bertopic)\n",
      "  Downloading sympy-1.12.1-py3-none-any.whl.metadata (12 kB)\n",
      "Requirement already satisfied: mpmath<1.4.0,>=1.1.0 in c:\\users\\arnau\\anaconda3\\envs\\ada\\lib\\site-packages (from sympy==1.12.1->torch>=1.11.0->sentence-transformers>=0.4.1->bertopic) (1.3.0)\n",
      "Requirement already satisfied: regex!=2019.12.17 in c:\\users\\arnau\\anaconda3\\envs\\ada\\lib\\site-packages (from transformers<5.0.0,>=4.41.0->sentence-transformers>=0.4.1->bertopic) (2024.9.11)\n",
      "Requirement already satisfied: safetensors>=0.4.1 in c:\\users\\arnau\\anaconda3\\envs\\ada\\lib\\site-packages (from transformers<5.0.0,>=4.41.0->sentence-transformers>=0.4.1->bertopic) (0.4.5)\n",
      "Requirement already satisfied: tokenizers<0.21,>=0.20 in c:\\users\\arnau\\anaconda3\\envs\\ada\\lib\\site-packages (from transformers<5.0.0,>=4.41.0->sentence-transformers>=0.4.1->bertopic) (0.20.3)\n",
      "Requirement already satisfied: MarkupSafe>=2.0 in c:\\users\\arnau\\anaconda3\\envs\\ada\\lib\\site-packages (from jinja2->torch>=1.11.0->sentence-transformers>=0.4.1->bertopic) (2.1.3)\n",
      "Requirement already satisfied: charset-normalizer<4,>=2 in c:\\users\\arnau\\anaconda3\\envs\\ada\\lib\\site-packages (from requests->huggingface-hub>=0.20.0->sentence-transformers>=0.4.1->bertopic) (3.3.2)\n",
      "Requirement already satisfied: idna<4,>=2.5 in c:\\users\\arnau\\anaconda3\\envs\\ada\\lib\\site-packages (from requests->huggingface-hub>=0.20.0->sentence-transformers>=0.4.1->bertopic) (3.7)\n",
      "Requirement already satisfied: urllib3<3,>=1.21.1 in c:\\users\\arnau\\anaconda3\\envs\\ada\\lib\\site-packages (from requests->huggingface-hub>=0.20.0->sentence-transformers>=0.4.1->bertopic) (2.2.3)\n",
      "Requirement already satisfied: certifi>=2017.4.17 in c:\\users\\arnau\\anaconda3\\envs\\ada\\lib\\site-packages (from requests->huggingface-hub>=0.20.0->sentence-transformers>=0.4.1->bertopic) (2024.8.30)\n",
      "Downloading scipy-1.10.1-cp38-cp38-win_amd64.whl (42.2 MB)\n",
      "   ---------------------------------------- 0.0/42.2 MB ? eta -:--:--\n",
      "   --------------- ------------------------ 16.3/42.2 MB 78.8 MB/s eta 0:00:01\n",
      "   --------------------------- ------------ 29.4/42.2 MB 71.5 MB/s eta 0:00:01\n",
      "   ---------------------------------------  42.2/42.2 MB 72.6 MB/s eta 0:00:01\n",
      "   ---------------------------------------- 42.2/42.2 MB 58.3 MB/s eta 0:00:00\n",
      "Downloading sympy-1.12.1-py3-none-any.whl (5.7 MB)\n",
      "   ---------------------------------------- 0.0/5.7 MB ? eta -:--:--\n",
      "   ---------------------------------------- 5.7/5.7 MB 58.3 MB/s eta 0:00:00\n",
      "Installing collected packages: sympy, scipy\n",
      "  Attempting uninstall: sympy\n",
      "    Found existing installation: sympy 1.13.1\n",
      "    Uninstalling sympy-1.13.1:\n",
      "      Successfully uninstalled sympy-1.13.1\n",
      "Successfully installed scipy-1.10.1 sympy-1.12.1\n",
      "Requirement already satisfied: sentence-transformers in c:\\users\\arnau\\anaconda3\\envs\\ada\\lib\\site-packages (3.3.0)\n",
      "Requirement already satisfied: transformers<5.0.0,>=4.41.0 in c:\\users\\arnau\\anaconda3\\envs\\ada\\lib\\site-packages (from sentence-transformers) (4.46.2)\n",
      "Requirement already satisfied: tqdm in c:\\users\\arnau\\anaconda3\\envs\\ada\\lib\\site-packages (from sentence-transformers) (4.67.0)\n",
      "Requirement already satisfied: torch>=1.11.0 in c:\\users\\arnau\\anaconda3\\envs\\ada\\lib\\site-packages (from sentence-transformers) (2.5.1)\n",
      "Requirement already satisfied: scikit-learn in c:\\users\\arnau\\anaconda3\\envs\\ada\\lib\\site-packages (from sentence-transformers) (1.5.2)\n",
      "Requirement already satisfied: scipy in c:\\users\\arnau\\anaconda3\\envs\\ada\\lib\\site-packages (from sentence-transformers) (1.10.1)\n",
      "Requirement already satisfied: huggingface-hub>=0.20.0 in c:\\users\\arnau\\anaconda3\\envs\\ada\\lib\\site-packages (from sentence-transformers) (0.26.2)\n",
      "Requirement already satisfied: Pillow in c:\\users\\arnau\\anaconda3\\envs\\ada\\lib\\site-packages (from sentence-transformers) (10.4.0)\n",
      "Requirement already satisfied: filelock in c:\\users\\arnau\\anaconda3\\envs\\ada\\lib\\site-packages (from huggingface-hub>=0.20.0->sentence-transformers) (3.16.1)\n",
      "Requirement already satisfied: fsspec>=2023.5.0 in c:\\users\\arnau\\anaconda3\\envs\\ada\\lib\\site-packages (from huggingface-hub>=0.20.0->sentence-transformers) (2024.10.0)\n",
      "Requirement already satisfied: packaging>=20.9 in c:\\users\\arnau\\anaconda3\\envs\\ada\\lib\\site-packages (from huggingface-hub>=0.20.0->sentence-transformers) (24.1)\n",
      "Requirement already satisfied: pyyaml>=5.1 in c:\\users\\arnau\\anaconda3\\envs\\ada\\lib\\site-packages (from huggingface-hub>=0.20.0->sentence-transformers) (6.0.2)\n",
      "Requirement already satisfied: requests in c:\\users\\arnau\\anaconda3\\envs\\ada\\lib\\site-packages (from huggingface-hub>=0.20.0->sentence-transformers) (2.32.3)\n",
      "Requirement already satisfied: typing-extensions>=3.7.4.3 in c:\\users\\arnau\\anaconda3\\envs\\ada\\lib\\site-packages (from huggingface-hub>=0.20.0->sentence-transformers) (4.11.0)\n",
      "Requirement already satisfied: networkx in c:\\users\\arnau\\anaconda3\\envs\\ada\\lib\\site-packages (from torch>=1.11.0->sentence-transformers) (3.4.2)\n",
      "Requirement already satisfied: jinja2 in c:\\users\\arnau\\anaconda3\\envs\\ada\\lib\\site-packages (from torch>=1.11.0->sentence-transformers) (3.1.4)\n",
      "Requirement already satisfied: sympy==1.12.1 in c:\\users\\arnau\\anaconda3\\envs\\ada\\lib\\site-packages (from torch>=1.11.0->sentence-transformers) (1.12.1)\n",
      "Requirement already satisfied: mpmath<1.4.0,>=1.1.0 in c:\\users\\arnau\\anaconda3\\envs\\ada\\lib\\site-packages (from sympy==1.12.1->torch>=1.11.0->sentence-transformers) (1.3.0)\n",
      "Requirement already satisfied: colorama in c:\\users\\arnau\\anaconda3\\envs\\ada\\lib\\site-packages (from tqdm->sentence-transformers) (0.4.6)\n",
      "Requirement already satisfied: numpy>=1.17 in c:\\users\\arnau\\anaconda3\\envs\\ada\\lib\\site-packages (from transformers<5.0.0,>=4.41.0->sentence-transformers) (1.24.3)\n",
      "Requirement already satisfied: regex!=2019.12.17 in c:\\users\\arnau\\anaconda3\\envs\\ada\\lib\\site-packages (from transformers<5.0.0,>=4.41.0->sentence-transformers) (2024.9.11)\n",
      "Requirement already satisfied: safetensors>=0.4.1 in c:\\users\\arnau\\anaconda3\\envs\\ada\\lib\\site-packages (from transformers<5.0.0,>=4.41.0->sentence-transformers) (0.4.5)\n",
      "Requirement already satisfied: tokenizers<0.21,>=0.20 in c:\\users\\arnau\\anaconda3\\envs\\ada\\lib\\site-packages (from transformers<5.0.0,>=4.41.0->sentence-transformers) (0.20.3)\n",
      "Requirement already satisfied: joblib>=1.2.0 in c:\\users\\arnau\\anaconda3\\envs\\ada\\lib\\site-packages (from scikit-learn->sentence-transformers) (1.4.2)\n",
      "Requirement already satisfied: threadpoolctl>=3.1.0 in c:\\users\\arnau\\anaconda3\\envs\\ada\\lib\\site-packages (from scikit-learn->sentence-transformers) (3.5.0)\n",
      "Requirement already satisfied: MarkupSafe>=2.0 in c:\\users\\arnau\\anaconda3\\envs\\ada\\lib\\site-packages (from jinja2->torch>=1.11.0->sentence-transformers) (2.1.3)\n",
      "Requirement already satisfied: charset-normalizer<4,>=2 in c:\\users\\arnau\\anaconda3\\envs\\ada\\lib\\site-packages (from requests->huggingface-hub>=0.20.0->sentence-transformers) (3.3.2)\n",
      "Requirement already satisfied: idna<4,>=2.5 in c:\\users\\arnau\\anaconda3\\envs\\ada\\lib\\site-packages (from requests->huggingface-hub>=0.20.0->sentence-transformers) (3.7)\n",
      "Requirement already satisfied: urllib3<3,>=1.21.1 in c:\\users\\arnau\\anaconda3\\envs\\ada\\lib\\site-packages (from requests->huggingface-hub>=0.20.0->sentence-transformers) (2.2.3)\n",
      "Requirement already satisfied: certifi>=2017.4.17 in c:\\users\\arnau\\anaconda3\\envs\\ada\\lib\\site-packages (from requests->huggingface-hub>=0.20.0->sentence-transformers) (2024.8.30)\n",
      "Requirement already satisfied: nltk in c:\\users\\arnau\\anaconda3\\envs\\ada\\lib\\site-packages (3.9.1)\n",
      "Requirement already satisfied: spacy in c:\\users\\arnau\\anaconda3\\envs\\ada\\lib\\site-packages (3.8.2)\n",
      "Requirement already satisfied: click in c:\\users\\arnau\\anaconda3\\envs\\ada\\lib\\site-packages (from nltk) (8.1.7)\n",
      "Requirement already satisfied: joblib in c:\\users\\arnau\\anaconda3\\envs\\ada\\lib\\site-packages (from nltk) (1.4.2)\n",
      "Requirement already satisfied: regex>=2021.8.3 in c:\\users\\arnau\\anaconda3\\envs\\ada\\lib\\site-packages (from nltk) (2024.9.11)\n",
      "Requirement already satisfied: tqdm in c:\\users\\arnau\\anaconda3\\envs\\ada\\lib\\site-packages (from nltk) (4.67.0)\n",
      "Requirement already satisfied: spacy-legacy<3.1.0,>=3.0.11 in c:\\users\\arnau\\anaconda3\\envs\\ada\\lib\\site-packages (from spacy) (3.0.12)\n",
      "Requirement already satisfied: spacy-loggers<2.0.0,>=1.0.0 in c:\\users\\arnau\\anaconda3\\envs\\ada\\lib\\site-packages (from spacy) (1.0.5)\n",
      "Requirement already satisfied: murmurhash<1.1.0,>=0.28.0 in c:\\users\\arnau\\anaconda3\\envs\\ada\\lib\\site-packages (from spacy) (1.0.10)\n",
      "Requirement already satisfied: cymem<2.1.0,>=2.0.2 in c:\\users\\arnau\\anaconda3\\envs\\ada\\lib\\site-packages (from spacy) (2.0.8)\n",
      "Requirement already satisfied: preshed<3.1.0,>=3.0.2 in c:\\users\\arnau\\anaconda3\\envs\\ada\\lib\\site-packages (from spacy) (3.0.9)\n",
      "Requirement already satisfied: thinc<8.4.0,>=8.3.0 in c:\\users\\arnau\\anaconda3\\envs\\ada\\lib\\site-packages (from spacy) (8.3.2)\n",
      "Requirement already satisfied: wasabi<1.2.0,>=0.9.1 in c:\\users\\arnau\\anaconda3\\envs\\ada\\lib\\site-packages (from spacy) (1.1.3)\n",
      "Requirement already satisfied: srsly<3.0.0,>=2.4.3 in c:\\users\\arnau\\anaconda3\\envs\\ada\\lib\\site-packages (from spacy) (2.4.8)\n",
      "Requirement already satisfied: catalogue<2.1.0,>=2.0.6 in c:\\users\\arnau\\anaconda3\\envs\\ada\\lib\\site-packages (from spacy) (2.0.10)\n",
      "Requirement already satisfied: weasel<0.5.0,>=0.1.0 in c:\\users\\arnau\\anaconda3\\envs\\ada\\lib\\site-packages (from spacy) (0.4.1)\n",
      "Requirement already satisfied: typer<1.0.0,>=0.3.0 in c:\\users\\arnau\\anaconda3\\envs\\ada\\lib\\site-packages (from spacy) (0.13.0)\n",
      "Requirement already satisfied: requests<3.0.0,>=2.13.0 in c:\\users\\arnau\\anaconda3\\envs\\ada\\lib\\site-packages (from spacy) (2.32.3)\n",
      "Requirement already satisfied: pydantic!=1.8,!=1.8.1,<3.0.0,>=1.7.4 in c:\\users\\arnau\\anaconda3\\envs\\ada\\lib\\site-packages (from spacy) (2.9.2)\n",
      "Requirement already satisfied: jinja2 in c:\\users\\arnau\\anaconda3\\envs\\ada\\lib\\site-packages (from spacy) (3.1.4)\n",
      "Requirement already satisfied: setuptools in c:\\users\\arnau\\anaconda3\\envs\\ada\\lib\\site-packages (from spacy) (75.1.0)\n",
      "Requirement already satisfied: packaging>=20.0 in c:\\users\\arnau\\anaconda3\\envs\\ada\\lib\\site-packages (from spacy) (24.1)\n",
      "Requirement already satisfied: langcodes<4.0.0,>=3.2.0 in c:\\users\\arnau\\anaconda3\\envs\\ada\\lib\\site-packages (from spacy) (3.4.1)\n",
      "Requirement already satisfied: numpy>=1.15.0 in c:\\users\\arnau\\anaconda3\\envs\\ada\\lib\\site-packages (from spacy) (1.24.3)\n",
      "Requirement already satisfied: language-data>=1.2 in c:\\users\\arnau\\anaconda3\\envs\\ada\\lib\\site-packages (from langcodes<4.0.0,>=3.2.0->spacy) (1.2.0)\n",
      "Requirement already satisfied: annotated-types>=0.6.0 in c:\\users\\arnau\\anaconda3\\envs\\ada\\lib\\site-packages (from pydantic!=1.8,!=1.8.1,<3.0.0,>=1.7.4->spacy) (0.7.0)\n",
      "Requirement already satisfied: pydantic-core==2.23.4 in c:\\users\\arnau\\anaconda3\\envs\\ada\\lib\\site-packages (from pydantic!=1.8,!=1.8.1,<3.0.0,>=1.7.4->spacy) (2.23.4)\n",
      "Requirement already satisfied: typing-extensions>=4.6.1 in c:\\users\\arnau\\anaconda3\\envs\\ada\\lib\\site-packages (from pydantic!=1.8,!=1.8.1,<3.0.0,>=1.7.4->spacy) (4.11.0)\n",
      "Requirement already satisfied: charset-normalizer<4,>=2 in c:\\users\\arnau\\anaconda3\\envs\\ada\\lib\\site-packages (from requests<3.0.0,>=2.13.0->spacy) (3.3.2)\n",
      "Requirement already satisfied: idna<4,>=2.5 in c:\\users\\arnau\\anaconda3\\envs\\ada\\lib\\site-packages (from requests<3.0.0,>=2.13.0->spacy) (3.7)\n",
      "Requirement already satisfied: urllib3<3,>=1.21.1 in c:\\users\\arnau\\anaconda3\\envs\\ada\\lib\\site-packages (from requests<3.0.0,>=2.13.0->spacy) (2.2.3)\n",
      "Requirement already satisfied: certifi>=2017.4.17 in c:\\users\\arnau\\anaconda3\\envs\\ada\\lib\\site-packages (from requests<3.0.0,>=2.13.0->spacy) (2024.8.30)\n",
      "Requirement already satisfied: blis<1.1.0,>=1.0.0 in c:\\users\\arnau\\anaconda3\\envs\\ada\\lib\\site-packages (from thinc<8.4.0,>=8.3.0->spacy) (1.0.1)\n",
      "Requirement already satisfied: confection<1.0.0,>=0.0.1 in c:\\users\\arnau\\anaconda3\\envs\\ada\\lib\\site-packages (from thinc<8.4.0,>=8.3.0->spacy) (0.1.5)\n",
      "INFO: pip is looking at multiple versions of thinc to determine which version is compatible with other requirements. This could take a while.\n",
      "Collecting thinc<8.4.0,>=8.3.0 (from spacy)\n",
      "  Downloading thinc-8.3.1.tar.gz (193 kB)\n",
      "  Installing build dependencies: started\n",
      "  Installing build dependencies: finished with status 'error'\n"
     ]
    },
    {
     "name": "stderr",
     "output_type": "stream",
     "text": [
      "  error: subprocess-exited-with-error\n",
      "  \n",
      "  × pip subprocess to install build dependencies did not run successfully.\n",
      "  │ exit code: 1\n",
      "  ╰─> [39 lines of output]\n",
      "      Ignoring numpy: markers 'python_version >= \"3.9\"' don't match your environment\n",
      "      Collecting setuptools\n",
      "        Using cached setuptools-75.3.0-py3-none-any.whl.metadata (6.9 kB)\n",
      "      Collecting cython<3.0,>=0.25\n",
      "        Downloading Cython-0.29.37-py2.py3-none-any.whl.metadata (3.1 kB)\n",
      "      Collecting murmurhash<1.1.0,>=1.0.2\n",
      "        Downloading murmurhash-1.0.10-cp38-cp38-win_amd64.whl.metadata (2.0 kB)\n",
      "      Collecting cymem<2.1.0,>=2.0.2\n",
      "        Downloading cymem-2.0.8-cp38-cp38-win_amd64.whl.metadata (8.6 kB)\n",
      "      Collecting preshed<3.1.0,>=3.0.2\n",
      "        Downloading preshed-3.0.9-cp38-cp38-win_amd64.whl.metadata (2.2 kB)\n",
      "      Collecting blis<1.1.0,>=1.0.0\n",
      "        Downloading blis-1.0.1.tar.gz (3.6 MB)\n",
      "           ---------------------------------------- 0.0/3.6 MB ? eta -:--:--\n",
      "           ---------------------------------------- 3.6/3.6 MB 52.6 MB/s eta 0:00:00\n",
      "        Installing build dependencies: started\n",
      "        Installing build dependencies: finished with status 'error'\n",
      "        error: subprocess-exited-with-error\n",
      "      \n",
      "        × pip subprocess to install build dependencies did not run successfully.\n",
      "        │ exit code: 1\n",
      "        ╰─> [7 lines of output]\n",
      "            Collecting setuptools\n",
      "              Using cached setuptools-75.3.0-py3-none-any.whl.metadata (6.9 kB)\n",
      "            Collecting cython>=0.25\n",
      "              Downloading Cython-3.0.11-cp38-cp38-win_amd64.whl.metadata (3.2 kB)\n",
      "            ERROR: Ignored the following versions that require a different python version: 1.25.0 Requires-Python >=3.9; 1.25.1 Requires-Python >=3.9; 1.25.2 Requires-Python >=3.9; 1.26.0 Requires-Python <3.13,>=3.9; 1.26.1 Requires-Python <3.13,>=3.9; 1.26.2 Requires-Python >=3.9; 1.26.3 Requires-Python >=3.9; 1.26.4 Requires-Python >=3.9; 2.0.0 Requires-Python >=3.9; 2.0.1 Requires-Python >=3.9; 2.0.2 Requires-Python >=3.9; 2.1.0 Requires-Python >=3.10; 2.1.0rc1 Requires-Python >=3.10; 2.1.1 Requires-Python >=3.10; 2.1.2 Requires-Python >=3.10; 2.1.3 Requires-Python >=3.10; 75.4.0 Requires-Python >=3.9; 75.5.0 Requires-Python >=3.9\n",
      "            ERROR: Could not find a version that satisfies the requirement numpy<3.0.0,>=2.0.0 (from versions: 1.3.0, 1.4.1, 1.5.0, 1.5.1, 1.6.0, 1.6.1, 1.6.2, 1.7.0, 1.7.1, 1.7.2, 1.8.0, 1.8.1, 1.8.2, 1.9.0, 1.9.1, 1.9.2, 1.9.3, 1.10.0.post2, 1.10.1, 1.10.2, 1.10.4, 1.11.0, 1.11.1, 1.11.2, 1.11.3, 1.12.0, 1.12.1, 1.13.0, 1.13.1, 1.13.3, 1.14.0, 1.14.1, 1.14.2, 1.14.3, 1.14.4, 1.14.5, 1.14.6, 1.15.0, 1.15.1, 1.15.2, 1.15.3, 1.15.4, 1.16.0, 1.16.1, 1.16.2, 1.16.3, 1.16.4, 1.16.5, 1.16.6, 1.17.0, 1.17.1, 1.17.2, 1.17.3, 1.17.4, 1.17.5, 1.18.0, 1.18.1, 1.18.2, 1.18.3, 1.18.4, 1.18.5, 1.19.0, 1.19.1, 1.19.2, 1.19.3, 1.19.4, 1.19.5, 1.20.0, 1.20.1, 1.20.2, 1.20.3, 1.21.0, 1.21.1, 1.21.2, 1.21.3, 1.21.4, 1.21.5, 1.21.6, 1.22.0, 1.22.1, 1.22.2, 1.22.3, 1.22.4, 1.23.0, 1.23.1, 1.23.2, 1.23.3, 1.23.4, 1.23.5, 1.24.0, 1.24.1, 1.24.2, 1.24.3, 1.24.4)\n",
      "            ERROR: No matching distribution found for numpy<3.0.0,>=2.0.0\n",
      "            [end of output]\n",
      "      \n",
      "        note: This error originates from a subprocess, and is likely not a problem with pip.\n",
      "      error: subprocess-exited-with-error\n",
      "      \n",
      "      × pip subprocess to install build dependencies did not run successfully.\n",
      "      │ exit code: 1\n",
      "      ╰─> See above for output.\n",
      "      \n",
      "      note: This error originates from a subprocess, and is likely not a problem with pip.\n",
      "      [end of output]\n",
      "  \n",
      "  note: This error originates from a subprocess, and is likely not a problem with pip.\n",
      "error: subprocess-exited-with-error\n",
      "\n",
      "× pip subprocess to install build dependencies did not run successfully.\n",
      "│ exit code: 1\n",
      "╰─> See above for output.\n",
      "\n",
      "note: This error originates from a subprocess, and is likely not a problem with pip.\n",
      "Traceback (most recent call last):\n",
      "  File \"c:\\Users\\arnau\\anaconda3\\envs\\ada\\lib\\runpy.py\", line 185, in _run_module_as_main\n",
      "    mod_name, mod_spec, code = _get_module_details(mod_name, _Error)\n",
      "  File \"c:\\Users\\arnau\\anaconda3\\envs\\ada\\lib\\runpy.py\", line 144, in _get_module_details\n",
      "    return _get_module_details(pkg_main_name, error)\n",
      "  File \"c:\\Users\\arnau\\anaconda3\\envs\\ada\\lib\\runpy.py\", line 111, in _get_module_details\n",
      "    __import__(pkg_name)\n",
      "  File \"c:\\Users\\arnau\\anaconda3\\envs\\ada\\lib\\site-packages\\spacy\\__init__.py\", line 6, in <module>\n",
      "    from .errors import setup_default_warnings\n",
      "  File \"c:\\Users\\arnau\\anaconda3\\envs\\ada\\lib\\site-packages\\spacy\\errors.py\", line 3, in <module>\n",
      "    from .compat import Literal\n",
      "  File \"c:\\Users\\arnau\\anaconda3\\envs\\ada\\lib\\site-packages\\spacy\\compat.py\", line 4, in <module>\n",
      "    from thinc.util import copy_array\n",
      "  File \"c:\\Users\\arnau\\anaconda3\\envs\\ada\\lib\\site-packages\\thinc\\__init__.py\", line 5, in <module>\n",
      "    from .config import registry\n",
      "  File \"c:\\Users\\arnau\\anaconda3\\envs\\ada\\lib\\site-packages\\thinc\\config.py\", line 2, in <module>\n",
      "    import confection\n",
      "  File \"c:\\Users\\arnau\\anaconda3\\envs\\ada\\lib\\site-packages\\confection\\__init__.py\", line 35, in <module>\n",
      "    import srsly\n",
      "  File \"c:\\Users\\arnau\\anaconda3\\envs\\ada\\lib\\site-packages\\srsly\\__init__.py\", line 1, in <module>\n",
      "    from ._json_api import read_json, read_gzip_json, write_json, write_gzip_json\n",
      "  File \"c:\\Users\\arnau\\anaconda3\\envs\\ada\\lib\\site-packages\\srsly\\_json_api.py\", line 6, in <module>\n",
      "    from . import ujson\n",
      "  File \"c:\\Users\\arnau\\anaconda3\\envs\\ada\\lib\\site-packages\\srsly\\ujson\\__init__.py\", line 1, in <module>\n",
      "    from .ujson import decode, encode, dump, dumps, load, loads  # noqa: F401\n",
      "ModuleNotFoundError: No module named 'srsly.ujson.ujson'\n"
     ]
    }
   ],
   "source": [
    "!pip install bertopic\n",
    "!pip install sentence-transformers\n",
    "!pip install nltk spacy\n",
    "!python -m spacy download en_core_web_sm"
   ]
  },
  {
   "cell_type": "code",
   "execution_count": 13,
   "metadata": {},
   "outputs": [
    {
     "ename": "ModuleNotFoundError",
     "evalue": "No module named 'srsly.ujson.ujson'",
     "output_type": "error",
     "traceback": [
      "\u001b[1;31m---------------------------------------------------------------------------\u001b[0m",
      "\u001b[1;31mModuleNotFoundError\u001b[0m                       Traceback (most recent call last)",
      "Cell \u001b[1;32mIn[13], line 1\u001b[0m\n\u001b[1;32m----> 1\u001b[0m \u001b[38;5;28;01mimport\u001b[39;00m \u001b[38;5;21;01mspacy\u001b[39;00m\n\u001b[0;32m      2\u001b[0m \u001b[38;5;28;01mfrom\u001b[39;00m \u001b[38;5;21;01mnltk\u001b[39;00m\u001b[38;5;21;01m.\u001b[39;00m\u001b[38;5;21;01mcorpus\u001b[39;00m \u001b[38;5;28;01mimport\u001b[39;00m stopwords\n\u001b[0;32m      3\u001b[0m \u001b[38;5;28;01mfrom\u001b[39;00m \u001b[38;5;21;01mnltk\u001b[39;00m\u001b[38;5;21;01m.\u001b[39;00m\u001b[38;5;21;01mtokenize\u001b[39;00m \u001b[38;5;28;01mimport\u001b[39;00m word_tokenize\n",
      "File \u001b[1;32mc:\\Users\\arnau\\anaconda3\\envs\\ada\\lib\\site-packages\\spacy\\__init__.py:6\u001b[0m\n\u001b[0;32m      3\u001b[0m \u001b[38;5;28;01mfrom\u001b[39;00m \u001b[38;5;21;01mtyping\u001b[39;00m \u001b[38;5;28;01mimport\u001b[39;00m Any, Dict, Iterable, Union\n\u001b[0;32m      5\u001b[0m \u001b[38;5;66;03m# set library-specific custom warning handling before doing anything else\u001b[39;00m\n\u001b[1;32m----> 6\u001b[0m \u001b[38;5;28;01mfrom\u001b[39;00m \u001b[38;5;21;01m.\u001b[39;00m\u001b[38;5;21;01merrors\u001b[39;00m \u001b[38;5;28;01mimport\u001b[39;00m setup_default_warnings\n\u001b[0;32m      8\u001b[0m setup_default_warnings()  \u001b[38;5;66;03m# noqa: E402\u001b[39;00m\n\u001b[0;32m     10\u001b[0m \u001b[38;5;66;03m# These are imported as part of the API\u001b[39;00m\n",
      "File \u001b[1;32mc:\\Users\\arnau\\anaconda3\\envs\\ada\\lib\\site-packages\\spacy\\errors.py:3\u001b[0m\n\u001b[0;32m      1\u001b[0m \u001b[38;5;28;01mimport\u001b[39;00m \u001b[38;5;21;01mwarnings\u001b[39;00m\n\u001b[1;32m----> 3\u001b[0m \u001b[38;5;28;01mfrom\u001b[39;00m \u001b[38;5;21;01m.\u001b[39;00m\u001b[38;5;21;01mcompat\u001b[39;00m \u001b[38;5;28;01mimport\u001b[39;00m Literal\n\u001b[0;32m      6\u001b[0m \u001b[38;5;28;01mclass\u001b[39;00m \u001b[38;5;21;01mErrorsWithCodes\u001b[39;00m(\u001b[38;5;28mtype\u001b[39m):\n\u001b[0;32m      7\u001b[0m     \u001b[38;5;28;01mdef\u001b[39;00m \u001b[38;5;21m__getattribute__\u001b[39m(\u001b[38;5;28mself\u001b[39m, code):\n",
      "File \u001b[1;32mc:\\Users\\arnau\\anaconda3\\envs\\ada\\lib\\site-packages\\spacy\\compat.py:4\u001b[0m\n\u001b[0;32m      1\u001b[0m \u001b[38;5;124;03m\"\"\"Helpers for Python and platform compatibility.\"\"\"\u001b[39;00m\n\u001b[0;32m      2\u001b[0m \u001b[38;5;28;01mimport\u001b[39;00m \u001b[38;5;21;01msys\u001b[39;00m\n\u001b[1;32m----> 4\u001b[0m \u001b[38;5;28;01mfrom\u001b[39;00m \u001b[38;5;21;01mthinc\u001b[39;00m\u001b[38;5;21;01m.\u001b[39;00m\u001b[38;5;21;01mutil\u001b[39;00m \u001b[38;5;28;01mimport\u001b[39;00m copy_array\n\u001b[0;32m      6\u001b[0m \u001b[38;5;28;01mtry\u001b[39;00m:\n\u001b[0;32m      7\u001b[0m     \u001b[38;5;28;01mimport\u001b[39;00m \u001b[38;5;21;01mcPickle\u001b[39;00m \u001b[38;5;28;01mas\u001b[39;00m \u001b[38;5;21;01mpickle\u001b[39;00m\n",
      "File \u001b[1;32mc:\\Users\\arnau\\anaconda3\\envs\\ada\\lib\\site-packages\\thinc\\__init__.py:5\u001b[0m\n\u001b[0;32m      2\u001b[0m \u001b[38;5;28;01mimport\u001b[39;00m \u001b[38;5;21;01mnumpy\u001b[39;00m\n\u001b[0;32m      4\u001b[0m \u001b[38;5;28;01mfrom\u001b[39;00m \u001b[38;5;21;01m.\u001b[39;00m\u001b[38;5;21;01mabout\u001b[39;00m \u001b[38;5;28;01mimport\u001b[39;00m __version__\n\u001b[1;32m----> 5\u001b[0m \u001b[38;5;28;01mfrom\u001b[39;00m \u001b[38;5;21;01m.\u001b[39;00m\u001b[38;5;21;01mconfig\u001b[39;00m \u001b[38;5;28;01mimport\u001b[39;00m registry\n\u001b[0;32m      7\u001b[0m \u001b[38;5;66;03m# fmt: off\u001b[39;00m\n\u001b[0;32m      8\u001b[0m __all__ \u001b[38;5;241m=\u001b[39m [\n\u001b[0;32m      9\u001b[0m     \u001b[38;5;124m\"\u001b[39m\u001b[38;5;124mregistry\u001b[39m\u001b[38;5;124m\"\u001b[39m,\n\u001b[0;32m     10\u001b[0m     \u001b[38;5;124m\"\u001b[39m\u001b[38;5;124m__version__\u001b[39m\u001b[38;5;124m\"\u001b[39m,\n\u001b[0;32m     11\u001b[0m ]\n",
      "File \u001b[1;32mc:\\Users\\arnau\\anaconda3\\envs\\ada\\lib\\site-packages\\thinc\\config.py:2\u001b[0m\n\u001b[0;32m      1\u001b[0m \u001b[38;5;28;01mimport\u001b[39;00m \u001b[38;5;21;01mcatalogue\u001b[39;00m\n\u001b[1;32m----> 2\u001b[0m \u001b[38;5;28;01mimport\u001b[39;00m \u001b[38;5;21;01mconfection\u001b[39;00m\n\u001b[0;32m      3\u001b[0m \u001b[38;5;28;01mfrom\u001b[39;00m \u001b[38;5;21;01mconfection\u001b[39;00m \u001b[38;5;28;01mimport\u001b[39;00m VARIABLE_RE, Config, ConfigValidationError, Promise\n\u001b[0;32m      5\u001b[0m \u001b[38;5;28;01mfrom\u001b[39;00m \u001b[38;5;21;01m.\u001b[39;00m\u001b[38;5;21;01mtypes\u001b[39;00m \u001b[38;5;28;01mimport\u001b[39;00m Decorator\n",
      "File \u001b[1;32mc:\\Users\\arnau\\anaconda3\\envs\\ada\\lib\\site-packages\\confection\\__init__.py:35\u001b[0m\n\u001b[0;32m     19\u001b[0m \u001b[38;5;28;01mfrom\u001b[39;00m \u001b[38;5;21;01mtypes\u001b[39;00m \u001b[38;5;28;01mimport\u001b[39;00m GeneratorType\n\u001b[0;32m     20\u001b[0m \u001b[38;5;28;01mfrom\u001b[39;00m \u001b[38;5;21;01mtyping\u001b[39;00m \u001b[38;5;28;01mimport\u001b[39;00m (\n\u001b[0;32m     21\u001b[0m     Any,\n\u001b[0;32m     22\u001b[0m     Callable,\n\u001b[1;32m   (...)\u001b[0m\n\u001b[0;32m     32\u001b[0m     cast,\n\u001b[0;32m     33\u001b[0m )\n\u001b[1;32m---> 35\u001b[0m \u001b[38;5;28;01mimport\u001b[39;00m \u001b[38;5;21;01msrsly\u001b[39;00m\n\u001b[0;32m     37\u001b[0m \u001b[38;5;28;01mtry\u001b[39;00m:\n\u001b[0;32m     38\u001b[0m     \u001b[38;5;28;01mfrom\u001b[39;00m \u001b[38;5;21;01mpydantic\u001b[39;00m\u001b[38;5;21;01m.\u001b[39;00m\u001b[38;5;21;01mv1\u001b[39;00m \u001b[38;5;28;01mimport\u001b[39;00m BaseModel, Extra, ValidationError, create_model\n",
      "File \u001b[1;32mc:\\Users\\arnau\\anaconda3\\envs\\ada\\lib\\site-packages\\srsly\\__init__.py:1\u001b[0m\n\u001b[1;32m----> 1\u001b[0m \u001b[38;5;28;01mfrom\u001b[39;00m \u001b[38;5;21;01m.\u001b[39;00m\u001b[38;5;21;01m_json_api\u001b[39;00m \u001b[38;5;28;01mimport\u001b[39;00m read_json, read_gzip_json, write_json, write_gzip_json\n\u001b[0;32m      2\u001b[0m \u001b[38;5;28;01mfrom\u001b[39;00m \u001b[38;5;21;01m.\u001b[39;00m\u001b[38;5;21;01m_json_api\u001b[39;00m \u001b[38;5;28;01mimport\u001b[39;00m read_gzip_jsonl, write_gzip_jsonl\n\u001b[0;32m      3\u001b[0m \u001b[38;5;28;01mfrom\u001b[39;00m \u001b[38;5;21;01m.\u001b[39;00m\u001b[38;5;21;01m_json_api\u001b[39;00m \u001b[38;5;28;01mimport\u001b[39;00m read_jsonl, write_jsonl\n",
      "File \u001b[1;32mc:\\Users\\arnau\\anaconda3\\envs\\ada\\lib\\site-packages\\srsly\\_json_api.py:6\u001b[0m\n\u001b[0;32m      3\u001b[0m \u001b[38;5;28;01mimport\u001b[39;00m \u001b[38;5;21;01mjson\u001b[39;00m \u001b[38;5;28;01mas\u001b[39;00m \u001b[38;5;21;01m_builtin_json\u001b[39;00m\n\u001b[0;32m      4\u001b[0m \u001b[38;5;28;01mimport\u001b[39;00m \u001b[38;5;21;01mgzip\u001b[39;00m\n\u001b[1;32m----> 6\u001b[0m \u001b[38;5;28;01mfrom\u001b[39;00m \u001b[38;5;21;01m.\u001b[39;00m \u001b[38;5;28;01mimport\u001b[39;00m ujson\n\u001b[0;32m      7\u001b[0m \u001b[38;5;28;01mfrom\u001b[39;00m \u001b[38;5;21;01m.\u001b[39;00m\u001b[38;5;21;01mutil\u001b[39;00m \u001b[38;5;28;01mimport\u001b[39;00m force_path, force_string, FilePath, JSONInput, JSONOutput\n\u001b[0;32m     10\u001b[0m \u001b[38;5;28;01mdef\u001b[39;00m \u001b[38;5;21mjson_dumps\u001b[39m(\n\u001b[0;32m     11\u001b[0m     data: JSONInput, indent: Optional[\u001b[38;5;28mint\u001b[39m] \u001b[38;5;241m=\u001b[39m \u001b[38;5;241m0\u001b[39m, sort_keys: \u001b[38;5;28mbool\u001b[39m \u001b[38;5;241m=\u001b[39m \u001b[38;5;28;01mFalse\u001b[39;00m\n\u001b[0;32m     12\u001b[0m ) \u001b[38;5;241m-\u001b[39m\u001b[38;5;241m>\u001b[39m \u001b[38;5;28mstr\u001b[39m:\n",
      "File \u001b[1;32mc:\\Users\\arnau\\anaconda3\\envs\\ada\\lib\\site-packages\\srsly\\ujson\\__init__.py:1\u001b[0m\n\u001b[1;32m----> 1\u001b[0m \u001b[38;5;28;01mfrom\u001b[39;00m \u001b[38;5;21;01m.\u001b[39;00m\u001b[38;5;21;01mujson\u001b[39;00m \u001b[38;5;28;01mimport\u001b[39;00m decode, encode, dump, dumps, load, loads\n",
      "\u001b[1;31mModuleNotFoundError\u001b[0m: No module named 'srsly.ujson.ujson'"
     ]
    }
   ],
   "source": [
    "import spacy\n",
    "from nltk.corpus import stopwords\n",
    "from nltk.tokenize import word_tokenize\n",
    "import string\n",
    "from tqdm import tqdm\n",
    "\n",
    "# Load the spaCy model for English language\n",
    "nlp = spacy.load(\"en_core_web_sm\")\n",
    "\n",
    "# Download stopwords and punkt tokenizer\n",
    "import nltk\n",
    "nltk.download('stopwords')\n",
    "nltk.download('punkt')\n",
    "\n",
    "# Load the English stopwords\n",
    "stop_words = set(stopwords.words(\"english\"))\n",
    "\n",
    "def preprocess_text(text):\n",
    "    # Tokenisation\n",
    "    doc = nlp(text.lower())  # Convert to lowercase\n",
    "    \n",
    "    # Lemmatisation and remove stopwords and punctuation\n",
    "    processed_tokens = [\n",
    "        token.lemma_ for token in doc if token.text not in stop_words and token.text not in string.punctuation\n",
    "    ]\n",
    "    \n",
    "    return \" \".join(processed_tokens)"
   ]
  },
  {
   "cell_type": "code",
   "execution_count": 64,
   "metadata": {},
   "outputs": [
    {
     "name": "stderr",
     "output_type": "stream",
     "text": [
      "100%|██████████| 42303/42303 [40:59<00:00, 17.20it/s]  \n"
     ]
    }
   ],
   "source": [
    "# Apply the preprocessing to the summaries\n",
    "tqdm.pandas()\n",
    "df_summaries['cleaned_summary'] = df_summaries['summary'].progress_apply(preprocess_text)\n",
    "df_summaries.to_csv('../../data/nlpData/lemmatized_summaries.csv')"
   ]
  },
  {
   "cell_type": "code",
   "execution_count": 65,
   "metadata": {},
   "outputs": [],
   "source": [
    "from bertopic import BERTopic\n",
    "from sentence_transformers import SentenceTransformer"
   ]
  },
  {
   "cell_type": "code",
   "execution_count": 77,
   "metadata": {},
   "outputs": [],
   "source": [
    "df_summaries_small = df_summaries.sample(1000)"
   ]
  },
  {
   "cell_type": "code",
   "execution_count": 78,
   "metadata": {},
   "outputs": [
    {
     "data": {
      "application/vnd.jupyter.widget-view+json": {
       "model_id": "a4c9ac7eb0dd400da316ef451983036e",
       "version_major": 2,
       "version_minor": 0
      },
      "text/plain": [
       "Batches:   0%|          | 0/32 [00:00<?, ?it/s]"
      ]
     },
     "metadata": {},
     "output_type": "display_data"
    },
    {
     "name": "stderr",
     "output_type": "stream",
     "text": [
      "2024-11-13 21:13:12,799 - BERTopic - Embedding - Transforming documents to embeddings.\n"
     ]
    },
    {
     "data": {
      "application/vnd.jupyter.widget-view+json": {
       "model_id": "31bb74ee42c54312b1cdc767c9bd8a1b",
       "version_major": 2,
       "version_minor": 0
      },
      "text/plain": [
       "Batches:   0%|          | 0/32 [00:00<?, ?it/s]"
      ]
     },
     "metadata": {},
     "output_type": "display_data"
    },
    {
     "name": "stderr",
     "output_type": "stream",
     "text": [
      "2024-11-13 21:14:01,989 - BERTopic - Embedding - Completed ✓\n",
      "2024-11-13 21:14:01,995 - BERTopic - Dimensionality - Fitting the dimensionality reduction algorithm\n",
      "2024-11-13 21:14:05,554 - BERTopic - Dimensionality - Completed ✓\n",
      "2024-11-13 21:14:05,554 - BERTopic - Cluster - Start clustering the reduced embeddings\n",
      "2024-11-13 21:14:05,600 - BERTopic - Cluster - Completed ✓\n",
      "2024-11-13 21:14:05,603 - BERTopic - Representation - Extracting topics from clusters using representation models.\n",
      "2024-11-13 21:14:05,836 - BERTopic - Representation - Completed ✓\n"
     ]
    }
   ],
   "source": [
    "# Create the SentenceTransformer model\n",
    "embedding_model = SentenceTransformer(\"all-MiniLM-L6-v2\")\n",
    "\n",
    "# Encode the summaries\n",
    "embeddings = embedding_model.encode(df_summaries_small['cleaned_summary'].tolist(), show_progress_bar=True)\n",
    "\n",
    "# Create the BERTopic model\n",
    "topic_model = BERTopic(embedding_model=embedding_model, verbose=True)\n",
    "\n",
    "# Fit the BERTopic model\n",
    "topics, probabilities = topic_model.fit_transform(df_summaries_small['cleaned_summary'].tolist())\n",
    "\n",
    "# Assign the topics to the summaries\n",
    "df_summaries_small['topic'] = topics"
   ]
  },
  {
   "cell_type": "code",
   "execution_count": 79,
   "metadata": {},
   "outputs": [
    {
     "name": "stdout",
     "output_type": "stream",
     "text": [
      "    Topic  Count                             Name  \\\n",
      "0      -1    466              -1_go_take_find_one   \n",
      "1       0    202              0_find_tell_go_take   \n",
      "2       1    101        1_love_father_get_village   \n",
      "3       2     60           2_film_war_soldier_man   \n",
      "4       3     53  3_father_wife_love_relationship   \n",
      "5       4     30            4_bug_tom_jerry_elmer   \n",
      "6       5     23   5_murder_evans_christie_police   \n",
      "7       6     23   6_dastan_tamina_michiru_dagger   \n",
      "8       7     19       7_story_woman_chopin_mayil   \n",
      "9       8     13     8_ship_boat_captain_finnegan   \n",
      "10      9     10     9_stooge_droopy_curly_elaine   \n",
      "\n",
      "                                       Representation  \\\n",
      "0   [go, take, find, one, get, leave, film, man, f...   \n",
      "1   [find, tell, go, take, leave, get, see, one, k...   \n",
      "2   [love, father, get, village, marry, family, ta...   \n",
      "3   [film, war, soldier, man, german, d8, british,...   \n",
      "4   [father, wife, love, relationship, max, life, ...   \n",
      "5   [bug, tom, jerry, elmer, donald, pinocchio, do...   \n",
      "6   [murder, evans, christie, police, case, detect...   \n",
      "7   [dastan, tamina, michiru, dagger, hedorah, was...   \n",
      "8   [story, woman, chopin, mayil, monika, film, yo...   \n",
      "9   [ship, boat, captain, finnegan, tyler, kong, 5...   \n",
      "10  [stooge, droopy, curly, elaine, bedford, cedri...   \n",
      "\n",
      "                                  Representative_Docs  \n",
      "0   [plot film open francie gidget lawrence   jeff...  \n",
      "1   [film open 15 year old susan bower alcohol dru...  \n",
      "2   [film focus two love story chennai one take pl...  \n",
      "3   [opening title graphic film begin message appe...  \n",
      "4   [max fiedler   air traffic controller new york...  \n",
      "5   [tom jerry 's penthouse apartment room around ...  \n",
      "6   [film begin alphonse tram less gregarious char...  \n",
      "7   [handful year give mathayus prophecy peaceful ...  \n",
      "8   [series intertwine tale involve pleasure seeke...  \n",
      "9   [blood alley tell story captain tom wilder ame...  \n",
      "10  [stooge troubadour medieval time villainous bl...  \n"
     ]
    },
    {
     "data": {
      "application/vnd.plotly.v1+json": {
       "config": {
        "plotlyServerURL": "https://plot.ly"
       },
       "data": [
        {
         "customdata": [
          [
           0,
           "find | tell | go | take | leave",
           202
          ],
          [
           1,
           "love | father | get | village | marry",
           101
          ],
          [
           2,
           "film | war | soldier | man | german",
           60
          ],
          [
           3,
           "father | wife | love | relationship | max",
           53
          ],
          [
           4,
           "bug | tom | jerry | elmer | donald",
           30
          ],
          [
           5,
           "murder | evans | christie | police | case",
           23
          ],
          [
           6,
           "dastan | tamina | michiru | dagger | hedorah",
           23
          ],
          [
           7,
           "story | woman | chopin | mayil | monika",
           19
          ],
          [
           8,
           "ship | boat | captain | finnegan | tyler",
           13
          ],
          [
           9,
           "stooge | droopy | curly | elaine | bedford",
           10
          ]
         ],
         "hovertemplate": "<b>Topic %{customdata[0]}</b><br>%{customdata[1]}<br>Size: %{customdata[2]}",
         "legendgroup": "",
         "marker": {
          "color": "#B0BEC5",
          "line": {
           "color": "DarkSlateGrey",
           "width": 2
          },
          "size": [
           202,
           101,
           60,
           53,
           30,
           23,
           23,
           19,
           13,
           10
          ],
          "sizemode": "area",
          "sizeref": 0.12625,
          "symbol": "circle"
         },
         "mode": "markers",
         "name": "",
         "orientation": "v",
         "showlegend": false,
         "type": "scatter",
         "x": [
          7.184916973114014,
          8.310833930969238,
          -1.6589689254760742,
          -0.9464434385299683,
          6.776468276977539,
          -2.0112967491149902,
          8.635822296142578,
          -1.2757030725479126,
          7.682403564453125,
          6.508602142333984
         ],
         "xaxis": "x",
         "y": [
          4.8391032218933105,
          16.091482162475586,
          -5.195116996765137,
          -4.46490478515625,
          4.281673431396484,
          -5.54541015625,
          16.416316986083984,
          -4.797600269317627,
          4.7784295082092285,
          3.88716459274292
         ],
         "yaxis": "y"
        }
       ],
       "layout": {
        "annotations": [
         {
          "showarrow": false,
          "text": "D1",
          "x": -2.3129912614822388,
          "y": 6.2507714271545405,
          "yshift": 10
         },
         {
          "showarrow": false,
          "text": "D2",
          "x": 3.809102189540863,
          "xshift": 10,
          "y": 18.87876453399658
         }
        ],
        "height": 650,
        "hoverlabel": {
         "bgcolor": "white",
         "font": {
          "family": "Rockwell",
          "size": 16
         }
        },
        "legend": {
         "itemsizing": "constant",
         "tracegroupgap": 0
        },
        "margin": {
         "t": 60
        },
        "shapes": [
         {
          "line": {
           "color": "#CFD8DC",
           "width": 2
          },
          "type": "line",
          "x0": 3.809102189540863,
          "x1": 3.809102189540863,
          "y0": -6.3772216796875,
          "y1": 18.87876453399658
         },
         {
          "line": {
           "color": "#9E9E9E",
           "width": 2
          },
          "type": "line",
          "x0": -2.3129912614822388,
          "x1": 9.931195640563965,
          "y0": 6.2507714271545405,
          "y1": 6.2507714271545405
         }
        ],
        "sliders": [
         {
          "active": 0,
          "pad": {
           "t": 50
          },
          "steps": [
           {
            "args": [
             {
              "marker.color": [
               [
                "red",
                "#B0BEC5",
                "#B0BEC5",
                "#B0BEC5",
                "#B0BEC5",
                "#B0BEC5",
                "#B0BEC5",
                "#B0BEC5",
                "#B0BEC5",
                "#B0BEC5"
               ]
              ]
             }
            ],
            "label": "Topic 0",
            "method": "update"
           },
           {
            "args": [
             {
              "marker.color": [
               [
                "#B0BEC5",
                "red",
                "#B0BEC5",
                "#B0BEC5",
                "#B0BEC5",
                "#B0BEC5",
                "#B0BEC5",
                "#B0BEC5",
                "#B0BEC5",
                "#B0BEC5"
               ]
              ]
             }
            ],
            "label": "Topic 1",
            "method": "update"
           },
           {
            "args": [
             {
              "marker.color": [
               [
                "#B0BEC5",
                "#B0BEC5",
                "red",
                "#B0BEC5",
                "#B0BEC5",
                "#B0BEC5",
                "#B0BEC5",
                "#B0BEC5",
                "#B0BEC5",
                "#B0BEC5"
               ]
              ]
             }
            ],
            "label": "Topic 2",
            "method": "update"
           },
           {
            "args": [
             {
              "marker.color": [
               [
                "#B0BEC5",
                "#B0BEC5",
                "#B0BEC5",
                "red",
                "#B0BEC5",
                "#B0BEC5",
                "#B0BEC5",
                "#B0BEC5",
                "#B0BEC5",
                "#B0BEC5"
               ]
              ]
             }
            ],
            "label": "Topic 3",
            "method": "update"
           },
           {
            "args": [
             {
              "marker.color": [
               [
                "#B0BEC5",
                "#B0BEC5",
                "#B0BEC5",
                "#B0BEC5",
                "red",
                "#B0BEC5",
                "#B0BEC5",
                "#B0BEC5",
                "#B0BEC5",
                "#B0BEC5"
               ]
              ]
             }
            ],
            "label": "Topic 4",
            "method": "update"
           },
           {
            "args": [
             {
              "marker.color": [
               [
                "#B0BEC5",
                "#B0BEC5",
                "#B0BEC5",
                "#B0BEC5",
                "#B0BEC5",
                "red",
                "#B0BEC5",
                "#B0BEC5",
                "#B0BEC5",
                "#B0BEC5"
               ]
              ]
             }
            ],
            "label": "Topic 5",
            "method": "update"
           },
           {
            "args": [
             {
              "marker.color": [
               [
                "#B0BEC5",
                "#B0BEC5",
                "#B0BEC5",
                "#B0BEC5",
                "#B0BEC5",
                "#B0BEC5",
                "red",
                "#B0BEC5",
                "#B0BEC5",
                "#B0BEC5"
               ]
              ]
             }
            ],
            "label": "Topic 6",
            "method": "update"
           },
           {
            "args": [
             {
              "marker.color": [
               [
                "#B0BEC5",
                "#B0BEC5",
                "#B0BEC5",
                "#B0BEC5",
                "#B0BEC5",
                "#B0BEC5",
                "#B0BEC5",
                "red",
                "#B0BEC5",
                "#B0BEC5"
               ]
              ]
             }
            ],
            "label": "Topic 7",
            "method": "update"
           },
           {
            "args": [
             {
              "marker.color": [
               [
                "#B0BEC5",
                "#B0BEC5",
                "#B0BEC5",
                "#B0BEC5",
                "#B0BEC5",
                "#B0BEC5",
                "#B0BEC5",
                "#B0BEC5",
                "red",
                "#B0BEC5"
               ]
              ]
             }
            ],
            "label": "Topic 8",
            "method": "update"
           },
           {
            "args": [
             {
              "marker.color": [
               [
                "#B0BEC5",
                "#B0BEC5",
                "#B0BEC5",
                "#B0BEC5",
                "#B0BEC5",
                "#B0BEC5",
                "#B0BEC5",
                "#B0BEC5",
                "#B0BEC5",
                "red"
               ]
              ]
             }
            ],
            "label": "Topic 9",
            "method": "update"
           }
          ]
         }
        ],
        "template": {
         "data": {
          "bar": [
           {
            "error_x": {
             "color": "rgb(36,36,36)"
            },
            "error_y": {
             "color": "rgb(36,36,36)"
            },
            "marker": {
             "line": {
              "color": "white",
              "width": 0.5
             },
             "pattern": {
              "fillmode": "overlay",
              "size": 10,
              "solidity": 0.2
             }
            },
            "type": "bar"
           }
          ],
          "barpolar": [
           {
            "marker": {
             "line": {
              "color": "white",
              "width": 0.5
             },
             "pattern": {
              "fillmode": "overlay",
              "size": 10,
              "solidity": 0.2
             }
            },
            "type": "barpolar"
           }
          ],
          "carpet": [
           {
            "aaxis": {
             "endlinecolor": "rgb(36,36,36)",
             "gridcolor": "white",
             "linecolor": "white",
             "minorgridcolor": "white",
             "startlinecolor": "rgb(36,36,36)"
            },
            "baxis": {
             "endlinecolor": "rgb(36,36,36)",
             "gridcolor": "white",
             "linecolor": "white",
             "minorgridcolor": "white",
             "startlinecolor": "rgb(36,36,36)"
            },
            "type": "carpet"
           }
          ],
          "choropleth": [
           {
            "colorbar": {
             "outlinewidth": 1,
             "tickcolor": "rgb(36,36,36)",
             "ticks": "outside"
            },
            "type": "choropleth"
           }
          ],
          "contour": [
           {
            "colorbar": {
             "outlinewidth": 1,
             "tickcolor": "rgb(36,36,36)",
             "ticks": "outside"
            },
            "colorscale": [
             [
              0,
              "#440154"
             ],
             [
              0.1111111111111111,
              "#482878"
             ],
             [
              0.2222222222222222,
              "#3e4989"
             ],
             [
              0.3333333333333333,
              "#31688e"
             ],
             [
              0.4444444444444444,
              "#26828e"
             ],
             [
              0.5555555555555556,
              "#1f9e89"
             ],
             [
              0.6666666666666666,
              "#35b779"
             ],
             [
              0.7777777777777778,
              "#6ece58"
             ],
             [
              0.8888888888888888,
              "#b5de2b"
             ],
             [
              1,
              "#fde725"
             ]
            ],
            "type": "contour"
           }
          ],
          "contourcarpet": [
           {
            "colorbar": {
             "outlinewidth": 1,
             "tickcolor": "rgb(36,36,36)",
             "ticks": "outside"
            },
            "type": "contourcarpet"
           }
          ],
          "heatmap": [
           {
            "colorbar": {
             "outlinewidth": 1,
             "tickcolor": "rgb(36,36,36)",
             "ticks": "outside"
            },
            "colorscale": [
             [
              0,
              "#440154"
             ],
             [
              0.1111111111111111,
              "#482878"
             ],
             [
              0.2222222222222222,
              "#3e4989"
             ],
             [
              0.3333333333333333,
              "#31688e"
             ],
             [
              0.4444444444444444,
              "#26828e"
             ],
             [
              0.5555555555555556,
              "#1f9e89"
             ],
             [
              0.6666666666666666,
              "#35b779"
             ],
             [
              0.7777777777777778,
              "#6ece58"
             ],
             [
              0.8888888888888888,
              "#b5de2b"
             ],
             [
              1,
              "#fde725"
             ]
            ],
            "type": "heatmap"
           }
          ],
          "heatmapgl": [
           {
            "colorbar": {
             "outlinewidth": 1,
             "tickcolor": "rgb(36,36,36)",
             "ticks": "outside"
            },
            "colorscale": [
             [
              0,
              "#440154"
             ],
             [
              0.1111111111111111,
              "#482878"
             ],
             [
              0.2222222222222222,
              "#3e4989"
             ],
             [
              0.3333333333333333,
              "#31688e"
             ],
             [
              0.4444444444444444,
              "#26828e"
             ],
             [
              0.5555555555555556,
              "#1f9e89"
             ],
             [
              0.6666666666666666,
              "#35b779"
             ],
             [
              0.7777777777777778,
              "#6ece58"
             ],
             [
              0.8888888888888888,
              "#b5de2b"
             ],
             [
              1,
              "#fde725"
             ]
            ],
            "type": "heatmapgl"
           }
          ],
          "histogram": [
           {
            "marker": {
             "line": {
              "color": "white",
              "width": 0.6
             }
            },
            "type": "histogram"
           }
          ],
          "histogram2d": [
           {
            "colorbar": {
             "outlinewidth": 1,
             "tickcolor": "rgb(36,36,36)",
             "ticks": "outside"
            },
            "colorscale": [
             [
              0,
              "#440154"
             ],
             [
              0.1111111111111111,
              "#482878"
             ],
             [
              0.2222222222222222,
              "#3e4989"
             ],
             [
              0.3333333333333333,
              "#31688e"
             ],
             [
              0.4444444444444444,
              "#26828e"
             ],
             [
              0.5555555555555556,
              "#1f9e89"
             ],
             [
              0.6666666666666666,
              "#35b779"
             ],
             [
              0.7777777777777778,
              "#6ece58"
             ],
             [
              0.8888888888888888,
              "#b5de2b"
             ],
             [
              1,
              "#fde725"
             ]
            ],
            "type": "histogram2d"
           }
          ],
          "histogram2dcontour": [
           {
            "colorbar": {
             "outlinewidth": 1,
             "tickcolor": "rgb(36,36,36)",
             "ticks": "outside"
            },
            "colorscale": [
             [
              0,
              "#440154"
             ],
             [
              0.1111111111111111,
              "#482878"
             ],
             [
              0.2222222222222222,
              "#3e4989"
             ],
             [
              0.3333333333333333,
              "#31688e"
             ],
             [
              0.4444444444444444,
              "#26828e"
             ],
             [
              0.5555555555555556,
              "#1f9e89"
             ],
             [
              0.6666666666666666,
              "#35b779"
             ],
             [
              0.7777777777777778,
              "#6ece58"
             ],
             [
              0.8888888888888888,
              "#b5de2b"
             ],
             [
              1,
              "#fde725"
             ]
            ],
            "type": "histogram2dcontour"
           }
          ],
          "mesh3d": [
           {
            "colorbar": {
             "outlinewidth": 1,
             "tickcolor": "rgb(36,36,36)",
             "ticks": "outside"
            },
            "type": "mesh3d"
           }
          ],
          "parcoords": [
           {
            "line": {
             "colorbar": {
              "outlinewidth": 1,
              "tickcolor": "rgb(36,36,36)",
              "ticks": "outside"
             }
            },
            "type": "parcoords"
           }
          ],
          "pie": [
           {
            "automargin": true,
            "type": "pie"
           }
          ],
          "scatter": [
           {
            "fillpattern": {
             "fillmode": "overlay",
             "size": 10,
             "solidity": 0.2
            },
            "type": "scatter"
           }
          ],
          "scatter3d": [
           {
            "line": {
             "colorbar": {
              "outlinewidth": 1,
              "tickcolor": "rgb(36,36,36)",
              "ticks": "outside"
             }
            },
            "marker": {
             "colorbar": {
              "outlinewidth": 1,
              "tickcolor": "rgb(36,36,36)",
              "ticks": "outside"
             }
            },
            "type": "scatter3d"
           }
          ],
          "scattercarpet": [
           {
            "marker": {
             "colorbar": {
              "outlinewidth": 1,
              "tickcolor": "rgb(36,36,36)",
              "ticks": "outside"
             }
            },
            "type": "scattercarpet"
           }
          ],
          "scattergeo": [
           {
            "marker": {
             "colorbar": {
              "outlinewidth": 1,
              "tickcolor": "rgb(36,36,36)",
              "ticks": "outside"
             }
            },
            "type": "scattergeo"
           }
          ],
          "scattergl": [
           {
            "marker": {
             "colorbar": {
              "outlinewidth": 1,
              "tickcolor": "rgb(36,36,36)",
              "ticks": "outside"
             }
            },
            "type": "scattergl"
           }
          ],
          "scattermapbox": [
           {
            "marker": {
             "colorbar": {
              "outlinewidth": 1,
              "tickcolor": "rgb(36,36,36)",
              "ticks": "outside"
             }
            },
            "type": "scattermapbox"
           }
          ],
          "scatterpolar": [
           {
            "marker": {
             "colorbar": {
              "outlinewidth": 1,
              "tickcolor": "rgb(36,36,36)",
              "ticks": "outside"
             }
            },
            "type": "scatterpolar"
           }
          ],
          "scatterpolargl": [
           {
            "marker": {
             "colorbar": {
              "outlinewidth": 1,
              "tickcolor": "rgb(36,36,36)",
              "ticks": "outside"
             }
            },
            "type": "scatterpolargl"
           }
          ],
          "scatterternary": [
           {
            "marker": {
             "colorbar": {
              "outlinewidth": 1,
              "tickcolor": "rgb(36,36,36)",
              "ticks": "outside"
             }
            },
            "type": "scatterternary"
           }
          ],
          "surface": [
           {
            "colorbar": {
             "outlinewidth": 1,
             "tickcolor": "rgb(36,36,36)",
             "ticks": "outside"
            },
            "colorscale": [
             [
              0,
              "#440154"
             ],
             [
              0.1111111111111111,
              "#482878"
             ],
             [
              0.2222222222222222,
              "#3e4989"
             ],
             [
              0.3333333333333333,
              "#31688e"
             ],
             [
              0.4444444444444444,
              "#26828e"
             ],
             [
              0.5555555555555556,
              "#1f9e89"
             ],
             [
              0.6666666666666666,
              "#35b779"
             ],
             [
              0.7777777777777778,
              "#6ece58"
             ],
             [
              0.8888888888888888,
              "#b5de2b"
             ],
             [
              1,
              "#fde725"
             ]
            ],
            "type": "surface"
           }
          ],
          "table": [
           {
            "cells": {
             "fill": {
              "color": "rgb(237,237,237)"
             },
             "line": {
              "color": "white"
             }
            },
            "header": {
             "fill": {
              "color": "rgb(217,217,217)"
             },
             "line": {
              "color": "white"
             }
            },
            "type": "table"
           }
          ]
         },
         "layout": {
          "annotationdefaults": {
           "arrowhead": 0,
           "arrowwidth": 1
          },
          "autotypenumbers": "strict",
          "coloraxis": {
           "colorbar": {
            "outlinewidth": 1,
            "tickcolor": "rgb(36,36,36)",
            "ticks": "outside"
           }
          },
          "colorscale": {
           "diverging": [
            [
             0,
             "rgb(103,0,31)"
            ],
            [
             0.1,
             "rgb(178,24,43)"
            ],
            [
             0.2,
             "rgb(214,96,77)"
            ],
            [
             0.3,
             "rgb(244,165,130)"
            ],
            [
             0.4,
             "rgb(253,219,199)"
            ],
            [
             0.5,
             "rgb(247,247,247)"
            ],
            [
             0.6,
             "rgb(209,229,240)"
            ],
            [
             0.7,
             "rgb(146,197,222)"
            ],
            [
             0.8,
             "rgb(67,147,195)"
            ],
            [
             0.9,
             "rgb(33,102,172)"
            ],
            [
             1,
             "rgb(5,48,97)"
            ]
           ],
           "sequential": [
            [
             0,
             "#440154"
            ],
            [
             0.1111111111111111,
             "#482878"
            ],
            [
             0.2222222222222222,
             "#3e4989"
            ],
            [
             0.3333333333333333,
             "#31688e"
            ],
            [
             0.4444444444444444,
             "#26828e"
            ],
            [
             0.5555555555555556,
             "#1f9e89"
            ],
            [
             0.6666666666666666,
             "#35b779"
            ],
            [
             0.7777777777777778,
             "#6ece58"
            ],
            [
             0.8888888888888888,
             "#b5de2b"
            ],
            [
             1,
             "#fde725"
            ]
           ],
           "sequentialminus": [
            [
             0,
             "#440154"
            ],
            [
             0.1111111111111111,
             "#482878"
            ],
            [
             0.2222222222222222,
             "#3e4989"
            ],
            [
             0.3333333333333333,
             "#31688e"
            ],
            [
             0.4444444444444444,
             "#26828e"
            ],
            [
             0.5555555555555556,
             "#1f9e89"
            ],
            [
             0.6666666666666666,
             "#35b779"
            ],
            [
             0.7777777777777778,
             "#6ece58"
            ],
            [
             0.8888888888888888,
             "#b5de2b"
            ],
            [
             1,
             "#fde725"
            ]
           ]
          },
          "colorway": [
           "#1F77B4",
           "#FF7F0E",
           "#2CA02C",
           "#D62728",
           "#9467BD",
           "#8C564B",
           "#E377C2",
           "#7F7F7F",
           "#BCBD22",
           "#17BECF"
          ],
          "font": {
           "color": "rgb(36,36,36)"
          },
          "geo": {
           "bgcolor": "white",
           "lakecolor": "white",
           "landcolor": "white",
           "showlakes": true,
           "showland": true,
           "subunitcolor": "white"
          },
          "hoverlabel": {
           "align": "left"
          },
          "hovermode": "closest",
          "mapbox": {
           "style": "light"
          },
          "paper_bgcolor": "white",
          "plot_bgcolor": "white",
          "polar": {
           "angularaxis": {
            "gridcolor": "rgb(232,232,232)",
            "linecolor": "rgb(36,36,36)",
            "showgrid": false,
            "showline": true,
            "ticks": "outside"
           },
           "bgcolor": "white",
           "radialaxis": {
            "gridcolor": "rgb(232,232,232)",
            "linecolor": "rgb(36,36,36)",
            "showgrid": false,
            "showline": true,
            "ticks": "outside"
           }
          },
          "scene": {
           "xaxis": {
            "backgroundcolor": "white",
            "gridcolor": "rgb(232,232,232)",
            "gridwidth": 2,
            "linecolor": "rgb(36,36,36)",
            "showbackground": true,
            "showgrid": false,
            "showline": true,
            "ticks": "outside",
            "zeroline": false,
            "zerolinecolor": "rgb(36,36,36)"
           },
           "yaxis": {
            "backgroundcolor": "white",
            "gridcolor": "rgb(232,232,232)",
            "gridwidth": 2,
            "linecolor": "rgb(36,36,36)",
            "showbackground": true,
            "showgrid": false,
            "showline": true,
            "ticks": "outside",
            "zeroline": false,
            "zerolinecolor": "rgb(36,36,36)"
           },
           "zaxis": {
            "backgroundcolor": "white",
            "gridcolor": "rgb(232,232,232)",
            "gridwidth": 2,
            "linecolor": "rgb(36,36,36)",
            "showbackground": true,
            "showgrid": false,
            "showline": true,
            "ticks": "outside",
            "zeroline": false,
            "zerolinecolor": "rgb(36,36,36)"
           }
          },
          "shapedefaults": {
           "fillcolor": "black",
           "line": {
            "width": 0
           },
           "opacity": 0.3
          },
          "ternary": {
           "aaxis": {
            "gridcolor": "rgb(232,232,232)",
            "linecolor": "rgb(36,36,36)",
            "showgrid": false,
            "showline": true,
            "ticks": "outside"
           },
           "baxis": {
            "gridcolor": "rgb(232,232,232)",
            "linecolor": "rgb(36,36,36)",
            "showgrid": false,
            "showline": true,
            "ticks": "outside"
           },
           "bgcolor": "white",
           "caxis": {
            "gridcolor": "rgb(232,232,232)",
            "linecolor": "rgb(36,36,36)",
            "showgrid": false,
            "showline": true,
            "ticks": "outside"
           }
          },
          "title": {
           "x": 0.05
          },
          "xaxis": {
           "automargin": true,
           "gridcolor": "rgb(232,232,232)",
           "linecolor": "rgb(36,36,36)",
           "showgrid": false,
           "showline": true,
           "ticks": "outside",
           "title": {
            "standoff": 15
           },
           "zeroline": false,
           "zerolinecolor": "rgb(36,36,36)"
          },
          "yaxis": {
           "automargin": true,
           "gridcolor": "rgb(232,232,232)",
           "linecolor": "rgb(36,36,36)",
           "showgrid": false,
           "showline": true,
           "ticks": "outside",
           "title": {
            "standoff": 15
           },
           "zeroline": false,
           "zerolinecolor": "rgb(36,36,36)"
          }
         }
        },
        "title": {
         "font": {
          "color": "Black",
          "size": 22
         },
         "text": "<b>Intertopic Distance Map</b>",
         "x": 0.5,
         "xanchor": "center",
         "y": 0.95,
         "yanchor": "top"
        },
        "width": 650,
        "xaxis": {
         "anchor": "y",
         "domain": [
          0,
          1
         ],
         "range": [
          -2.3129912614822388,
          9.931195640563965
         ],
         "title": {
          "text": ""
         },
         "visible": false
        },
        "yaxis": {
         "anchor": "x",
         "domain": [
          0,
          1
         ],
         "range": [
          -6.3772216796875,
          18.87876453399658
         ],
         "title": {
          "text": ""
         },
         "visible": false
        }
       }
      }
     },
     "metadata": {},
     "output_type": "display_data"
    }
   ],
   "source": [
    "# Display the topics\n",
    "topic_info = topic_model.get_topic_info()\n",
    "print(topic_info)\n",
    "\n",
    "# Visualize the topics\n",
    "topic_model.visualize_topics()"
   ]
  },
  {
   "cell_type": "code",
   "execution_count": null,
   "metadata": {},
   "outputs": [],
   "source": []
  }
 ],
 "metadata": {
  "kernelspec": {
   "display_name": "ada",
   "language": "python",
   "name": "python3"
  },
  "language_info": {
   "codemirror_mode": {
    "name": "ipython",
    "version": 3
   },
   "file_extension": ".py",
   "mimetype": "text/x-python",
   "name": "python",
   "nbconvert_exporter": "python",
   "pygments_lexer": "ipython3",
   "version": "3.8.20"
  }
 },
 "nbformat": 4,
 "nbformat_minor": 2
}
