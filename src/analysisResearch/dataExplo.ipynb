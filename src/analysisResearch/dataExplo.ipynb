{
 "cells": [
  {
   "cell_type": "code",
   "execution_count": 1,
   "metadata": {},
   "outputs": [],
   "source": [
    "import pandas as pd\n",
    "import matplotlib.pyplot as plt\n",
    "\n",
    "import sys\n",
    "sys.path.append('../data')\n",
    "from dataLoader import loadDataframe"
   ]
  },
  {
   "cell_type": "markdown",
   "metadata": {},
   "source": [
    "Import datas"
   ]
  },
  {
   "cell_type": "code",
   "execution_count": 5,
   "metadata": {},
   "outputs": [],
   "source": [
    "path_to_directory = '../../data/cleanData/'\n",
    "df_movies = loadDataframe('movies', path_to_directory)\n",
    "df_characters = loadDataframe('characters', path_to_directory)\n",
    "df_clusters = loadDataframe('clusters', path_to_directory)\n",
    "df_summaries = loadDataframe('summaries', path_to_directory)"
   ]
  },
  {
   "cell_type": "markdown",
   "metadata": {},
   "source": [
    "# Data exploration"
   ]
  },
  {
   "cell_type": "markdown",
   "metadata": {},
   "source": [
    "### Genres exploration"
   ]
  },
  {
   "cell_type": "code",
   "execution_count": 6,
   "metadata": {},
   "outputs": [
    {
     "data": {
      "image/png": "[encoded data removed]",
      "text/plain": [
       "<Figure size 640x480 with 1 Axes>"
      ]
     },
     "metadata": {},
     "output_type": "display_data"
    }
   ],
   "source": [
    "# Distribution of number of movies per year\n",
    "plt.hist(df_movies['release_date'].dt.year, bins=range(1890, 2020, 1))\n",
    "plt.xlabel('Year')\n",
    "plt.ylabel('Number of movies')\n",
    "plt.title('Distribution of number of movies per year')\n",
    "plt.show()"
   ]
  },
  {
   "cell_type": "markdown",
   "metadata": {},
   "source": [
    "The total movies produced per year increases over time."
   ]
  },
  {
   "cell_type": "code",
   "execution_count": 7,
   "metadata": {},
   "outputs": [
    {
     "data": {
      "text/html": [
       "<div>\n",
       "<style scoped>\n",
       "    .dataframe tbody tr th:only-of-type {\n",
       "        vertical-align: middle;\n",
       "    }\n",
       "\n",
       "    .dataframe tbody tr th {\n",
       "        vertical-align: top;\n",
       "    }\n",
       "\n",
       "    .dataframe thead th {\n",
       "        text-align: right;\n",
       "    }\n",
       "</style>\n",
       "<table border=\"1\" class=\"dataframe\">\n",
       "  <thead>\n",
       "    <tr style=\"text-align: right;\">\n",
       "      <th></th>\n",
       "      <th>wiki_id</th>\n",
       "      <th>freebase_id</th>\n",
       "      <th>original_title</th>\n",
       "      <th>release_date</th>\n",
       "      <th>revenue</th>\n",
       "      <th>runtime</th>\n",
       "      <th>languages</th>\n",
       "      <th>countries</th>\n",
       "      <th>genres</th>\n",
       "      <th>countries_freebase_id</th>\n",
       "      <th>languages_freebase_id</th>\n",
       "      <th>genres_freebase_id</th>\n",
       "    </tr>\n",
       "  </thead>\n",
       "  <tbody>\n",
       "    <tr>\n",
       "      <th>0</th>\n",
       "      <td>975900</td>\n",
       "      <td>/m/03vyhn</td>\n",
       "      <td>Ghosts of Mars</td>\n",
       "      <td>2001-08-24</td>\n",
       "      <td>14010832.0</td>\n",
       "      <td>98.0</td>\n",
       "      <td>[English Language]</td>\n",
       "      <td>United States of America</td>\n",
       "      <td>Thriller</td>\n",
       "      <td>['/m/09c7w0']</td>\n",
       "      <td>['/m/02h40lc']</td>\n",
       "      <td>['/m/01jfsb', '/m/06n90', '/m/03npn', '/m/03k9...</td>\n",
       "    </tr>\n",
       "    <tr>\n",
       "      <th>0</th>\n",
       "      <td>975900</td>\n",
       "      <td>/m/03vyhn</td>\n",
       "      <td>Ghosts of Mars</td>\n",
       "      <td>2001-08-24</td>\n",
       "      <td>14010832.0</td>\n",
       "      <td>98.0</td>\n",
       "      <td>[English Language]</td>\n",
       "      <td>United States of America</td>\n",
       "      <td>Science Fiction</td>\n",
       "      <td>['/m/09c7w0']</td>\n",
       "      <td>['/m/02h40lc']</td>\n",
       "      <td>['/m/01jfsb', '/m/06n90', '/m/03npn', '/m/03k9...</td>\n",
       "    </tr>\n",
       "    <tr>\n",
       "      <th>0</th>\n",
       "      <td>975900</td>\n",
       "      <td>/m/03vyhn</td>\n",
       "      <td>Ghosts of Mars</td>\n",
       "      <td>2001-08-24</td>\n",
       "      <td>14010832.0</td>\n",
       "      <td>98.0</td>\n",
       "      <td>[English Language]</td>\n",
       "      <td>United States of America</td>\n",
       "      <td>Horror</td>\n",
       "      <td>['/m/09c7w0']</td>\n",
       "      <td>['/m/02h40lc']</td>\n",
       "      <td>['/m/01jfsb', '/m/06n90', '/m/03npn', '/m/03k9...</td>\n",
       "    </tr>\n",
       "  </tbody>\n",
       "</table>\n",
       "</div>"
      ],
      "text/plain": [
       "   wiki_id freebase_id  original_title release_date     revenue  runtime  \\\n",
       "0   975900   /m/03vyhn  Ghosts of Mars   2001-08-24  14010832.0     98.0   \n",
       "0   975900   /m/03vyhn  Ghosts of Mars   2001-08-24  14010832.0     98.0   \n",
       "0   975900   /m/03vyhn  Ghosts of Mars   2001-08-24  14010832.0     98.0   \n",
       "\n",
       "            languages                 countries           genres  \\\n",
       "0  [English Language]  United States of America         Thriller   \n",
       "0  [English Language]  United States of America  Science Fiction   \n",
       "0  [English Language]  United States of America           Horror   \n",
       "\n",
       "  countries_freebase_id languages_freebase_id  \\\n",
       "0         ['/m/09c7w0']        ['/m/02h40lc']   \n",
       "0         ['/m/09c7w0']        ['/m/02h40lc']   \n",
       "0         ['/m/09c7w0']        ['/m/02h40lc']   \n",
       "\n",
       "                                  genres_freebase_id  \n",
       "0  ['/m/01jfsb', '/m/06n90', '/m/03npn', '/m/03k9...  \n",
       "0  ['/m/01jfsb', '/m/06n90', '/m/03npn', '/m/03k9...  \n",
       "0  ['/m/01jfsb', '/m/06n90', '/m/03npn', '/m/03k9...  "
      ]
     },
     "execution_count": 7,
     "metadata": {},
     "output_type": "execute_result"
    }
   ],
   "source": [
    "df_genres_countries_exploded = df_movies.explode('genres').explode('countries')\n",
    "df_genres_countries_exploded.head(3)"
   ]
  },
  {
   "cell_type": "code",
   "execution_count": 10,
   "metadata": {},
   "outputs": [
    {
     "name": "stdout",
     "output_type": "stream",
     "text": [
      "Number of unique genres:  363\n",
      "['Thriller' 'Science Fiction' 'Horror' 'Adventure' 'Supernatural' 'Action'\n",
      " 'Space western' 'Mystery' 'Biographical film' 'Drama' 'Crime Drama'\n",
      " 'Crime Fiction' 'Erotic thriller' 'Psychological thriller' 'Short Film'\n",
      " 'Silent film' 'Indie' 'Black-and-white' 'Comedy' 'Family Film' 'Fantasy'\n",
      " 'World cinema' 'Musical' 'Japanese Movies' 'Action/Adventure'\n",
      " 'Romantic comedy' 'Ensemble Film' 'Comedy-drama' 'Romantic drama'\n",
      " 'Romance Film' 'Costume drama' 'War film' 'Epic' 'Period piece'\n",
      " 'Film adaptation' 'Animation' \"Children's/Family\" \"Children's Fantasy\"\n",
      " nan 'Future noir' 'Comedy film' 'Coming of age' 'Suspense'\n",
      " 'Crime Thriller' 'Black comedy' 'Bollywood' 'Marriage Drama' 'Wuxia'\n",
      " 'Martial Arts Film' 'Chinese Movies' 'Western' 'Parody' 'Mockumentary'\n",
      " 'Fan film' 'Cult' 'Adventure Comedy' 'Slapstick' 'Biopic [feature]'\n",
      " 'Historical Epic' 'Sports' 'Family Drama' 'Political drama'\n",
      " 'Historical fiction' 'Courtroom Drama' 'Culture & Society' 'Biography'\n",
      " 'Documentary' 'Christmas movie' 'Television movie' 'Malayalam Cinema'\n",
      " 'Historical drama' 'Action Comedy' 'Blaxploitation' 'Erotica'\n",
      " 'Sci-Fi Horror' 'Satire' 'Epic Western' 'Gangster Film' 'Softcore Porn'\n",
      " 'Sexploitation' 'B-movie' 'Zombie Film' 'Action Thrillers'\n",
      " 'Musical Drama' 'Erotic Drama' 'Pornographic movie' 'Slasher' 'Film noir'\n",
      " 'Social issues' 'Legal drama' 'New Hollywood' 'History'\n",
      " 'Experimental film' 'Surrealism' 'Tragicomedy' 'Avant-garde'\n",
      " 'Crime Comedy' 'Fantasy Comedy' 'Monster movie' 'Natural horror films'\n",
      " 'Creature Film' 'Gender Issues' 'LGBT' 'Music' 'Comedy of Errors'\n",
      " 'Political thriller' 'Melodrama' 'Americana' 'Detective fiction'\n",
      " 'Detective' 'Concert film' 'Horror Comedy' 'Anime' 'Childhood Drama'\n",
      " 'Docudrama' 'Teen' 'Gothic Film' 'Disaster' 'Art film' 'Domestic Comedy'\n",
      " 'Musical comedy' 'Family-Oriented Adventure' 'Escape Film' 'Prison'\n",
      " 'Dance' 'Superhero movie' 'Filipino Movies' 'Filipino' 'Spy'\n",
      " 'Combat Films' 'Fantasy Adventure' 'Political cinema' 'Comedy horror'\n",
      " 'C-Movie' 'Dystopia' 'Buddy film' 'Tragedy' 'Time travel'\n",
      " 'Sword and sorcery' 'Political satire' 'Gross-out film' 'Gross out'\n",
      " 'Doomsday film' 'Plague' 'Propaganda film' 'Screwball comedy'\n",
      " 'Comedy Western' 'Gay' 'Gay Interest' 'Gay Themed'\n",
      " 'Film & Television History' 'Film' 'Medical fiction' 'Costume Adventure'\n",
      " 'Rockumentary' 'Feminist Film' 'Educational' 'Buddy cop'\n",
      " 'Film \\\\u00e0 clef' 'Costume Horror' 'Pre-Code'\n",
      " 'Juvenile Delinquency Film' 'Christian film' 'Natural disaster'\n",
      " 'Movie serial' 'Linguistics' 'Language & Literature' 'Comedy of manners'\n",
      " \"Children's\" 'Remake' 'Media Satire' 'Computer Animation'\n",
      " 'Spaghetti Western' 'Dogme 95' 'Backstage Musical' 'Law & Crime'\n",
      " 'Hybrid Western' 'Stop motion' 'Roadshow theatrical release' 'Sex comedy'\n",
      " 'Tollywood' 'Women in prison films' 'Holiday Film' 'Heavenly Comedy'\n",
      " 'Road movie' 'Giallo' 'Anthology' 'Existentialism' 'Social problem film'\n",
      " 'Sci-Fi Adventure' 'Anthropology' 'Gay pornography' 'Stoner film'\n",
      " 'Auto racing' 'Slice of life story' 'Kitchen sink realism'\n",
      " 'British New Wave' 'Samurai cinema' 'Heist' 'Gulf War' 'Archaeology'\n",
      " 'Romantic fantasy' 'Religious Film' 'Biker Film' 'Animal Picture'\n",
      " 'Absurdism' 'Swashbuckler films' 'Hagiography' 'Hardcore pornography'\n",
      " 'Adult' 'Animated Musical' 'Anti-war' 'Anti-war film' 'Cavalry Film'\n",
      " 'Haunted House Film' 'Space opera' 'Czechoslovak New Wave' 'Animals'\n",
      " 'Addiction Drama' 'Punk rock' 'Chase Movie' 'Tokusatsu' 'Pornography'\n",
      " 'Extreme Sports' 'Superhero' 'Apocalyptic and post-apocalyptic fiction'\n",
      " 'Whodunit' 'Environmental Science' 'Airplanes and airports' 'Travel'\n",
      " 'Alien Film' 'Graphic & Applied Arts' 'Animated cartoon' 'Essay Film'\n",
      " 'Inspirational Drama' 'Revisionist Western' 'Pinku eiga'\n",
      " 'Stand-up comedy' 'Jungle Film' 'Fairy tale' 'Comedy Thriller'\n",
      " 'Tamil cinema' 'Libraries and librarians' 'Workplace Comedy'\n",
      " 'Caper story' 'Demonic child' 'Illnesses & Disabilities' 'Expressionism'\n",
      " 'Glamorized Spy Film' 'Early Black Cinema' 'Interpersonal Relationships'\n",
      " 'British Empire Film' 'Monster' 'Sword and sorcery films' 'B-Western'\n",
      " 'Bengali Cinema' 'Filmed Play' 'Northern' 'Hip hop movies' 'Humour'\n",
      " 'Roadshow/Carny' 'Exploitation' 'Sword and Sandal' 'Nature' 'Mumblecore'\n",
      " \"Children's Entertainment\" 'Splatter film' 'Star vehicle' 'Business'\n",
      " 'Mythological Fantasy' 'Journalism' 'Camp' 'Boxing' 'Mondo film' 'Latino'\n",
      " 'Alien invasion' 'Sponsored film' 'Revenge' 'Foreign legion'\n",
      " 'Historical Documentaries' 'Heaven-Can-Wait Fantasies' 'Baseball'\n",
      " 'Prison film' 'Conspiracy fiction' 'Crime' 'Master Criminal Films'\n",
      " 'Jukebox musical' 'Indian Western' 'Road-Horror' 'Werewolf fiction'\n",
      " 'Feature film' 'Neo-noir' 'Private military company'\n",
      " 'Finance & Investing' 'Computers' 'Movies About Gladiators'\n",
      " 'Horse racing' 'Nuclear warfare' 'Inventions & Innovations'\n",
      " 'Instrumental Music' 'Media Studies' 'Archives and records'\n",
      " 'Psycho-biddy' 'Outlaw biker film' 'Prison escape' 'Z movie' 'News'\n",
      " 'Beach Film' 'Live action' 'Fictional film' 'Education'\n",
      " 'Health & Fitness' 'Film-Opera' 'Period Horror' 'Comdedy'\n",
      " \"Children's Issues\" 'Science fiction Western' 'Bloopers & Candid Camera'\n",
      " 'Psychological horror' 'Albino bias' 'Family & Personal Relationships'\n",
      " 'Steampunk' 'Fantasy Drama' 'Sci-Fi Thriller' 'Courtroom Comedy'\n",
      " 'Operetta' 'Parkour in popular culture' 'Cyberpunk' 'Coming-of-age film'\n",
      " 'Cold War' 'Political Documetary' 'World History' 'Reboot'\n",
      " 'Bruceploitation' 'Ealing Comedies' 'Silhouette animation'\n",
      " 'Female buddy film' 'Race movie' 'Breakdance' 'Acid western' 'War effort'\n",
      " 'School story' 'Clay animation' 'Supermarionation'\n",
      " 'Sci Fi Pictures original films' 'Outlaw' 'Kafkaesque' 'Vampire movies'\n",
      " 'Goat gland' 'Therimin music' 'Beach Party film' 'Singing cowboy'\n",
      " 'Point of view shot' 'Romantic thriller' 'Patriotic film' 'Chick flick'\n",
      " 'Ninja movie' 'Buddy Picture' 'Statutory rape' 'New Queer Cinema'\n",
      " 'Neorealism' 'The Netherlands in World War II' 'Revisionist Fairy Tale'\n",
      " 'Homoeroticism']\n"
     ]
    }
   ],
   "source": [
    "print(\"Number of unique genres: \", df_genres_countries_exploded['genres'].nunique())\n",
    "\n",
    "print(df_genres_countries_exploded['genres'].unique())\n"
   ]
  },
  {
   "cell_type": "code",
   "execution_count": 9,
   "metadata": {},
   "outputs": [
    {
     "data": {
      "image/png": "[encoded data removed]",
      "text/plain": [
       "<Figure size 1000x500 with 1 Axes>"
      ]
     },
     "metadata": {},
     "output_type": "display_data"
    }
   ],
   "source": [
    "# Distribution of number of movies per genre (top 10)\n",
    "plt.figure(figsize=(10, 5))\n",
    "df_genres_countries_exploded['genres'].value_counts().head(10).plot(kind='bar')\n",
    "plt.xlabel('Genre')\n",
    "plt.ylabel('Number of movies')\n",
    "plt.title('Distribution of number of movies per genre (top 10)')\n",
    "plt.show()\n"
   ]
  },
  {
   "cell_type": "markdown",
   "metadata": {},
   "source": [
    "There are a lot of different genres in the dataset (363). The most common genres are Drama, Comedy and Romance. In the dataset, we see that some genres are quiet similar (e.g. Gay, Gay Interest, Gay Themed). In our future analysis, we could group these genres together to have a more accurate analysis."
   ]
  },
  {
   "cell_type": "code",
   "execution_count": 12,
   "metadata": {},
   "outputs": [
    {
     "data": {
      "image/png": "[encoded data removed]",
      "text/plain": [
       "<Figure size 1500x1000 with 1 Axes>"
      ]
     },
     "metadata": {},
     "output_type": "display_data"
    }
   ],
   "source": [
    "# Genres over time\n",
    "genres = ['Action', 'Drama', 'Comedy', 'Black-and-white','Propaganda film'] \n",
    "\n",
    "fig, ax = plt.subplots(1, 1, figsize=(15, 10))\n",
    "for genre in genres:\n",
    "    df_genre = df_genres_countries_exploded[df_genres_countries_exploded['genres'] == genre]\n",
    "    df_genre = df_genre.groupby(df_genre['release_date'].dt.year).size()\n",
    "    df_genre.plot(ax=ax, label=genre)\n",
    "plt.xlabel('Year')\n",
    "plt.ylabel('Number of movies')\n",
    "plt.title('Genres over time')\n",
    "plt.legend()\n",
    "plt.show()"
   ]
  },
  {
   "cell_type": "markdown",
   "metadata": {},
   "source": [
    "On the previous graph, we can see the evolution for the whole world of the number of movies per genres produced over time. Some genres are decreasing over time (e.g. Black and White), some genres were "
   ]
  },
  {
   "cell_type": "code",
   "execution_count": null,
   "metadata": {},
   "outputs": [],
   "source": [
    "import plotly.express as px"
   ]
  },
  {
   "cell_type": "code",
   "execution_count": null,
   "metadata": {},
   "outputs": [
    {
     "name": "stderr",
     "output_type": "stream",
     "text": [
      "C:\\Users\\arnau\\AppData\\Local\\Temp\\ipykernel_20812\\835484701.py:7: SettingWithCopyWarning:\n",
      "\n",
      "\n",
      "A value is trying to be set on a copy of a slice from a DataFrame.\n",
      "Try using .loc[row_indexer,col_indexer] = value instead\n",
      "\n",
      "See the caveats in the documentation: https://pandas.pydata.org/pandas-docs/stable/user_guide/indexing.html#returning-a-view-versus-a-copy\n",
      "\n"
     ]
    },
    {
     "data": {
      "application/vnd.plotly.v1+json": {
       "config": {
        "plotlyServerURL": "https://plot.ly"
       },
       "data": [
        {
         "fillpattern": {
          "shape": ""
         },
         "hovertemplate": "Genre=Action<br>Period (Every 10 Years)=%{x}<br>Proportion of Films=%{y}<extra></extra>",
         "legendgroup": "Action",
         "line": {
          "color": "#636efa"
         },
         "marker": {
          "symbol": "circle"
         },
         "mode": "lines",
         "name": "Action",
         "orientation": "v",
         "showlegend": true,
         "stackgroup": "1",
         "type": "scatter",
         "x": [
          1890,
          1910,
          1920,
          1930,
          1940,
          1950,
          1960,
          1970,
          1980,
          1990,
          2000,
          2010
         ],
         "xaxis": "x",
         "y": [
          null,
          0.03333333333333333,
          0.007042253521126761,
          0.01904761904761905,
          0.022222222222222223,
          0.015873015873015872,
          0.05084745762711865,
          0.031746031746031744,
          0.01875,
          0.06947368421052631,
          0.10078534031413612,
          0.08837209302325581
         ],
         "yaxis": "y"
        },
        {
         "fillpattern": {
          "shape": ""
         },
         "hovertemplate": "Genre=Drama<br>Period (Every 10 Years)=%{x}<br>Proportion of Films=%{y}<extra></extra>",
         "legendgroup": "Drama",
         "line": {
          "color": "#EF553B"
         },
         "marker": {
          "symbol": "circle"
         },
         "mode": "lines",
         "name": "Drama",
         "orientation": "v",
         "showlegend": true,
         "stackgroup": "1",
         "type": "scatter",
         "x": [
          1890,
          1910,
          1920,
          1930,
          1940,
          1950,
          1960,
          1970,
          1980,
          1990,
          2000,
          2010
         ],
         "xaxis": "x",
         "y": [
          null,
          0.4666666666666667,
          0.6408450704225352,
          0.6285714285714286,
          0.8,
          0.5714285714285714,
          0.3898305084745763,
          0.3968253968253968,
          0.525,
          0.45052631578947366,
          0.3599476439790576,
          0.5116279069767442
         ],
         "yaxis": "y"
        },
        {
         "fillpattern": {
          "shape": ""
         },
         "hovertemplate": "Genre=Comedy<br>Period (Every 10 Years)=%{x}<br>Proportion of Films=%{y}<extra></extra>",
         "legendgroup": "Comedy",
         "line": {
          "color": "#00cc96"
         },
         "marker": {
          "symbol": "circle"
         },
         "mode": "lines",
         "name": "Comedy",
         "orientation": "v",
         "showlegend": true,
         "stackgroup": "1",
         "type": "scatter",
         "x": [
          1890,
          1910,
          1920,
          1930,
          1940,
          1950,
          1960,
          1970,
          1980,
          1990,
          2000,
          2010
         ],
         "xaxis": "x",
         "y": [
          null,
          0.1,
          0.028169014084507043,
          0.19047619047619047,
          0.08888888888888889,
          0.047619047619047616,
          0.09322033898305085,
          0.09523809523809523,
          0.1125,
          0.14736842105263157,
          0.1537958115183246,
          0.07441860465116279
         ],
         "yaxis": "y"
        },
        {
         "fillpattern": {
          "shape": ""
         },
         "hovertemplate": "Genre=Thriller<br>Period (Every 10 Years)=%{x}<br>Proportion of Films=%{y}<extra></extra>",
         "legendgroup": "Thriller",
         "line": {
          "color": "#ab63fa"
         },
         "marker": {
          "symbol": "circle"
         },
         "mode": "lines",
         "name": "Thriller",
         "orientation": "v",
         "showlegend": true,
         "stackgroup": "1",
         "type": "scatter",
         "x": [
          1890,
          1910,
          1920,
          1930,
          1940,
          1950,
          1960,
          1970,
          1980,
          1990,
          2000,
          2010
         ],
         "xaxis": "x",
         "y": [
          null,
          0.06666666666666667,
          0.04929577464788732,
          0.02857142857142857,
          0.022222222222222223,
          0.07936507936507936,
          0.1694915254237288,
          0.06878306878306878,
          0.04375,
          0.12631578947368421,
          0.15772251308900523,
          0.11162790697674418
         ],
         "yaxis": "y"
        },
        {
         "fillpattern": {
          "shape": ""
         },
         "hovertemplate": "Genre=World cinema<br>Period (Every 10 Years)=%{x}<br>Proportion of Films=%{y}<extra></extra>",
         "legendgroup": "World cinema",
         "line": {
          "color": "#FFA15A"
         },
         "marker": {
          "symbol": "circle"
         },
         "mode": "lines",
         "name": "World cinema",
         "orientation": "v",
         "showlegend": true,
         "stackgroup": "1",
         "type": "scatter",
         "x": [
          1890,
          1910,
          1920,
          1930,
          1940,
          1950,
          1960,
          1970,
          1980,
          1990,
          2000,
          2010
         ],
         "xaxis": "x",
         "y": [
          null,
          0.1,
          0.19014084507042253,
          0.08571428571428572,
          0.06666666666666667,
          0.2698412698412698,
          0.2627118644067797,
          0.37566137566137564,
          0.25625,
          0.1831578947368421,
          0.16819371727748691,
          0.15348837209302327
         ],
         "yaxis": "y"
        },
        {
         "fillpattern": {
          "shape": ""
         },
         "hovertemplate": "Genre=Horror<br>Period (Every 10 Years)=%{x}<br>Proportion of Films=%{y}<extra></extra>",
         "legendgroup": "Horror",
         "line": {
          "color": "#19d3f3"
         },
         "marker": {
          "symbol": "circle"
         },
         "mode": "lines",
         "name": "Horror",
         "orientation": "v",
         "showlegend": true,
         "stackgroup": "1",
         "type": "scatter",
         "x": [
          1890,
          1910,
          1920,
          1930,
          1940,
          1950,
          1960,
          1970,
          1980,
          1990,
          2000,
          2010
         ],
         "xaxis": "x",
         "y": [
          null,
          0.23333333333333334,
          0.08450704225352113,
          0.047619047619047616,
          0,
          0.015873015873015872,
          0.03389830508474576,
          0.031746031746031744,
          0.04375,
          0.023157894736842106,
          0.05955497382198953,
          0.06046511627906977
         ],
         "yaxis": "y"
        }
       ],
       "layout": {
        "legend": {
         "title": {
          "text": "Genre"
         },
         "tracegroupgap": 0
        },
        "margin": {
         "b": 0,
         "l": 0,
         "r": 0,
         "t": 40
        },
        "template": {
         "data": {
          "bar": [
           {
            "error_x": {
             "color": "#f2f5fa"
            },
            "error_y": {
             "color": "#f2f5fa"
            },
            "marker": {
             "line": {
              "color": "rgb(17,17,17)",
              "width": 0.5
             },
             "pattern": {
              "fillmode": "overlay",
              "size": 10,
              "solidity": 0.2
             }
            },
            "type": "bar"
           }
          ],
          "barpolar": [
           {
            "marker": {
             "line": {
              "color": "rgb(17,17,17)",
              "width": 0.5
             },
             "pattern": {
              "fillmode": "overlay",
              "size": 10,
              "solidity": 0.2
             }
            },
            "type": "barpolar"
           }
          ],
          "carpet": [
           {
            "aaxis": {
             "endlinecolor": "#A2B1C6",
             "gridcolor": "#506784",
             "linecolor": "#506784",
             "minorgridcolor": "#506784",
             "startlinecolor": "#A2B1C6"
            },
            "baxis": {
             "endlinecolor": "#A2B1C6",
             "gridcolor": "#506784",
             "linecolor": "#506784",
             "minorgridcolor": "#506784",
             "startlinecolor": "#A2B1C6"
            },
            "type": "carpet"
           }
          ],
          "choropleth": [
           {
            "colorbar": {
             "outlinewidth": 0,
             "ticks": ""
            },
            "type": "choropleth"
           }
          ],
          "contour": [
           {
            "colorbar": {
             "outlinewidth": 0,
             "ticks": ""
            },
            "colorscale": [
             [
              0,
              "#0d0887"
             ],
             [
              0.1111111111111111,
              "#46039f"
             ],
             [
              0.2222222222222222,
              "#7201a8"
             ],
             [
              0.3333333333333333,
              "#9c179e"
             ],
             [
              0.4444444444444444,
              "#bd3786"
             ],
             [
              0.5555555555555556,
              "#d8576b"
             ],
             [
              0.6666666666666666,
              "#ed7953"
             ],
             [
              0.7777777777777778,
              "#fb9f3a"
             ],
             [
              0.8888888888888888,
              "#fdca26"
             ],
             [
              1,
              "#f0f921"
             ]
            ],
            "type": "contour"
           }
          ],
          "contourcarpet": [
           {
            "colorbar": {
             "outlinewidth": 0,
             "ticks": ""
            },
            "type": "contourcarpet"
           }
          ],
          "heatmap": [
           {
            "colorbar": {
             "outlinewidth": 0,
             "ticks": ""
            },
            "colorscale": [
             [
              0,
              "#0d0887"
             ],
             [
              0.1111111111111111,
              "#46039f"
             ],
             [
              0.2222222222222222,
              "#7201a8"
             ],
             [
              0.3333333333333333,
              "#9c179e"
             ],
             [
              0.4444444444444444,
              "#bd3786"
             ],
             [
              0.5555555555555556,
              "#d8576b"
             ],
             [
              0.6666666666666666,
              "#ed7953"
             ],
             [
              0.7777777777777778,
              "#fb9f3a"
             ],
             [
              0.8888888888888888,
              "#fdca26"
             ],
             [
              1,
              "#f0f921"
             ]
            ],
            "type": "heatmap"
           }
          ],
          "heatmapgl": [
           {
            "colorbar": {
             "outlinewidth": 0,
             "ticks": ""
            },
            "colorscale": [
             [
              0,
              "#0d0887"
             ],
             [
              0.1111111111111111,
              "#46039f"
             ],
             [
              0.2222222222222222,
              "#7201a8"
             ],
             [
              0.3333333333333333,
              "#9c179e"
             ],
             [
              0.4444444444444444,
              "#bd3786"
             ],
             [
              0.5555555555555556,
              "#d8576b"
             ],
             [
              0.6666666666666666,
              "#ed7953"
             ],
             [
              0.7777777777777778,
              "#fb9f3a"
             ],
             [
              0.8888888888888888,
              "#fdca26"
             ],
             [
              1,
              "#f0f921"
             ]
            ],
            "type": "heatmapgl"
           }
          ],
          "histogram": [
           {
            "marker": {
             "pattern": {
              "fillmode": "overlay",
              "size": 10,
              "solidity": 0.2
             }
            },
            "type": "histogram"
           }
          ],
          "histogram2d": [
           {
            "colorbar": {
             "outlinewidth": 0,
             "ticks": ""
            },
            "colorscale": [
             [
              0,
              "#0d0887"
             ],
             [
              0.1111111111111111,
              "#46039f"
             ],
             [
              0.2222222222222222,
              "#7201a8"
             ],
             [
              0.3333333333333333,
              "#9c179e"
             ],
             [
              0.4444444444444444,
              "#bd3786"
             ],
             [
              0.5555555555555556,
              "#d8576b"
             ],
             [
              0.6666666666666666,
              "#ed7953"
             ],
             [
              0.7777777777777778,
              "#fb9f3a"
             ],
             [
              0.8888888888888888,
              "#fdca26"
             ],
             [
              1,
              "#f0f921"
             ]
            ],
            "type": "histogram2d"
           }
          ],
          "histogram2dcontour": [
           {
            "colorbar": {
             "outlinewidth": 0,
             "ticks": ""
            },
            "colorscale": [
             [
              0,
              "#0d0887"
             ],
             [
              0.1111111111111111,
              "#46039f"
             ],
             [
              0.2222222222222222,
              "#7201a8"
             ],
             [
              0.3333333333333333,
              "#9c179e"
             ],
             [
              0.4444444444444444,
              "#bd3786"
             ],
             [
              0.5555555555555556,
              "#d8576b"
             ],
             [
              0.6666666666666666,
              "#ed7953"
             ],
             [
              0.7777777777777778,
              "#fb9f3a"
             ],
             [
              0.8888888888888888,
              "#fdca26"
             ],
             [
              1,
              "#f0f921"
             ]
            ],
            "type": "histogram2dcontour"
           }
          ],
          "mesh3d": [
           {
            "colorbar": {
             "outlinewidth": 0,
             "ticks": ""
            },
            "type": "mesh3d"
           }
          ],
          "parcoords": [
           {
            "line": {
             "colorbar": {
              "outlinewidth": 0,
              "ticks": ""
             }
            },
            "type": "parcoords"
           }
          ],
          "pie": [
           {
            "automargin": true,
            "type": "pie"
           }
          ],
          "scatter": [
           {
            "marker": {
             "line": {
              "color": "#283442"
             }
            },
            "type": "scatter"
           }
          ],
          "scatter3d": [
           {
            "line": {
             "colorbar": {
              "outlinewidth": 0,
              "ticks": ""
             }
            },
            "marker": {
             "colorbar": {
              "outlinewidth": 0,
              "ticks": ""
             }
            },
            "type": "scatter3d"
           }
          ],
          "scattercarpet": [
           {
            "marker": {
             "colorbar": {
              "outlinewidth": 0,
              "ticks": ""
             }
            },
            "type": "scattercarpet"
           }
          ],
          "scattergeo": [
           {
            "marker": {
             "colorbar": {
              "outlinewidth": 0,
              "ticks": ""
             }
            },
            "type": "scattergeo"
           }
          ],
          "scattergl": [
           {
            "marker": {
             "line": {
              "color": "#283442"
             }
            },
            "type": "scattergl"
           }
          ],
          "scattermapbox": [
           {
            "marker": {
             "colorbar": {
              "outlinewidth": 0,
              "ticks": ""
             }
            },
            "type": "scattermapbox"
           }
          ],
          "scatterpolar": [
           {
            "marker": {
             "colorbar": {
              "outlinewidth": 0,
              "ticks": ""
             }
            },
            "type": "scatterpolar"
           }
          ],
          "scatterpolargl": [
           {
            "marker": {
             "colorbar": {
              "outlinewidth": 0,
              "ticks": ""
             }
            },
            "type": "scatterpolargl"
           }
          ],
          "scatterternary": [
           {
            "marker": {
             "colorbar": {
              "outlinewidth": 0,
              "ticks": ""
             }
            },
            "type": "scatterternary"
           }
          ],
          "surface": [
           {
            "colorbar": {
             "outlinewidth": 0,
             "ticks": ""
            },
            "colorscale": [
             [
              0,
              "#0d0887"
             ],
             [
              0.1111111111111111,
              "#46039f"
             ],
             [
              0.2222222222222222,
              "#7201a8"
             ],
             [
              0.3333333333333333,
              "#9c179e"
             ],
             [
              0.4444444444444444,
              "#bd3786"
             ],
             [
              0.5555555555555556,
              "#d8576b"
             ],
             [
              0.6666666666666666,
              "#ed7953"
             ],
             [
              0.7777777777777778,
              "#fb9f3a"
             ],
             [
              0.8888888888888888,
              "#fdca26"
             ],
             [
              1,
              "#f0f921"
             ]
            ],
            "type": "surface"
           }
          ],
          "table": [
           {
            "cells": {
             "fill": {
              "color": "#506784"
             },
             "line": {
              "color": "rgb(17,17,17)"
             }
            },
            "header": {
             "fill": {
              "color": "#2a3f5f"
             },
             "line": {
              "color": "rgb(17,17,17)"
             }
            },
            "type": "table"
           }
          ]
         },
         "layout": {
          "annotationdefaults": {
           "arrowcolor": "#f2f5fa",
           "arrowhead": 0,
           "arrowwidth": 1
          },
          "autotypenumbers": "strict",
          "coloraxis": {
           "colorbar": {
            "outlinewidth": 0,
            "ticks": ""
           }
          },
          "colorscale": {
           "diverging": [
            [
             0,
             "#8e0152"
            ],
            [
             0.1,
             "#c51b7d"
            ],
            [
             0.2,
             "#de77ae"
            ],
            [
             0.3,
             "#f1b6da"
            ],
            [
             0.4,
             "#fde0ef"
            ],
            [
             0.5,
             "#f7f7f7"
            ],
            [
             0.6,
             "#e6f5d0"
            ],
            [
             0.7,
             "#b8e186"
            ],
            [
             0.8,
             "#7fbc41"
            ],
            [
             0.9,
             "#4d9221"
            ],
            [
             1,
             "#276419"
            ]
           ],
           "sequential": [
            [
             0,
             "#0d0887"
            ],
            [
             0.1111111111111111,
             "#46039f"
            ],
            [
             0.2222222222222222,
             "#7201a8"
            ],
            [
             0.3333333333333333,
             "#9c179e"
            ],
            [
             0.4444444444444444,
             "#bd3786"
            ],
            [
             0.5555555555555556,
             "#d8576b"
            ],
            [
             0.6666666666666666,
             "#ed7953"
            ],
            [
             0.7777777777777778,
             "#fb9f3a"
            ],
            [
             0.8888888888888888,
             "#fdca26"
            ],
            [
             1,
             "#f0f921"
            ]
           ],
           "sequentialminus": [
            [
             0,
             "#0d0887"
            ],
            [
             0.1111111111111111,
             "#46039f"
            ],
            [
             0.2222222222222222,
             "#7201a8"
            ],
            [
             0.3333333333333333,
             "#9c179e"
            ],
            [
             0.4444444444444444,
             "#bd3786"
            ],
            [
             0.5555555555555556,
             "#d8576b"
            ],
            [
             0.6666666666666666,
             "#ed7953"
            ],
            [
             0.7777777777777778,
             "#fb9f3a"
            ],
            [
             0.8888888888888888,
             "#fdca26"
            ],
            [
             1,
             "#f0f921"
            ]
           ]
          },
          "colorway": [
           "#636efa",
           "#EF553B",
           "#00cc96",
           "#ab63fa",
           "#FFA15A",
           "#19d3f3",
           "#FF6692",
           "#B6E880",
           "#FF97FF",
           "#FECB52"
          ],
          "font": {
           "color": "#f2f5fa"
          },
          "geo": {
           "bgcolor": "rgb(17,17,17)",
           "lakecolor": "rgb(17,17,17)",
           "landcolor": "rgb(17,17,17)",
           "showlakes": true,
           "showland": true,
           "subunitcolor": "#506784"
          },
          "hoverlabel": {
           "align": "left"
          },
          "hovermode": "closest",
          "mapbox": {
           "style": "dark"
          },
          "paper_bgcolor": "rgb(17,17,17)",
          "plot_bgcolor": "rgb(17,17,17)",
          "polar": {
           "angularaxis": {
            "gridcolor": "#506784",
            "linecolor": "#506784",
            "ticks": ""
           },
           "bgcolor": "rgb(17,17,17)",
           "radialaxis": {
            "gridcolor": "#506784",
            "linecolor": "#506784",
            "ticks": ""
           }
          },
          "scene": {
           "xaxis": {
            "backgroundcolor": "rgb(17,17,17)",
            "gridcolor": "#506784",
            "gridwidth": 2,
            "linecolor": "#506784",
            "showbackground": true,
            "ticks": "",
            "zerolinecolor": "#C8D4E3"
           },
           "yaxis": {
            "backgroundcolor": "rgb(17,17,17)",
            "gridcolor": "#506784",
            "gridwidth": 2,
            "linecolor": "#506784",
            "showbackground": true,
            "ticks": "",
            "zerolinecolor": "#C8D4E3"
           },
           "zaxis": {
            "backgroundcolor": "rgb(17,17,17)",
            "gridcolor": "#506784",
            "gridwidth": 2,
            "linecolor": "#506784",
            "showbackground": true,
            "ticks": "",
            "zerolinecolor": "#C8D4E3"
           }
          },
          "shapedefaults": {
           "line": {
            "color": "#f2f5fa"
           }
          },
          "sliderdefaults": {
           "bgcolor": "#C8D4E3",
           "bordercolor": "rgb(17,17,17)",
           "borderwidth": 1,
           "tickwidth": 0
          },
          "ternary": {
           "aaxis": {
            "gridcolor": "#506784",
            "linecolor": "#506784",
            "ticks": ""
           },
           "baxis": {
            "gridcolor": "#506784",
            "linecolor": "#506784",
            "ticks": ""
           },
           "bgcolor": "rgb(17,17,17)",
           "caxis": {
            "gridcolor": "#506784",
            "linecolor": "#506784",
            "ticks": ""
           }
          },
          "title": {
           "x": 0.05
          },
          "updatemenudefaults": {
           "bgcolor": "#506784",
           "borderwidth": 0
          },
          "xaxis": {
           "automargin": true,
           "gridcolor": "#283442",
           "linecolor": "#506784",
           "ticks": "",
           "title": {
            "standoff": 15
           },
           "zerolinecolor": "#283442",
           "zerolinewidth": 2
          },
          "yaxis": {
           "automargin": true,
           "gridcolor": "#283442",
           "linecolor": "#506784",
           "ticks": "",
           "title": {
            "standoff": 15
           },
           "zerolinecolor": "#283442",
           "zerolinewidth": 2
          }
         }
        },
        "title": {
         "text": "Proportion of Selected Genres Over Time in Germany (By 10-year Periods)"
        },
        "xaxis": {
         "anchor": "y",
         "domain": [
          0,
          1
         ],
         "title": {
          "text": "Period (Every 10 Years)"
         }
        },
        "yaxis": {
         "anchor": "x",
         "domain": [
          0,
          1
         ],
         "title": {
          "text": "Proportion of Films"
         }
        }
       }
      }
     },
     "metadata": {},
     "output_type": "display_data"
    }
   ],
   "source": [
    "country = 'Germany'  # Specify the country\n",
    "time_interval = 10\n",
    "selected_genres = ['Action', 'Drama', 'Comedy', 'Thriller','World cinema', 'Horror'] \n",
    "df_country = df_genres_countries_exploded[df_genres_countries_exploded['countries'] == country]\n",
    "\n",
    "# Calculate the number of films in each genre by year and by period\n",
    "df_country['year'] = df_country['release_date'].dt.year\n",
    "genre_by_year = df_country.groupby(['year', 'genres']).size().unstack().fillna(0)\n",
    "genre_by_year['period'] = (genre_by_year.index // time_interval) * time_interval\n",
    "genre_by_period = genre_by_year.groupby('period').sum()\n",
    "\n",
    "# Select the genres of interest and calculate the proportion of each genre\n",
    "genre_by_period_selected = genre_by_period[selected_genres]\n",
    "genre_by_period_selected_proportion = genre_by_period_selected.div(genre_by_period_selected.sum(axis=1), axis=0)\n",
    "\n",
    "\n",
    "# Prepare the data for Plotly\n",
    "df_plot = genre_by_period_selected_proportion.reset_index().melt(id_vars='period', var_name='Genre', value_name='Proportion')\n",
    "\n",
    "# Create the interactive stacked area plot with Plotly\n",
    "fig = px.area(df_plot, x='period', y='Proportion', color='Genre',\n",
    "              labels={'Proportion': 'Proportion of Films', 'period': f'Period (Every {time_interval} Years)'},\n",
    "              title=f\"Proportion of Selected Genres Over Time in {country} (By {time_interval}-year Periods)\",\n",
    "              template=\"plotly_dark\")\n",
    "\n",
    "# Show the plot\n",
    "fig.update_layout(margin={\"r\":0,\"t\":40,\"l\":0,\"b\":0})\n",
    "fig.show()"
   ]
  },
  {
   "cell_type": "code",
   "execution_count": null,
   "metadata": {},
   "outputs": [],
   "source": [
    "country = 'United States of America'  # Specify the country\n",
    "time_interval = 10\n",
    "selected_genres = ['Action', 'Drama', 'Comedy', 'Thriller','World cinema', 'Horror'] \n",
    "df_country = df_genres_countries_exploded[df_genres_countries_exploded['countries'] == country]\n",
    "\n",
    "# Calculate the number of films in each genre by year and by period\n",
    "df_country['year'] = df_country['release_date'].dt.year\n",
    "genre_by_year = df_country.groupby(['year', 'genres']).size().unstack().fillna(0)\n",
    "genre_by_year['period'] = (genre_by_year.index // time_interval) * time_interval\n",
    "genre_by_period = genre_by_year.groupby('period').sum()\n",
    "\n",
    "# Select the genres of interest and calculate the proportion of each genre\n",
    "genre_by_period_selected = genre_by_period[selected_genres]\n",
    "genre_by_period_selected_proportion = genre_by_period_selected.div(genre_by_period_selected.sum(axis=1), axis=0)\n",
    "\n",
    "\n",
    "# Prepare the data for Plotly\n",
    "df_plot = genre_by_period_selected_proportion.reset_index().melt(id_vars='period', var_name='Genre', value_name='Proportion')\n",
    "\n",
    "# Create the interactive stacked area plot with Plotly\n",
    "fig = px.area(df_plot, x='period', y='Proportion', color='Genre',\n",
    "              labels={'Proportion': 'Proportion of Films', 'period': f'Period (Every {time_interval} Years)'},\n",
    "              title=f\"Proportion of Selected Genres Over Time in {country} (By {time_interval}-year Periods)\",\n",
    "              template=\"plotly_dark\")\n",
    "\n",
    "# Show the plot\n",
    "fig.update_layout(margin={\"r\":0,\"t\":40,\"l\":0,\"b\":0})\n",
    "fig.show()"
   ]
  },
  {
   "cell_type": "markdown",
   "metadata": {},
   "source": [
    "### Topic Modeling Bertopic"
   ]
  },
  {
   "cell_type": "code",
   "execution_count": 49,
   "metadata": {},
   "outputs": [
    {
     "name": "stdout",
     "output_type": "stream",
     "text": [
      "Requirement already satisfied: bertopic in c:\\users\\arnau\\anaconda3\\envs\\ada\\lib\\site-packages (0.16.4)\n",
      "Requirement already satisfied: hdbscan>=0.8.29 in c:\\users\\arnau\\anaconda3\\envs\\ada\\lib\\site-packages (from bertopic) (0.8.39)\n",
      "Requirement already satisfied: numpy>=1.20.0 in c:\\users\\arnau\\anaconda3\\envs\\ada\\lib\\site-packages (from bertopic) (1.26.4)\n",
      "Requirement already satisfied: pandas>=1.1.5 in c:\\users\\arnau\\anaconda3\\envs\\ada\\lib\\site-packages (from bertopic) (2.2.2)\n",
      "Requirement already satisfied: plotly>=4.7.0 in c:\\users\\arnau\\anaconda3\\envs\\ada\\lib\\site-packages (from bertopic) (5.24.1)\n",
      "Requirement already satisfied: scikit-learn>=0.22.2.post1 in c:\\users\\arnau\\anaconda3\\envs\\ada\\lib\\site-packages (from bertopic) (1.5.2)\n",
      "Requirement already satisfied: sentence-transformers>=0.4.1 in c:\\users\\arnau\\anaconda3\\envs\\ada\\lib\\site-packages (from bertopic) (3.3.0)\n",
      "Requirement already satisfied: tqdm>=4.41.1 in c:\\users\\arnau\\anaconda3\\envs\\ada\\lib\\site-packages (from bertopic) (4.67.0)\n",
      "Requirement already satisfied: umap-learn>=0.5.0 in c:\\users\\arnau\\anaconda3\\envs\\ada\\lib\\site-packages (from bertopic) (0.5.7)\n",
      "Requirement already satisfied: scipy>=1.0 in c:\\users\\arnau\\anaconda3\\envs\\ada\\lib\\site-packages (from hdbscan>=0.8.29->bertopic) (1.13.1)\n",
      "Requirement already satisfied: joblib>=1.0 in c:\\users\\arnau\\anaconda3\\envs\\ada\\lib\\site-packages (from hdbscan>=0.8.29->bertopic) (1.4.2)\n",
      "Requirement already satisfied: python-dateutil>=2.8.2 in c:\\users\\arnau\\anaconda3\\envs\\ada\\lib\\site-packages (from pandas>=1.1.5->bertopic) (2.9.0.post0)\n",
      "Requirement already satisfied: pytz>=2020.1 in c:\\users\\arnau\\anaconda3\\envs\\ada\\lib\\site-packages (from pandas>=1.1.5->bertopic) (2024.1)\n",
      "Requirement already satisfied: tzdata>=2022.7 in c:\\users\\arnau\\anaconda3\\envs\\ada\\lib\\site-packages (from pandas>=1.1.5->bertopic) (2023.3)\n",
      "Requirement already satisfied: tenacity>=6.2.0 in c:\\users\\arnau\\anaconda3\\envs\\ada\\lib\\site-packages (from plotly>=4.7.0->bertopic) (9.0.0)\n",
      "Requirement already satisfied: packaging in c:\\users\\arnau\\anaconda3\\envs\\ada\\lib\\site-packages (from plotly>=4.7.0->bertopic) (24.1)\n",
      "Requirement already satisfied: threadpoolctl>=3.1.0 in c:\\users\\arnau\\anaconda3\\envs\\ada\\lib\\site-packages (from scikit-learn>=0.22.2.post1->bertopic) (3.5.0)\n",
      "Requirement already satisfied: transformers<5.0.0,>=4.41.0 in c:\\users\\arnau\\anaconda3\\envs\\ada\\lib\\site-packages (from sentence-transformers>=0.4.1->bertopic) (4.46.2)\n",
      "Requirement already satisfied: torch>=1.11.0 in c:\\users\\arnau\\anaconda3\\envs\\ada\\lib\\site-packages (from sentence-transformers>=0.4.1->bertopic) (2.5.1)\n",
      "Requirement already satisfied: huggingface-hub>=0.20.0 in c:\\users\\arnau\\anaconda3\\envs\\ada\\lib\\site-packages (from sentence-transformers>=0.4.1->bertopic) (0.26.2)\n",
      "Requirement already satisfied: Pillow in c:\\users\\arnau\\anaconda3\\envs\\ada\\lib\\site-packages (from sentence-transformers>=0.4.1->bertopic) (10.4.0)\n",
      "Requirement already satisfied: colorama in c:\\users\\arnau\\anaconda3\\envs\\ada\\lib\\site-packages (from tqdm>=4.41.1->bertopic) (0.4.6)\n",
      "Requirement already satisfied: numba>=0.51.2 in c:\\users\\arnau\\anaconda3\\envs\\ada\\lib\\site-packages (from umap-learn>=0.5.0->bertopic) (0.60.0)\n",
      "Requirement already satisfied: pynndescent>=0.5 in c:\\users\\arnau\\anaconda3\\envs\\ada\\lib\\site-packages (from umap-learn>=0.5.0->bertopic) (0.5.13)\n",
      "Requirement already satisfied: filelock in c:\\users\\arnau\\anaconda3\\envs\\ada\\lib\\site-packages (from huggingface-hub>=0.20.0->sentence-transformers>=0.4.1->bertopic) (3.16.1)\n",
      "Requirement already satisfied: fsspec>=2023.5.0 in c:\\users\\arnau\\anaconda3\\envs\\ada\\lib\\site-packages (from huggingface-hub>=0.20.0->sentence-transformers>=0.4.1->bertopic) (2024.10.0)\n",
      "Requirement already satisfied: pyyaml>=5.1 in c:\\users\\arnau\\anaconda3\\envs\\ada\\lib\\site-packages (from huggingface-hub>=0.20.0->sentence-transformers>=0.4.1->bertopic) (6.0.1)\n",
      "Requirement already satisfied: requests in c:\\users\\arnau\\anaconda3\\envs\\ada\\lib\\site-packages (from huggingface-hub>=0.20.0->sentence-transformers>=0.4.1->bertopic) (2.32.3)\n",
      "Requirement already satisfied: typing-extensions>=3.7.4.3 in c:\\users\\arnau\\anaconda3\\envs\\ada\\lib\\site-packages (from huggingface-hub>=0.20.0->sentence-transformers>=0.4.1->bertopic) (4.11.0)\n",
      "Requirement already satisfied: llvmlite<0.44,>=0.43.0dev0 in c:\\users\\arnau\\anaconda3\\envs\\ada\\lib\\site-packages (from numba>=0.51.2->umap-learn>=0.5.0->bertopic) (0.43.0)\n",
      "Requirement already satisfied: six>=1.5 in c:\\users\\arnau\\anaconda3\\envs\\ada\\lib\\site-packages (from python-dateutil>=2.8.2->pandas>=1.1.5->bertopic) (1.16.0)\n",
      "Requirement already satisfied: networkx in c:\\users\\arnau\\anaconda3\\envs\\ada\\lib\\site-packages (from torch>=1.11.0->sentence-transformers>=0.4.1->bertopic) (3.4.2)\n",
      "Requirement already satisfied: jinja2 in c:\\users\\arnau\\anaconda3\\envs\\ada\\lib\\site-packages (from torch>=1.11.0->sentence-transformers>=0.4.1->bertopic) (3.1.4)\n",
      "Requirement already satisfied: sympy==1.13.1 in c:\\users\\arnau\\anaconda3\\envs\\ada\\lib\\site-packages (from torch>=1.11.0->sentence-transformers>=0.4.1->bertopic) (1.13.1)\n",
      "Requirement already satisfied: mpmath<1.4,>=1.1.0 in c:\\users\\arnau\\anaconda3\\envs\\ada\\lib\\site-packages (from sympy==1.13.1->torch>=1.11.0->sentence-transformers>=0.4.1->bertopic) (1.3.0)\n",
      "Requirement already satisfied: regex!=2019.12.17 in c:\\users\\arnau\\anaconda3\\envs\\ada\\lib\\site-packages (from transformers<5.0.0,>=4.41.0->sentence-transformers>=0.4.1->bertopic) (2024.9.11)\n",
      "Requirement already satisfied: safetensors>=0.4.1 in c:\\users\\arnau\\anaconda3\\envs\\ada\\lib\\site-packages (from transformers<5.0.0,>=4.41.0->sentence-transformers>=0.4.1->bertopic) (0.4.5)\n",
      "Requirement already satisfied: tokenizers<0.21,>=0.20 in c:\\users\\arnau\\anaconda3\\envs\\ada\\lib\\site-packages (from transformers<5.0.0,>=4.41.0->sentence-transformers>=0.4.1->bertopic) (0.20.3)\n",
      "Requirement already satisfied: MarkupSafe>=2.0 in c:\\users\\arnau\\anaconda3\\envs\\ada\\lib\\site-packages (from jinja2->torch>=1.11.0->sentence-transformers>=0.4.1->bertopic) (2.1.3)\n",
      "Requirement already satisfied: charset-normalizer<4,>=2 in c:\\users\\arnau\\anaconda3\\envs\\ada\\lib\\site-packages (from requests->huggingface-hub>=0.20.0->sentence-transformers>=0.4.1->bertopic) (3.3.2)\n",
      "Requirement already satisfied: idna<4,>=2.5 in c:\\users\\arnau\\anaconda3\\envs\\ada\\lib\\site-packages (from requests->huggingface-hub>=0.20.0->sentence-transformers>=0.4.1->bertopic) (3.7)\n",
      "Requirement already satisfied: urllib3<3,>=1.21.1 in c:\\users\\arnau\\anaconda3\\envs\\ada\\lib\\site-packages (from requests->huggingface-hub>=0.20.0->sentence-transformers>=0.4.1->bertopic) (2.2.2)\n",
      "Requirement already satisfied: certifi>=2017.4.17 in c:\\users\\arnau\\anaconda3\\envs\\ada\\lib\\site-packages (from requests->huggingface-hub>=0.20.0->sentence-transformers>=0.4.1->bertopic) (2024.8.30)\n",
      "Requirement already satisfied: sentence-transformers in c:\\users\\arnau\\anaconda3\\envs\\ada\\lib\\site-packages (3.3.0)\n",
      "Requirement already satisfied: transformers<5.0.0,>=4.41.0 in c:\\users\\arnau\\anaconda3\\envs\\ada\\lib\\site-packages (from sentence-transformers) (4.46.2)\n",
      "Requirement already satisfied: tqdm in c:\\users\\arnau\\anaconda3\\envs\\ada\\lib\\site-packages (from sentence-transformers) (4.67.0)\n",
      "Requirement already satisfied: torch>=1.11.0 in c:\\users\\arnau\\anaconda3\\envs\\ada\\lib\\site-packages (from sentence-transformers) (2.5.1)\n",
      "Requirement already satisfied: scikit-learn in c:\\users\\arnau\\anaconda3\\envs\\ada\\lib\\site-packages (from sentence-transformers) (1.5.2)\n",
      "Requirement already satisfied: scipy in c:\\users\\arnau\\anaconda3\\envs\\ada\\lib\\site-packages (from sentence-transformers) (1.13.1)\n",
      "Requirement already satisfied: huggingface-hub>=0.20.0 in c:\\users\\arnau\\anaconda3\\envs\\ada\\lib\\site-packages (from sentence-transformers) (0.26.2)\n",
      "Requirement already satisfied: Pillow in c:\\users\\arnau\\anaconda3\\envs\\ada\\lib\\site-packages (from sentence-transformers) (10.4.0)\n",
      "Requirement already satisfied: filelock in c:\\users\\arnau\\anaconda3\\envs\\ada\\lib\\site-packages (from huggingface-hub>=0.20.0->sentence-transformers) (3.16.1)\n",
      "Requirement already satisfied: fsspec>=2023.5.0 in c:\\users\\arnau\\anaconda3\\envs\\ada\\lib\\site-packages (from huggingface-hub>=0.20.0->sentence-transformers) (2024.10.0)\n",
      "Requirement already satisfied: packaging>=20.9 in c:\\users\\arnau\\anaconda3\\envs\\ada\\lib\\site-packages (from huggingface-hub>=0.20.0->sentence-transformers) (24.1)\n",
      "Requirement already satisfied: pyyaml>=5.1 in c:\\users\\arnau\\anaconda3\\envs\\ada\\lib\\site-packages (from huggingface-hub>=0.20.0->sentence-transformers) (6.0.1)\n",
      "Requirement already satisfied: requests in c:\\users\\arnau\\anaconda3\\envs\\ada\\lib\\site-packages (from huggingface-hub>=0.20.0->sentence-transformers) (2.32.3)\n",
      "Requirement already satisfied: typing-extensions>=3.7.4.3 in c:\\users\\arnau\\anaconda3\\envs\\ada\\lib\\site-packages (from huggingface-hub>=0.20.0->sentence-transformers) (4.11.0)\n",
      "Requirement already satisfied: networkx in c:\\users\\arnau\\anaconda3\\envs\\ada\\lib\\site-packages (from torch>=1.11.0->sentence-transformers) (3.4.2)\n",
      "Requirement already satisfied: jinja2 in c:\\users\\arnau\\anaconda3\\envs\\ada\\lib\\site-packages (from torch>=1.11.0->sentence-transformers) (3.1.4)\n",
      "Requirement already satisfied: sympy==1.13.1 in c:\\users\\arnau\\anaconda3\\envs\\ada\\lib\\site-packages (from torch>=1.11.0->sentence-transformers) (1.13.1)\n",
      "Requirement already satisfied: mpmath<1.4,>=1.1.0 in c:\\users\\arnau\\anaconda3\\envs\\ada\\lib\\site-packages (from sympy==1.13.1->torch>=1.11.0->sentence-transformers) (1.3.0)\n",
      "Requirement already satisfied: colorama in c:\\users\\arnau\\anaconda3\\envs\\ada\\lib\\site-packages (from tqdm->sentence-transformers) (0.4.6)\n",
      "Requirement already satisfied: numpy>=1.17 in c:\\users\\arnau\\anaconda3\\envs\\ada\\lib\\site-packages (from transformers<5.0.0,>=4.41.0->sentence-transformers) (1.26.4)\n",
      "Requirement already satisfied: regex!=2019.12.17 in c:\\users\\arnau\\anaconda3\\envs\\ada\\lib\\site-packages (from transformers<5.0.0,>=4.41.0->sentence-transformers) (2024.9.11)\n",
      "Requirement already satisfied: safetensors>=0.4.1 in c:\\users\\arnau\\anaconda3\\envs\\ada\\lib\\site-packages (from transformers<5.0.0,>=4.41.0->sentence-transformers) (0.4.5)\n",
      "Requirement already satisfied: tokenizers<0.21,>=0.20 in c:\\users\\arnau\\anaconda3\\envs\\ada\\lib\\site-packages (from transformers<5.0.0,>=4.41.0->sentence-transformers) (0.20.3)\n",
      "Requirement already satisfied: joblib>=1.2.0 in c:\\users\\arnau\\anaconda3\\envs\\ada\\lib\\site-packages (from scikit-learn->sentence-transformers) (1.4.2)\n",
      "Requirement already satisfied: threadpoolctl>=3.1.0 in c:\\users\\arnau\\anaconda3\\envs\\ada\\lib\\site-packages (from scikit-learn->sentence-transformers) (3.5.0)\n",
      "Requirement already satisfied: MarkupSafe>=2.0 in c:\\users\\arnau\\anaconda3\\envs\\ada\\lib\\site-packages (from jinja2->torch>=1.11.0->sentence-transformers) (2.1.3)\n",
      "Requirement already satisfied: charset-normalizer<4,>=2 in c:\\users\\arnau\\anaconda3\\envs\\ada\\lib\\site-packages (from requests->huggingface-hub>=0.20.0->sentence-transformers) (3.3.2)\n",
      "Requirement already satisfied: idna<4,>=2.5 in c:\\users\\arnau\\anaconda3\\envs\\ada\\lib\\site-packages (from requests->huggingface-hub>=0.20.0->sentence-transformers) (3.7)\n",
      "Requirement already satisfied: urllib3<3,>=1.21.1 in c:\\users\\arnau\\anaconda3\\envs\\ada\\lib\\site-packages (from requests->huggingface-hub>=0.20.0->sentence-transformers) (2.2.2)\n",
      "Requirement already satisfied: certifi>=2017.4.17 in c:\\users\\arnau\\anaconda3\\envs\\ada\\lib\\site-packages (from requests->huggingface-hub>=0.20.0->sentence-transformers) (2024.8.30)\n",
      "Collecting nltk\n",
      "  Downloading nltk-3.9.1-py3-none-any.whl.metadata (2.9 kB)\n",
      "Collecting spacy\n",
      "  Downloading spacy-3.8.2-cp311-cp311-win_amd64.whl.metadata (27 kB)\n",
      "Collecting click (from nltk)\n",
      "  Downloading click-8.1.7-py3-none-any.whl.metadata (3.0 kB)\n",
      "Requirement already satisfied: joblib in c:\\users\\arnau\\anaconda3\\envs\\ada\\lib\\site-packages (from nltk) (1.4.2)\n",
      "Requirement already satisfied: regex>=2021.8.3 in c:\\users\\arnau\\anaconda3\\envs\\ada\\lib\\site-packages (from nltk) (2024.9.11)\n",
      "Requirement already satisfied: tqdm in c:\\users\\arnau\\anaconda3\\envs\\ada\\lib\\site-packages (from nltk) (4.67.0)\n",
      "Collecting spacy-legacy<3.1.0,>=3.0.11 (from spacy)\n",
      "  Downloading spacy_legacy-3.0.12-py2.py3-none-any.whl.metadata (2.8 kB)\n",
      "Collecting spacy-loggers<2.0.0,>=1.0.0 (from spacy)\n",
      "  Using cached spacy_loggers-1.0.5-py3-none-any.whl.metadata (23 kB)\n",
      "Collecting murmurhash<1.1.0,>=0.28.0 (from spacy)\n",
      "  Downloading murmurhash-1.0.10-cp311-cp311-win_amd64.whl.metadata (2.0 kB)\n",
      "Collecting cymem<2.1.0,>=2.0.2 (from spacy)\n",
      "  Downloading cymem-2.0.8-cp311-cp311-win_amd64.whl.metadata (8.6 kB)\n",
      "Collecting preshed<3.1.0,>=3.0.2 (from spacy)\n",
      "  Downloading preshed-3.0.9-cp311-cp311-win_amd64.whl.metadata (2.2 kB)\n",
      "Collecting thinc<8.4.0,>=8.3.0 (from spacy)\n",
      "  Downloading thinc-8.3.2-cp311-cp311-win_amd64.whl.metadata (15 kB)\n",
      "Collecting wasabi<1.2.0,>=0.9.1 (from spacy)\n",
      "  Downloading wasabi-1.1.3-py3-none-any.whl.metadata (28 kB)\n",
      "Collecting srsly<3.0.0,>=2.4.3 (from spacy)\n",
      "  Downloading srsly-2.4.8-cp311-cp311-win_amd64.whl.metadata (20 kB)\n",
      "Collecting catalogue<2.1.0,>=2.0.6 (from spacy)\n",
      "  Using cached catalogue-2.0.10-py3-none-any.whl.metadata (14 kB)\n",
      "Collecting weasel<0.5.0,>=0.1.0 (from spacy)\n",
      "  Downloading weasel-0.4.1-py3-none-any.whl.metadata (4.6 kB)\n",
      "Collecting typer<1.0.0,>=0.3.0 (from spacy)\n",
      "  Downloading typer-0.13.0-py3-none-any.whl.metadata (15 kB)\n",
      "Requirement already satisfied: requests<3.0.0,>=2.13.0 in c:\\users\\arnau\\anaconda3\\envs\\ada\\lib\\site-packages (from spacy) (2.32.3)\n",
      "Collecting pydantic!=1.8,!=1.8.1,<3.0.0,>=1.7.4 (from spacy)\n",
      "  Downloading pydantic-2.9.2-py3-none-any.whl.metadata (149 kB)\n",
      "Requirement already satisfied: jinja2 in c:\\users\\arnau\\anaconda3\\envs\\ada\\lib\\site-packages (from spacy) (3.1.4)\n",
      "Requirement already satisfied: setuptools in c:\\users\\arnau\\anaconda3\\envs\\ada\\lib\\site-packages (from spacy) (72.1.0)\n",
      "Requirement already satisfied: packaging>=20.0 in c:\\users\\arnau\\anaconda3\\envs\\ada\\lib\\site-packages (from spacy) (24.1)\n",
      "Collecting langcodes<4.0.0,>=3.2.0 (from spacy)\n",
      "  Downloading langcodes-3.4.1-py3-none-any.whl.metadata (29 kB)\n",
      "Requirement already satisfied: numpy>=1.19.0 in c:\\users\\arnau\\anaconda3\\envs\\ada\\lib\\site-packages (from spacy) (1.26.4)\n",
      "Collecting language-data>=1.2 (from langcodes<4.0.0,>=3.2.0->spacy)\n",
      "  Downloading language_data-1.2.0-py3-none-any.whl.metadata (4.3 kB)\n",
      "Collecting annotated-types>=0.6.0 (from pydantic!=1.8,!=1.8.1,<3.0.0,>=1.7.4->spacy)\n",
      "  Downloading annotated_types-0.7.0-py3-none-any.whl.metadata (15 kB)\n",
      "Collecting pydantic-core==2.23.4 (from pydantic!=1.8,!=1.8.1,<3.0.0,>=1.7.4->spacy)\n",
      "  Downloading pydantic_core-2.23.4-cp311-none-win_amd64.whl.metadata (6.7 kB)\n",
      "Requirement already satisfied: typing-extensions>=4.6.1 in c:\\users\\arnau\\anaconda3\\envs\\ada\\lib\\site-packages (from pydantic!=1.8,!=1.8.1,<3.0.0,>=1.7.4->spacy) (4.11.0)\n",
      "Requirement already satisfied: charset-normalizer<4,>=2 in c:\\users\\arnau\\anaconda3\\envs\\ada\\lib\\site-packages (from requests<3.0.0,>=2.13.0->spacy) (3.3.2)\n",
      "Requirement already satisfied: idna<4,>=2.5 in c:\\users\\arnau\\anaconda3\\envs\\ada\\lib\\site-packages (from requests<3.0.0,>=2.13.0->spacy) (3.7)\n",
      "Requirement already satisfied: urllib3<3,>=1.21.1 in c:\\users\\arnau\\anaconda3\\envs\\ada\\lib\\site-packages (from requests<3.0.0,>=2.13.0->spacy) (2.2.2)\n",
      "Requirement already satisfied: certifi>=2017.4.17 in c:\\users\\arnau\\anaconda3\\envs\\ada\\lib\\site-packages (from requests<3.0.0,>=2.13.0->spacy) (2024.8.30)\n",
      "Collecting blis<1.1.0,>=1.0.0 (from thinc<8.4.0,>=8.3.0->spacy)\n",
      "  Downloading blis-1.0.1-cp311-cp311-win_amd64.whl.metadata (7.8 kB)\n",
      "Collecting confection<1.0.0,>=0.0.1 (from thinc<8.4.0,>=8.3.0->spacy)\n",
      "  Downloading confection-0.1.5-py3-none-any.whl.metadata (19 kB)\n",
      "Collecting numpy>=1.19.0 (from spacy)\n",
      "  Downloading numpy-2.0.2-cp311-cp311-win_amd64.whl.metadata (59 kB)\n",
      "Requirement already satisfied: colorama in c:\\users\\arnau\\anaconda3\\envs\\ada\\lib\\site-packages (from tqdm->nltk) (0.4.6)\n",
      "Collecting shellingham>=1.3.0 (from typer<1.0.0,>=0.3.0->spacy)\n",
      "  Downloading shellingham-1.5.4-py2.py3-none-any.whl.metadata (3.5 kB)\n",
      "Collecting rich>=10.11.0 (from typer<1.0.0,>=0.3.0->spacy)\n",
      "  Downloading rich-13.9.4-py3-none-any.whl.metadata (18 kB)\n",
      "Collecting cloudpathlib<1.0.0,>=0.7.0 (from weasel<0.5.0,>=0.1.0->spacy)\n",
      "  Downloading cloudpathlib-0.20.0-py3-none-any.whl.metadata (14 kB)\n",
      "Collecting smart-open<8.0.0,>=5.2.1 (from weasel<0.5.0,>=0.1.0->spacy)\n",
      "  Downloading smart_open-7.0.5-py3-none-any.whl.metadata (24 kB)\n",
      "Requirement already satisfied: MarkupSafe>=2.0 in c:\\users\\arnau\\anaconda3\\envs\\ada\\lib\\site-packages (from jinja2->spacy) (2.1.3)\n",
      "Collecting marisa-trie>=0.7.7 (from language-data>=1.2->langcodes<4.0.0,>=3.2.0->spacy)\n",
      "  Downloading marisa_trie-1.2.1-cp311-cp311-win_amd64.whl.metadata (9.3 kB)\n",
      "Collecting markdown-it-py>=2.2.0 (from rich>=10.11.0->typer<1.0.0,>=0.3.0->spacy)\n",
      "  Downloading markdown_it_py-3.0.0-py3-none-any.whl.metadata (6.9 kB)\n",
      "Requirement already satisfied: pygments<3.0.0,>=2.13.0 in c:\\users\\arnau\\anaconda3\\envs\\ada\\lib\\site-packages (from rich>=10.11.0->typer<1.0.0,>=0.3.0->spacy) (2.15.1)\n",
      "Collecting wrapt (from smart-open<8.0.0,>=5.2.1->weasel<0.5.0,>=0.1.0->spacy)\n",
      "  Downloading wrapt-1.16.0-cp311-cp311-win_amd64.whl.metadata (6.8 kB)\n",
      "Collecting mdurl~=0.1 (from markdown-it-py>=2.2.0->rich>=10.11.0->typer<1.0.0,>=0.3.0->spacy)\n",
      "  Downloading mdurl-0.1.2-py3-none-any.whl.metadata (1.6 kB)\n",
      "Downloading nltk-3.9.1-py3-none-any.whl (1.5 MB)\n",
      "   ---------------------------------------- 0.0/1.5 MB ? eta -:--:--\n",
      "   -------------------- ------------------- 0.8/1.5 MB 6.7 MB/s eta 0:00:01\n",
      "   ---------------------------------------- 1.5/1.5 MB 4.7 MB/s eta 0:00:00\n",
      "Downloading spacy-3.8.2-cp311-cp311-win_amd64.whl (12.2 MB)\n",
      "   ---------------------------------------- 0.0/12.2 MB ? eta -:--:--\n",
      "   --- ------------------------------------ 1.0/12.2 MB 6.3 MB/s eta 0:00:02\n",
      "   -------- ------------------------------- 2.6/12.2 MB 6.9 MB/s eta 0:00:02\n",
      "   ------------- -------------------------- 4.2/12.2 MB 6.8 MB/s eta 0:00:02\n",
      "   -------------- ------------------------- 4.5/12.2 MB 5.4 MB/s eta 0:00:02\n",
      "   ----------------- ---------------------- 5.2/12.2 MB 4.9 MB/s eta 0:00:02\n",
      "   --------------------- ------------------ 6.6/12.2 MB 5.3 MB/s eta 0:00:02\n",
      "   -------------------------- ------------- 8.1/12.2 MB 5.5 MB/s eta 0:00:01\n",
      "   ------------------------------ --------- 9.4/12.2 MB 5.6 MB/s eta 0:00:01\n",
      "   ----------------------------------- ---- 10.7/12.2 MB 5.7 MB/s eta 0:00:01\n",
      "   ---------------------------------------  12.1/12.2 MB 5.9 MB/s eta 0:00:01\n",
      "   ---------------------------------------- 12.2/12.2 MB 5.7 MB/s eta 0:00:00\n",
      "Using cached catalogue-2.0.10-py3-none-any.whl (17 kB)\n",
      "Downloading cymem-2.0.8-cp311-cp311-win_amd64.whl (39 kB)\n",
      "Downloading langcodes-3.4.1-py3-none-any.whl (182 kB)\n",
      "Downloading murmurhash-1.0.10-cp311-cp311-win_amd64.whl (25 kB)\n",
      "Downloading preshed-3.0.9-cp311-cp311-win_amd64.whl (122 kB)\n",
      "Downloading pydantic-2.9.2-py3-none-any.whl (434 kB)\n",
      "Downloading pydantic_core-2.23.4-cp311-none-win_amd64.whl (1.9 MB)\n",
      "   ---------------------------------------- 0.0/1.9 MB ? eta -:--:--\n",
      "   --------------------------- ------------ 1.3/1.9 MB 6.7 MB/s eta 0:00:01\n",
      "   ---------------------------------------- 1.9/1.9 MB 5.9 MB/s eta 0:00:00\n",
      "Using cached spacy_legacy-3.0.12-py2.py3-none-any.whl (29 kB)\n",
      "Using cached spacy_loggers-1.0.5-py3-none-any.whl (22 kB)\n",
      "Downloading srsly-2.4.8-cp311-cp311-win_amd64.whl (479 kB)\n",
      "Downloading thinc-8.3.2-cp311-cp311-win_amd64.whl (1.5 MB)\n",
      "   ---------------------------------------- 0.0/1.5 MB ? eta -:--:--\n",
      "   ---------------------------- ----------- 1.0/1.5 MB 6.3 MB/s eta 0:00:01\n",
      "   ---------------------------------------- 1.5/1.5 MB 5.6 MB/s eta 0:00:00\n",
      "Downloading numpy-2.0.2-cp311-cp311-win_amd64.whl (15.9 MB)\n",
      "   ---------------------------------------- 0.0/15.9 MB ? eta -:--:--\n",
      "   -- ------------------------------------- 1.0/15.9 MB 5.6 MB/s eta 0:00:03\n",
      "   ------ --------------------------------- 2.6/15.9 MB 6.0 MB/s eta 0:00:03\n",
      "   --------- ------------------------------ 3.7/15.9 MB 5.9 MB/s eta 0:00:03\n",
      "   ------------- -------------------------- 5.2/15.9 MB 6.1 MB/s eta 0:00:02\n",
      "   --------------- ------------------------ 6.3/15.9 MB 6.1 MB/s eta 0:00:02\n",
      "   ------------------- -------------------- 7.6/15.9 MB 6.0 MB/s eta 0:00:02\n",
      "   ---------------------- ----------------- 8.9/15.9 MB 6.0 MB/s eta 0:00:02\n",
      "   ------------------------- -------------- 10.0/15.9 MB 5.9 MB/s eta 0:00:02\n",
      "   ---------------------------- ----------- 11.3/15.9 MB 5.9 MB/s eta 0:00:01\n",
      "   ------------------------------ --------- 12.1/15.9 MB 5.7 MB/s eta 0:00:01\n",
      "   ---------------------------------- ----- 13.6/15.9 MB 5.8 MB/s eta 0:00:01\n",
      "   ------------------------------------- -- 14.9/15.9 MB 5.8 MB/s eta 0:00:01\n",
      "   ---------------------------------------- 15.9/15.9 MB 5.8 MB/s eta 0:00:00\n",
      "Downloading typer-0.13.0-py3-none-any.whl (44 kB)\n",
      "Downloading click-8.1.7-py3-none-any.whl (97 kB)\n",
      "Downloading wasabi-1.1.3-py3-none-any.whl (27 kB)\n",
      "Downloading weasel-0.4.1-py3-none-any.whl (50 kB)\n",
      "Downloading annotated_types-0.7.0-py3-none-any.whl (13 kB)\n",
      "Downloading blis-1.0.1-cp311-cp311-win_amd64.whl (6.3 MB)\n",
      "   ---------------------------------------- 0.0/6.3 MB ? eta -:--:--\n",
      "   ------ --------------------------------- 1.0/6.3 MB 6.3 MB/s eta 0:00:01\n",
      "   -------------- ------------------------- 2.4/6.3 MB 6.1 MB/s eta 0:00:01\n",
      "   ----------------------- ---------------- 3.7/6.3 MB 6.2 MB/s eta 0:00:01\n",
      "   ------------------------------- -------- 5.0/6.3 MB 6.0 MB/s eta 0:00:01\n",
      "   -------------------------------------- - 6.0/6.3 MB 6.1 MB/s eta 0:00:01\n",
      "   ---------------------------------------- 6.3/6.3 MB 5.6 MB/s eta 0:00:00\n",
      "Downloading cloudpathlib-0.20.0-py3-none-any.whl (52 kB)\n",
      "Downloading confection-0.1.5-py3-none-any.whl (35 kB)\n",
      "Downloading language_data-1.2.0-py3-none-any.whl (5.4 MB)\n",
      "   ---------------------------------------- 0.0/5.4 MB ? eta -:--:--\n",
      "   --------- ------------------------------ 1.3/5.4 MB 7.5 MB/s eta 0:00:01\n",
      "   --------------------- ------------------ 2.9/5.4 MB 7.0 MB/s eta 0:00:01\n",
      "   ------------------------------- -------- 4.2/5.4 MB 6.8 MB/s eta 0:00:01\n",
      "   ---------------------------------------- 5.4/5.4 MB 6.4 MB/s eta 0:00:00\n",
      "Downloading rich-13.9.4-py3-none-any.whl (242 kB)\n",
      "Downloading shellingham-1.5.4-py2.py3-none-any.whl (9.8 kB)\n",
      "Downloading smart_open-7.0.5-py3-none-any.whl (61 kB)\n",
      "Downloading marisa_trie-1.2.1-cp311-cp311-win_amd64.whl (152 kB)\n",
      "Downloading markdown_it_py-3.0.0-py3-none-any.whl (87 kB)\n",
      "Downloading wrapt-1.16.0-cp311-cp311-win_amd64.whl (37 kB)\n",
      "Downloading mdurl-0.1.2-py3-none-any.whl (10.0 kB)\n",
      "Installing collected packages: cymem, wrapt, wasabi, spacy-loggers, spacy-legacy, shellingham, pydantic-core, numpy, murmurhash, mdurl, marisa-trie, cloudpathlib, click, catalogue, annotated-types, srsly, smart-open, pydantic, preshed, nltk, markdown-it-py, language-data, blis, rich, langcodes, confection, typer, thinc, weasel, spacy\n",
      "  Attempting uninstall: numpy\n",
      "    Found existing installation: numpy 1.26.4\n",
      "    Uninstalling numpy-1.26.4:\n",
      "      Successfully uninstalled numpy-1.26.4\n",
      "Successfully installed annotated-types-0.7.0 blis-1.0.1 catalogue-2.0.10 click-8.1.7 cloudpathlib-0.20.0 confection-0.1.5 cymem-2.0.8 langcodes-3.4.1 language-data-1.2.0 marisa-trie-1.2.1 markdown-it-py-3.0.0 mdurl-0.1.2 murmurhash-1.0.10 nltk-3.9.1 numpy-2.0.2 preshed-3.0.9 pydantic-2.9.2 pydantic-core-2.23.4 rich-13.9.4 shellingham-1.5.4 smart-open-7.0.5 spacy-3.8.2 spacy-legacy-3.0.12 spacy-loggers-1.0.5 srsly-2.4.8 thinc-8.3.2 typer-0.13.0 wasabi-1.1.3 weasel-0.4.1 wrapt-1.16.0\n"
     ]
    },
    {
     "name": "stderr",
     "output_type": "stream",
     "text": [
      "ERROR: pip's dependency resolver does not currently take into account all the packages that are installed. This behaviour is the source of the following dependency conflicts.\n",
      "contourpy 1.2.0 requires numpy<2.0,>=1.20, but you have numpy 2.0.2 which is incompatible.\n"
     ]
    },
    {
     "name": "stdout",
     "output_type": "stream",
     "text": [
      "Collecting en-core-web-sm==3.8.0\n",
      "  Downloading https://github.com/explosion/spacy-models/releases/download/en_core_web_sm-3.8.0/en_core_web_sm-3.8.0-py3-none-any.whl (12.8 MB)\n",
      "     ---------------------------------------- 0.0/12.8 MB ? eta -:--:--\n",
      "     - -------------------------------------- 0.5/12.8 MB 4.2 MB/s eta 0:00:03\n",
      "     ------ --------------------------------- 2.1/12.8 MB 6.2 MB/s eta 0:00:02\n",
      "     --------- ------------------------------ 3.1/12.8 MB 5.4 MB/s eta 0:00:02\n",
      "     ------------- -------------------------- 4.5/12.8 MB 5.7 MB/s eta 0:00:02\n",
      "     ------------------ --------------------- 5.8/12.8 MB 5.7 MB/s eta 0:00:02\n",
      "     ------------------ --------------------- 6.0/12.8 MB 5.0 MB/s eta 0:00:02\n",
      "     --------------------- ------------------ 6.8/12.8 MB 4.7 MB/s eta 0:00:02\n",
      "     ------------------------ --------------- 7.9/12.8 MB 4.8 MB/s eta 0:00:02\n",
      "     --------------------------- ------------ 8.9/12.8 MB 4.9 MB/s eta 0:00:01\n",
      "     ------------------------------- -------- 10.2/12.8 MB 4.8 MB/s eta 0:00:01\n",
      "     ----------------------------------- ---- 11.3/12.8 MB 4.9 MB/s eta 0:00:01\n",
      "     ---------------------------------------  12.6/12.8 MB 5.0 MB/s eta 0:00:01\n",
      "     ---------------------------------------- 12.8/12.8 MB 4.8 MB/s eta 0:00:00\n",
      "Installing collected packages: en-core-web-sm\n",
      "Successfully installed en-core-web-sm-3.8.0\n",
      "\u001b[38;5;2m✔ Download and installation successful\u001b[0m\n",
      "You can now load the package via spacy.load('en_core_web_sm')\n"
     ]
    }
   ],
   "source": [
    "!pip install bertopic\n",
    "!pip install sentence-transformers\n",
    "!pip install nltk spacy\n",
    "!python -m spacy download en_core_web_sm"
   ]
  },
  {
   "cell_type": "code",
   "execution_count": 53,
   "metadata": {},
   "outputs": [
    {
     "name": "stderr",
     "output_type": "stream",
     "text": [
      "[nltk_data] Downloading package stopwords to\n",
      "[nltk_data]     C:\\Users\\arnau\\AppData\\Roaming\\nltk_data...\n",
      "[nltk_data]   Package stopwords is already up-to-date!\n",
      "[nltk_data] Downloading package punkt to\n",
      "[nltk_data]     C:\\Users\\arnau\\AppData\\Roaming\\nltk_data...\n",
      "[nltk_data]   Package punkt is already up-to-date!\n"
     ]
    }
   ],
   "source": [
    "import spacy\n",
    "from nltk.corpus import stopwords\n",
    "from nltk.tokenize import word_tokenize\n",
    "import string\n",
    "from tqdm import tqdm\n",
    "\n",
    "# Load the spaCy model for English language\n",
    "nlp = spacy.load(\"en_core_web_sm\")\n",
    "\n",
    "# Download stopwords and punkt tokenizer\n",
    "import nltk\n",
    "nltk.download('stopwords')\n",
    "nltk.download('punkt')\n",
    "\n",
    "# Load the English stopwords\n",
    "stop_words = set(stopwords.words(\"english\"))\n",
    "\n",
    "def preprocess_text(text):\n",
    "    # Tokenisation\n",
    "    doc = nlp(text.lower())  # Convert to lowercase\n",
    "    \n",
    "    # Lemmatisation and remove stopwords and punctuation\n",
    "    processed_tokens = [\n",
    "        token.lemma_ for token in doc if token.text not in stop_words and token.text not in string.punctuation\n",
    "    ]\n",
    "    \n",
    "    return \" \".join(processed_tokens)"
   ]
  },
  {
   "cell_type": "code",
   "execution_count": 64,
   "metadata": {},
   "outputs": [
    {
     "name": "stderr",
     "output_type": "stream",
     "text": [
      "100%|██████████| 42303/42303 [40:59<00:00, 17.20it/s]  \n"
     ]
    }
   ],
   "source": [
    "# Apply the preprocessing to the summaries\n",
    "tqdm.pandas()\n",
    "df_summaries['cleaned_summary'] = df_summaries['summary'].progress_apply(preprocess_text)\n",
    "df_summaries.to_csv('../../data/nlpData/lemmatized_summaries.csv')"
   ]
  },
  {
   "cell_type": "code",
   "execution_count": 65,
   "metadata": {},
   "outputs": [],
   "source": [
    "from bertopic import BERTopic\n",
    "from sentence_transformers import SentenceTransformer"
   ]
  },
  {
   "cell_type": "code",
   "execution_count": 77,
   "metadata": {},
   "outputs": [],
   "source": [
    "df_summaries_small = df_summaries.sample(1000)"
   ]
  },
  {
   "cell_type": "code",
   "execution_count": 78,
   "metadata": {},
   "outputs": [
    {
     "data": {
      "application/vnd.jupyter.widget-view+json": {
       "model_id": "a4c9ac7eb0dd400da316ef451983036e",
       "version_major": 2,
       "version_minor": 0
      },
      "text/plain": [
       "Batches:   0%|          | 0/32 [00:00<?, ?it/s]"
      ]
     },
     "metadata": {},
     "output_type": "display_data"
    },
    {
     "name": "stderr",
     "output_type": "stream",
     "text": [
      "2024-11-13 21:13:12,799 - BERTopic - Embedding - Transforming documents to embeddings.\n"
     ]
    },
    {
     "data": {
      "application/vnd.jupyter.widget-view+json": {
       "model_id": "31bb74ee42c54312b1cdc767c9bd8a1b",
       "version_major": 2,
       "version_minor": 0
      },
      "text/plain": [
       "Batches:   0%|          | 0/32 [00:00<?, ?it/s]"
      ]
     },
     "metadata": {},
     "output_type": "display_data"
    },
    {
     "name": "stderr",
     "output_type": "stream",
     "text": [
      "2024-11-13 21:14:01,989 - BERTopic - Embedding - Completed ✓\n",
      "2024-11-13 21:14:01,995 - BERTopic - Dimensionality - Fitting the dimensionality reduction algorithm\n",
      "2024-11-13 21:14:05,554 - BERTopic - Dimensionality - Completed ✓\n",
      "2024-11-13 21:14:05,554 - BERTopic - Cluster - Start clustering the reduced embeddings\n",
      "2024-11-13 21:14:05,600 - BERTopic - Cluster - Completed ✓\n",
      "2024-11-13 21:14:05,603 - BERTopic - Representation - Extracting topics from clusters using representation models.\n",
      "2024-11-13 21:14:05,836 - BERTopic - Representation - Completed ✓\n"
     ]
    }
   ],
   "source": [
    "# Create the SentenceTransformer model\n",
    "embedding_model = SentenceTransformer(\"all-MiniLM-L6-v2\")\n",
    "\n",
    "# Encode the summaries\n",
    "embeddings = embedding_model.encode(df_summaries_small['cleaned_summary'].tolist(), show_progress_bar=True)\n",
    "\n",
    "# Create the BERTopic model\n",
    "topic_model = BERTopic(embedding_model=embedding_model, verbose=True)\n",
    "\n",
    "# Fit the BERTopic model\n",
    "topics, probabilities = topic_model.fit_transform(df_summaries_small['cleaned_summary'].tolist())\n",
    "\n",
    "# Assign the topics to the summaries\n",
    "df_summaries_small['topic'] = topics"
   ]
  },
  {
   "cell_type": "code",
   "execution_count": 79,
   "metadata": {},
   "outputs": [
    {
     "name": "stdout",
     "output_type": "stream",
     "text": [
      "    Topic  Count                             Name  \\\n",
      "0      -1    466              -1_go_take_find_one   \n",
      "1       0    202              0_find_tell_go_take   \n",
      "2       1    101        1_love_father_get_village   \n",
      "3       2     60           2_film_war_soldier_man   \n",
      "4       3     53  3_father_wife_love_relationship   \n",
      "5       4     30            4_bug_tom_jerry_elmer   \n",
      "6       5     23   5_murder_evans_christie_police   \n",
      "7       6     23   6_dastan_tamina_michiru_dagger   \n",
      "8       7     19       7_story_woman_chopin_mayil   \n",
      "9       8     13     8_ship_boat_captain_finnegan   \n",
      "10      9     10     9_stooge_droopy_curly_elaine   \n",
      "\n",
      "                                       Representation  \\\n",
      "0   [go, take, find, one, get, leave, film, man, f...   \n",
      "1   [find, tell, go, take, leave, get, see, one, k...   \n",
      "2   [love, father, get, village, marry, family, ta...   \n",
      "3   [film, war, soldier, man, german, d8, british,...   \n",
      "4   [father, wife, love, relationship, max, life, ...   \n",
      "5   [bug, tom, jerry, elmer, donald, pinocchio, do...   \n",
      "6   [murder, evans, christie, police, case, detect...   \n",
      "7   [dastan, tamina, michiru, dagger, hedorah, was...   \n",
      "8   [story, woman, chopin, mayil, monika, film, yo...   \n",
      "9   [ship, boat, captain, finnegan, tyler, kong, 5...   \n",
      "10  [stooge, droopy, curly, elaine, bedford, cedri...   \n",
      "\n",
      "                                  Representative_Docs  \n",
      "0   [plot film open francie gidget lawrence   jeff...  \n",
      "1   [film open 15 year old susan bower alcohol dru...  \n",
      "2   [film focus two love story chennai one take pl...  \n",
      "3   [opening title graphic film begin message appe...  \n",
      "4   [max fiedler   air traffic controller new york...  \n",
      "5   [tom jerry 's penthouse apartment room around ...  \n",
      "6   [film begin alphonse tram less gregarious char...  \n",
      "7   [handful year give mathayus prophecy peaceful ...  \n",
      "8   [series intertwine tale involve pleasure seeke...  \n",
      "9   [blood alley tell story captain tom wilder ame...  \n",
      "10  [stooge troubadour medieval time villainous bl...  \n"
     ]
    },
    {
     "data": {
      "application/vnd.plotly.v1+json": {
       "config": {
        "plotlyServerURL": "https://plot.ly"
       },
       "data": [
        {
         "customdata": [
          [
           0,
           "find | tell | go | take | leave",
           202
          ],
          [
           1,
           "love | father | get | village | marry",
           101
          ],
          [
           2,
           "film | war | soldier | man | german",
           60
          ],
          [
           3,
           "father | wife | love | relationship | max",
           53
          ],
          [
           4,
           "bug | tom | jerry | elmer | donald",
           30
          ],
          [
           5,
           "murder | evans | christie | police | case",
           23
          ],
          [
           6,
           "dastan | tamina | michiru | dagger | hedorah",
           23
          ],
          [
           7,
           "story | woman | chopin | mayil | monika",
           19
          ],
          [
           8,
           "ship | boat | captain | finnegan | tyler",
           13
          ],
          [
           9,
           "stooge | droopy | curly | elaine | bedford",
           10
          ]
         ],
         "hovertemplate": "<b>Topic %{customdata[0]}</b><br>%{customdata[1]}<br>Size: %{customdata[2]}",
         "legendgroup": "",
         "marker": {
          "color": "#B0BEC5",
          "line": {
           "color": "DarkSlateGrey",
           "width": 2
          },
          "size": [
           202,
           101,
           60,
           53,
           30,
           23,
           23,
           19,
           13,
           10
          ],
          "sizemode": "area",
          "sizeref": 0.12625,
          "symbol": "circle"
         },
         "mode": "markers",
         "name": "",
         "orientation": "v",
         "showlegend": false,
         "type": "scatter",
         "x": [
          7.184916973114014,
          8.310833930969238,
          -1.6589689254760742,
          -0.9464434385299683,
          6.776468276977539,
          -2.0112967491149902,
          8.635822296142578,
          -1.2757030725479126,
          7.682403564453125,
          6.508602142333984
         ],
         "xaxis": "x",
         "y": [
          4.8391032218933105,
          16.091482162475586,
          -5.195116996765137,
          -4.46490478515625,
          4.281673431396484,
          -5.54541015625,
          16.416316986083984,
          -4.797600269317627,
          4.7784295082092285,
          3.88716459274292
         ],
         "yaxis": "y"
        }
       ],
       "layout": {
        "annotations": [
         {
          "showarrow": false,
          "text": "D1",
          "x": -2.3129912614822388,
          "y": 6.2507714271545405,
          "yshift": 10
         },
         {
          "showarrow": false,
          "text": "D2",
          "x": 3.809102189540863,
          "xshift": 10,
          "y": 18.87876453399658
         }
        ],
        "height": 650,
        "hoverlabel": {
         "bgcolor": "white",
         "font": {
          "family": "Rockwell",
          "size": 16
         }
        },
        "legend": {
         "itemsizing": "constant",
         "tracegroupgap": 0
        },
        "margin": {
         "t": 60
        },
        "shapes": [
         {
          "line": {
           "color": "#CFD8DC",
           "width": 2
          },
          "type": "line",
          "x0": 3.809102189540863,
          "x1": 3.809102189540863,
          "y0": -6.3772216796875,
          "y1": 18.87876453399658
         },
         {
          "line": {
           "color": "#9E9E9E",
           "width": 2
          },
          "type": "line",
          "x0": -2.3129912614822388,
          "x1": 9.931195640563965,
          "y0": 6.2507714271545405,
          "y1": 6.2507714271545405
         }
        ],
        "sliders": [
         {
          "active": 0,
          "pad": {
           "t": 50
          },
          "steps": [
           {
            "args": [
             {
              "marker.color": [
               [
                "red",
                "#B0BEC5",
                "#B0BEC5",
                "#B0BEC5",
                "#B0BEC5",
                "#B0BEC5",
                "#B0BEC5",
                "#B0BEC5",
                "#B0BEC5",
                "#B0BEC5"
               ]
              ]
             }
            ],
            "label": "Topic 0",
            "method": "update"
           },
           {
            "args": [
             {
              "marker.color": [
               [
                "#B0BEC5",
                "red",
                "#B0BEC5",
                "#B0BEC5",
                "#B0BEC5",
                "#B0BEC5",
                "#B0BEC5",
                "#B0BEC5",
                "#B0BEC5",
                "#B0BEC5"
               ]
              ]
             }
            ],
            "label": "Topic 1",
            "method": "update"
           },
           {
            "args": [
             {
              "marker.color": [
               [
                "#B0BEC5",
                "#B0BEC5",
                "red",
                "#B0BEC5",
                "#B0BEC5",
                "#B0BEC5",
                "#B0BEC5",
                "#B0BEC5",
                "#B0BEC5",
                "#B0BEC5"
               ]
              ]
             }
            ],
            "label": "Topic 2",
            "method": "update"
           },
           {
            "args": [
             {
              "marker.color": [
               [
                "#B0BEC5",
                "#B0BEC5",
                "#B0BEC5",
                "red",
                "#B0BEC5",
                "#B0BEC5",
                "#B0BEC5",
                "#B0BEC5",
                "#B0BEC5",
                "#B0BEC5"
               ]
              ]
             }
            ],
            "label": "Topic 3",
            "method": "update"
           },
           {
            "args": [
             {
              "marker.color": [
               [
                "#B0BEC5",
                "#B0BEC5",
                "#B0BEC5",
                "#B0BEC5",
                "red",
                "#B0BEC5",
                "#B0BEC5",
                "#B0BEC5",
                "#B0BEC5",
                "#B0BEC5"
               ]
              ]
             }
            ],
            "label": "Topic 4",
            "method": "update"
           },
           {
            "args": [
             {
              "marker.color": [
               [
                "#B0BEC5",
                "#B0BEC5",
                "#B0BEC5",
                "#B0BEC5",
                "#B0BEC5",
                "red",
                "#B0BEC5",
                "#B0BEC5",
                "#B0BEC5",
                "#B0BEC5"
               ]
              ]
             }
            ],
            "label": "Topic 5",
            "method": "update"
           },
           {
            "args": [
             {
              "marker.color": [
               [
                "#B0BEC5",
                "#B0BEC5",
                "#B0BEC5",
                "#B0BEC5",
                "#B0BEC5",
                "#B0BEC5",
                "red",
                "#B0BEC5",
                "#B0BEC5",
                "#B0BEC5"
               ]
              ]
             }
            ],
            "label": "Topic 6",
            "method": "update"
           },
           {
            "args": [
             {
              "marker.color": [
               [
                "#B0BEC5",
                "#B0BEC5",
                "#B0BEC5",
                "#B0BEC5",
                "#B0BEC5",
                "#B0BEC5",
                "#B0BEC5",
                "red",
                "#B0BEC5",
                "#B0BEC5"
               ]
              ]
             }
            ],
            "label": "Topic 7",
            "method": "update"
           },
           {
            "args": [
             {
              "marker.color": [
               [
                "#B0BEC5",
                "#B0BEC5",
                "#B0BEC5",
                "#B0BEC5",
                "#B0BEC5",
                "#B0BEC5",
                "#B0BEC5",
                "#B0BEC5",
                "red",
                "#B0BEC5"
               ]
              ]
             }
            ],
            "label": "Topic 8",
            "method": "update"
           },
           {
            "args": [
             {
              "marker.color": [
               [
                "#B0BEC5",
                "#B0BEC5",
                "#B0BEC5",
                "#B0BEC5",
                "#B0BEC5",
                "#B0BEC5",
                "#B0BEC5",
                "#B0BEC5",
                "#B0BEC5",
                "red"
               ]
              ]
             }
            ],
            "label": "Topic 9",
            "method": "update"
           }
          ]
         }
        ],
        "template": {
         "data": {
          "bar": [
           {
            "error_x": {
             "color": "rgb(36,36,36)"
            },
            "error_y": {
             "color": "rgb(36,36,36)"
            },
            "marker": {
             "line": {
              "color": "white",
              "width": 0.5
             },
             "pattern": {
              "fillmode": "overlay",
              "size": 10,
              "solidity": 0.2
             }
            },
            "type": "bar"
           }
          ],
          "barpolar": [
           {
            "marker": {
             "line": {
              "color": "white",
              "width": 0.5
             },
             "pattern": {
              "fillmode": "overlay",
              "size": 10,
              "solidity": 0.2
             }
            },
            "type": "barpolar"
           }
          ],
          "carpet": [
           {
            "aaxis": {
             "endlinecolor": "rgb(36,36,36)",
             "gridcolor": "white",
             "linecolor": "white",
             "minorgridcolor": "white",
             "startlinecolor": "rgb(36,36,36)"
            },
            "baxis": {
             "endlinecolor": "rgb(36,36,36)",
             "gridcolor": "white",
             "linecolor": "white",
             "minorgridcolor": "white",
             "startlinecolor": "rgb(36,36,36)"
            },
            "type": "carpet"
           }
          ],
          "choropleth": [
           {
            "colorbar": {
             "outlinewidth": 1,
             "tickcolor": "rgb(36,36,36)",
             "ticks": "outside"
            },
            "type": "choropleth"
           }
          ],
          "contour": [
           {
            "colorbar": {
             "outlinewidth": 1,
             "tickcolor": "rgb(36,36,36)",
             "ticks": "outside"
            },
            "colorscale": [
             [
              0,
              "#440154"
             ],
             [
              0.1111111111111111,
              "#482878"
             ],
             [
              0.2222222222222222,
              "#3e4989"
             ],
             [
              0.3333333333333333,
              "#31688e"
             ],
             [
              0.4444444444444444,
              "#26828e"
             ],
             [
              0.5555555555555556,
              "#1f9e89"
             ],
             [
              0.6666666666666666,
              "#35b779"
             ],
             [
              0.7777777777777778,
              "#6ece58"
             ],
             [
              0.8888888888888888,
              "#b5de2b"
             ],
             [
              1,
              "#fde725"
             ]
            ],
            "type": "contour"
           }
          ],
          "contourcarpet": [
           {
            "colorbar": {
             "outlinewidth": 1,
             "tickcolor": "rgb(36,36,36)",
             "ticks": "outside"
            },
            "type": "contourcarpet"
           }
          ],
          "heatmap": [
           {
            "colorbar": {
             "outlinewidth": 1,
             "tickcolor": "rgb(36,36,36)",
             "ticks": "outside"
            },
            "colorscale": [
             [
              0,
              "#440154"
             ],
             [
              0.1111111111111111,
              "#482878"
             ],
             [
              0.2222222222222222,
              "#3e4989"
             ],
             [
              0.3333333333333333,
              "#31688e"
             ],
             [
              0.4444444444444444,
              "#26828e"
             ],
             [
              0.5555555555555556,
              "#1f9e89"
             ],
             [
              0.6666666666666666,
              "#35b779"
             ],
             [
              0.7777777777777778,
              "#6ece58"
             ],
             [
              0.8888888888888888,
              "#b5de2b"
             ],
             [
              1,
              "#fde725"
             ]
            ],
            "type": "heatmap"
           }
          ],
          "heatmapgl": [
           {
            "colorbar": {
             "outlinewidth": 1,
             "tickcolor": "rgb(36,36,36)",
             "ticks": "outside"
            },
            "colorscale": [
             [
              0,
              "#440154"
             ],
             [
              0.1111111111111111,
              "#482878"
             ],
             [
              0.2222222222222222,
              "#3e4989"
             ],
             [
              0.3333333333333333,
              "#31688e"
             ],
             [
              0.4444444444444444,
              "#26828e"
             ],
             [
              0.5555555555555556,
              "#1f9e89"
             ],
             [
              0.6666666666666666,
              "#35b779"
             ],
             [
              0.7777777777777778,
              "#6ece58"
             ],
             [
              0.8888888888888888,
              "#b5de2b"
             ],
             [
              1,
              "#fde725"
             ]
            ],
            "type": "heatmapgl"
           }
          ],
          "histogram": [
           {
            "marker": {
             "line": {
              "color": "white",
              "width": 0.6
             }
            },
            "type": "histogram"
           }
          ],
          "histogram2d": [
           {
            "colorbar": {
             "outlinewidth": 1,
             "tickcolor": "rgb(36,36,36)",
             "ticks": "outside"
            },
            "colorscale": [
             [
              0,
              "#440154"
             ],
             [
              0.1111111111111111,
              "#482878"
             ],
             [
              0.2222222222222222,
              "#3e4989"
             ],
             [
              0.3333333333333333,
              "#31688e"
             ],
             [
              0.4444444444444444,
              "#26828e"
             ],
             [
              0.5555555555555556,
              "#1f9e89"
             ],
             [
              0.6666666666666666,
              "#35b779"
             ],
             [
              0.7777777777777778,
              "#6ece58"
             ],
             [
              0.8888888888888888,
              "#b5de2b"
             ],
             [
              1,
              "#fde725"
             ]
            ],
            "type": "histogram2d"
           }
          ],
          "histogram2dcontour": [
           {
            "colorbar": {
             "outlinewidth": 1,
             "tickcolor": "rgb(36,36,36)",
             "ticks": "outside"
            },
            "colorscale": [
             [
              0,
              "#440154"
             ],
             [
              0.1111111111111111,
              "#482878"
             ],
             [
              0.2222222222222222,
              "#3e4989"
             ],
             [
              0.3333333333333333,
              "#31688e"
             ],
             [
              0.4444444444444444,
              "#26828e"
             ],
             [
              0.5555555555555556,
              "#1f9e89"
             ],
             [
              0.6666666666666666,
              "#35b779"
             ],
             [
              0.7777777777777778,
              "#6ece58"
             ],
             [
              0.8888888888888888,
              "#b5de2b"
             ],
             [
              1,
              "#fde725"
             ]
            ],
            "type": "histogram2dcontour"
           }
          ],
          "mesh3d": [
           {
            "colorbar": {
             "outlinewidth": 1,
             "tickcolor": "rgb(36,36,36)",
             "ticks": "outside"
            },
            "type": "mesh3d"
           }
          ],
          "parcoords": [
           {
            "line": {
             "colorbar": {
              "outlinewidth": 1,
              "tickcolor": "rgb(36,36,36)",
              "ticks": "outside"
             }
            },
            "type": "parcoords"
           }
          ],
          "pie": [
           {
            "automargin": true,
            "type": "pie"
           }
          ],
          "scatter": [
           {
            "fillpattern": {
             "fillmode": "overlay",
             "size": 10,
             "solidity": 0.2
            },
            "type": "scatter"
           }
          ],
          "scatter3d": [
           {
            "line": {
             "colorbar": {
              "outlinewidth": 1,
              "tickcolor": "rgb(36,36,36)",
              "ticks": "outside"
             }
            },
            "marker": {
             "colorbar": {
              "outlinewidth": 1,
              "tickcolor": "rgb(36,36,36)",
              "ticks": "outside"
             }
            },
            "type": "scatter3d"
           }
          ],
          "scattercarpet": [
           {
            "marker": {
             "colorbar": {
              "outlinewidth": 1,
              "tickcolor": "rgb(36,36,36)",
              "ticks": "outside"
             }
            },
            "type": "scattercarpet"
           }
          ],
          "scattergeo": [
           {
            "marker": {
             "colorbar": {
              "outlinewidth": 1,
              "tickcolor": "rgb(36,36,36)",
              "ticks": "outside"
             }
            },
            "type": "scattergeo"
           }
          ],
          "scattergl": [
           {
            "marker": {
             "colorbar": {
              "outlinewidth": 1,
              "tickcolor": "rgb(36,36,36)",
              "ticks": "outside"
             }
            },
            "type": "scattergl"
           }
          ],
          "scattermapbox": [
           {
            "marker": {
             "colorbar": {
              "outlinewidth": 1,
              "tickcolor": "rgb(36,36,36)",
              "ticks": "outside"
             }
            },
            "type": "scattermapbox"
           }
          ],
          "scatterpolar": [
           {
            "marker": {
             "colorbar": {
              "outlinewidth": 1,
              "tickcolor": "rgb(36,36,36)",
              "ticks": "outside"
             }
            },
            "type": "scatterpolar"
           }
          ],
          "scatterpolargl": [
           {
            "marker": {
             "colorbar": {
              "outlinewidth": 1,
              "tickcolor": "rgb(36,36,36)",
              "ticks": "outside"
             }
            },
            "type": "scatterpolargl"
           }
          ],
          "scatterternary": [
           {
            "marker": {
             "colorbar": {
              "outlinewidth": 1,
              "tickcolor": "rgb(36,36,36)",
              "ticks": "outside"
             }
            },
            "type": "scatterternary"
           }
          ],
          "surface": [
           {
            "colorbar": {
             "outlinewidth": 1,
             "tickcolor": "rgb(36,36,36)",
             "ticks": "outside"
            },
            "colorscale": [
             [
              0,
              "#440154"
             ],
             [
              0.1111111111111111,
              "#482878"
             ],
             [
              0.2222222222222222,
              "#3e4989"
             ],
             [
              0.3333333333333333,
              "#31688e"
             ],
             [
              0.4444444444444444,
              "#26828e"
             ],
             [
              0.5555555555555556,
              "#1f9e89"
             ],
             [
              0.6666666666666666,
              "#35b779"
             ],
             [
              0.7777777777777778,
              "#6ece58"
             ],
             [
              0.8888888888888888,
              "#b5de2b"
             ],
             [
              1,
              "#fde725"
             ]
            ],
            "type": "surface"
           }
          ],
          "table": [
           {
            "cells": {
             "fill": {
              "color": "rgb(237,237,237)"
             },
             "line": {
              "color": "white"
             }
            },
            "header": {
             "fill": {
              "color": "rgb(217,217,217)"
             },
             "line": {
              "color": "white"
             }
            },
            "type": "table"
           }
          ]
         },
         "layout": {
          "annotationdefaults": {
           "arrowhead": 0,
           "arrowwidth": 1
          },
          "autotypenumbers": "strict",
          "coloraxis": {
           "colorbar": {
            "outlinewidth": 1,
            "tickcolor": "rgb(36,36,36)",
            "ticks": "outside"
           }
          },
          "colorscale": {
           "diverging": [
            [
             0,
             "rgb(103,0,31)"
            ],
            [
             0.1,
             "rgb(178,24,43)"
            ],
            [
             0.2,
             "rgb(214,96,77)"
            ],
            [
             0.3,
             "rgb(244,165,130)"
            ],
            [
             0.4,
             "rgb(253,219,199)"
            ],
            [
             0.5,
             "rgb(247,247,247)"
            ],
            [
             0.6,
             "rgb(209,229,240)"
            ],
            [
             0.7,
             "rgb(146,197,222)"
            ],
            [
             0.8,
             "rgb(67,147,195)"
            ],
            [
             0.9,
             "rgb(33,102,172)"
            ],
            [
             1,
             "rgb(5,48,97)"
            ]
           ],
           "sequential": [
            [
             0,
             "#440154"
            ],
            [
             0.1111111111111111,
             "#482878"
            ],
            [
             0.2222222222222222,
             "#3e4989"
            ],
            [
             0.3333333333333333,
             "#31688e"
            ],
            [
             0.4444444444444444,
             "#26828e"
            ],
            [
             0.5555555555555556,
             "#1f9e89"
            ],
            [
             0.6666666666666666,
             "#35b779"
            ],
            [
             0.7777777777777778,
             "#6ece58"
            ],
            [
             0.8888888888888888,
             "#b5de2b"
            ],
            [
             1,
             "#fde725"
            ]
           ],
           "sequentialminus": [
            [
             0,
             "#440154"
            ],
            [
             0.1111111111111111,
             "#482878"
            ],
            [
             0.2222222222222222,
             "#3e4989"
            ],
            [
             0.3333333333333333,
             "#31688e"
            ],
            [
             0.4444444444444444,
             "#26828e"
            ],
            [
             0.5555555555555556,
             "#1f9e89"
            ],
            [
             0.6666666666666666,
             "#35b779"
            ],
            [
             0.7777777777777778,
             "#6ece58"
            ],
            [
             0.8888888888888888,
             "#b5de2b"
            ],
            [
             1,
             "#fde725"
            ]
           ]
          },
          "colorway": [
           "#1F77B4",
           "#FF7F0E",
           "#2CA02C",
           "#D62728",
           "#9467BD",
           "#8C564B",
           "#E377C2",
           "#7F7F7F",
           "#BCBD22",
           "#17BECF"
          ],
          "font": {
           "color": "rgb(36,36,36)"
          },
          "geo": {
           "bgcolor": "white",
           "lakecolor": "white",
           "landcolor": "white",
           "showlakes": true,
           "showland": true,
           "subunitcolor": "white"
          },
          "hoverlabel": {
           "align": "left"
          },
          "hovermode": "closest",
          "mapbox": {
           "style": "light"
          },
          "paper_bgcolor": "white",
          "plot_bgcolor": "white",
          "polar": {
           "angularaxis": {
            "gridcolor": "rgb(232,232,232)",
            "linecolor": "rgb(36,36,36)",
            "showgrid": false,
            "showline": true,
            "ticks": "outside"
           },
           "bgcolor": "white",
           "radialaxis": {
            "gridcolor": "rgb(232,232,232)",
            "linecolor": "rgb(36,36,36)",
            "showgrid": false,
            "showline": true,
            "ticks": "outside"
           }
          },
          "scene": {
           "xaxis": {
            "backgroundcolor": "white",
            "gridcolor": "rgb(232,232,232)",
            "gridwidth": 2,
            "linecolor": "rgb(36,36,36)",
            "showbackground": true,
            "showgrid": false,
            "showline": true,
            "ticks": "outside",
            "zeroline": false,
            "zerolinecolor": "rgb(36,36,36)"
           },
           "yaxis": {
            "backgroundcolor": "white",
            "gridcolor": "rgb(232,232,232)",
            "gridwidth": 2,
            "linecolor": "rgb(36,36,36)",
            "showbackground": true,
            "showgrid": false,
            "showline": true,
            "ticks": "outside",
            "zeroline": false,
            "zerolinecolor": "rgb(36,36,36)"
           },
           "zaxis": {
            "backgroundcolor": "white",
            "gridcolor": "rgb(232,232,232)",
            "gridwidth": 2,
            "linecolor": "rgb(36,36,36)",
            "showbackground": true,
            "showgrid": false,
            "showline": true,
            "ticks": "outside",
            "zeroline": false,
            "zerolinecolor": "rgb(36,36,36)"
           }
          },
          "shapedefaults": {
           "fillcolor": "black",
           "line": {
            "width": 0
           },
           "opacity": 0.3
          },
          "ternary": {
           "aaxis": {
            "gridcolor": "rgb(232,232,232)",
            "linecolor": "rgb(36,36,36)",
            "showgrid": false,
            "showline": true,
            "ticks": "outside"
           },
           "baxis": {
            "gridcolor": "rgb(232,232,232)",
            "linecolor": "rgb(36,36,36)",
            "showgrid": false,
            "showline": true,
            "ticks": "outside"
           },
           "bgcolor": "white",
           "caxis": {
            "gridcolor": "rgb(232,232,232)",
            "linecolor": "rgb(36,36,36)",
            "showgrid": false,
            "showline": true,
            "ticks": "outside"
           }
          },
          "title": {
           "x": 0.05
          },
          "xaxis": {
           "automargin": true,
           "gridcolor": "rgb(232,232,232)",
           "linecolor": "rgb(36,36,36)",
           "showgrid": false,
           "showline": true,
           "ticks": "outside",
           "title": {
            "standoff": 15
           },
           "zeroline": false,
           "zerolinecolor": "rgb(36,36,36)"
          },
          "yaxis": {
           "automargin": true,
           "gridcolor": "rgb(232,232,232)",
           "linecolor": "rgb(36,36,36)",
           "showgrid": false,
           "showline": true,
           "ticks": "outside",
           "title": {
            "standoff": 15
           },
           "zeroline": false,
           "zerolinecolor": "rgb(36,36,36)"
          }
         }
        },
        "title": {
         "font": {
          "color": "Black",
          "size": 22
         },
         "text": "<b>Intertopic Distance Map</b>",
         "x": 0.5,
         "xanchor": "center",
         "y": 0.95,
         "yanchor": "top"
        },
        "width": 650,
        "xaxis": {
         "anchor": "y",
         "domain": [
          0,
          1
         ],
         "range": [
          -2.3129912614822388,
          9.931195640563965
         ],
         "title": {
          "text": ""
         },
         "visible": false
        },
        "yaxis": {
         "anchor": "x",
         "domain": [
          0,
          1
         ],
         "range": [
          -6.3772216796875,
          18.87876453399658
         ],
         "title": {
          "text": ""
         },
         "visible": false
        }
       }
      }
     },
     "metadata": {},
     "output_type": "display_data"
    }
   ],
   "source": [
    "# Display the topics\n",
    "topic_info = topic_model.get_topic_info()\n",
    "print(topic_info)\n",
    "\n",
    "# Visualize the topics\n",
    "topic_model.visualize_topics()"
   ]
  },
  {
   "cell_type": "code",
   "execution_count": null,
   "metadata": {},
   "outputs": [],
   "source": []
  }
 ],
 "metadata": {
  "kernelspec": {
   "display_name": "ada",
   "language": "python",
   "name": "python3"
  },
  "language_info": {
   "codemirror_mode": {
    "name": "ipython",
    "version": 3
   },
   "file_extension": ".py",
   "mimetype": "text/x-python",
   "name": "python",
   "nbconvert_exporter": "python",
   "pygments_lexer": "ipython3",
   "version": "3.8.20"
  }
 },
 "nbformat": 4,
 "nbformat_minor": 2
}
