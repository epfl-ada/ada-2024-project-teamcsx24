{
 "cells": [
  {
   "cell_type": "markdown",
   "metadata": {},
   "source": [
    "# I. Studying the international careers of actors"
   ]
  },
  {
   "cell_type": "markdown",
   "metadata": {},
   "source": [
    "The goal of this part is to see whether actors tend to have more international careers. The final goal of this part is to plot a map of the world in which two countries are linked by an edge if an actor has played in those two countries. The size of the edges will depend on the number of actors.\n",
    "\n",
    "This plot will allow us to see how the number of connections evolved and to look for the eventual emergence of clusters."
   ]
  },
  {
   "cell_type": "markdown",
   "metadata": {},
   "source": [
    "## 1. Analysis of the data on actors who have an international career"
   ]
  },
  {
   "cell_type": "markdown",
   "metadata": {},
   "source": [
    "For this first analysis, we started by looking only at the single productions and excluding co-productions. \n",
    "\n",
    "It seems that co-productions are the initiatives of the productors and not of the actors. Therefore, they do not really reflect the movements of population associated with globalization. Indeed, if an american actor played in an americano-indian movie, it cannot really be considered as an international career. Moreover, one single co-production involves a lot of actors which might completely drawn the data from single productions.\n",
    "\n",
    "In this process, we might loose a bit of information about actors who participated in co-production that did not include their country of origin and otherwise never performed abroad. However, the amount of co-productions in the dataset is quite small so our analysis will remain relevant."
   ]
  },
  {
   "cell_type": "code",
   "execution_count": 28,
   "metadata": {},
   "outputs": [],
   "source": [
    "import pandas as pd\n",
    "import numpy as np\n",
    "import matplotlib.pyplot as plt\n",
    "import seaborn as sns"
   ]
  },
  {
   "cell_type": "code",
   "execution_count": 29,
   "metadata": {},
   "outputs": [],
   "source": [
    "#importing df\n",
    "data_folder = '../../data/cleanData/'\n",
    "df_characters = pd.read_csv(data_folder + 'characters_cleaned.csv')\n",
    "df_movies = movies_df = pd.read_csv(data_folder + 'movies_cleaned.csv')"
   ]
  },
  {
   "cell_type": "code",
   "execution_count": 33,
   "metadata": {},
   "outputs": [
    {
     "ename": "AttributeError",
     "evalue": "module 'populationScripts' has no attribute 'createSingleProdDf'",
     "output_type": "error",
     "traceback": [
      "\u001b[1;31m---------------------------------------------------------------------------\u001b[0m",
      "\u001b[1;31mAttributeError\u001b[0m                            Traceback (most recent call last)",
      "Cell \u001b[1;32mIn[33], line 8\u001b[0m\n\u001b[0;32m      4\u001b[0m sys\u001b[38;5;241m.\u001b[39mpath\u001b[38;5;241m.\u001b[39mappend(\u001b[38;5;124m'\u001b[39m\u001b[38;5;124m../scripts\u001b[39m\u001b[38;5;124m'\u001b[39m)\n\u001b[0;32m      6\u001b[0m \u001b[38;5;28;01mimport\u001b[39;00m \u001b[38;5;21;01mpopulationScripts\u001b[39;00m \u001b[38;5;28;01mas\u001b[39;00m \u001b[38;5;21;01mps\u001b[39;00m      \u001b[38;5;66;03m# Import the function that processes the data for this study\u001b[39;00m\n\u001b[1;32m----> 8\u001b[0m df_single_prod \u001b[38;5;241m=\u001b[39m ps\u001b[38;5;241m.\u001b[39mcreateSingleProdDf()\n\u001b[0;32m      9\u001b[0m df_single_prod\u001b[38;5;241m.\u001b[39mhead()\n",
      "\u001b[1;31mAttributeError\u001b[0m: module 'populationScripts' has no attribute 'createSingleProdDf'"
     ]
    }
   ],
   "source": [
    "# Creating a dataframe that contains only lines associated with single production movies\n",
    "\n",
    "import sys\n",
    "sys.path.append('../scripts')\n",
    "\n",
    "import populationScripts as ps      # Import the function that processes the data for this study\n",
    "\n",
    "df_single_prod = ps.createSingleProdDf()\n",
    "df_single_prod.head()"
   ]
  },
  {
   "cell_type": "code",
   "execution_count": null,
   "metadata": {},
   "outputs": [],
   "source": [
    "#comparison between the total number of movies and the number of co-productions\n",
    "print(ps.comparisonSingleCoProd())"
   ]
  },
  {
   "cell_type": "markdown",
   "metadata": {},
   "source": [
    "The number of movies resulting from co-productions is quite small, which confirms that our analysis using only single-productions is relevant"
   ]
  },
  {
   "cell_type": "code",
   "execution_count": null,
   "metadata": {},
   "outputs": [],
   "source": [
    "# Plot showing the number of countries in which actors have played\n",
    "\n",
    "number_countries_per_actor = ps.numberCountriesPerActor()\n",
    "\n",
    "#let's plot the result\n",
    "plt.hist(number_countries_per_actor, log=True)\n",
    "plt.xlabel('number of countries per actor')\n",
    "plt.ylabel('counts')\n",
    "plt.title('Repartition of the number of countries per actor')\n",
    "plt.show()"
   ]
  },
  {
   "cell_type": "markdown",
   "metadata": {},
   "source": [
    "This plot shows that there is a significant number of actors who played in several countries. It is relevant to study them"
   ]
  },
  {
   "cell_type": "code",
   "execution_count": null,
   "metadata": {},
   "outputs": [],
   "source": [
    "# dataframe containing only the international actors\n",
    "# statistics on the number of actors and the number of countries that will be involved in our final graph"
   ]
  },
  {
   "cell_type": "markdown",
   "metadata": {},
   "source": [
    "## 2. Feasibility of the graph"
   ]
  },
  {
   "cell_type": "markdown",
   "metadata": {},
   "source": [
    "The final goal of this part is to plot a map of the world in which two countries are linked by an edge if an actor has played in those two countries.\n",
    "\n",
    "To study the feasibility of this goal, we used networkx to see if the realization of a graph with our data was feasible and relevant."
   ]
  },
  {
   "cell_type": "code",
   "execution_count": null,
   "metadata": {},
   "outputs": [],
   "source": [
    "# first visualization as a graph"
   ]
  },
  {
   "cell_type": "markdown",
   "metadata": {},
   "source": [
    "Plotting a graph seems feasible. However several steps remain before obtaining the final version :\n",
    "\n",
    "- Our first graph includes all the years. We should separate the data per year\n",
    "- Making the plot interactive \n",
    "- Using a dictionary to add the names of the countries\n",
    "- Linking the countries with the ones from the geopanda library to plot the graph as a map"
   ]
  }
 ],
 "metadata": {
  "kernelspec": {
   "display_name": "ada",
   "language": "python",
   "name": "python3"
  },
  "language_info": {
   "codemirror_mode": {
    "name": "ipython",
    "version": 3
   },
   "file_extension": ".py",
   "mimetype": "text/x-python",
   "name": "python",
   "nbconvert_exporter": "python",
   "pygments_lexer": "ipython3",
   "version": "3.11.9"
  }
 },
 "nbformat": 4,
 "nbformat_minor": 2
}
