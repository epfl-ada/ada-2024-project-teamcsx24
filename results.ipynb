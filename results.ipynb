{
 "cells": [
  {
   "cell_type": "markdown",
   "metadata": {},
   "source": [
    "# Initial analysis"
   ]
  },
  {
   "cell_type": "code",
   "execution_count": null,
   "metadata": {},
   "outputs": [],
   "source": [
    "# Modules to import\n",
    "import sys\n",
    "import pandas as pd\n",
    "import matplotlib.pyplot as plt\n",
    "import ast\n",
    "import numpy as np\n",
    "import seaborn as sns"
   ]
  },
  {
   "cell_type": "markdown",
   "metadata": {},
   "source": [
    "### Data preprocessing : Original data"
   ]
  },
  {
   "cell_type": "code",
   "execution_count": null,
   "metadata": {},
   "outputs": [
    {
     "name": "stdout",
     "output_type": "stream",
     "text": [
      "Movies successfully loaded\n",
      "Characters successfully loaded\n",
      "Clusters successfully loaded\n",
      "Summaries successfully loaded\n",
      "Dates successfully converted\n",
      "Build of countries dictionnary...\n",
      "Build of languages dictionnary...\n",
      "Build of genres dictionnary...\n",
      "Build of actors dictionnary...\n",
      "Build of character dictionnary...\n",
      "Build of movies dictionnary...\n",
      "Dictionnaries successfully saved\n",
      "Saved movies_cleaned to data/cleanData/movies_cleaned.csv\n",
      "Saved characters_cleaned to data/cleanData/characters_cleaned.csv\n",
      "Saved character_clusters_cleaned to data/cleanData/character_clusters_cleaned.csv\n",
      "Saved summaries_cleaned to data/cleanData/summaries_cleaned.csv\n",
      "Datasets successfully saved\n",
      "Data cleaning successfully done\n"
     ]
    }
   ],
   "source": [
    "# Execute dataCleaning.py\n",
    "# This script create dictionaries of freebase_id, convert date to datetime object, transform our columns\n",
    "\n",
    "#%run src/scripts/dataCleaning.py"
   ]
  },
  {
   "cell_type": "code",
   "execution_count": 2,
   "metadata": {},
   "outputs": [],
   "source": [
    "# Import dataloader function\n",
    "path = 'src/data'\n",
    "sys.path.append(path)\n",
    "from dataLoader import loadDataframe"
   ]
  },
  {
   "cell_type": "code",
   "execution_count": 3,
   "metadata": {},
   "outputs": [
    {
     "name": "stderr",
     "output_type": "stream",
     "text": [
      "c:\\Users\\Oscar\\Project ADA\\ada-2024-project-teamcsx24\\src/data\\dataLoader.py:10: FutureWarning: DataFrame.applymap has been deprecated. Use DataFrame.map instead.\n",
      "  df[columns_to_convert] = df[columns_to_convert].applymap(eval)\n"
     ]
    }
   ],
   "source": [
    "# Load data\n",
    "path_to_directory = 'data/cleanData/'\n",
    "df_movies = loadDataframe('movies', path_to_directory)\n",
    "df_characters = loadDataframe('characters', path_to_directory)\n",
    "df_clusters = loadDataframe('clusters', path_to_directory)\n",
    "df_summaries = loadDataframe('summaries', path_to_directory)"
   ]
  },
  {
   "cell_type": "markdown",
   "metadata": {},
   "source": [
    "### Data statistics overview"
   ]
  },
  {
   "cell_type": "code",
   "execution_count": 3,
   "metadata": {},
   "outputs": [
    {
     "ename": "NameError",
     "evalue": "name 'df_movies' is not defined",
     "output_type": "error",
     "traceback": [
      "\u001b[1;31m---------------------------------------------------------------------------\u001b[0m",
      "\u001b[1;31mNameError\u001b[0m                                 Traceback (most recent call last)",
      "Cell \u001b[1;32mIn[3], line 1\u001b[0m\n\u001b[1;32m----> 1\u001b[0m \u001b[38;5;28mprint\u001b[39m(df_movies\u001b[38;5;241m.\u001b[39minfo())\n",
      "\u001b[1;31mNameError\u001b[0m: name 'df_movies' is not defined"
     ]
    }
   ],
   "source": [
    "print(df_movies.info())"
   ]
  },
  {
   "cell_type": "code",
   "execution_count": 5,
   "metadata": {},
   "outputs": [
    {
     "data": {
      "text/html": [
       "<div>\n",
       "<style scoped>\n",
       "    .dataframe tbody tr th:only-of-type {\n",
       "        vertical-align: middle;\n",
       "    }\n",
       "\n",
       "    .dataframe tbody tr th {\n",
       "        vertical-align: top;\n",
       "    }\n",
       "\n",
       "    .dataframe thead th {\n",
       "        text-align: right;\n",
       "    }\n",
       "</style>\n",
       "<table border=\"1\" class=\"dataframe\">\n",
       "  <thead>\n",
       "    <tr style=\"text-align: right;\">\n",
       "      <th></th>\n",
       "      <th>wiki_id</th>\n",
       "      <th>revenue</th>\n",
       "      <th>runtime</th>\n",
       "    </tr>\n",
       "  </thead>\n",
       "  <tbody>\n",
       "    <tr>\n",
       "      <th>count</th>\n",
       "      <td>8.174100e+04</td>\n",
       "      <td>8.401000e+03</td>\n",
       "      <td>6.129100e+04</td>\n",
       "    </tr>\n",
       "    <tr>\n",
       "      <th>mean</th>\n",
       "      <td>1.740784e+07</td>\n",
       "      <td>4.799363e+07</td>\n",
       "      <td>1.118192e+02</td>\n",
       "    </tr>\n",
       "    <tr>\n",
       "      <th>std</th>\n",
       "      <td>1.098791e+07</td>\n",
       "      <td>1.121753e+08</td>\n",
       "      <td>4.360070e+03</td>\n",
       "    </tr>\n",
       "    <tr>\n",
       "      <th>min</th>\n",
       "      <td>3.300000e+02</td>\n",
       "      <td>1.000000e+04</td>\n",
       "      <td>0.000000e+00</td>\n",
       "    </tr>\n",
       "    <tr>\n",
       "      <th>25%</th>\n",
       "      <td>7.323695e+06</td>\n",
       "      <td>2.083193e+06</td>\n",
       "      <td>8.100000e+01</td>\n",
       "    </tr>\n",
       "    <tr>\n",
       "      <th>50%</th>\n",
       "      <td>1.777899e+07</td>\n",
       "      <td>1.063969e+07</td>\n",
       "      <td>9.300000e+01</td>\n",
       "    </tr>\n",
       "    <tr>\n",
       "      <th>75%</th>\n",
       "      <td>2.715573e+07</td>\n",
       "      <td>4.071696e+07</td>\n",
       "      <td>1.060000e+02</td>\n",
       "    </tr>\n",
       "    <tr>\n",
       "      <th>max</th>\n",
       "      <td>3.750192e+07</td>\n",
       "      <td>2.782275e+09</td>\n",
       "      <td>1.079281e+06</td>\n",
       "    </tr>\n",
       "  </tbody>\n",
       "</table>\n",
       "</div>"
      ],
      "text/plain": [
       "            wiki_id       revenue       runtime\n",
       "count  8.174100e+04  8.401000e+03  6.129100e+04\n",
       "mean   1.740784e+07  4.799363e+07  1.118192e+02\n",
       "std    1.098791e+07  1.121753e+08  4.360070e+03\n",
       "min    3.300000e+02  1.000000e+04  0.000000e+00\n",
       "25%    7.323695e+06  2.083193e+06  8.100000e+01\n",
       "50%    1.777899e+07  1.063969e+07  9.300000e+01\n",
       "75%    2.715573e+07  4.071696e+07  1.060000e+02\n",
       "max    3.750192e+07  2.782275e+09  1.079281e+06"
      ]
     },
     "execution_count": 5,
     "metadata": {},
     "output_type": "execute_result"
    }
   ],
   "source": [
    "df_movies.describe()"
   ]
  },
  {
   "cell_type": "code",
   "execution_count": null,
   "metadata": {},
   "outputs": [
    {
     "data": {
      "text/plain": [
       "wiki_id                  0.000000\n",
       "freebase_id              0.000000\n",
       "original_title           0.000000\n",
       "release_date             0.084437\n",
       "revenue                  0.897224\n",
       "runtime                  0.250180\n",
       "languages                0.000000\n",
       "countries                0.000000\n",
       "genres                   0.000000\n",
       "countries_freebase_id    0.000000\n",
       "languages_freebase_id    0.000000\n",
       "genres_freebase_id       0.000000\n",
       "dtype: float64"
      ]
     },
     "execution_count": 11,
     "metadata": {},
     "output_type": "execute_result"
    }
   ],
   "source": [
    "# Non null values proportion\n",
    "df_movies.isnull().mean()"
   ]
  },
  {
   "cell_type": "markdown",
   "metadata": {},
   "source": [
    "The features that we are interested in are the following:\n",
    "- 'release_date' : more than 80% of the movies have a release date\n",
    "- 'genre' : 100% of the movies have a genre\n",
    "- 'countries' : 100% of the movies have a country\n",
    "- 'languages' : 100% of the movies have a language\n",
    "\n",
    "So we have a large amount of non null values that we can use to make our analysis. "
   ]
  },
  {
   "cell_type": "code",
   "execution_count": 16,
   "metadata": {},
   "outputs": [
    {
     "ename": "ModuleNotFoundError",
     "evalue": "No module named 'matplotlib_venn'",
     "output_type": "error",
     "traceback": [
      "\u001b[1;31m---------------------------------------------------------------------------\u001b[0m",
      "\u001b[1;31mModuleNotFoundError\u001b[0m                       Traceback (most recent call last)",
      "Cell \u001b[1;32mIn[16], line 1\u001b[0m\n\u001b[1;32m----> 1\u001b[0m \u001b[38;5;28;01mfrom\u001b[39;00m \u001b[38;5;21;01mmatplotlib_venn\u001b[39;00m \u001b[38;5;28;01mimport\u001b[39;00m venn2\n\u001b[0;32m      3\u001b[0m \u001b[38;5;28;01mdef\u001b[39;00m \u001b[38;5;21mintersectionWikiId\u001b[39m(df1, df2, name1, name2, id_column\u001b[38;5;241m=\u001b[39m\u001b[38;5;124m'\u001b[39m\u001b[38;5;124mid\u001b[39m\u001b[38;5;124m'\u001b[39m):\n\u001b[0;32m      4\u001b[0m     \u001b[38;5;66;03m# Ids extraction from each DataFrame\u001b[39;00m\n\u001b[0;32m      5\u001b[0m     ids1 \u001b[38;5;241m=\u001b[39m \u001b[38;5;28mset\u001b[39m(df1[id_column]\u001b[38;5;241m.\u001b[39munique())\n",
      "\u001b[1;31mModuleNotFoundError\u001b[0m: No module named 'matplotlib_venn'"
     ]
    }
   ],
   "source": [
    "from matplotlib_venn import venn2\n",
    "\n",
    "def intersectionWikiId(df1, df2, name1, name2, id_column='id'):\n",
    "    # Ids extraction from each DataFrame\n",
    "    ids1 = set(df1[id_column].unique())\n",
    "    ids2 = set(df2[id_column].unique())\n",
    "    \n",
    "    # Compute intersection and differences\n",
    "    intersection = ids1 & ids2\n",
    "    only_df1 = ids1 - ids2\n",
    "    only_df2 = ids2 - ids1\n",
    "    \n",
    "    # Count elements\n",
    "    count_intersection = len(intersection)\n",
    "    count_only_df1 = len(only_df1)\n",
    "    count_only_df2 = len(only_df2)\n",
    "    total = count_intersection + count_only_df1 + count_only_df2\n",
    "\n",
    "    # Venn diagram\n",
    "    venn = venn2(subsets=(1, 1, 1), set_labels=(name1, name2))\n",
    "    \n",
    "    # Add counts\n",
    "    venn.get_label_by_id('10').set_text(f'{count_only_df1}')\n",
    "    venn.get_label_by_id('01').set_text(f'{count_only_df2}')\n",
    "    venn.get_label_by_id('11').set_text(f'{count_intersection}')\n",
    "    \n",
    "    plt.title(\"Intersection between \" + name1 + \" and \" + name2)\n",
    "    plt.show()"
   ]
  },
  {
   "cell_type": "code",
   "execution_count": 13,
   "metadata": {},
   "outputs": [
    {
     "ename": "NameError",
     "evalue": "name 'intersectionWikiId' is not defined",
     "output_type": "error",
     "traceback": [
      "\u001b[1;31m---------------------------------------------------------------------------\u001b[0m",
      "\u001b[1;31mNameError\u001b[0m                                 Traceback (most recent call last)",
      "Cell \u001b[1;32mIn[13], line 1\u001b[0m\n\u001b[1;32m----> 1\u001b[0m \u001b[43mintersectionWikiId\u001b[49m(df_movies, df_characters, \u001b[38;5;124m'\u001b[39m\u001b[38;5;124mMovies\u001b[39m\u001b[38;5;124m'\u001b[39m, \u001b[38;5;124m'\u001b[39m\u001b[38;5;124mCharacters\u001b[39m\u001b[38;5;124m'\u001b[39m, id_column\u001b[38;5;241m=\u001b[39m\u001b[38;5;124m'\u001b[39m\u001b[38;5;124mwiki_id\u001b[39m\u001b[38;5;124m'\u001b[39m)\n",
      "\u001b[1;31mNameError\u001b[0m: name 'intersectionWikiId' is not defined"
     ]
    }
   ],
   "source": [
    "intersectionWikiId(df_movies, df_characters, 'Movies', 'Characters', id_column='wiki_id')"
   ]
  },
  {
   "cell_type": "markdown",
   "metadata": {},
   "source": [
    "### Economics"
   ]
  },
  {
   "cell_type": "code",
   "execution_count": null,
   "metadata": {},
   "outputs": [],
   "source": []
  },
  {
   "cell_type": "markdown",
   "metadata": {},
   "source": [
    "### Culture"
   ]
  },
  {
   "cell_type": "markdown",
   "metadata": {},
   "source": [
    "Topic modelling"
   ]
  },
  {
   "cell_type": "code",
   "execution_count": null,
   "metadata": {},
   "outputs": [],
   "source": [
    "intersectionWikiId(df_movies, df_summaries, 'Movies', 'Summaries', id_column='wiki_id')"
   ]
  },
  {
   "cell_type": "code",
   "execution_count": null,
   "metadata": {},
   "outputs": [],
   "source": []
  },
  {
   "cell_type": "markdown",
   "metadata": {},
   "source": [
    "# Theme Study for Cultural Influence Analysis"
   ]
  },
  {
   "cell_type": "code",
   "execution_count": null,
   "metadata": {},
   "outputs": [
    {
     "data": {
      "text/html": [
       "<div>\n",
       "<style scoped>\n",
       "    .dataframe tbody tr th:only-of-type {\n",
       "        vertical-align: middle;\n",
       "    }\n",
       "\n",
       "    .dataframe tbody tr th {\n",
       "        vertical-align: top;\n",
       "    }\n",
       "\n",
       "    .dataframe thead th {\n",
       "        text-align: right;\n",
       "    }\n",
       "</style>\n",
       "<table border=\"1\" class=\"dataframe\">\n",
       "  <thead>\n",
       "    <tr style=\"text-align: right;\">\n",
       "      <th></th>\n",
       "      <th>Country</th>\n",
       "      <th>US_Term_Count</th>\n",
       "      <th>Number of movies</th>\n",
       "      <th>Influence_score</th>\n",
       "      <th>log_number_of_movies</th>\n",
       "      <th>World_region</th>\n",
       "    </tr>\n",
       "  </thead>\n",
       "  <tbody>\n",
       "    <tr>\n",
       "      <th>0</th>\n",
       "      <td>France</td>\n",
       "      <td>531</td>\n",
       "      <td>2297</td>\n",
       "      <td>0.231171</td>\n",
       "      <td>7.739359</td>\n",
       "      <td>Europe</td>\n",
       "    </tr>\n",
       "    <tr>\n",
       "      <th>1</th>\n",
       "      <td>Soviet Union</td>\n",
       "      <td>30</td>\n",
       "      <td>255</td>\n",
       "      <td>0.117647</td>\n",
       "      <td>5.541264</td>\n",
       "      <td>Eastern Europe and Central Asia</td>\n",
       "    </tr>\n",
       "    <tr>\n",
       "      <th>2</th>\n",
       "      <td>Russia</td>\n",
       "      <td>18</td>\n",
       "      <td>217</td>\n",
       "      <td>0.082949</td>\n",
       "      <td>5.379897</td>\n",
       "      <td>Eastern Europe and Central Asia</td>\n",
       "    </tr>\n",
       "    <tr>\n",
       "      <th>3</th>\n",
       "      <td>United States of America</td>\n",
       "      <td>7657</td>\n",
       "      <td>20789</td>\n",
       "      <td>0.368320</td>\n",
       "      <td>9.942179</td>\n",
       "      <td>North America</td>\n",
       "    </tr>\n",
       "    <tr>\n",
       "      <th>4</th>\n",
       "      <td>India</td>\n",
       "      <td>262</td>\n",
       "      <td>4752</td>\n",
       "      <td>0.055135</td>\n",
       "      <td>8.466321</td>\n",
       "      <td>South Asia</td>\n",
       "    </tr>\n",
       "  </tbody>\n",
       "</table>\n",
       "</div>"
      ],
      "text/plain": [
       "                    Country  US_Term_Count  Number of movies  Influence_score  \\\n",
       "0                    France            531              2297         0.231171   \n",
       "1              Soviet Union             30               255         0.117647   \n",
       "2                    Russia             18               217         0.082949   \n",
       "3  United States of America           7657             20789         0.368320   \n",
       "4                     India            262              4752         0.055135   \n",
       "\n",
       "   log_number_of_movies                     World_region  \n",
       "0              7.739359                           Europe  \n",
       "1              5.541264  Eastern Europe and Central Asia  \n",
       "2              5.379897  Eastern Europe and Central Asia  \n",
       "3              9.942179                    North America  \n",
       "4              8.466321                       South Asia  "
      ]
     },
     "metadata": {},
     "output_type": "display_data"
    }
   ],
   "source": [
    "import sys\n",
    "sys.path.append('../scripts')\n",
    "\n",
    "from scriptculture import process_data_us_influence          # Import the function that processes the data for this study\n",
    "\n",
    "df_us_influence = process_data_us_influence()\n",
    "df_us_influence.head()"
   ]
  },
  {
   "cell_type": "markdown",
   "metadata": {},
   "source": [
    "For this analysis, we identified a list of typically american words. We then search for this words occurences in the different summaries. We then grouped the results by countries.\n",
    "\n",
    "The processed dataset that we'll use for this analyse is completed with the features :\n",
    " - US_Term_Count : Number of us terms found in the movies from each country\n",
    " - Number of movies : number of movies in each country\n",
    " - Influence score : ratio of US_Term_Count/Number of movies\n",
    " - World_region : Geographical cluster that we identified \n"
   ]
  },
  {
   "cell_type": "code",
   "execution_count": null,
   "metadata": {},
   "outputs": [
    {
     "data": {
      "text/plain": [
       "<module 'scriptculture' from 'c:\\\\Users\\\\Oscar\\\\Project ADA\\\\ada-2024-project-teamcsx24\\\\src\\\\models\\\\../scripts\\\\scriptculture.py'>"
      ]
     },
     "metadata": {},
     "output_type": "display_data"
    }
   ],
   "source": [
    "from importlib import reload\n",
    "import scriptculture\n",
    "reload(scriptculture)"
   ]
  },
  {
   "cell_type": "code",
   "execution_count": null,
   "metadata": {},
   "outputs": [
    {
     "data": {
      "text/html": [
       "<div>\n",
       "<style scoped>\n",
       "    .dataframe tbody tr th:only-of-type {\n",
       "        vertical-align: middle;\n",
       "    }\n",
       "\n",
       "    .dataframe tbody tr th {\n",
       "        vertical-align: top;\n",
       "    }\n",
       "\n",
       "    .dataframe thead th {\n",
       "        text-align: right;\n",
       "    }\n",
       "</style>\n",
       "<table border=\"1\" class=\"dataframe\">\n",
       "  <thead>\n",
       "    <tr style=\"text-align: right;\">\n",
       "      <th></th>\n",
       "      <th>US_Term_Count</th>\n",
       "      <th>Number of movies</th>\n",
       "      <th>ratio</th>\n",
       "      <th>log_number_of_movies</th>\n",
       "    </tr>\n",
       "  </thead>\n",
       "  <tbody>\n",
       "    <tr>\n",
       "      <th>count</th>\n",
       "      <td>147.000000</td>\n",
       "      <td>147.000000</td>\n",
       "      <td>147.000000</td>\n",
       "      <td>147.000000</td>\n",
       "    </tr>\n",
       "    <tr>\n",
       "      <th>mean</th>\n",
       "      <td>85.088435</td>\n",
       "      <td>321.510204</td>\n",
       "      <td>0.147156</td>\n",
       "      <td>3.290563</td>\n",
       "    </tr>\n",
       "    <tr>\n",
       "      <th>std</th>\n",
       "      <td>639.985937</td>\n",
       "      <td>1797.950894</td>\n",
       "      <td>0.230474</td>\n",
       "      <td>1.925694</td>\n",
       "    </tr>\n",
       "    <tr>\n",
       "      <th>min</th>\n",
       "      <td>0.000000</td>\n",
       "      <td>2.000000</td>\n",
       "      <td>0.000000</td>\n",
       "      <td>0.693147</td>\n",
       "    </tr>\n",
       "    <tr>\n",
       "      <th>25%</th>\n",
       "      <td>0.000000</td>\n",
       "      <td>6.000000</td>\n",
       "      <td>0.000000</td>\n",
       "      <td>1.791759</td>\n",
       "    </tr>\n",
       "    <tr>\n",
       "      <th>50%</th>\n",
       "      <td>2.000000</td>\n",
       "      <td>17.000000</td>\n",
       "      <td>0.090909</td>\n",
       "      <td>2.833213</td>\n",
       "    </tr>\n",
       "    <tr>\n",
       "      <th>75%</th>\n",
       "      <td>14.000000</td>\n",
       "      <td>101.000000</td>\n",
       "      <td>0.202210</td>\n",
       "      <td>4.615121</td>\n",
       "    </tr>\n",
       "    <tr>\n",
       "      <th>max</th>\n",
       "      <td>7657.000000</td>\n",
       "      <td>20789.000000</td>\n",
       "      <td>2.000000</td>\n",
       "      <td>9.942179</td>\n",
       "    </tr>\n",
       "  </tbody>\n",
       "</table>\n",
       "</div>"
      ],
      "text/plain": [
       "       US_Term_Count  Number of movies       ratio  log_number_of_movies\n",
       "count     147.000000        147.000000  147.000000            147.000000\n",
       "mean       85.088435        321.510204    0.147156              3.290563\n",
       "std       639.985937       1797.950894    0.230474              1.925694\n",
       "min         0.000000          2.000000    0.000000              0.693147\n",
       "25%         0.000000          6.000000    0.000000              1.791759\n",
       "50%         2.000000         17.000000    0.090909              2.833213\n",
       "75%        14.000000        101.000000    0.202210              4.615121\n",
       "max      7657.000000      20789.000000    2.000000              9.942179"
      ]
     },
     "metadata": {},
     "output_type": "display_data"
    }
   ],
   "source": [
    "df_us_influence.describe()"
   ]
  },
  {
   "cell_type": "code",
   "execution_count": null,
   "metadata": {},
   "outputs": [
    {
     "data": {
      "image/png": "[encoded data removed]",
      "text/plain": [
       "<Figure size 1000x600 with 1 Axes>"
      ]
     },
     "metadata": {},
     "output_type": "display_data"
    }
   ],
   "source": [
    "import matplotlib.pyplot as plt\n",
    "import numpy as np\n",
    "\n",
    "plt.figure(figsize=(10, 6))\n",
    "plt.scatter(\n",
    "    df_us_influence['log_number_of_movies'], \n",
    "    df_us_influence['Influence_score'], \n",
    "    color='blue', \n",
    "    alpha=0.6\n",
    ")\n",
    "#add the linear regression line\n",
    "z = np.polyfit(df_us_influence['log_number_of_movies'], df_us_influence['Influence_score'], 1)\n",
    "p = np.poly1d(z)\n",
    "plt.plot(df_us_influence['log_number_of_movies'],p(df_us_influence['log_number_of_movies']),\"r-\")\n",
    "plt.title('Scatter plot of Influence Score vs log(Number of Movies)')\n",
    "plt.xlabel('log Number of Movies')\n",
    "plt.ylabel('Influence Score')\n",
    "\n",
    "plt.show()"
   ]
  },
  {
   "cell_type": "markdown",
   "metadata": {},
   "source": [
    "Too Many small countries with few films, resulting in a high standard deviation (more than 6 times the average term count) and not relevant linear regression, clustering was necessary. The first clustering that seemed the most logical to us was geographical clustering.\n"
   ]
  },
  {
   "cell_type": "code",
   "execution_count": null,
   "metadata": {},
   "outputs": [
    {
     "name": "stderr",
     "output_type": "stream",
     "text": [
      "C:\\Users\\Oscar\\AppData\\Local\\Temp\\ipykernel_25812\\3488935404.py:8: FutureWarning: \n",
      "\n",
      "Passing `palette` without assigning `hue` is deprecated and will be removed in v0.14.0. Assign the `x` variable to `hue` and set `legend=False` for the same effect.\n",
      "\n",
      "  sns.boxplot(x='World_region', y='Influence_score', data=df_us_influence, order=median_order, palette=sns.color_palette(\"husl\"))\n",
      "C:\\Users\\Oscar\\AppData\\Local\\Temp\\ipykernel_25812\\3488935404.py:8: UserWarning: \n",
      "The palette list has fewer values (6) than needed (10) and will cycle, which may produce an uninterpretable plot.\n",
      "  sns.boxplot(x='World_region', y='Influence_score', data=df_us_influence, order=median_order, palette=sns.color_palette(\"husl\"))\n"
     ]
    },
    {
     "data": {
      "image/png": "[encoded data removed]",
      "text/plain": [
       "<Figure size 1200x600 with 1 Axes>"
      ]
     },
     "metadata": {},
     "output_type": "display_data"
    }
   ],
   "source": [
    "import seaborn as sns\n",
    "\n",
    "plt.figure(figsize=(12, 6))\n",
    "# Sort by median ratio\n",
    "median_order = df_us_influence.groupby('World_region')['Influence_score'].median().sort_values().index\n",
    "\n",
    "# Create the boxplot with the sorted order\n",
    "sns.boxplot(x='World_region', y='Influence_score', data=df_us_influence, order=median_order, palette=sns.color_palette(\"husl\"))\n",
    "plt.title('Distribution of Influence_score by world_region')\n",
    "plt.xlabel('world region')\n",
    "plt.ylabel('Influence_score')\n",
    "\n",
    "\n",
    "plt.xticks(rotation=45)  \n",
    "plt.tight_layout()\n",
    "plt.show()"
   ]
  },
  {
   "cell_type": "code",
   "execution_count": null,
   "metadata": {},
   "outputs": [
    {
     "data": {
      "text/html": [
       "<div>\n",
       "<style scoped>\n",
       "    .dataframe tbody tr th:only-of-type {\n",
       "        vertical-align: middle;\n",
       "    }\n",
       "\n",
       "    .dataframe tbody tr th {\n",
       "        vertical-align: top;\n",
       "    }\n",
       "\n",
       "    .dataframe thead th {\n",
       "        text-align: right;\n",
       "    }\n",
       "</style>\n",
       "<table border=\"1\" class=\"dataframe\">\n",
       "  <thead>\n",
       "    <tr style=\"text-align: right;\">\n",
       "      <th></th>\n",
       "      <th>count</th>\n",
       "      <th>mean</th>\n",
       "      <th>std</th>\n",
       "      <th>min</th>\n",
       "      <th>25%</th>\n",
       "      <th>50%</th>\n",
       "      <th>75%</th>\n",
       "      <th>max</th>\n",
       "    </tr>\n",
       "    <tr>\n",
       "      <th>World_region</th>\n",
       "      <th></th>\n",
       "      <th></th>\n",
       "      <th></th>\n",
       "      <th></th>\n",
       "      <th></th>\n",
       "      <th></th>\n",
       "      <th></th>\n",
       "      <th></th>\n",
       "    </tr>\n",
       "  </thead>\n",
       "  <tbody>\n",
       "    <tr>\n",
       "      <th>Africa</th>\n",
       "      <td>17.0</td>\n",
       "      <td>0.087246</td>\n",
       "      <td>0.094800</td>\n",
       "      <td>0.000000</td>\n",
       "      <td>0.000000</td>\n",
       "      <td>0.060606</td>\n",
       "      <td>0.159091</td>\n",
       "      <td>0.323529</td>\n",
       "    </tr>\n",
       "    <tr>\n",
       "      <th>East and Southeast Asia</th>\n",
       "      <td>13.0</td>\n",
       "      <td>0.128948</td>\n",
       "      <td>0.128923</td>\n",
       "      <td>0.000000</td>\n",
       "      <td>0.036145</td>\n",
       "      <td>0.113580</td>\n",
       "      <td>0.162602</td>\n",
       "      <td>0.500000</td>\n",
       "    </tr>\n",
       "    <tr>\n",
       "      <th>Eastern Europe and Central Asia</th>\n",
       "      <td>9.0</td>\n",
       "      <td>0.038162</td>\n",
       "      <td>0.059185</td>\n",
       "      <td>0.000000</td>\n",
       "      <td>0.000000</td>\n",
       "      <td>0.000000</td>\n",
       "      <td>0.082949</td>\n",
       "      <td>0.142857</td>\n",
       "    </tr>\n",
       "    <tr>\n",
       "      <th>Europe</th>\n",
       "      <td>42.0</td>\n",
       "      <td>0.161546</td>\n",
       "      <td>0.148088</td>\n",
       "      <td>0.000000</td>\n",
       "      <td>0.065202</td>\n",
       "      <td>0.127815</td>\n",
       "      <td>0.224474</td>\n",
       "      <td>0.666667</td>\n",
       "    </tr>\n",
       "    <tr>\n",
       "      <th>Middle East</th>\n",
       "      <td>11.0</td>\n",
       "      <td>0.209803</td>\n",
       "      <td>0.309140</td>\n",
       "      <td>0.000000</td>\n",
       "      <td>0.000000</td>\n",
       "      <td>0.147368</td>\n",
       "      <td>0.222656</td>\n",
       "      <td>1.000000</td>\n",
       "    </tr>\n",
       "    <tr>\n",
       "      <th>North America</th>\n",
       "      <td>10.0</td>\n",
       "      <td>0.448792</td>\n",
       "      <td>0.611118</td>\n",
       "      <td>0.000000</td>\n",
       "      <td>0.148810</td>\n",
       "      <td>0.236722</td>\n",
       "      <td>0.344772</td>\n",
       "      <td>2.000000</td>\n",
       "    </tr>\n",
       "    <tr>\n",
       "      <th>Oceania</th>\n",
       "      <td>2.0</td>\n",
       "      <td>0.173358</td>\n",
       "      <td>0.057340</td>\n",
       "      <td>0.132812</td>\n",
       "      <td>0.153085</td>\n",
       "      <td>0.173358</td>\n",
       "      <td>0.193631</td>\n",
       "      <td>0.213904</td>\n",
       "    </tr>\n",
       "    <tr>\n",
       "      <th>Other</th>\n",
       "      <td>29.0</td>\n",
       "      <td>0.065831</td>\n",
       "      <td>0.123967</td>\n",
       "      <td>0.000000</td>\n",
       "      <td>0.000000</td>\n",
       "      <td>0.000000</td>\n",
       "      <td>0.035714</td>\n",
       "      <td>0.363636</td>\n",
       "    </tr>\n",
       "    <tr>\n",
       "      <th>South America</th>\n",
       "      <td>8.0</td>\n",
       "      <td>0.182935</td>\n",
       "      <td>0.086291</td>\n",
       "      <td>0.101215</td>\n",
       "      <td>0.124561</td>\n",
       "      <td>0.135632</td>\n",
       "      <td>0.253289</td>\n",
       "      <td>0.333333</td>\n",
       "    </tr>\n",
       "    <tr>\n",
       "      <th>South Asia</th>\n",
       "      <td>6.0</td>\n",
       "      <td>0.138157</td>\n",
       "      <td>0.262465</td>\n",
       "      <td>0.000000</td>\n",
       "      <td>0.000000</td>\n",
       "      <td>0.027567</td>\n",
       "      <td>0.094141</td>\n",
       "      <td>0.666667</td>\n",
       "    </tr>\n",
       "  </tbody>\n",
       "</table>\n",
       "</div>"
      ],
      "text/plain": [
       "                                 count      mean       std       min  \\\n",
       "World_region                                                           \n",
       "Africa                            17.0  0.087246  0.094800  0.000000   \n",
       "East and Southeast Asia           13.0  0.128948  0.128923  0.000000   \n",
       "Eastern Europe and Central Asia    9.0  0.038162  0.059185  0.000000   \n",
       "Europe                            42.0  0.161546  0.148088  0.000000   \n",
       "Middle East                       11.0  0.209803  0.309140  0.000000   \n",
       "North America                     10.0  0.448792  0.611118  0.000000   \n",
       "Oceania                            2.0  0.173358  0.057340  0.132812   \n",
       "Other                             29.0  0.065831  0.123967  0.000000   \n",
       "South America                      8.0  0.182935  0.086291  0.101215   \n",
       "South Asia                         6.0  0.138157  0.262465  0.000000   \n",
       "\n",
       "                                      25%       50%       75%       max  \n",
       "World_region                                                             \n",
       "Africa                           0.000000  0.060606  0.159091  0.323529  \n",
       "East and Southeast Asia          0.036145  0.113580  0.162602  0.500000  \n",
       "Eastern Europe and Central Asia  0.000000  0.000000  0.082949  0.142857  \n",
       "Europe                           0.065202  0.127815  0.224474  0.666667  \n",
       "Middle East                      0.000000  0.147368  0.222656  1.000000  \n",
       "North America                    0.148810  0.236722  0.344772  2.000000  \n",
       "Oceania                          0.153085  0.173358  0.193631  0.213904  \n",
       "Other                            0.000000  0.000000  0.035714  0.363636  \n",
       "South America                    0.124561  0.135632  0.253289  0.333333  \n",
       "South Asia                       0.000000  0.027567  0.094141  0.666667  "
      ]
     },
     "metadata": {},
     "output_type": "display_data"
    }
   ],
   "source": [
    "df_us_influence.groupby('World_region')['Influence_score'].describe() #Checking the uniformity of the clusters regarding our feature"
   ]
  },
  {
   "cell_type": "markdown",
   "metadata": {},
   "source": [
    "The geographical clusters are not very uniform (2 countries for Oceania vs 42 for Europe), and not homogeneous regarding the ratio feature. Indeed, we observe a high standard deviation in each country. This cluster is very interesting in term of interpretability but we should consider another clustering method to solve these issues.\n",
    "\n",
    "Areas for improvement for this study:\n",
    "\n",
    " - The identification of US-related terms could be enhanced, either manually or through more advanced techniques. We have begun exploring Natural Language Processing (NLP) methods that could assist with this task and even enable us to assess the influence of each country on others based on the themes present in the film summaries. We started to look at Transformer from HuggingFace and Spacy that could be used for this task\n",
    "\n",
    " - The current geographical clustering may not be optimal due to its lack of uniformity and the high variance in the ratios. To address this, we plan to experiment with clustering algorithms like KNN or centroids (as we can define an euclidian distance with the ratio) to achieve more homogeneous,uniform and interpretable clusters.\n",
    "\n",
    "\n"
   ]
  },
  {
   "cell_type": "markdown",
   "metadata": {},
   "source": [
    "## NLP methods utilization"
   ]
  },
  {
   "cell_type": "code",
   "execution_count": null,
   "metadata": {},
   "outputs": [
    {
     "name": "stdout",
     "output_type": "stream",
     "text": [
      "['Paris', 'Spain']\n"
     ]
    }
   ],
   "source": [
    "import spacy\n",
    "\n",
    "nlp = spacy.load(\"en_core_web_sm\")\n",
    "\n",
    "#Summary example\n",
    "resume = \"The character travels through the streets of Paris, facing challenges that test his courage. He then fly straight to Spain\"\n",
    "\n",
    "# We apply the NLP model to the summary\n",
    "doc = nlp(resume)\n",
    "\n",
    "# Extract the geographical entities from the summary\n",
    "pays_detectes = [ent.text for ent in doc.ents if ent.label_ == \"GPE\"]  # GPE = Geopolitical Entity\n",
    "\n",
    "print(pays_detectes)"
   ]
  },
  {
   "cell_type": "markdown",
   "metadata": {},
   "source": [
    "We will expand our analysis by exploring the influence of specific cities or countries on movie themes. One approach would be to create an additional influence feature based on the frequency of mentions of cities or countries in the movie summaries. This would allow us to quantify the impact of these locations on the themes, potentially revealing patterns of cultural influence or regional trends within the film industry."
   ]
  },
  {
   "cell_type": "code",
   "execution_count": null,
   "metadata": {},
   "outputs": [
    {
     "name": "stderr",
     "output_type": "stream",
     "text": [
      "No model was supplied, defaulted to facebook/bart-large-mnli and revision d7645e1 (https://huggingface.co/facebook/bart-large-mnli).\n",
      "Using a pipeline without specifying a model name and revision in production is not recommended.\n"
     ]
    },
    {
     "data": {
      "text/html": [
       "<div>\n",
       "<style scoped>\n",
       "    .dataframe tbody tr th:only-of-type {\n",
       "        vertical-align: middle;\n",
       "    }\n",
       "\n",
       "    .dataframe tbody tr th {\n",
       "        vertical-align: top;\n",
       "    }\n",
       "\n",
       "    .dataframe thead th {\n",
       "        text-align: right;\n",
       "    }\n",
       "</style>\n",
       "<table border=\"1\" class=\"dataframe\">\n",
       "  <thead>\n",
       "    <tr style=\"text-align: right;\">\n",
       "      <th></th>\n",
       "      <th>Label</th>\n",
       "      <th>Score</th>\n",
       "    </tr>\n",
       "  </thead>\n",
       "  <tbody>\n",
       "    <tr>\n",
       "      <th>0</th>\n",
       "      <td>Germany</td>\n",
       "      <td>0.887495</td>\n",
       "    </tr>\n",
       "    <tr>\n",
       "      <th>1</th>\n",
       "      <td>India</td>\n",
       "      <td>0.043266</td>\n",
       "    </tr>\n",
       "    <tr>\n",
       "      <th>2</th>\n",
       "      <td>France</td>\n",
       "      <td>0.041677</td>\n",
       "    </tr>\n",
       "    <tr>\n",
       "      <th>3</th>\n",
       "      <td>United States</td>\n",
       "      <td>0.027562</td>\n",
       "    </tr>\n",
       "  </tbody>\n",
       "</table>\n",
       "</div>"
      ],
      "text/plain": [
       "           Label     Score\n",
       "0        Germany  0.887495\n",
       "1          India  0.043266\n",
       "2         France  0.041677\n",
       "3  United States  0.027562"
      ]
     },
     "metadata": {},
     "output_type": "display_data"
    }
   ],
   "source": [
    "from transformers import pipeline\n",
    "\n",
    "# Here we use the zero-shot-classification pipeline\n",
    "nlp = pipeline(\"zero-shot-classification\")\n",
    "\n",
    "# movie summary example\n",
    "resume = \"Five men attend the same gym in Berlin. None of them seem to have anything in common, but all five have not enough confidence to meet or develop relationships with the opposite sex, and what it really means to be a man or what women expect of them. Günther Stobanski, portrayed by Christian Ulmen, fails with Internet dating, music producer Jerome Ades, portrayed by Til Schweiger, passes from a sentimental break-up story to another. Roland Feldberg, a train driver portrayed by Wotan Wilke Möhring, snubs his wife Susanne Feldberg portrayed by Nadja Uhl. The girlfriend of Philip Henrion, portrayed by Maxim Mehmet, becomes pregnant at a young age. Niklas Michalke, a solicitor portrayed by Florian David Fitz, is terrified by his impending marriage, while Bruce Berger, a singer portrayed by Justus von Dohnányi, tries to pursue his singing career.\"\n",
    "\n",
    "# Here we define the label (countries in our case)\n",
    "labels = [\"United States\", \"France\", \"India\", \"Germany\"]\n",
    "\n",
    "result = nlp(resume, candidate_labels=labels)\n",
    "\n",
    "# The result is a dataframe with the labels and their respective scores\n",
    "df_result = pd.DataFrame(list(zip(result['labels'], result['scores'])), columns=['Label', 'Score'])\n",
    "\n",
    "df_result.head()"
   ]
  },
  {
   "cell_type": "markdown",
   "metadata": {},
   "source": [
    "The function classifies the movie summary by calculating the likelihood that represent the probability that the events in the movie take place in a specific country, using a pre-trained zero-shot model. This means the model doesn't need to be retrained on the specific countries, as it has already learned general language patterns and can apply them to this kinf of task.\n",
    "\n",
    "This second approach can be very useful for enriching our analysis about cultural influence, especially by applying a threshold to filter the results, which adds depth to the explanations. We will also evaluate the model's performance by testing precision, recall, and accuracy across several labeled summaries. Additionally, experimenting with different thresholds when displaying the results could provide further insights. The F-score could also be a valuable metric to assess the balance between precision and recall."
   ]
  },
  {
   "cell_type": "markdown",
   "metadata": {},
   "source": [
    "# Character Study for Cultural Influence Analysis"
   ]
  },
  {
   "cell_type": "code",
   "execution_count": null,
   "metadata": {},
   "outputs": [
    {
     "data": {
      "text/html": [
       "<div>\n",
       "<style scoped>\n",
       "    .dataframe tbody tr th:only-of-type {\n",
       "        vertical-align: middle;\n",
       "    }\n",
       "\n",
       "    .dataframe tbody tr th {\n",
       "        vertical-align: top;\n",
       "    }\n",
       "\n",
       "    .dataframe thead th {\n",
       "        text-align: right;\n",
       "    }\n",
       "</style>\n",
       "<table border=\"1\" class=\"dataframe\">\n",
       "  <thead>\n",
       "    <tr style=\"text-align: right;\">\n",
       "      <th></th>\n",
       "      <th>Character</th>\n",
       "      <th>character_actor_freebase_id</th>\n",
       "      <th>actor_name</th>\n",
       "      <th>first_movie_name</th>\n",
       "      <th>first_apperance_date</th>\n",
       "      <th>origin_country</th>\n",
       "      <th>all_countries</th>\n",
       "      <th>number_countries</th>\n",
       "    </tr>\n",
       "  </thead>\n",
       "  <tbody>\n",
       "    <tr>\n",
       "      <th>0</th>\n",
       "      <td>'Baby' Louise</td>\n",
       "      <td>/m/0c0lv89</td>\n",
       "      <td>Diane Pace</td>\n",
       "      <td>Gypsy</td>\n",
       "      <td>1962-01-01</td>\n",
       "      <td>[United States of America]</td>\n",
       "      <td>[United States of America]</td>\n",
       "      <td>1</td>\n",
       "    </tr>\n",
       "    <tr>\n",
       "      <th>1</th>\n",
       "      <td>ACP Jai Dixit</td>\n",
       "      <td>/m/0220_c2</td>\n",
       "      <td>Abhishek Bachchan</td>\n",
       "      <td>Dhoom</td>\n",
       "      <td>2004-08-27</td>\n",
       "      <td>[India]</td>\n",
       "      <td>[India]</td>\n",
       "      <td>1</td>\n",
       "    </tr>\n",
       "    <tr>\n",
       "      <th>2</th>\n",
       "      <td>Abigail Chase</td>\n",
       "      <td>/m/0k14v6</td>\n",
       "      <td>Diane Kruger</td>\n",
       "      <td>National Treasure</td>\n",
       "      <td>2004-11-08</td>\n",
       "      <td>[United States of America]</td>\n",
       "      <td>[United States of America]</td>\n",
       "      <td>1</td>\n",
       "    </tr>\n",
       "    <tr>\n",
       "      <th>3</th>\n",
       "      <td>Abraham Lincoln</td>\n",
       "      <td>/m/0k89pf</td>\n",
       "      <td>Henry Fonda</td>\n",
       "      <td>Young Mr. Lincoln</td>\n",
       "      <td>1939-01-01</td>\n",
       "      <td>[United States of America]</td>\n",
       "      <td>[United States of America]</td>\n",
       "      <td>1</td>\n",
       "    </tr>\n",
       "    <tr>\n",
       "      <th>4</th>\n",
       "      <td>Abraham Van Helsing</td>\n",
       "      <td>/m/0jxjsg</td>\n",
       "      <td>Edward Van Sloan</td>\n",
       "      <td>Dracula</td>\n",
       "      <td>1931-02-12</td>\n",
       "      <td>[United States of America]</td>\n",
       "      <td>[United States of America, United Kingdom, Spa...</td>\n",
       "      <td>4</td>\n",
       "    </tr>\n",
       "  </tbody>\n",
       "</table>\n",
       "</div>"
      ],
      "text/plain": [
       "             Character character_actor_freebase_id         actor_name  \\\n",
       "0        'Baby' Louise                  /m/0c0lv89         Diane Pace   \n",
       "1        ACP Jai Dixit                  /m/0220_c2  Abhishek Bachchan   \n",
       "2        Abigail Chase                   /m/0k14v6       Diane Kruger   \n",
       "3      Abraham Lincoln                   /m/0k89pf        Henry Fonda   \n",
       "4  Abraham Van Helsing                   /m/0jxjsg   Edward Van Sloan   \n",
       "\n",
       "    first_movie_name first_apperance_date              origin_country  \\\n",
       "0              Gypsy           1962-01-01  [United States of America]   \n",
       "1              Dhoom           2004-08-27                     [India]   \n",
       "2  National Treasure           2004-11-08  [United States of America]   \n",
       "3  Young Mr. Lincoln           1939-01-01  [United States of America]   \n",
       "4            Dracula           1931-02-12  [United States of America]   \n",
       "\n",
       "                                       all_countries  number_countries  \n",
       "0                         [United States of America]                 1  \n",
       "1                                            [India]                 1  \n",
       "2                         [United States of America]                 1  \n",
       "3                         [United States of America]                 1  \n",
       "4  [United States of America, United Kingdom, Spa...                 4  "
      ]
     },
     "metadata": {},
     "output_type": "display_data"
    }
   ],
   "source": [
    "import sys\n",
    "sys.path.append('../scripts')\n",
    "\n",
    "from process_data import process_data_character          # Import the function that processes the data for this study\n",
    "\n",
    "df_character_influence = process_data_character()\n",
    "df_character_influence.head()"
   ]
  },
  {
   "cell_type": "markdown",
   "metadata": {},
   "source": [
    "For this analysis, we grouped the characters that appeared in different countries (from the character_cluster database). \n",
    "\n",
    "The processed dataset that we'll use for this analyse is completed with the features :\n",
    " - first_movie_name : The first movie in which the character appeared\n",
    " - first_apperance_date : The date of release of the first movie \n",
    " - origin_country : The country of the first movie\n",
    " - all_countries : the countries of origin of all the movies in which the character has appeared \n",
    " - number_countries : count of all_countries\n"
   ]
  },
  {
   "cell_type": "code",
   "execution_count": null,
   "metadata": {},
   "outputs": [
    {
     "data": {
      "text/html": [
       "<div>\n",
       "<style scoped>\n",
       "    .dataframe tbody tr th:only-of-type {\n",
       "        vertical-align: middle;\n",
       "    }\n",
       "\n",
       "    .dataframe tbody tr th {\n",
       "        vertical-align: top;\n",
       "    }\n",
       "\n",
       "    .dataframe thead th {\n",
       "        text-align: right;\n",
       "    }\n",
       "</style>\n",
       "<table border=\"1\" class=\"dataframe\">\n",
       "  <thead>\n",
       "    <tr style=\"text-align: right;\">\n",
       "      <th></th>\n",
       "      <th>number_countries</th>\n",
       "    </tr>\n",
       "  </thead>\n",
       "  <tbody>\n",
       "    <tr>\n",
       "      <th>count</th>\n",
       "      <td>970.000000</td>\n",
       "    </tr>\n",
       "    <tr>\n",
       "      <th>mean</th>\n",
       "      <td>1.797938</td>\n",
       "    </tr>\n",
       "    <tr>\n",
       "      <th>std</th>\n",
       "      <td>1.161116</td>\n",
       "    </tr>\n",
       "    <tr>\n",
       "      <th>min</th>\n",
       "      <td>0.000000</td>\n",
       "    </tr>\n",
       "    <tr>\n",
       "      <th>25%</th>\n",
       "      <td>1.000000</td>\n",
       "    </tr>\n",
       "    <tr>\n",
       "      <th>50%</th>\n",
       "      <td>1.000000</td>\n",
       "    </tr>\n",
       "    <tr>\n",
       "      <th>75%</th>\n",
       "      <td>2.000000</td>\n",
       "    </tr>\n",
       "    <tr>\n",
       "      <th>max</th>\n",
       "      <td>8.000000</td>\n",
       "    </tr>\n",
       "  </tbody>\n",
       "</table>\n",
       "</div>"
      ],
      "text/plain": [
       "       number_countries\n",
       "count        970.000000\n",
       "mean           1.797938\n",
       "std            1.161116\n",
       "min            0.000000\n",
       "25%            1.000000\n",
       "50%            1.000000\n",
       "75%            2.000000\n",
       "max            8.000000"
      ]
     },
     "metadata": {},
     "output_type": "display_data"
    }
   ],
   "source": [
    "df_character_influence.describe()"
   ]
  },
  {
   "cell_type": "markdown",
   "metadata": {},
   "source": [
    "970 characters appear in multiple films; on average, they appear in 1.8 different countries. They feature in up to 8 different films. Let's look at the distribution of the number of countries"
   ]
  },
  {
   "cell_type": "code",
   "execution_count": null,
   "metadata": {},
   "outputs": [
    {
     "data": {
      "image/png": "[encoded data removed]",
      "text/plain": [
       "<Figure size 800x600 with 1 Axes>"
      ]
     },
     "metadata": {},
     "output_type": "display_data"
    }
   ],
   "source": [
    "plt.figure(figsize=(8, 6))\n",
    "sns.histplot(df_character_influence['number_countries'], kde=False, bins=20)\n",
    "\n",
    "plt.title('Distribution of the Number of Countries Where Characters Appear')\n",
    "plt.xlabel('Number of Countries')\n",
    "plt.ylabel('Frequency')\n",
    "\n",
    "plt.show()"
   ]
  },
  {
   "cell_type": "code",
   "execution_count": null,
   "metadata": {},
   "outputs": [
    {
     "name": "stdout",
     "output_type": "stream",
     "text": [
      "Character                      428\n",
      "character_actor_freebase_id    428\n",
      "actor_name                     428\n",
      "first_movie_name               428\n",
      "first_apperance_date           428\n",
      "origin_country                 428\n",
      "all_countries                  428\n",
      "number_countries               428\n",
      "dtype: int64\n",
      "number of influence point to be given : 774\n"
     ]
    }
   ],
   "source": [
    "print(df_character_influence[df_character_influence['number_countries'] > 1].count()) #Number of characters that appear in more than one country\n",
    "print(\"number of influence point to be given :\",df_character_influence['number_countries'].sum()-970) #Number of influence point to be given"
   ]
  },
  {
   "cell_type": "markdown",
   "metadata": {},
   "source": [
    "Of the 970 characters, 428 appear in movies produced across different countries, which is not a large sample. We will keep this in mind as we test the significance of our study.\n",
    "\n",
    "For each character appearing in a movie produced by a different country, we will assign 1 influence point to the character's origin country. This results in a total of 774 points being assigned.\n",
    "\n",
    "A major concern that remains is whether the method of taking the first movie appearance as the origin country of a character is reliable.\n",
    "\n",
    "Let's test this with the character that appears in movies produced in the most countries."
   ]
  },
  {
   "cell_type": "code",
   "execution_count": null,
   "metadata": {},
   "outputs": [
    {
     "data": {
      "text/html": [
       "<div>\n",
       "<style scoped>\n",
       "    .dataframe tbody tr th:only-of-type {\n",
       "        vertical-align: middle;\n",
       "    }\n",
       "\n",
       "    .dataframe tbody tr th {\n",
       "        vertical-align: top;\n",
       "    }\n",
       "\n",
       "    .dataframe thead th {\n",
       "        text-align: right;\n",
       "    }\n",
       "</style>\n",
       "<table border=\"1\" class=\"dataframe\">\n",
       "  <thead>\n",
       "    <tr style=\"text-align: right;\">\n",
       "      <th></th>\n",
       "      <th>Character</th>\n",
       "      <th>character_actor_freebase_id</th>\n",
       "      <th>actor_name</th>\n",
       "      <th>first_movie_name</th>\n",
       "      <th>first_apperance_date</th>\n",
       "      <th>origin_country</th>\n",
       "      <th>all_countries</th>\n",
       "      <th>number_countries</th>\n",
       "    </tr>\n",
       "  </thead>\n",
       "  <tbody>\n",
       "    <tr>\n",
       "      <th>120</th>\n",
       "      <td>Cardinal Richelieu</td>\n",
       "      <td>/m/02vbtwv</td>\n",
       "      <td>Charlton Heston</td>\n",
       "      <td>The Three Musketeers</td>\n",
       "      <td>1973-01-01</td>\n",
       "      <td>[United States of America, Spain, United Kingdom]</td>\n",
       "      <td>[Australia, Spain, Austria, Panama, United Sta...</td>\n",
       "      <td>8</td>\n",
       "    </tr>\n",
       "  </tbody>\n",
       "</table>\n",
       "</div>"
      ],
      "text/plain": [
       "              Character character_actor_freebase_id       actor_name  \\\n",
       "120  Cardinal Richelieu                  /m/02vbtwv  Charlton Heston   \n",
       "\n",
       "         first_movie_name first_apperance_date  \\\n",
       "120  The Three Musketeers           1973-01-01   \n",
       "\n",
       "                                        origin_country  \\\n",
       "120  [United States of America, Spain, United Kingdom]   \n",
       "\n",
       "                                         all_countries  number_countries  \n",
       "120  [Australia, Spain, Austria, Panama, United Sta...                 8  "
      ]
     },
     "metadata": {},
     "output_type": "display_data"
    }
   ],
   "source": [
    "#find the character that appear in 8 countries and show all the origin countries one by one\n",
    "\n",
    "df_character_influence[df_character_influence['number_countries'] == 8].head()"
   ]
  },
  {
   "cell_type": "markdown",
   "metadata": {},
   "source": [
    "The character appearing in productions from the most different countries is Cardinal Richelieu (French origin). However, with our initial method, the influence points would not have been distributed to France but to UK, US and Spain.\n",
    "\n",
    "This analysis drives us to explore other methods for identifying character origins. One possibility is to leverage Natural Language Processing (NLP) models, such as spaCy to analyze movie summaries geographical terms and better determine the character's origin. \n",
    "\n",
    "Additionally, using embedding models like Hugging Face transformers could help identify implicit relationships within the movie summaries and find where the history of the movie take place and deduct the characters origin from this."
   ]
  },
  {
   "cell_type": "markdown",
   "metadata": {},
   "source": [
    "### Population"
   ]
  },
  {
   "cell_type": "code",
   "execution_count": null,
   "metadata": {},
   "outputs": [],
   "source": []
  },
  {
   "cell_type": "markdown",
   "metadata": {},
   "source": [
    "# I. Studying the international careers of actors"
   ]
  },
  {
   "cell_type": "markdown",
   "metadata": {},
   "source": [
    "The goal of this part is to see whether actors tend to have more international careers. The final goal of this part is to plot a map of the world in which two countries are linked by an edge if an actor has played in those two countries. The size of the edges will depend on the number of actors.\n",
    "\n",
    "This plot will allow us to see how the number of connections evolved and to look for the eventual emergence of clusters."
   ]
  },
  {
   "cell_type": "markdown",
   "metadata": {},
   "source": [
    "## 1. Analysis of the data on actors who have an international career"
   ]
  },
  {
   "cell_type": "markdown",
   "metadata": {},
   "source": [
    "For this first analysis, we started by looking only at the single productions and excluding co-productions. \n",
    "\n",
    "It seems that co-productions are the initiatives of the productors and not of the actors. Therefore, they do not really reflect the movements of population associated with globalization. Indeed, if an american actor played in an americano-indian movie, it cannot really be considered as an international career. Moreover, one single co-production involves a lot of actors which might completely drawn the data from single productions.\n",
    "\n",
    "In this process, we might loose a bit of information about actors who participated in co-production that did not include their country of origin and otherwise never performed abroad. However, the amount of co-productions in the dataset is quite small so our analysis will remain relevant."
   ]
  },
  {
   "cell_type": "code",
   "execution_count": null,
   "metadata": {},
   "outputs": [],
   "source": [
    "import pandas as pd\n",
    "import numpy as np\n",
    "import matplotlib.pyplot as plt\n",
    "import seaborn as sns"
   ]
  },
  {
   "cell_type": "code",
   "execution_count": null,
   "metadata": {},
   "outputs": [],
   "source": [
    "#importing df\n",
    "data_folder = '../../data/cleanData/'\n",
    "df_characters = pd.read_csv(data_folder + 'characters_cleaned.csv')\n",
    "df_movies = movies_df = pd.read_csv(data_folder + 'movies_cleaned.csv')"
   ]
  },
  {
   "cell_type": "code",
   "execution_count": null,
   "metadata": {},
   "outputs": [
    {
     "ename": "AttributeError",
     "evalue": "module 'populationScripts' has no attribute 'createSingleProdDf'",
     "output_type": "error",
     "traceback": [
      "\u001b[1;31m---------------------------------------------------------------------------\u001b[0m\n",
      "\u001b[1;31mAttributeError\u001b[0m                            Traceback (most recent call last)\n",
      "Cell \u001b[1;32mIn[33], line 8\u001b[0m\n",
      "\u001b[0;32m      4\u001b[0m sys\u001b[38;5;241m.\u001b[39mpath\u001b[38;5;241m.\u001b[39mappend(\u001b[38;5;124m'\u001b[39m\u001b[38;5;124m../scripts\u001b[39m\u001b[38;5;124m'\u001b[39m)\n",
      "\u001b[0;32m      6\u001b[0m \u001b[38;5;28;01mimport\u001b[39;00m \u001b[38;5;21;01mpopulationScripts\u001b[39;00m \u001b[38;5;28;01mas\u001b[39;00m \u001b[38;5;21;01mps\u001b[39;00m      \u001b[38;5;66;03m# Import the function that processes the data for this study\u001b[39;00m\n",
      "\u001b[1;32m----> 8\u001b[0m df_single_prod \u001b[38;5;241m=\u001b[39m ps\u001b[38;5;241m.\u001b[39mcreateSingleProdDf()\n",
      "\u001b[0;32m      9\u001b[0m df_single_prod\u001b[38;5;241m.\u001b[39mhead()\n",
      "\n",
      "\u001b[1;31mAttributeError\u001b[0m: module 'populationScripts' has no attribute 'createSingleProdDf'"
     ]
    }
   ],
   "source": [
    "# Creating a dataframe that contains only lines associated with single production movies\n",
    "\n",
    "import sys\n",
    "sys.path.append('../scripts')\n",
    "\n",
    "import populationScripts as ps      # Import the function that processes the data for this study\n",
    "\n",
    "df_single_prod = ps.createSingleProdDf()\n",
    "df_single_prod.head()"
   ]
  },
  {
   "cell_type": "code",
   "execution_count": null,
   "metadata": {},
   "outputs": [],
   "source": [
    "#comparison between the total number of movies and the number of co-productions\n",
    "print(ps.comparisonSingleCoProd())"
   ]
  },
  {
   "cell_type": "markdown",
   "metadata": {},
   "source": [
    "The number of movies resulting from co-productions is quite small, which confirms that our analysis using only single-productions is relevant"
   ]
  },
  {
   "cell_type": "code",
   "execution_count": null,
   "metadata": {},
   "outputs": [],
   "source": [
    "# Plot showing the number of countries in which actors have played\n",
    "\n",
    "number_countries_per_actor = ps.numberCountriesPerActor()\n",
    "\n",
    "#let's plot the result\n",
    "plt.hist(number_countries_per_actor, log=True)\n",
    "plt.xlabel('number of countries per actor')\n",
    "plt.ylabel('counts')\n",
    "plt.title('Repartition of the number of countries per actor')\n",
    "plt.show()"
   ]
  },
  {
   "cell_type": "markdown",
   "metadata": {},
   "source": [
    "This plot shows that there is a significant number of actors who played in several countries. It is relevant to study them"
   ]
  },
  {
   "cell_type": "code",
   "execution_count": null,
   "metadata": {},
   "outputs": [],
   "source": [
    "# dataframe containing only the international actors\n",
    "# statistics on the number of actors and the number of countries that will be involved in our final graph"
   ]
  },
  {
   "cell_type": "markdown",
   "metadata": {},
   "source": [
    "## 2. Feasibility of the graph"
   ]
  },
  {
   "cell_type": "markdown",
   "metadata": {},
   "source": [
    "The final goal of this part is to plot a map of the world in which two countries are linked by an edge if an actor has played in those two countries.\n",
    "\n",
    "To study the feasibility of this goal, we used networkx to see if the realization of a graph with our data was feasible and relevant."
   ]
  },
  {
   "cell_type": "code",
   "execution_count": null,
   "metadata": {},
   "outputs": [],
   "source": [
    "# first visualization as a graph"
   ]
  },
  {
   "cell_type": "markdown",
   "metadata": {},
   "source": [
    "Plotting a graph seems feasible. However several steps remain before obtaining the final version :\n",
    "\n",
    "- Our first graph includes all the years. We should separate the data per year\n",
    "- Making the plot interactive \n",
    "- Using a dictionary to add the names of the countries\n",
    "- Linking the countries with the ones from the geopanda library to plot the graph as a map"
   ]
  }
 ],
 "metadata": {
  "kernelspec": {
   "display_name": "ada",
   "language": "python",
   "name": "python3"
  },
  "language_info": {
   "codemirror_mode": {
    "name": "ipython",
    "version": 3
   },
   "file_extension": ".py",
   "mimetype": "text/x-python",
   "name": "python",
   "nbconvert_exporter": "python",
   "pygments_lexer": "ipython3",
   "version": "3.10.15"
  }
 },
 "nbformat": 4,
 "nbformat_minor": 2
}
