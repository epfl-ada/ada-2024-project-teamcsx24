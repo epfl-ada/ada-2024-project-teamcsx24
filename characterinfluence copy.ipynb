{
 "cells": [
  {
   "cell_type": "code",
   "execution_count": 79,
   "metadata": {},
   "outputs": [],
   "source": [
    "# Modules to import\n",
    "import ast\n",
    "import sys\n",
    "import pandas as pd\n",
    "import matplotlib.pyplot as plt\n",
    "import numpy as np\n",
    "import seaborn as sns\n",
    "import json\n",
    "from importlib import reload\n",
    "import plotly.express as px\n",
    "import plotly.graph_objects as go\n",
    "from plotly.subplots import make_subplots"
   ]
  },
  {
   "cell_type": "code",
   "execution_count": 31,
   "metadata": {},
   "outputs": [],
   "source": [
    "paths = ['src/data','src/models','src/scripts','src/utils']\n",
    "for path in paths:\n",
    "    sys.path.append(path)"
   ]
  },
  {
   "cell_type": "markdown",
   "metadata": {},
   "source": [
    "### IV.4 Character Study for Cultural Influence Analysis"
   ]
  },
  {
   "cell_type": "markdown",
   "metadata": {},
   "source": [
    "### Cultural influence through characters analysis"
   ]
  },
  {
   "cell_type": "markdown",
   "metadata": {},
   "source": [
    "The goal of this section is to study the cultural influence of countries on each other through the appearance of characters from a certain origin in film productions.\n",
    "\n",
    "Quantitatively, we will assign influence points to each character corresponding to the number of countries that have produced films featuring the character.\n",
    "\n",
    "The first step is to assign an origin country to each character.\n",
    "\n",
    "Initially, we will use a naive method, assigning the country of production of the first film in which the character appears.\n",
    "\n",
    "We will then consider a more precise method based on an NLP model to assign the origin country to each character."
   ]
  },
  {
   "cell_type": "code",
   "execution_count": 101,
   "metadata": {},
   "outputs": [
    {
     "data": {
      "text/html": [
       "<div>\n",
       "<style scoped>\n",
       "    .dataframe tbody tr th:only-of-type {\n",
       "        vertical-align: middle;\n",
       "    }\n",
       "\n",
       "    .dataframe tbody tr th {\n",
       "        vertical-align: top;\n",
       "    }\n",
       "\n",
       "    .dataframe thead th {\n",
       "        text-align: right;\n",
       "    }\n",
       "</style>\n",
       "<table border=\"1\" class=\"dataframe\">\n",
       "  <thead>\n",
       "    <tr style=\"text-align: right;\">\n",
       "      <th></th>\n",
       "      <th>Character</th>\n",
       "      <th>character_actor_freebase_id</th>\n",
       "      <th>actor_name</th>\n",
       "      <th>first_movie_name</th>\n",
       "      <th>first_apperance_date</th>\n",
       "      <th>origin_country</th>\n",
       "      <th>all_countries</th>\n",
       "      <th>number_countries_score</th>\n",
       "    </tr>\n",
       "  </thead>\n",
       "  <tbody>\n",
       "    <tr>\n",
       "      <th>0</th>\n",
       "      <td>'Baby' Louise</td>\n",
       "      <td>/m/0c0lv89</td>\n",
       "      <td>Diane Pace</td>\n",
       "      <td>Gypsy</td>\n",
       "      <td>1962-01-01</td>\n",
       "      <td>[United States of America]</td>\n",
       "      <td>[United States of America]</td>\n",
       "      <td>1</td>\n",
       "    </tr>\n",
       "    <tr>\n",
       "      <th>1</th>\n",
       "      <td>ACP Jai Dixit</td>\n",
       "      <td>/m/0220_c2</td>\n",
       "      <td>Abhishek Bachchan</td>\n",
       "      <td>Dhoom</td>\n",
       "      <td>2004-08-27</td>\n",
       "      <td>[India]</td>\n",
       "      <td>[India]</td>\n",
       "      <td>1</td>\n",
       "    </tr>\n",
       "    <tr>\n",
       "      <th>2</th>\n",
       "      <td>Abigail Chase</td>\n",
       "      <td>/m/0k14v6</td>\n",
       "      <td>Diane Kruger</td>\n",
       "      <td>National Treasure</td>\n",
       "      <td>2004-11-08</td>\n",
       "      <td>[United States of America]</td>\n",
       "      <td>[United States of America]</td>\n",
       "      <td>1</td>\n",
       "    </tr>\n",
       "    <tr>\n",
       "      <th>3</th>\n",
       "      <td>Abraham Lincoln</td>\n",
       "      <td>/m/0k89pf</td>\n",
       "      <td>Henry Fonda</td>\n",
       "      <td>Young Mr. Lincoln</td>\n",
       "      <td>1939-01-01</td>\n",
       "      <td>[United States of America]</td>\n",
       "      <td>[United States of America]</td>\n",
       "      <td>1</td>\n",
       "    </tr>\n",
       "    <tr>\n",
       "      <th>4</th>\n",
       "      <td>Abraham Van Helsing</td>\n",
       "      <td>/m/0jxjsg</td>\n",
       "      <td>Edward Van Sloan</td>\n",
       "      <td>Dracula</td>\n",
       "      <td>1931-02-12</td>\n",
       "      <td>[United States of America]</td>\n",
       "      <td>[United Kingdom, United States of America, Fra...</td>\n",
       "      <td>4</td>\n",
       "    </tr>\n",
       "  </tbody>\n",
       "</table>\n",
       "</div>"
      ],
      "text/plain": [
       "             Character character_actor_freebase_id         actor_name  \\\n",
       "0        'Baby' Louise                  /m/0c0lv89         Diane Pace   \n",
       "1        ACP Jai Dixit                  /m/0220_c2  Abhishek Bachchan   \n",
       "2        Abigail Chase                   /m/0k14v6       Diane Kruger   \n",
       "3      Abraham Lincoln                   /m/0k89pf        Henry Fonda   \n",
       "4  Abraham Van Helsing                   /m/0jxjsg   Edward Van Sloan   \n",
       "\n",
       "    first_movie_name first_apperance_date              origin_country  \\\n",
       "0              Gypsy           1962-01-01  [United States of America]   \n",
       "1              Dhoom           2004-08-27                     [India]   \n",
       "2  National Treasure           2004-11-08  [United States of America]   \n",
       "3  Young Mr. Lincoln           1939-01-01  [United States of America]   \n",
       "4            Dracula           1931-02-12  [United States of America]   \n",
       "\n",
       "                                       all_countries  number_countries_score  \n",
       "0                         [United States of America]                       1  \n",
       "1                                            [India]                       1  \n",
       "2                         [United States of America]                       1  \n",
       "3                         [United States of America]                       1  \n",
       "4  [United Kingdom, United States of America, Fra...                       4  "
      ]
     },
     "execution_count": 101,
     "metadata": {},
     "output_type": "execute_result"
    }
   ],
   "source": [
    "from scriptculture import process_data_character          # Import the function that processes the data for this study\n",
    "\n",
    "df_character_influence = process_data_character()\n",
    "df_character_influence.head()"
   ]
  },
  {
   "cell_type": "markdown",
   "metadata": {},
   "source": [
    "For this analysis, we grouped the characters that appeared in different countries (from the character_cluster database). \n",
    "\n",
    "The processed dataset that we'll use for this analyse is completed with the features :\n",
    " - first_movie_name : The first movie in which the character appeared\n",
    " - first_apperance_date : The date of release of the first movie \n",
    " - origin_country : The country of the first movie\n",
    " - all_countries : The countries of origin of all the movies in which the character has appeared \n",
    " - number_countries_score : The number of countries that have produced films featuring the character\n"
   ]
  },
  {
   "cell_type": "code",
   "execution_count": 34,
   "metadata": {},
   "outputs": [
    {
     "data": {
      "text/html": [
       "<div>\n",
       "<style scoped>\n",
       "    .dataframe tbody tr th:only-of-type {\n",
       "        vertical-align: middle;\n",
       "    }\n",
       "\n",
       "    .dataframe tbody tr th {\n",
       "        vertical-align: top;\n",
       "    }\n",
       "\n",
       "    .dataframe thead th {\n",
       "        text-align: right;\n",
       "    }\n",
       "</style>\n",
       "<table border=\"1\" class=\"dataframe\">\n",
       "  <thead>\n",
       "    <tr style=\"text-align: right;\">\n",
       "      <th></th>\n",
       "      <th>number_countries</th>\n",
       "    </tr>\n",
       "  </thead>\n",
       "  <tbody>\n",
       "    <tr>\n",
       "      <th>count</th>\n",
       "      <td>970.000000</td>\n",
       "    </tr>\n",
       "    <tr>\n",
       "      <th>mean</th>\n",
       "      <td>1.797938</td>\n",
       "    </tr>\n",
       "    <tr>\n",
       "      <th>std</th>\n",
       "      <td>1.161116</td>\n",
       "    </tr>\n",
       "    <tr>\n",
       "      <th>min</th>\n",
       "      <td>0.000000</td>\n",
       "    </tr>\n",
       "    <tr>\n",
       "      <th>25%</th>\n",
       "      <td>1.000000</td>\n",
       "    </tr>\n",
       "    <tr>\n",
       "      <th>50%</th>\n",
       "      <td>1.000000</td>\n",
       "    </tr>\n",
       "    <tr>\n",
       "      <th>75%</th>\n",
       "      <td>2.000000</td>\n",
       "    </tr>\n",
       "    <tr>\n",
       "      <th>max</th>\n",
       "      <td>8.000000</td>\n",
       "    </tr>\n",
       "  </tbody>\n",
       "</table>\n",
       "</div>"
      ],
      "text/plain": [
       "       number_countries\n",
       "count        970.000000\n",
       "mean           1.797938\n",
       "std            1.161116\n",
       "min            0.000000\n",
       "25%            1.000000\n",
       "50%            1.000000\n",
       "75%            2.000000\n",
       "max            8.000000"
      ]
     },
     "execution_count": 34,
     "metadata": {},
     "output_type": "execute_result"
    }
   ],
   "source": [
    "df_character_influence.describe()"
   ]
  },
  {
   "cell_type": "markdown",
   "metadata": {},
   "source": [
    "970 characters appear in multiple films; on average, they appear in 1.8 different countries. They feature in up to 8 different films. Let's look at the distribution of the number of countries"
   ]
  },
  {
   "cell_type": "code",
   "execution_count": 96,
   "metadata": {},
   "outputs": [
    {
     "data": {
      "application/vnd.plotly.v1+json": {
       "config": {
        "plotlyServerURL": "https://plot.ly"
       },
       "data": [
        {
         "alignmentgroup": "True",
         "bingroup": "x",
         "hovertemplate": "Number of Countries=%{x}<br>count=%{y}<extra></extra>",
         "legendgroup": "",
         "marker": {
          "color": "#636efa",
          "pattern": {
           "shape": ""
          }
         },
         "name": "",
         "nbinsx": 20,
         "offsetgroup": "",
         "orientation": "v",
         "showlegend": false,
         "type": "histogram",
         "x": [
          1,
          1,
          1,
          1,
          4,
          1,
          6,
          1,
          1,
          2,
          1,
          2,
          1,
          1,
          2,
          1,
          1,
          4,
          1,
          1,
          4,
          2,
          1,
          4,
          1,
          1,
          1,
          4,
          2,
          1,
          1,
          2,
          1,
          1,
          4,
          1,
          2,
          1,
          3,
          2,
          2,
          2,
          3,
          3,
          4,
          1,
          1,
          1,
          1,
          1,
          1,
          1,
          1,
          1,
          1,
          1,
          1,
          1,
          2,
          1,
          2,
          1,
          1,
          2,
          2,
          1,
          1,
          2,
          3,
          2,
          1,
          2,
          3,
          1,
          1,
          1,
          1,
          1,
          1,
          1,
          1,
          1,
          1,
          1,
          1,
          4,
          1,
          2,
          1,
          6,
          2,
          1,
          2,
          1,
          1,
          2,
          1,
          1,
          1,
          1,
          2,
          1,
          2,
          4,
          3,
          1,
          1,
          1,
          1,
          2,
          1,
          1,
          3,
          3,
          5,
          3,
          1,
          1,
          4,
          4,
          8,
          3,
          1,
          1,
          6,
          1,
          1,
          1,
          2,
          1,
          2,
          5,
          5,
          3,
          1,
          1,
          3,
          1,
          3,
          1,
          1,
          5,
          1,
          3,
          1,
          1,
          1,
          1,
          4,
          3,
          1,
          3,
          5,
          2,
          5,
          1,
          1,
          2,
          2,
          1,
          1,
          2,
          1,
          2,
          2,
          1,
          1,
          2,
          1,
          2,
          1,
          5,
          1,
          1,
          1,
          7,
          3,
          1,
          1,
          1,
          1,
          2,
          2,
          2,
          1,
          4,
          1,
          1,
          2,
          4,
          3,
          2,
          1,
          1,
          3,
          1,
          1,
          2,
          1,
          2,
          1,
          1,
          2,
          1,
          1,
          1,
          2,
          1,
          1,
          2,
          4,
          1,
          1,
          1,
          1,
          2,
          2,
          1,
          3,
          2,
          2,
          6,
          1,
          4,
          1,
          2,
          2,
          1,
          1,
          1,
          3,
          4,
          3,
          1,
          1,
          1,
          1,
          1,
          1,
          2,
          1,
          2,
          1,
          2,
          3,
          2,
          1,
          1,
          4,
          1,
          4,
          5,
          1,
          2,
          2,
          1,
          2,
          2,
          5,
          1,
          1,
          1,
          1,
          1,
          2,
          1,
          2,
          1,
          1,
          1,
          1,
          1,
          1,
          1,
          1,
          1,
          1,
          1,
          1,
          1,
          4,
          1,
          1,
          1,
          2,
          2,
          4,
          1,
          1,
          2,
          1,
          1,
          1,
          2,
          2,
          1,
          3,
          2,
          1,
          2,
          3,
          1,
          1,
          3,
          2,
          4,
          2,
          1,
          2,
          2,
          1,
          1,
          3,
          1,
          2,
          1,
          2,
          1,
          1,
          2,
          1,
          2,
          1,
          1,
          1,
          1,
          1,
          4,
          2,
          3,
          2,
          1,
          3,
          3,
          2,
          1,
          2,
          1,
          6,
          2,
          1,
          3,
          2,
          1,
          2,
          3,
          3,
          1,
          3,
          3,
          1,
          2,
          2,
          1,
          1,
          1,
          1,
          1,
          2,
          1,
          2,
          2,
          2,
          3,
          1,
          1,
          1,
          2,
          2,
          2,
          3,
          1,
          1,
          2,
          1,
          1,
          4,
          1,
          1,
          1,
          3,
          1,
          1,
          3,
          1,
          2,
          1,
          2,
          3,
          1,
          1,
          2,
          1,
          1,
          1,
          1,
          5,
          2,
          2,
          6,
          1,
          2,
          2,
          1,
          1,
          4,
          1,
          1,
          2,
          3,
          1,
          3,
          4,
          1,
          1,
          2,
          2,
          2,
          1,
          1,
          2,
          4,
          5,
          2,
          2,
          2,
          1,
          1,
          4,
          1,
          3,
          4,
          1,
          1,
          1,
          3,
          1,
          2,
          5,
          2,
          1,
          1,
          1,
          4,
          4,
          2,
          2,
          1,
          1,
          2,
          2,
          2,
          2,
          1,
          3,
          2,
          2,
          2,
          1,
          3,
          2,
          5,
          2,
          1,
          2,
          1,
          1,
          1,
          1,
          3,
          2,
          1,
          3,
          3,
          1,
          3,
          1,
          1,
          1,
          1,
          1,
          2,
          2,
          1,
          1,
          1,
          1,
          2,
          2,
          1,
          0,
          1,
          1,
          1,
          1,
          4,
          1,
          1,
          1,
          1,
          2,
          3,
          1,
          1,
          1,
          1,
          3,
          1,
          1,
          1,
          4,
          1,
          1,
          1,
          1,
          3,
          2,
          1,
          5,
          1,
          1,
          1,
          1,
          1,
          6,
          2,
          2,
          1,
          1,
          1,
          1,
          1,
          2,
          4,
          2,
          1,
          1,
          2,
          1,
          2,
          1,
          1,
          1,
          1,
          2,
          5,
          2,
          4,
          1,
          1,
          4,
          1,
          2,
          4,
          1,
          1,
          1,
          1,
          2,
          3,
          2,
          1,
          3,
          1,
          4,
          2,
          4,
          2,
          1,
          2,
          4,
          1,
          1,
          1,
          2,
          2,
          1,
          2,
          3,
          1,
          2,
          1,
          2,
          1,
          1,
          1,
          3,
          1,
          1,
          1,
          1,
          2,
          1,
          4,
          3,
          4,
          1,
          1,
          2,
          2,
          2,
          1,
          1,
          4,
          1,
          2,
          1,
          2,
          1,
          7,
          2,
          1,
          1,
          2,
          1,
          2,
          1,
          1,
          1,
          1,
          3,
          1,
          1,
          1,
          3,
          1,
          1,
          4,
          1,
          5,
          2,
          3,
          3,
          1,
          2,
          1,
          1,
          3,
          2,
          3,
          1,
          1,
          3,
          1,
          2,
          3,
          4,
          1,
          2,
          2,
          1,
          1,
          1,
          3,
          1,
          1,
          1,
          3,
          1,
          4,
          1,
          2,
          2,
          1,
          4,
          1,
          2,
          1,
          1,
          1,
          1,
          1,
          4,
          1,
          7,
          2,
          2,
          1,
          1,
          2,
          2,
          1,
          1,
          1,
          2,
          2,
          2,
          1,
          1,
          2,
          1,
          3,
          1,
          3,
          1,
          2,
          2,
          1,
          2,
          2,
          1,
          1,
          1,
          1,
          1,
          2,
          2,
          1,
          1,
          1,
          1,
          3,
          2,
          2,
          4,
          1,
          3,
          2,
          2,
          4,
          1,
          2,
          1,
          1,
          1,
          3,
          2,
          1,
          1,
          4,
          2,
          3,
          3,
          2,
          2,
          1,
          1,
          1,
          1,
          1,
          1,
          5,
          1,
          1,
          1,
          1,
          1,
          1,
          1,
          2,
          3,
          1,
          1,
          1,
          1,
          1,
          4,
          2,
          2,
          1,
          1,
          1,
          1,
          1,
          1,
          1,
          1,
          2,
          2,
          3,
          1,
          2,
          1,
          1,
          1,
          1,
          1,
          3,
          2,
          1,
          2,
          1,
          4,
          3,
          3,
          1,
          1,
          1,
          1,
          1,
          1,
          1,
          1,
          1,
          1,
          1,
          1,
          1,
          3,
          4,
          1,
          1,
          4,
          2,
          1,
          1,
          1,
          2,
          1,
          1,
          1,
          2,
          1,
          1,
          1,
          1,
          3,
          1,
          1,
          1,
          1,
          2,
          1,
          1,
          1,
          2,
          3,
          1,
          2,
          1,
          1,
          1,
          1,
          2,
          3,
          1,
          2,
          3,
          3,
          4,
          1,
          1,
          1,
          1,
          1,
          2,
          2,
          1,
          2,
          2,
          5,
          1,
          1,
          1,
          2,
          2,
          1,
          2,
          1,
          1,
          1,
          1,
          1,
          1,
          1,
          1,
          4,
          6,
          1,
          1,
          3,
          1,
          3,
          1,
          2,
          1,
          4,
          6,
          2,
          1,
          1,
          2,
          1,
          1,
          2,
          5,
          1,
          4,
          3,
          3,
          4,
          4,
          2,
          2,
          1,
          2,
          1,
          2,
          2,
          1,
          1,
          1,
          3,
          4,
          2,
          1,
          1,
          1,
          2,
          2,
          1,
          1,
          1,
          4,
          1,
          2,
          1,
          1,
          2,
          1,
          1,
          3,
          1,
          1,
          2,
          1,
          2,
          1,
          2,
          2,
          1,
          3,
          1,
          4,
          3,
          2,
          1,
          1,
          1,
          3,
          1,
          1,
          1,
          1,
          1,
          1,
          3,
          1,
          1,
          1,
          3,
          1,
          6,
          1,
          1,
          1,
          3,
          2,
          3,
          1,
          1,
          1,
          1,
          1,
          1,
          1,
          4,
          1,
          1,
          1
         ],
         "xaxis": "x",
         "yaxis": "y"
        }
       ],
       "layout": {
        "barmode": "relative",
        "height": 600,
        "legend": {
         "tracegroupgap": 0
        },
        "template": {
         "data": {
          "bar": [
           {
            "error_x": {
             "color": "#f2f5fa"
            },
            "error_y": {
             "color": "#f2f5fa"
            },
            "marker": {
             "line": {
              "color": "rgb(17,17,17)",
              "width": 0.5
             },
             "pattern": {
              "fillmode": "overlay",
              "size": 10,
              "solidity": 0.2
             }
            },
            "type": "bar"
           }
          ],
          "barpolar": [
           {
            "marker": {
             "line": {
              "color": "rgb(17,17,17)",
              "width": 0.5
             },
             "pattern": {
              "fillmode": "overlay",
              "size": 10,
              "solidity": 0.2
             }
            },
            "type": "barpolar"
           }
          ],
          "carpet": [
           {
            "aaxis": {
             "endlinecolor": "#A2B1C6",
             "gridcolor": "#506784",
             "linecolor": "#506784",
             "minorgridcolor": "#506784",
             "startlinecolor": "#A2B1C6"
            },
            "baxis": {
             "endlinecolor": "#A2B1C6",
             "gridcolor": "#506784",
             "linecolor": "#506784",
             "minorgridcolor": "#506784",
             "startlinecolor": "#A2B1C6"
            },
            "type": "carpet"
           }
          ],
          "choropleth": [
           {
            "colorbar": {
             "outlinewidth": 0,
             "ticks": ""
            },
            "type": "choropleth"
           }
          ],
          "contour": [
           {
            "colorbar": {
             "outlinewidth": 0,
             "ticks": ""
            },
            "colorscale": [
             [
              0,
              "#0d0887"
             ],
             [
              0.1111111111111111,
              "#46039f"
             ],
             [
              0.2222222222222222,
              "#7201a8"
             ],
             [
              0.3333333333333333,
              "#9c179e"
             ],
             [
              0.4444444444444444,
              "#bd3786"
             ],
             [
              0.5555555555555556,
              "#d8576b"
             ],
             [
              0.6666666666666666,
              "#ed7953"
             ],
             [
              0.7777777777777778,
              "#fb9f3a"
             ],
             [
              0.8888888888888888,
              "#fdca26"
             ],
             [
              1,
              "#f0f921"
             ]
            ],
            "type": "contour"
           }
          ],
          "contourcarpet": [
           {
            "colorbar": {
             "outlinewidth": 0,
             "ticks": ""
            },
            "type": "contourcarpet"
           }
          ],
          "heatmap": [
           {
            "colorbar": {
             "outlinewidth": 0,
             "ticks": ""
            },
            "colorscale": [
             [
              0,
              "#0d0887"
             ],
             [
              0.1111111111111111,
              "#46039f"
             ],
             [
              0.2222222222222222,
              "#7201a8"
             ],
             [
              0.3333333333333333,
              "#9c179e"
             ],
             [
              0.4444444444444444,
              "#bd3786"
             ],
             [
              0.5555555555555556,
              "#d8576b"
             ],
             [
              0.6666666666666666,
              "#ed7953"
             ],
             [
              0.7777777777777778,
              "#fb9f3a"
             ],
             [
              0.8888888888888888,
              "#fdca26"
             ],
             [
              1,
              "#f0f921"
             ]
            ],
            "type": "heatmap"
           }
          ],
          "heatmapgl": [
           {
            "colorbar": {
             "outlinewidth": 0,
             "ticks": ""
            },
            "colorscale": [
             [
              0,
              "#0d0887"
             ],
             [
              0.1111111111111111,
              "#46039f"
             ],
             [
              0.2222222222222222,
              "#7201a8"
             ],
             [
              0.3333333333333333,
              "#9c179e"
             ],
             [
              0.4444444444444444,
              "#bd3786"
             ],
             [
              0.5555555555555556,
              "#d8576b"
             ],
             [
              0.6666666666666666,
              "#ed7953"
             ],
             [
              0.7777777777777778,
              "#fb9f3a"
             ],
             [
              0.8888888888888888,
              "#fdca26"
             ],
             [
              1,
              "#f0f921"
             ]
            ],
            "type": "heatmapgl"
           }
          ],
          "histogram": [
           {
            "marker": {
             "pattern": {
              "fillmode": "overlay",
              "size": 10,
              "solidity": 0.2
             }
            },
            "type": "histogram"
           }
          ],
          "histogram2d": [
           {
            "colorbar": {
             "outlinewidth": 0,
             "ticks": ""
            },
            "colorscale": [
             [
              0,
              "#0d0887"
             ],
             [
              0.1111111111111111,
              "#46039f"
             ],
             [
              0.2222222222222222,
              "#7201a8"
             ],
             [
              0.3333333333333333,
              "#9c179e"
             ],
             [
              0.4444444444444444,
              "#bd3786"
             ],
             [
              0.5555555555555556,
              "#d8576b"
             ],
             [
              0.6666666666666666,
              "#ed7953"
             ],
             [
              0.7777777777777778,
              "#fb9f3a"
             ],
             [
              0.8888888888888888,
              "#fdca26"
             ],
             [
              1,
              "#f0f921"
             ]
            ],
            "type": "histogram2d"
           }
          ],
          "histogram2dcontour": [
           {
            "colorbar": {
             "outlinewidth": 0,
             "ticks": ""
            },
            "colorscale": [
             [
              0,
              "#0d0887"
             ],
             [
              0.1111111111111111,
              "#46039f"
             ],
             [
              0.2222222222222222,
              "#7201a8"
             ],
             [
              0.3333333333333333,
              "#9c179e"
             ],
             [
              0.4444444444444444,
              "#bd3786"
             ],
             [
              0.5555555555555556,
              "#d8576b"
             ],
             [
              0.6666666666666666,
              "#ed7953"
             ],
             [
              0.7777777777777778,
              "#fb9f3a"
             ],
             [
              0.8888888888888888,
              "#fdca26"
             ],
             [
              1,
              "#f0f921"
             ]
            ],
            "type": "histogram2dcontour"
           }
          ],
          "mesh3d": [
           {
            "colorbar": {
             "outlinewidth": 0,
             "ticks": ""
            },
            "type": "mesh3d"
           }
          ],
          "parcoords": [
           {
            "line": {
             "colorbar": {
              "outlinewidth": 0,
              "ticks": ""
             }
            },
            "type": "parcoords"
           }
          ],
          "pie": [
           {
            "automargin": true,
            "type": "pie"
           }
          ],
          "scatter": [
           {
            "marker": {
             "line": {
              "color": "#283442"
             }
            },
            "type": "scatter"
           }
          ],
          "scatter3d": [
           {
            "line": {
             "colorbar": {
              "outlinewidth": 0,
              "ticks": ""
             }
            },
            "marker": {
             "colorbar": {
              "outlinewidth": 0,
              "ticks": ""
             }
            },
            "type": "scatter3d"
           }
          ],
          "scattercarpet": [
           {
            "marker": {
             "colorbar": {
              "outlinewidth": 0,
              "ticks": ""
             }
            },
            "type": "scattercarpet"
           }
          ],
          "scattergeo": [
           {
            "marker": {
             "colorbar": {
              "outlinewidth": 0,
              "ticks": ""
             }
            },
            "type": "scattergeo"
           }
          ],
          "scattergl": [
           {
            "marker": {
             "line": {
              "color": "#283442"
             }
            },
            "type": "scattergl"
           }
          ],
          "scattermapbox": [
           {
            "marker": {
             "colorbar": {
              "outlinewidth": 0,
              "ticks": ""
             }
            },
            "type": "scattermapbox"
           }
          ],
          "scatterpolar": [
           {
            "marker": {
             "colorbar": {
              "outlinewidth": 0,
              "ticks": ""
             }
            },
            "type": "scatterpolar"
           }
          ],
          "scatterpolargl": [
           {
            "marker": {
             "colorbar": {
              "outlinewidth": 0,
              "ticks": ""
             }
            },
            "type": "scatterpolargl"
           }
          ],
          "scatterternary": [
           {
            "marker": {
             "colorbar": {
              "outlinewidth": 0,
              "ticks": ""
             }
            },
            "type": "scatterternary"
           }
          ],
          "surface": [
           {
            "colorbar": {
             "outlinewidth": 0,
             "ticks": ""
            },
            "colorscale": [
             [
              0,
              "#0d0887"
             ],
             [
              0.1111111111111111,
              "#46039f"
             ],
             [
              0.2222222222222222,
              "#7201a8"
             ],
             [
              0.3333333333333333,
              "#9c179e"
             ],
             [
              0.4444444444444444,
              "#bd3786"
             ],
             [
              0.5555555555555556,
              "#d8576b"
             ],
             [
              0.6666666666666666,
              "#ed7953"
             ],
             [
              0.7777777777777778,
              "#fb9f3a"
             ],
             [
              0.8888888888888888,
              "#fdca26"
             ],
             [
              1,
              "#f0f921"
             ]
            ],
            "type": "surface"
           }
          ],
          "table": [
           {
            "cells": {
             "fill": {
              "color": "#506784"
             },
             "line": {
              "color": "rgb(17,17,17)"
             }
            },
            "header": {
             "fill": {
              "color": "#2a3f5f"
             },
             "line": {
              "color": "rgb(17,17,17)"
             }
            },
            "type": "table"
           }
          ]
         },
         "layout": {
          "annotationdefaults": {
           "arrowcolor": "#f2f5fa",
           "arrowhead": 0,
           "arrowwidth": 1
          },
          "autotypenumbers": "strict",
          "coloraxis": {
           "colorbar": {
            "outlinewidth": 0,
            "ticks": ""
           }
          },
          "colorscale": {
           "diverging": [
            [
             0,
             "#8e0152"
            ],
            [
             0.1,
             "#c51b7d"
            ],
            [
             0.2,
             "#de77ae"
            ],
            [
             0.3,
             "#f1b6da"
            ],
            [
             0.4,
             "#fde0ef"
            ],
            [
             0.5,
             "#f7f7f7"
            ],
            [
             0.6,
             "#e6f5d0"
            ],
            [
             0.7,
             "#b8e186"
            ],
            [
             0.8,
             "#7fbc41"
            ],
            [
             0.9,
             "#4d9221"
            ],
            [
             1,
             "#276419"
            ]
           ],
           "sequential": [
            [
             0,
             "#0d0887"
            ],
            [
             0.1111111111111111,
             "#46039f"
            ],
            [
             0.2222222222222222,
             "#7201a8"
            ],
            [
             0.3333333333333333,
             "#9c179e"
            ],
            [
             0.4444444444444444,
             "#bd3786"
            ],
            [
             0.5555555555555556,
             "#d8576b"
            ],
            [
             0.6666666666666666,
             "#ed7953"
            ],
            [
             0.7777777777777778,
             "#fb9f3a"
            ],
            [
             0.8888888888888888,
             "#fdca26"
            ],
            [
             1,
             "#f0f921"
            ]
           ],
           "sequentialminus": [
            [
             0,
             "#0d0887"
            ],
            [
             0.1111111111111111,
             "#46039f"
            ],
            [
             0.2222222222222222,
             "#7201a8"
            ],
            [
             0.3333333333333333,
             "#9c179e"
            ],
            [
             0.4444444444444444,
             "#bd3786"
            ],
            [
             0.5555555555555556,
             "#d8576b"
            ],
            [
             0.6666666666666666,
             "#ed7953"
            ],
            [
             0.7777777777777778,
             "#fb9f3a"
            ],
            [
             0.8888888888888888,
             "#fdca26"
            ],
            [
             1,
             "#f0f921"
            ]
           ]
          },
          "colorway": [
           "#636efa",
           "#EF553B",
           "#00cc96",
           "#ab63fa",
           "#FFA15A",
           "#19d3f3",
           "#FF6692",
           "#B6E880",
           "#FF97FF",
           "#FECB52"
          ],
          "font": {
           "color": "#f2f5fa"
          },
          "geo": {
           "bgcolor": "rgb(17,17,17)",
           "lakecolor": "rgb(17,17,17)",
           "landcolor": "rgb(17,17,17)",
           "showlakes": true,
           "showland": true,
           "subunitcolor": "#506784"
          },
          "hoverlabel": {
           "align": "left"
          },
          "hovermode": "closest",
          "mapbox": {
           "style": "dark"
          },
          "paper_bgcolor": "rgb(17,17,17)",
          "plot_bgcolor": "rgb(17,17,17)",
          "polar": {
           "angularaxis": {
            "gridcolor": "#506784",
            "linecolor": "#506784",
            "ticks": ""
           },
           "bgcolor": "rgb(17,17,17)",
           "radialaxis": {
            "gridcolor": "#506784",
            "linecolor": "#506784",
            "ticks": ""
           }
          },
          "scene": {
           "xaxis": {
            "backgroundcolor": "rgb(17,17,17)",
            "gridcolor": "#506784",
            "gridwidth": 2,
            "linecolor": "#506784",
            "showbackground": true,
            "ticks": "",
            "zerolinecolor": "#C8D4E3"
           },
           "yaxis": {
            "backgroundcolor": "rgb(17,17,17)",
            "gridcolor": "#506784",
            "gridwidth": 2,
            "linecolor": "#506784",
            "showbackground": true,
            "ticks": "",
            "zerolinecolor": "#C8D4E3"
           },
           "zaxis": {
            "backgroundcolor": "rgb(17,17,17)",
            "gridcolor": "#506784",
            "gridwidth": 2,
            "linecolor": "#506784",
            "showbackground": true,
            "ticks": "",
            "zerolinecolor": "#C8D4E3"
           }
          },
          "shapedefaults": {
           "line": {
            "color": "#f2f5fa"
           }
          },
          "sliderdefaults": {
           "bgcolor": "#C8D4E3",
           "bordercolor": "rgb(17,17,17)",
           "borderwidth": 1,
           "tickwidth": 0
          },
          "ternary": {
           "aaxis": {
            "gridcolor": "#506784",
            "linecolor": "#506784",
            "ticks": ""
           },
           "baxis": {
            "gridcolor": "#506784",
            "linecolor": "#506784",
            "ticks": ""
           },
           "bgcolor": "rgb(17,17,17)",
           "caxis": {
            "gridcolor": "#506784",
            "linecolor": "#506784",
            "ticks": ""
           }
          },
          "title": {
           "x": 0.05
          },
          "updatemenudefaults": {
           "bgcolor": "#506784",
           "borderwidth": 0
          },
          "xaxis": {
           "automargin": true,
           "gridcolor": "#283442",
           "linecolor": "#506784",
           "ticks": "",
           "title": {
            "standoff": 15
           },
           "zerolinecolor": "#283442",
           "zerolinewidth": 2
          },
          "yaxis": {
           "automargin": true,
           "gridcolor": "#283442",
           "linecolor": "#506784",
           "ticks": "",
           "title": {
            "standoff": 15
           },
           "zerolinecolor": "#283442",
           "zerolinewidth": 2
          }
         }
        },
        "title": {
         "text": "Distribution of the number of countries that have produced films featuring the character",
         "x": 0.5,
         "xanchor": "center"
        },
        "width": 900,
        "xaxis": {
         "anchor": "y",
         "domain": [
          0,
          1
         ],
         "title": {
          "text": "Number of countries that have produced films featuring the character"
         }
        },
        "yaxis": {
         "anchor": "x",
         "domain": [
          0,
          1
         ],
         "title": {
          "text": "Frequency"
         }
        }
       }
      }
     },
     "metadata": {},
     "output_type": "display_data"
    }
   ],
   "source": [
    "import plotly.express as px\n",
    "\n",
    "# Créer le graphique avec Plotly\n",
    "fig = px.histogram(\n",
    "    df_character_influence,\n",
    "    x='number_countries',\n",
    "    nbins=20,\n",
    "    title='Distribution of the number of countries that have produced films featuring the character',\n",
    "    labels={'number_countries': 'Number of Countries'},\n",
    "    template='plotly_dark'  # Vous pouvez choisir un autre thème (e.g., 'plotly_white')\n",
    ")\n",
    "\n",
    "# Ajuster les axes et le titre\n",
    "fig.update_layout(\n",
    "    width=900,  # Réduire la largeur\n",
    "    height=600,  # Augmenter la hauteur\n",
    "    xaxis_title='Number of countries that have produced films featuring the character',\n",
    "    yaxis_title='Frequency',\n",
    "    title={\n",
    "        'x': 0.5,  # Centrer le titre\n",
    "        'xanchor': 'center'\n",
    "    }\n",
    ")\n",
    "\n",
    "# Afficher le graphique\n",
    "fig.show()"
   ]
  },
  {
   "cell_type": "code",
   "execution_count": 116,
   "metadata": {},
   "outputs": [
    {
     "name": "stdout",
     "output_type": "stream",
     "text": [
      "Character                      428\n",
      "character_actor_freebase_id    428\n",
      "actor_name                     428\n",
      "first_movie_name               428\n",
      "first_apperance_date           428\n",
      "origin_country                 428\n",
      "all_countries                  428\n",
      "number_countries               428\n",
      "dtype: int64\n",
      "number of influence point to be given : 774\n"
     ]
    }
   ],
   "source": [
    "print(df_character_influence[df_character_influence['number_countries'] > 1].count()) #Number of characters that appear in more than one country\n",
    "print(\"number of influence point to be given :\",df_character_influence['number_countries'].sum()-970) #Number of influence point to be given"
   ]
  },
  {
   "cell_type": "markdown",
   "metadata": {},
   "source": [
    "Of the 970 characters, 428 appear in movies produced across different countries.\n",
    "\n",
    "For each countries that have produced films featuring the character, we will assign 1 character influence point to the character's origin country. This results in a total of 774 points being assigned.\n",
    "\n",
    "A major concern that remains is whether the method of taking the first movie appearance as the origin country of a character is reliable.\n",
    "\n",
    "Let's test this with the character that appears in movies produced in the most countries."
   ]
  },
  {
   "cell_type": "code",
   "execution_count": null,
   "metadata": {},
   "outputs": [
    {
     "data": {
      "text/html": [
       "<div>\n",
       "<style scoped>\n",
       "    .dataframe tbody tr th:only-of-type {\n",
       "        vertical-align: middle;\n",
       "    }\n",
       "\n",
       "    .dataframe tbody tr th {\n",
       "        vertical-align: top;\n",
       "    }\n",
       "\n",
       "    .dataframe thead th {\n",
       "        text-align: right;\n",
       "    }\n",
       "</style>\n",
       "<table border=\"1\" class=\"dataframe\">\n",
       "  <thead>\n",
       "    <tr style=\"text-align: right;\">\n",
       "      <th></th>\n",
       "      <th>Character</th>\n",
       "      <th>character_actor_freebase_id</th>\n",
       "      <th>actor_name</th>\n",
       "      <th>first_movie_name</th>\n",
       "      <th>first_apperance_date</th>\n",
       "      <th>origin_country</th>\n",
       "      <th>all_countries</th>\n",
       "      <th>number_countries</th>\n",
       "    </tr>\n",
       "  </thead>\n",
       "  <tbody>\n",
       "    <tr>\n",
       "      <th>120</th>\n",
       "      <td>Cardinal Richelieu</td>\n",
       "      <td>/m/02vbtwv</td>\n",
       "      <td>Charlton Heston</td>\n",
       "      <td>The Three Musketeers</td>\n",
       "      <td>1973-01-01</td>\n",
       "      <td>[United States of America, Spain, United Kingdom]</td>\n",
       "      <td>[Australia, Spain, Germany, Austria, France, P...</td>\n",
       "      <td>8</td>\n",
       "    </tr>\n",
       "  </tbody>\n",
       "</table>\n",
       "</div>"
      ],
      "text/plain": [
       "              Character character_actor_freebase_id       actor_name  \\\n",
       "120  Cardinal Richelieu                  /m/02vbtwv  Charlton Heston   \n",
       "\n",
       "         first_movie_name first_apperance_date  \\\n",
       "120  The Three Musketeers           1973-01-01   \n",
       "\n",
       "                                        origin_country  \\\n",
       "120  [United States of America, Spain, United Kingdom]   \n",
       "\n",
       "                                         all_countries  number_countries  \n",
       "120  [Australia, Spain, Germany, Austria, France, P...                 8  "
      ]
     },
     "execution_count": 11,
     "metadata": {},
     "output_type": "execute_result"
    }
   ],
   "source": [
    "#find the character that appear in 8 countries and show all the origin countries \n",
    "\n",
    "df_character_influence[df_character_influence['number_countries'] == 8].head()"
   ]
  },
  {
   "cell_type": "markdown",
   "metadata": {},
   "source": [
    "The character appearing in productions from the most different countries is Cardinal Richelieu (French origin). However, with our initial method, the influence points would not have been distributed to France but to UK, US and Spain.\n",
    "\n",
    "To overcome these inconsistencies, we decided to reuse the zero-shot classification method, already employed to analyze the cultural influence of the United States through movie summaries."
   ]
  },
  {
   "cell_type": "code",
   "execution_count": 108,
   "metadata": {},
   "outputs": [
    {
     "data": {
      "text/plain": [
       "<module 'scriptculture' from 'c:\\\\Users\\\\Oscar\\\\Project ADA\\\\ada-2024-project-teamcsx24\\\\src/scripts\\\\scriptculture.py'>"
      ]
     },
     "execution_count": 108,
     "metadata": {},
     "output_type": "execute_result"
    }
   ],
   "source": [
    "import scriptculture\n",
    "reload(scriptculture)"
   ]
  },
  {
   "cell_type": "code",
   "execution_count": null,
   "metadata": {},
   "outputs": [
    {
     "data": {
      "text/html": [
       "<div>\n",
       "<style scoped>\n",
       "    .dataframe tbody tr th:only-of-type {\n",
       "        vertical-align: middle;\n",
       "    }\n",
       "\n",
       "    .dataframe tbody tr th {\n",
       "        vertical-align: top;\n",
       "    }\n",
       "\n",
       "    .dataframe thead th {\n",
       "        text-align: right;\n",
       "    }\n",
       "</style>\n",
       "<table border=\"1\" class=\"dataframe\">\n",
       "  <thead>\n",
       "    <tr style=\"text-align: right;\">\n",
       "      <th></th>\n",
       "      <th>original_title</th>\n",
       "      <th>Character</th>\n",
       "      <th>Best_Country</th>\n",
       "      <th>number_countries_score</th>\n",
       "      <th>release_year</th>\n",
       "      <th>countries</th>\n",
       "      <th>new_countries</th>\n",
       "    </tr>\n",
       "  </thead>\n",
       "  <tbody>\n",
       "    <tr>\n",
       "      <th>0</th>\n",
       "      <td>Gypsy</td>\n",
       "      <td>'Baby' Louise</td>\n",
       "      <td>United States of America</td>\n",
       "      <td>1</td>\n",
       "      <td>1962.0</td>\n",
       "      <td>[United States of America]</td>\n",
       "      <td>0</td>\n",
       "    </tr>\n",
       "    <tr>\n",
       "      <th>1</th>\n",
       "      <td>Gypsy</td>\n",
       "      <td>'Baby' Louise</td>\n",
       "      <td>United States of America</td>\n",
       "      <td>1</td>\n",
       "      <td>1993.0</td>\n",
       "      <td>[United States of America]</td>\n",
       "      <td>0</td>\n",
       "    </tr>\n",
       "    <tr>\n",
       "      <th>3</th>\n",
       "      <td>Dhoom</td>\n",
       "      <td>ACP Jai Dixit</td>\n",
       "      <td>India</td>\n",
       "      <td>1</td>\n",
       "      <td>2004.0</td>\n",
       "      <td>[India]</td>\n",
       "      <td>0</td>\n",
       "    </tr>\n",
       "    <tr>\n",
       "      <th>2</th>\n",
       "      <td>Dhoom 2</td>\n",
       "      <td>ACP Jai Dixit</td>\n",
       "      <td>India</td>\n",
       "      <td>1</td>\n",
       "      <td>2006.0</td>\n",
       "      <td>[India]</td>\n",
       "      <td>0</td>\n",
       "    </tr>\n",
       "    <tr>\n",
       "      <th>5</th>\n",
       "      <td>National Treasure</td>\n",
       "      <td>Abigail Chase</td>\n",
       "      <td>United States of America</td>\n",
       "      <td>1</td>\n",
       "      <td>2004.0</td>\n",
       "      <td>[United States of America]</td>\n",
       "      <td>0</td>\n",
       "    </tr>\n",
       "  </tbody>\n",
       "</table>\n",
       "</div>"
      ],
      "text/plain": [
       "      original_title      Character              Best_Country  \\\n",
       "0              Gypsy  'Baby' Louise  United States of America   \n",
       "1              Gypsy  'Baby' Louise  United States of America   \n",
       "3              Dhoom  ACP Jai Dixit                     India   \n",
       "2            Dhoom 2  ACP Jai Dixit                     India   \n",
       "5  National Treasure  Abigail Chase  United States of America   \n",
       "\n",
       "   number_countries_score  release_year                   countries  \\\n",
       "0                       1        1962.0  [United States of America]   \n",
       "1                       1        1993.0  [United States of America]   \n",
       "3                       1        2004.0                     [India]   \n",
       "2                       1        2006.0                     [India]   \n",
       "5                       1        2004.0  [United States of America]   \n",
       "\n",
       "   new_countries  \n",
       "0              0  \n",
       "1              0  \n",
       "3              0  \n",
       "2              0  \n",
       "5              0  "
      ]
     },
     "execution_count": 104,
     "metadata": {},
     "output_type": "execute_result"
    }
   ],
   "source": [
    "from scriptculture import process_character_nlp     # Import the function that processes the data for this study with NLP method Origin attribution\n",
    "df_influence_character = process_character_nlp()\n",
    "df_influence_character.head()"
   ]
  },
  {
   "cell_type": "markdown",
   "metadata": {},
   "source": [
    "For this analysis, we submitted the name of each character to a zero-shot classification NLP model, which assigns a score to several labels representing the different countries in which the character has appeared. The country with the highest score then becomes the character's origin country.\n",
    "\n",
    "The detailed code for obtaining the score of each country per character can be found in the 'nlp_code' notebook within the 'models' directory.\n",
    "\n",
    "The processed dataset that we'll use for this analyse is completed with the features :\n",
    " - original_title : Original title of the movie of interest\n",
    " - Best_Country : The country with the highest score for the character becomes the assigned origin country.\n",
    " - number_countries_score : The number of countries that have produced films featuring the character\n",
    " - release_year : The date of release of the movie \n",
    " - countries : The production countries of the movie\n",
    " - new_countries : Is equal to the number of new countries that this film introduces in the character's number_countries score.\n"
   ]
  },
  {
   "cell_type": "markdown",
   "metadata": {},
   "source": [
    "From here, we want to create a horizontal bar chart that shows the temporal evolution of countries with the most influential characters, meaning the countries with the highest cumulative 'number_countries' score.\n",
    "\n",
    "To do this, we will create a temporal cumulative dataframe, which for each year will give the number of countries in which a character has appeared up until that year. We will then group this number by country for each year to obtain a ranking of the countries with the most influential characters each year. We will plot only the top 10 countries for each year"
   ]
  },
  {
   "cell_type": "code",
   "execution_count": null,
   "metadata": {},
   "outputs": [],
   "source": [
    "from scriptculture import create_cumulative_df_2\n",
    "#Create a temporal cumulative DataFrame for the number of new countries in which characters appear, that is the one will use to plot the number of character points of influence over time\n",
    "cumulative_df_2 = create_cumulative_df_2(df_influence_character[df_influence_character['number_countries'] > 1])  "
   ]
  },
  {
   "cell_type": "code",
   "execution_count": 38,
   "metadata": {},
   "outputs": [],
   "source": [
    "cumulative_df_2 = cumulative_df_2.sort_values(by=['release_year', 'tot'], ascending=[True, False])\n",
    "top_10_df_2 = cumulative_df_2.groupby('release_year').head(10)  #We will only keep the top 10 countries for each year in the plot\n",
    "\n",
    "# We will sort the countries by number of countries where a character appears\n",
    "top_10_df_2 = top_10_df_2.sort_values(by=['release_year', 'tot'], ascending=[True, True])\n"
   ]
  },
  {
   "cell_type": "code",
   "execution_count": 106,
   "metadata": {},
   "outputs": [
    {
     "data": {
      "application/vnd.plotly.v1+json": {
       "config": {
        "plotlyServerURL": "https://plot.ly"
       },
       "data": [
        {
         "alignmentgroup": "True",
         "hovertemplate": "Countries=%{y}<br>release_year=1910<br>Cumulated character influence score=%{x}<extra></extra>",
         "legendgroup": "Germany",
         "marker": {
          "color": "#636efa",
          "pattern": {
           "shape": ""
          }
         },
         "name": "Germany",
         "offsetgroup": "Germany",
         "orientation": "h",
         "showlegend": true,
         "textposition": "auto",
         "type": "bar",
         "x": [
          0
         ],
         "xaxis": "x",
         "y": [
          "Germany"
         ],
         "yaxis": "y"
        },
        {
         "alignmentgroup": "True",
         "hovertemplate": "Countries=%{y}<br>release_year=1910<br>Cumulated character influence score=%{x}<extra></extra>",
         "legendgroup": "United States of America",
         "marker": {
          "color": "#EF553B",
          "pattern": {
           "shape": ""
          }
         },
         "name": "United States of America",
         "offsetgroup": "United States of America",
         "orientation": "h",
         "showlegend": true,
         "textposition": "auto",
         "type": "bar",
         "x": [
          0
         ],
         "xaxis": "x",
         "y": [
          "United States of America"
         ],
         "yaxis": "y"
        },
        {
         "alignmentgroup": "True",
         "hovertemplate": "Countries=%{y}<br>release_year=1910<br>Cumulated character influence score=%{x}<extra></extra>",
         "legendgroup": "Brazil",
         "marker": {
          "color": "#00cc96",
          "pattern": {
           "shape": ""
          }
         },
         "name": "Brazil",
         "offsetgroup": "Brazil",
         "orientation": "h",
         "showlegend": true,
         "textposition": "auto",
         "type": "bar",
         "x": [
          0
         ],
         "xaxis": "x",
         "y": [
          "Brazil"
         ],
         "yaxis": "y"
        },
        {
         "alignmentgroup": "True",
         "hovertemplate": "Countries=%{y}<br>release_year=1910<br>Cumulated character influence score=%{x}<extra></extra>",
         "legendgroup": "Netherlands",
         "marker": {
          "color": "#ab63fa",
          "pattern": {
           "shape": ""
          }
         },
         "name": "Netherlands",
         "offsetgroup": "Netherlands",
         "orientation": "h",
         "showlegend": true,
         "textposition": "auto",
         "type": "bar",
         "x": [
          0
         ],
         "xaxis": "x",
         "y": [
          "Netherlands"
         ],
         "yaxis": "y"
        },
        {
         "alignmentgroup": "True",
         "hovertemplate": "Countries=%{y}<br>release_year=1910<br>Cumulated character influence score=%{x}<extra></extra>",
         "legendgroup": "Canada",
         "marker": {
          "color": "#FFA15A",
          "pattern": {
           "shape": ""
          }
         },
         "name": "Canada",
         "offsetgroup": "Canada",
         "orientation": "h",
         "showlegend": true,
         "textposition": "auto",
         "type": "bar",
         "x": [
          0
         ],
         "xaxis": "x",
         "y": [
          "Canada"
         ],
         "yaxis": "y"
        },
        {
         "alignmentgroup": "True",
         "hovertemplate": "Countries=%{y}<br>release_year=1910<br>Cumulated character influence score=%{x}<extra></extra>",
         "legendgroup": "France",
         "marker": {
          "color": "#19d3f3",
          "pattern": {
           "shape": ""
          }
         },
         "name": "France",
         "offsetgroup": "France",
         "orientation": "h",
         "showlegend": true,
         "textposition": "auto",
         "type": "bar",
         "x": [
          0
         ],
         "xaxis": "x",
         "y": [
          "France"
         ],
         "yaxis": "y"
        },
        {
         "alignmentgroup": "True",
         "hovertemplate": "Countries=%{y}<br>release_year=1910<br>Cumulated character influence score=%{x}<extra></extra>",
         "legendgroup": "Czech Republic",
         "marker": {
          "color": "#FF6692",
          "pattern": {
           "shape": ""
          }
         },
         "name": "Czech Republic",
         "offsetgroup": "Czech Republic",
         "orientation": "h",
         "showlegend": true,
         "textposition": "auto",
         "type": "bar",
         "x": [
          0
         ],
         "xaxis": "x",
         "y": [
          "Czech Republic"
         ],
         "yaxis": "y"
        },
        {
         "alignmentgroup": "True",
         "hovertemplate": "Countries=%{y}<br>release_year=1910<br>Cumulated character influence score=%{x}<extra></extra>",
         "legendgroup": "Hong Kong",
         "marker": {
          "color": "#B6E880",
          "pattern": {
           "shape": ""
          }
         },
         "name": "Hong Kong",
         "offsetgroup": "Hong Kong",
         "orientation": "h",
         "showlegend": true,
         "textposition": "auto",
         "type": "bar",
         "x": [
          0
         ],
         "xaxis": "x",
         "y": [
          "Hong Kong"
         ],
         "yaxis": "y"
        },
        {
         "alignmentgroup": "True",
         "hovertemplate": "Countries=%{y}<br>release_year=1910<br>Cumulated character influence score=%{x}<extra></extra>",
         "legendgroup": "West Germany",
         "marker": {
          "color": "#FF97FF",
          "pattern": {
           "shape": ""
          }
         },
         "name": "West Germany",
         "offsetgroup": "West Germany",
         "orientation": "h",
         "showlegend": true,
         "textposition": "auto",
         "type": "bar",
         "x": [
          0
         ],
         "xaxis": "x",
         "y": [
          "West Germany"
         ],
         "yaxis": "y"
        },
        {
         "alignmentgroup": "True",
         "hovertemplate": "Countries=%{y}<br>release_year=1910<br>Cumulated character influence score=%{x}<extra></extra>",
         "legendgroup": "United Kingdom",
         "marker": {
          "color": "#FECB52",
          "pattern": {
           "shape": ""
          }
         },
         "name": "United Kingdom",
         "offsetgroup": "United Kingdom",
         "orientation": "h",
         "showlegend": true,
         "textposition": "auto",
         "type": "bar",
         "x": [
          1
         ],
         "xaxis": "x",
         "y": [
          "United Kingdom"
         ],
         "yaxis": "y"
        }
       ],
       "frames": [
        {
         "data": [
          {
           "alignmentgroup": "True",
           "hovertemplate": "Countries=%{y}<br>release_year=1910<br>Cumulated character influence score=%{x}<extra></extra>",
           "legendgroup": "Germany",
           "marker": {
            "color": "#636efa",
            "pattern": {
             "shape": ""
            }
           },
           "name": "Germany",
           "offsetgroup": "Germany",
           "orientation": "h",
           "showlegend": true,
           "textposition": "auto",
           "type": "bar",
           "x": [
            0
           ],
           "xaxis": "x",
           "y": [
            "Germany"
           ],
           "yaxis": "y"
          },
          {
           "alignmentgroup": "True",
           "hovertemplate": "Countries=%{y}<br>release_year=1910<br>Cumulated character influence score=%{x}<extra></extra>",
           "legendgroup": "United States of America",
           "marker": {
            "color": "#EF553B",
            "pattern": {
             "shape": ""
            }
           },
           "name": "United States of America",
           "offsetgroup": "United States of America",
           "orientation": "h",
           "showlegend": true,
           "textposition": "auto",
           "type": "bar",
           "x": [
            0
           ],
           "xaxis": "x",
           "y": [
            "United States of America"
           ],
           "yaxis": "y"
          },
          {
           "alignmentgroup": "True",
           "hovertemplate": "Countries=%{y}<br>release_year=1910<br>Cumulated character influence score=%{x}<extra></extra>",
           "legendgroup": "Brazil",
           "marker": {
            "color": "#00cc96",
            "pattern": {
             "shape": ""
            }
           },
           "name": "Brazil",
           "offsetgroup": "Brazil",
           "orientation": "h",
           "showlegend": true,
           "textposition": "auto",
           "type": "bar",
           "x": [
            0
           ],
           "xaxis": "x",
           "y": [
            "Brazil"
           ],
           "yaxis": "y"
          },
          {
           "alignmentgroup": "True",
           "hovertemplate": "Countries=%{y}<br>release_year=1910<br>Cumulated character influence score=%{x}<extra></extra>",
           "legendgroup": "Netherlands",
           "marker": {
            "color": "#ab63fa",
            "pattern": {
             "shape": ""
            }
           },
           "name": "Netherlands",
           "offsetgroup": "Netherlands",
           "orientation": "h",
           "showlegend": true,
           "textposition": "auto",
           "type": "bar",
           "x": [
            0
           ],
           "xaxis": "x",
           "y": [
            "Netherlands"
           ],
           "yaxis": "y"
          },
          {
           "alignmentgroup": "True",
           "hovertemplate": "Countries=%{y}<br>release_year=1910<br>Cumulated character influence score=%{x}<extra></extra>",
           "legendgroup": "Canada",
           "marker": {
            "color": "#FFA15A",
            "pattern": {
             "shape": ""
            }
           },
           "name": "Canada",
           "offsetgroup": "Canada",
           "orientation": "h",
           "showlegend": true,
           "textposition": "auto",
           "type": "bar",
           "x": [
            0
           ],
           "xaxis": "x",
           "y": [
            "Canada"
           ],
           "yaxis": "y"
          },
          {
           "alignmentgroup": "True",
           "hovertemplate": "Countries=%{y}<br>release_year=1910<br>Cumulated character influence score=%{x}<extra></extra>",
           "legendgroup": "France",
           "marker": {
            "color": "#19d3f3",
            "pattern": {
             "shape": ""
            }
           },
           "name": "France",
           "offsetgroup": "France",
           "orientation": "h",
           "showlegend": true,
           "textposition": "auto",
           "type": "bar",
           "x": [
            0
           ],
           "xaxis": "x",
           "y": [
            "France"
           ],
           "yaxis": "y"
          },
          {
           "alignmentgroup": "True",
           "hovertemplate": "Countries=%{y}<br>release_year=1910<br>Cumulated character influence score=%{x}<extra></extra>",
           "legendgroup": "Czech Republic",
           "marker": {
            "color": "#FF6692",
            "pattern": {
             "shape": ""
            }
           },
           "name": "Czech Republic",
           "offsetgroup": "Czech Republic",
           "orientation": "h",
           "showlegend": true,
           "textposition": "auto",
           "type": "bar",
           "x": [
            0
           ],
           "xaxis": "x",
           "y": [
            "Czech Republic"
           ],
           "yaxis": "y"
          },
          {
           "alignmentgroup": "True",
           "hovertemplate": "Countries=%{y}<br>release_year=1910<br>Cumulated character influence score=%{x}<extra></extra>",
           "legendgroup": "Hong Kong",
           "marker": {
            "color": "#B6E880",
            "pattern": {
             "shape": ""
            }
           },
           "name": "Hong Kong",
           "offsetgroup": "Hong Kong",
           "orientation": "h",
           "showlegend": true,
           "textposition": "auto",
           "type": "bar",
           "x": [
            0
           ],
           "xaxis": "x",
           "y": [
            "Hong Kong"
           ],
           "yaxis": "y"
          },
          {
           "alignmentgroup": "True",
           "hovertemplate": "Countries=%{y}<br>release_year=1910<br>Cumulated character influence score=%{x}<extra></extra>",
           "legendgroup": "West Germany",
           "marker": {
            "color": "#FF97FF",
            "pattern": {
             "shape": ""
            }
           },
           "name": "West Germany",
           "offsetgroup": "West Germany",
           "orientation": "h",
           "showlegend": true,
           "textposition": "auto",
           "type": "bar",
           "x": [
            0
           ],
           "xaxis": "x",
           "y": [
            "West Germany"
           ],
           "yaxis": "y"
          },
          {
           "alignmentgroup": "True",
           "hovertemplate": "Countries=%{y}<br>release_year=1910<br>Cumulated character influence score=%{x}<extra></extra>",
           "legendgroup": "United Kingdom",
           "marker": {
            "color": "#FECB52",
            "pattern": {
             "shape": ""
            }
           },
           "name": "United Kingdom",
           "offsetgroup": "United Kingdom",
           "orientation": "h",
           "showlegend": true,
           "textposition": "auto",
           "type": "bar",
           "x": [
            1
           ],
           "xaxis": "x",
           "y": [
            "United Kingdom"
           ],
           "yaxis": "y"
          }
         ],
         "name": "1910"
        },
        {
         "data": [
          {
           "alignmentgroup": "True",
           "hovertemplate": "Countries=%{y}<br>release_year=1911<br>Cumulated character influence score=%{x}<extra></extra>",
           "legendgroup": "Germany",
           "marker": {
            "color": "#636efa",
            "pattern": {
             "shape": ""
            }
           },
           "name": "Germany",
           "offsetgroup": "Germany",
           "orientation": "h",
           "showlegend": true,
           "textposition": "auto",
           "type": "bar",
           "x": [
            0
           ],
           "xaxis": "x",
           "y": [
            "Germany"
           ],
           "yaxis": "y"
          },
          {
           "alignmentgroup": "True",
           "hovertemplate": "Countries=%{y}<br>release_year=1911<br>Cumulated character influence score=%{x}<extra></extra>",
           "legendgroup": "United States of America",
           "marker": {
            "color": "#EF553B",
            "pattern": {
             "shape": ""
            }
           },
           "name": "United States of America",
           "offsetgroup": "United States of America",
           "orientation": "h",
           "showlegend": true,
           "textposition": "auto",
           "type": "bar",
           "x": [
            0
           ],
           "xaxis": "x",
           "y": [
            "United States of America"
           ],
           "yaxis": "y"
          },
          {
           "alignmentgroup": "True",
           "hovertemplate": "Countries=%{y}<br>release_year=1911<br>Cumulated character influence score=%{x}<extra></extra>",
           "legendgroup": "Brazil",
           "marker": {
            "color": "#00cc96",
            "pattern": {
             "shape": ""
            }
           },
           "name": "Brazil",
           "offsetgroup": "Brazil",
           "orientation": "h",
           "showlegend": true,
           "textposition": "auto",
           "type": "bar",
           "x": [
            0
           ],
           "xaxis": "x",
           "y": [
            "Brazil"
           ],
           "yaxis": "y"
          },
          {
           "alignmentgroup": "True",
           "hovertemplate": "Countries=%{y}<br>release_year=1911<br>Cumulated character influence score=%{x}<extra></extra>",
           "legendgroup": "Netherlands",
           "marker": {
            "color": "#ab63fa",
            "pattern": {
             "shape": ""
            }
           },
           "name": "Netherlands",
           "offsetgroup": "Netherlands",
           "orientation": "h",
           "showlegend": true,
           "textposition": "auto",
           "type": "bar",
           "x": [
            0
           ],
           "xaxis": "x",
           "y": [
            "Netherlands"
           ],
           "yaxis": "y"
          },
          {
           "alignmentgroup": "True",
           "hovertemplate": "Countries=%{y}<br>release_year=1911<br>Cumulated character influence score=%{x}<extra></extra>",
           "legendgroup": "Canada",
           "marker": {
            "color": "#FFA15A",
            "pattern": {
             "shape": ""
            }
           },
           "name": "Canada",
           "offsetgroup": "Canada",
           "orientation": "h",
           "showlegend": true,
           "textposition": "auto",
           "type": "bar",
           "x": [
            0
           ],
           "xaxis": "x",
           "y": [
            "Canada"
           ],
           "yaxis": "y"
          },
          {
           "alignmentgroup": "True",
           "hovertemplate": "Countries=%{y}<br>release_year=1911<br>Cumulated character influence score=%{x}<extra></extra>",
           "legendgroup": "France",
           "marker": {
            "color": "#19d3f3",
            "pattern": {
             "shape": ""
            }
           },
           "name": "France",
           "offsetgroup": "France",
           "orientation": "h",
           "showlegend": true,
           "textposition": "auto",
           "type": "bar",
           "x": [
            0
           ],
           "xaxis": "x",
           "y": [
            "France"
           ],
           "yaxis": "y"
          },
          {
           "alignmentgroup": "True",
           "hovertemplate": "Countries=%{y}<br>release_year=1911<br>Cumulated character influence score=%{x}<extra></extra>",
           "legendgroup": "Czech Republic",
           "marker": {
            "color": "#FF6692",
            "pattern": {
             "shape": ""
            }
           },
           "name": "Czech Republic",
           "offsetgroup": "Czech Republic",
           "orientation": "h",
           "showlegend": true,
           "textposition": "auto",
           "type": "bar",
           "x": [
            0
           ],
           "xaxis": "x",
           "y": [
            "Czech Republic"
           ],
           "yaxis": "y"
          },
          {
           "alignmentgroup": "True",
           "hovertemplate": "Countries=%{y}<br>release_year=1911<br>Cumulated character influence score=%{x}<extra></extra>",
           "legendgroup": "Hong Kong",
           "marker": {
            "color": "#B6E880",
            "pattern": {
             "shape": ""
            }
           },
           "name": "Hong Kong",
           "offsetgroup": "Hong Kong",
           "orientation": "h",
           "showlegend": true,
           "textposition": "auto",
           "type": "bar",
           "x": [
            0
           ],
           "xaxis": "x",
           "y": [
            "Hong Kong"
           ],
           "yaxis": "y"
          },
          {
           "alignmentgroup": "True",
           "hovertemplate": "Countries=%{y}<br>release_year=1911<br>Cumulated character influence score=%{x}<extra></extra>",
           "legendgroup": "West Germany",
           "marker": {
            "color": "#FF97FF",
            "pattern": {
             "shape": ""
            }
           },
           "name": "West Germany",
           "offsetgroup": "West Germany",
           "orientation": "h",
           "showlegend": true,
           "textposition": "auto",
           "type": "bar",
           "x": [
            0
           ],
           "xaxis": "x",
           "y": [
            "West Germany"
           ],
           "yaxis": "y"
          },
          {
           "alignmentgroup": "True",
           "hovertemplate": "Countries=%{y}<br>release_year=1911<br>Cumulated character influence score=%{x}<extra></extra>",
           "legendgroup": "United Kingdom",
           "marker": {
            "color": "#FECB52",
            "pattern": {
             "shape": ""
            }
           },
           "name": "United Kingdom",
           "offsetgroup": "United Kingdom",
           "orientation": "h",
           "showlegend": true,
           "textposition": "auto",
           "type": "bar",
           "x": [
            1
           ],
           "xaxis": "x",
           "y": [
            "United Kingdom"
           ],
           "yaxis": "y"
          }
         ],
         "name": "1911"
        },
        {
         "data": [
          {
           "alignmentgroup": "True",
           "hovertemplate": "Countries=%{y}<br>release_year=1912<br>Cumulated character influence score=%{x}<extra></extra>",
           "legendgroup": "Germany",
           "marker": {
            "color": "#636efa",
            "pattern": {
             "shape": ""
            }
           },
           "name": "Germany",
           "offsetgroup": "Germany",
           "orientation": "h",
           "showlegend": true,
           "textposition": "auto",
           "type": "bar",
           "x": [
            0
           ],
           "xaxis": "x",
           "y": [
            "Germany"
           ],
           "yaxis": "y"
          },
          {
           "alignmentgroup": "True",
           "hovertemplate": "Countries=%{y}<br>release_year=1912<br>Cumulated character influence score=%{x}<extra></extra>",
           "legendgroup": "United States of America",
           "marker": {
            "color": "#EF553B",
            "pattern": {
             "shape": ""
            }
           },
           "name": "United States of America",
           "offsetgroup": "United States of America",
           "orientation": "h",
           "showlegend": true,
           "textposition": "auto",
           "type": "bar",
           "x": [
            0
           ],
           "xaxis": "x",
           "y": [
            "United States of America"
           ],
           "yaxis": "y"
          },
          {
           "alignmentgroup": "True",
           "hovertemplate": "Countries=%{y}<br>release_year=1912<br>Cumulated character influence score=%{x}<extra></extra>",
           "legendgroup": "Brazil",
           "marker": {
            "color": "#00cc96",
            "pattern": {
             "shape": ""
            }
           },
           "name": "Brazil",
           "offsetgroup": "Brazil",
           "orientation": "h",
           "showlegend": true,
           "textposition": "auto",
           "type": "bar",
           "x": [
            0
           ],
           "xaxis": "x",
           "y": [
            "Brazil"
           ],
           "yaxis": "y"
          },
          {
           "alignmentgroup": "True",
           "hovertemplate": "Countries=%{y}<br>release_year=1912<br>Cumulated character influence score=%{x}<extra></extra>",
           "legendgroup": "Netherlands",
           "marker": {
            "color": "#ab63fa",
            "pattern": {
             "shape": ""
            }
           },
           "name": "Netherlands",
           "offsetgroup": "Netherlands",
           "orientation": "h",
           "showlegend": true,
           "textposition": "auto",
           "type": "bar",
           "x": [
            0
           ],
           "xaxis": "x",
           "y": [
            "Netherlands"
           ],
           "yaxis": "y"
          },
          {
           "alignmentgroup": "True",
           "hovertemplate": "Countries=%{y}<br>release_year=1912<br>Cumulated character influence score=%{x}<extra></extra>",
           "legendgroup": "Canada",
           "marker": {
            "color": "#FFA15A",
            "pattern": {
             "shape": ""
            }
           },
           "name": "Canada",
           "offsetgroup": "Canada",
           "orientation": "h",
           "showlegend": true,
           "textposition": "auto",
           "type": "bar",
           "x": [
            0
           ],
           "xaxis": "x",
           "y": [
            "Canada"
           ],
           "yaxis": "y"
          },
          {
           "alignmentgroup": "True",
           "hovertemplate": "Countries=%{y}<br>release_year=1912<br>Cumulated character influence score=%{x}<extra></extra>",
           "legendgroup": "France",
           "marker": {
            "color": "#19d3f3",
            "pattern": {
             "shape": ""
            }
           },
           "name": "France",
           "offsetgroup": "France",
           "orientation": "h",
           "showlegend": true,
           "textposition": "auto",
           "type": "bar",
           "x": [
            0
           ],
           "xaxis": "x",
           "y": [
            "France"
           ],
           "yaxis": "y"
          },
          {
           "alignmentgroup": "True",
           "hovertemplate": "Countries=%{y}<br>release_year=1912<br>Cumulated character influence score=%{x}<extra></extra>",
           "legendgroup": "Czech Republic",
           "marker": {
            "color": "#FF6692",
            "pattern": {
             "shape": ""
            }
           },
           "name": "Czech Republic",
           "offsetgroup": "Czech Republic",
           "orientation": "h",
           "showlegend": true,
           "textposition": "auto",
           "type": "bar",
           "x": [
            0
           ],
           "xaxis": "x",
           "y": [
            "Czech Republic"
           ],
           "yaxis": "y"
          },
          {
           "alignmentgroup": "True",
           "hovertemplate": "Countries=%{y}<br>release_year=1912<br>Cumulated character influence score=%{x}<extra></extra>",
           "legendgroup": "Hong Kong",
           "marker": {
            "color": "#B6E880",
            "pattern": {
             "shape": ""
            }
           },
           "name": "Hong Kong",
           "offsetgroup": "Hong Kong",
           "orientation": "h",
           "showlegend": true,
           "textposition": "auto",
           "type": "bar",
           "x": [
            0
           ],
           "xaxis": "x",
           "y": [
            "Hong Kong"
           ],
           "yaxis": "y"
          },
          {
           "alignmentgroup": "True",
           "hovertemplate": "Countries=%{y}<br>release_year=1912<br>Cumulated character influence score=%{x}<extra></extra>",
           "legendgroup": "West Germany",
           "marker": {
            "color": "#FF97FF",
            "pattern": {
             "shape": ""
            }
           },
           "name": "West Germany",
           "offsetgroup": "West Germany",
           "orientation": "h",
           "showlegend": true,
           "textposition": "auto",
           "type": "bar",
           "x": [
            0
           ],
           "xaxis": "x",
           "y": [
            "West Germany"
           ],
           "yaxis": "y"
          },
          {
           "alignmentgroup": "True",
           "hovertemplate": "Countries=%{y}<br>release_year=1912<br>Cumulated character influence score=%{x}<extra></extra>",
           "legendgroup": "United Kingdom",
           "marker": {
            "color": "#FECB52",
            "pattern": {
             "shape": ""
            }
           },
           "name": "United Kingdom",
           "offsetgroup": "United Kingdom",
           "orientation": "h",
           "showlegend": true,
           "textposition": "auto",
           "type": "bar",
           "x": [
            1
           ],
           "xaxis": "x",
           "y": [
            "United Kingdom"
           ],
           "yaxis": "y"
          }
         ],
         "name": "1912"
        },
        {
         "data": [
          {
           "alignmentgroup": "True",
           "hovertemplate": "Countries=%{y}<br>release_year=1913<br>Cumulated character influence score=%{x}<extra></extra>",
           "legendgroup": "Germany",
           "marker": {
            "color": "#636efa",
            "pattern": {
             "shape": ""
            }
           },
           "name": "Germany",
           "offsetgroup": "Germany",
           "orientation": "h",
           "showlegend": true,
           "textposition": "auto",
           "type": "bar",
           "x": [
            0
           ],
           "xaxis": "x",
           "y": [
            "Germany"
           ],
           "yaxis": "y"
          },
          {
           "alignmentgroup": "True",
           "hovertemplate": "Countries=%{y}<br>release_year=1913<br>Cumulated character influence score=%{x}<extra></extra>",
           "legendgroup": "United States of America",
           "marker": {
            "color": "#EF553B",
            "pattern": {
             "shape": ""
            }
           },
           "name": "United States of America",
           "offsetgroup": "United States of America",
           "orientation": "h",
           "showlegend": true,
           "textposition": "auto",
           "type": "bar",
           "x": [
            0
           ],
           "xaxis": "x",
           "y": [
            "United States of America"
           ],
           "yaxis": "y"
          },
          {
           "alignmentgroup": "True",
           "hovertemplate": "Countries=%{y}<br>release_year=1913<br>Cumulated character influence score=%{x}<extra></extra>",
           "legendgroup": "Brazil",
           "marker": {
            "color": "#00cc96",
            "pattern": {
             "shape": ""
            }
           },
           "name": "Brazil",
           "offsetgroup": "Brazil",
           "orientation": "h",
           "showlegend": true,
           "textposition": "auto",
           "type": "bar",
           "x": [
            0
           ],
           "xaxis": "x",
           "y": [
            "Brazil"
           ],
           "yaxis": "y"
          },
          {
           "alignmentgroup": "True",
           "hovertemplate": "Countries=%{y}<br>release_year=1913<br>Cumulated character influence score=%{x}<extra></extra>",
           "legendgroup": "Netherlands",
           "marker": {
            "color": "#ab63fa",
            "pattern": {
             "shape": ""
            }
           },
           "name": "Netherlands",
           "offsetgroup": "Netherlands",
           "orientation": "h",
           "showlegend": true,
           "textposition": "auto",
           "type": "bar",
           "x": [
            0
           ],
           "xaxis": "x",
           "y": [
            "Netherlands"
           ],
           "yaxis": "y"
          },
          {
           "alignmentgroup": "True",
           "hovertemplate": "Countries=%{y}<br>release_year=1913<br>Cumulated character influence score=%{x}<extra></extra>",
           "legendgroup": "Canada",
           "marker": {
            "color": "#FFA15A",
            "pattern": {
             "shape": ""
            }
           },
           "name": "Canada",
           "offsetgroup": "Canada",
           "orientation": "h",
           "showlegend": true,
           "textposition": "auto",
           "type": "bar",
           "x": [
            0
           ],
           "xaxis": "x",
           "y": [
            "Canada"
           ],
           "yaxis": "y"
          },
          {
           "alignmentgroup": "True",
           "hovertemplate": "Countries=%{y}<br>release_year=1913<br>Cumulated character influence score=%{x}<extra></extra>",
           "legendgroup": "France",
           "marker": {
            "color": "#19d3f3",
            "pattern": {
             "shape": ""
            }
           },
           "name": "France",
           "offsetgroup": "France",
           "orientation": "h",
           "showlegend": true,
           "textposition": "auto",
           "type": "bar",
           "x": [
            0
           ],
           "xaxis": "x",
           "y": [
            "France"
           ],
           "yaxis": "y"
          },
          {
           "alignmentgroup": "True",
           "hovertemplate": "Countries=%{y}<br>release_year=1913<br>Cumulated character influence score=%{x}<extra></extra>",
           "legendgroup": "Czech Republic",
           "marker": {
            "color": "#FF6692",
            "pattern": {
             "shape": ""
            }
           },
           "name": "Czech Republic",
           "offsetgroup": "Czech Republic",
           "orientation": "h",
           "showlegend": true,
           "textposition": "auto",
           "type": "bar",
           "x": [
            0
           ],
           "xaxis": "x",
           "y": [
            "Czech Republic"
           ],
           "yaxis": "y"
          },
          {
           "alignmentgroup": "True",
           "hovertemplate": "Countries=%{y}<br>release_year=1913<br>Cumulated character influence score=%{x}<extra></extra>",
           "legendgroup": "Hong Kong",
           "marker": {
            "color": "#B6E880",
            "pattern": {
             "shape": ""
            }
           },
           "name": "Hong Kong",
           "offsetgroup": "Hong Kong",
           "orientation": "h",
           "showlegend": true,
           "textposition": "auto",
           "type": "bar",
           "x": [
            0
           ],
           "xaxis": "x",
           "y": [
            "Hong Kong"
           ],
           "yaxis": "y"
          },
          {
           "alignmentgroup": "True",
           "hovertemplate": "Countries=%{y}<br>release_year=1913<br>Cumulated character influence score=%{x}<extra></extra>",
           "legendgroup": "West Germany",
           "marker": {
            "color": "#FF97FF",
            "pattern": {
             "shape": ""
            }
           },
           "name": "West Germany",
           "offsetgroup": "West Germany",
           "orientation": "h",
           "showlegend": true,
           "textposition": "auto",
           "type": "bar",
           "x": [
            0
           ],
           "xaxis": "x",
           "y": [
            "West Germany"
           ],
           "yaxis": "y"
          },
          {
           "alignmentgroup": "True",
           "hovertemplate": "Countries=%{y}<br>release_year=1913<br>Cumulated character influence score=%{x}<extra></extra>",
           "legendgroup": "United Kingdom",
           "marker": {
            "color": "#FECB52",
            "pattern": {
             "shape": ""
            }
           },
           "name": "United Kingdom",
           "offsetgroup": "United Kingdom",
           "orientation": "h",
           "showlegend": true,
           "textposition": "auto",
           "type": "bar",
           "x": [
            1
           ],
           "xaxis": "x",
           "y": [
            "United Kingdom"
           ],
           "yaxis": "y"
          }
         ],
         "name": "1913"
        },
        {
         "data": [
          {
           "alignmentgroup": "True",
           "hovertemplate": "Countries=%{y}<br>release_year=1914<br>Cumulated character influence score=%{x}<extra></extra>",
           "legendgroup": "Germany",
           "marker": {
            "color": "#636efa",
            "pattern": {
             "shape": ""
            }
           },
           "name": "Germany",
           "offsetgroup": "Germany",
           "orientation": "h",
           "showlegend": true,
           "textposition": "auto",
           "type": "bar",
           "x": [
            0
           ],
           "xaxis": "x",
           "y": [
            "Germany"
           ],
           "yaxis": "y"
          },
          {
           "alignmentgroup": "True",
           "hovertemplate": "Countries=%{y}<br>release_year=1914<br>Cumulated character influence score=%{x}<extra></extra>",
           "legendgroup": "United States of America",
           "marker": {
            "color": "#EF553B",
            "pattern": {
             "shape": ""
            }
           },
           "name": "United States of America",
           "offsetgroup": "United States of America",
           "orientation": "h",
           "showlegend": true,
           "textposition": "auto",
           "type": "bar",
           "x": [
            0
           ],
           "xaxis": "x",
           "y": [
            "United States of America"
           ],
           "yaxis": "y"
          },
          {
           "alignmentgroup": "True",
           "hovertemplate": "Countries=%{y}<br>release_year=1914<br>Cumulated character influence score=%{x}<extra></extra>",
           "legendgroup": "Brazil",
           "marker": {
            "color": "#00cc96",
            "pattern": {
             "shape": ""
            }
           },
           "name": "Brazil",
           "offsetgroup": "Brazil",
           "orientation": "h",
           "showlegend": true,
           "textposition": "auto",
           "type": "bar",
           "x": [
            0
           ],
           "xaxis": "x",
           "y": [
            "Brazil"
           ],
           "yaxis": "y"
          },
          {
           "alignmentgroup": "True",
           "hovertemplate": "Countries=%{y}<br>release_year=1914<br>Cumulated character influence score=%{x}<extra></extra>",
           "legendgroup": "Netherlands",
           "marker": {
            "color": "#ab63fa",
            "pattern": {
             "shape": ""
            }
           },
           "name": "Netherlands",
           "offsetgroup": "Netherlands",
           "orientation": "h",
           "showlegend": true,
           "textposition": "auto",
           "type": "bar",
           "x": [
            0
           ],
           "xaxis": "x",
           "y": [
            "Netherlands"
           ],
           "yaxis": "y"
          },
          {
           "alignmentgroup": "True",
           "hovertemplate": "Countries=%{y}<br>release_year=1914<br>Cumulated character influence score=%{x}<extra></extra>",
           "legendgroup": "Canada",
           "marker": {
            "color": "#FFA15A",
            "pattern": {
             "shape": ""
            }
           },
           "name": "Canada",
           "offsetgroup": "Canada",
           "orientation": "h",
           "showlegend": true,
           "textposition": "auto",
           "type": "bar",
           "x": [
            0
           ],
           "xaxis": "x",
           "y": [
            "Canada"
           ],
           "yaxis": "y"
          },
          {
           "alignmentgroup": "True",
           "hovertemplate": "Countries=%{y}<br>release_year=1914<br>Cumulated character influence score=%{x}<extra></extra>",
           "legendgroup": "France",
           "marker": {
            "color": "#19d3f3",
            "pattern": {
             "shape": ""
            }
           },
           "name": "France",
           "offsetgroup": "France",
           "orientation": "h",
           "showlegend": true,
           "textposition": "auto",
           "type": "bar",
           "x": [
            0
           ],
           "xaxis": "x",
           "y": [
            "France"
           ],
           "yaxis": "y"
          },
          {
           "alignmentgroup": "True",
           "hovertemplate": "Countries=%{y}<br>release_year=1914<br>Cumulated character influence score=%{x}<extra></extra>",
           "legendgroup": "Czech Republic",
           "marker": {
            "color": "#FF6692",
            "pattern": {
             "shape": ""
            }
           },
           "name": "Czech Republic",
           "offsetgroup": "Czech Republic",
           "orientation": "h",
           "showlegend": true,
           "textposition": "auto",
           "type": "bar",
           "x": [
            0
           ],
           "xaxis": "x",
           "y": [
            "Czech Republic"
           ],
           "yaxis": "y"
          },
          {
           "alignmentgroup": "True",
           "hovertemplate": "Countries=%{y}<br>release_year=1914<br>Cumulated character influence score=%{x}<extra></extra>",
           "legendgroup": "Hong Kong",
           "marker": {
            "color": "#B6E880",
            "pattern": {
             "shape": ""
            }
           },
           "name": "Hong Kong",
           "offsetgroup": "Hong Kong",
           "orientation": "h",
           "showlegend": true,
           "textposition": "auto",
           "type": "bar",
           "x": [
            0
           ],
           "xaxis": "x",
           "y": [
            "Hong Kong"
           ],
           "yaxis": "y"
          },
          {
           "alignmentgroup": "True",
           "hovertemplate": "Countries=%{y}<br>release_year=1914<br>Cumulated character influence score=%{x}<extra></extra>",
           "legendgroup": "West Germany",
           "marker": {
            "color": "#FF97FF",
            "pattern": {
             "shape": ""
            }
           },
           "name": "West Germany",
           "offsetgroup": "West Germany",
           "orientation": "h",
           "showlegend": true,
           "textposition": "auto",
           "type": "bar",
           "x": [
            0
           ],
           "xaxis": "x",
           "y": [
            "West Germany"
           ],
           "yaxis": "y"
          },
          {
           "alignmentgroup": "True",
           "hovertemplate": "Countries=%{y}<br>release_year=1914<br>Cumulated character influence score=%{x}<extra></extra>",
           "legendgroup": "United Kingdom",
           "marker": {
            "color": "#FECB52",
            "pattern": {
             "shape": ""
            }
           },
           "name": "United Kingdom",
           "offsetgroup": "United Kingdom",
           "orientation": "h",
           "showlegend": true,
           "textposition": "auto",
           "type": "bar",
           "x": [
            1
           ],
           "xaxis": "x",
           "y": [
            "United Kingdom"
           ],
           "yaxis": "y"
          }
         ],
         "name": "1914"
        },
        {
         "data": [
          {
           "alignmentgroup": "True",
           "hovertemplate": "Countries=%{y}<br>release_year=1915<br>Cumulated character influence score=%{x}<extra></extra>",
           "legendgroup": "Germany",
           "marker": {
            "color": "#636efa",
            "pattern": {
             "shape": ""
            }
           },
           "name": "Germany",
           "offsetgroup": "Germany",
           "orientation": "h",
           "showlegend": true,
           "textposition": "auto",
           "type": "bar",
           "x": [
            0
           ],
           "xaxis": "x",
           "y": [
            "Germany"
           ],
           "yaxis": "y"
          },
          {
           "alignmentgroup": "True",
           "hovertemplate": "Countries=%{y}<br>release_year=1915<br>Cumulated character influence score=%{x}<extra></extra>",
           "legendgroup": "United States of America",
           "marker": {
            "color": "#EF553B",
            "pattern": {
             "shape": ""
            }
           },
           "name": "United States of America",
           "offsetgroup": "United States of America",
           "orientation": "h",
           "showlegend": true,
           "textposition": "auto",
           "type": "bar",
           "x": [
            0
           ],
           "xaxis": "x",
           "y": [
            "United States of America"
           ],
           "yaxis": "y"
          },
          {
           "alignmentgroup": "True",
           "hovertemplate": "Countries=%{y}<br>release_year=1915<br>Cumulated character influence score=%{x}<extra></extra>",
           "legendgroup": "Brazil",
           "marker": {
            "color": "#00cc96",
            "pattern": {
             "shape": ""
            }
           },
           "name": "Brazil",
           "offsetgroup": "Brazil",
           "orientation": "h",
           "showlegend": true,
           "textposition": "auto",
           "type": "bar",
           "x": [
            0
           ],
           "xaxis": "x",
           "y": [
            "Brazil"
           ],
           "yaxis": "y"
          },
          {
           "alignmentgroup": "True",
           "hovertemplate": "Countries=%{y}<br>release_year=1915<br>Cumulated character influence score=%{x}<extra></extra>",
           "legendgroup": "Netherlands",
           "marker": {
            "color": "#ab63fa",
            "pattern": {
             "shape": ""
            }
           },
           "name": "Netherlands",
           "offsetgroup": "Netherlands",
           "orientation": "h",
           "showlegend": true,
           "textposition": "auto",
           "type": "bar",
           "x": [
            0
           ],
           "xaxis": "x",
           "y": [
            "Netherlands"
           ],
           "yaxis": "y"
          },
          {
           "alignmentgroup": "True",
           "hovertemplate": "Countries=%{y}<br>release_year=1915<br>Cumulated character influence score=%{x}<extra></extra>",
           "legendgroup": "Canada",
           "marker": {
            "color": "#FFA15A",
            "pattern": {
             "shape": ""
            }
           },
           "name": "Canada",
           "offsetgroup": "Canada",
           "orientation": "h",
           "showlegend": true,
           "textposition": "auto",
           "type": "bar",
           "x": [
            0
           ],
           "xaxis": "x",
           "y": [
            "Canada"
           ],
           "yaxis": "y"
          },
          {
           "alignmentgroup": "True",
           "hovertemplate": "Countries=%{y}<br>release_year=1915<br>Cumulated character influence score=%{x}<extra></extra>",
           "legendgroup": "France",
           "marker": {
            "color": "#19d3f3",
            "pattern": {
             "shape": ""
            }
           },
           "name": "France",
           "offsetgroup": "France",
           "orientation": "h",
           "showlegend": true,
           "textposition": "auto",
           "type": "bar",
           "x": [
            0
           ],
           "xaxis": "x",
           "y": [
            "France"
           ],
           "yaxis": "y"
          },
          {
           "alignmentgroup": "True",
           "hovertemplate": "Countries=%{y}<br>release_year=1915<br>Cumulated character influence score=%{x}<extra></extra>",
           "legendgroup": "Czech Republic",
           "marker": {
            "color": "#FF6692",
            "pattern": {
             "shape": ""
            }
           },
           "name": "Czech Republic",
           "offsetgroup": "Czech Republic",
           "orientation": "h",
           "showlegend": true,
           "textposition": "auto",
           "type": "bar",
           "x": [
            0
           ],
           "xaxis": "x",
           "y": [
            "Czech Republic"
           ],
           "yaxis": "y"
          },
          {
           "alignmentgroup": "True",
           "hovertemplate": "Countries=%{y}<br>release_year=1915<br>Cumulated character influence score=%{x}<extra></extra>",
           "legendgroup": "Hong Kong",
           "marker": {
            "color": "#B6E880",
            "pattern": {
             "shape": ""
            }
           },
           "name": "Hong Kong",
           "offsetgroup": "Hong Kong",
           "orientation": "h",
           "showlegend": true,
           "textposition": "auto",
           "type": "bar",
           "x": [
            0
           ],
           "xaxis": "x",
           "y": [
            "Hong Kong"
           ],
           "yaxis": "y"
          },
          {
           "alignmentgroup": "True",
           "hovertemplate": "Countries=%{y}<br>release_year=1915<br>Cumulated character influence score=%{x}<extra></extra>",
           "legendgroup": "West Germany",
           "marker": {
            "color": "#FF97FF",
            "pattern": {
             "shape": ""
            }
           },
           "name": "West Germany",
           "offsetgroup": "West Germany",
           "orientation": "h",
           "showlegend": true,
           "textposition": "auto",
           "type": "bar",
           "x": [
            0
           ],
           "xaxis": "x",
           "y": [
            "West Germany"
           ],
           "yaxis": "y"
          },
          {
           "alignmentgroup": "True",
           "hovertemplate": "Countries=%{y}<br>release_year=1915<br>Cumulated character influence score=%{x}<extra></extra>",
           "legendgroup": "United Kingdom",
           "marker": {
            "color": "#FECB52",
            "pattern": {
             "shape": ""
            }
           },
           "name": "United Kingdom",
           "offsetgroup": "United Kingdom",
           "orientation": "h",
           "showlegend": true,
           "textposition": "auto",
           "type": "bar",
           "x": [
            1
           ],
           "xaxis": "x",
           "y": [
            "United Kingdom"
           ],
           "yaxis": "y"
          }
         ],
         "name": "1915"
        },
        {
         "data": [
          {
           "alignmentgroup": "True",
           "hovertemplate": "Countries=%{y}<br>release_year=1916<br>Cumulated character influence score=%{x}<extra></extra>",
           "legendgroup": "Germany",
           "marker": {
            "color": "#636efa",
            "pattern": {
             "shape": ""
            }
           },
           "name": "Germany",
           "offsetgroup": "Germany",
           "orientation": "h",
           "showlegend": true,
           "textposition": "auto",
           "type": "bar",
           "x": [
            0
           ],
           "xaxis": "x",
           "y": [
            "Germany"
           ],
           "yaxis": "y"
          },
          {
           "alignmentgroup": "True",
           "hovertemplate": "Countries=%{y}<br>release_year=1916<br>Cumulated character influence score=%{x}<extra></extra>",
           "legendgroup": "United States of America",
           "marker": {
            "color": "#EF553B",
            "pattern": {
             "shape": ""
            }
           },
           "name": "United States of America",
           "offsetgroup": "United States of America",
           "orientation": "h",
           "showlegend": true,
           "textposition": "auto",
           "type": "bar",
           "x": [
            0
           ],
           "xaxis": "x",
           "y": [
            "United States of America"
           ],
           "yaxis": "y"
          },
          {
           "alignmentgroup": "True",
           "hovertemplate": "Countries=%{y}<br>release_year=1916<br>Cumulated character influence score=%{x}<extra></extra>",
           "legendgroup": "Brazil",
           "marker": {
            "color": "#00cc96",
            "pattern": {
             "shape": ""
            }
           },
           "name": "Brazil",
           "offsetgroup": "Brazil",
           "orientation": "h",
           "showlegend": true,
           "textposition": "auto",
           "type": "bar",
           "x": [
            0
           ],
           "xaxis": "x",
           "y": [
            "Brazil"
           ],
           "yaxis": "y"
          },
          {
           "alignmentgroup": "True",
           "hovertemplate": "Countries=%{y}<br>release_year=1916<br>Cumulated character influence score=%{x}<extra></extra>",
           "legendgroup": "Netherlands",
           "marker": {
            "color": "#ab63fa",
            "pattern": {
             "shape": ""
            }
           },
           "name": "Netherlands",
           "offsetgroup": "Netherlands",
           "orientation": "h",
           "showlegend": true,
           "textposition": "auto",
           "type": "bar",
           "x": [
            0
           ],
           "xaxis": "x",
           "y": [
            "Netherlands"
           ],
           "yaxis": "y"
          },
          {
           "alignmentgroup": "True",
           "hovertemplate": "Countries=%{y}<br>release_year=1916<br>Cumulated character influence score=%{x}<extra></extra>",
           "legendgroup": "Canada",
           "marker": {
            "color": "#FFA15A",
            "pattern": {
             "shape": ""
            }
           },
           "name": "Canada",
           "offsetgroup": "Canada",
           "orientation": "h",
           "showlegend": true,
           "textposition": "auto",
           "type": "bar",
           "x": [
            0
           ],
           "xaxis": "x",
           "y": [
            "Canada"
           ],
           "yaxis": "y"
          },
          {
           "alignmentgroup": "True",
           "hovertemplate": "Countries=%{y}<br>release_year=1916<br>Cumulated character influence score=%{x}<extra></extra>",
           "legendgroup": "France",
           "marker": {
            "color": "#19d3f3",
            "pattern": {
             "shape": ""
            }
           },
           "name": "France",
           "offsetgroup": "France",
           "orientation": "h",
           "showlegend": true,
           "textposition": "auto",
           "type": "bar",
           "x": [
            0
           ],
           "xaxis": "x",
           "y": [
            "France"
           ],
           "yaxis": "y"
          },
          {
           "alignmentgroup": "True",
           "hovertemplate": "Countries=%{y}<br>release_year=1916<br>Cumulated character influence score=%{x}<extra></extra>",
           "legendgroup": "Czech Republic",
           "marker": {
            "color": "#FF6692",
            "pattern": {
             "shape": ""
            }
           },
           "name": "Czech Republic",
           "offsetgroup": "Czech Republic",
           "orientation": "h",
           "showlegend": true,
           "textposition": "auto",
           "type": "bar",
           "x": [
            0
           ],
           "xaxis": "x",
           "y": [
            "Czech Republic"
           ],
           "yaxis": "y"
          },
          {
           "alignmentgroup": "True",
           "hovertemplate": "Countries=%{y}<br>release_year=1916<br>Cumulated character influence score=%{x}<extra></extra>",
           "legendgroup": "Hong Kong",
           "marker": {
            "color": "#B6E880",
            "pattern": {
             "shape": ""
            }
           },
           "name": "Hong Kong",
           "offsetgroup": "Hong Kong",
           "orientation": "h",
           "showlegend": true,
           "textposition": "auto",
           "type": "bar",
           "x": [
            0
           ],
           "xaxis": "x",
           "y": [
            "Hong Kong"
           ],
           "yaxis": "y"
          },
          {
           "alignmentgroup": "True",
           "hovertemplate": "Countries=%{y}<br>release_year=1916<br>Cumulated character influence score=%{x}<extra></extra>",
           "legendgroup": "West Germany",
           "marker": {
            "color": "#FF97FF",
            "pattern": {
             "shape": ""
            }
           },
           "name": "West Germany",
           "offsetgroup": "West Germany",
           "orientation": "h",
           "showlegend": true,
           "textposition": "auto",
           "type": "bar",
           "x": [
            0
           ],
           "xaxis": "x",
           "y": [
            "West Germany"
           ],
           "yaxis": "y"
          },
          {
           "alignmentgroup": "True",
           "hovertemplate": "Countries=%{y}<br>release_year=1916<br>Cumulated character influence score=%{x}<extra></extra>",
           "legendgroup": "United Kingdom",
           "marker": {
            "color": "#FECB52",
            "pattern": {
             "shape": ""
            }
           },
           "name": "United Kingdom",
           "offsetgroup": "United Kingdom",
           "orientation": "h",
           "showlegend": true,
           "textposition": "auto",
           "type": "bar",
           "x": [
            1
           ],
           "xaxis": "x",
           "y": [
            "United Kingdom"
           ],
           "yaxis": "y"
          }
         ],
         "name": "1916"
        },
        {
         "data": [
          {
           "alignmentgroup": "True",
           "hovertemplate": "Countries=%{y}<br>release_year=1917<br>Cumulated character influence score=%{x}<extra></extra>",
           "legendgroup": "Germany",
           "marker": {
            "color": "#636efa",
            "pattern": {
             "shape": ""
            }
           },
           "name": "Germany",
           "offsetgroup": "Germany",
           "orientation": "h",
           "showlegend": true,
           "textposition": "auto",
           "type": "bar",
           "x": [
            0
           ],
           "xaxis": "x",
           "y": [
            "Germany"
           ],
           "yaxis": "y"
          },
          {
           "alignmentgroup": "True",
           "hovertemplate": "Countries=%{y}<br>release_year=1917<br>Cumulated character influence score=%{x}<extra></extra>",
           "legendgroup": "United States of America",
           "marker": {
            "color": "#EF553B",
            "pattern": {
             "shape": ""
            }
           },
           "name": "United States of America",
           "offsetgroup": "United States of America",
           "orientation": "h",
           "showlegend": true,
           "textposition": "auto",
           "type": "bar",
           "x": [
            0
           ],
           "xaxis": "x",
           "y": [
            "United States of America"
           ],
           "yaxis": "y"
          },
          {
           "alignmentgroup": "True",
           "hovertemplate": "Countries=%{y}<br>release_year=1917<br>Cumulated character influence score=%{x}<extra></extra>",
           "legendgroup": "Brazil",
           "marker": {
            "color": "#00cc96",
            "pattern": {
             "shape": ""
            }
           },
           "name": "Brazil",
           "offsetgroup": "Brazil",
           "orientation": "h",
           "showlegend": true,
           "textposition": "auto",
           "type": "bar",
           "x": [
            0
           ],
           "xaxis": "x",
           "y": [
            "Brazil"
           ],
           "yaxis": "y"
          },
          {
           "alignmentgroup": "True",
           "hovertemplate": "Countries=%{y}<br>release_year=1917<br>Cumulated character influence score=%{x}<extra></extra>",
           "legendgroup": "Netherlands",
           "marker": {
            "color": "#ab63fa",
            "pattern": {
             "shape": ""
            }
           },
           "name": "Netherlands",
           "offsetgroup": "Netherlands",
           "orientation": "h",
           "showlegend": true,
           "textposition": "auto",
           "type": "bar",
           "x": [
            0
           ],
           "xaxis": "x",
           "y": [
            "Netherlands"
           ],
           "yaxis": "y"
          },
          {
           "alignmentgroup": "True",
           "hovertemplate": "Countries=%{y}<br>release_year=1917<br>Cumulated character influence score=%{x}<extra></extra>",
           "legendgroup": "Canada",
           "marker": {
            "color": "#FFA15A",
            "pattern": {
             "shape": ""
            }
           },
           "name": "Canada",
           "offsetgroup": "Canada",
           "orientation": "h",
           "showlegend": true,
           "textposition": "auto",
           "type": "bar",
           "x": [
            0
           ],
           "xaxis": "x",
           "y": [
            "Canada"
           ],
           "yaxis": "y"
          },
          {
           "alignmentgroup": "True",
           "hovertemplate": "Countries=%{y}<br>release_year=1917<br>Cumulated character influence score=%{x}<extra></extra>",
           "legendgroup": "France",
           "marker": {
            "color": "#19d3f3",
            "pattern": {
             "shape": ""
            }
           },
           "name": "France",
           "offsetgroup": "France",
           "orientation": "h",
           "showlegend": true,
           "textposition": "auto",
           "type": "bar",
           "x": [
            0
           ],
           "xaxis": "x",
           "y": [
            "France"
           ],
           "yaxis": "y"
          },
          {
           "alignmentgroup": "True",
           "hovertemplate": "Countries=%{y}<br>release_year=1917<br>Cumulated character influence score=%{x}<extra></extra>",
           "legendgroup": "Czech Republic",
           "marker": {
            "color": "#FF6692",
            "pattern": {
             "shape": ""
            }
           },
           "name": "Czech Republic",
           "offsetgroup": "Czech Republic",
           "orientation": "h",
           "showlegend": true,
           "textposition": "auto",
           "type": "bar",
           "x": [
            0
           ],
           "xaxis": "x",
           "y": [
            "Czech Republic"
           ],
           "yaxis": "y"
          },
          {
           "alignmentgroup": "True",
           "hovertemplate": "Countries=%{y}<br>release_year=1917<br>Cumulated character influence score=%{x}<extra></extra>",
           "legendgroup": "Hong Kong",
           "marker": {
            "color": "#B6E880",
            "pattern": {
             "shape": ""
            }
           },
           "name": "Hong Kong",
           "offsetgroup": "Hong Kong",
           "orientation": "h",
           "showlegend": true,
           "textposition": "auto",
           "type": "bar",
           "x": [
            0
           ],
           "xaxis": "x",
           "y": [
            "Hong Kong"
           ],
           "yaxis": "y"
          },
          {
           "alignmentgroup": "True",
           "hovertemplate": "Countries=%{y}<br>release_year=1917<br>Cumulated character influence score=%{x}<extra></extra>",
           "legendgroup": "West Germany",
           "marker": {
            "color": "#FF97FF",
            "pattern": {
             "shape": ""
            }
           },
           "name": "West Germany",
           "offsetgroup": "West Germany",
           "orientation": "h",
           "showlegend": true,
           "textposition": "auto",
           "type": "bar",
           "x": [
            0
           ],
           "xaxis": "x",
           "y": [
            "West Germany"
           ],
           "yaxis": "y"
          },
          {
           "alignmentgroup": "True",
           "hovertemplate": "Countries=%{y}<br>release_year=1917<br>Cumulated character influence score=%{x}<extra></extra>",
           "legendgroup": "United Kingdom",
           "marker": {
            "color": "#FECB52",
            "pattern": {
             "shape": ""
            }
           },
           "name": "United Kingdom",
           "offsetgroup": "United Kingdom",
           "orientation": "h",
           "showlegend": true,
           "textposition": "auto",
           "type": "bar",
           "x": [
            1
           ],
           "xaxis": "x",
           "y": [
            "United Kingdom"
           ],
           "yaxis": "y"
          }
         ],
         "name": "1917"
        },
        {
         "data": [
          {
           "alignmentgroup": "True",
           "hovertemplate": "Countries=%{y}<br>release_year=1918<br>Cumulated character influence score=%{x}<extra></extra>",
           "legendgroup": "Germany",
           "marker": {
            "color": "#636efa",
            "pattern": {
             "shape": ""
            }
           },
           "name": "Germany",
           "offsetgroup": "Germany",
           "orientation": "h",
           "showlegend": true,
           "textposition": "auto",
           "type": "bar",
           "x": [
            0
           ],
           "xaxis": "x",
           "y": [
            "Germany"
           ],
           "yaxis": "y"
          },
          {
           "alignmentgroup": "True",
           "hovertemplate": "Countries=%{y}<br>release_year=1918<br>Cumulated character influence score=%{x}<extra></extra>",
           "legendgroup": "United States of America",
           "marker": {
            "color": "#EF553B",
            "pattern": {
             "shape": ""
            }
           },
           "name": "United States of America",
           "offsetgroup": "United States of America",
           "orientation": "h",
           "showlegend": true,
           "textposition": "auto",
           "type": "bar",
           "x": [
            0
           ],
           "xaxis": "x",
           "y": [
            "United States of America"
           ],
           "yaxis": "y"
          },
          {
           "alignmentgroup": "True",
           "hovertemplate": "Countries=%{y}<br>release_year=1918<br>Cumulated character influence score=%{x}<extra></extra>",
           "legendgroup": "Brazil",
           "marker": {
            "color": "#00cc96",
            "pattern": {
             "shape": ""
            }
           },
           "name": "Brazil",
           "offsetgroup": "Brazil",
           "orientation": "h",
           "showlegend": true,
           "textposition": "auto",
           "type": "bar",
           "x": [
            0
           ],
           "xaxis": "x",
           "y": [
            "Brazil"
           ],
           "yaxis": "y"
          },
          {
           "alignmentgroup": "True",
           "hovertemplate": "Countries=%{y}<br>release_year=1918<br>Cumulated character influence score=%{x}<extra></extra>",
           "legendgroup": "Netherlands",
           "marker": {
            "color": "#ab63fa",
            "pattern": {
             "shape": ""
            }
           },
           "name": "Netherlands",
           "offsetgroup": "Netherlands",
           "orientation": "h",
           "showlegend": true,
           "textposition": "auto",
           "type": "bar",
           "x": [
            0
           ],
           "xaxis": "x",
           "y": [
            "Netherlands"
           ],
           "yaxis": "y"
          },
          {
           "alignmentgroup": "True",
           "hovertemplate": "Countries=%{y}<br>release_year=1918<br>Cumulated character influence score=%{x}<extra></extra>",
           "legendgroup": "Canada",
           "marker": {
            "color": "#FFA15A",
            "pattern": {
             "shape": ""
            }
           },
           "name": "Canada",
           "offsetgroup": "Canada",
           "orientation": "h",
           "showlegend": true,
           "textposition": "auto",
           "type": "bar",
           "x": [
            0
           ],
           "xaxis": "x",
           "y": [
            "Canada"
           ],
           "yaxis": "y"
          },
          {
           "alignmentgroup": "True",
           "hovertemplate": "Countries=%{y}<br>release_year=1918<br>Cumulated character influence score=%{x}<extra></extra>",
           "legendgroup": "France",
           "marker": {
            "color": "#19d3f3",
            "pattern": {
             "shape": ""
            }
           },
           "name": "France",
           "offsetgroup": "France",
           "orientation": "h",
           "showlegend": true,
           "textposition": "auto",
           "type": "bar",
           "x": [
            0
           ],
           "xaxis": "x",
           "y": [
            "France"
           ],
           "yaxis": "y"
          },
          {
           "alignmentgroup": "True",
           "hovertemplate": "Countries=%{y}<br>release_year=1918<br>Cumulated character influence score=%{x}<extra></extra>",
           "legendgroup": "Czech Republic",
           "marker": {
            "color": "#FF6692",
            "pattern": {
             "shape": ""
            }
           },
           "name": "Czech Republic",
           "offsetgroup": "Czech Republic",
           "orientation": "h",
           "showlegend": true,
           "textposition": "auto",
           "type": "bar",
           "x": [
            0
           ],
           "xaxis": "x",
           "y": [
            "Czech Republic"
           ],
           "yaxis": "y"
          },
          {
           "alignmentgroup": "True",
           "hovertemplate": "Countries=%{y}<br>release_year=1918<br>Cumulated character influence score=%{x}<extra></extra>",
           "legendgroup": "Hong Kong",
           "marker": {
            "color": "#B6E880",
            "pattern": {
             "shape": ""
            }
           },
           "name": "Hong Kong",
           "offsetgroup": "Hong Kong",
           "orientation": "h",
           "showlegend": true,
           "textposition": "auto",
           "type": "bar",
           "x": [
            0
           ],
           "xaxis": "x",
           "y": [
            "Hong Kong"
           ],
           "yaxis": "y"
          },
          {
           "alignmentgroup": "True",
           "hovertemplate": "Countries=%{y}<br>release_year=1918<br>Cumulated character influence score=%{x}<extra></extra>",
           "legendgroup": "West Germany",
           "marker": {
            "color": "#FF97FF",
            "pattern": {
             "shape": ""
            }
           },
           "name": "West Germany",
           "offsetgroup": "West Germany",
           "orientation": "h",
           "showlegend": true,
           "textposition": "auto",
           "type": "bar",
           "x": [
            0
           ],
           "xaxis": "x",
           "y": [
            "West Germany"
           ],
           "yaxis": "y"
          },
          {
           "alignmentgroup": "True",
           "hovertemplate": "Countries=%{y}<br>release_year=1918<br>Cumulated character influence score=%{x}<extra></extra>",
           "legendgroup": "United Kingdom",
           "marker": {
            "color": "#FECB52",
            "pattern": {
             "shape": ""
            }
           },
           "name": "United Kingdom",
           "offsetgroup": "United Kingdom",
           "orientation": "h",
           "showlegend": true,
           "textposition": "auto",
           "type": "bar",
           "x": [
            1
           ],
           "xaxis": "x",
           "y": [
            "United Kingdom"
           ],
           "yaxis": "y"
          }
         ],
         "name": "1918"
        },
        {
         "data": [
          {
           "alignmentgroup": "True",
           "hovertemplate": "Countries=%{y}<br>release_year=1919<br>Cumulated character influence score=%{x}<extra></extra>",
           "legendgroup": "Germany",
           "marker": {
            "color": "#636efa",
            "pattern": {
             "shape": ""
            }
           },
           "name": "Germany",
           "offsetgroup": "Germany",
           "orientation": "h",
           "showlegend": true,
           "textposition": "auto",
           "type": "bar",
           "x": [
            0
           ],
           "xaxis": "x",
           "y": [
            "Germany"
           ],
           "yaxis": "y"
          },
          {
           "alignmentgroup": "True",
           "hovertemplate": "Countries=%{y}<br>release_year=1919<br>Cumulated character influence score=%{x}<extra></extra>",
           "legendgroup": "United States of America",
           "marker": {
            "color": "#EF553B",
            "pattern": {
             "shape": ""
            }
           },
           "name": "United States of America",
           "offsetgroup": "United States of America",
           "orientation": "h",
           "showlegend": true,
           "textposition": "auto",
           "type": "bar",
           "x": [
            0
           ],
           "xaxis": "x",
           "y": [
            "United States of America"
           ],
           "yaxis": "y"
          },
          {
           "alignmentgroup": "True",
           "hovertemplate": "Countries=%{y}<br>release_year=1919<br>Cumulated character influence score=%{x}<extra></extra>",
           "legendgroup": "Brazil",
           "marker": {
            "color": "#00cc96",
            "pattern": {
             "shape": ""
            }
           },
           "name": "Brazil",
           "offsetgroup": "Brazil",
           "orientation": "h",
           "showlegend": true,
           "textposition": "auto",
           "type": "bar",
           "x": [
            0
           ],
           "xaxis": "x",
           "y": [
            "Brazil"
           ],
           "yaxis": "y"
          },
          {
           "alignmentgroup": "True",
           "hovertemplate": "Countries=%{y}<br>release_year=1919<br>Cumulated character influence score=%{x}<extra></extra>",
           "legendgroup": "Netherlands",
           "marker": {
            "color": "#ab63fa",
            "pattern": {
             "shape": ""
            }
           },
           "name": "Netherlands",
           "offsetgroup": "Netherlands",
           "orientation": "h",
           "showlegend": true,
           "textposition": "auto",
           "type": "bar",
           "x": [
            0
           ],
           "xaxis": "x",
           "y": [
            "Netherlands"
           ],
           "yaxis": "y"
          },
          {
           "alignmentgroup": "True",
           "hovertemplate": "Countries=%{y}<br>release_year=1919<br>Cumulated character influence score=%{x}<extra></extra>",
           "legendgroup": "Canada",
           "marker": {
            "color": "#FFA15A",
            "pattern": {
             "shape": ""
            }
           },
           "name": "Canada",
           "offsetgroup": "Canada",
           "orientation": "h",
           "showlegend": true,
           "textposition": "auto",
           "type": "bar",
           "x": [
            0
           ],
           "xaxis": "x",
           "y": [
            "Canada"
           ],
           "yaxis": "y"
          },
          {
           "alignmentgroup": "True",
           "hovertemplate": "Countries=%{y}<br>release_year=1919<br>Cumulated character influence score=%{x}<extra></extra>",
           "legendgroup": "France",
           "marker": {
            "color": "#19d3f3",
            "pattern": {
             "shape": ""
            }
           },
           "name": "France",
           "offsetgroup": "France",
           "orientation": "h",
           "showlegend": true,
           "textposition": "auto",
           "type": "bar",
           "x": [
            0
           ],
           "xaxis": "x",
           "y": [
            "France"
           ],
           "yaxis": "y"
          },
          {
           "alignmentgroup": "True",
           "hovertemplate": "Countries=%{y}<br>release_year=1919<br>Cumulated character influence score=%{x}<extra></extra>",
           "legendgroup": "Czech Republic",
           "marker": {
            "color": "#FF6692",
            "pattern": {
             "shape": ""
            }
           },
           "name": "Czech Republic",
           "offsetgroup": "Czech Republic",
           "orientation": "h",
           "showlegend": true,
           "textposition": "auto",
           "type": "bar",
           "x": [
            0
           ],
           "xaxis": "x",
           "y": [
            "Czech Republic"
           ],
           "yaxis": "y"
          },
          {
           "alignmentgroup": "True",
           "hovertemplate": "Countries=%{y}<br>release_year=1919<br>Cumulated character influence score=%{x}<extra></extra>",
           "legendgroup": "Hong Kong",
           "marker": {
            "color": "#B6E880",
            "pattern": {
             "shape": ""
            }
           },
           "name": "Hong Kong",
           "offsetgroup": "Hong Kong",
           "orientation": "h",
           "showlegend": true,
           "textposition": "auto",
           "type": "bar",
           "x": [
            0
           ],
           "xaxis": "x",
           "y": [
            "Hong Kong"
           ],
           "yaxis": "y"
          },
          {
           "alignmentgroup": "True",
           "hovertemplate": "Countries=%{y}<br>release_year=1919<br>Cumulated character influence score=%{x}<extra></extra>",
           "legendgroup": "West Germany",
           "marker": {
            "color": "#FF97FF",
            "pattern": {
             "shape": ""
            }
           },
           "name": "West Germany",
           "offsetgroup": "West Germany",
           "orientation": "h",
           "showlegend": true,
           "textposition": "auto",
           "type": "bar",
           "x": [
            0
           ],
           "xaxis": "x",
           "y": [
            "West Germany"
           ],
           "yaxis": "y"
          },
          {
           "alignmentgroup": "True",
           "hovertemplate": "Countries=%{y}<br>release_year=1919<br>Cumulated character influence score=%{x}<extra></extra>",
           "legendgroup": "United Kingdom",
           "marker": {
            "color": "#FECB52",
            "pattern": {
             "shape": ""
            }
           },
           "name": "United Kingdom",
           "offsetgroup": "United Kingdom",
           "orientation": "h",
           "showlegend": true,
           "textposition": "auto",
           "type": "bar",
           "x": [
            1
           ],
           "xaxis": "x",
           "y": [
            "United Kingdom"
           ],
           "yaxis": "y"
          }
         ],
         "name": "1919"
        },
        {
         "data": [
          {
           "alignmentgroup": "True",
           "hovertemplate": "Countries=%{y}<br>release_year=1920<br>Cumulated character influence score=%{x}<extra></extra>",
           "legendgroup": "Germany",
           "marker": {
            "color": "#636efa",
            "pattern": {
             "shape": ""
            }
           },
           "name": "Germany",
           "offsetgroup": "Germany",
           "orientation": "h",
           "showlegend": true,
           "textposition": "auto",
           "type": "bar",
           "x": [
            0
           ],
           "xaxis": "x",
           "y": [
            "Germany"
           ],
           "yaxis": "y"
          },
          {
           "alignmentgroup": "True",
           "hovertemplate": "Countries=%{y}<br>release_year=1920<br>Cumulated character influence score=%{x}<extra></extra>",
           "legendgroup": "United States of America",
           "marker": {
            "color": "#EF553B",
            "pattern": {
             "shape": ""
            }
           },
           "name": "United States of America",
           "offsetgroup": "United States of America",
           "orientation": "h",
           "showlegend": true,
           "textposition": "auto",
           "type": "bar",
           "x": [
            0
           ],
           "xaxis": "x",
           "y": [
            "United States of America"
           ],
           "yaxis": "y"
          },
          {
           "alignmentgroup": "True",
           "hovertemplate": "Countries=%{y}<br>release_year=1920<br>Cumulated character influence score=%{x}<extra></extra>",
           "legendgroup": "Brazil",
           "marker": {
            "color": "#00cc96",
            "pattern": {
             "shape": ""
            }
           },
           "name": "Brazil",
           "offsetgroup": "Brazil",
           "orientation": "h",
           "showlegend": true,
           "textposition": "auto",
           "type": "bar",
           "x": [
            0
           ],
           "xaxis": "x",
           "y": [
            "Brazil"
           ],
           "yaxis": "y"
          },
          {
           "alignmentgroup": "True",
           "hovertemplate": "Countries=%{y}<br>release_year=1920<br>Cumulated character influence score=%{x}<extra></extra>",
           "legendgroup": "Netherlands",
           "marker": {
            "color": "#ab63fa",
            "pattern": {
             "shape": ""
            }
           },
           "name": "Netherlands",
           "offsetgroup": "Netherlands",
           "orientation": "h",
           "showlegend": true,
           "textposition": "auto",
           "type": "bar",
           "x": [
            0
           ],
           "xaxis": "x",
           "y": [
            "Netherlands"
           ],
           "yaxis": "y"
          },
          {
           "alignmentgroup": "True",
           "hovertemplate": "Countries=%{y}<br>release_year=1920<br>Cumulated character influence score=%{x}<extra></extra>",
           "legendgroup": "Canada",
           "marker": {
            "color": "#FFA15A",
            "pattern": {
             "shape": ""
            }
           },
           "name": "Canada",
           "offsetgroup": "Canada",
           "orientation": "h",
           "showlegend": true,
           "textposition": "auto",
           "type": "bar",
           "x": [
            0
           ],
           "xaxis": "x",
           "y": [
            "Canada"
           ],
           "yaxis": "y"
          },
          {
           "alignmentgroup": "True",
           "hovertemplate": "Countries=%{y}<br>release_year=1920<br>Cumulated character influence score=%{x}<extra></extra>",
           "legendgroup": "France",
           "marker": {
            "color": "#19d3f3",
            "pattern": {
             "shape": ""
            }
           },
           "name": "France",
           "offsetgroup": "France",
           "orientation": "h",
           "showlegend": true,
           "textposition": "auto",
           "type": "bar",
           "x": [
            0
           ],
           "xaxis": "x",
           "y": [
            "France"
           ],
           "yaxis": "y"
          },
          {
           "alignmentgroup": "True",
           "hovertemplate": "Countries=%{y}<br>release_year=1920<br>Cumulated character influence score=%{x}<extra></extra>",
           "legendgroup": "Czech Republic",
           "marker": {
            "color": "#FF6692",
            "pattern": {
             "shape": ""
            }
           },
           "name": "Czech Republic",
           "offsetgroup": "Czech Republic",
           "orientation": "h",
           "showlegend": true,
           "textposition": "auto",
           "type": "bar",
           "x": [
            0
           ],
           "xaxis": "x",
           "y": [
            "Czech Republic"
           ],
           "yaxis": "y"
          },
          {
           "alignmentgroup": "True",
           "hovertemplate": "Countries=%{y}<br>release_year=1920<br>Cumulated character influence score=%{x}<extra></extra>",
           "legendgroup": "Hong Kong",
           "marker": {
            "color": "#B6E880",
            "pattern": {
             "shape": ""
            }
           },
           "name": "Hong Kong",
           "offsetgroup": "Hong Kong",
           "orientation": "h",
           "showlegend": true,
           "textposition": "auto",
           "type": "bar",
           "x": [
            0
           ],
           "xaxis": "x",
           "y": [
            "Hong Kong"
           ],
           "yaxis": "y"
          },
          {
           "alignmentgroup": "True",
           "hovertemplate": "Countries=%{y}<br>release_year=1920<br>Cumulated character influence score=%{x}<extra></extra>",
           "legendgroup": "West Germany",
           "marker": {
            "color": "#FF97FF",
            "pattern": {
             "shape": ""
            }
           },
           "name": "West Germany",
           "offsetgroup": "West Germany",
           "orientation": "h",
           "showlegend": true,
           "textposition": "auto",
           "type": "bar",
           "x": [
            0
           ],
           "xaxis": "x",
           "y": [
            "West Germany"
           ],
           "yaxis": "y"
          },
          {
           "alignmentgroup": "True",
           "hovertemplate": "Countries=%{y}<br>release_year=1920<br>Cumulated character influence score=%{x}<extra></extra>",
           "legendgroup": "United Kingdom",
           "marker": {
            "color": "#FECB52",
            "pattern": {
             "shape": ""
            }
           },
           "name": "United Kingdom",
           "offsetgroup": "United Kingdom",
           "orientation": "h",
           "showlegend": true,
           "textposition": "auto",
           "type": "bar",
           "x": [
            2
           ],
           "xaxis": "x",
           "y": [
            "United Kingdom"
           ],
           "yaxis": "y"
          }
         ],
         "name": "1920"
        },
        {
         "data": [
          {
           "alignmentgroup": "True",
           "hovertemplate": "Countries=%{y}<br>release_year=1921<br>Cumulated character influence score=%{x}<extra></extra>",
           "legendgroup": "Germany",
           "marker": {
            "color": "#636efa",
            "pattern": {
             "shape": ""
            }
           },
           "name": "Germany",
           "offsetgroup": "Germany",
           "orientation": "h",
           "showlegend": true,
           "textposition": "auto",
           "type": "bar",
           "x": [
            0
           ],
           "xaxis": "x",
           "y": [
            "Germany"
           ],
           "yaxis": "y"
          },
          {
           "alignmentgroup": "True",
           "hovertemplate": "Countries=%{y}<br>release_year=1921<br>Cumulated character influence score=%{x}<extra></extra>",
           "legendgroup": "United States of America",
           "marker": {
            "color": "#EF553B",
            "pattern": {
             "shape": ""
            }
           },
           "name": "United States of America",
           "offsetgroup": "United States of America",
           "orientation": "h",
           "showlegend": true,
           "textposition": "auto",
           "type": "bar",
           "x": [
            0
           ],
           "xaxis": "x",
           "y": [
            "United States of America"
           ],
           "yaxis": "y"
          },
          {
           "alignmentgroup": "True",
           "hovertemplate": "Countries=%{y}<br>release_year=1921<br>Cumulated character influence score=%{x}<extra></extra>",
           "legendgroup": "Brazil",
           "marker": {
            "color": "#00cc96",
            "pattern": {
             "shape": ""
            }
           },
           "name": "Brazil",
           "offsetgroup": "Brazil",
           "orientation": "h",
           "showlegend": true,
           "textposition": "auto",
           "type": "bar",
           "x": [
            0
           ],
           "xaxis": "x",
           "y": [
            "Brazil"
           ],
           "yaxis": "y"
          },
          {
           "alignmentgroup": "True",
           "hovertemplate": "Countries=%{y}<br>release_year=1921<br>Cumulated character influence score=%{x}<extra></extra>",
           "legendgroup": "Netherlands",
           "marker": {
            "color": "#ab63fa",
            "pattern": {
             "shape": ""
            }
           },
           "name": "Netherlands",
           "offsetgroup": "Netherlands",
           "orientation": "h",
           "showlegend": true,
           "textposition": "auto",
           "type": "bar",
           "x": [
            0
           ],
           "xaxis": "x",
           "y": [
            "Netherlands"
           ],
           "yaxis": "y"
          },
          {
           "alignmentgroup": "True",
           "hovertemplate": "Countries=%{y}<br>release_year=1921<br>Cumulated character influence score=%{x}<extra></extra>",
           "legendgroup": "Canada",
           "marker": {
            "color": "#FFA15A",
            "pattern": {
             "shape": ""
            }
           },
           "name": "Canada",
           "offsetgroup": "Canada",
           "orientation": "h",
           "showlegend": true,
           "textposition": "auto",
           "type": "bar",
           "x": [
            0
           ],
           "xaxis": "x",
           "y": [
            "Canada"
           ],
           "yaxis": "y"
          },
          {
           "alignmentgroup": "True",
           "hovertemplate": "Countries=%{y}<br>release_year=1921<br>Cumulated character influence score=%{x}<extra></extra>",
           "legendgroup": "France",
           "marker": {
            "color": "#19d3f3",
            "pattern": {
             "shape": ""
            }
           },
           "name": "France",
           "offsetgroup": "France",
           "orientation": "h",
           "showlegend": true,
           "textposition": "auto",
           "type": "bar",
           "x": [
            0
           ],
           "xaxis": "x",
           "y": [
            "France"
           ],
           "yaxis": "y"
          },
          {
           "alignmentgroup": "True",
           "hovertemplate": "Countries=%{y}<br>release_year=1921<br>Cumulated character influence score=%{x}<extra></extra>",
           "legendgroup": "Czech Republic",
           "marker": {
            "color": "#FF6692",
            "pattern": {
             "shape": ""
            }
           },
           "name": "Czech Republic",
           "offsetgroup": "Czech Republic",
           "orientation": "h",
           "showlegend": true,
           "textposition": "auto",
           "type": "bar",
           "x": [
            0
           ],
           "xaxis": "x",
           "y": [
            "Czech Republic"
           ],
           "yaxis": "y"
          },
          {
           "alignmentgroup": "True",
           "hovertemplate": "Countries=%{y}<br>release_year=1921<br>Cumulated character influence score=%{x}<extra></extra>",
           "legendgroup": "Hong Kong",
           "marker": {
            "color": "#B6E880",
            "pattern": {
             "shape": ""
            }
           },
           "name": "Hong Kong",
           "offsetgroup": "Hong Kong",
           "orientation": "h",
           "showlegend": true,
           "textposition": "auto",
           "type": "bar",
           "x": [
            0
           ],
           "xaxis": "x",
           "y": [
            "Hong Kong"
           ],
           "yaxis": "y"
          },
          {
           "alignmentgroup": "True",
           "hovertemplate": "Countries=%{y}<br>release_year=1921<br>Cumulated character influence score=%{x}<extra></extra>",
           "legendgroup": "West Germany",
           "marker": {
            "color": "#FF97FF",
            "pattern": {
             "shape": ""
            }
           },
           "name": "West Germany",
           "offsetgroup": "West Germany",
           "orientation": "h",
           "showlegend": true,
           "textposition": "auto",
           "type": "bar",
           "x": [
            0
           ],
           "xaxis": "x",
           "y": [
            "West Germany"
           ],
           "yaxis": "y"
          },
          {
           "alignmentgroup": "True",
           "hovertemplate": "Countries=%{y}<br>release_year=1921<br>Cumulated character influence score=%{x}<extra></extra>",
           "legendgroup": "United Kingdom",
           "marker": {
            "color": "#FECB52",
            "pattern": {
             "shape": ""
            }
           },
           "name": "United Kingdom",
           "offsetgroup": "United Kingdom",
           "orientation": "h",
           "showlegend": true,
           "textposition": "auto",
           "type": "bar",
           "x": [
            2
           ],
           "xaxis": "x",
           "y": [
            "United Kingdom"
           ],
           "yaxis": "y"
          }
         ],
         "name": "1921"
        },
        {
         "data": [
          {
           "alignmentgroup": "True",
           "hovertemplate": "Countries=%{y}<br>release_year=1922<br>Cumulated character influence score=%{x}<extra></extra>",
           "legendgroup": "Germany",
           "marker": {
            "color": "#636efa",
            "pattern": {
             "shape": ""
            }
           },
           "name": "Germany",
           "offsetgroup": "Germany",
           "orientation": "h",
           "showlegend": true,
           "textposition": "auto",
           "type": "bar",
           "x": [
            0
           ],
           "xaxis": "x",
           "y": [
            "Germany"
           ],
           "yaxis": "y"
          },
          {
           "alignmentgroup": "True",
           "hovertemplate": "Countries=%{y}<br>release_year=1922<br>Cumulated character influence score=%{x}<extra></extra>",
           "legendgroup": "United States of America",
           "marker": {
            "color": "#EF553B",
            "pattern": {
             "shape": ""
            }
           },
           "name": "United States of America",
           "offsetgroup": "United States of America",
           "orientation": "h",
           "showlegend": true,
           "textposition": "auto",
           "type": "bar",
           "x": [
            0
           ],
           "xaxis": "x",
           "y": [
            "United States of America"
           ],
           "yaxis": "y"
          },
          {
           "alignmentgroup": "True",
           "hovertemplate": "Countries=%{y}<br>release_year=1922<br>Cumulated character influence score=%{x}<extra></extra>",
           "legendgroup": "Brazil",
           "marker": {
            "color": "#00cc96",
            "pattern": {
             "shape": ""
            }
           },
           "name": "Brazil",
           "offsetgroup": "Brazil",
           "orientation": "h",
           "showlegend": true,
           "textposition": "auto",
           "type": "bar",
           "x": [
            0
           ],
           "xaxis": "x",
           "y": [
            "Brazil"
           ],
           "yaxis": "y"
          },
          {
           "alignmentgroup": "True",
           "hovertemplate": "Countries=%{y}<br>release_year=1922<br>Cumulated character influence score=%{x}<extra></extra>",
           "legendgroup": "Netherlands",
           "marker": {
            "color": "#ab63fa",
            "pattern": {
             "shape": ""
            }
           },
           "name": "Netherlands",
           "offsetgroup": "Netherlands",
           "orientation": "h",
           "showlegend": true,
           "textposition": "auto",
           "type": "bar",
           "x": [
            0
           ],
           "xaxis": "x",
           "y": [
            "Netherlands"
           ],
           "yaxis": "y"
          },
          {
           "alignmentgroup": "True",
           "hovertemplate": "Countries=%{y}<br>release_year=1922<br>Cumulated character influence score=%{x}<extra></extra>",
           "legendgroup": "Canada",
           "marker": {
            "color": "#FFA15A",
            "pattern": {
             "shape": ""
            }
           },
           "name": "Canada",
           "offsetgroup": "Canada",
           "orientation": "h",
           "showlegend": true,
           "textposition": "auto",
           "type": "bar",
           "x": [
            0
           ],
           "xaxis": "x",
           "y": [
            "Canada"
           ],
           "yaxis": "y"
          },
          {
           "alignmentgroup": "True",
           "hovertemplate": "Countries=%{y}<br>release_year=1922<br>Cumulated character influence score=%{x}<extra></extra>",
           "legendgroup": "France",
           "marker": {
            "color": "#19d3f3",
            "pattern": {
             "shape": ""
            }
           },
           "name": "France",
           "offsetgroup": "France",
           "orientation": "h",
           "showlegend": true,
           "textposition": "auto",
           "type": "bar",
           "x": [
            0
           ],
           "xaxis": "x",
           "y": [
            "France"
           ],
           "yaxis": "y"
          },
          {
           "alignmentgroup": "True",
           "hovertemplate": "Countries=%{y}<br>release_year=1922<br>Cumulated character influence score=%{x}<extra></extra>",
           "legendgroup": "Czech Republic",
           "marker": {
            "color": "#FF6692",
            "pattern": {
             "shape": ""
            }
           },
           "name": "Czech Republic",
           "offsetgroup": "Czech Republic",
           "orientation": "h",
           "showlegend": true,
           "textposition": "auto",
           "type": "bar",
           "x": [
            0
           ],
           "xaxis": "x",
           "y": [
            "Czech Republic"
           ],
           "yaxis": "y"
          },
          {
           "alignmentgroup": "True",
           "hovertemplate": "Countries=%{y}<br>release_year=1922<br>Cumulated character influence score=%{x}<extra></extra>",
           "legendgroup": "Hong Kong",
           "marker": {
            "color": "#B6E880",
            "pattern": {
             "shape": ""
            }
           },
           "name": "Hong Kong",
           "offsetgroup": "Hong Kong",
           "orientation": "h",
           "showlegend": true,
           "textposition": "auto",
           "type": "bar",
           "x": [
            0
           ],
           "xaxis": "x",
           "y": [
            "Hong Kong"
           ],
           "yaxis": "y"
          },
          {
           "alignmentgroup": "True",
           "hovertemplate": "Countries=%{y}<br>release_year=1922<br>Cumulated character influence score=%{x}<extra></extra>",
           "legendgroup": "West Germany",
           "marker": {
            "color": "#FF97FF",
            "pattern": {
             "shape": ""
            }
           },
           "name": "West Germany",
           "offsetgroup": "West Germany",
           "orientation": "h",
           "showlegend": true,
           "textposition": "auto",
           "type": "bar",
           "x": [
            0
           ],
           "xaxis": "x",
           "y": [
            "West Germany"
           ],
           "yaxis": "y"
          },
          {
           "alignmentgroup": "True",
           "hovertemplate": "Countries=%{y}<br>release_year=1922<br>Cumulated character influence score=%{x}<extra></extra>",
           "legendgroup": "United Kingdom",
           "marker": {
            "color": "#FECB52",
            "pattern": {
             "shape": ""
            }
           },
           "name": "United Kingdom",
           "offsetgroup": "United Kingdom",
           "orientation": "h",
           "showlegend": true,
           "textposition": "auto",
           "type": "bar",
           "x": [
            3
           ],
           "xaxis": "x",
           "y": [
            "United Kingdom"
           ],
           "yaxis": "y"
          }
         ],
         "name": "1922"
        },
        {
         "data": [
          {
           "alignmentgroup": "True",
           "hovertemplate": "Countries=%{y}<br>release_year=1923<br>Cumulated character influence score=%{x}<extra></extra>",
           "legendgroup": "Germany",
           "marker": {
            "color": "#636efa",
            "pattern": {
             "shape": ""
            }
           },
           "name": "Germany",
           "offsetgroup": "Germany",
           "orientation": "h",
           "showlegend": true,
           "textposition": "auto",
           "type": "bar",
           "x": [
            0
           ],
           "xaxis": "x",
           "y": [
            "Germany"
           ],
           "yaxis": "y"
          },
          {
           "alignmentgroup": "True",
           "hovertemplate": "Countries=%{y}<br>release_year=1923<br>Cumulated character influence score=%{x}<extra></extra>",
           "legendgroup": "United States of America",
           "marker": {
            "color": "#EF553B",
            "pattern": {
             "shape": ""
            }
           },
           "name": "United States of America",
           "offsetgroup": "United States of America",
           "orientation": "h",
           "showlegend": true,
           "textposition": "auto",
           "type": "bar",
           "x": [
            0
           ],
           "xaxis": "x",
           "y": [
            "United States of America"
           ],
           "yaxis": "y"
          },
          {
           "alignmentgroup": "True",
           "hovertemplate": "Countries=%{y}<br>release_year=1923<br>Cumulated character influence score=%{x}<extra></extra>",
           "legendgroup": "Brazil",
           "marker": {
            "color": "#00cc96",
            "pattern": {
             "shape": ""
            }
           },
           "name": "Brazil",
           "offsetgroup": "Brazil",
           "orientation": "h",
           "showlegend": true,
           "textposition": "auto",
           "type": "bar",
           "x": [
            0
           ],
           "xaxis": "x",
           "y": [
            "Brazil"
           ],
           "yaxis": "y"
          },
          {
           "alignmentgroup": "True",
           "hovertemplate": "Countries=%{y}<br>release_year=1923<br>Cumulated character influence score=%{x}<extra></extra>",
           "legendgroup": "Netherlands",
           "marker": {
            "color": "#ab63fa",
            "pattern": {
             "shape": ""
            }
           },
           "name": "Netherlands",
           "offsetgroup": "Netherlands",
           "orientation": "h",
           "showlegend": true,
           "textposition": "auto",
           "type": "bar",
           "x": [
            0
           ],
           "xaxis": "x",
           "y": [
            "Netherlands"
           ],
           "yaxis": "y"
          },
          {
           "alignmentgroup": "True",
           "hovertemplate": "Countries=%{y}<br>release_year=1923<br>Cumulated character influence score=%{x}<extra></extra>",
           "legendgroup": "Canada",
           "marker": {
            "color": "#FFA15A",
            "pattern": {
             "shape": ""
            }
           },
           "name": "Canada",
           "offsetgroup": "Canada",
           "orientation": "h",
           "showlegend": true,
           "textposition": "auto",
           "type": "bar",
           "x": [
            0
           ],
           "xaxis": "x",
           "y": [
            "Canada"
           ],
           "yaxis": "y"
          },
          {
           "alignmentgroup": "True",
           "hovertemplate": "Countries=%{y}<br>release_year=1923<br>Cumulated character influence score=%{x}<extra></extra>",
           "legendgroup": "France",
           "marker": {
            "color": "#19d3f3",
            "pattern": {
             "shape": ""
            }
           },
           "name": "France",
           "offsetgroup": "France",
           "orientation": "h",
           "showlegend": true,
           "textposition": "auto",
           "type": "bar",
           "x": [
            0
           ],
           "xaxis": "x",
           "y": [
            "France"
           ],
           "yaxis": "y"
          },
          {
           "alignmentgroup": "True",
           "hovertemplate": "Countries=%{y}<br>release_year=1923<br>Cumulated character influence score=%{x}<extra></extra>",
           "legendgroup": "Czech Republic",
           "marker": {
            "color": "#FF6692",
            "pattern": {
             "shape": ""
            }
           },
           "name": "Czech Republic",
           "offsetgroup": "Czech Republic",
           "orientation": "h",
           "showlegend": true,
           "textposition": "auto",
           "type": "bar",
           "x": [
            0
           ],
           "xaxis": "x",
           "y": [
            "Czech Republic"
           ],
           "yaxis": "y"
          },
          {
           "alignmentgroup": "True",
           "hovertemplate": "Countries=%{y}<br>release_year=1923<br>Cumulated character influence score=%{x}<extra></extra>",
           "legendgroup": "Hong Kong",
           "marker": {
            "color": "#B6E880",
            "pattern": {
             "shape": ""
            }
           },
           "name": "Hong Kong",
           "offsetgroup": "Hong Kong",
           "orientation": "h",
           "showlegend": true,
           "textposition": "auto",
           "type": "bar",
           "x": [
            0
           ],
           "xaxis": "x",
           "y": [
            "Hong Kong"
           ],
           "yaxis": "y"
          },
          {
           "alignmentgroup": "True",
           "hovertemplate": "Countries=%{y}<br>release_year=1923<br>Cumulated character influence score=%{x}<extra></extra>",
           "legendgroup": "West Germany",
           "marker": {
            "color": "#FF97FF",
            "pattern": {
             "shape": ""
            }
           },
           "name": "West Germany",
           "offsetgroup": "West Germany",
           "orientation": "h",
           "showlegend": true,
           "textposition": "auto",
           "type": "bar",
           "x": [
            0
           ],
           "xaxis": "x",
           "y": [
            "West Germany"
           ],
           "yaxis": "y"
          },
          {
           "alignmentgroup": "True",
           "hovertemplate": "Countries=%{y}<br>release_year=1923<br>Cumulated character influence score=%{x}<extra></extra>",
           "legendgroup": "United Kingdom",
           "marker": {
            "color": "#FECB52",
            "pattern": {
             "shape": ""
            }
           },
           "name": "United Kingdom",
           "offsetgroup": "United Kingdom",
           "orientation": "h",
           "showlegend": true,
           "textposition": "auto",
           "type": "bar",
           "x": [
            3
           ],
           "xaxis": "x",
           "y": [
            "United Kingdom"
           ],
           "yaxis": "y"
          }
         ],
         "name": "1923"
        },
        {
         "data": [
          {
           "alignmentgroup": "True",
           "hovertemplate": "Countries=%{y}<br>release_year=1924<br>Cumulated character influence score=%{x}<extra></extra>",
           "legendgroup": "Germany",
           "marker": {
            "color": "#636efa",
            "pattern": {
             "shape": ""
            }
           },
           "name": "Germany",
           "offsetgroup": "Germany",
           "orientation": "h",
           "showlegend": true,
           "textposition": "auto",
           "type": "bar",
           "x": [
            0
           ],
           "xaxis": "x",
           "y": [
            "Germany"
           ],
           "yaxis": "y"
          },
          {
           "alignmentgroup": "True",
           "hovertemplate": "Countries=%{y}<br>release_year=1924<br>Cumulated character influence score=%{x}<extra></extra>",
           "legendgroup": "United States of America",
           "marker": {
            "color": "#EF553B",
            "pattern": {
             "shape": ""
            }
           },
           "name": "United States of America",
           "offsetgroup": "United States of America",
           "orientation": "h",
           "showlegend": true,
           "textposition": "auto",
           "type": "bar",
           "x": [
            0
           ],
           "xaxis": "x",
           "y": [
            "United States of America"
           ],
           "yaxis": "y"
          },
          {
           "alignmentgroup": "True",
           "hovertemplate": "Countries=%{y}<br>release_year=1924<br>Cumulated character influence score=%{x}<extra></extra>",
           "legendgroup": "Brazil",
           "marker": {
            "color": "#00cc96",
            "pattern": {
             "shape": ""
            }
           },
           "name": "Brazil",
           "offsetgroup": "Brazil",
           "orientation": "h",
           "showlegend": true,
           "textposition": "auto",
           "type": "bar",
           "x": [
            0
           ],
           "xaxis": "x",
           "y": [
            "Brazil"
           ],
           "yaxis": "y"
          },
          {
           "alignmentgroup": "True",
           "hovertemplate": "Countries=%{y}<br>release_year=1924<br>Cumulated character influence score=%{x}<extra></extra>",
           "legendgroup": "Netherlands",
           "marker": {
            "color": "#ab63fa",
            "pattern": {
             "shape": ""
            }
           },
           "name": "Netherlands",
           "offsetgroup": "Netherlands",
           "orientation": "h",
           "showlegend": true,
           "textposition": "auto",
           "type": "bar",
           "x": [
            0
           ],
           "xaxis": "x",
           "y": [
            "Netherlands"
           ],
           "yaxis": "y"
          },
          {
           "alignmentgroup": "True",
           "hovertemplate": "Countries=%{y}<br>release_year=1924<br>Cumulated character influence score=%{x}<extra></extra>",
           "legendgroup": "Canada",
           "marker": {
            "color": "#FFA15A",
            "pattern": {
             "shape": ""
            }
           },
           "name": "Canada",
           "offsetgroup": "Canada",
           "orientation": "h",
           "showlegend": true,
           "textposition": "auto",
           "type": "bar",
           "x": [
            0
           ],
           "xaxis": "x",
           "y": [
            "Canada"
           ],
           "yaxis": "y"
          },
          {
           "alignmentgroup": "True",
           "hovertemplate": "Countries=%{y}<br>release_year=1924<br>Cumulated character influence score=%{x}<extra></extra>",
           "legendgroup": "France",
           "marker": {
            "color": "#19d3f3",
            "pattern": {
             "shape": ""
            }
           },
           "name": "France",
           "offsetgroup": "France",
           "orientation": "h",
           "showlegend": true,
           "textposition": "auto",
           "type": "bar",
           "x": [
            0
           ],
           "xaxis": "x",
           "y": [
            "France"
           ],
           "yaxis": "y"
          },
          {
           "alignmentgroup": "True",
           "hovertemplate": "Countries=%{y}<br>release_year=1924<br>Cumulated character influence score=%{x}<extra></extra>",
           "legendgroup": "Czech Republic",
           "marker": {
            "color": "#FF6692",
            "pattern": {
             "shape": ""
            }
           },
           "name": "Czech Republic",
           "offsetgroup": "Czech Republic",
           "orientation": "h",
           "showlegend": true,
           "textposition": "auto",
           "type": "bar",
           "x": [
            0
           ],
           "xaxis": "x",
           "y": [
            "Czech Republic"
           ],
           "yaxis": "y"
          },
          {
           "alignmentgroup": "True",
           "hovertemplate": "Countries=%{y}<br>release_year=1924<br>Cumulated character influence score=%{x}<extra></extra>",
           "legendgroup": "Hong Kong",
           "marker": {
            "color": "#B6E880",
            "pattern": {
             "shape": ""
            }
           },
           "name": "Hong Kong",
           "offsetgroup": "Hong Kong",
           "orientation": "h",
           "showlegend": true,
           "textposition": "auto",
           "type": "bar",
           "x": [
            0
           ],
           "xaxis": "x",
           "y": [
            "Hong Kong"
           ],
           "yaxis": "y"
          },
          {
           "alignmentgroup": "True",
           "hovertemplate": "Countries=%{y}<br>release_year=1924<br>Cumulated character influence score=%{x}<extra></extra>",
           "legendgroup": "West Germany",
           "marker": {
            "color": "#FF97FF",
            "pattern": {
             "shape": ""
            }
           },
           "name": "West Germany",
           "offsetgroup": "West Germany",
           "orientation": "h",
           "showlegend": true,
           "textposition": "auto",
           "type": "bar",
           "x": [
            0
           ],
           "xaxis": "x",
           "y": [
            "West Germany"
           ],
           "yaxis": "y"
          },
          {
           "alignmentgroup": "True",
           "hovertemplate": "Countries=%{y}<br>release_year=1924<br>Cumulated character influence score=%{x}<extra></extra>",
           "legendgroup": "United Kingdom",
           "marker": {
            "color": "#FECB52",
            "pattern": {
             "shape": ""
            }
           },
           "name": "United Kingdom",
           "offsetgroup": "United Kingdom",
           "orientation": "h",
           "showlegend": true,
           "textposition": "auto",
           "type": "bar",
           "x": [
            3
           ],
           "xaxis": "x",
           "y": [
            "United Kingdom"
           ],
           "yaxis": "y"
          }
         ],
         "name": "1924"
        },
        {
         "data": [
          {
           "alignmentgroup": "True",
           "hovertemplate": "Countries=%{y}<br>release_year=1925<br>Cumulated character influence score=%{x}<extra></extra>",
           "legendgroup": "Germany",
           "marker": {
            "color": "#636efa",
            "pattern": {
             "shape": ""
            }
           },
           "name": "Germany",
           "offsetgroup": "Germany",
           "orientation": "h",
           "showlegend": true,
           "textposition": "auto",
           "type": "bar",
           "x": [
            0
           ],
           "xaxis": "x",
           "y": [
            "Germany"
           ],
           "yaxis": "y"
          },
          {
           "alignmentgroup": "True",
           "hovertemplate": "Countries=%{y}<br>release_year=1925<br>Cumulated character influence score=%{x}<extra></extra>",
           "legendgroup": "United States of America",
           "marker": {
            "color": "#EF553B",
            "pattern": {
             "shape": ""
            }
           },
           "name": "United States of America",
           "offsetgroup": "United States of America",
           "orientation": "h",
           "showlegend": true,
           "textposition": "auto",
           "type": "bar",
           "x": [
            0
           ],
           "xaxis": "x",
           "y": [
            "United States of America"
           ],
           "yaxis": "y"
          },
          {
           "alignmentgroup": "True",
           "hovertemplate": "Countries=%{y}<br>release_year=1925<br>Cumulated character influence score=%{x}<extra></extra>",
           "legendgroup": "Brazil",
           "marker": {
            "color": "#00cc96",
            "pattern": {
             "shape": ""
            }
           },
           "name": "Brazil",
           "offsetgroup": "Brazil",
           "orientation": "h",
           "showlegend": true,
           "textposition": "auto",
           "type": "bar",
           "x": [
            0
           ],
           "xaxis": "x",
           "y": [
            "Brazil"
           ],
           "yaxis": "y"
          },
          {
           "alignmentgroup": "True",
           "hovertemplate": "Countries=%{y}<br>release_year=1925<br>Cumulated character influence score=%{x}<extra></extra>",
           "legendgroup": "Netherlands",
           "marker": {
            "color": "#ab63fa",
            "pattern": {
             "shape": ""
            }
           },
           "name": "Netherlands",
           "offsetgroup": "Netherlands",
           "orientation": "h",
           "showlegend": true,
           "textposition": "auto",
           "type": "bar",
           "x": [
            0
           ],
           "xaxis": "x",
           "y": [
            "Netherlands"
           ],
           "yaxis": "y"
          },
          {
           "alignmentgroup": "True",
           "hovertemplate": "Countries=%{y}<br>release_year=1925<br>Cumulated character influence score=%{x}<extra></extra>",
           "legendgroup": "Canada",
           "marker": {
            "color": "#FFA15A",
            "pattern": {
             "shape": ""
            }
           },
           "name": "Canada",
           "offsetgroup": "Canada",
           "orientation": "h",
           "showlegend": true,
           "textposition": "auto",
           "type": "bar",
           "x": [
            0
           ],
           "xaxis": "x",
           "y": [
            "Canada"
           ],
           "yaxis": "y"
          },
          {
           "alignmentgroup": "True",
           "hovertemplate": "Countries=%{y}<br>release_year=1925<br>Cumulated character influence score=%{x}<extra></extra>",
           "legendgroup": "France",
           "marker": {
            "color": "#19d3f3",
            "pattern": {
             "shape": ""
            }
           },
           "name": "France",
           "offsetgroup": "France",
           "orientation": "h",
           "showlegend": true,
           "textposition": "auto",
           "type": "bar",
           "x": [
            1
           ],
           "xaxis": "x",
           "y": [
            "France"
           ],
           "yaxis": "y"
          },
          {
           "alignmentgroup": "True",
           "hovertemplate": "Countries=%{y}<br>release_year=1925<br>Cumulated character influence score=%{x}<extra></extra>",
           "legendgroup": "Czech Republic",
           "marker": {
            "color": "#FF6692",
            "pattern": {
             "shape": ""
            }
           },
           "name": "Czech Republic",
           "offsetgroup": "Czech Republic",
           "orientation": "h",
           "showlegend": true,
           "textposition": "auto",
           "type": "bar",
           "x": [
            0
           ],
           "xaxis": "x",
           "y": [
            "Czech Republic"
           ],
           "yaxis": "y"
          },
          {
           "alignmentgroup": "True",
           "hovertemplate": "Countries=%{y}<br>release_year=1925<br>Cumulated character influence score=%{x}<extra></extra>",
           "legendgroup": "Hong Kong",
           "marker": {
            "color": "#B6E880",
            "pattern": {
             "shape": ""
            }
           },
           "name": "Hong Kong",
           "offsetgroup": "Hong Kong",
           "orientation": "h",
           "showlegend": true,
           "textposition": "auto",
           "type": "bar",
           "x": [
            0
           ],
           "xaxis": "x",
           "y": [
            "Hong Kong"
           ],
           "yaxis": "y"
          },
          {
           "alignmentgroup": "True",
           "hovertemplate": "Countries=%{y}<br>release_year=1925<br>Cumulated character influence score=%{x}<extra></extra>",
           "legendgroup": "West Germany",
           "marker": {
            "color": "#FF97FF",
            "pattern": {
             "shape": ""
            }
           },
           "name": "West Germany",
           "offsetgroup": "West Germany",
           "orientation": "h",
           "showlegend": true,
           "textposition": "auto",
           "type": "bar",
           "x": [
            0
           ],
           "xaxis": "x",
           "y": [
            "West Germany"
           ],
           "yaxis": "y"
          },
          {
           "alignmentgroup": "True",
           "hovertemplate": "Countries=%{y}<br>release_year=1925<br>Cumulated character influence score=%{x}<extra></extra>",
           "legendgroup": "United Kingdom",
           "marker": {
            "color": "#FECB52",
            "pattern": {
             "shape": ""
            }
           },
           "name": "United Kingdom",
           "offsetgroup": "United Kingdom",
           "orientation": "h",
           "showlegend": true,
           "textposition": "auto",
           "type": "bar",
           "x": [
            5
           ],
           "xaxis": "x",
           "y": [
            "United Kingdom"
           ],
           "yaxis": "y"
          }
         ],
         "name": "1925"
        },
        {
         "data": [
          {
           "alignmentgroup": "True",
           "hovertemplate": "Countries=%{y}<br>release_year=1926<br>Cumulated character influence score=%{x}<extra></extra>",
           "legendgroup": "Germany",
           "marker": {
            "color": "#636efa",
            "pattern": {
             "shape": ""
            }
           },
           "name": "Germany",
           "offsetgroup": "Germany",
           "orientation": "h",
           "showlegend": true,
           "textposition": "auto",
           "type": "bar",
           "x": [
            0
           ],
           "xaxis": "x",
           "y": [
            "Germany"
           ],
           "yaxis": "y"
          },
          {
           "alignmentgroup": "True",
           "hovertemplate": "Countries=%{y}<br>release_year=1926<br>Cumulated character influence score=%{x}<extra></extra>",
           "legendgroup": "United States of America",
           "marker": {
            "color": "#EF553B",
            "pattern": {
             "shape": ""
            }
           },
           "name": "United States of America",
           "offsetgroup": "United States of America",
           "orientation": "h",
           "showlegend": true,
           "textposition": "auto",
           "type": "bar",
           "x": [
            0
           ],
           "xaxis": "x",
           "y": [
            "United States of America"
           ],
           "yaxis": "y"
          },
          {
           "alignmentgroup": "True",
           "hovertemplate": "Countries=%{y}<br>release_year=1926<br>Cumulated character influence score=%{x}<extra></extra>",
           "legendgroup": "Brazil",
           "marker": {
            "color": "#00cc96",
            "pattern": {
             "shape": ""
            }
           },
           "name": "Brazil",
           "offsetgroup": "Brazil",
           "orientation": "h",
           "showlegend": true,
           "textposition": "auto",
           "type": "bar",
           "x": [
            0
           ],
           "xaxis": "x",
           "y": [
            "Brazil"
           ],
           "yaxis": "y"
          },
          {
           "alignmentgroup": "True",
           "hovertemplate": "Countries=%{y}<br>release_year=1926<br>Cumulated character influence score=%{x}<extra></extra>",
           "legendgroup": "Netherlands",
           "marker": {
            "color": "#ab63fa",
            "pattern": {
             "shape": ""
            }
           },
           "name": "Netherlands",
           "offsetgroup": "Netherlands",
           "orientation": "h",
           "showlegend": true,
           "textposition": "auto",
           "type": "bar",
           "x": [
            0
           ],
           "xaxis": "x",
           "y": [
            "Netherlands"
           ],
           "yaxis": "y"
          },
          {
           "alignmentgroup": "True",
           "hovertemplate": "Countries=%{y}<br>release_year=1926<br>Cumulated character influence score=%{x}<extra></extra>",
           "legendgroup": "Canada",
           "marker": {
            "color": "#FFA15A",
            "pattern": {
             "shape": ""
            }
           },
           "name": "Canada",
           "offsetgroup": "Canada",
           "orientation": "h",
           "showlegend": true,
           "textposition": "auto",
           "type": "bar",
           "x": [
            0
           ],
           "xaxis": "x",
           "y": [
            "Canada"
           ],
           "yaxis": "y"
          },
          {
           "alignmentgroup": "True",
           "hovertemplate": "Countries=%{y}<br>release_year=1926<br>Cumulated character influence score=%{x}<extra></extra>",
           "legendgroup": "France",
           "marker": {
            "color": "#19d3f3",
            "pattern": {
             "shape": ""
            }
           },
           "name": "France",
           "offsetgroup": "France",
           "orientation": "h",
           "showlegend": true,
           "textposition": "auto",
           "type": "bar",
           "x": [
            1
           ],
           "xaxis": "x",
           "y": [
            "France"
           ],
           "yaxis": "y"
          },
          {
           "alignmentgroup": "True",
           "hovertemplate": "Countries=%{y}<br>release_year=1926<br>Cumulated character influence score=%{x}<extra></extra>",
           "legendgroup": "Czech Republic",
           "marker": {
            "color": "#FF6692",
            "pattern": {
             "shape": ""
            }
           },
           "name": "Czech Republic",
           "offsetgroup": "Czech Republic",
           "orientation": "h",
           "showlegend": true,
           "textposition": "auto",
           "type": "bar",
           "x": [
            0
           ],
           "xaxis": "x",
           "y": [
            "Czech Republic"
           ],
           "yaxis": "y"
          },
          {
           "alignmentgroup": "True",
           "hovertemplate": "Countries=%{y}<br>release_year=1926<br>Cumulated character influence score=%{x}<extra></extra>",
           "legendgroup": "Hong Kong",
           "marker": {
            "color": "#B6E880",
            "pattern": {
             "shape": ""
            }
           },
           "name": "Hong Kong",
           "offsetgroup": "Hong Kong",
           "orientation": "h",
           "showlegend": true,
           "textposition": "auto",
           "type": "bar",
           "x": [
            0
           ],
           "xaxis": "x",
           "y": [
            "Hong Kong"
           ],
           "yaxis": "y"
          },
          {
           "alignmentgroup": "True",
           "hovertemplate": "Countries=%{y}<br>release_year=1926<br>Cumulated character influence score=%{x}<extra></extra>",
           "legendgroup": "West Germany",
           "marker": {
            "color": "#FF97FF",
            "pattern": {
             "shape": ""
            }
           },
           "name": "West Germany",
           "offsetgroup": "West Germany",
           "orientation": "h",
           "showlegend": true,
           "textposition": "auto",
           "type": "bar",
           "x": [
            0
           ],
           "xaxis": "x",
           "y": [
            "West Germany"
           ],
           "yaxis": "y"
          },
          {
           "alignmentgroup": "True",
           "hovertemplate": "Countries=%{y}<br>release_year=1926<br>Cumulated character influence score=%{x}<extra></extra>",
           "legendgroup": "United Kingdom",
           "marker": {
            "color": "#FECB52",
            "pattern": {
             "shape": ""
            }
           },
           "name": "United Kingdom",
           "offsetgroup": "United Kingdom",
           "orientation": "h",
           "showlegend": true,
           "textposition": "auto",
           "type": "bar",
           "x": [
            5
           ],
           "xaxis": "x",
           "y": [
            "United Kingdom"
           ],
           "yaxis": "y"
          }
         ],
         "name": "1926"
        },
        {
         "data": [
          {
           "alignmentgroup": "True",
           "hovertemplate": "Countries=%{y}<br>release_year=1927<br>Cumulated character influence score=%{x}<extra></extra>",
           "legendgroup": "Germany",
           "marker": {
            "color": "#636efa",
            "pattern": {
             "shape": ""
            }
           },
           "name": "Germany",
           "offsetgroup": "Germany",
           "orientation": "h",
           "showlegend": true,
           "textposition": "auto",
           "type": "bar",
           "x": [
            0
           ],
           "xaxis": "x",
           "y": [
            "Germany"
           ],
           "yaxis": "y"
          },
          {
           "alignmentgroup": "True",
           "hovertemplate": "Countries=%{y}<br>release_year=1927<br>Cumulated character influence score=%{x}<extra></extra>",
           "legendgroup": "United States of America",
           "marker": {
            "color": "#EF553B",
            "pattern": {
             "shape": ""
            }
           },
           "name": "United States of America",
           "offsetgroup": "United States of America",
           "orientation": "h",
           "showlegend": true,
           "textposition": "auto",
           "type": "bar",
           "x": [
            0
           ],
           "xaxis": "x",
           "y": [
            "United States of America"
           ],
           "yaxis": "y"
          },
          {
           "alignmentgroup": "True",
           "hovertemplate": "Countries=%{y}<br>release_year=1927<br>Cumulated character influence score=%{x}<extra></extra>",
           "legendgroup": "Brazil",
           "marker": {
            "color": "#00cc96",
            "pattern": {
             "shape": ""
            }
           },
           "name": "Brazil",
           "offsetgroup": "Brazil",
           "orientation": "h",
           "showlegend": true,
           "textposition": "auto",
           "type": "bar",
           "x": [
            0
           ],
           "xaxis": "x",
           "y": [
            "Brazil"
           ],
           "yaxis": "y"
          },
          {
           "alignmentgroup": "True",
           "hovertemplate": "Countries=%{y}<br>release_year=1927<br>Cumulated character influence score=%{x}<extra></extra>",
           "legendgroup": "Netherlands",
           "marker": {
            "color": "#ab63fa",
            "pattern": {
             "shape": ""
            }
           },
           "name": "Netherlands",
           "offsetgroup": "Netherlands",
           "orientation": "h",
           "showlegend": true,
           "textposition": "auto",
           "type": "bar",
           "x": [
            0
           ],
           "xaxis": "x",
           "y": [
            "Netherlands"
           ],
           "yaxis": "y"
          },
          {
           "alignmentgroup": "True",
           "hovertemplate": "Countries=%{y}<br>release_year=1927<br>Cumulated character influence score=%{x}<extra></extra>",
           "legendgroup": "Canada",
           "marker": {
            "color": "#FFA15A",
            "pattern": {
             "shape": ""
            }
           },
           "name": "Canada",
           "offsetgroup": "Canada",
           "orientation": "h",
           "showlegend": true,
           "textposition": "auto",
           "type": "bar",
           "x": [
            0
           ],
           "xaxis": "x",
           "y": [
            "Canada"
           ],
           "yaxis": "y"
          },
          {
           "alignmentgroup": "True",
           "hovertemplate": "Countries=%{y}<br>release_year=1927<br>Cumulated character influence score=%{x}<extra></extra>",
           "legendgroup": "France",
           "marker": {
            "color": "#19d3f3",
            "pattern": {
             "shape": ""
            }
           },
           "name": "France",
           "offsetgroup": "France",
           "orientation": "h",
           "showlegend": true,
           "textposition": "auto",
           "type": "bar",
           "x": [
            1
           ],
           "xaxis": "x",
           "y": [
            "France"
           ],
           "yaxis": "y"
          },
          {
           "alignmentgroup": "True",
           "hovertemplate": "Countries=%{y}<br>release_year=1927<br>Cumulated character influence score=%{x}<extra></extra>",
           "legendgroup": "Czech Republic",
           "marker": {
            "color": "#FF6692",
            "pattern": {
             "shape": ""
            }
           },
           "name": "Czech Republic",
           "offsetgroup": "Czech Republic",
           "orientation": "h",
           "showlegend": true,
           "textposition": "auto",
           "type": "bar",
           "x": [
            0
           ],
           "xaxis": "x",
           "y": [
            "Czech Republic"
           ],
           "yaxis": "y"
          },
          {
           "alignmentgroup": "True",
           "hovertemplate": "Countries=%{y}<br>release_year=1927<br>Cumulated character influence score=%{x}<extra></extra>",
           "legendgroup": "Hong Kong",
           "marker": {
            "color": "#B6E880",
            "pattern": {
             "shape": ""
            }
           },
           "name": "Hong Kong",
           "offsetgroup": "Hong Kong",
           "orientation": "h",
           "showlegend": true,
           "textposition": "auto",
           "type": "bar",
           "x": [
            0
           ],
           "xaxis": "x",
           "y": [
            "Hong Kong"
           ],
           "yaxis": "y"
          },
          {
           "alignmentgroup": "True",
           "hovertemplate": "Countries=%{y}<br>release_year=1927<br>Cumulated character influence score=%{x}<extra></extra>",
           "legendgroup": "West Germany",
           "marker": {
            "color": "#FF97FF",
            "pattern": {
             "shape": ""
            }
           },
           "name": "West Germany",
           "offsetgroup": "West Germany",
           "orientation": "h",
           "showlegend": true,
           "textposition": "auto",
           "type": "bar",
           "x": [
            0
           ],
           "xaxis": "x",
           "y": [
            "West Germany"
           ],
           "yaxis": "y"
          },
          {
           "alignmentgroup": "True",
           "hovertemplate": "Countries=%{y}<br>release_year=1927<br>Cumulated character influence score=%{x}<extra></extra>",
           "legendgroup": "United Kingdom",
           "marker": {
            "color": "#FECB52",
            "pattern": {
             "shape": ""
            }
           },
           "name": "United Kingdom",
           "offsetgroup": "United Kingdom",
           "orientation": "h",
           "showlegend": true,
           "textposition": "auto",
           "type": "bar",
           "x": [
            5
           ],
           "xaxis": "x",
           "y": [
            "United Kingdom"
           ],
           "yaxis": "y"
          }
         ],
         "name": "1927"
        },
        {
         "data": [
          {
           "alignmentgroup": "True",
           "hovertemplate": "Countries=%{y}<br>release_year=1928<br>Cumulated character influence score=%{x}<extra></extra>",
           "legendgroup": "Germany",
           "marker": {
            "color": "#636efa",
            "pattern": {
             "shape": ""
            }
           },
           "name": "Germany",
           "offsetgroup": "Germany",
           "orientation": "h",
           "showlegend": true,
           "textposition": "auto",
           "type": "bar",
           "x": [
            0
           ],
           "xaxis": "x",
           "y": [
            "Germany"
           ],
           "yaxis": "y"
          },
          {
           "alignmentgroup": "True",
           "hovertemplate": "Countries=%{y}<br>release_year=1928<br>Cumulated character influence score=%{x}<extra></extra>",
           "legendgroup": "United States of America",
           "marker": {
            "color": "#EF553B",
            "pattern": {
             "shape": ""
            }
           },
           "name": "United States of America",
           "offsetgroup": "United States of America",
           "orientation": "h",
           "showlegend": true,
           "textposition": "auto",
           "type": "bar",
           "x": [
            0
           ],
           "xaxis": "x",
           "y": [
            "United States of America"
           ],
           "yaxis": "y"
          },
          {
           "alignmentgroup": "True",
           "hovertemplate": "Countries=%{y}<br>release_year=1928<br>Cumulated character influence score=%{x}<extra></extra>",
           "legendgroup": "Brazil",
           "marker": {
            "color": "#00cc96",
            "pattern": {
             "shape": ""
            }
           },
           "name": "Brazil",
           "offsetgroup": "Brazil",
           "orientation": "h",
           "showlegend": true,
           "textposition": "auto",
           "type": "bar",
           "x": [
            0
           ],
           "xaxis": "x",
           "y": [
            "Brazil"
           ],
           "yaxis": "y"
          },
          {
           "alignmentgroup": "True",
           "hovertemplate": "Countries=%{y}<br>release_year=1928<br>Cumulated character influence score=%{x}<extra></extra>",
           "legendgroup": "Netherlands",
           "marker": {
            "color": "#ab63fa",
            "pattern": {
             "shape": ""
            }
           },
           "name": "Netherlands",
           "offsetgroup": "Netherlands",
           "orientation": "h",
           "showlegend": true,
           "textposition": "auto",
           "type": "bar",
           "x": [
            0
           ],
           "xaxis": "x",
           "y": [
            "Netherlands"
           ],
           "yaxis": "y"
          },
          {
           "alignmentgroup": "True",
           "hovertemplate": "Countries=%{y}<br>release_year=1928<br>Cumulated character influence score=%{x}<extra></extra>",
           "legendgroup": "Canada",
           "marker": {
            "color": "#FFA15A",
            "pattern": {
             "shape": ""
            }
           },
           "name": "Canada",
           "offsetgroup": "Canada",
           "orientation": "h",
           "showlegend": true,
           "textposition": "auto",
           "type": "bar",
           "x": [
            0
           ],
           "xaxis": "x",
           "y": [
            "Canada"
           ],
           "yaxis": "y"
          },
          {
           "alignmentgroup": "True",
           "hovertemplate": "Countries=%{y}<br>release_year=1928<br>Cumulated character influence score=%{x}<extra></extra>",
           "legendgroup": "France",
           "marker": {
            "color": "#19d3f3",
            "pattern": {
             "shape": ""
            }
           },
           "name": "France",
           "offsetgroup": "France",
           "orientation": "h",
           "showlegend": true,
           "textposition": "auto",
           "type": "bar",
           "x": [
            1
           ],
           "xaxis": "x",
           "y": [
            "France"
           ],
           "yaxis": "y"
          },
          {
           "alignmentgroup": "True",
           "hovertemplate": "Countries=%{y}<br>release_year=1928<br>Cumulated character influence score=%{x}<extra></extra>",
           "legendgroup": "Czech Republic",
           "marker": {
            "color": "#FF6692",
            "pattern": {
             "shape": ""
            }
           },
           "name": "Czech Republic",
           "offsetgroup": "Czech Republic",
           "orientation": "h",
           "showlegend": true,
           "textposition": "auto",
           "type": "bar",
           "x": [
            0
           ],
           "xaxis": "x",
           "y": [
            "Czech Republic"
           ],
           "yaxis": "y"
          },
          {
           "alignmentgroup": "True",
           "hovertemplate": "Countries=%{y}<br>release_year=1928<br>Cumulated character influence score=%{x}<extra></extra>",
           "legendgroup": "Hong Kong",
           "marker": {
            "color": "#B6E880",
            "pattern": {
             "shape": ""
            }
           },
           "name": "Hong Kong",
           "offsetgroup": "Hong Kong",
           "orientation": "h",
           "showlegend": true,
           "textposition": "auto",
           "type": "bar",
           "x": [
            0
           ],
           "xaxis": "x",
           "y": [
            "Hong Kong"
           ],
           "yaxis": "y"
          },
          {
           "alignmentgroup": "True",
           "hovertemplate": "Countries=%{y}<br>release_year=1928<br>Cumulated character influence score=%{x}<extra></extra>",
           "legendgroup": "West Germany",
           "marker": {
            "color": "#FF97FF",
            "pattern": {
             "shape": ""
            }
           },
           "name": "West Germany",
           "offsetgroup": "West Germany",
           "orientation": "h",
           "showlegend": true,
           "textposition": "auto",
           "type": "bar",
           "x": [
            0
           ],
           "xaxis": "x",
           "y": [
            "West Germany"
           ],
           "yaxis": "y"
          },
          {
           "alignmentgroup": "True",
           "hovertemplate": "Countries=%{y}<br>release_year=1928<br>Cumulated character influence score=%{x}<extra></extra>",
           "legendgroup": "United Kingdom",
           "marker": {
            "color": "#FECB52",
            "pattern": {
             "shape": ""
            }
           },
           "name": "United Kingdom",
           "offsetgroup": "United Kingdom",
           "orientation": "h",
           "showlegend": true,
           "textposition": "auto",
           "type": "bar",
           "x": [
            6
           ],
           "xaxis": "x",
           "y": [
            "United Kingdom"
           ],
           "yaxis": "y"
          }
         ],
         "name": "1928"
        },
        {
         "data": [
          {
           "alignmentgroup": "True",
           "hovertemplate": "Countries=%{y}<br>release_year=1929<br>Cumulated character influence score=%{x}<extra></extra>",
           "legendgroup": "Germany",
           "marker": {
            "color": "#636efa",
            "pattern": {
             "shape": ""
            }
           },
           "name": "Germany",
           "offsetgroup": "Germany",
           "orientation": "h",
           "showlegend": true,
           "textposition": "auto",
           "type": "bar",
           "x": [
            0
           ],
           "xaxis": "x",
           "y": [
            "Germany"
           ],
           "yaxis": "y"
          },
          {
           "alignmentgroup": "True",
           "hovertemplate": "Countries=%{y}<br>release_year=1929<br>Cumulated character influence score=%{x}<extra></extra>",
           "legendgroup": "United States of America",
           "marker": {
            "color": "#EF553B",
            "pattern": {
             "shape": ""
            }
           },
           "name": "United States of America",
           "offsetgroup": "United States of America",
           "orientation": "h",
           "showlegend": true,
           "textposition": "auto",
           "type": "bar",
           "x": [
            0
           ],
           "xaxis": "x",
           "y": [
            "United States of America"
           ],
           "yaxis": "y"
          },
          {
           "alignmentgroup": "True",
           "hovertemplate": "Countries=%{y}<br>release_year=1929<br>Cumulated character influence score=%{x}<extra></extra>",
           "legendgroup": "Brazil",
           "marker": {
            "color": "#00cc96",
            "pattern": {
             "shape": ""
            }
           },
           "name": "Brazil",
           "offsetgroup": "Brazil",
           "orientation": "h",
           "showlegend": true,
           "textposition": "auto",
           "type": "bar",
           "x": [
            0
           ],
           "xaxis": "x",
           "y": [
            "Brazil"
           ],
           "yaxis": "y"
          },
          {
           "alignmentgroup": "True",
           "hovertemplate": "Countries=%{y}<br>release_year=1929<br>Cumulated character influence score=%{x}<extra></extra>",
           "legendgroup": "Netherlands",
           "marker": {
            "color": "#ab63fa",
            "pattern": {
             "shape": ""
            }
           },
           "name": "Netherlands",
           "offsetgroup": "Netherlands",
           "orientation": "h",
           "showlegend": true,
           "textposition": "auto",
           "type": "bar",
           "x": [
            0
           ],
           "xaxis": "x",
           "y": [
            "Netherlands"
           ],
           "yaxis": "y"
          },
          {
           "alignmentgroup": "True",
           "hovertemplate": "Countries=%{y}<br>release_year=1929<br>Cumulated character influence score=%{x}<extra></extra>",
           "legendgroup": "Canada",
           "marker": {
            "color": "#FFA15A",
            "pattern": {
             "shape": ""
            }
           },
           "name": "Canada",
           "offsetgroup": "Canada",
           "orientation": "h",
           "showlegend": true,
           "textposition": "auto",
           "type": "bar",
           "x": [
            0
           ],
           "xaxis": "x",
           "y": [
            "Canada"
           ],
           "yaxis": "y"
          },
          {
           "alignmentgroup": "True",
           "hovertemplate": "Countries=%{y}<br>release_year=1929<br>Cumulated character influence score=%{x}<extra></extra>",
           "legendgroup": "France",
           "marker": {
            "color": "#19d3f3",
            "pattern": {
             "shape": ""
            }
           },
           "name": "France",
           "offsetgroup": "France",
           "orientation": "h",
           "showlegend": true,
           "textposition": "auto",
           "type": "bar",
           "x": [
            1
           ],
           "xaxis": "x",
           "y": [
            "France"
           ],
           "yaxis": "y"
          },
          {
           "alignmentgroup": "True",
           "hovertemplate": "Countries=%{y}<br>release_year=1929<br>Cumulated character influence score=%{x}<extra></extra>",
           "legendgroup": "Czech Republic",
           "marker": {
            "color": "#FF6692",
            "pattern": {
             "shape": ""
            }
           },
           "name": "Czech Republic",
           "offsetgroup": "Czech Republic",
           "orientation": "h",
           "showlegend": true,
           "textposition": "auto",
           "type": "bar",
           "x": [
            0
           ],
           "xaxis": "x",
           "y": [
            "Czech Republic"
           ],
           "yaxis": "y"
          },
          {
           "alignmentgroup": "True",
           "hovertemplate": "Countries=%{y}<br>release_year=1929<br>Cumulated character influence score=%{x}<extra></extra>",
           "legendgroup": "Hong Kong",
           "marker": {
            "color": "#B6E880",
            "pattern": {
             "shape": ""
            }
           },
           "name": "Hong Kong",
           "offsetgroup": "Hong Kong",
           "orientation": "h",
           "showlegend": true,
           "textposition": "auto",
           "type": "bar",
           "x": [
            0
           ],
           "xaxis": "x",
           "y": [
            "Hong Kong"
           ],
           "yaxis": "y"
          },
          {
           "alignmentgroup": "True",
           "hovertemplate": "Countries=%{y}<br>release_year=1929<br>Cumulated character influence score=%{x}<extra></extra>",
           "legendgroup": "West Germany",
           "marker": {
            "color": "#FF97FF",
            "pattern": {
             "shape": ""
            }
           },
           "name": "West Germany",
           "offsetgroup": "West Germany",
           "orientation": "h",
           "showlegend": true,
           "textposition": "auto",
           "type": "bar",
           "x": [
            0
           ],
           "xaxis": "x",
           "y": [
            "West Germany"
           ],
           "yaxis": "y"
          },
          {
           "alignmentgroup": "True",
           "hovertemplate": "Countries=%{y}<br>release_year=1929<br>Cumulated character influence score=%{x}<extra></extra>",
           "legendgroup": "United Kingdom",
           "marker": {
            "color": "#FECB52",
            "pattern": {
             "shape": ""
            }
           },
           "name": "United Kingdom",
           "offsetgroup": "United Kingdom",
           "orientation": "h",
           "showlegend": true,
           "textposition": "auto",
           "type": "bar",
           "x": [
            6
           ],
           "xaxis": "x",
           "y": [
            "United Kingdom"
           ],
           "yaxis": "y"
          }
         ],
         "name": "1929"
        },
        {
         "data": [
          {
           "alignmentgroup": "True",
           "hovertemplate": "Countries=%{y}<br>release_year=1930<br>Cumulated character influence score=%{x}<extra></extra>",
           "legendgroup": "Germany",
           "marker": {
            "color": "#636efa",
            "pattern": {
             "shape": ""
            }
           },
           "name": "Germany",
           "offsetgroup": "Germany",
           "orientation": "h",
           "showlegend": true,
           "textposition": "auto",
           "type": "bar",
           "x": [
            0
           ],
           "xaxis": "x",
           "y": [
            "Germany"
           ],
           "yaxis": "y"
          },
          {
           "alignmentgroup": "True",
           "hovertemplate": "Countries=%{y}<br>release_year=1930<br>Cumulated character influence score=%{x}<extra></extra>",
           "legendgroup": "United States of America",
           "marker": {
            "color": "#EF553B",
            "pattern": {
             "shape": ""
            }
           },
           "name": "United States of America",
           "offsetgroup": "United States of America",
           "orientation": "h",
           "showlegend": true,
           "textposition": "auto",
           "type": "bar",
           "x": [
            0
           ],
           "xaxis": "x",
           "y": [
            "United States of America"
           ],
           "yaxis": "y"
          },
          {
           "alignmentgroup": "True",
           "hovertemplate": "Countries=%{y}<br>release_year=1930<br>Cumulated character influence score=%{x}<extra></extra>",
           "legendgroup": "Brazil",
           "marker": {
            "color": "#00cc96",
            "pattern": {
             "shape": ""
            }
           },
           "name": "Brazil",
           "offsetgroup": "Brazil",
           "orientation": "h",
           "showlegend": true,
           "textposition": "auto",
           "type": "bar",
           "x": [
            0
           ],
           "xaxis": "x",
           "y": [
            "Brazil"
           ],
           "yaxis": "y"
          },
          {
           "alignmentgroup": "True",
           "hovertemplate": "Countries=%{y}<br>release_year=1930<br>Cumulated character influence score=%{x}<extra></extra>",
           "legendgroup": "Netherlands",
           "marker": {
            "color": "#ab63fa",
            "pattern": {
             "shape": ""
            }
           },
           "name": "Netherlands",
           "offsetgroup": "Netherlands",
           "orientation": "h",
           "showlegend": true,
           "textposition": "auto",
           "type": "bar",
           "x": [
            0
           ],
           "xaxis": "x",
           "y": [
            "Netherlands"
           ],
           "yaxis": "y"
          },
          {
           "alignmentgroup": "True",
           "hovertemplate": "Countries=%{y}<br>release_year=1930<br>Cumulated character influence score=%{x}<extra></extra>",
           "legendgroup": "Canada",
           "marker": {
            "color": "#FFA15A",
            "pattern": {
             "shape": ""
            }
           },
           "name": "Canada",
           "offsetgroup": "Canada",
           "orientation": "h",
           "showlegend": true,
           "textposition": "auto",
           "type": "bar",
           "x": [
            0
           ],
           "xaxis": "x",
           "y": [
            "Canada"
           ],
           "yaxis": "y"
          },
          {
           "alignmentgroup": "True",
           "hovertemplate": "Countries=%{y}<br>release_year=1930<br>Cumulated character influence score=%{x}<extra></extra>",
           "legendgroup": "France",
           "marker": {
            "color": "#19d3f3",
            "pattern": {
             "shape": ""
            }
           },
           "name": "France",
           "offsetgroup": "France",
           "orientation": "h",
           "showlegend": true,
           "textposition": "auto",
           "type": "bar",
           "x": [
            1
           ],
           "xaxis": "x",
           "y": [
            "France"
           ],
           "yaxis": "y"
          },
          {
           "alignmentgroup": "True",
           "hovertemplate": "Countries=%{y}<br>release_year=1930<br>Cumulated character influence score=%{x}<extra></extra>",
           "legendgroup": "Czech Republic",
           "marker": {
            "color": "#FF6692",
            "pattern": {
             "shape": ""
            }
           },
           "name": "Czech Republic",
           "offsetgroup": "Czech Republic",
           "orientation": "h",
           "showlegend": true,
           "textposition": "auto",
           "type": "bar",
           "x": [
            0
           ],
           "xaxis": "x",
           "y": [
            "Czech Republic"
           ],
           "yaxis": "y"
          },
          {
           "alignmentgroup": "True",
           "hovertemplate": "Countries=%{y}<br>release_year=1930<br>Cumulated character influence score=%{x}<extra></extra>",
           "legendgroup": "Hong Kong",
           "marker": {
            "color": "#B6E880",
            "pattern": {
             "shape": ""
            }
           },
           "name": "Hong Kong",
           "offsetgroup": "Hong Kong",
           "orientation": "h",
           "showlegend": true,
           "textposition": "auto",
           "type": "bar",
           "x": [
            0
           ],
           "xaxis": "x",
           "y": [
            "Hong Kong"
           ],
           "yaxis": "y"
          },
          {
           "alignmentgroup": "True",
           "hovertemplate": "Countries=%{y}<br>release_year=1930<br>Cumulated character influence score=%{x}<extra></extra>",
           "legendgroup": "West Germany",
           "marker": {
            "color": "#FF97FF",
            "pattern": {
             "shape": ""
            }
           },
           "name": "West Germany",
           "offsetgroup": "West Germany",
           "orientation": "h",
           "showlegend": true,
           "textposition": "auto",
           "type": "bar",
           "x": [
            0
           ],
           "xaxis": "x",
           "y": [
            "West Germany"
           ],
           "yaxis": "y"
          },
          {
           "alignmentgroup": "True",
           "hovertemplate": "Countries=%{y}<br>release_year=1930<br>Cumulated character influence score=%{x}<extra></extra>",
           "legendgroup": "United Kingdom",
           "marker": {
            "color": "#FECB52",
            "pattern": {
             "shape": ""
            }
           },
           "name": "United Kingdom",
           "offsetgroup": "United Kingdom",
           "orientation": "h",
           "showlegend": true,
           "textposition": "auto",
           "type": "bar",
           "x": [
            7
           ],
           "xaxis": "x",
           "y": [
            "United Kingdom"
           ],
           "yaxis": "y"
          }
         ],
         "name": "1930"
        },
        {
         "data": [
          {
           "alignmentgroup": "True",
           "hovertemplate": "Countries=%{y}<br>release_year=1931<br>Cumulated character influence score=%{x}<extra></extra>",
           "legendgroup": "Germany",
           "marker": {
            "color": "#636efa",
            "pattern": {
             "shape": ""
            }
           },
           "name": "Germany",
           "offsetgroup": "Germany",
           "orientation": "h",
           "showlegend": true,
           "textposition": "auto",
           "type": "bar",
           "x": [
            0
           ],
           "xaxis": "x",
           "y": [
            "Germany"
           ],
           "yaxis": "y"
          },
          {
           "alignmentgroup": "True",
           "hovertemplate": "Countries=%{y}<br>release_year=1931<br>Cumulated character influence score=%{x}<extra></extra>",
           "legendgroup": "United States of America",
           "marker": {
            "color": "#EF553B",
            "pattern": {
             "shape": ""
            }
           },
           "name": "United States of America",
           "offsetgroup": "United States of America",
           "orientation": "h",
           "showlegend": true,
           "textposition": "auto",
           "type": "bar",
           "x": [
            0
           ],
           "xaxis": "x",
           "y": [
            "United States of America"
           ],
           "yaxis": "y"
          },
          {
           "alignmentgroup": "True",
           "hovertemplate": "Countries=%{y}<br>release_year=1931<br>Cumulated character influence score=%{x}<extra></extra>",
           "legendgroup": "Brazil",
           "marker": {
            "color": "#00cc96",
            "pattern": {
             "shape": ""
            }
           },
           "name": "Brazil",
           "offsetgroup": "Brazil",
           "orientation": "h",
           "showlegend": true,
           "textposition": "auto",
           "type": "bar",
           "x": [
            0
           ],
           "xaxis": "x",
           "y": [
            "Brazil"
           ],
           "yaxis": "y"
          },
          {
           "alignmentgroup": "True",
           "hovertemplate": "Countries=%{y}<br>release_year=1931<br>Cumulated character influence score=%{x}<extra></extra>",
           "legendgroup": "Netherlands",
           "marker": {
            "color": "#ab63fa",
            "pattern": {
             "shape": ""
            }
           },
           "name": "Netherlands",
           "offsetgroup": "Netherlands",
           "orientation": "h",
           "showlegend": true,
           "textposition": "auto",
           "type": "bar",
           "x": [
            0
           ],
           "xaxis": "x",
           "y": [
            "Netherlands"
           ],
           "yaxis": "y"
          },
          {
           "alignmentgroup": "True",
           "hovertemplate": "Countries=%{y}<br>release_year=1931<br>Cumulated character influence score=%{x}<extra></extra>",
           "legendgroup": "Canada",
           "marker": {
            "color": "#FFA15A",
            "pattern": {
             "shape": ""
            }
           },
           "name": "Canada",
           "offsetgroup": "Canada",
           "orientation": "h",
           "showlegend": true,
           "textposition": "auto",
           "type": "bar",
           "x": [
            0
           ],
           "xaxis": "x",
           "y": [
            "Canada"
           ],
           "yaxis": "y"
          },
          {
           "alignmentgroup": "True",
           "hovertemplate": "Countries=%{y}<br>release_year=1931<br>Cumulated character influence score=%{x}<extra></extra>",
           "legendgroup": "France",
           "marker": {
            "color": "#19d3f3",
            "pattern": {
             "shape": ""
            }
           },
           "name": "France",
           "offsetgroup": "France",
           "orientation": "h",
           "showlegend": true,
           "textposition": "auto",
           "type": "bar",
           "x": [
            1
           ],
           "xaxis": "x",
           "y": [
            "France"
           ],
           "yaxis": "y"
          },
          {
           "alignmentgroup": "True",
           "hovertemplate": "Countries=%{y}<br>release_year=1931<br>Cumulated character influence score=%{x}<extra></extra>",
           "legendgroup": "Czech Republic",
           "marker": {
            "color": "#FF6692",
            "pattern": {
             "shape": ""
            }
           },
           "name": "Czech Republic",
           "offsetgroup": "Czech Republic",
           "orientation": "h",
           "showlegend": true,
           "textposition": "auto",
           "type": "bar",
           "x": [
            1
           ],
           "xaxis": "x",
           "y": [
            "Czech Republic"
           ],
           "yaxis": "y"
          },
          {
           "alignmentgroup": "True",
           "hovertemplate": "Countries=%{y}<br>release_year=1931<br>Cumulated character influence score=%{x}<extra></extra>",
           "legendgroup": "Hong Kong",
           "marker": {
            "color": "#B6E880",
            "pattern": {
             "shape": ""
            }
           },
           "name": "Hong Kong",
           "offsetgroup": "Hong Kong",
           "orientation": "h",
           "showlegend": true,
           "textposition": "auto",
           "type": "bar",
           "x": [
            0
           ],
           "xaxis": "x",
           "y": [
            "Hong Kong"
           ],
           "yaxis": "y"
          },
          {
           "alignmentgroup": "True",
           "hovertemplate": "Countries=%{y}<br>release_year=1931<br>Cumulated character influence score=%{x}<extra></extra>",
           "legendgroup": "United Kingdom",
           "marker": {
            "color": "#FECB52",
            "pattern": {
             "shape": ""
            }
           },
           "name": "United Kingdom",
           "offsetgroup": "United Kingdom",
           "orientation": "h",
           "showlegend": true,
           "textposition": "auto",
           "type": "bar",
           "x": [
            11
           ],
           "xaxis": "x",
           "y": [
            "United Kingdom"
           ],
           "yaxis": "y"
          },
          {
           "alignmentgroup": "True",
           "hovertemplate": "Countries=%{y}<br>release_year=1931<br>Cumulated character influence score=%{x}<extra></extra>",
           "legendgroup": "Romania",
           "marker": {
            "color": "#636efa",
            "pattern": {
             "shape": ""
            }
           },
           "name": "Romania",
           "offsetgroup": "Romania",
           "orientation": "h",
           "showlegend": true,
           "textposition": "auto",
           "type": "bar",
           "x": [
            1
           ],
           "xaxis": "x",
           "y": [
            "Romania"
           ],
           "yaxis": "y"
          }
         ],
         "name": "1931"
        },
        {
         "data": [
          {
           "alignmentgroup": "True",
           "hovertemplate": "Countries=%{y}<br>release_year=1932<br>Cumulated character influence score=%{x}<extra></extra>",
           "legendgroup": "Germany",
           "marker": {
            "color": "#636efa",
            "pattern": {
             "shape": ""
            }
           },
           "name": "Germany",
           "offsetgroup": "Germany",
           "orientation": "h",
           "showlegend": true,
           "textposition": "auto",
           "type": "bar",
           "x": [
            0
           ],
           "xaxis": "x",
           "y": [
            "Germany"
           ],
           "yaxis": "y"
          },
          {
           "alignmentgroup": "True",
           "hovertemplate": "Countries=%{y}<br>release_year=1932<br>Cumulated character influence score=%{x}<extra></extra>",
           "legendgroup": "United States of America",
           "marker": {
            "color": "#EF553B",
            "pattern": {
             "shape": ""
            }
           },
           "name": "United States of America",
           "offsetgroup": "United States of America",
           "orientation": "h",
           "showlegend": true,
           "textposition": "auto",
           "type": "bar",
           "x": [
            0
           ],
           "xaxis": "x",
           "y": [
            "United States of America"
           ],
           "yaxis": "y"
          },
          {
           "alignmentgroup": "True",
           "hovertemplate": "Countries=%{y}<br>release_year=1932<br>Cumulated character influence score=%{x}<extra></extra>",
           "legendgroup": "Brazil",
           "marker": {
            "color": "#00cc96",
            "pattern": {
             "shape": ""
            }
           },
           "name": "Brazil",
           "offsetgroup": "Brazil",
           "orientation": "h",
           "showlegend": true,
           "textposition": "auto",
           "type": "bar",
           "x": [
            0
           ],
           "xaxis": "x",
           "y": [
            "Brazil"
           ],
           "yaxis": "y"
          },
          {
           "alignmentgroup": "True",
           "hovertemplate": "Countries=%{y}<br>release_year=1932<br>Cumulated character influence score=%{x}<extra></extra>",
           "legendgroup": "Netherlands",
           "marker": {
            "color": "#ab63fa",
            "pattern": {
             "shape": ""
            }
           },
           "name": "Netherlands",
           "offsetgroup": "Netherlands",
           "orientation": "h",
           "showlegend": true,
           "textposition": "auto",
           "type": "bar",
           "x": [
            0
           ],
           "xaxis": "x",
           "y": [
            "Netherlands"
           ],
           "yaxis": "y"
          },
          {
           "alignmentgroup": "True",
           "hovertemplate": "Countries=%{y}<br>release_year=1932<br>Cumulated character influence score=%{x}<extra></extra>",
           "legendgroup": "Canada",
           "marker": {
            "color": "#FFA15A",
            "pattern": {
             "shape": ""
            }
           },
           "name": "Canada",
           "offsetgroup": "Canada",
           "orientation": "h",
           "showlegend": true,
           "textposition": "auto",
           "type": "bar",
           "x": [
            0
           ],
           "xaxis": "x",
           "y": [
            "Canada"
           ],
           "yaxis": "y"
          },
          {
           "alignmentgroup": "True",
           "hovertemplate": "Countries=%{y}<br>release_year=1932<br>Cumulated character influence score=%{x}<extra></extra>",
           "legendgroup": "France",
           "marker": {
            "color": "#19d3f3",
            "pattern": {
             "shape": ""
            }
           },
           "name": "France",
           "offsetgroup": "France",
           "orientation": "h",
           "showlegend": true,
           "textposition": "auto",
           "type": "bar",
           "x": [
            1
           ],
           "xaxis": "x",
           "y": [
            "France"
           ],
           "yaxis": "y"
          },
          {
           "alignmentgroup": "True",
           "hovertemplate": "Countries=%{y}<br>release_year=1932<br>Cumulated character influence score=%{x}<extra></extra>",
           "legendgroup": "Czech Republic",
           "marker": {
            "color": "#FF6692",
            "pattern": {
             "shape": ""
            }
           },
           "name": "Czech Republic",
           "offsetgroup": "Czech Republic",
           "orientation": "h",
           "showlegend": true,
           "textposition": "auto",
           "type": "bar",
           "x": [
            1
           ],
           "xaxis": "x",
           "y": [
            "Czech Republic"
           ],
           "yaxis": "y"
          },
          {
           "alignmentgroup": "True",
           "hovertemplate": "Countries=%{y}<br>release_year=1932<br>Cumulated character influence score=%{x}<extra></extra>",
           "legendgroup": "Hong Kong",
           "marker": {
            "color": "#B6E880",
            "pattern": {
             "shape": ""
            }
           },
           "name": "Hong Kong",
           "offsetgroup": "Hong Kong",
           "orientation": "h",
           "showlegend": true,
           "textposition": "auto",
           "type": "bar",
           "x": [
            0
           ],
           "xaxis": "x",
           "y": [
            "Hong Kong"
           ],
           "yaxis": "y"
          },
          {
           "alignmentgroup": "True",
           "hovertemplate": "Countries=%{y}<br>release_year=1932<br>Cumulated character influence score=%{x}<extra></extra>",
           "legendgroup": "United Kingdom",
           "marker": {
            "color": "#FECB52",
            "pattern": {
             "shape": ""
            }
           },
           "name": "United Kingdom",
           "offsetgroup": "United Kingdom",
           "orientation": "h",
           "showlegend": true,
           "textposition": "auto",
           "type": "bar",
           "x": [
            11
           ],
           "xaxis": "x",
           "y": [
            "United Kingdom"
           ],
           "yaxis": "y"
          },
          {
           "alignmentgroup": "True",
           "hovertemplate": "Countries=%{y}<br>release_year=1932<br>Cumulated character influence score=%{x}<extra></extra>",
           "legendgroup": "Romania",
           "marker": {
            "color": "#636efa",
            "pattern": {
             "shape": ""
            }
           },
           "name": "Romania",
           "offsetgroup": "Romania",
           "orientation": "h",
           "showlegend": true,
           "textposition": "auto",
           "type": "bar",
           "x": [
            1
           ],
           "xaxis": "x",
           "y": [
            "Romania"
           ],
           "yaxis": "y"
          }
         ],
         "name": "1932"
        },
        {
         "data": [
          {
           "alignmentgroup": "True",
           "hovertemplate": "Countries=%{y}<br>release_year=1933<br>Cumulated character influence score=%{x}<extra></extra>",
           "legendgroup": "Germany",
           "marker": {
            "color": "#636efa",
            "pattern": {
             "shape": ""
            }
           },
           "name": "Germany",
           "offsetgroup": "Germany",
           "orientation": "h",
           "showlegend": true,
           "textposition": "auto",
           "type": "bar",
           "x": [
            0
           ],
           "xaxis": "x",
           "y": [
            "Germany"
           ],
           "yaxis": "y"
          },
          {
           "alignmentgroup": "True",
           "hovertemplate": "Countries=%{y}<br>release_year=1933<br>Cumulated character influence score=%{x}<extra></extra>",
           "legendgroup": "United States of America",
           "marker": {
            "color": "#EF553B",
            "pattern": {
             "shape": ""
            }
           },
           "name": "United States of America",
           "offsetgroup": "United States of America",
           "orientation": "h",
           "showlegend": true,
           "textposition": "auto",
           "type": "bar",
           "x": [
            0
           ],
           "xaxis": "x",
           "y": [
            "United States of America"
           ],
           "yaxis": "y"
          },
          {
           "alignmentgroup": "True",
           "hovertemplate": "Countries=%{y}<br>release_year=1933<br>Cumulated character influence score=%{x}<extra></extra>",
           "legendgroup": "Brazil",
           "marker": {
            "color": "#00cc96",
            "pattern": {
             "shape": ""
            }
           },
           "name": "Brazil",
           "offsetgroup": "Brazil",
           "orientation": "h",
           "showlegend": true,
           "textposition": "auto",
           "type": "bar",
           "x": [
            0
           ],
           "xaxis": "x",
           "y": [
            "Brazil"
           ],
           "yaxis": "y"
          },
          {
           "alignmentgroup": "True",
           "hovertemplate": "Countries=%{y}<br>release_year=1933<br>Cumulated character influence score=%{x}<extra></extra>",
           "legendgroup": "Netherlands",
           "marker": {
            "color": "#ab63fa",
            "pattern": {
             "shape": ""
            }
           },
           "name": "Netherlands",
           "offsetgroup": "Netherlands",
           "orientation": "h",
           "showlegend": true,
           "textposition": "auto",
           "type": "bar",
           "x": [
            0
           ],
           "xaxis": "x",
           "y": [
            "Netherlands"
           ],
           "yaxis": "y"
          },
          {
           "alignmentgroup": "True",
           "hovertemplate": "Countries=%{y}<br>release_year=1933<br>Cumulated character influence score=%{x}<extra></extra>",
           "legendgroup": "Canada",
           "marker": {
            "color": "#FFA15A",
            "pattern": {
             "shape": ""
            }
           },
           "name": "Canada",
           "offsetgroup": "Canada",
           "orientation": "h",
           "showlegend": true,
           "textposition": "auto",
           "type": "bar",
           "x": [
            0
           ],
           "xaxis": "x",
           "y": [
            "Canada"
           ],
           "yaxis": "y"
          },
          {
           "alignmentgroup": "True",
           "hovertemplate": "Countries=%{y}<br>release_year=1933<br>Cumulated character influence score=%{x}<extra></extra>",
           "legendgroup": "France",
           "marker": {
            "color": "#19d3f3",
            "pattern": {
             "shape": ""
            }
           },
           "name": "France",
           "offsetgroup": "France",
           "orientation": "h",
           "showlegend": true,
           "textposition": "auto",
           "type": "bar",
           "x": [
            1
           ],
           "xaxis": "x",
           "y": [
            "France"
           ],
           "yaxis": "y"
          },
          {
           "alignmentgroup": "True",
           "hovertemplate": "Countries=%{y}<br>release_year=1933<br>Cumulated character influence score=%{x}<extra></extra>",
           "legendgroup": "Czech Republic",
           "marker": {
            "color": "#FF6692",
            "pattern": {
             "shape": ""
            }
           },
           "name": "Czech Republic",
           "offsetgroup": "Czech Republic",
           "orientation": "h",
           "showlegend": true,
           "textposition": "auto",
           "type": "bar",
           "x": [
            1
           ],
           "xaxis": "x",
           "y": [
            "Czech Republic"
           ],
           "yaxis": "y"
          },
          {
           "alignmentgroup": "True",
           "hovertemplate": "Countries=%{y}<br>release_year=1933<br>Cumulated character influence score=%{x}<extra></extra>",
           "legendgroup": "Hong Kong",
           "marker": {
            "color": "#B6E880",
            "pattern": {
             "shape": ""
            }
           },
           "name": "Hong Kong",
           "offsetgroup": "Hong Kong",
           "orientation": "h",
           "showlegend": true,
           "textposition": "auto",
           "type": "bar",
           "x": [
            0
           ],
           "xaxis": "x",
           "y": [
            "Hong Kong"
           ],
           "yaxis": "y"
          },
          {
           "alignmentgroup": "True",
           "hovertemplate": "Countries=%{y}<br>release_year=1933<br>Cumulated character influence score=%{x}<extra></extra>",
           "legendgroup": "United Kingdom",
           "marker": {
            "color": "#FECB52",
            "pattern": {
             "shape": ""
            }
           },
           "name": "United Kingdom",
           "offsetgroup": "United Kingdom",
           "orientation": "h",
           "showlegend": true,
           "textposition": "auto",
           "type": "bar",
           "x": [
            11
           ],
           "xaxis": "x",
           "y": [
            "United Kingdom"
           ],
           "yaxis": "y"
          },
          {
           "alignmentgroup": "True",
           "hovertemplate": "Countries=%{y}<br>release_year=1933<br>Cumulated character influence score=%{x}<extra></extra>",
           "legendgroup": "Romania",
           "marker": {
            "color": "#636efa",
            "pattern": {
             "shape": ""
            }
           },
           "name": "Romania",
           "offsetgroup": "Romania",
           "orientation": "h",
           "showlegend": true,
           "textposition": "auto",
           "type": "bar",
           "x": [
            1
           ],
           "xaxis": "x",
           "y": [
            "Romania"
           ],
           "yaxis": "y"
          }
         ],
         "name": "1933"
        },
        {
         "data": [
          {
           "alignmentgroup": "True",
           "hovertemplate": "Countries=%{y}<br>release_year=1934<br>Cumulated character influence score=%{x}<extra></extra>",
           "legendgroup": "Germany",
           "marker": {
            "color": "#636efa",
            "pattern": {
             "shape": ""
            }
           },
           "name": "Germany",
           "offsetgroup": "Germany",
           "orientation": "h",
           "showlegend": true,
           "textposition": "auto",
           "type": "bar",
           "x": [
            0
           ],
           "xaxis": "x",
           "y": [
            "Germany"
           ],
           "yaxis": "y"
          },
          {
           "alignmentgroup": "True",
           "hovertemplate": "Countries=%{y}<br>release_year=1934<br>Cumulated character influence score=%{x}<extra></extra>",
           "legendgroup": "United States of America",
           "marker": {
            "color": "#EF553B",
            "pattern": {
             "shape": ""
            }
           },
           "name": "United States of America",
           "offsetgroup": "United States of America",
           "orientation": "h",
           "showlegend": true,
           "textposition": "auto",
           "type": "bar",
           "x": [
            0
           ],
           "xaxis": "x",
           "y": [
            "United States of America"
           ],
           "yaxis": "y"
          },
          {
           "alignmentgroup": "True",
           "hovertemplate": "Countries=%{y}<br>release_year=1934<br>Cumulated character influence score=%{x}<extra></extra>",
           "legendgroup": "Brazil",
           "marker": {
            "color": "#00cc96",
            "pattern": {
             "shape": ""
            }
           },
           "name": "Brazil",
           "offsetgroup": "Brazil",
           "orientation": "h",
           "showlegend": true,
           "textposition": "auto",
           "type": "bar",
           "x": [
            0
           ],
           "xaxis": "x",
           "y": [
            "Brazil"
           ],
           "yaxis": "y"
          },
          {
           "alignmentgroup": "True",
           "hovertemplate": "Countries=%{y}<br>release_year=1934<br>Cumulated character influence score=%{x}<extra></extra>",
           "legendgroup": "Netherlands",
           "marker": {
            "color": "#ab63fa",
            "pattern": {
             "shape": ""
            }
           },
           "name": "Netherlands",
           "offsetgroup": "Netherlands",
           "orientation": "h",
           "showlegend": true,
           "textposition": "auto",
           "type": "bar",
           "x": [
            0
           ],
           "xaxis": "x",
           "y": [
            "Netherlands"
           ],
           "yaxis": "y"
          },
          {
           "alignmentgroup": "True",
           "hovertemplate": "Countries=%{y}<br>release_year=1934<br>Cumulated character influence score=%{x}<extra></extra>",
           "legendgroup": "Canada",
           "marker": {
            "color": "#FFA15A",
            "pattern": {
             "shape": ""
            }
           },
           "name": "Canada",
           "offsetgroup": "Canada",
           "orientation": "h",
           "showlegend": true,
           "textposition": "auto",
           "type": "bar",
           "x": [
            0
           ],
           "xaxis": "x",
           "y": [
            "Canada"
           ],
           "yaxis": "y"
          },
          {
           "alignmentgroup": "True",
           "hovertemplate": "Countries=%{y}<br>release_year=1934<br>Cumulated character influence score=%{x}<extra></extra>",
           "legendgroup": "France",
           "marker": {
            "color": "#19d3f3",
            "pattern": {
             "shape": ""
            }
           },
           "name": "France",
           "offsetgroup": "France",
           "orientation": "h",
           "showlegend": true,
           "textposition": "auto",
           "type": "bar",
           "x": [
            1
           ],
           "xaxis": "x",
           "y": [
            "France"
           ],
           "yaxis": "y"
          },
          {
           "alignmentgroup": "True",
           "hovertemplate": "Countries=%{y}<br>release_year=1934<br>Cumulated character influence score=%{x}<extra></extra>",
           "legendgroup": "Czech Republic",
           "marker": {
            "color": "#FF6692",
            "pattern": {
             "shape": ""
            }
           },
           "name": "Czech Republic",
           "offsetgroup": "Czech Republic",
           "orientation": "h",
           "showlegend": true,
           "textposition": "auto",
           "type": "bar",
           "x": [
            1
           ],
           "xaxis": "x",
           "y": [
            "Czech Republic"
           ],
           "yaxis": "y"
          },
          {
           "alignmentgroup": "True",
           "hovertemplate": "Countries=%{y}<br>release_year=1934<br>Cumulated character influence score=%{x}<extra></extra>",
           "legendgroup": "Hong Kong",
           "marker": {
            "color": "#B6E880",
            "pattern": {
             "shape": ""
            }
           },
           "name": "Hong Kong",
           "offsetgroup": "Hong Kong",
           "orientation": "h",
           "showlegend": true,
           "textposition": "auto",
           "type": "bar",
           "x": [
            0
           ],
           "xaxis": "x",
           "y": [
            "Hong Kong"
           ],
           "yaxis": "y"
          },
          {
           "alignmentgroup": "True",
           "hovertemplate": "Countries=%{y}<br>release_year=1934<br>Cumulated character influence score=%{x}<extra></extra>",
           "legendgroup": "United Kingdom",
           "marker": {
            "color": "#FECB52",
            "pattern": {
             "shape": ""
            }
           },
           "name": "United Kingdom",
           "offsetgroup": "United Kingdom",
           "orientation": "h",
           "showlegend": true,
           "textposition": "auto",
           "type": "bar",
           "x": [
            12
           ],
           "xaxis": "x",
           "y": [
            "United Kingdom"
           ],
           "yaxis": "y"
          },
          {
           "alignmentgroup": "True",
           "hovertemplate": "Countries=%{y}<br>release_year=1934<br>Cumulated character influence score=%{x}<extra></extra>",
           "legendgroup": "Romania",
           "marker": {
            "color": "#636efa",
            "pattern": {
             "shape": ""
            }
           },
           "name": "Romania",
           "offsetgroup": "Romania",
           "orientation": "h",
           "showlegend": true,
           "textposition": "auto",
           "type": "bar",
           "x": [
            1
           ],
           "xaxis": "x",
           "y": [
            "Romania"
           ],
           "yaxis": "y"
          }
         ],
         "name": "1934"
        },
        {
         "data": [
          {
           "alignmentgroup": "True",
           "hovertemplate": "Countries=%{y}<br>release_year=1935<br>Cumulated character influence score=%{x}<extra></extra>",
           "legendgroup": "Germany",
           "marker": {
            "color": "#636efa",
            "pattern": {
             "shape": ""
            }
           },
           "name": "Germany",
           "offsetgroup": "Germany",
           "orientation": "h",
           "showlegend": true,
           "textposition": "auto",
           "type": "bar",
           "x": [
            0
           ],
           "xaxis": "x",
           "y": [
            "Germany"
           ],
           "yaxis": "y"
          },
          {
           "alignmentgroup": "True",
           "hovertemplate": "Countries=%{y}<br>release_year=1935<br>Cumulated character influence score=%{x}<extra></extra>",
           "legendgroup": "United States of America",
           "marker": {
            "color": "#EF553B",
            "pattern": {
             "shape": ""
            }
           },
           "name": "United States of America",
           "offsetgroup": "United States of America",
           "orientation": "h",
           "showlegend": true,
           "textposition": "auto",
           "type": "bar",
           "x": [
            0
           ],
           "xaxis": "x",
           "y": [
            "United States of America"
           ],
           "yaxis": "y"
          },
          {
           "alignmentgroup": "True",
           "hovertemplate": "Countries=%{y}<br>release_year=1935<br>Cumulated character influence score=%{x}<extra></extra>",
           "legendgroup": "Brazil",
           "marker": {
            "color": "#00cc96",
            "pattern": {
             "shape": ""
            }
           },
           "name": "Brazil",
           "offsetgroup": "Brazil",
           "orientation": "h",
           "showlegend": true,
           "textposition": "auto",
           "type": "bar",
           "x": [
            0
           ],
           "xaxis": "x",
           "y": [
            "Brazil"
           ],
           "yaxis": "y"
          },
          {
           "alignmentgroup": "True",
           "hovertemplate": "Countries=%{y}<br>release_year=1935<br>Cumulated character influence score=%{x}<extra></extra>",
           "legendgroup": "Netherlands",
           "marker": {
            "color": "#ab63fa",
            "pattern": {
             "shape": ""
            }
           },
           "name": "Netherlands",
           "offsetgroup": "Netherlands",
           "orientation": "h",
           "showlegend": true,
           "textposition": "auto",
           "type": "bar",
           "x": [
            0
           ],
           "xaxis": "x",
           "y": [
            "Netherlands"
           ],
           "yaxis": "y"
          },
          {
           "alignmentgroup": "True",
           "hovertemplate": "Countries=%{y}<br>release_year=1935<br>Cumulated character influence score=%{x}<extra></extra>",
           "legendgroup": "Canada",
           "marker": {
            "color": "#FFA15A",
            "pattern": {
             "shape": ""
            }
           },
           "name": "Canada",
           "offsetgroup": "Canada",
           "orientation": "h",
           "showlegend": true,
           "textposition": "auto",
           "type": "bar",
           "x": [
            0
           ],
           "xaxis": "x",
           "y": [
            "Canada"
           ],
           "yaxis": "y"
          },
          {
           "alignmentgroup": "True",
           "hovertemplate": "Countries=%{y}<br>release_year=1935<br>Cumulated character influence score=%{x}<extra></extra>",
           "legendgroup": "France",
           "marker": {
            "color": "#19d3f3",
            "pattern": {
             "shape": ""
            }
           },
           "name": "France",
           "offsetgroup": "France",
           "orientation": "h",
           "showlegend": true,
           "textposition": "auto",
           "type": "bar",
           "x": [
            1
           ],
           "xaxis": "x",
           "y": [
            "France"
           ],
           "yaxis": "y"
          },
          {
           "alignmentgroup": "True",
           "hovertemplate": "Countries=%{y}<br>release_year=1935<br>Cumulated character influence score=%{x}<extra></extra>",
           "legendgroup": "Czech Republic",
           "marker": {
            "color": "#FF6692",
            "pattern": {
             "shape": ""
            }
           },
           "name": "Czech Republic",
           "offsetgroup": "Czech Republic",
           "orientation": "h",
           "showlegend": true,
           "textposition": "auto",
           "type": "bar",
           "x": [
            1
           ],
           "xaxis": "x",
           "y": [
            "Czech Republic"
           ],
           "yaxis": "y"
          },
          {
           "alignmentgroup": "True",
           "hovertemplate": "Countries=%{y}<br>release_year=1935<br>Cumulated character influence score=%{x}<extra></extra>",
           "legendgroup": "Hong Kong",
           "marker": {
            "color": "#B6E880",
            "pattern": {
             "shape": ""
            }
           },
           "name": "Hong Kong",
           "offsetgroup": "Hong Kong",
           "orientation": "h",
           "showlegend": true,
           "textposition": "auto",
           "type": "bar",
           "x": [
            0
           ],
           "xaxis": "x",
           "y": [
            "Hong Kong"
           ],
           "yaxis": "y"
          },
          {
           "alignmentgroup": "True",
           "hovertemplate": "Countries=%{y}<br>release_year=1935<br>Cumulated character influence score=%{x}<extra></extra>",
           "legendgroup": "United Kingdom",
           "marker": {
            "color": "#FECB52",
            "pattern": {
             "shape": ""
            }
           },
           "name": "United Kingdom",
           "offsetgroup": "United Kingdom",
           "orientation": "h",
           "showlegend": true,
           "textposition": "auto",
           "type": "bar",
           "x": [
            12
           ],
           "xaxis": "x",
           "y": [
            "United Kingdom"
           ],
           "yaxis": "y"
          },
          {
           "alignmentgroup": "True",
           "hovertemplate": "Countries=%{y}<br>release_year=1935<br>Cumulated character influence score=%{x}<extra></extra>",
           "legendgroup": "Romania",
           "marker": {
            "color": "#636efa",
            "pattern": {
             "shape": ""
            }
           },
           "name": "Romania",
           "offsetgroup": "Romania",
           "orientation": "h",
           "showlegend": true,
           "textposition": "auto",
           "type": "bar",
           "x": [
            1
           ],
           "xaxis": "x",
           "y": [
            "Romania"
           ],
           "yaxis": "y"
          }
         ],
         "name": "1935"
        },
        {
         "data": [
          {
           "alignmentgroup": "True",
           "hovertemplate": "Countries=%{y}<br>release_year=1936<br>Cumulated character influence score=%{x}<extra></extra>",
           "legendgroup": "Germany",
           "marker": {
            "color": "#636efa",
            "pattern": {
             "shape": ""
            }
           },
           "name": "Germany",
           "offsetgroup": "Germany",
           "orientation": "h",
           "showlegend": true,
           "textposition": "auto",
           "type": "bar",
           "x": [
            0
           ],
           "xaxis": "x",
           "y": [
            "Germany"
           ],
           "yaxis": "y"
          },
          {
           "alignmentgroup": "True",
           "hovertemplate": "Countries=%{y}<br>release_year=1936<br>Cumulated character influence score=%{x}<extra></extra>",
           "legendgroup": "United States of America",
           "marker": {
            "color": "#EF553B",
            "pattern": {
             "shape": ""
            }
           },
           "name": "United States of America",
           "offsetgroup": "United States of America",
           "orientation": "h",
           "showlegend": true,
           "textposition": "auto",
           "type": "bar",
           "x": [
            1
           ],
           "xaxis": "x",
           "y": [
            "United States of America"
           ],
           "yaxis": "y"
          },
          {
           "alignmentgroup": "True",
           "hovertemplate": "Countries=%{y}<br>release_year=1936<br>Cumulated character influence score=%{x}<extra></extra>",
           "legendgroup": "Brazil",
           "marker": {
            "color": "#00cc96",
            "pattern": {
             "shape": ""
            }
           },
           "name": "Brazil",
           "offsetgroup": "Brazil",
           "orientation": "h",
           "showlegend": true,
           "textposition": "auto",
           "type": "bar",
           "x": [
            0
           ],
           "xaxis": "x",
           "y": [
            "Brazil"
           ],
           "yaxis": "y"
          },
          {
           "alignmentgroup": "True",
           "hovertemplate": "Countries=%{y}<br>release_year=1936<br>Cumulated character influence score=%{x}<extra></extra>",
           "legendgroup": "Netherlands",
           "marker": {
            "color": "#ab63fa",
            "pattern": {
             "shape": ""
            }
           },
           "name": "Netherlands",
           "offsetgroup": "Netherlands",
           "orientation": "h",
           "showlegend": true,
           "textposition": "auto",
           "type": "bar",
           "x": [
            0
           ],
           "xaxis": "x",
           "y": [
            "Netherlands"
           ],
           "yaxis": "y"
          },
          {
           "alignmentgroup": "True",
           "hovertemplate": "Countries=%{y}<br>release_year=1936<br>Cumulated character influence score=%{x}<extra></extra>",
           "legendgroup": "Canada",
           "marker": {
            "color": "#FFA15A",
            "pattern": {
             "shape": ""
            }
           },
           "name": "Canada",
           "offsetgroup": "Canada",
           "orientation": "h",
           "showlegend": true,
           "textposition": "auto",
           "type": "bar",
           "x": [
            0
           ],
           "xaxis": "x",
           "y": [
            "Canada"
           ],
           "yaxis": "y"
          },
          {
           "alignmentgroup": "True",
           "hovertemplate": "Countries=%{y}<br>release_year=1936<br>Cumulated character influence score=%{x}<extra></extra>",
           "legendgroup": "France",
           "marker": {
            "color": "#19d3f3",
            "pattern": {
             "shape": ""
            }
           },
           "name": "France",
           "offsetgroup": "France",
           "orientation": "h",
           "showlegend": true,
           "textposition": "auto",
           "type": "bar",
           "x": [
            1
           ],
           "xaxis": "x",
           "y": [
            "France"
           ],
           "yaxis": "y"
          },
          {
           "alignmentgroup": "True",
           "hovertemplate": "Countries=%{y}<br>release_year=1936<br>Cumulated character influence score=%{x}<extra></extra>",
           "legendgroup": "Czech Republic",
           "marker": {
            "color": "#FF6692",
            "pattern": {
             "shape": ""
            }
           },
           "name": "Czech Republic",
           "offsetgroup": "Czech Republic",
           "orientation": "h",
           "showlegend": true,
           "textposition": "auto",
           "type": "bar",
           "x": [
            1
           ],
           "xaxis": "x",
           "y": [
            "Czech Republic"
           ],
           "yaxis": "y"
          },
          {
           "alignmentgroup": "True",
           "hovertemplate": "Countries=%{y}<br>release_year=1936<br>Cumulated character influence score=%{x}<extra></extra>",
           "legendgroup": "Hong Kong",
           "marker": {
            "color": "#B6E880",
            "pattern": {
             "shape": ""
            }
           },
           "name": "Hong Kong",
           "offsetgroup": "Hong Kong",
           "orientation": "h",
           "showlegend": true,
           "textposition": "auto",
           "type": "bar",
           "x": [
            0
           ],
           "xaxis": "x",
           "y": [
            "Hong Kong"
           ],
           "yaxis": "y"
          },
          {
           "alignmentgroup": "True",
           "hovertemplate": "Countries=%{y}<br>release_year=1936<br>Cumulated character influence score=%{x}<extra></extra>",
           "legendgroup": "United Kingdom",
           "marker": {
            "color": "#FECB52",
            "pattern": {
             "shape": ""
            }
           },
           "name": "United Kingdom",
           "offsetgroup": "United Kingdom",
           "orientation": "h",
           "showlegend": true,
           "textposition": "auto",
           "type": "bar",
           "x": [
            16
           ],
           "xaxis": "x",
           "y": [
            "United Kingdom"
           ],
           "yaxis": "y"
          },
          {
           "alignmentgroup": "True",
           "hovertemplate": "Countries=%{y}<br>release_year=1936<br>Cumulated character influence score=%{x}<extra></extra>",
           "legendgroup": "Romania",
           "marker": {
            "color": "#636efa",
            "pattern": {
             "shape": ""
            }
           },
           "name": "Romania",
           "offsetgroup": "Romania",
           "orientation": "h",
           "showlegend": true,
           "textposition": "auto",
           "type": "bar",
           "x": [
            1
           ],
           "xaxis": "x",
           "y": [
            "Romania"
           ],
           "yaxis": "y"
          }
         ],
         "name": "1936"
        },
        {
         "data": [
          {
           "alignmentgroup": "True",
           "hovertemplate": "Countries=%{y}<br>release_year=1937<br>Cumulated character influence score=%{x}<extra></extra>",
           "legendgroup": "Germany",
           "marker": {
            "color": "#636efa",
            "pattern": {
             "shape": ""
            }
           },
           "name": "Germany",
           "offsetgroup": "Germany",
           "orientation": "h",
           "showlegend": true,
           "textposition": "auto",
           "type": "bar",
           "x": [
            0
           ],
           "xaxis": "x",
           "y": [
            "Germany"
           ],
           "yaxis": "y"
          },
          {
           "alignmentgroup": "True",
           "hovertemplate": "Countries=%{y}<br>release_year=1937<br>Cumulated character influence score=%{x}<extra></extra>",
           "legendgroup": "United States of America",
           "marker": {
            "color": "#EF553B",
            "pattern": {
             "shape": ""
            }
           },
           "name": "United States of America",
           "offsetgroup": "United States of America",
           "orientation": "h",
           "showlegend": true,
           "textposition": "auto",
           "type": "bar",
           "x": [
            1
           ],
           "xaxis": "x",
           "y": [
            "United States of America"
           ],
           "yaxis": "y"
          },
          {
           "alignmentgroup": "True",
           "hovertemplate": "Countries=%{y}<br>release_year=1937<br>Cumulated character influence score=%{x}<extra></extra>",
           "legendgroup": "Brazil",
           "marker": {
            "color": "#00cc96",
            "pattern": {
             "shape": ""
            }
           },
           "name": "Brazil",
           "offsetgroup": "Brazil",
           "orientation": "h",
           "showlegend": true,
           "textposition": "auto",
           "type": "bar",
           "x": [
            0
           ],
           "xaxis": "x",
           "y": [
            "Brazil"
           ],
           "yaxis": "y"
          },
          {
           "alignmentgroup": "True",
           "hovertemplate": "Countries=%{y}<br>release_year=1937<br>Cumulated character influence score=%{x}<extra></extra>",
           "legendgroup": "Netherlands",
           "marker": {
            "color": "#ab63fa",
            "pattern": {
             "shape": ""
            }
           },
           "name": "Netherlands",
           "offsetgroup": "Netherlands",
           "orientation": "h",
           "showlegend": true,
           "textposition": "auto",
           "type": "bar",
           "x": [
            0
           ],
           "xaxis": "x",
           "y": [
            "Netherlands"
           ],
           "yaxis": "y"
          },
          {
           "alignmentgroup": "True",
           "hovertemplate": "Countries=%{y}<br>release_year=1937<br>Cumulated character influence score=%{x}<extra></extra>",
           "legendgroup": "Canada",
           "marker": {
            "color": "#FFA15A",
            "pattern": {
             "shape": ""
            }
           },
           "name": "Canada",
           "offsetgroup": "Canada",
           "orientation": "h",
           "showlegend": true,
           "textposition": "auto",
           "type": "bar",
           "x": [
            0
           ],
           "xaxis": "x",
           "y": [
            "Canada"
           ],
           "yaxis": "y"
          },
          {
           "alignmentgroup": "True",
           "hovertemplate": "Countries=%{y}<br>release_year=1937<br>Cumulated character influence score=%{x}<extra></extra>",
           "legendgroup": "France",
           "marker": {
            "color": "#19d3f3",
            "pattern": {
             "shape": ""
            }
           },
           "name": "France",
           "offsetgroup": "France",
           "orientation": "h",
           "showlegend": true,
           "textposition": "auto",
           "type": "bar",
           "x": [
            1
           ],
           "xaxis": "x",
           "y": [
            "France"
           ],
           "yaxis": "y"
          },
          {
           "alignmentgroup": "True",
           "hovertemplate": "Countries=%{y}<br>release_year=1937<br>Cumulated character influence score=%{x}<extra></extra>",
           "legendgroup": "Czech Republic",
           "marker": {
            "color": "#FF6692",
            "pattern": {
             "shape": ""
            }
           },
           "name": "Czech Republic",
           "offsetgroup": "Czech Republic",
           "orientation": "h",
           "showlegend": true,
           "textposition": "auto",
           "type": "bar",
           "x": [
            1
           ],
           "xaxis": "x",
           "y": [
            "Czech Republic"
           ],
           "yaxis": "y"
          },
          {
           "alignmentgroup": "True",
           "hovertemplate": "Countries=%{y}<br>release_year=1937<br>Cumulated character influence score=%{x}<extra></extra>",
           "legendgroup": "Hong Kong",
           "marker": {
            "color": "#B6E880",
            "pattern": {
             "shape": ""
            }
           },
           "name": "Hong Kong",
           "offsetgroup": "Hong Kong",
           "orientation": "h",
           "showlegend": true,
           "textposition": "auto",
           "type": "bar",
           "x": [
            0
           ],
           "xaxis": "x",
           "y": [
            "Hong Kong"
           ],
           "yaxis": "y"
          },
          {
           "alignmentgroup": "True",
           "hovertemplate": "Countries=%{y}<br>release_year=1937<br>Cumulated character influence score=%{x}<extra></extra>",
           "legendgroup": "United Kingdom",
           "marker": {
            "color": "#FECB52",
            "pattern": {
             "shape": ""
            }
           },
           "name": "United Kingdom",
           "offsetgroup": "United Kingdom",
           "orientation": "h",
           "showlegend": true,
           "textposition": "auto",
           "type": "bar",
           "x": [
            17
           ],
           "xaxis": "x",
           "y": [
            "United Kingdom"
           ],
           "yaxis": "y"
          },
          {
           "alignmentgroup": "True",
           "hovertemplate": "Countries=%{y}<br>release_year=1937<br>Cumulated character influence score=%{x}<extra></extra>",
           "legendgroup": "Romania",
           "marker": {
            "color": "#636efa",
            "pattern": {
             "shape": ""
            }
           },
           "name": "Romania",
           "offsetgroup": "Romania",
           "orientation": "h",
           "showlegend": true,
           "textposition": "auto",
           "type": "bar",
           "x": [
            1
           ],
           "xaxis": "x",
           "y": [
            "Romania"
           ],
           "yaxis": "y"
          }
         ],
         "name": "1937"
        },
        {
         "data": [
          {
           "alignmentgroup": "True",
           "hovertemplate": "Countries=%{y}<br>release_year=1938<br>Cumulated character influence score=%{x}<extra></extra>",
           "legendgroup": "Germany",
           "marker": {
            "color": "#636efa",
            "pattern": {
             "shape": ""
            }
           },
           "name": "Germany",
           "offsetgroup": "Germany",
           "orientation": "h",
           "showlegend": true,
           "textposition": "auto",
           "type": "bar",
           "x": [
            0
           ],
           "xaxis": "x",
           "y": [
            "Germany"
           ],
           "yaxis": "y"
          },
          {
           "alignmentgroup": "True",
           "hovertemplate": "Countries=%{y}<br>release_year=1938<br>Cumulated character influence score=%{x}<extra></extra>",
           "legendgroup": "United States of America",
           "marker": {
            "color": "#EF553B",
            "pattern": {
             "shape": ""
            }
           },
           "name": "United States of America",
           "offsetgroup": "United States of America",
           "orientation": "h",
           "showlegend": true,
           "textposition": "auto",
           "type": "bar",
           "x": [
            1
           ],
           "xaxis": "x",
           "y": [
            "United States of America"
           ],
           "yaxis": "y"
          },
          {
           "alignmentgroup": "True",
           "hovertemplate": "Countries=%{y}<br>release_year=1938<br>Cumulated character influence score=%{x}<extra></extra>",
           "legendgroup": "Brazil",
           "marker": {
            "color": "#00cc96",
            "pattern": {
             "shape": ""
            }
           },
           "name": "Brazil",
           "offsetgroup": "Brazil",
           "orientation": "h",
           "showlegend": true,
           "textposition": "auto",
           "type": "bar",
           "x": [
            0
           ],
           "xaxis": "x",
           "y": [
            "Brazil"
           ],
           "yaxis": "y"
          },
          {
           "alignmentgroup": "True",
           "hovertemplate": "Countries=%{y}<br>release_year=1938<br>Cumulated character influence score=%{x}<extra></extra>",
           "legendgroup": "Netherlands",
           "marker": {
            "color": "#ab63fa",
            "pattern": {
             "shape": ""
            }
           },
           "name": "Netherlands",
           "offsetgroup": "Netherlands",
           "orientation": "h",
           "showlegend": true,
           "textposition": "auto",
           "type": "bar",
           "x": [
            0
           ],
           "xaxis": "x",
           "y": [
            "Netherlands"
           ],
           "yaxis": "y"
          },
          {
           "alignmentgroup": "True",
           "hovertemplate": "Countries=%{y}<br>release_year=1938<br>Cumulated character influence score=%{x}<extra></extra>",
           "legendgroup": "Canada",
           "marker": {
            "color": "#FFA15A",
            "pattern": {
             "shape": ""
            }
           },
           "name": "Canada",
           "offsetgroup": "Canada",
           "orientation": "h",
           "showlegend": true,
           "textposition": "auto",
           "type": "bar",
           "x": [
            0
           ],
           "xaxis": "x",
           "y": [
            "Canada"
           ],
           "yaxis": "y"
          },
          {
           "alignmentgroup": "True",
           "hovertemplate": "Countries=%{y}<br>release_year=1938<br>Cumulated character influence score=%{x}<extra></extra>",
           "legendgroup": "France",
           "marker": {
            "color": "#19d3f3",
            "pattern": {
             "shape": ""
            }
           },
           "name": "France",
           "offsetgroup": "France",
           "orientation": "h",
           "showlegend": true,
           "textposition": "auto",
           "type": "bar",
           "x": [
            1
           ],
           "xaxis": "x",
           "y": [
            "France"
           ],
           "yaxis": "y"
          },
          {
           "alignmentgroup": "True",
           "hovertemplate": "Countries=%{y}<br>release_year=1938<br>Cumulated character influence score=%{x}<extra></extra>",
           "legendgroup": "Czech Republic",
           "marker": {
            "color": "#FF6692",
            "pattern": {
             "shape": ""
            }
           },
           "name": "Czech Republic",
           "offsetgroup": "Czech Republic",
           "orientation": "h",
           "showlegend": true,
           "textposition": "auto",
           "type": "bar",
           "x": [
            1
           ],
           "xaxis": "x",
           "y": [
            "Czech Republic"
           ],
           "yaxis": "y"
          },
          {
           "alignmentgroup": "True",
           "hovertemplate": "Countries=%{y}<br>release_year=1938<br>Cumulated character influence score=%{x}<extra></extra>",
           "legendgroup": "United Kingdom",
           "marker": {
            "color": "#FECB52",
            "pattern": {
             "shape": ""
            }
           },
           "name": "United Kingdom",
           "offsetgroup": "United Kingdom",
           "orientation": "h",
           "showlegend": true,
           "textposition": "auto",
           "type": "bar",
           "x": [
            18
           ],
           "xaxis": "x",
           "y": [
            "United Kingdom"
           ],
           "yaxis": "y"
          },
          {
           "alignmentgroup": "True",
           "hovertemplate": "Countries=%{y}<br>release_year=1938<br>Cumulated character influence score=%{x}<extra></extra>",
           "legendgroup": "Romania",
           "marker": {
            "color": "#636efa",
            "pattern": {
             "shape": ""
            }
           },
           "name": "Romania",
           "offsetgroup": "Romania",
           "orientation": "h",
           "showlegend": true,
           "textposition": "auto",
           "type": "bar",
           "x": [
            1
           ],
           "xaxis": "x",
           "y": [
            "Romania"
           ],
           "yaxis": "y"
          },
          {
           "alignmentgroup": "True",
           "hovertemplate": "Countries=%{y}<br>release_year=1938<br>Cumulated character influence score=%{x}<extra></extra>",
           "legendgroup": "Soviet Union",
           "marker": {
            "color": "#EF553B",
            "pattern": {
             "shape": ""
            }
           },
           "name": "Soviet Union",
           "offsetgroup": "Soviet Union",
           "orientation": "h",
           "showlegend": true,
           "textposition": "auto",
           "type": "bar",
           "x": [
            1
           ],
           "xaxis": "x",
           "y": [
            "Soviet Union"
           ],
           "yaxis": "y"
          }
         ],
         "name": "1938"
        },
        {
         "data": [
          {
           "alignmentgroup": "True",
           "hovertemplate": "Countries=%{y}<br>release_year=1939<br>Cumulated character influence score=%{x}<extra></extra>",
           "legendgroup": "Germany",
           "marker": {
            "color": "#636efa",
            "pattern": {
             "shape": ""
            }
           },
           "name": "Germany",
           "offsetgroup": "Germany",
           "orientation": "h",
           "showlegend": true,
           "textposition": "auto",
           "type": "bar",
           "x": [
            0
           ],
           "xaxis": "x",
           "y": [
            "Germany"
           ],
           "yaxis": "y"
          },
          {
           "alignmentgroup": "True",
           "hovertemplate": "Countries=%{y}<br>release_year=1939<br>Cumulated character influence score=%{x}<extra></extra>",
           "legendgroup": "United States of America",
           "marker": {
            "color": "#EF553B",
            "pattern": {
             "shape": ""
            }
           },
           "name": "United States of America",
           "offsetgroup": "United States of America",
           "orientation": "h",
           "showlegend": true,
           "textposition": "auto",
           "type": "bar",
           "x": [
            2
           ],
           "xaxis": "x",
           "y": [
            "United States of America"
           ],
           "yaxis": "y"
          },
          {
           "alignmentgroup": "True",
           "hovertemplate": "Countries=%{y}<br>release_year=1939<br>Cumulated character influence score=%{x}<extra></extra>",
           "legendgroup": "Brazil",
           "marker": {
            "color": "#00cc96",
            "pattern": {
             "shape": ""
            }
           },
           "name": "Brazil",
           "offsetgroup": "Brazil",
           "orientation": "h",
           "showlegend": true,
           "textposition": "auto",
           "type": "bar",
           "x": [
            0
           ],
           "xaxis": "x",
           "y": [
            "Brazil"
           ],
           "yaxis": "y"
          },
          {
           "alignmentgroup": "True",
           "hovertemplate": "Countries=%{y}<br>release_year=1939<br>Cumulated character influence score=%{x}<extra></extra>",
           "legendgroup": "Netherlands",
           "marker": {
            "color": "#ab63fa",
            "pattern": {
             "shape": ""
            }
           },
           "name": "Netherlands",
           "offsetgroup": "Netherlands",
           "orientation": "h",
           "showlegend": true,
           "textposition": "auto",
           "type": "bar",
           "x": [
            0
           ],
           "xaxis": "x",
           "y": [
            "Netherlands"
           ],
           "yaxis": "y"
          },
          {
           "alignmentgroup": "True",
           "hovertemplate": "Countries=%{y}<br>release_year=1939<br>Cumulated character influence score=%{x}<extra></extra>",
           "legendgroup": "Canada",
           "marker": {
            "color": "#FFA15A",
            "pattern": {
             "shape": ""
            }
           },
           "name": "Canada",
           "offsetgroup": "Canada",
           "orientation": "h",
           "showlegend": true,
           "textposition": "auto",
           "type": "bar",
           "x": [
            0
           ],
           "xaxis": "x",
           "y": [
            "Canada"
           ],
           "yaxis": "y"
          },
          {
           "alignmentgroup": "True",
           "hovertemplate": "Countries=%{y}<br>release_year=1939<br>Cumulated character influence score=%{x}<extra></extra>",
           "legendgroup": "France",
           "marker": {
            "color": "#19d3f3",
            "pattern": {
             "shape": ""
            }
           },
           "name": "France",
           "offsetgroup": "France",
           "orientation": "h",
           "showlegend": true,
           "textposition": "auto",
           "type": "bar",
           "x": [
            1
           ],
           "xaxis": "x",
           "y": [
            "France"
           ],
           "yaxis": "y"
          },
          {
           "alignmentgroup": "True",
           "hovertemplate": "Countries=%{y}<br>release_year=1939<br>Cumulated character influence score=%{x}<extra></extra>",
           "legendgroup": "Czech Republic",
           "marker": {
            "color": "#FF6692",
            "pattern": {
             "shape": ""
            }
           },
           "name": "Czech Republic",
           "offsetgroup": "Czech Republic",
           "orientation": "h",
           "showlegend": true,
           "textposition": "auto",
           "type": "bar",
           "x": [
            1
           ],
           "xaxis": "x",
           "y": [
            "Czech Republic"
           ],
           "yaxis": "y"
          },
          {
           "alignmentgroup": "True",
           "hovertemplate": "Countries=%{y}<br>release_year=1939<br>Cumulated character influence score=%{x}<extra></extra>",
           "legendgroup": "United Kingdom",
           "marker": {
            "color": "#FECB52",
            "pattern": {
             "shape": ""
            }
           },
           "name": "United Kingdom",
           "offsetgroup": "United Kingdom",
           "orientation": "h",
           "showlegend": true,
           "textposition": "auto",
           "type": "bar",
           "x": [
            21
           ],
           "xaxis": "x",
           "y": [
            "United Kingdom"
           ],
           "yaxis": "y"
          },
          {
           "alignmentgroup": "True",
           "hovertemplate": "Countries=%{y}<br>release_year=1939<br>Cumulated character influence score=%{x}<extra></extra>",
           "legendgroup": "Romania",
           "marker": {
            "color": "#636efa",
            "pattern": {
             "shape": ""
            }
           },
           "name": "Romania",
           "offsetgroup": "Romania",
           "orientation": "h",
           "showlegend": true,
           "textposition": "auto",
           "type": "bar",
           "x": [
            1
           ],
           "xaxis": "x",
           "y": [
            "Romania"
           ],
           "yaxis": "y"
          },
          {
           "alignmentgroup": "True",
           "hovertemplate": "Countries=%{y}<br>release_year=1939<br>Cumulated character influence score=%{x}<extra></extra>",
           "legendgroup": "Soviet Union",
           "marker": {
            "color": "#EF553B",
            "pattern": {
             "shape": ""
            }
           },
           "name": "Soviet Union",
           "offsetgroup": "Soviet Union",
           "orientation": "h",
           "showlegend": true,
           "textposition": "auto",
           "type": "bar",
           "x": [
            1
           ],
           "xaxis": "x",
           "y": [
            "Soviet Union"
           ],
           "yaxis": "y"
          }
         ],
         "name": "1939"
        },
        {
         "data": [
          {
           "alignmentgroup": "True",
           "hovertemplate": "Countries=%{y}<br>release_year=1940<br>Cumulated character influence score=%{x}<extra></extra>",
           "legendgroup": "Germany",
           "marker": {
            "color": "#636efa",
            "pattern": {
             "shape": ""
            }
           },
           "name": "Germany",
           "offsetgroup": "Germany",
           "orientation": "h",
           "showlegend": true,
           "textposition": "auto",
           "type": "bar",
           "x": [
            0
           ],
           "xaxis": "x",
           "y": [
            "Germany"
           ],
           "yaxis": "y"
          },
          {
           "alignmentgroup": "True",
           "hovertemplate": "Countries=%{y}<br>release_year=1940<br>Cumulated character influence score=%{x}<extra></extra>",
           "legendgroup": "United States of America",
           "marker": {
            "color": "#EF553B",
            "pattern": {
             "shape": ""
            }
           },
           "name": "United States of America",
           "offsetgroup": "United States of America",
           "orientation": "h",
           "showlegend": true,
           "textposition": "auto",
           "type": "bar",
           "x": [
            2
           ],
           "xaxis": "x",
           "y": [
            "United States of America"
           ],
           "yaxis": "y"
          },
          {
           "alignmentgroup": "True",
           "hovertemplate": "Countries=%{y}<br>release_year=1940<br>Cumulated character influence score=%{x}<extra></extra>",
           "legendgroup": "Brazil",
           "marker": {
            "color": "#00cc96",
            "pattern": {
             "shape": ""
            }
           },
           "name": "Brazil",
           "offsetgroup": "Brazil",
           "orientation": "h",
           "showlegend": true,
           "textposition": "auto",
           "type": "bar",
           "x": [
            0
           ],
           "xaxis": "x",
           "y": [
            "Brazil"
           ],
           "yaxis": "y"
          },
          {
           "alignmentgroup": "True",
           "hovertemplate": "Countries=%{y}<br>release_year=1940<br>Cumulated character influence score=%{x}<extra></extra>",
           "legendgroup": "Netherlands",
           "marker": {
            "color": "#ab63fa",
            "pattern": {
             "shape": ""
            }
           },
           "name": "Netherlands",
           "offsetgroup": "Netherlands",
           "orientation": "h",
           "showlegend": true,
           "textposition": "auto",
           "type": "bar",
           "x": [
            0
           ],
           "xaxis": "x",
           "y": [
            "Netherlands"
           ],
           "yaxis": "y"
          },
          {
           "alignmentgroup": "True",
           "hovertemplate": "Countries=%{y}<br>release_year=1940<br>Cumulated character influence score=%{x}<extra></extra>",
           "legendgroup": "Canada",
           "marker": {
            "color": "#FFA15A",
            "pattern": {
             "shape": ""
            }
           },
           "name": "Canada",
           "offsetgroup": "Canada",
           "orientation": "h",
           "showlegend": true,
           "textposition": "auto",
           "type": "bar",
           "x": [
            0
           ],
           "xaxis": "x",
           "y": [
            "Canada"
           ],
           "yaxis": "y"
          },
          {
           "alignmentgroup": "True",
           "hovertemplate": "Countries=%{y}<br>release_year=1940<br>Cumulated character influence score=%{x}<extra></extra>",
           "legendgroup": "France",
           "marker": {
            "color": "#19d3f3",
            "pattern": {
             "shape": ""
            }
           },
           "name": "France",
           "offsetgroup": "France",
           "orientation": "h",
           "showlegend": true,
           "textposition": "auto",
           "type": "bar",
           "x": [
            1
           ],
           "xaxis": "x",
           "y": [
            "France"
           ],
           "yaxis": "y"
          },
          {
           "alignmentgroup": "True",
           "hovertemplate": "Countries=%{y}<br>release_year=1940<br>Cumulated character influence score=%{x}<extra></extra>",
           "legendgroup": "Czech Republic",
           "marker": {
            "color": "#FF6692",
            "pattern": {
             "shape": ""
            }
           },
           "name": "Czech Republic",
           "offsetgroup": "Czech Republic",
           "orientation": "h",
           "showlegend": true,
           "textposition": "auto",
           "type": "bar",
           "x": [
            1
           ],
           "xaxis": "x",
           "y": [
            "Czech Republic"
           ],
           "yaxis": "y"
          },
          {
           "alignmentgroup": "True",
           "hovertemplate": "Countries=%{y}<br>release_year=1940<br>Cumulated character influence score=%{x}<extra></extra>",
           "legendgroup": "United Kingdom",
           "marker": {
            "color": "#FECB52",
            "pattern": {
             "shape": ""
            }
           },
           "name": "United Kingdom",
           "offsetgroup": "United Kingdom",
           "orientation": "h",
           "showlegend": true,
           "textposition": "auto",
           "type": "bar",
           "x": [
            22
           ],
           "xaxis": "x",
           "y": [
            "United Kingdom"
           ],
           "yaxis": "y"
          },
          {
           "alignmentgroup": "True",
           "hovertemplate": "Countries=%{y}<br>release_year=1940<br>Cumulated character influence score=%{x}<extra></extra>",
           "legendgroup": "Romania",
           "marker": {
            "color": "#636efa",
            "pattern": {
             "shape": ""
            }
           },
           "name": "Romania",
           "offsetgroup": "Romania",
           "orientation": "h",
           "showlegend": true,
           "textposition": "auto",
           "type": "bar",
           "x": [
            1
           ],
           "xaxis": "x",
           "y": [
            "Romania"
           ],
           "yaxis": "y"
          },
          {
           "alignmentgroup": "True",
           "hovertemplate": "Countries=%{y}<br>release_year=1940<br>Cumulated character influence score=%{x}<extra></extra>",
           "legendgroup": "Soviet Union",
           "marker": {
            "color": "#EF553B",
            "pattern": {
             "shape": ""
            }
           },
           "name": "Soviet Union",
           "offsetgroup": "Soviet Union",
           "orientation": "h",
           "showlegend": true,
           "textposition": "auto",
           "type": "bar",
           "x": [
            1
           ],
           "xaxis": "x",
           "y": [
            "Soviet Union"
           ],
           "yaxis": "y"
          }
         ],
         "name": "1940"
        },
        {
         "data": [
          {
           "alignmentgroup": "True",
           "hovertemplate": "Countries=%{y}<br>release_year=1941<br>Cumulated character influence score=%{x}<extra></extra>",
           "legendgroup": "Germany",
           "marker": {
            "color": "#636efa",
            "pattern": {
             "shape": ""
            }
           },
           "name": "Germany",
           "offsetgroup": "Germany",
           "orientation": "h",
           "showlegend": true,
           "textposition": "auto",
           "type": "bar",
           "x": [
            0
           ],
           "xaxis": "x",
           "y": [
            "Germany"
           ],
           "yaxis": "y"
          },
          {
           "alignmentgroup": "True",
           "hovertemplate": "Countries=%{y}<br>release_year=1941<br>Cumulated character influence score=%{x}<extra></extra>",
           "legendgroup": "United States of America",
           "marker": {
            "color": "#EF553B",
            "pattern": {
             "shape": ""
            }
           },
           "name": "United States of America",
           "offsetgroup": "United States of America",
           "orientation": "h",
           "showlegend": true,
           "textposition": "auto",
           "type": "bar",
           "x": [
            2
           ],
           "xaxis": "x",
           "y": [
            "United States of America"
           ],
           "yaxis": "y"
          },
          {
           "alignmentgroup": "True",
           "hovertemplate": "Countries=%{y}<br>release_year=1941<br>Cumulated character influence score=%{x}<extra></extra>",
           "legendgroup": "Brazil",
           "marker": {
            "color": "#00cc96",
            "pattern": {
             "shape": ""
            }
           },
           "name": "Brazil",
           "offsetgroup": "Brazil",
           "orientation": "h",
           "showlegend": true,
           "textposition": "auto",
           "type": "bar",
           "x": [
            0
           ],
           "xaxis": "x",
           "y": [
            "Brazil"
           ],
           "yaxis": "y"
          },
          {
           "alignmentgroup": "True",
           "hovertemplate": "Countries=%{y}<br>release_year=1941<br>Cumulated character influence score=%{x}<extra></extra>",
           "legendgroup": "Netherlands",
           "marker": {
            "color": "#ab63fa",
            "pattern": {
             "shape": ""
            }
           },
           "name": "Netherlands",
           "offsetgroup": "Netherlands",
           "orientation": "h",
           "showlegend": true,
           "textposition": "auto",
           "type": "bar",
           "x": [
            0
           ],
           "xaxis": "x",
           "y": [
            "Netherlands"
           ],
           "yaxis": "y"
          },
          {
           "alignmentgroup": "True",
           "hovertemplate": "Countries=%{y}<br>release_year=1941<br>Cumulated character influence score=%{x}<extra></extra>",
           "legendgroup": "Canada",
           "marker": {
            "color": "#FFA15A",
            "pattern": {
             "shape": ""
            }
           },
           "name": "Canada",
           "offsetgroup": "Canada",
           "orientation": "h",
           "showlegend": true,
           "textposition": "auto",
           "type": "bar",
           "x": [
            0
           ],
           "xaxis": "x",
           "y": [
            "Canada"
           ],
           "yaxis": "y"
          },
          {
           "alignmentgroup": "True",
           "hovertemplate": "Countries=%{y}<br>release_year=1941<br>Cumulated character influence score=%{x}<extra></extra>",
           "legendgroup": "France",
           "marker": {
            "color": "#19d3f3",
            "pattern": {
             "shape": ""
            }
           },
           "name": "France",
           "offsetgroup": "France",
           "orientation": "h",
           "showlegend": true,
           "textposition": "auto",
           "type": "bar",
           "x": [
            1
           ],
           "xaxis": "x",
           "y": [
            "France"
           ],
           "yaxis": "y"
          },
          {
           "alignmentgroup": "True",
           "hovertemplate": "Countries=%{y}<br>release_year=1941<br>Cumulated character influence score=%{x}<extra></extra>",
           "legendgroup": "Czech Republic",
           "marker": {
            "color": "#FF6692",
            "pattern": {
             "shape": ""
            }
           },
           "name": "Czech Republic",
           "offsetgroup": "Czech Republic",
           "orientation": "h",
           "showlegend": true,
           "textposition": "auto",
           "type": "bar",
           "x": [
            1
           ],
           "xaxis": "x",
           "y": [
            "Czech Republic"
           ],
           "yaxis": "y"
          },
          {
           "alignmentgroup": "True",
           "hovertemplate": "Countries=%{y}<br>release_year=1941<br>Cumulated character influence score=%{x}<extra></extra>",
           "legendgroup": "United Kingdom",
           "marker": {
            "color": "#FECB52",
            "pattern": {
             "shape": ""
            }
           },
           "name": "United Kingdom",
           "offsetgroup": "United Kingdom",
           "orientation": "h",
           "showlegend": true,
           "textposition": "auto",
           "type": "bar",
           "x": [
            23
           ],
           "xaxis": "x",
           "y": [
            "United Kingdom"
           ],
           "yaxis": "y"
          },
          {
           "alignmentgroup": "True",
           "hovertemplate": "Countries=%{y}<br>release_year=1941<br>Cumulated character influence score=%{x}<extra></extra>",
           "legendgroup": "Romania",
           "marker": {
            "color": "#636efa",
            "pattern": {
             "shape": ""
            }
           },
           "name": "Romania",
           "offsetgroup": "Romania",
           "orientation": "h",
           "showlegend": true,
           "textposition": "auto",
           "type": "bar",
           "x": [
            1
           ],
           "xaxis": "x",
           "y": [
            "Romania"
           ],
           "yaxis": "y"
          },
          {
           "alignmentgroup": "True",
           "hovertemplate": "Countries=%{y}<br>release_year=1941<br>Cumulated character influence score=%{x}<extra></extra>",
           "legendgroup": "Soviet Union",
           "marker": {
            "color": "#EF553B",
            "pattern": {
             "shape": ""
            }
           },
           "name": "Soviet Union",
           "offsetgroup": "Soviet Union",
           "orientation": "h",
           "showlegend": true,
           "textposition": "auto",
           "type": "bar",
           "x": [
            1
           ],
           "xaxis": "x",
           "y": [
            "Soviet Union"
           ],
           "yaxis": "y"
          }
         ],
         "name": "1941"
        },
        {
         "data": [
          {
           "alignmentgroup": "True",
           "hovertemplate": "Countries=%{y}<br>release_year=1942<br>Cumulated character influence score=%{x}<extra></extra>",
           "legendgroup": "Germany",
           "marker": {
            "color": "#636efa",
            "pattern": {
             "shape": ""
            }
           },
           "name": "Germany",
           "offsetgroup": "Germany",
           "orientation": "h",
           "showlegend": true,
           "textposition": "auto",
           "type": "bar",
           "x": [
            0
           ],
           "xaxis": "x",
           "y": [
            "Germany"
           ],
           "yaxis": "y"
          },
          {
           "alignmentgroup": "True",
           "hovertemplate": "Countries=%{y}<br>release_year=1942<br>Cumulated character influence score=%{x}<extra></extra>",
           "legendgroup": "United States of America",
           "marker": {
            "color": "#EF553B",
            "pattern": {
             "shape": ""
            }
           },
           "name": "United States of America",
           "offsetgroup": "United States of America",
           "orientation": "h",
           "showlegend": true,
           "textposition": "auto",
           "type": "bar",
           "x": [
            2
           ],
           "xaxis": "x",
           "y": [
            "United States of America"
           ],
           "yaxis": "y"
          },
          {
           "alignmentgroup": "True",
           "hovertemplate": "Countries=%{y}<br>release_year=1942<br>Cumulated character influence score=%{x}<extra></extra>",
           "legendgroup": "Brazil",
           "marker": {
            "color": "#00cc96",
            "pattern": {
             "shape": ""
            }
           },
           "name": "Brazil",
           "offsetgroup": "Brazil",
           "orientation": "h",
           "showlegend": true,
           "textposition": "auto",
           "type": "bar",
           "x": [
            0
           ],
           "xaxis": "x",
           "y": [
            "Brazil"
           ],
           "yaxis": "y"
          },
          {
           "alignmentgroup": "True",
           "hovertemplate": "Countries=%{y}<br>release_year=1942<br>Cumulated character influence score=%{x}<extra></extra>",
           "legendgroup": "Netherlands",
           "marker": {
            "color": "#ab63fa",
            "pattern": {
             "shape": ""
            }
           },
           "name": "Netherlands",
           "offsetgroup": "Netherlands",
           "orientation": "h",
           "showlegend": true,
           "textposition": "auto",
           "type": "bar",
           "x": [
            0
           ],
           "xaxis": "x",
           "y": [
            "Netherlands"
           ],
           "yaxis": "y"
          },
          {
           "alignmentgroup": "True",
           "hovertemplate": "Countries=%{y}<br>release_year=1942<br>Cumulated character influence score=%{x}<extra></extra>",
           "legendgroup": "Canada",
           "marker": {
            "color": "#FFA15A",
            "pattern": {
             "shape": ""
            }
           },
           "name": "Canada",
           "offsetgroup": "Canada",
           "orientation": "h",
           "showlegend": true,
           "textposition": "auto",
           "type": "bar",
           "x": [
            0
           ],
           "xaxis": "x",
           "y": [
            "Canada"
           ],
           "yaxis": "y"
          },
          {
           "alignmentgroup": "True",
           "hovertemplate": "Countries=%{y}<br>release_year=1942<br>Cumulated character influence score=%{x}<extra></extra>",
           "legendgroup": "France",
           "marker": {
            "color": "#19d3f3",
            "pattern": {
             "shape": ""
            }
           },
           "name": "France",
           "offsetgroup": "France",
           "orientation": "h",
           "showlegend": true,
           "textposition": "auto",
           "type": "bar",
           "x": [
            1
           ],
           "xaxis": "x",
           "y": [
            "France"
           ],
           "yaxis": "y"
          },
          {
           "alignmentgroup": "True",
           "hovertemplate": "Countries=%{y}<br>release_year=1942<br>Cumulated character influence score=%{x}<extra></extra>",
           "legendgroup": "Czech Republic",
           "marker": {
            "color": "#FF6692",
            "pattern": {
             "shape": ""
            }
           },
           "name": "Czech Republic",
           "offsetgroup": "Czech Republic",
           "orientation": "h",
           "showlegend": true,
           "textposition": "auto",
           "type": "bar",
           "x": [
            1
           ],
           "xaxis": "x",
           "y": [
            "Czech Republic"
           ],
           "yaxis": "y"
          },
          {
           "alignmentgroup": "True",
           "hovertemplate": "Countries=%{y}<br>release_year=1942<br>Cumulated character influence score=%{x}<extra></extra>",
           "legendgroup": "United Kingdom",
           "marker": {
            "color": "#FECB52",
            "pattern": {
             "shape": ""
            }
           },
           "name": "United Kingdom",
           "offsetgroup": "United Kingdom",
           "orientation": "h",
           "showlegend": true,
           "textposition": "auto",
           "type": "bar",
           "x": [
            24
           ],
           "xaxis": "x",
           "y": [
            "United Kingdom"
           ],
           "yaxis": "y"
          },
          {
           "alignmentgroup": "True",
           "hovertemplate": "Countries=%{y}<br>release_year=1942<br>Cumulated character influence score=%{x}<extra></extra>",
           "legendgroup": "Romania",
           "marker": {
            "color": "#636efa",
            "pattern": {
             "shape": ""
            }
           },
           "name": "Romania",
           "offsetgroup": "Romania",
           "orientation": "h",
           "showlegend": true,
           "textposition": "auto",
           "type": "bar",
           "x": [
            1
           ],
           "xaxis": "x",
           "y": [
            "Romania"
           ],
           "yaxis": "y"
          },
          {
           "alignmentgroup": "True",
           "hovertemplate": "Countries=%{y}<br>release_year=1942<br>Cumulated character influence score=%{x}<extra></extra>",
           "legendgroup": "Soviet Union",
           "marker": {
            "color": "#EF553B",
            "pattern": {
             "shape": ""
            }
           },
           "name": "Soviet Union",
           "offsetgroup": "Soviet Union",
           "orientation": "h",
           "showlegend": true,
           "textposition": "auto",
           "type": "bar",
           "x": [
            1
           ],
           "xaxis": "x",
           "y": [
            "Soviet Union"
           ],
           "yaxis": "y"
          }
         ],
         "name": "1942"
        },
        {
         "data": [
          {
           "alignmentgroup": "True",
           "hovertemplate": "Countries=%{y}<br>release_year=1943<br>Cumulated character influence score=%{x}<extra></extra>",
           "legendgroup": "Germany",
           "marker": {
            "color": "#636efa",
            "pattern": {
             "shape": ""
            }
           },
           "name": "Germany",
           "offsetgroup": "Germany",
           "orientation": "h",
           "showlegend": true,
           "textposition": "auto",
           "type": "bar",
           "x": [
            1
           ],
           "xaxis": "x",
           "y": [
            "Germany"
           ],
           "yaxis": "y"
          },
          {
           "alignmentgroup": "True",
           "hovertemplate": "Countries=%{y}<br>release_year=1943<br>Cumulated character influence score=%{x}<extra></extra>",
           "legendgroup": "United States of America",
           "marker": {
            "color": "#EF553B",
            "pattern": {
             "shape": ""
            }
           },
           "name": "United States of America",
           "offsetgroup": "United States of America",
           "orientation": "h",
           "showlegend": true,
           "textposition": "auto",
           "type": "bar",
           "x": [
            2
           ],
           "xaxis": "x",
           "y": [
            "United States of America"
           ],
           "yaxis": "y"
          },
          {
           "alignmentgroup": "True",
           "hovertemplate": "Countries=%{y}<br>release_year=1943<br>Cumulated character influence score=%{x}<extra></extra>",
           "legendgroup": "Brazil",
           "marker": {
            "color": "#00cc96",
            "pattern": {
             "shape": ""
            }
           },
           "name": "Brazil",
           "offsetgroup": "Brazil",
           "orientation": "h",
           "showlegend": true,
           "textposition": "auto",
           "type": "bar",
           "x": [
            0
           ],
           "xaxis": "x",
           "y": [
            "Brazil"
           ],
           "yaxis": "y"
          },
          {
           "alignmentgroup": "True",
           "hovertemplate": "Countries=%{y}<br>release_year=1943<br>Cumulated character influence score=%{x}<extra></extra>",
           "legendgroup": "Netherlands",
           "marker": {
            "color": "#ab63fa",
            "pattern": {
             "shape": ""
            }
           },
           "name": "Netherlands",
           "offsetgroup": "Netherlands",
           "orientation": "h",
           "showlegend": true,
           "textposition": "auto",
           "type": "bar",
           "x": [
            0
           ],
           "xaxis": "x",
           "y": [
            "Netherlands"
           ],
           "yaxis": "y"
          },
          {
           "alignmentgroup": "True",
           "hovertemplate": "Countries=%{y}<br>release_year=1943<br>Cumulated character influence score=%{x}<extra></extra>",
           "legendgroup": "France",
           "marker": {
            "color": "#19d3f3",
            "pattern": {
             "shape": ""
            }
           },
           "name": "France",
           "offsetgroup": "France",
           "orientation": "h",
           "showlegend": true,
           "textposition": "auto",
           "type": "bar",
           "x": [
            1
           ],
           "xaxis": "x",
           "y": [
            "France"
           ],
           "yaxis": "y"
          },
          {
           "alignmentgroup": "True",
           "hovertemplate": "Countries=%{y}<br>release_year=1943<br>Cumulated character influence score=%{x}<extra></extra>",
           "legendgroup": "Czech Republic",
           "marker": {
            "color": "#FF6692",
            "pattern": {
             "shape": ""
            }
           },
           "name": "Czech Republic",
           "offsetgroup": "Czech Republic",
           "orientation": "h",
           "showlegend": true,
           "textposition": "auto",
           "type": "bar",
           "x": [
            1
           ],
           "xaxis": "x",
           "y": [
            "Czech Republic"
           ],
           "yaxis": "y"
          },
          {
           "alignmentgroup": "True",
           "hovertemplate": "Countries=%{y}<br>release_year=1943<br>Cumulated character influence score=%{x}<extra></extra>",
           "legendgroup": "United Kingdom",
           "marker": {
            "color": "#FECB52",
            "pattern": {
             "shape": ""
            }
           },
           "name": "United Kingdom",
           "offsetgroup": "United Kingdom",
           "orientation": "h",
           "showlegend": true,
           "textposition": "auto",
           "type": "bar",
           "x": [
            25
           ],
           "xaxis": "x",
           "y": [
            "United Kingdom"
           ],
           "yaxis": "y"
          },
          {
           "alignmentgroup": "True",
           "hovertemplate": "Countries=%{y}<br>release_year=1943<br>Cumulated character influence score=%{x}<extra></extra>",
           "legendgroup": "Romania",
           "marker": {
            "color": "#636efa",
            "pattern": {
             "shape": ""
            }
           },
           "name": "Romania",
           "offsetgroup": "Romania",
           "orientation": "h",
           "showlegend": true,
           "textposition": "auto",
           "type": "bar",
           "x": [
            1
           ],
           "xaxis": "x",
           "y": [
            "Romania"
           ],
           "yaxis": "y"
          },
          {
           "alignmentgroup": "True",
           "hovertemplate": "Countries=%{y}<br>release_year=1943<br>Cumulated character influence score=%{x}<extra></extra>",
           "legendgroup": "Soviet Union",
           "marker": {
            "color": "#EF553B",
            "pattern": {
             "shape": ""
            }
           },
           "name": "Soviet Union",
           "offsetgroup": "Soviet Union",
           "orientation": "h",
           "showlegend": true,
           "textposition": "auto",
           "type": "bar",
           "x": [
            1
           ],
           "xaxis": "x",
           "y": [
            "Soviet Union"
           ],
           "yaxis": "y"
          },
          {
           "alignmentgroup": "True",
           "hovertemplate": "Countries=%{y}<br>release_year=1943<br>Cumulated character influence score=%{x}<extra></extra>",
           "legendgroup": "Ireland",
           "marker": {
            "color": "#00cc96",
            "pattern": {
             "shape": ""
            }
           },
           "name": "Ireland",
           "offsetgroup": "Ireland",
           "orientation": "h",
           "showlegend": true,
           "textposition": "auto",
           "type": "bar",
           "x": [
            1
           ],
           "xaxis": "x",
           "y": [
            "Ireland"
           ],
           "yaxis": "y"
          }
         ],
         "name": "1943"
        },
        {
         "data": [
          {
           "alignmentgroup": "True",
           "hovertemplate": "Countries=%{y}<br>release_year=1944<br>Cumulated character influence score=%{x}<extra></extra>",
           "legendgroup": "Germany",
           "marker": {
            "color": "#636efa",
            "pattern": {
             "shape": ""
            }
           },
           "name": "Germany",
           "offsetgroup": "Germany",
           "orientation": "h",
           "showlegend": true,
           "textposition": "auto",
           "type": "bar",
           "x": [
            1
           ],
           "xaxis": "x",
           "y": [
            "Germany"
           ],
           "yaxis": "y"
          },
          {
           "alignmentgroup": "True",
           "hovertemplate": "Countries=%{y}<br>release_year=1944<br>Cumulated character influence score=%{x}<extra></extra>",
           "legendgroup": "United States of America",
           "marker": {
            "color": "#EF553B",
            "pattern": {
             "shape": ""
            }
           },
           "name": "United States of America",
           "offsetgroup": "United States of America",
           "orientation": "h",
           "showlegend": true,
           "textposition": "auto",
           "type": "bar",
           "x": [
            2
           ],
           "xaxis": "x",
           "y": [
            "United States of America"
           ],
           "yaxis": "y"
          },
          {
           "alignmentgroup": "True",
           "hovertemplate": "Countries=%{y}<br>release_year=1944<br>Cumulated character influence score=%{x}<extra></extra>",
           "legendgroup": "Brazil",
           "marker": {
            "color": "#00cc96",
            "pattern": {
             "shape": ""
            }
           },
           "name": "Brazil",
           "offsetgroup": "Brazil",
           "orientation": "h",
           "showlegend": true,
           "textposition": "auto",
           "type": "bar",
           "x": [
            0
           ],
           "xaxis": "x",
           "y": [
            "Brazil"
           ],
           "yaxis": "y"
          },
          {
           "alignmentgroup": "True",
           "hovertemplate": "Countries=%{y}<br>release_year=1944<br>Cumulated character influence score=%{x}<extra></extra>",
           "legendgroup": "Netherlands",
           "marker": {
            "color": "#ab63fa",
            "pattern": {
             "shape": ""
            }
           },
           "name": "Netherlands",
           "offsetgroup": "Netherlands",
           "orientation": "h",
           "showlegend": true,
           "textposition": "auto",
           "type": "bar",
           "x": [
            0
           ],
           "xaxis": "x",
           "y": [
            "Netherlands"
           ],
           "yaxis": "y"
          },
          {
           "alignmentgroup": "True",
           "hovertemplate": "Countries=%{y}<br>release_year=1944<br>Cumulated character influence score=%{x}<extra></extra>",
           "legendgroup": "France",
           "marker": {
            "color": "#19d3f3",
            "pattern": {
             "shape": ""
            }
           },
           "name": "France",
           "offsetgroup": "France",
           "orientation": "h",
           "showlegend": true,
           "textposition": "auto",
           "type": "bar",
           "x": [
            1
           ],
           "xaxis": "x",
           "y": [
            "France"
           ],
           "yaxis": "y"
          },
          {
           "alignmentgroup": "True",
           "hovertemplate": "Countries=%{y}<br>release_year=1944<br>Cumulated character influence score=%{x}<extra></extra>",
           "legendgroup": "Czech Republic",
           "marker": {
            "color": "#FF6692",
            "pattern": {
             "shape": ""
            }
           },
           "name": "Czech Republic",
           "offsetgroup": "Czech Republic",
           "orientation": "h",
           "showlegend": true,
           "textposition": "auto",
           "type": "bar",
           "x": [
            1
           ],
           "xaxis": "x",
           "y": [
            "Czech Republic"
           ],
           "yaxis": "y"
          },
          {
           "alignmentgroup": "True",
           "hovertemplate": "Countries=%{y}<br>release_year=1944<br>Cumulated character influence score=%{x}<extra></extra>",
           "legendgroup": "United Kingdom",
           "marker": {
            "color": "#FECB52",
            "pattern": {
             "shape": ""
            }
           },
           "name": "United Kingdom",
           "offsetgroup": "United Kingdom",
           "orientation": "h",
           "showlegend": true,
           "textposition": "auto",
           "type": "bar",
           "x": [
            26
           ],
           "xaxis": "x",
           "y": [
            "United Kingdom"
           ],
           "yaxis": "y"
          },
          {
           "alignmentgroup": "True",
           "hovertemplate": "Countries=%{y}<br>release_year=1944<br>Cumulated character influence score=%{x}<extra></extra>",
           "legendgroup": "Romania",
           "marker": {
            "color": "#636efa",
            "pattern": {
             "shape": ""
            }
           },
           "name": "Romania",
           "offsetgroup": "Romania",
           "orientation": "h",
           "showlegend": true,
           "textposition": "auto",
           "type": "bar",
           "x": [
            1
           ],
           "xaxis": "x",
           "y": [
            "Romania"
           ],
           "yaxis": "y"
          },
          {
           "alignmentgroup": "True",
           "hovertemplate": "Countries=%{y}<br>release_year=1944<br>Cumulated character influence score=%{x}<extra></extra>",
           "legendgroup": "Soviet Union",
           "marker": {
            "color": "#EF553B",
            "pattern": {
             "shape": ""
            }
           },
           "name": "Soviet Union",
           "offsetgroup": "Soviet Union",
           "orientation": "h",
           "showlegend": true,
           "textposition": "auto",
           "type": "bar",
           "x": [
            1
           ],
           "xaxis": "x",
           "y": [
            "Soviet Union"
           ],
           "yaxis": "y"
          },
          {
           "alignmentgroup": "True",
           "hovertemplate": "Countries=%{y}<br>release_year=1944<br>Cumulated character influence score=%{x}<extra></extra>",
           "legendgroup": "Ireland",
           "marker": {
            "color": "#00cc96",
            "pattern": {
             "shape": ""
            }
           },
           "name": "Ireland",
           "offsetgroup": "Ireland",
           "orientation": "h",
           "showlegend": true,
           "textposition": "auto",
           "type": "bar",
           "x": [
            1
           ],
           "xaxis": "x",
           "y": [
            "Ireland"
           ],
           "yaxis": "y"
          }
         ],
         "name": "1944"
        },
        {
         "data": [
          {
           "alignmentgroup": "True",
           "hovertemplate": "Countries=%{y}<br>release_year=1945<br>Cumulated character influence score=%{x}<extra></extra>",
           "legendgroup": "Germany",
           "marker": {
            "color": "#636efa",
            "pattern": {
             "shape": ""
            }
           },
           "name": "Germany",
           "offsetgroup": "Germany",
           "orientation": "h",
           "showlegend": true,
           "textposition": "auto",
           "type": "bar",
           "x": [
            1
           ],
           "xaxis": "x",
           "y": [
            "Germany"
           ],
           "yaxis": "y"
          },
          {
           "alignmentgroup": "True",
           "hovertemplate": "Countries=%{y}<br>release_year=1945<br>Cumulated character influence score=%{x}<extra></extra>",
           "legendgroup": "United States of America",
           "marker": {
            "color": "#EF553B",
            "pattern": {
             "shape": ""
            }
           },
           "name": "United States of America",
           "offsetgroup": "United States of America",
           "orientation": "h",
           "showlegend": true,
           "textposition": "auto",
           "type": "bar",
           "x": [
            2
           ],
           "xaxis": "x",
           "y": [
            "United States of America"
           ],
           "yaxis": "y"
          },
          {
           "alignmentgroup": "True",
           "hovertemplate": "Countries=%{y}<br>release_year=1945<br>Cumulated character influence score=%{x}<extra></extra>",
           "legendgroup": "Brazil",
           "marker": {
            "color": "#00cc96",
            "pattern": {
             "shape": ""
            }
           },
           "name": "Brazil",
           "offsetgroup": "Brazil",
           "orientation": "h",
           "showlegend": true,
           "textposition": "auto",
           "type": "bar",
           "x": [
            0
           ],
           "xaxis": "x",
           "y": [
            "Brazil"
           ],
           "yaxis": "y"
          },
          {
           "alignmentgroup": "True",
           "hovertemplate": "Countries=%{y}<br>release_year=1945<br>Cumulated character influence score=%{x}<extra></extra>",
           "legendgroup": "Netherlands",
           "marker": {
            "color": "#ab63fa",
            "pattern": {
             "shape": ""
            }
           },
           "name": "Netherlands",
           "offsetgroup": "Netherlands",
           "orientation": "h",
           "showlegend": true,
           "textposition": "auto",
           "type": "bar",
           "x": [
            0
           ],
           "xaxis": "x",
           "y": [
            "Netherlands"
           ],
           "yaxis": "y"
          },
          {
           "alignmentgroup": "True",
           "hovertemplate": "Countries=%{y}<br>release_year=1945<br>Cumulated character influence score=%{x}<extra></extra>",
           "legendgroup": "France",
           "marker": {
            "color": "#19d3f3",
            "pattern": {
             "shape": ""
            }
           },
           "name": "France",
           "offsetgroup": "France",
           "orientation": "h",
           "showlegend": true,
           "textposition": "auto",
           "type": "bar",
           "x": [
            1
           ],
           "xaxis": "x",
           "y": [
            "France"
           ],
           "yaxis": "y"
          },
          {
           "alignmentgroup": "True",
           "hovertemplate": "Countries=%{y}<br>release_year=1945<br>Cumulated character influence score=%{x}<extra></extra>",
           "legendgroup": "Czech Republic",
           "marker": {
            "color": "#FF6692",
            "pattern": {
             "shape": ""
            }
           },
           "name": "Czech Republic",
           "offsetgroup": "Czech Republic",
           "orientation": "h",
           "showlegend": true,
           "textposition": "auto",
           "type": "bar",
           "x": [
            1
           ],
           "xaxis": "x",
           "y": [
            "Czech Republic"
           ],
           "yaxis": "y"
          },
          {
           "alignmentgroup": "True",
           "hovertemplate": "Countries=%{y}<br>release_year=1945<br>Cumulated character influence score=%{x}<extra></extra>",
           "legendgroup": "United Kingdom",
           "marker": {
            "color": "#FECB52",
            "pattern": {
             "shape": ""
            }
           },
           "name": "United Kingdom",
           "offsetgroup": "United Kingdom",
           "orientation": "h",
           "showlegend": true,
           "textposition": "auto",
           "type": "bar",
           "x": [
            27
           ],
           "xaxis": "x",
           "y": [
            "United Kingdom"
           ],
           "yaxis": "y"
          },
          {
           "alignmentgroup": "True",
           "hovertemplate": "Countries=%{y}<br>release_year=1945<br>Cumulated character influence score=%{x}<extra></extra>",
           "legendgroup": "Romania",
           "marker": {
            "color": "#636efa",
            "pattern": {
             "shape": ""
            }
           },
           "name": "Romania",
           "offsetgroup": "Romania",
           "orientation": "h",
           "showlegend": true,
           "textposition": "auto",
           "type": "bar",
           "x": [
            1
           ],
           "xaxis": "x",
           "y": [
            "Romania"
           ],
           "yaxis": "y"
          },
          {
           "alignmentgroup": "True",
           "hovertemplate": "Countries=%{y}<br>release_year=1945<br>Cumulated character influence score=%{x}<extra></extra>",
           "legendgroup": "Soviet Union",
           "marker": {
            "color": "#EF553B",
            "pattern": {
             "shape": ""
            }
           },
           "name": "Soviet Union",
           "offsetgroup": "Soviet Union",
           "orientation": "h",
           "showlegend": true,
           "textposition": "auto",
           "type": "bar",
           "x": [
            1
           ],
           "xaxis": "x",
           "y": [
            "Soviet Union"
           ],
           "yaxis": "y"
          },
          {
           "alignmentgroup": "True",
           "hovertemplate": "Countries=%{y}<br>release_year=1945<br>Cumulated character influence score=%{x}<extra></extra>",
           "legendgroup": "Ireland",
           "marker": {
            "color": "#00cc96",
            "pattern": {
             "shape": ""
            }
           },
           "name": "Ireland",
           "offsetgroup": "Ireland",
           "orientation": "h",
           "showlegend": true,
           "textposition": "auto",
           "type": "bar",
           "x": [
            1
           ],
           "xaxis": "x",
           "y": [
            "Ireland"
           ],
           "yaxis": "y"
          }
         ],
         "name": "1945"
        },
        {
         "data": [
          {
           "alignmentgroup": "True",
           "hovertemplate": "Countries=%{y}<br>release_year=1946<br>Cumulated character influence score=%{x}<extra></extra>",
           "legendgroup": "Germany",
           "marker": {
            "color": "#636efa",
            "pattern": {
             "shape": ""
            }
           },
           "name": "Germany",
           "offsetgroup": "Germany",
           "orientation": "h",
           "showlegend": true,
           "textposition": "auto",
           "type": "bar",
           "x": [
            1
           ],
           "xaxis": "x",
           "y": [
            "Germany"
           ],
           "yaxis": "y"
          },
          {
           "alignmentgroup": "True",
           "hovertemplate": "Countries=%{y}<br>release_year=1946<br>Cumulated character influence score=%{x}<extra></extra>",
           "legendgroup": "United States of America",
           "marker": {
            "color": "#EF553B",
            "pattern": {
             "shape": ""
            }
           },
           "name": "United States of America",
           "offsetgroup": "United States of America",
           "orientation": "h",
           "showlegend": true,
           "textposition": "auto",
           "type": "bar",
           "x": [
            2
           ],
           "xaxis": "x",
           "y": [
            "United States of America"
           ],
           "yaxis": "y"
          },
          {
           "alignmentgroup": "True",
           "hovertemplate": "Countries=%{y}<br>release_year=1946<br>Cumulated character influence score=%{x}<extra></extra>",
           "legendgroup": "Brazil",
           "marker": {
            "color": "#00cc96",
            "pattern": {
             "shape": ""
            }
           },
           "name": "Brazil",
           "offsetgroup": "Brazil",
           "orientation": "h",
           "showlegend": true,
           "textposition": "auto",
           "type": "bar",
           "x": [
            0
           ],
           "xaxis": "x",
           "y": [
            "Brazil"
           ],
           "yaxis": "y"
          },
          {
           "alignmentgroup": "True",
           "hovertemplate": "Countries=%{y}<br>release_year=1946<br>Cumulated character influence score=%{x}<extra></extra>",
           "legendgroup": "Netherlands",
           "marker": {
            "color": "#ab63fa",
            "pattern": {
             "shape": ""
            }
           },
           "name": "Netherlands",
           "offsetgroup": "Netherlands",
           "orientation": "h",
           "showlegend": true,
           "textposition": "auto",
           "type": "bar",
           "x": [
            0
           ],
           "xaxis": "x",
           "y": [
            "Netherlands"
           ],
           "yaxis": "y"
          },
          {
           "alignmentgroup": "True",
           "hovertemplate": "Countries=%{y}<br>release_year=1946<br>Cumulated character influence score=%{x}<extra></extra>",
           "legendgroup": "France",
           "marker": {
            "color": "#19d3f3",
            "pattern": {
             "shape": ""
            }
           },
           "name": "France",
           "offsetgroup": "France",
           "orientation": "h",
           "showlegend": true,
           "textposition": "auto",
           "type": "bar",
           "x": [
            1
           ],
           "xaxis": "x",
           "y": [
            "France"
           ],
           "yaxis": "y"
          },
          {
           "alignmentgroup": "True",
           "hovertemplate": "Countries=%{y}<br>release_year=1946<br>Cumulated character influence score=%{x}<extra></extra>",
           "legendgroup": "Czech Republic",
           "marker": {
            "color": "#FF6692",
            "pattern": {
             "shape": ""
            }
           },
           "name": "Czech Republic",
           "offsetgroup": "Czech Republic",
           "orientation": "h",
           "showlegend": true,
           "textposition": "auto",
           "type": "bar",
           "x": [
            1
           ],
           "xaxis": "x",
           "y": [
            "Czech Republic"
           ],
           "yaxis": "y"
          },
          {
           "alignmentgroup": "True",
           "hovertemplate": "Countries=%{y}<br>release_year=1946<br>Cumulated character influence score=%{x}<extra></extra>",
           "legendgroup": "United Kingdom",
           "marker": {
            "color": "#FECB52",
            "pattern": {
             "shape": ""
            }
           },
           "name": "United Kingdom",
           "offsetgroup": "United Kingdom",
           "orientation": "h",
           "showlegend": true,
           "textposition": "auto",
           "type": "bar",
           "x": [
            28
           ],
           "xaxis": "x",
           "y": [
            "United Kingdom"
           ],
           "yaxis": "y"
          },
          {
           "alignmentgroup": "True",
           "hovertemplate": "Countries=%{y}<br>release_year=1946<br>Cumulated character influence score=%{x}<extra></extra>",
           "legendgroup": "Romania",
           "marker": {
            "color": "#636efa",
            "pattern": {
             "shape": ""
            }
           },
           "name": "Romania",
           "offsetgroup": "Romania",
           "orientation": "h",
           "showlegend": true,
           "textposition": "auto",
           "type": "bar",
           "x": [
            1
           ],
           "xaxis": "x",
           "y": [
            "Romania"
           ],
           "yaxis": "y"
          },
          {
           "alignmentgroup": "True",
           "hovertemplate": "Countries=%{y}<br>release_year=1946<br>Cumulated character influence score=%{x}<extra></extra>",
           "legendgroup": "Soviet Union",
           "marker": {
            "color": "#EF553B",
            "pattern": {
             "shape": ""
            }
           },
           "name": "Soviet Union",
           "offsetgroup": "Soviet Union",
           "orientation": "h",
           "showlegend": true,
           "textposition": "auto",
           "type": "bar",
           "x": [
            1
           ],
           "xaxis": "x",
           "y": [
            "Soviet Union"
           ],
           "yaxis": "y"
          },
          {
           "alignmentgroup": "True",
           "hovertemplate": "Countries=%{y}<br>release_year=1946<br>Cumulated character influence score=%{x}<extra></extra>",
           "legendgroup": "Ireland",
           "marker": {
            "color": "#00cc96",
            "pattern": {
             "shape": ""
            }
           },
           "name": "Ireland",
           "offsetgroup": "Ireland",
           "orientation": "h",
           "showlegend": true,
           "textposition": "auto",
           "type": "bar",
           "x": [
            1
           ],
           "xaxis": "x",
           "y": [
            "Ireland"
           ],
           "yaxis": "y"
          }
         ],
         "name": "1946"
        },
        {
         "data": [
          {
           "alignmentgroup": "True",
           "hovertemplate": "Countries=%{y}<br>release_year=1947<br>Cumulated character influence score=%{x}<extra></extra>",
           "legendgroup": "Germany",
           "marker": {
            "color": "#636efa",
            "pattern": {
             "shape": ""
            }
           },
           "name": "Germany",
           "offsetgroup": "Germany",
           "orientation": "h",
           "showlegend": true,
           "textposition": "auto",
           "type": "bar",
           "x": [
            1
           ],
           "xaxis": "x",
           "y": [
            "Germany"
           ],
           "yaxis": "y"
          },
          {
           "alignmentgroup": "True",
           "hovertemplate": "Countries=%{y}<br>release_year=1947<br>Cumulated character influence score=%{x}<extra></extra>",
           "legendgroup": "United States of America",
           "marker": {
            "color": "#EF553B",
            "pattern": {
             "shape": ""
            }
           },
           "name": "United States of America",
           "offsetgroup": "United States of America",
           "orientation": "h",
           "showlegend": true,
           "textposition": "auto",
           "type": "bar",
           "x": [
            2
           ],
           "xaxis": "x",
           "y": [
            "United States of America"
           ],
           "yaxis": "y"
          },
          {
           "alignmentgroup": "True",
           "hovertemplate": "Countries=%{y}<br>release_year=1947<br>Cumulated character influence score=%{x}<extra></extra>",
           "legendgroup": "Brazil",
           "marker": {
            "color": "#00cc96",
            "pattern": {
             "shape": ""
            }
           },
           "name": "Brazil",
           "offsetgroup": "Brazil",
           "orientation": "h",
           "showlegend": true,
           "textposition": "auto",
           "type": "bar",
           "x": [
            0
           ],
           "xaxis": "x",
           "y": [
            "Brazil"
           ],
           "yaxis": "y"
          },
          {
           "alignmentgroup": "True",
           "hovertemplate": "Countries=%{y}<br>release_year=1947<br>Cumulated character influence score=%{x}<extra></extra>",
           "legendgroup": "Netherlands",
           "marker": {
            "color": "#ab63fa",
            "pattern": {
             "shape": ""
            }
           },
           "name": "Netherlands",
           "offsetgroup": "Netherlands",
           "orientation": "h",
           "showlegend": true,
           "textposition": "auto",
           "type": "bar",
           "x": [
            0
           ],
           "xaxis": "x",
           "y": [
            "Netherlands"
           ],
           "yaxis": "y"
          },
          {
           "alignmentgroup": "True",
           "hovertemplate": "Countries=%{y}<br>release_year=1947<br>Cumulated character influence score=%{x}<extra></extra>",
           "legendgroup": "France",
           "marker": {
            "color": "#19d3f3",
            "pattern": {
             "shape": ""
            }
           },
           "name": "France",
           "offsetgroup": "France",
           "orientation": "h",
           "showlegend": true,
           "textposition": "auto",
           "type": "bar",
           "x": [
            1
           ],
           "xaxis": "x",
           "y": [
            "France"
           ],
           "yaxis": "y"
          },
          {
           "alignmentgroup": "True",
           "hovertemplate": "Countries=%{y}<br>release_year=1947<br>Cumulated character influence score=%{x}<extra></extra>",
           "legendgroup": "Czech Republic",
           "marker": {
            "color": "#FF6692",
            "pattern": {
             "shape": ""
            }
           },
           "name": "Czech Republic",
           "offsetgroup": "Czech Republic",
           "orientation": "h",
           "showlegend": true,
           "textposition": "auto",
           "type": "bar",
           "x": [
            1
           ],
           "xaxis": "x",
           "y": [
            "Czech Republic"
           ],
           "yaxis": "y"
          },
          {
           "alignmentgroup": "True",
           "hovertemplate": "Countries=%{y}<br>release_year=1947<br>Cumulated character influence score=%{x}<extra></extra>",
           "legendgroup": "United Kingdom",
           "marker": {
            "color": "#FECB52",
            "pattern": {
             "shape": ""
            }
           },
           "name": "United Kingdom",
           "offsetgroup": "United Kingdom",
           "orientation": "h",
           "showlegend": true,
           "textposition": "auto",
           "type": "bar",
           "x": [
            28
           ],
           "xaxis": "x",
           "y": [
            "United Kingdom"
           ],
           "yaxis": "y"
          },
          {
           "alignmentgroup": "True",
           "hovertemplate": "Countries=%{y}<br>release_year=1947<br>Cumulated character influence score=%{x}<extra></extra>",
           "legendgroup": "Romania",
           "marker": {
            "color": "#636efa",
            "pattern": {
             "shape": ""
            }
           },
           "name": "Romania",
           "offsetgroup": "Romania",
           "orientation": "h",
           "showlegend": true,
           "textposition": "auto",
           "type": "bar",
           "x": [
            1
           ],
           "xaxis": "x",
           "y": [
            "Romania"
           ],
           "yaxis": "y"
          },
          {
           "alignmentgroup": "True",
           "hovertemplate": "Countries=%{y}<br>release_year=1947<br>Cumulated character influence score=%{x}<extra></extra>",
           "legendgroup": "Soviet Union",
           "marker": {
            "color": "#EF553B",
            "pattern": {
             "shape": ""
            }
           },
           "name": "Soviet Union",
           "offsetgroup": "Soviet Union",
           "orientation": "h",
           "showlegend": true,
           "textposition": "auto",
           "type": "bar",
           "x": [
            1
           ],
           "xaxis": "x",
           "y": [
            "Soviet Union"
           ],
           "yaxis": "y"
          },
          {
           "alignmentgroup": "True",
           "hovertemplate": "Countries=%{y}<br>release_year=1947<br>Cumulated character influence score=%{x}<extra></extra>",
           "legendgroup": "Ireland",
           "marker": {
            "color": "#00cc96",
            "pattern": {
             "shape": ""
            }
           },
           "name": "Ireland",
           "offsetgroup": "Ireland",
           "orientation": "h",
           "showlegend": true,
           "textposition": "auto",
           "type": "bar",
           "x": [
            1
           ],
           "xaxis": "x",
           "y": [
            "Ireland"
           ],
           "yaxis": "y"
          }
         ],
         "name": "1947"
        },
        {
         "data": [
          {
           "alignmentgroup": "True",
           "hovertemplate": "Countries=%{y}<br>release_year=1948<br>Cumulated character influence score=%{x}<extra></extra>",
           "legendgroup": "Germany",
           "marker": {
            "color": "#636efa",
            "pattern": {
             "shape": ""
            }
           },
           "name": "Germany",
           "offsetgroup": "Germany",
           "orientation": "h",
           "showlegend": true,
           "textposition": "auto",
           "type": "bar",
           "x": [
            1
           ],
           "xaxis": "x",
           "y": [
            "Germany"
           ],
           "yaxis": "y"
          },
          {
           "alignmentgroup": "True",
           "hovertemplate": "Countries=%{y}<br>release_year=1948<br>Cumulated character influence score=%{x}<extra></extra>",
           "legendgroup": "United States of America",
           "marker": {
            "color": "#EF553B",
            "pattern": {
             "shape": ""
            }
           },
           "name": "United States of America",
           "offsetgroup": "United States of America",
           "orientation": "h",
           "showlegend": true,
           "textposition": "auto",
           "type": "bar",
           "x": [
            5
           ],
           "xaxis": "x",
           "y": [
            "United States of America"
           ],
           "yaxis": "y"
          },
          {
           "alignmentgroup": "True",
           "hovertemplate": "Countries=%{y}<br>release_year=1948<br>Cumulated character influence score=%{x}<extra></extra>",
           "legendgroup": "Brazil",
           "marker": {
            "color": "#00cc96",
            "pattern": {
             "shape": ""
            }
           },
           "name": "Brazil",
           "offsetgroup": "Brazil",
           "orientation": "h",
           "showlegend": true,
           "textposition": "auto",
           "type": "bar",
           "x": [
            0
           ],
           "xaxis": "x",
           "y": [
            "Brazil"
           ],
           "yaxis": "y"
          },
          {
           "alignmentgroup": "True",
           "hovertemplate": "Countries=%{y}<br>release_year=1948<br>Cumulated character influence score=%{x}<extra></extra>",
           "legendgroup": "Netherlands",
           "marker": {
            "color": "#ab63fa",
            "pattern": {
             "shape": ""
            }
           },
           "name": "Netherlands",
           "offsetgroup": "Netherlands",
           "orientation": "h",
           "showlegend": true,
           "textposition": "auto",
           "type": "bar",
           "x": [
            0
           ],
           "xaxis": "x",
           "y": [
            "Netherlands"
           ],
           "yaxis": "y"
          },
          {
           "alignmentgroup": "True",
           "hovertemplate": "Countries=%{y}<br>release_year=1948<br>Cumulated character influence score=%{x}<extra></extra>",
           "legendgroup": "France",
           "marker": {
            "color": "#19d3f3",
            "pattern": {
             "shape": ""
            }
           },
           "name": "France",
           "offsetgroup": "France",
           "orientation": "h",
           "showlegend": true,
           "textposition": "auto",
           "type": "bar",
           "x": [
            1
           ],
           "xaxis": "x",
           "y": [
            "France"
           ],
           "yaxis": "y"
          },
          {
           "alignmentgroup": "True",
           "hovertemplate": "Countries=%{y}<br>release_year=1948<br>Cumulated character influence score=%{x}<extra></extra>",
           "legendgroup": "Czech Republic",
           "marker": {
            "color": "#FF6692",
            "pattern": {
             "shape": ""
            }
           },
           "name": "Czech Republic",
           "offsetgroup": "Czech Republic",
           "orientation": "h",
           "showlegend": true,
           "textposition": "auto",
           "type": "bar",
           "x": [
            1
           ],
           "xaxis": "x",
           "y": [
            "Czech Republic"
           ],
           "yaxis": "y"
          },
          {
           "alignmentgroup": "True",
           "hovertemplate": "Countries=%{y}<br>release_year=1948<br>Cumulated character influence score=%{x}<extra></extra>",
           "legendgroup": "United Kingdom",
           "marker": {
            "color": "#FECB52",
            "pattern": {
             "shape": ""
            }
           },
           "name": "United Kingdom",
           "offsetgroup": "United Kingdom",
           "orientation": "h",
           "showlegend": true,
           "textposition": "auto",
           "type": "bar",
           "x": [
            32
           ],
           "xaxis": "x",
           "y": [
            "United Kingdom"
           ],
           "yaxis": "y"
          },
          {
           "alignmentgroup": "True",
           "hovertemplate": "Countries=%{y}<br>release_year=1948<br>Cumulated character influence score=%{x}<extra></extra>",
           "legendgroup": "Romania",
           "marker": {
            "color": "#636efa",
            "pattern": {
             "shape": ""
            }
           },
           "name": "Romania",
           "offsetgroup": "Romania",
           "orientation": "h",
           "showlegend": true,
           "textposition": "auto",
           "type": "bar",
           "x": [
            1
           ],
           "xaxis": "x",
           "y": [
            "Romania"
           ],
           "yaxis": "y"
          },
          {
           "alignmentgroup": "True",
           "hovertemplate": "Countries=%{y}<br>release_year=1948<br>Cumulated character influence score=%{x}<extra></extra>",
           "legendgroup": "Soviet Union",
           "marker": {
            "color": "#EF553B",
            "pattern": {
             "shape": ""
            }
           },
           "name": "Soviet Union",
           "offsetgroup": "Soviet Union",
           "orientation": "h",
           "showlegend": true,
           "textposition": "auto",
           "type": "bar",
           "x": [
            1
           ],
           "xaxis": "x",
           "y": [
            "Soviet Union"
           ],
           "yaxis": "y"
          },
          {
           "alignmentgroup": "True",
           "hovertemplate": "Countries=%{y}<br>release_year=1948<br>Cumulated character influence score=%{x}<extra></extra>",
           "legendgroup": "Ireland",
           "marker": {
            "color": "#00cc96",
            "pattern": {
             "shape": ""
            }
           },
           "name": "Ireland",
           "offsetgroup": "Ireland",
           "orientation": "h",
           "showlegend": true,
           "textposition": "auto",
           "type": "bar",
           "x": [
            1
           ],
           "xaxis": "x",
           "y": [
            "Ireland"
           ],
           "yaxis": "y"
          }
         ],
         "name": "1948"
        },
        {
         "data": [
          {
           "alignmentgroup": "True",
           "hovertemplate": "Countries=%{y}<br>release_year=1949<br>Cumulated character influence score=%{x}<extra></extra>",
           "legendgroup": "Germany",
           "marker": {
            "color": "#636efa",
            "pattern": {
             "shape": ""
            }
           },
           "name": "Germany",
           "offsetgroup": "Germany",
           "orientation": "h",
           "showlegend": true,
           "textposition": "auto",
           "type": "bar",
           "x": [
            1
           ],
           "xaxis": "x",
           "y": [
            "Germany"
           ],
           "yaxis": "y"
          },
          {
           "alignmentgroup": "True",
           "hovertemplate": "Countries=%{y}<br>release_year=1949<br>Cumulated character influence score=%{x}<extra></extra>",
           "legendgroup": "United States of America",
           "marker": {
            "color": "#EF553B",
            "pattern": {
             "shape": ""
            }
           },
           "name": "United States of America",
           "offsetgroup": "United States of America",
           "orientation": "h",
           "showlegend": true,
           "textposition": "auto",
           "type": "bar",
           "x": [
            5
           ],
           "xaxis": "x",
           "y": [
            "United States of America"
           ],
           "yaxis": "y"
          },
          {
           "alignmentgroup": "True",
           "hovertemplate": "Countries=%{y}<br>release_year=1949<br>Cumulated character influence score=%{x}<extra></extra>",
           "legendgroup": "Brazil",
           "marker": {
            "color": "#00cc96",
            "pattern": {
             "shape": ""
            }
           },
           "name": "Brazil",
           "offsetgroup": "Brazil",
           "orientation": "h",
           "showlegend": true,
           "textposition": "auto",
           "type": "bar",
           "x": [
            0
           ],
           "xaxis": "x",
           "y": [
            "Brazil"
           ],
           "yaxis": "y"
          },
          {
           "alignmentgroup": "True",
           "hovertemplate": "Countries=%{y}<br>release_year=1949<br>Cumulated character influence score=%{x}<extra></extra>",
           "legendgroup": "Netherlands",
           "marker": {
            "color": "#ab63fa",
            "pattern": {
             "shape": ""
            }
           },
           "name": "Netherlands",
           "offsetgroup": "Netherlands",
           "orientation": "h",
           "showlegend": true,
           "textposition": "auto",
           "type": "bar",
           "x": [
            0
           ],
           "xaxis": "x",
           "y": [
            "Netherlands"
           ],
           "yaxis": "y"
          },
          {
           "alignmentgroup": "True",
           "hovertemplate": "Countries=%{y}<br>release_year=1949<br>Cumulated character influence score=%{x}<extra></extra>",
           "legendgroup": "France",
           "marker": {
            "color": "#19d3f3",
            "pattern": {
             "shape": ""
            }
           },
           "name": "France",
           "offsetgroup": "France",
           "orientation": "h",
           "showlegend": true,
           "textposition": "auto",
           "type": "bar",
           "x": [
            1
           ],
           "xaxis": "x",
           "y": [
            "France"
           ],
           "yaxis": "y"
          },
          {
           "alignmentgroup": "True",
           "hovertemplate": "Countries=%{y}<br>release_year=1949<br>Cumulated character influence score=%{x}<extra></extra>",
           "legendgroup": "Czech Republic",
           "marker": {
            "color": "#FF6692",
            "pattern": {
             "shape": ""
            }
           },
           "name": "Czech Republic",
           "offsetgroup": "Czech Republic",
           "orientation": "h",
           "showlegend": true,
           "textposition": "auto",
           "type": "bar",
           "x": [
            1
           ],
           "xaxis": "x",
           "y": [
            "Czech Republic"
           ],
           "yaxis": "y"
          },
          {
           "alignmentgroup": "True",
           "hovertemplate": "Countries=%{y}<br>release_year=1949<br>Cumulated character influence score=%{x}<extra></extra>",
           "legendgroup": "United Kingdom",
           "marker": {
            "color": "#FECB52",
            "pattern": {
             "shape": ""
            }
           },
           "name": "United Kingdom",
           "offsetgroup": "United Kingdom",
           "orientation": "h",
           "showlegend": true,
           "textposition": "auto",
           "type": "bar",
           "x": [
            35
           ],
           "xaxis": "x",
           "y": [
            "United Kingdom"
           ],
           "yaxis": "y"
          },
          {
           "alignmentgroup": "True",
           "hovertemplate": "Countries=%{y}<br>release_year=1949<br>Cumulated character influence score=%{x}<extra></extra>",
           "legendgroup": "Romania",
           "marker": {
            "color": "#636efa",
            "pattern": {
             "shape": ""
            }
           },
           "name": "Romania",
           "offsetgroup": "Romania",
           "orientation": "h",
           "showlegend": true,
           "textposition": "auto",
           "type": "bar",
           "x": [
            1
           ],
           "xaxis": "x",
           "y": [
            "Romania"
           ],
           "yaxis": "y"
          },
          {
           "alignmentgroup": "True",
           "hovertemplate": "Countries=%{y}<br>release_year=1949<br>Cumulated character influence score=%{x}<extra></extra>",
           "legendgroup": "Soviet Union",
           "marker": {
            "color": "#EF553B",
            "pattern": {
             "shape": ""
            }
           },
           "name": "Soviet Union",
           "offsetgroup": "Soviet Union",
           "orientation": "h",
           "showlegend": true,
           "textposition": "auto",
           "type": "bar",
           "x": [
            1
           ],
           "xaxis": "x",
           "y": [
            "Soviet Union"
           ],
           "yaxis": "y"
          },
          {
           "alignmentgroup": "True",
           "hovertemplate": "Countries=%{y}<br>release_year=1949<br>Cumulated character influence score=%{x}<extra></extra>",
           "legendgroup": "Ireland",
           "marker": {
            "color": "#00cc96",
            "pattern": {
             "shape": ""
            }
           },
           "name": "Ireland",
           "offsetgroup": "Ireland",
           "orientation": "h",
           "showlegend": true,
           "textposition": "auto",
           "type": "bar",
           "x": [
            1
           ],
           "xaxis": "x",
           "y": [
            "Ireland"
           ],
           "yaxis": "y"
          }
         ],
         "name": "1949"
        },
        {
         "data": [
          {
           "alignmentgroup": "True",
           "hovertemplate": "Countries=%{y}<br>release_year=1950<br>Cumulated character influence score=%{x}<extra></extra>",
           "legendgroup": "Germany",
           "marker": {
            "color": "#636efa",
            "pattern": {
             "shape": ""
            }
           },
           "name": "Germany",
           "offsetgroup": "Germany",
           "orientation": "h",
           "showlegend": true,
           "textposition": "auto",
           "type": "bar",
           "x": [
            1
           ],
           "xaxis": "x",
           "y": [
            "Germany"
           ],
           "yaxis": "y"
          },
          {
           "alignmentgroup": "True",
           "hovertemplate": "Countries=%{y}<br>release_year=1950<br>Cumulated character influence score=%{x}<extra></extra>",
           "legendgroup": "United States of America",
           "marker": {
            "color": "#EF553B",
            "pattern": {
             "shape": ""
            }
           },
           "name": "United States of America",
           "offsetgroup": "United States of America",
           "orientation": "h",
           "showlegend": true,
           "textposition": "auto",
           "type": "bar",
           "x": [
            6
           ],
           "xaxis": "x",
           "y": [
            "United States of America"
           ],
           "yaxis": "y"
          },
          {
           "alignmentgroup": "True",
           "hovertemplate": "Countries=%{y}<br>release_year=1950<br>Cumulated character influence score=%{x}<extra></extra>",
           "legendgroup": "Brazil",
           "marker": {
            "color": "#00cc96",
            "pattern": {
             "shape": ""
            }
           },
           "name": "Brazil",
           "offsetgroup": "Brazil",
           "orientation": "h",
           "showlegend": true,
           "textposition": "auto",
           "type": "bar",
           "x": [
            0
           ],
           "xaxis": "x",
           "y": [
            "Brazil"
           ],
           "yaxis": "y"
          },
          {
           "alignmentgroup": "True",
           "hovertemplate": "Countries=%{y}<br>release_year=1950<br>Cumulated character influence score=%{x}<extra></extra>",
           "legendgroup": "Netherlands",
           "marker": {
            "color": "#ab63fa",
            "pattern": {
             "shape": ""
            }
           },
           "name": "Netherlands",
           "offsetgroup": "Netherlands",
           "orientation": "h",
           "showlegend": true,
           "textposition": "auto",
           "type": "bar",
           "x": [
            0
           ],
           "xaxis": "x",
           "y": [
            "Netherlands"
           ],
           "yaxis": "y"
          },
          {
           "alignmentgroup": "True",
           "hovertemplate": "Countries=%{y}<br>release_year=1950<br>Cumulated character influence score=%{x}<extra></extra>",
           "legendgroup": "France",
           "marker": {
            "color": "#19d3f3",
            "pattern": {
             "shape": ""
            }
           },
           "name": "France",
           "offsetgroup": "France",
           "orientation": "h",
           "showlegend": true,
           "textposition": "auto",
           "type": "bar",
           "x": [
            1
           ],
           "xaxis": "x",
           "y": [
            "France"
           ],
           "yaxis": "y"
          },
          {
           "alignmentgroup": "True",
           "hovertemplate": "Countries=%{y}<br>release_year=1950<br>Cumulated character influence score=%{x}<extra></extra>",
           "legendgroup": "Czech Republic",
           "marker": {
            "color": "#FF6692",
            "pattern": {
             "shape": ""
            }
           },
           "name": "Czech Republic",
           "offsetgroup": "Czech Republic",
           "orientation": "h",
           "showlegend": true,
           "textposition": "auto",
           "type": "bar",
           "x": [
            1
           ],
           "xaxis": "x",
           "y": [
            "Czech Republic"
           ],
           "yaxis": "y"
          },
          {
           "alignmentgroup": "True",
           "hovertemplate": "Countries=%{y}<br>release_year=1950<br>Cumulated character influence score=%{x}<extra></extra>",
           "legendgroup": "United Kingdom",
           "marker": {
            "color": "#FECB52",
            "pattern": {
             "shape": ""
            }
           },
           "name": "United Kingdom",
           "offsetgroup": "United Kingdom",
           "orientation": "h",
           "showlegend": true,
           "textposition": "auto",
           "type": "bar",
           "x": [
            39
           ],
           "xaxis": "x",
           "y": [
            "United Kingdom"
           ],
           "yaxis": "y"
          },
          {
           "alignmentgroup": "True",
           "hovertemplate": "Countries=%{y}<br>release_year=1950<br>Cumulated character influence score=%{x}<extra></extra>",
           "legendgroup": "Romania",
           "marker": {
            "color": "#636efa",
            "pattern": {
             "shape": ""
            }
           },
           "name": "Romania",
           "offsetgroup": "Romania",
           "orientation": "h",
           "showlegend": true,
           "textposition": "auto",
           "type": "bar",
           "x": [
            1
           ],
           "xaxis": "x",
           "y": [
            "Romania"
           ],
           "yaxis": "y"
          },
          {
           "alignmentgroup": "True",
           "hovertemplate": "Countries=%{y}<br>release_year=1950<br>Cumulated character influence score=%{x}<extra></extra>",
           "legendgroup": "Soviet Union",
           "marker": {
            "color": "#EF553B",
            "pattern": {
             "shape": ""
            }
           },
           "name": "Soviet Union",
           "offsetgroup": "Soviet Union",
           "orientation": "h",
           "showlegend": true,
           "textposition": "auto",
           "type": "bar",
           "x": [
            1
           ],
           "xaxis": "x",
           "y": [
            "Soviet Union"
           ],
           "yaxis": "y"
          },
          {
           "alignmentgroup": "True",
           "hovertemplate": "Countries=%{y}<br>release_year=1950<br>Cumulated character influence score=%{x}<extra></extra>",
           "legendgroup": "Ireland",
           "marker": {
            "color": "#00cc96",
            "pattern": {
             "shape": ""
            }
           },
           "name": "Ireland",
           "offsetgroup": "Ireland",
           "orientation": "h",
           "showlegend": true,
           "textposition": "auto",
           "type": "bar",
           "x": [
            1
           ],
           "xaxis": "x",
           "y": [
            "Ireland"
           ],
           "yaxis": "y"
          }
         ],
         "name": "1950"
        },
        {
         "data": [
          {
           "alignmentgroup": "True",
           "hovertemplate": "Countries=%{y}<br>release_year=1951<br>Cumulated character influence score=%{x}<extra></extra>",
           "legendgroup": "Germany",
           "marker": {
            "color": "#636efa",
            "pattern": {
             "shape": ""
            }
           },
           "name": "Germany",
           "offsetgroup": "Germany",
           "orientation": "h",
           "showlegend": true,
           "textposition": "auto",
           "type": "bar",
           "x": [
            1
           ],
           "xaxis": "x",
           "y": [
            "Germany"
           ],
           "yaxis": "y"
          },
          {
           "alignmentgroup": "True",
           "hovertemplate": "Countries=%{y}<br>release_year=1951<br>Cumulated character influence score=%{x}<extra></extra>",
           "legendgroup": "United States of America",
           "marker": {
            "color": "#EF553B",
            "pattern": {
             "shape": ""
            }
           },
           "name": "United States of America",
           "offsetgroup": "United States of America",
           "orientation": "h",
           "showlegend": true,
           "textposition": "auto",
           "type": "bar",
           "x": [
            7
           ],
           "xaxis": "x",
           "y": [
            "United States of America"
           ],
           "yaxis": "y"
          },
          {
           "alignmentgroup": "True",
           "hovertemplate": "Countries=%{y}<br>release_year=1951<br>Cumulated character influence score=%{x}<extra></extra>",
           "legendgroup": "Brazil",
           "marker": {
            "color": "#00cc96",
            "pattern": {
             "shape": ""
            }
           },
           "name": "Brazil",
           "offsetgroup": "Brazil",
           "orientation": "h",
           "showlegend": true,
           "textposition": "auto",
           "type": "bar",
           "x": [
            0
           ],
           "xaxis": "x",
           "y": [
            "Brazil"
           ],
           "yaxis": "y"
          },
          {
           "alignmentgroup": "True",
           "hovertemplate": "Countries=%{y}<br>release_year=1951<br>Cumulated character influence score=%{x}<extra></extra>",
           "legendgroup": "Netherlands",
           "marker": {
            "color": "#ab63fa",
            "pattern": {
             "shape": ""
            }
           },
           "name": "Netherlands",
           "offsetgroup": "Netherlands",
           "orientation": "h",
           "showlegend": true,
           "textposition": "auto",
           "type": "bar",
           "x": [
            0
           ],
           "xaxis": "x",
           "y": [
            "Netherlands"
           ],
           "yaxis": "y"
          },
          {
           "alignmentgroup": "True",
           "hovertemplate": "Countries=%{y}<br>release_year=1951<br>Cumulated character influence score=%{x}<extra></extra>",
           "legendgroup": "France",
           "marker": {
            "color": "#19d3f3",
            "pattern": {
             "shape": ""
            }
           },
           "name": "France",
           "offsetgroup": "France",
           "orientation": "h",
           "showlegend": true,
           "textposition": "auto",
           "type": "bar",
           "x": [
            1
           ],
           "xaxis": "x",
           "y": [
            "France"
           ],
           "yaxis": "y"
          },
          {
           "alignmentgroup": "True",
           "hovertemplate": "Countries=%{y}<br>release_year=1951<br>Cumulated character influence score=%{x}<extra></extra>",
           "legendgroup": "Czech Republic",
           "marker": {
            "color": "#FF6692",
            "pattern": {
             "shape": ""
            }
           },
           "name": "Czech Republic",
           "offsetgroup": "Czech Republic",
           "orientation": "h",
           "showlegend": true,
           "textposition": "auto",
           "type": "bar",
           "x": [
            1
           ],
           "xaxis": "x",
           "y": [
            "Czech Republic"
           ],
           "yaxis": "y"
          },
          {
           "alignmentgroup": "True",
           "hovertemplate": "Countries=%{y}<br>release_year=1951<br>Cumulated character influence score=%{x}<extra></extra>",
           "legendgroup": "United Kingdom",
           "marker": {
            "color": "#FECB52",
            "pattern": {
             "shape": ""
            }
           },
           "name": "United Kingdom",
           "offsetgroup": "United Kingdom",
           "orientation": "h",
           "showlegend": true,
           "textposition": "auto",
           "type": "bar",
           "x": [
            40
           ],
           "xaxis": "x",
           "y": [
            "United Kingdom"
           ],
           "yaxis": "y"
          },
          {
           "alignmentgroup": "True",
           "hovertemplate": "Countries=%{y}<br>release_year=1951<br>Cumulated character influence score=%{x}<extra></extra>",
           "legendgroup": "Romania",
           "marker": {
            "color": "#636efa",
            "pattern": {
             "shape": ""
            }
           },
           "name": "Romania",
           "offsetgroup": "Romania",
           "orientation": "h",
           "showlegend": true,
           "textposition": "auto",
           "type": "bar",
           "x": [
            1
           ],
           "xaxis": "x",
           "y": [
            "Romania"
           ],
           "yaxis": "y"
          },
          {
           "alignmentgroup": "True",
           "hovertemplate": "Countries=%{y}<br>release_year=1951<br>Cumulated character influence score=%{x}<extra></extra>",
           "legendgroup": "Soviet Union",
           "marker": {
            "color": "#EF553B",
            "pattern": {
             "shape": ""
            }
           },
           "name": "Soviet Union",
           "offsetgroup": "Soviet Union",
           "orientation": "h",
           "showlegend": true,
           "textposition": "auto",
           "type": "bar",
           "x": [
            1
           ],
           "xaxis": "x",
           "y": [
            "Soviet Union"
           ],
           "yaxis": "y"
          },
          {
           "alignmentgroup": "True",
           "hovertemplate": "Countries=%{y}<br>release_year=1951<br>Cumulated character influence score=%{x}<extra></extra>",
           "legendgroup": "Ireland",
           "marker": {
            "color": "#00cc96",
            "pattern": {
             "shape": ""
            }
           },
           "name": "Ireland",
           "offsetgroup": "Ireland",
           "orientation": "h",
           "showlegend": true,
           "textposition": "auto",
           "type": "bar",
           "x": [
            1
           ],
           "xaxis": "x",
           "y": [
            "Ireland"
           ],
           "yaxis": "y"
          }
         ],
         "name": "1951"
        },
        {
         "data": [
          {
           "alignmentgroup": "True",
           "hovertemplate": "Countries=%{y}<br>release_year=1952<br>Cumulated character influence score=%{x}<extra></extra>",
           "legendgroup": "Germany",
           "marker": {
            "color": "#636efa",
            "pattern": {
             "shape": ""
            }
           },
           "name": "Germany",
           "offsetgroup": "Germany",
           "orientation": "h",
           "showlegend": true,
           "textposition": "auto",
           "type": "bar",
           "x": [
            1
           ],
           "xaxis": "x",
           "y": [
            "Germany"
           ],
           "yaxis": "y"
          },
          {
           "alignmentgroup": "True",
           "hovertemplate": "Countries=%{y}<br>release_year=1952<br>Cumulated character influence score=%{x}<extra></extra>",
           "legendgroup": "United States of America",
           "marker": {
            "color": "#EF553B",
            "pattern": {
             "shape": ""
            }
           },
           "name": "United States of America",
           "offsetgroup": "United States of America",
           "orientation": "h",
           "showlegend": true,
           "textposition": "auto",
           "type": "bar",
           "x": [
            7
           ],
           "xaxis": "x",
           "y": [
            "United States of America"
           ],
           "yaxis": "y"
          },
          {
           "alignmentgroup": "True",
           "hovertemplate": "Countries=%{y}<br>release_year=1952<br>Cumulated character influence score=%{x}<extra></extra>",
           "legendgroup": "Brazil",
           "marker": {
            "color": "#00cc96",
            "pattern": {
             "shape": ""
            }
           },
           "name": "Brazil",
           "offsetgroup": "Brazil",
           "orientation": "h",
           "showlegend": true,
           "textposition": "auto",
           "type": "bar",
           "x": [
            0
           ],
           "xaxis": "x",
           "y": [
            "Brazil"
           ],
           "yaxis": "y"
          },
          {
           "alignmentgroup": "True",
           "hovertemplate": "Countries=%{y}<br>release_year=1952<br>Cumulated character influence score=%{x}<extra></extra>",
           "legendgroup": "Netherlands",
           "marker": {
            "color": "#ab63fa",
            "pattern": {
             "shape": ""
            }
           },
           "name": "Netherlands",
           "offsetgroup": "Netherlands",
           "orientation": "h",
           "showlegend": true,
           "textposition": "auto",
           "type": "bar",
           "x": [
            0
           ],
           "xaxis": "x",
           "y": [
            "Netherlands"
           ],
           "yaxis": "y"
          },
          {
           "alignmentgroup": "True",
           "hovertemplate": "Countries=%{y}<br>release_year=1952<br>Cumulated character influence score=%{x}<extra></extra>",
           "legendgroup": "France",
           "marker": {
            "color": "#19d3f3",
            "pattern": {
             "shape": ""
            }
           },
           "name": "France",
           "offsetgroup": "France",
           "orientation": "h",
           "showlegend": true,
           "textposition": "auto",
           "type": "bar",
           "x": [
            1
           ],
           "xaxis": "x",
           "y": [
            "France"
           ],
           "yaxis": "y"
          },
          {
           "alignmentgroup": "True",
           "hovertemplate": "Countries=%{y}<br>release_year=1952<br>Cumulated character influence score=%{x}<extra></extra>",
           "legendgroup": "Czech Republic",
           "marker": {
            "color": "#FF6692",
            "pattern": {
             "shape": ""
            }
           },
           "name": "Czech Republic",
           "offsetgroup": "Czech Republic",
           "orientation": "h",
           "showlegend": true,
           "textposition": "auto",
           "type": "bar",
           "x": [
            1
           ],
           "xaxis": "x",
           "y": [
            "Czech Republic"
           ],
           "yaxis": "y"
          },
          {
           "alignmentgroup": "True",
           "hovertemplate": "Countries=%{y}<br>release_year=1952<br>Cumulated character influence score=%{x}<extra></extra>",
           "legendgroup": "United Kingdom",
           "marker": {
            "color": "#FECB52",
            "pattern": {
             "shape": ""
            }
           },
           "name": "United Kingdom",
           "offsetgroup": "United Kingdom",
           "orientation": "h",
           "showlegend": true,
           "textposition": "auto",
           "type": "bar",
           "x": [
            40
           ],
           "xaxis": "x",
           "y": [
            "United Kingdom"
           ],
           "yaxis": "y"
          },
          {
           "alignmentgroup": "True",
           "hovertemplate": "Countries=%{y}<br>release_year=1952<br>Cumulated character influence score=%{x}<extra></extra>",
           "legendgroup": "Romania",
           "marker": {
            "color": "#636efa",
            "pattern": {
             "shape": ""
            }
           },
           "name": "Romania",
           "offsetgroup": "Romania",
           "orientation": "h",
           "showlegend": true,
           "textposition": "auto",
           "type": "bar",
           "x": [
            1
           ],
           "xaxis": "x",
           "y": [
            "Romania"
           ],
           "yaxis": "y"
          },
          {
           "alignmentgroup": "True",
           "hovertemplate": "Countries=%{y}<br>release_year=1952<br>Cumulated character influence score=%{x}<extra></extra>",
           "legendgroup": "Soviet Union",
           "marker": {
            "color": "#EF553B",
            "pattern": {
             "shape": ""
            }
           },
           "name": "Soviet Union",
           "offsetgroup": "Soviet Union",
           "orientation": "h",
           "showlegend": true,
           "textposition": "auto",
           "type": "bar",
           "x": [
            1
           ],
           "xaxis": "x",
           "y": [
            "Soviet Union"
           ],
           "yaxis": "y"
          },
          {
           "alignmentgroup": "True",
           "hovertemplate": "Countries=%{y}<br>release_year=1952<br>Cumulated character influence score=%{x}<extra></extra>",
           "legendgroup": "Ireland",
           "marker": {
            "color": "#00cc96",
            "pattern": {
             "shape": ""
            }
           },
           "name": "Ireland",
           "offsetgroup": "Ireland",
           "orientation": "h",
           "showlegend": true,
           "textposition": "auto",
           "type": "bar",
           "x": [
            1
           ],
           "xaxis": "x",
           "y": [
            "Ireland"
           ],
           "yaxis": "y"
          }
         ],
         "name": "1952"
        },
        {
         "data": [
          {
           "alignmentgroup": "True",
           "hovertemplate": "Countries=%{y}<br>release_year=1953<br>Cumulated character influence score=%{x}<extra></extra>",
           "legendgroup": "Germany",
           "marker": {
            "color": "#636efa",
            "pattern": {
             "shape": ""
            }
           },
           "name": "Germany",
           "offsetgroup": "Germany",
           "orientation": "h",
           "showlegend": true,
           "textposition": "auto",
           "type": "bar",
           "x": [
            1
           ],
           "xaxis": "x",
           "y": [
            "Germany"
           ],
           "yaxis": "y"
          },
          {
           "alignmentgroup": "True",
           "hovertemplate": "Countries=%{y}<br>release_year=1953<br>Cumulated character influence score=%{x}<extra></extra>",
           "legendgroup": "United States of America",
           "marker": {
            "color": "#EF553B",
            "pattern": {
             "shape": ""
            }
           },
           "name": "United States of America",
           "offsetgroup": "United States of America",
           "orientation": "h",
           "showlegend": true,
           "textposition": "auto",
           "type": "bar",
           "x": [
            7
           ],
           "xaxis": "x",
           "y": [
            "United States of America"
           ],
           "yaxis": "y"
          },
          {
           "alignmentgroup": "True",
           "hovertemplate": "Countries=%{y}<br>release_year=1953<br>Cumulated character influence score=%{x}<extra></extra>",
           "legendgroup": "Brazil",
           "marker": {
            "color": "#00cc96",
            "pattern": {
             "shape": ""
            }
           },
           "name": "Brazil",
           "offsetgroup": "Brazil",
           "orientation": "h",
           "showlegend": true,
           "textposition": "auto",
           "type": "bar",
           "x": [
            0
           ],
           "xaxis": "x",
           "y": [
            "Brazil"
           ],
           "yaxis": "y"
          },
          {
           "alignmentgroup": "True",
           "hovertemplate": "Countries=%{y}<br>release_year=1953<br>Cumulated character influence score=%{x}<extra></extra>",
           "legendgroup": "Netherlands",
           "marker": {
            "color": "#ab63fa",
            "pattern": {
             "shape": ""
            }
           },
           "name": "Netherlands",
           "offsetgroup": "Netherlands",
           "orientation": "h",
           "showlegend": true,
           "textposition": "auto",
           "type": "bar",
           "x": [
            0
           ],
           "xaxis": "x",
           "y": [
            "Netherlands"
           ],
           "yaxis": "y"
          },
          {
           "alignmentgroup": "True",
           "hovertemplate": "Countries=%{y}<br>release_year=1953<br>Cumulated character influence score=%{x}<extra></extra>",
           "legendgroup": "France",
           "marker": {
            "color": "#19d3f3",
            "pattern": {
             "shape": ""
            }
           },
           "name": "France",
           "offsetgroup": "France",
           "orientation": "h",
           "showlegend": true,
           "textposition": "auto",
           "type": "bar",
           "x": [
            1
           ],
           "xaxis": "x",
           "y": [
            "France"
           ],
           "yaxis": "y"
          },
          {
           "alignmentgroup": "True",
           "hovertemplate": "Countries=%{y}<br>release_year=1953<br>Cumulated character influence score=%{x}<extra></extra>",
           "legendgroup": "Czech Republic",
           "marker": {
            "color": "#FF6692",
            "pattern": {
             "shape": ""
            }
           },
           "name": "Czech Republic",
           "offsetgroup": "Czech Republic",
           "orientation": "h",
           "showlegend": true,
           "textposition": "auto",
           "type": "bar",
           "x": [
            1
           ],
           "xaxis": "x",
           "y": [
            "Czech Republic"
           ],
           "yaxis": "y"
          },
          {
           "alignmentgroup": "True",
           "hovertemplate": "Countries=%{y}<br>release_year=1953<br>Cumulated character influence score=%{x}<extra></extra>",
           "legendgroup": "United Kingdom",
           "marker": {
            "color": "#FECB52",
            "pattern": {
             "shape": ""
            }
           },
           "name": "United Kingdom",
           "offsetgroup": "United Kingdom",
           "orientation": "h",
           "showlegend": true,
           "textposition": "auto",
           "type": "bar",
           "x": [
            44
           ],
           "xaxis": "x",
           "y": [
            "United Kingdom"
           ],
           "yaxis": "y"
          },
          {
           "alignmentgroup": "True",
           "hovertemplate": "Countries=%{y}<br>release_year=1953<br>Cumulated character influence score=%{x}<extra></extra>",
           "legendgroup": "Romania",
           "marker": {
            "color": "#636efa",
            "pattern": {
             "shape": ""
            }
           },
           "name": "Romania",
           "offsetgroup": "Romania",
           "orientation": "h",
           "showlegend": true,
           "textposition": "auto",
           "type": "bar",
           "x": [
            1
           ],
           "xaxis": "x",
           "y": [
            "Romania"
           ],
           "yaxis": "y"
          },
          {
           "alignmentgroup": "True",
           "hovertemplate": "Countries=%{y}<br>release_year=1953<br>Cumulated character influence score=%{x}<extra></extra>",
           "legendgroup": "Soviet Union",
           "marker": {
            "color": "#EF553B",
            "pattern": {
             "shape": ""
            }
           },
           "name": "Soviet Union",
           "offsetgroup": "Soviet Union",
           "orientation": "h",
           "showlegend": true,
           "textposition": "auto",
           "type": "bar",
           "x": [
            1
           ],
           "xaxis": "x",
           "y": [
            "Soviet Union"
           ],
           "yaxis": "y"
          },
          {
           "alignmentgroup": "True",
           "hovertemplate": "Countries=%{y}<br>release_year=1953<br>Cumulated character influence score=%{x}<extra></extra>",
           "legendgroup": "Ireland",
           "marker": {
            "color": "#00cc96",
            "pattern": {
             "shape": ""
            }
           },
           "name": "Ireland",
           "offsetgroup": "Ireland",
           "orientation": "h",
           "showlegend": true,
           "textposition": "auto",
           "type": "bar",
           "x": [
            1
           ],
           "xaxis": "x",
           "y": [
            "Ireland"
           ],
           "yaxis": "y"
          }
         ],
         "name": "1953"
        },
        {
         "data": [
          {
           "alignmentgroup": "True",
           "hovertemplate": "Countries=%{y}<br>release_year=1954<br>Cumulated character influence score=%{x}<extra></extra>",
           "legendgroup": "Germany",
           "marker": {
            "color": "#636efa",
            "pattern": {
             "shape": ""
            }
           },
           "name": "Germany",
           "offsetgroup": "Germany",
           "orientation": "h",
           "showlegend": true,
           "textposition": "auto",
           "type": "bar",
           "x": [
            2
           ],
           "xaxis": "x",
           "y": [
            "Germany"
           ],
           "yaxis": "y"
          },
          {
           "alignmentgroup": "True",
           "hovertemplate": "Countries=%{y}<br>release_year=1954<br>Cumulated character influence score=%{x}<extra></extra>",
           "legendgroup": "United States of America",
           "marker": {
            "color": "#EF553B",
            "pattern": {
             "shape": ""
            }
           },
           "name": "United States of America",
           "offsetgroup": "United States of America",
           "orientation": "h",
           "showlegend": true,
           "textposition": "auto",
           "type": "bar",
           "x": [
            7
           ],
           "xaxis": "x",
           "y": [
            "United States of America"
           ],
           "yaxis": "y"
          },
          {
           "alignmentgroup": "True",
           "hovertemplate": "Countries=%{y}<br>release_year=1954<br>Cumulated character influence score=%{x}<extra></extra>",
           "legendgroup": "Brazil",
           "marker": {
            "color": "#00cc96",
            "pattern": {
             "shape": ""
            }
           },
           "name": "Brazil",
           "offsetgroup": "Brazil",
           "orientation": "h",
           "showlegend": true,
           "textposition": "auto",
           "type": "bar",
           "x": [
            0
           ],
           "xaxis": "x",
           "y": [
            "Brazil"
           ],
           "yaxis": "y"
          },
          {
           "alignmentgroup": "True",
           "hovertemplate": "Countries=%{y}<br>release_year=1954<br>Cumulated character influence score=%{x}<extra></extra>",
           "legendgroup": "Netherlands",
           "marker": {
            "color": "#ab63fa",
            "pattern": {
             "shape": ""
            }
           },
           "name": "Netherlands",
           "offsetgroup": "Netherlands",
           "orientation": "h",
           "showlegend": true,
           "textposition": "auto",
           "type": "bar",
           "x": [
            0
           ],
           "xaxis": "x",
           "y": [
            "Netherlands"
           ],
           "yaxis": "y"
          },
          {
           "alignmentgroup": "True",
           "hovertemplate": "Countries=%{y}<br>release_year=1954<br>Cumulated character influence score=%{x}<extra></extra>",
           "legendgroup": "France",
           "marker": {
            "color": "#19d3f3",
            "pattern": {
             "shape": ""
            }
           },
           "name": "France",
           "offsetgroup": "France",
           "orientation": "h",
           "showlegend": true,
           "textposition": "auto",
           "type": "bar",
           "x": [
            1
           ],
           "xaxis": "x",
           "y": [
            "France"
           ],
           "yaxis": "y"
          },
          {
           "alignmentgroup": "True",
           "hovertemplate": "Countries=%{y}<br>release_year=1954<br>Cumulated character influence score=%{x}<extra></extra>",
           "legendgroup": "Czech Republic",
           "marker": {
            "color": "#FF6692",
            "pattern": {
             "shape": ""
            }
           },
           "name": "Czech Republic",
           "offsetgroup": "Czech Republic",
           "orientation": "h",
           "showlegend": true,
           "textposition": "auto",
           "type": "bar",
           "x": [
            1
           ],
           "xaxis": "x",
           "y": [
            "Czech Republic"
           ],
           "yaxis": "y"
          },
          {
           "alignmentgroup": "True",
           "hovertemplate": "Countries=%{y}<br>release_year=1954<br>Cumulated character influence score=%{x}<extra></extra>",
           "legendgroup": "United Kingdom",
           "marker": {
            "color": "#FECB52",
            "pattern": {
             "shape": ""
            }
           },
           "name": "United Kingdom",
           "offsetgroup": "United Kingdom",
           "orientation": "h",
           "showlegend": true,
           "textposition": "auto",
           "type": "bar",
           "x": [
            47
           ],
           "xaxis": "x",
           "y": [
            "United Kingdom"
           ],
           "yaxis": "y"
          },
          {
           "alignmentgroup": "True",
           "hovertemplate": "Countries=%{y}<br>release_year=1954<br>Cumulated character influence score=%{x}<extra></extra>",
           "legendgroup": "Romania",
           "marker": {
            "color": "#636efa",
            "pattern": {
             "shape": ""
            }
           },
           "name": "Romania",
           "offsetgroup": "Romania",
           "orientation": "h",
           "showlegend": true,
           "textposition": "auto",
           "type": "bar",
           "x": [
            1
           ],
           "xaxis": "x",
           "y": [
            "Romania"
           ],
           "yaxis": "y"
          },
          {
           "alignmentgroup": "True",
           "hovertemplate": "Countries=%{y}<br>release_year=1954<br>Cumulated character influence score=%{x}<extra></extra>",
           "legendgroup": "Soviet Union",
           "marker": {
            "color": "#EF553B",
            "pattern": {
             "shape": ""
            }
           },
           "name": "Soviet Union",
           "offsetgroup": "Soviet Union",
           "orientation": "h",
           "showlegend": true,
           "textposition": "auto",
           "type": "bar",
           "x": [
            1
           ],
           "xaxis": "x",
           "y": [
            "Soviet Union"
           ],
           "yaxis": "y"
          },
          {
           "alignmentgroup": "True",
           "hovertemplate": "Countries=%{y}<br>release_year=1954<br>Cumulated character influence score=%{x}<extra></extra>",
           "legendgroup": "Ireland",
           "marker": {
            "color": "#00cc96",
            "pattern": {
             "shape": ""
            }
           },
           "name": "Ireland",
           "offsetgroup": "Ireland",
           "orientation": "h",
           "showlegend": true,
           "textposition": "auto",
           "type": "bar",
           "x": [
            1
           ],
           "xaxis": "x",
           "y": [
            "Ireland"
           ],
           "yaxis": "y"
          }
         ],
         "name": "1954"
        },
        {
         "data": [
          {
           "alignmentgroup": "True",
           "hovertemplate": "Countries=%{y}<br>release_year=1955<br>Cumulated character influence score=%{x}<extra></extra>",
           "legendgroup": "Germany",
           "marker": {
            "color": "#636efa",
            "pattern": {
             "shape": ""
            }
           },
           "name": "Germany",
           "offsetgroup": "Germany",
           "orientation": "h",
           "showlegend": true,
           "textposition": "auto",
           "type": "bar",
           "x": [
            2
           ],
           "xaxis": "x",
           "y": [
            "Germany"
           ],
           "yaxis": "y"
          },
          {
           "alignmentgroup": "True",
           "hovertemplate": "Countries=%{y}<br>release_year=1955<br>Cumulated character influence score=%{x}<extra></extra>",
           "legendgroup": "United States of America",
           "marker": {
            "color": "#EF553B",
            "pattern": {
             "shape": ""
            }
           },
           "name": "United States of America",
           "offsetgroup": "United States of America",
           "orientation": "h",
           "showlegend": true,
           "textposition": "auto",
           "type": "bar",
           "x": [
            7
           ],
           "xaxis": "x",
           "y": [
            "United States of America"
           ],
           "yaxis": "y"
          },
          {
           "alignmentgroup": "True",
           "hovertemplate": "Countries=%{y}<br>release_year=1955<br>Cumulated character influence score=%{x}<extra></extra>",
           "legendgroup": "Brazil",
           "marker": {
            "color": "#00cc96",
            "pattern": {
             "shape": ""
            }
           },
           "name": "Brazil",
           "offsetgroup": "Brazil",
           "orientation": "h",
           "showlegend": true,
           "textposition": "auto",
           "type": "bar",
           "x": [
            0
           ],
           "xaxis": "x",
           "y": [
            "Brazil"
           ],
           "yaxis": "y"
          },
          {
           "alignmentgroup": "True",
           "hovertemplate": "Countries=%{y}<br>release_year=1955<br>Cumulated character influence score=%{x}<extra></extra>",
           "legendgroup": "Netherlands",
           "marker": {
            "color": "#ab63fa",
            "pattern": {
             "shape": ""
            }
           },
           "name": "Netherlands",
           "offsetgroup": "Netherlands",
           "orientation": "h",
           "showlegend": true,
           "textposition": "auto",
           "type": "bar",
           "x": [
            0
           ],
           "xaxis": "x",
           "y": [
            "Netherlands"
           ],
           "yaxis": "y"
          },
          {
           "alignmentgroup": "True",
           "hovertemplate": "Countries=%{y}<br>release_year=1955<br>Cumulated character influence score=%{x}<extra></extra>",
           "legendgroup": "France",
           "marker": {
            "color": "#19d3f3",
            "pattern": {
             "shape": ""
            }
           },
           "name": "France",
           "offsetgroup": "France",
           "orientation": "h",
           "showlegend": true,
           "textposition": "auto",
           "type": "bar",
           "x": [
            1
           ],
           "xaxis": "x",
           "y": [
            "France"
           ],
           "yaxis": "y"
          },
          {
           "alignmentgroup": "True",
           "hovertemplate": "Countries=%{y}<br>release_year=1955<br>Cumulated character influence score=%{x}<extra></extra>",
           "legendgroup": "Czech Republic",
           "marker": {
            "color": "#FF6692",
            "pattern": {
             "shape": ""
            }
           },
           "name": "Czech Republic",
           "offsetgroup": "Czech Republic",
           "orientation": "h",
           "showlegend": true,
           "textposition": "auto",
           "type": "bar",
           "x": [
            1
           ],
           "xaxis": "x",
           "y": [
            "Czech Republic"
           ],
           "yaxis": "y"
          },
          {
           "alignmentgroup": "True",
           "hovertemplate": "Countries=%{y}<br>release_year=1955<br>Cumulated character influence score=%{x}<extra></extra>",
           "legendgroup": "United Kingdom",
           "marker": {
            "color": "#FECB52",
            "pattern": {
             "shape": ""
            }
           },
           "name": "United Kingdom",
           "offsetgroup": "United Kingdom",
           "orientation": "h",
           "showlegend": true,
           "textposition": "auto",
           "type": "bar",
           "x": [
            47
           ],
           "xaxis": "x",
           "y": [
            "United Kingdom"
           ],
           "yaxis": "y"
          },
          {
           "alignmentgroup": "True",
           "hovertemplate": "Countries=%{y}<br>release_year=1955<br>Cumulated character influence score=%{x}<extra></extra>",
           "legendgroup": "Romania",
           "marker": {
            "color": "#636efa",
            "pattern": {
             "shape": ""
            }
           },
           "name": "Romania",
           "offsetgroup": "Romania",
           "orientation": "h",
           "showlegend": true,
           "textposition": "auto",
           "type": "bar",
           "x": [
            1
           ],
           "xaxis": "x",
           "y": [
            "Romania"
           ],
           "yaxis": "y"
          },
          {
           "alignmentgroup": "True",
           "hovertemplate": "Countries=%{y}<br>release_year=1955<br>Cumulated character influence score=%{x}<extra></extra>",
           "legendgroup": "Soviet Union",
           "marker": {
            "color": "#EF553B",
            "pattern": {
             "shape": ""
            }
           },
           "name": "Soviet Union",
           "offsetgroup": "Soviet Union",
           "orientation": "h",
           "showlegend": true,
           "textposition": "auto",
           "type": "bar",
           "x": [
            1
           ],
           "xaxis": "x",
           "y": [
            "Soviet Union"
           ],
           "yaxis": "y"
          },
          {
           "alignmentgroup": "True",
           "hovertemplate": "Countries=%{y}<br>release_year=1955<br>Cumulated character influence score=%{x}<extra></extra>",
           "legendgroup": "Ireland",
           "marker": {
            "color": "#00cc96",
            "pattern": {
             "shape": ""
            }
           },
           "name": "Ireland",
           "offsetgroup": "Ireland",
           "orientation": "h",
           "showlegend": true,
           "textposition": "auto",
           "type": "bar",
           "x": [
            1
           ],
           "xaxis": "x",
           "y": [
            "Ireland"
           ],
           "yaxis": "y"
          }
         ],
         "name": "1955"
        },
        {
         "data": [
          {
           "alignmentgroup": "True",
           "hovertemplate": "Countries=%{y}<br>release_year=1956<br>Cumulated character influence score=%{x}<extra></extra>",
           "legendgroup": "Germany",
           "marker": {
            "color": "#636efa",
            "pattern": {
             "shape": ""
            }
           },
           "name": "Germany",
           "offsetgroup": "Germany",
           "orientation": "h",
           "showlegend": true,
           "textposition": "auto",
           "type": "bar",
           "x": [
            2
           ],
           "xaxis": "x",
           "y": [
            "Germany"
           ],
           "yaxis": "y"
          },
          {
           "alignmentgroup": "True",
           "hovertemplate": "Countries=%{y}<br>release_year=1956<br>Cumulated character influence score=%{x}<extra></extra>",
           "legendgroup": "United States of America",
           "marker": {
            "color": "#EF553B",
            "pattern": {
             "shape": ""
            }
           },
           "name": "United States of America",
           "offsetgroup": "United States of America",
           "orientation": "h",
           "showlegend": true,
           "textposition": "auto",
           "type": "bar",
           "x": [
            7
           ],
           "xaxis": "x",
           "y": [
            "United States of America"
           ],
           "yaxis": "y"
          },
          {
           "alignmentgroup": "True",
           "hovertemplate": "Countries=%{y}<br>release_year=1956<br>Cumulated character influence score=%{x}<extra></extra>",
           "legendgroup": "Brazil",
           "marker": {
            "color": "#00cc96",
            "pattern": {
             "shape": ""
            }
           },
           "name": "Brazil",
           "offsetgroup": "Brazil",
           "orientation": "h",
           "showlegend": true,
           "textposition": "auto",
           "type": "bar",
           "x": [
            0
           ],
           "xaxis": "x",
           "y": [
            "Brazil"
           ],
           "yaxis": "y"
          },
          {
           "alignmentgroup": "True",
           "hovertemplate": "Countries=%{y}<br>release_year=1956<br>Cumulated character influence score=%{x}<extra></extra>",
           "legendgroup": "Netherlands",
           "marker": {
            "color": "#ab63fa",
            "pattern": {
             "shape": ""
            }
           },
           "name": "Netherlands",
           "offsetgroup": "Netherlands",
           "orientation": "h",
           "showlegend": true,
           "textposition": "auto",
           "type": "bar",
           "x": [
            0
           ],
           "xaxis": "x",
           "y": [
            "Netherlands"
           ],
           "yaxis": "y"
          },
          {
           "alignmentgroup": "True",
           "hovertemplate": "Countries=%{y}<br>release_year=1956<br>Cumulated character influence score=%{x}<extra></extra>",
           "legendgroup": "France",
           "marker": {
            "color": "#19d3f3",
            "pattern": {
             "shape": ""
            }
           },
           "name": "France",
           "offsetgroup": "France",
           "orientation": "h",
           "showlegend": true,
           "textposition": "auto",
           "type": "bar",
           "x": [
            1
           ],
           "xaxis": "x",
           "y": [
            "France"
           ],
           "yaxis": "y"
          },
          {
           "alignmentgroup": "True",
           "hovertemplate": "Countries=%{y}<br>release_year=1956<br>Cumulated character influence score=%{x}<extra></extra>",
           "legendgroup": "Czech Republic",
           "marker": {
            "color": "#FF6692",
            "pattern": {
             "shape": ""
            }
           },
           "name": "Czech Republic",
           "offsetgroup": "Czech Republic",
           "orientation": "h",
           "showlegend": true,
           "textposition": "auto",
           "type": "bar",
           "x": [
            1
           ],
           "xaxis": "x",
           "y": [
            "Czech Republic"
           ],
           "yaxis": "y"
          },
          {
           "alignmentgroup": "True",
           "hovertemplate": "Countries=%{y}<br>release_year=1956<br>Cumulated character influence score=%{x}<extra></extra>",
           "legendgroup": "United Kingdom",
           "marker": {
            "color": "#FECB52",
            "pattern": {
             "shape": ""
            }
           },
           "name": "United Kingdom",
           "offsetgroup": "United Kingdom",
           "orientation": "h",
           "showlegend": true,
           "textposition": "auto",
           "type": "bar",
           "x": [
            49
           ],
           "xaxis": "x",
           "y": [
            "United Kingdom"
           ],
           "yaxis": "y"
          },
          {
           "alignmentgroup": "True",
           "hovertemplate": "Countries=%{y}<br>release_year=1956<br>Cumulated character influence score=%{x}<extra></extra>",
           "legendgroup": "Romania",
           "marker": {
            "color": "#636efa",
            "pattern": {
             "shape": ""
            }
           },
           "name": "Romania",
           "offsetgroup": "Romania",
           "orientation": "h",
           "showlegend": true,
           "textposition": "auto",
           "type": "bar",
           "x": [
            1
           ],
           "xaxis": "x",
           "y": [
            "Romania"
           ],
           "yaxis": "y"
          },
          {
           "alignmentgroup": "True",
           "hovertemplate": "Countries=%{y}<br>release_year=1956<br>Cumulated character influence score=%{x}<extra></extra>",
           "legendgroup": "Soviet Union",
           "marker": {
            "color": "#EF553B",
            "pattern": {
             "shape": ""
            }
           },
           "name": "Soviet Union",
           "offsetgroup": "Soviet Union",
           "orientation": "h",
           "showlegend": true,
           "textposition": "auto",
           "type": "bar",
           "x": [
            1
           ],
           "xaxis": "x",
           "y": [
            "Soviet Union"
           ],
           "yaxis": "y"
          },
          {
           "alignmentgroup": "True",
           "hovertemplate": "Countries=%{y}<br>release_year=1956<br>Cumulated character influence score=%{x}<extra></extra>",
           "legendgroup": "Ireland",
           "marker": {
            "color": "#00cc96",
            "pattern": {
             "shape": ""
            }
           },
           "name": "Ireland",
           "offsetgroup": "Ireland",
           "orientation": "h",
           "showlegend": true,
           "textposition": "auto",
           "type": "bar",
           "x": [
            1
           ],
           "xaxis": "x",
           "y": [
            "Ireland"
           ],
           "yaxis": "y"
          }
         ],
         "name": "1956"
        },
        {
         "data": [
          {
           "alignmentgroup": "True",
           "hovertemplate": "Countries=%{y}<br>release_year=1957<br>Cumulated character influence score=%{x}<extra></extra>",
           "legendgroup": "Germany",
           "marker": {
            "color": "#636efa",
            "pattern": {
             "shape": ""
            }
           },
           "name": "Germany",
           "offsetgroup": "Germany",
           "orientation": "h",
           "showlegend": true,
           "textposition": "auto",
           "type": "bar",
           "x": [
            2
           ],
           "xaxis": "x",
           "y": [
            "Germany"
           ],
           "yaxis": "y"
          },
          {
           "alignmentgroup": "True",
           "hovertemplate": "Countries=%{y}<br>release_year=1957<br>Cumulated character influence score=%{x}<extra></extra>",
           "legendgroup": "United States of America",
           "marker": {
            "color": "#EF553B",
            "pattern": {
             "shape": ""
            }
           },
           "name": "United States of America",
           "offsetgroup": "United States of America",
           "orientation": "h",
           "showlegend": true,
           "textposition": "auto",
           "type": "bar",
           "x": [
            7
           ],
           "xaxis": "x",
           "y": [
            "United States of America"
           ],
           "yaxis": "y"
          },
          {
           "alignmentgroup": "True",
           "hovertemplate": "Countries=%{y}<br>release_year=1957<br>Cumulated character influence score=%{x}<extra></extra>",
           "legendgroup": "Brazil",
           "marker": {
            "color": "#00cc96",
            "pattern": {
             "shape": ""
            }
           },
           "name": "Brazil",
           "offsetgroup": "Brazil",
           "orientation": "h",
           "showlegend": true,
           "textposition": "auto",
           "type": "bar",
           "x": [
            0
           ],
           "xaxis": "x",
           "y": [
            "Brazil"
           ],
           "yaxis": "y"
          },
          {
           "alignmentgroup": "True",
           "hovertemplate": "Countries=%{y}<br>release_year=1957<br>Cumulated character influence score=%{x}<extra></extra>",
           "legendgroup": "Netherlands",
           "marker": {
            "color": "#ab63fa",
            "pattern": {
             "shape": ""
            }
           },
           "name": "Netherlands",
           "offsetgroup": "Netherlands",
           "orientation": "h",
           "showlegend": true,
           "textposition": "auto",
           "type": "bar",
           "x": [
            0
           ],
           "xaxis": "x",
           "y": [
            "Netherlands"
           ],
           "yaxis": "y"
          },
          {
           "alignmentgroup": "True",
           "hovertemplate": "Countries=%{y}<br>release_year=1957<br>Cumulated character influence score=%{x}<extra></extra>",
           "legendgroup": "France",
           "marker": {
            "color": "#19d3f3",
            "pattern": {
             "shape": ""
            }
           },
           "name": "France",
           "offsetgroup": "France",
           "orientation": "h",
           "showlegend": true,
           "textposition": "auto",
           "type": "bar",
           "x": [
            1
           ],
           "xaxis": "x",
           "y": [
            "France"
           ],
           "yaxis": "y"
          },
          {
           "alignmentgroup": "True",
           "hovertemplate": "Countries=%{y}<br>release_year=1957<br>Cumulated character influence score=%{x}<extra></extra>",
           "legendgroup": "Czech Republic",
           "marker": {
            "color": "#FF6692",
            "pattern": {
             "shape": ""
            }
           },
           "name": "Czech Republic",
           "offsetgroup": "Czech Republic",
           "orientation": "h",
           "showlegend": true,
           "textposition": "auto",
           "type": "bar",
           "x": [
            1
           ],
           "xaxis": "x",
           "y": [
            "Czech Republic"
           ],
           "yaxis": "y"
          },
          {
           "alignmentgroup": "True",
           "hovertemplate": "Countries=%{y}<br>release_year=1957<br>Cumulated character influence score=%{x}<extra></extra>",
           "legendgroup": "United Kingdom",
           "marker": {
            "color": "#FECB52",
            "pattern": {
             "shape": ""
            }
           },
           "name": "United Kingdom",
           "offsetgroup": "United Kingdom",
           "orientation": "h",
           "showlegend": true,
           "textposition": "auto",
           "type": "bar",
           "x": [
            49
           ],
           "xaxis": "x",
           "y": [
            "United Kingdom"
           ],
           "yaxis": "y"
          },
          {
           "alignmentgroup": "True",
           "hovertemplate": "Countries=%{y}<br>release_year=1957<br>Cumulated character influence score=%{x}<extra></extra>",
           "legendgroup": "Romania",
           "marker": {
            "color": "#636efa",
            "pattern": {
             "shape": ""
            }
           },
           "name": "Romania",
           "offsetgroup": "Romania",
           "orientation": "h",
           "showlegend": true,
           "textposition": "auto",
           "type": "bar",
           "x": [
            1
           ],
           "xaxis": "x",
           "y": [
            "Romania"
           ],
           "yaxis": "y"
          },
          {
           "alignmentgroup": "True",
           "hovertemplate": "Countries=%{y}<br>release_year=1957<br>Cumulated character influence score=%{x}<extra></extra>",
           "legendgroup": "Soviet Union",
           "marker": {
            "color": "#EF553B",
            "pattern": {
             "shape": ""
            }
           },
           "name": "Soviet Union",
           "offsetgroup": "Soviet Union",
           "orientation": "h",
           "showlegend": true,
           "textposition": "auto",
           "type": "bar",
           "x": [
            1
           ],
           "xaxis": "x",
           "y": [
            "Soviet Union"
           ],
           "yaxis": "y"
          },
          {
           "alignmentgroup": "True",
           "hovertemplate": "Countries=%{y}<br>release_year=1957<br>Cumulated character influence score=%{x}<extra></extra>",
           "legendgroup": "Ireland",
           "marker": {
            "color": "#00cc96",
            "pattern": {
             "shape": ""
            }
           },
           "name": "Ireland",
           "offsetgroup": "Ireland",
           "orientation": "h",
           "showlegend": true,
           "textposition": "auto",
           "type": "bar",
           "x": [
            1
           ],
           "xaxis": "x",
           "y": [
            "Ireland"
           ],
           "yaxis": "y"
          }
         ],
         "name": "1957"
        },
        {
         "data": [
          {
           "alignmentgroup": "True",
           "hovertemplate": "Countries=%{y}<br>release_year=1958<br>Cumulated character influence score=%{x}<extra></extra>",
           "legendgroup": "Germany",
           "marker": {
            "color": "#636efa",
            "pattern": {
             "shape": ""
            }
           },
           "name": "Germany",
           "offsetgroup": "Germany",
           "orientation": "h",
           "showlegend": true,
           "textposition": "auto",
           "type": "bar",
           "x": [
            2
           ],
           "xaxis": "x",
           "y": [
            "Germany"
           ],
           "yaxis": "y"
          },
          {
           "alignmentgroup": "True",
           "hovertemplate": "Countries=%{y}<br>release_year=1958<br>Cumulated character influence score=%{x}<extra></extra>",
           "legendgroup": "United States of America",
           "marker": {
            "color": "#EF553B",
            "pattern": {
             "shape": ""
            }
           },
           "name": "United States of America",
           "offsetgroup": "United States of America",
           "orientation": "h",
           "showlegend": true,
           "textposition": "auto",
           "type": "bar",
           "x": [
            7
           ],
           "xaxis": "x",
           "y": [
            "United States of America"
           ],
           "yaxis": "y"
          },
          {
           "alignmentgroup": "True",
           "hovertemplate": "Countries=%{y}<br>release_year=1958<br>Cumulated character influence score=%{x}<extra></extra>",
           "legendgroup": "Brazil",
           "marker": {
            "color": "#00cc96",
            "pattern": {
             "shape": ""
            }
           },
           "name": "Brazil",
           "offsetgroup": "Brazil",
           "orientation": "h",
           "showlegend": true,
           "textposition": "auto",
           "type": "bar",
           "x": [
            0
           ],
           "xaxis": "x",
           "y": [
            "Brazil"
           ],
           "yaxis": "y"
          },
          {
           "alignmentgroup": "True",
           "hovertemplate": "Countries=%{y}<br>release_year=1958<br>Cumulated character influence score=%{x}<extra></extra>",
           "legendgroup": "Netherlands",
           "marker": {
            "color": "#ab63fa",
            "pattern": {
             "shape": ""
            }
           },
           "name": "Netherlands",
           "offsetgroup": "Netherlands",
           "orientation": "h",
           "showlegend": true,
           "textposition": "auto",
           "type": "bar",
           "x": [
            0
           ],
           "xaxis": "x",
           "y": [
            "Netherlands"
           ],
           "yaxis": "y"
          },
          {
           "alignmentgroup": "True",
           "hovertemplate": "Countries=%{y}<br>release_year=1958<br>Cumulated character influence score=%{x}<extra></extra>",
           "legendgroup": "France",
           "marker": {
            "color": "#19d3f3",
            "pattern": {
             "shape": ""
            }
           },
           "name": "France",
           "offsetgroup": "France",
           "orientation": "h",
           "showlegend": true,
           "textposition": "auto",
           "type": "bar",
           "x": [
            2
           ],
           "xaxis": "x",
           "y": [
            "France"
           ],
           "yaxis": "y"
          },
          {
           "alignmentgroup": "True",
           "hovertemplate": "Countries=%{y}<br>release_year=1958<br>Cumulated character influence score=%{x}<extra></extra>",
           "legendgroup": "Czech Republic",
           "marker": {
            "color": "#FF6692",
            "pattern": {
             "shape": ""
            }
           },
           "name": "Czech Republic",
           "offsetgroup": "Czech Republic",
           "orientation": "h",
           "showlegend": true,
           "textposition": "auto",
           "type": "bar",
           "x": [
            1
           ],
           "xaxis": "x",
           "y": [
            "Czech Republic"
           ],
           "yaxis": "y"
          },
          {
           "alignmentgroup": "True",
           "hovertemplate": "Countries=%{y}<br>release_year=1958<br>Cumulated character influence score=%{x}<extra></extra>",
           "legendgroup": "United Kingdom",
           "marker": {
            "color": "#FECB52",
            "pattern": {
             "shape": ""
            }
           },
           "name": "United Kingdom",
           "offsetgroup": "United Kingdom",
           "orientation": "h",
           "showlegend": true,
           "textposition": "auto",
           "type": "bar",
           "x": [
            50
           ],
           "xaxis": "x",
           "y": [
            "United Kingdom"
           ],
           "yaxis": "y"
          },
          {
           "alignmentgroup": "True",
           "hovertemplate": "Countries=%{y}<br>release_year=1958<br>Cumulated character influence score=%{x}<extra></extra>",
           "legendgroup": "Romania",
           "marker": {
            "color": "#636efa",
            "pattern": {
             "shape": ""
            }
           },
           "name": "Romania",
           "offsetgroup": "Romania",
           "orientation": "h",
           "showlegend": true,
           "textposition": "auto",
           "type": "bar",
           "x": [
            2
           ],
           "xaxis": "x",
           "y": [
            "Romania"
           ],
           "yaxis": "y"
          },
          {
           "alignmentgroup": "True",
           "hovertemplate": "Countries=%{y}<br>release_year=1958<br>Cumulated character influence score=%{x}<extra></extra>",
           "legendgroup": "Soviet Union",
           "marker": {
            "color": "#EF553B",
            "pattern": {
             "shape": ""
            }
           },
           "name": "Soviet Union",
           "offsetgroup": "Soviet Union",
           "orientation": "h",
           "showlegend": true,
           "textposition": "auto",
           "type": "bar",
           "x": [
            1
           ],
           "xaxis": "x",
           "y": [
            "Soviet Union"
           ],
           "yaxis": "y"
          },
          {
           "alignmentgroup": "True",
           "hovertemplate": "Countries=%{y}<br>release_year=1958<br>Cumulated character influence score=%{x}<extra></extra>",
           "legendgroup": "Ireland",
           "marker": {
            "color": "#00cc96",
            "pattern": {
             "shape": ""
            }
           },
           "name": "Ireland",
           "offsetgroup": "Ireland",
           "orientation": "h",
           "showlegend": true,
           "textposition": "auto",
           "type": "bar",
           "x": [
            1
           ],
           "xaxis": "x",
           "y": [
            "Ireland"
           ],
           "yaxis": "y"
          }
         ],
         "name": "1958"
        },
        {
         "data": [
          {
           "alignmentgroup": "True",
           "hovertemplate": "Countries=%{y}<br>release_year=1959<br>Cumulated character influence score=%{x}<extra></extra>",
           "legendgroup": "Germany",
           "marker": {
            "color": "#636efa",
            "pattern": {
             "shape": ""
            }
           },
           "name": "Germany",
           "offsetgroup": "Germany",
           "orientation": "h",
           "showlegend": true,
           "textposition": "auto",
           "type": "bar",
           "x": [
            2
           ],
           "xaxis": "x",
           "y": [
            "Germany"
           ],
           "yaxis": "y"
          },
          {
           "alignmentgroup": "True",
           "hovertemplate": "Countries=%{y}<br>release_year=1959<br>Cumulated character influence score=%{x}<extra></extra>",
           "legendgroup": "United States of America",
           "marker": {
            "color": "#EF553B",
            "pattern": {
             "shape": ""
            }
           },
           "name": "United States of America",
           "offsetgroup": "United States of America",
           "orientation": "h",
           "showlegend": true,
           "textposition": "auto",
           "type": "bar",
           "x": [
            8
           ],
           "xaxis": "x",
           "y": [
            "United States of America"
           ],
           "yaxis": "y"
          },
          {
           "alignmentgroup": "True",
           "hovertemplate": "Countries=%{y}<br>release_year=1959<br>Cumulated character influence score=%{x}<extra></extra>",
           "legendgroup": "Brazil",
           "marker": {
            "color": "#00cc96",
            "pattern": {
             "shape": ""
            }
           },
           "name": "Brazil",
           "offsetgroup": "Brazil",
           "orientation": "h",
           "showlegend": true,
           "textposition": "auto",
           "type": "bar",
           "x": [
            0
           ],
           "xaxis": "x",
           "y": [
            "Brazil"
           ],
           "yaxis": "y"
          },
          {
           "alignmentgroup": "True",
           "hovertemplate": "Countries=%{y}<br>release_year=1959<br>Cumulated character influence score=%{x}<extra></extra>",
           "legendgroup": "Netherlands",
           "marker": {
            "color": "#ab63fa",
            "pattern": {
             "shape": ""
            }
           },
           "name": "Netherlands",
           "offsetgroup": "Netherlands",
           "orientation": "h",
           "showlegend": true,
           "textposition": "auto",
           "type": "bar",
           "x": [
            1
           ],
           "xaxis": "x",
           "y": [
            "Netherlands"
           ],
           "yaxis": "y"
          },
          {
           "alignmentgroup": "True",
           "hovertemplate": "Countries=%{y}<br>release_year=1959<br>Cumulated character influence score=%{x}<extra></extra>",
           "legendgroup": "France",
           "marker": {
            "color": "#19d3f3",
            "pattern": {
             "shape": ""
            }
           },
           "name": "France",
           "offsetgroup": "France",
           "orientation": "h",
           "showlegend": true,
           "textposition": "auto",
           "type": "bar",
           "x": [
            2
           ],
           "xaxis": "x",
           "y": [
            "France"
           ],
           "yaxis": "y"
          },
          {
           "alignmentgroup": "True",
           "hovertemplate": "Countries=%{y}<br>release_year=1959<br>Cumulated character influence score=%{x}<extra></extra>",
           "legendgroup": "Czech Republic",
           "marker": {
            "color": "#FF6692",
            "pattern": {
             "shape": ""
            }
           },
           "name": "Czech Republic",
           "offsetgroup": "Czech Republic",
           "orientation": "h",
           "showlegend": true,
           "textposition": "auto",
           "type": "bar",
           "x": [
            2
           ],
           "xaxis": "x",
           "y": [
            "Czech Republic"
           ],
           "yaxis": "y"
          },
          {
           "alignmentgroup": "True",
           "hovertemplate": "Countries=%{y}<br>release_year=1959<br>Cumulated character influence score=%{x}<extra></extra>",
           "legendgroup": "United Kingdom",
           "marker": {
            "color": "#FECB52",
            "pattern": {
             "shape": ""
            }
           },
           "name": "United Kingdom",
           "offsetgroup": "United Kingdom",
           "orientation": "h",
           "showlegend": true,
           "textposition": "auto",
           "type": "bar",
           "x": [
            50
           ],
           "xaxis": "x",
           "y": [
            "United Kingdom"
           ],
           "yaxis": "y"
          },
          {
           "alignmentgroup": "True",
           "hovertemplate": "Countries=%{y}<br>release_year=1959<br>Cumulated character influence score=%{x}<extra></extra>",
           "legendgroup": "Romania",
           "marker": {
            "color": "#636efa",
            "pattern": {
             "shape": ""
            }
           },
           "name": "Romania",
           "offsetgroup": "Romania",
           "orientation": "h",
           "showlegend": true,
           "textposition": "auto",
           "type": "bar",
           "x": [
            2
           ],
           "xaxis": "x",
           "y": [
            "Romania"
           ],
           "yaxis": "y"
          },
          {
           "alignmentgroup": "True",
           "hovertemplate": "Countries=%{y}<br>release_year=1959<br>Cumulated character influence score=%{x}<extra></extra>",
           "legendgroup": "Soviet Union",
           "marker": {
            "color": "#EF553B",
            "pattern": {
             "shape": ""
            }
           },
           "name": "Soviet Union",
           "offsetgroup": "Soviet Union",
           "orientation": "h",
           "showlegend": true,
           "textposition": "auto",
           "type": "bar",
           "x": [
            1
           ],
           "xaxis": "x",
           "y": [
            "Soviet Union"
           ],
           "yaxis": "y"
          },
          {
           "alignmentgroup": "True",
           "hovertemplate": "Countries=%{y}<br>release_year=1959<br>Cumulated character influence score=%{x}<extra></extra>",
           "legendgroup": "Ireland",
           "marker": {
            "color": "#00cc96",
            "pattern": {
             "shape": ""
            }
           },
           "name": "Ireland",
           "offsetgroup": "Ireland",
           "orientation": "h",
           "showlegend": true,
           "textposition": "auto",
           "type": "bar",
           "x": [
            1
           ],
           "xaxis": "x",
           "y": [
            "Ireland"
           ],
           "yaxis": "y"
          }
         ],
         "name": "1959"
        },
        {
         "data": [
          {
           "alignmentgroup": "True",
           "hovertemplate": "Countries=%{y}<br>release_year=1960<br>Cumulated character influence score=%{x}<extra></extra>",
           "legendgroup": "Germany",
           "marker": {
            "color": "#636efa",
            "pattern": {
             "shape": ""
            }
           },
           "name": "Germany",
           "offsetgroup": "Germany",
           "orientation": "h",
           "showlegend": true,
           "textposition": "auto",
           "type": "bar",
           "x": [
            2
           ],
           "xaxis": "x",
           "y": [
            "Germany"
           ],
           "yaxis": "y"
          },
          {
           "alignmentgroup": "True",
           "hovertemplate": "Countries=%{y}<br>release_year=1960<br>Cumulated character influence score=%{x}<extra></extra>",
           "legendgroup": "United States of America",
           "marker": {
            "color": "#EF553B",
            "pattern": {
             "shape": ""
            }
           },
           "name": "United States of America",
           "offsetgroup": "United States of America",
           "orientation": "h",
           "showlegend": true,
           "textposition": "auto",
           "type": "bar",
           "x": [
            12
           ],
           "xaxis": "x",
           "y": [
            "United States of America"
           ],
           "yaxis": "y"
          },
          {
           "alignmentgroup": "True",
           "hovertemplate": "Countries=%{y}<br>release_year=1960<br>Cumulated character influence score=%{x}<extra></extra>",
           "legendgroup": "Brazil",
           "marker": {
            "color": "#00cc96",
            "pattern": {
             "shape": ""
            }
           },
           "name": "Brazil",
           "offsetgroup": "Brazil",
           "orientation": "h",
           "showlegend": true,
           "textposition": "auto",
           "type": "bar",
           "x": [
            0
           ],
           "xaxis": "x",
           "y": [
            "Brazil"
           ],
           "yaxis": "y"
          },
          {
           "alignmentgroup": "True",
           "hovertemplate": "Countries=%{y}<br>release_year=1960<br>Cumulated character influence score=%{x}<extra></extra>",
           "legendgroup": "Netherlands",
           "marker": {
            "color": "#ab63fa",
            "pattern": {
             "shape": ""
            }
           },
           "name": "Netherlands",
           "offsetgroup": "Netherlands",
           "orientation": "h",
           "showlegend": true,
           "textposition": "auto",
           "type": "bar",
           "x": [
            1
           ],
           "xaxis": "x",
           "y": [
            "Netherlands"
           ],
           "yaxis": "y"
          },
          {
           "alignmentgroup": "True",
           "hovertemplate": "Countries=%{y}<br>release_year=1960<br>Cumulated character influence score=%{x}<extra></extra>",
           "legendgroup": "France",
           "marker": {
            "color": "#19d3f3",
            "pattern": {
             "shape": ""
            }
           },
           "name": "France",
           "offsetgroup": "France",
           "orientation": "h",
           "showlegend": true,
           "textposition": "auto",
           "type": "bar",
           "x": [
            2
           ],
           "xaxis": "x",
           "y": [
            "France"
           ],
           "yaxis": "y"
          },
          {
           "alignmentgroup": "True",
           "hovertemplate": "Countries=%{y}<br>release_year=1960<br>Cumulated character influence score=%{x}<extra></extra>",
           "legendgroup": "Czech Republic",
           "marker": {
            "color": "#FF6692",
            "pattern": {
             "shape": ""
            }
           },
           "name": "Czech Republic",
           "offsetgroup": "Czech Republic",
           "orientation": "h",
           "showlegend": true,
           "textposition": "auto",
           "type": "bar",
           "x": [
            2
           ],
           "xaxis": "x",
           "y": [
            "Czech Republic"
           ],
           "yaxis": "y"
          },
          {
           "alignmentgroup": "True",
           "hovertemplate": "Countries=%{y}<br>release_year=1960<br>Cumulated character influence score=%{x}<extra></extra>",
           "legendgroup": "United Kingdom",
           "marker": {
            "color": "#FECB52",
            "pattern": {
             "shape": ""
            }
           },
           "name": "United Kingdom",
           "offsetgroup": "United Kingdom",
           "orientation": "h",
           "showlegend": true,
           "textposition": "auto",
           "type": "bar",
           "x": [
            52
           ],
           "xaxis": "x",
           "y": [
            "United Kingdom"
           ],
           "yaxis": "y"
          },
          {
           "alignmentgroup": "True",
           "hovertemplate": "Countries=%{y}<br>release_year=1960<br>Cumulated character influence score=%{x}<extra></extra>",
           "legendgroup": "Romania",
           "marker": {
            "color": "#636efa",
            "pattern": {
             "shape": ""
            }
           },
           "name": "Romania",
           "offsetgroup": "Romania",
           "orientation": "h",
           "showlegend": true,
           "textposition": "auto",
           "type": "bar",
           "x": [
            2
           ],
           "xaxis": "x",
           "y": [
            "Romania"
           ],
           "yaxis": "y"
          },
          {
           "alignmentgroup": "True",
           "hovertemplate": "Countries=%{y}<br>release_year=1960<br>Cumulated character influence score=%{x}<extra></extra>",
           "legendgroup": "Soviet Union",
           "marker": {
            "color": "#EF553B",
            "pattern": {
             "shape": ""
            }
           },
           "name": "Soviet Union",
           "offsetgroup": "Soviet Union",
           "orientation": "h",
           "showlegend": true,
           "textposition": "auto",
           "type": "bar",
           "x": [
            1
           ],
           "xaxis": "x",
           "y": [
            "Soviet Union"
           ],
           "yaxis": "y"
          },
          {
           "alignmentgroup": "True",
           "hovertemplate": "Countries=%{y}<br>release_year=1960<br>Cumulated character influence score=%{x}<extra></extra>",
           "legendgroup": "Ireland",
           "marker": {
            "color": "#00cc96",
            "pattern": {
             "shape": ""
            }
           },
           "name": "Ireland",
           "offsetgroup": "Ireland",
           "orientation": "h",
           "showlegend": true,
           "textposition": "auto",
           "type": "bar",
           "x": [
            1
           ],
           "xaxis": "x",
           "y": [
            "Ireland"
           ],
           "yaxis": "y"
          }
         ],
         "name": "1960"
        },
        {
         "data": [
          {
           "alignmentgroup": "True",
           "hovertemplate": "Countries=%{y}<br>release_year=1961<br>Cumulated character influence score=%{x}<extra></extra>",
           "legendgroup": "Germany",
           "marker": {
            "color": "#636efa",
            "pattern": {
             "shape": ""
            }
           },
           "name": "Germany",
           "offsetgroup": "Germany",
           "orientation": "h",
           "showlegend": true,
           "textposition": "auto",
           "type": "bar",
           "x": [
            2
           ],
           "xaxis": "x",
           "y": [
            "Germany"
           ],
           "yaxis": "y"
          },
          {
           "alignmentgroup": "True",
           "hovertemplate": "Countries=%{y}<br>release_year=1961<br>Cumulated character influence score=%{x}<extra></extra>",
           "legendgroup": "United States of America",
           "marker": {
            "color": "#EF553B",
            "pattern": {
             "shape": ""
            }
           },
           "name": "United States of America",
           "offsetgroup": "United States of America",
           "orientation": "h",
           "showlegend": true,
           "textposition": "auto",
           "type": "bar",
           "x": [
            14
           ],
           "xaxis": "x",
           "y": [
            "United States of America"
           ],
           "yaxis": "y"
          },
          {
           "alignmentgroup": "True",
           "hovertemplate": "Countries=%{y}<br>release_year=1961<br>Cumulated character influence score=%{x}<extra></extra>",
           "legendgroup": "Brazil",
           "marker": {
            "color": "#00cc96",
            "pattern": {
             "shape": ""
            }
           },
           "name": "Brazil",
           "offsetgroup": "Brazil",
           "orientation": "h",
           "showlegend": true,
           "textposition": "auto",
           "type": "bar",
           "x": [
            0
           ],
           "xaxis": "x",
           "y": [
            "Brazil"
           ],
           "yaxis": "y"
          },
          {
           "alignmentgroup": "True",
           "hovertemplate": "Countries=%{y}<br>release_year=1961<br>Cumulated character influence score=%{x}<extra></extra>",
           "legendgroup": "Netherlands",
           "marker": {
            "color": "#ab63fa",
            "pattern": {
             "shape": ""
            }
           },
           "name": "Netherlands",
           "offsetgroup": "Netherlands",
           "orientation": "h",
           "showlegend": true,
           "textposition": "auto",
           "type": "bar",
           "x": [
            1
           ],
           "xaxis": "x",
           "y": [
            "Netherlands"
           ],
           "yaxis": "y"
          },
          {
           "alignmentgroup": "True",
           "hovertemplate": "Countries=%{y}<br>release_year=1961<br>Cumulated character influence score=%{x}<extra></extra>",
           "legendgroup": "France",
           "marker": {
            "color": "#19d3f3",
            "pattern": {
             "shape": ""
            }
           },
           "name": "France",
           "offsetgroup": "France",
           "orientation": "h",
           "showlegend": true,
           "textposition": "auto",
           "type": "bar",
           "x": [
            3
           ],
           "xaxis": "x",
           "y": [
            "France"
           ],
           "yaxis": "y"
          },
          {
           "alignmentgroup": "True",
           "hovertemplate": "Countries=%{y}<br>release_year=1961<br>Cumulated character influence score=%{x}<extra></extra>",
           "legendgroup": "Czech Republic",
           "marker": {
            "color": "#FF6692",
            "pattern": {
             "shape": ""
            }
           },
           "name": "Czech Republic",
           "offsetgroup": "Czech Republic",
           "orientation": "h",
           "showlegend": true,
           "textposition": "auto",
           "type": "bar",
           "x": [
            2
           ],
           "xaxis": "x",
           "y": [
            "Czech Republic"
           ],
           "yaxis": "y"
          },
          {
           "alignmentgroup": "True",
           "hovertemplate": "Countries=%{y}<br>release_year=1961<br>Cumulated character influence score=%{x}<extra></extra>",
           "legendgroup": "United Kingdom",
           "marker": {
            "color": "#FECB52",
            "pattern": {
             "shape": ""
            }
           },
           "name": "United Kingdom",
           "offsetgroup": "United Kingdom",
           "orientation": "h",
           "showlegend": true,
           "textposition": "auto",
           "type": "bar",
           "x": [
            52
           ],
           "xaxis": "x",
           "y": [
            "United Kingdom"
           ],
           "yaxis": "y"
          },
          {
           "alignmentgroup": "True",
           "hovertemplate": "Countries=%{y}<br>release_year=1961<br>Cumulated character influence score=%{x}<extra></extra>",
           "legendgroup": "Romania",
           "marker": {
            "color": "#636efa",
            "pattern": {
             "shape": ""
            }
           },
           "name": "Romania",
           "offsetgroup": "Romania",
           "orientation": "h",
           "showlegend": true,
           "textposition": "auto",
           "type": "bar",
           "x": [
            2
           ],
           "xaxis": "x",
           "y": [
            "Romania"
           ],
           "yaxis": "y"
          },
          {
           "alignmentgroup": "True",
           "hovertemplate": "Countries=%{y}<br>release_year=1961<br>Cumulated character influence score=%{x}<extra></extra>",
           "legendgroup": "Soviet Union",
           "marker": {
            "color": "#EF553B",
            "pattern": {
             "shape": ""
            }
           },
           "name": "Soviet Union",
           "offsetgroup": "Soviet Union",
           "orientation": "h",
           "showlegend": true,
           "textposition": "auto",
           "type": "bar",
           "x": [
            1
           ],
           "xaxis": "x",
           "y": [
            "Soviet Union"
           ],
           "yaxis": "y"
          },
          {
           "alignmentgroup": "True",
           "hovertemplate": "Countries=%{y}<br>release_year=1961<br>Cumulated character influence score=%{x}<extra></extra>",
           "legendgroup": "Ireland",
           "marker": {
            "color": "#00cc96",
            "pattern": {
             "shape": ""
            }
           },
           "name": "Ireland",
           "offsetgroup": "Ireland",
           "orientation": "h",
           "showlegend": true,
           "textposition": "auto",
           "type": "bar",
           "x": [
            1
           ],
           "xaxis": "x",
           "y": [
            "Ireland"
           ],
           "yaxis": "y"
          }
         ],
         "name": "1961"
        },
        {
         "data": [
          {
           "alignmentgroup": "True",
           "hovertemplate": "Countries=%{y}<br>release_year=1962<br>Cumulated character influence score=%{x}<extra></extra>",
           "legendgroup": "Germany",
           "marker": {
            "color": "#636efa",
            "pattern": {
             "shape": ""
            }
           },
           "name": "Germany",
           "offsetgroup": "Germany",
           "orientation": "h",
           "showlegend": true,
           "textposition": "auto",
           "type": "bar",
           "x": [
            3
           ],
           "xaxis": "x",
           "y": [
            "Germany"
           ],
           "yaxis": "y"
          },
          {
           "alignmentgroup": "True",
           "hovertemplate": "Countries=%{y}<br>release_year=1962<br>Cumulated character influence score=%{x}<extra></extra>",
           "legendgroup": "United States of America",
           "marker": {
            "color": "#EF553B",
            "pattern": {
             "shape": ""
            }
           },
           "name": "United States of America",
           "offsetgroup": "United States of America",
           "orientation": "h",
           "showlegend": true,
           "textposition": "auto",
           "type": "bar",
           "x": [
            15
           ],
           "xaxis": "x",
           "y": [
            "United States of America"
           ],
           "yaxis": "y"
          },
          {
           "alignmentgroup": "True",
           "hovertemplate": "Countries=%{y}<br>release_year=1962<br>Cumulated character influence score=%{x}<extra></extra>",
           "legendgroup": "Brazil",
           "marker": {
            "color": "#00cc96",
            "pattern": {
             "shape": ""
            }
           },
           "name": "Brazil",
           "offsetgroup": "Brazil",
           "orientation": "h",
           "showlegend": true,
           "textposition": "auto",
           "type": "bar",
           "x": [
            0
           ],
           "xaxis": "x",
           "y": [
            "Brazil"
           ],
           "yaxis": "y"
          },
          {
           "alignmentgroup": "True",
           "hovertemplate": "Countries=%{y}<br>release_year=1962<br>Cumulated character influence score=%{x}<extra></extra>",
           "legendgroup": "Netherlands",
           "marker": {
            "color": "#ab63fa",
            "pattern": {
             "shape": ""
            }
           },
           "name": "Netherlands",
           "offsetgroup": "Netherlands",
           "orientation": "h",
           "showlegend": true,
           "textposition": "auto",
           "type": "bar",
           "x": [
            1
           ],
           "xaxis": "x",
           "y": [
            "Netherlands"
           ],
           "yaxis": "y"
          },
          {
           "alignmentgroup": "True",
           "hovertemplate": "Countries=%{y}<br>release_year=1962<br>Cumulated character influence score=%{x}<extra></extra>",
           "legendgroup": "France",
           "marker": {
            "color": "#19d3f3",
            "pattern": {
             "shape": ""
            }
           },
           "name": "France",
           "offsetgroup": "France",
           "orientation": "h",
           "showlegend": true,
           "textposition": "auto",
           "type": "bar",
           "x": [
            3
           ],
           "xaxis": "x",
           "y": [
            "France"
           ],
           "yaxis": "y"
          },
          {
           "alignmentgroup": "True",
           "hovertemplate": "Countries=%{y}<br>release_year=1962<br>Cumulated character influence score=%{x}<extra></extra>",
           "legendgroup": "Czech Republic",
           "marker": {
            "color": "#FF6692",
            "pattern": {
             "shape": ""
            }
           },
           "name": "Czech Republic",
           "offsetgroup": "Czech Republic",
           "orientation": "h",
           "showlegend": true,
           "textposition": "auto",
           "type": "bar",
           "x": [
            2
           ],
           "xaxis": "x",
           "y": [
            "Czech Republic"
           ],
           "yaxis": "y"
          },
          {
           "alignmentgroup": "True",
           "hovertemplate": "Countries=%{y}<br>release_year=1962<br>Cumulated character influence score=%{x}<extra></extra>",
           "legendgroup": "United Kingdom",
           "marker": {
            "color": "#FECB52",
            "pattern": {
             "shape": ""
            }
           },
           "name": "United Kingdom",
           "offsetgroup": "United Kingdom",
           "orientation": "h",
           "showlegend": true,
           "textposition": "auto",
           "type": "bar",
           "x": [
            52
           ],
           "xaxis": "x",
           "y": [
            "United Kingdom"
           ],
           "yaxis": "y"
          },
          {
           "alignmentgroup": "True",
           "hovertemplate": "Countries=%{y}<br>release_year=1962<br>Cumulated character influence score=%{x}<extra></extra>",
           "legendgroup": "Romania",
           "marker": {
            "color": "#636efa",
            "pattern": {
             "shape": ""
            }
           },
           "name": "Romania",
           "offsetgroup": "Romania",
           "orientation": "h",
           "showlegend": true,
           "textposition": "auto",
           "type": "bar",
           "x": [
            2
           ],
           "xaxis": "x",
           "y": [
            "Romania"
           ],
           "yaxis": "y"
          },
          {
           "alignmentgroup": "True",
           "hovertemplate": "Countries=%{y}<br>release_year=1962<br>Cumulated character influence score=%{x}<extra></extra>",
           "legendgroup": "Soviet Union",
           "marker": {
            "color": "#EF553B",
            "pattern": {
             "shape": ""
            }
           },
           "name": "Soviet Union",
           "offsetgroup": "Soviet Union",
           "orientation": "h",
           "showlegend": true,
           "textposition": "auto",
           "type": "bar",
           "x": [
            1
           ],
           "xaxis": "x",
           "y": [
            "Soviet Union"
           ],
           "yaxis": "y"
          },
          {
           "alignmentgroup": "True",
           "hovertemplate": "Countries=%{y}<br>release_year=1962<br>Cumulated character influence score=%{x}<extra></extra>",
           "legendgroup": "Ireland",
           "marker": {
            "color": "#00cc96",
            "pattern": {
             "shape": ""
            }
           },
           "name": "Ireland",
           "offsetgroup": "Ireland",
           "orientation": "h",
           "showlegend": true,
           "textposition": "auto",
           "type": "bar",
           "x": [
            1
           ],
           "xaxis": "x",
           "y": [
            "Ireland"
           ],
           "yaxis": "y"
          }
         ],
         "name": "1962"
        },
        {
         "data": [
          {
           "alignmentgroup": "True",
           "hovertemplate": "Countries=%{y}<br>release_year=1963<br>Cumulated character influence score=%{x}<extra></extra>",
           "legendgroup": "Germany",
           "marker": {
            "color": "#636efa",
            "pattern": {
             "shape": ""
            }
           },
           "name": "Germany",
           "offsetgroup": "Germany",
           "orientation": "h",
           "showlegend": true,
           "textposition": "auto",
           "type": "bar",
           "x": [
            3
           ],
           "xaxis": "x",
           "y": [
            "Germany"
           ],
           "yaxis": "y"
          },
          {
           "alignmentgroup": "True",
           "hovertemplate": "Countries=%{y}<br>release_year=1963<br>Cumulated character influence score=%{x}<extra></extra>",
           "legendgroup": "United States of America",
           "marker": {
            "color": "#EF553B",
            "pattern": {
             "shape": ""
            }
           },
           "name": "United States of America",
           "offsetgroup": "United States of America",
           "orientation": "h",
           "showlegend": true,
           "textposition": "auto",
           "type": "bar",
           "x": [
            16
           ],
           "xaxis": "x",
           "y": [
            "United States of America"
           ],
           "yaxis": "y"
          },
          {
           "alignmentgroup": "True",
           "hovertemplate": "Countries=%{y}<br>release_year=1963<br>Cumulated character influence score=%{x}<extra></extra>",
           "legendgroup": "Brazil",
           "marker": {
            "color": "#00cc96",
            "pattern": {
             "shape": ""
            }
           },
           "name": "Brazil",
           "offsetgroup": "Brazil",
           "orientation": "h",
           "showlegend": true,
           "textposition": "auto",
           "type": "bar",
           "x": [
            0
           ],
           "xaxis": "x",
           "y": [
            "Brazil"
           ],
           "yaxis": "y"
          },
          {
           "alignmentgroup": "True",
           "hovertemplate": "Countries=%{y}<br>release_year=1963<br>Cumulated character influence score=%{x}<extra></extra>",
           "legendgroup": "Netherlands",
           "marker": {
            "color": "#ab63fa",
            "pattern": {
             "shape": ""
            }
           },
           "name": "Netherlands",
           "offsetgroup": "Netherlands",
           "orientation": "h",
           "showlegend": true,
           "textposition": "auto",
           "type": "bar",
           "x": [
            1
           ],
           "xaxis": "x",
           "y": [
            "Netherlands"
           ],
           "yaxis": "y"
          },
          {
           "alignmentgroup": "True",
           "hovertemplate": "Countries=%{y}<br>release_year=1963<br>Cumulated character influence score=%{x}<extra></extra>",
           "legendgroup": "France",
           "marker": {
            "color": "#19d3f3",
            "pattern": {
             "shape": ""
            }
           },
           "name": "France",
           "offsetgroup": "France",
           "orientation": "h",
           "showlegend": true,
           "textposition": "auto",
           "type": "bar",
           "x": [
            3
           ],
           "xaxis": "x",
           "y": [
            "France"
           ],
           "yaxis": "y"
          },
          {
           "alignmentgroup": "True",
           "hovertemplate": "Countries=%{y}<br>release_year=1963<br>Cumulated character influence score=%{x}<extra></extra>",
           "legendgroup": "Czech Republic",
           "marker": {
            "color": "#FF6692",
            "pattern": {
             "shape": ""
            }
           },
           "name": "Czech Republic",
           "offsetgroup": "Czech Republic",
           "orientation": "h",
           "showlegend": true,
           "textposition": "auto",
           "type": "bar",
           "x": [
            2
           ],
           "xaxis": "x",
           "y": [
            "Czech Republic"
           ],
           "yaxis": "y"
          },
          {
           "alignmentgroup": "True",
           "hovertemplate": "Countries=%{y}<br>release_year=1963<br>Cumulated character influence score=%{x}<extra></extra>",
           "legendgroup": "United Kingdom",
           "marker": {
            "color": "#FECB52",
            "pattern": {
             "shape": ""
            }
           },
           "name": "United Kingdom",
           "offsetgroup": "United Kingdom",
           "orientation": "h",
           "showlegend": true,
           "textposition": "auto",
           "type": "bar",
           "x": [
            55
           ],
           "xaxis": "x",
           "y": [
            "United Kingdom"
           ],
           "yaxis": "y"
          },
          {
           "alignmentgroup": "True",
           "hovertemplate": "Countries=%{y}<br>release_year=1963<br>Cumulated character influence score=%{x}<extra></extra>",
           "legendgroup": "Romania",
           "marker": {
            "color": "#636efa",
            "pattern": {
             "shape": ""
            }
           },
           "name": "Romania",
           "offsetgroup": "Romania",
           "orientation": "h",
           "showlegend": true,
           "textposition": "auto",
           "type": "bar",
           "x": [
            2
           ],
           "xaxis": "x",
           "y": [
            "Romania"
           ],
           "yaxis": "y"
          },
          {
           "alignmentgroup": "True",
           "hovertemplate": "Countries=%{y}<br>release_year=1963<br>Cumulated character influence score=%{x}<extra></extra>",
           "legendgroup": "Soviet Union",
           "marker": {
            "color": "#EF553B",
            "pattern": {
             "shape": ""
            }
           },
           "name": "Soviet Union",
           "offsetgroup": "Soviet Union",
           "orientation": "h",
           "showlegend": true,
           "textposition": "auto",
           "type": "bar",
           "x": [
            1
           ],
           "xaxis": "x",
           "y": [
            "Soviet Union"
           ],
           "yaxis": "y"
          },
          {
           "alignmentgroup": "True",
           "hovertemplate": "Countries=%{y}<br>release_year=1963<br>Cumulated character influence score=%{x}<extra></extra>",
           "legendgroup": "Ireland",
           "marker": {
            "color": "#00cc96",
            "pattern": {
             "shape": ""
            }
           },
           "name": "Ireland",
           "offsetgroup": "Ireland",
           "orientation": "h",
           "showlegend": true,
           "textposition": "auto",
           "type": "bar",
           "x": [
            1
           ],
           "xaxis": "x",
           "y": [
            "Ireland"
           ],
           "yaxis": "y"
          }
         ],
         "name": "1963"
        },
        {
         "data": [
          {
           "alignmentgroup": "True",
           "hovertemplate": "Countries=%{y}<br>release_year=1964<br>Cumulated character influence score=%{x}<extra></extra>",
           "legendgroup": "Germany",
           "marker": {
            "color": "#636efa",
            "pattern": {
             "shape": ""
            }
           },
           "name": "Germany",
           "offsetgroup": "Germany",
           "orientation": "h",
           "showlegend": true,
           "textposition": "auto",
           "type": "bar",
           "x": [
            3
           ],
           "xaxis": "x",
           "y": [
            "Germany"
           ],
           "yaxis": "y"
          },
          {
           "alignmentgroup": "True",
           "hovertemplate": "Countries=%{y}<br>release_year=1964<br>Cumulated character influence score=%{x}<extra></extra>",
           "legendgroup": "United States of America",
           "marker": {
            "color": "#EF553B",
            "pattern": {
             "shape": ""
            }
           },
           "name": "United States of America",
           "offsetgroup": "United States of America",
           "orientation": "h",
           "showlegend": true,
           "textposition": "auto",
           "type": "bar",
           "x": [
            19
           ],
           "xaxis": "x",
           "y": [
            "United States of America"
           ],
           "yaxis": "y"
          },
          {
           "alignmentgroup": "True",
           "hovertemplate": "Countries=%{y}<br>release_year=1964<br>Cumulated character influence score=%{x}<extra></extra>",
           "legendgroup": "Brazil",
           "marker": {
            "color": "#00cc96",
            "pattern": {
             "shape": ""
            }
           },
           "name": "Brazil",
           "offsetgroup": "Brazil",
           "orientation": "h",
           "showlegend": true,
           "textposition": "auto",
           "type": "bar",
           "x": [
            0
           ],
           "xaxis": "x",
           "y": [
            "Brazil"
           ],
           "yaxis": "y"
          },
          {
           "alignmentgroup": "True",
           "hovertemplate": "Countries=%{y}<br>release_year=1964<br>Cumulated character influence score=%{x}<extra></extra>",
           "legendgroup": "Netherlands",
           "marker": {
            "color": "#ab63fa",
            "pattern": {
             "shape": ""
            }
           },
           "name": "Netherlands",
           "offsetgroup": "Netherlands",
           "orientation": "h",
           "showlegend": true,
           "textposition": "auto",
           "type": "bar",
           "x": [
            1
           ],
           "xaxis": "x",
           "y": [
            "Netherlands"
           ],
           "yaxis": "y"
          },
          {
           "alignmentgroup": "True",
           "hovertemplate": "Countries=%{y}<br>release_year=1964<br>Cumulated character influence score=%{x}<extra></extra>",
           "legendgroup": "France",
           "marker": {
            "color": "#19d3f3",
            "pattern": {
             "shape": ""
            }
           },
           "name": "France",
           "offsetgroup": "France",
           "orientation": "h",
           "showlegend": true,
           "textposition": "auto",
           "type": "bar",
           "x": [
            5
           ],
           "xaxis": "x",
           "y": [
            "France"
           ],
           "yaxis": "y"
          },
          {
           "alignmentgroup": "True",
           "hovertemplate": "Countries=%{y}<br>release_year=1964<br>Cumulated character influence score=%{x}<extra></extra>",
           "legendgroup": "Czech Republic",
           "marker": {
            "color": "#FF6692",
            "pattern": {
             "shape": ""
            }
           },
           "name": "Czech Republic",
           "offsetgroup": "Czech Republic",
           "orientation": "h",
           "showlegend": true,
           "textposition": "auto",
           "type": "bar",
           "x": [
            2
           ],
           "xaxis": "x",
           "y": [
            "Czech Republic"
           ],
           "yaxis": "y"
          },
          {
           "alignmentgroup": "True",
           "hovertemplate": "Countries=%{y}<br>release_year=1964<br>Cumulated character influence score=%{x}<extra></extra>",
           "legendgroup": "United Kingdom",
           "marker": {
            "color": "#FECB52",
            "pattern": {
             "shape": ""
            }
           },
           "name": "United Kingdom",
           "offsetgroup": "United Kingdom",
           "orientation": "h",
           "showlegend": true,
           "textposition": "auto",
           "type": "bar",
           "x": [
            56
           ],
           "xaxis": "x",
           "y": [
            "United Kingdom"
           ],
           "yaxis": "y"
          },
          {
           "alignmentgroup": "True",
           "hovertemplate": "Countries=%{y}<br>release_year=1964<br>Cumulated character influence score=%{x}<extra></extra>",
           "legendgroup": "Romania",
           "marker": {
            "color": "#636efa",
            "pattern": {
             "shape": ""
            }
           },
           "name": "Romania",
           "offsetgroup": "Romania",
           "orientation": "h",
           "showlegend": true,
           "textposition": "auto",
           "type": "bar",
           "x": [
            2
           ],
           "xaxis": "x",
           "y": [
            "Romania"
           ],
           "yaxis": "y"
          },
          {
           "alignmentgroup": "True",
           "hovertemplate": "Countries=%{y}<br>release_year=1964<br>Cumulated character influence score=%{x}<extra></extra>",
           "legendgroup": "Soviet Union",
           "marker": {
            "color": "#EF553B",
            "pattern": {
             "shape": ""
            }
           },
           "name": "Soviet Union",
           "offsetgroup": "Soviet Union",
           "orientation": "h",
           "showlegend": true,
           "textposition": "auto",
           "type": "bar",
           "x": [
            1
           ],
           "xaxis": "x",
           "y": [
            "Soviet Union"
           ],
           "yaxis": "y"
          },
          {
           "alignmentgroup": "True",
           "hovertemplate": "Countries=%{y}<br>release_year=1964<br>Cumulated character influence score=%{x}<extra></extra>",
           "legendgroup": "Ireland",
           "marker": {
            "color": "#00cc96",
            "pattern": {
             "shape": ""
            }
           },
           "name": "Ireland",
           "offsetgroup": "Ireland",
           "orientation": "h",
           "showlegend": true,
           "textposition": "auto",
           "type": "bar",
           "x": [
            1
           ],
           "xaxis": "x",
           "y": [
            "Ireland"
           ],
           "yaxis": "y"
          }
         ],
         "name": "1964"
        },
        {
         "data": [
          {
           "alignmentgroup": "True",
           "hovertemplate": "Countries=%{y}<br>release_year=1965<br>Cumulated character influence score=%{x}<extra></extra>",
           "legendgroup": "Germany",
           "marker": {
            "color": "#636efa",
            "pattern": {
             "shape": ""
            }
           },
           "name": "Germany",
           "offsetgroup": "Germany",
           "orientation": "h",
           "showlegend": true,
           "textposition": "auto",
           "type": "bar",
           "x": [
            4
           ],
           "xaxis": "x",
           "y": [
            "Germany"
           ],
           "yaxis": "y"
          },
          {
           "alignmentgroup": "True",
           "hovertemplate": "Countries=%{y}<br>release_year=1965<br>Cumulated character influence score=%{x}<extra></extra>",
           "legendgroup": "United States of America",
           "marker": {
            "color": "#EF553B",
            "pattern": {
             "shape": ""
            }
           },
           "name": "United States of America",
           "offsetgroup": "United States of America",
           "orientation": "h",
           "showlegend": true,
           "textposition": "auto",
           "type": "bar",
           "x": [
            19
           ],
           "xaxis": "x",
           "y": [
            "United States of America"
           ],
           "yaxis": "y"
          },
          {
           "alignmentgroup": "True",
           "hovertemplate": "Countries=%{y}<br>release_year=1965<br>Cumulated character influence score=%{x}<extra></extra>",
           "legendgroup": "Brazil",
           "marker": {
            "color": "#00cc96",
            "pattern": {
             "shape": ""
            }
           },
           "name": "Brazil",
           "offsetgroup": "Brazil",
           "orientation": "h",
           "showlegend": true,
           "textposition": "auto",
           "type": "bar",
           "x": [
            0
           ],
           "xaxis": "x",
           "y": [
            "Brazil"
           ],
           "yaxis": "y"
          },
          {
           "alignmentgroup": "True",
           "hovertemplate": "Countries=%{y}<br>release_year=1965<br>Cumulated character influence score=%{x}<extra></extra>",
           "legendgroup": "Netherlands",
           "marker": {
            "color": "#ab63fa",
            "pattern": {
             "shape": ""
            }
           },
           "name": "Netherlands",
           "offsetgroup": "Netherlands",
           "orientation": "h",
           "showlegend": true,
           "textposition": "auto",
           "type": "bar",
           "x": [
            1
           ],
           "xaxis": "x",
           "y": [
            "Netherlands"
           ],
           "yaxis": "y"
          },
          {
           "alignmentgroup": "True",
           "hovertemplate": "Countries=%{y}<br>release_year=1965<br>Cumulated character influence score=%{x}<extra></extra>",
           "legendgroup": "France",
           "marker": {
            "color": "#19d3f3",
            "pattern": {
             "shape": ""
            }
           },
           "name": "France",
           "offsetgroup": "France",
           "orientation": "h",
           "showlegend": true,
           "textposition": "auto",
           "type": "bar",
           "x": [
            5
           ],
           "xaxis": "x",
           "y": [
            "France"
           ],
           "yaxis": "y"
          },
          {
           "alignmentgroup": "True",
           "hovertemplate": "Countries=%{y}<br>release_year=1965<br>Cumulated character influence score=%{x}<extra></extra>",
           "legendgroup": "Czech Republic",
           "marker": {
            "color": "#FF6692",
            "pattern": {
             "shape": ""
            }
           },
           "name": "Czech Republic",
           "offsetgroup": "Czech Republic",
           "orientation": "h",
           "showlegend": true,
           "textposition": "auto",
           "type": "bar",
           "x": [
            2
           ],
           "xaxis": "x",
           "y": [
            "Czech Republic"
           ],
           "yaxis": "y"
          },
          {
           "alignmentgroup": "True",
           "hovertemplate": "Countries=%{y}<br>release_year=1965<br>Cumulated character influence score=%{x}<extra></extra>",
           "legendgroup": "United Kingdom",
           "marker": {
            "color": "#FECB52",
            "pattern": {
             "shape": ""
            }
           },
           "name": "United Kingdom",
           "offsetgroup": "United Kingdom",
           "orientation": "h",
           "showlegend": true,
           "textposition": "auto",
           "type": "bar",
           "x": [
            56
           ],
           "xaxis": "x",
           "y": [
            "United Kingdom"
           ],
           "yaxis": "y"
          },
          {
           "alignmentgroup": "True",
           "hovertemplate": "Countries=%{y}<br>release_year=1965<br>Cumulated character influence score=%{x}<extra></extra>",
           "legendgroup": "Romania",
           "marker": {
            "color": "#636efa",
            "pattern": {
             "shape": ""
            }
           },
           "name": "Romania",
           "offsetgroup": "Romania",
           "orientation": "h",
           "showlegend": true,
           "textposition": "auto",
           "type": "bar",
           "x": [
            2
           ],
           "xaxis": "x",
           "y": [
            "Romania"
           ],
           "yaxis": "y"
          },
          {
           "alignmentgroup": "True",
           "hovertemplate": "Countries=%{y}<br>release_year=1965<br>Cumulated character influence score=%{x}<extra></extra>",
           "legendgroup": "Soviet Union",
           "marker": {
            "color": "#EF553B",
            "pattern": {
             "shape": ""
            }
           },
           "name": "Soviet Union",
           "offsetgroup": "Soviet Union",
           "orientation": "h",
           "showlegend": true,
           "textposition": "auto",
           "type": "bar",
           "x": [
            1
           ],
           "xaxis": "x",
           "y": [
            "Soviet Union"
           ],
           "yaxis": "y"
          },
          {
           "alignmentgroup": "True",
           "hovertemplate": "Countries=%{y}<br>release_year=1965<br>Cumulated character influence score=%{x}<extra></extra>",
           "legendgroup": "Ireland",
           "marker": {
            "color": "#00cc96",
            "pattern": {
             "shape": ""
            }
           },
           "name": "Ireland",
           "offsetgroup": "Ireland",
           "orientation": "h",
           "showlegend": true,
           "textposition": "auto",
           "type": "bar",
           "x": [
            1
           ],
           "xaxis": "x",
           "y": [
            "Ireland"
           ],
           "yaxis": "y"
          }
         ],
         "name": "1965"
        },
        {
         "data": [
          {
           "alignmentgroup": "True",
           "hovertemplate": "Countries=%{y}<br>release_year=1966<br>Cumulated character influence score=%{x}<extra></extra>",
           "legendgroup": "Germany",
           "marker": {
            "color": "#636efa",
            "pattern": {
             "shape": ""
            }
           },
           "name": "Germany",
           "offsetgroup": "Germany",
           "orientation": "h",
           "showlegend": true,
           "textposition": "auto",
           "type": "bar",
           "x": [
            4
           ],
           "xaxis": "x",
           "y": [
            "Germany"
           ],
           "yaxis": "y"
          },
          {
           "alignmentgroup": "True",
           "hovertemplate": "Countries=%{y}<br>release_year=1966<br>Cumulated character influence score=%{x}<extra></extra>",
           "legendgroup": "United States of America",
           "marker": {
            "color": "#EF553B",
            "pattern": {
             "shape": ""
            }
           },
           "name": "United States of America",
           "offsetgroup": "United States of America",
           "orientation": "h",
           "showlegend": true,
           "textposition": "auto",
           "type": "bar",
           "x": [
            20
           ],
           "xaxis": "x",
           "y": [
            "United States of America"
           ],
           "yaxis": "y"
          },
          {
           "alignmentgroup": "True",
           "hovertemplate": "Countries=%{y}<br>release_year=1966<br>Cumulated character influence score=%{x}<extra></extra>",
           "legendgroup": "Brazil",
           "marker": {
            "color": "#00cc96",
            "pattern": {
             "shape": ""
            }
           },
           "name": "Brazil",
           "offsetgroup": "Brazil",
           "orientation": "h",
           "showlegend": true,
           "textposition": "auto",
           "type": "bar",
           "x": [
            0
           ],
           "xaxis": "x",
           "y": [
            "Brazil"
           ],
           "yaxis": "y"
          },
          {
           "alignmentgroup": "True",
           "hovertemplate": "Countries=%{y}<br>release_year=1966<br>Cumulated character influence score=%{x}<extra></extra>",
           "legendgroup": "Netherlands",
           "marker": {
            "color": "#ab63fa",
            "pattern": {
             "shape": ""
            }
           },
           "name": "Netherlands",
           "offsetgroup": "Netherlands",
           "orientation": "h",
           "showlegend": true,
           "textposition": "auto",
           "type": "bar",
           "x": [
            1
           ],
           "xaxis": "x",
           "y": [
            "Netherlands"
           ],
           "yaxis": "y"
          },
          {
           "alignmentgroup": "True",
           "hovertemplate": "Countries=%{y}<br>release_year=1966<br>Cumulated character influence score=%{x}<extra></extra>",
           "legendgroup": "France",
           "marker": {
            "color": "#19d3f3",
            "pattern": {
             "shape": ""
            }
           },
           "name": "France",
           "offsetgroup": "France",
           "orientation": "h",
           "showlegend": true,
           "textposition": "auto",
           "type": "bar",
           "x": [
            5
           ],
           "xaxis": "x",
           "y": [
            "France"
           ],
           "yaxis": "y"
          },
          {
           "alignmentgroup": "True",
           "hovertemplate": "Countries=%{y}<br>release_year=1966<br>Cumulated character influence score=%{x}<extra></extra>",
           "legendgroup": "Czech Republic",
           "marker": {
            "color": "#FF6692",
            "pattern": {
             "shape": ""
            }
           },
           "name": "Czech Republic",
           "offsetgroup": "Czech Republic",
           "orientation": "h",
           "showlegend": true,
           "textposition": "auto",
           "type": "bar",
           "x": [
            2
           ],
           "xaxis": "x",
           "y": [
            "Czech Republic"
           ],
           "yaxis": "y"
          },
          {
           "alignmentgroup": "True",
           "hovertemplate": "Countries=%{y}<br>release_year=1966<br>Cumulated character influence score=%{x}<extra></extra>",
           "legendgroup": "United Kingdom",
           "marker": {
            "color": "#FECB52",
            "pattern": {
             "shape": ""
            }
           },
           "name": "United Kingdom",
           "offsetgroup": "United Kingdom",
           "orientation": "h",
           "showlegend": true,
           "textposition": "auto",
           "type": "bar",
           "x": [
            56
           ],
           "xaxis": "x",
           "y": [
            "United Kingdom"
           ],
           "yaxis": "y"
          },
          {
           "alignmentgroup": "True",
           "hovertemplate": "Countries=%{y}<br>release_year=1966<br>Cumulated character influence score=%{x}<extra></extra>",
           "legendgroup": "Romania",
           "marker": {
            "color": "#636efa",
            "pattern": {
             "shape": ""
            }
           },
           "name": "Romania",
           "offsetgroup": "Romania",
           "orientation": "h",
           "showlegend": true,
           "textposition": "auto",
           "type": "bar",
           "x": [
            2
           ],
           "xaxis": "x",
           "y": [
            "Romania"
           ],
           "yaxis": "y"
          },
          {
           "alignmentgroup": "True",
           "hovertemplate": "Countries=%{y}<br>release_year=1966<br>Cumulated character influence score=%{x}<extra></extra>",
           "legendgroup": "Soviet Union",
           "marker": {
            "color": "#EF553B",
            "pattern": {
             "shape": ""
            }
           },
           "name": "Soviet Union",
           "offsetgroup": "Soviet Union",
           "orientation": "h",
           "showlegend": true,
           "textposition": "auto",
           "type": "bar",
           "x": [
            1
           ],
           "xaxis": "x",
           "y": [
            "Soviet Union"
           ],
           "yaxis": "y"
          },
          {
           "alignmentgroup": "True",
           "hovertemplate": "Countries=%{y}<br>release_year=1966<br>Cumulated character influence score=%{x}<extra></extra>",
           "legendgroup": "Ireland",
           "marker": {
            "color": "#00cc96",
            "pattern": {
             "shape": ""
            }
           },
           "name": "Ireland",
           "offsetgroup": "Ireland",
           "orientation": "h",
           "showlegend": true,
           "textposition": "auto",
           "type": "bar",
           "x": [
            1
           ],
           "xaxis": "x",
           "y": [
            "Ireland"
           ],
           "yaxis": "y"
          }
         ],
         "name": "1966"
        },
        {
         "data": [
          {
           "alignmentgroup": "True",
           "hovertemplate": "Countries=%{y}<br>release_year=1967<br>Cumulated character influence score=%{x}<extra></extra>",
           "legendgroup": "Germany",
           "marker": {
            "color": "#636efa",
            "pattern": {
             "shape": ""
            }
           },
           "name": "Germany",
           "offsetgroup": "Germany",
           "orientation": "h",
           "showlegend": true,
           "textposition": "auto",
           "type": "bar",
           "x": [
            4
           ],
           "xaxis": "x",
           "y": [
            "Germany"
           ],
           "yaxis": "y"
          },
          {
           "alignmentgroup": "True",
           "hovertemplate": "Countries=%{y}<br>release_year=1967<br>Cumulated character influence score=%{x}<extra></extra>",
           "legendgroup": "United States of America",
           "marker": {
            "color": "#EF553B",
            "pattern": {
             "shape": ""
            }
           },
           "name": "United States of America",
           "offsetgroup": "United States of America",
           "orientation": "h",
           "showlegend": true,
           "textposition": "auto",
           "type": "bar",
           "x": [
            20
           ],
           "xaxis": "x",
           "y": [
            "United States of America"
           ],
           "yaxis": "y"
          },
          {
           "alignmentgroup": "True",
           "hovertemplate": "Countries=%{y}<br>release_year=1967<br>Cumulated character influence score=%{x}<extra></extra>",
           "legendgroup": "Brazil",
           "marker": {
            "color": "#00cc96",
            "pattern": {
             "shape": ""
            }
           },
           "name": "Brazil",
           "offsetgroup": "Brazil",
           "orientation": "h",
           "showlegend": true,
           "textposition": "auto",
           "type": "bar",
           "x": [
            0
           ],
           "xaxis": "x",
           "y": [
            "Brazil"
           ],
           "yaxis": "y"
          },
          {
           "alignmentgroup": "True",
           "hovertemplate": "Countries=%{y}<br>release_year=1967<br>Cumulated character influence score=%{x}<extra></extra>",
           "legendgroup": "Netherlands",
           "marker": {
            "color": "#ab63fa",
            "pattern": {
             "shape": ""
            }
           },
           "name": "Netherlands",
           "offsetgroup": "Netherlands",
           "orientation": "h",
           "showlegend": true,
           "textposition": "auto",
           "type": "bar",
           "x": [
            1
           ],
           "xaxis": "x",
           "y": [
            "Netherlands"
           ],
           "yaxis": "y"
          },
          {
           "alignmentgroup": "True",
           "hovertemplate": "Countries=%{y}<br>release_year=1967<br>Cumulated character influence score=%{x}<extra></extra>",
           "legendgroup": "France",
           "marker": {
            "color": "#19d3f3",
            "pattern": {
             "shape": ""
            }
           },
           "name": "France",
           "offsetgroup": "France",
           "orientation": "h",
           "showlegend": true,
           "textposition": "auto",
           "type": "bar",
           "x": [
            6
           ],
           "xaxis": "x",
           "y": [
            "France"
           ],
           "yaxis": "y"
          },
          {
           "alignmentgroup": "True",
           "hovertemplate": "Countries=%{y}<br>release_year=1967<br>Cumulated character influence score=%{x}<extra></extra>",
           "legendgroup": "Czech Republic",
           "marker": {
            "color": "#FF6692",
            "pattern": {
             "shape": ""
            }
           },
           "name": "Czech Republic",
           "offsetgroup": "Czech Republic",
           "orientation": "h",
           "showlegend": true,
           "textposition": "auto",
           "type": "bar",
           "x": [
            2
           ],
           "xaxis": "x",
           "y": [
            "Czech Republic"
           ],
           "yaxis": "y"
          },
          {
           "alignmentgroup": "True",
           "hovertemplate": "Countries=%{y}<br>release_year=1967<br>Cumulated character influence score=%{x}<extra></extra>",
           "legendgroup": "United Kingdom",
           "marker": {
            "color": "#FECB52",
            "pattern": {
             "shape": ""
            }
           },
           "name": "United Kingdom",
           "offsetgroup": "United Kingdom",
           "orientation": "h",
           "showlegend": true,
           "textposition": "auto",
           "type": "bar",
           "x": [
            59
           ],
           "xaxis": "x",
           "y": [
            "United Kingdom"
           ],
           "yaxis": "y"
          },
          {
           "alignmentgroup": "True",
           "hovertemplate": "Countries=%{y}<br>release_year=1967<br>Cumulated character influence score=%{x}<extra></extra>",
           "legendgroup": "Romania",
           "marker": {
            "color": "#636efa",
            "pattern": {
             "shape": ""
            }
           },
           "name": "Romania",
           "offsetgroup": "Romania",
           "orientation": "h",
           "showlegend": true,
           "textposition": "auto",
           "type": "bar",
           "x": [
            2
           ],
           "xaxis": "x",
           "y": [
            "Romania"
           ],
           "yaxis": "y"
          },
          {
           "alignmentgroup": "True",
           "hovertemplate": "Countries=%{y}<br>release_year=1967<br>Cumulated character influence score=%{x}<extra></extra>",
           "legendgroup": "Soviet Union",
           "marker": {
            "color": "#EF553B",
            "pattern": {
             "shape": ""
            }
           },
           "name": "Soviet Union",
           "offsetgroup": "Soviet Union",
           "orientation": "h",
           "showlegend": true,
           "textposition": "auto",
           "type": "bar",
           "x": [
            2
           ],
           "xaxis": "x",
           "y": [
            "Soviet Union"
           ],
           "yaxis": "y"
          },
          {
           "alignmentgroup": "True",
           "hovertemplate": "Countries=%{y}<br>release_year=1967<br>Cumulated character influence score=%{x}<extra></extra>",
           "legendgroup": "Ireland",
           "marker": {
            "color": "#00cc96",
            "pattern": {
             "shape": ""
            }
           },
           "name": "Ireland",
           "offsetgroup": "Ireland",
           "orientation": "h",
           "showlegend": true,
           "textposition": "auto",
           "type": "bar",
           "x": [
            1
           ],
           "xaxis": "x",
           "y": [
            "Ireland"
           ],
           "yaxis": "y"
          }
         ],
         "name": "1967"
        },
        {
         "data": [
          {
           "alignmentgroup": "True",
           "hovertemplate": "Countries=%{y}<br>release_year=1968<br>Cumulated character influence score=%{x}<extra></extra>",
           "legendgroup": "Germany",
           "marker": {
            "color": "#636efa",
            "pattern": {
             "shape": ""
            }
           },
           "name": "Germany",
           "offsetgroup": "Germany",
           "orientation": "h",
           "showlegend": true,
           "textposition": "auto",
           "type": "bar",
           "x": [
            4
           ],
           "xaxis": "x",
           "y": [
            "Germany"
           ],
           "yaxis": "y"
          },
          {
           "alignmentgroup": "True",
           "hovertemplate": "Countries=%{y}<br>release_year=1968<br>Cumulated character influence score=%{x}<extra></extra>",
           "legendgroup": "United States of America",
           "marker": {
            "color": "#EF553B",
            "pattern": {
             "shape": ""
            }
           },
           "name": "United States of America",
           "offsetgroup": "United States of America",
           "orientation": "h",
           "showlegend": true,
           "textposition": "auto",
           "type": "bar",
           "x": [
            21
           ],
           "xaxis": "x",
           "y": [
            "United States of America"
           ],
           "yaxis": "y"
          },
          {
           "alignmentgroup": "True",
           "hovertemplate": "Countries=%{y}<br>release_year=1968<br>Cumulated character influence score=%{x}<extra></extra>",
           "legendgroup": "Brazil",
           "marker": {
            "color": "#00cc96",
            "pattern": {
             "shape": ""
            }
           },
           "name": "Brazil",
           "offsetgroup": "Brazil",
           "orientation": "h",
           "showlegend": true,
           "textposition": "auto",
           "type": "bar",
           "x": [
            0
           ],
           "xaxis": "x",
           "y": [
            "Brazil"
           ],
           "yaxis": "y"
          },
          {
           "alignmentgroup": "True",
           "hovertemplate": "Countries=%{y}<br>release_year=1968<br>Cumulated character influence score=%{x}<extra></extra>",
           "legendgroup": "Netherlands",
           "marker": {
            "color": "#ab63fa",
            "pattern": {
             "shape": ""
            }
           },
           "name": "Netherlands",
           "offsetgroup": "Netherlands",
           "orientation": "h",
           "showlegend": true,
           "textposition": "auto",
           "type": "bar",
           "x": [
            1
           ],
           "xaxis": "x",
           "y": [
            "Netherlands"
           ],
           "yaxis": "y"
          },
          {
           "alignmentgroup": "True",
           "hovertemplate": "Countries=%{y}<br>release_year=1968<br>Cumulated character influence score=%{x}<extra></extra>",
           "legendgroup": "France",
           "marker": {
            "color": "#19d3f3",
            "pattern": {
             "shape": ""
            }
           },
           "name": "France",
           "offsetgroup": "France",
           "orientation": "h",
           "showlegend": true,
           "textposition": "auto",
           "type": "bar",
           "x": [
            6
           ],
           "xaxis": "x",
           "y": [
            "France"
           ],
           "yaxis": "y"
          },
          {
           "alignmentgroup": "True",
           "hovertemplate": "Countries=%{y}<br>release_year=1968<br>Cumulated character influence score=%{x}<extra></extra>",
           "legendgroup": "Czech Republic",
           "marker": {
            "color": "#FF6692",
            "pattern": {
             "shape": ""
            }
           },
           "name": "Czech Republic",
           "offsetgroup": "Czech Republic",
           "orientation": "h",
           "showlegend": true,
           "textposition": "auto",
           "type": "bar",
           "x": [
            3
           ],
           "xaxis": "x",
           "y": [
            "Czech Republic"
           ],
           "yaxis": "y"
          },
          {
           "alignmentgroup": "True",
           "hovertemplate": "Countries=%{y}<br>release_year=1968<br>Cumulated character influence score=%{x}<extra></extra>",
           "legendgroup": "United Kingdom",
           "marker": {
            "color": "#FECB52",
            "pattern": {
             "shape": ""
            }
           },
           "name": "United Kingdom",
           "offsetgroup": "United Kingdom",
           "orientation": "h",
           "showlegend": true,
           "textposition": "auto",
           "type": "bar",
           "x": [
            62
           ],
           "xaxis": "x",
           "y": [
            "United Kingdom"
           ],
           "yaxis": "y"
          },
          {
           "alignmentgroup": "True",
           "hovertemplate": "Countries=%{y}<br>release_year=1968<br>Cumulated character influence score=%{x}<extra></extra>",
           "legendgroup": "Romania",
           "marker": {
            "color": "#636efa",
            "pattern": {
             "shape": ""
            }
           },
           "name": "Romania",
           "offsetgroup": "Romania",
           "orientation": "h",
           "showlegend": true,
           "textposition": "auto",
           "type": "bar",
           "x": [
            2
           ],
           "xaxis": "x",
           "y": [
            "Romania"
           ],
           "yaxis": "y"
          },
          {
           "alignmentgroup": "True",
           "hovertemplate": "Countries=%{y}<br>release_year=1968<br>Cumulated character influence score=%{x}<extra></extra>",
           "legendgroup": "Soviet Union",
           "marker": {
            "color": "#EF553B",
            "pattern": {
             "shape": ""
            }
           },
           "name": "Soviet Union",
           "offsetgroup": "Soviet Union",
           "orientation": "h",
           "showlegend": true,
           "textposition": "auto",
           "type": "bar",
           "x": [
            2
           ],
           "xaxis": "x",
           "y": [
            "Soviet Union"
           ],
           "yaxis": "y"
          },
          {
           "alignmentgroup": "True",
           "hovertemplate": "Countries=%{y}<br>release_year=1968<br>Cumulated character influence score=%{x}<extra></extra>",
           "legendgroup": "Ireland",
           "marker": {
            "color": "#00cc96",
            "pattern": {
             "shape": ""
            }
           },
           "name": "Ireland",
           "offsetgroup": "Ireland",
           "orientation": "h",
           "showlegend": true,
           "textposition": "auto",
           "type": "bar",
           "x": [
            1
           ],
           "xaxis": "x",
           "y": [
            "Ireland"
           ],
           "yaxis": "y"
          }
         ],
         "name": "1968"
        },
        {
         "data": [
          {
           "alignmentgroup": "True",
           "hovertemplate": "Countries=%{y}<br>release_year=1969<br>Cumulated character influence score=%{x}<extra></extra>",
           "legendgroup": "Germany",
           "marker": {
            "color": "#636efa",
            "pattern": {
             "shape": ""
            }
           },
           "name": "Germany",
           "offsetgroup": "Germany",
           "orientation": "h",
           "showlegend": true,
           "textposition": "auto",
           "type": "bar",
           "x": [
            4
           ],
           "xaxis": "x",
           "y": [
            "Germany"
           ],
           "yaxis": "y"
          },
          {
           "alignmentgroup": "True",
           "hovertemplate": "Countries=%{y}<br>release_year=1969<br>Cumulated character influence score=%{x}<extra></extra>",
           "legendgroup": "United States of America",
           "marker": {
            "color": "#EF553B",
            "pattern": {
             "shape": ""
            }
           },
           "name": "United States of America",
           "offsetgroup": "United States of America",
           "orientation": "h",
           "showlegend": true,
           "textposition": "auto",
           "type": "bar",
           "x": [
            21
           ],
           "xaxis": "x",
           "y": [
            "United States of America"
           ],
           "yaxis": "y"
          },
          {
           "alignmentgroup": "True",
           "hovertemplate": "Countries=%{y}<br>release_year=1969<br>Cumulated character influence score=%{x}<extra></extra>",
           "legendgroup": "Brazil",
           "marker": {
            "color": "#00cc96",
            "pattern": {
             "shape": ""
            }
           },
           "name": "Brazil",
           "offsetgroup": "Brazil",
           "orientation": "h",
           "showlegend": true,
           "textposition": "auto",
           "type": "bar",
           "x": [
            0
           ],
           "xaxis": "x",
           "y": [
            "Brazil"
           ],
           "yaxis": "y"
          },
          {
           "alignmentgroup": "True",
           "hovertemplate": "Countries=%{y}<br>release_year=1969<br>Cumulated character influence score=%{x}<extra></extra>",
           "legendgroup": "Netherlands",
           "marker": {
            "color": "#ab63fa",
            "pattern": {
             "shape": ""
            }
           },
           "name": "Netherlands",
           "offsetgroup": "Netherlands",
           "orientation": "h",
           "showlegend": true,
           "textposition": "auto",
           "type": "bar",
           "x": [
            1
           ],
           "xaxis": "x",
           "y": [
            "Netherlands"
           ],
           "yaxis": "y"
          },
          {
           "alignmentgroup": "True",
           "hovertemplate": "Countries=%{y}<br>release_year=1969<br>Cumulated character influence score=%{x}<extra></extra>",
           "legendgroup": "France",
           "marker": {
            "color": "#19d3f3",
            "pattern": {
             "shape": ""
            }
           },
           "name": "France",
           "offsetgroup": "France",
           "orientation": "h",
           "showlegend": true,
           "textposition": "auto",
           "type": "bar",
           "x": [
            6
           ],
           "xaxis": "x",
           "y": [
            "France"
           ],
           "yaxis": "y"
          },
          {
           "alignmentgroup": "True",
           "hovertemplate": "Countries=%{y}<br>release_year=1969<br>Cumulated character influence score=%{x}<extra></extra>",
           "legendgroup": "Czech Republic",
           "marker": {
            "color": "#FF6692",
            "pattern": {
             "shape": ""
            }
           },
           "name": "Czech Republic",
           "offsetgroup": "Czech Republic",
           "orientation": "h",
           "showlegend": true,
           "textposition": "auto",
           "type": "bar",
           "x": [
            3
           ],
           "xaxis": "x",
           "y": [
            "Czech Republic"
           ],
           "yaxis": "y"
          },
          {
           "alignmentgroup": "True",
           "hovertemplate": "Countries=%{y}<br>release_year=1969<br>Cumulated character influence score=%{x}<extra></extra>",
           "legendgroup": "United Kingdom",
           "marker": {
            "color": "#FECB52",
            "pattern": {
             "shape": ""
            }
           },
           "name": "United Kingdom",
           "offsetgroup": "United Kingdom",
           "orientation": "h",
           "showlegend": true,
           "textposition": "auto",
           "type": "bar",
           "x": [
            62
           ],
           "xaxis": "x",
           "y": [
            "United Kingdom"
           ],
           "yaxis": "y"
          },
          {
           "alignmentgroup": "True",
           "hovertemplate": "Countries=%{y}<br>release_year=1969<br>Cumulated character influence score=%{x}<extra></extra>",
           "legendgroup": "Romania",
           "marker": {
            "color": "#636efa",
            "pattern": {
             "shape": ""
            }
           },
           "name": "Romania",
           "offsetgroup": "Romania",
           "orientation": "h",
           "showlegend": true,
           "textposition": "auto",
           "type": "bar",
           "x": [
            2
           ],
           "xaxis": "x",
           "y": [
            "Romania"
           ],
           "yaxis": "y"
          },
          {
           "alignmentgroup": "True",
           "hovertemplate": "Countries=%{y}<br>release_year=1969<br>Cumulated character influence score=%{x}<extra></extra>",
           "legendgroup": "Soviet Union",
           "marker": {
            "color": "#EF553B",
            "pattern": {
             "shape": ""
            }
           },
           "name": "Soviet Union",
           "offsetgroup": "Soviet Union",
           "orientation": "h",
           "showlegend": true,
           "textposition": "auto",
           "type": "bar",
           "x": [
            2
           ],
           "xaxis": "x",
           "y": [
            "Soviet Union"
           ],
           "yaxis": "y"
          },
          {
           "alignmentgroup": "True",
           "hovertemplate": "Countries=%{y}<br>release_year=1969<br>Cumulated character influence score=%{x}<extra></extra>",
           "legendgroup": "Ireland",
           "marker": {
            "color": "#00cc96",
            "pattern": {
             "shape": ""
            }
           },
           "name": "Ireland",
           "offsetgroup": "Ireland",
           "orientation": "h",
           "showlegend": true,
           "textposition": "auto",
           "type": "bar",
           "x": [
            1
           ],
           "xaxis": "x",
           "y": [
            "Ireland"
           ],
           "yaxis": "y"
          }
         ],
         "name": "1969"
        },
        {
         "data": [
          {
           "alignmentgroup": "True",
           "hovertemplate": "Countries=%{y}<br>release_year=1970<br>Cumulated character influence score=%{x}<extra></extra>",
           "legendgroup": "Germany",
           "marker": {
            "color": "#636efa",
            "pattern": {
             "shape": ""
            }
           },
           "name": "Germany",
           "offsetgroup": "Germany",
           "orientation": "h",
           "showlegend": true,
           "textposition": "auto",
           "type": "bar",
           "x": [
            4
           ],
           "xaxis": "x",
           "y": [
            "Germany"
           ],
           "yaxis": "y"
          },
          {
           "alignmentgroup": "True",
           "hovertemplate": "Countries=%{y}<br>release_year=1970<br>Cumulated character influence score=%{x}<extra></extra>",
           "legendgroup": "United States of America",
           "marker": {
            "color": "#EF553B",
            "pattern": {
             "shape": ""
            }
           },
           "name": "United States of America",
           "offsetgroup": "United States of America",
           "orientation": "h",
           "showlegend": true,
           "textposition": "auto",
           "type": "bar",
           "x": [
            22
           ],
           "xaxis": "x",
           "y": [
            "United States of America"
           ],
           "yaxis": "y"
          },
          {
           "alignmentgroup": "True",
           "hovertemplate": "Countries=%{y}<br>release_year=1970<br>Cumulated character influence score=%{x}<extra></extra>",
           "legendgroup": "Netherlands",
           "marker": {
            "color": "#ab63fa",
            "pattern": {
             "shape": ""
            }
           },
           "name": "Netherlands",
           "offsetgroup": "Netherlands",
           "orientation": "h",
           "showlegend": true,
           "textposition": "auto",
           "type": "bar",
           "x": [
            1
           ],
           "xaxis": "x",
           "y": [
            "Netherlands"
           ],
           "yaxis": "y"
          },
          {
           "alignmentgroup": "True",
           "hovertemplate": "Countries=%{y}<br>release_year=1970<br>Cumulated character influence score=%{x}<extra></extra>",
           "legendgroup": "France",
           "marker": {
            "color": "#19d3f3",
            "pattern": {
             "shape": ""
            }
           },
           "name": "France",
           "offsetgroup": "France",
           "orientation": "h",
           "showlegend": true,
           "textposition": "auto",
           "type": "bar",
           "x": [
            6
           ],
           "xaxis": "x",
           "y": [
            "France"
           ],
           "yaxis": "y"
          },
          {
           "alignmentgroup": "True",
           "hovertemplate": "Countries=%{y}<br>release_year=1970<br>Cumulated character influence score=%{x}<extra></extra>",
           "legendgroup": "Czech Republic",
           "marker": {
            "color": "#FF6692",
            "pattern": {
             "shape": ""
            }
           },
           "name": "Czech Republic",
           "offsetgroup": "Czech Republic",
           "orientation": "h",
           "showlegend": true,
           "textposition": "auto",
           "type": "bar",
           "x": [
            3
           ],
           "xaxis": "x",
           "y": [
            "Czech Republic"
           ],
           "yaxis": "y"
          },
          {
           "alignmentgroup": "True",
           "hovertemplate": "Countries=%{y}<br>release_year=1970<br>Cumulated character influence score=%{x}<extra></extra>",
           "legendgroup": "United Kingdom",
           "marker": {
            "color": "#FECB52",
            "pattern": {
             "shape": ""
            }
           },
           "name": "United Kingdom",
           "offsetgroup": "United Kingdom",
           "orientation": "h",
           "showlegend": true,
           "textposition": "auto",
           "type": "bar",
           "x": [
            67
           ],
           "xaxis": "x",
           "y": [
            "United Kingdom"
           ],
           "yaxis": "y"
          },
          {
           "alignmentgroup": "True",
           "hovertemplate": "Countries=%{y}<br>release_year=1970<br>Cumulated character influence score=%{x}<extra></extra>",
           "legendgroup": "Romania",
           "marker": {
            "color": "#636efa",
            "pattern": {
             "shape": ""
            }
           },
           "name": "Romania",
           "offsetgroup": "Romania",
           "orientation": "h",
           "showlegend": true,
           "textposition": "auto",
           "type": "bar",
           "x": [
            3
           ],
           "xaxis": "x",
           "y": [
            "Romania"
           ],
           "yaxis": "y"
          },
          {
           "alignmentgroup": "True",
           "hovertemplate": "Countries=%{y}<br>release_year=1970<br>Cumulated character influence score=%{x}<extra></extra>",
           "legendgroup": "Soviet Union",
           "marker": {
            "color": "#EF553B",
            "pattern": {
             "shape": ""
            }
           },
           "name": "Soviet Union",
           "offsetgroup": "Soviet Union",
           "orientation": "h",
           "showlegend": true,
           "textposition": "auto",
           "type": "bar",
           "x": [
            2
           ],
           "xaxis": "x",
           "y": [
            "Soviet Union"
           ],
           "yaxis": "y"
          },
          {
           "alignmentgroup": "True",
           "hovertemplate": "Countries=%{y}<br>release_year=1970<br>Cumulated character influence score=%{x}<extra></extra>",
           "legendgroup": "Ireland",
           "marker": {
            "color": "#00cc96",
            "pattern": {
             "shape": ""
            }
           },
           "name": "Ireland",
           "offsetgroup": "Ireland",
           "orientation": "h",
           "showlegend": true,
           "textposition": "auto",
           "type": "bar",
           "x": [
            1
           ],
           "xaxis": "x",
           "y": [
            "Ireland"
           ],
           "yaxis": "y"
          },
          {
           "alignmentgroup": "True",
           "hovertemplate": "Countries=%{y}<br>release_year=1970<br>Cumulated character influence score=%{x}<extra></extra>",
           "legendgroup": "Hungary",
           "marker": {
            "color": "#ab63fa",
            "pattern": {
             "shape": ""
            }
           },
           "name": "Hungary",
           "offsetgroup": "Hungary",
           "orientation": "h",
           "showlegend": true,
           "textposition": "auto",
           "type": "bar",
           "x": [
            1
           ],
           "xaxis": "x",
           "y": [
            "Hungary"
           ],
           "yaxis": "y"
          }
         ],
         "name": "1970"
        },
        {
         "data": [
          {
           "alignmentgroup": "True",
           "hovertemplate": "Countries=%{y}<br>release_year=1971<br>Cumulated character influence score=%{x}<extra></extra>",
           "legendgroup": "Germany",
           "marker": {
            "color": "#636efa",
            "pattern": {
             "shape": ""
            }
           },
           "name": "Germany",
           "offsetgroup": "Germany",
           "orientation": "h",
           "showlegend": true,
           "textposition": "auto",
           "type": "bar",
           "x": [
            4
           ],
           "xaxis": "x",
           "y": [
            "Germany"
           ],
           "yaxis": "y"
          },
          {
           "alignmentgroup": "True",
           "hovertemplate": "Countries=%{y}<br>release_year=1971<br>Cumulated character influence score=%{x}<extra></extra>",
           "legendgroup": "United States of America",
           "marker": {
            "color": "#EF553B",
            "pattern": {
             "shape": ""
            }
           },
           "name": "United States of America",
           "offsetgroup": "United States of America",
           "orientation": "h",
           "showlegend": true,
           "textposition": "auto",
           "type": "bar",
           "x": [
            27
           ],
           "xaxis": "x",
           "y": [
            "United States of America"
           ],
           "yaxis": "y"
          },
          {
           "alignmentgroup": "True",
           "hovertemplate": "Countries=%{y}<br>release_year=1971<br>Cumulated character influence score=%{x}<extra></extra>",
           "legendgroup": "Netherlands",
           "marker": {
            "color": "#ab63fa",
            "pattern": {
             "shape": ""
            }
           },
           "name": "Netherlands",
           "offsetgroup": "Netherlands",
           "orientation": "h",
           "showlegend": true,
           "textposition": "auto",
           "type": "bar",
           "x": [
            1
           ],
           "xaxis": "x",
           "y": [
            "Netherlands"
           ],
           "yaxis": "y"
          },
          {
           "alignmentgroup": "True",
           "hovertemplate": "Countries=%{y}<br>release_year=1971<br>Cumulated character influence score=%{x}<extra></extra>",
           "legendgroup": "France",
           "marker": {
            "color": "#19d3f3",
            "pattern": {
             "shape": ""
            }
           },
           "name": "France",
           "offsetgroup": "France",
           "orientation": "h",
           "showlegend": true,
           "textposition": "auto",
           "type": "bar",
           "x": [
            6
           ],
           "xaxis": "x",
           "y": [
            "France"
           ],
           "yaxis": "y"
          },
          {
           "alignmentgroup": "True",
           "hovertemplate": "Countries=%{y}<br>release_year=1971<br>Cumulated character influence score=%{x}<extra></extra>",
           "legendgroup": "Czech Republic",
           "marker": {
            "color": "#FF6692",
            "pattern": {
             "shape": ""
            }
           },
           "name": "Czech Republic",
           "offsetgroup": "Czech Republic",
           "orientation": "h",
           "showlegend": true,
           "textposition": "auto",
           "type": "bar",
           "x": [
            3
           ],
           "xaxis": "x",
           "y": [
            "Czech Republic"
           ],
           "yaxis": "y"
          },
          {
           "alignmentgroup": "True",
           "hovertemplate": "Countries=%{y}<br>release_year=1971<br>Cumulated character influence score=%{x}<extra></extra>",
           "legendgroup": "United Kingdom",
           "marker": {
            "color": "#FECB52",
            "pattern": {
             "shape": ""
            }
           },
           "name": "United Kingdom",
           "offsetgroup": "United Kingdom",
           "orientation": "h",
           "showlegend": true,
           "textposition": "auto",
           "type": "bar",
           "x": [
            72
           ],
           "xaxis": "x",
           "y": [
            "United Kingdom"
           ],
           "yaxis": "y"
          },
          {
           "alignmentgroup": "True",
           "hovertemplate": "Countries=%{y}<br>release_year=1971<br>Cumulated character influence score=%{x}<extra></extra>",
           "legendgroup": "Romania",
           "marker": {
            "color": "#636efa",
            "pattern": {
             "shape": ""
            }
           },
           "name": "Romania",
           "offsetgroup": "Romania",
           "orientation": "h",
           "showlegend": true,
           "textposition": "auto",
           "type": "bar",
           "x": [
            3
           ],
           "xaxis": "x",
           "y": [
            "Romania"
           ],
           "yaxis": "y"
          },
          {
           "alignmentgroup": "True",
           "hovertemplate": "Countries=%{y}<br>release_year=1971<br>Cumulated character influence score=%{x}<extra></extra>",
           "legendgroup": "Soviet Union",
           "marker": {
            "color": "#EF553B",
            "pattern": {
             "shape": ""
            }
           },
           "name": "Soviet Union",
           "offsetgroup": "Soviet Union",
           "orientation": "h",
           "showlegend": true,
           "textposition": "auto",
           "type": "bar",
           "x": [
            2
           ],
           "xaxis": "x",
           "y": [
            "Soviet Union"
           ],
           "yaxis": "y"
          },
          {
           "alignmentgroup": "True",
           "hovertemplate": "Countries=%{y}<br>release_year=1971<br>Cumulated character influence score=%{x}<extra></extra>",
           "legendgroup": "Ireland",
           "marker": {
            "color": "#00cc96",
            "pattern": {
             "shape": ""
            }
           },
           "name": "Ireland",
           "offsetgroup": "Ireland",
           "orientation": "h",
           "showlegend": true,
           "textposition": "auto",
           "type": "bar",
           "x": [
            1
           ],
           "xaxis": "x",
           "y": [
            "Ireland"
           ],
           "yaxis": "y"
          },
          {
           "alignmentgroup": "True",
           "hovertemplate": "Countries=%{y}<br>release_year=1971<br>Cumulated character influence score=%{x}<extra></extra>",
           "legendgroup": "Hungary",
           "marker": {
            "color": "#ab63fa",
            "pattern": {
             "shape": ""
            }
           },
           "name": "Hungary",
           "offsetgroup": "Hungary",
           "orientation": "h",
           "showlegend": true,
           "textposition": "auto",
           "type": "bar",
           "x": [
            1
           ],
           "xaxis": "x",
           "y": [
            "Hungary"
           ],
           "yaxis": "y"
          }
         ],
         "name": "1971"
        },
        {
         "data": [
          {
           "alignmentgroup": "True",
           "hovertemplate": "Countries=%{y}<br>release_year=1972<br>Cumulated character influence score=%{x}<extra></extra>",
           "legendgroup": "Germany",
           "marker": {
            "color": "#636efa",
            "pattern": {
             "shape": ""
            }
           },
           "name": "Germany",
           "offsetgroup": "Germany",
           "orientation": "h",
           "showlegend": true,
           "textposition": "auto",
           "type": "bar",
           "x": [
            4
           ],
           "xaxis": "x",
           "y": [
            "Germany"
           ],
           "yaxis": "y"
          },
          {
           "alignmentgroup": "True",
           "hovertemplate": "Countries=%{y}<br>release_year=1972<br>Cumulated character influence score=%{x}<extra></extra>",
           "legendgroup": "United States of America",
           "marker": {
            "color": "#EF553B",
            "pattern": {
             "shape": ""
            }
           },
           "name": "United States of America",
           "offsetgroup": "United States of America",
           "orientation": "h",
           "showlegend": true,
           "textposition": "auto",
           "type": "bar",
           "x": [
            27
           ],
           "xaxis": "x",
           "y": [
            "United States of America"
           ],
           "yaxis": "y"
          },
          {
           "alignmentgroup": "True",
           "hovertemplate": "Countries=%{y}<br>release_year=1972<br>Cumulated character influence score=%{x}<extra></extra>",
           "legendgroup": "Netherlands",
           "marker": {
            "color": "#ab63fa",
            "pattern": {
             "shape": ""
            }
           },
           "name": "Netherlands",
           "offsetgroup": "Netherlands",
           "orientation": "h",
           "showlegend": true,
           "textposition": "auto",
           "type": "bar",
           "x": [
            1
           ],
           "xaxis": "x",
           "y": [
            "Netherlands"
           ],
           "yaxis": "y"
          },
          {
           "alignmentgroup": "True",
           "hovertemplate": "Countries=%{y}<br>release_year=1972<br>Cumulated character influence score=%{x}<extra></extra>",
           "legendgroup": "France",
           "marker": {
            "color": "#19d3f3",
            "pattern": {
             "shape": ""
            }
           },
           "name": "France",
           "offsetgroup": "France",
           "orientation": "h",
           "showlegend": true,
           "textposition": "auto",
           "type": "bar",
           "x": [
            6
           ],
           "xaxis": "x",
           "y": [
            "France"
           ],
           "yaxis": "y"
          },
          {
           "alignmentgroup": "True",
           "hovertemplate": "Countries=%{y}<br>release_year=1972<br>Cumulated character influence score=%{x}<extra></extra>",
           "legendgroup": "Czech Republic",
           "marker": {
            "color": "#FF6692",
            "pattern": {
             "shape": ""
            }
           },
           "name": "Czech Republic",
           "offsetgroup": "Czech Republic",
           "orientation": "h",
           "showlegend": true,
           "textposition": "auto",
           "type": "bar",
           "x": [
            3
           ],
           "xaxis": "x",
           "y": [
            "Czech Republic"
           ],
           "yaxis": "y"
          },
          {
           "alignmentgroup": "True",
           "hovertemplate": "Countries=%{y}<br>release_year=1972<br>Cumulated character influence score=%{x}<extra></extra>",
           "legendgroup": "United Kingdom",
           "marker": {
            "color": "#FECB52",
            "pattern": {
             "shape": ""
            }
           },
           "name": "United Kingdom",
           "offsetgroup": "United Kingdom",
           "orientation": "h",
           "showlegend": true,
           "textposition": "auto",
           "type": "bar",
           "x": [
            73
           ],
           "xaxis": "x",
           "y": [
            "United Kingdom"
           ],
           "yaxis": "y"
          },
          {
           "alignmentgroup": "True",
           "hovertemplate": "Countries=%{y}<br>release_year=1972<br>Cumulated character influence score=%{x}<extra></extra>",
           "legendgroup": "Romania",
           "marker": {
            "color": "#636efa",
            "pattern": {
             "shape": ""
            }
           },
           "name": "Romania",
           "offsetgroup": "Romania",
           "orientation": "h",
           "showlegend": true,
           "textposition": "auto",
           "type": "bar",
           "x": [
            3
           ],
           "xaxis": "x",
           "y": [
            "Romania"
           ],
           "yaxis": "y"
          },
          {
           "alignmentgroup": "True",
           "hovertemplate": "Countries=%{y}<br>release_year=1972<br>Cumulated character influence score=%{x}<extra></extra>",
           "legendgroup": "Soviet Union",
           "marker": {
            "color": "#EF553B",
            "pattern": {
             "shape": ""
            }
           },
           "name": "Soviet Union",
           "offsetgroup": "Soviet Union",
           "orientation": "h",
           "showlegend": true,
           "textposition": "auto",
           "type": "bar",
           "x": [
            2
           ],
           "xaxis": "x",
           "y": [
            "Soviet Union"
           ],
           "yaxis": "y"
          },
          {
           "alignmentgroup": "True",
           "hovertemplate": "Countries=%{y}<br>release_year=1972<br>Cumulated character influence score=%{x}<extra></extra>",
           "legendgroup": "Hungary",
           "marker": {
            "color": "#ab63fa",
            "pattern": {
             "shape": ""
            }
           },
           "name": "Hungary",
           "offsetgroup": "Hungary",
           "orientation": "h",
           "showlegend": true,
           "textposition": "auto",
           "type": "bar",
           "x": [
            1
           ],
           "xaxis": "x",
           "y": [
            "Hungary"
           ],
           "yaxis": "y"
          },
          {
           "alignmentgroup": "True",
           "hovertemplate": "Countries=%{y}<br>release_year=1972<br>Cumulated character influence score=%{x}<extra></extra>",
           "legendgroup": "Mexico",
           "marker": {
            "color": "#FFA15A",
            "pattern": {
             "shape": ""
            }
           },
           "name": "Mexico",
           "offsetgroup": "Mexico",
           "orientation": "h",
           "showlegend": true,
           "textposition": "auto",
           "type": "bar",
           "x": [
            3
           ],
           "xaxis": "x",
           "y": [
            "Mexico"
           ],
           "yaxis": "y"
          }
         ],
         "name": "1972"
        },
        {
         "data": [
          {
           "alignmentgroup": "True",
           "hovertemplate": "Countries=%{y}<br>release_year=1973<br>Cumulated character influence score=%{x}<extra></extra>",
           "legendgroup": "Germany",
           "marker": {
            "color": "#636efa",
            "pattern": {
             "shape": ""
            }
           },
           "name": "Germany",
           "offsetgroup": "Germany",
           "orientation": "h",
           "showlegend": true,
           "textposition": "auto",
           "type": "bar",
           "x": [
            7
           ],
           "xaxis": "x",
           "y": [
            "Germany"
           ],
           "yaxis": "y"
          },
          {
           "alignmentgroup": "True",
           "hovertemplate": "Countries=%{y}<br>release_year=1973<br>Cumulated character influence score=%{x}<extra></extra>",
           "legendgroup": "United States of America",
           "marker": {
            "color": "#EF553B",
            "pattern": {
             "shape": ""
            }
           },
           "name": "United States of America",
           "offsetgroup": "United States of America",
           "orientation": "h",
           "showlegend": true,
           "textposition": "auto",
           "type": "bar",
           "x": [
            28
           ],
           "xaxis": "x",
           "y": [
            "United States of America"
           ],
           "yaxis": "y"
          },
          {
           "alignmentgroup": "True",
           "hovertemplate": "Countries=%{y}<br>release_year=1973<br>Cumulated character influence score=%{x}<extra></extra>",
           "legendgroup": "Netherlands",
           "marker": {
            "color": "#ab63fa",
            "pattern": {
             "shape": ""
            }
           },
           "name": "Netherlands",
           "offsetgroup": "Netherlands",
           "orientation": "h",
           "showlegend": true,
           "textposition": "auto",
           "type": "bar",
           "x": [
            1
           ],
           "xaxis": "x",
           "y": [
            "Netherlands"
           ],
           "yaxis": "y"
          },
          {
           "alignmentgroup": "True",
           "hovertemplate": "Countries=%{y}<br>release_year=1973<br>Cumulated character influence score=%{x}<extra></extra>",
           "legendgroup": "France",
           "marker": {
            "color": "#19d3f3",
            "pattern": {
             "shape": ""
            }
           },
           "name": "France",
           "offsetgroup": "France",
           "orientation": "h",
           "showlegend": true,
           "textposition": "auto",
           "type": "bar",
           "x": [
            9
           ],
           "xaxis": "x",
           "y": [
            "France"
           ],
           "yaxis": "y"
          },
          {
           "alignmentgroup": "True",
           "hovertemplate": "Countries=%{y}<br>release_year=1973<br>Cumulated character influence score=%{x}<extra></extra>",
           "legendgroup": "Czech Republic",
           "marker": {
            "color": "#FF6692",
            "pattern": {
             "shape": ""
            }
           },
           "name": "Czech Republic",
           "offsetgroup": "Czech Republic",
           "orientation": "h",
           "showlegend": true,
           "textposition": "auto",
           "type": "bar",
           "x": [
            3
           ],
           "xaxis": "x",
           "y": [
            "Czech Republic"
           ],
           "yaxis": "y"
          },
          {
           "alignmentgroup": "True",
           "hovertemplate": "Countries=%{y}<br>release_year=1973<br>Cumulated character influence score=%{x}<extra></extra>",
           "legendgroup": "United Kingdom",
           "marker": {
            "color": "#FECB52",
            "pattern": {
             "shape": ""
            }
           },
           "name": "United Kingdom",
           "offsetgroup": "United Kingdom",
           "orientation": "h",
           "showlegend": true,
           "textposition": "auto",
           "type": "bar",
           "x": [
            78
           ],
           "xaxis": "x",
           "y": [
            "United Kingdom"
           ],
           "yaxis": "y"
          },
          {
           "alignmentgroup": "True",
           "hovertemplate": "Countries=%{y}<br>release_year=1973<br>Cumulated character influence score=%{x}<extra></extra>",
           "legendgroup": "Romania",
           "marker": {
            "color": "#636efa",
            "pattern": {
             "shape": ""
            }
           },
           "name": "Romania",
           "offsetgroup": "Romania",
           "orientation": "h",
           "showlegend": true,
           "textposition": "auto",
           "type": "bar",
           "x": [
            3
           ],
           "xaxis": "x",
           "y": [
            "Romania"
           ],
           "yaxis": "y"
          },
          {
           "alignmentgroup": "True",
           "hovertemplate": "Countries=%{y}<br>release_year=1973<br>Cumulated character influence score=%{x}<extra></extra>",
           "legendgroup": "Soviet Union",
           "marker": {
            "color": "#EF553B",
            "pattern": {
             "shape": ""
            }
           },
           "name": "Soviet Union",
           "offsetgroup": "Soviet Union",
           "orientation": "h",
           "showlegend": true,
           "textposition": "auto",
           "type": "bar",
           "x": [
            2
           ],
           "xaxis": "x",
           "y": [
            "Soviet Union"
           ],
           "yaxis": "y"
          },
          {
           "alignmentgroup": "True",
           "hovertemplate": "Countries=%{y}<br>release_year=1973<br>Cumulated character influence score=%{x}<extra></extra>",
           "legendgroup": "Hungary",
           "marker": {
            "color": "#ab63fa",
            "pattern": {
             "shape": ""
            }
           },
           "name": "Hungary",
           "offsetgroup": "Hungary",
           "orientation": "h",
           "showlegend": true,
           "textposition": "auto",
           "type": "bar",
           "x": [
            1
           ],
           "xaxis": "x",
           "y": [
            "Hungary"
           ],
           "yaxis": "y"
          },
          {
           "alignmentgroup": "True",
           "hovertemplate": "Countries=%{y}<br>release_year=1973<br>Cumulated character influence score=%{x}<extra></extra>",
           "legendgroup": "Mexico",
           "marker": {
            "color": "#FFA15A",
            "pattern": {
             "shape": ""
            }
           },
           "name": "Mexico",
           "offsetgroup": "Mexico",
           "orientation": "h",
           "showlegend": true,
           "textposition": "auto",
           "type": "bar",
           "x": [
            3
           ],
           "xaxis": "x",
           "y": [
            "Mexico"
           ],
           "yaxis": "y"
          }
         ],
         "name": "1973"
        },
        {
         "data": [
          {
           "alignmentgroup": "True",
           "hovertemplate": "Countries=%{y}<br>release_year=1974<br>Cumulated character influence score=%{x}<extra></extra>",
           "legendgroup": "Germany",
           "marker": {
            "color": "#636efa",
            "pattern": {
             "shape": ""
            }
           },
           "name": "Germany",
           "offsetgroup": "Germany",
           "orientation": "h",
           "showlegend": true,
           "textposition": "auto",
           "type": "bar",
           "x": [
            7
           ],
           "xaxis": "x",
           "y": [
            "Germany"
           ],
           "yaxis": "y"
          },
          {
           "alignmentgroup": "True",
           "hovertemplate": "Countries=%{y}<br>release_year=1974<br>Cumulated character influence score=%{x}<extra></extra>",
           "legendgroup": "United States of America",
           "marker": {
            "color": "#EF553B",
            "pattern": {
             "shape": ""
            }
           },
           "name": "United States of America",
           "offsetgroup": "United States of America",
           "orientation": "h",
           "showlegend": true,
           "textposition": "auto",
           "type": "bar",
           "x": [
            28
           ],
           "xaxis": "x",
           "y": [
            "United States of America"
           ],
           "yaxis": "y"
          },
          {
           "alignmentgroup": "True",
           "hovertemplate": "Countries=%{y}<br>release_year=1974<br>Cumulated character influence score=%{x}<extra></extra>",
           "legendgroup": "Netherlands",
           "marker": {
            "color": "#ab63fa",
            "pattern": {
             "shape": ""
            }
           },
           "name": "Netherlands",
           "offsetgroup": "Netherlands",
           "orientation": "h",
           "showlegend": true,
           "textposition": "auto",
           "type": "bar",
           "x": [
            1
           ],
           "xaxis": "x",
           "y": [
            "Netherlands"
           ],
           "yaxis": "y"
          },
          {
           "alignmentgroup": "True",
           "hovertemplate": "Countries=%{y}<br>release_year=1974<br>Cumulated character influence score=%{x}<extra></extra>",
           "legendgroup": "France",
           "marker": {
            "color": "#19d3f3",
            "pattern": {
             "shape": ""
            }
           },
           "name": "France",
           "offsetgroup": "France",
           "orientation": "h",
           "showlegend": true,
           "textposition": "auto",
           "type": "bar",
           "x": [
            10
           ],
           "xaxis": "x",
           "y": [
            "France"
           ],
           "yaxis": "y"
          },
          {
           "alignmentgroup": "True",
           "hovertemplate": "Countries=%{y}<br>release_year=1974<br>Cumulated character influence score=%{x}<extra></extra>",
           "legendgroup": "Czech Republic",
           "marker": {
            "color": "#FF6692",
            "pattern": {
             "shape": ""
            }
           },
           "name": "Czech Republic",
           "offsetgroup": "Czech Republic",
           "orientation": "h",
           "showlegend": true,
           "textposition": "auto",
           "type": "bar",
           "x": [
            3
           ],
           "xaxis": "x",
           "y": [
            "Czech Republic"
           ],
           "yaxis": "y"
          },
          {
           "alignmentgroup": "True",
           "hovertemplate": "Countries=%{y}<br>release_year=1974<br>Cumulated character influence score=%{x}<extra></extra>",
           "legendgroup": "United Kingdom",
           "marker": {
            "color": "#FECB52",
            "pattern": {
             "shape": ""
            }
           },
           "name": "United Kingdom",
           "offsetgroup": "United Kingdom",
           "orientation": "h",
           "showlegend": true,
           "textposition": "auto",
           "type": "bar",
           "x": [
            79
           ],
           "xaxis": "x",
           "y": [
            "United Kingdom"
           ],
           "yaxis": "y"
          },
          {
           "alignmentgroup": "True",
           "hovertemplate": "Countries=%{y}<br>release_year=1974<br>Cumulated character influence score=%{x}<extra></extra>",
           "legendgroup": "Romania",
           "marker": {
            "color": "#636efa",
            "pattern": {
             "shape": ""
            }
           },
           "name": "Romania",
           "offsetgroup": "Romania",
           "orientation": "h",
           "showlegend": true,
           "textposition": "auto",
           "type": "bar",
           "x": [
            3
           ],
           "xaxis": "x",
           "y": [
            "Romania"
           ],
           "yaxis": "y"
          },
          {
           "alignmentgroup": "True",
           "hovertemplate": "Countries=%{y}<br>release_year=1974<br>Cumulated character influence score=%{x}<extra></extra>",
           "legendgroup": "Soviet Union",
           "marker": {
            "color": "#EF553B",
            "pattern": {
             "shape": ""
            }
           },
           "name": "Soviet Union",
           "offsetgroup": "Soviet Union",
           "orientation": "h",
           "showlegend": true,
           "textposition": "auto",
           "type": "bar",
           "x": [
            2
           ],
           "xaxis": "x",
           "y": [
            "Soviet Union"
           ],
           "yaxis": "y"
          },
          {
           "alignmentgroup": "True",
           "hovertemplate": "Countries=%{y}<br>release_year=1974<br>Cumulated character influence score=%{x}<extra></extra>",
           "legendgroup": "Hungary",
           "marker": {
            "color": "#ab63fa",
            "pattern": {
             "shape": ""
            }
           },
           "name": "Hungary",
           "offsetgroup": "Hungary",
           "orientation": "h",
           "showlegend": true,
           "textposition": "auto",
           "type": "bar",
           "x": [
            1
           ],
           "xaxis": "x",
           "y": [
            "Hungary"
           ],
           "yaxis": "y"
          },
          {
           "alignmentgroup": "True",
           "hovertemplate": "Countries=%{y}<br>release_year=1974<br>Cumulated character influence score=%{x}<extra></extra>",
           "legendgroup": "Mexico",
           "marker": {
            "color": "#FFA15A",
            "pattern": {
             "shape": ""
            }
           },
           "name": "Mexico",
           "offsetgroup": "Mexico",
           "orientation": "h",
           "showlegend": true,
           "textposition": "auto",
           "type": "bar",
           "x": [
            3
           ],
           "xaxis": "x",
           "y": [
            "Mexico"
           ],
           "yaxis": "y"
          }
         ],
         "name": "1974"
        },
        {
         "data": [
          {
           "alignmentgroup": "True",
           "hovertemplate": "Countries=%{y}<br>release_year=1975<br>Cumulated character influence score=%{x}<extra></extra>",
           "legendgroup": "Germany",
           "marker": {
            "color": "#636efa",
            "pattern": {
             "shape": ""
            }
           },
           "name": "Germany",
           "offsetgroup": "Germany",
           "orientation": "h",
           "showlegend": true,
           "textposition": "auto",
           "type": "bar",
           "x": [
            7
           ],
           "xaxis": "x",
           "y": [
            "Germany"
           ],
           "yaxis": "y"
          },
          {
           "alignmentgroup": "True",
           "hovertemplate": "Countries=%{y}<br>release_year=1975<br>Cumulated character influence score=%{x}<extra></extra>",
           "legendgroup": "United States of America",
           "marker": {
            "color": "#EF553B",
            "pattern": {
             "shape": ""
            }
           },
           "name": "United States of America",
           "offsetgroup": "United States of America",
           "orientation": "h",
           "showlegend": true,
           "textposition": "auto",
           "type": "bar",
           "x": [
            30
           ],
           "xaxis": "x",
           "y": [
            "United States of America"
           ],
           "yaxis": "y"
          },
          {
           "alignmentgroup": "True",
           "hovertemplate": "Countries=%{y}<br>release_year=1975<br>Cumulated character influence score=%{x}<extra></extra>",
           "legendgroup": "Netherlands",
           "marker": {
            "color": "#ab63fa",
            "pattern": {
             "shape": ""
            }
           },
           "name": "Netherlands",
           "offsetgroup": "Netherlands",
           "orientation": "h",
           "showlegend": true,
           "textposition": "auto",
           "type": "bar",
           "x": [
            1
           ],
           "xaxis": "x",
           "y": [
            "Netherlands"
           ],
           "yaxis": "y"
          },
          {
           "alignmentgroup": "True",
           "hovertemplate": "Countries=%{y}<br>release_year=1975<br>Cumulated character influence score=%{x}<extra></extra>",
           "legendgroup": "France",
           "marker": {
            "color": "#19d3f3",
            "pattern": {
             "shape": ""
            }
           },
           "name": "France",
           "offsetgroup": "France",
           "orientation": "h",
           "showlegend": true,
           "textposition": "auto",
           "type": "bar",
           "x": [
            10
           ],
           "xaxis": "x",
           "y": [
            "France"
           ],
           "yaxis": "y"
          },
          {
           "alignmentgroup": "True",
           "hovertemplate": "Countries=%{y}<br>release_year=1975<br>Cumulated character influence score=%{x}<extra></extra>",
           "legendgroup": "Czech Republic",
           "marker": {
            "color": "#FF6692",
            "pattern": {
             "shape": ""
            }
           },
           "name": "Czech Republic",
           "offsetgroup": "Czech Republic",
           "orientation": "h",
           "showlegend": true,
           "textposition": "auto",
           "type": "bar",
           "x": [
            3
           ],
           "xaxis": "x",
           "y": [
            "Czech Republic"
           ],
           "yaxis": "y"
          },
          {
           "alignmentgroup": "True",
           "hovertemplate": "Countries=%{y}<br>release_year=1975<br>Cumulated character influence score=%{x}<extra></extra>",
           "legendgroup": "United Kingdom",
           "marker": {
            "color": "#FECB52",
            "pattern": {
             "shape": ""
            }
           },
           "name": "United Kingdom",
           "offsetgroup": "United Kingdom",
           "orientation": "h",
           "showlegend": true,
           "textposition": "auto",
           "type": "bar",
           "x": [
            81
           ],
           "xaxis": "x",
           "y": [
            "United Kingdom"
           ],
           "yaxis": "y"
          },
          {
           "alignmentgroup": "True",
           "hovertemplate": "Countries=%{y}<br>release_year=1975<br>Cumulated character influence score=%{x}<extra></extra>",
           "legendgroup": "Romania",
           "marker": {
            "color": "#636efa",
            "pattern": {
             "shape": ""
            }
           },
           "name": "Romania",
           "offsetgroup": "Romania",
           "orientation": "h",
           "showlegend": true,
           "textposition": "auto",
           "type": "bar",
           "x": [
            3
           ],
           "xaxis": "x",
           "y": [
            "Romania"
           ],
           "yaxis": "y"
          },
          {
           "alignmentgroup": "True",
           "hovertemplate": "Countries=%{y}<br>release_year=1975<br>Cumulated character influence score=%{x}<extra></extra>",
           "legendgroup": "Soviet Union",
           "marker": {
            "color": "#EF553B",
            "pattern": {
             "shape": ""
            }
           },
           "name": "Soviet Union",
           "offsetgroup": "Soviet Union",
           "orientation": "h",
           "showlegend": true,
           "textposition": "auto",
           "type": "bar",
           "x": [
            2
           ],
           "xaxis": "x",
           "y": [
            "Soviet Union"
           ],
           "yaxis": "y"
          },
          {
           "alignmentgroup": "True",
           "hovertemplate": "Countries=%{y}<br>release_year=1975<br>Cumulated character influence score=%{x}<extra></extra>",
           "legendgroup": "Hungary",
           "marker": {
            "color": "#ab63fa",
            "pattern": {
             "shape": ""
            }
           },
           "name": "Hungary",
           "offsetgroup": "Hungary",
           "orientation": "h",
           "showlegend": true,
           "textposition": "auto",
           "type": "bar",
           "x": [
            2
           ],
           "xaxis": "x",
           "y": [
            "Hungary"
           ],
           "yaxis": "y"
          },
          {
           "alignmentgroup": "True",
           "hovertemplate": "Countries=%{y}<br>release_year=1975<br>Cumulated character influence score=%{x}<extra></extra>",
           "legendgroup": "Mexico",
           "marker": {
            "color": "#FFA15A",
            "pattern": {
             "shape": ""
            }
           },
           "name": "Mexico",
           "offsetgroup": "Mexico",
           "orientation": "h",
           "showlegend": true,
           "textposition": "auto",
           "type": "bar",
           "x": [
            3
           ],
           "xaxis": "x",
           "y": [
            "Mexico"
           ],
           "yaxis": "y"
          }
         ],
         "name": "1975"
        },
        {
         "data": [
          {
           "alignmentgroup": "True",
           "hovertemplate": "Countries=%{y}<br>release_year=1976<br>Cumulated character influence score=%{x}<extra></extra>",
           "legendgroup": "Germany",
           "marker": {
            "color": "#636efa",
            "pattern": {
             "shape": ""
            }
           },
           "name": "Germany",
           "offsetgroup": "Germany",
           "orientation": "h",
           "showlegend": true,
           "textposition": "auto",
           "type": "bar",
           "x": [
            7
           ],
           "xaxis": "x",
           "y": [
            "Germany"
           ],
           "yaxis": "y"
          },
          {
           "alignmentgroup": "True",
           "hovertemplate": "Countries=%{y}<br>release_year=1976<br>Cumulated character influence score=%{x}<extra></extra>",
           "legendgroup": "United States of America",
           "marker": {
            "color": "#EF553B",
            "pattern": {
             "shape": ""
            }
           },
           "name": "United States of America",
           "offsetgroup": "United States of America",
           "orientation": "h",
           "showlegend": true,
           "textposition": "auto",
           "type": "bar",
           "x": [
            33
           ],
           "xaxis": "x",
           "y": [
            "United States of America"
           ],
           "yaxis": "y"
          },
          {
           "alignmentgroup": "True",
           "hovertemplate": "Countries=%{y}<br>release_year=1976<br>Cumulated character influence score=%{x}<extra></extra>",
           "legendgroup": "Canada",
           "marker": {
            "color": "#FFA15A",
            "pattern": {
             "shape": ""
            }
           },
           "name": "Canada",
           "offsetgroup": "Canada",
           "orientation": "h",
           "showlegend": true,
           "textposition": "auto",
           "type": "bar",
           "x": [
            2
           ],
           "xaxis": "x",
           "y": [
            "Canada"
           ],
           "yaxis": "y"
          },
          {
           "alignmentgroup": "True",
           "hovertemplate": "Countries=%{y}<br>release_year=1976<br>Cumulated character influence score=%{x}<extra></extra>",
           "legendgroup": "France",
           "marker": {
            "color": "#19d3f3",
            "pattern": {
             "shape": ""
            }
           },
           "name": "France",
           "offsetgroup": "France",
           "orientation": "h",
           "showlegend": true,
           "textposition": "auto",
           "type": "bar",
           "x": [
            10
           ],
           "xaxis": "x",
           "y": [
            "France"
           ],
           "yaxis": "y"
          },
          {
           "alignmentgroup": "True",
           "hovertemplate": "Countries=%{y}<br>release_year=1976<br>Cumulated character influence score=%{x}<extra></extra>",
           "legendgroup": "Czech Republic",
           "marker": {
            "color": "#FF6692",
            "pattern": {
             "shape": ""
            }
           },
           "name": "Czech Republic",
           "offsetgroup": "Czech Republic",
           "orientation": "h",
           "showlegend": true,
           "textposition": "auto",
           "type": "bar",
           "x": [
            3
           ],
           "xaxis": "x",
           "y": [
            "Czech Republic"
           ],
           "yaxis": "y"
          },
          {
           "alignmentgroup": "True",
           "hovertemplate": "Countries=%{y}<br>release_year=1976<br>Cumulated character influence score=%{x}<extra></extra>",
           "legendgroup": "United Kingdom",
           "marker": {
            "color": "#FECB52",
            "pattern": {
             "shape": ""
            }
           },
           "name": "United Kingdom",
           "offsetgroup": "United Kingdom",
           "orientation": "h",
           "showlegend": true,
           "textposition": "auto",
           "type": "bar",
           "x": [
            85
           ],
           "xaxis": "x",
           "y": [
            "United Kingdom"
           ],
           "yaxis": "y"
          },
          {
           "alignmentgroup": "True",
           "hovertemplate": "Countries=%{y}<br>release_year=1976<br>Cumulated character influence score=%{x}<extra></extra>",
           "legendgroup": "Romania",
           "marker": {
            "color": "#636efa",
            "pattern": {
             "shape": ""
            }
           },
           "name": "Romania",
           "offsetgroup": "Romania",
           "orientation": "h",
           "showlegend": true,
           "textposition": "auto",
           "type": "bar",
           "x": [
            3
           ],
           "xaxis": "x",
           "y": [
            "Romania"
           ],
           "yaxis": "y"
          },
          {
           "alignmentgroup": "True",
           "hovertemplate": "Countries=%{y}<br>release_year=1976<br>Cumulated character influence score=%{x}<extra></extra>",
           "legendgroup": "Soviet Union",
           "marker": {
            "color": "#EF553B",
            "pattern": {
             "shape": ""
            }
           },
           "name": "Soviet Union",
           "offsetgroup": "Soviet Union",
           "orientation": "h",
           "showlegend": true,
           "textposition": "auto",
           "type": "bar",
           "x": [
            2
           ],
           "xaxis": "x",
           "y": [
            "Soviet Union"
           ],
           "yaxis": "y"
          },
          {
           "alignmentgroup": "True",
           "hovertemplate": "Countries=%{y}<br>release_year=1976<br>Cumulated character influence score=%{x}<extra></extra>",
           "legendgroup": "Hungary",
           "marker": {
            "color": "#ab63fa",
            "pattern": {
             "shape": ""
            }
           },
           "name": "Hungary",
           "offsetgroup": "Hungary",
           "orientation": "h",
           "showlegend": true,
           "textposition": "auto",
           "type": "bar",
           "x": [
            2
           ],
           "xaxis": "x",
           "y": [
            "Hungary"
           ],
           "yaxis": "y"
          },
          {
           "alignmentgroup": "True",
           "hovertemplate": "Countries=%{y}<br>release_year=1976<br>Cumulated character influence score=%{x}<extra></extra>",
           "legendgroup": "Mexico",
           "marker": {
            "color": "#FFA15A",
            "pattern": {
             "shape": ""
            }
           },
           "name": "Mexico",
           "offsetgroup": "Mexico",
           "orientation": "h",
           "showlegend": true,
           "textposition": "auto",
           "type": "bar",
           "x": [
            3
           ],
           "xaxis": "x",
           "y": [
            "Mexico"
           ],
           "yaxis": "y"
          }
         ],
         "name": "1976"
        },
        {
         "data": [
          {
           "alignmentgroup": "True",
           "hovertemplate": "Countries=%{y}<br>release_year=1977<br>Cumulated character influence score=%{x}<extra></extra>",
           "legendgroup": "Germany",
           "marker": {
            "color": "#636efa",
            "pattern": {
             "shape": ""
            }
           },
           "name": "Germany",
           "offsetgroup": "Germany",
           "orientation": "h",
           "showlegend": true,
           "textposition": "auto",
           "type": "bar",
           "x": [
            7
           ],
           "xaxis": "x",
           "y": [
            "Germany"
           ],
           "yaxis": "y"
          },
          {
           "alignmentgroup": "True",
           "hovertemplate": "Countries=%{y}<br>release_year=1977<br>Cumulated character influence score=%{x}<extra></extra>",
           "legendgroup": "United States of America",
           "marker": {
            "color": "#EF553B",
            "pattern": {
             "shape": ""
            }
           },
           "name": "United States of America",
           "offsetgroup": "United States of America",
           "orientation": "h",
           "showlegend": true,
           "textposition": "auto",
           "type": "bar",
           "x": [
            33
           ],
           "xaxis": "x",
           "y": [
            "United States of America"
           ],
           "yaxis": "y"
          },
          {
           "alignmentgroup": "True",
           "hovertemplate": "Countries=%{y}<br>release_year=1977<br>Cumulated character influence score=%{x}<extra></extra>",
           "legendgroup": "Canada",
           "marker": {
            "color": "#FFA15A",
            "pattern": {
             "shape": ""
            }
           },
           "name": "Canada",
           "offsetgroup": "Canada",
           "orientation": "h",
           "showlegend": true,
           "textposition": "auto",
           "type": "bar",
           "x": [
            2
           ],
           "xaxis": "x",
           "y": [
            "Canada"
           ],
           "yaxis": "y"
          },
          {
           "alignmentgroup": "True",
           "hovertemplate": "Countries=%{y}<br>release_year=1977<br>Cumulated character influence score=%{x}<extra></extra>",
           "legendgroup": "France",
           "marker": {
            "color": "#19d3f3",
            "pattern": {
             "shape": ""
            }
           },
           "name": "France",
           "offsetgroup": "France",
           "orientation": "h",
           "showlegend": true,
           "textposition": "auto",
           "type": "bar",
           "x": [
            10
           ],
           "xaxis": "x",
           "y": [
            "France"
           ],
           "yaxis": "y"
          },
          {
           "alignmentgroup": "True",
           "hovertemplate": "Countries=%{y}<br>release_year=1977<br>Cumulated character influence score=%{x}<extra></extra>",
           "legendgroup": "Czech Republic",
           "marker": {
            "color": "#FF6692",
            "pattern": {
             "shape": ""
            }
           },
           "name": "Czech Republic",
           "offsetgroup": "Czech Republic",
           "orientation": "h",
           "showlegend": true,
           "textposition": "auto",
           "type": "bar",
           "x": [
            3
           ],
           "xaxis": "x",
           "y": [
            "Czech Republic"
           ],
           "yaxis": "y"
          },
          {
           "alignmentgroup": "True",
           "hovertemplate": "Countries=%{y}<br>release_year=1977<br>Cumulated character influence score=%{x}<extra></extra>",
           "legendgroup": "United Kingdom",
           "marker": {
            "color": "#FECB52",
            "pattern": {
             "shape": ""
            }
           },
           "name": "United Kingdom",
           "offsetgroup": "United Kingdom",
           "orientation": "h",
           "showlegend": true,
           "textposition": "auto",
           "type": "bar",
           "x": [
            85
           ],
           "xaxis": "x",
           "y": [
            "United Kingdom"
           ],
           "yaxis": "y"
          },
          {
           "alignmentgroup": "True",
           "hovertemplate": "Countries=%{y}<br>release_year=1977<br>Cumulated character influence score=%{x}<extra></extra>",
           "legendgroup": "Romania",
           "marker": {
            "color": "#636efa",
            "pattern": {
             "shape": ""
            }
           },
           "name": "Romania",
           "offsetgroup": "Romania",
           "orientation": "h",
           "showlegend": true,
           "textposition": "auto",
           "type": "bar",
           "x": [
            3
           ],
           "xaxis": "x",
           "y": [
            "Romania"
           ],
           "yaxis": "y"
          },
          {
           "alignmentgroup": "True",
           "hovertemplate": "Countries=%{y}<br>release_year=1977<br>Cumulated character influence score=%{x}<extra></extra>",
           "legendgroup": "Soviet Union",
           "marker": {
            "color": "#EF553B",
            "pattern": {
             "shape": ""
            }
           },
           "name": "Soviet Union",
           "offsetgroup": "Soviet Union",
           "orientation": "h",
           "showlegend": true,
           "textposition": "auto",
           "type": "bar",
           "x": [
            2
           ],
           "xaxis": "x",
           "y": [
            "Soviet Union"
           ],
           "yaxis": "y"
          },
          {
           "alignmentgroup": "True",
           "hovertemplate": "Countries=%{y}<br>release_year=1977<br>Cumulated character influence score=%{x}<extra></extra>",
           "legendgroup": "Hungary",
           "marker": {
            "color": "#ab63fa",
            "pattern": {
             "shape": ""
            }
           },
           "name": "Hungary",
           "offsetgroup": "Hungary",
           "orientation": "h",
           "showlegend": true,
           "textposition": "auto",
           "type": "bar",
           "x": [
            2
           ],
           "xaxis": "x",
           "y": [
            "Hungary"
           ],
           "yaxis": "y"
          },
          {
           "alignmentgroup": "True",
           "hovertemplate": "Countries=%{y}<br>release_year=1977<br>Cumulated character influence score=%{x}<extra></extra>",
           "legendgroup": "Mexico",
           "marker": {
            "color": "#FFA15A",
            "pattern": {
             "shape": ""
            }
           },
           "name": "Mexico",
           "offsetgroup": "Mexico",
           "orientation": "h",
           "showlegend": true,
           "textposition": "auto",
           "type": "bar",
           "x": [
            3
           ],
           "xaxis": "x",
           "y": [
            "Mexico"
           ],
           "yaxis": "y"
          }
         ],
         "name": "1977"
        },
        {
         "data": [
          {
           "alignmentgroup": "True",
           "hovertemplate": "Countries=%{y}<br>release_year=1978<br>Cumulated character influence score=%{x}<extra></extra>",
           "legendgroup": "Germany",
           "marker": {
            "color": "#636efa",
            "pattern": {
             "shape": ""
            }
           },
           "name": "Germany",
           "offsetgroup": "Germany",
           "orientation": "h",
           "showlegend": true,
           "textposition": "auto",
           "type": "bar",
           "x": [
            7
           ],
           "xaxis": "x",
           "y": [
            "Germany"
           ],
           "yaxis": "y"
          },
          {
           "alignmentgroup": "True",
           "hovertemplate": "Countries=%{y}<br>release_year=1978<br>Cumulated character influence score=%{x}<extra></extra>",
           "legendgroup": "United States of America",
           "marker": {
            "color": "#EF553B",
            "pattern": {
             "shape": ""
            }
           },
           "name": "United States of America",
           "offsetgroup": "United States of America",
           "orientation": "h",
           "showlegend": true,
           "textposition": "auto",
           "type": "bar",
           "x": [
            36
           ],
           "xaxis": "x",
           "y": [
            "United States of America"
           ],
           "yaxis": "y"
          },
          {
           "alignmentgroup": "True",
           "hovertemplate": "Countries=%{y}<br>release_year=1978<br>Cumulated character influence score=%{x}<extra></extra>",
           "legendgroup": "Canada",
           "marker": {
            "color": "#FFA15A",
            "pattern": {
             "shape": ""
            }
           },
           "name": "Canada",
           "offsetgroup": "Canada",
           "orientation": "h",
           "showlegend": true,
           "textposition": "auto",
           "type": "bar",
           "x": [
            2
           ],
           "xaxis": "x",
           "y": [
            "Canada"
           ],
           "yaxis": "y"
          },
          {
           "alignmentgroup": "True",
           "hovertemplate": "Countries=%{y}<br>release_year=1978<br>Cumulated character influence score=%{x}<extra></extra>",
           "legendgroup": "France",
           "marker": {
            "color": "#19d3f3",
            "pattern": {
             "shape": ""
            }
           },
           "name": "France",
           "offsetgroup": "France",
           "orientation": "h",
           "showlegend": true,
           "textposition": "auto",
           "type": "bar",
           "x": [
            10
           ],
           "xaxis": "x",
           "y": [
            "France"
           ],
           "yaxis": "y"
          },
          {
           "alignmentgroup": "True",
           "hovertemplate": "Countries=%{y}<br>release_year=1978<br>Cumulated character influence score=%{x}<extra></extra>",
           "legendgroup": "Czech Republic",
           "marker": {
            "color": "#FF6692",
            "pattern": {
             "shape": ""
            }
           },
           "name": "Czech Republic",
           "offsetgroup": "Czech Republic",
           "orientation": "h",
           "showlegend": true,
           "textposition": "auto",
           "type": "bar",
           "x": [
            3
           ],
           "xaxis": "x",
           "y": [
            "Czech Republic"
           ],
           "yaxis": "y"
          },
          {
           "alignmentgroup": "True",
           "hovertemplate": "Countries=%{y}<br>release_year=1978<br>Cumulated character influence score=%{x}<extra></extra>",
           "legendgroup": "United Kingdom",
           "marker": {
            "color": "#FECB52",
            "pattern": {
             "shape": ""
            }
           },
           "name": "United Kingdom",
           "offsetgroup": "United Kingdom",
           "orientation": "h",
           "showlegend": true,
           "textposition": "auto",
           "type": "bar",
           "x": [
            86
           ],
           "xaxis": "x",
           "y": [
            "United Kingdom"
           ],
           "yaxis": "y"
          },
          {
           "alignmentgroup": "True",
           "hovertemplate": "Countries=%{y}<br>release_year=1978<br>Cumulated character influence score=%{x}<extra></extra>",
           "legendgroup": "Romania",
           "marker": {
            "color": "#636efa",
            "pattern": {
             "shape": ""
            }
           },
           "name": "Romania",
           "offsetgroup": "Romania",
           "orientation": "h",
           "showlegend": true,
           "textposition": "auto",
           "type": "bar",
           "x": [
            3
           ],
           "xaxis": "x",
           "y": [
            "Romania"
           ],
           "yaxis": "y"
          },
          {
           "alignmentgroup": "True",
           "hovertemplate": "Countries=%{y}<br>release_year=1978<br>Cumulated character influence score=%{x}<extra></extra>",
           "legendgroup": "Soviet Union",
           "marker": {
            "color": "#EF553B",
            "pattern": {
             "shape": ""
            }
           },
           "name": "Soviet Union",
           "offsetgroup": "Soviet Union",
           "orientation": "h",
           "showlegend": true,
           "textposition": "auto",
           "type": "bar",
           "x": [
            2
           ],
           "xaxis": "x",
           "y": [
            "Soviet Union"
           ],
           "yaxis": "y"
          },
          {
           "alignmentgroup": "True",
           "hovertemplate": "Countries=%{y}<br>release_year=1978<br>Cumulated character influence score=%{x}<extra></extra>",
           "legendgroup": "Hungary",
           "marker": {
            "color": "#ab63fa",
            "pattern": {
             "shape": ""
            }
           },
           "name": "Hungary",
           "offsetgroup": "Hungary",
           "orientation": "h",
           "showlegend": true,
           "textposition": "auto",
           "type": "bar",
           "x": [
            2
           ],
           "xaxis": "x",
           "y": [
            "Hungary"
           ],
           "yaxis": "y"
          },
          {
           "alignmentgroup": "True",
           "hovertemplate": "Countries=%{y}<br>release_year=1978<br>Cumulated character influence score=%{x}<extra></extra>",
           "legendgroup": "Mexico",
           "marker": {
            "color": "#FFA15A",
            "pattern": {
             "shape": ""
            }
           },
           "name": "Mexico",
           "offsetgroup": "Mexico",
           "orientation": "h",
           "showlegend": true,
           "textposition": "auto",
           "type": "bar",
           "x": [
            3
           ],
           "xaxis": "x",
           "y": [
            "Mexico"
           ],
           "yaxis": "y"
          }
         ],
         "name": "1978"
        },
        {
         "data": [
          {
           "alignmentgroup": "True",
           "hovertemplate": "Countries=%{y}<br>release_year=1979<br>Cumulated character influence score=%{x}<extra></extra>",
           "legendgroup": "Germany",
           "marker": {
            "color": "#636efa",
            "pattern": {
             "shape": ""
            }
           },
           "name": "Germany",
           "offsetgroup": "Germany",
           "orientation": "h",
           "showlegend": true,
           "textposition": "auto",
           "type": "bar",
           "x": [
            7
           ],
           "xaxis": "x",
           "y": [
            "Germany"
           ],
           "yaxis": "y"
          },
          {
           "alignmentgroup": "True",
           "hovertemplate": "Countries=%{y}<br>release_year=1979<br>Cumulated character influence score=%{x}<extra></extra>",
           "legendgroup": "United States of America",
           "marker": {
            "color": "#EF553B",
            "pattern": {
             "shape": ""
            }
           },
           "name": "United States of America",
           "offsetgroup": "United States of America",
           "orientation": "h",
           "showlegend": true,
           "textposition": "auto",
           "type": "bar",
           "x": [
            39
           ],
           "xaxis": "x",
           "y": [
            "United States of America"
           ],
           "yaxis": "y"
          },
          {
           "alignmentgroup": "True",
           "hovertemplate": "Countries=%{y}<br>release_year=1979<br>Cumulated character influence score=%{x}<extra></extra>",
           "legendgroup": "Canada",
           "marker": {
            "color": "#FFA15A",
            "pattern": {
             "shape": ""
            }
           },
           "name": "Canada",
           "offsetgroup": "Canada",
           "orientation": "h",
           "showlegend": true,
           "textposition": "auto",
           "type": "bar",
           "x": [
            2
           ],
           "xaxis": "x",
           "y": [
            "Canada"
           ],
           "yaxis": "y"
          },
          {
           "alignmentgroup": "True",
           "hovertemplate": "Countries=%{y}<br>release_year=1979<br>Cumulated character influence score=%{x}<extra></extra>",
           "legendgroup": "France",
           "marker": {
            "color": "#19d3f3",
            "pattern": {
             "shape": ""
            }
           },
           "name": "France",
           "offsetgroup": "France",
           "orientation": "h",
           "showlegend": true,
           "textposition": "auto",
           "type": "bar",
           "x": [
            10
           ],
           "xaxis": "x",
           "y": [
            "France"
           ],
           "yaxis": "y"
          },
          {
           "alignmentgroup": "True",
           "hovertemplate": "Countries=%{y}<br>release_year=1979<br>Cumulated character influence score=%{x}<extra></extra>",
           "legendgroup": "Czech Republic",
           "marker": {
            "color": "#FF6692",
            "pattern": {
             "shape": ""
            }
           },
           "name": "Czech Republic",
           "offsetgroup": "Czech Republic",
           "orientation": "h",
           "showlegend": true,
           "textposition": "auto",
           "type": "bar",
           "x": [
            3
           ],
           "xaxis": "x",
           "y": [
            "Czech Republic"
           ],
           "yaxis": "y"
          },
          {
           "alignmentgroup": "True",
           "hovertemplate": "Countries=%{y}<br>release_year=1979<br>Cumulated character influence score=%{x}<extra></extra>",
           "legendgroup": "United Kingdom",
           "marker": {
            "color": "#FECB52",
            "pattern": {
             "shape": ""
            }
           },
           "name": "United Kingdom",
           "offsetgroup": "United Kingdom",
           "orientation": "h",
           "showlegend": true,
           "textposition": "auto",
           "type": "bar",
           "x": [
            89
           ],
           "xaxis": "x",
           "y": [
            "United Kingdom"
           ],
           "yaxis": "y"
          },
          {
           "alignmentgroup": "True",
           "hovertemplate": "Countries=%{y}<br>release_year=1979<br>Cumulated character influence score=%{x}<extra></extra>",
           "legendgroup": "Romania",
           "marker": {
            "color": "#636efa",
            "pattern": {
             "shape": ""
            }
           },
           "name": "Romania",
           "offsetgroup": "Romania",
           "orientation": "h",
           "showlegend": true,
           "textposition": "auto",
           "type": "bar",
           "x": [
            6
           ],
           "xaxis": "x",
           "y": [
            "Romania"
           ],
           "yaxis": "y"
          },
          {
           "alignmentgroup": "True",
           "hovertemplate": "Countries=%{y}<br>release_year=1979<br>Cumulated character influence score=%{x}<extra></extra>",
           "legendgroup": "Hungary",
           "marker": {
            "color": "#ab63fa",
            "pattern": {
             "shape": ""
            }
           },
           "name": "Hungary",
           "offsetgroup": "Hungary",
           "orientation": "h",
           "showlegend": true,
           "textposition": "auto",
           "type": "bar",
           "x": [
            2
           ],
           "xaxis": "x",
           "y": [
            "Hungary"
           ],
           "yaxis": "y"
          },
          {
           "alignmentgroup": "True",
           "hovertemplate": "Countries=%{y}<br>release_year=1979<br>Cumulated character influence score=%{x}<extra></extra>",
           "legendgroup": "Mexico",
           "marker": {
            "color": "#FFA15A",
            "pattern": {
             "shape": ""
            }
           },
           "name": "Mexico",
           "offsetgroup": "Mexico",
           "orientation": "h",
           "showlegend": true,
           "textposition": "auto",
           "type": "bar",
           "x": [
            3
           ],
           "xaxis": "x",
           "y": [
            "Mexico"
           ],
           "yaxis": "y"
          },
          {
           "alignmentgroup": "True",
           "hovertemplate": "Countries=%{y}<br>release_year=1979<br>Cumulated character influence score=%{x}<extra></extra>",
           "legendgroup": "Italy",
           "marker": {
            "color": "#19d3f3",
            "pattern": {
             "shape": ""
            }
           },
           "name": "Italy",
           "offsetgroup": "Italy",
           "orientation": "h",
           "showlegend": true,
           "textposition": "auto",
           "type": "bar",
           "x": [
            3
           ],
           "xaxis": "x",
           "y": [
            "Italy"
           ],
           "yaxis": "y"
          }
         ],
         "name": "1979"
        },
        {
         "data": [
          {
           "alignmentgroup": "True",
           "hovertemplate": "Countries=%{y}<br>release_year=1980<br>Cumulated character influence score=%{x}<extra></extra>",
           "legendgroup": "Germany",
           "marker": {
            "color": "#636efa",
            "pattern": {
             "shape": ""
            }
           },
           "name": "Germany",
           "offsetgroup": "Germany",
           "orientation": "h",
           "showlegend": true,
           "textposition": "auto",
           "type": "bar",
           "x": [
            7
           ],
           "xaxis": "x",
           "y": [
            "Germany"
           ],
           "yaxis": "y"
          },
          {
           "alignmentgroup": "True",
           "hovertemplate": "Countries=%{y}<br>release_year=1980<br>Cumulated character influence score=%{x}<extra></extra>",
           "legendgroup": "United States of America",
           "marker": {
            "color": "#EF553B",
            "pattern": {
             "shape": ""
            }
           },
           "name": "United States of America",
           "offsetgroup": "United States of America",
           "orientation": "h",
           "showlegend": true,
           "textposition": "auto",
           "type": "bar",
           "x": [
            42
           ],
           "xaxis": "x",
           "y": [
            "United States of America"
           ],
           "yaxis": "y"
          },
          {
           "alignmentgroup": "True",
           "hovertemplate": "Countries=%{y}<br>release_year=1980<br>Cumulated character influence score=%{x}<extra></extra>",
           "legendgroup": "Canada",
           "marker": {
            "color": "#FFA15A",
            "pattern": {
             "shape": ""
            }
           },
           "name": "Canada",
           "offsetgroup": "Canada",
           "orientation": "h",
           "showlegend": true,
           "textposition": "auto",
           "type": "bar",
           "x": [
            3
           ],
           "xaxis": "x",
           "y": [
            "Canada"
           ],
           "yaxis": "y"
          },
          {
           "alignmentgroup": "True",
           "hovertemplate": "Countries=%{y}<br>release_year=1980<br>Cumulated character influence score=%{x}<extra></extra>",
           "legendgroup": "France",
           "marker": {
            "color": "#19d3f3",
            "pattern": {
             "shape": ""
            }
           },
           "name": "France",
           "offsetgroup": "France",
           "orientation": "h",
           "showlegend": true,
           "textposition": "auto",
           "type": "bar",
           "x": [
            10
           ],
           "xaxis": "x",
           "y": [
            "France"
           ],
           "yaxis": "y"
          },
          {
           "alignmentgroup": "True",
           "hovertemplate": "Countries=%{y}<br>release_year=1980<br>Cumulated character influence score=%{x}<extra></extra>",
           "legendgroup": "Czech Republic",
           "marker": {
            "color": "#FF6692",
            "pattern": {
             "shape": ""
            }
           },
           "name": "Czech Republic",
           "offsetgroup": "Czech Republic",
           "orientation": "h",
           "showlegend": true,
           "textposition": "auto",
           "type": "bar",
           "x": [
            3
           ],
           "xaxis": "x",
           "y": [
            "Czech Republic"
           ],
           "yaxis": "y"
          },
          {
           "alignmentgroup": "True",
           "hovertemplate": "Countries=%{y}<br>release_year=1980<br>Cumulated character influence score=%{x}<extra></extra>",
           "legendgroup": "United Kingdom",
           "marker": {
            "color": "#FECB52",
            "pattern": {
             "shape": ""
            }
           },
           "name": "United Kingdom",
           "offsetgroup": "United Kingdom",
           "orientation": "h",
           "showlegend": true,
           "textposition": "auto",
           "type": "bar",
           "x": [
            89
           ],
           "xaxis": "x",
           "y": [
            "United Kingdom"
           ],
           "yaxis": "y"
          },
          {
           "alignmentgroup": "True",
           "hovertemplate": "Countries=%{y}<br>release_year=1980<br>Cumulated character influence score=%{x}<extra></extra>",
           "legendgroup": "Romania",
           "marker": {
            "color": "#636efa",
            "pattern": {
             "shape": ""
            }
           },
           "name": "Romania",
           "offsetgroup": "Romania",
           "orientation": "h",
           "showlegend": true,
           "textposition": "auto",
           "type": "bar",
           "x": [
            6
           ],
           "xaxis": "x",
           "y": [
            "Romania"
           ],
           "yaxis": "y"
          },
          {
           "alignmentgroup": "True",
           "hovertemplate": "Countries=%{y}<br>release_year=1980<br>Cumulated character influence score=%{x}<extra></extra>",
           "legendgroup": "Hungary",
           "marker": {
            "color": "#ab63fa",
            "pattern": {
             "shape": ""
            }
           },
           "name": "Hungary",
           "offsetgroup": "Hungary",
           "orientation": "h",
           "showlegend": true,
           "textposition": "auto",
           "type": "bar",
           "x": [
            2
           ],
           "xaxis": "x",
           "y": [
            "Hungary"
           ],
           "yaxis": "y"
          },
          {
           "alignmentgroup": "True",
           "hovertemplate": "Countries=%{y}<br>release_year=1980<br>Cumulated character influence score=%{x}<extra></extra>",
           "legendgroup": "Mexico",
           "marker": {
            "color": "#FFA15A",
            "pattern": {
             "shape": ""
            }
           },
           "name": "Mexico",
           "offsetgroup": "Mexico",
           "orientation": "h",
           "showlegend": true,
           "textposition": "auto",
           "type": "bar",
           "x": [
            3
           ],
           "xaxis": "x",
           "y": [
            "Mexico"
           ],
           "yaxis": "y"
          },
          {
           "alignmentgroup": "True",
           "hovertemplate": "Countries=%{y}<br>release_year=1980<br>Cumulated character influence score=%{x}<extra></extra>",
           "legendgroup": "Italy",
           "marker": {
            "color": "#19d3f3",
            "pattern": {
             "shape": ""
            }
           },
           "name": "Italy",
           "offsetgroup": "Italy",
           "orientation": "h",
           "showlegend": true,
           "textposition": "auto",
           "type": "bar",
           "x": [
            3
           ],
           "xaxis": "x",
           "y": [
            "Italy"
           ],
           "yaxis": "y"
          }
         ],
         "name": "1980"
        },
        {
         "data": [
          {
           "alignmentgroup": "True",
           "hovertemplate": "Countries=%{y}<br>release_year=1981<br>Cumulated character influence score=%{x}<extra></extra>",
           "legendgroup": "Germany",
           "marker": {
            "color": "#636efa",
            "pattern": {
             "shape": ""
            }
           },
           "name": "Germany",
           "offsetgroup": "Germany",
           "orientation": "h",
           "showlegend": true,
           "textposition": "auto",
           "type": "bar",
           "x": [
            7
           ],
           "xaxis": "x",
           "y": [
            "Germany"
           ],
           "yaxis": "y"
          },
          {
           "alignmentgroup": "True",
           "hovertemplate": "Countries=%{y}<br>release_year=1981<br>Cumulated character influence score=%{x}<extra></extra>",
           "legendgroup": "United States of America",
           "marker": {
            "color": "#EF553B",
            "pattern": {
             "shape": ""
            }
           },
           "name": "United States of America",
           "offsetgroup": "United States of America",
           "orientation": "h",
           "showlegend": true,
           "textposition": "auto",
           "type": "bar",
           "x": [
            44
           ],
           "xaxis": "x",
           "y": [
            "United States of America"
           ],
           "yaxis": "y"
          },
          {
           "alignmentgroup": "True",
           "hovertemplate": "Countries=%{y}<br>release_year=1981<br>Cumulated character influence score=%{x}<extra></extra>",
           "legendgroup": "Canada",
           "marker": {
            "color": "#FFA15A",
            "pattern": {
             "shape": ""
            }
           },
           "name": "Canada",
           "offsetgroup": "Canada",
           "orientation": "h",
           "showlegend": true,
           "textposition": "auto",
           "type": "bar",
           "x": [
            3
           ],
           "xaxis": "x",
           "y": [
            "Canada"
           ],
           "yaxis": "y"
          },
          {
           "alignmentgroup": "True",
           "hovertemplate": "Countries=%{y}<br>release_year=1981<br>Cumulated character influence score=%{x}<extra></extra>",
           "legendgroup": "France",
           "marker": {
            "color": "#19d3f3",
            "pattern": {
             "shape": ""
            }
           },
           "name": "France",
           "offsetgroup": "France",
           "orientation": "h",
           "showlegend": true,
           "textposition": "auto",
           "type": "bar",
           "x": [
            10
           ],
           "xaxis": "x",
           "y": [
            "France"
           ],
           "yaxis": "y"
          },
          {
           "alignmentgroup": "True",
           "hovertemplate": "Countries=%{y}<br>release_year=1981<br>Cumulated character influence score=%{x}<extra></extra>",
           "legendgroup": "Czech Republic",
           "marker": {
            "color": "#FF6692",
            "pattern": {
             "shape": ""
            }
           },
           "name": "Czech Republic",
           "offsetgroup": "Czech Republic",
           "orientation": "h",
           "showlegend": true,
           "textposition": "auto",
           "type": "bar",
           "x": [
            3
           ],
           "xaxis": "x",
           "y": [
            "Czech Republic"
           ],
           "yaxis": "y"
          },
          {
           "alignmentgroup": "True",
           "hovertemplate": "Countries=%{y}<br>release_year=1981<br>Cumulated character influence score=%{x}<extra></extra>",
           "legendgroup": "United Kingdom",
           "marker": {
            "color": "#FECB52",
            "pattern": {
             "shape": ""
            }
           },
           "name": "United Kingdom",
           "offsetgroup": "United Kingdom",
           "orientation": "h",
           "showlegend": true,
           "textposition": "auto",
           "type": "bar",
           "x": [
            92
           ],
           "xaxis": "x",
           "y": [
            "United Kingdom"
           ],
           "yaxis": "y"
          },
          {
           "alignmentgroup": "True",
           "hovertemplate": "Countries=%{y}<br>release_year=1981<br>Cumulated character influence score=%{x}<extra></extra>",
           "legendgroup": "Romania",
           "marker": {
            "color": "#636efa",
            "pattern": {
             "shape": ""
            }
           },
           "name": "Romania",
           "offsetgroup": "Romania",
           "orientation": "h",
           "showlegend": true,
           "textposition": "auto",
           "type": "bar",
           "x": [
            6
           ],
           "xaxis": "x",
           "y": [
            "Romania"
           ],
           "yaxis": "y"
          },
          {
           "alignmentgroup": "True",
           "hovertemplate": "Countries=%{y}<br>release_year=1981<br>Cumulated character influence score=%{x}<extra></extra>",
           "legendgroup": "Hungary",
           "marker": {
            "color": "#ab63fa",
            "pattern": {
             "shape": ""
            }
           },
           "name": "Hungary",
           "offsetgroup": "Hungary",
           "orientation": "h",
           "showlegend": true,
           "textposition": "auto",
           "type": "bar",
           "x": [
            2
           ],
           "xaxis": "x",
           "y": [
            "Hungary"
           ],
           "yaxis": "y"
          },
          {
           "alignmentgroup": "True",
           "hovertemplate": "Countries=%{y}<br>release_year=1981<br>Cumulated character influence score=%{x}<extra></extra>",
           "legendgroup": "Mexico",
           "marker": {
            "color": "#FFA15A",
            "pattern": {
             "shape": ""
            }
           },
           "name": "Mexico",
           "offsetgroup": "Mexico",
           "orientation": "h",
           "showlegend": true,
           "textposition": "auto",
           "type": "bar",
           "x": [
            3
           ],
           "xaxis": "x",
           "y": [
            "Mexico"
           ],
           "yaxis": "y"
          },
          {
           "alignmentgroup": "True",
           "hovertemplate": "Countries=%{y}<br>release_year=1981<br>Cumulated character influence score=%{x}<extra></extra>",
           "legendgroup": "Italy",
           "marker": {
            "color": "#19d3f3",
            "pattern": {
             "shape": ""
            }
           },
           "name": "Italy",
           "offsetgroup": "Italy",
           "orientation": "h",
           "showlegend": true,
           "textposition": "auto",
           "type": "bar",
           "x": [
            3
           ],
           "xaxis": "x",
           "y": [
            "Italy"
           ],
           "yaxis": "y"
          }
         ],
         "name": "1981"
        },
        {
         "data": [
          {
           "alignmentgroup": "True",
           "hovertemplate": "Countries=%{y}<br>release_year=1982<br>Cumulated character influence score=%{x}<extra></extra>",
           "legendgroup": "Germany",
           "marker": {
            "color": "#636efa",
            "pattern": {
             "shape": ""
            }
           },
           "name": "Germany",
           "offsetgroup": "Germany",
           "orientation": "h",
           "showlegend": true,
           "textposition": "auto",
           "type": "bar",
           "x": [
            7
           ],
           "xaxis": "x",
           "y": [
            "Germany"
           ],
           "yaxis": "y"
          },
          {
           "alignmentgroup": "True",
           "hovertemplate": "Countries=%{y}<br>release_year=1982<br>Cumulated character influence score=%{x}<extra></extra>",
           "legendgroup": "United States of America",
           "marker": {
            "color": "#EF553B",
            "pattern": {
             "shape": ""
            }
           },
           "name": "United States of America",
           "offsetgroup": "United States of America",
           "orientation": "h",
           "showlegend": true,
           "textposition": "auto",
           "type": "bar",
           "x": [
            44
           ],
           "xaxis": "x",
           "y": [
            "United States of America"
           ],
           "yaxis": "y"
          },
          {
           "alignmentgroup": "True",
           "hovertemplate": "Countries=%{y}<br>release_year=1982<br>Cumulated character influence score=%{x}<extra></extra>",
           "legendgroup": "Canada",
           "marker": {
            "color": "#FFA15A",
            "pattern": {
             "shape": ""
            }
           },
           "name": "Canada",
           "offsetgroup": "Canada",
           "orientation": "h",
           "showlegend": true,
           "textposition": "auto",
           "type": "bar",
           "x": [
            3
           ],
           "xaxis": "x",
           "y": [
            "Canada"
           ],
           "yaxis": "y"
          },
          {
           "alignmentgroup": "True",
           "hovertemplate": "Countries=%{y}<br>release_year=1982<br>Cumulated character influence score=%{x}<extra></extra>",
           "legendgroup": "France",
           "marker": {
            "color": "#19d3f3",
            "pattern": {
             "shape": ""
            }
           },
           "name": "France",
           "offsetgroup": "France",
           "orientation": "h",
           "showlegend": true,
           "textposition": "auto",
           "type": "bar",
           "x": [
            10
           ],
           "xaxis": "x",
           "y": [
            "France"
           ],
           "yaxis": "y"
          },
          {
           "alignmentgroup": "True",
           "hovertemplate": "Countries=%{y}<br>release_year=1982<br>Cumulated character influence score=%{x}<extra></extra>",
           "legendgroup": "Czech Republic",
           "marker": {
            "color": "#FF6692",
            "pattern": {
             "shape": ""
            }
           },
           "name": "Czech Republic",
           "offsetgroup": "Czech Republic",
           "orientation": "h",
           "showlegend": true,
           "textposition": "auto",
           "type": "bar",
           "x": [
            3
           ],
           "xaxis": "x",
           "y": [
            "Czech Republic"
           ],
           "yaxis": "y"
          },
          {
           "alignmentgroup": "True",
           "hovertemplate": "Countries=%{y}<br>release_year=1982<br>Cumulated character influence score=%{x}<extra></extra>",
           "legendgroup": "United Kingdom",
           "marker": {
            "color": "#FECB52",
            "pattern": {
             "shape": ""
            }
           },
           "name": "United Kingdom",
           "offsetgroup": "United Kingdom",
           "orientation": "h",
           "showlegend": true,
           "textposition": "auto",
           "type": "bar",
           "x": [
            93
           ],
           "xaxis": "x",
           "y": [
            "United Kingdom"
           ],
           "yaxis": "y"
          },
          {
           "alignmentgroup": "True",
           "hovertemplate": "Countries=%{y}<br>release_year=1982<br>Cumulated character influence score=%{x}<extra></extra>",
           "legendgroup": "Romania",
           "marker": {
            "color": "#636efa",
            "pattern": {
             "shape": ""
            }
           },
           "name": "Romania",
           "offsetgroup": "Romania",
           "orientation": "h",
           "showlegend": true,
           "textposition": "auto",
           "type": "bar",
           "x": [
            6
           ],
           "xaxis": "x",
           "y": [
            "Romania"
           ],
           "yaxis": "y"
          },
          {
           "alignmentgroup": "True",
           "hovertemplate": "Countries=%{y}<br>release_year=1982<br>Cumulated character influence score=%{x}<extra></extra>",
           "legendgroup": "Hungary",
           "marker": {
            "color": "#ab63fa",
            "pattern": {
             "shape": ""
            }
           },
           "name": "Hungary",
           "offsetgroup": "Hungary",
           "orientation": "h",
           "showlegend": true,
           "textposition": "auto",
           "type": "bar",
           "x": [
            2
           ],
           "xaxis": "x",
           "y": [
            "Hungary"
           ],
           "yaxis": "y"
          },
          {
           "alignmentgroup": "True",
           "hovertemplate": "Countries=%{y}<br>release_year=1982<br>Cumulated character influence score=%{x}<extra></extra>",
           "legendgroup": "Mexico",
           "marker": {
            "color": "#FFA15A",
            "pattern": {
             "shape": ""
            }
           },
           "name": "Mexico",
           "offsetgroup": "Mexico",
           "orientation": "h",
           "showlegend": true,
           "textposition": "auto",
           "type": "bar",
           "x": [
            3
           ],
           "xaxis": "x",
           "y": [
            "Mexico"
           ],
           "yaxis": "y"
          },
          {
           "alignmentgroup": "True",
           "hovertemplate": "Countries=%{y}<br>release_year=1982<br>Cumulated character influence score=%{x}<extra></extra>",
           "legendgroup": "Italy",
           "marker": {
            "color": "#19d3f3",
            "pattern": {
             "shape": ""
            }
           },
           "name": "Italy",
           "offsetgroup": "Italy",
           "orientation": "h",
           "showlegend": true,
           "textposition": "auto",
           "type": "bar",
           "x": [
            3
           ],
           "xaxis": "x",
           "y": [
            "Italy"
           ],
           "yaxis": "y"
          }
         ],
         "name": "1982"
        },
        {
         "data": [
          {
           "alignmentgroup": "True",
           "hovertemplate": "Countries=%{y}<br>release_year=1983<br>Cumulated character influence score=%{x}<extra></extra>",
           "legendgroup": "Germany",
           "marker": {
            "color": "#636efa",
            "pattern": {
             "shape": ""
            }
           },
           "name": "Germany",
           "offsetgroup": "Germany",
           "orientation": "h",
           "showlegend": true,
           "textposition": "auto",
           "type": "bar",
           "x": [
            8
           ],
           "xaxis": "x",
           "y": [
            "Germany"
           ],
           "yaxis": "y"
          },
          {
           "alignmentgroup": "True",
           "hovertemplate": "Countries=%{y}<br>release_year=1983<br>Cumulated character influence score=%{x}<extra></extra>",
           "legendgroup": "United States of America",
           "marker": {
            "color": "#EF553B",
            "pattern": {
             "shape": ""
            }
           },
           "name": "United States of America",
           "offsetgroup": "United States of America",
           "orientation": "h",
           "showlegend": true,
           "textposition": "auto",
           "type": "bar",
           "x": [
            45
           ],
           "xaxis": "x",
           "y": [
            "United States of America"
           ],
           "yaxis": "y"
          },
          {
           "alignmentgroup": "True",
           "hovertemplate": "Countries=%{y}<br>release_year=1983<br>Cumulated character influence score=%{x}<extra></extra>",
           "legendgroup": "Canada",
           "marker": {
            "color": "#FFA15A",
            "pattern": {
             "shape": ""
            }
           },
           "name": "Canada",
           "offsetgroup": "Canada",
           "orientation": "h",
           "showlegend": true,
           "textposition": "auto",
           "type": "bar",
           "x": [
            3
           ],
           "xaxis": "x",
           "y": [
            "Canada"
           ],
           "yaxis": "y"
          },
          {
           "alignmentgroup": "True",
           "hovertemplate": "Countries=%{y}<br>release_year=1983<br>Cumulated character influence score=%{x}<extra></extra>",
           "legendgroup": "France",
           "marker": {
            "color": "#19d3f3",
            "pattern": {
             "shape": ""
            }
           },
           "name": "France",
           "offsetgroup": "France",
           "orientation": "h",
           "showlegend": true,
           "textposition": "auto",
           "type": "bar",
           "x": [
            10
           ],
           "xaxis": "x",
           "y": [
            "France"
           ],
           "yaxis": "y"
          },
          {
           "alignmentgroup": "True",
           "hovertemplate": "Countries=%{y}<br>release_year=1983<br>Cumulated character influence score=%{x}<extra></extra>",
           "legendgroup": "Czech Republic",
           "marker": {
            "color": "#FF6692",
            "pattern": {
             "shape": ""
            }
           },
           "name": "Czech Republic",
           "offsetgroup": "Czech Republic",
           "orientation": "h",
           "showlegend": true,
           "textposition": "auto",
           "type": "bar",
           "x": [
            3
           ],
           "xaxis": "x",
           "y": [
            "Czech Republic"
           ],
           "yaxis": "y"
          },
          {
           "alignmentgroup": "True",
           "hovertemplate": "Countries=%{y}<br>release_year=1983<br>Cumulated character influence score=%{x}<extra></extra>",
           "legendgroup": "United Kingdom",
           "marker": {
            "color": "#FECB52",
            "pattern": {
             "shape": ""
            }
           },
           "name": "United Kingdom",
           "offsetgroup": "United Kingdom",
           "orientation": "h",
           "showlegend": true,
           "textposition": "auto",
           "type": "bar",
           "x": [
            94
           ],
           "xaxis": "x",
           "y": [
            "United Kingdom"
           ],
           "yaxis": "y"
          },
          {
           "alignmentgroup": "True",
           "hovertemplate": "Countries=%{y}<br>release_year=1983<br>Cumulated character influence score=%{x}<extra></extra>",
           "legendgroup": "Romania",
           "marker": {
            "color": "#636efa",
            "pattern": {
             "shape": ""
            }
           },
           "name": "Romania",
           "offsetgroup": "Romania",
           "orientation": "h",
           "showlegend": true,
           "textposition": "auto",
           "type": "bar",
           "x": [
            6
           ],
           "xaxis": "x",
           "y": [
            "Romania"
           ],
           "yaxis": "y"
          },
          {
           "alignmentgroup": "True",
           "hovertemplate": "Countries=%{y}<br>release_year=1983<br>Cumulated character influence score=%{x}<extra></extra>",
           "legendgroup": "Mexico",
           "marker": {
            "color": "#FFA15A",
            "pattern": {
             "shape": ""
            }
           },
           "name": "Mexico",
           "offsetgroup": "Mexico",
           "orientation": "h",
           "showlegend": true,
           "textposition": "auto",
           "type": "bar",
           "x": [
            3
           ],
           "xaxis": "x",
           "y": [
            "Mexico"
           ],
           "yaxis": "y"
          },
          {
           "alignmentgroup": "True",
           "hovertemplate": "Countries=%{y}<br>release_year=1983<br>Cumulated character influence score=%{x}<extra></extra>",
           "legendgroup": "Italy",
           "marker": {
            "color": "#19d3f3",
            "pattern": {
             "shape": ""
            }
           },
           "name": "Italy",
           "offsetgroup": "Italy",
           "orientation": "h",
           "showlegend": true,
           "textposition": "auto",
           "type": "bar",
           "x": [
            3
           ],
           "xaxis": "x",
           "y": [
            "Italy"
           ],
           "yaxis": "y"
          },
          {
           "alignmentgroup": "True",
           "hovertemplate": "Countries=%{y}<br>release_year=1983<br>Cumulated character influence score=%{x}<extra></extra>",
           "legendgroup": "India",
           "marker": {
            "color": "#FF6692",
            "pattern": {
             "shape": ""
            }
           },
           "name": "India",
           "offsetgroup": "India",
           "orientation": "h",
           "showlegend": true,
           "textposition": "auto",
           "type": "bar",
           "x": [
            4
           ],
           "xaxis": "x",
           "y": [
            "India"
           ],
           "yaxis": "y"
          }
         ],
         "name": "1983"
        },
        {
         "data": [
          {
           "alignmentgroup": "True",
           "hovertemplate": "Countries=%{y}<br>release_year=1984<br>Cumulated character influence score=%{x}<extra></extra>",
           "legendgroup": "Germany",
           "marker": {
            "color": "#636efa",
            "pattern": {
             "shape": ""
            }
           },
           "name": "Germany",
           "offsetgroup": "Germany",
           "orientation": "h",
           "showlegend": true,
           "textposition": "auto",
           "type": "bar",
           "x": [
            10
           ],
           "xaxis": "x",
           "y": [
            "Germany"
           ],
           "yaxis": "y"
          },
          {
           "alignmentgroup": "True",
           "hovertemplate": "Countries=%{y}<br>release_year=1984<br>Cumulated character influence score=%{x}<extra></extra>",
           "legendgroup": "United States of America",
           "marker": {
            "color": "#EF553B",
            "pattern": {
             "shape": ""
            }
           },
           "name": "United States of America",
           "offsetgroup": "United States of America",
           "orientation": "h",
           "showlegend": true,
           "textposition": "auto",
           "type": "bar",
           "x": [
            48
           ],
           "xaxis": "x",
           "y": [
            "United States of America"
           ],
           "yaxis": "y"
          },
          {
           "alignmentgroup": "True",
           "hovertemplate": "Countries=%{y}<br>release_year=1984<br>Cumulated character influence score=%{x}<extra></extra>",
           "legendgroup": "Canada",
           "marker": {
            "color": "#FFA15A",
            "pattern": {
             "shape": ""
            }
           },
           "name": "Canada",
           "offsetgroup": "Canada",
           "orientation": "h",
           "showlegend": true,
           "textposition": "auto",
           "type": "bar",
           "x": [
            3
           ],
           "xaxis": "x",
           "y": [
            "Canada"
           ],
           "yaxis": "y"
          },
          {
           "alignmentgroup": "True",
           "hovertemplate": "Countries=%{y}<br>release_year=1984<br>Cumulated character influence score=%{x}<extra></extra>",
           "legendgroup": "France",
           "marker": {
            "color": "#19d3f3",
            "pattern": {
             "shape": ""
            }
           },
           "name": "France",
           "offsetgroup": "France",
           "orientation": "h",
           "showlegend": true,
           "textposition": "auto",
           "type": "bar",
           "x": [
            10
           ],
           "xaxis": "x",
           "y": [
            "France"
           ],
           "yaxis": "y"
          },
          {
           "alignmentgroup": "True",
           "hovertemplate": "Countries=%{y}<br>release_year=1984<br>Cumulated character influence score=%{x}<extra></extra>",
           "legendgroup": "Czech Republic",
           "marker": {
            "color": "#FF6692",
            "pattern": {
             "shape": ""
            }
           },
           "name": "Czech Republic",
           "offsetgroup": "Czech Republic",
           "orientation": "h",
           "showlegend": true,
           "textposition": "auto",
           "type": "bar",
           "x": [
            3
           ],
           "xaxis": "x",
           "y": [
            "Czech Republic"
           ],
           "yaxis": "y"
          },
          {
           "alignmentgroup": "True",
           "hovertemplate": "Countries=%{y}<br>release_year=1984<br>Cumulated character influence score=%{x}<extra></extra>",
           "legendgroup": "United Kingdom",
           "marker": {
            "color": "#FECB52",
            "pattern": {
             "shape": ""
            }
           },
           "name": "United Kingdom",
           "offsetgroup": "United Kingdom",
           "orientation": "h",
           "showlegend": true,
           "textposition": "auto",
           "type": "bar",
           "x": [
            95
           ],
           "xaxis": "x",
           "y": [
            "United Kingdom"
           ],
           "yaxis": "y"
          },
          {
           "alignmentgroup": "True",
           "hovertemplate": "Countries=%{y}<br>release_year=1984<br>Cumulated character influence score=%{x}<extra></extra>",
           "legendgroup": "Romania",
           "marker": {
            "color": "#636efa",
            "pattern": {
             "shape": ""
            }
           },
           "name": "Romania",
           "offsetgroup": "Romania",
           "orientation": "h",
           "showlegend": true,
           "textposition": "auto",
           "type": "bar",
           "x": [
            6
           ],
           "xaxis": "x",
           "y": [
            "Romania"
           ],
           "yaxis": "y"
          },
          {
           "alignmentgroup": "True",
           "hovertemplate": "Countries=%{y}<br>release_year=1984<br>Cumulated character influence score=%{x}<extra></extra>",
           "legendgroup": "Mexico",
           "marker": {
            "color": "#FFA15A",
            "pattern": {
             "shape": ""
            }
           },
           "name": "Mexico",
           "offsetgroup": "Mexico",
           "orientation": "h",
           "showlegend": true,
           "textposition": "auto",
           "type": "bar",
           "x": [
            3
           ],
           "xaxis": "x",
           "y": [
            "Mexico"
           ],
           "yaxis": "y"
          },
          {
           "alignmentgroup": "True",
           "hovertemplate": "Countries=%{y}<br>release_year=1984<br>Cumulated character influence score=%{x}<extra></extra>",
           "legendgroup": "Italy",
           "marker": {
            "color": "#19d3f3",
            "pattern": {
             "shape": ""
            }
           },
           "name": "Italy",
           "offsetgroup": "Italy",
           "orientation": "h",
           "showlegend": true,
           "textposition": "auto",
           "type": "bar",
           "x": [
            3
           ],
           "xaxis": "x",
           "y": [
            "Italy"
           ],
           "yaxis": "y"
          },
          {
           "alignmentgroup": "True",
           "hovertemplate": "Countries=%{y}<br>release_year=1984<br>Cumulated character influence score=%{x}<extra></extra>",
           "legendgroup": "India",
           "marker": {
            "color": "#FF6692",
            "pattern": {
             "shape": ""
            }
           },
           "name": "India",
           "offsetgroup": "India",
           "orientation": "h",
           "showlegend": true,
           "textposition": "auto",
           "type": "bar",
           "x": [
            4
           ],
           "xaxis": "x",
           "y": [
            "India"
           ],
           "yaxis": "y"
          }
         ],
         "name": "1984"
        },
        {
         "data": [
          {
           "alignmentgroup": "True",
           "hovertemplate": "Countries=%{y}<br>release_year=1985<br>Cumulated character influence score=%{x}<extra></extra>",
           "legendgroup": "Germany",
           "marker": {
            "color": "#636efa",
            "pattern": {
             "shape": ""
            }
           },
           "name": "Germany",
           "offsetgroup": "Germany",
           "orientation": "h",
           "showlegend": true,
           "textposition": "auto",
           "type": "bar",
           "x": [
            10
           ],
           "xaxis": "x",
           "y": [
            "Germany"
           ],
           "yaxis": "y"
          },
          {
           "alignmentgroup": "True",
           "hovertemplate": "Countries=%{y}<br>release_year=1985<br>Cumulated character influence score=%{x}<extra></extra>",
           "legendgroup": "United States of America",
           "marker": {
            "color": "#EF553B",
            "pattern": {
             "shape": ""
            }
           },
           "name": "United States of America",
           "offsetgroup": "United States of America",
           "orientation": "h",
           "showlegend": true,
           "textposition": "auto",
           "type": "bar",
           "x": [
            52
           ],
           "xaxis": "x",
           "y": [
            "United States of America"
           ],
           "yaxis": "y"
          },
          {
           "alignmentgroup": "True",
           "hovertemplate": "Countries=%{y}<br>release_year=1985<br>Cumulated character influence score=%{x}<extra></extra>",
           "legendgroup": "Canada",
           "marker": {
            "color": "#FFA15A",
            "pattern": {
             "shape": ""
            }
           },
           "name": "Canada",
           "offsetgroup": "Canada",
           "orientation": "h",
           "showlegend": true,
           "textposition": "auto",
           "type": "bar",
           "x": [
            3
           ],
           "xaxis": "x",
           "y": [
            "Canada"
           ],
           "yaxis": "y"
          },
          {
           "alignmentgroup": "True",
           "hovertemplate": "Countries=%{y}<br>release_year=1985<br>Cumulated character influence score=%{x}<extra></extra>",
           "legendgroup": "France",
           "marker": {
            "color": "#19d3f3",
            "pattern": {
             "shape": ""
            }
           },
           "name": "France",
           "offsetgroup": "France",
           "orientation": "h",
           "showlegend": true,
           "textposition": "auto",
           "type": "bar",
           "x": [
            10
           ],
           "xaxis": "x",
           "y": [
            "France"
           ],
           "yaxis": "y"
          },
          {
           "alignmentgroup": "True",
           "hovertemplate": "Countries=%{y}<br>release_year=1985<br>Cumulated character influence score=%{x}<extra></extra>",
           "legendgroup": "Czech Republic",
           "marker": {
            "color": "#FF6692",
            "pattern": {
             "shape": ""
            }
           },
           "name": "Czech Republic",
           "offsetgroup": "Czech Republic",
           "orientation": "h",
           "showlegend": true,
           "textposition": "auto",
           "type": "bar",
           "x": [
            4
           ],
           "xaxis": "x",
           "y": [
            "Czech Republic"
           ],
           "yaxis": "y"
          },
          {
           "alignmentgroup": "True",
           "hovertemplate": "Countries=%{y}<br>release_year=1985<br>Cumulated character influence score=%{x}<extra></extra>",
           "legendgroup": "United Kingdom",
           "marker": {
            "color": "#FECB52",
            "pattern": {
             "shape": ""
            }
           },
           "name": "United Kingdom",
           "offsetgroup": "United Kingdom",
           "orientation": "h",
           "showlegend": true,
           "textposition": "auto",
           "type": "bar",
           "x": [
            102
           ],
           "xaxis": "x",
           "y": [
            "United Kingdom"
           ],
           "yaxis": "y"
          },
          {
           "alignmentgroup": "True",
           "hovertemplate": "Countries=%{y}<br>release_year=1985<br>Cumulated character influence score=%{x}<extra></extra>",
           "legendgroup": "Romania",
           "marker": {
            "color": "#636efa",
            "pattern": {
             "shape": ""
            }
           },
           "name": "Romania",
           "offsetgroup": "Romania",
           "orientation": "h",
           "showlegend": true,
           "textposition": "auto",
           "type": "bar",
           "x": [
            6
           ],
           "xaxis": "x",
           "y": [
            "Romania"
           ],
           "yaxis": "y"
          },
          {
           "alignmentgroup": "True",
           "hovertemplate": "Countries=%{y}<br>release_year=1985<br>Cumulated character influence score=%{x}<extra></extra>",
           "legendgroup": "Mexico",
           "marker": {
            "color": "#FFA15A",
            "pattern": {
             "shape": ""
            }
           },
           "name": "Mexico",
           "offsetgroup": "Mexico",
           "orientation": "h",
           "showlegend": true,
           "textposition": "auto",
           "type": "bar",
           "x": [
            3
           ],
           "xaxis": "x",
           "y": [
            "Mexico"
           ],
           "yaxis": "y"
          },
          {
           "alignmentgroup": "True",
           "hovertemplate": "Countries=%{y}<br>release_year=1985<br>Cumulated character influence score=%{x}<extra></extra>",
           "legendgroup": "Italy",
           "marker": {
            "color": "#19d3f3",
            "pattern": {
             "shape": ""
            }
           },
           "name": "Italy",
           "offsetgroup": "Italy",
           "orientation": "h",
           "showlegend": true,
           "textposition": "auto",
           "type": "bar",
           "x": [
            3
           ],
           "xaxis": "x",
           "y": [
            "Italy"
           ],
           "yaxis": "y"
          },
          {
           "alignmentgroup": "True",
           "hovertemplate": "Countries=%{y}<br>release_year=1985<br>Cumulated character influence score=%{x}<extra></extra>",
           "legendgroup": "India",
           "marker": {
            "color": "#FF6692",
            "pattern": {
             "shape": ""
            }
           },
           "name": "India",
           "offsetgroup": "India",
           "orientation": "h",
           "showlegend": true,
           "textposition": "auto",
           "type": "bar",
           "x": [
            4
           ],
           "xaxis": "x",
           "y": [
            "India"
           ],
           "yaxis": "y"
          }
         ],
         "name": "1985"
        },
        {
         "data": [
          {
           "alignmentgroup": "True",
           "hovertemplate": "Countries=%{y}<br>release_year=1986<br>Cumulated character influence score=%{x}<extra></extra>",
           "legendgroup": "Germany",
           "marker": {
            "color": "#636efa",
            "pattern": {
             "shape": ""
            }
           },
           "name": "Germany",
           "offsetgroup": "Germany",
           "orientation": "h",
           "showlegend": true,
           "textposition": "auto",
           "type": "bar",
           "x": [
            10
           ],
           "xaxis": "x",
           "y": [
            "Germany"
           ],
           "yaxis": "y"
          },
          {
           "alignmentgroup": "True",
           "hovertemplate": "Countries=%{y}<br>release_year=1986<br>Cumulated character influence score=%{x}<extra></extra>",
           "legendgroup": "United States of America",
           "marker": {
            "color": "#EF553B",
            "pattern": {
             "shape": ""
            }
           },
           "name": "United States of America",
           "offsetgroup": "United States of America",
           "orientation": "h",
           "showlegend": true,
           "textposition": "auto",
           "type": "bar",
           "x": [
            53
           ],
           "xaxis": "x",
           "y": [
            "United States of America"
           ],
           "yaxis": "y"
          },
          {
           "alignmentgroup": "True",
           "hovertemplate": "Countries=%{y}<br>release_year=1986<br>Cumulated character influence score=%{x}<extra></extra>",
           "legendgroup": "Canada",
           "marker": {
            "color": "#FFA15A",
            "pattern": {
             "shape": ""
            }
           },
           "name": "Canada",
           "offsetgroup": "Canada",
           "orientation": "h",
           "showlegend": true,
           "textposition": "auto",
           "type": "bar",
           "x": [
            5
           ],
           "xaxis": "x",
           "y": [
            "Canada"
           ],
           "yaxis": "y"
          },
          {
           "alignmentgroup": "True",
           "hovertemplate": "Countries=%{y}<br>release_year=1986<br>Cumulated character influence score=%{x}<extra></extra>",
           "legendgroup": "France",
           "marker": {
            "color": "#19d3f3",
            "pattern": {
             "shape": ""
            }
           },
           "name": "France",
           "offsetgroup": "France",
           "orientation": "h",
           "showlegend": true,
           "textposition": "auto",
           "type": "bar",
           "x": [
            11
           ],
           "xaxis": "x",
           "y": [
            "France"
           ],
           "yaxis": "y"
          },
          {
           "alignmentgroup": "True",
           "hovertemplate": "Countries=%{y}<br>release_year=1986<br>Cumulated character influence score=%{x}<extra></extra>",
           "legendgroup": "Czech Republic",
           "marker": {
            "color": "#FF6692",
            "pattern": {
             "shape": ""
            }
           },
           "name": "Czech Republic",
           "offsetgroup": "Czech Republic",
           "orientation": "h",
           "showlegend": true,
           "textposition": "auto",
           "type": "bar",
           "x": [
            4
           ],
           "xaxis": "x",
           "y": [
            "Czech Republic"
           ],
           "yaxis": "y"
          },
          {
           "alignmentgroup": "True",
           "hovertemplate": "Countries=%{y}<br>release_year=1986<br>Cumulated character influence score=%{x}<extra></extra>",
           "legendgroup": "United Kingdom",
           "marker": {
            "color": "#FECB52",
            "pattern": {
             "shape": ""
            }
           },
           "name": "United Kingdom",
           "offsetgroup": "United Kingdom",
           "orientation": "h",
           "showlegend": true,
           "textposition": "auto",
           "type": "bar",
           "x": [
            104
           ],
           "xaxis": "x",
           "y": [
            "United Kingdom"
           ],
           "yaxis": "y"
          },
          {
           "alignmentgroup": "True",
           "hovertemplate": "Countries=%{y}<br>release_year=1986<br>Cumulated character influence score=%{x}<extra></extra>",
           "legendgroup": "Romania",
           "marker": {
            "color": "#636efa",
            "pattern": {
             "shape": ""
            }
           },
           "name": "Romania",
           "offsetgroup": "Romania",
           "orientation": "h",
           "showlegend": true,
           "textposition": "auto",
           "type": "bar",
           "x": [
            6
           ],
           "xaxis": "x",
           "y": [
            "Romania"
           ],
           "yaxis": "y"
          },
          {
           "alignmentgroup": "True",
           "hovertemplate": "Countries=%{y}<br>release_year=1986<br>Cumulated character influence score=%{x}<extra></extra>",
           "legendgroup": "Mexico",
           "marker": {
            "color": "#FFA15A",
            "pattern": {
             "shape": ""
            }
           },
           "name": "Mexico",
           "offsetgroup": "Mexico",
           "orientation": "h",
           "showlegend": true,
           "textposition": "auto",
           "type": "bar",
           "x": [
            3
           ],
           "xaxis": "x",
           "y": [
            "Mexico"
           ],
           "yaxis": "y"
          },
          {
           "alignmentgroup": "True",
           "hovertemplate": "Countries=%{y}<br>release_year=1986<br>Cumulated character influence score=%{x}<extra></extra>",
           "legendgroup": "Italy",
           "marker": {
            "color": "#19d3f3",
            "pattern": {
             "shape": ""
            }
           },
           "name": "Italy",
           "offsetgroup": "Italy",
           "orientation": "h",
           "showlegend": true,
           "textposition": "auto",
           "type": "bar",
           "x": [
            3
           ],
           "xaxis": "x",
           "y": [
            "Italy"
           ],
           "yaxis": "y"
          },
          {
           "alignmentgroup": "True",
           "hovertemplate": "Countries=%{y}<br>release_year=1986<br>Cumulated character influence score=%{x}<extra></extra>",
           "legendgroup": "India",
           "marker": {
            "color": "#FF6692",
            "pattern": {
             "shape": ""
            }
           },
           "name": "India",
           "offsetgroup": "India",
           "orientation": "h",
           "showlegend": true,
           "textposition": "auto",
           "type": "bar",
           "x": [
            4
           ],
           "xaxis": "x",
           "y": [
            "India"
           ],
           "yaxis": "y"
          }
         ],
         "name": "1986"
        },
        {
         "data": [
          {
           "alignmentgroup": "True",
           "hovertemplate": "Countries=%{y}<br>release_year=1987<br>Cumulated character influence score=%{x}<extra></extra>",
           "legendgroup": "Germany",
           "marker": {
            "color": "#636efa",
            "pattern": {
             "shape": ""
            }
           },
           "name": "Germany",
           "offsetgroup": "Germany",
           "orientation": "h",
           "showlegend": true,
           "textposition": "auto",
           "type": "bar",
           "x": [
            11
           ],
           "xaxis": "x",
           "y": [
            "Germany"
           ],
           "yaxis": "y"
          },
          {
           "alignmentgroup": "True",
           "hovertemplate": "Countries=%{y}<br>release_year=1987<br>Cumulated character influence score=%{x}<extra></extra>",
           "legendgroup": "United States of America",
           "marker": {
            "color": "#EF553B",
            "pattern": {
             "shape": ""
            }
           },
           "name": "United States of America",
           "offsetgroup": "United States of America",
           "orientation": "h",
           "showlegend": true,
           "textposition": "auto",
           "type": "bar",
           "x": [
            54
           ],
           "xaxis": "x",
           "y": [
            "United States of America"
           ],
           "yaxis": "y"
          },
          {
           "alignmentgroup": "True",
           "hovertemplate": "Countries=%{y}<br>release_year=1987<br>Cumulated character influence score=%{x}<extra></extra>",
           "legendgroup": "Canada",
           "marker": {
            "color": "#FFA15A",
            "pattern": {
             "shape": ""
            }
           },
           "name": "Canada",
           "offsetgroup": "Canada",
           "orientation": "h",
           "showlegend": true,
           "textposition": "auto",
           "type": "bar",
           "x": [
            5
           ],
           "xaxis": "x",
           "y": [
            "Canada"
           ],
           "yaxis": "y"
          },
          {
           "alignmentgroup": "True",
           "hovertemplate": "Countries=%{y}<br>release_year=1987<br>Cumulated character influence score=%{x}<extra></extra>",
           "legendgroup": "France",
           "marker": {
            "color": "#19d3f3",
            "pattern": {
             "shape": ""
            }
           },
           "name": "France",
           "offsetgroup": "France",
           "orientation": "h",
           "showlegend": true,
           "textposition": "auto",
           "type": "bar",
           "x": [
            11
           ],
           "xaxis": "x",
           "y": [
            "France"
           ],
           "yaxis": "y"
          },
          {
           "alignmentgroup": "True",
           "hovertemplate": "Countries=%{y}<br>release_year=1987<br>Cumulated character influence score=%{x}<extra></extra>",
           "legendgroup": "Czech Republic",
           "marker": {
            "color": "#FF6692",
            "pattern": {
             "shape": ""
            }
           },
           "name": "Czech Republic",
           "offsetgroup": "Czech Republic",
           "orientation": "h",
           "showlegend": true,
           "textposition": "auto",
           "type": "bar",
           "x": [
            4
           ],
           "xaxis": "x",
           "y": [
            "Czech Republic"
           ],
           "yaxis": "y"
          },
          {
           "alignmentgroup": "True",
           "hovertemplate": "Countries=%{y}<br>release_year=1987<br>Cumulated character influence score=%{x}<extra></extra>",
           "legendgroup": "United Kingdom",
           "marker": {
            "color": "#FECB52",
            "pattern": {
             "shape": ""
            }
           },
           "name": "United Kingdom",
           "offsetgroup": "United Kingdom",
           "orientation": "h",
           "showlegend": true,
           "textposition": "auto",
           "type": "bar",
           "x": [
            104
           ],
           "xaxis": "x",
           "y": [
            "United Kingdom"
           ],
           "yaxis": "y"
          },
          {
           "alignmentgroup": "True",
           "hovertemplate": "Countries=%{y}<br>release_year=1987<br>Cumulated character influence score=%{x}<extra></extra>",
           "legendgroup": "Romania",
           "marker": {
            "color": "#636efa",
            "pattern": {
             "shape": ""
            }
           },
           "name": "Romania",
           "offsetgroup": "Romania",
           "orientation": "h",
           "showlegend": true,
           "textposition": "auto",
           "type": "bar",
           "x": [
            6
           ],
           "xaxis": "x",
           "y": [
            "Romania"
           ],
           "yaxis": "y"
          },
          {
           "alignmentgroup": "True",
           "hovertemplate": "Countries=%{y}<br>release_year=1987<br>Cumulated character influence score=%{x}<extra></extra>",
           "legendgroup": "Mexico",
           "marker": {
            "color": "#FFA15A",
            "pattern": {
             "shape": ""
            }
           },
           "name": "Mexico",
           "offsetgroup": "Mexico",
           "orientation": "h",
           "showlegend": true,
           "textposition": "auto",
           "type": "bar",
           "x": [
            3
           ],
           "xaxis": "x",
           "y": [
            "Mexico"
           ],
           "yaxis": "y"
          },
          {
           "alignmentgroup": "True",
           "hovertemplate": "Countries=%{y}<br>release_year=1987<br>Cumulated character influence score=%{x}<extra></extra>",
           "legendgroup": "Italy",
           "marker": {
            "color": "#19d3f3",
            "pattern": {
             "shape": ""
            }
           },
           "name": "Italy",
           "offsetgroup": "Italy",
           "orientation": "h",
           "showlegend": true,
           "textposition": "auto",
           "type": "bar",
           "x": [
            3
           ],
           "xaxis": "x",
           "y": [
            "Italy"
           ],
           "yaxis": "y"
          },
          {
           "alignmentgroup": "True",
           "hovertemplate": "Countries=%{y}<br>release_year=1987<br>Cumulated character influence score=%{x}<extra></extra>",
           "legendgroup": "India",
           "marker": {
            "color": "#FF6692",
            "pattern": {
             "shape": ""
            }
           },
           "name": "India",
           "offsetgroup": "India",
           "orientation": "h",
           "showlegend": true,
           "textposition": "auto",
           "type": "bar",
           "x": [
            4
           ],
           "xaxis": "x",
           "y": [
            "India"
           ],
           "yaxis": "y"
          }
         ],
         "name": "1987"
        },
        {
         "data": [
          {
           "alignmentgroup": "True",
           "hovertemplate": "Countries=%{y}<br>release_year=1988<br>Cumulated character influence score=%{x}<extra></extra>",
           "legendgroup": "Germany",
           "marker": {
            "color": "#636efa",
            "pattern": {
             "shape": ""
            }
           },
           "name": "Germany",
           "offsetgroup": "Germany",
           "orientation": "h",
           "showlegend": true,
           "textposition": "auto",
           "type": "bar",
           "x": [
            11
           ],
           "xaxis": "x",
           "y": [
            "Germany"
           ],
           "yaxis": "y"
          },
          {
           "alignmentgroup": "True",
           "hovertemplate": "Countries=%{y}<br>release_year=1988<br>Cumulated character influence score=%{x}<extra></extra>",
           "legendgroup": "United States of America",
           "marker": {
            "color": "#EF553B",
            "pattern": {
             "shape": ""
            }
           },
           "name": "United States of America",
           "offsetgroup": "United States of America",
           "orientation": "h",
           "showlegend": true,
           "textposition": "auto",
           "type": "bar",
           "x": [
            54
           ],
           "xaxis": "x",
           "y": [
            "United States of America"
           ],
           "yaxis": "y"
          },
          {
           "alignmentgroup": "True",
           "hovertemplate": "Countries=%{y}<br>release_year=1988<br>Cumulated character influence score=%{x}<extra></extra>",
           "legendgroup": "Canada",
           "marker": {
            "color": "#FFA15A",
            "pattern": {
             "shape": ""
            }
           },
           "name": "Canada",
           "offsetgroup": "Canada",
           "orientation": "h",
           "showlegend": true,
           "textposition": "auto",
           "type": "bar",
           "x": [
            5
           ],
           "xaxis": "x",
           "y": [
            "Canada"
           ],
           "yaxis": "y"
          },
          {
           "alignmentgroup": "True",
           "hovertemplate": "Countries=%{y}<br>release_year=1988<br>Cumulated character influence score=%{x}<extra></extra>",
           "legendgroup": "France",
           "marker": {
            "color": "#19d3f3",
            "pattern": {
             "shape": ""
            }
           },
           "name": "France",
           "offsetgroup": "France",
           "orientation": "h",
           "showlegend": true,
           "textposition": "auto",
           "type": "bar",
           "x": [
            13
           ],
           "xaxis": "x",
           "y": [
            "France"
           ],
           "yaxis": "y"
          },
          {
           "alignmentgroup": "True",
           "hovertemplate": "Countries=%{y}<br>release_year=1988<br>Cumulated character influence score=%{x}<extra></extra>",
           "legendgroup": "Czech Republic",
           "marker": {
            "color": "#FF6692",
            "pattern": {
             "shape": ""
            }
           },
           "name": "Czech Republic",
           "offsetgroup": "Czech Republic",
           "orientation": "h",
           "showlegend": true,
           "textposition": "auto",
           "type": "bar",
           "x": [
            4
           ],
           "xaxis": "x",
           "y": [
            "Czech Republic"
           ],
           "yaxis": "y"
          },
          {
           "alignmentgroup": "True",
           "hovertemplate": "Countries=%{y}<br>release_year=1988<br>Cumulated character influence score=%{x}<extra></extra>",
           "legendgroup": "United Kingdom",
           "marker": {
            "color": "#FECB52",
            "pattern": {
             "shape": ""
            }
           },
           "name": "United Kingdom",
           "offsetgroup": "United Kingdom",
           "orientation": "h",
           "showlegend": true,
           "textposition": "auto",
           "type": "bar",
           "x": [
            105
           ],
           "xaxis": "x",
           "y": [
            "United Kingdom"
           ],
           "yaxis": "y"
          },
          {
           "alignmentgroup": "True",
           "hovertemplate": "Countries=%{y}<br>release_year=1988<br>Cumulated character influence score=%{x}<extra></extra>",
           "legendgroup": "Romania",
           "marker": {
            "color": "#636efa",
            "pattern": {
             "shape": ""
            }
           },
           "name": "Romania",
           "offsetgroup": "Romania",
           "orientation": "h",
           "showlegend": true,
           "textposition": "auto",
           "type": "bar",
           "x": [
            6
           ],
           "xaxis": "x",
           "y": [
            "Romania"
           ],
           "yaxis": "y"
          },
          {
           "alignmentgroup": "True",
           "hovertemplate": "Countries=%{y}<br>release_year=1988<br>Cumulated character influence score=%{x}<extra></extra>",
           "legendgroup": "Mexico",
           "marker": {
            "color": "#FFA15A",
            "pattern": {
             "shape": ""
            }
           },
           "name": "Mexico",
           "offsetgroup": "Mexico",
           "orientation": "h",
           "showlegend": true,
           "textposition": "auto",
           "type": "bar",
           "x": [
            3
           ],
           "xaxis": "x",
           "y": [
            "Mexico"
           ],
           "yaxis": "y"
          },
          {
           "alignmentgroup": "True",
           "hovertemplate": "Countries=%{y}<br>release_year=1988<br>Cumulated character influence score=%{x}<extra></extra>",
           "legendgroup": "Italy",
           "marker": {
            "color": "#19d3f3",
            "pattern": {
             "shape": ""
            }
           },
           "name": "Italy",
           "offsetgroup": "Italy",
           "orientation": "h",
           "showlegend": true,
           "textposition": "auto",
           "type": "bar",
           "x": [
            3
           ],
           "xaxis": "x",
           "y": [
            "Italy"
           ],
           "yaxis": "y"
          },
          {
           "alignmentgroup": "True",
           "hovertemplate": "Countries=%{y}<br>release_year=1988<br>Cumulated character influence score=%{x}<extra></extra>",
           "legendgroup": "India",
           "marker": {
            "color": "#FF6692",
            "pattern": {
             "shape": ""
            }
           },
           "name": "India",
           "offsetgroup": "India",
           "orientation": "h",
           "showlegend": true,
           "textposition": "auto",
           "type": "bar",
           "x": [
            4
           ],
           "xaxis": "x",
           "y": [
            "India"
           ],
           "yaxis": "y"
          }
         ],
         "name": "1988"
        },
        {
         "data": [
          {
           "alignmentgroup": "True",
           "hovertemplate": "Countries=%{y}<br>release_year=1989<br>Cumulated character influence score=%{x}<extra></extra>",
           "legendgroup": "Germany",
           "marker": {
            "color": "#636efa",
            "pattern": {
             "shape": ""
            }
           },
           "name": "Germany",
           "offsetgroup": "Germany",
           "orientation": "h",
           "showlegend": true,
           "textposition": "auto",
           "type": "bar",
           "x": [
            11
           ],
           "xaxis": "x",
           "y": [
            "Germany"
           ],
           "yaxis": "y"
          },
          {
           "alignmentgroup": "True",
           "hovertemplate": "Countries=%{y}<br>release_year=1989<br>Cumulated character influence score=%{x}<extra></extra>",
           "legendgroup": "United States of America",
           "marker": {
            "color": "#EF553B",
            "pattern": {
             "shape": ""
            }
           },
           "name": "United States of America",
           "offsetgroup": "United States of America",
           "orientation": "h",
           "showlegend": true,
           "textposition": "auto",
           "type": "bar",
           "x": [
            56
           ],
           "xaxis": "x",
           "y": [
            "United States of America"
           ],
           "yaxis": "y"
          },
          {
           "alignmentgroup": "True",
           "hovertemplate": "Countries=%{y}<br>release_year=1989<br>Cumulated character influence score=%{x}<extra></extra>",
           "legendgroup": "Canada",
           "marker": {
            "color": "#FFA15A",
            "pattern": {
             "shape": ""
            }
           },
           "name": "Canada",
           "offsetgroup": "Canada",
           "orientation": "h",
           "showlegend": true,
           "textposition": "auto",
           "type": "bar",
           "x": [
            8
           ],
           "xaxis": "x",
           "y": [
            "Canada"
           ],
           "yaxis": "y"
          },
          {
           "alignmentgroup": "True",
           "hovertemplate": "Countries=%{y}<br>release_year=1989<br>Cumulated character influence score=%{x}<extra></extra>",
           "legendgroup": "France",
           "marker": {
            "color": "#19d3f3",
            "pattern": {
             "shape": ""
            }
           },
           "name": "France",
           "offsetgroup": "France",
           "orientation": "h",
           "showlegend": true,
           "textposition": "auto",
           "type": "bar",
           "x": [
            13
           ],
           "xaxis": "x",
           "y": [
            "France"
           ],
           "yaxis": "y"
          },
          {
           "alignmentgroup": "True",
           "hovertemplate": "Countries=%{y}<br>release_year=1989<br>Cumulated character influence score=%{x}<extra></extra>",
           "legendgroup": "Czech Republic",
           "marker": {
            "color": "#FF6692",
            "pattern": {
             "shape": ""
            }
           },
           "name": "Czech Republic",
           "offsetgroup": "Czech Republic",
           "orientation": "h",
           "showlegend": true,
           "textposition": "auto",
           "type": "bar",
           "x": [
            4
           ],
           "xaxis": "x",
           "y": [
            "Czech Republic"
           ],
           "yaxis": "y"
          },
          {
           "alignmentgroup": "True",
           "hovertemplate": "Countries=%{y}<br>release_year=1989<br>Cumulated character influence score=%{x}<extra></extra>",
           "legendgroup": "United Kingdom",
           "marker": {
            "color": "#FECB52",
            "pattern": {
             "shape": ""
            }
           },
           "name": "United Kingdom",
           "offsetgroup": "United Kingdom",
           "orientation": "h",
           "showlegend": true,
           "textposition": "auto",
           "type": "bar",
           "x": [
            108
           ],
           "xaxis": "x",
           "y": [
            "United Kingdom"
           ],
           "yaxis": "y"
          },
          {
           "alignmentgroup": "True",
           "hovertemplate": "Countries=%{y}<br>release_year=1989<br>Cumulated character influence score=%{x}<extra></extra>",
           "legendgroup": "Romania",
           "marker": {
            "color": "#636efa",
            "pattern": {
             "shape": ""
            }
           },
           "name": "Romania",
           "offsetgroup": "Romania",
           "orientation": "h",
           "showlegend": true,
           "textposition": "auto",
           "type": "bar",
           "x": [
            6
           ],
           "xaxis": "x",
           "y": [
            "Romania"
           ],
           "yaxis": "y"
          },
          {
           "alignmentgroup": "True",
           "hovertemplate": "Countries=%{y}<br>release_year=1989<br>Cumulated character influence score=%{x}<extra></extra>",
           "legendgroup": "Mexico",
           "marker": {
            "color": "#FFA15A",
            "pattern": {
             "shape": ""
            }
           },
           "name": "Mexico",
           "offsetgroup": "Mexico",
           "orientation": "h",
           "showlegend": true,
           "textposition": "auto",
           "type": "bar",
           "x": [
            3
           ],
           "xaxis": "x",
           "y": [
            "Mexico"
           ],
           "yaxis": "y"
          },
          {
           "alignmentgroup": "True",
           "hovertemplate": "Countries=%{y}<br>release_year=1989<br>Cumulated character influence score=%{x}<extra></extra>",
           "legendgroup": "Italy",
           "marker": {
            "color": "#19d3f3",
            "pattern": {
             "shape": ""
            }
           },
           "name": "Italy",
           "offsetgroup": "Italy",
           "orientation": "h",
           "showlegend": true,
           "textposition": "auto",
           "type": "bar",
           "x": [
            3
           ],
           "xaxis": "x",
           "y": [
            "Italy"
           ],
           "yaxis": "y"
          },
          {
           "alignmentgroup": "True",
           "hovertemplate": "Countries=%{y}<br>release_year=1989<br>Cumulated character influence score=%{x}<extra></extra>",
           "legendgroup": "India",
           "marker": {
            "color": "#FF6692",
            "pattern": {
             "shape": ""
            }
           },
           "name": "India",
           "offsetgroup": "India",
           "orientation": "h",
           "showlegend": true,
           "textposition": "auto",
           "type": "bar",
           "x": [
            4
           ],
           "xaxis": "x",
           "y": [
            "India"
           ],
           "yaxis": "y"
          }
         ],
         "name": "1989"
        },
        {
         "data": [
          {
           "alignmentgroup": "True",
           "hovertemplate": "Countries=%{y}<br>release_year=1990<br>Cumulated character influence score=%{x}<extra></extra>",
           "legendgroup": "Germany",
           "marker": {
            "color": "#636efa",
            "pattern": {
             "shape": ""
            }
           },
           "name": "Germany",
           "offsetgroup": "Germany",
           "orientation": "h",
           "showlegend": true,
           "textposition": "auto",
           "type": "bar",
           "x": [
            11
           ],
           "xaxis": "x",
           "y": [
            "Germany"
           ],
           "yaxis": "y"
          },
          {
           "alignmentgroup": "True",
           "hovertemplate": "Countries=%{y}<br>release_year=1990<br>Cumulated character influence score=%{x}<extra></extra>",
           "legendgroup": "United States of America",
           "marker": {
            "color": "#EF553B",
            "pattern": {
             "shape": ""
            }
           },
           "name": "United States of America",
           "offsetgroup": "United States of America",
           "orientation": "h",
           "showlegend": true,
           "textposition": "auto",
           "type": "bar",
           "x": [
            60
           ],
           "xaxis": "x",
           "y": [
            "United States of America"
           ],
           "yaxis": "y"
          },
          {
           "alignmentgroup": "True",
           "hovertemplate": "Countries=%{y}<br>release_year=1990<br>Cumulated character influence score=%{x}<extra></extra>",
           "legendgroup": "Canada",
           "marker": {
            "color": "#FFA15A",
            "pattern": {
             "shape": ""
            }
           },
           "name": "Canada",
           "offsetgroup": "Canada",
           "orientation": "h",
           "showlegend": true,
           "textposition": "auto",
           "type": "bar",
           "x": [
            9
           ],
           "xaxis": "x",
           "y": [
            "Canada"
           ],
           "yaxis": "y"
          },
          {
           "alignmentgroup": "True",
           "hovertemplate": "Countries=%{y}<br>release_year=1990<br>Cumulated character influence score=%{x}<extra></extra>",
           "legendgroup": "France",
           "marker": {
            "color": "#19d3f3",
            "pattern": {
             "shape": ""
            }
           },
           "name": "France",
           "offsetgroup": "France",
           "orientation": "h",
           "showlegend": true,
           "textposition": "auto",
           "type": "bar",
           "x": [
            13
           ],
           "xaxis": "x",
           "y": [
            "France"
           ],
           "yaxis": "y"
          },
          {
           "alignmentgroup": "True",
           "hovertemplate": "Countries=%{y}<br>release_year=1990<br>Cumulated character influence score=%{x}<extra></extra>",
           "legendgroup": "Czech Republic",
           "marker": {
            "color": "#FF6692",
            "pattern": {
             "shape": ""
            }
           },
           "name": "Czech Republic",
           "offsetgroup": "Czech Republic",
           "orientation": "h",
           "showlegend": true,
           "textposition": "auto",
           "type": "bar",
           "x": [
            4
           ],
           "xaxis": "x",
           "y": [
            "Czech Republic"
           ],
           "yaxis": "y"
          },
          {
           "alignmentgroup": "True",
           "hovertemplate": "Countries=%{y}<br>release_year=1990<br>Cumulated character influence score=%{x}<extra></extra>",
           "legendgroup": "United Kingdom",
           "marker": {
            "color": "#FECB52",
            "pattern": {
             "shape": ""
            }
           },
           "name": "United Kingdom",
           "offsetgroup": "United Kingdom",
           "orientation": "h",
           "showlegend": true,
           "textposition": "auto",
           "type": "bar",
           "x": [
            109
           ],
           "xaxis": "x",
           "y": [
            "United Kingdom"
           ],
           "yaxis": "y"
          },
          {
           "alignmentgroup": "True",
           "hovertemplate": "Countries=%{y}<br>release_year=1990<br>Cumulated character influence score=%{x}<extra></extra>",
           "legendgroup": "Romania",
           "marker": {
            "color": "#636efa",
            "pattern": {
             "shape": ""
            }
           },
           "name": "Romania",
           "offsetgroup": "Romania",
           "orientation": "h",
           "showlegend": true,
           "textposition": "auto",
           "type": "bar",
           "x": [
            6
           ],
           "xaxis": "x",
           "y": [
            "Romania"
           ],
           "yaxis": "y"
          },
          {
           "alignmentgroup": "True",
           "hovertemplate": "Countries=%{y}<br>release_year=1990<br>Cumulated character influence score=%{x}<extra></extra>",
           "legendgroup": "Mexico",
           "marker": {
            "color": "#FFA15A",
            "pattern": {
             "shape": ""
            }
           },
           "name": "Mexico",
           "offsetgroup": "Mexico",
           "orientation": "h",
           "showlegend": true,
           "textposition": "auto",
           "type": "bar",
           "x": [
            3
           ],
           "xaxis": "x",
           "y": [
            "Mexico"
           ],
           "yaxis": "y"
          },
          {
           "alignmentgroup": "True",
           "hovertemplate": "Countries=%{y}<br>release_year=1990<br>Cumulated character influence score=%{x}<extra></extra>",
           "legendgroup": "Italy",
           "marker": {
            "color": "#19d3f3",
            "pattern": {
             "shape": ""
            }
           },
           "name": "Italy",
           "offsetgroup": "Italy",
           "orientation": "h",
           "showlegend": true,
           "textposition": "auto",
           "type": "bar",
           "x": [
            3
           ],
           "xaxis": "x",
           "y": [
            "Italy"
           ],
           "yaxis": "y"
          },
          {
           "alignmentgroup": "True",
           "hovertemplate": "Countries=%{y}<br>release_year=1990<br>Cumulated character influence score=%{x}<extra></extra>",
           "legendgroup": "India",
           "marker": {
            "color": "#FF6692",
            "pattern": {
             "shape": ""
            }
           },
           "name": "India",
           "offsetgroup": "India",
           "orientation": "h",
           "showlegend": true,
           "textposition": "auto",
           "type": "bar",
           "x": [
            4
           ],
           "xaxis": "x",
           "y": [
            "India"
           ],
           "yaxis": "y"
          }
         ],
         "name": "1990"
        },
        {
         "data": [
          {
           "alignmentgroup": "True",
           "hovertemplate": "Countries=%{y}<br>release_year=1991<br>Cumulated character influence score=%{x}<extra></extra>",
           "legendgroup": "Germany",
           "marker": {
            "color": "#636efa",
            "pattern": {
             "shape": ""
            }
           },
           "name": "Germany",
           "offsetgroup": "Germany",
           "orientation": "h",
           "showlegend": true,
           "textposition": "auto",
           "type": "bar",
           "x": [
            11
           ],
           "xaxis": "x",
           "y": [
            "Germany"
           ],
           "yaxis": "y"
          },
          {
           "alignmentgroup": "True",
           "hovertemplate": "Countries=%{y}<br>release_year=1991<br>Cumulated character influence score=%{x}<extra></extra>",
           "legendgroup": "United States of America",
           "marker": {
            "color": "#EF553B",
            "pattern": {
             "shape": ""
            }
           },
           "name": "United States of America",
           "offsetgroup": "United States of America",
           "orientation": "h",
           "showlegend": true,
           "textposition": "auto",
           "type": "bar",
           "x": [
            61
           ],
           "xaxis": "x",
           "y": [
            "United States of America"
           ],
           "yaxis": "y"
          },
          {
           "alignmentgroup": "True",
           "hovertemplate": "Countries=%{y}<br>release_year=1991<br>Cumulated character influence score=%{x}<extra></extra>",
           "legendgroup": "Canada",
           "marker": {
            "color": "#FFA15A",
            "pattern": {
             "shape": ""
            }
           },
           "name": "Canada",
           "offsetgroup": "Canada",
           "orientation": "h",
           "showlegend": true,
           "textposition": "auto",
           "type": "bar",
           "x": [
            11
           ],
           "xaxis": "x",
           "y": [
            "Canada"
           ],
           "yaxis": "y"
          },
          {
           "alignmentgroup": "True",
           "hovertemplate": "Countries=%{y}<br>release_year=1991<br>Cumulated character influence score=%{x}<extra></extra>",
           "legendgroup": "France",
           "marker": {
            "color": "#19d3f3",
            "pattern": {
             "shape": ""
            }
           },
           "name": "France",
           "offsetgroup": "France",
           "orientation": "h",
           "showlegend": true,
           "textposition": "auto",
           "type": "bar",
           "x": [
            13
           ],
           "xaxis": "x",
           "y": [
            "France"
           ],
           "yaxis": "y"
          },
          {
           "alignmentgroup": "True",
           "hovertemplate": "Countries=%{y}<br>release_year=1991<br>Cumulated character influence score=%{x}<extra></extra>",
           "legendgroup": "Czech Republic",
           "marker": {
            "color": "#FF6692",
            "pattern": {
             "shape": ""
            }
           },
           "name": "Czech Republic",
           "offsetgroup": "Czech Republic",
           "orientation": "h",
           "showlegend": true,
           "textposition": "auto",
           "type": "bar",
           "x": [
            4
           ],
           "xaxis": "x",
           "y": [
            "Czech Republic"
           ],
           "yaxis": "y"
          },
          {
           "alignmentgroup": "True",
           "hovertemplate": "Countries=%{y}<br>release_year=1991<br>Cumulated character influence score=%{x}<extra></extra>",
           "legendgroup": "United Kingdom",
           "marker": {
            "color": "#FECB52",
            "pattern": {
             "shape": ""
            }
           },
           "name": "United Kingdom",
           "offsetgroup": "United Kingdom",
           "orientation": "h",
           "showlegend": true,
           "textposition": "auto",
           "type": "bar",
           "x": [
            114
           ],
           "xaxis": "x",
           "y": [
            "United Kingdom"
           ],
           "yaxis": "y"
          },
          {
           "alignmentgroup": "True",
           "hovertemplate": "Countries=%{y}<br>release_year=1991<br>Cumulated character influence score=%{x}<extra></extra>",
           "legendgroup": "Romania",
           "marker": {
            "color": "#636efa",
            "pattern": {
             "shape": ""
            }
           },
           "name": "Romania",
           "offsetgroup": "Romania",
           "orientation": "h",
           "showlegend": true,
           "textposition": "auto",
           "type": "bar",
           "x": [
            6
           ],
           "xaxis": "x",
           "y": [
            "Romania"
           ],
           "yaxis": "y"
          },
          {
           "alignmentgroup": "True",
           "hovertemplate": "Countries=%{y}<br>release_year=1991<br>Cumulated character influence score=%{x}<extra></extra>",
           "legendgroup": "Italy",
           "marker": {
            "color": "#19d3f3",
            "pattern": {
             "shape": ""
            }
           },
           "name": "Italy",
           "offsetgroup": "Italy",
           "orientation": "h",
           "showlegend": true,
           "textposition": "auto",
           "type": "bar",
           "x": [
            3
           ],
           "xaxis": "x",
           "y": [
            "Italy"
           ],
           "yaxis": "y"
          },
          {
           "alignmentgroup": "True",
           "hovertemplate": "Countries=%{y}<br>release_year=1991<br>Cumulated character influence score=%{x}<extra></extra>",
           "legendgroup": "India",
           "marker": {
            "color": "#FF6692",
            "pattern": {
             "shape": ""
            }
           },
           "name": "India",
           "offsetgroup": "India",
           "orientation": "h",
           "showlegend": true,
           "textposition": "auto",
           "type": "bar",
           "x": [
            4
           ],
           "xaxis": "x",
           "y": [
            "India"
           ],
           "yaxis": "y"
          },
          {
           "alignmentgroup": "True",
           "hovertemplate": "Countries=%{y}<br>release_year=1991<br>Cumulated character influence score=%{x}<extra></extra>",
           "legendgroup": "Poland",
           "marker": {
            "color": "#B6E880",
            "pattern": {
             "shape": ""
            }
           },
           "name": "Poland",
           "offsetgroup": "Poland",
           "orientation": "h",
           "showlegend": true,
           "textposition": "auto",
           "type": "bar",
           "x": [
            4
           ],
           "xaxis": "x",
           "y": [
            "Poland"
           ],
           "yaxis": "y"
          }
         ],
         "name": "1991"
        },
        {
         "data": [
          {
           "alignmentgroup": "True",
           "hovertemplate": "Countries=%{y}<br>release_year=1992<br>Cumulated character influence score=%{x}<extra></extra>",
           "legendgroup": "Germany",
           "marker": {
            "color": "#636efa",
            "pattern": {
             "shape": ""
            }
           },
           "name": "Germany",
           "offsetgroup": "Germany",
           "orientation": "h",
           "showlegend": true,
           "textposition": "auto",
           "type": "bar",
           "x": [
            11
           ],
           "xaxis": "x",
           "y": [
            "Germany"
           ],
           "yaxis": "y"
          },
          {
           "alignmentgroup": "True",
           "hovertemplate": "Countries=%{y}<br>release_year=1992<br>Cumulated character influence score=%{x}<extra></extra>",
           "legendgroup": "United States of America",
           "marker": {
            "color": "#EF553B",
            "pattern": {
             "shape": ""
            }
           },
           "name": "United States of America",
           "offsetgroup": "United States of America",
           "orientation": "h",
           "showlegend": true,
           "textposition": "auto",
           "type": "bar",
           "x": [
            64
           ],
           "xaxis": "x",
           "y": [
            "United States of America"
           ],
           "yaxis": "y"
          },
          {
           "alignmentgroup": "True",
           "hovertemplate": "Countries=%{y}<br>release_year=1992<br>Cumulated character influence score=%{x}<extra></extra>",
           "legendgroup": "Canada",
           "marker": {
            "color": "#FFA15A",
            "pattern": {
             "shape": ""
            }
           },
           "name": "Canada",
           "offsetgroup": "Canada",
           "orientation": "h",
           "showlegend": true,
           "textposition": "auto",
           "type": "bar",
           "x": [
            11
           ],
           "xaxis": "x",
           "y": [
            "Canada"
           ],
           "yaxis": "y"
          },
          {
           "alignmentgroup": "True",
           "hovertemplate": "Countries=%{y}<br>release_year=1992<br>Cumulated character influence score=%{x}<extra></extra>",
           "legendgroup": "France",
           "marker": {
            "color": "#19d3f3",
            "pattern": {
             "shape": ""
            }
           },
           "name": "France",
           "offsetgroup": "France",
           "orientation": "h",
           "showlegend": true,
           "textposition": "auto",
           "type": "bar",
           "x": [
            14
           ],
           "xaxis": "x",
           "y": [
            "France"
           ],
           "yaxis": "y"
          },
          {
           "alignmentgroup": "True",
           "hovertemplate": "Countries=%{y}<br>release_year=1992<br>Cumulated character influence score=%{x}<extra></extra>",
           "legendgroup": "Czech Republic",
           "marker": {
            "color": "#FF6692",
            "pattern": {
             "shape": ""
            }
           },
           "name": "Czech Republic",
           "offsetgroup": "Czech Republic",
           "orientation": "h",
           "showlegend": true,
           "textposition": "auto",
           "type": "bar",
           "x": [
            4
           ],
           "xaxis": "x",
           "y": [
            "Czech Republic"
           ],
           "yaxis": "y"
          },
          {
           "alignmentgroup": "True",
           "hovertemplate": "Countries=%{y}<br>release_year=1992<br>Cumulated character influence score=%{x}<extra></extra>",
           "legendgroup": "United Kingdom",
           "marker": {
            "color": "#FECB52",
            "pattern": {
             "shape": ""
            }
           },
           "name": "United Kingdom",
           "offsetgroup": "United Kingdom",
           "orientation": "h",
           "showlegend": true,
           "textposition": "auto",
           "type": "bar",
           "x": [
            123
           ],
           "xaxis": "x",
           "y": [
            "United Kingdom"
           ],
           "yaxis": "y"
          },
          {
           "alignmentgroup": "True",
           "hovertemplate": "Countries=%{y}<br>release_year=1992<br>Cumulated character influence score=%{x}<extra></extra>",
           "legendgroup": "Romania",
           "marker": {
            "color": "#636efa",
            "pattern": {
             "shape": ""
            }
           },
           "name": "Romania",
           "offsetgroup": "Romania",
           "orientation": "h",
           "showlegend": true,
           "textposition": "auto",
           "type": "bar",
           "x": [
            6
           ],
           "xaxis": "x",
           "y": [
            "Romania"
           ],
           "yaxis": "y"
          },
          {
           "alignmentgroup": "True",
           "hovertemplate": "Countries=%{y}<br>release_year=1992<br>Cumulated character influence score=%{x}<extra></extra>",
           "legendgroup": "Italy",
           "marker": {
            "color": "#19d3f3",
            "pattern": {
             "shape": ""
            }
           },
           "name": "Italy",
           "offsetgroup": "Italy",
           "orientation": "h",
           "showlegend": true,
           "textposition": "auto",
           "type": "bar",
           "x": [
            3
           ],
           "xaxis": "x",
           "y": [
            "Italy"
           ],
           "yaxis": "y"
          },
          {
           "alignmentgroup": "True",
           "hovertemplate": "Countries=%{y}<br>release_year=1992<br>Cumulated character influence score=%{x}<extra></extra>",
           "legendgroup": "India",
           "marker": {
            "color": "#FF6692",
            "pattern": {
             "shape": ""
            }
           },
           "name": "India",
           "offsetgroup": "India",
           "orientation": "h",
           "showlegend": true,
           "textposition": "auto",
           "type": "bar",
           "x": [
            4
           ],
           "xaxis": "x",
           "y": [
            "India"
           ],
           "yaxis": "y"
          },
          {
           "alignmentgroup": "True",
           "hovertemplate": "Countries=%{y}<br>release_year=1992<br>Cumulated character influence score=%{x}<extra></extra>",
           "legendgroup": "Poland",
           "marker": {
            "color": "#B6E880",
            "pattern": {
             "shape": ""
            }
           },
           "name": "Poland",
           "offsetgroup": "Poland",
           "orientation": "h",
           "showlegend": true,
           "textposition": "auto",
           "type": "bar",
           "x": [
            4
           ],
           "xaxis": "x",
           "y": [
            "Poland"
           ],
           "yaxis": "y"
          }
         ],
         "name": "1992"
        },
        {
         "data": [
          {
           "alignmentgroup": "True",
           "hovertemplate": "Countries=%{y}<br>release_year=1993<br>Cumulated character influence score=%{x}<extra></extra>",
           "legendgroup": "Germany",
           "marker": {
            "color": "#636efa",
            "pattern": {
             "shape": ""
            }
           },
           "name": "Germany",
           "offsetgroup": "Germany",
           "orientation": "h",
           "showlegend": true,
           "textposition": "auto",
           "type": "bar",
           "x": [
            11
           ],
           "xaxis": "x",
           "y": [
            "Germany"
           ],
           "yaxis": "y"
          },
          {
           "alignmentgroup": "True",
           "hovertemplate": "Countries=%{y}<br>release_year=1993<br>Cumulated character influence score=%{x}<extra></extra>",
           "legendgroup": "United States of America",
           "marker": {
            "color": "#EF553B",
            "pattern": {
             "shape": ""
            }
           },
           "name": "United States of America",
           "offsetgroup": "United States of America",
           "orientation": "h",
           "showlegend": true,
           "textposition": "auto",
           "type": "bar",
           "x": [
            67
           ],
           "xaxis": "x",
           "y": [
            "United States of America"
           ],
           "yaxis": "y"
          },
          {
           "alignmentgroup": "True",
           "hovertemplate": "Countries=%{y}<br>release_year=1993<br>Cumulated character influence score=%{x}<extra></extra>",
           "legendgroup": "Canada",
           "marker": {
            "color": "#FFA15A",
            "pattern": {
             "shape": ""
            }
           },
           "name": "Canada",
           "offsetgroup": "Canada",
           "orientation": "h",
           "showlegend": true,
           "textposition": "auto",
           "type": "bar",
           "x": [
            11
           ],
           "xaxis": "x",
           "y": [
            "Canada"
           ],
           "yaxis": "y"
          },
          {
           "alignmentgroup": "True",
           "hovertemplate": "Countries=%{y}<br>release_year=1993<br>Cumulated character influence score=%{x}<extra></extra>",
           "legendgroup": "France",
           "marker": {
            "color": "#19d3f3",
            "pattern": {
             "shape": ""
            }
           },
           "name": "France",
           "offsetgroup": "France",
           "orientation": "h",
           "showlegend": true,
           "textposition": "auto",
           "type": "bar",
           "x": [
            15
           ],
           "xaxis": "x",
           "y": [
            "France"
           ],
           "yaxis": "y"
          },
          {
           "alignmentgroup": "True",
           "hovertemplate": "Countries=%{y}<br>release_year=1993<br>Cumulated character influence score=%{x}<extra></extra>",
           "legendgroup": "Czech Republic",
           "marker": {
            "color": "#FF6692",
            "pattern": {
             "shape": ""
            }
           },
           "name": "Czech Republic",
           "offsetgroup": "Czech Republic",
           "orientation": "h",
           "showlegend": true,
           "textposition": "auto",
           "type": "bar",
           "x": [
            4
           ],
           "xaxis": "x",
           "y": [
            "Czech Republic"
           ],
           "yaxis": "y"
          },
          {
           "alignmentgroup": "True",
           "hovertemplate": "Countries=%{y}<br>release_year=1993<br>Cumulated character influence score=%{x}<extra></extra>",
           "legendgroup": "United Kingdom",
           "marker": {
            "color": "#FECB52",
            "pattern": {
             "shape": ""
            }
           },
           "name": "United Kingdom",
           "offsetgroup": "United Kingdom",
           "orientation": "h",
           "showlegend": true,
           "textposition": "auto",
           "type": "bar",
           "x": [
            124
           ],
           "xaxis": "x",
           "y": [
            "United Kingdom"
           ],
           "yaxis": "y"
          },
          {
           "alignmentgroup": "True",
           "hovertemplate": "Countries=%{y}<br>release_year=1993<br>Cumulated character influence score=%{x}<extra></extra>",
           "legendgroup": "Romania",
           "marker": {
            "color": "#636efa",
            "pattern": {
             "shape": ""
            }
           },
           "name": "Romania",
           "offsetgroup": "Romania",
           "orientation": "h",
           "showlegend": true,
           "textposition": "auto",
           "type": "bar",
           "x": [
            6
           ],
           "xaxis": "x",
           "y": [
            "Romania"
           ],
           "yaxis": "y"
          },
          {
           "alignmentgroup": "True",
           "hovertemplate": "Countries=%{y}<br>release_year=1993<br>Cumulated character influence score=%{x}<extra></extra>",
           "legendgroup": "Italy",
           "marker": {
            "color": "#19d3f3",
            "pattern": {
             "shape": ""
            }
           },
           "name": "Italy",
           "offsetgroup": "Italy",
           "orientation": "h",
           "showlegend": true,
           "textposition": "auto",
           "type": "bar",
           "x": [
            3
           ],
           "xaxis": "x",
           "y": [
            "Italy"
           ],
           "yaxis": "y"
          },
          {
           "alignmentgroup": "True",
           "hovertemplate": "Countries=%{y}<br>release_year=1993<br>Cumulated character influence score=%{x}<extra></extra>",
           "legendgroup": "India",
           "marker": {
            "color": "#FF6692",
            "pattern": {
             "shape": ""
            }
           },
           "name": "India",
           "offsetgroup": "India",
           "orientation": "h",
           "showlegend": true,
           "textposition": "auto",
           "type": "bar",
           "x": [
            4
           ],
           "xaxis": "x",
           "y": [
            "India"
           ],
           "yaxis": "y"
          },
          {
           "alignmentgroup": "True",
           "hovertemplate": "Countries=%{y}<br>release_year=1993<br>Cumulated character influence score=%{x}<extra></extra>",
           "legendgroup": "Poland",
           "marker": {
            "color": "#B6E880",
            "pattern": {
             "shape": ""
            }
           },
           "name": "Poland",
           "offsetgroup": "Poland",
           "orientation": "h",
           "showlegend": true,
           "textposition": "auto",
           "type": "bar",
           "x": [
            4
           ],
           "xaxis": "x",
           "y": [
            "Poland"
           ],
           "yaxis": "y"
          }
         ],
         "name": "1993"
        },
        {
         "data": [
          {
           "alignmentgroup": "True",
           "hovertemplate": "Countries=%{y}<br>release_year=1994<br>Cumulated character influence score=%{x}<extra></extra>",
           "legendgroup": "Germany",
           "marker": {
            "color": "#636efa",
            "pattern": {
             "shape": ""
            }
           },
           "name": "Germany",
           "offsetgroup": "Germany",
           "orientation": "h",
           "showlegend": true,
           "textposition": "auto",
           "type": "bar",
           "x": [
            13
           ],
           "xaxis": "x",
           "y": [
            "Germany"
           ],
           "yaxis": "y"
          },
          {
           "alignmentgroup": "True",
           "hovertemplate": "Countries=%{y}<br>release_year=1994<br>Cumulated character influence score=%{x}<extra></extra>",
           "legendgroup": "United States of America",
           "marker": {
            "color": "#EF553B",
            "pattern": {
             "shape": ""
            }
           },
           "name": "United States of America",
           "offsetgroup": "United States of America",
           "orientation": "h",
           "showlegend": true,
           "textposition": "auto",
           "type": "bar",
           "x": [
            71
           ],
           "xaxis": "x",
           "y": [
            "United States of America"
           ],
           "yaxis": "y"
          },
          {
           "alignmentgroup": "True",
           "hovertemplate": "Countries=%{y}<br>release_year=1994<br>Cumulated character influence score=%{x}<extra></extra>",
           "legendgroup": "Canada",
           "marker": {
            "color": "#FFA15A",
            "pattern": {
             "shape": ""
            }
           },
           "name": "Canada",
           "offsetgroup": "Canada",
           "orientation": "h",
           "showlegend": true,
           "textposition": "auto",
           "type": "bar",
           "x": [
            11
           ],
           "xaxis": "x",
           "y": [
            "Canada"
           ],
           "yaxis": "y"
          },
          {
           "alignmentgroup": "True",
           "hovertemplate": "Countries=%{y}<br>release_year=1994<br>Cumulated character influence score=%{x}<extra></extra>",
           "legendgroup": "France",
           "marker": {
            "color": "#19d3f3",
            "pattern": {
             "shape": ""
            }
           },
           "name": "France",
           "offsetgroup": "France",
           "orientation": "h",
           "showlegend": true,
           "textposition": "auto",
           "type": "bar",
           "x": [
            15
           ],
           "xaxis": "x",
           "y": [
            "France"
           ],
           "yaxis": "y"
          },
          {
           "alignmentgroup": "True",
           "hovertemplate": "Countries=%{y}<br>release_year=1994<br>Cumulated character influence score=%{x}<extra></extra>",
           "legendgroup": "Czech Republic",
           "marker": {
            "color": "#FF6692",
            "pattern": {
             "shape": ""
            }
           },
           "name": "Czech Republic",
           "offsetgroup": "Czech Republic",
           "orientation": "h",
           "showlegend": true,
           "textposition": "auto",
           "type": "bar",
           "x": [
            4
           ],
           "xaxis": "x",
           "y": [
            "Czech Republic"
           ],
           "yaxis": "y"
          },
          {
           "alignmentgroup": "True",
           "hovertemplate": "Countries=%{y}<br>release_year=1994<br>Cumulated character influence score=%{x}<extra></extra>",
           "legendgroup": "United Kingdom",
           "marker": {
            "color": "#FECB52",
            "pattern": {
             "shape": ""
            }
           },
           "name": "United Kingdom",
           "offsetgroup": "United Kingdom",
           "orientation": "h",
           "showlegend": true,
           "textposition": "auto",
           "type": "bar",
           "x": [
            129
           ],
           "xaxis": "x",
           "y": [
            "United Kingdom"
           ],
           "yaxis": "y"
          },
          {
           "alignmentgroup": "True",
           "hovertemplate": "Countries=%{y}<br>release_year=1994<br>Cumulated character influence score=%{x}<extra></extra>",
           "legendgroup": "Romania",
           "marker": {
            "color": "#636efa",
            "pattern": {
             "shape": ""
            }
           },
           "name": "Romania",
           "offsetgroup": "Romania",
           "orientation": "h",
           "showlegend": true,
           "textposition": "auto",
           "type": "bar",
           "x": [
            6
           ],
           "xaxis": "x",
           "y": [
            "Romania"
           ],
           "yaxis": "y"
          },
          {
           "alignmentgroup": "True",
           "hovertemplate": "Countries=%{y}<br>release_year=1994<br>Cumulated character influence score=%{x}<extra></extra>",
           "legendgroup": "Italy",
           "marker": {
            "color": "#19d3f3",
            "pattern": {
             "shape": ""
            }
           },
           "name": "Italy",
           "offsetgroup": "Italy",
           "orientation": "h",
           "showlegend": true,
           "textposition": "auto",
           "type": "bar",
           "x": [
            3
           ],
           "xaxis": "x",
           "y": [
            "Italy"
           ],
           "yaxis": "y"
          },
          {
           "alignmentgroup": "True",
           "hovertemplate": "Countries=%{y}<br>release_year=1994<br>Cumulated character influence score=%{x}<extra></extra>",
           "legendgroup": "India",
           "marker": {
            "color": "#FF6692",
            "pattern": {
             "shape": ""
            }
           },
           "name": "India",
           "offsetgroup": "India",
           "orientation": "h",
           "showlegend": true,
           "textposition": "auto",
           "type": "bar",
           "x": [
            4
           ],
           "xaxis": "x",
           "y": [
            "India"
           ],
           "yaxis": "y"
          },
          {
           "alignmentgroup": "True",
           "hovertemplate": "Countries=%{y}<br>release_year=1994<br>Cumulated character influence score=%{x}<extra></extra>",
           "legendgroup": "Poland",
           "marker": {
            "color": "#B6E880",
            "pattern": {
             "shape": ""
            }
           },
           "name": "Poland",
           "offsetgroup": "Poland",
           "orientation": "h",
           "showlegend": true,
           "textposition": "auto",
           "type": "bar",
           "x": [
            4
           ],
           "xaxis": "x",
           "y": [
            "Poland"
           ],
           "yaxis": "y"
          }
         ],
         "name": "1994"
        },
        {
         "data": [
          {
           "alignmentgroup": "True",
           "hovertemplate": "Countries=%{y}<br>release_year=1995<br>Cumulated character influence score=%{x}<extra></extra>",
           "legendgroup": "Germany",
           "marker": {
            "color": "#636efa",
            "pattern": {
             "shape": ""
            }
           },
           "name": "Germany",
           "offsetgroup": "Germany",
           "orientation": "h",
           "showlegend": true,
           "textposition": "auto",
           "type": "bar",
           "x": [
            13
           ],
           "xaxis": "x",
           "y": [
            "Germany"
           ],
           "yaxis": "y"
          },
          {
           "alignmentgroup": "True",
           "hovertemplate": "Countries=%{y}<br>release_year=1995<br>Cumulated character influence score=%{x}<extra></extra>",
           "legendgroup": "United States of America",
           "marker": {
            "color": "#EF553B",
            "pattern": {
             "shape": ""
            }
           },
           "name": "United States of America",
           "offsetgroup": "United States of America",
           "orientation": "h",
           "showlegend": true,
           "textposition": "auto",
           "type": "bar",
           "x": [
            75
           ],
           "xaxis": "x",
           "y": [
            "United States of America"
           ],
           "yaxis": "y"
          },
          {
           "alignmentgroup": "True",
           "hovertemplate": "Countries=%{y}<br>release_year=1995<br>Cumulated character influence score=%{x}<extra></extra>",
           "legendgroup": "Canada",
           "marker": {
            "color": "#FFA15A",
            "pattern": {
             "shape": ""
            }
           },
           "name": "Canada",
           "offsetgroup": "Canada",
           "orientation": "h",
           "showlegend": true,
           "textposition": "auto",
           "type": "bar",
           "x": [
            12
           ],
           "xaxis": "x",
           "y": [
            "Canada"
           ],
           "yaxis": "y"
          },
          {
           "alignmentgroup": "True",
           "hovertemplate": "Countries=%{y}<br>release_year=1995<br>Cumulated character influence score=%{x}<extra></extra>",
           "legendgroup": "France",
           "marker": {
            "color": "#19d3f3",
            "pattern": {
             "shape": ""
            }
           },
           "name": "France",
           "offsetgroup": "France",
           "orientation": "h",
           "showlegend": true,
           "textposition": "auto",
           "type": "bar",
           "x": [
            16
           ],
           "xaxis": "x",
           "y": [
            "France"
           ],
           "yaxis": "y"
          },
          {
           "alignmentgroup": "True",
           "hovertemplate": "Countries=%{y}<br>release_year=1995<br>Cumulated character influence score=%{x}<extra></extra>",
           "legendgroup": "Czech Republic",
           "marker": {
            "color": "#FF6692",
            "pattern": {
             "shape": ""
            }
           },
           "name": "Czech Republic",
           "offsetgroup": "Czech Republic",
           "orientation": "h",
           "showlegend": true,
           "textposition": "auto",
           "type": "bar",
           "x": [
            4
           ],
           "xaxis": "x",
           "y": [
            "Czech Republic"
           ],
           "yaxis": "y"
          },
          {
           "alignmentgroup": "True",
           "hovertemplate": "Countries=%{y}<br>release_year=1995<br>Cumulated character influence score=%{x}<extra></extra>",
           "legendgroup": "United Kingdom",
           "marker": {
            "color": "#FECB52",
            "pattern": {
             "shape": ""
            }
           },
           "name": "United Kingdom",
           "offsetgroup": "United Kingdom",
           "orientation": "h",
           "showlegend": true,
           "textposition": "auto",
           "type": "bar",
           "x": [
            140
           ],
           "xaxis": "x",
           "y": [
            "United Kingdom"
           ],
           "yaxis": "y"
          },
          {
           "alignmentgroup": "True",
           "hovertemplate": "Countries=%{y}<br>release_year=1995<br>Cumulated character influence score=%{x}<extra></extra>",
           "legendgroup": "Romania",
           "marker": {
            "color": "#636efa",
            "pattern": {
             "shape": ""
            }
           },
           "name": "Romania",
           "offsetgroup": "Romania",
           "orientation": "h",
           "showlegend": true,
           "textposition": "auto",
           "type": "bar",
           "x": [
            6
           ],
           "xaxis": "x",
           "y": [
            "Romania"
           ],
           "yaxis": "y"
          },
          {
           "alignmentgroup": "True",
           "hovertemplate": "Countries=%{y}<br>release_year=1995<br>Cumulated character influence score=%{x}<extra></extra>",
           "legendgroup": "Italy",
           "marker": {
            "color": "#19d3f3",
            "pattern": {
             "shape": ""
            }
           },
           "name": "Italy",
           "offsetgroup": "Italy",
           "orientation": "h",
           "showlegend": true,
           "textposition": "auto",
           "type": "bar",
           "x": [
            3
           ],
           "xaxis": "x",
           "y": [
            "Italy"
           ],
           "yaxis": "y"
          },
          {
           "alignmentgroup": "True",
           "hovertemplate": "Countries=%{y}<br>release_year=1995<br>Cumulated character influence score=%{x}<extra></extra>",
           "legendgroup": "India",
           "marker": {
            "color": "#FF6692",
            "pattern": {
             "shape": ""
            }
           },
           "name": "India",
           "offsetgroup": "India",
           "orientation": "h",
           "showlegend": true,
           "textposition": "auto",
           "type": "bar",
           "x": [
            4
           ],
           "xaxis": "x",
           "y": [
            "India"
           ],
           "yaxis": "y"
          },
          {
           "alignmentgroup": "True",
           "hovertemplate": "Countries=%{y}<br>release_year=1995<br>Cumulated character influence score=%{x}<extra></extra>",
           "legendgroup": "Poland",
           "marker": {
            "color": "#B6E880",
            "pattern": {
             "shape": ""
            }
           },
           "name": "Poland",
           "offsetgroup": "Poland",
           "orientation": "h",
           "showlegend": true,
           "textposition": "auto",
           "type": "bar",
           "x": [
            4
           ],
           "xaxis": "x",
           "y": [
            "Poland"
           ],
           "yaxis": "y"
          }
         ],
         "name": "1995"
        },
        {
         "data": [
          {
           "alignmentgroup": "True",
           "hovertemplate": "Countries=%{y}<br>release_year=1996<br>Cumulated character influence score=%{x}<extra></extra>",
           "legendgroup": "Germany",
           "marker": {
            "color": "#636efa",
            "pattern": {
             "shape": ""
            }
           },
           "name": "Germany",
           "offsetgroup": "Germany",
           "orientation": "h",
           "showlegend": true,
           "textposition": "auto",
           "type": "bar",
           "x": [
            13
           ],
           "xaxis": "x",
           "y": [
            "Germany"
           ],
           "yaxis": "y"
          },
          {
           "alignmentgroup": "True",
           "hovertemplate": "Countries=%{y}<br>release_year=1996<br>Cumulated character influence score=%{x}<extra></extra>",
           "legendgroup": "United States of America",
           "marker": {
            "color": "#EF553B",
            "pattern": {
             "shape": ""
            }
           },
           "name": "United States of America",
           "offsetgroup": "United States of America",
           "orientation": "h",
           "showlegend": true,
           "textposition": "auto",
           "type": "bar",
           "x": [
            76
           ],
           "xaxis": "x",
           "y": [
            "United States of America"
           ],
           "yaxis": "y"
          },
          {
           "alignmentgroup": "True",
           "hovertemplate": "Countries=%{y}<br>release_year=1996<br>Cumulated character influence score=%{x}<extra></extra>",
           "legendgroup": "Canada",
           "marker": {
            "color": "#FFA15A",
            "pattern": {
             "shape": ""
            }
           },
           "name": "Canada",
           "offsetgroup": "Canada",
           "orientation": "h",
           "showlegend": true,
           "textposition": "auto",
           "type": "bar",
           "x": [
            12
           ],
           "xaxis": "x",
           "y": [
            "Canada"
           ],
           "yaxis": "y"
          },
          {
           "alignmentgroup": "True",
           "hovertemplate": "Countries=%{y}<br>release_year=1996<br>Cumulated character influence score=%{x}<extra></extra>",
           "legendgroup": "France",
           "marker": {
            "color": "#19d3f3",
            "pattern": {
             "shape": ""
            }
           },
           "name": "France",
           "offsetgroup": "France",
           "orientation": "h",
           "showlegend": true,
           "textposition": "auto",
           "type": "bar",
           "x": [
            16
           ],
           "xaxis": "x",
           "y": [
            "France"
           ],
           "yaxis": "y"
          },
          {
           "alignmentgroup": "True",
           "hovertemplate": "Countries=%{y}<br>release_year=1996<br>Cumulated character influence score=%{x}<extra></extra>",
           "legendgroup": "Czech Republic",
           "marker": {
            "color": "#FF6692",
            "pattern": {
             "shape": ""
            }
           },
           "name": "Czech Republic",
           "offsetgroup": "Czech Republic",
           "orientation": "h",
           "showlegend": true,
           "textposition": "auto",
           "type": "bar",
           "x": [
            4
           ],
           "xaxis": "x",
           "y": [
            "Czech Republic"
           ],
           "yaxis": "y"
          },
          {
           "alignmentgroup": "True",
           "hovertemplate": "Countries=%{y}<br>release_year=1996<br>Cumulated character influence score=%{x}<extra></extra>",
           "legendgroup": "United Kingdom",
           "marker": {
            "color": "#FECB52",
            "pattern": {
             "shape": ""
            }
           },
           "name": "United Kingdom",
           "offsetgroup": "United Kingdom",
           "orientation": "h",
           "showlegend": true,
           "textposition": "auto",
           "type": "bar",
           "x": [
            146
           ],
           "xaxis": "x",
           "y": [
            "United Kingdom"
           ],
           "yaxis": "y"
          },
          {
           "alignmentgroup": "True",
           "hovertemplate": "Countries=%{y}<br>release_year=1996<br>Cumulated character influence score=%{x}<extra></extra>",
           "legendgroup": "Romania",
           "marker": {
            "color": "#636efa",
            "pattern": {
             "shape": ""
            }
           },
           "name": "Romania",
           "offsetgroup": "Romania",
           "orientation": "h",
           "showlegend": true,
           "textposition": "auto",
           "type": "bar",
           "x": [
            6
           ],
           "xaxis": "x",
           "y": [
            "Romania"
           ],
           "yaxis": "y"
          },
          {
           "alignmentgroup": "True",
           "hovertemplate": "Countries=%{y}<br>release_year=1996<br>Cumulated character influence score=%{x}<extra></extra>",
           "legendgroup": "Italy",
           "marker": {
            "color": "#19d3f3",
            "pattern": {
             "shape": ""
            }
           },
           "name": "Italy",
           "offsetgroup": "Italy",
           "orientation": "h",
           "showlegend": true,
           "textposition": "auto",
           "type": "bar",
           "x": [
            3
           ],
           "xaxis": "x",
           "y": [
            "Italy"
           ],
           "yaxis": "y"
          },
          {
           "alignmentgroup": "True",
           "hovertemplate": "Countries=%{y}<br>release_year=1996<br>Cumulated character influence score=%{x}<extra></extra>",
           "legendgroup": "India",
           "marker": {
            "color": "#FF6692",
            "pattern": {
             "shape": ""
            }
           },
           "name": "India",
           "offsetgroup": "India",
           "orientation": "h",
           "showlegend": true,
           "textposition": "auto",
           "type": "bar",
           "x": [
            12
           ],
           "xaxis": "x",
           "y": [
            "India"
           ],
           "yaxis": "y"
          },
          {
           "alignmentgroup": "True",
           "hovertemplate": "Countries=%{y}<br>release_year=1996<br>Cumulated character influence score=%{x}<extra></extra>",
           "legendgroup": "Poland",
           "marker": {
            "color": "#B6E880",
            "pattern": {
             "shape": ""
            }
           },
           "name": "Poland",
           "offsetgroup": "Poland",
           "orientation": "h",
           "showlegend": true,
           "textposition": "auto",
           "type": "bar",
           "x": [
            4
           ],
           "xaxis": "x",
           "y": [
            "Poland"
           ],
           "yaxis": "y"
          }
         ],
         "name": "1996"
        },
        {
         "data": [
          {
           "alignmentgroup": "True",
           "hovertemplate": "Countries=%{y}<br>release_year=1997<br>Cumulated character influence score=%{x}<extra></extra>",
           "legendgroup": "Germany",
           "marker": {
            "color": "#636efa",
            "pattern": {
             "shape": ""
            }
           },
           "name": "Germany",
           "offsetgroup": "Germany",
           "orientation": "h",
           "showlegend": true,
           "textposition": "auto",
           "type": "bar",
           "x": [
            15
           ],
           "xaxis": "x",
           "y": [
            "Germany"
           ],
           "yaxis": "y"
          },
          {
           "alignmentgroup": "True",
           "hovertemplate": "Countries=%{y}<br>release_year=1997<br>Cumulated character influence score=%{x}<extra></extra>",
           "legendgroup": "United States of America",
           "marker": {
            "color": "#EF553B",
            "pattern": {
             "shape": ""
            }
           },
           "name": "United States of America",
           "offsetgroup": "United States of America",
           "orientation": "h",
           "showlegend": true,
           "textposition": "auto",
           "type": "bar",
           "x": [
            80
           ],
           "xaxis": "x",
           "y": [
            "United States of America"
           ],
           "yaxis": "y"
          },
          {
           "alignmentgroup": "True",
           "hovertemplate": "Countries=%{y}<br>release_year=1997<br>Cumulated character influence score=%{x}<extra></extra>",
           "legendgroup": "Canada",
           "marker": {
            "color": "#FFA15A",
            "pattern": {
             "shape": ""
            }
           },
           "name": "Canada",
           "offsetgroup": "Canada",
           "orientation": "h",
           "showlegend": true,
           "textposition": "auto",
           "type": "bar",
           "x": [
            13
           ],
           "xaxis": "x",
           "y": [
            "Canada"
           ],
           "yaxis": "y"
          },
          {
           "alignmentgroup": "True",
           "hovertemplate": "Countries=%{y}<br>release_year=1997<br>Cumulated character influence score=%{x}<extra></extra>",
           "legendgroup": "France",
           "marker": {
            "color": "#19d3f3",
            "pattern": {
             "shape": ""
            }
           },
           "name": "France",
           "offsetgroup": "France",
           "orientation": "h",
           "showlegend": true,
           "textposition": "auto",
           "type": "bar",
           "x": [
            16
           ],
           "xaxis": "x",
           "y": [
            "France"
           ],
           "yaxis": "y"
          },
          {
           "alignmentgroup": "True",
           "hovertemplate": "Countries=%{y}<br>release_year=1997<br>Cumulated character influence score=%{x}<extra></extra>",
           "legendgroup": "Czech Republic",
           "marker": {
            "color": "#FF6692",
            "pattern": {
             "shape": ""
            }
           },
           "name": "Czech Republic",
           "offsetgroup": "Czech Republic",
           "orientation": "h",
           "showlegend": true,
           "textposition": "auto",
           "type": "bar",
           "x": [
            4
           ],
           "xaxis": "x",
           "y": [
            "Czech Republic"
           ],
           "yaxis": "y"
          },
          {
           "alignmentgroup": "True",
           "hovertemplate": "Countries=%{y}<br>release_year=1997<br>Cumulated character influence score=%{x}<extra></extra>",
           "legendgroup": "United Kingdom",
           "marker": {
            "color": "#FECB52",
            "pattern": {
             "shape": ""
            }
           },
           "name": "United Kingdom",
           "offsetgroup": "United Kingdom",
           "orientation": "h",
           "showlegend": true,
           "textposition": "auto",
           "type": "bar",
           "x": [
            150
           ],
           "xaxis": "x",
           "y": [
            "United Kingdom"
           ],
           "yaxis": "y"
          },
          {
           "alignmentgroup": "True",
           "hovertemplate": "Countries=%{y}<br>release_year=1997<br>Cumulated character influence score=%{x}<extra></extra>",
           "legendgroup": "Romania",
           "marker": {
            "color": "#636efa",
            "pattern": {
             "shape": ""
            }
           },
           "name": "Romania",
           "offsetgroup": "Romania",
           "orientation": "h",
           "showlegend": true,
           "textposition": "auto",
           "type": "bar",
           "x": [
            6
           ],
           "xaxis": "x",
           "y": [
            "Romania"
           ],
           "yaxis": "y"
          },
          {
           "alignmentgroup": "True",
           "hovertemplate": "Countries=%{y}<br>release_year=1997<br>Cumulated character influence score=%{x}<extra></extra>",
           "legendgroup": "Italy",
           "marker": {
            "color": "#19d3f3",
            "pattern": {
             "shape": ""
            }
           },
           "name": "Italy",
           "offsetgroup": "Italy",
           "orientation": "h",
           "showlegend": true,
           "textposition": "auto",
           "type": "bar",
           "x": [
            3
           ],
           "xaxis": "x",
           "y": [
            "Italy"
           ],
           "yaxis": "y"
          },
          {
           "alignmentgroup": "True",
           "hovertemplate": "Countries=%{y}<br>release_year=1997<br>Cumulated character influence score=%{x}<extra></extra>",
           "legendgroup": "India",
           "marker": {
            "color": "#FF6692",
            "pattern": {
             "shape": ""
            }
           },
           "name": "India",
           "offsetgroup": "India",
           "orientation": "h",
           "showlegend": true,
           "textposition": "auto",
           "type": "bar",
           "x": [
            12
           ],
           "xaxis": "x",
           "y": [
            "India"
           ],
           "yaxis": "y"
          },
          {
           "alignmentgroup": "True",
           "hovertemplate": "Countries=%{y}<br>release_year=1997<br>Cumulated character influence score=%{x}<extra></extra>",
           "legendgroup": "Poland",
           "marker": {
            "color": "#B6E880",
            "pattern": {
             "shape": ""
            }
           },
           "name": "Poland",
           "offsetgroup": "Poland",
           "orientation": "h",
           "showlegend": true,
           "textposition": "auto",
           "type": "bar",
           "x": [
            4
           ],
           "xaxis": "x",
           "y": [
            "Poland"
           ],
           "yaxis": "y"
          }
         ],
         "name": "1997"
        },
        {
         "data": [
          {
           "alignmentgroup": "True",
           "hovertemplate": "Countries=%{y}<br>release_year=1998<br>Cumulated character influence score=%{x}<extra></extra>",
           "legendgroup": "Germany",
           "marker": {
            "color": "#636efa",
            "pattern": {
             "shape": ""
            }
           },
           "name": "Germany",
           "offsetgroup": "Germany",
           "orientation": "h",
           "showlegend": true,
           "textposition": "auto",
           "type": "bar",
           "x": [
            15
           ],
           "xaxis": "x",
           "y": [
            "Germany"
           ],
           "yaxis": "y"
          },
          {
           "alignmentgroup": "True",
           "hovertemplate": "Countries=%{y}<br>release_year=1998<br>Cumulated character influence score=%{x}<extra></extra>",
           "legendgroup": "United States of America",
           "marker": {
            "color": "#EF553B",
            "pattern": {
             "shape": ""
            }
           },
           "name": "United States of America",
           "offsetgroup": "United States of America",
           "orientation": "h",
           "showlegend": true,
           "textposition": "auto",
           "type": "bar",
           "x": [
            84
           ],
           "xaxis": "x",
           "y": [
            "United States of America"
           ],
           "yaxis": "y"
          },
          {
           "alignmentgroup": "True",
           "hovertemplate": "Countries=%{y}<br>release_year=1998<br>Cumulated character influence score=%{x}<extra></extra>",
           "legendgroup": "Canada",
           "marker": {
            "color": "#FFA15A",
            "pattern": {
             "shape": ""
            }
           },
           "name": "Canada",
           "offsetgroup": "Canada",
           "orientation": "h",
           "showlegend": true,
           "textposition": "auto",
           "type": "bar",
           "x": [
            14
           ],
           "xaxis": "x",
           "y": [
            "Canada"
           ],
           "yaxis": "y"
          },
          {
           "alignmentgroup": "True",
           "hovertemplate": "Countries=%{y}<br>release_year=1998<br>Cumulated character influence score=%{x}<extra></extra>",
           "legendgroup": "France",
           "marker": {
            "color": "#19d3f3",
            "pattern": {
             "shape": ""
            }
           },
           "name": "France",
           "offsetgroup": "France",
           "orientation": "h",
           "showlegend": true,
           "textposition": "auto",
           "type": "bar",
           "x": [
            20
           ],
           "xaxis": "x",
           "y": [
            "France"
           ],
           "yaxis": "y"
          },
          {
           "alignmentgroup": "True",
           "hovertemplate": "Countries=%{y}<br>release_year=1998<br>Cumulated character influence score=%{x}<extra></extra>",
           "legendgroup": "Czech Republic",
           "marker": {
            "color": "#FF6692",
            "pattern": {
             "shape": ""
            }
           },
           "name": "Czech Republic",
           "offsetgroup": "Czech Republic",
           "orientation": "h",
           "showlegend": true,
           "textposition": "auto",
           "type": "bar",
           "x": [
            4
           ],
           "xaxis": "x",
           "y": [
            "Czech Republic"
           ],
           "yaxis": "y"
          },
          {
           "alignmentgroup": "True",
           "hovertemplate": "Countries=%{y}<br>release_year=1998<br>Cumulated character influence score=%{x}<extra></extra>",
           "legendgroup": "United Kingdom",
           "marker": {
            "color": "#FECB52",
            "pattern": {
             "shape": ""
            }
           },
           "name": "United Kingdom",
           "offsetgroup": "United Kingdom",
           "orientation": "h",
           "showlegend": true,
           "textposition": "auto",
           "type": "bar",
           "x": [
            153
           ],
           "xaxis": "x",
           "y": [
            "United Kingdom"
           ],
           "yaxis": "y"
          },
          {
           "alignmentgroup": "True",
           "hovertemplate": "Countries=%{y}<br>release_year=1998<br>Cumulated character influence score=%{x}<extra></extra>",
           "legendgroup": "Romania",
           "marker": {
            "color": "#636efa",
            "pattern": {
             "shape": ""
            }
           },
           "name": "Romania",
           "offsetgroup": "Romania",
           "orientation": "h",
           "showlegend": true,
           "textposition": "auto",
           "type": "bar",
           "x": [
            6
           ],
           "xaxis": "x",
           "y": [
            "Romania"
           ],
           "yaxis": "y"
          },
          {
           "alignmentgroup": "True",
           "hovertemplate": "Countries=%{y}<br>release_year=1998<br>Cumulated character influence score=%{x}<extra></extra>",
           "legendgroup": "Italy",
           "marker": {
            "color": "#19d3f3",
            "pattern": {
             "shape": ""
            }
           },
           "name": "Italy",
           "offsetgroup": "Italy",
           "orientation": "h",
           "showlegend": true,
           "textposition": "auto",
           "type": "bar",
           "x": [
            3
           ],
           "xaxis": "x",
           "y": [
            "Italy"
           ],
           "yaxis": "y"
          },
          {
           "alignmentgroup": "True",
           "hovertemplate": "Countries=%{y}<br>release_year=1998<br>Cumulated character influence score=%{x}<extra></extra>",
           "legendgroup": "India",
           "marker": {
            "color": "#FF6692",
            "pattern": {
             "shape": ""
            }
           },
           "name": "India",
           "offsetgroup": "India",
           "orientation": "h",
           "showlegend": true,
           "textposition": "auto",
           "type": "bar",
           "x": [
            12
           ],
           "xaxis": "x",
           "y": [
            "India"
           ],
           "yaxis": "y"
          },
          {
           "alignmentgroup": "True",
           "hovertemplate": "Countries=%{y}<br>release_year=1998<br>Cumulated character influence score=%{x}<extra></extra>",
           "legendgroup": "Poland",
           "marker": {
            "color": "#B6E880",
            "pattern": {
             "shape": ""
            }
           },
           "name": "Poland",
           "offsetgroup": "Poland",
           "orientation": "h",
           "showlegend": true,
           "textposition": "auto",
           "type": "bar",
           "x": [
            4
           ],
           "xaxis": "x",
           "y": [
            "Poland"
           ],
           "yaxis": "y"
          }
         ],
         "name": "1998"
        },
        {
         "data": [
          {
           "alignmentgroup": "True",
           "hovertemplate": "Countries=%{y}<br>release_year=1999<br>Cumulated character influence score=%{x}<extra></extra>",
           "legendgroup": "Germany",
           "marker": {
            "color": "#636efa",
            "pattern": {
             "shape": ""
            }
           },
           "name": "Germany",
           "offsetgroup": "Germany",
           "orientation": "h",
           "showlegend": true,
           "textposition": "auto",
           "type": "bar",
           "x": [
            15
           ],
           "xaxis": "x",
           "y": [
            "Germany"
           ],
           "yaxis": "y"
          },
          {
           "alignmentgroup": "True",
           "hovertemplate": "Countries=%{y}<br>release_year=1999<br>Cumulated character influence score=%{x}<extra></extra>",
           "legendgroup": "United States of America",
           "marker": {
            "color": "#EF553B",
            "pattern": {
             "shape": ""
            }
           },
           "name": "United States of America",
           "offsetgroup": "United States of America",
           "orientation": "h",
           "showlegend": true,
           "textposition": "auto",
           "type": "bar",
           "x": [
            90
           ],
           "xaxis": "x",
           "y": [
            "United States of America"
           ],
           "yaxis": "y"
          },
          {
           "alignmentgroup": "True",
           "hovertemplate": "Countries=%{y}<br>release_year=1999<br>Cumulated character influence score=%{x}<extra></extra>",
           "legendgroup": "Canada",
           "marker": {
            "color": "#FFA15A",
            "pattern": {
             "shape": ""
            }
           },
           "name": "Canada",
           "offsetgroup": "Canada",
           "orientation": "h",
           "showlegend": true,
           "textposition": "auto",
           "type": "bar",
           "x": [
            14
           ],
           "xaxis": "x",
           "y": [
            "Canada"
           ],
           "yaxis": "y"
          },
          {
           "alignmentgroup": "True",
           "hovertemplate": "Countries=%{y}<br>release_year=1999<br>Cumulated character influence score=%{x}<extra></extra>",
           "legendgroup": "France",
           "marker": {
            "color": "#19d3f3",
            "pattern": {
             "shape": ""
            }
           },
           "name": "France",
           "offsetgroup": "France",
           "orientation": "h",
           "showlegend": true,
           "textposition": "auto",
           "type": "bar",
           "x": [
            21
           ],
           "xaxis": "x",
           "y": [
            "France"
           ],
           "yaxis": "y"
          },
          {
           "alignmentgroup": "True",
           "hovertemplate": "Countries=%{y}<br>release_year=1999<br>Cumulated character influence score=%{x}<extra></extra>",
           "legendgroup": "Czech Republic",
           "marker": {
            "color": "#FF6692",
            "pattern": {
             "shape": ""
            }
           },
           "name": "Czech Republic",
           "offsetgroup": "Czech Republic",
           "orientation": "h",
           "showlegend": true,
           "textposition": "auto",
           "type": "bar",
           "x": [
            4
           ],
           "xaxis": "x",
           "y": [
            "Czech Republic"
           ],
           "yaxis": "y"
          },
          {
           "alignmentgroup": "True",
           "hovertemplate": "Countries=%{y}<br>release_year=1999<br>Cumulated character influence score=%{x}<extra></extra>",
           "legendgroup": "United Kingdom",
           "marker": {
            "color": "#FECB52",
            "pattern": {
             "shape": ""
            }
           },
           "name": "United Kingdom",
           "offsetgroup": "United Kingdom",
           "orientation": "h",
           "showlegend": true,
           "textposition": "auto",
           "type": "bar",
           "x": [
            155
           ],
           "xaxis": "x",
           "y": [
            "United Kingdom"
           ],
           "yaxis": "y"
          },
          {
           "alignmentgroup": "True",
           "hovertemplate": "Countries=%{y}<br>release_year=1999<br>Cumulated character influence score=%{x}<extra></extra>",
           "legendgroup": "Romania",
           "marker": {
            "color": "#636efa",
            "pattern": {
             "shape": ""
            }
           },
           "name": "Romania",
           "offsetgroup": "Romania",
           "orientation": "h",
           "showlegend": true,
           "textposition": "auto",
           "type": "bar",
           "x": [
            6
           ],
           "xaxis": "x",
           "y": [
            "Romania"
           ],
           "yaxis": "y"
          },
          {
           "alignmentgroup": "True",
           "hovertemplate": "Countries=%{y}<br>release_year=1999<br>Cumulated character influence score=%{x}<extra></extra>",
           "legendgroup": "Italy",
           "marker": {
            "color": "#19d3f3",
            "pattern": {
             "shape": ""
            }
           },
           "name": "Italy",
           "offsetgroup": "Italy",
           "orientation": "h",
           "showlegend": true,
           "textposition": "auto",
           "type": "bar",
           "x": [
            3
           ],
           "xaxis": "x",
           "y": [
            "Italy"
           ],
           "yaxis": "y"
          },
          {
           "alignmentgroup": "True",
           "hovertemplate": "Countries=%{y}<br>release_year=1999<br>Cumulated character influence score=%{x}<extra></extra>",
           "legendgroup": "India",
           "marker": {
            "color": "#FF6692",
            "pattern": {
             "shape": ""
            }
           },
           "name": "India",
           "offsetgroup": "India",
           "orientation": "h",
           "showlegend": true,
           "textposition": "auto",
           "type": "bar",
           "x": [
            12
           ],
           "xaxis": "x",
           "y": [
            "India"
           ],
           "yaxis": "y"
          },
          {
           "alignmentgroup": "True",
           "hovertemplate": "Countries=%{y}<br>release_year=1999<br>Cumulated character influence score=%{x}<extra></extra>",
           "legendgroup": "Poland",
           "marker": {
            "color": "#B6E880",
            "pattern": {
             "shape": ""
            }
           },
           "name": "Poland",
           "offsetgroup": "Poland",
           "orientation": "h",
           "showlegend": true,
           "textposition": "auto",
           "type": "bar",
           "x": [
            4
           ],
           "xaxis": "x",
           "y": [
            "Poland"
           ],
           "yaxis": "y"
          }
         ],
         "name": "1999"
        },
        {
         "data": [
          {
           "alignmentgroup": "True",
           "hovertemplate": "Countries=%{y}<br>release_year=2000<br>Cumulated character influence score=%{x}<extra></extra>",
           "legendgroup": "Germany",
           "marker": {
            "color": "#636efa",
            "pattern": {
             "shape": ""
            }
           },
           "name": "Germany",
           "offsetgroup": "Germany",
           "orientation": "h",
           "showlegend": true,
           "textposition": "auto",
           "type": "bar",
           "x": [
            16
           ],
           "xaxis": "x",
           "y": [
            "Germany"
           ],
           "yaxis": "y"
          },
          {
           "alignmentgroup": "True",
           "hovertemplate": "Countries=%{y}<br>release_year=2000<br>Cumulated character influence score=%{x}<extra></extra>",
           "legendgroup": "United States of America",
           "marker": {
            "color": "#EF553B",
            "pattern": {
             "shape": ""
            }
           },
           "name": "United States of America",
           "offsetgroup": "United States of America",
           "orientation": "h",
           "showlegend": true,
           "textposition": "auto",
           "type": "bar",
           "x": [
            98
           ],
           "xaxis": "x",
           "y": [
            "United States of America"
           ],
           "yaxis": "y"
          },
          {
           "alignmentgroup": "True",
           "hovertemplate": "Countries=%{y}<br>release_year=2000<br>Cumulated character influence score=%{x}<extra></extra>",
           "legendgroup": "Canada",
           "marker": {
            "color": "#FFA15A",
            "pattern": {
             "shape": ""
            }
           },
           "name": "Canada",
           "offsetgroup": "Canada",
           "orientation": "h",
           "showlegend": true,
           "textposition": "auto",
           "type": "bar",
           "x": [
            19
           ],
           "xaxis": "x",
           "y": [
            "Canada"
           ],
           "yaxis": "y"
          },
          {
           "alignmentgroup": "True",
           "hovertemplate": "Countries=%{y}<br>release_year=2000<br>Cumulated character influence score=%{x}<extra></extra>",
           "legendgroup": "France",
           "marker": {
            "color": "#19d3f3",
            "pattern": {
             "shape": ""
            }
           },
           "name": "France",
           "offsetgroup": "France",
           "orientation": "h",
           "showlegend": true,
           "textposition": "auto",
           "type": "bar",
           "x": [
            22
           ],
           "xaxis": "x",
           "y": [
            "France"
           ],
           "yaxis": "y"
          },
          {
           "alignmentgroup": "True",
           "hovertemplate": "Countries=%{y}<br>release_year=2000<br>Cumulated character influence score=%{x}<extra></extra>",
           "legendgroup": "Czech Republic",
           "marker": {
            "color": "#FF6692",
            "pattern": {
             "shape": ""
            }
           },
           "name": "Czech Republic",
           "offsetgroup": "Czech Republic",
           "orientation": "h",
           "showlegend": true,
           "textposition": "auto",
           "type": "bar",
           "x": [
            4
           ],
           "xaxis": "x",
           "y": [
            "Czech Republic"
           ],
           "yaxis": "y"
          },
          {
           "alignmentgroup": "True",
           "hovertemplate": "Countries=%{y}<br>release_year=2000<br>Cumulated character influence score=%{x}<extra></extra>",
           "legendgroup": "United Kingdom",
           "marker": {
            "color": "#FECB52",
            "pattern": {
             "shape": ""
            }
           },
           "name": "United Kingdom",
           "offsetgroup": "United Kingdom",
           "orientation": "h",
           "showlegend": true,
           "textposition": "auto",
           "type": "bar",
           "x": [
            157
           ],
           "xaxis": "x",
           "y": [
            "United Kingdom"
           ],
           "yaxis": "y"
          },
          {
           "alignmentgroup": "True",
           "hovertemplate": "Countries=%{y}<br>release_year=2000<br>Cumulated character influence score=%{x}<extra></extra>",
           "legendgroup": "Romania",
           "marker": {
            "color": "#636efa",
            "pattern": {
             "shape": ""
            }
           },
           "name": "Romania",
           "offsetgroup": "Romania",
           "orientation": "h",
           "showlegend": true,
           "textposition": "auto",
           "type": "bar",
           "x": [
            6
           ],
           "xaxis": "x",
           "y": [
            "Romania"
           ],
           "yaxis": "y"
          },
          {
           "alignmentgroup": "True",
           "hovertemplate": "Countries=%{y}<br>release_year=2000<br>Cumulated character influence score=%{x}<extra></extra>",
           "legendgroup": "Italy",
           "marker": {
            "color": "#19d3f3",
            "pattern": {
             "shape": ""
            }
           },
           "name": "Italy",
           "offsetgroup": "Italy",
           "orientation": "h",
           "showlegend": true,
           "textposition": "auto",
           "type": "bar",
           "x": [
            5
           ],
           "xaxis": "x",
           "y": [
            "Italy"
           ],
           "yaxis": "y"
          },
          {
           "alignmentgroup": "True",
           "hovertemplate": "Countries=%{y}<br>release_year=2000<br>Cumulated character influence score=%{x}<extra></extra>",
           "legendgroup": "India",
           "marker": {
            "color": "#FF6692",
            "pattern": {
             "shape": ""
            }
           },
           "name": "India",
           "offsetgroup": "India",
           "orientation": "h",
           "showlegend": true,
           "textposition": "auto",
           "type": "bar",
           "x": [
            12
           ],
           "xaxis": "x",
           "y": [
            "India"
           ],
           "yaxis": "y"
          },
          {
           "alignmentgroup": "True",
           "hovertemplate": "Countries=%{y}<br>release_year=2000<br>Cumulated character influence score=%{x}<extra></extra>",
           "legendgroup": "China",
           "marker": {
            "color": "#FF97FF",
            "pattern": {
             "shape": ""
            }
           },
           "name": "China",
           "offsetgroup": "China",
           "orientation": "h",
           "showlegend": true,
           "textposition": "auto",
           "type": "bar",
           "x": [
            5
           ],
           "xaxis": "x",
           "y": [
            "China"
           ],
           "yaxis": "y"
          }
         ],
         "name": "2000"
        },
        {
         "data": [
          {
           "alignmentgroup": "True",
           "hovertemplate": "Countries=%{y}<br>release_year=2001<br>Cumulated character influence score=%{x}<extra></extra>",
           "legendgroup": "Germany",
           "marker": {
            "color": "#636efa",
            "pattern": {
             "shape": ""
            }
           },
           "name": "Germany",
           "offsetgroup": "Germany",
           "orientation": "h",
           "showlegend": true,
           "textposition": "auto",
           "type": "bar",
           "x": [
            16
           ],
           "xaxis": "x",
           "y": [
            "Germany"
           ],
           "yaxis": "y"
          },
          {
           "alignmentgroup": "True",
           "hovertemplate": "Countries=%{y}<br>release_year=2001<br>Cumulated character influence score=%{x}<extra></extra>",
           "legendgroup": "United States of America",
           "marker": {
            "color": "#EF553B",
            "pattern": {
             "shape": ""
            }
           },
           "name": "United States of America",
           "offsetgroup": "United States of America",
           "orientation": "h",
           "showlegend": true,
           "textposition": "auto",
           "type": "bar",
           "x": [
            116
           ],
           "xaxis": "x",
           "y": [
            "United States of America"
           ],
           "yaxis": "y"
          },
          {
           "alignmentgroup": "True",
           "hovertemplate": "Countries=%{y}<br>release_year=2001<br>Cumulated character influence score=%{x}<extra></extra>",
           "legendgroup": "Canada",
           "marker": {
            "color": "#FFA15A",
            "pattern": {
             "shape": ""
            }
           },
           "name": "Canada",
           "offsetgroup": "Canada",
           "orientation": "h",
           "showlegend": true,
           "textposition": "auto",
           "type": "bar",
           "x": [
            21
           ],
           "xaxis": "x",
           "y": [
            "Canada"
           ],
           "yaxis": "y"
          },
          {
           "alignmentgroup": "True",
           "hovertemplate": "Countries=%{y}<br>release_year=2001<br>Cumulated character influence score=%{x}<extra></extra>",
           "legendgroup": "France",
           "marker": {
            "color": "#19d3f3",
            "pattern": {
             "shape": ""
            }
           },
           "name": "France",
           "offsetgroup": "France",
           "orientation": "h",
           "showlegend": true,
           "textposition": "auto",
           "type": "bar",
           "x": [
            24
           ],
           "xaxis": "x",
           "y": [
            "France"
           ],
           "yaxis": "y"
          },
          {
           "alignmentgroup": "True",
           "hovertemplate": "Countries=%{y}<br>release_year=2001<br>Cumulated character influence score=%{x}<extra></extra>",
           "legendgroup": "Czech Republic",
           "marker": {
            "color": "#FF6692",
            "pattern": {
             "shape": ""
            }
           },
           "name": "Czech Republic",
           "offsetgroup": "Czech Republic",
           "orientation": "h",
           "showlegend": true,
           "textposition": "auto",
           "type": "bar",
           "x": [
            4
           ],
           "xaxis": "x",
           "y": [
            "Czech Republic"
           ],
           "yaxis": "y"
          },
          {
           "alignmentgroup": "True",
           "hovertemplate": "Countries=%{y}<br>release_year=2001<br>Cumulated character influence score=%{x}<extra></extra>",
           "legendgroup": "United Kingdom",
           "marker": {
            "color": "#FECB52",
            "pattern": {
             "shape": ""
            }
           },
           "name": "United Kingdom",
           "offsetgroup": "United Kingdom",
           "orientation": "h",
           "showlegend": true,
           "textposition": "auto",
           "type": "bar",
           "x": [
            179
           ],
           "xaxis": "x",
           "y": [
            "United Kingdom"
           ],
           "yaxis": "y"
          },
          {
           "alignmentgroup": "True",
           "hovertemplate": "Countries=%{y}<br>release_year=2001<br>Cumulated character influence score=%{x}<extra></extra>",
           "legendgroup": "Romania",
           "marker": {
            "color": "#636efa",
            "pattern": {
             "shape": ""
            }
           },
           "name": "Romania",
           "offsetgroup": "Romania",
           "orientation": "h",
           "showlegend": true,
           "textposition": "auto",
           "type": "bar",
           "x": [
            6
           ],
           "xaxis": "x",
           "y": [
            "Romania"
           ],
           "yaxis": "y"
          },
          {
           "alignmentgroup": "True",
           "hovertemplate": "Countries=%{y}<br>release_year=2001<br>Cumulated character influence score=%{x}<extra></extra>",
           "legendgroup": "Italy",
           "marker": {
            "color": "#19d3f3",
            "pattern": {
             "shape": ""
            }
           },
           "name": "Italy",
           "offsetgroup": "Italy",
           "orientation": "h",
           "showlegend": true,
           "textposition": "auto",
           "type": "bar",
           "x": [
            5
           ],
           "xaxis": "x",
           "y": [
            "Italy"
           ],
           "yaxis": "y"
          },
          {
           "alignmentgroup": "True",
           "hovertemplate": "Countries=%{y}<br>release_year=2001<br>Cumulated character influence score=%{x}<extra></extra>",
           "legendgroup": "India",
           "marker": {
            "color": "#FF6692",
            "pattern": {
             "shape": ""
            }
           },
           "name": "India",
           "offsetgroup": "India",
           "orientation": "h",
           "showlegend": true,
           "textposition": "auto",
           "type": "bar",
           "x": [
            12
           ],
           "xaxis": "x",
           "y": [
            "India"
           ],
           "yaxis": "y"
          },
          {
           "alignmentgroup": "True",
           "hovertemplate": "Countries=%{y}<br>release_year=2001<br>Cumulated character influence score=%{x}<extra></extra>",
           "legendgroup": "China",
           "marker": {
            "color": "#FF97FF",
            "pattern": {
             "shape": ""
            }
           },
           "name": "China",
           "offsetgroup": "China",
           "orientation": "h",
           "showlegend": true,
           "textposition": "auto",
           "type": "bar",
           "x": [
            5
           ],
           "xaxis": "x",
           "y": [
            "China"
           ],
           "yaxis": "y"
          }
         ],
         "name": "2001"
        },
        {
         "data": [
          {
           "alignmentgroup": "True",
           "hovertemplate": "Countries=%{y}<br>release_year=2002<br>Cumulated character influence score=%{x}<extra></extra>",
           "legendgroup": "Germany",
           "marker": {
            "color": "#636efa",
            "pattern": {
             "shape": ""
            }
           },
           "name": "Germany",
           "offsetgroup": "Germany",
           "orientation": "h",
           "showlegend": true,
           "textposition": "auto",
           "type": "bar",
           "x": [
            18
           ],
           "xaxis": "x",
           "y": [
            "Germany"
           ],
           "yaxis": "y"
          },
          {
           "alignmentgroup": "True",
           "hovertemplate": "Countries=%{y}<br>release_year=2002<br>Cumulated character influence score=%{x}<extra></extra>",
           "legendgroup": "United States of America",
           "marker": {
            "color": "#EF553B",
            "pattern": {
             "shape": ""
            }
           },
           "name": "United States of America",
           "offsetgroup": "United States of America",
           "orientation": "h",
           "showlegend": true,
           "textposition": "auto",
           "type": "bar",
           "x": [
            140
           ],
           "xaxis": "x",
           "y": [
            "United States of America"
           ],
           "yaxis": "y"
          },
          {
           "alignmentgroup": "True",
           "hovertemplate": "Countries=%{y}<br>release_year=2002<br>Cumulated character influence score=%{x}<extra></extra>",
           "legendgroup": "Canada",
           "marker": {
            "color": "#FFA15A",
            "pattern": {
             "shape": ""
            }
           },
           "name": "Canada",
           "offsetgroup": "Canada",
           "orientation": "h",
           "showlegend": true,
           "textposition": "auto",
           "type": "bar",
           "x": [
            26
           ],
           "xaxis": "x",
           "y": [
            "Canada"
           ],
           "yaxis": "y"
          },
          {
           "alignmentgroup": "True",
           "hovertemplate": "Countries=%{y}<br>release_year=2002<br>Cumulated character influence score=%{x}<extra></extra>",
           "legendgroup": "France",
           "marker": {
            "color": "#19d3f3",
            "pattern": {
             "shape": ""
            }
           },
           "name": "France",
           "offsetgroup": "France",
           "orientation": "h",
           "showlegend": true,
           "textposition": "auto",
           "type": "bar",
           "x": [
            24
           ],
           "xaxis": "x",
           "y": [
            "France"
           ],
           "yaxis": "y"
          },
          {
           "alignmentgroup": "True",
           "hovertemplate": "Countries=%{y}<br>release_year=2002<br>Cumulated character influence score=%{x}<extra></extra>",
           "legendgroup": "Czech Republic",
           "marker": {
            "color": "#FF6692",
            "pattern": {
             "shape": ""
            }
           },
           "name": "Czech Republic",
           "offsetgroup": "Czech Republic",
           "orientation": "h",
           "showlegend": true,
           "textposition": "auto",
           "type": "bar",
           "x": [
            5
           ],
           "xaxis": "x",
           "y": [
            "Czech Republic"
           ],
           "yaxis": "y"
          },
          {
           "alignmentgroup": "True",
           "hovertemplate": "Countries=%{y}<br>release_year=2002<br>Cumulated character influence score=%{x}<extra></extra>",
           "legendgroup": "United Kingdom",
           "marker": {
            "color": "#FECB52",
            "pattern": {
             "shape": ""
            }
           },
           "name": "United Kingdom",
           "offsetgroup": "United Kingdom",
           "orientation": "h",
           "showlegend": true,
           "textposition": "auto",
           "type": "bar",
           "x": [
            192
           ],
           "xaxis": "x",
           "y": [
            "United Kingdom"
           ],
           "yaxis": "y"
          },
          {
           "alignmentgroup": "True",
           "hovertemplate": "Countries=%{y}<br>release_year=2002<br>Cumulated character influence score=%{x}<extra></extra>",
           "legendgroup": "Romania",
           "marker": {
            "color": "#636efa",
            "pattern": {
             "shape": ""
            }
           },
           "name": "Romania",
           "offsetgroup": "Romania",
           "orientation": "h",
           "showlegend": true,
           "textposition": "auto",
           "type": "bar",
           "x": [
            6
           ],
           "xaxis": "x",
           "y": [
            "Romania"
           ],
           "yaxis": "y"
          },
          {
           "alignmentgroup": "True",
           "hovertemplate": "Countries=%{y}<br>release_year=2002<br>Cumulated character influence score=%{x}<extra></extra>",
           "legendgroup": "Italy",
           "marker": {
            "color": "#19d3f3",
            "pattern": {
             "shape": ""
            }
           },
           "name": "Italy",
           "offsetgroup": "Italy",
           "orientation": "h",
           "showlegend": true,
           "textposition": "auto",
           "type": "bar",
           "x": [
            5
           ],
           "xaxis": "x",
           "y": [
            "Italy"
           ],
           "yaxis": "y"
          },
          {
           "alignmentgroup": "True",
           "hovertemplate": "Countries=%{y}<br>release_year=2002<br>Cumulated character influence score=%{x}<extra></extra>",
           "legendgroup": "India",
           "marker": {
            "color": "#FF6692",
            "pattern": {
             "shape": ""
            }
           },
           "name": "India",
           "offsetgroup": "India",
           "orientation": "h",
           "showlegend": true,
           "textposition": "auto",
           "type": "bar",
           "x": [
            12
           ],
           "xaxis": "x",
           "y": [
            "India"
           ],
           "yaxis": "y"
          },
          {
           "alignmentgroup": "True",
           "hovertemplate": "Countries=%{y}<br>release_year=2002<br>Cumulated character influence score=%{x}<extra></extra>",
           "legendgroup": "China",
           "marker": {
            "color": "#FF97FF",
            "pattern": {
             "shape": ""
            }
           },
           "name": "China",
           "offsetgroup": "China",
           "orientation": "h",
           "showlegend": true,
           "textposition": "auto",
           "type": "bar",
           "x": [
            5
           ],
           "xaxis": "x",
           "y": [
            "China"
           ],
           "yaxis": "y"
          }
         ],
         "name": "2002"
        },
        {
         "data": [
          {
           "alignmentgroup": "True",
           "hovertemplate": "Countries=%{y}<br>release_year=2003<br>Cumulated character influence score=%{x}<extra></extra>",
           "legendgroup": "Germany",
           "marker": {
            "color": "#636efa",
            "pattern": {
             "shape": ""
            }
           },
           "name": "Germany",
           "offsetgroup": "Germany",
           "orientation": "h",
           "showlegend": true,
           "textposition": "auto",
           "type": "bar",
           "x": [
            19
           ],
           "xaxis": "x",
           "y": [
            "Germany"
           ],
           "yaxis": "y"
          },
          {
           "alignmentgroup": "True",
           "hovertemplate": "Countries=%{y}<br>release_year=2003<br>Cumulated character influence score=%{x}<extra></extra>",
           "legendgroup": "United States of America",
           "marker": {
            "color": "#EF553B",
            "pattern": {
             "shape": ""
            }
           },
           "name": "United States of America",
           "offsetgroup": "United States of America",
           "orientation": "h",
           "showlegend": true,
           "textposition": "auto",
           "type": "bar",
           "x": [
            165
           ],
           "xaxis": "x",
           "y": [
            "United States of America"
           ],
           "yaxis": "y"
          },
          {
           "alignmentgroup": "True",
           "hovertemplate": "Countries=%{y}<br>release_year=2003<br>Cumulated character influence score=%{x}<extra></extra>",
           "legendgroup": "Canada",
           "marker": {
            "color": "#FFA15A",
            "pattern": {
             "shape": ""
            }
           },
           "name": "Canada",
           "offsetgroup": "Canada",
           "orientation": "h",
           "showlegend": true,
           "textposition": "auto",
           "type": "bar",
           "x": [
            28
           ],
           "xaxis": "x",
           "y": [
            "Canada"
           ],
           "yaxis": "y"
          },
          {
           "alignmentgroup": "True",
           "hovertemplate": "Countries=%{y}<br>release_year=2003<br>Cumulated character influence score=%{x}<extra></extra>",
           "legendgroup": "France",
           "marker": {
            "color": "#19d3f3",
            "pattern": {
             "shape": ""
            }
           },
           "name": "France",
           "offsetgroup": "France",
           "orientation": "h",
           "showlegend": true,
           "textposition": "auto",
           "type": "bar",
           "x": [
            26
           ],
           "xaxis": "x",
           "y": [
            "France"
           ],
           "yaxis": "y"
          },
          {
           "alignmentgroup": "True",
           "hovertemplate": "Countries=%{y}<br>release_year=2003<br>Cumulated character influence score=%{x}<extra></extra>",
           "legendgroup": "Czech Republic",
           "marker": {
            "color": "#FF6692",
            "pattern": {
             "shape": ""
            }
           },
           "name": "Czech Republic",
           "offsetgroup": "Czech Republic",
           "orientation": "h",
           "showlegend": true,
           "textposition": "auto",
           "type": "bar",
           "x": [
            5
           ],
           "xaxis": "x",
           "y": [
            "Czech Republic"
           ],
           "yaxis": "y"
          },
          {
           "alignmentgroup": "True",
           "hovertemplate": "Countries=%{y}<br>release_year=2003<br>Cumulated character influence score=%{x}<extra></extra>",
           "legendgroup": "United Kingdom",
           "marker": {
            "color": "#FECB52",
            "pattern": {
             "shape": ""
            }
           },
           "name": "United Kingdom",
           "offsetgroup": "United Kingdom",
           "orientation": "h",
           "showlegend": true,
           "textposition": "auto",
           "type": "bar",
           "x": [
            214
           ],
           "xaxis": "x",
           "y": [
            "United Kingdom"
           ],
           "yaxis": "y"
          },
          {
           "alignmentgroup": "True",
           "hovertemplate": "Countries=%{y}<br>release_year=2003<br>Cumulated character influence score=%{x}<extra></extra>",
           "legendgroup": "Romania",
           "marker": {
            "color": "#636efa",
            "pattern": {
             "shape": ""
            }
           },
           "name": "Romania",
           "offsetgroup": "Romania",
           "orientation": "h",
           "showlegend": true,
           "textposition": "auto",
           "type": "bar",
           "x": [
            7
           ],
           "xaxis": "x",
           "y": [
            "Romania"
           ],
           "yaxis": "y"
          },
          {
           "alignmentgroup": "True",
           "hovertemplate": "Countries=%{y}<br>release_year=2003<br>Cumulated character influence score=%{x}<extra></extra>",
           "legendgroup": "Italy",
           "marker": {
            "color": "#19d3f3",
            "pattern": {
             "shape": ""
            }
           },
           "name": "Italy",
           "offsetgroup": "Italy",
           "orientation": "h",
           "showlegend": true,
           "textposition": "auto",
           "type": "bar",
           "x": [
            5
           ],
           "xaxis": "x",
           "y": [
            "Italy"
           ],
           "yaxis": "y"
          },
          {
           "alignmentgroup": "True",
           "hovertemplate": "Countries=%{y}<br>release_year=2003<br>Cumulated character influence score=%{x}<extra></extra>",
           "legendgroup": "India",
           "marker": {
            "color": "#FF6692",
            "pattern": {
             "shape": ""
            }
           },
           "name": "India",
           "offsetgroup": "India",
           "orientation": "h",
           "showlegend": true,
           "textposition": "auto",
           "type": "bar",
           "x": [
            12
           ],
           "xaxis": "x",
           "y": [
            "India"
           ],
           "yaxis": "y"
          },
          {
           "alignmentgroup": "True",
           "hovertemplate": "Countries=%{y}<br>release_year=2003<br>Cumulated character influence score=%{x}<extra></extra>",
           "legendgroup": "China",
           "marker": {
            "color": "#FF97FF",
            "pattern": {
             "shape": ""
            }
           },
           "name": "China",
           "offsetgroup": "China",
           "orientation": "h",
           "showlegend": true,
           "textposition": "auto",
           "type": "bar",
           "x": [
            5
           ],
           "xaxis": "x",
           "y": [
            "China"
           ],
           "yaxis": "y"
          }
         ],
         "name": "2003"
        },
        {
         "data": [
          {
           "alignmentgroup": "True",
           "hovertemplate": "Countries=%{y}<br>release_year=2004<br>Cumulated character influence score=%{x}<extra></extra>",
           "legendgroup": "Germany",
           "marker": {
            "color": "#636efa",
            "pattern": {
             "shape": ""
            }
           },
           "name": "Germany",
           "offsetgroup": "Germany",
           "orientation": "h",
           "showlegend": true,
           "textposition": "auto",
           "type": "bar",
           "x": [
            21
           ],
           "xaxis": "x",
           "y": [
            "Germany"
           ],
           "yaxis": "y"
          },
          {
           "alignmentgroup": "True",
           "hovertemplate": "Countries=%{y}<br>release_year=2004<br>Cumulated character influence score=%{x}<extra></extra>",
           "legendgroup": "United States of America",
           "marker": {
            "color": "#EF553B",
            "pattern": {
             "shape": ""
            }
           },
           "name": "United States of America",
           "offsetgroup": "United States of America",
           "orientation": "h",
           "showlegend": true,
           "textposition": "auto",
           "type": "bar",
           "x": [
            185
           ],
           "xaxis": "x",
           "y": [
            "United States of America"
           ],
           "yaxis": "y"
          },
          {
           "alignmentgroup": "True",
           "hovertemplate": "Countries=%{y}<br>release_year=2004<br>Cumulated character influence score=%{x}<extra></extra>",
           "legendgroup": "Canada",
           "marker": {
            "color": "#FFA15A",
            "pattern": {
             "shape": ""
            }
           },
           "name": "Canada",
           "offsetgroup": "Canada",
           "orientation": "h",
           "showlegend": true,
           "textposition": "auto",
           "type": "bar",
           "x": [
            30
           ],
           "xaxis": "x",
           "y": [
            "Canada"
           ],
           "yaxis": "y"
          },
          {
           "alignmentgroup": "True",
           "hovertemplate": "Countries=%{y}<br>release_year=2004<br>Cumulated character influence score=%{x}<extra></extra>",
           "legendgroup": "France",
           "marker": {
            "color": "#19d3f3",
            "pattern": {
             "shape": ""
            }
           },
           "name": "France",
           "offsetgroup": "France",
           "orientation": "h",
           "showlegend": true,
           "textposition": "auto",
           "type": "bar",
           "x": [
            26
           ],
           "xaxis": "x",
           "y": [
            "France"
           ],
           "yaxis": "y"
          },
          {
           "alignmentgroup": "True",
           "hovertemplate": "Countries=%{y}<br>release_year=2004<br>Cumulated character influence score=%{x}<extra></extra>",
           "legendgroup": "Czech Republic",
           "marker": {
            "color": "#FF6692",
            "pattern": {
             "shape": ""
            }
           },
           "name": "Czech Republic",
           "offsetgroup": "Czech Republic",
           "orientation": "h",
           "showlegend": true,
           "textposition": "auto",
           "type": "bar",
           "x": [
            5
           ],
           "xaxis": "x",
           "y": [
            "Czech Republic"
           ],
           "yaxis": "y"
          },
          {
           "alignmentgroup": "True",
           "hovertemplate": "Countries=%{y}<br>release_year=2004<br>Cumulated character influence score=%{x}<extra></extra>",
           "legendgroup": "Hong Kong",
           "marker": {
            "color": "#B6E880",
            "pattern": {
             "shape": ""
            }
           },
           "name": "Hong Kong",
           "offsetgroup": "Hong Kong",
           "orientation": "h",
           "showlegend": true,
           "textposition": "auto",
           "type": "bar",
           "x": [
            5
           ],
           "xaxis": "x",
           "y": [
            "Hong Kong"
           ],
           "yaxis": "y"
          },
          {
           "alignmentgroup": "True",
           "hovertemplate": "Countries=%{y}<br>release_year=2004<br>Cumulated character influence score=%{x}<extra></extra>",
           "legendgroup": "United Kingdom",
           "marker": {
            "color": "#FECB52",
            "pattern": {
             "shape": ""
            }
           },
           "name": "United Kingdom",
           "offsetgroup": "United Kingdom",
           "orientation": "h",
           "showlegend": true,
           "textposition": "auto",
           "type": "bar",
           "x": [
            220
           ],
           "xaxis": "x",
           "y": [
            "United Kingdom"
           ],
           "yaxis": "y"
          },
          {
           "alignmentgroup": "True",
           "hovertemplate": "Countries=%{y}<br>release_year=2004<br>Cumulated character influence score=%{x}<extra></extra>",
           "legendgroup": "Romania",
           "marker": {
            "color": "#636efa",
            "pattern": {
             "shape": ""
            }
           },
           "name": "Romania",
           "offsetgroup": "Romania",
           "orientation": "h",
           "showlegend": true,
           "textposition": "auto",
           "type": "bar",
           "x": [
            7
           ],
           "xaxis": "x",
           "y": [
            "Romania"
           ],
           "yaxis": "y"
          },
          {
           "alignmentgroup": "True",
           "hovertemplate": "Countries=%{y}<br>release_year=2004<br>Cumulated character influence score=%{x}<extra></extra>",
           "legendgroup": "India",
           "marker": {
            "color": "#FF6692",
            "pattern": {
             "shape": ""
            }
           },
           "name": "India",
           "offsetgroup": "India",
           "orientation": "h",
           "showlegend": true,
           "textposition": "auto",
           "type": "bar",
           "x": [
            12
           ],
           "xaxis": "x",
           "y": [
            "India"
           ],
           "yaxis": "y"
          },
          {
           "alignmentgroup": "True",
           "hovertemplate": "Countries=%{y}<br>release_year=2004<br>Cumulated character influence score=%{x}<extra></extra>",
           "legendgroup": "China",
           "marker": {
            "color": "#FF97FF",
            "pattern": {
             "shape": ""
            }
           },
           "name": "China",
           "offsetgroup": "China",
           "orientation": "h",
           "showlegend": true,
           "textposition": "auto",
           "type": "bar",
           "x": [
            9
           ],
           "xaxis": "x",
           "y": [
            "China"
           ],
           "yaxis": "y"
          }
         ],
         "name": "2004"
        },
        {
         "data": [
          {
           "alignmentgroup": "True",
           "hovertemplate": "Countries=%{y}<br>release_year=2005<br>Cumulated character influence score=%{x}<extra></extra>",
           "legendgroup": "Germany",
           "marker": {
            "color": "#636efa",
            "pattern": {
             "shape": ""
            }
           },
           "name": "Germany",
           "offsetgroup": "Germany",
           "orientation": "h",
           "showlegend": true,
           "textposition": "auto",
           "type": "bar",
           "x": [
            21
           ],
           "xaxis": "x",
           "y": [
            "Germany"
           ],
           "yaxis": "y"
          },
          {
           "alignmentgroup": "True",
           "hovertemplate": "Countries=%{y}<br>release_year=2005<br>Cumulated character influence score=%{x}<extra></extra>",
           "legendgroup": "United States of America",
           "marker": {
            "color": "#EF553B",
            "pattern": {
             "shape": ""
            }
           },
           "name": "United States of America",
           "offsetgroup": "United States of America",
           "orientation": "h",
           "showlegend": true,
           "textposition": "auto",
           "type": "bar",
           "x": [
            213
           ],
           "xaxis": "x",
           "y": [
            "United States of America"
           ],
           "yaxis": "y"
          },
          {
           "alignmentgroup": "True",
           "hovertemplate": "Countries=%{y}<br>release_year=2005<br>Cumulated character influence score=%{x}<extra></extra>",
           "legendgroup": "Canada",
           "marker": {
            "color": "#FFA15A",
            "pattern": {
             "shape": ""
            }
           },
           "name": "Canada",
           "offsetgroup": "Canada",
           "orientation": "h",
           "showlegend": true,
           "textposition": "auto",
           "type": "bar",
           "x": [
            30
           ],
           "xaxis": "x",
           "y": [
            "Canada"
           ],
           "yaxis": "y"
          },
          {
           "alignmentgroup": "True",
           "hovertemplate": "Countries=%{y}<br>release_year=2005<br>Cumulated character influence score=%{x}<extra></extra>",
           "legendgroup": "France",
           "marker": {
            "color": "#19d3f3",
            "pattern": {
             "shape": ""
            }
           },
           "name": "France",
           "offsetgroup": "France",
           "orientation": "h",
           "showlegend": true,
           "textposition": "auto",
           "type": "bar",
           "x": [
            26
           ],
           "xaxis": "x",
           "y": [
            "France"
           ],
           "yaxis": "y"
          },
          {
           "alignmentgroup": "True",
           "hovertemplate": "Countries=%{y}<br>release_year=2005<br>Cumulated character influence score=%{x}<extra></extra>",
           "legendgroup": "Czech Republic",
           "marker": {
            "color": "#FF6692",
            "pattern": {
             "shape": ""
            }
           },
           "name": "Czech Republic",
           "offsetgroup": "Czech Republic",
           "orientation": "h",
           "showlegend": true,
           "textposition": "auto",
           "type": "bar",
           "x": [
            7
           ],
           "xaxis": "x",
           "y": [
            "Czech Republic"
           ],
           "yaxis": "y"
          },
          {
           "alignmentgroup": "True",
           "hovertemplate": "Countries=%{y}<br>release_year=2005<br>Cumulated character influence score=%{x}<extra></extra>",
           "legendgroup": "Hong Kong",
           "marker": {
            "color": "#B6E880",
            "pattern": {
             "shape": ""
            }
           },
           "name": "Hong Kong",
           "offsetgroup": "Hong Kong",
           "orientation": "h",
           "showlegend": true,
           "textposition": "auto",
           "type": "bar",
           "x": [
            5
           ],
           "xaxis": "x",
           "y": [
            "Hong Kong"
           ],
           "yaxis": "y"
          },
          {
           "alignmentgroup": "True",
           "hovertemplate": "Countries=%{y}<br>release_year=2005<br>Cumulated character influence score=%{x}<extra></extra>",
           "legendgroup": "United Kingdom",
           "marker": {
            "color": "#FECB52",
            "pattern": {
             "shape": ""
            }
           },
           "name": "United Kingdom",
           "offsetgroup": "United Kingdom",
           "orientation": "h",
           "showlegend": true,
           "textposition": "auto",
           "type": "bar",
           "x": [
            235
           ],
           "xaxis": "x",
           "y": [
            "United Kingdom"
           ],
           "yaxis": "y"
          },
          {
           "alignmentgroup": "True",
           "hovertemplate": "Countries=%{y}<br>release_year=2005<br>Cumulated character influence score=%{x}<extra></extra>",
           "legendgroup": "Romania",
           "marker": {
            "color": "#636efa",
            "pattern": {
             "shape": ""
            }
           },
           "name": "Romania",
           "offsetgroup": "Romania",
           "orientation": "h",
           "showlegend": true,
           "textposition": "auto",
           "type": "bar",
           "x": [
            7
           ],
           "xaxis": "x",
           "y": [
            "Romania"
           ],
           "yaxis": "y"
          },
          {
           "alignmentgroup": "True",
           "hovertemplate": "Countries=%{y}<br>release_year=2005<br>Cumulated character influence score=%{x}<extra></extra>",
           "legendgroup": "India",
           "marker": {
            "color": "#FF6692",
            "pattern": {
             "shape": ""
            }
           },
           "name": "India",
           "offsetgroup": "India",
           "orientation": "h",
           "showlegend": true,
           "textposition": "auto",
           "type": "bar",
           "x": [
            12
           ],
           "xaxis": "x",
           "y": [
            "India"
           ],
           "yaxis": "y"
          },
          {
           "alignmentgroup": "True",
           "hovertemplate": "Countries=%{y}<br>release_year=2005<br>Cumulated character influence score=%{x}<extra></extra>",
           "legendgroup": "China",
           "marker": {
            "color": "#FF97FF",
            "pattern": {
             "shape": ""
            }
           },
           "name": "China",
           "offsetgroup": "China",
           "orientation": "h",
           "showlegend": true,
           "textposition": "auto",
           "type": "bar",
           "x": [
            9
           ],
           "xaxis": "x",
           "y": [
            "China"
           ],
           "yaxis": "y"
          }
         ],
         "name": "2005"
        },
        {
         "data": [
          {
           "alignmentgroup": "True",
           "hovertemplate": "Countries=%{y}<br>release_year=2006<br>Cumulated character influence score=%{x}<extra></extra>",
           "legendgroup": "Germany",
           "marker": {
            "color": "#636efa",
            "pattern": {
             "shape": ""
            }
           },
           "name": "Germany",
           "offsetgroup": "Germany",
           "orientation": "h",
           "showlegend": true,
           "textposition": "auto",
           "type": "bar",
           "x": [
            22
           ],
           "xaxis": "x",
           "y": [
            "Germany"
           ],
           "yaxis": "y"
          },
          {
           "alignmentgroup": "True",
           "hovertemplate": "Countries=%{y}<br>release_year=2006<br>Cumulated character influence score=%{x}<extra></extra>",
           "legendgroup": "United States of America",
           "marker": {
            "color": "#EF553B",
            "pattern": {
             "shape": ""
            }
           },
           "name": "United States of America",
           "offsetgroup": "United States of America",
           "orientation": "h",
           "showlegend": true,
           "textposition": "auto",
           "type": "bar",
           "x": [
            223
           ],
           "xaxis": "x",
           "y": [
            "United States of America"
           ],
           "yaxis": "y"
          },
          {
           "alignmentgroup": "True",
           "hovertemplate": "Countries=%{y}<br>release_year=2006<br>Cumulated character influence score=%{x}<extra></extra>",
           "legendgroup": "Canada",
           "marker": {
            "color": "#FFA15A",
            "pattern": {
             "shape": ""
            }
           },
           "name": "Canada",
           "offsetgroup": "Canada",
           "orientation": "h",
           "showlegend": true,
           "textposition": "auto",
           "type": "bar",
           "x": [
            30
           ],
           "xaxis": "x",
           "y": [
            "Canada"
           ],
           "yaxis": "y"
          },
          {
           "alignmentgroup": "True",
           "hovertemplate": "Countries=%{y}<br>release_year=2006<br>Cumulated character influence score=%{x}<extra></extra>",
           "legendgroup": "France",
           "marker": {
            "color": "#19d3f3",
            "pattern": {
             "shape": ""
            }
           },
           "name": "France",
           "offsetgroup": "France",
           "orientation": "h",
           "showlegend": true,
           "textposition": "auto",
           "type": "bar",
           "x": [
            33
           ],
           "xaxis": "x",
           "y": [
            "France"
           ],
           "yaxis": "y"
          },
          {
           "alignmentgroup": "True",
           "hovertemplate": "Countries=%{y}<br>release_year=2006<br>Cumulated character influence score=%{x}<extra></extra>",
           "legendgroup": "Czech Republic",
           "marker": {
            "color": "#FF6692",
            "pattern": {
             "shape": ""
            }
           },
           "name": "Czech Republic",
           "offsetgroup": "Czech Republic",
           "orientation": "h",
           "showlegend": true,
           "textposition": "auto",
           "type": "bar",
           "x": [
            7
           ],
           "xaxis": "x",
           "y": [
            "Czech Republic"
           ],
           "yaxis": "y"
          },
          {
           "alignmentgroup": "True",
           "hovertemplate": "Countries=%{y}<br>release_year=2006<br>Cumulated character influence score=%{x}<extra></extra>",
           "legendgroup": "Hong Kong",
           "marker": {
            "color": "#B6E880",
            "pattern": {
             "shape": ""
            }
           },
           "name": "Hong Kong",
           "offsetgroup": "Hong Kong",
           "orientation": "h",
           "showlegend": true,
           "textposition": "auto",
           "type": "bar",
           "x": [
            5
           ],
           "xaxis": "x",
           "y": [
            "Hong Kong"
           ],
           "yaxis": "y"
          },
          {
           "alignmentgroup": "True",
           "hovertemplate": "Countries=%{y}<br>release_year=2006<br>Cumulated character influence score=%{x}<extra></extra>",
           "legendgroup": "United Kingdom",
           "marker": {
            "color": "#FECB52",
            "pattern": {
             "shape": ""
            }
           },
           "name": "United Kingdom",
           "offsetgroup": "United Kingdom",
           "orientation": "h",
           "showlegend": true,
           "textposition": "auto",
           "type": "bar",
           "x": [
            243
           ],
           "xaxis": "x",
           "y": [
            "United Kingdom"
           ],
           "yaxis": "y"
          },
          {
           "alignmentgroup": "True",
           "hovertemplate": "Countries=%{y}<br>release_year=2006<br>Cumulated character influence score=%{x}<extra></extra>",
           "legendgroup": "Romania",
           "marker": {
            "color": "#636efa",
            "pattern": {
             "shape": ""
            }
           },
           "name": "Romania",
           "offsetgroup": "Romania",
           "orientation": "h",
           "showlegend": true,
           "textposition": "auto",
           "type": "bar",
           "x": [
            7
           ],
           "xaxis": "x",
           "y": [
            "Romania"
           ],
           "yaxis": "y"
          },
          {
           "alignmentgroup": "True",
           "hovertemplate": "Countries=%{y}<br>release_year=2006<br>Cumulated character influence score=%{x}<extra></extra>",
           "legendgroup": "India",
           "marker": {
            "color": "#FF6692",
            "pattern": {
             "shape": ""
            }
           },
           "name": "India",
           "offsetgroup": "India",
           "orientation": "h",
           "showlegend": true,
           "textposition": "auto",
           "type": "bar",
           "x": [
            12
           ],
           "xaxis": "x",
           "y": [
            "India"
           ],
           "yaxis": "y"
          },
          {
           "alignmentgroup": "True",
           "hovertemplate": "Countries=%{y}<br>release_year=2006<br>Cumulated character influence score=%{x}<extra></extra>",
           "legendgroup": "China",
           "marker": {
            "color": "#FF97FF",
            "pattern": {
             "shape": ""
            }
           },
           "name": "China",
           "offsetgroup": "China",
           "orientation": "h",
           "showlegend": true,
           "textposition": "auto",
           "type": "bar",
           "x": [
            9
           ],
           "xaxis": "x",
           "y": [
            "China"
           ],
           "yaxis": "y"
          }
         ],
         "name": "2006"
        },
        {
         "data": [
          {
           "alignmentgroup": "True",
           "hovertemplate": "Countries=%{y}<br>release_year=2007<br>Cumulated character influence score=%{x}<extra></extra>",
           "legendgroup": "Germany",
           "marker": {
            "color": "#636efa",
            "pattern": {
             "shape": ""
            }
           },
           "name": "Germany",
           "offsetgroup": "Germany",
           "orientation": "h",
           "showlegend": true,
           "textposition": "auto",
           "type": "bar",
           "x": [
            22
           ],
           "xaxis": "x",
           "y": [
            "Germany"
           ],
           "yaxis": "y"
          },
          {
           "alignmentgroup": "True",
           "hovertemplate": "Countries=%{y}<br>release_year=2007<br>Cumulated character influence score=%{x}<extra></extra>",
           "legendgroup": "United States of America",
           "marker": {
            "color": "#EF553B",
            "pattern": {
             "shape": ""
            }
           },
           "name": "United States of America",
           "offsetgroup": "United States of America",
           "orientation": "h",
           "showlegend": true,
           "textposition": "auto",
           "type": "bar",
           "x": [
            229
           ],
           "xaxis": "x",
           "y": [
            "United States of America"
           ],
           "yaxis": "y"
          },
          {
           "alignmentgroup": "True",
           "hovertemplate": "Countries=%{y}<br>release_year=2007<br>Cumulated character influence score=%{x}<extra></extra>",
           "legendgroup": "Canada",
           "marker": {
            "color": "#FFA15A",
            "pattern": {
             "shape": ""
            }
           },
           "name": "Canada",
           "offsetgroup": "Canada",
           "orientation": "h",
           "showlegend": true,
           "textposition": "auto",
           "type": "bar",
           "x": [
            30
           ],
           "xaxis": "x",
           "y": [
            "Canada"
           ],
           "yaxis": "y"
          },
          {
           "alignmentgroup": "True",
           "hovertemplate": "Countries=%{y}<br>release_year=2007<br>Cumulated character influence score=%{x}<extra></extra>",
           "legendgroup": "France",
           "marker": {
            "color": "#19d3f3",
            "pattern": {
             "shape": ""
            }
           },
           "name": "France",
           "offsetgroup": "France",
           "orientation": "h",
           "showlegend": true,
           "textposition": "auto",
           "type": "bar",
           "x": [
            33
           ],
           "xaxis": "x",
           "y": [
            "France"
           ],
           "yaxis": "y"
          },
          {
           "alignmentgroup": "True",
           "hovertemplate": "Countries=%{y}<br>release_year=2007<br>Cumulated character influence score=%{x}<extra></extra>",
           "legendgroup": "Czech Republic",
           "marker": {
            "color": "#FF6692",
            "pattern": {
             "shape": ""
            }
           },
           "name": "Czech Republic",
           "offsetgroup": "Czech Republic",
           "orientation": "h",
           "showlegend": true,
           "textposition": "auto",
           "type": "bar",
           "x": [
            7
           ],
           "xaxis": "x",
           "y": [
            "Czech Republic"
           ],
           "yaxis": "y"
          },
          {
           "alignmentgroup": "True",
           "hovertemplate": "Countries=%{y}<br>release_year=2007<br>Cumulated character influence score=%{x}<extra></extra>",
           "legendgroup": "Hong Kong",
           "marker": {
            "color": "#B6E880",
            "pattern": {
             "shape": ""
            }
           },
           "name": "Hong Kong",
           "offsetgroup": "Hong Kong",
           "orientation": "h",
           "showlegend": true,
           "textposition": "auto",
           "type": "bar",
           "x": [
            7
           ],
           "xaxis": "x",
           "y": [
            "Hong Kong"
           ],
           "yaxis": "y"
          },
          {
           "alignmentgroup": "True",
           "hovertemplate": "Countries=%{y}<br>release_year=2007<br>Cumulated character influence score=%{x}<extra></extra>",
           "legendgroup": "United Kingdom",
           "marker": {
            "color": "#FECB52",
            "pattern": {
             "shape": ""
            }
           },
           "name": "United Kingdom",
           "offsetgroup": "United Kingdom",
           "orientation": "h",
           "showlegend": true,
           "textposition": "auto",
           "type": "bar",
           "x": [
            257
           ],
           "xaxis": "x",
           "y": [
            "United Kingdom"
           ],
           "yaxis": "y"
          },
          {
           "alignmentgroup": "True",
           "hovertemplate": "Countries=%{y}<br>release_year=2007<br>Cumulated character influence score=%{x}<extra></extra>",
           "legendgroup": "Romania",
           "marker": {
            "color": "#636efa",
            "pattern": {
             "shape": ""
            }
           },
           "name": "Romania",
           "offsetgroup": "Romania",
           "orientation": "h",
           "showlegend": true,
           "textposition": "auto",
           "type": "bar",
           "x": [
            7
           ],
           "xaxis": "x",
           "y": [
            "Romania"
           ],
           "yaxis": "y"
          },
          {
           "alignmentgroup": "True",
           "hovertemplate": "Countries=%{y}<br>release_year=2007<br>Cumulated character influence score=%{x}<extra></extra>",
           "legendgroup": "India",
           "marker": {
            "color": "#FF6692",
            "pattern": {
             "shape": ""
            }
           },
           "name": "India",
           "offsetgroup": "India",
           "orientation": "h",
           "showlegend": true,
           "textposition": "auto",
           "type": "bar",
           "x": [
            12
           ],
           "xaxis": "x",
           "y": [
            "India"
           ],
           "yaxis": "y"
          },
          {
           "alignmentgroup": "True",
           "hovertemplate": "Countries=%{y}<br>release_year=2007<br>Cumulated character influence score=%{x}<extra></extra>",
           "legendgroup": "China",
           "marker": {
            "color": "#FF97FF",
            "pattern": {
             "shape": ""
            }
           },
           "name": "China",
           "offsetgroup": "China",
           "orientation": "h",
           "showlegend": true,
           "textposition": "auto",
           "type": "bar",
           "x": [
            9
           ],
           "xaxis": "x",
           "y": [
            "China"
           ],
           "yaxis": "y"
          }
         ],
         "name": "2007"
        },
        {
         "data": [
          {
           "alignmentgroup": "True",
           "hovertemplate": "Countries=%{y}<br>release_year=2008<br>Cumulated character influence score=%{x}<extra></extra>",
           "legendgroup": "Germany",
           "marker": {
            "color": "#636efa",
            "pattern": {
             "shape": ""
            }
           },
           "name": "Germany",
           "offsetgroup": "Germany",
           "orientation": "h",
           "showlegend": true,
           "textposition": "auto",
           "type": "bar",
           "x": [
            22
           ],
           "xaxis": "x",
           "y": [
            "Germany"
           ],
           "yaxis": "y"
          },
          {
           "alignmentgroup": "True",
           "hovertemplate": "Countries=%{y}<br>release_year=2008<br>Cumulated character influence score=%{x}<extra></extra>",
           "legendgroup": "United States of America",
           "marker": {
            "color": "#EF553B",
            "pattern": {
             "shape": ""
            }
           },
           "name": "United States of America",
           "offsetgroup": "United States of America",
           "orientation": "h",
           "showlegend": true,
           "textposition": "auto",
           "type": "bar",
           "x": [
            242
           ],
           "xaxis": "x",
           "y": [
            "United States of America"
           ],
           "yaxis": "y"
          },
          {
           "alignmentgroup": "True",
           "hovertemplate": "Countries=%{y}<br>release_year=2008<br>Cumulated character influence score=%{x}<extra></extra>",
           "legendgroup": "Canada",
           "marker": {
            "color": "#FFA15A",
            "pattern": {
             "shape": ""
            }
           },
           "name": "Canada",
           "offsetgroup": "Canada",
           "orientation": "h",
           "showlegend": true,
           "textposition": "auto",
           "type": "bar",
           "x": [
            32
           ],
           "xaxis": "x",
           "y": [
            "Canada"
           ],
           "yaxis": "y"
          },
          {
           "alignmentgroup": "True",
           "hovertemplate": "Countries=%{y}<br>release_year=2008<br>Cumulated character influence score=%{x}<extra></extra>",
           "legendgroup": "France",
           "marker": {
            "color": "#19d3f3",
            "pattern": {
             "shape": ""
            }
           },
           "name": "France",
           "offsetgroup": "France",
           "orientation": "h",
           "showlegend": true,
           "textposition": "auto",
           "type": "bar",
           "x": [
            33
           ],
           "xaxis": "x",
           "y": [
            "France"
           ],
           "yaxis": "y"
          },
          {
           "alignmentgroup": "True",
           "hovertemplate": "Countries=%{y}<br>release_year=2008<br>Cumulated character influence score=%{x}<extra></extra>",
           "legendgroup": "Czech Republic",
           "marker": {
            "color": "#FF6692",
            "pattern": {
             "shape": ""
            }
           },
           "name": "Czech Republic",
           "offsetgroup": "Czech Republic",
           "orientation": "h",
           "showlegend": true,
           "textposition": "auto",
           "type": "bar",
           "x": [
            11
           ],
           "xaxis": "x",
           "y": [
            "Czech Republic"
           ],
           "yaxis": "y"
          },
          {
           "alignmentgroup": "True",
           "hovertemplate": "Countries=%{y}<br>release_year=2008<br>Cumulated character influence score=%{x}<extra></extra>",
           "legendgroup": "Hong Kong",
           "marker": {
            "color": "#B6E880",
            "pattern": {
             "shape": ""
            }
           },
           "name": "Hong Kong",
           "offsetgroup": "Hong Kong",
           "orientation": "h",
           "showlegend": true,
           "textposition": "auto",
           "type": "bar",
           "x": [
            7
           ],
           "xaxis": "x",
           "y": [
            "Hong Kong"
           ],
           "yaxis": "y"
          },
          {
           "alignmentgroup": "True",
           "hovertemplate": "Countries=%{y}<br>release_year=2008<br>Cumulated character influence score=%{x}<extra></extra>",
           "legendgroup": "United Kingdom",
           "marker": {
            "color": "#FECB52",
            "pattern": {
             "shape": ""
            }
           },
           "name": "United Kingdom",
           "offsetgroup": "United Kingdom",
           "orientation": "h",
           "showlegend": true,
           "textposition": "auto",
           "type": "bar",
           "x": [
            274
           ],
           "xaxis": "x",
           "y": [
            "United Kingdom"
           ],
           "yaxis": "y"
          },
          {
           "alignmentgroup": "True",
           "hovertemplate": "Countries=%{y}<br>release_year=2008<br>Cumulated character influence score=%{x}<extra></extra>",
           "legendgroup": "Romania",
           "marker": {
            "color": "#636efa",
            "pattern": {
             "shape": ""
            }
           },
           "name": "Romania",
           "offsetgroup": "Romania",
           "orientation": "h",
           "showlegend": true,
           "textposition": "auto",
           "type": "bar",
           "x": [
            7
           ],
           "xaxis": "x",
           "y": [
            "Romania"
           ],
           "yaxis": "y"
          },
          {
           "alignmentgroup": "True",
           "hovertemplate": "Countries=%{y}<br>release_year=2008<br>Cumulated character influence score=%{x}<extra></extra>",
           "legendgroup": "India",
           "marker": {
            "color": "#FF6692",
            "pattern": {
             "shape": ""
            }
           },
           "name": "India",
           "offsetgroup": "India",
           "orientation": "h",
           "showlegend": true,
           "textposition": "auto",
           "type": "bar",
           "x": [
            12
           ],
           "xaxis": "x",
           "y": [
            "India"
           ],
           "yaxis": "y"
          },
          {
           "alignmentgroup": "True",
           "hovertemplate": "Countries=%{y}<br>release_year=2008<br>Cumulated character influence score=%{x}<extra></extra>",
           "legendgroup": "China",
           "marker": {
            "color": "#FF97FF",
            "pattern": {
             "shape": ""
            }
           },
           "name": "China",
           "offsetgroup": "China",
           "orientation": "h",
           "showlegend": true,
           "textposition": "auto",
           "type": "bar",
           "x": [
            9
           ],
           "xaxis": "x",
           "y": [
            "China"
           ],
           "yaxis": "y"
          }
         ],
         "name": "2008"
        },
        {
         "data": [
          {
           "alignmentgroup": "True",
           "hovertemplate": "Countries=%{y}<br>release_year=2009<br>Cumulated character influence score=%{x}<extra></extra>",
           "legendgroup": "Germany",
           "marker": {
            "color": "#636efa",
            "pattern": {
             "shape": ""
            }
           },
           "name": "Germany",
           "offsetgroup": "Germany",
           "orientation": "h",
           "showlegend": true,
           "textposition": "auto",
           "type": "bar",
           "x": [
            26
           ],
           "xaxis": "x",
           "y": [
            "Germany"
           ],
           "yaxis": "y"
          },
          {
           "alignmentgroup": "True",
           "hovertemplate": "Countries=%{y}<br>release_year=2009<br>Cumulated character influence score=%{x}<extra></extra>",
           "legendgroup": "United States of America",
           "marker": {
            "color": "#EF553B",
            "pattern": {
             "shape": ""
            }
           },
           "name": "United States of America",
           "offsetgroup": "United States of America",
           "orientation": "h",
           "showlegend": true,
           "textposition": "auto",
           "type": "bar",
           "x": [
            265
           ],
           "xaxis": "x",
           "y": [
            "United States of America"
           ],
           "yaxis": "y"
          },
          {
           "alignmentgroup": "True",
           "hovertemplate": "Countries=%{y}<br>release_year=2009<br>Cumulated character influence score=%{x}<extra></extra>",
           "legendgroup": "Canada",
           "marker": {
            "color": "#FFA15A",
            "pattern": {
             "shape": ""
            }
           },
           "name": "Canada",
           "offsetgroup": "Canada",
           "orientation": "h",
           "showlegend": true,
           "textposition": "auto",
           "type": "bar",
           "x": [
            32
           ],
           "xaxis": "x",
           "y": [
            "Canada"
           ],
           "yaxis": "y"
          },
          {
           "alignmentgroup": "True",
           "hovertemplate": "Countries=%{y}<br>release_year=2009<br>Cumulated character influence score=%{x}<extra></extra>",
           "legendgroup": "France",
           "marker": {
            "color": "#19d3f3",
            "pattern": {
             "shape": ""
            }
           },
           "name": "France",
           "offsetgroup": "France",
           "orientation": "h",
           "showlegend": true,
           "textposition": "auto",
           "type": "bar",
           "x": [
            33
           ],
           "xaxis": "x",
           "y": [
            "France"
           ],
           "yaxis": "y"
          },
          {
           "alignmentgroup": "True",
           "hovertemplate": "Countries=%{y}<br>release_year=2009<br>Cumulated character influence score=%{x}<extra></extra>",
           "legendgroup": "Czech Republic",
           "marker": {
            "color": "#FF6692",
            "pattern": {
             "shape": ""
            }
           },
           "name": "Czech Republic",
           "offsetgroup": "Czech Republic",
           "orientation": "h",
           "showlegend": true,
           "textposition": "auto",
           "type": "bar",
           "x": [
            11
           ],
           "xaxis": "x",
           "y": [
            "Czech Republic"
           ],
           "yaxis": "y"
          },
          {
           "alignmentgroup": "True",
           "hovertemplate": "Countries=%{y}<br>release_year=2009<br>Cumulated character influence score=%{x}<extra></extra>",
           "legendgroup": "United Kingdom",
           "marker": {
            "color": "#FECB52",
            "pattern": {
             "shape": ""
            }
           },
           "name": "United Kingdom",
           "offsetgroup": "United Kingdom",
           "orientation": "h",
           "showlegend": true,
           "textposition": "auto",
           "type": "bar",
           "x": [
            279
           ],
           "xaxis": "x",
           "y": [
            "United Kingdom"
           ],
           "yaxis": "y"
          },
          {
           "alignmentgroup": "True",
           "hovertemplate": "Countries=%{y}<br>release_year=2009<br>Cumulated character influence score=%{x}<extra></extra>",
           "legendgroup": "India",
           "marker": {
            "color": "#FF6692",
            "pattern": {
             "shape": ""
            }
           },
           "name": "India",
           "offsetgroup": "India",
           "orientation": "h",
           "showlegend": true,
           "textposition": "auto",
           "type": "bar",
           "x": [
            15
           ],
           "xaxis": "x",
           "y": [
            "India"
           ],
           "yaxis": "y"
          },
          {
           "alignmentgroup": "True",
           "hovertemplate": "Countries=%{y}<br>release_year=2009<br>Cumulated character influence score=%{x}<extra></extra>",
           "legendgroup": "China",
           "marker": {
            "color": "#FF97FF",
            "pattern": {
             "shape": ""
            }
           },
           "name": "China",
           "offsetgroup": "China",
           "orientation": "h",
           "showlegend": true,
           "textposition": "auto",
           "type": "bar",
           "x": [
            9
           ],
           "xaxis": "x",
           "y": [
            "China"
           ],
           "yaxis": "y"
          },
          {
           "alignmentgroup": "True",
           "hovertemplate": "Countries=%{y}<br>release_year=2009<br>Cumulated character influence score=%{x}<extra></extra>",
           "legendgroup": "Japan",
           "marker": {
            "color": "#FECB52",
            "pattern": {
             "shape": ""
            }
           },
           "name": "Japan",
           "offsetgroup": "Japan",
           "orientation": "h",
           "showlegend": true,
           "textposition": "auto",
           "type": "bar",
           "x": [
            8
           ],
           "xaxis": "x",
           "y": [
            "Japan"
           ],
           "yaxis": "y"
          },
          {
           "alignmentgroup": "True",
           "hovertemplate": "Countries=%{y}<br>release_year=2009<br>Cumulated character influence score=%{x}<extra></extra>",
           "legendgroup": "Sweden",
           "marker": {
            "color": "#636efa",
            "pattern": {
             "shape": ""
            }
           },
           "name": "Sweden",
           "offsetgroup": "Sweden",
           "orientation": "h",
           "showlegend": true,
           "textposition": "auto",
           "type": "bar",
           "x": [
            9
           ],
           "xaxis": "x",
           "y": [
            "Sweden"
           ],
           "yaxis": "y"
          }
         ],
         "name": "2009"
        },
        {
         "data": [
          {
           "alignmentgroup": "True",
           "hovertemplate": "Countries=%{y}<br>release_year=2010<br>Cumulated character influence score=%{x}<extra></extra>",
           "legendgroup": "Germany",
           "marker": {
            "color": "#636efa",
            "pattern": {
             "shape": ""
            }
           },
           "name": "Germany",
           "offsetgroup": "Germany",
           "orientation": "h",
           "showlegend": true,
           "textposition": "auto",
           "type": "bar",
           "x": [
            29
           ],
           "xaxis": "x",
           "y": [
            "Germany"
           ],
           "yaxis": "y"
          },
          {
           "alignmentgroup": "True",
           "hovertemplate": "Countries=%{y}<br>release_year=2010<br>Cumulated character influence score=%{x}<extra></extra>",
           "legendgroup": "United States of America",
           "marker": {
            "color": "#EF553B",
            "pattern": {
             "shape": ""
            }
           },
           "name": "United States of America",
           "offsetgroup": "United States of America",
           "orientation": "h",
           "showlegend": true,
           "textposition": "auto",
           "type": "bar",
           "x": [
            274
           ],
           "xaxis": "x",
           "y": [
            "United States of America"
           ],
           "yaxis": "y"
          },
          {
           "alignmentgroup": "True",
           "hovertemplate": "Countries=%{y}<br>release_year=2010<br>Cumulated character influence score=%{x}<extra></extra>",
           "legendgroup": "Canada",
           "marker": {
            "color": "#FFA15A",
            "pattern": {
             "shape": ""
            }
           },
           "name": "Canada",
           "offsetgroup": "Canada",
           "orientation": "h",
           "showlegend": true,
           "textposition": "auto",
           "type": "bar",
           "x": [
            34
           ],
           "xaxis": "x",
           "y": [
            "Canada"
           ],
           "yaxis": "y"
          },
          {
           "alignmentgroup": "True",
           "hovertemplate": "Countries=%{y}<br>release_year=2010<br>Cumulated character influence score=%{x}<extra></extra>",
           "legendgroup": "France",
           "marker": {
            "color": "#19d3f3",
            "pattern": {
             "shape": ""
            }
           },
           "name": "France",
           "offsetgroup": "France",
           "orientation": "h",
           "showlegend": true,
           "textposition": "auto",
           "type": "bar",
           "x": [
            33
           ],
           "xaxis": "x",
           "y": [
            "France"
           ],
           "yaxis": "y"
          },
          {
           "alignmentgroup": "True",
           "hovertemplate": "Countries=%{y}<br>release_year=2010<br>Cumulated character influence score=%{x}<extra></extra>",
           "legendgroup": "Czech Republic",
           "marker": {
            "color": "#FF6692",
            "pattern": {
             "shape": ""
            }
           },
           "name": "Czech Republic",
           "offsetgroup": "Czech Republic",
           "orientation": "h",
           "showlegend": true,
           "textposition": "auto",
           "type": "bar",
           "x": [
            11
           ],
           "xaxis": "x",
           "y": [
            "Czech Republic"
           ],
           "yaxis": "y"
          },
          {
           "alignmentgroup": "True",
           "hovertemplate": "Countries=%{y}<br>release_year=2010<br>Cumulated character influence score=%{x}<extra></extra>",
           "legendgroup": "United Kingdom",
           "marker": {
            "color": "#FECB52",
            "pattern": {
             "shape": ""
            }
           },
           "name": "United Kingdom",
           "offsetgroup": "United Kingdom",
           "orientation": "h",
           "showlegend": true,
           "textposition": "auto",
           "type": "bar",
           "x": [
            283
           ],
           "xaxis": "x",
           "y": [
            "United Kingdom"
           ],
           "yaxis": "y"
          },
          {
           "alignmentgroup": "True",
           "hovertemplate": "Countries=%{y}<br>release_year=2010<br>Cumulated character influence score=%{x}<extra></extra>",
           "legendgroup": "India",
           "marker": {
            "color": "#FF6692",
            "pattern": {
             "shape": ""
            }
           },
           "name": "India",
           "offsetgroup": "India",
           "orientation": "h",
           "showlegend": true,
           "textposition": "auto",
           "type": "bar",
           "x": [
            15
           ],
           "xaxis": "x",
           "y": [
            "India"
           ],
           "yaxis": "y"
          },
          {
           "alignmentgroup": "True",
           "hovertemplate": "Countries=%{y}<br>release_year=2010<br>Cumulated character influence score=%{x}<extra></extra>",
           "legendgroup": "China",
           "marker": {
            "color": "#FF97FF",
            "pattern": {
             "shape": ""
            }
           },
           "name": "China",
           "offsetgroup": "China",
           "orientation": "h",
           "showlegend": true,
           "textposition": "auto",
           "type": "bar",
           "x": [
            9
           ],
           "xaxis": "x",
           "y": [
            "China"
           ],
           "yaxis": "y"
          },
          {
           "alignmentgroup": "True",
           "hovertemplate": "Countries=%{y}<br>release_year=2010<br>Cumulated character influence score=%{x}<extra></extra>",
           "legendgroup": "Japan",
           "marker": {
            "color": "#FECB52",
            "pattern": {
             "shape": ""
            }
           },
           "name": "Japan",
           "offsetgroup": "Japan",
           "orientation": "h",
           "showlegend": true,
           "textposition": "auto",
           "type": "bar",
           "x": [
            8
           ],
           "xaxis": "x",
           "y": [
            "Japan"
           ],
           "yaxis": "y"
          },
          {
           "alignmentgroup": "True",
           "hovertemplate": "Countries=%{y}<br>release_year=2010<br>Cumulated character influence score=%{x}<extra></extra>",
           "legendgroup": "Sweden",
           "marker": {
            "color": "#636efa",
            "pattern": {
             "shape": ""
            }
           },
           "name": "Sweden",
           "offsetgroup": "Sweden",
           "orientation": "h",
           "showlegend": true,
           "textposition": "auto",
           "type": "bar",
           "x": [
            9
           ],
           "xaxis": "x",
           "y": [
            "Sweden"
           ],
           "yaxis": "y"
          }
         ],
         "name": "2010"
        }
       ],
       "layout": {
        "barmode": "relative",
        "height": 800,
        "legend": {
         "title": {
          "text": "Countries"
         },
         "tracegroupgap": 0
        },
        "sliders": [
         {
          "active": 0,
          "currentvalue": {
           "prefix": "release_year="
          },
          "len": 0.9,
          "pad": {
           "b": 10,
           "t": 60
          },
          "steps": [
           {
            "args": [
             [
              "1910"
             ],
             {
              "frame": {
               "duration": 0,
               "redraw": true
              },
              "fromcurrent": true,
              "mode": "immediate",
              "transition": {
               "duration": 0,
               "easing": "linear"
              }
             }
            ],
            "label": "1910",
            "method": "animate"
           },
           {
            "args": [
             [
              "1911"
             ],
             {
              "frame": {
               "duration": 0,
               "redraw": true
              },
              "fromcurrent": true,
              "mode": "immediate",
              "transition": {
               "duration": 0,
               "easing": "linear"
              }
             }
            ],
            "label": "1911",
            "method": "animate"
           },
           {
            "args": [
             [
              "1912"
             ],
             {
              "frame": {
               "duration": 0,
               "redraw": true
              },
              "fromcurrent": true,
              "mode": "immediate",
              "transition": {
               "duration": 0,
               "easing": "linear"
              }
             }
            ],
            "label": "1912",
            "method": "animate"
           },
           {
            "args": [
             [
              "1913"
             ],
             {
              "frame": {
               "duration": 0,
               "redraw": true
              },
              "fromcurrent": true,
              "mode": "immediate",
              "transition": {
               "duration": 0,
               "easing": "linear"
              }
             }
            ],
            "label": "1913",
            "method": "animate"
           },
           {
            "args": [
             [
              "1914"
             ],
             {
              "frame": {
               "duration": 0,
               "redraw": true
              },
              "fromcurrent": true,
              "mode": "immediate",
              "transition": {
               "duration": 0,
               "easing": "linear"
              }
             }
            ],
            "label": "1914",
            "method": "animate"
           },
           {
            "args": [
             [
              "1915"
             ],
             {
              "frame": {
               "duration": 0,
               "redraw": true
              },
              "fromcurrent": true,
              "mode": "immediate",
              "transition": {
               "duration": 0,
               "easing": "linear"
              }
             }
            ],
            "label": "1915",
            "method": "animate"
           },
           {
            "args": [
             [
              "1916"
             ],
             {
              "frame": {
               "duration": 0,
               "redraw": true
              },
              "fromcurrent": true,
              "mode": "immediate",
              "transition": {
               "duration": 0,
               "easing": "linear"
              }
             }
            ],
            "label": "1916",
            "method": "animate"
           },
           {
            "args": [
             [
              "1917"
             ],
             {
              "frame": {
               "duration": 0,
               "redraw": true
              },
              "fromcurrent": true,
              "mode": "immediate",
              "transition": {
               "duration": 0,
               "easing": "linear"
              }
             }
            ],
            "label": "1917",
            "method": "animate"
           },
           {
            "args": [
             [
              "1918"
             ],
             {
              "frame": {
               "duration": 0,
               "redraw": true
              },
              "fromcurrent": true,
              "mode": "immediate",
              "transition": {
               "duration": 0,
               "easing": "linear"
              }
             }
            ],
            "label": "1918",
            "method": "animate"
           },
           {
            "args": [
             [
              "1919"
             ],
             {
              "frame": {
               "duration": 0,
               "redraw": true
              },
              "fromcurrent": true,
              "mode": "immediate",
              "transition": {
               "duration": 0,
               "easing": "linear"
              }
             }
            ],
            "label": "1919",
            "method": "animate"
           },
           {
            "args": [
             [
              "1920"
             ],
             {
              "frame": {
               "duration": 0,
               "redraw": true
              },
              "fromcurrent": true,
              "mode": "immediate",
              "transition": {
               "duration": 0,
               "easing": "linear"
              }
             }
            ],
            "label": "1920",
            "method": "animate"
           },
           {
            "args": [
             [
              "1921"
             ],
             {
              "frame": {
               "duration": 0,
               "redraw": true
              },
              "fromcurrent": true,
              "mode": "immediate",
              "transition": {
               "duration": 0,
               "easing": "linear"
              }
             }
            ],
            "label": "1921",
            "method": "animate"
           },
           {
            "args": [
             [
              "1922"
             ],
             {
              "frame": {
               "duration": 0,
               "redraw": true
              },
              "fromcurrent": true,
              "mode": "immediate",
              "transition": {
               "duration": 0,
               "easing": "linear"
              }
             }
            ],
            "label": "1922",
            "method": "animate"
           },
           {
            "args": [
             [
              "1923"
             ],
             {
              "frame": {
               "duration": 0,
               "redraw": true
              },
              "fromcurrent": true,
              "mode": "immediate",
              "transition": {
               "duration": 0,
               "easing": "linear"
              }
             }
            ],
            "label": "1923",
            "method": "animate"
           },
           {
            "args": [
             [
              "1924"
             ],
             {
              "frame": {
               "duration": 0,
               "redraw": true
              },
              "fromcurrent": true,
              "mode": "immediate",
              "transition": {
               "duration": 0,
               "easing": "linear"
              }
             }
            ],
            "label": "1924",
            "method": "animate"
           },
           {
            "args": [
             [
              "1925"
             ],
             {
              "frame": {
               "duration": 0,
               "redraw": true
              },
              "fromcurrent": true,
              "mode": "immediate",
              "transition": {
               "duration": 0,
               "easing": "linear"
              }
             }
            ],
            "label": "1925",
            "method": "animate"
           },
           {
            "args": [
             [
              "1926"
             ],
             {
              "frame": {
               "duration": 0,
               "redraw": true
              },
              "fromcurrent": true,
              "mode": "immediate",
              "transition": {
               "duration": 0,
               "easing": "linear"
              }
             }
            ],
            "label": "1926",
            "method": "animate"
           },
           {
            "args": [
             [
              "1927"
             ],
             {
              "frame": {
               "duration": 0,
               "redraw": true
              },
              "fromcurrent": true,
              "mode": "immediate",
              "transition": {
               "duration": 0,
               "easing": "linear"
              }
             }
            ],
            "label": "1927",
            "method": "animate"
           },
           {
            "args": [
             [
              "1928"
             ],
             {
              "frame": {
               "duration": 0,
               "redraw": true
              },
              "fromcurrent": true,
              "mode": "immediate",
              "transition": {
               "duration": 0,
               "easing": "linear"
              }
             }
            ],
            "label": "1928",
            "method": "animate"
           },
           {
            "args": [
             [
              "1929"
             ],
             {
              "frame": {
               "duration": 0,
               "redraw": true
              },
              "fromcurrent": true,
              "mode": "immediate",
              "transition": {
               "duration": 0,
               "easing": "linear"
              }
             }
            ],
            "label": "1929",
            "method": "animate"
           },
           {
            "args": [
             [
              "1930"
             ],
             {
              "frame": {
               "duration": 0,
               "redraw": true
              },
              "fromcurrent": true,
              "mode": "immediate",
              "transition": {
               "duration": 0,
               "easing": "linear"
              }
             }
            ],
            "label": "1930",
            "method": "animate"
           },
           {
            "args": [
             [
              "1931"
             ],
             {
              "frame": {
               "duration": 0,
               "redraw": true
              },
              "fromcurrent": true,
              "mode": "immediate",
              "transition": {
               "duration": 0,
               "easing": "linear"
              }
             }
            ],
            "label": "1931",
            "method": "animate"
           },
           {
            "args": [
             [
              "1932"
             ],
             {
              "frame": {
               "duration": 0,
               "redraw": true
              },
              "fromcurrent": true,
              "mode": "immediate",
              "transition": {
               "duration": 0,
               "easing": "linear"
              }
             }
            ],
            "label": "1932",
            "method": "animate"
           },
           {
            "args": [
             [
              "1933"
             ],
             {
              "frame": {
               "duration": 0,
               "redraw": true
              },
              "fromcurrent": true,
              "mode": "immediate",
              "transition": {
               "duration": 0,
               "easing": "linear"
              }
             }
            ],
            "label": "1933",
            "method": "animate"
           },
           {
            "args": [
             [
              "1934"
             ],
             {
              "frame": {
               "duration": 0,
               "redraw": true
              },
              "fromcurrent": true,
              "mode": "immediate",
              "transition": {
               "duration": 0,
               "easing": "linear"
              }
             }
            ],
            "label": "1934",
            "method": "animate"
           },
           {
            "args": [
             [
              "1935"
             ],
             {
              "frame": {
               "duration": 0,
               "redraw": true
              },
              "fromcurrent": true,
              "mode": "immediate",
              "transition": {
               "duration": 0,
               "easing": "linear"
              }
             }
            ],
            "label": "1935",
            "method": "animate"
           },
           {
            "args": [
             [
              "1936"
             ],
             {
              "frame": {
               "duration": 0,
               "redraw": true
              },
              "fromcurrent": true,
              "mode": "immediate",
              "transition": {
               "duration": 0,
               "easing": "linear"
              }
             }
            ],
            "label": "1936",
            "method": "animate"
           },
           {
            "args": [
             [
              "1937"
             ],
             {
              "frame": {
               "duration": 0,
               "redraw": true
              },
              "fromcurrent": true,
              "mode": "immediate",
              "transition": {
               "duration": 0,
               "easing": "linear"
              }
             }
            ],
            "label": "1937",
            "method": "animate"
           },
           {
            "args": [
             [
              "1938"
             ],
             {
              "frame": {
               "duration": 0,
               "redraw": true
              },
              "fromcurrent": true,
              "mode": "immediate",
              "transition": {
               "duration": 0,
               "easing": "linear"
              }
             }
            ],
            "label": "1938",
            "method": "animate"
           },
           {
            "args": [
             [
              "1939"
             ],
             {
              "frame": {
               "duration": 0,
               "redraw": true
              },
              "fromcurrent": true,
              "mode": "immediate",
              "transition": {
               "duration": 0,
               "easing": "linear"
              }
             }
            ],
            "label": "1939",
            "method": "animate"
           },
           {
            "args": [
             [
              "1940"
             ],
             {
              "frame": {
               "duration": 0,
               "redraw": true
              },
              "fromcurrent": true,
              "mode": "immediate",
              "transition": {
               "duration": 0,
               "easing": "linear"
              }
             }
            ],
            "label": "1940",
            "method": "animate"
           },
           {
            "args": [
             [
              "1941"
             ],
             {
              "frame": {
               "duration": 0,
               "redraw": true
              },
              "fromcurrent": true,
              "mode": "immediate",
              "transition": {
               "duration": 0,
               "easing": "linear"
              }
             }
            ],
            "label": "1941",
            "method": "animate"
           },
           {
            "args": [
             [
              "1942"
             ],
             {
              "frame": {
               "duration": 0,
               "redraw": true
              },
              "fromcurrent": true,
              "mode": "immediate",
              "transition": {
               "duration": 0,
               "easing": "linear"
              }
             }
            ],
            "label": "1942",
            "method": "animate"
           },
           {
            "args": [
             [
              "1943"
             ],
             {
              "frame": {
               "duration": 0,
               "redraw": true
              },
              "fromcurrent": true,
              "mode": "immediate",
              "transition": {
               "duration": 0,
               "easing": "linear"
              }
             }
            ],
            "label": "1943",
            "method": "animate"
           },
           {
            "args": [
             [
              "1944"
             ],
             {
              "frame": {
               "duration": 0,
               "redraw": true
              },
              "fromcurrent": true,
              "mode": "immediate",
              "transition": {
               "duration": 0,
               "easing": "linear"
              }
             }
            ],
            "label": "1944",
            "method": "animate"
           },
           {
            "args": [
             [
              "1945"
             ],
             {
              "frame": {
               "duration": 0,
               "redraw": true
              },
              "fromcurrent": true,
              "mode": "immediate",
              "transition": {
               "duration": 0,
               "easing": "linear"
              }
             }
            ],
            "label": "1945",
            "method": "animate"
           },
           {
            "args": [
             [
              "1946"
             ],
             {
              "frame": {
               "duration": 0,
               "redraw": true
              },
              "fromcurrent": true,
              "mode": "immediate",
              "transition": {
               "duration": 0,
               "easing": "linear"
              }
             }
            ],
            "label": "1946",
            "method": "animate"
           },
           {
            "args": [
             [
              "1947"
             ],
             {
              "frame": {
               "duration": 0,
               "redraw": true
              },
              "fromcurrent": true,
              "mode": "immediate",
              "transition": {
               "duration": 0,
               "easing": "linear"
              }
             }
            ],
            "label": "1947",
            "method": "animate"
           },
           {
            "args": [
             [
              "1948"
             ],
             {
              "frame": {
               "duration": 0,
               "redraw": true
              },
              "fromcurrent": true,
              "mode": "immediate",
              "transition": {
               "duration": 0,
               "easing": "linear"
              }
             }
            ],
            "label": "1948",
            "method": "animate"
           },
           {
            "args": [
             [
              "1949"
             ],
             {
              "frame": {
               "duration": 0,
               "redraw": true
              },
              "fromcurrent": true,
              "mode": "immediate",
              "transition": {
               "duration": 0,
               "easing": "linear"
              }
             }
            ],
            "label": "1949",
            "method": "animate"
           },
           {
            "args": [
             [
              "1950"
             ],
             {
              "frame": {
               "duration": 0,
               "redraw": true
              },
              "fromcurrent": true,
              "mode": "immediate",
              "transition": {
               "duration": 0,
               "easing": "linear"
              }
             }
            ],
            "label": "1950",
            "method": "animate"
           },
           {
            "args": [
             [
              "1951"
             ],
             {
              "frame": {
               "duration": 0,
               "redraw": true
              },
              "fromcurrent": true,
              "mode": "immediate",
              "transition": {
               "duration": 0,
               "easing": "linear"
              }
             }
            ],
            "label": "1951",
            "method": "animate"
           },
           {
            "args": [
             [
              "1952"
             ],
             {
              "frame": {
               "duration": 0,
               "redraw": true
              },
              "fromcurrent": true,
              "mode": "immediate",
              "transition": {
               "duration": 0,
               "easing": "linear"
              }
             }
            ],
            "label": "1952",
            "method": "animate"
           },
           {
            "args": [
             [
              "1953"
             ],
             {
              "frame": {
               "duration": 0,
               "redraw": true
              },
              "fromcurrent": true,
              "mode": "immediate",
              "transition": {
               "duration": 0,
               "easing": "linear"
              }
             }
            ],
            "label": "1953",
            "method": "animate"
           },
           {
            "args": [
             [
              "1954"
             ],
             {
              "frame": {
               "duration": 0,
               "redraw": true
              },
              "fromcurrent": true,
              "mode": "immediate",
              "transition": {
               "duration": 0,
               "easing": "linear"
              }
             }
            ],
            "label": "1954",
            "method": "animate"
           },
           {
            "args": [
             [
              "1955"
             ],
             {
              "frame": {
               "duration": 0,
               "redraw": true
              },
              "fromcurrent": true,
              "mode": "immediate",
              "transition": {
               "duration": 0,
               "easing": "linear"
              }
             }
            ],
            "label": "1955",
            "method": "animate"
           },
           {
            "args": [
             [
              "1956"
             ],
             {
              "frame": {
               "duration": 0,
               "redraw": true
              },
              "fromcurrent": true,
              "mode": "immediate",
              "transition": {
               "duration": 0,
               "easing": "linear"
              }
             }
            ],
            "label": "1956",
            "method": "animate"
           },
           {
            "args": [
             [
              "1957"
             ],
             {
              "frame": {
               "duration": 0,
               "redraw": true
              },
              "fromcurrent": true,
              "mode": "immediate",
              "transition": {
               "duration": 0,
               "easing": "linear"
              }
             }
            ],
            "label": "1957",
            "method": "animate"
           },
           {
            "args": [
             [
              "1958"
             ],
             {
              "frame": {
               "duration": 0,
               "redraw": true
              },
              "fromcurrent": true,
              "mode": "immediate",
              "transition": {
               "duration": 0,
               "easing": "linear"
              }
             }
            ],
            "label": "1958",
            "method": "animate"
           },
           {
            "args": [
             [
              "1959"
             ],
             {
              "frame": {
               "duration": 0,
               "redraw": true
              },
              "fromcurrent": true,
              "mode": "immediate",
              "transition": {
               "duration": 0,
               "easing": "linear"
              }
             }
            ],
            "label": "1959",
            "method": "animate"
           },
           {
            "args": [
             [
              "1960"
             ],
             {
              "frame": {
               "duration": 0,
               "redraw": true
              },
              "fromcurrent": true,
              "mode": "immediate",
              "transition": {
               "duration": 0,
               "easing": "linear"
              }
             }
            ],
            "label": "1960",
            "method": "animate"
           },
           {
            "args": [
             [
              "1961"
             ],
             {
              "frame": {
               "duration": 0,
               "redraw": true
              },
              "fromcurrent": true,
              "mode": "immediate",
              "transition": {
               "duration": 0,
               "easing": "linear"
              }
             }
            ],
            "label": "1961",
            "method": "animate"
           },
           {
            "args": [
             [
              "1962"
             ],
             {
              "frame": {
               "duration": 0,
               "redraw": true
              },
              "fromcurrent": true,
              "mode": "immediate",
              "transition": {
               "duration": 0,
               "easing": "linear"
              }
             }
            ],
            "label": "1962",
            "method": "animate"
           },
           {
            "args": [
             [
              "1963"
             ],
             {
              "frame": {
               "duration": 0,
               "redraw": true
              },
              "fromcurrent": true,
              "mode": "immediate",
              "transition": {
               "duration": 0,
               "easing": "linear"
              }
             }
            ],
            "label": "1963",
            "method": "animate"
           },
           {
            "args": [
             [
              "1964"
             ],
             {
              "frame": {
               "duration": 0,
               "redraw": true
              },
              "fromcurrent": true,
              "mode": "immediate",
              "transition": {
               "duration": 0,
               "easing": "linear"
              }
             }
            ],
            "label": "1964",
            "method": "animate"
           },
           {
            "args": [
             [
              "1965"
             ],
             {
              "frame": {
               "duration": 0,
               "redraw": true
              },
              "fromcurrent": true,
              "mode": "immediate",
              "transition": {
               "duration": 0,
               "easing": "linear"
              }
             }
            ],
            "label": "1965",
            "method": "animate"
           },
           {
            "args": [
             [
              "1966"
             ],
             {
              "frame": {
               "duration": 0,
               "redraw": true
              },
              "fromcurrent": true,
              "mode": "immediate",
              "transition": {
               "duration": 0,
               "easing": "linear"
              }
             }
            ],
            "label": "1966",
            "method": "animate"
           },
           {
            "args": [
             [
              "1967"
             ],
             {
              "frame": {
               "duration": 0,
               "redraw": true
              },
              "fromcurrent": true,
              "mode": "immediate",
              "transition": {
               "duration": 0,
               "easing": "linear"
              }
             }
            ],
            "label": "1967",
            "method": "animate"
           },
           {
            "args": [
             [
              "1968"
             ],
             {
              "frame": {
               "duration": 0,
               "redraw": true
              },
              "fromcurrent": true,
              "mode": "immediate",
              "transition": {
               "duration": 0,
               "easing": "linear"
              }
             }
            ],
            "label": "1968",
            "method": "animate"
           },
           {
            "args": [
             [
              "1969"
             ],
             {
              "frame": {
               "duration": 0,
               "redraw": true
              },
              "fromcurrent": true,
              "mode": "immediate",
              "transition": {
               "duration": 0,
               "easing": "linear"
              }
             }
            ],
            "label": "1969",
            "method": "animate"
           },
           {
            "args": [
             [
              "1970"
             ],
             {
              "frame": {
               "duration": 0,
               "redraw": true
              },
              "fromcurrent": true,
              "mode": "immediate",
              "transition": {
               "duration": 0,
               "easing": "linear"
              }
             }
            ],
            "label": "1970",
            "method": "animate"
           },
           {
            "args": [
             [
              "1971"
             ],
             {
              "frame": {
               "duration": 0,
               "redraw": true
              },
              "fromcurrent": true,
              "mode": "immediate",
              "transition": {
               "duration": 0,
               "easing": "linear"
              }
             }
            ],
            "label": "1971",
            "method": "animate"
           },
           {
            "args": [
             [
              "1972"
             ],
             {
              "frame": {
               "duration": 0,
               "redraw": true
              },
              "fromcurrent": true,
              "mode": "immediate",
              "transition": {
               "duration": 0,
               "easing": "linear"
              }
             }
            ],
            "label": "1972",
            "method": "animate"
           },
           {
            "args": [
             [
              "1973"
             ],
             {
              "frame": {
               "duration": 0,
               "redraw": true
              },
              "fromcurrent": true,
              "mode": "immediate",
              "transition": {
               "duration": 0,
               "easing": "linear"
              }
             }
            ],
            "label": "1973",
            "method": "animate"
           },
           {
            "args": [
             [
              "1974"
             ],
             {
              "frame": {
               "duration": 0,
               "redraw": true
              },
              "fromcurrent": true,
              "mode": "immediate",
              "transition": {
               "duration": 0,
               "easing": "linear"
              }
             }
            ],
            "label": "1974",
            "method": "animate"
           },
           {
            "args": [
             [
              "1975"
             ],
             {
              "frame": {
               "duration": 0,
               "redraw": true
              },
              "fromcurrent": true,
              "mode": "immediate",
              "transition": {
               "duration": 0,
               "easing": "linear"
              }
             }
            ],
            "label": "1975",
            "method": "animate"
           },
           {
            "args": [
             [
              "1976"
             ],
             {
              "frame": {
               "duration": 0,
               "redraw": true
              },
              "fromcurrent": true,
              "mode": "immediate",
              "transition": {
               "duration": 0,
               "easing": "linear"
              }
             }
            ],
            "label": "1976",
            "method": "animate"
           },
           {
            "args": [
             [
              "1977"
             ],
             {
              "frame": {
               "duration": 0,
               "redraw": true
              },
              "fromcurrent": true,
              "mode": "immediate",
              "transition": {
               "duration": 0,
               "easing": "linear"
              }
             }
            ],
            "label": "1977",
            "method": "animate"
           },
           {
            "args": [
             [
              "1978"
             ],
             {
              "frame": {
               "duration": 0,
               "redraw": true
              },
              "fromcurrent": true,
              "mode": "immediate",
              "transition": {
               "duration": 0,
               "easing": "linear"
              }
             }
            ],
            "label": "1978",
            "method": "animate"
           },
           {
            "args": [
             [
              "1979"
             ],
             {
              "frame": {
               "duration": 0,
               "redraw": true
              },
              "fromcurrent": true,
              "mode": "immediate",
              "transition": {
               "duration": 0,
               "easing": "linear"
              }
             }
            ],
            "label": "1979",
            "method": "animate"
           },
           {
            "args": [
             [
              "1980"
             ],
             {
              "frame": {
               "duration": 0,
               "redraw": true
              },
              "fromcurrent": true,
              "mode": "immediate",
              "transition": {
               "duration": 0,
               "easing": "linear"
              }
             }
            ],
            "label": "1980",
            "method": "animate"
           },
           {
            "args": [
             [
              "1981"
             ],
             {
              "frame": {
               "duration": 0,
               "redraw": true
              },
              "fromcurrent": true,
              "mode": "immediate",
              "transition": {
               "duration": 0,
               "easing": "linear"
              }
             }
            ],
            "label": "1981",
            "method": "animate"
           },
           {
            "args": [
             [
              "1982"
             ],
             {
              "frame": {
               "duration": 0,
               "redraw": true
              },
              "fromcurrent": true,
              "mode": "immediate",
              "transition": {
               "duration": 0,
               "easing": "linear"
              }
             }
            ],
            "label": "1982",
            "method": "animate"
           },
           {
            "args": [
             [
              "1983"
             ],
             {
              "frame": {
               "duration": 0,
               "redraw": true
              },
              "fromcurrent": true,
              "mode": "immediate",
              "transition": {
               "duration": 0,
               "easing": "linear"
              }
             }
            ],
            "label": "1983",
            "method": "animate"
           },
           {
            "args": [
             [
              "1984"
             ],
             {
              "frame": {
               "duration": 0,
               "redraw": true
              },
              "fromcurrent": true,
              "mode": "immediate",
              "transition": {
               "duration": 0,
               "easing": "linear"
              }
             }
            ],
            "label": "1984",
            "method": "animate"
           },
           {
            "args": [
             [
              "1985"
             ],
             {
              "frame": {
               "duration": 0,
               "redraw": true
              },
              "fromcurrent": true,
              "mode": "immediate",
              "transition": {
               "duration": 0,
               "easing": "linear"
              }
             }
            ],
            "label": "1985",
            "method": "animate"
           },
           {
            "args": [
             [
              "1986"
             ],
             {
              "frame": {
               "duration": 0,
               "redraw": true
              },
              "fromcurrent": true,
              "mode": "immediate",
              "transition": {
               "duration": 0,
               "easing": "linear"
              }
             }
            ],
            "label": "1986",
            "method": "animate"
           },
           {
            "args": [
             [
              "1987"
             ],
             {
              "frame": {
               "duration": 0,
               "redraw": true
              },
              "fromcurrent": true,
              "mode": "immediate",
              "transition": {
               "duration": 0,
               "easing": "linear"
              }
             }
            ],
            "label": "1987",
            "method": "animate"
           },
           {
            "args": [
             [
              "1988"
             ],
             {
              "frame": {
               "duration": 0,
               "redraw": true
              },
              "fromcurrent": true,
              "mode": "immediate",
              "transition": {
               "duration": 0,
               "easing": "linear"
              }
             }
            ],
            "label": "1988",
            "method": "animate"
           },
           {
            "args": [
             [
              "1989"
             ],
             {
              "frame": {
               "duration": 0,
               "redraw": true
              },
              "fromcurrent": true,
              "mode": "immediate",
              "transition": {
               "duration": 0,
               "easing": "linear"
              }
             }
            ],
            "label": "1989",
            "method": "animate"
           },
           {
            "args": [
             [
              "1990"
             ],
             {
              "frame": {
               "duration": 0,
               "redraw": true
              },
              "fromcurrent": true,
              "mode": "immediate",
              "transition": {
               "duration": 0,
               "easing": "linear"
              }
             }
            ],
            "label": "1990",
            "method": "animate"
           },
           {
            "args": [
             [
              "1991"
             ],
             {
              "frame": {
               "duration": 0,
               "redraw": true
              },
              "fromcurrent": true,
              "mode": "immediate",
              "transition": {
               "duration": 0,
               "easing": "linear"
              }
             }
            ],
            "label": "1991",
            "method": "animate"
           },
           {
            "args": [
             [
              "1992"
             ],
             {
              "frame": {
               "duration": 0,
               "redraw": true
              },
              "fromcurrent": true,
              "mode": "immediate",
              "transition": {
               "duration": 0,
               "easing": "linear"
              }
             }
            ],
            "label": "1992",
            "method": "animate"
           },
           {
            "args": [
             [
              "1993"
             ],
             {
              "frame": {
               "duration": 0,
               "redraw": true
              },
              "fromcurrent": true,
              "mode": "immediate",
              "transition": {
               "duration": 0,
               "easing": "linear"
              }
             }
            ],
            "label": "1993",
            "method": "animate"
           },
           {
            "args": [
             [
              "1994"
             ],
             {
              "frame": {
               "duration": 0,
               "redraw": true
              },
              "fromcurrent": true,
              "mode": "immediate",
              "transition": {
               "duration": 0,
               "easing": "linear"
              }
             }
            ],
            "label": "1994",
            "method": "animate"
           },
           {
            "args": [
             [
              "1995"
             ],
             {
              "frame": {
               "duration": 0,
               "redraw": true
              },
              "fromcurrent": true,
              "mode": "immediate",
              "transition": {
               "duration": 0,
               "easing": "linear"
              }
             }
            ],
            "label": "1995",
            "method": "animate"
           },
           {
            "args": [
             [
              "1996"
             ],
             {
              "frame": {
               "duration": 0,
               "redraw": true
              },
              "fromcurrent": true,
              "mode": "immediate",
              "transition": {
               "duration": 0,
               "easing": "linear"
              }
             }
            ],
            "label": "1996",
            "method": "animate"
           },
           {
            "args": [
             [
              "1997"
             ],
             {
              "frame": {
               "duration": 0,
               "redraw": true
              },
              "fromcurrent": true,
              "mode": "immediate",
              "transition": {
               "duration": 0,
               "easing": "linear"
              }
             }
            ],
            "label": "1997",
            "method": "animate"
           },
           {
            "args": [
             [
              "1998"
             ],
             {
              "frame": {
               "duration": 0,
               "redraw": true
              },
              "fromcurrent": true,
              "mode": "immediate",
              "transition": {
               "duration": 0,
               "easing": "linear"
              }
             }
            ],
            "label": "1998",
            "method": "animate"
           },
           {
            "args": [
             [
              "1999"
             ],
             {
              "frame": {
               "duration": 0,
               "redraw": true
              },
              "fromcurrent": true,
              "mode": "immediate",
              "transition": {
               "duration": 0,
               "easing": "linear"
              }
             }
            ],
            "label": "1999",
            "method": "animate"
           },
           {
            "args": [
             [
              "2000"
             ],
             {
              "frame": {
               "duration": 0,
               "redraw": true
              },
              "fromcurrent": true,
              "mode": "immediate",
              "transition": {
               "duration": 0,
               "easing": "linear"
              }
             }
            ],
            "label": "2000",
            "method": "animate"
           },
           {
            "args": [
             [
              "2001"
             ],
             {
              "frame": {
               "duration": 0,
               "redraw": true
              },
              "fromcurrent": true,
              "mode": "immediate",
              "transition": {
               "duration": 0,
               "easing": "linear"
              }
             }
            ],
            "label": "2001",
            "method": "animate"
           },
           {
            "args": [
             [
              "2002"
             ],
             {
              "frame": {
               "duration": 0,
               "redraw": true
              },
              "fromcurrent": true,
              "mode": "immediate",
              "transition": {
               "duration": 0,
               "easing": "linear"
              }
             }
            ],
            "label": "2002",
            "method": "animate"
           },
           {
            "args": [
             [
              "2003"
             ],
             {
              "frame": {
               "duration": 0,
               "redraw": true
              },
              "fromcurrent": true,
              "mode": "immediate",
              "transition": {
               "duration": 0,
               "easing": "linear"
              }
             }
            ],
            "label": "2003",
            "method": "animate"
           },
           {
            "args": [
             [
              "2004"
             ],
             {
              "frame": {
               "duration": 0,
               "redraw": true
              },
              "fromcurrent": true,
              "mode": "immediate",
              "transition": {
               "duration": 0,
               "easing": "linear"
              }
             }
            ],
            "label": "2004",
            "method": "animate"
           },
           {
            "args": [
             [
              "2005"
             ],
             {
              "frame": {
               "duration": 0,
               "redraw": true
              },
              "fromcurrent": true,
              "mode": "immediate",
              "transition": {
               "duration": 0,
               "easing": "linear"
              }
             }
            ],
            "label": "2005",
            "method": "animate"
           },
           {
            "args": [
             [
              "2006"
             ],
             {
              "frame": {
               "duration": 0,
               "redraw": true
              },
              "fromcurrent": true,
              "mode": "immediate",
              "transition": {
               "duration": 0,
               "easing": "linear"
              }
             }
            ],
            "label": "2006",
            "method": "animate"
           },
           {
            "args": [
             [
              "2007"
             ],
             {
              "frame": {
               "duration": 0,
               "redraw": true
              },
              "fromcurrent": true,
              "mode": "immediate",
              "transition": {
               "duration": 0,
               "easing": "linear"
              }
             }
            ],
            "label": "2007",
            "method": "animate"
           },
           {
            "args": [
             [
              "2008"
             ],
             {
              "frame": {
               "duration": 0,
               "redraw": true
              },
              "fromcurrent": true,
              "mode": "immediate",
              "transition": {
               "duration": 0,
               "easing": "linear"
              }
             }
            ],
            "label": "2008",
            "method": "animate"
           },
           {
            "args": [
             [
              "2009"
             ],
             {
              "frame": {
               "duration": 0,
               "redraw": true
              },
              "fromcurrent": true,
              "mode": "immediate",
              "transition": {
               "duration": 0,
               "easing": "linear"
              }
             }
            ],
            "label": "2009",
            "method": "animate"
           },
           {
            "args": [
             [
              "2010"
             ],
             {
              "frame": {
               "duration": 0,
               "redraw": true
              },
              "fromcurrent": true,
              "mode": "immediate",
              "transition": {
               "duration": 0,
               "easing": "linear"
              }
             }
            ],
            "label": "2010",
            "method": "animate"
           }
          ],
          "x": 0.1,
          "xanchor": "left",
          "y": 0,
          "yanchor": "top"
         }
        ],
        "template": {
         "data": {
          "bar": [
           {
            "error_x": {
             "color": "#2a3f5f"
            },
            "error_y": {
             "color": "#2a3f5f"
            },
            "marker": {
             "line": {
              "color": "#E5ECF6",
              "width": 0.5
             },
             "pattern": {
              "fillmode": "overlay",
              "size": 10,
              "solidity": 0.2
             }
            },
            "type": "bar"
           }
          ],
          "barpolar": [
           {
            "marker": {
             "line": {
              "color": "#E5ECF6",
              "width": 0.5
             },
             "pattern": {
              "fillmode": "overlay",
              "size": 10,
              "solidity": 0.2
             }
            },
            "type": "barpolar"
           }
          ],
          "carpet": [
           {
            "aaxis": {
             "endlinecolor": "#2a3f5f",
             "gridcolor": "white",
             "linecolor": "white",
             "minorgridcolor": "white",
             "startlinecolor": "#2a3f5f"
            },
            "baxis": {
             "endlinecolor": "#2a3f5f",
             "gridcolor": "white",
             "linecolor": "white",
             "minorgridcolor": "white",
             "startlinecolor": "#2a3f5f"
            },
            "type": "carpet"
           }
          ],
          "choropleth": [
           {
            "colorbar": {
             "outlinewidth": 0,
             "ticks": ""
            },
            "type": "choropleth"
           }
          ],
          "contour": [
           {
            "colorbar": {
             "outlinewidth": 0,
             "ticks": ""
            },
            "colorscale": [
             [
              0,
              "#0d0887"
             ],
             [
              0.1111111111111111,
              "#46039f"
             ],
             [
              0.2222222222222222,
              "#7201a8"
             ],
             [
              0.3333333333333333,
              "#9c179e"
             ],
             [
              0.4444444444444444,
              "#bd3786"
             ],
             [
              0.5555555555555556,
              "#d8576b"
             ],
             [
              0.6666666666666666,
              "#ed7953"
             ],
             [
              0.7777777777777778,
              "#fb9f3a"
             ],
             [
              0.8888888888888888,
              "#fdca26"
             ],
             [
              1,
              "#f0f921"
             ]
            ],
            "type": "contour"
           }
          ],
          "contourcarpet": [
           {
            "colorbar": {
             "outlinewidth": 0,
             "ticks": ""
            },
            "type": "contourcarpet"
           }
          ],
          "heatmap": [
           {
            "colorbar": {
             "outlinewidth": 0,
             "ticks": ""
            },
            "colorscale": [
             [
              0,
              "#0d0887"
             ],
             [
              0.1111111111111111,
              "#46039f"
             ],
             [
              0.2222222222222222,
              "#7201a8"
             ],
             [
              0.3333333333333333,
              "#9c179e"
             ],
             [
              0.4444444444444444,
              "#bd3786"
             ],
             [
              0.5555555555555556,
              "#d8576b"
             ],
             [
              0.6666666666666666,
              "#ed7953"
             ],
             [
              0.7777777777777778,
              "#fb9f3a"
             ],
             [
              0.8888888888888888,
              "#fdca26"
             ],
             [
              1,
              "#f0f921"
             ]
            ],
            "type": "heatmap"
           }
          ],
          "heatmapgl": [
           {
            "colorbar": {
             "outlinewidth": 0,
             "ticks": ""
            },
            "colorscale": [
             [
              0,
              "#0d0887"
             ],
             [
              0.1111111111111111,
              "#46039f"
             ],
             [
              0.2222222222222222,
              "#7201a8"
             ],
             [
              0.3333333333333333,
              "#9c179e"
             ],
             [
              0.4444444444444444,
              "#bd3786"
             ],
             [
              0.5555555555555556,
              "#d8576b"
             ],
             [
              0.6666666666666666,
              "#ed7953"
             ],
             [
              0.7777777777777778,
              "#fb9f3a"
             ],
             [
              0.8888888888888888,
              "#fdca26"
             ],
             [
              1,
              "#f0f921"
             ]
            ],
            "type": "heatmapgl"
           }
          ],
          "histogram": [
           {
            "marker": {
             "pattern": {
              "fillmode": "overlay",
              "size": 10,
              "solidity": 0.2
             }
            },
            "type": "histogram"
           }
          ],
          "histogram2d": [
           {
            "colorbar": {
             "outlinewidth": 0,
             "ticks": ""
            },
            "colorscale": [
             [
              0,
              "#0d0887"
             ],
             [
              0.1111111111111111,
              "#46039f"
             ],
             [
              0.2222222222222222,
              "#7201a8"
             ],
             [
              0.3333333333333333,
              "#9c179e"
             ],
             [
              0.4444444444444444,
              "#bd3786"
             ],
             [
              0.5555555555555556,
              "#d8576b"
             ],
             [
              0.6666666666666666,
              "#ed7953"
             ],
             [
              0.7777777777777778,
              "#fb9f3a"
             ],
             [
              0.8888888888888888,
              "#fdca26"
             ],
             [
              1,
              "#f0f921"
             ]
            ],
            "type": "histogram2d"
           }
          ],
          "histogram2dcontour": [
           {
            "colorbar": {
             "outlinewidth": 0,
             "ticks": ""
            },
            "colorscale": [
             [
              0,
              "#0d0887"
             ],
             [
              0.1111111111111111,
              "#46039f"
             ],
             [
              0.2222222222222222,
              "#7201a8"
             ],
             [
              0.3333333333333333,
              "#9c179e"
             ],
             [
              0.4444444444444444,
              "#bd3786"
             ],
             [
              0.5555555555555556,
              "#d8576b"
             ],
             [
              0.6666666666666666,
              "#ed7953"
             ],
             [
              0.7777777777777778,
              "#fb9f3a"
             ],
             [
              0.8888888888888888,
              "#fdca26"
             ],
             [
              1,
              "#f0f921"
             ]
            ],
            "type": "histogram2dcontour"
           }
          ],
          "mesh3d": [
           {
            "colorbar": {
             "outlinewidth": 0,
             "ticks": ""
            },
            "type": "mesh3d"
           }
          ],
          "parcoords": [
           {
            "line": {
             "colorbar": {
              "outlinewidth": 0,
              "ticks": ""
             }
            },
            "type": "parcoords"
           }
          ],
          "pie": [
           {
            "automargin": true,
            "type": "pie"
           }
          ],
          "scatter": [
           {
            "fillpattern": {
             "fillmode": "overlay",
             "size": 10,
             "solidity": 0.2
            },
            "type": "scatter"
           }
          ],
          "scatter3d": [
           {
            "line": {
             "colorbar": {
              "outlinewidth": 0,
              "ticks": ""
             }
            },
            "marker": {
             "colorbar": {
              "outlinewidth": 0,
              "ticks": ""
             }
            },
            "type": "scatter3d"
           }
          ],
          "scattercarpet": [
           {
            "marker": {
             "colorbar": {
              "outlinewidth": 0,
              "ticks": ""
             }
            },
            "type": "scattercarpet"
           }
          ],
          "scattergeo": [
           {
            "marker": {
             "colorbar": {
              "outlinewidth": 0,
              "ticks": ""
             }
            },
            "type": "scattergeo"
           }
          ],
          "scattergl": [
           {
            "marker": {
             "colorbar": {
              "outlinewidth": 0,
              "ticks": ""
             }
            },
            "type": "scattergl"
           }
          ],
          "scattermapbox": [
           {
            "marker": {
             "colorbar": {
              "outlinewidth": 0,
              "ticks": ""
             }
            },
            "type": "scattermapbox"
           }
          ],
          "scatterpolar": [
           {
            "marker": {
             "colorbar": {
              "outlinewidth": 0,
              "ticks": ""
             }
            },
            "type": "scatterpolar"
           }
          ],
          "scatterpolargl": [
           {
            "marker": {
             "colorbar": {
              "outlinewidth": 0,
              "ticks": ""
             }
            },
            "type": "scatterpolargl"
           }
          ],
          "scatterternary": [
           {
            "marker": {
             "colorbar": {
              "outlinewidth": 0,
              "ticks": ""
             }
            },
            "type": "scatterternary"
           }
          ],
          "surface": [
           {
            "colorbar": {
             "outlinewidth": 0,
             "ticks": ""
            },
            "colorscale": [
             [
              0,
              "#0d0887"
             ],
             [
              0.1111111111111111,
              "#46039f"
             ],
             [
              0.2222222222222222,
              "#7201a8"
             ],
             [
              0.3333333333333333,
              "#9c179e"
             ],
             [
              0.4444444444444444,
              "#bd3786"
             ],
             [
              0.5555555555555556,
              "#d8576b"
             ],
             [
              0.6666666666666666,
              "#ed7953"
             ],
             [
              0.7777777777777778,
              "#fb9f3a"
             ],
             [
              0.8888888888888888,
              "#fdca26"
             ],
             [
              1,
              "#f0f921"
             ]
            ],
            "type": "surface"
           }
          ],
          "table": [
           {
            "cells": {
             "fill": {
              "color": "#EBF0F8"
             },
             "line": {
              "color": "white"
             }
            },
            "header": {
             "fill": {
              "color": "#C8D4E3"
             },
             "line": {
              "color": "white"
             }
            },
            "type": "table"
           }
          ]
         },
         "layout": {
          "annotationdefaults": {
           "arrowcolor": "#2a3f5f",
           "arrowhead": 0,
           "arrowwidth": 1
          },
          "autotypenumbers": "strict",
          "coloraxis": {
           "colorbar": {
            "outlinewidth": 0,
            "ticks": ""
           }
          },
          "colorscale": {
           "diverging": [
            [
             0,
             "#8e0152"
            ],
            [
             0.1,
             "#c51b7d"
            ],
            [
             0.2,
             "#de77ae"
            ],
            [
             0.3,
             "#f1b6da"
            ],
            [
             0.4,
             "#fde0ef"
            ],
            [
             0.5,
             "#f7f7f7"
            ],
            [
             0.6,
             "#e6f5d0"
            ],
            [
             0.7,
             "#b8e186"
            ],
            [
             0.8,
             "#7fbc41"
            ],
            [
             0.9,
             "#4d9221"
            ],
            [
             1,
             "#276419"
            ]
           ],
           "sequential": [
            [
             0,
             "#0d0887"
            ],
            [
             0.1111111111111111,
             "#46039f"
            ],
            [
             0.2222222222222222,
             "#7201a8"
            ],
            [
             0.3333333333333333,
             "#9c179e"
            ],
            [
             0.4444444444444444,
             "#bd3786"
            ],
            [
             0.5555555555555556,
             "#d8576b"
            ],
            [
             0.6666666666666666,
             "#ed7953"
            ],
            [
             0.7777777777777778,
             "#fb9f3a"
            ],
            [
             0.8888888888888888,
             "#fdca26"
            ],
            [
             1,
             "#f0f921"
            ]
           ],
           "sequentialminus": [
            [
             0,
             "#0d0887"
            ],
            [
             0.1111111111111111,
             "#46039f"
            ],
            [
             0.2222222222222222,
             "#7201a8"
            ],
            [
             0.3333333333333333,
             "#9c179e"
            ],
            [
             0.4444444444444444,
             "#bd3786"
            ],
            [
             0.5555555555555556,
             "#d8576b"
            ],
            [
             0.6666666666666666,
             "#ed7953"
            ],
            [
             0.7777777777777778,
             "#fb9f3a"
            ],
            [
             0.8888888888888888,
             "#fdca26"
            ],
            [
             1,
             "#f0f921"
            ]
           ]
          },
          "colorway": [
           "#636efa",
           "#EF553B",
           "#00cc96",
           "#ab63fa",
           "#FFA15A",
           "#19d3f3",
           "#FF6692",
           "#B6E880",
           "#FF97FF",
           "#FECB52"
          ],
          "font": {
           "color": "#2a3f5f"
          },
          "geo": {
           "bgcolor": "white",
           "lakecolor": "white",
           "landcolor": "#E5ECF6",
           "showlakes": true,
           "showland": true,
           "subunitcolor": "white"
          },
          "hoverlabel": {
           "align": "left"
          },
          "hovermode": "closest",
          "mapbox": {
           "style": "light"
          },
          "paper_bgcolor": "white",
          "plot_bgcolor": "#E5ECF6",
          "polar": {
           "angularaxis": {
            "gridcolor": "white",
            "linecolor": "white",
            "ticks": ""
           },
           "bgcolor": "#E5ECF6",
           "radialaxis": {
            "gridcolor": "white",
            "linecolor": "white",
            "ticks": ""
           }
          },
          "scene": {
           "xaxis": {
            "backgroundcolor": "#E5ECF6",
            "gridcolor": "white",
            "gridwidth": 2,
            "linecolor": "white",
            "showbackground": true,
            "ticks": "",
            "zerolinecolor": "white"
           },
           "yaxis": {
            "backgroundcolor": "#E5ECF6",
            "gridcolor": "white",
            "gridwidth": 2,
            "linecolor": "white",
            "showbackground": true,
            "ticks": "",
            "zerolinecolor": "white"
           },
           "zaxis": {
            "backgroundcolor": "#E5ECF6",
            "gridcolor": "white",
            "gridwidth": 2,
            "linecolor": "white",
            "showbackground": true,
            "ticks": "",
            "zerolinecolor": "white"
           }
          },
          "shapedefaults": {
           "line": {
            "color": "#2a3f5f"
           }
          },
          "ternary": {
           "aaxis": {
            "gridcolor": "white",
            "linecolor": "white",
            "ticks": ""
           },
           "baxis": {
            "gridcolor": "white",
            "linecolor": "white",
            "ticks": ""
           },
           "bgcolor": "#E5ECF6",
           "caxis": {
            "gridcolor": "white",
            "linecolor": "white",
            "ticks": ""
           }
          },
          "title": {
           "x": 0.05
          },
          "xaxis": {
           "automargin": true,
           "gridcolor": "white",
           "linecolor": "white",
           "ticks": "",
           "title": {
            "standoff": 15
           },
           "zerolinecolor": "white",
           "zerolinewidth": 2
          },
          "yaxis": {
           "automargin": true,
           "gridcolor": "white",
           "linecolor": "white",
           "ticks": "",
           "title": {
            "standoff": 15
           },
           "zerolinecolor": "white",
           "zerolinewidth": 2
          }
         }
        },
        "title": {
         "text": "Top 10 countries with the most influential characters"
        },
        "updatemenus": [
         {
          "buttons": [
           {
            "args": [
             null,
             {
              "frame": {
               "duration": 500,
               "redraw": true
              },
              "fromcurrent": true,
              "mode": "immediate",
              "transition": {
               "duration": 500,
               "easing": "linear"
              }
             }
            ],
            "label": "&#9654;",
            "method": "animate"
           },
           {
            "args": [
             [
              null
             ],
             {
              "frame": {
               "duration": 0,
               "redraw": true
              },
              "fromcurrent": true,
              "mode": "immediate",
              "transition": {
               "duration": 0,
               "easing": "linear"
              }
             }
            ],
            "label": "&#9724;",
            "method": "animate"
           }
          ],
          "direction": "left",
          "pad": {
           "r": 10,
           "t": 70
          },
          "showactive": false,
          "type": "buttons",
          "x": 0.1,
          "xanchor": "right",
          "y": 0,
          "yanchor": "top"
         }
        ],
        "xaxis": {
         "anchor": "y",
         "domain": [
          0,
          1
         ],
         "title": {
          "text": "Cumulated character influence score"
         }
        },
        "yaxis": {
         "anchor": "x",
         "categoryarray": [
          "Sweden",
          "Japan",
          "China",
          "Poland",
          "India",
          "Italy",
          "Mexico",
          "Hungary",
          "Ireland",
          "Soviet Union",
          "Romania",
          "United Kingdom",
          "West Germany",
          "Hong Kong",
          "Czech Republic",
          "France",
          "Canada",
          "Netherlands",
          "Brazil",
          "United States of America",
          "Germany"
         ],
         "categoryorder": "total ascending",
         "domain": [
          0,
          1
         ],
         "title": {
          "text": "Countries"
         }
        }
       }
      }
     },
     "metadata": {},
     "output_type": "display_data"
    }
   ],
   "source": [
    "fig = px.bar(\n",
    "    top_10_df_2, \n",
    "    x='tot', \n",
    "    y='Best_Country', \n",
    "    animation_frame='release_year',  \n",
    "    orientation='h',  # Horizontal bars\n",
    "    title=\"Top 10 countries with the most influential characters\",\n",
    "    labels={\"tot\": \"Cumulated character influence score\", \"Best_Country\": \"Countries\", \"year\": \"Année\"},\n",
    "    color='Best_Country',  # Colorer les barres selon le pays\n",
    ")\n",
    "\n",
    "\n",
    "fig.update_layout(\n",
    "    yaxis={'categoryorder': 'total ascending'},  \n",
    "    height=800  \n",
    ")\n",
    "# Afficher le graphique\n",
    "fig.show()"
   ]
  },
  {
   "cell_type": "markdown",
   "metadata": {},
   "source": [
    "### Bonus : The most influential characters in cinema"
   ]
  },
  {
   "cell_type": "markdown",
   "metadata": {},
   "source": [
    "Small bonus, here we still determine which are the most influential characters and what their origin is according to our NLP method."
   ]
  },
  {
   "cell_type": "code",
   "execution_count": 109,
   "metadata": {},
   "outputs": [
    {
     "data": {
      "text/html": [
       "<div>\n",
       "<style scoped>\n",
       "    .dataframe tbody tr th:only-of-type {\n",
       "        vertical-align: middle;\n",
       "    }\n",
       "\n",
       "    .dataframe tbody tr th {\n",
       "        vertical-align: top;\n",
       "    }\n",
       "\n",
       "    .dataframe thead th {\n",
       "        text-align: right;\n",
       "    }\n",
       "</style>\n",
       "<table border=\"1\" class=\"dataframe\">\n",
       "  <thead>\n",
       "    <tr style=\"text-align: right;\">\n",
       "      <th></th>\n",
       "      <th>Character</th>\n",
       "      <th>first_movie_name</th>\n",
       "      <th>Best_Country</th>\n",
       "      <th>number_countries_score</th>\n",
       "      <th>all_countries</th>\n",
       "      <th>first_apperance_date</th>\n",
       "    </tr>\n",
       "  </thead>\n",
       "  <tbody>\n",
       "    <tr>\n",
       "      <th>0</th>\n",
       "      <td>'Baby' Louise</td>\n",
       "      <td>Gypsy</td>\n",
       "      <td>United States of America</td>\n",
       "      <td>1</td>\n",
       "      <td>[United States of America]</td>\n",
       "      <td>1962-01-01</td>\n",
       "    </tr>\n",
       "    <tr>\n",
       "      <th>1</th>\n",
       "      <td>ACP Jai Dixit</td>\n",
       "      <td>Dhoom</td>\n",
       "      <td>India</td>\n",
       "      <td>1</td>\n",
       "      <td>[India]</td>\n",
       "      <td>2004-08-27</td>\n",
       "    </tr>\n",
       "    <tr>\n",
       "      <th>2</th>\n",
       "      <td>Abigail Chase</td>\n",
       "      <td>National Treasure</td>\n",
       "      <td>United States of America</td>\n",
       "      <td>1</td>\n",
       "      <td>[United States of America]</td>\n",
       "      <td>2004-11-08</td>\n",
       "    </tr>\n",
       "    <tr>\n",
       "      <th>3</th>\n",
       "      <td>Abraham Lincoln</td>\n",
       "      <td>Young Mr. Lincoln</td>\n",
       "      <td>United States of America</td>\n",
       "      <td>1</td>\n",
       "      <td>[United States of America]</td>\n",
       "      <td>1939-01-01</td>\n",
       "    </tr>\n",
       "    <tr>\n",
       "      <th>4</th>\n",
       "      <td>Abraham Van Helsing</td>\n",
       "      <td>Dracula</td>\n",
       "      <td>United Kingdom</td>\n",
       "      <td>4</td>\n",
       "      <td>[United Kingdom, United States of America, Fra...</td>\n",
       "      <td>1931-02-12</td>\n",
       "    </tr>\n",
       "  </tbody>\n",
       "</table>\n",
       "</div>"
      ],
      "text/plain": [
       "             Character   first_movie_name              Best_Country  \\\n",
       "0        'Baby' Louise              Gypsy  United States of America   \n",
       "1        ACP Jai Dixit              Dhoom                     India   \n",
       "2        Abigail Chase  National Treasure  United States of America   \n",
       "3      Abraham Lincoln  Young Mr. Lincoln  United States of America   \n",
       "4  Abraham Van Helsing            Dracula            United Kingdom   \n",
       "\n",
       "   number_countries_score                                      all_countries  \\\n",
       "0                       1                         [United States of America]   \n",
       "1                       1                                            [India]   \n",
       "2                       1                         [United States of America]   \n",
       "3                       1                         [United States of America]   \n",
       "4                       4  [United Kingdom, United States of America, Fra...   \n",
       "\n",
       "  first_apperance_date  \n",
       "0           1962-01-01  \n",
       "1           2004-08-27  \n",
       "2           2004-11-08  \n",
       "3           1939-01-01  \n",
       "4           1931-02-12  "
      ]
     },
     "execution_count": 109,
     "metadata": {},
     "output_type": "execute_result"
    }
   ],
   "source": [
    "from scriptculture import process_top_characters # Import the function that processes the data for this study\n",
    "top_character_df = process_top_characters()\n",
    "top_character_df .head()"
   ]
  },
  {
   "cell_type": "code",
   "execution_count": 111,
   "metadata": {},
   "outputs": [
    {
     "data": {
      "text/html": [
       "<div>\n",
       "<style scoped>\n",
       "    .dataframe tbody tr th:only-of-type {\n",
       "        vertical-align: middle;\n",
       "    }\n",
       "\n",
       "    .dataframe tbody tr th {\n",
       "        vertical-align: top;\n",
       "    }\n",
       "\n",
       "    .dataframe thead th {\n",
       "        text-align: right;\n",
       "    }\n",
       "</style>\n",
       "<table border=\"1\" class=\"dataframe\">\n",
       "  <thead>\n",
       "    <tr style=\"text-align: right;\">\n",
       "      <th></th>\n",
       "      <th>Character</th>\n",
       "      <th>first_movie_name</th>\n",
       "      <th>Best_Country</th>\n",
       "      <th>number_countries_score</th>\n",
       "      <th>all_countries</th>\n",
       "      <th>first_apperance_date</th>\n",
       "    </tr>\n",
       "  </thead>\n",
       "  <tbody>\n",
       "    <tr>\n",
       "      <th>120</th>\n",
       "      <td>Cardinal Richelieu</td>\n",
       "      <td>The Three Musketeers</td>\n",
       "      <td>France</td>\n",
       "      <td>8</td>\n",
       "      <td>[United States of America, France, Spain, Aust...</td>\n",
       "      <td>1973-01-01</td>\n",
       "    </tr>\n",
       "    <tr>\n",
       "      <th>175</th>\n",
       "      <td>Count Dracula</td>\n",
       "      <td>Dracula</td>\n",
       "      <td>Romania</td>\n",
       "      <td>7</td>\n",
       "      <td>[United States of America, Romania, France, Sp...</td>\n",
       "      <td>1931-02-12</td>\n",
       "    </tr>\n",
       "    <tr>\n",
       "      <th>609</th>\n",
       "      <td>Mina Harker</td>\n",
       "      <td>Dracula</td>\n",
       "      <td>United Kingdom</td>\n",
       "      <td>7</td>\n",
       "      <td>[United States of America, France, Spain, West...</td>\n",
       "      <td>1958-01-01</td>\n",
       "    </tr>\n",
       "    <tr>\n",
       "      <th>674</th>\n",
       "      <td>Oliver Twist</td>\n",
       "      <td>Oliver Twist</td>\n",
       "      <td>United Kingdom</td>\n",
       "      <td>7</td>\n",
       "      <td>[United States of America, Canada, France, Cze...</td>\n",
       "      <td>1922-10-30</td>\n",
       "    </tr>\n",
       "  </tbody>\n",
       "</table>\n",
       "</div>"
      ],
      "text/plain": [
       "              Character      first_movie_name    Best_Country  \\\n",
       "120  Cardinal Richelieu  The Three Musketeers          France   \n",
       "175       Count Dracula               Dracula         Romania   \n",
       "609         Mina Harker               Dracula  United Kingdom   \n",
       "674        Oliver Twist          Oliver Twist  United Kingdom   \n",
       "\n",
       "     number_countries_score  \\\n",
       "120                       8   \n",
       "175                       7   \n",
       "609                       7   \n",
       "674                       7   \n",
       "\n",
       "                                         all_countries first_apperance_date  \n",
       "120  [United States of America, France, Spain, Aust...           1973-01-01  \n",
       "175  [United States of America, Romania, France, Sp...           1931-02-12  \n",
       "609  [United States of America, France, Spain, West...           1958-01-01  \n",
       "674  [United States of America, Canada, France, Cze...           1922-10-30  "
      ]
     },
     "execution_count": 111,
     "metadata": {},
     "output_type": "execute_result"
    }
   ],
   "source": [
    "top_character_df[top_character_df['number_countries_score']>6].head() #Top characters, that appear in more than 6 countries"
   ]
  }
 ],
 "metadata": {
  "kernelspec": {
   "display_name": "projet",
   "language": "python",
   "name": "python3"
  },
  "language_info": {
   "codemirror_mode": {
    "name": "ipython",
    "version": 3
   },
   "file_extension": ".py",
   "mimetype": "text/x-python",
   "name": "python",
   "nbconvert_exporter": "python",
   "pygments_lexer": "ipython3",
   "version": "3.11.10"
  }
 },
 "nbformat": 4,
 "nbformat_minor": 2
}
