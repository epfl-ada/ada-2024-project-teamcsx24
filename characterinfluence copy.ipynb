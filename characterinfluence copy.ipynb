{
 "cells": [
  {
   "cell_type": "code",
   "execution_count": 1,
   "metadata": {},
   "outputs": [],
   "source": [
    "# Modules to import\n",
    "import ast\n",
    "import sys\n",
    "import pandas as pd\n",
    "import matplotlib.pyplot as plt\n",
    "import numpy as np\n",
    "import seaborn as sns\n",
    "import json\n",
    "from importlib import reload"
   ]
  },
  {
   "cell_type": "code",
   "execution_count": 2,
   "metadata": {},
   "outputs": [],
   "source": [
    "paths = ['src/data','src/models','src/scripts','src/utils']\n",
    "for path in paths:\n",
    "    sys.path.append(path)"
   ]
  },
  {
   "cell_type": "markdown",
   "metadata": {},
   "source": [
    "### IV.4 Character Study for Cultural Influence Analysis"
   ]
  },
  {
   "cell_type": "markdown",
   "metadata": {},
   "source": [
    "### Part1. First analysis"
   ]
  },
  {
   "cell_type": "code",
   "execution_count": 3,
   "metadata": {},
   "outputs": [
    {
     "data": {
      "text/html": [
       "<div>\n",
       "<style scoped>\n",
       "    .dataframe tbody tr th:only-of-type {\n",
       "        vertical-align: middle;\n",
       "    }\n",
       "\n",
       "    .dataframe tbody tr th {\n",
       "        vertical-align: top;\n",
       "    }\n",
       "\n",
       "    .dataframe thead th {\n",
       "        text-align: right;\n",
       "    }\n",
       "</style>\n",
       "<table border=\"1\" class=\"dataframe\">\n",
       "  <thead>\n",
       "    <tr style=\"text-align: right;\">\n",
       "      <th></th>\n",
       "      <th>Character</th>\n",
       "      <th>character_actor_freebase_id</th>\n",
       "      <th>actor_name</th>\n",
       "      <th>first_movie_name</th>\n",
       "      <th>first_apperance_date</th>\n",
       "      <th>origin_country</th>\n",
       "      <th>all_countries</th>\n",
       "      <th>number_countries</th>\n",
       "    </tr>\n",
       "  </thead>\n",
       "  <tbody>\n",
       "    <tr>\n",
       "      <th>0</th>\n",
       "      <td>'Baby' Louise</td>\n",
       "      <td>/m/0c0lv89</td>\n",
       "      <td>Diane Pace</td>\n",
       "      <td>Gypsy</td>\n",
       "      <td>1962-01-01</td>\n",
       "      <td>[United States of America]</td>\n",
       "      <td>[United States of America]</td>\n",
       "      <td>1</td>\n",
       "    </tr>\n",
       "    <tr>\n",
       "      <th>1</th>\n",
       "      <td>ACP Jai Dixit</td>\n",
       "      <td>/m/0220_c2</td>\n",
       "      <td>Abhishek Bachchan</td>\n",
       "      <td>Dhoom</td>\n",
       "      <td>2004-08-27</td>\n",
       "      <td>[India]</td>\n",
       "      <td>[India]</td>\n",
       "      <td>1</td>\n",
       "    </tr>\n",
       "    <tr>\n",
       "      <th>2</th>\n",
       "      <td>Abigail Chase</td>\n",
       "      <td>/m/0k14v6</td>\n",
       "      <td>Diane Kruger</td>\n",
       "      <td>National Treasure</td>\n",
       "      <td>2004-11-08</td>\n",
       "      <td>[United States of America]</td>\n",
       "      <td>[United States of America]</td>\n",
       "      <td>1</td>\n",
       "    </tr>\n",
       "    <tr>\n",
       "      <th>3</th>\n",
       "      <td>Abraham Lincoln</td>\n",
       "      <td>/m/0k89pf</td>\n",
       "      <td>Henry Fonda</td>\n",
       "      <td>Young Mr. Lincoln</td>\n",
       "      <td>1939-01-01</td>\n",
       "      <td>[United States of America]</td>\n",
       "      <td>[United States of America]</td>\n",
       "      <td>1</td>\n",
       "    </tr>\n",
       "    <tr>\n",
       "      <th>4</th>\n",
       "      <td>Abraham Van Helsing</td>\n",
       "      <td>/m/0jxjsg</td>\n",
       "      <td>Edward Van Sloan</td>\n",
       "      <td>Dracula</td>\n",
       "      <td>1931-02-12</td>\n",
       "      <td>[United States of America]</td>\n",
       "      <td>[United Kingdom, United States of America, Fra...</td>\n",
       "      <td>4</td>\n",
       "    </tr>\n",
       "  </tbody>\n",
       "</table>\n",
       "</div>"
      ],
      "text/plain": [
       "             Character character_actor_freebase_id         actor_name  \\\n",
       "0        'Baby' Louise                  /m/0c0lv89         Diane Pace   \n",
       "1        ACP Jai Dixit                  /m/0220_c2  Abhishek Bachchan   \n",
       "2        Abigail Chase                   /m/0k14v6       Diane Kruger   \n",
       "3      Abraham Lincoln                   /m/0k89pf        Henry Fonda   \n",
       "4  Abraham Van Helsing                   /m/0jxjsg   Edward Van Sloan   \n",
       "\n",
       "    first_movie_name first_apperance_date              origin_country  \\\n",
       "0              Gypsy           1962-01-01  [United States of America]   \n",
       "1              Dhoom           2004-08-27                     [India]   \n",
       "2  National Treasure           2004-11-08  [United States of America]   \n",
       "3  Young Mr. Lincoln           1939-01-01  [United States of America]   \n",
       "4            Dracula           1931-02-12  [United States of America]   \n",
       "\n",
       "                                       all_countries  number_countries  \n",
       "0                         [United States of America]                 1  \n",
       "1                                            [India]                 1  \n",
       "2                         [United States of America]                 1  \n",
       "3                         [United States of America]                 1  \n",
       "4  [United Kingdom, United States of America, Fra...                 4  "
      ]
     },
     "execution_count": 3,
     "metadata": {},
     "output_type": "execute_result"
    }
   ],
   "source": [
    "from scriptculture import process_data_character          # Import the function that processes the data for this study\n",
    "\n",
    "df_character_influence = process_data_character()\n",
    "df_character_influence.head()"
   ]
  },
  {
   "cell_type": "code",
   "execution_count": 4,
   "metadata": {},
   "outputs": [
    {
     "name": "stdout",
     "output_type": "stream",
     "text": [
      "<class 'pandas.core.frame.DataFrame'>\n",
      "RangeIndex: 970 entries, 0 to 969\n",
      "Data columns (total 8 columns):\n",
      " #   Column                       Non-Null Count  Dtype \n",
      "---  ------                       --------------  ----- \n",
      " 0   Character                    970 non-null    object\n",
      " 1   character_actor_freebase_id  970 non-null    object\n",
      " 2   actor_name                   970 non-null    object\n",
      " 3   first_movie_name             970 non-null    object\n",
      " 4   first_apperance_date         969 non-null    object\n",
      " 5   origin_country               970 non-null    object\n",
      " 6   all_countries                970 non-null    object\n",
      " 7   number_countries             970 non-null    int64 \n",
      "dtypes: int64(1), object(7)\n",
      "memory usage: 60.8+ KB\n"
     ]
    }
   ],
   "source": [
    "df_character_influence.info()"
   ]
  },
  {
   "cell_type": "markdown",
   "metadata": {},
   "source": [
    "For this analysis, we grouped the characters that appeared in different countries (from the character_cluster database). \n",
    "\n",
    "The processed dataset that we'll use for this analyse is completed with the features :\n",
    " - first_movie_name : The first movie in which the character appeared\n",
    " - first_apperance_date : The date of release of the first movie \n",
    " - origin_country : The country of the first movie\n",
    " - all_countries : the countries of origin of all the movies in which the character has appeared \n",
    " - number_countries : count of all_countries\n"
   ]
  },
  {
   "cell_type": "code",
   "execution_count": 5,
   "metadata": {},
   "outputs": [
    {
     "data": {
      "text/html": [
       "<div>\n",
       "<style scoped>\n",
       "    .dataframe tbody tr th:only-of-type {\n",
       "        vertical-align: middle;\n",
       "    }\n",
       "\n",
       "    .dataframe tbody tr th {\n",
       "        vertical-align: top;\n",
       "    }\n",
       "\n",
       "    .dataframe thead th {\n",
       "        text-align: right;\n",
       "    }\n",
       "</style>\n",
       "<table border=\"1\" class=\"dataframe\">\n",
       "  <thead>\n",
       "    <tr style=\"text-align: right;\">\n",
       "      <th></th>\n",
       "      <th>number_countries</th>\n",
       "    </tr>\n",
       "  </thead>\n",
       "  <tbody>\n",
       "    <tr>\n",
       "      <th>count</th>\n",
       "      <td>970.000000</td>\n",
       "    </tr>\n",
       "    <tr>\n",
       "      <th>mean</th>\n",
       "      <td>1.797938</td>\n",
       "    </tr>\n",
       "    <tr>\n",
       "      <th>std</th>\n",
       "      <td>1.161116</td>\n",
       "    </tr>\n",
       "    <tr>\n",
       "      <th>min</th>\n",
       "      <td>0.000000</td>\n",
       "    </tr>\n",
       "    <tr>\n",
       "      <th>25%</th>\n",
       "      <td>1.000000</td>\n",
       "    </tr>\n",
       "    <tr>\n",
       "      <th>50%</th>\n",
       "      <td>1.000000</td>\n",
       "    </tr>\n",
       "    <tr>\n",
       "      <th>75%</th>\n",
       "      <td>2.000000</td>\n",
       "    </tr>\n",
       "    <tr>\n",
       "      <th>max</th>\n",
       "      <td>8.000000</td>\n",
       "    </tr>\n",
       "  </tbody>\n",
       "</table>\n",
       "</div>"
      ],
      "text/plain": [
       "       number_countries\n",
       "count        970.000000\n",
       "mean           1.797938\n",
       "std            1.161116\n",
       "min            0.000000\n",
       "25%            1.000000\n",
       "50%            1.000000\n",
       "75%            2.000000\n",
       "max            8.000000"
      ]
     },
     "execution_count": 5,
     "metadata": {},
     "output_type": "execute_result"
    }
   ],
   "source": [
    "df_character_influence.describe()"
   ]
  },
  {
   "cell_type": "markdown",
   "metadata": {},
   "source": [
    "970 characters appear in multiple films; on average, they appear in 1.8 different countries. They feature in up to 8 different films. Let's look at the distribution of the number of countries"
   ]
  },
  {
   "cell_type": "code",
   "execution_count": 11,
   "metadata": {},
   "outputs": [
    {
     "data": {
      "application/vnd.plotly.v1+json": {
       "config": {
        "plotlyServerURL": "https://plot.ly"
       },
       "data": [
        {
         "alignmentgroup": "True",
         "bingroup": "x",
         "hovertemplate": "Number of Countries=%{x}<br>count=%{y}<extra></extra>",
         "legendgroup": "",
         "marker": {
          "color": "#636efa",
          "pattern": {
           "shape": ""
          }
         },
         "name": "",
         "nbinsx": 20,
         "offsetgroup": "",
         "orientation": "v",
         "showlegend": false,
         "type": "histogram",
         "x": [
          1,
          1,
          1,
          1,
          4,
          1,
          6,
          1,
          1,
          2,
          1,
          2,
          1,
          1,
          2,
          1,
          1,
          4,
          1,
          1,
          4,
          2,
          1,
          4,
          1,
          1,
          1,
          4,
          2,
          1,
          1,
          2,
          1,
          1,
          4,
          1,
          2,
          1,
          3,
          2,
          2,
          2,
          3,
          3,
          4,
          1,
          1,
          1,
          1,
          1,
          1,
          1,
          1,
          1,
          1,
          1,
          1,
          1,
          2,
          1,
          2,
          1,
          1,
          2,
          2,
          1,
          1,
          2,
          3,
          2,
          1,
          2,
          3,
          1,
          1,
          1,
          1,
          1,
          1,
          1,
          1,
          1,
          1,
          1,
          1,
          4,
          1,
          2,
          1,
          6,
          2,
          1,
          2,
          1,
          1,
          2,
          1,
          1,
          1,
          1,
          2,
          1,
          2,
          4,
          3,
          1,
          1,
          1,
          1,
          2,
          1,
          1,
          3,
          3,
          5,
          3,
          1,
          1,
          4,
          4,
          8,
          3,
          1,
          1,
          6,
          1,
          1,
          1,
          2,
          1,
          2,
          5,
          5,
          3,
          1,
          1,
          3,
          1,
          3,
          1,
          1,
          5,
          1,
          3,
          1,
          1,
          1,
          1,
          4,
          3,
          1,
          3,
          5,
          2,
          5,
          1,
          1,
          2,
          2,
          1,
          1,
          2,
          1,
          2,
          2,
          1,
          1,
          2,
          1,
          2,
          1,
          5,
          1,
          1,
          1,
          7,
          3,
          1,
          1,
          1,
          1,
          2,
          2,
          2,
          1,
          4,
          1,
          1,
          2,
          4,
          3,
          2,
          1,
          1,
          3,
          1,
          1,
          2,
          1,
          2,
          1,
          1,
          2,
          1,
          1,
          1,
          2,
          1,
          1,
          2,
          4,
          1,
          1,
          1,
          1,
          2,
          2,
          1,
          3,
          2,
          2,
          6,
          1,
          4,
          1,
          2,
          2,
          1,
          1,
          1,
          3,
          4,
          3,
          1,
          1,
          1,
          1,
          1,
          1,
          2,
          1,
          2,
          1,
          2,
          3,
          2,
          1,
          1,
          4,
          1,
          4,
          5,
          1,
          2,
          2,
          1,
          2,
          2,
          5,
          1,
          1,
          1,
          1,
          1,
          2,
          1,
          2,
          1,
          1,
          1,
          1,
          1,
          1,
          1,
          1,
          1,
          1,
          1,
          1,
          1,
          4,
          1,
          1,
          1,
          2,
          2,
          4,
          1,
          1,
          2,
          1,
          1,
          1,
          2,
          2,
          1,
          3,
          2,
          1,
          2,
          3,
          1,
          1,
          3,
          2,
          4,
          2,
          1,
          2,
          2,
          1,
          1,
          3,
          1,
          2,
          1,
          2,
          1,
          1,
          2,
          1,
          2,
          1,
          1,
          1,
          1,
          1,
          4,
          2,
          3,
          2,
          1,
          3,
          3,
          2,
          1,
          2,
          1,
          6,
          2,
          1,
          3,
          2,
          1,
          2,
          3,
          3,
          1,
          3,
          3,
          1,
          2,
          2,
          1,
          1,
          1,
          1,
          1,
          2,
          1,
          2,
          2,
          2,
          3,
          1,
          1,
          1,
          2,
          2,
          2,
          3,
          1,
          1,
          2,
          1,
          1,
          4,
          1,
          1,
          1,
          3,
          1,
          1,
          3,
          1,
          2,
          1,
          2,
          3,
          1,
          1,
          2,
          1,
          1,
          1,
          1,
          5,
          2,
          2,
          6,
          1,
          2,
          2,
          1,
          1,
          4,
          1,
          1,
          2,
          3,
          1,
          3,
          4,
          1,
          1,
          2,
          2,
          2,
          1,
          1,
          2,
          4,
          5,
          2,
          2,
          2,
          1,
          1,
          4,
          1,
          3,
          4,
          1,
          1,
          1,
          3,
          1,
          2,
          5,
          2,
          1,
          1,
          1,
          4,
          4,
          2,
          2,
          1,
          1,
          2,
          2,
          2,
          2,
          1,
          3,
          2,
          2,
          2,
          1,
          3,
          2,
          5,
          2,
          1,
          2,
          1,
          1,
          1,
          1,
          3,
          2,
          1,
          3,
          3,
          1,
          3,
          1,
          1,
          1,
          1,
          1,
          2,
          2,
          1,
          1,
          1,
          1,
          2,
          2,
          1,
          0,
          1,
          1,
          1,
          1,
          4,
          1,
          1,
          1,
          1,
          2,
          3,
          1,
          1,
          1,
          1,
          3,
          1,
          1,
          1,
          4,
          1,
          1,
          1,
          1,
          3,
          2,
          1,
          5,
          1,
          1,
          1,
          1,
          1,
          6,
          2,
          2,
          1,
          1,
          1,
          1,
          1,
          2,
          4,
          2,
          1,
          1,
          2,
          1,
          2,
          1,
          1,
          1,
          1,
          2,
          5,
          2,
          4,
          1,
          1,
          4,
          1,
          2,
          4,
          1,
          1,
          1,
          1,
          2,
          3,
          2,
          1,
          3,
          1,
          4,
          2,
          4,
          2,
          1,
          2,
          4,
          1,
          1,
          1,
          2,
          2,
          1,
          2,
          3,
          1,
          2,
          1,
          2,
          1,
          1,
          1,
          3,
          1,
          1,
          1,
          1,
          2,
          1,
          4,
          3,
          4,
          1,
          1,
          2,
          2,
          2,
          1,
          1,
          4,
          1,
          2,
          1,
          2,
          1,
          7,
          2,
          1,
          1,
          2,
          1,
          2,
          1,
          1,
          1,
          1,
          3,
          1,
          1,
          1,
          3,
          1,
          1,
          4,
          1,
          5,
          2,
          3,
          3,
          1,
          2,
          1,
          1,
          3,
          2,
          3,
          1,
          1,
          3,
          1,
          2,
          3,
          4,
          1,
          2,
          2,
          1,
          1,
          1,
          3,
          1,
          1,
          1,
          3,
          1,
          4,
          1,
          2,
          2,
          1,
          4,
          1,
          2,
          1,
          1,
          1,
          1,
          1,
          4,
          1,
          7,
          2,
          2,
          1,
          1,
          2,
          2,
          1,
          1,
          1,
          2,
          2,
          2,
          1,
          1,
          2,
          1,
          3,
          1,
          3,
          1,
          2,
          2,
          1,
          2,
          2,
          1,
          1,
          1,
          1,
          1,
          2,
          2,
          1,
          1,
          1,
          1,
          3,
          2,
          2,
          4,
          1,
          3,
          2,
          2,
          4,
          1,
          2,
          1,
          1,
          1,
          3,
          2,
          1,
          1,
          4,
          2,
          3,
          3,
          2,
          2,
          1,
          1,
          1,
          1,
          1,
          1,
          5,
          1,
          1,
          1,
          1,
          1,
          1,
          1,
          2,
          3,
          1,
          1,
          1,
          1,
          1,
          4,
          2,
          2,
          1,
          1,
          1,
          1,
          1,
          1,
          1,
          1,
          2,
          2,
          3,
          1,
          2,
          1,
          1,
          1,
          1,
          1,
          3,
          2,
          1,
          2,
          1,
          4,
          3,
          3,
          1,
          1,
          1,
          1,
          1,
          1,
          1,
          1,
          1,
          1,
          1,
          1,
          1,
          3,
          4,
          1,
          1,
          4,
          2,
          1,
          1,
          1,
          2,
          1,
          1,
          1,
          2,
          1,
          1,
          1,
          1,
          3,
          1,
          1,
          1,
          1,
          2,
          1,
          1,
          1,
          2,
          3,
          1,
          2,
          1,
          1,
          1,
          1,
          2,
          3,
          1,
          2,
          3,
          3,
          4,
          1,
          1,
          1,
          1,
          1,
          2,
          2,
          1,
          2,
          2,
          5,
          1,
          1,
          1,
          2,
          2,
          1,
          2,
          1,
          1,
          1,
          1,
          1,
          1,
          1,
          1,
          4,
          6,
          1,
          1,
          3,
          1,
          3,
          1,
          2,
          1,
          4,
          6,
          2,
          1,
          1,
          2,
          1,
          1,
          2,
          5,
          1,
          4,
          3,
          3,
          4,
          4,
          2,
          2,
          1,
          2,
          1,
          2,
          2,
          1,
          1,
          1,
          3,
          4,
          2,
          1,
          1,
          1,
          2,
          2,
          1,
          1,
          1,
          4,
          1,
          2,
          1,
          1,
          2,
          1,
          1,
          3,
          1,
          1,
          2,
          1,
          2,
          1,
          2,
          2,
          1,
          3,
          1,
          4,
          3,
          2,
          1,
          1,
          1,
          3,
          1,
          1,
          1,
          1,
          1,
          1,
          3,
          1,
          1,
          1,
          3,
          1,
          6,
          1,
          1,
          1,
          3,
          2,
          3,
          1,
          1,
          1,
          1,
          1,
          1,
          1,
          4,
          1,
          1,
          1
         ],
         "xaxis": "x",
         "yaxis": "y"
        }
       ],
       "layout": {
        "barmode": "relative",
        "height": 600,
        "legend": {
         "tracegroupgap": 0
        },
        "template": {
         "data": {
          "bar": [
           {
            "error_x": {
             "color": "#f2f5fa"
            },
            "error_y": {
             "color": "#f2f5fa"
            },
            "marker": {
             "line": {
              "color": "rgb(17,17,17)",
              "width": 0.5
             },
             "pattern": {
              "fillmode": "overlay",
              "size": 10,
              "solidity": 0.2
             }
            },
            "type": "bar"
           }
          ],
          "barpolar": [
           {
            "marker": {
             "line": {
              "color": "rgb(17,17,17)",
              "width": 0.5
             },
             "pattern": {
              "fillmode": "overlay",
              "size": 10,
              "solidity": 0.2
             }
            },
            "type": "barpolar"
           }
          ],
          "carpet": [
           {
            "aaxis": {
             "endlinecolor": "#A2B1C6",
             "gridcolor": "#506784",
             "linecolor": "#506784",
             "minorgridcolor": "#506784",
             "startlinecolor": "#A2B1C6"
            },
            "baxis": {
             "endlinecolor": "#A2B1C6",
             "gridcolor": "#506784",
             "linecolor": "#506784",
             "minorgridcolor": "#506784",
             "startlinecolor": "#A2B1C6"
            },
            "type": "carpet"
           }
          ],
          "choropleth": [
           {
            "colorbar": {
             "outlinewidth": 0,
             "ticks": ""
            },
            "type": "choropleth"
           }
          ],
          "contour": [
           {
            "colorbar": {
             "outlinewidth": 0,
             "ticks": ""
            },
            "colorscale": [
             [
              0,
              "#0d0887"
             ],
             [
              0.1111111111111111,
              "#46039f"
             ],
             [
              0.2222222222222222,
              "#7201a8"
             ],
             [
              0.3333333333333333,
              "#9c179e"
             ],
             [
              0.4444444444444444,
              "#bd3786"
             ],
             [
              0.5555555555555556,
              "#d8576b"
             ],
             [
              0.6666666666666666,
              "#ed7953"
             ],
             [
              0.7777777777777778,
              "#fb9f3a"
             ],
             [
              0.8888888888888888,
              "#fdca26"
             ],
             [
              1,
              "#f0f921"
             ]
            ],
            "type": "contour"
           }
          ],
          "contourcarpet": [
           {
            "colorbar": {
             "outlinewidth": 0,
             "ticks": ""
            },
            "type": "contourcarpet"
           }
          ],
          "heatmap": [
           {
            "colorbar": {
             "outlinewidth": 0,
             "ticks": ""
            },
            "colorscale": [
             [
              0,
              "#0d0887"
             ],
             [
              0.1111111111111111,
              "#46039f"
             ],
             [
              0.2222222222222222,
              "#7201a8"
             ],
             [
              0.3333333333333333,
              "#9c179e"
             ],
             [
              0.4444444444444444,
              "#bd3786"
             ],
             [
              0.5555555555555556,
              "#d8576b"
             ],
             [
              0.6666666666666666,
              "#ed7953"
             ],
             [
              0.7777777777777778,
              "#fb9f3a"
             ],
             [
              0.8888888888888888,
              "#fdca26"
             ],
             [
              1,
              "#f0f921"
             ]
            ],
            "type": "heatmap"
           }
          ],
          "heatmapgl": [
           {
            "colorbar": {
             "outlinewidth": 0,
             "ticks": ""
            },
            "colorscale": [
             [
              0,
              "#0d0887"
             ],
             [
              0.1111111111111111,
              "#46039f"
             ],
             [
              0.2222222222222222,
              "#7201a8"
             ],
             [
              0.3333333333333333,
              "#9c179e"
             ],
             [
              0.4444444444444444,
              "#bd3786"
             ],
             [
              0.5555555555555556,
              "#d8576b"
             ],
             [
              0.6666666666666666,
              "#ed7953"
             ],
             [
              0.7777777777777778,
              "#fb9f3a"
             ],
             [
              0.8888888888888888,
              "#fdca26"
             ],
             [
              1,
              "#f0f921"
             ]
            ],
            "type": "heatmapgl"
           }
          ],
          "histogram": [
           {
            "marker": {
             "pattern": {
              "fillmode": "overlay",
              "size": 10,
              "solidity": 0.2
             }
            },
            "type": "histogram"
           }
          ],
          "histogram2d": [
           {
            "colorbar": {
             "outlinewidth": 0,
             "ticks": ""
            },
            "colorscale": [
             [
              0,
              "#0d0887"
             ],
             [
              0.1111111111111111,
              "#46039f"
             ],
             [
              0.2222222222222222,
              "#7201a8"
             ],
             [
              0.3333333333333333,
              "#9c179e"
             ],
             [
              0.4444444444444444,
              "#bd3786"
             ],
             [
              0.5555555555555556,
              "#d8576b"
             ],
             [
              0.6666666666666666,
              "#ed7953"
             ],
             [
              0.7777777777777778,
              "#fb9f3a"
             ],
             [
              0.8888888888888888,
              "#fdca26"
             ],
             [
              1,
              "#f0f921"
             ]
            ],
            "type": "histogram2d"
           }
          ],
          "histogram2dcontour": [
           {
            "colorbar": {
             "outlinewidth": 0,
             "ticks": ""
            },
            "colorscale": [
             [
              0,
              "#0d0887"
             ],
             [
              0.1111111111111111,
              "#46039f"
             ],
             [
              0.2222222222222222,
              "#7201a8"
             ],
             [
              0.3333333333333333,
              "#9c179e"
             ],
             [
              0.4444444444444444,
              "#bd3786"
             ],
             [
              0.5555555555555556,
              "#d8576b"
             ],
             [
              0.6666666666666666,
              "#ed7953"
             ],
             [
              0.7777777777777778,
              "#fb9f3a"
             ],
             [
              0.8888888888888888,
              "#fdca26"
             ],
             [
              1,
              "#f0f921"
             ]
            ],
            "type": "histogram2dcontour"
           }
          ],
          "mesh3d": [
           {
            "colorbar": {
             "outlinewidth": 0,
             "ticks": ""
            },
            "type": "mesh3d"
           }
          ],
          "parcoords": [
           {
            "line": {
             "colorbar": {
              "outlinewidth": 0,
              "ticks": ""
             }
            },
            "type": "parcoords"
           }
          ],
          "pie": [
           {
            "automargin": true,
            "type": "pie"
           }
          ],
          "scatter": [
           {
            "marker": {
             "line": {
              "color": "#283442"
             }
            },
            "type": "scatter"
           }
          ],
          "scatter3d": [
           {
            "line": {
             "colorbar": {
              "outlinewidth": 0,
              "ticks": ""
             }
            },
            "marker": {
             "colorbar": {
              "outlinewidth": 0,
              "ticks": ""
             }
            },
            "type": "scatter3d"
           }
          ],
          "scattercarpet": [
           {
            "marker": {
             "colorbar": {
              "outlinewidth": 0,
              "ticks": ""
             }
            },
            "type": "scattercarpet"
           }
          ],
          "scattergeo": [
           {
            "marker": {
             "colorbar": {
              "outlinewidth": 0,
              "ticks": ""
             }
            },
            "type": "scattergeo"
           }
          ],
          "scattergl": [
           {
            "marker": {
             "line": {
              "color": "#283442"
             }
            },
            "type": "scattergl"
           }
          ],
          "scattermapbox": [
           {
            "marker": {
             "colorbar": {
              "outlinewidth": 0,
              "ticks": ""
             }
            },
            "type": "scattermapbox"
           }
          ],
          "scatterpolar": [
           {
            "marker": {
             "colorbar": {
              "outlinewidth": 0,
              "ticks": ""
             }
            },
            "type": "scatterpolar"
           }
          ],
          "scatterpolargl": [
           {
            "marker": {
             "colorbar": {
              "outlinewidth": 0,
              "ticks": ""
             }
            },
            "type": "scatterpolargl"
           }
          ],
          "scatterternary": [
           {
            "marker": {
             "colorbar": {
              "outlinewidth": 0,
              "ticks": ""
             }
            },
            "type": "scatterternary"
           }
          ],
          "surface": [
           {
            "colorbar": {
             "outlinewidth": 0,
             "ticks": ""
            },
            "colorscale": [
             [
              0,
              "#0d0887"
             ],
             [
              0.1111111111111111,
              "#46039f"
             ],
             [
              0.2222222222222222,
              "#7201a8"
             ],
             [
              0.3333333333333333,
              "#9c179e"
             ],
             [
              0.4444444444444444,
              "#bd3786"
             ],
             [
              0.5555555555555556,
              "#d8576b"
             ],
             [
              0.6666666666666666,
              "#ed7953"
             ],
             [
              0.7777777777777778,
              "#fb9f3a"
             ],
             [
              0.8888888888888888,
              "#fdca26"
             ],
             [
              1,
              "#f0f921"
             ]
            ],
            "type": "surface"
           }
          ],
          "table": [
           {
            "cells": {
             "fill": {
              "color": "#506784"
             },
             "line": {
              "color": "rgb(17,17,17)"
             }
            },
            "header": {
             "fill": {
              "color": "#2a3f5f"
             },
             "line": {
              "color": "rgb(17,17,17)"
             }
            },
            "type": "table"
           }
          ]
         },
         "layout": {
          "annotationdefaults": {
           "arrowcolor": "#f2f5fa",
           "arrowhead": 0,
           "arrowwidth": 1
          },
          "autotypenumbers": "strict",
          "coloraxis": {
           "colorbar": {
            "outlinewidth": 0,
            "ticks": ""
           }
          },
          "colorscale": {
           "diverging": [
            [
             0,
             "#8e0152"
            ],
            [
             0.1,
             "#c51b7d"
            ],
            [
             0.2,
             "#de77ae"
            ],
            [
             0.3,
             "#f1b6da"
            ],
            [
             0.4,
             "#fde0ef"
            ],
            [
             0.5,
             "#f7f7f7"
            ],
            [
             0.6,
             "#e6f5d0"
            ],
            [
             0.7,
             "#b8e186"
            ],
            [
             0.8,
             "#7fbc41"
            ],
            [
             0.9,
             "#4d9221"
            ],
            [
             1,
             "#276419"
            ]
           ],
           "sequential": [
            [
             0,
             "#0d0887"
            ],
            [
             0.1111111111111111,
             "#46039f"
            ],
            [
             0.2222222222222222,
             "#7201a8"
            ],
            [
             0.3333333333333333,
             "#9c179e"
            ],
            [
             0.4444444444444444,
             "#bd3786"
            ],
            [
             0.5555555555555556,
             "#d8576b"
            ],
            [
             0.6666666666666666,
             "#ed7953"
            ],
            [
             0.7777777777777778,
             "#fb9f3a"
            ],
            [
             0.8888888888888888,
             "#fdca26"
            ],
            [
             1,
             "#f0f921"
            ]
           ],
           "sequentialminus": [
            [
             0,
             "#0d0887"
            ],
            [
             0.1111111111111111,
             "#46039f"
            ],
            [
             0.2222222222222222,
             "#7201a8"
            ],
            [
             0.3333333333333333,
             "#9c179e"
            ],
            [
             0.4444444444444444,
             "#bd3786"
            ],
            [
             0.5555555555555556,
             "#d8576b"
            ],
            [
             0.6666666666666666,
             "#ed7953"
            ],
            [
             0.7777777777777778,
             "#fb9f3a"
            ],
            [
             0.8888888888888888,
             "#fdca26"
            ],
            [
             1,
             "#f0f921"
            ]
           ]
          },
          "colorway": [
           "#636efa",
           "#EF553B",
           "#00cc96",
           "#ab63fa",
           "#FFA15A",
           "#19d3f3",
           "#FF6692",
           "#B6E880",
           "#FF97FF",
           "#FECB52"
          ],
          "font": {
           "color": "#f2f5fa"
          },
          "geo": {
           "bgcolor": "rgb(17,17,17)",
           "lakecolor": "rgb(17,17,17)",
           "landcolor": "rgb(17,17,17)",
           "showlakes": true,
           "showland": true,
           "subunitcolor": "#506784"
          },
          "hoverlabel": {
           "align": "left"
          },
          "hovermode": "closest",
          "mapbox": {
           "style": "dark"
          },
          "paper_bgcolor": "rgb(17,17,17)",
          "plot_bgcolor": "rgb(17,17,17)",
          "polar": {
           "angularaxis": {
            "gridcolor": "#506784",
            "linecolor": "#506784",
            "ticks": ""
           },
           "bgcolor": "rgb(17,17,17)",
           "radialaxis": {
            "gridcolor": "#506784",
            "linecolor": "#506784",
            "ticks": ""
           }
          },
          "scene": {
           "xaxis": {
            "backgroundcolor": "rgb(17,17,17)",
            "gridcolor": "#506784",
            "gridwidth": 2,
            "linecolor": "#506784",
            "showbackground": true,
            "ticks": "",
            "zerolinecolor": "#C8D4E3"
           },
           "yaxis": {
            "backgroundcolor": "rgb(17,17,17)",
            "gridcolor": "#506784",
            "gridwidth": 2,
            "linecolor": "#506784",
            "showbackground": true,
            "ticks": "",
            "zerolinecolor": "#C8D4E3"
           },
           "zaxis": {
            "backgroundcolor": "rgb(17,17,17)",
            "gridcolor": "#506784",
            "gridwidth": 2,
            "linecolor": "#506784",
            "showbackground": true,
            "ticks": "",
            "zerolinecolor": "#C8D4E3"
           }
          },
          "shapedefaults": {
           "line": {
            "color": "#f2f5fa"
           }
          },
          "sliderdefaults": {
           "bgcolor": "#C8D4E3",
           "bordercolor": "rgb(17,17,17)",
           "borderwidth": 1,
           "tickwidth": 0
          },
          "ternary": {
           "aaxis": {
            "gridcolor": "#506784",
            "linecolor": "#506784",
            "ticks": ""
           },
           "baxis": {
            "gridcolor": "#506784",
            "linecolor": "#506784",
            "ticks": ""
           },
           "bgcolor": "rgb(17,17,17)",
           "caxis": {
            "gridcolor": "#506784",
            "linecolor": "#506784",
            "ticks": ""
           }
          },
          "title": {
           "x": 0.05
          },
          "updatemenudefaults": {
           "bgcolor": "#506784",
           "borderwidth": 0
          },
          "xaxis": {
           "automargin": true,
           "gridcolor": "#283442",
           "linecolor": "#506784",
           "ticks": "",
           "title": {
            "standoff": 15
           },
           "zerolinecolor": "#283442",
           "zerolinewidth": 2
          },
          "yaxis": {
           "automargin": true,
           "gridcolor": "#283442",
           "linecolor": "#506784",
           "ticks": "",
           "title": {
            "standoff": 15
           },
           "zerolinecolor": "#283442",
           "zerolinewidth": 2
          }
         }
        },
        "title": {
         "text": "Distribution of the Number of Countries Where Characters Appear",
         "x": 0.5,
         "xanchor": "center"
        },
        "width": 900,
        "xaxis": {
         "anchor": "y",
         "domain": [
          0,
          1
         ],
         "title": {
          "text": "Number of Countries"
         }
        },
        "yaxis": {
         "anchor": "x",
         "domain": [
          0,
          1
         ],
         "title": {
          "text": "Frequency"
         }
        }
       }
      }
     },
     "metadata": {},
     "output_type": "display_data"
    }
   ],
   "source": [
    "import plotly.express as px\n",
    "\n",
    "# Créer le graphique avec Plotly\n",
    "fig = px.histogram(\n",
    "    df_character_influence,\n",
    "    x='number_countries',\n",
    "    nbins=20,\n",
    "    title='Distribution of the Number of Countries Where Characters Appear',\n",
    "    labels={'number_countries': 'Number of Countries'},\n",
    "    template='plotly_dark'  # Vous pouvez choisir un autre thème (e.g., 'plotly_white')\n",
    ")\n",
    "\n",
    "# Ajuster les axes et le titre\n",
    "fig.update_layout(\n",
    "    width=900,  # Réduire la largeur\n",
    "    height=600,  # Augmenter la hauteur\n",
    "    xaxis_title='Number of Countries',\n",
    "    yaxis_title='Frequency',\n",
    "    title={\n",
    "        'x': 0.5,  # Centrer le titre\n",
    "        'xanchor': 'center'\n",
    "    }\n",
    ")\n",
    "\n",
    "# Afficher le graphique\n",
    "fig.show()"
   ]
  },
  {
   "cell_type": "code",
   "execution_count": 116,
   "metadata": {},
   "outputs": [
    {
     "name": "stdout",
     "output_type": "stream",
     "text": [
      "Character                      428\n",
      "character_actor_freebase_id    428\n",
      "actor_name                     428\n",
      "first_movie_name               428\n",
      "first_apperance_date           428\n",
      "origin_country                 428\n",
      "all_countries                  428\n",
      "number_countries               428\n",
      "dtype: int64\n",
      "number of influence point to be given : 774\n"
     ]
    }
   ],
   "source": [
    "print(df_character_influence[df_character_influence['number_countries'] > 1].count()) #Number of characters that appear in more than one country\n",
    "print(\"number of influence point to be given :\",df_character_influence['number_countries'].sum()-970) #Number of influence point to be given"
   ]
  },
  {
   "cell_type": "markdown",
   "metadata": {},
   "source": [
    "Of the 970 characters, 428 appear in movies produced across different countries, which is not a large sample. We will keep this in mind as we test the significance of our study.\n",
    "\n",
    "For each character appearing in a movie produced by a different country, we will assign 1 influence point to the character's origin country. This results in a total of 774 points being assigned.\n",
    "\n",
    "A major concern that remains is whether the method of taking the first movie appearance as the origin country of a character is reliable.\n",
    "\n",
    "Let's test this with the character that appears in movies produced in the most countries."
   ]
  },
  {
   "cell_type": "code",
   "execution_count": 11,
   "metadata": {},
   "outputs": [
    {
     "data": {
      "text/html": [
       "<div>\n",
       "<style scoped>\n",
       "    .dataframe tbody tr th:only-of-type {\n",
       "        vertical-align: middle;\n",
       "    }\n",
       "\n",
       "    .dataframe tbody tr th {\n",
       "        vertical-align: top;\n",
       "    }\n",
       "\n",
       "    .dataframe thead th {\n",
       "        text-align: right;\n",
       "    }\n",
       "</style>\n",
       "<table border=\"1\" class=\"dataframe\">\n",
       "  <thead>\n",
       "    <tr style=\"text-align: right;\">\n",
       "      <th></th>\n",
       "      <th>Character</th>\n",
       "      <th>character_actor_freebase_id</th>\n",
       "      <th>actor_name</th>\n",
       "      <th>first_movie_name</th>\n",
       "      <th>first_apperance_date</th>\n",
       "      <th>origin_country</th>\n",
       "      <th>all_countries</th>\n",
       "      <th>number_countries</th>\n",
       "    </tr>\n",
       "  </thead>\n",
       "  <tbody>\n",
       "    <tr>\n",
       "      <th>120</th>\n",
       "      <td>Cardinal Richelieu</td>\n",
       "      <td>/m/02vbtwv</td>\n",
       "      <td>Charlton Heston</td>\n",
       "      <td>The Three Musketeers</td>\n",
       "      <td>1973-01-01</td>\n",
       "      <td>[United States of America, Spain, United Kingdom]</td>\n",
       "      <td>[Australia, Spain, Germany, Austria, France, P...</td>\n",
       "      <td>8</td>\n",
       "    </tr>\n",
       "  </tbody>\n",
       "</table>\n",
       "</div>"
      ],
      "text/plain": [
       "              Character character_actor_freebase_id       actor_name  \\\n",
       "120  Cardinal Richelieu                  /m/02vbtwv  Charlton Heston   \n",
       "\n",
       "         first_movie_name first_apperance_date  \\\n",
       "120  The Three Musketeers           1973-01-01   \n",
       "\n",
       "                                        origin_country  \\\n",
       "120  [United States of America, Spain, United Kingdom]   \n",
       "\n",
       "                                         all_countries  number_countries  \n",
       "120  [Australia, Spain, Germany, Austria, France, P...                 8  "
      ]
     },
     "execution_count": 11,
     "metadata": {},
     "output_type": "execute_result"
    }
   ],
   "source": [
    "#find the character that appear in 8 countries and show all the origin countries one by one\n",
    "\n",
    "df_character_influence[df_character_influence['number_countries'] == 8].head()"
   ]
  },
  {
   "cell_type": "markdown",
   "metadata": {},
   "source": [
    "The character appearing in productions from the most different countries is Cardinal Richelieu (French origin). However, with our initial method, the influence points would not have been distributed to France but to UK, US and Spain.\n",
    "\n",
    "This analysis drives us to explore other methods for identifying character origins. One possibility is to leverage Natural Language Processing (NLP) models, such as spaCy to analyze movie summaries geographical terms and better determine the character's origin. \n",
    "\n",
    "Additionally, using embedding models like Hugging Face transformers could help identify implicit relationships within the movie summaries and find where the history of the movie take place and deduct the characters origin from this."
   ]
  },
  {
   "cell_type": "markdown",
   "metadata": {},
   "source": [
    "### Part 2. Real analysis with NLP"
   ]
  },
  {
   "cell_type": "code",
   "execution_count": 12,
   "metadata": {},
   "outputs": [
    {
     "name": "stderr",
     "output_type": "stream",
     "text": [
      "c:\\Users\\Oscar\\anaconda3\\envs\\projet\\Lib\\site-packages\\tqdm\\auto.py:21: TqdmWarning: IProgress not found. Please update jupyter and ipywidgets. See https://ipywidgets.readthedocs.io/en/stable/user_install.html\n",
      "  from .autonotebook import tqdm as notebook_tqdm\n",
      "No model was supplied, defaulted to facebook/bart-large-mnli and revision d7645e1 (https://huggingface.co/facebook/bart-large-mnli).\n",
      "Using a pipeline without specifying a model name and revision in production is not recommended.\n"
     ]
    },
    {
     "data": {
      "text/html": [
       "<div>\n",
       "<style scoped>\n",
       "    .dataframe tbody tr th:only-of-type {\n",
       "        vertical-align: middle;\n",
       "    }\n",
       "\n",
       "    .dataframe tbody tr th {\n",
       "        vertical-align: top;\n",
       "    }\n",
       "\n",
       "    .dataframe thead th {\n",
       "        text-align: right;\n",
       "    }\n",
       "</style>\n",
       "<table border=\"1\" class=\"dataframe\">\n",
       "  <thead>\n",
       "    <tr style=\"text-align: right;\">\n",
       "      <th></th>\n",
       "      <th>Label</th>\n",
       "      <th>Score</th>\n",
       "    </tr>\n",
       "  </thead>\n",
       "  <tbody>\n",
       "    <tr>\n",
       "      <th>0</th>\n",
       "      <td>Spain</td>\n",
       "      <td>0.390203</td>\n",
       "    </tr>\n",
       "    <tr>\n",
       "      <th>1</th>\n",
       "      <td>Italy</td>\n",
       "      <td>0.147756</td>\n",
       "    </tr>\n",
       "    <tr>\n",
       "      <th>2</th>\n",
       "      <td>United Kingdom</td>\n",
       "      <td>0.085401</td>\n",
       "    </tr>\n",
       "    <tr>\n",
       "      <th>3</th>\n",
       "      <td>United States</td>\n",
       "      <td>0.078174</td>\n",
       "    </tr>\n",
       "    <tr>\n",
       "      <th>4</th>\n",
       "      <td>India</td>\n",
       "      <td>0.068733</td>\n",
       "    </tr>\n",
       "  </tbody>\n",
       "</table>\n",
       "</div>"
      ],
      "text/plain": [
       "            Label     Score\n",
       "0           Spain  0.390203\n",
       "1           Italy  0.147756\n",
       "2  United Kingdom  0.085401\n",
       "3   United States  0.078174\n",
       "4           India  0.068733"
      ]
     },
     "execution_count": 12,
     "metadata": {},
     "output_type": "execute_result"
    }
   ],
   "source": [
    "from transformers import pipeline\n",
    "\n",
    "# Here we use the zero-shot-classification pipeline\n",
    "nlp = pipeline(\"zero-shot-classification\")\n",
    "\n",
    "# movie summary example\n",
    "character = \"Maria Elena\"\n",
    "\n",
    "# Here we define the label (countries in our case)\n",
    "labels = [\"United States\", \"France\", \"India\", \"Germany\",\"United Kingdom\",\"Italy\",\"Spain\",\"China\",\"Scotland\"]\n",
    "\n",
    "result = nlp(character, candidate_labels=labels)\n",
    "\n",
    "# The result is a dataframe with the labels and their respective scores\n",
    "df_result = pd.DataFrame(list(zip(result['labels'], result['scores'])), columns=['Label', 'Score'])\n",
    "\n",
    "df_result.head()"
   ]
  },
  {
   "cell_type": "markdown",
   "metadata": {},
   "source": [
    "Let's get the result of the NLP we've done that we gathered in \"character_countries\" table"
   ]
  },
  {
   "cell_type": "code",
   "execution_count": 117,
   "metadata": {},
   "outputs": [],
   "source": [
    "df_character_nlp = pd.read_csv('character_countries.csv')\n",
    "df_character_influence_nlp = pd.merge(df_character_influence, df_character_nlp, on='Character', how='inner')"
   ]
  },
  {
   "cell_type": "code",
   "execution_count": 118,
   "metadata": {},
   "outputs": [],
   "source": [
    "df_character_influence_nlp['number_other_countries']=df_character_influence_nlp['number_countries']-1"
   ]
  },
  {
   "cell_type": "code",
   "execution_count": 119,
   "metadata": {},
   "outputs": [
    {
     "data": {
      "text/html": [
       "<div>\n",
       "<style scoped>\n",
       "    .dataframe tbody tr th:only-of-type {\n",
       "        vertical-align: middle;\n",
       "    }\n",
       "\n",
       "    .dataframe tbody tr th {\n",
       "        vertical-align: top;\n",
       "    }\n",
       "\n",
       "    .dataframe thead th {\n",
       "        text-align: right;\n",
       "    }\n",
       "</style>\n",
       "<table border=\"1\" class=\"dataframe\">\n",
       "  <thead>\n",
       "    <tr style=\"text-align: right;\">\n",
       "      <th></th>\n",
       "      <th>Character</th>\n",
       "      <th>character_actor_freebase_id</th>\n",
       "      <th>actor_name</th>\n",
       "      <th>first_movie_name</th>\n",
       "      <th>first_apperance_date</th>\n",
       "      <th>origin_country</th>\n",
       "      <th>all_countries</th>\n",
       "      <th>number_countries</th>\n",
       "      <th>Best_Country</th>\n",
       "      <th>Best_Score</th>\n",
       "      <th>number_other_countries</th>\n",
       "    </tr>\n",
       "  </thead>\n",
       "  <tbody>\n",
       "    <tr>\n",
       "      <th>308</th>\n",
       "      <td>Gabriel Martin</td>\n",
       "      <td>/m/045x5sk</td>\n",
       "      <td>Heath Ledger</td>\n",
       "      <td>The Patriot</td>\n",
       "      <td>2000-06-27</td>\n",
       "      <td>[United States of America, Germany]</td>\n",
       "      <td>[Germany, United States of America]</td>\n",
       "      <td>2</td>\n",
       "      <td>Germany</td>\n",
       "      <td>0.542762</td>\n",
       "      <td>1</td>\n",
       "    </tr>\n",
       "    <tr>\n",
       "      <th>681</th>\n",
       "      <td>Pat Chambers</td>\n",
       "      <td>/m/02vc39t</td>\n",
       "      <td>Preston Foster</td>\n",
       "      <td>I, the Jury</td>\n",
       "      <td>1953-07-29</td>\n",
       "      <td>[United States of America]</td>\n",
       "      <td>[United States of America]</td>\n",
       "      <td>1</td>\n",
       "      <td>United States of America</td>\n",
       "      <td>0.089966</td>\n",
       "      <td>0</td>\n",
       "    </tr>\n",
       "    <tr>\n",
       "      <th>388</th>\n",
       "      <td>Jack Foley</td>\n",
       "      <td>/m/04djr3v</td>\n",
       "      <td>Chris O'Donnell</td>\n",
       "      <td>Circle of Friends</td>\n",
       "      <td>1995-03-15</td>\n",
       "      <td>[United States of America, Ireland, United Kin...</td>\n",
       "      <td>[Ireland, United States of America, United Kin...</td>\n",
       "      <td>3</td>\n",
       "      <td>United States of America</td>\n",
       "      <td>0.534324</td>\n",
       "      <td>2</td>\n",
       "    </tr>\n",
       "    <tr>\n",
       "      <th>699</th>\n",
       "      <td>Police Inspector</td>\n",
       "      <td>/m/0h7187r</td>\n",
       "      <td>Janagaraj</td>\n",
       "      <td>Apoorva Sagodharargal</td>\n",
       "      <td>1989-04-14</td>\n",
       "      <td>[India]</td>\n",
       "      <td>[India, United Kingdom]</td>\n",
       "      <td>2</td>\n",
       "      <td>United Kingdom</td>\n",
       "      <td>0.651641</td>\n",
       "      <td>1</td>\n",
       "    </tr>\n",
       "    <tr>\n",
       "      <th>689</th>\n",
       "      <td>Perry Smith</td>\n",
       "      <td>/m/0jzvdm</td>\n",
       "      <td>Robert Blake</td>\n",
       "      <td>In Cold Blood</td>\n",
       "      <td>1967-01-01</td>\n",
       "      <td>[United States of America]</td>\n",
       "      <td>[Canada, United States of America]</td>\n",
       "      <td>2</td>\n",
       "      <td>United States of America</td>\n",
       "      <td>0.636024</td>\n",
       "      <td>1</td>\n",
       "    </tr>\n",
       "    <tr>\n",
       "      <th>633</th>\n",
       "      <td>Mr. George Wilson</td>\n",
       "      <td>/m/02vbzpl</td>\n",
       "      <td>Walter Matthau</td>\n",
       "      <td>Dennis the Menace</td>\n",
       "      <td>1993-06-24</td>\n",
       "      <td>[United States of America]</td>\n",
       "      <td>[United States of America]</td>\n",
       "      <td>1</td>\n",
       "      <td>United States of America</td>\n",
       "      <td>0.076602</td>\n",
       "      <td>0</td>\n",
       "    </tr>\n",
       "    <tr>\n",
       "      <th>860</th>\n",
       "      <td>Taylor McKessie</td>\n",
       "      <td>/m/0jzdzk</td>\n",
       "      <td>Monique Coleman</td>\n",
       "      <td>High School Musical</td>\n",
       "      <td>2006-01-20</td>\n",
       "      <td>[United States of America]</td>\n",
       "      <td>[United States of America]</td>\n",
       "      <td>1</td>\n",
       "      <td>United States of America</td>\n",
       "      <td>0.077723</td>\n",
       "      <td>0</td>\n",
       "    </tr>\n",
       "    <tr>\n",
       "      <th>545</th>\n",
       "      <td>Lucy Pevensie</td>\n",
       "      <td>/m/02vcr1y</td>\n",
       "      <td>Jayma Mays</td>\n",
       "      <td>Epic Movie</td>\n",
       "      <td>2007-01-25</td>\n",
       "      <td>[United States of America]</td>\n",
       "      <td>[Poland, Czech Republic, United Kingdom, Unite...</td>\n",
       "      <td>5</td>\n",
       "      <td>United Kingdom</td>\n",
       "      <td>0.711971</td>\n",
       "      <td>4</td>\n",
       "    </tr>\n",
       "    <tr>\n",
       "      <th>701</th>\n",
       "      <td>Pooja Malhotra</td>\n",
       "      <td>/m/040jw9x</td>\n",
       "      <td>Ayesha Jhulka</td>\n",
       "      <td>Rang</td>\n",
       "      <td>1993-07-09</td>\n",
       "      <td>[India]</td>\n",
       "      <td>[India]</td>\n",
       "      <td>1</td>\n",
       "      <td>India</td>\n",
       "      <td>0.450880</td>\n",
       "      <td>0</td>\n",
       "    </tr>\n",
       "    <tr>\n",
       "      <th>21</th>\n",
       "      <td>Alfred Pennyworth</td>\n",
       "      <td>/m/0497wl1</td>\n",
       "      <td>Michael Gough</td>\n",
       "      <td>Batman &amp; Robin</td>\n",
       "      <td>1997-06-12</td>\n",
       "      <td>[United States of America, United Kingdom]</td>\n",
       "      <td>[United States of America, United Kingdom]</td>\n",
       "      <td>2</td>\n",
       "      <td>United Kingdom</td>\n",
       "      <td>0.664201</td>\n",
       "      <td>1</td>\n",
       "    </tr>\n",
       "  </tbody>\n",
       "</table>\n",
       "</div>"
      ],
      "text/plain": [
       "             Character character_actor_freebase_id       actor_name  \\\n",
       "308     Gabriel Martin                  /m/045x5sk     Heath Ledger   \n",
       "681       Pat Chambers                  /m/02vc39t   Preston Foster   \n",
       "388         Jack Foley                  /m/04djr3v  Chris O'Donnell   \n",
       "699   Police Inspector                  /m/0h7187r        Janagaraj   \n",
       "689        Perry Smith                   /m/0jzvdm     Robert Blake   \n",
       "633  Mr. George Wilson                  /m/02vbzpl   Walter Matthau   \n",
       "860    Taylor McKessie                   /m/0jzdzk  Monique Coleman   \n",
       "545      Lucy Pevensie                  /m/02vcr1y       Jayma Mays   \n",
       "701     Pooja Malhotra                  /m/040jw9x    Ayesha Jhulka   \n",
       "21   Alfred Pennyworth                  /m/0497wl1    Michael Gough   \n",
       "\n",
       "          first_movie_name first_apperance_date  \\\n",
       "308            The Patriot           2000-06-27   \n",
       "681            I, the Jury           1953-07-29   \n",
       "388      Circle of Friends           1995-03-15   \n",
       "699  Apoorva Sagodharargal           1989-04-14   \n",
       "689          In Cold Blood           1967-01-01   \n",
       "633      Dennis the Menace           1993-06-24   \n",
       "860    High School Musical           2006-01-20   \n",
       "545             Epic Movie           2007-01-25   \n",
       "701                   Rang           1993-07-09   \n",
       "21          Batman & Robin           1997-06-12   \n",
       "\n",
       "                                        origin_country  \\\n",
       "308                [United States of America, Germany]   \n",
       "681                         [United States of America]   \n",
       "388  [United States of America, Ireland, United Kin...   \n",
       "699                                            [India]   \n",
       "689                         [United States of America]   \n",
       "633                         [United States of America]   \n",
       "860                         [United States of America]   \n",
       "545                         [United States of America]   \n",
       "701                                            [India]   \n",
       "21          [United States of America, United Kingdom]   \n",
       "\n",
       "                                         all_countries  number_countries  \\\n",
       "308                [Germany, United States of America]                 2   \n",
       "681                         [United States of America]                 1   \n",
       "388  [Ireland, United States of America, United Kin...                 3   \n",
       "699                            [India, United Kingdom]                 2   \n",
       "689                 [Canada, United States of America]                 2   \n",
       "633                         [United States of America]                 1   \n",
       "860                         [United States of America]                 1   \n",
       "545  [Poland, Czech Republic, United Kingdom, Unite...                 5   \n",
       "701                                            [India]                 1   \n",
       "21          [United States of America, United Kingdom]                 2   \n",
       "\n",
       "                 Best_Country  Best_Score  number_other_countries  \n",
       "308                   Germany    0.542762                       1  \n",
       "681  United States of America    0.089966                       0  \n",
       "388  United States of America    0.534324                       2  \n",
       "699            United Kingdom    0.651641                       1  \n",
       "689  United States of America    0.636024                       1  \n",
       "633  United States of America    0.076602                       0  \n",
       "860  United States of America    0.077723                       0  \n",
       "545            United Kingdom    0.711971                       4  \n",
       "701                     India    0.450880                       0  \n",
       "21             United Kingdom    0.664201                       1  "
      ]
     },
     "execution_count": 119,
     "metadata": {},
     "output_type": "execute_result"
    }
   ],
   "source": [
    "df_character_influence_nlp.sample(10)"
   ]
  },
  {
   "cell_type": "code",
   "execution_count": 12,
   "metadata": {},
   "outputs": [],
   "source": [
    "import pandas as pd\n",
    "import plotly.express as px\n",
    "import plotly.graph_objects as go\n",
    "from plotly.subplots import make_subplots"
   ]
  },
  {
   "cell_type": "code",
   "execution_count": 187,
   "metadata": {},
   "outputs": [
    {
     "data": {
      "text/html": [
       "<div>\n",
       "<style scoped>\n",
       "    .dataframe tbody tr th:only-of-type {\n",
       "        vertical-align: middle;\n",
       "    }\n",
       "\n",
       "    .dataframe tbody tr th {\n",
       "        vertical-align: top;\n",
       "    }\n",
       "\n",
       "    .dataframe thead th {\n",
       "        text-align: right;\n",
       "    }\n",
       "</style>\n",
       "<table border=\"1\" class=\"dataframe\">\n",
       "  <thead>\n",
       "    <tr style=\"text-align: right;\">\n",
       "      <th></th>\n",
       "      <th>cluster</th>\n",
       "      <th>character_actor_freebase_id</th>\n",
       "      <th>wiki_id</th>\n",
       "      <th>freebase_id_x</th>\n",
       "      <th>release_date_x</th>\n",
       "      <th>character</th>\n",
       "      <th>birth_date</th>\n",
       "      <th>gender</th>\n",
       "      <th>height</th>\n",
       "      <th>ethnicity_freebase_id</th>\n",
       "      <th>...</th>\n",
       "      <th>original_title</th>\n",
       "      <th>release_date_y</th>\n",
       "      <th>revenue</th>\n",
       "      <th>runtime</th>\n",
       "      <th>languages</th>\n",
       "      <th>countries</th>\n",
       "      <th>genres</th>\n",
       "      <th>countries_freebase_id</th>\n",
       "      <th>languages_freebase_id</th>\n",
       "      <th>genres_freebase_id</th>\n",
       "    </tr>\n",
       "  </thead>\n",
       "  <tbody>\n",
       "    <tr>\n",
       "      <th>0</th>\n",
       "      <td>Stuart Little</td>\n",
       "      <td>/m/0k3w9c</td>\n",
       "      <td>2394008</td>\n",
       "      <td>/m/078z_r</td>\n",
       "      <td>1999-12-05</td>\n",
       "      <td>Stuart Little</td>\n",
       "      <td>1961-06-09</td>\n",
       "      <td>M</td>\n",
       "      <td>1.63</td>\n",
       "      <td>/m/0g8_vp</td>\n",
       "      <td>...</td>\n",
       "      <td>Stuart Little</td>\n",
       "      <td>1999-12-05</td>\n",
       "      <td>300135367.0</td>\n",
       "      <td>81.0</td>\n",
       "      <td>['Dutch Language', 'English Language']</td>\n",
       "      <td>[United States of America, Germany]</td>\n",
       "      <td>['Adventure', \"Children's/Family\", 'Animal Pic...</td>\n",
       "      <td>['/m/09c7w0', '/m/0345h']</td>\n",
       "      <td>['/m/02bv9', '/m/02h40lc']</td>\n",
       "      <td>['/m/03k9fj', '/m/0hj3myq', '/m/0hj3mtj', '/m/...</td>\n",
       "    </tr>\n",
       "    <tr>\n",
       "      <th>1</th>\n",
       "      <td>Stuart Little</td>\n",
       "      <td>/m/0k3wcx</td>\n",
       "      <td>3885386</td>\n",
       "      <td>/m/0b51yw</td>\n",
       "      <td>2005-02-21</td>\n",
       "      <td>Stuart Little</td>\n",
       "      <td>1961-06-09</td>\n",
       "      <td>M</td>\n",
       "      <td>1.63</td>\n",
       "      <td>/m/0g8_vp</td>\n",
       "      <td>...</td>\n",
       "      <td>Stuart Little 3: Call of the Wild</td>\n",
       "      <td>2005-02-21</td>\n",
       "      <td>NaN</td>\n",
       "      <td>75.0</td>\n",
       "      <td>['English Language']</td>\n",
       "      <td>[United States of America]</td>\n",
       "      <td>['Fantasy Adventure', 'Adventure', \"Children's...</td>\n",
       "      <td>['/m/09c7w0']</td>\n",
       "      <td>['/m/02h40lc']</td>\n",
       "      <td>['/m/0hj3n2k', '/m/03k9fj', '/m/0hj3myq', '/m/...</td>\n",
       "    </tr>\n",
       "    <tr>\n",
       "      <th>2</th>\n",
       "      <td>Stuart Little</td>\n",
       "      <td>/m/0k3wbn</td>\n",
       "      <td>750694</td>\n",
       "      <td>/m/0386bw</td>\n",
       "      <td>2002-07-19</td>\n",
       "      <td>Stuart Little</td>\n",
       "      <td>1961-06-09</td>\n",
       "      <td>M</td>\n",
       "      <td>1.63</td>\n",
       "      <td>/m/0g8_vp</td>\n",
       "      <td>...</td>\n",
       "      <td>Stuart Little 2</td>\n",
       "      <td>2002-07-19</td>\n",
       "      <td>169956806.0</td>\n",
       "      <td>88.0</td>\n",
       "      <td>['English Language']</td>\n",
       "      <td>[United States of America]</td>\n",
       "      <td>['Fantasy Adventure', 'Adventure', \"Children's...</td>\n",
       "      <td>['/m/09c7w0']</td>\n",
       "      <td>['/m/02h40lc']</td>\n",
       "      <td>['/m/0hj3n2k', '/m/03k9fj', '/m/0hj3myq', '/m/...</td>\n",
       "    </tr>\n",
       "    <tr>\n",
       "      <th>3</th>\n",
       "      <td>John Doe</td>\n",
       "      <td>/m/0jyg35</td>\n",
       "      <td>2933385</td>\n",
       "      <td>/m/08dl83</td>\n",
       "      <td>1991-09-13</td>\n",
       "      <td>John Doe</td>\n",
       "      <td>NaN</td>\n",
       "      <td>M</td>\n",
       "      <td>NaN</td>\n",
       "      <td>NaN</td>\n",
       "      <td>...</td>\n",
       "      <td>Freddy's Dead: The Final Nightmare</td>\n",
       "      <td>1991-09-13</td>\n",
       "      <td>34872033.0</td>\n",
       "      <td>90.0</td>\n",
       "      <td>['English Language']</td>\n",
       "      <td>[United States of America]</td>\n",
       "      <td>['Cult', 'Horror', 'Slasher', 'Teen', 'Superna...</td>\n",
       "      <td>['/m/09c7w0']</td>\n",
       "      <td>['/m/02h40lc']</td>\n",
       "      <td>['/m/01q03', '/m/03npn', '/m/01585b', '/m/02b5...</td>\n",
       "    </tr>\n",
       "    <tr>\n",
       "      <th>4</th>\n",
       "      <td>John Doe</td>\n",
       "      <td>/m/0k2_zn</td>\n",
       "      <td>206818</td>\n",
       "      <td>/m/01dc0c</td>\n",
       "      <td>1995-09-22</td>\n",
       "      <td>John Doe</td>\n",
       "      <td>1959-07-26</td>\n",
       "      <td>M</td>\n",
       "      <td>1.79</td>\n",
       "      <td>NaN</td>\n",
       "      <td>...</td>\n",
       "      <td>Seven</td>\n",
       "      <td>1995-09-22</td>\n",
       "      <td>NaN</td>\n",
       "      <td>127.0</td>\n",
       "      <td>['English Language']</td>\n",
       "      <td>[United States of America]</td>\n",
       "      <td>['Thriller', 'Crime Fiction', 'Indie', 'Psycho...</td>\n",
       "      <td>['/m/09c7w0']</td>\n",
       "      <td>['/m/02h40lc']</td>\n",
       "      <td>['/m/01jfsb', '/m/0lsxr', '/m/0219x_', '/m/09b...</td>\n",
       "    </tr>\n",
       "  </tbody>\n",
       "</table>\n",
       "<p>5 rows × 25 columns</p>\n",
       "</div>"
      ],
      "text/plain": [
       "         cluster character_actor_freebase_id  wiki_id freebase_id_x  \\\n",
       "0  Stuart Little                   /m/0k3w9c  2394008     /m/078z_r   \n",
       "1  Stuart Little                   /m/0k3wcx  3885386     /m/0b51yw   \n",
       "2  Stuart Little                   /m/0k3wbn   750694     /m/0386bw   \n",
       "3       John Doe                   /m/0jyg35  2933385     /m/08dl83   \n",
       "4       John Doe                   /m/0k2_zn   206818     /m/01dc0c   \n",
       "\n",
       "  release_date_x      character  birth_date gender  height  \\\n",
       "0     1999-12-05  Stuart Little  1961-06-09      M    1.63   \n",
       "1     2005-02-21  Stuart Little  1961-06-09      M    1.63   \n",
       "2     2002-07-19  Stuart Little  1961-06-09      M    1.63   \n",
       "3     1991-09-13       John Doe         NaN      M     NaN   \n",
       "4     1995-09-22       John Doe  1959-07-26      M    1.79   \n",
       "\n",
       "  ethnicity_freebase_id  ...                      original_title  \\\n",
       "0             /m/0g8_vp  ...                       Stuart Little   \n",
       "1             /m/0g8_vp  ...   Stuart Little 3: Call of the Wild   \n",
       "2             /m/0g8_vp  ...                     Stuart Little 2   \n",
       "3                   NaN  ...  Freddy's Dead: The Final Nightmare   \n",
       "4                   NaN  ...                               Seven   \n",
       "\n",
       "   release_date_y      revenue runtime  \\\n",
       "0      1999-12-05  300135367.0    81.0   \n",
       "1      2005-02-21          NaN    75.0   \n",
       "2      2002-07-19  169956806.0    88.0   \n",
       "3      1991-09-13   34872033.0    90.0   \n",
       "4      1995-09-22          NaN   127.0   \n",
       "\n",
       "                                languages  \\\n",
       "0  ['Dutch Language', 'English Language']   \n",
       "1                    ['English Language']   \n",
       "2                    ['English Language']   \n",
       "3                    ['English Language']   \n",
       "4                    ['English Language']   \n",
       "\n",
       "                             countries  \\\n",
       "0  [United States of America, Germany]   \n",
       "1           [United States of America]   \n",
       "2           [United States of America]   \n",
       "3           [United States of America]   \n",
       "4           [United States of America]   \n",
       "\n",
       "                                              genres  \\\n",
       "0  ['Adventure', \"Children's/Family\", 'Animal Pic...   \n",
       "1  ['Fantasy Adventure', 'Adventure', \"Children's...   \n",
       "2  ['Fantasy Adventure', 'Adventure', \"Children's...   \n",
       "3  ['Cult', 'Horror', 'Slasher', 'Teen', 'Superna...   \n",
       "4  ['Thriller', 'Crime Fiction', 'Indie', 'Psycho...   \n",
       "\n",
       "       countries_freebase_id       languages_freebase_id  \\\n",
       "0  ['/m/09c7w0', '/m/0345h']  ['/m/02bv9', '/m/02h40lc']   \n",
       "1              ['/m/09c7w0']              ['/m/02h40lc']   \n",
       "2              ['/m/09c7w0']              ['/m/02h40lc']   \n",
       "3              ['/m/09c7w0']              ['/m/02h40lc']   \n",
       "4              ['/m/09c7w0']              ['/m/02h40lc']   \n",
       "\n",
       "                                  genres_freebase_id  \n",
       "0  ['/m/03k9fj', '/m/0hj3myq', '/m/0hj3mtj', '/m/...  \n",
       "1  ['/m/0hj3n2k', '/m/03k9fj', '/m/0hj3myq', '/m/...  \n",
       "2  ['/m/0hj3n2k', '/m/03k9fj', '/m/0hj3myq', '/m/...  \n",
       "3  ['/m/01q03', '/m/03npn', '/m/01585b', '/m/02b5...  \n",
       "4  ['/m/01jfsb', '/m/0lsxr', '/m/0219x_', '/m/09b...  \n",
       "\n",
       "[5 rows x 25 columns]"
      ]
     },
     "execution_count": 187,
     "metadata": {},
     "output_type": "execute_result"
    }
   ],
   "source": [
    "df_movies = pd.read_csv('data/cleanData/movies_cleaned.csv')\n",
    "df_characters = pd.read_csv('data/cleanData/characters_cleaned.csv')\n",
    "df_summary = pd.read_csv('data/cleanData/summaries_cleaned.csv')\n",
    "df_cluster = pd.read_csv('data/cleanData/character_clusters_cleaned.csv')\n",
    "    \n",
    "    # Merge the DataFrames df_cluster and df_characters on 'character_actor_freebase_id'\n",
    "df_character_cluster = pd.merge(df_cluster, df_characters, on='character_actor_freebase_id', how='inner')\n",
    "    \n",
    "    # Merge the previous DataFrame with df_movies\n",
    "df_character_influence = pd.merge(df_character_cluster, df_movies, on='wiki_id', how='inner')\n",
    "    \n",
    "    # Convert the 'countries' column to a list\n",
    "df_character_influence['countries'] = df_character_influence['countries'].apply(lambda x: ast.literal_eval(x) if isinstance(x, str) and x.startswith('[') else x)\n",
    "\n",
    "df_character_influence.head()"
   ]
  },
  {
   "cell_type": "code",
   "execution_count": 188,
   "metadata": {},
   "outputs": [
    {
     "data": {
      "text/html": [
       "<div>\n",
       "<style scoped>\n",
       "    .dataframe tbody tr th:only-of-type {\n",
       "        vertical-align: middle;\n",
       "    }\n",
       "\n",
       "    .dataframe tbody tr th {\n",
       "        vertical-align: top;\n",
       "    }\n",
       "\n",
       "    .dataframe thead th {\n",
       "        text-align: right;\n",
       "    }\n",
       "</style>\n",
       "<table border=\"1\" class=\"dataframe\">\n",
       "  <thead>\n",
       "    <tr style=\"text-align: right;\">\n",
       "      <th></th>\n",
       "      <th>cluster</th>\n",
       "      <th>release_year</th>\n",
       "      <th>original_title</th>\n",
       "      <th>countries</th>\n",
       "    </tr>\n",
       "  </thead>\n",
       "  <tbody>\n",
       "    <tr>\n",
       "      <th>0</th>\n",
       "      <td>Stuart Little</td>\n",
       "      <td>1999.0</td>\n",
       "      <td>Stuart Little</td>\n",
       "      <td>[United States of America, Germany]</td>\n",
       "    </tr>\n",
       "    <tr>\n",
       "      <th>1</th>\n",
       "      <td>Stuart Little</td>\n",
       "      <td>2005.0</td>\n",
       "      <td>Stuart Little 3: Call of the Wild</td>\n",
       "      <td>[United States of America]</td>\n",
       "    </tr>\n",
       "    <tr>\n",
       "      <th>2</th>\n",
       "      <td>Stuart Little</td>\n",
       "      <td>2002.0</td>\n",
       "      <td>Stuart Little 2</td>\n",
       "      <td>[United States of America]</td>\n",
       "    </tr>\n",
       "    <tr>\n",
       "      <th>3</th>\n",
       "      <td>John Doe</td>\n",
       "      <td>1991.0</td>\n",
       "      <td>Freddy's Dead: The Final Nightmare</td>\n",
       "      <td>[United States of America]</td>\n",
       "    </tr>\n",
       "    <tr>\n",
       "      <th>4</th>\n",
       "      <td>John Doe</td>\n",
       "      <td>1995.0</td>\n",
       "      <td>Seven</td>\n",
       "      <td>[United States of America]</td>\n",
       "    </tr>\n",
       "  </tbody>\n",
       "</table>\n",
       "</div>"
      ],
      "text/plain": [
       "         cluster  release_year                      original_title  \\\n",
       "0  Stuart Little        1999.0                       Stuart Little   \n",
       "1  Stuart Little        2005.0   Stuart Little 3: Call of the Wild   \n",
       "2  Stuart Little        2002.0                     Stuart Little 2   \n",
       "3       John Doe        1991.0  Freddy's Dead: The Final Nightmare   \n",
       "4       John Doe        1995.0                               Seven   \n",
       "\n",
       "                             countries  \n",
       "0  [United States of America, Germany]  \n",
       "1           [United States of America]  \n",
       "2           [United States of America]  \n",
       "3           [United States of America]  \n",
       "4           [United States of America]  "
      ]
     },
     "execution_count": 188,
     "metadata": {},
     "output_type": "execute_result"
    }
   ],
   "source": [
    "df_character_influence['release_date_x'] = pd.to_datetime(df_character_influence['release_date_x'])\n",
    "df_character_influence['release_year'] = df_character_influence['release_date_x'].dt.year\n",
    "df_character_influence = df_character_influence[['cluster','release_year','original_title','countries']]\n",
    "df_character_influence.head()"
   ]
  },
  {
   "cell_type": "code",
   "execution_count": 189,
   "metadata": {},
   "outputs": [
    {
     "data": {
      "text/html": [
       "<div>\n",
       "<style scoped>\n",
       "    .dataframe tbody tr th:only-of-type {\n",
       "        vertical-align: middle;\n",
       "    }\n",
       "\n",
       "    .dataframe tbody tr th {\n",
       "        vertical-align: top;\n",
       "    }\n",
       "\n",
       "    .dataframe thead th {\n",
       "        text-align: right;\n",
       "    }\n",
       "</style>\n",
       "<table border=\"1\" class=\"dataframe\">\n",
       "  <thead>\n",
       "    <tr style=\"text-align: right;\">\n",
       "      <th></th>\n",
       "      <th>original_title</th>\n",
       "      <th>Character</th>\n",
       "      <th>Best_Country</th>\n",
       "      <th>number_countries</th>\n",
       "      <th>release_year</th>\n",
       "      <th>countries</th>\n",
       "    </tr>\n",
       "  </thead>\n",
       "  <tbody>\n",
       "    <tr>\n",
       "      <th>0</th>\n",
       "      <td>Gypsy</td>\n",
       "      <td>'Baby' Louise</td>\n",
       "      <td>United States of America</td>\n",
       "      <td>1</td>\n",
       "      <td>1962.0</td>\n",
       "      <td>[United States of America]</td>\n",
       "    </tr>\n",
       "    <tr>\n",
       "      <th>1</th>\n",
       "      <td>Gypsy</td>\n",
       "      <td>'Baby' Louise</td>\n",
       "      <td>United States of America</td>\n",
       "      <td>1</td>\n",
       "      <td>1993.0</td>\n",
       "      <td>[United States of America]</td>\n",
       "    </tr>\n",
       "    <tr>\n",
       "      <th>2</th>\n",
       "      <td>Dhoom 2</td>\n",
       "      <td>ACP Jai Dixit</td>\n",
       "      <td>India</td>\n",
       "      <td>1</td>\n",
       "      <td>2006.0</td>\n",
       "      <td>[India]</td>\n",
       "    </tr>\n",
       "    <tr>\n",
       "      <th>3</th>\n",
       "      <td>Dhoom</td>\n",
       "      <td>ACP Jai Dixit</td>\n",
       "      <td>India</td>\n",
       "      <td>1</td>\n",
       "      <td>2004.0</td>\n",
       "      <td>[India]</td>\n",
       "    </tr>\n",
       "    <tr>\n",
       "      <th>4</th>\n",
       "      <td>National Treasure: Book of Secrets</td>\n",
       "      <td>Abigail Chase</td>\n",
       "      <td>United States of America</td>\n",
       "      <td>1</td>\n",
       "      <td>2007.0</td>\n",
       "      <td>[United States of America]</td>\n",
       "    </tr>\n",
       "  </tbody>\n",
       "</table>\n",
       "</div>"
      ],
      "text/plain": [
       "                       original_title      Character  \\\n",
       "0                               Gypsy  'Baby' Louise   \n",
       "1                               Gypsy  'Baby' Louise   \n",
       "2                             Dhoom 2  ACP Jai Dixit   \n",
       "3                               Dhoom  ACP Jai Dixit   \n",
       "4  National Treasure: Book of Secrets  Abigail Chase   \n",
       "\n",
       "               Best_Country  number_countries  release_year  \\\n",
       "0  United States of America                 1        1962.0   \n",
       "1  United States of America                 1        1993.0   \n",
       "2                     India                 1        2006.0   \n",
       "3                     India                 1        2004.0   \n",
       "4  United States of America                 1        2007.0   \n",
       "\n",
       "                    countries  \n",
       "0  [United States of America]  \n",
       "1  [United States of America]  \n",
       "2                     [India]  \n",
       "3                     [India]  \n",
       "4  [United States of America]  "
      ]
     },
     "execution_count": 189,
     "metadata": {},
     "output_type": "execute_result"
    }
   ],
   "source": [
    "df_character_test = pd.merge(df_character_influence_nlp,df_character_influence, left_on= 'Character', right_on= 'cluster' , how='inner')\n",
    "df_character_test = df_character_test[['original_title','Character','Best_Country','number_countries','release_year','countries']]\n",
    "df_character_test.head()"
   ]
  },
  {
   "cell_type": "code",
   "execution_count": 18,
   "metadata": {},
   "outputs": [
    {
     "data": {
      "text/plain": [
       "<module 'scriptculture' from 'c:\\\\Users\\\\Oscar\\\\Project ADA\\\\ada-2024-project-teamcsx24\\\\src/scripts\\\\scriptculture.py'>"
      ]
     },
     "execution_count": 18,
     "metadata": {},
     "output_type": "execute_result"
    }
   ],
   "source": [
    "import scriptculture\n",
    "reload(scriptculture)"
   ]
  },
  {
   "cell_type": "code",
   "execution_count": 19,
   "metadata": {},
   "outputs": [
    {
     "data": {
      "text/html": [
       "<div>\n",
       "<style scoped>\n",
       "    .dataframe tbody tr th:only-of-type {\n",
       "        vertical-align: middle;\n",
       "    }\n",
       "\n",
       "    .dataframe tbody tr th {\n",
       "        vertical-align: top;\n",
       "    }\n",
       "\n",
       "    .dataframe thead th {\n",
       "        text-align: right;\n",
       "    }\n",
       "</style>\n",
       "<table border=\"1\" class=\"dataframe\">\n",
       "  <thead>\n",
       "    <tr style=\"text-align: right;\">\n",
       "      <th></th>\n",
       "      <th>original_title</th>\n",
       "      <th>Character</th>\n",
       "      <th>Best_Country</th>\n",
       "      <th>number_countries</th>\n",
       "      <th>release_year</th>\n",
       "      <th>countries</th>\n",
       "      <th>new_countries</th>\n",
       "    </tr>\n",
       "  </thead>\n",
       "  <tbody>\n",
       "    <tr>\n",
       "      <th>0</th>\n",
       "      <td>Gypsy</td>\n",
       "      <td>'Baby' Louise</td>\n",
       "      <td>United States of America</td>\n",
       "      <td>1</td>\n",
       "      <td>1962.0</td>\n",
       "      <td>[United States of America]</td>\n",
       "      <td>0</td>\n",
       "    </tr>\n",
       "    <tr>\n",
       "      <th>1</th>\n",
       "      <td>Gypsy</td>\n",
       "      <td>'Baby' Louise</td>\n",
       "      <td>United States of America</td>\n",
       "      <td>1</td>\n",
       "      <td>1993.0</td>\n",
       "      <td>[United States of America]</td>\n",
       "      <td>0</td>\n",
       "    </tr>\n",
       "    <tr>\n",
       "      <th>3</th>\n",
       "      <td>Dhoom</td>\n",
       "      <td>ACP Jai Dixit</td>\n",
       "      <td>India</td>\n",
       "      <td>1</td>\n",
       "      <td>2004.0</td>\n",
       "      <td>[India]</td>\n",
       "      <td>0</td>\n",
       "    </tr>\n",
       "    <tr>\n",
       "      <th>2</th>\n",
       "      <td>Dhoom 2</td>\n",
       "      <td>ACP Jai Dixit</td>\n",
       "      <td>India</td>\n",
       "      <td>1</td>\n",
       "      <td>2006.0</td>\n",
       "      <td>[India]</td>\n",
       "      <td>0</td>\n",
       "    </tr>\n",
       "    <tr>\n",
       "      <th>5</th>\n",
       "      <td>National Treasure</td>\n",
       "      <td>Abigail Chase</td>\n",
       "      <td>United States of America</td>\n",
       "      <td>1</td>\n",
       "      <td>2004.0</td>\n",
       "      <td>[United States of America]</td>\n",
       "      <td>0</td>\n",
       "    </tr>\n",
       "  </tbody>\n",
       "</table>\n",
       "</div>"
      ],
      "text/plain": [
       "      original_title      Character              Best_Country  \\\n",
       "0              Gypsy  'Baby' Louise  United States of America   \n",
       "1              Gypsy  'Baby' Louise  United States of America   \n",
       "3              Dhoom  ACP Jai Dixit                     India   \n",
       "2            Dhoom 2  ACP Jai Dixit                     India   \n",
       "5  National Treasure  Abigail Chase  United States of America   \n",
       "\n",
       "   number_countries  release_year                   countries  new_countries  \n",
       "0                 1        1962.0  [United States of America]              0  \n",
       "1                 1        1993.0  [United States of America]              0  \n",
       "3                 1        2004.0                     [India]              0  \n",
       "2                 1        2006.0                     [India]              0  \n",
       "5                 1        2004.0  [United States of America]              0  "
      ]
     },
     "execution_count": 19,
     "metadata": {},
     "output_type": "execute_result"
    }
   ],
   "source": [
    "from scriptculture import process_character_nlp\n",
    "df_test = process_character_nlp()\n",
    "df_test.head()"
   ]
  },
  {
   "cell_type": "code",
   "execution_count": 192,
   "metadata": {},
   "outputs": [
    {
     "data": {
      "text/html": [
       "<div>\n",
       "<style scoped>\n",
       "    .dataframe tbody tr th:only-of-type {\n",
       "        vertical-align: middle;\n",
       "    }\n",
       "\n",
       "    .dataframe tbody tr th {\n",
       "        vertical-align: top;\n",
       "    }\n",
       "\n",
       "    .dataframe thead th {\n",
       "        text-align: right;\n",
       "    }\n",
       "</style>\n",
       "<table border=\"1\" class=\"dataframe\">\n",
       "  <thead>\n",
       "    <tr style=\"text-align: right;\">\n",
       "      <th></th>\n",
       "      <th>original_title</th>\n",
       "      <th>Character</th>\n",
       "      <th>Best_Country</th>\n",
       "      <th>number_countries</th>\n",
       "      <th>release_year</th>\n",
       "      <th>countries</th>\n",
       "      <th>new_countries</th>\n",
       "    </tr>\n",
       "  </thead>\n",
       "  <tbody>\n",
       "    <tr>\n",
       "      <th>0</th>\n",
       "      <td>Gypsy</td>\n",
       "      <td>'Baby' Louise</td>\n",
       "      <td>United States of America</td>\n",
       "      <td>1</td>\n",
       "      <td>1962.0</td>\n",
       "      <td>[United States of America]</td>\n",
       "      <td>0</td>\n",
       "    </tr>\n",
       "    <tr>\n",
       "      <th>1</th>\n",
       "      <td>Gypsy</td>\n",
       "      <td>'Baby' Louise</td>\n",
       "      <td>United States of America</td>\n",
       "      <td>1</td>\n",
       "      <td>1993.0</td>\n",
       "      <td>[United States of America]</td>\n",
       "      <td>0</td>\n",
       "    </tr>\n",
       "    <tr>\n",
       "      <th>3</th>\n",
       "      <td>Dhoom</td>\n",
       "      <td>ACP Jai Dixit</td>\n",
       "      <td>India</td>\n",
       "      <td>1</td>\n",
       "      <td>2004.0</td>\n",
       "      <td>[India]</td>\n",
       "      <td>0</td>\n",
       "    </tr>\n",
       "    <tr>\n",
       "      <th>2</th>\n",
       "      <td>Dhoom 2</td>\n",
       "      <td>ACP Jai Dixit</td>\n",
       "      <td>India</td>\n",
       "      <td>1</td>\n",
       "      <td>2006.0</td>\n",
       "      <td>[India]</td>\n",
       "      <td>0</td>\n",
       "    </tr>\n",
       "    <tr>\n",
       "      <th>5</th>\n",
       "      <td>National Treasure</td>\n",
       "      <td>Abigail Chase</td>\n",
       "      <td>United States of America</td>\n",
       "      <td>1</td>\n",
       "      <td>2004.0</td>\n",
       "      <td>[United States of America]</td>\n",
       "      <td>0</td>\n",
       "    </tr>\n",
       "    <tr>\n",
       "      <th>4</th>\n",
       "      <td>National Treasure: Book of Secrets</td>\n",
       "      <td>Abigail Chase</td>\n",
       "      <td>United States of America</td>\n",
       "      <td>1</td>\n",
       "      <td>2007.0</td>\n",
       "      <td>[United States of America]</td>\n",
       "      <td>0</td>\n",
       "    </tr>\n",
       "    <tr>\n",
       "      <th>7</th>\n",
       "      <td>Young Mr. Lincoln</td>\n",
       "      <td>Abraham Lincoln</td>\n",
       "      <td>United States of America</td>\n",
       "      <td>1</td>\n",
       "      <td>1939.0</td>\n",
       "      <td>[United States of America]</td>\n",
       "      <td>0</td>\n",
       "    </tr>\n",
       "    <tr>\n",
       "      <th>8</th>\n",
       "      <td>Abe Lincoln in Illinois</td>\n",
       "      <td>Abraham Lincoln</td>\n",
       "      <td>United States of America</td>\n",
       "      <td>1</td>\n",
       "      <td>1940.0</td>\n",
       "      <td>[United States of America]</td>\n",
       "      <td>0</td>\n",
       "    </tr>\n",
       "    <tr>\n",
       "      <th>6</th>\n",
       "      <td>Abraham Lincoln vs. Zombies</td>\n",
       "      <td>Abraham Lincoln</td>\n",
       "      <td>United States of America</td>\n",
       "      <td>1</td>\n",
       "      <td>2012.0</td>\n",
       "      <td>[United States of America]</td>\n",
       "      <td>0</td>\n",
       "    </tr>\n",
       "    <tr>\n",
       "      <th>17</th>\n",
       "      <td>Dracula</td>\n",
       "      <td>Abraham Van Helsing</td>\n",
       "      <td>United Kingdom</td>\n",
       "      <td>4</td>\n",
       "      <td>1931.0</td>\n",
       "      <td>[United States of America]</td>\n",
       "      <td>1</td>\n",
       "    </tr>\n",
       "    <tr>\n",
       "      <th>11</th>\n",
       "      <td>Dracula</td>\n",
       "      <td>Abraham Van Helsing</td>\n",
       "      <td>United Kingdom</td>\n",
       "      <td>4</td>\n",
       "      <td>1958.0</td>\n",
       "      <td>[United Kingdom]</td>\n",
       "      <td>0</td>\n",
       "    </tr>\n",
       "    <tr>\n",
       "      <th>12</th>\n",
       "      <td>The Brides of Dracula</td>\n",
       "      <td>Abraham Van Helsing</td>\n",
       "      <td>United Kingdom</td>\n",
       "      <td>4</td>\n",
       "      <td>1960.0</td>\n",
       "      <td>[United States of America, United Kingdom]</td>\n",
       "      <td>0</td>\n",
       "    </tr>\n",
       "    <tr>\n",
       "      <th>9</th>\n",
       "      <td>Count Dracula</td>\n",
       "      <td>Abraham Van Helsing</td>\n",
       "      <td>United Kingdom</td>\n",
       "      <td>4</td>\n",
       "      <td>1970.0</td>\n",
       "      <td>[Spain]</td>\n",
       "      <td>1</td>\n",
       "    </tr>\n",
       "    <tr>\n",
       "      <th>15</th>\n",
       "      <td>Dracula A.D.1972</td>\n",
       "      <td>Abraham Van Helsing</td>\n",
       "      <td>United Kingdom</td>\n",
       "      <td>4</td>\n",
       "      <td>1972.0</td>\n",
       "      <td>[United Kingdom]</td>\n",
       "      <td>0</td>\n",
       "    </tr>\n",
       "    <tr>\n",
       "      <th>13</th>\n",
       "      <td>Count Dracula</td>\n",
       "      <td>Abraham Van Helsing</td>\n",
       "      <td>United Kingdom</td>\n",
       "      <td>4</td>\n",
       "      <td>1977.0</td>\n",
       "      <td>[United Kingdom]</td>\n",
       "      <td>0</td>\n",
       "    </tr>\n",
       "    <tr>\n",
       "      <th>16</th>\n",
       "      <td>Dracula</td>\n",
       "      <td>Abraham Van Helsing</td>\n",
       "      <td>United Kingdom</td>\n",
       "      <td>4</td>\n",
       "      <td>1979.0</td>\n",
       "      <td>[United States of America, United Kingdom]</td>\n",
       "      <td>0</td>\n",
       "    </tr>\n",
       "    <tr>\n",
       "      <th>14</th>\n",
       "      <td>Bram Stoker's Dracula</td>\n",
       "      <td>Abraham Van Helsing</td>\n",
       "      <td>United Kingdom</td>\n",
       "      <td>4</td>\n",
       "      <td>1992.0</td>\n",
       "      <td>[United States of America]</td>\n",
       "      <td>0</td>\n",
       "    </tr>\n",
       "    <tr>\n",
       "      <th>18</th>\n",
       "      <td>Dracula: Dead and Loving It</td>\n",
       "      <td>Abraham Van Helsing</td>\n",
       "      <td>United Kingdom</td>\n",
       "      <td>4</td>\n",
       "      <td>1995.0</td>\n",
       "      <td>[France, United States of America]</td>\n",
       "      <td>1</td>\n",
       "    </tr>\n",
       "    <tr>\n",
       "      <th>10</th>\n",
       "      <td>Dracula</td>\n",
       "      <td>Abraham Van Helsing</td>\n",
       "      <td>United Kingdom</td>\n",
       "      <td>4</td>\n",
       "      <td>2007.0</td>\n",
       "      <td>[United Kingdom]</td>\n",
       "      <td>0</td>\n",
       "    </tr>\n",
       "    <tr>\n",
       "      <th>19</th>\n",
       "      <td>Ace Ventura: Pet Detective</td>\n",
       "      <td>Ace Ventura</td>\n",
       "      <td>United States of America</td>\n",
       "      <td>1</td>\n",
       "      <td>1994.0</td>\n",
       "      <td>[United States of America]</td>\n",
       "      <td>0</td>\n",
       "    </tr>\n",
       "    <tr>\n",
       "      <th>20</th>\n",
       "      <td>Ace Ventura: When Nature Calls</td>\n",
       "      <td>Ace Ventura</td>\n",
       "      <td>United States of America</td>\n",
       "      <td>1</td>\n",
       "      <td>1995.0</td>\n",
       "      <td>[United States of America]</td>\n",
       "      <td>0</td>\n",
       "    </tr>\n",
       "    <tr>\n",
       "      <th>24</th>\n",
       "      <td>Nazty Nuisance</td>\n",
       "      <td>Adolf Hitler</td>\n",
       "      <td>Germany</td>\n",
       "      <td>6</td>\n",
       "      <td>1943.0</td>\n",
       "      <td>[United States of America]</td>\n",
       "      <td>1</td>\n",
       "    </tr>\n",
       "    <tr>\n",
       "      <th>22</th>\n",
       "      <td>Max</td>\n",
       "      <td>Adolf Hitler</td>\n",
       "      <td>Germany</td>\n",
       "      <td>6</td>\n",
       "      <td>2002.0</td>\n",
       "      <td>[Canada, Hungary]</td>\n",
       "      <td>2</td>\n",
       "    </tr>\n",
       "    <tr>\n",
       "      <th>23</th>\n",
       "      <td>Der Untergang</td>\n",
       "      <td>Adolf Hitler</td>\n",
       "      <td>Germany</td>\n",
       "      <td>6</td>\n",
       "      <td>2004.0</td>\n",
       "      <td>[Austria, Italy, Germany]</td>\n",
       "      <td>2</td>\n",
       "    </tr>\n",
       "    <tr>\n",
       "      <th>21</th>\n",
       "      <td>Valkyrie</td>\n",
       "      <td>Adolf Hitler</td>\n",
       "      <td>Germany</td>\n",
       "      <td>6</td>\n",
       "      <td>2008.0</td>\n",
       "      <td>[United States of America, Germany]</td>\n",
       "      <td>0</td>\n",
       "    </tr>\n",
       "    <tr>\n",
       "      <th>26</th>\n",
       "      <td>Rocky</td>\n",
       "      <td>Adrian Pennino</td>\n",
       "      <td>United States of America</td>\n",
       "      <td>1</td>\n",
       "      <td>1976.0</td>\n",
       "      <td>[United States of America]</td>\n",
       "      <td>0</td>\n",
       "    </tr>\n",
       "    <tr>\n",
       "      <th>25</th>\n",
       "      <td>Rocky V</td>\n",
       "      <td>Adrian Pennino</td>\n",
       "      <td>United States of America</td>\n",
       "      <td>1</td>\n",
       "      <td>1990.0</td>\n",
       "      <td>[United States of America]</td>\n",
       "      <td>0</td>\n",
       "    </tr>\n",
       "    <tr>\n",
       "      <th>27</th>\n",
       "      <td>XXX</td>\n",
       "      <td>Agent Augustus Eugene Gibbons</td>\n",
       "      <td>United States of America</td>\n",
       "      <td>1</td>\n",
       "      <td>2002.0</td>\n",
       "      <td>[United States of America]</td>\n",
       "      <td>0</td>\n",
       "    </tr>\n",
       "    <tr>\n",
       "      <th>28</th>\n",
       "      <td>XXX: State of the Union / XXX: The Next Level</td>\n",
       "      <td>Agent Augustus Eugene Gibbons</td>\n",
       "      <td>United States of America</td>\n",
       "      <td>1</td>\n",
       "      <td>2005.0</td>\n",
       "      <td>[United States of America]</td>\n",
       "      <td>0</td>\n",
       "    </tr>\n",
       "    <tr>\n",
       "      <th>32</th>\n",
       "      <td>The Matrix</td>\n",
       "      <td>Agent Smith</td>\n",
       "      <td>United States of America</td>\n",
       "      <td>2</td>\n",
       "      <td>1999.0</td>\n",
       "      <td>[United States of America, Australia]</td>\n",
       "      <td>1</td>\n",
       "    </tr>\n",
       "  </tbody>\n",
       "</table>\n",
       "</div>"
      ],
      "text/plain": [
       "                                   original_title  \\\n",
       "0                                           Gypsy   \n",
       "1                                           Gypsy   \n",
       "3                                           Dhoom   \n",
       "2                                         Dhoom 2   \n",
       "5                               National Treasure   \n",
       "4              National Treasure: Book of Secrets   \n",
       "7                               Young Mr. Lincoln   \n",
       "8                         Abe Lincoln in Illinois   \n",
       "6                     Abraham Lincoln vs. Zombies   \n",
       "17                                        Dracula   \n",
       "11                                        Dracula   \n",
       "12                          The Brides of Dracula   \n",
       "9                                   Count Dracula   \n",
       "15                               Dracula A.D.1972   \n",
       "13                                  Count Dracula   \n",
       "16                                        Dracula   \n",
       "14                          Bram Stoker's Dracula   \n",
       "18                    Dracula: Dead and Loving It   \n",
       "10                                        Dracula   \n",
       "19                     Ace Ventura: Pet Detective   \n",
       "20                 Ace Ventura: When Nature Calls   \n",
       "24                                 Nazty Nuisance   \n",
       "22                                            Max   \n",
       "23                                  Der Untergang   \n",
       "21                                       Valkyrie   \n",
       "26                                          Rocky   \n",
       "25                                        Rocky V   \n",
       "27                                            XXX   \n",
       "28  XXX: State of the Union / XXX: The Next Level   \n",
       "32                                     The Matrix   \n",
       "\n",
       "                        Character              Best_Country  number_countries  \\\n",
       "0                   'Baby' Louise  United States of America                 1   \n",
       "1                   'Baby' Louise  United States of America                 1   \n",
       "3                   ACP Jai Dixit                     India                 1   \n",
       "2                   ACP Jai Dixit                     India                 1   \n",
       "5                   Abigail Chase  United States of America                 1   \n",
       "4                   Abigail Chase  United States of America                 1   \n",
       "7                 Abraham Lincoln  United States of America                 1   \n",
       "8                 Abraham Lincoln  United States of America                 1   \n",
       "6                 Abraham Lincoln  United States of America                 1   \n",
       "17            Abraham Van Helsing            United Kingdom                 4   \n",
       "11            Abraham Van Helsing            United Kingdom                 4   \n",
       "12            Abraham Van Helsing            United Kingdom                 4   \n",
       "9             Abraham Van Helsing            United Kingdom                 4   \n",
       "15            Abraham Van Helsing            United Kingdom                 4   \n",
       "13            Abraham Van Helsing            United Kingdom                 4   \n",
       "16            Abraham Van Helsing            United Kingdom                 4   \n",
       "14            Abraham Van Helsing            United Kingdom                 4   \n",
       "18            Abraham Van Helsing            United Kingdom                 4   \n",
       "10            Abraham Van Helsing            United Kingdom                 4   \n",
       "19                    Ace Ventura  United States of America                 1   \n",
       "20                    Ace Ventura  United States of America                 1   \n",
       "24                   Adolf Hitler                   Germany                 6   \n",
       "22                   Adolf Hitler                   Germany                 6   \n",
       "23                   Adolf Hitler                   Germany                 6   \n",
       "21                   Adolf Hitler                   Germany                 6   \n",
       "26                 Adrian Pennino  United States of America                 1   \n",
       "25                 Adrian Pennino  United States of America                 1   \n",
       "27  Agent Augustus Eugene Gibbons  United States of America                 1   \n",
       "28  Agent Augustus Eugene Gibbons  United States of America                 1   \n",
       "32                    Agent Smith  United States of America                 2   \n",
       "\n",
       "    release_year                                   countries  new_countries  \n",
       "0         1962.0                  [United States of America]              0  \n",
       "1         1993.0                  [United States of America]              0  \n",
       "3         2004.0                                     [India]              0  \n",
       "2         2006.0                                     [India]              0  \n",
       "5         2004.0                  [United States of America]              0  \n",
       "4         2007.0                  [United States of America]              0  \n",
       "7         1939.0                  [United States of America]              0  \n",
       "8         1940.0                  [United States of America]              0  \n",
       "6         2012.0                  [United States of America]              0  \n",
       "17        1931.0                  [United States of America]              1  \n",
       "11        1958.0                            [United Kingdom]              0  \n",
       "12        1960.0  [United States of America, United Kingdom]              0  \n",
       "9         1970.0                                     [Spain]              1  \n",
       "15        1972.0                            [United Kingdom]              0  \n",
       "13        1977.0                            [United Kingdom]              0  \n",
       "16        1979.0  [United States of America, United Kingdom]              0  \n",
       "14        1992.0                  [United States of America]              0  \n",
       "18        1995.0          [France, United States of America]              1  \n",
       "10        2007.0                            [United Kingdom]              0  \n",
       "19        1994.0                  [United States of America]              0  \n",
       "20        1995.0                  [United States of America]              0  \n",
       "24        1943.0                  [United States of America]              1  \n",
       "22        2002.0                           [Canada, Hungary]              2  \n",
       "23        2004.0                   [Austria, Italy, Germany]              2  \n",
       "21        2008.0         [United States of America, Germany]              0  \n",
       "26        1976.0                  [United States of America]              0  \n",
       "25        1990.0                  [United States of America]              0  \n",
       "27        2002.0                  [United States of America]              0  \n",
       "28        2005.0                  [United States of America]              0  \n",
       "32        1999.0       [United States of America, Australia]              1  "
      ]
     },
     "execution_count": 192,
     "metadata": {},
     "output_type": "execute_result"
    }
   ],
   "source": [
    "df_character_test.head(30)"
   ]
  },
  {
   "cell_type": "code",
   "execution_count": 20,
   "metadata": {},
   "outputs": [
    {
     "name": "stdout",
     "output_type": "stream",
     "text": [
      "      release_year    Best_Country  tot\n",
      "0             1910  United Kingdom    1\n",
      "1             1911  United Kingdom    1\n",
      "2             1912  United Kingdom    1\n",
      "3             1913  United Kingdom    1\n",
      "4             1914  United Kingdom    1\n",
      "...            ...             ...  ...\n",
      "2318          2006           Spain    1\n",
      "2319          2007           Spain    1\n",
      "2320          2008           Spain    1\n",
      "2321          2009           Spain    1\n",
      "2322          2010           Spain    1\n",
      "\n",
      "[2323 rows x 3 columns]\n"
     ]
    }
   ],
   "source": [
    "import pandas as pd\n",
    "\n",
    "def create_cumulative_df_2(df):\n",
    "    # Créer une liste de toutes les années de 1910 à 2010\n",
    "    years = list(range(1910, 2011))\n",
    "\n",
    "    # Créer une liste vide pour stocker les nouvelles lignes\n",
    "    rows = []\n",
    "\n",
    "    # Pour chaque pays unique\n",
    "    for country in df['Best_Country'].unique():\n",
    "        # Filtrer les données pour chaque pays\n",
    "        country_data = df[df['Best_Country'] == country]\n",
    "        \n",
    "        # Initialiser un total cumulé à 0\n",
    "        cumulative_total = 0\n",
    "        \n",
    "        # Pour chaque année de 1910 à 2010\n",
    "        for year in years:\n",
    "            # Si l'année existe pour ce pays, ajouter le nombre de films produits\n",
    "            if year in country_data['release_year'].values:\n",
    "                cumulative_total += country_data[country_data['release_year'] == year]['new_countries'].sum()\n",
    "            \n",
    "            # Ajouter la ligne au tableau avec l'année, le pays et le total cumulé\n",
    "            rows.append({'release_year': year, 'Best_Country': country, 'tot': cumulative_total})\n",
    "    \n",
    "    # Convertir la liste en DataFrame\n",
    "    cumulative_df = pd.DataFrame(rows)\n",
    "    \n",
    "    return cumulative_df\n",
    "\n",
    "# Créer le DataFrame cumulatif\n",
    "cumulative_df_2 = create_cumulative_df_2(df_test[df_test['number_countries'] > 1])\n",
    "\n",
    "# Afficher le résultat\n",
    "print(cumulative_df_2)"
   ]
  },
  {
   "cell_type": "code",
   "execution_count": 21,
   "metadata": {},
   "outputs": [],
   "source": [
    "cumulative_df_2 = cumulative_df_2.sort_values(by=['release_year', 'tot'], ascending=[True, False])\n",
    "top_10_df_2 = cumulative_df_2.groupby('release_year').head(10)\n",
    "\n",
    "# Trier les 10 premiers pays pour chaque année (décroissant par `tot`)\n",
    "top_10_df_2 = top_10_df_2.sort_values(by=['release_year', 'tot'], ascending=[True, True])\n"
   ]
  },
  {
   "cell_type": "code",
   "execution_count": 22,
   "metadata": {},
   "outputs": [
    {
     "data": {
      "application/vnd.plotly.v1+json": {
       "config": {
        "plotlyServerURL": "https://plot.ly"
       },
       "data": [
        {
         "alignmentgroup": "True",
         "hovertemplate": "Pays=%{y}<br>release_year=1910<br>Nombre cumulé de films=%{x}<extra></extra>",
         "legendgroup": "Germany",
         "marker": {
          "color": "#636efa",
          "pattern": {
           "shape": ""
          }
         },
         "name": "Germany",
         "offsetgroup": "Germany",
         "orientation": "h",
         "showlegend": true,
         "textposition": "auto",
         "type": "bar",
         "x": [
          0
         ],
         "xaxis": "x",
         "y": [
          "Germany"
         ],
         "yaxis": "y"
        },
        {
         "alignmentgroup": "True",
         "hovertemplate": "Pays=%{y}<br>release_year=1910<br>Nombre cumulé de films=%{x}<extra></extra>",
         "legendgroup": "United States of America",
         "marker": {
          "color": "#EF553B",
          "pattern": {
           "shape": ""
          }
         },
         "name": "United States of America",
         "offsetgroup": "United States of America",
         "orientation": "h",
         "showlegend": true,
         "textposition": "auto",
         "type": "bar",
         "x": [
          0
         ],
         "xaxis": "x",
         "y": [
          "United States of America"
         ],
         "yaxis": "y"
        },
        {
         "alignmentgroup": "True",
         "hovertemplate": "Pays=%{y}<br>release_year=1910<br>Nombre cumulé de films=%{x}<extra></extra>",
         "legendgroup": "Brazil",
         "marker": {
          "color": "#00cc96",
          "pattern": {
           "shape": ""
          }
         },
         "name": "Brazil",
         "offsetgroup": "Brazil",
         "orientation": "h",
         "showlegend": true,
         "textposition": "auto",
         "type": "bar",
         "x": [
          0
         ],
         "xaxis": "x",
         "y": [
          "Brazil"
         ],
         "yaxis": "y"
        },
        {
         "alignmentgroup": "True",
         "hovertemplate": "Pays=%{y}<br>release_year=1910<br>Nombre cumulé de films=%{x}<extra></extra>",
         "legendgroup": "Netherlands",
         "marker": {
          "color": "#ab63fa",
          "pattern": {
           "shape": ""
          }
         },
         "name": "Netherlands",
         "offsetgroup": "Netherlands",
         "orientation": "h",
         "showlegend": true,
         "textposition": "auto",
         "type": "bar",
         "x": [
          0
         ],
         "xaxis": "x",
         "y": [
          "Netherlands"
         ],
         "yaxis": "y"
        },
        {
         "alignmentgroup": "True",
         "hovertemplate": "Pays=%{y}<br>release_year=1910<br>Nombre cumulé de films=%{x}<extra></extra>",
         "legendgroup": "Canada",
         "marker": {
          "color": "#FFA15A",
          "pattern": {
           "shape": ""
          }
         },
         "name": "Canada",
         "offsetgroup": "Canada",
         "orientation": "h",
         "showlegend": true,
         "textposition": "auto",
         "type": "bar",
         "x": [
          0
         ],
         "xaxis": "x",
         "y": [
          "Canada"
         ],
         "yaxis": "y"
        },
        {
         "alignmentgroup": "True",
         "hovertemplate": "Pays=%{y}<br>release_year=1910<br>Nombre cumulé de films=%{x}<extra></extra>",
         "legendgroup": "France",
         "marker": {
          "color": "#19d3f3",
          "pattern": {
           "shape": ""
          }
         },
         "name": "France",
         "offsetgroup": "France",
         "orientation": "h",
         "showlegend": true,
         "textposition": "auto",
         "type": "bar",
         "x": [
          0
         ],
         "xaxis": "x",
         "y": [
          "France"
         ],
         "yaxis": "y"
        },
        {
         "alignmentgroup": "True",
         "hovertemplate": "Pays=%{y}<br>release_year=1910<br>Nombre cumulé de films=%{x}<extra></extra>",
         "legendgroup": "Czech Republic",
         "marker": {
          "color": "#FF6692",
          "pattern": {
           "shape": ""
          }
         },
         "name": "Czech Republic",
         "offsetgroup": "Czech Republic",
         "orientation": "h",
         "showlegend": true,
         "textposition": "auto",
         "type": "bar",
         "x": [
          0
         ],
         "xaxis": "x",
         "y": [
          "Czech Republic"
         ],
         "yaxis": "y"
        },
        {
         "alignmentgroup": "True",
         "hovertemplate": "Pays=%{y}<br>release_year=1910<br>Nombre cumulé de films=%{x}<extra></extra>",
         "legendgroup": "Hong Kong",
         "marker": {
          "color": "#B6E880",
          "pattern": {
           "shape": ""
          }
         },
         "name": "Hong Kong",
         "offsetgroup": "Hong Kong",
         "orientation": "h",
         "showlegend": true,
         "textposition": "auto",
         "type": "bar",
         "x": [
          0
         ],
         "xaxis": "x",
         "y": [
          "Hong Kong"
         ],
         "yaxis": "y"
        },
        {
         "alignmentgroup": "True",
         "hovertemplate": "Pays=%{y}<br>release_year=1910<br>Nombre cumulé de films=%{x}<extra></extra>",
         "legendgroup": "West Germany",
         "marker": {
          "color": "#FF97FF",
          "pattern": {
           "shape": ""
          }
         },
         "name": "West Germany",
         "offsetgroup": "West Germany",
         "orientation": "h",
         "showlegend": true,
         "textposition": "auto",
         "type": "bar",
         "x": [
          0
         ],
         "xaxis": "x",
         "y": [
          "West Germany"
         ],
         "yaxis": "y"
        },
        {
         "alignmentgroup": "True",
         "hovertemplate": "Pays=%{y}<br>release_year=1910<br>Nombre cumulé de films=%{x}<extra></extra>",
         "legendgroup": "United Kingdom",
         "marker": {
          "color": "#FECB52",
          "pattern": {
           "shape": ""
          }
         },
         "name": "United Kingdom",
         "offsetgroup": "United Kingdom",
         "orientation": "h",
         "showlegend": true,
         "textposition": "auto",
         "type": "bar",
         "x": [
          1
         ],
         "xaxis": "x",
         "y": [
          "United Kingdom"
         ],
         "yaxis": "y"
        }
       ],
       "frames": [
        {
         "data": [
          {
           "alignmentgroup": "True",
           "hovertemplate": "Pays=%{y}<br>release_year=1910<br>Nombre cumulé de films=%{x}<extra></extra>",
           "legendgroup": "Germany",
           "marker": {
            "color": "#636efa",
            "pattern": {
             "shape": ""
            }
           },
           "name": "Germany",
           "offsetgroup": "Germany",
           "orientation": "h",
           "showlegend": true,
           "textposition": "auto",
           "type": "bar",
           "x": [
            0
           ],
           "xaxis": "x",
           "y": [
            "Germany"
           ],
           "yaxis": "y"
          },
          {
           "alignmentgroup": "True",
           "hovertemplate": "Pays=%{y}<br>release_year=1910<br>Nombre cumulé de films=%{x}<extra></extra>",
           "legendgroup": "United States of America",
           "marker": {
            "color": "#EF553B",
            "pattern": {
             "shape": ""
            }
           },
           "name": "United States of America",
           "offsetgroup": "United States of America",
           "orientation": "h",
           "showlegend": true,
           "textposition": "auto",
           "type": "bar",
           "x": [
            0
           ],
           "xaxis": "x",
           "y": [
            "United States of America"
           ],
           "yaxis": "y"
          },
          {
           "alignmentgroup": "True",
           "hovertemplate": "Pays=%{y}<br>release_year=1910<br>Nombre cumulé de films=%{x}<extra></extra>",
           "legendgroup": "Brazil",
           "marker": {
            "color": "#00cc96",
            "pattern": {
             "shape": ""
            }
           },
           "name": "Brazil",
           "offsetgroup": "Brazil",
           "orientation": "h",
           "showlegend": true,
           "textposition": "auto",
           "type": "bar",
           "x": [
            0
           ],
           "xaxis": "x",
           "y": [
            "Brazil"
           ],
           "yaxis": "y"
          },
          {
           "alignmentgroup": "True",
           "hovertemplate": "Pays=%{y}<br>release_year=1910<br>Nombre cumulé de films=%{x}<extra></extra>",
           "legendgroup": "Netherlands",
           "marker": {
            "color": "#ab63fa",
            "pattern": {
             "shape": ""
            }
           },
           "name": "Netherlands",
           "offsetgroup": "Netherlands",
           "orientation": "h",
           "showlegend": true,
           "textposition": "auto",
           "type": "bar",
           "x": [
            0
           ],
           "xaxis": "x",
           "y": [
            "Netherlands"
           ],
           "yaxis": "y"
          },
          {
           "alignmentgroup": "True",
           "hovertemplate": "Pays=%{y}<br>release_year=1910<br>Nombre cumulé de films=%{x}<extra></extra>",
           "legendgroup": "Canada",
           "marker": {
            "color": "#FFA15A",
            "pattern": {
             "shape": ""
            }
           },
           "name": "Canada",
           "offsetgroup": "Canada",
           "orientation": "h",
           "showlegend": true,
           "textposition": "auto",
           "type": "bar",
           "x": [
            0
           ],
           "xaxis": "x",
           "y": [
            "Canada"
           ],
           "yaxis": "y"
          },
          {
           "alignmentgroup": "True",
           "hovertemplate": "Pays=%{y}<br>release_year=1910<br>Nombre cumulé de films=%{x}<extra></extra>",
           "legendgroup": "France",
           "marker": {
            "color": "#19d3f3",
            "pattern": {
             "shape": ""
            }
           },
           "name": "France",
           "offsetgroup": "France",
           "orientation": "h",
           "showlegend": true,
           "textposition": "auto",
           "type": "bar",
           "x": [
            0
           ],
           "xaxis": "x",
           "y": [
            "France"
           ],
           "yaxis": "y"
          },
          {
           "alignmentgroup": "True",
           "hovertemplate": "Pays=%{y}<br>release_year=1910<br>Nombre cumulé de films=%{x}<extra></extra>",
           "legendgroup": "Czech Republic",
           "marker": {
            "color": "#FF6692",
            "pattern": {
             "shape": ""
            }
           },
           "name": "Czech Republic",
           "offsetgroup": "Czech Republic",
           "orientation": "h",
           "showlegend": true,
           "textposition": "auto",
           "type": "bar",
           "x": [
            0
           ],
           "xaxis": "x",
           "y": [
            "Czech Republic"
           ],
           "yaxis": "y"
          },
          {
           "alignmentgroup": "True",
           "hovertemplate": "Pays=%{y}<br>release_year=1910<br>Nombre cumulé de films=%{x}<extra></extra>",
           "legendgroup": "Hong Kong",
           "marker": {
            "color": "#B6E880",
            "pattern": {
             "shape": ""
            }
           },
           "name": "Hong Kong",
           "offsetgroup": "Hong Kong",
           "orientation": "h",
           "showlegend": true,
           "textposition": "auto",
           "type": "bar",
           "x": [
            0
           ],
           "xaxis": "x",
           "y": [
            "Hong Kong"
           ],
           "yaxis": "y"
          },
          {
           "alignmentgroup": "True",
           "hovertemplate": "Pays=%{y}<br>release_year=1910<br>Nombre cumulé de films=%{x}<extra></extra>",
           "legendgroup": "West Germany",
           "marker": {
            "color": "#FF97FF",
            "pattern": {
             "shape": ""
            }
           },
           "name": "West Germany",
           "offsetgroup": "West Germany",
           "orientation": "h",
           "showlegend": true,
           "textposition": "auto",
           "type": "bar",
           "x": [
            0
           ],
           "xaxis": "x",
           "y": [
            "West Germany"
           ],
           "yaxis": "y"
          },
          {
           "alignmentgroup": "True",
           "hovertemplate": "Pays=%{y}<br>release_year=1910<br>Nombre cumulé de films=%{x}<extra></extra>",
           "legendgroup": "United Kingdom",
           "marker": {
            "color": "#FECB52",
            "pattern": {
             "shape": ""
            }
           },
           "name": "United Kingdom",
           "offsetgroup": "United Kingdom",
           "orientation": "h",
           "showlegend": true,
           "textposition": "auto",
           "type": "bar",
           "x": [
            1
           ],
           "xaxis": "x",
           "y": [
            "United Kingdom"
           ],
           "yaxis": "y"
          }
         ],
         "name": "1910"
        },
        {
         "data": [
          {
           "alignmentgroup": "True",
           "hovertemplate": "Pays=%{y}<br>release_year=1911<br>Nombre cumulé de films=%{x}<extra></extra>",
           "legendgroup": "Germany",
           "marker": {
            "color": "#636efa",
            "pattern": {
             "shape": ""
            }
           },
           "name": "Germany",
           "offsetgroup": "Germany",
           "orientation": "h",
           "showlegend": true,
           "textposition": "auto",
           "type": "bar",
           "x": [
            0
           ],
           "xaxis": "x",
           "y": [
            "Germany"
           ],
           "yaxis": "y"
          },
          {
           "alignmentgroup": "True",
           "hovertemplate": "Pays=%{y}<br>release_year=1911<br>Nombre cumulé de films=%{x}<extra></extra>",
           "legendgroup": "United States of America",
           "marker": {
            "color": "#EF553B",
            "pattern": {
             "shape": ""
            }
           },
           "name": "United States of America",
           "offsetgroup": "United States of America",
           "orientation": "h",
           "showlegend": true,
           "textposition": "auto",
           "type": "bar",
           "x": [
            0
           ],
           "xaxis": "x",
           "y": [
            "United States of America"
           ],
           "yaxis": "y"
          },
          {
           "alignmentgroup": "True",
           "hovertemplate": "Pays=%{y}<br>release_year=1911<br>Nombre cumulé de films=%{x}<extra></extra>",
           "legendgroup": "Brazil",
           "marker": {
            "color": "#00cc96",
            "pattern": {
             "shape": ""
            }
           },
           "name": "Brazil",
           "offsetgroup": "Brazil",
           "orientation": "h",
           "showlegend": true,
           "textposition": "auto",
           "type": "bar",
           "x": [
            0
           ],
           "xaxis": "x",
           "y": [
            "Brazil"
           ],
           "yaxis": "y"
          },
          {
           "alignmentgroup": "True",
           "hovertemplate": "Pays=%{y}<br>release_year=1911<br>Nombre cumulé de films=%{x}<extra></extra>",
           "legendgroup": "Netherlands",
           "marker": {
            "color": "#ab63fa",
            "pattern": {
             "shape": ""
            }
           },
           "name": "Netherlands",
           "offsetgroup": "Netherlands",
           "orientation": "h",
           "showlegend": true,
           "textposition": "auto",
           "type": "bar",
           "x": [
            0
           ],
           "xaxis": "x",
           "y": [
            "Netherlands"
           ],
           "yaxis": "y"
          },
          {
           "alignmentgroup": "True",
           "hovertemplate": "Pays=%{y}<br>release_year=1911<br>Nombre cumulé de films=%{x}<extra></extra>",
           "legendgroup": "Canada",
           "marker": {
            "color": "#FFA15A",
            "pattern": {
             "shape": ""
            }
           },
           "name": "Canada",
           "offsetgroup": "Canada",
           "orientation": "h",
           "showlegend": true,
           "textposition": "auto",
           "type": "bar",
           "x": [
            0
           ],
           "xaxis": "x",
           "y": [
            "Canada"
           ],
           "yaxis": "y"
          },
          {
           "alignmentgroup": "True",
           "hovertemplate": "Pays=%{y}<br>release_year=1911<br>Nombre cumulé de films=%{x}<extra></extra>",
           "legendgroup": "France",
           "marker": {
            "color": "#19d3f3",
            "pattern": {
             "shape": ""
            }
           },
           "name": "France",
           "offsetgroup": "France",
           "orientation": "h",
           "showlegend": true,
           "textposition": "auto",
           "type": "bar",
           "x": [
            0
           ],
           "xaxis": "x",
           "y": [
            "France"
           ],
           "yaxis": "y"
          },
          {
           "alignmentgroup": "True",
           "hovertemplate": "Pays=%{y}<br>release_year=1911<br>Nombre cumulé de films=%{x}<extra></extra>",
           "legendgroup": "Czech Republic",
           "marker": {
            "color": "#FF6692",
            "pattern": {
             "shape": ""
            }
           },
           "name": "Czech Republic",
           "offsetgroup": "Czech Republic",
           "orientation": "h",
           "showlegend": true,
           "textposition": "auto",
           "type": "bar",
           "x": [
            0
           ],
           "xaxis": "x",
           "y": [
            "Czech Republic"
           ],
           "yaxis": "y"
          },
          {
           "alignmentgroup": "True",
           "hovertemplate": "Pays=%{y}<br>release_year=1911<br>Nombre cumulé de films=%{x}<extra></extra>",
           "legendgroup": "Hong Kong",
           "marker": {
            "color": "#B6E880",
            "pattern": {
             "shape": ""
            }
           },
           "name": "Hong Kong",
           "offsetgroup": "Hong Kong",
           "orientation": "h",
           "showlegend": true,
           "textposition": "auto",
           "type": "bar",
           "x": [
            0
           ],
           "xaxis": "x",
           "y": [
            "Hong Kong"
           ],
           "yaxis": "y"
          },
          {
           "alignmentgroup": "True",
           "hovertemplate": "Pays=%{y}<br>release_year=1911<br>Nombre cumulé de films=%{x}<extra></extra>",
           "legendgroup": "West Germany",
           "marker": {
            "color": "#FF97FF",
            "pattern": {
             "shape": ""
            }
           },
           "name": "West Germany",
           "offsetgroup": "West Germany",
           "orientation": "h",
           "showlegend": true,
           "textposition": "auto",
           "type": "bar",
           "x": [
            0
           ],
           "xaxis": "x",
           "y": [
            "West Germany"
           ],
           "yaxis": "y"
          },
          {
           "alignmentgroup": "True",
           "hovertemplate": "Pays=%{y}<br>release_year=1911<br>Nombre cumulé de films=%{x}<extra></extra>",
           "legendgroup": "United Kingdom",
           "marker": {
            "color": "#FECB52",
            "pattern": {
             "shape": ""
            }
           },
           "name": "United Kingdom",
           "offsetgroup": "United Kingdom",
           "orientation": "h",
           "showlegend": true,
           "textposition": "auto",
           "type": "bar",
           "x": [
            1
           ],
           "xaxis": "x",
           "y": [
            "United Kingdom"
           ],
           "yaxis": "y"
          }
         ],
         "name": "1911"
        },
        {
         "data": [
          {
           "alignmentgroup": "True",
           "hovertemplate": "Pays=%{y}<br>release_year=1912<br>Nombre cumulé de films=%{x}<extra></extra>",
           "legendgroup": "Germany",
           "marker": {
            "color": "#636efa",
            "pattern": {
             "shape": ""
            }
           },
           "name": "Germany",
           "offsetgroup": "Germany",
           "orientation": "h",
           "showlegend": true,
           "textposition": "auto",
           "type": "bar",
           "x": [
            0
           ],
           "xaxis": "x",
           "y": [
            "Germany"
           ],
           "yaxis": "y"
          },
          {
           "alignmentgroup": "True",
           "hovertemplate": "Pays=%{y}<br>release_year=1912<br>Nombre cumulé de films=%{x}<extra></extra>",
           "legendgroup": "United States of America",
           "marker": {
            "color": "#EF553B",
            "pattern": {
             "shape": ""
            }
           },
           "name": "United States of America",
           "offsetgroup": "United States of America",
           "orientation": "h",
           "showlegend": true,
           "textposition": "auto",
           "type": "bar",
           "x": [
            0
           ],
           "xaxis": "x",
           "y": [
            "United States of America"
           ],
           "yaxis": "y"
          },
          {
           "alignmentgroup": "True",
           "hovertemplate": "Pays=%{y}<br>release_year=1912<br>Nombre cumulé de films=%{x}<extra></extra>",
           "legendgroup": "Brazil",
           "marker": {
            "color": "#00cc96",
            "pattern": {
             "shape": ""
            }
           },
           "name": "Brazil",
           "offsetgroup": "Brazil",
           "orientation": "h",
           "showlegend": true,
           "textposition": "auto",
           "type": "bar",
           "x": [
            0
           ],
           "xaxis": "x",
           "y": [
            "Brazil"
           ],
           "yaxis": "y"
          },
          {
           "alignmentgroup": "True",
           "hovertemplate": "Pays=%{y}<br>release_year=1912<br>Nombre cumulé de films=%{x}<extra></extra>",
           "legendgroup": "Netherlands",
           "marker": {
            "color": "#ab63fa",
            "pattern": {
             "shape": ""
            }
           },
           "name": "Netherlands",
           "offsetgroup": "Netherlands",
           "orientation": "h",
           "showlegend": true,
           "textposition": "auto",
           "type": "bar",
           "x": [
            0
           ],
           "xaxis": "x",
           "y": [
            "Netherlands"
           ],
           "yaxis": "y"
          },
          {
           "alignmentgroup": "True",
           "hovertemplate": "Pays=%{y}<br>release_year=1912<br>Nombre cumulé de films=%{x}<extra></extra>",
           "legendgroup": "Canada",
           "marker": {
            "color": "#FFA15A",
            "pattern": {
             "shape": ""
            }
           },
           "name": "Canada",
           "offsetgroup": "Canada",
           "orientation": "h",
           "showlegend": true,
           "textposition": "auto",
           "type": "bar",
           "x": [
            0
           ],
           "xaxis": "x",
           "y": [
            "Canada"
           ],
           "yaxis": "y"
          },
          {
           "alignmentgroup": "True",
           "hovertemplate": "Pays=%{y}<br>release_year=1912<br>Nombre cumulé de films=%{x}<extra></extra>",
           "legendgroup": "France",
           "marker": {
            "color": "#19d3f3",
            "pattern": {
             "shape": ""
            }
           },
           "name": "France",
           "offsetgroup": "France",
           "orientation": "h",
           "showlegend": true,
           "textposition": "auto",
           "type": "bar",
           "x": [
            0
           ],
           "xaxis": "x",
           "y": [
            "France"
           ],
           "yaxis": "y"
          },
          {
           "alignmentgroup": "True",
           "hovertemplate": "Pays=%{y}<br>release_year=1912<br>Nombre cumulé de films=%{x}<extra></extra>",
           "legendgroup": "Czech Republic",
           "marker": {
            "color": "#FF6692",
            "pattern": {
             "shape": ""
            }
           },
           "name": "Czech Republic",
           "offsetgroup": "Czech Republic",
           "orientation": "h",
           "showlegend": true,
           "textposition": "auto",
           "type": "bar",
           "x": [
            0
           ],
           "xaxis": "x",
           "y": [
            "Czech Republic"
           ],
           "yaxis": "y"
          },
          {
           "alignmentgroup": "True",
           "hovertemplate": "Pays=%{y}<br>release_year=1912<br>Nombre cumulé de films=%{x}<extra></extra>",
           "legendgroup": "Hong Kong",
           "marker": {
            "color": "#B6E880",
            "pattern": {
             "shape": ""
            }
           },
           "name": "Hong Kong",
           "offsetgroup": "Hong Kong",
           "orientation": "h",
           "showlegend": true,
           "textposition": "auto",
           "type": "bar",
           "x": [
            0
           ],
           "xaxis": "x",
           "y": [
            "Hong Kong"
           ],
           "yaxis": "y"
          },
          {
           "alignmentgroup": "True",
           "hovertemplate": "Pays=%{y}<br>release_year=1912<br>Nombre cumulé de films=%{x}<extra></extra>",
           "legendgroup": "West Germany",
           "marker": {
            "color": "#FF97FF",
            "pattern": {
             "shape": ""
            }
           },
           "name": "West Germany",
           "offsetgroup": "West Germany",
           "orientation": "h",
           "showlegend": true,
           "textposition": "auto",
           "type": "bar",
           "x": [
            0
           ],
           "xaxis": "x",
           "y": [
            "West Germany"
           ],
           "yaxis": "y"
          },
          {
           "alignmentgroup": "True",
           "hovertemplate": "Pays=%{y}<br>release_year=1912<br>Nombre cumulé de films=%{x}<extra></extra>",
           "legendgroup": "United Kingdom",
           "marker": {
            "color": "#FECB52",
            "pattern": {
             "shape": ""
            }
           },
           "name": "United Kingdom",
           "offsetgroup": "United Kingdom",
           "orientation": "h",
           "showlegend": true,
           "textposition": "auto",
           "type": "bar",
           "x": [
            1
           ],
           "xaxis": "x",
           "y": [
            "United Kingdom"
           ],
           "yaxis": "y"
          }
         ],
         "name": "1912"
        },
        {
         "data": [
          {
           "alignmentgroup": "True",
           "hovertemplate": "Pays=%{y}<br>release_year=1913<br>Nombre cumulé de films=%{x}<extra></extra>",
           "legendgroup": "Germany",
           "marker": {
            "color": "#636efa",
            "pattern": {
             "shape": ""
            }
           },
           "name": "Germany",
           "offsetgroup": "Germany",
           "orientation": "h",
           "showlegend": true,
           "textposition": "auto",
           "type": "bar",
           "x": [
            0
           ],
           "xaxis": "x",
           "y": [
            "Germany"
           ],
           "yaxis": "y"
          },
          {
           "alignmentgroup": "True",
           "hovertemplate": "Pays=%{y}<br>release_year=1913<br>Nombre cumulé de films=%{x}<extra></extra>",
           "legendgroup": "United States of America",
           "marker": {
            "color": "#EF553B",
            "pattern": {
             "shape": ""
            }
           },
           "name": "United States of America",
           "offsetgroup": "United States of America",
           "orientation": "h",
           "showlegend": true,
           "textposition": "auto",
           "type": "bar",
           "x": [
            0
           ],
           "xaxis": "x",
           "y": [
            "United States of America"
           ],
           "yaxis": "y"
          },
          {
           "alignmentgroup": "True",
           "hovertemplate": "Pays=%{y}<br>release_year=1913<br>Nombre cumulé de films=%{x}<extra></extra>",
           "legendgroup": "Brazil",
           "marker": {
            "color": "#00cc96",
            "pattern": {
             "shape": ""
            }
           },
           "name": "Brazil",
           "offsetgroup": "Brazil",
           "orientation": "h",
           "showlegend": true,
           "textposition": "auto",
           "type": "bar",
           "x": [
            0
           ],
           "xaxis": "x",
           "y": [
            "Brazil"
           ],
           "yaxis": "y"
          },
          {
           "alignmentgroup": "True",
           "hovertemplate": "Pays=%{y}<br>release_year=1913<br>Nombre cumulé de films=%{x}<extra></extra>",
           "legendgroup": "Netherlands",
           "marker": {
            "color": "#ab63fa",
            "pattern": {
             "shape": ""
            }
           },
           "name": "Netherlands",
           "offsetgroup": "Netherlands",
           "orientation": "h",
           "showlegend": true,
           "textposition": "auto",
           "type": "bar",
           "x": [
            0
           ],
           "xaxis": "x",
           "y": [
            "Netherlands"
           ],
           "yaxis": "y"
          },
          {
           "alignmentgroup": "True",
           "hovertemplate": "Pays=%{y}<br>release_year=1913<br>Nombre cumulé de films=%{x}<extra></extra>",
           "legendgroup": "Canada",
           "marker": {
            "color": "#FFA15A",
            "pattern": {
             "shape": ""
            }
           },
           "name": "Canada",
           "offsetgroup": "Canada",
           "orientation": "h",
           "showlegend": true,
           "textposition": "auto",
           "type": "bar",
           "x": [
            0
           ],
           "xaxis": "x",
           "y": [
            "Canada"
           ],
           "yaxis": "y"
          },
          {
           "alignmentgroup": "True",
           "hovertemplate": "Pays=%{y}<br>release_year=1913<br>Nombre cumulé de films=%{x}<extra></extra>",
           "legendgroup": "France",
           "marker": {
            "color": "#19d3f3",
            "pattern": {
             "shape": ""
            }
           },
           "name": "France",
           "offsetgroup": "France",
           "orientation": "h",
           "showlegend": true,
           "textposition": "auto",
           "type": "bar",
           "x": [
            0
           ],
           "xaxis": "x",
           "y": [
            "France"
           ],
           "yaxis": "y"
          },
          {
           "alignmentgroup": "True",
           "hovertemplate": "Pays=%{y}<br>release_year=1913<br>Nombre cumulé de films=%{x}<extra></extra>",
           "legendgroup": "Czech Republic",
           "marker": {
            "color": "#FF6692",
            "pattern": {
             "shape": ""
            }
           },
           "name": "Czech Republic",
           "offsetgroup": "Czech Republic",
           "orientation": "h",
           "showlegend": true,
           "textposition": "auto",
           "type": "bar",
           "x": [
            0
           ],
           "xaxis": "x",
           "y": [
            "Czech Republic"
           ],
           "yaxis": "y"
          },
          {
           "alignmentgroup": "True",
           "hovertemplate": "Pays=%{y}<br>release_year=1913<br>Nombre cumulé de films=%{x}<extra></extra>",
           "legendgroup": "Hong Kong",
           "marker": {
            "color": "#B6E880",
            "pattern": {
             "shape": ""
            }
           },
           "name": "Hong Kong",
           "offsetgroup": "Hong Kong",
           "orientation": "h",
           "showlegend": true,
           "textposition": "auto",
           "type": "bar",
           "x": [
            0
           ],
           "xaxis": "x",
           "y": [
            "Hong Kong"
           ],
           "yaxis": "y"
          },
          {
           "alignmentgroup": "True",
           "hovertemplate": "Pays=%{y}<br>release_year=1913<br>Nombre cumulé de films=%{x}<extra></extra>",
           "legendgroup": "West Germany",
           "marker": {
            "color": "#FF97FF",
            "pattern": {
             "shape": ""
            }
           },
           "name": "West Germany",
           "offsetgroup": "West Germany",
           "orientation": "h",
           "showlegend": true,
           "textposition": "auto",
           "type": "bar",
           "x": [
            0
           ],
           "xaxis": "x",
           "y": [
            "West Germany"
           ],
           "yaxis": "y"
          },
          {
           "alignmentgroup": "True",
           "hovertemplate": "Pays=%{y}<br>release_year=1913<br>Nombre cumulé de films=%{x}<extra></extra>",
           "legendgroup": "United Kingdom",
           "marker": {
            "color": "#FECB52",
            "pattern": {
             "shape": ""
            }
           },
           "name": "United Kingdom",
           "offsetgroup": "United Kingdom",
           "orientation": "h",
           "showlegend": true,
           "textposition": "auto",
           "type": "bar",
           "x": [
            1
           ],
           "xaxis": "x",
           "y": [
            "United Kingdom"
           ],
           "yaxis": "y"
          }
         ],
         "name": "1913"
        },
        {
         "data": [
          {
           "alignmentgroup": "True",
           "hovertemplate": "Pays=%{y}<br>release_year=1914<br>Nombre cumulé de films=%{x}<extra></extra>",
           "legendgroup": "Germany",
           "marker": {
            "color": "#636efa",
            "pattern": {
             "shape": ""
            }
           },
           "name": "Germany",
           "offsetgroup": "Germany",
           "orientation": "h",
           "showlegend": true,
           "textposition": "auto",
           "type": "bar",
           "x": [
            0
           ],
           "xaxis": "x",
           "y": [
            "Germany"
           ],
           "yaxis": "y"
          },
          {
           "alignmentgroup": "True",
           "hovertemplate": "Pays=%{y}<br>release_year=1914<br>Nombre cumulé de films=%{x}<extra></extra>",
           "legendgroup": "United States of America",
           "marker": {
            "color": "#EF553B",
            "pattern": {
             "shape": ""
            }
           },
           "name": "United States of America",
           "offsetgroup": "United States of America",
           "orientation": "h",
           "showlegend": true,
           "textposition": "auto",
           "type": "bar",
           "x": [
            0
           ],
           "xaxis": "x",
           "y": [
            "United States of America"
           ],
           "yaxis": "y"
          },
          {
           "alignmentgroup": "True",
           "hovertemplate": "Pays=%{y}<br>release_year=1914<br>Nombre cumulé de films=%{x}<extra></extra>",
           "legendgroup": "Brazil",
           "marker": {
            "color": "#00cc96",
            "pattern": {
             "shape": ""
            }
           },
           "name": "Brazil",
           "offsetgroup": "Brazil",
           "orientation": "h",
           "showlegend": true,
           "textposition": "auto",
           "type": "bar",
           "x": [
            0
           ],
           "xaxis": "x",
           "y": [
            "Brazil"
           ],
           "yaxis": "y"
          },
          {
           "alignmentgroup": "True",
           "hovertemplate": "Pays=%{y}<br>release_year=1914<br>Nombre cumulé de films=%{x}<extra></extra>",
           "legendgroup": "Netherlands",
           "marker": {
            "color": "#ab63fa",
            "pattern": {
             "shape": ""
            }
           },
           "name": "Netherlands",
           "offsetgroup": "Netherlands",
           "orientation": "h",
           "showlegend": true,
           "textposition": "auto",
           "type": "bar",
           "x": [
            0
           ],
           "xaxis": "x",
           "y": [
            "Netherlands"
           ],
           "yaxis": "y"
          },
          {
           "alignmentgroup": "True",
           "hovertemplate": "Pays=%{y}<br>release_year=1914<br>Nombre cumulé de films=%{x}<extra></extra>",
           "legendgroup": "Canada",
           "marker": {
            "color": "#FFA15A",
            "pattern": {
             "shape": ""
            }
           },
           "name": "Canada",
           "offsetgroup": "Canada",
           "orientation": "h",
           "showlegend": true,
           "textposition": "auto",
           "type": "bar",
           "x": [
            0
           ],
           "xaxis": "x",
           "y": [
            "Canada"
           ],
           "yaxis": "y"
          },
          {
           "alignmentgroup": "True",
           "hovertemplate": "Pays=%{y}<br>release_year=1914<br>Nombre cumulé de films=%{x}<extra></extra>",
           "legendgroup": "France",
           "marker": {
            "color": "#19d3f3",
            "pattern": {
             "shape": ""
            }
           },
           "name": "France",
           "offsetgroup": "France",
           "orientation": "h",
           "showlegend": true,
           "textposition": "auto",
           "type": "bar",
           "x": [
            0
           ],
           "xaxis": "x",
           "y": [
            "France"
           ],
           "yaxis": "y"
          },
          {
           "alignmentgroup": "True",
           "hovertemplate": "Pays=%{y}<br>release_year=1914<br>Nombre cumulé de films=%{x}<extra></extra>",
           "legendgroup": "Czech Republic",
           "marker": {
            "color": "#FF6692",
            "pattern": {
             "shape": ""
            }
           },
           "name": "Czech Republic",
           "offsetgroup": "Czech Republic",
           "orientation": "h",
           "showlegend": true,
           "textposition": "auto",
           "type": "bar",
           "x": [
            0
           ],
           "xaxis": "x",
           "y": [
            "Czech Republic"
           ],
           "yaxis": "y"
          },
          {
           "alignmentgroup": "True",
           "hovertemplate": "Pays=%{y}<br>release_year=1914<br>Nombre cumulé de films=%{x}<extra></extra>",
           "legendgroup": "Hong Kong",
           "marker": {
            "color": "#B6E880",
            "pattern": {
             "shape": ""
            }
           },
           "name": "Hong Kong",
           "offsetgroup": "Hong Kong",
           "orientation": "h",
           "showlegend": true,
           "textposition": "auto",
           "type": "bar",
           "x": [
            0
           ],
           "xaxis": "x",
           "y": [
            "Hong Kong"
           ],
           "yaxis": "y"
          },
          {
           "alignmentgroup": "True",
           "hovertemplate": "Pays=%{y}<br>release_year=1914<br>Nombre cumulé de films=%{x}<extra></extra>",
           "legendgroup": "West Germany",
           "marker": {
            "color": "#FF97FF",
            "pattern": {
             "shape": ""
            }
           },
           "name": "West Germany",
           "offsetgroup": "West Germany",
           "orientation": "h",
           "showlegend": true,
           "textposition": "auto",
           "type": "bar",
           "x": [
            0
           ],
           "xaxis": "x",
           "y": [
            "West Germany"
           ],
           "yaxis": "y"
          },
          {
           "alignmentgroup": "True",
           "hovertemplate": "Pays=%{y}<br>release_year=1914<br>Nombre cumulé de films=%{x}<extra></extra>",
           "legendgroup": "United Kingdom",
           "marker": {
            "color": "#FECB52",
            "pattern": {
             "shape": ""
            }
           },
           "name": "United Kingdom",
           "offsetgroup": "United Kingdom",
           "orientation": "h",
           "showlegend": true,
           "textposition": "auto",
           "type": "bar",
           "x": [
            1
           ],
           "xaxis": "x",
           "y": [
            "United Kingdom"
           ],
           "yaxis": "y"
          }
         ],
         "name": "1914"
        },
        {
         "data": [
          {
           "alignmentgroup": "True",
           "hovertemplate": "Pays=%{y}<br>release_year=1915<br>Nombre cumulé de films=%{x}<extra></extra>",
           "legendgroup": "Germany",
           "marker": {
            "color": "#636efa",
            "pattern": {
             "shape": ""
            }
           },
           "name": "Germany",
           "offsetgroup": "Germany",
           "orientation": "h",
           "showlegend": true,
           "textposition": "auto",
           "type": "bar",
           "x": [
            0
           ],
           "xaxis": "x",
           "y": [
            "Germany"
           ],
           "yaxis": "y"
          },
          {
           "alignmentgroup": "True",
           "hovertemplate": "Pays=%{y}<br>release_year=1915<br>Nombre cumulé de films=%{x}<extra></extra>",
           "legendgroup": "United States of America",
           "marker": {
            "color": "#EF553B",
            "pattern": {
             "shape": ""
            }
           },
           "name": "United States of America",
           "offsetgroup": "United States of America",
           "orientation": "h",
           "showlegend": true,
           "textposition": "auto",
           "type": "bar",
           "x": [
            0
           ],
           "xaxis": "x",
           "y": [
            "United States of America"
           ],
           "yaxis": "y"
          },
          {
           "alignmentgroup": "True",
           "hovertemplate": "Pays=%{y}<br>release_year=1915<br>Nombre cumulé de films=%{x}<extra></extra>",
           "legendgroup": "Brazil",
           "marker": {
            "color": "#00cc96",
            "pattern": {
             "shape": ""
            }
           },
           "name": "Brazil",
           "offsetgroup": "Brazil",
           "orientation": "h",
           "showlegend": true,
           "textposition": "auto",
           "type": "bar",
           "x": [
            0
           ],
           "xaxis": "x",
           "y": [
            "Brazil"
           ],
           "yaxis": "y"
          },
          {
           "alignmentgroup": "True",
           "hovertemplate": "Pays=%{y}<br>release_year=1915<br>Nombre cumulé de films=%{x}<extra></extra>",
           "legendgroup": "Netherlands",
           "marker": {
            "color": "#ab63fa",
            "pattern": {
             "shape": ""
            }
           },
           "name": "Netherlands",
           "offsetgroup": "Netherlands",
           "orientation": "h",
           "showlegend": true,
           "textposition": "auto",
           "type": "bar",
           "x": [
            0
           ],
           "xaxis": "x",
           "y": [
            "Netherlands"
           ],
           "yaxis": "y"
          },
          {
           "alignmentgroup": "True",
           "hovertemplate": "Pays=%{y}<br>release_year=1915<br>Nombre cumulé de films=%{x}<extra></extra>",
           "legendgroup": "Canada",
           "marker": {
            "color": "#FFA15A",
            "pattern": {
             "shape": ""
            }
           },
           "name": "Canada",
           "offsetgroup": "Canada",
           "orientation": "h",
           "showlegend": true,
           "textposition": "auto",
           "type": "bar",
           "x": [
            0
           ],
           "xaxis": "x",
           "y": [
            "Canada"
           ],
           "yaxis": "y"
          },
          {
           "alignmentgroup": "True",
           "hovertemplate": "Pays=%{y}<br>release_year=1915<br>Nombre cumulé de films=%{x}<extra></extra>",
           "legendgroup": "France",
           "marker": {
            "color": "#19d3f3",
            "pattern": {
             "shape": ""
            }
           },
           "name": "France",
           "offsetgroup": "France",
           "orientation": "h",
           "showlegend": true,
           "textposition": "auto",
           "type": "bar",
           "x": [
            0
           ],
           "xaxis": "x",
           "y": [
            "France"
           ],
           "yaxis": "y"
          },
          {
           "alignmentgroup": "True",
           "hovertemplate": "Pays=%{y}<br>release_year=1915<br>Nombre cumulé de films=%{x}<extra></extra>",
           "legendgroup": "Czech Republic",
           "marker": {
            "color": "#FF6692",
            "pattern": {
             "shape": ""
            }
           },
           "name": "Czech Republic",
           "offsetgroup": "Czech Republic",
           "orientation": "h",
           "showlegend": true,
           "textposition": "auto",
           "type": "bar",
           "x": [
            0
           ],
           "xaxis": "x",
           "y": [
            "Czech Republic"
           ],
           "yaxis": "y"
          },
          {
           "alignmentgroup": "True",
           "hovertemplate": "Pays=%{y}<br>release_year=1915<br>Nombre cumulé de films=%{x}<extra></extra>",
           "legendgroup": "Hong Kong",
           "marker": {
            "color": "#B6E880",
            "pattern": {
             "shape": ""
            }
           },
           "name": "Hong Kong",
           "offsetgroup": "Hong Kong",
           "orientation": "h",
           "showlegend": true,
           "textposition": "auto",
           "type": "bar",
           "x": [
            0
           ],
           "xaxis": "x",
           "y": [
            "Hong Kong"
           ],
           "yaxis": "y"
          },
          {
           "alignmentgroup": "True",
           "hovertemplate": "Pays=%{y}<br>release_year=1915<br>Nombre cumulé de films=%{x}<extra></extra>",
           "legendgroup": "West Germany",
           "marker": {
            "color": "#FF97FF",
            "pattern": {
             "shape": ""
            }
           },
           "name": "West Germany",
           "offsetgroup": "West Germany",
           "orientation": "h",
           "showlegend": true,
           "textposition": "auto",
           "type": "bar",
           "x": [
            0
           ],
           "xaxis": "x",
           "y": [
            "West Germany"
           ],
           "yaxis": "y"
          },
          {
           "alignmentgroup": "True",
           "hovertemplate": "Pays=%{y}<br>release_year=1915<br>Nombre cumulé de films=%{x}<extra></extra>",
           "legendgroup": "United Kingdom",
           "marker": {
            "color": "#FECB52",
            "pattern": {
             "shape": ""
            }
           },
           "name": "United Kingdom",
           "offsetgroup": "United Kingdom",
           "orientation": "h",
           "showlegend": true,
           "textposition": "auto",
           "type": "bar",
           "x": [
            1
           ],
           "xaxis": "x",
           "y": [
            "United Kingdom"
           ],
           "yaxis": "y"
          }
         ],
         "name": "1915"
        },
        {
         "data": [
          {
           "alignmentgroup": "True",
           "hovertemplate": "Pays=%{y}<br>release_year=1916<br>Nombre cumulé de films=%{x}<extra></extra>",
           "legendgroup": "Germany",
           "marker": {
            "color": "#636efa",
            "pattern": {
             "shape": ""
            }
           },
           "name": "Germany",
           "offsetgroup": "Germany",
           "orientation": "h",
           "showlegend": true,
           "textposition": "auto",
           "type": "bar",
           "x": [
            0
           ],
           "xaxis": "x",
           "y": [
            "Germany"
           ],
           "yaxis": "y"
          },
          {
           "alignmentgroup": "True",
           "hovertemplate": "Pays=%{y}<br>release_year=1916<br>Nombre cumulé de films=%{x}<extra></extra>",
           "legendgroup": "United States of America",
           "marker": {
            "color": "#EF553B",
            "pattern": {
             "shape": ""
            }
           },
           "name": "United States of America",
           "offsetgroup": "United States of America",
           "orientation": "h",
           "showlegend": true,
           "textposition": "auto",
           "type": "bar",
           "x": [
            0
           ],
           "xaxis": "x",
           "y": [
            "United States of America"
           ],
           "yaxis": "y"
          },
          {
           "alignmentgroup": "True",
           "hovertemplate": "Pays=%{y}<br>release_year=1916<br>Nombre cumulé de films=%{x}<extra></extra>",
           "legendgroup": "Brazil",
           "marker": {
            "color": "#00cc96",
            "pattern": {
             "shape": ""
            }
           },
           "name": "Brazil",
           "offsetgroup": "Brazil",
           "orientation": "h",
           "showlegend": true,
           "textposition": "auto",
           "type": "bar",
           "x": [
            0
           ],
           "xaxis": "x",
           "y": [
            "Brazil"
           ],
           "yaxis": "y"
          },
          {
           "alignmentgroup": "True",
           "hovertemplate": "Pays=%{y}<br>release_year=1916<br>Nombre cumulé de films=%{x}<extra></extra>",
           "legendgroup": "Netherlands",
           "marker": {
            "color": "#ab63fa",
            "pattern": {
             "shape": ""
            }
           },
           "name": "Netherlands",
           "offsetgroup": "Netherlands",
           "orientation": "h",
           "showlegend": true,
           "textposition": "auto",
           "type": "bar",
           "x": [
            0
           ],
           "xaxis": "x",
           "y": [
            "Netherlands"
           ],
           "yaxis": "y"
          },
          {
           "alignmentgroup": "True",
           "hovertemplate": "Pays=%{y}<br>release_year=1916<br>Nombre cumulé de films=%{x}<extra></extra>",
           "legendgroup": "Canada",
           "marker": {
            "color": "#FFA15A",
            "pattern": {
             "shape": ""
            }
           },
           "name": "Canada",
           "offsetgroup": "Canada",
           "orientation": "h",
           "showlegend": true,
           "textposition": "auto",
           "type": "bar",
           "x": [
            0
           ],
           "xaxis": "x",
           "y": [
            "Canada"
           ],
           "yaxis": "y"
          },
          {
           "alignmentgroup": "True",
           "hovertemplate": "Pays=%{y}<br>release_year=1916<br>Nombre cumulé de films=%{x}<extra></extra>",
           "legendgroup": "France",
           "marker": {
            "color": "#19d3f3",
            "pattern": {
             "shape": ""
            }
           },
           "name": "France",
           "offsetgroup": "France",
           "orientation": "h",
           "showlegend": true,
           "textposition": "auto",
           "type": "bar",
           "x": [
            0
           ],
           "xaxis": "x",
           "y": [
            "France"
           ],
           "yaxis": "y"
          },
          {
           "alignmentgroup": "True",
           "hovertemplate": "Pays=%{y}<br>release_year=1916<br>Nombre cumulé de films=%{x}<extra></extra>",
           "legendgroup": "Czech Republic",
           "marker": {
            "color": "#FF6692",
            "pattern": {
             "shape": ""
            }
           },
           "name": "Czech Republic",
           "offsetgroup": "Czech Republic",
           "orientation": "h",
           "showlegend": true,
           "textposition": "auto",
           "type": "bar",
           "x": [
            0
           ],
           "xaxis": "x",
           "y": [
            "Czech Republic"
           ],
           "yaxis": "y"
          },
          {
           "alignmentgroup": "True",
           "hovertemplate": "Pays=%{y}<br>release_year=1916<br>Nombre cumulé de films=%{x}<extra></extra>",
           "legendgroup": "Hong Kong",
           "marker": {
            "color": "#B6E880",
            "pattern": {
             "shape": ""
            }
           },
           "name": "Hong Kong",
           "offsetgroup": "Hong Kong",
           "orientation": "h",
           "showlegend": true,
           "textposition": "auto",
           "type": "bar",
           "x": [
            0
           ],
           "xaxis": "x",
           "y": [
            "Hong Kong"
           ],
           "yaxis": "y"
          },
          {
           "alignmentgroup": "True",
           "hovertemplate": "Pays=%{y}<br>release_year=1916<br>Nombre cumulé de films=%{x}<extra></extra>",
           "legendgroup": "West Germany",
           "marker": {
            "color": "#FF97FF",
            "pattern": {
             "shape": ""
            }
           },
           "name": "West Germany",
           "offsetgroup": "West Germany",
           "orientation": "h",
           "showlegend": true,
           "textposition": "auto",
           "type": "bar",
           "x": [
            0
           ],
           "xaxis": "x",
           "y": [
            "West Germany"
           ],
           "yaxis": "y"
          },
          {
           "alignmentgroup": "True",
           "hovertemplate": "Pays=%{y}<br>release_year=1916<br>Nombre cumulé de films=%{x}<extra></extra>",
           "legendgroup": "United Kingdom",
           "marker": {
            "color": "#FECB52",
            "pattern": {
             "shape": ""
            }
           },
           "name": "United Kingdom",
           "offsetgroup": "United Kingdom",
           "orientation": "h",
           "showlegend": true,
           "textposition": "auto",
           "type": "bar",
           "x": [
            1
           ],
           "xaxis": "x",
           "y": [
            "United Kingdom"
           ],
           "yaxis": "y"
          }
         ],
         "name": "1916"
        },
        {
         "data": [
          {
           "alignmentgroup": "True",
           "hovertemplate": "Pays=%{y}<br>release_year=1917<br>Nombre cumulé de films=%{x}<extra></extra>",
           "legendgroup": "Germany",
           "marker": {
            "color": "#636efa",
            "pattern": {
             "shape": ""
            }
           },
           "name": "Germany",
           "offsetgroup": "Germany",
           "orientation": "h",
           "showlegend": true,
           "textposition": "auto",
           "type": "bar",
           "x": [
            0
           ],
           "xaxis": "x",
           "y": [
            "Germany"
           ],
           "yaxis": "y"
          },
          {
           "alignmentgroup": "True",
           "hovertemplate": "Pays=%{y}<br>release_year=1917<br>Nombre cumulé de films=%{x}<extra></extra>",
           "legendgroup": "United States of America",
           "marker": {
            "color": "#EF553B",
            "pattern": {
             "shape": ""
            }
           },
           "name": "United States of America",
           "offsetgroup": "United States of America",
           "orientation": "h",
           "showlegend": true,
           "textposition": "auto",
           "type": "bar",
           "x": [
            0
           ],
           "xaxis": "x",
           "y": [
            "United States of America"
           ],
           "yaxis": "y"
          },
          {
           "alignmentgroup": "True",
           "hovertemplate": "Pays=%{y}<br>release_year=1917<br>Nombre cumulé de films=%{x}<extra></extra>",
           "legendgroup": "Brazil",
           "marker": {
            "color": "#00cc96",
            "pattern": {
             "shape": ""
            }
           },
           "name": "Brazil",
           "offsetgroup": "Brazil",
           "orientation": "h",
           "showlegend": true,
           "textposition": "auto",
           "type": "bar",
           "x": [
            0
           ],
           "xaxis": "x",
           "y": [
            "Brazil"
           ],
           "yaxis": "y"
          },
          {
           "alignmentgroup": "True",
           "hovertemplate": "Pays=%{y}<br>release_year=1917<br>Nombre cumulé de films=%{x}<extra></extra>",
           "legendgroup": "Netherlands",
           "marker": {
            "color": "#ab63fa",
            "pattern": {
             "shape": ""
            }
           },
           "name": "Netherlands",
           "offsetgroup": "Netherlands",
           "orientation": "h",
           "showlegend": true,
           "textposition": "auto",
           "type": "bar",
           "x": [
            0
           ],
           "xaxis": "x",
           "y": [
            "Netherlands"
           ],
           "yaxis": "y"
          },
          {
           "alignmentgroup": "True",
           "hovertemplate": "Pays=%{y}<br>release_year=1917<br>Nombre cumulé de films=%{x}<extra></extra>",
           "legendgroup": "Canada",
           "marker": {
            "color": "#FFA15A",
            "pattern": {
             "shape": ""
            }
           },
           "name": "Canada",
           "offsetgroup": "Canada",
           "orientation": "h",
           "showlegend": true,
           "textposition": "auto",
           "type": "bar",
           "x": [
            0
           ],
           "xaxis": "x",
           "y": [
            "Canada"
           ],
           "yaxis": "y"
          },
          {
           "alignmentgroup": "True",
           "hovertemplate": "Pays=%{y}<br>release_year=1917<br>Nombre cumulé de films=%{x}<extra></extra>",
           "legendgroup": "France",
           "marker": {
            "color": "#19d3f3",
            "pattern": {
             "shape": ""
            }
           },
           "name": "France",
           "offsetgroup": "France",
           "orientation": "h",
           "showlegend": true,
           "textposition": "auto",
           "type": "bar",
           "x": [
            0
           ],
           "xaxis": "x",
           "y": [
            "France"
           ],
           "yaxis": "y"
          },
          {
           "alignmentgroup": "True",
           "hovertemplate": "Pays=%{y}<br>release_year=1917<br>Nombre cumulé de films=%{x}<extra></extra>",
           "legendgroup": "Czech Republic",
           "marker": {
            "color": "#FF6692",
            "pattern": {
             "shape": ""
            }
           },
           "name": "Czech Republic",
           "offsetgroup": "Czech Republic",
           "orientation": "h",
           "showlegend": true,
           "textposition": "auto",
           "type": "bar",
           "x": [
            0
           ],
           "xaxis": "x",
           "y": [
            "Czech Republic"
           ],
           "yaxis": "y"
          },
          {
           "alignmentgroup": "True",
           "hovertemplate": "Pays=%{y}<br>release_year=1917<br>Nombre cumulé de films=%{x}<extra></extra>",
           "legendgroup": "Hong Kong",
           "marker": {
            "color": "#B6E880",
            "pattern": {
             "shape": ""
            }
           },
           "name": "Hong Kong",
           "offsetgroup": "Hong Kong",
           "orientation": "h",
           "showlegend": true,
           "textposition": "auto",
           "type": "bar",
           "x": [
            0
           ],
           "xaxis": "x",
           "y": [
            "Hong Kong"
           ],
           "yaxis": "y"
          },
          {
           "alignmentgroup": "True",
           "hovertemplate": "Pays=%{y}<br>release_year=1917<br>Nombre cumulé de films=%{x}<extra></extra>",
           "legendgroup": "West Germany",
           "marker": {
            "color": "#FF97FF",
            "pattern": {
             "shape": ""
            }
           },
           "name": "West Germany",
           "offsetgroup": "West Germany",
           "orientation": "h",
           "showlegend": true,
           "textposition": "auto",
           "type": "bar",
           "x": [
            0
           ],
           "xaxis": "x",
           "y": [
            "West Germany"
           ],
           "yaxis": "y"
          },
          {
           "alignmentgroup": "True",
           "hovertemplate": "Pays=%{y}<br>release_year=1917<br>Nombre cumulé de films=%{x}<extra></extra>",
           "legendgroup": "United Kingdom",
           "marker": {
            "color": "#FECB52",
            "pattern": {
             "shape": ""
            }
           },
           "name": "United Kingdom",
           "offsetgroup": "United Kingdom",
           "orientation": "h",
           "showlegend": true,
           "textposition": "auto",
           "type": "bar",
           "x": [
            1
           ],
           "xaxis": "x",
           "y": [
            "United Kingdom"
           ],
           "yaxis": "y"
          }
         ],
         "name": "1917"
        },
        {
         "data": [
          {
           "alignmentgroup": "True",
           "hovertemplate": "Pays=%{y}<br>release_year=1918<br>Nombre cumulé de films=%{x}<extra></extra>",
           "legendgroup": "Germany",
           "marker": {
            "color": "#636efa",
            "pattern": {
             "shape": ""
            }
           },
           "name": "Germany",
           "offsetgroup": "Germany",
           "orientation": "h",
           "showlegend": true,
           "textposition": "auto",
           "type": "bar",
           "x": [
            0
           ],
           "xaxis": "x",
           "y": [
            "Germany"
           ],
           "yaxis": "y"
          },
          {
           "alignmentgroup": "True",
           "hovertemplate": "Pays=%{y}<br>release_year=1918<br>Nombre cumulé de films=%{x}<extra></extra>",
           "legendgroup": "United States of America",
           "marker": {
            "color": "#EF553B",
            "pattern": {
             "shape": ""
            }
           },
           "name": "United States of America",
           "offsetgroup": "United States of America",
           "orientation": "h",
           "showlegend": true,
           "textposition": "auto",
           "type": "bar",
           "x": [
            0
           ],
           "xaxis": "x",
           "y": [
            "United States of America"
           ],
           "yaxis": "y"
          },
          {
           "alignmentgroup": "True",
           "hovertemplate": "Pays=%{y}<br>release_year=1918<br>Nombre cumulé de films=%{x}<extra></extra>",
           "legendgroup": "Brazil",
           "marker": {
            "color": "#00cc96",
            "pattern": {
             "shape": ""
            }
           },
           "name": "Brazil",
           "offsetgroup": "Brazil",
           "orientation": "h",
           "showlegend": true,
           "textposition": "auto",
           "type": "bar",
           "x": [
            0
           ],
           "xaxis": "x",
           "y": [
            "Brazil"
           ],
           "yaxis": "y"
          },
          {
           "alignmentgroup": "True",
           "hovertemplate": "Pays=%{y}<br>release_year=1918<br>Nombre cumulé de films=%{x}<extra></extra>",
           "legendgroup": "Netherlands",
           "marker": {
            "color": "#ab63fa",
            "pattern": {
             "shape": ""
            }
           },
           "name": "Netherlands",
           "offsetgroup": "Netherlands",
           "orientation": "h",
           "showlegend": true,
           "textposition": "auto",
           "type": "bar",
           "x": [
            0
           ],
           "xaxis": "x",
           "y": [
            "Netherlands"
           ],
           "yaxis": "y"
          },
          {
           "alignmentgroup": "True",
           "hovertemplate": "Pays=%{y}<br>release_year=1918<br>Nombre cumulé de films=%{x}<extra></extra>",
           "legendgroup": "Canada",
           "marker": {
            "color": "#FFA15A",
            "pattern": {
             "shape": ""
            }
           },
           "name": "Canada",
           "offsetgroup": "Canada",
           "orientation": "h",
           "showlegend": true,
           "textposition": "auto",
           "type": "bar",
           "x": [
            0
           ],
           "xaxis": "x",
           "y": [
            "Canada"
           ],
           "yaxis": "y"
          },
          {
           "alignmentgroup": "True",
           "hovertemplate": "Pays=%{y}<br>release_year=1918<br>Nombre cumulé de films=%{x}<extra></extra>",
           "legendgroup": "France",
           "marker": {
            "color": "#19d3f3",
            "pattern": {
             "shape": ""
            }
           },
           "name": "France",
           "offsetgroup": "France",
           "orientation": "h",
           "showlegend": true,
           "textposition": "auto",
           "type": "bar",
           "x": [
            0
           ],
           "xaxis": "x",
           "y": [
            "France"
           ],
           "yaxis": "y"
          },
          {
           "alignmentgroup": "True",
           "hovertemplate": "Pays=%{y}<br>release_year=1918<br>Nombre cumulé de films=%{x}<extra></extra>",
           "legendgroup": "Czech Republic",
           "marker": {
            "color": "#FF6692",
            "pattern": {
             "shape": ""
            }
           },
           "name": "Czech Republic",
           "offsetgroup": "Czech Republic",
           "orientation": "h",
           "showlegend": true,
           "textposition": "auto",
           "type": "bar",
           "x": [
            0
           ],
           "xaxis": "x",
           "y": [
            "Czech Republic"
           ],
           "yaxis": "y"
          },
          {
           "alignmentgroup": "True",
           "hovertemplate": "Pays=%{y}<br>release_year=1918<br>Nombre cumulé de films=%{x}<extra></extra>",
           "legendgroup": "Hong Kong",
           "marker": {
            "color": "#B6E880",
            "pattern": {
             "shape": ""
            }
           },
           "name": "Hong Kong",
           "offsetgroup": "Hong Kong",
           "orientation": "h",
           "showlegend": true,
           "textposition": "auto",
           "type": "bar",
           "x": [
            0
           ],
           "xaxis": "x",
           "y": [
            "Hong Kong"
           ],
           "yaxis": "y"
          },
          {
           "alignmentgroup": "True",
           "hovertemplate": "Pays=%{y}<br>release_year=1918<br>Nombre cumulé de films=%{x}<extra></extra>",
           "legendgroup": "West Germany",
           "marker": {
            "color": "#FF97FF",
            "pattern": {
             "shape": ""
            }
           },
           "name": "West Germany",
           "offsetgroup": "West Germany",
           "orientation": "h",
           "showlegend": true,
           "textposition": "auto",
           "type": "bar",
           "x": [
            0
           ],
           "xaxis": "x",
           "y": [
            "West Germany"
           ],
           "yaxis": "y"
          },
          {
           "alignmentgroup": "True",
           "hovertemplate": "Pays=%{y}<br>release_year=1918<br>Nombre cumulé de films=%{x}<extra></extra>",
           "legendgroup": "United Kingdom",
           "marker": {
            "color": "#FECB52",
            "pattern": {
             "shape": ""
            }
           },
           "name": "United Kingdom",
           "offsetgroup": "United Kingdom",
           "orientation": "h",
           "showlegend": true,
           "textposition": "auto",
           "type": "bar",
           "x": [
            1
           ],
           "xaxis": "x",
           "y": [
            "United Kingdom"
           ],
           "yaxis": "y"
          }
         ],
         "name": "1918"
        },
        {
         "data": [
          {
           "alignmentgroup": "True",
           "hovertemplate": "Pays=%{y}<br>release_year=1919<br>Nombre cumulé de films=%{x}<extra></extra>",
           "legendgroup": "Germany",
           "marker": {
            "color": "#636efa",
            "pattern": {
             "shape": ""
            }
           },
           "name": "Germany",
           "offsetgroup": "Germany",
           "orientation": "h",
           "showlegend": true,
           "textposition": "auto",
           "type": "bar",
           "x": [
            0
           ],
           "xaxis": "x",
           "y": [
            "Germany"
           ],
           "yaxis": "y"
          },
          {
           "alignmentgroup": "True",
           "hovertemplate": "Pays=%{y}<br>release_year=1919<br>Nombre cumulé de films=%{x}<extra></extra>",
           "legendgroup": "United States of America",
           "marker": {
            "color": "#EF553B",
            "pattern": {
             "shape": ""
            }
           },
           "name": "United States of America",
           "offsetgroup": "United States of America",
           "orientation": "h",
           "showlegend": true,
           "textposition": "auto",
           "type": "bar",
           "x": [
            0
           ],
           "xaxis": "x",
           "y": [
            "United States of America"
           ],
           "yaxis": "y"
          },
          {
           "alignmentgroup": "True",
           "hovertemplate": "Pays=%{y}<br>release_year=1919<br>Nombre cumulé de films=%{x}<extra></extra>",
           "legendgroup": "Brazil",
           "marker": {
            "color": "#00cc96",
            "pattern": {
             "shape": ""
            }
           },
           "name": "Brazil",
           "offsetgroup": "Brazil",
           "orientation": "h",
           "showlegend": true,
           "textposition": "auto",
           "type": "bar",
           "x": [
            0
           ],
           "xaxis": "x",
           "y": [
            "Brazil"
           ],
           "yaxis": "y"
          },
          {
           "alignmentgroup": "True",
           "hovertemplate": "Pays=%{y}<br>release_year=1919<br>Nombre cumulé de films=%{x}<extra></extra>",
           "legendgroup": "Netherlands",
           "marker": {
            "color": "#ab63fa",
            "pattern": {
             "shape": ""
            }
           },
           "name": "Netherlands",
           "offsetgroup": "Netherlands",
           "orientation": "h",
           "showlegend": true,
           "textposition": "auto",
           "type": "bar",
           "x": [
            0
           ],
           "xaxis": "x",
           "y": [
            "Netherlands"
           ],
           "yaxis": "y"
          },
          {
           "alignmentgroup": "True",
           "hovertemplate": "Pays=%{y}<br>release_year=1919<br>Nombre cumulé de films=%{x}<extra></extra>",
           "legendgroup": "Canada",
           "marker": {
            "color": "#FFA15A",
            "pattern": {
             "shape": ""
            }
           },
           "name": "Canada",
           "offsetgroup": "Canada",
           "orientation": "h",
           "showlegend": true,
           "textposition": "auto",
           "type": "bar",
           "x": [
            0
           ],
           "xaxis": "x",
           "y": [
            "Canada"
           ],
           "yaxis": "y"
          },
          {
           "alignmentgroup": "True",
           "hovertemplate": "Pays=%{y}<br>release_year=1919<br>Nombre cumulé de films=%{x}<extra></extra>",
           "legendgroup": "France",
           "marker": {
            "color": "#19d3f3",
            "pattern": {
             "shape": ""
            }
           },
           "name": "France",
           "offsetgroup": "France",
           "orientation": "h",
           "showlegend": true,
           "textposition": "auto",
           "type": "bar",
           "x": [
            0
           ],
           "xaxis": "x",
           "y": [
            "France"
           ],
           "yaxis": "y"
          },
          {
           "alignmentgroup": "True",
           "hovertemplate": "Pays=%{y}<br>release_year=1919<br>Nombre cumulé de films=%{x}<extra></extra>",
           "legendgroup": "Czech Republic",
           "marker": {
            "color": "#FF6692",
            "pattern": {
             "shape": ""
            }
           },
           "name": "Czech Republic",
           "offsetgroup": "Czech Republic",
           "orientation": "h",
           "showlegend": true,
           "textposition": "auto",
           "type": "bar",
           "x": [
            0
           ],
           "xaxis": "x",
           "y": [
            "Czech Republic"
           ],
           "yaxis": "y"
          },
          {
           "alignmentgroup": "True",
           "hovertemplate": "Pays=%{y}<br>release_year=1919<br>Nombre cumulé de films=%{x}<extra></extra>",
           "legendgroup": "Hong Kong",
           "marker": {
            "color": "#B6E880",
            "pattern": {
             "shape": ""
            }
           },
           "name": "Hong Kong",
           "offsetgroup": "Hong Kong",
           "orientation": "h",
           "showlegend": true,
           "textposition": "auto",
           "type": "bar",
           "x": [
            0
           ],
           "xaxis": "x",
           "y": [
            "Hong Kong"
           ],
           "yaxis": "y"
          },
          {
           "alignmentgroup": "True",
           "hovertemplate": "Pays=%{y}<br>release_year=1919<br>Nombre cumulé de films=%{x}<extra></extra>",
           "legendgroup": "West Germany",
           "marker": {
            "color": "#FF97FF",
            "pattern": {
             "shape": ""
            }
           },
           "name": "West Germany",
           "offsetgroup": "West Germany",
           "orientation": "h",
           "showlegend": true,
           "textposition": "auto",
           "type": "bar",
           "x": [
            0
           ],
           "xaxis": "x",
           "y": [
            "West Germany"
           ],
           "yaxis": "y"
          },
          {
           "alignmentgroup": "True",
           "hovertemplate": "Pays=%{y}<br>release_year=1919<br>Nombre cumulé de films=%{x}<extra></extra>",
           "legendgroup": "United Kingdom",
           "marker": {
            "color": "#FECB52",
            "pattern": {
             "shape": ""
            }
           },
           "name": "United Kingdom",
           "offsetgroup": "United Kingdom",
           "orientation": "h",
           "showlegend": true,
           "textposition": "auto",
           "type": "bar",
           "x": [
            1
           ],
           "xaxis": "x",
           "y": [
            "United Kingdom"
           ],
           "yaxis": "y"
          }
         ],
         "name": "1919"
        },
        {
         "data": [
          {
           "alignmentgroup": "True",
           "hovertemplate": "Pays=%{y}<br>release_year=1920<br>Nombre cumulé de films=%{x}<extra></extra>",
           "legendgroup": "Germany",
           "marker": {
            "color": "#636efa",
            "pattern": {
             "shape": ""
            }
           },
           "name": "Germany",
           "offsetgroup": "Germany",
           "orientation": "h",
           "showlegend": true,
           "textposition": "auto",
           "type": "bar",
           "x": [
            0
           ],
           "xaxis": "x",
           "y": [
            "Germany"
           ],
           "yaxis": "y"
          },
          {
           "alignmentgroup": "True",
           "hovertemplate": "Pays=%{y}<br>release_year=1920<br>Nombre cumulé de films=%{x}<extra></extra>",
           "legendgroup": "United States of America",
           "marker": {
            "color": "#EF553B",
            "pattern": {
             "shape": ""
            }
           },
           "name": "United States of America",
           "offsetgroup": "United States of America",
           "orientation": "h",
           "showlegend": true,
           "textposition": "auto",
           "type": "bar",
           "x": [
            0
           ],
           "xaxis": "x",
           "y": [
            "United States of America"
           ],
           "yaxis": "y"
          },
          {
           "alignmentgroup": "True",
           "hovertemplate": "Pays=%{y}<br>release_year=1920<br>Nombre cumulé de films=%{x}<extra></extra>",
           "legendgroup": "Brazil",
           "marker": {
            "color": "#00cc96",
            "pattern": {
             "shape": ""
            }
           },
           "name": "Brazil",
           "offsetgroup": "Brazil",
           "orientation": "h",
           "showlegend": true,
           "textposition": "auto",
           "type": "bar",
           "x": [
            0
           ],
           "xaxis": "x",
           "y": [
            "Brazil"
           ],
           "yaxis": "y"
          },
          {
           "alignmentgroup": "True",
           "hovertemplate": "Pays=%{y}<br>release_year=1920<br>Nombre cumulé de films=%{x}<extra></extra>",
           "legendgroup": "Netherlands",
           "marker": {
            "color": "#ab63fa",
            "pattern": {
             "shape": ""
            }
           },
           "name": "Netherlands",
           "offsetgroup": "Netherlands",
           "orientation": "h",
           "showlegend": true,
           "textposition": "auto",
           "type": "bar",
           "x": [
            0
           ],
           "xaxis": "x",
           "y": [
            "Netherlands"
           ],
           "yaxis": "y"
          },
          {
           "alignmentgroup": "True",
           "hovertemplate": "Pays=%{y}<br>release_year=1920<br>Nombre cumulé de films=%{x}<extra></extra>",
           "legendgroup": "Canada",
           "marker": {
            "color": "#FFA15A",
            "pattern": {
             "shape": ""
            }
           },
           "name": "Canada",
           "offsetgroup": "Canada",
           "orientation": "h",
           "showlegend": true,
           "textposition": "auto",
           "type": "bar",
           "x": [
            0
           ],
           "xaxis": "x",
           "y": [
            "Canada"
           ],
           "yaxis": "y"
          },
          {
           "alignmentgroup": "True",
           "hovertemplate": "Pays=%{y}<br>release_year=1920<br>Nombre cumulé de films=%{x}<extra></extra>",
           "legendgroup": "France",
           "marker": {
            "color": "#19d3f3",
            "pattern": {
             "shape": ""
            }
           },
           "name": "France",
           "offsetgroup": "France",
           "orientation": "h",
           "showlegend": true,
           "textposition": "auto",
           "type": "bar",
           "x": [
            0
           ],
           "xaxis": "x",
           "y": [
            "France"
           ],
           "yaxis": "y"
          },
          {
           "alignmentgroup": "True",
           "hovertemplate": "Pays=%{y}<br>release_year=1920<br>Nombre cumulé de films=%{x}<extra></extra>",
           "legendgroup": "Czech Republic",
           "marker": {
            "color": "#FF6692",
            "pattern": {
             "shape": ""
            }
           },
           "name": "Czech Republic",
           "offsetgroup": "Czech Republic",
           "orientation": "h",
           "showlegend": true,
           "textposition": "auto",
           "type": "bar",
           "x": [
            0
           ],
           "xaxis": "x",
           "y": [
            "Czech Republic"
           ],
           "yaxis": "y"
          },
          {
           "alignmentgroup": "True",
           "hovertemplate": "Pays=%{y}<br>release_year=1920<br>Nombre cumulé de films=%{x}<extra></extra>",
           "legendgroup": "Hong Kong",
           "marker": {
            "color": "#B6E880",
            "pattern": {
             "shape": ""
            }
           },
           "name": "Hong Kong",
           "offsetgroup": "Hong Kong",
           "orientation": "h",
           "showlegend": true,
           "textposition": "auto",
           "type": "bar",
           "x": [
            0
           ],
           "xaxis": "x",
           "y": [
            "Hong Kong"
           ],
           "yaxis": "y"
          },
          {
           "alignmentgroup": "True",
           "hovertemplate": "Pays=%{y}<br>release_year=1920<br>Nombre cumulé de films=%{x}<extra></extra>",
           "legendgroup": "West Germany",
           "marker": {
            "color": "#FF97FF",
            "pattern": {
             "shape": ""
            }
           },
           "name": "West Germany",
           "offsetgroup": "West Germany",
           "orientation": "h",
           "showlegend": true,
           "textposition": "auto",
           "type": "bar",
           "x": [
            0
           ],
           "xaxis": "x",
           "y": [
            "West Germany"
           ],
           "yaxis": "y"
          },
          {
           "alignmentgroup": "True",
           "hovertemplate": "Pays=%{y}<br>release_year=1920<br>Nombre cumulé de films=%{x}<extra></extra>",
           "legendgroup": "United Kingdom",
           "marker": {
            "color": "#FECB52",
            "pattern": {
             "shape": ""
            }
           },
           "name": "United Kingdom",
           "offsetgroup": "United Kingdom",
           "orientation": "h",
           "showlegend": true,
           "textposition": "auto",
           "type": "bar",
           "x": [
            2
           ],
           "xaxis": "x",
           "y": [
            "United Kingdom"
           ],
           "yaxis": "y"
          }
         ],
         "name": "1920"
        },
        {
         "data": [
          {
           "alignmentgroup": "True",
           "hovertemplate": "Pays=%{y}<br>release_year=1921<br>Nombre cumulé de films=%{x}<extra></extra>",
           "legendgroup": "Germany",
           "marker": {
            "color": "#636efa",
            "pattern": {
             "shape": ""
            }
           },
           "name": "Germany",
           "offsetgroup": "Germany",
           "orientation": "h",
           "showlegend": true,
           "textposition": "auto",
           "type": "bar",
           "x": [
            0
           ],
           "xaxis": "x",
           "y": [
            "Germany"
           ],
           "yaxis": "y"
          },
          {
           "alignmentgroup": "True",
           "hovertemplate": "Pays=%{y}<br>release_year=1921<br>Nombre cumulé de films=%{x}<extra></extra>",
           "legendgroup": "United States of America",
           "marker": {
            "color": "#EF553B",
            "pattern": {
             "shape": ""
            }
           },
           "name": "United States of America",
           "offsetgroup": "United States of America",
           "orientation": "h",
           "showlegend": true,
           "textposition": "auto",
           "type": "bar",
           "x": [
            0
           ],
           "xaxis": "x",
           "y": [
            "United States of America"
           ],
           "yaxis": "y"
          },
          {
           "alignmentgroup": "True",
           "hovertemplate": "Pays=%{y}<br>release_year=1921<br>Nombre cumulé de films=%{x}<extra></extra>",
           "legendgroup": "Brazil",
           "marker": {
            "color": "#00cc96",
            "pattern": {
             "shape": ""
            }
           },
           "name": "Brazil",
           "offsetgroup": "Brazil",
           "orientation": "h",
           "showlegend": true,
           "textposition": "auto",
           "type": "bar",
           "x": [
            0
           ],
           "xaxis": "x",
           "y": [
            "Brazil"
           ],
           "yaxis": "y"
          },
          {
           "alignmentgroup": "True",
           "hovertemplate": "Pays=%{y}<br>release_year=1921<br>Nombre cumulé de films=%{x}<extra></extra>",
           "legendgroup": "Netherlands",
           "marker": {
            "color": "#ab63fa",
            "pattern": {
             "shape": ""
            }
           },
           "name": "Netherlands",
           "offsetgroup": "Netherlands",
           "orientation": "h",
           "showlegend": true,
           "textposition": "auto",
           "type": "bar",
           "x": [
            0
           ],
           "xaxis": "x",
           "y": [
            "Netherlands"
           ],
           "yaxis": "y"
          },
          {
           "alignmentgroup": "True",
           "hovertemplate": "Pays=%{y}<br>release_year=1921<br>Nombre cumulé de films=%{x}<extra></extra>",
           "legendgroup": "Canada",
           "marker": {
            "color": "#FFA15A",
            "pattern": {
             "shape": ""
            }
           },
           "name": "Canada",
           "offsetgroup": "Canada",
           "orientation": "h",
           "showlegend": true,
           "textposition": "auto",
           "type": "bar",
           "x": [
            0
           ],
           "xaxis": "x",
           "y": [
            "Canada"
           ],
           "yaxis": "y"
          },
          {
           "alignmentgroup": "True",
           "hovertemplate": "Pays=%{y}<br>release_year=1921<br>Nombre cumulé de films=%{x}<extra></extra>",
           "legendgroup": "France",
           "marker": {
            "color": "#19d3f3",
            "pattern": {
             "shape": ""
            }
           },
           "name": "France",
           "offsetgroup": "France",
           "orientation": "h",
           "showlegend": true,
           "textposition": "auto",
           "type": "bar",
           "x": [
            0
           ],
           "xaxis": "x",
           "y": [
            "France"
           ],
           "yaxis": "y"
          },
          {
           "alignmentgroup": "True",
           "hovertemplate": "Pays=%{y}<br>release_year=1921<br>Nombre cumulé de films=%{x}<extra></extra>",
           "legendgroup": "Czech Republic",
           "marker": {
            "color": "#FF6692",
            "pattern": {
             "shape": ""
            }
           },
           "name": "Czech Republic",
           "offsetgroup": "Czech Republic",
           "orientation": "h",
           "showlegend": true,
           "textposition": "auto",
           "type": "bar",
           "x": [
            0
           ],
           "xaxis": "x",
           "y": [
            "Czech Republic"
           ],
           "yaxis": "y"
          },
          {
           "alignmentgroup": "True",
           "hovertemplate": "Pays=%{y}<br>release_year=1921<br>Nombre cumulé de films=%{x}<extra></extra>",
           "legendgroup": "Hong Kong",
           "marker": {
            "color": "#B6E880",
            "pattern": {
             "shape": ""
            }
           },
           "name": "Hong Kong",
           "offsetgroup": "Hong Kong",
           "orientation": "h",
           "showlegend": true,
           "textposition": "auto",
           "type": "bar",
           "x": [
            0
           ],
           "xaxis": "x",
           "y": [
            "Hong Kong"
           ],
           "yaxis": "y"
          },
          {
           "alignmentgroup": "True",
           "hovertemplate": "Pays=%{y}<br>release_year=1921<br>Nombre cumulé de films=%{x}<extra></extra>",
           "legendgroup": "West Germany",
           "marker": {
            "color": "#FF97FF",
            "pattern": {
             "shape": ""
            }
           },
           "name": "West Germany",
           "offsetgroup": "West Germany",
           "orientation": "h",
           "showlegend": true,
           "textposition": "auto",
           "type": "bar",
           "x": [
            0
           ],
           "xaxis": "x",
           "y": [
            "West Germany"
           ],
           "yaxis": "y"
          },
          {
           "alignmentgroup": "True",
           "hovertemplate": "Pays=%{y}<br>release_year=1921<br>Nombre cumulé de films=%{x}<extra></extra>",
           "legendgroup": "United Kingdom",
           "marker": {
            "color": "#FECB52",
            "pattern": {
             "shape": ""
            }
           },
           "name": "United Kingdom",
           "offsetgroup": "United Kingdom",
           "orientation": "h",
           "showlegend": true,
           "textposition": "auto",
           "type": "bar",
           "x": [
            2
           ],
           "xaxis": "x",
           "y": [
            "United Kingdom"
           ],
           "yaxis": "y"
          }
         ],
         "name": "1921"
        },
        {
         "data": [
          {
           "alignmentgroup": "True",
           "hovertemplate": "Pays=%{y}<br>release_year=1922<br>Nombre cumulé de films=%{x}<extra></extra>",
           "legendgroup": "Germany",
           "marker": {
            "color": "#636efa",
            "pattern": {
             "shape": ""
            }
           },
           "name": "Germany",
           "offsetgroup": "Germany",
           "orientation": "h",
           "showlegend": true,
           "textposition": "auto",
           "type": "bar",
           "x": [
            0
           ],
           "xaxis": "x",
           "y": [
            "Germany"
           ],
           "yaxis": "y"
          },
          {
           "alignmentgroup": "True",
           "hovertemplate": "Pays=%{y}<br>release_year=1922<br>Nombre cumulé de films=%{x}<extra></extra>",
           "legendgroup": "United States of America",
           "marker": {
            "color": "#EF553B",
            "pattern": {
             "shape": ""
            }
           },
           "name": "United States of America",
           "offsetgroup": "United States of America",
           "orientation": "h",
           "showlegend": true,
           "textposition": "auto",
           "type": "bar",
           "x": [
            0
           ],
           "xaxis": "x",
           "y": [
            "United States of America"
           ],
           "yaxis": "y"
          },
          {
           "alignmentgroup": "True",
           "hovertemplate": "Pays=%{y}<br>release_year=1922<br>Nombre cumulé de films=%{x}<extra></extra>",
           "legendgroup": "Brazil",
           "marker": {
            "color": "#00cc96",
            "pattern": {
             "shape": ""
            }
           },
           "name": "Brazil",
           "offsetgroup": "Brazil",
           "orientation": "h",
           "showlegend": true,
           "textposition": "auto",
           "type": "bar",
           "x": [
            0
           ],
           "xaxis": "x",
           "y": [
            "Brazil"
           ],
           "yaxis": "y"
          },
          {
           "alignmentgroup": "True",
           "hovertemplate": "Pays=%{y}<br>release_year=1922<br>Nombre cumulé de films=%{x}<extra></extra>",
           "legendgroup": "Netherlands",
           "marker": {
            "color": "#ab63fa",
            "pattern": {
             "shape": ""
            }
           },
           "name": "Netherlands",
           "offsetgroup": "Netherlands",
           "orientation": "h",
           "showlegend": true,
           "textposition": "auto",
           "type": "bar",
           "x": [
            0
           ],
           "xaxis": "x",
           "y": [
            "Netherlands"
           ],
           "yaxis": "y"
          },
          {
           "alignmentgroup": "True",
           "hovertemplate": "Pays=%{y}<br>release_year=1922<br>Nombre cumulé de films=%{x}<extra></extra>",
           "legendgroup": "Canada",
           "marker": {
            "color": "#FFA15A",
            "pattern": {
             "shape": ""
            }
           },
           "name": "Canada",
           "offsetgroup": "Canada",
           "orientation": "h",
           "showlegend": true,
           "textposition": "auto",
           "type": "bar",
           "x": [
            0
           ],
           "xaxis": "x",
           "y": [
            "Canada"
           ],
           "yaxis": "y"
          },
          {
           "alignmentgroup": "True",
           "hovertemplate": "Pays=%{y}<br>release_year=1922<br>Nombre cumulé de films=%{x}<extra></extra>",
           "legendgroup": "France",
           "marker": {
            "color": "#19d3f3",
            "pattern": {
             "shape": ""
            }
           },
           "name": "France",
           "offsetgroup": "France",
           "orientation": "h",
           "showlegend": true,
           "textposition": "auto",
           "type": "bar",
           "x": [
            0
           ],
           "xaxis": "x",
           "y": [
            "France"
           ],
           "yaxis": "y"
          },
          {
           "alignmentgroup": "True",
           "hovertemplate": "Pays=%{y}<br>release_year=1922<br>Nombre cumulé de films=%{x}<extra></extra>",
           "legendgroup": "Czech Republic",
           "marker": {
            "color": "#FF6692",
            "pattern": {
             "shape": ""
            }
           },
           "name": "Czech Republic",
           "offsetgroup": "Czech Republic",
           "orientation": "h",
           "showlegend": true,
           "textposition": "auto",
           "type": "bar",
           "x": [
            0
           ],
           "xaxis": "x",
           "y": [
            "Czech Republic"
           ],
           "yaxis": "y"
          },
          {
           "alignmentgroup": "True",
           "hovertemplate": "Pays=%{y}<br>release_year=1922<br>Nombre cumulé de films=%{x}<extra></extra>",
           "legendgroup": "Hong Kong",
           "marker": {
            "color": "#B6E880",
            "pattern": {
             "shape": ""
            }
           },
           "name": "Hong Kong",
           "offsetgroup": "Hong Kong",
           "orientation": "h",
           "showlegend": true,
           "textposition": "auto",
           "type": "bar",
           "x": [
            0
           ],
           "xaxis": "x",
           "y": [
            "Hong Kong"
           ],
           "yaxis": "y"
          },
          {
           "alignmentgroup": "True",
           "hovertemplate": "Pays=%{y}<br>release_year=1922<br>Nombre cumulé de films=%{x}<extra></extra>",
           "legendgroup": "West Germany",
           "marker": {
            "color": "#FF97FF",
            "pattern": {
             "shape": ""
            }
           },
           "name": "West Germany",
           "offsetgroup": "West Germany",
           "orientation": "h",
           "showlegend": true,
           "textposition": "auto",
           "type": "bar",
           "x": [
            0
           ],
           "xaxis": "x",
           "y": [
            "West Germany"
           ],
           "yaxis": "y"
          },
          {
           "alignmentgroup": "True",
           "hovertemplate": "Pays=%{y}<br>release_year=1922<br>Nombre cumulé de films=%{x}<extra></extra>",
           "legendgroup": "United Kingdom",
           "marker": {
            "color": "#FECB52",
            "pattern": {
             "shape": ""
            }
           },
           "name": "United Kingdom",
           "offsetgroup": "United Kingdom",
           "orientation": "h",
           "showlegend": true,
           "textposition": "auto",
           "type": "bar",
           "x": [
            3
           ],
           "xaxis": "x",
           "y": [
            "United Kingdom"
           ],
           "yaxis": "y"
          }
         ],
         "name": "1922"
        },
        {
         "data": [
          {
           "alignmentgroup": "True",
           "hovertemplate": "Pays=%{y}<br>release_year=1923<br>Nombre cumulé de films=%{x}<extra></extra>",
           "legendgroup": "Germany",
           "marker": {
            "color": "#636efa",
            "pattern": {
             "shape": ""
            }
           },
           "name": "Germany",
           "offsetgroup": "Germany",
           "orientation": "h",
           "showlegend": true,
           "textposition": "auto",
           "type": "bar",
           "x": [
            0
           ],
           "xaxis": "x",
           "y": [
            "Germany"
           ],
           "yaxis": "y"
          },
          {
           "alignmentgroup": "True",
           "hovertemplate": "Pays=%{y}<br>release_year=1923<br>Nombre cumulé de films=%{x}<extra></extra>",
           "legendgroup": "United States of America",
           "marker": {
            "color": "#EF553B",
            "pattern": {
             "shape": ""
            }
           },
           "name": "United States of America",
           "offsetgroup": "United States of America",
           "orientation": "h",
           "showlegend": true,
           "textposition": "auto",
           "type": "bar",
           "x": [
            0
           ],
           "xaxis": "x",
           "y": [
            "United States of America"
           ],
           "yaxis": "y"
          },
          {
           "alignmentgroup": "True",
           "hovertemplate": "Pays=%{y}<br>release_year=1923<br>Nombre cumulé de films=%{x}<extra></extra>",
           "legendgroup": "Brazil",
           "marker": {
            "color": "#00cc96",
            "pattern": {
             "shape": ""
            }
           },
           "name": "Brazil",
           "offsetgroup": "Brazil",
           "orientation": "h",
           "showlegend": true,
           "textposition": "auto",
           "type": "bar",
           "x": [
            0
           ],
           "xaxis": "x",
           "y": [
            "Brazil"
           ],
           "yaxis": "y"
          },
          {
           "alignmentgroup": "True",
           "hovertemplate": "Pays=%{y}<br>release_year=1923<br>Nombre cumulé de films=%{x}<extra></extra>",
           "legendgroup": "Netherlands",
           "marker": {
            "color": "#ab63fa",
            "pattern": {
             "shape": ""
            }
           },
           "name": "Netherlands",
           "offsetgroup": "Netherlands",
           "orientation": "h",
           "showlegend": true,
           "textposition": "auto",
           "type": "bar",
           "x": [
            0
           ],
           "xaxis": "x",
           "y": [
            "Netherlands"
           ],
           "yaxis": "y"
          },
          {
           "alignmentgroup": "True",
           "hovertemplate": "Pays=%{y}<br>release_year=1923<br>Nombre cumulé de films=%{x}<extra></extra>",
           "legendgroup": "Canada",
           "marker": {
            "color": "#FFA15A",
            "pattern": {
             "shape": ""
            }
           },
           "name": "Canada",
           "offsetgroup": "Canada",
           "orientation": "h",
           "showlegend": true,
           "textposition": "auto",
           "type": "bar",
           "x": [
            0
           ],
           "xaxis": "x",
           "y": [
            "Canada"
           ],
           "yaxis": "y"
          },
          {
           "alignmentgroup": "True",
           "hovertemplate": "Pays=%{y}<br>release_year=1923<br>Nombre cumulé de films=%{x}<extra></extra>",
           "legendgroup": "France",
           "marker": {
            "color": "#19d3f3",
            "pattern": {
             "shape": ""
            }
           },
           "name": "France",
           "offsetgroup": "France",
           "orientation": "h",
           "showlegend": true,
           "textposition": "auto",
           "type": "bar",
           "x": [
            0
           ],
           "xaxis": "x",
           "y": [
            "France"
           ],
           "yaxis": "y"
          },
          {
           "alignmentgroup": "True",
           "hovertemplate": "Pays=%{y}<br>release_year=1923<br>Nombre cumulé de films=%{x}<extra></extra>",
           "legendgroup": "Czech Republic",
           "marker": {
            "color": "#FF6692",
            "pattern": {
             "shape": ""
            }
           },
           "name": "Czech Republic",
           "offsetgroup": "Czech Republic",
           "orientation": "h",
           "showlegend": true,
           "textposition": "auto",
           "type": "bar",
           "x": [
            0
           ],
           "xaxis": "x",
           "y": [
            "Czech Republic"
           ],
           "yaxis": "y"
          },
          {
           "alignmentgroup": "True",
           "hovertemplate": "Pays=%{y}<br>release_year=1923<br>Nombre cumulé de films=%{x}<extra></extra>",
           "legendgroup": "Hong Kong",
           "marker": {
            "color": "#B6E880",
            "pattern": {
             "shape": ""
            }
           },
           "name": "Hong Kong",
           "offsetgroup": "Hong Kong",
           "orientation": "h",
           "showlegend": true,
           "textposition": "auto",
           "type": "bar",
           "x": [
            0
           ],
           "xaxis": "x",
           "y": [
            "Hong Kong"
           ],
           "yaxis": "y"
          },
          {
           "alignmentgroup": "True",
           "hovertemplate": "Pays=%{y}<br>release_year=1923<br>Nombre cumulé de films=%{x}<extra></extra>",
           "legendgroup": "West Germany",
           "marker": {
            "color": "#FF97FF",
            "pattern": {
             "shape": ""
            }
           },
           "name": "West Germany",
           "offsetgroup": "West Germany",
           "orientation": "h",
           "showlegend": true,
           "textposition": "auto",
           "type": "bar",
           "x": [
            0
           ],
           "xaxis": "x",
           "y": [
            "West Germany"
           ],
           "yaxis": "y"
          },
          {
           "alignmentgroup": "True",
           "hovertemplate": "Pays=%{y}<br>release_year=1923<br>Nombre cumulé de films=%{x}<extra></extra>",
           "legendgroup": "United Kingdom",
           "marker": {
            "color": "#FECB52",
            "pattern": {
             "shape": ""
            }
           },
           "name": "United Kingdom",
           "offsetgroup": "United Kingdom",
           "orientation": "h",
           "showlegend": true,
           "textposition": "auto",
           "type": "bar",
           "x": [
            3
           ],
           "xaxis": "x",
           "y": [
            "United Kingdom"
           ],
           "yaxis": "y"
          }
         ],
         "name": "1923"
        },
        {
         "data": [
          {
           "alignmentgroup": "True",
           "hovertemplate": "Pays=%{y}<br>release_year=1924<br>Nombre cumulé de films=%{x}<extra></extra>",
           "legendgroup": "Germany",
           "marker": {
            "color": "#636efa",
            "pattern": {
             "shape": ""
            }
           },
           "name": "Germany",
           "offsetgroup": "Germany",
           "orientation": "h",
           "showlegend": true,
           "textposition": "auto",
           "type": "bar",
           "x": [
            0
           ],
           "xaxis": "x",
           "y": [
            "Germany"
           ],
           "yaxis": "y"
          },
          {
           "alignmentgroup": "True",
           "hovertemplate": "Pays=%{y}<br>release_year=1924<br>Nombre cumulé de films=%{x}<extra></extra>",
           "legendgroup": "United States of America",
           "marker": {
            "color": "#EF553B",
            "pattern": {
             "shape": ""
            }
           },
           "name": "United States of America",
           "offsetgroup": "United States of America",
           "orientation": "h",
           "showlegend": true,
           "textposition": "auto",
           "type": "bar",
           "x": [
            0
           ],
           "xaxis": "x",
           "y": [
            "United States of America"
           ],
           "yaxis": "y"
          },
          {
           "alignmentgroup": "True",
           "hovertemplate": "Pays=%{y}<br>release_year=1924<br>Nombre cumulé de films=%{x}<extra></extra>",
           "legendgroup": "Brazil",
           "marker": {
            "color": "#00cc96",
            "pattern": {
             "shape": ""
            }
           },
           "name": "Brazil",
           "offsetgroup": "Brazil",
           "orientation": "h",
           "showlegend": true,
           "textposition": "auto",
           "type": "bar",
           "x": [
            0
           ],
           "xaxis": "x",
           "y": [
            "Brazil"
           ],
           "yaxis": "y"
          },
          {
           "alignmentgroup": "True",
           "hovertemplate": "Pays=%{y}<br>release_year=1924<br>Nombre cumulé de films=%{x}<extra></extra>",
           "legendgroup": "Netherlands",
           "marker": {
            "color": "#ab63fa",
            "pattern": {
             "shape": ""
            }
           },
           "name": "Netherlands",
           "offsetgroup": "Netherlands",
           "orientation": "h",
           "showlegend": true,
           "textposition": "auto",
           "type": "bar",
           "x": [
            0
           ],
           "xaxis": "x",
           "y": [
            "Netherlands"
           ],
           "yaxis": "y"
          },
          {
           "alignmentgroup": "True",
           "hovertemplate": "Pays=%{y}<br>release_year=1924<br>Nombre cumulé de films=%{x}<extra></extra>",
           "legendgroup": "Canada",
           "marker": {
            "color": "#FFA15A",
            "pattern": {
             "shape": ""
            }
           },
           "name": "Canada",
           "offsetgroup": "Canada",
           "orientation": "h",
           "showlegend": true,
           "textposition": "auto",
           "type": "bar",
           "x": [
            0
           ],
           "xaxis": "x",
           "y": [
            "Canada"
           ],
           "yaxis": "y"
          },
          {
           "alignmentgroup": "True",
           "hovertemplate": "Pays=%{y}<br>release_year=1924<br>Nombre cumulé de films=%{x}<extra></extra>",
           "legendgroup": "France",
           "marker": {
            "color": "#19d3f3",
            "pattern": {
             "shape": ""
            }
           },
           "name": "France",
           "offsetgroup": "France",
           "orientation": "h",
           "showlegend": true,
           "textposition": "auto",
           "type": "bar",
           "x": [
            0
           ],
           "xaxis": "x",
           "y": [
            "France"
           ],
           "yaxis": "y"
          },
          {
           "alignmentgroup": "True",
           "hovertemplate": "Pays=%{y}<br>release_year=1924<br>Nombre cumulé de films=%{x}<extra></extra>",
           "legendgroup": "Czech Republic",
           "marker": {
            "color": "#FF6692",
            "pattern": {
             "shape": ""
            }
           },
           "name": "Czech Republic",
           "offsetgroup": "Czech Republic",
           "orientation": "h",
           "showlegend": true,
           "textposition": "auto",
           "type": "bar",
           "x": [
            0
           ],
           "xaxis": "x",
           "y": [
            "Czech Republic"
           ],
           "yaxis": "y"
          },
          {
           "alignmentgroup": "True",
           "hovertemplate": "Pays=%{y}<br>release_year=1924<br>Nombre cumulé de films=%{x}<extra></extra>",
           "legendgroup": "Hong Kong",
           "marker": {
            "color": "#B6E880",
            "pattern": {
             "shape": ""
            }
           },
           "name": "Hong Kong",
           "offsetgroup": "Hong Kong",
           "orientation": "h",
           "showlegend": true,
           "textposition": "auto",
           "type": "bar",
           "x": [
            0
           ],
           "xaxis": "x",
           "y": [
            "Hong Kong"
           ],
           "yaxis": "y"
          },
          {
           "alignmentgroup": "True",
           "hovertemplate": "Pays=%{y}<br>release_year=1924<br>Nombre cumulé de films=%{x}<extra></extra>",
           "legendgroup": "West Germany",
           "marker": {
            "color": "#FF97FF",
            "pattern": {
             "shape": ""
            }
           },
           "name": "West Germany",
           "offsetgroup": "West Germany",
           "orientation": "h",
           "showlegend": true,
           "textposition": "auto",
           "type": "bar",
           "x": [
            0
           ],
           "xaxis": "x",
           "y": [
            "West Germany"
           ],
           "yaxis": "y"
          },
          {
           "alignmentgroup": "True",
           "hovertemplate": "Pays=%{y}<br>release_year=1924<br>Nombre cumulé de films=%{x}<extra></extra>",
           "legendgroup": "United Kingdom",
           "marker": {
            "color": "#FECB52",
            "pattern": {
             "shape": ""
            }
           },
           "name": "United Kingdom",
           "offsetgroup": "United Kingdom",
           "orientation": "h",
           "showlegend": true,
           "textposition": "auto",
           "type": "bar",
           "x": [
            3
           ],
           "xaxis": "x",
           "y": [
            "United Kingdom"
           ],
           "yaxis": "y"
          }
         ],
         "name": "1924"
        },
        {
         "data": [
          {
           "alignmentgroup": "True",
           "hovertemplate": "Pays=%{y}<br>release_year=1925<br>Nombre cumulé de films=%{x}<extra></extra>",
           "legendgroup": "Germany",
           "marker": {
            "color": "#636efa",
            "pattern": {
             "shape": ""
            }
           },
           "name": "Germany",
           "offsetgroup": "Germany",
           "orientation": "h",
           "showlegend": true,
           "textposition": "auto",
           "type": "bar",
           "x": [
            0
           ],
           "xaxis": "x",
           "y": [
            "Germany"
           ],
           "yaxis": "y"
          },
          {
           "alignmentgroup": "True",
           "hovertemplate": "Pays=%{y}<br>release_year=1925<br>Nombre cumulé de films=%{x}<extra></extra>",
           "legendgroup": "United States of America",
           "marker": {
            "color": "#EF553B",
            "pattern": {
             "shape": ""
            }
           },
           "name": "United States of America",
           "offsetgroup": "United States of America",
           "orientation": "h",
           "showlegend": true,
           "textposition": "auto",
           "type": "bar",
           "x": [
            0
           ],
           "xaxis": "x",
           "y": [
            "United States of America"
           ],
           "yaxis": "y"
          },
          {
           "alignmentgroup": "True",
           "hovertemplate": "Pays=%{y}<br>release_year=1925<br>Nombre cumulé de films=%{x}<extra></extra>",
           "legendgroup": "Brazil",
           "marker": {
            "color": "#00cc96",
            "pattern": {
             "shape": ""
            }
           },
           "name": "Brazil",
           "offsetgroup": "Brazil",
           "orientation": "h",
           "showlegend": true,
           "textposition": "auto",
           "type": "bar",
           "x": [
            0
           ],
           "xaxis": "x",
           "y": [
            "Brazil"
           ],
           "yaxis": "y"
          },
          {
           "alignmentgroup": "True",
           "hovertemplate": "Pays=%{y}<br>release_year=1925<br>Nombre cumulé de films=%{x}<extra></extra>",
           "legendgroup": "Netherlands",
           "marker": {
            "color": "#ab63fa",
            "pattern": {
             "shape": ""
            }
           },
           "name": "Netherlands",
           "offsetgroup": "Netherlands",
           "orientation": "h",
           "showlegend": true,
           "textposition": "auto",
           "type": "bar",
           "x": [
            0
           ],
           "xaxis": "x",
           "y": [
            "Netherlands"
           ],
           "yaxis": "y"
          },
          {
           "alignmentgroup": "True",
           "hovertemplate": "Pays=%{y}<br>release_year=1925<br>Nombre cumulé de films=%{x}<extra></extra>",
           "legendgroup": "Canada",
           "marker": {
            "color": "#FFA15A",
            "pattern": {
             "shape": ""
            }
           },
           "name": "Canada",
           "offsetgroup": "Canada",
           "orientation": "h",
           "showlegend": true,
           "textposition": "auto",
           "type": "bar",
           "x": [
            0
           ],
           "xaxis": "x",
           "y": [
            "Canada"
           ],
           "yaxis": "y"
          },
          {
           "alignmentgroup": "True",
           "hovertemplate": "Pays=%{y}<br>release_year=1925<br>Nombre cumulé de films=%{x}<extra></extra>",
           "legendgroup": "France",
           "marker": {
            "color": "#19d3f3",
            "pattern": {
             "shape": ""
            }
           },
           "name": "France",
           "offsetgroup": "France",
           "orientation": "h",
           "showlegend": true,
           "textposition": "auto",
           "type": "bar",
           "x": [
            1
           ],
           "xaxis": "x",
           "y": [
            "France"
           ],
           "yaxis": "y"
          },
          {
           "alignmentgroup": "True",
           "hovertemplate": "Pays=%{y}<br>release_year=1925<br>Nombre cumulé de films=%{x}<extra></extra>",
           "legendgroup": "Czech Republic",
           "marker": {
            "color": "#FF6692",
            "pattern": {
             "shape": ""
            }
           },
           "name": "Czech Republic",
           "offsetgroup": "Czech Republic",
           "orientation": "h",
           "showlegend": true,
           "textposition": "auto",
           "type": "bar",
           "x": [
            0
           ],
           "xaxis": "x",
           "y": [
            "Czech Republic"
           ],
           "yaxis": "y"
          },
          {
           "alignmentgroup": "True",
           "hovertemplate": "Pays=%{y}<br>release_year=1925<br>Nombre cumulé de films=%{x}<extra></extra>",
           "legendgroup": "Hong Kong",
           "marker": {
            "color": "#B6E880",
            "pattern": {
             "shape": ""
            }
           },
           "name": "Hong Kong",
           "offsetgroup": "Hong Kong",
           "orientation": "h",
           "showlegend": true,
           "textposition": "auto",
           "type": "bar",
           "x": [
            0
           ],
           "xaxis": "x",
           "y": [
            "Hong Kong"
           ],
           "yaxis": "y"
          },
          {
           "alignmentgroup": "True",
           "hovertemplate": "Pays=%{y}<br>release_year=1925<br>Nombre cumulé de films=%{x}<extra></extra>",
           "legendgroup": "West Germany",
           "marker": {
            "color": "#FF97FF",
            "pattern": {
             "shape": ""
            }
           },
           "name": "West Germany",
           "offsetgroup": "West Germany",
           "orientation": "h",
           "showlegend": true,
           "textposition": "auto",
           "type": "bar",
           "x": [
            0
           ],
           "xaxis": "x",
           "y": [
            "West Germany"
           ],
           "yaxis": "y"
          },
          {
           "alignmentgroup": "True",
           "hovertemplate": "Pays=%{y}<br>release_year=1925<br>Nombre cumulé de films=%{x}<extra></extra>",
           "legendgroup": "United Kingdom",
           "marker": {
            "color": "#FECB52",
            "pattern": {
             "shape": ""
            }
           },
           "name": "United Kingdom",
           "offsetgroup": "United Kingdom",
           "orientation": "h",
           "showlegend": true,
           "textposition": "auto",
           "type": "bar",
           "x": [
            5
           ],
           "xaxis": "x",
           "y": [
            "United Kingdom"
           ],
           "yaxis": "y"
          }
         ],
         "name": "1925"
        },
        {
         "data": [
          {
           "alignmentgroup": "True",
           "hovertemplate": "Pays=%{y}<br>release_year=1926<br>Nombre cumulé de films=%{x}<extra></extra>",
           "legendgroup": "Germany",
           "marker": {
            "color": "#636efa",
            "pattern": {
             "shape": ""
            }
           },
           "name": "Germany",
           "offsetgroup": "Germany",
           "orientation": "h",
           "showlegend": true,
           "textposition": "auto",
           "type": "bar",
           "x": [
            0
           ],
           "xaxis": "x",
           "y": [
            "Germany"
           ],
           "yaxis": "y"
          },
          {
           "alignmentgroup": "True",
           "hovertemplate": "Pays=%{y}<br>release_year=1926<br>Nombre cumulé de films=%{x}<extra></extra>",
           "legendgroup": "United States of America",
           "marker": {
            "color": "#EF553B",
            "pattern": {
             "shape": ""
            }
           },
           "name": "United States of America",
           "offsetgroup": "United States of America",
           "orientation": "h",
           "showlegend": true,
           "textposition": "auto",
           "type": "bar",
           "x": [
            0
           ],
           "xaxis": "x",
           "y": [
            "United States of America"
           ],
           "yaxis": "y"
          },
          {
           "alignmentgroup": "True",
           "hovertemplate": "Pays=%{y}<br>release_year=1926<br>Nombre cumulé de films=%{x}<extra></extra>",
           "legendgroup": "Brazil",
           "marker": {
            "color": "#00cc96",
            "pattern": {
             "shape": ""
            }
           },
           "name": "Brazil",
           "offsetgroup": "Brazil",
           "orientation": "h",
           "showlegend": true,
           "textposition": "auto",
           "type": "bar",
           "x": [
            0
           ],
           "xaxis": "x",
           "y": [
            "Brazil"
           ],
           "yaxis": "y"
          },
          {
           "alignmentgroup": "True",
           "hovertemplate": "Pays=%{y}<br>release_year=1926<br>Nombre cumulé de films=%{x}<extra></extra>",
           "legendgroup": "Netherlands",
           "marker": {
            "color": "#ab63fa",
            "pattern": {
             "shape": ""
            }
           },
           "name": "Netherlands",
           "offsetgroup": "Netherlands",
           "orientation": "h",
           "showlegend": true,
           "textposition": "auto",
           "type": "bar",
           "x": [
            0
           ],
           "xaxis": "x",
           "y": [
            "Netherlands"
           ],
           "yaxis": "y"
          },
          {
           "alignmentgroup": "True",
           "hovertemplate": "Pays=%{y}<br>release_year=1926<br>Nombre cumulé de films=%{x}<extra></extra>",
           "legendgroup": "Canada",
           "marker": {
            "color": "#FFA15A",
            "pattern": {
             "shape": ""
            }
           },
           "name": "Canada",
           "offsetgroup": "Canada",
           "orientation": "h",
           "showlegend": true,
           "textposition": "auto",
           "type": "bar",
           "x": [
            0
           ],
           "xaxis": "x",
           "y": [
            "Canada"
           ],
           "yaxis": "y"
          },
          {
           "alignmentgroup": "True",
           "hovertemplate": "Pays=%{y}<br>release_year=1926<br>Nombre cumulé de films=%{x}<extra></extra>",
           "legendgroup": "France",
           "marker": {
            "color": "#19d3f3",
            "pattern": {
             "shape": ""
            }
           },
           "name": "France",
           "offsetgroup": "France",
           "orientation": "h",
           "showlegend": true,
           "textposition": "auto",
           "type": "bar",
           "x": [
            1
           ],
           "xaxis": "x",
           "y": [
            "France"
           ],
           "yaxis": "y"
          },
          {
           "alignmentgroup": "True",
           "hovertemplate": "Pays=%{y}<br>release_year=1926<br>Nombre cumulé de films=%{x}<extra></extra>",
           "legendgroup": "Czech Republic",
           "marker": {
            "color": "#FF6692",
            "pattern": {
             "shape": ""
            }
           },
           "name": "Czech Republic",
           "offsetgroup": "Czech Republic",
           "orientation": "h",
           "showlegend": true,
           "textposition": "auto",
           "type": "bar",
           "x": [
            0
           ],
           "xaxis": "x",
           "y": [
            "Czech Republic"
           ],
           "yaxis": "y"
          },
          {
           "alignmentgroup": "True",
           "hovertemplate": "Pays=%{y}<br>release_year=1926<br>Nombre cumulé de films=%{x}<extra></extra>",
           "legendgroup": "Hong Kong",
           "marker": {
            "color": "#B6E880",
            "pattern": {
             "shape": ""
            }
           },
           "name": "Hong Kong",
           "offsetgroup": "Hong Kong",
           "orientation": "h",
           "showlegend": true,
           "textposition": "auto",
           "type": "bar",
           "x": [
            0
           ],
           "xaxis": "x",
           "y": [
            "Hong Kong"
           ],
           "yaxis": "y"
          },
          {
           "alignmentgroup": "True",
           "hovertemplate": "Pays=%{y}<br>release_year=1926<br>Nombre cumulé de films=%{x}<extra></extra>",
           "legendgroup": "West Germany",
           "marker": {
            "color": "#FF97FF",
            "pattern": {
             "shape": ""
            }
           },
           "name": "West Germany",
           "offsetgroup": "West Germany",
           "orientation": "h",
           "showlegend": true,
           "textposition": "auto",
           "type": "bar",
           "x": [
            0
           ],
           "xaxis": "x",
           "y": [
            "West Germany"
           ],
           "yaxis": "y"
          },
          {
           "alignmentgroup": "True",
           "hovertemplate": "Pays=%{y}<br>release_year=1926<br>Nombre cumulé de films=%{x}<extra></extra>",
           "legendgroup": "United Kingdom",
           "marker": {
            "color": "#FECB52",
            "pattern": {
             "shape": ""
            }
           },
           "name": "United Kingdom",
           "offsetgroup": "United Kingdom",
           "orientation": "h",
           "showlegend": true,
           "textposition": "auto",
           "type": "bar",
           "x": [
            5
           ],
           "xaxis": "x",
           "y": [
            "United Kingdom"
           ],
           "yaxis": "y"
          }
         ],
         "name": "1926"
        },
        {
         "data": [
          {
           "alignmentgroup": "True",
           "hovertemplate": "Pays=%{y}<br>release_year=1927<br>Nombre cumulé de films=%{x}<extra></extra>",
           "legendgroup": "Germany",
           "marker": {
            "color": "#636efa",
            "pattern": {
             "shape": ""
            }
           },
           "name": "Germany",
           "offsetgroup": "Germany",
           "orientation": "h",
           "showlegend": true,
           "textposition": "auto",
           "type": "bar",
           "x": [
            0
           ],
           "xaxis": "x",
           "y": [
            "Germany"
           ],
           "yaxis": "y"
          },
          {
           "alignmentgroup": "True",
           "hovertemplate": "Pays=%{y}<br>release_year=1927<br>Nombre cumulé de films=%{x}<extra></extra>",
           "legendgroup": "United States of America",
           "marker": {
            "color": "#EF553B",
            "pattern": {
             "shape": ""
            }
           },
           "name": "United States of America",
           "offsetgroup": "United States of America",
           "orientation": "h",
           "showlegend": true,
           "textposition": "auto",
           "type": "bar",
           "x": [
            0
           ],
           "xaxis": "x",
           "y": [
            "United States of America"
           ],
           "yaxis": "y"
          },
          {
           "alignmentgroup": "True",
           "hovertemplate": "Pays=%{y}<br>release_year=1927<br>Nombre cumulé de films=%{x}<extra></extra>",
           "legendgroup": "Brazil",
           "marker": {
            "color": "#00cc96",
            "pattern": {
             "shape": ""
            }
           },
           "name": "Brazil",
           "offsetgroup": "Brazil",
           "orientation": "h",
           "showlegend": true,
           "textposition": "auto",
           "type": "bar",
           "x": [
            0
           ],
           "xaxis": "x",
           "y": [
            "Brazil"
           ],
           "yaxis": "y"
          },
          {
           "alignmentgroup": "True",
           "hovertemplate": "Pays=%{y}<br>release_year=1927<br>Nombre cumulé de films=%{x}<extra></extra>",
           "legendgroup": "Netherlands",
           "marker": {
            "color": "#ab63fa",
            "pattern": {
             "shape": ""
            }
           },
           "name": "Netherlands",
           "offsetgroup": "Netherlands",
           "orientation": "h",
           "showlegend": true,
           "textposition": "auto",
           "type": "bar",
           "x": [
            0
           ],
           "xaxis": "x",
           "y": [
            "Netherlands"
           ],
           "yaxis": "y"
          },
          {
           "alignmentgroup": "True",
           "hovertemplate": "Pays=%{y}<br>release_year=1927<br>Nombre cumulé de films=%{x}<extra></extra>",
           "legendgroup": "Canada",
           "marker": {
            "color": "#FFA15A",
            "pattern": {
             "shape": ""
            }
           },
           "name": "Canada",
           "offsetgroup": "Canada",
           "orientation": "h",
           "showlegend": true,
           "textposition": "auto",
           "type": "bar",
           "x": [
            0
           ],
           "xaxis": "x",
           "y": [
            "Canada"
           ],
           "yaxis": "y"
          },
          {
           "alignmentgroup": "True",
           "hovertemplate": "Pays=%{y}<br>release_year=1927<br>Nombre cumulé de films=%{x}<extra></extra>",
           "legendgroup": "France",
           "marker": {
            "color": "#19d3f3",
            "pattern": {
             "shape": ""
            }
           },
           "name": "France",
           "offsetgroup": "France",
           "orientation": "h",
           "showlegend": true,
           "textposition": "auto",
           "type": "bar",
           "x": [
            1
           ],
           "xaxis": "x",
           "y": [
            "France"
           ],
           "yaxis": "y"
          },
          {
           "alignmentgroup": "True",
           "hovertemplate": "Pays=%{y}<br>release_year=1927<br>Nombre cumulé de films=%{x}<extra></extra>",
           "legendgroup": "Czech Republic",
           "marker": {
            "color": "#FF6692",
            "pattern": {
             "shape": ""
            }
           },
           "name": "Czech Republic",
           "offsetgroup": "Czech Republic",
           "orientation": "h",
           "showlegend": true,
           "textposition": "auto",
           "type": "bar",
           "x": [
            0
           ],
           "xaxis": "x",
           "y": [
            "Czech Republic"
           ],
           "yaxis": "y"
          },
          {
           "alignmentgroup": "True",
           "hovertemplate": "Pays=%{y}<br>release_year=1927<br>Nombre cumulé de films=%{x}<extra></extra>",
           "legendgroup": "Hong Kong",
           "marker": {
            "color": "#B6E880",
            "pattern": {
             "shape": ""
            }
           },
           "name": "Hong Kong",
           "offsetgroup": "Hong Kong",
           "orientation": "h",
           "showlegend": true,
           "textposition": "auto",
           "type": "bar",
           "x": [
            0
           ],
           "xaxis": "x",
           "y": [
            "Hong Kong"
           ],
           "yaxis": "y"
          },
          {
           "alignmentgroup": "True",
           "hovertemplate": "Pays=%{y}<br>release_year=1927<br>Nombre cumulé de films=%{x}<extra></extra>",
           "legendgroup": "West Germany",
           "marker": {
            "color": "#FF97FF",
            "pattern": {
             "shape": ""
            }
           },
           "name": "West Germany",
           "offsetgroup": "West Germany",
           "orientation": "h",
           "showlegend": true,
           "textposition": "auto",
           "type": "bar",
           "x": [
            0
           ],
           "xaxis": "x",
           "y": [
            "West Germany"
           ],
           "yaxis": "y"
          },
          {
           "alignmentgroup": "True",
           "hovertemplate": "Pays=%{y}<br>release_year=1927<br>Nombre cumulé de films=%{x}<extra></extra>",
           "legendgroup": "United Kingdom",
           "marker": {
            "color": "#FECB52",
            "pattern": {
             "shape": ""
            }
           },
           "name": "United Kingdom",
           "offsetgroup": "United Kingdom",
           "orientation": "h",
           "showlegend": true,
           "textposition": "auto",
           "type": "bar",
           "x": [
            5
           ],
           "xaxis": "x",
           "y": [
            "United Kingdom"
           ],
           "yaxis": "y"
          }
         ],
         "name": "1927"
        },
        {
         "data": [
          {
           "alignmentgroup": "True",
           "hovertemplate": "Pays=%{y}<br>release_year=1928<br>Nombre cumulé de films=%{x}<extra></extra>",
           "legendgroup": "Germany",
           "marker": {
            "color": "#636efa",
            "pattern": {
             "shape": ""
            }
           },
           "name": "Germany",
           "offsetgroup": "Germany",
           "orientation": "h",
           "showlegend": true,
           "textposition": "auto",
           "type": "bar",
           "x": [
            0
           ],
           "xaxis": "x",
           "y": [
            "Germany"
           ],
           "yaxis": "y"
          },
          {
           "alignmentgroup": "True",
           "hovertemplate": "Pays=%{y}<br>release_year=1928<br>Nombre cumulé de films=%{x}<extra></extra>",
           "legendgroup": "United States of America",
           "marker": {
            "color": "#EF553B",
            "pattern": {
             "shape": ""
            }
           },
           "name": "United States of America",
           "offsetgroup": "United States of America",
           "orientation": "h",
           "showlegend": true,
           "textposition": "auto",
           "type": "bar",
           "x": [
            0
           ],
           "xaxis": "x",
           "y": [
            "United States of America"
           ],
           "yaxis": "y"
          },
          {
           "alignmentgroup": "True",
           "hovertemplate": "Pays=%{y}<br>release_year=1928<br>Nombre cumulé de films=%{x}<extra></extra>",
           "legendgroup": "Brazil",
           "marker": {
            "color": "#00cc96",
            "pattern": {
             "shape": ""
            }
           },
           "name": "Brazil",
           "offsetgroup": "Brazil",
           "orientation": "h",
           "showlegend": true,
           "textposition": "auto",
           "type": "bar",
           "x": [
            0
           ],
           "xaxis": "x",
           "y": [
            "Brazil"
           ],
           "yaxis": "y"
          },
          {
           "alignmentgroup": "True",
           "hovertemplate": "Pays=%{y}<br>release_year=1928<br>Nombre cumulé de films=%{x}<extra></extra>",
           "legendgroup": "Netherlands",
           "marker": {
            "color": "#ab63fa",
            "pattern": {
             "shape": ""
            }
           },
           "name": "Netherlands",
           "offsetgroup": "Netherlands",
           "orientation": "h",
           "showlegend": true,
           "textposition": "auto",
           "type": "bar",
           "x": [
            0
           ],
           "xaxis": "x",
           "y": [
            "Netherlands"
           ],
           "yaxis": "y"
          },
          {
           "alignmentgroup": "True",
           "hovertemplate": "Pays=%{y}<br>release_year=1928<br>Nombre cumulé de films=%{x}<extra></extra>",
           "legendgroup": "Canada",
           "marker": {
            "color": "#FFA15A",
            "pattern": {
             "shape": ""
            }
           },
           "name": "Canada",
           "offsetgroup": "Canada",
           "orientation": "h",
           "showlegend": true,
           "textposition": "auto",
           "type": "bar",
           "x": [
            0
           ],
           "xaxis": "x",
           "y": [
            "Canada"
           ],
           "yaxis": "y"
          },
          {
           "alignmentgroup": "True",
           "hovertemplate": "Pays=%{y}<br>release_year=1928<br>Nombre cumulé de films=%{x}<extra></extra>",
           "legendgroup": "France",
           "marker": {
            "color": "#19d3f3",
            "pattern": {
             "shape": ""
            }
           },
           "name": "France",
           "offsetgroup": "France",
           "orientation": "h",
           "showlegend": true,
           "textposition": "auto",
           "type": "bar",
           "x": [
            1
           ],
           "xaxis": "x",
           "y": [
            "France"
           ],
           "yaxis": "y"
          },
          {
           "alignmentgroup": "True",
           "hovertemplate": "Pays=%{y}<br>release_year=1928<br>Nombre cumulé de films=%{x}<extra></extra>",
           "legendgroup": "Czech Republic",
           "marker": {
            "color": "#FF6692",
            "pattern": {
             "shape": ""
            }
           },
           "name": "Czech Republic",
           "offsetgroup": "Czech Republic",
           "orientation": "h",
           "showlegend": true,
           "textposition": "auto",
           "type": "bar",
           "x": [
            0
           ],
           "xaxis": "x",
           "y": [
            "Czech Republic"
           ],
           "yaxis": "y"
          },
          {
           "alignmentgroup": "True",
           "hovertemplate": "Pays=%{y}<br>release_year=1928<br>Nombre cumulé de films=%{x}<extra></extra>",
           "legendgroup": "Hong Kong",
           "marker": {
            "color": "#B6E880",
            "pattern": {
             "shape": ""
            }
           },
           "name": "Hong Kong",
           "offsetgroup": "Hong Kong",
           "orientation": "h",
           "showlegend": true,
           "textposition": "auto",
           "type": "bar",
           "x": [
            0
           ],
           "xaxis": "x",
           "y": [
            "Hong Kong"
           ],
           "yaxis": "y"
          },
          {
           "alignmentgroup": "True",
           "hovertemplate": "Pays=%{y}<br>release_year=1928<br>Nombre cumulé de films=%{x}<extra></extra>",
           "legendgroup": "West Germany",
           "marker": {
            "color": "#FF97FF",
            "pattern": {
             "shape": ""
            }
           },
           "name": "West Germany",
           "offsetgroup": "West Germany",
           "orientation": "h",
           "showlegend": true,
           "textposition": "auto",
           "type": "bar",
           "x": [
            0
           ],
           "xaxis": "x",
           "y": [
            "West Germany"
           ],
           "yaxis": "y"
          },
          {
           "alignmentgroup": "True",
           "hovertemplate": "Pays=%{y}<br>release_year=1928<br>Nombre cumulé de films=%{x}<extra></extra>",
           "legendgroup": "United Kingdom",
           "marker": {
            "color": "#FECB52",
            "pattern": {
             "shape": ""
            }
           },
           "name": "United Kingdom",
           "offsetgroup": "United Kingdom",
           "orientation": "h",
           "showlegend": true,
           "textposition": "auto",
           "type": "bar",
           "x": [
            6
           ],
           "xaxis": "x",
           "y": [
            "United Kingdom"
           ],
           "yaxis": "y"
          }
         ],
         "name": "1928"
        },
        {
         "data": [
          {
           "alignmentgroup": "True",
           "hovertemplate": "Pays=%{y}<br>release_year=1929<br>Nombre cumulé de films=%{x}<extra></extra>",
           "legendgroup": "Germany",
           "marker": {
            "color": "#636efa",
            "pattern": {
             "shape": ""
            }
           },
           "name": "Germany",
           "offsetgroup": "Germany",
           "orientation": "h",
           "showlegend": true,
           "textposition": "auto",
           "type": "bar",
           "x": [
            0
           ],
           "xaxis": "x",
           "y": [
            "Germany"
           ],
           "yaxis": "y"
          },
          {
           "alignmentgroup": "True",
           "hovertemplate": "Pays=%{y}<br>release_year=1929<br>Nombre cumulé de films=%{x}<extra></extra>",
           "legendgroup": "United States of America",
           "marker": {
            "color": "#EF553B",
            "pattern": {
             "shape": ""
            }
           },
           "name": "United States of America",
           "offsetgroup": "United States of America",
           "orientation": "h",
           "showlegend": true,
           "textposition": "auto",
           "type": "bar",
           "x": [
            0
           ],
           "xaxis": "x",
           "y": [
            "United States of America"
           ],
           "yaxis": "y"
          },
          {
           "alignmentgroup": "True",
           "hovertemplate": "Pays=%{y}<br>release_year=1929<br>Nombre cumulé de films=%{x}<extra></extra>",
           "legendgroup": "Brazil",
           "marker": {
            "color": "#00cc96",
            "pattern": {
             "shape": ""
            }
           },
           "name": "Brazil",
           "offsetgroup": "Brazil",
           "orientation": "h",
           "showlegend": true,
           "textposition": "auto",
           "type": "bar",
           "x": [
            0
           ],
           "xaxis": "x",
           "y": [
            "Brazil"
           ],
           "yaxis": "y"
          },
          {
           "alignmentgroup": "True",
           "hovertemplate": "Pays=%{y}<br>release_year=1929<br>Nombre cumulé de films=%{x}<extra></extra>",
           "legendgroup": "Netherlands",
           "marker": {
            "color": "#ab63fa",
            "pattern": {
             "shape": ""
            }
           },
           "name": "Netherlands",
           "offsetgroup": "Netherlands",
           "orientation": "h",
           "showlegend": true,
           "textposition": "auto",
           "type": "bar",
           "x": [
            0
           ],
           "xaxis": "x",
           "y": [
            "Netherlands"
           ],
           "yaxis": "y"
          },
          {
           "alignmentgroup": "True",
           "hovertemplate": "Pays=%{y}<br>release_year=1929<br>Nombre cumulé de films=%{x}<extra></extra>",
           "legendgroup": "Canada",
           "marker": {
            "color": "#FFA15A",
            "pattern": {
             "shape": ""
            }
           },
           "name": "Canada",
           "offsetgroup": "Canada",
           "orientation": "h",
           "showlegend": true,
           "textposition": "auto",
           "type": "bar",
           "x": [
            0
           ],
           "xaxis": "x",
           "y": [
            "Canada"
           ],
           "yaxis": "y"
          },
          {
           "alignmentgroup": "True",
           "hovertemplate": "Pays=%{y}<br>release_year=1929<br>Nombre cumulé de films=%{x}<extra></extra>",
           "legendgroup": "France",
           "marker": {
            "color": "#19d3f3",
            "pattern": {
             "shape": ""
            }
           },
           "name": "France",
           "offsetgroup": "France",
           "orientation": "h",
           "showlegend": true,
           "textposition": "auto",
           "type": "bar",
           "x": [
            1
           ],
           "xaxis": "x",
           "y": [
            "France"
           ],
           "yaxis": "y"
          },
          {
           "alignmentgroup": "True",
           "hovertemplate": "Pays=%{y}<br>release_year=1929<br>Nombre cumulé de films=%{x}<extra></extra>",
           "legendgroup": "Czech Republic",
           "marker": {
            "color": "#FF6692",
            "pattern": {
             "shape": ""
            }
           },
           "name": "Czech Republic",
           "offsetgroup": "Czech Republic",
           "orientation": "h",
           "showlegend": true,
           "textposition": "auto",
           "type": "bar",
           "x": [
            0
           ],
           "xaxis": "x",
           "y": [
            "Czech Republic"
           ],
           "yaxis": "y"
          },
          {
           "alignmentgroup": "True",
           "hovertemplate": "Pays=%{y}<br>release_year=1929<br>Nombre cumulé de films=%{x}<extra></extra>",
           "legendgroup": "Hong Kong",
           "marker": {
            "color": "#B6E880",
            "pattern": {
             "shape": ""
            }
           },
           "name": "Hong Kong",
           "offsetgroup": "Hong Kong",
           "orientation": "h",
           "showlegend": true,
           "textposition": "auto",
           "type": "bar",
           "x": [
            0
           ],
           "xaxis": "x",
           "y": [
            "Hong Kong"
           ],
           "yaxis": "y"
          },
          {
           "alignmentgroup": "True",
           "hovertemplate": "Pays=%{y}<br>release_year=1929<br>Nombre cumulé de films=%{x}<extra></extra>",
           "legendgroup": "West Germany",
           "marker": {
            "color": "#FF97FF",
            "pattern": {
             "shape": ""
            }
           },
           "name": "West Germany",
           "offsetgroup": "West Germany",
           "orientation": "h",
           "showlegend": true,
           "textposition": "auto",
           "type": "bar",
           "x": [
            0
           ],
           "xaxis": "x",
           "y": [
            "West Germany"
           ],
           "yaxis": "y"
          },
          {
           "alignmentgroup": "True",
           "hovertemplate": "Pays=%{y}<br>release_year=1929<br>Nombre cumulé de films=%{x}<extra></extra>",
           "legendgroup": "United Kingdom",
           "marker": {
            "color": "#FECB52",
            "pattern": {
             "shape": ""
            }
           },
           "name": "United Kingdom",
           "offsetgroup": "United Kingdom",
           "orientation": "h",
           "showlegend": true,
           "textposition": "auto",
           "type": "bar",
           "x": [
            6
           ],
           "xaxis": "x",
           "y": [
            "United Kingdom"
           ],
           "yaxis": "y"
          }
         ],
         "name": "1929"
        },
        {
         "data": [
          {
           "alignmentgroup": "True",
           "hovertemplate": "Pays=%{y}<br>release_year=1930<br>Nombre cumulé de films=%{x}<extra></extra>",
           "legendgroup": "Germany",
           "marker": {
            "color": "#636efa",
            "pattern": {
             "shape": ""
            }
           },
           "name": "Germany",
           "offsetgroup": "Germany",
           "orientation": "h",
           "showlegend": true,
           "textposition": "auto",
           "type": "bar",
           "x": [
            0
           ],
           "xaxis": "x",
           "y": [
            "Germany"
           ],
           "yaxis": "y"
          },
          {
           "alignmentgroup": "True",
           "hovertemplate": "Pays=%{y}<br>release_year=1930<br>Nombre cumulé de films=%{x}<extra></extra>",
           "legendgroup": "United States of America",
           "marker": {
            "color": "#EF553B",
            "pattern": {
             "shape": ""
            }
           },
           "name": "United States of America",
           "offsetgroup": "United States of America",
           "orientation": "h",
           "showlegend": true,
           "textposition": "auto",
           "type": "bar",
           "x": [
            0
           ],
           "xaxis": "x",
           "y": [
            "United States of America"
           ],
           "yaxis": "y"
          },
          {
           "alignmentgroup": "True",
           "hovertemplate": "Pays=%{y}<br>release_year=1930<br>Nombre cumulé de films=%{x}<extra></extra>",
           "legendgroup": "Brazil",
           "marker": {
            "color": "#00cc96",
            "pattern": {
             "shape": ""
            }
           },
           "name": "Brazil",
           "offsetgroup": "Brazil",
           "orientation": "h",
           "showlegend": true,
           "textposition": "auto",
           "type": "bar",
           "x": [
            0
           ],
           "xaxis": "x",
           "y": [
            "Brazil"
           ],
           "yaxis": "y"
          },
          {
           "alignmentgroup": "True",
           "hovertemplate": "Pays=%{y}<br>release_year=1930<br>Nombre cumulé de films=%{x}<extra></extra>",
           "legendgroup": "Netherlands",
           "marker": {
            "color": "#ab63fa",
            "pattern": {
             "shape": ""
            }
           },
           "name": "Netherlands",
           "offsetgroup": "Netherlands",
           "orientation": "h",
           "showlegend": true,
           "textposition": "auto",
           "type": "bar",
           "x": [
            0
           ],
           "xaxis": "x",
           "y": [
            "Netherlands"
           ],
           "yaxis": "y"
          },
          {
           "alignmentgroup": "True",
           "hovertemplate": "Pays=%{y}<br>release_year=1930<br>Nombre cumulé de films=%{x}<extra></extra>",
           "legendgroup": "Canada",
           "marker": {
            "color": "#FFA15A",
            "pattern": {
             "shape": ""
            }
           },
           "name": "Canada",
           "offsetgroup": "Canada",
           "orientation": "h",
           "showlegend": true,
           "textposition": "auto",
           "type": "bar",
           "x": [
            0
           ],
           "xaxis": "x",
           "y": [
            "Canada"
           ],
           "yaxis": "y"
          },
          {
           "alignmentgroup": "True",
           "hovertemplate": "Pays=%{y}<br>release_year=1930<br>Nombre cumulé de films=%{x}<extra></extra>",
           "legendgroup": "France",
           "marker": {
            "color": "#19d3f3",
            "pattern": {
             "shape": ""
            }
           },
           "name": "France",
           "offsetgroup": "France",
           "orientation": "h",
           "showlegend": true,
           "textposition": "auto",
           "type": "bar",
           "x": [
            1
           ],
           "xaxis": "x",
           "y": [
            "France"
           ],
           "yaxis": "y"
          },
          {
           "alignmentgroup": "True",
           "hovertemplate": "Pays=%{y}<br>release_year=1930<br>Nombre cumulé de films=%{x}<extra></extra>",
           "legendgroup": "Czech Republic",
           "marker": {
            "color": "#FF6692",
            "pattern": {
             "shape": ""
            }
           },
           "name": "Czech Republic",
           "offsetgroup": "Czech Republic",
           "orientation": "h",
           "showlegend": true,
           "textposition": "auto",
           "type": "bar",
           "x": [
            0
           ],
           "xaxis": "x",
           "y": [
            "Czech Republic"
           ],
           "yaxis": "y"
          },
          {
           "alignmentgroup": "True",
           "hovertemplate": "Pays=%{y}<br>release_year=1930<br>Nombre cumulé de films=%{x}<extra></extra>",
           "legendgroup": "Hong Kong",
           "marker": {
            "color": "#B6E880",
            "pattern": {
             "shape": ""
            }
           },
           "name": "Hong Kong",
           "offsetgroup": "Hong Kong",
           "orientation": "h",
           "showlegend": true,
           "textposition": "auto",
           "type": "bar",
           "x": [
            0
           ],
           "xaxis": "x",
           "y": [
            "Hong Kong"
           ],
           "yaxis": "y"
          },
          {
           "alignmentgroup": "True",
           "hovertemplate": "Pays=%{y}<br>release_year=1930<br>Nombre cumulé de films=%{x}<extra></extra>",
           "legendgroup": "West Germany",
           "marker": {
            "color": "#FF97FF",
            "pattern": {
             "shape": ""
            }
           },
           "name": "West Germany",
           "offsetgroup": "West Germany",
           "orientation": "h",
           "showlegend": true,
           "textposition": "auto",
           "type": "bar",
           "x": [
            0
           ],
           "xaxis": "x",
           "y": [
            "West Germany"
           ],
           "yaxis": "y"
          },
          {
           "alignmentgroup": "True",
           "hovertemplate": "Pays=%{y}<br>release_year=1930<br>Nombre cumulé de films=%{x}<extra></extra>",
           "legendgroup": "United Kingdom",
           "marker": {
            "color": "#FECB52",
            "pattern": {
             "shape": ""
            }
           },
           "name": "United Kingdom",
           "offsetgroup": "United Kingdom",
           "orientation": "h",
           "showlegend": true,
           "textposition": "auto",
           "type": "bar",
           "x": [
            7
           ],
           "xaxis": "x",
           "y": [
            "United Kingdom"
           ],
           "yaxis": "y"
          }
         ],
         "name": "1930"
        },
        {
         "data": [
          {
           "alignmentgroup": "True",
           "hovertemplate": "Pays=%{y}<br>release_year=1931<br>Nombre cumulé de films=%{x}<extra></extra>",
           "legendgroup": "Germany",
           "marker": {
            "color": "#636efa",
            "pattern": {
             "shape": ""
            }
           },
           "name": "Germany",
           "offsetgroup": "Germany",
           "orientation": "h",
           "showlegend": true,
           "textposition": "auto",
           "type": "bar",
           "x": [
            0
           ],
           "xaxis": "x",
           "y": [
            "Germany"
           ],
           "yaxis": "y"
          },
          {
           "alignmentgroup": "True",
           "hovertemplate": "Pays=%{y}<br>release_year=1931<br>Nombre cumulé de films=%{x}<extra></extra>",
           "legendgroup": "United States of America",
           "marker": {
            "color": "#EF553B",
            "pattern": {
             "shape": ""
            }
           },
           "name": "United States of America",
           "offsetgroup": "United States of America",
           "orientation": "h",
           "showlegend": true,
           "textposition": "auto",
           "type": "bar",
           "x": [
            0
           ],
           "xaxis": "x",
           "y": [
            "United States of America"
           ],
           "yaxis": "y"
          },
          {
           "alignmentgroup": "True",
           "hovertemplate": "Pays=%{y}<br>release_year=1931<br>Nombre cumulé de films=%{x}<extra></extra>",
           "legendgroup": "Brazil",
           "marker": {
            "color": "#00cc96",
            "pattern": {
             "shape": ""
            }
           },
           "name": "Brazil",
           "offsetgroup": "Brazil",
           "orientation": "h",
           "showlegend": true,
           "textposition": "auto",
           "type": "bar",
           "x": [
            0
           ],
           "xaxis": "x",
           "y": [
            "Brazil"
           ],
           "yaxis": "y"
          },
          {
           "alignmentgroup": "True",
           "hovertemplate": "Pays=%{y}<br>release_year=1931<br>Nombre cumulé de films=%{x}<extra></extra>",
           "legendgroup": "Netherlands",
           "marker": {
            "color": "#ab63fa",
            "pattern": {
             "shape": ""
            }
           },
           "name": "Netherlands",
           "offsetgroup": "Netherlands",
           "orientation": "h",
           "showlegend": true,
           "textposition": "auto",
           "type": "bar",
           "x": [
            0
           ],
           "xaxis": "x",
           "y": [
            "Netherlands"
           ],
           "yaxis": "y"
          },
          {
           "alignmentgroup": "True",
           "hovertemplate": "Pays=%{y}<br>release_year=1931<br>Nombre cumulé de films=%{x}<extra></extra>",
           "legendgroup": "Canada",
           "marker": {
            "color": "#FFA15A",
            "pattern": {
             "shape": ""
            }
           },
           "name": "Canada",
           "offsetgroup": "Canada",
           "orientation": "h",
           "showlegend": true,
           "textposition": "auto",
           "type": "bar",
           "x": [
            0
           ],
           "xaxis": "x",
           "y": [
            "Canada"
           ],
           "yaxis": "y"
          },
          {
           "alignmentgroup": "True",
           "hovertemplate": "Pays=%{y}<br>release_year=1931<br>Nombre cumulé de films=%{x}<extra></extra>",
           "legendgroup": "France",
           "marker": {
            "color": "#19d3f3",
            "pattern": {
             "shape": ""
            }
           },
           "name": "France",
           "offsetgroup": "France",
           "orientation": "h",
           "showlegend": true,
           "textposition": "auto",
           "type": "bar",
           "x": [
            1
           ],
           "xaxis": "x",
           "y": [
            "France"
           ],
           "yaxis": "y"
          },
          {
           "alignmentgroup": "True",
           "hovertemplate": "Pays=%{y}<br>release_year=1931<br>Nombre cumulé de films=%{x}<extra></extra>",
           "legendgroup": "Czech Republic",
           "marker": {
            "color": "#FF6692",
            "pattern": {
             "shape": ""
            }
           },
           "name": "Czech Republic",
           "offsetgroup": "Czech Republic",
           "orientation": "h",
           "showlegend": true,
           "textposition": "auto",
           "type": "bar",
           "x": [
            1
           ],
           "xaxis": "x",
           "y": [
            "Czech Republic"
           ],
           "yaxis": "y"
          },
          {
           "alignmentgroup": "True",
           "hovertemplate": "Pays=%{y}<br>release_year=1931<br>Nombre cumulé de films=%{x}<extra></extra>",
           "legendgroup": "Hong Kong",
           "marker": {
            "color": "#B6E880",
            "pattern": {
             "shape": ""
            }
           },
           "name": "Hong Kong",
           "offsetgroup": "Hong Kong",
           "orientation": "h",
           "showlegend": true,
           "textposition": "auto",
           "type": "bar",
           "x": [
            0
           ],
           "xaxis": "x",
           "y": [
            "Hong Kong"
           ],
           "yaxis": "y"
          },
          {
           "alignmentgroup": "True",
           "hovertemplate": "Pays=%{y}<br>release_year=1931<br>Nombre cumulé de films=%{x}<extra></extra>",
           "legendgroup": "United Kingdom",
           "marker": {
            "color": "#FECB52",
            "pattern": {
             "shape": ""
            }
           },
           "name": "United Kingdom",
           "offsetgroup": "United Kingdom",
           "orientation": "h",
           "showlegend": true,
           "textposition": "auto",
           "type": "bar",
           "x": [
            11
           ],
           "xaxis": "x",
           "y": [
            "United Kingdom"
           ],
           "yaxis": "y"
          },
          {
           "alignmentgroup": "True",
           "hovertemplate": "Pays=%{y}<br>release_year=1931<br>Nombre cumulé de films=%{x}<extra></extra>",
           "legendgroup": "Romania",
           "marker": {
            "color": "#636efa",
            "pattern": {
             "shape": ""
            }
           },
           "name": "Romania",
           "offsetgroup": "Romania",
           "orientation": "h",
           "showlegend": true,
           "textposition": "auto",
           "type": "bar",
           "x": [
            1
           ],
           "xaxis": "x",
           "y": [
            "Romania"
           ],
           "yaxis": "y"
          }
         ],
         "name": "1931"
        },
        {
         "data": [
          {
           "alignmentgroup": "True",
           "hovertemplate": "Pays=%{y}<br>release_year=1932<br>Nombre cumulé de films=%{x}<extra></extra>",
           "legendgroup": "Germany",
           "marker": {
            "color": "#636efa",
            "pattern": {
             "shape": ""
            }
           },
           "name": "Germany",
           "offsetgroup": "Germany",
           "orientation": "h",
           "showlegend": true,
           "textposition": "auto",
           "type": "bar",
           "x": [
            0
           ],
           "xaxis": "x",
           "y": [
            "Germany"
           ],
           "yaxis": "y"
          },
          {
           "alignmentgroup": "True",
           "hovertemplate": "Pays=%{y}<br>release_year=1932<br>Nombre cumulé de films=%{x}<extra></extra>",
           "legendgroup": "United States of America",
           "marker": {
            "color": "#EF553B",
            "pattern": {
             "shape": ""
            }
           },
           "name": "United States of America",
           "offsetgroup": "United States of America",
           "orientation": "h",
           "showlegend": true,
           "textposition": "auto",
           "type": "bar",
           "x": [
            0
           ],
           "xaxis": "x",
           "y": [
            "United States of America"
           ],
           "yaxis": "y"
          },
          {
           "alignmentgroup": "True",
           "hovertemplate": "Pays=%{y}<br>release_year=1932<br>Nombre cumulé de films=%{x}<extra></extra>",
           "legendgroup": "Brazil",
           "marker": {
            "color": "#00cc96",
            "pattern": {
             "shape": ""
            }
           },
           "name": "Brazil",
           "offsetgroup": "Brazil",
           "orientation": "h",
           "showlegend": true,
           "textposition": "auto",
           "type": "bar",
           "x": [
            0
           ],
           "xaxis": "x",
           "y": [
            "Brazil"
           ],
           "yaxis": "y"
          },
          {
           "alignmentgroup": "True",
           "hovertemplate": "Pays=%{y}<br>release_year=1932<br>Nombre cumulé de films=%{x}<extra></extra>",
           "legendgroup": "Netherlands",
           "marker": {
            "color": "#ab63fa",
            "pattern": {
             "shape": ""
            }
           },
           "name": "Netherlands",
           "offsetgroup": "Netherlands",
           "orientation": "h",
           "showlegend": true,
           "textposition": "auto",
           "type": "bar",
           "x": [
            0
           ],
           "xaxis": "x",
           "y": [
            "Netherlands"
           ],
           "yaxis": "y"
          },
          {
           "alignmentgroup": "True",
           "hovertemplate": "Pays=%{y}<br>release_year=1932<br>Nombre cumulé de films=%{x}<extra></extra>",
           "legendgroup": "Canada",
           "marker": {
            "color": "#FFA15A",
            "pattern": {
             "shape": ""
            }
           },
           "name": "Canada",
           "offsetgroup": "Canada",
           "orientation": "h",
           "showlegend": true,
           "textposition": "auto",
           "type": "bar",
           "x": [
            0
           ],
           "xaxis": "x",
           "y": [
            "Canada"
           ],
           "yaxis": "y"
          },
          {
           "alignmentgroup": "True",
           "hovertemplate": "Pays=%{y}<br>release_year=1932<br>Nombre cumulé de films=%{x}<extra></extra>",
           "legendgroup": "France",
           "marker": {
            "color": "#19d3f3",
            "pattern": {
             "shape": ""
            }
           },
           "name": "France",
           "offsetgroup": "France",
           "orientation": "h",
           "showlegend": true,
           "textposition": "auto",
           "type": "bar",
           "x": [
            1
           ],
           "xaxis": "x",
           "y": [
            "France"
           ],
           "yaxis": "y"
          },
          {
           "alignmentgroup": "True",
           "hovertemplate": "Pays=%{y}<br>release_year=1932<br>Nombre cumulé de films=%{x}<extra></extra>",
           "legendgroup": "Czech Republic",
           "marker": {
            "color": "#FF6692",
            "pattern": {
             "shape": ""
            }
           },
           "name": "Czech Republic",
           "offsetgroup": "Czech Republic",
           "orientation": "h",
           "showlegend": true,
           "textposition": "auto",
           "type": "bar",
           "x": [
            1
           ],
           "xaxis": "x",
           "y": [
            "Czech Republic"
           ],
           "yaxis": "y"
          },
          {
           "alignmentgroup": "True",
           "hovertemplate": "Pays=%{y}<br>release_year=1932<br>Nombre cumulé de films=%{x}<extra></extra>",
           "legendgroup": "Hong Kong",
           "marker": {
            "color": "#B6E880",
            "pattern": {
             "shape": ""
            }
           },
           "name": "Hong Kong",
           "offsetgroup": "Hong Kong",
           "orientation": "h",
           "showlegend": true,
           "textposition": "auto",
           "type": "bar",
           "x": [
            0
           ],
           "xaxis": "x",
           "y": [
            "Hong Kong"
           ],
           "yaxis": "y"
          },
          {
           "alignmentgroup": "True",
           "hovertemplate": "Pays=%{y}<br>release_year=1932<br>Nombre cumulé de films=%{x}<extra></extra>",
           "legendgroup": "United Kingdom",
           "marker": {
            "color": "#FECB52",
            "pattern": {
             "shape": ""
            }
           },
           "name": "United Kingdom",
           "offsetgroup": "United Kingdom",
           "orientation": "h",
           "showlegend": true,
           "textposition": "auto",
           "type": "bar",
           "x": [
            11
           ],
           "xaxis": "x",
           "y": [
            "United Kingdom"
           ],
           "yaxis": "y"
          },
          {
           "alignmentgroup": "True",
           "hovertemplate": "Pays=%{y}<br>release_year=1932<br>Nombre cumulé de films=%{x}<extra></extra>",
           "legendgroup": "Romania",
           "marker": {
            "color": "#636efa",
            "pattern": {
             "shape": ""
            }
           },
           "name": "Romania",
           "offsetgroup": "Romania",
           "orientation": "h",
           "showlegend": true,
           "textposition": "auto",
           "type": "bar",
           "x": [
            1
           ],
           "xaxis": "x",
           "y": [
            "Romania"
           ],
           "yaxis": "y"
          }
         ],
         "name": "1932"
        },
        {
         "data": [
          {
           "alignmentgroup": "True",
           "hovertemplate": "Pays=%{y}<br>release_year=1933<br>Nombre cumulé de films=%{x}<extra></extra>",
           "legendgroup": "Germany",
           "marker": {
            "color": "#636efa",
            "pattern": {
             "shape": ""
            }
           },
           "name": "Germany",
           "offsetgroup": "Germany",
           "orientation": "h",
           "showlegend": true,
           "textposition": "auto",
           "type": "bar",
           "x": [
            0
           ],
           "xaxis": "x",
           "y": [
            "Germany"
           ],
           "yaxis": "y"
          },
          {
           "alignmentgroup": "True",
           "hovertemplate": "Pays=%{y}<br>release_year=1933<br>Nombre cumulé de films=%{x}<extra></extra>",
           "legendgroup": "United States of America",
           "marker": {
            "color": "#EF553B",
            "pattern": {
             "shape": ""
            }
           },
           "name": "United States of America",
           "offsetgroup": "United States of America",
           "orientation": "h",
           "showlegend": true,
           "textposition": "auto",
           "type": "bar",
           "x": [
            0
           ],
           "xaxis": "x",
           "y": [
            "United States of America"
           ],
           "yaxis": "y"
          },
          {
           "alignmentgroup": "True",
           "hovertemplate": "Pays=%{y}<br>release_year=1933<br>Nombre cumulé de films=%{x}<extra></extra>",
           "legendgroup": "Brazil",
           "marker": {
            "color": "#00cc96",
            "pattern": {
             "shape": ""
            }
           },
           "name": "Brazil",
           "offsetgroup": "Brazil",
           "orientation": "h",
           "showlegend": true,
           "textposition": "auto",
           "type": "bar",
           "x": [
            0
           ],
           "xaxis": "x",
           "y": [
            "Brazil"
           ],
           "yaxis": "y"
          },
          {
           "alignmentgroup": "True",
           "hovertemplate": "Pays=%{y}<br>release_year=1933<br>Nombre cumulé de films=%{x}<extra></extra>",
           "legendgroup": "Netherlands",
           "marker": {
            "color": "#ab63fa",
            "pattern": {
             "shape": ""
            }
           },
           "name": "Netherlands",
           "offsetgroup": "Netherlands",
           "orientation": "h",
           "showlegend": true,
           "textposition": "auto",
           "type": "bar",
           "x": [
            0
           ],
           "xaxis": "x",
           "y": [
            "Netherlands"
           ],
           "yaxis": "y"
          },
          {
           "alignmentgroup": "True",
           "hovertemplate": "Pays=%{y}<br>release_year=1933<br>Nombre cumulé de films=%{x}<extra></extra>",
           "legendgroup": "Canada",
           "marker": {
            "color": "#FFA15A",
            "pattern": {
             "shape": ""
            }
           },
           "name": "Canada",
           "offsetgroup": "Canada",
           "orientation": "h",
           "showlegend": true,
           "textposition": "auto",
           "type": "bar",
           "x": [
            0
           ],
           "xaxis": "x",
           "y": [
            "Canada"
           ],
           "yaxis": "y"
          },
          {
           "alignmentgroup": "True",
           "hovertemplate": "Pays=%{y}<br>release_year=1933<br>Nombre cumulé de films=%{x}<extra></extra>",
           "legendgroup": "France",
           "marker": {
            "color": "#19d3f3",
            "pattern": {
             "shape": ""
            }
           },
           "name": "France",
           "offsetgroup": "France",
           "orientation": "h",
           "showlegend": true,
           "textposition": "auto",
           "type": "bar",
           "x": [
            1
           ],
           "xaxis": "x",
           "y": [
            "France"
           ],
           "yaxis": "y"
          },
          {
           "alignmentgroup": "True",
           "hovertemplate": "Pays=%{y}<br>release_year=1933<br>Nombre cumulé de films=%{x}<extra></extra>",
           "legendgroup": "Czech Republic",
           "marker": {
            "color": "#FF6692",
            "pattern": {
             "shape": ""
            }
           },
           "name": "Czech Republic",
           "offsetgroup": "Czech Republic",
           "orientation": "h",
           "showlegend": true,
           "textposition": "auto",
           "type": "bar",
           "x": [
            1
           ],
           "xaxis": "x",
           "y": [
            "Czech Republic"
           ],
           "yaxis": "y"
          },
          {
           "alignmentgroup": "True",
           "hovertemplate": "Pays=%{y}<br>release_year=1933<br>Nombre cumulé de films=%{x}<extra></extra>",
           "legendgroup": "Hong Kong",
           "marker": {
            "color": "#B6E880",
            "pattern": {
             "shape": ""
            }
           },
           "name": "Hong Kong",
           "offsetgroup": "Hong Kong",
           "orientation": "h",
           "showlegend": true,
           "textposition": "auto",
           "type": "bar",
           "x": [
            0
           ],
           "xaxis": "x",
           "y": [
            "Hong Kong"
           ],
           "yaxis": "y"
          },
          {
           "alignmentgroup": "True",
           "hovertemplate": "Pays=%{y}<br>release_year=1933<br>Nombre cumulé de films=%{x}<extra></extra>",
           "legendgroup": "United Kingdom",
           "marker": {
            "color": "#FECB52",
            "pattern": {
             "shape": ""
            }
           },
           "name": "United Kingdom",
           "offsetgroup": "United Kingdom",
           "orientation": "h",
           "showlegend": true,
           "textposition": "auto",
           "type": "bar",
           "x": [
            11
           ],
           "xaxis": "x",
           "y": [
            "United Kingdom"
           ],
           "yaxis": "y"
          },
          {
           "alignmentgroup": "True",
           "hovertemplate": "Pays=%{y}<br>release_year=1933<br>Nombre cumulé de films=%{x}<extra></extra>",
           "legendgroup": "Romania",
           "marker": {
            "color": "#636efa",
            "pattern": {
             "shape": ""
            }
           },
           "name": "Romania",
           "offsetgroup": "Romania",
           "orientation": "h",
           "showlegend": true,
           "textposition": "auto",
           "type": "bar",
           "x": [
            1
           ],
           "xaxis": "x",
           "y": [
            "Romania"
           ],
           "yaxis": "y"
          }
         ],
         "name": "1933"
        },
        {
         "data": [
          {
           "alignmentgroup": "True",
           "hovertemplate": "Pays=%{y}<br>release_year=1934<br>Nombre cumulé de films=%{x}<extra></extra>",
           "legendgroup": "Germany",
           "marker": {
            "color": "#636efa",
            "pattern": {
             "shape": ""
            }
           },
           "name": "Germany",
           "offsetgroup": "Germany",
           "orientation": "h",
           "showlegend": true,
           "textposition": "auto",
           "type": "bar",
           "x": [
            0
           ],
           "xaxis": "x",
           "y": [
            "Germany"
           ],
           "yaxis": "y"
          },
          {
           "alignmentgroup": "True",
           "hovertemplate": "Pays=%{y}<br>release_year=1934<br>Nombre cumulé de films=%{x}<extra></extra>",
           "legendgroup": "United States of America",
           "marker": {
            "color": "#EF553B",
            "pattern": {
             "shape": ""
            }
           },
           "name": "United States of America",
           "offsetgroup": "United States of America",
           "orientation": "h",
           "showlegend": true,
           "textposition": "auto",
           "type": "bar",
           "x": [
            0
           ],
           "xaxis": "x",
           "y": [
            "United States of America"
           ],
           "yaxis": "y"
          },
          {
           "alignmentgroup": "True",
           "hovertemplate": "Pays=%{y}<br>release_year=1934<br>Nombre cumulé de films=%{x}<extra></extra>",
           "legendgroup": "Brazil",
           "marker": {
            "color": "#00cc96",
            "pattern": {
             "shape": ""
            }
           },
           "name": "Brazil",
           "offsetgroup": "Brazil",
           "orientation": "h",
           "showlegend": true,
           "textposition": "auto",
           "type": "bar",
           "x": [
            0
           ],
           "xaxis": "x",
           "y": [
            "Brazil"
           ],
           "yaxis": "y"
          },
          {
           "alignmentgroup": "True",
           "hovertemplate": "Pays=%{y}<br>release_year=1934<br>Nombre cumulé de films=%{x}<extra></extra>",
           "legendgroup": "Netherlands",
           "marker": {
            "color": "#ab63fa",
            "pattern": {
             "shape": ""
            }
           },
           "name": "Netherlands",
           "offsetgroup": "Netherlands",
           "orientation": "h",
           "showlegend": true,
           "textposition": "auto",
           "type": "bar",
           "x": [
            0
           ],
           "xaxis": "x",
           "y": [
            "Netherlands"
           ],
           "yaxis": "y"
          },
          {
           "alignmentgroup": "True",
           "hovertemplate": "Pays=%{y}<br>release_year=1934<br>Nombre cumulé de films=%{x}<extra></extra>",
           "legendgroup": "Canada",
           "marker": {
            "color": "#FFA15A",
            "pattern": {
             "shape": ""
            }
           },
           "name": "Canada",
           "offsetgroup": "Canada",
           "orientation": "h",
           "showlegend": true,
           "textposition": "auto",
           "type": "bar",
           "x": [
            0
           ],
           "xaxis": "x",
           "y": [
            "Canada"
           ],
           "yaxis": "y"
          },
          {
           "alignmentgroup": "True",
           "hovertemplate": "Pays=%{y}<br>release_year=1934<br>Nombre cumulé de films=%{x}<extra></extra>",
           "legendgroup": "France",
           "marker": {
            "color": "#19d3f3",
            "pattern": {
             "shape": ""
            }
           },
           "name": "France",
           "offsetgroup": "France",
           "orientation": "h",
           "showlegend": true,
           "textposition": "auto",
           "type": "bar",
           "x": [
            1
           ],
           "xaxis": "x",
           "y": [
            "France"
           ],
           "yaxis": "y"
          },
          {
           "alignmentgroup": "True",
           "hovertemplate": "Pays=%{y}<br>release_year=1934<br>Nombre cumulé de films=%{x}<extra></extra>",
           "legendgroup": "Czech Republic",
           "marker": {
            "color": "#FF6692",
            "pattern": {
             "shape": ""
            }
           },
           "name": "Czech Republic",
           "offsetgroup": "Czech Republic",
           "orientation": "h",
           "showlegend": true,
           "textposition": "auto",
           "type": "bar",
           "x": [
            1
           ],
           "xaxis": "x",
           "y": [
            "Czech Republic"
           ],
           "yaxis": "y"
          },
          {
           "alignmentgroup": "True",
           "hovertemplate": "Pays=%{y}<br>release_year=1934<br>Nombre cumulé de films=%{x}<extra></extra>",
           "legendgroup": "Hong Kong",
           "marker": {
            "color": "#B6E880",
            "pattern": {
             "shape": ""
            }
           },
           "name": "Hong Kong",
           "offsetgroup": "Hong Kong",
           "orientation": "h",
           "showlegend": true,
           "textposition": "auto",
           "type": "bar",
           "x": [
            0
           ],
           "xaxis": "x",
           "y": [
            "Hong Kong"
           ],
           "yaxis": "y"
          },
          {
           "alignmentgroup": "True",
           "hovertemplate": "Pays=%{y}<br>release_year=1934<br>Nombre cumulé de films=%{x}<extra></extra>",
           "legendgroup": "United Kingdom",
           "marker": {
            "color": "#FECB52",
            "pattern": {
             "shape": ""
            }
           },
           "name": "United Kingdom",
           "offsetgroup": "United Kingdom",
           "orientation": "h",
           "showlegend": true,
           "textposition": "auto",
           "type": "bar",
           "x": [
            12
           ],
           "xaxis": "x",
           "y": [
            "United Kingdom"
           ],
           "yaxis": "y"
          },
          {
           "alignmentgroup": "True",
           "hovertemplate": "Pays=%{y}<br>release_year=1934<br>Nombre cumulé de films=%{x}<extra></extra>",
           "legendgroup": "Romania",
           "marker": {
            "color": "#636efa",
            "pattern": {
             "shape": ""
            }
           },
           "name": "Romania",
           "offsetgroup": "Romania",
           "orientation": "h",
           "showlegend": true,
           "textposition": "auto",
           "type": "bar",
           "x": [
            1
           ],
           "xaxis": "x",
           "y": [
            "Romania"
           ],
           "yaxis": "y"
          }
         ],
         "name": "1934"
        },
        {
         "data": [
          {
           "alignmentgroup": "True",
           "hovertemplate": "Pays=%{y}<br>release_year=1935<br>Nombre cumulé de films=%{x}<extra></extra>",
           "legendgroup": "Germany",
           "marker": {
            "color": "#636efa",
            "pattern": {
             "shape": ""
            }
           },
           "name": "Germany",
           "offsetgroup": "Germany",
           "orientation": "h",
           "showlegend": true,
           "textposition": "auto",
           "type": "bar",
           "x": [
            0
           ],
           "xaxis": "x",
           "y": [
            "Germany"
           ],
           "yaxis": "y"
          },
          {
           "alignmentgroup": "True",
           "hovertemplate": "Pays=%{y}<br>release_year=1935<br>Nombre cumulé de films=%{x}<extra></extra>",
           "legendgroup": "United States of America",
           "marker": {
            "color": "#EF553B",
            "pattern": {
             "shape": ""
            }
           },
           "name": "United States of America",
           "offsetgroup": "United States of America",
           "orientation": "h",
           "showlegend": true,
           "textposition": "auto",
           "type": "bar",
           "x": [
            0
           ],
           "xaxis": "x",
           "y": [
            "United States of America"
           ],
           "yaxis": "y"
          },
          {
           "alignmentgroup": "True",
           "hovertemplate": "Pays=%{y}<br>release_year=1935<br>Nombre cumulé de films=%{x}<extra></extra>",
           "legendgroup": "Brazil",
           "marker": {
            "color": "#00cc96",
            "pattern": {
             "shape": ""
            }
           },
           "name": "Brazil",
           "offsetgroup": "Brazil",
           "orientation": "h",
           "showlegend": true,
           "textposition": "auto",
           "type": "bar",
           "x": [
            0
           ],
           "xaxis": "x",
           "y": [
            "Brazil"
           ],
           "yaxis": "y"
          },
          {
           "alignmentgroup": "True",
           "hovertemplate": "Pays=%{y}<br>release_year=1935<br>Nombre cumulé de films=%{x}<extra></extra>",
           "legendgroup": "Netherlands",
           "marker": {
            "color": "#ab63fa",
            "pattern": {
             "shape": ""
            }
           },
           "name": "Netherlands",
           "offsetgroup": "Netherlands",
           "orientation": "h",
           "showlegend": true,
           "textposition": "auto",
           "type": "bar",
           "x": [
            0
           ],
           "xaxis": "x",
           "y": [
            "Netherlands"
           ],
           "yaxis": "y"
          },
          {
           "alignmentgroup": "True",
           "hovertemplate": "Pays=%{y}<br>release_year=1935<br>Nombre cumulé de films=%{x}<extra></extra>",
           "legendgroup": "Canada",
           "marker": {
            "color": "#FFA15A",
            "pattern": {
             "shape": ""
            }
           },
           "name": "Canada",
           "offsetgroup": "Canada",
           "orientation": "h",
           "showlegend": true,
           "textposition": "auto",
           "type": "bar",
           "x": [
            0
           ],
           "xaxis": "x",
           "y": [
            "Canada"
           ],
           "yaxis": "y"
          },
          {
           "alignmentgroup": "True",
           "hovertemplate": "Pays=%{y}<br>release_year=1935<br>Nombre cumulé de films=%{x}<extra></extra>",
           "legendgroup": "France",
           "marker": {
            "color": "#19d3f3",
            "pattern": {
             "shape": ""
            }
           },
           "name": "France",
           "offsetgroup": "France",
           "orientation": "h",
           "showlegend": true,
           "textposition": "auto",
           "type": "bar",
           "x": [
            1
           ],
           "xaxis": "x",
           "y": [
            "France"
           ],
           "yaxis": "y"
          },
          {
           "alignmentgroup": "True",
           "hovertemplate": "Pays=%{y}<br>release_year=1935<br>Nombre cumulé de films=%{x}<extra></extra>",
           "legendgroup": "Czech Republic",
           "marker": {
            "color": "#FF6692",
            "pattern": {
             "shape": ""
            }
           },
           "name": "Czech Republic",
           "offsetgroup": "Czech Republic",
           "orientation": "h",
           "showlegend": true,
           "textposition": "auto",
           "type": "bar",
           "x": [
            1
           ],
           "xaxis": "x",
           "y": [
            "Czech Republic"
           ],
           "yaxis": "y"
          },
          {
           "alignmentgroup": "True",
           "hovertemplate": "Pays=%{y}<br>release_year=1935<br>Nombre cumulé de films=%{x}<extra></extra>",
           "legendgroup": "Hong Kong",
           "marker": {
            "color": "#B6E880",
            "pattern": {
             "shape": ""
            }
           },
           "name": "Hong Kong",
           "offsetgroup": "Hong Kong",
           "orientation": "h",
           "showlegend": true,
           "textposition": "auto",
           "type": "bar",
           "x": [
            0
           ],
           "xaxis": "x",
           "y": [
            "Hong Kong"
           ],
           "yaxis": "y"
          },
          {
           "alignmentgroup": "True",
           "hovertemplate": "Pays=%{y}<br>release_year=1935<br>Nombre cumulé de films=%{x}<extra></extra>",
           "legendgroup": "United Kingdom",
           "marker": {
            "color": "#FECB52",
            "pattern": {
             "shape": ""
            }
           },
           "name": "United Kingdom",
           "offsetgroup": "United Kingdom",
           "orientation": "h",
           "showlegend": true,
           "textposition": "auto",
           "type": "bar",
           "x": [
            12
           ],
           "xaxis": "x",
           "y": [
            "United Kingdom"
           ],
           "yaxis": "y"
          },
          {
           "alignmentgroup": "True",
           "hovertemplate": "Pays=%{y}<br>release_year=1935<br>Nombre cumulé de films=%{x}<extra></extra>",
           "legendgroup": "Romania",
           "marker": {
            "color": "#636efa",
            "pattern": {
             "shape": ""
            }
           },
           "name": "Romania",
           "offsetgroup": "Romania",
           "orientation": "h",
           "showlegend": true,
           "textposition": "auto",
           "type": "bar",
           "x": [
            1
           ],
           "xaxis": "x",
           "y": [
            "Romania"
           ],
           "yaxis": "y"
          }
         ],
         "name": "1935"
        },
        {
         "data": [
          {
           "alignmentgroup": "True",
           "hovertemplate": "Pays=%{y}<br>release_year=1936<br>Nombre cumulé de films=%{x}<extra></extra>",
           "legendgroup": "Germany",
           "marker": {
            "color": "#636efa",
            "pattern": {
             "shape": ""
            }
           },
           "name": "Germany",
           "offsetgroup": "Germany",
           "orientation": "h",
           "showlegend": true,
           "textposition": "auto",
           "type": "bar",
           "x": [
            0
           ],
           "xaxis": "x",
           "y": [
            "Germany"
           ],
           "yaxis": "y"
          },
          {
           "alignmentgroup": "True",
           "hovertemplate": "Pays=%{y}<br>release_year=1936<br>Nombre cumulé de films=%{x}<extra></extra>",
           "legendgroup": "United States of America",
           "marker": {
            "color": "#EF553B",
            "pattern": {
             "shape": ""
            }
           },
           "name": "United States of America",
           "offsetgroup": "United States of America",
           "orientation": "h",
           "showlegend": true,
           "textposition": "auto",
           "type": "bar",
           "x": [
            1
           ],
           "xaxis": "x",
           "y": [
            "United States of America"
           ],
           "yaxis": "y"
          },
          {
           "alignmentgroup": "True",
           "hovertemplate": "Pays=%{y}<br>release_year=1936<br>Nombre cumulé de films=%{x}<extra></extra>",
           "legendgroup": "Brazil",
           "marker": {
            "color": "#00cc96",
            "pattern": {
             "shape": ""
            }
           },
           "name": "Brazil",
           "offsetgroup": "Brazil",
           "orientation": "h",
           "showlegend": true,
           "textposition": "auto",
           "type": "bar",
           "x": [
            0
           ],
           "xaxis": "x",
           "y": [
            "Brazil"
           ],
           "yaxis": "y"
          },
          {
           "alignmentgroup": "True",
           "hovertemplate": "Pays=%{y}<br>release_year=1936<br>Nombre cumulé de films=%{x}<extra></extra>",
           "legendgroup": "Netherlands",
           "marker": {
            "color": "#ab63fa",
            "pattern": {
             "shape": ""
            }
           },
           "name": "Netherlands",
           "offsetgroup": "Netherlands",
           "orientation": "h",
           "showlegend": true,
           "textposition": "auto",
           "type": "bar",
           "x": [
            0
           ],
           "xaxis": "x",
           "y": [
            "Netherlands"
           ],
           "yaxis": "y"
          },
          {
           "alignmentgroup": "True",
           "hovertemplate": "Pays=%{y}<br>release_year=1936<br>Nombre cumulé de films=%{x}<extra></extra>",
           "legendgroup": "Canada",
           "marker": {
            "color": "#FFA15A",
            "pattern": {
             "shape": ""
            }
           },
           "name": "Canada",
           "offsetgroup": "Canada",
           "orientation": "h",
           "showlegend": true,
           "textposition": "auto",
           "type": "bar",
           "x": [
            0
           ],
           "xaxis": "x",
           "y": [
            "Canada"
           ],
           "yaxis": "y"
          },
          {
           "alignmentgroup": "True",
           "hovertemplate": "Pays=%{y}<br>release_year=1936<br>Nombre cumulé de films=%{x}<extra></extra>",
           "legendgroup": "France",
           "marker": {
            "color": "#19d3f3",
            "pattern": {
             "shape": ""
            }
           },
           "name": "France",
           "offsetgroup": "France",
           "orientation": "h",
           "showlegend": true,
           "textposition": "auto",
           "type": "bar",
           "x": [
            1
           ],
           "xaxis": "x",
           "y": [
            "France"
           ],
           "yaxis": "y"
          },
          {
           "alignmentgroup": "True",
           "hovertemplate": "Pays=%{y}<br>release_year=1936<br>Nombre cumulé de films=%{x}<extra></extra>",
           "legendgroup": "Czech Republic",
           "marker": {
            "color": "#FF6692",
            "pattern": {
             "shape": ""
            }
           },
           "name": "Czech Republic",
           "offsetgroup": "Czech Republic",
           "orientation": "h",
           "showlegend": true,
           "textposition": "auto",
           "type": "bar",
           "x": [
            1
           ],
           "xaxis": "x",
           "y": [
            "Czech Republic"
           ],
           "yaxis": "y"
          },
          {
           "alignmentgroup": "True",
           "hovertemplate": "Pays=%{y}<br>release_year=1936<br>Nombre cumulé de films=%{x}<extra></extra>",
           "legendgroup": "Hong Kong",
           "marker": {
            "color": "#B6E880",
            "pattern": {
             "shape": ""
            }
           },
           "name": "Hong Kong",
           "offsetgroup": "Hong Kong",
           "orientation": "h",
           "showlegend": true,
           "textposition": "auto",
           "type": "bar",
           "x": [
            0
           ],
           "xaxis": "x",
           "y": [
            "Hong Kong"
           ],
           "yaxis": "y"
          },
          {
           "alignmentgroup": "True",
           "hovertemplate": "Pays=%{y}<br>release_year=1936<br>Nombre cumulé de films=%{x}<extra></extra>",
           "legendgroup": "United Kingdom",
           "marker": {
            "color": "#FECB52",
            "pattern": {
             "shape": ""
            }
           },
           "name": "United Kingdom",
           "offsetgroup": "United Kingdom",
           "orientation": "h",
           "showlegend": true,
           "textposition": "auto",
           "type": "bar",
           "x": [
            16
           ],
           "xaxis": "x",
           "y": [
            "United Kingdom"
           ],
           "yaxis": "y"
          },
          {
           "alignmentgroup": "True",
           "hovertemplate": "Pays=%{y}<br>release_year=1936<br>Nombre cumulé de films=%{x}<extra></extra>",
           "legendgroup": "Romania",
           "marker": {
            "color": "#636efa",
            "pattern": {
             "shape": ""
            }
           },
           "name": "Romania",
           "offsetgroup": "Romania",
           "orientation": "h",
           "showlegend": true,
           "textposition": "auto",
           "type": "bar",
           "x": [
            1
           ],
           "xaxis": "x",
           "y": [
            "Romania"
           ],
           "yaxis": "y"
          }
         ],
         "name": "1936"
        },
        {
         "data": [
          {
           "alignmentgroup": "True",
           "hovertemplate": "Pays=%{y}<br>release_year=1937<br>Nombre cumulé de films=%{x}<extra></extra>",
           "legendgroup": "Germany",
           "marker": {
            "color": "#636efa",
            "pattern": {
             "shape": ""
            }
           },
           "name": "Germany",
           "offsetgroup": "Germany",
           "orientation": "h",
           "showlegend": true,
           "textposition": "auto",
           "type": "bar",
           "x": [
            0
           ],
           "xaxis": "x",
           "y": [
            "Germany"
           ],
           "yaxis": "y"
          },
          {
           "alignmentgroup": "True",
           "hovertemplate": "Pays=%{y}<br>release_year=1937<br>Nombre cumulé de films=%{x}<extra></extra>",
           "legendgroup": "United States of America",
           "marker": {
            "color": "#EF553B",
            "pattern": {
             "shape": ""
            }
           },
           "name": "United States of America",
           "offsetgroup": "United States of America",
           "orientation": "h",
           "showlegend": true,
           "textposition": "auto",
           "type": "bar",
           "x": [
            1
           ],
           "xaxis": "x",
           "y": [
            "United States of America"
           ],
           "yaxis": "y"
          },
          {
           "alignmentgroup": "True",
           "hovertemplate": "Pays=%{y}<br>release_year=1937<br>Nombre cumulé de films=%{x}<extra></extra>",
           "legendgroup": "Brazil",
           "marker": {
            "color": "#00cc96",
            "pattern": {
             "shape": ""
            }
           },
           "name": "Brazil",
           "offsetgroup": "Brazil",
           "orientation": "h",
           "showlegend": true,
           "textposition": "auto",
           "type": "bar",
           "x": [
            0
           ],
           "xaxis": "x",
           "y": [
            "Brazil"
           ],
           "yaxis": "y"
          },
          {
           "alignmentgroup": "True",
           "hovertemplate": "Pays=%{y}<br>release_year=1937<br>Nombre cumulé de films=%{x}<extra></extra>",
           "legendgroup": "Netherlands",
           "marker": {
            "color": "#ab63fa",
            "pattern": {
             "shape": ""
            }
           },
           "name": "Netherlands",
           "offsetgroup": "Netherlands",
           "orientation": "h",
           "showlegend": true,
           "textposition": "auto",
           "type": "bar",
           "x": [
            0
           ],
           "xaxis": "x",
           "y": [
            "Netherlands"
           ],
           "yaxis": "y"
          },
          {
           "alignmentgroup": "True",
           "hovertemplate": "Pays=%{y}<br>release_year=1937<br>Nombre cumulé de films=%{x}<extra></extra>",
           "legendgroup": "Canada",
           "marker": {
            "color": "#FFA15A",
            "pattern": {
             "shape": ""
            }
           },
           "name": "Canada",
           "offsetgroup": "Canada",
           "orientation": "h",
           "showlegend": true,
           "textposition": "auto",
           "type": "bar",
           "x": [
            0
           ],
           "xaxis": "x",
           "y": [
            "Canada"
           ],
           "yaxis": "y"
          },
          {
           "alignmentgroup": "True",
           "hovertemplate": "Pays=%{y}<br>release_year=1937<br>Nombre cumulé de films=%{x}<extra></extra>",
           "legendgroup": "France",
           "marker": {
            "color": "#19d3f3",
            "pattern": {
             "shape": ""
            }
           },
           "name": "France",
           "offsetgroup": "France",
           "orientation": "h",
           "showlegend": true,
           "textposition": "auto",
           "type": "bar",
           "x": [
            1
           ],
           "xaxis": "x",
           "y": [
            "France"
           ],
           "yaxis": "y"
          },
          {
           "alignmentgroup": "True",
           "hovertemplate": "Pays=%{y}<br>release_year=1937<br>Nombre cumulé de films=%{x}<extra></extra>",
           "legendgroup": "Czech Republic",
           "marker": {
            "color": "#FF6692",
            "pattern": {
             "shape": ""
            }
           },
           "name": "Czech Republic",
           "offsetgroup": "Czech Republic",
           "orientation": "h",
           "showlegend": true,
           "textposition": "auto",
           "type": "bar",
           "x": [
            1
           ],
           "xaxis": "x",
           "y": [
            "Czech Republic"
           ],
           "yaxis": "y"
          },
          {
           "alignmentgroup": "True",
           "hovertemplate": "Pays=%{y}<br>release_year=1937<br>Nombre cumulé de films=%{x}<extra></extra>",
           "legendgroup": "Hong Kong",
           "marker": {
            "color": "#B6E880",
            "pattern": {
             "shape": ""
            }
           },
           "name": "Hong Kong",
           "offsetgroup": "Hong Kong",
           "orientation": "h",
           "showlegend": true,
           "textposition": "auto",
           "type": "bar",
           "x": [
            0
           ],
           "xaxis": "x",
           "y": [
            "Hong Kong"
           ],
           "yaxis": "y"
          },
          {
           "alignmentgroup": "True",
           "hovertemplate": "Pays=%{y}<br>release_year=1937<br>Nombre cumulé de films=%{x}<extra></extra>",
           "legendgroup": "United Kingdom",
           "marker": {
            "color": "#FECB52",
            "pattern": {
             "shape": ""
            }
           },
           "name": "United Kingdom",
           "offsetgroup": "United Kingdom",
           "orientation": "h",
           "showlegend": true,
           "textposition": "auto",
           "type": "bar",
           "x": [
            17
           ],
           "xaxis": "x",
           "y": [
            "United Kingdom"
           ],
           "yaxis": "y"
          },
          {
           "alignmentgroup": "True",
           "hovertemplate": "Pays=%{y}<br>release_year=1937<br>Nombre cumulé de films=%{x}<extra></extra>",
           "legendgroup": "Romania",
           "marker": {
            "color": "#636efa",
            "pattern": {
             "shape": ""
            }
           },
           "name": "Romania",
           "offsetgroup": "Romania",
           "orientation": "h",
           "showlegend": true,
           "textposition": "auto",
           "type": "bar",
           "x": [
            1
           ],
           "xaxis": "x",
           "y": [
            "Romania"
           ],
           "yaxis": "y"
          }
         ],
         "name": "1937"
        },
        {
         "data": [
          {
           "alignmentgroup": "True",
           "hovertemplate": "Pays=%{y}<br>release_year=1938<br>Nombre cumulé de films=%{x}<extra></extra>",
           "legendgroup": "Germany",
           "marker": {
            "color": "#636efa",
            "pattern": {
             "shape": ""
            }
           },
           "name": "Germany",
           "offsetgroup": "Germany",
           "orientation": "h",
           "showlegend": true,
           "textposition": "auto",
           "type": "bar",
           "x": [
            0
           ],
           "xaxis": "x",
           "y": [
            "Germany"
           ],
           "yaxis": "y"
          },
          {
           "alignmentgroup": "True",
           "hovertemplate": "Pays=%{y}<br>release_year=1938<br>Nombre cumulé de films=%{x}<extra></extra>",
           "legendgroup": "United States of America",
           "marker": {
            "color": "#EF553B",
            "pattern": {
             "shape": ""
            }
           },
           "name": "United States of America",
           "offsetgroup": "United States of America",
           "orientation": "h",
           "showlegend": true,
           "textposition": "auto",
           "type": "bar",
           "x": [
            1
           ],
           "xaxis": "x",
           "y": [
            "United States of America"
           ],
           "yaxis": "y"
          },
          {
           "alignmentgroup": "True",
           "hovertemplate": "Pays=%{y}<br>release_year=1938<br>Nombre cumulé de films=%{x}<extra></extra>",
           "legendgroup": "Brazil",
           "marker": {
            "color": "#00cc96",
            "pattern": {
             "shape": ""
            }
           },
           "name": "Brazil",
           "offsetgroup": "Brazil",
           "orientation": "h",
           "showlegend": true,
           "textposition": "auto",
           "type": "bar",
           "x": [
            0
           ],
           "xaxis": "x",
           "y": [
            "Brazil"
           ],
           "yaxis": "y"
          },
          {
           "alignmentgroup": "True",
           "hovertemplate": "Pays=%{y}<br>release_year=1938<br>Nombre cumulé de films=%{x}<extra></extra>",
           "legendgroup": "Netherlands",
           "marker": {
            "color": "#ab63fa",
            "pattern": {
             "shape": ""
            }
           },
           "name": "Netherlands",
           "offsetgroup": "Netherlands",
           "orientation": "h",
           "showlegend": true,
           "textposition": "auto",
           "type": "bar",
           "x": [
            0
           ],
           "xaxis": "x",
           "y": [
            "Netherlands"
           ],
           "yaxis": "y"
          },
          {
           "alignmentgroup": "True",
           "hovertemplate": "Pays=%{y}<br>release_year=1938<br>Nombre cumulé de films=%{x}<extra></extra>",
           "legendgroup": "Canada",
           "marker": {
            "color": "#FFA15A",
            "pattern": {
             "shape": ""
            }
           },
           "name": "Canada",
           "offsetgroup": "Canada",
           "orientation": "h",
           "showlegend": true,
           "textposition": "auto",
           "type": "bar",
           "x": [
            0
           ],
           "xaxis": "x",
           "y": [
            "Canada"
           ],
           "yaxis": "y"
          },
          {
           "alignmentgroup": "True",
           "hovertemplate": "Pays=%{y}<br>release_year=1938<br>Nombre cumulé de films=%{x}<extra></extra>",
           "legendgroup": "France",
           "marker": {
            "color": "#19d3f3",
            "pattern": {
             "shape": ""
            }
           },
           "name": "France",
           "offsetgroup": "France",
           "orientation": "h",
           "showlegend": true,
           "textposition": "auto",
           "type": "bar",
           "x": [
            1
           ],
           "xaxis": "x",
           "y": [
            "France"
           ],
           "yaxis": "y"
          },
          {
           "alignmentgroup": "True",
           "hovertemplate": "Pays=%{y}<br>release_year=1938<br>Nombre cumulé de films=%{x}<extra></extra>",
           "legendgroup": "Czech Republic",
           "marker": {
            "color": "#FF6692",
            "pattern": {
             "shape": ""
            }
           },
           "name": "Czech Republic",
           "offsetgroup": "Czech Republic",
           "orientation": "h",
           "showlegend": true,
           "textposition": "auto",
           "type": "bar",
           "x": [
            1
           ],
           "xaxis": "x",
           "y": [
            "Czech Republic"
           ],
           "yaxis": "y"
          },
          {
           "alignmentgroup": "True",
           "hovertemplate": "Pays=%{y}<br>release_year=1938<br>Nombre cumulé de films=%{x}<extra></extra>",
           "legendgroup": "United Kingdom",
           "marker": {
            "color": "#FECB52",
            "pattern": {
             "shape": ""
            }
           },
           "name": "United Kingdom",
           "offsetgroup": "United Kingdom",
           "orientation": "h",
           "showlegend": true,
           "textposition": "auto",
           "type": "bar",
           "x": [
            18
           ],
           "xaxis": "x",
           "y": [
            "United Kingdom"
           ],
           "yaxis": "y"
          },
          {
           "alignmentgroup": "True",
           "hovertemplate": "Pays=%{y}<br>release_year=1938<br>Nombre cumulé de films=%{x}<extra></extra>",
           "legendgroup": "Romania",
           "marker": {
            "color": "#636efa",
            "pattern": {
             "shape": ""
            }
           },
           "name": "Romania",
           "offsetgroup": "Romania",
           "orientation": "h",
           "showlegend": true,
           "textposition": "auto",
           "type": "bar",
           "x": [
            1
           ],
           "xaxis": "x",
           "y": [
            "Romania"
           ],
           "yaxis": "y"
          },
          {
           "alignmentgroup": "True",
           "hovertemplate": "Pays=%{y}<br>release_year=1938<br>Nombre cumulé de films=%{x}<extra></extra>",
           "legendgroup": "Soviet Union",
           "marker": {
            "color": "#EF553B",
            "pattern": {
             "shape": ""
            }
           },
           "name": "Soviet Union",
           "offsetgroup": "Soviet Union",
           "orientation": "h",
           "showlegend": true,
           "textposition": "auto",
           "type": "bar",
           "x": [
            1
           ],
           "xaxis": "x",
           "y": [
            "Soviet Union"
           ],
           "yaxis": "y"
          }
         ],
         "name": "1938"
        },
        {
         "data": [
          {
           "alignmentgroup": "True",
           "hovertemplate": "Pays=%{y}<br>release_year=1939<br>Nombre cumulé de films=%{x}<extra></extra>",
           "legendgroup": "Germany",
           "marker": {
            "color": "#636efa",
            "pattern": {
             "shape": ""
            }
           },
           "name": "Germany",
           "offsetgroup": "Germany",
           "orientation": "h",
           "showlegend": true,
           "textposition": "auto",
           "type": "bar",
           "x": [
            0
           ],
           "xaxis": "x",
           "y": [
            "Germany"
           ],
           "yaxis": "y"
          },
          {
           "alignmentgroup": "True",
           "hovertemplate": "Pays=%{y}<br>release_year=1939<br>Nombre cumulé de films=%{x}<extra></extra>",
           "legendgroup": "United States of America",
           "marker": {
            "color": "#EF553B",
            "pattern": {
             "shape": ""
            }
           },
           "name": "United States of America",
           "offsetgroup": "United States of America",
           "orientation": "h",
           "showlegend": true,
           "textposition": "auto",
           "type": "bar",
           "x": [
            2
           ],
           "xaxis": "x",
           "y": [
            "United States of America"
           ],
           "yaxis": "y"
          },
          {
           "alignmentgroup": "True",
           "hovertemplate": "Pays=%{y}<br>release_year=1939<br>Nombre cumulé de films=%{x}<extra></extra>",
           "legendgroup": "Brazil",
           "marker": {
            "color": "#00cc96",
            "pattern": {
             "shape": ""
            }
           },
           "name": "Brazil",
           "offsetgroup": "Brazil",
           "orientation": "h",
           "showlegend": true,
           "textposition": "auto",
           "type": "bar",
           "x": [
            0
           ],
           "xaxis": "x",
           "y": [
            "Brazil"
           ],
           "yaxis": "y"
          },
          {
           "alignmentgroup": "True",
           "hovertemplate": "Pays=%{y}<br>release_year=1939<br>Nombre cumulé de films=%{x}<extra></extra>",
           "legendgroup": "Netherlands",
           "marker": {
            "color": "#ab63fa",
            "pattern": {
             "shape": ""
            }
           },
           "name": "Netherlands",
           "offsetgroup": "Netherlands",
           "orientation": "h",
           "showlegend": true,
           "textposition": "auto",
           "type": "bar",
           "x": [
            0
           ],
           "xaxis": "x",
           "y": [
            "Netherlands"
           ],
           "yaxis": "y"
          },
          {
           "alignmentgroup": "True",
           "hovertemplate": "Pays=%{y}<br>release_year=1939<br>Nombre cumulé de films=%{x}<extra></extra>",
           "legendgroup": "Canada",
           "marker": {
            "color": "#FFA15A",
            "pattern": {
             "shape": ""
            }
           },
           "name": "Canada",
           "offsetgroup": "Canada",
           "orientation": "h",
           "showlegend": true,
           "textposition": "auto",
           "type": "bar",
           "x": [
            0
           ],
           "xaxis": "x",
           "y": [
            "Canada"
           ],
           "yaxis": "y"
          },
          {
           "alignmentgroup": "True",
           "hovertemplate": "Pays=%{y}<br>release_year=1939<br>Nombre cumulé de films=%{x}<extra></extra>",
           "legendgroup": "France",
           "marker": {
            "color": "#19d3f3",
            "pattern": {
             "shape": ""
            }
           },
           "name": "France",
           "offsetgroup": "France",
           "orientation": "h",
           "showlegend": true,
           "textposition": "auto",
           "type": "bar",
           "x": [
            1
           ],
           "xaxis": "x",
           "y": [
            "France"
           ],
           "yaxis": "y"
          },
          {
           "alignmentgroup": "True",
           "hovertemplate": "Pays=%{y}<br>release_year=1939<br>Nombre cumulé de films=%{x}<extra></extra>",
           "legendgroup": "Czech Republic",
           "marker": {
            "color": "#FF6692",
            "pattern": {
             "shape": ""
            }
           },
           "name": "Czech Republic",
           "offsetgroup": "Czech Republic",
           "orientation": "h",
           "showlegend": true,
           "textposition": "auto",
           "type": "bar",
           "x": [
            1
           ],
           "xaxis": "x",
           "y": [
            "Czech Republic"
           ],
           "yaxis": "y"
          },
          {
           "alignmentgroup": "True",
           "hovertemplate": "Pays=%{y}<br>release_year=1939<br>Nombre cumulé de films=%{x}<extra></extra>",
           "legendgroup": "United Kingdom",
           "marker": {
            "color": "#FECB52",
            "pattern": {
             "shape": ""
            }
           },
           "name": "United Kingdom",
           "offsetgroup": "United Kingdom",
           "orientation": "h",
           "showlegend": true,
           "textposition": "auto",
           "type": "bar",
           "x": [
            21
           ],
           "xaxis": "x",
           "y": [
            "United Kingdom"
           ],
           "yaxis": "y"
          },
          {
           "alignmentgroup": "True",
           "hovertemplate": "Pays=%{y}<br>release_year=1939<br>Nombre cumulé de films=%{x}<extra></extra>",
           "legendgroup": "Romania",
           "marker": {
            "color": "#636efa",
            "pattern": {
             "shape": ""
            }
           },
           "name": "Romania",
           "offsetgroup": "Romania",
           "orientation": "h",
           "showlegend": true,
           "textposition": "auto",
           "type": "bar",
           "x": [
            1
           ],
           "xaxis": "x",
           "y": [
            "Romania"
           ],
           "yaxis": "y"
          },
          {
           "alignmentgroup": "True",
           "hovertemplate": "Pays=%{y}<br>release_year=1939<br>Nombre cumulé de films=%{x}<extra></extra>",
           "legendgroup": "Soviet Union",
           "marker": {
            "color": "#EF553B",
            "pattern": {
             "shape": ""
            }
           },
           "name": "Soviet Union",
           "offsetgroup": "Soviet Union",
           "orientation": "h",
           "showlegend": true,
           "textposition": "auto",
           "type": "bar",
           "x": [
            1
           ],
           "xaxis": "x",
           "y": [
            "Soviet Union"
           ],
           "yaxis": "y"
          }
         ],
         "name": "1939"
        },
        {
         "data": [
          {
           "alignmentgroup": "True",
           "hovertemplate": "Pays=%{y}<br>release_year=1940<br>Nombre cumulé de films=%{x}<extra></extra>",
           "legendgroup": "Germany",
           "marker": {
            "color": "#636efa",
            "pattern": {
             "shape": ""
            }
           },
           "name": "Germany",
           "offsetgroup": "Germany",
           "orientation": "h",
           "showlegend": true,
           "textposition": "auto",
           "type": "bar",
           "x": [
            0
           ],
           "xaxis": "x",
           "y": [
            "Germany"
           ],
           "yaxis": "y"
          },
          {
           "alignmentgroup": "True",
           "hovertemplate": "Pays=%{y}<br>release_year=1940<br>Nombre cumulé de films=%{x}<extra></extra>",
           "legendgroup": "United States of America",
           "marker": {
            "color": "#EF553B",
            "pattern": {
             "shape": ""
            }
           },
           "name": "United States of America",
           "offsetgroup": "United States of America",
           "orientation": "h",
           "showlegend": true,
           "textposition": "auto",
           "type": "bar",
           "x": [
            2
           ],
           "xaxis": "x",
           "y": [
            "United States of America"
           ],
           "yaxis": "y"
          },
          {
           "alignmentgroup": "True",
           "hovertemplate": "Pays=%{y}<br>release_year=1940<br>Nombre cumulé de films=%{x}<extra></extra>",
           "legendgroup": "Brazil",
           "marker": {
            "color": "#00cc96",
            "pattern": {
             "shape": ""
            }
           },
           "name": "Brazil",
           "offsetgroup": "Brazil",
           "orientation": "h",
           "showlegend": true,
           "textposition": "auto",
           "type": "bar",
           "x": [
            0
           ],
           "xaxis": "x",
           "y": [
            "Brazil"
           ],
           "yaxis": "y"
          },
          {
           "alignmentgroup": "True",
           "hovertemplate": "Pays=%{y}<br>release_year=1940<br>Nombre cumulé de films=%{x}<extra></extra>",
           "legendgroup": "Netherlands",
           "marker": {
            "color": "#ab63fa",
            "pattern": {
             "shape": ""
            }
           },
           "name": "Netherlands",
           "offsetgroup": "Netherlands",
           "orientation": "h",
           "showlegend": true,
           "textposition": "auto",
           "type": "bar",
           "x": [
            0
           ],
           "xaxis": "x",
           "y": [
            "Netherlands"
           ],
           "yaxis": "y"
          },
          {
           "alignmentgroup": "True",
           "hovertemplate": "Pays=%{y}<br>release_year=1940<br>Nombre cumulé de films=%{x}<extra></extra>",
           "legendgroup": "Canada",
           "marker": {
            "color": "#FFA15A",
            "pattern": {
             "shape": ""
            }
           },
           "name": "Canada",
           "offsetgroup": "Canada",
           "orientation": "h",
           "showlegend": true,
           "textposition": "auto",
           "type": "bar",
           "x": [
            0
           ],
           "xaxis": "x",
           "y": [
            "Canada"
           ],
           "yaxis": "y"
          },
          {
           "alignmentgroup": "True",
           "hovertemplate": "Pays=%{y}<br>release_year=1940<br>Nombre cumulé de films=%{x}<extra></extra>",
           "legendgroup": "France",
           "marker": {
            "color": "#19d3f3",
            "pattern": {
             "shape": ""
            }
           },
           "name": "France",
           "offsetgroup": "France",
           "orientation": "h",
           "showlegend": true,
           "textposition": "auto",
           "type": "bar",
           "x": [
            1
           ],
           "xaxis": "x",
           "y": [
            "France"
           ],
           "yaxis": "y"
          },
          {
           "alignmentgroup": "True",
           "hovertemplate": "Pays=%{y}<br>release_year=1940<br>Nombre cumulé de films=%{x}<extra></extra>",
           "legendgroup": "Czech Republic",
           "marker": {
            "color": "#FF6692",
            "pattern": {
             "shape": ""
            }
           },
           "name": "Czech Republic",
           "offsetgroup": "Czech Republic",
           "orientation": "h",
           "showlegend": true,
           "textposition": "auto",
           "type": "bar",
           "x": [
            1
           ],
           "xaxis": "x",
           "y": [
            "Czech Republic"
           ],
           "yaxis": "y"
          },
          {
           "alignmentgroup": "True",
           "hovertemplate": "Pays=%{y}<br>release_year=1940<br>Nombre cumulé de films=%{x}<extra></extra>",
           "legendgroup": "United Kingdom",
           "marker": {
            "color": "#FECB52",
            "pattern": {
             "shape": ""
            }
           },
           "name": "United Kingdom",
           "offsetgroup": "United Kingdom",
           "orientation": "h",
           "showlegend": true,
           "textposition": "auto",
           "type": "bar",
           "x": [
            22
           ],
           "xaxis": "x",
           "y": [
            "United Kingdom"
           ],
           "yaxis": "y"
          },
          {
           "alignmentgroup": "True",
           "hovertemplate": "Pays=%{y}<br>release_year=1940<br>Nombre cumulé de films=%{x}<extra></extra>",
           "legendgroup": "Romania",
           "marker": {
            "color": "#636efa",
            "pattern": {
             "shape": ""
            }
           },
           "name": "Romania",
           "offsetgroup": "Romania",
           "orientation": "h",
           "showlegend": true,
           "textposition": "auto",
           "type": "bar",
           "x": [
            1
           ],
           "xaxis": "x",
           "y": [
            "Romania"
           ],
           "yaxis": "y"
          },
          {
           "alignmentgroup": "True",
           "hovertemplate": "Pays=%{y}<br>release_year=1940<br>Nombre cumulé de films=%{x}<extra></extra>",
           "legendgroup": "Soviet Union",
           "marker": {
            "color": "#EF553B",
            "pattern": {
             "shape": ""
            }
           },
           "name": "Soviet Union",
           "offsetgroup": "Soviet Union",
           "orientation": "h",
           "showlegend": true,
           "textposition": "auto",
           "type": "bar",
           "x": [
            1
           ],
           "xaxis": "x",
           "y": [
            "Soviet Union"
           ],
           "yaxis": "y"
          }
         ],
         "name": "1940"
        },
        {
         "data": [
          {
           "alignmentgroup": "True",
           "hovertemplate": "Pays=%{y}<br>release_year=1941<br>Nombre cumulé de films=%{x}<extra></extra>",
           "legendgroup": "Germany",
           "marker": {
            "color": "#636efa",
            "pattern": {
             "shape": ""
            }
           },
           "name": "Germany",
           "offsetgroup": "Germany",
           "orientation": "h",
           "showlegend": true,
           "textposition": "auto",
           "type": "bar",
           "x": [
            0
           ],
           "xaxis": "x",
           "y": [
            "Germany"
           ],
           "yaxis": "y"
          },
          {
           "alignmentgroup": "True",
           "hovertemplate": "Pays=%{y}<br>release_year=1941<br>Nombre cumulé de films=%{x}<extra></extra>",
           "legendgroup": "United States of America",
           "marker": {
            "color": "#EF553B",
            "pattern": {
             "shape": ""
            }
           },
           "name": "United States of America",
           "offsetgroup": "United States of America",
           "orientation": "h",
           "showlegend": true,
           "textposition": "auto",
           "type": "bar",
           "x": [
            2
           ],
           "xaxis": "x",
           "y": [
            "United States of America"
           ],
           "yaxis": "y"
          },
          {
           "alignmentgroup": "True",
           "hovertemplate": "Pays=%{y}<br>release_year=1941<br>Nombre cumulé de films=%{x}<extra></extra>",
           "legendgroup": "Brazil",
           "marker": {
            "color": "#00cc96",
            "pattern": {
             "shape": ""
            }
           },
           "name": "Brazil",
           "offsetgroup": "Brazil",
           "orientation": "h",
           "showlegend": true,
           "textposition": "auto",
           "type": "bar",
           "x": [
            0
           ],
           "xaxis": "x",
           "y": [
            "Brazil"
           ],
           "yaxis": "y"
          },
          {
           "alignmentgroup": "True",
           "hovertemplate": "Pays=%{y}<br>release_year=1941<br>Nombre cumulé de films=%{x}<extra></extra>",
           "legendgroup": "Netherlands",
           "marker": {
            "color": "#ab63fa",
            "pattern": {
             "shape": ""
            }
           },
           "name": "Netherlands",
           "offsetgroup": "Netherlands",
           "orientation": "h",
           "showlegend": true,
           "textposition": "auto",
           "type": "bar",
           "x": [
            0
           ],
           "xaxis": "x",
           "y": [
            "Netherlands"
           ],
           "yaxis": "y"
          },
          {
           "alignmentgroup": "True",
           "hovertemplate": "Pays=%{y}<br>release_year=1941<br>Nombre cumulé de films=%{x}<extra></extra>",
           "legendgroup": "Canada",
           "marker": {
            "color": "#FFA15A",
            "pattern": {
             "shape": ""
            }
           },
           "name": "Canada",
           "offsetgroup": "Canada",
           "orientation": "h",
           "showlegend": true,
           "textposition": "auto",
           "type": "bar",
           "x": [
            0
           ],
           "xaxis": "x",
           "y": [
            "Canada"
           ],
           "yaxis": "y"
          },
          {
           "alignmentgroup": "True",
           "hovertemplate": "Pays=%{y}<br>release_year=1941<br>Nombre cumulé de films=%{x}<extra></extra>",
           "legendgroup": "France",
           "marker": {
            "color": "#19d3f3",
            "pattern": {
             "shape": ""
            }
           },
           "name": "France",
           "offsetgroup": "France",
           "orientation": "h",
           "showlegend": true,
           "textposition": "auto",
           "type": "bar",
           "x": [
            1
           ],
           "xaxis": "x",
           "y": [
            "France"
           ],
           "yaxis": "y"
          },
          {
           "alignmentgroup": "True",
           "hovertemplate": "Pays=%{y}<br>release_year=1941<br>Nombre cumulé de films=%{x}<extra></extra>",
           "legendgroup": "Czech Republic",
           "marker": {
            "color": "#FF6692",
            "pattern": {
             "shape": ""
            }
           },
           "name": "Czech Republic",
           "offsetgroup": "Czech Republic",
           "orientation": "h",
           "showlegend": true,
           "textposition": "auto",
           "type": "bar",
           "x": [
            1
           ],
           "xaxis": "x",
           "y": [
            "Czech Republic"
           ],
           "yaxis": "y"
          },
          {
           "alignmentgroup": "True",
           "hovertemplate": "Pays=%{y}<br>release_year=1941<br>Nombre cumulé de films=%{x}<extra></extra>",
           "legendgroup": "United Kingdom",
           "marker": {
            "color": "#FECB52",
            "pattern": {
             "shape": ""
            }
           },
           "name": "United Kingdom",
           "offsetgroup": "United Kingdom",
           "orientation": "h",
           "showlegend": true,
           "textposition": "auto",
           "type": "bar",
           "x": [
            23
           ],
           "xaxis": "x",
           "y": [
            "United Kingdom"
           ],
           "yaxis": "y"
          },
          {
           "alignmentgroup": "True",
           "hovertemplate": "Pays=%{y}<br>release_year=1941<br>Nombre cumulé de films=%{x}<extra></extra>",
           "legendgroup": "Romania",
           "marker": {
            "color": "#636efa",
            "pattern": {
             "shape": ""
            }
           },
           "name": "Romania",
           "offsetgroup": "Romania",
           "orientation": "h",
           "showlegend": true,
           "textposition": "auto",
           "type": "bar",
           "x": [
            1
           ],
           "xaxis": "x",
           "y": [
            "Romania"
           ],
           "yaxis": "y"
          },
          {
           "alignmentgroup": "True",
           "hovertemplate": "Pays=%{y}<br>release_year=1941<br>Nombre cumulé de films=%{x}<extra></extra>",
           "legendgroup": "Soviet Union",
           "marker": {
            "color": "#EF553B",
            "pattern": {
             "shape": ""
            }
           },
           "name": "Soviet Union",
           "offsetgroup": "Soviet Union",
           "orientation": "h",
           "showlegend": true,
           "textposition": "auto",
           "type": "bar",
           "x": [
            1
           ],
           "xaxis": "x",
           "y": [
            "Soviet Union"
           ],
           "yaxis": "y"
          }
         ],
         "name": "1941"
        },
        {
         "data": [
          {
           "alignmentgroup": "True",
           "hovertemplate": "Pays=%{y}<br>release_year=1942<br>Nombre cumulé de films=%{x}<extra></extra>",
           "legendgroup": "Germany",
           "marker": {
            "color": "#636efa",
            "pattern": {
             "shape": ""
            }
           },
           "name": "Germany",
           "offsetgroup": "Germany",
           "orientation": "h",
           "showlegend": true,
           "textposition": "auto",
           "type": "bar",
           "x": [
            0
           ],
           "xaxis": "x",
           "y": [
            "Germany"
           ],
           "yaxis": "y"
          },
          {
           "alignmentgroup": "True",
           "hovertemplate": "Pays=%{y}<br>release_year=1942<br>Nombre cumulé de films=%{x}<extra></extra>",
           "legendgroup": "United States of America",
           "marker": {
            "color": "#EF553B",
            "pattern": {
             "shape": ""
            }
           },
           "name": "United States of America",
           "offsetgroup": "United States of America",
           "orientation": "h",
           "showlegend": true,
           "textposition": "auto",
           "type": "bar",
           "x": [
            2
           ],
           "xaxis": "x",
           "y": [
            "United States of America"
           ],
           "yaxis": "y"
          },
          {
           "alignmentgroup": "True",
           "hovertemplate": "Pays=%{y}<br>release_year=1942<br>Nombre cumulé de films=%{x}<extra></extra>",
           "legendgroup": "Brazil",
           "marker": {
            "color": "#00cc96",
            "pattern": {
             "shape": ""
            }
           },
           "name": "Brazil",
           "offsetgroup": "Brazil",
           "orientation": "h",
           "showlegend": true,
           "textposition": "auto",
           "type": "bar",
           "x": [
            0
           ],
           "xaxis": "x",
           "y": [
            "Brazil"
           ],
           "yaxis": "y"
          },
          {
           "alignmentgroup": "True",
           "hovertemplate": "Pays=%{y}<br>release_year=1942<br>Nombre cumulé de films=%{x}<extra></extra>",
           "legendgroup": "Netherlands",
           "marker": {
            "color": "#ab63fa",
            "pattern": {
             "shape": ""
            }
           },
           "name": "Netherlands",
           "offsetgroup": "Netherlands",
           "orientation": "h",
           "showlegend": true,
           "textposition": "auto",
           "type": "bar",
           "x": [
            0
           ],
           "xaxis": "x",
           "y": [
            "Netherlands"
           ],
           "yaxis": "y"
          },
          {
           "alignmentgroup": "True",
           "hovertemplate": "Pays=%{y}<br>release_year=1942<br>Nombre cumulé de films=%{x}<extra></extra>",
           "legendgroup": "Canada",
           "marker": {
            "color": "#FFA15A",
            "pattern": {
             "shape": ""
            }
           },
           "name": "Canada",
           "offsetgroup": "Canada",
           "orientation": "h",
           "showlegend": true,
           "textposition": "auto",
           "type": "bar",
           "x": [
            0
           ],
           "xaxis": "x",
           "y": [
            "Canada"
           ],
           "yaxis": "y"
          },
          {
           "alignmentgroup": "True",
           "hovertemplate": "Pays=%{y}<br>release_year=1942<br>Nombre cumulé de films=%{x}<extra></extra>",
           "legendgroup": "France",
           "marker": {
            "color": "#19d3f3",
            "pattern": {
             "shape": ""
            }
           },
           "name": "France",
           "offsetgroup": "France",
           "orientation": "h",
           "showlegend": true,
           "textposition": "auto",
           "type": "bar",
           "x": [
            1
           ],
           "xaxis": "x",
           "y": [
            "France"
           ],
           "yaxis": "y"
          },
          {
           "alignmentgroup": "True",
           "hovertemplate": "Pays=%{y}<br>release_year=1942<br>Nombre cumulé de films=%{x}<extra></extra>",
           "legendgroup": "Czech Republic",
           "marker": {
            "color": "#FF6692",
            "pattern": {
             "shape": ""
            }
           },
           "name": "Czech Republic",
           "offsetgroup": "Czech Republic",
           "orientation": "h",
           "showlegend": true,
           "textposition": "auto",
           "type": "bar",
           "x": [
            1
           ],
           "xaxis": "x",
           "y": [
            "Czech Republic"
           ],
           "yaxis": "y"
          },
          {
           "alignmentgroup": "True",
           "hovertemplate": "Pays=%{y}<br>release_year=1942<br>Nombre cumulé de films=%{x}<extra></extra>",
           "legendgroup": "United Kingdom",
           "marker": {
            "color": "#FECB52",
            "pattern": {
             "shape": ""
            }
           },
           "name": "United Kingdom",
           "offsetgroup": "United Kingdom",
           "orientation": "h",
           "showlegend": true,
           "textposition": "auto",
           "type": "bar",
           "x": [
            24
           ],
           "xaxis": "x",
           "y": [
            "United Kingdom"
           ],
           "yaxis": "y"
          },
          {
           "alignmentgroup": "True",
           "hovertemplate": "Pays=%{y}<br>release_year=1942<br>Nombre cumulé de films=%{x}<extra></extra>",
           "legendgroup": "Romania",
           "marker": {
            "color": "#636efa",
            "pattern": {
             "shape": ""
            }
           },
           "name": "Romania",
           "offsetgroup": "Romania",
           "orientation": "h",
           "showlegend": true,
           "textposition": "auto",
           "type": "bar",
           "x": [
            1
           ],
           "xaxis": "x",
           "y": [
            "Romania"
           ],
           "yaxis": "y"
          },
          {
           "alignmentgroup": "True",
           "hovertemplate": "Pays=%{y}<br>release_year=1942<br>Nombre cumulé de films=%{x}<extra></extra>",
           "legendgroup": "Soviet Union",
           "marker": {
            "color": "#EF553B",
            "pattern": {
             "shape": ""
            }
           },
           "name": "Soviet Union",
           "offsetgroup": "Soviet Union",
           "orientation": "h",
           "showlegend": true,
           "textposition": "auto",
           "type": "bar",
           "x": [
            1
           ],
           "xaxis": "x",
           "y": [
            "Soviet Union"
           ],
           "yaxis": "y"
          }
         ],
         "name": "1942"
        },
        {
         "data": [
          {
           "alignmentgroup": "True",
           "hovertemplate": "Pays=%{y}<br>release_year=1943<br>Nombre cumulé de films=%{x}<extra></extra>",
           "legendgroup": "Germany",
           "marker": {
            "color": "#636efa",
            "pattern": {
             "shape": ""
            }
           },
           "name": "Germany",
           "offsetgroup": "Germany",
           "orientation": "h",
           "showlegend": true,
           "textposition": "auto",
           "type": "bar",
           "x": [
            1
           ],
           "xaxis": "x",
           "y": [
            "Germany"
           ],
           "yaxis": "y"
          },
          {
           "alignmentgroup": "True",
           "hovertemplate": "Pays=%{y}<br>release_year=1943<br>Nombre cumulé de films=%{x}<extra></extra>",
           "legendgroup": "United States of America",
           "marker": {
            "color": "#EF553B",
            "pattern": {
             "shape": ""
            }
           },
           "name": "United States of America",
           "offsetgroup": "United States of America",
           "orientation": "h",
           "showlegend": true,
           "textposition": "auto",
           "type": "bar",
           "x": [
            2
           ],
           "xaxis": "x",
           "y": [
            "United States of America"
           ],
           "yaxis": "y"
          },
          {
           "alignmentgroup": "True",
           "hovertemplate": "Pays=%{y}<br>release_year=1943<br>Nombre cumulé de films=%{x}<extra></extra>",
           "legendgroup": "Brazil",
           "marker": {
            "color": "#00cc96",
            "pattern": {
             "shape": ""
            }
           },
           "name": "Brazil",
           "offsetgroup": "Brazil",
           "orientation": "h",
           "showlegend": true,
           "textposition": "auto",
           "type": "bar",
           "x": [
            0
           ],
           "xaxis": "x",
           "y": [
            "Brazil"
           ],
           "yaxis": "y"
          },
          {
           "alignmentgroup": "True",
           "hovertemplate": "Pays=%{y}<br>release_year=1943<br>Nombre cumulé de films=%{x}<extra></extra>",
           "legendgroup": "Netherlands",
           "marker": {
            "color": "#ab63fa",
            "pattern": {
             "shape": ""
            }
           },
           "name": "Netherlands",
           "offsetgroup": "Netherlands",
           "orientation": "h",
           "showlegend": true,
           "textposition": "auto",
           "type": "bar",
           "x": [
            0
           ],
           "xaxis": "x",
           "y": [
            "Netherlands"
           ],
           "yaxis": "y"
          },
          {
           "alignmentgroup": "True",
           "hovertemplate": "Pays=%{y}<br>release_year=1943<br>Nombre cumulé de films=%{x}<extra></extra>",
           "legendgroup": "France",
           "marker": {
            "color": "#19d3f3",
            "pattern": {
             "shape": ""
            }
           },
           "name": "France",
           "offsetgroup": "France",
           "orientation": "h",
           "showlegend": true,
           "textposition": "auto",
           "type": "bar",
           "x": [
            1
           ],
           "xaxis": "x",
           "y": [
            "France"
           ],
           "yaxis": "y"
          },
          {
           "alignmentgroup": "True",
           "hovertemplate": "Pays=%{y}<br>release_year=1943<br>Nombre cumulé de films=%{x}<extra></extra>",
           "legendgroup": "Czech Republic",
           "marker": {
            "color": "#FF6692",
            "pattern": {
             "shape": ""
            }
           },
           "name": "Czech Republic",
           "offsetgroup": "Czech Republic",
           "orientation": "h",
           "showlegend": true,
           "textposition": "auto",
           "type": "bar",
           "x": [
            1
           ],
           "xaxis": "x",
           "y": [
            "Czech Republic"
           ],
           "yaxis": "y"
          },
          {
           "alignmentgroup": "True",
           "hovertemplate": "Pays=%{y}<br>release_year=1943<br>Nombre cumulé de films=%{x}<extra></extra>",
           "legendgroup": "United Kingdom",
           "marker": {
            "color": "#FECB52",
            "pattern": {
             "shape": ""
            }
           },
           "name": "United Kingdom",
           "offsetgroup": "United Kingdom",
           "orientation": "h",
           "showlegend": true,
           "textposition": "auto",
           "type": "bar",
           "x": [
            25
           ],
           "xaxis": "x",
           "y": [
            "United Kingdom"
           ],
           "yaxis": "y"
          },
          {
           "alignmentgroup": "True",
           "hovertemplate": "Pays=%{y}<br>release_year=1943<br>Nombre cumulé de films=%{x}<extra></extra>",
           "legendgroup": "Romania",
           "marker": {
            "color": "#636efa",
            "pattern": {
             "shape": ""
            }
           },
           "name": "Romania",
           "offsetgroup": "Romania",
           "orientation": "h",
           "showlegend": true,
           "textposition": "auto",
           "type": "bar",
           "x": [
            1
           ],
           "xaxis": "x",
           "y": [
            "Romania"
           ],
           "yaxis": "y"
          },
          {
           "alignmentgroup": "True",
           "hovertemplate": "Pays=%{y}<br>release_year=1943<br>Nombre cumulé de films=%{x}<extra></extra>",
           "legendgroup": "Soviet Union",
           "marker": {
            "color": "#EF553B",
            "pattern": {
             "shape": ""
            }
           },
           "name": "Soviet Union",
           "offsetgroup": "Soviet Union",
           "orientation": "h",
           "showlegend": true,
           "textposition": "auto",
           "type": "bar",
           "x": [
            1
           ],
           "xaxis": "x",
           "y": [
            "Soviet Union"
           ],
           "yaxis": "y"
          },
          {
           "alignmentgroup": "True",
           "hovertemplate": "Pays=%{y}<br>release_year=1943<br>Nombre cumulé de films=%{x}<extra></extra>",
           "legendgroup": "Ireland",
           "marker": {
            "color": "#00cc96",
            "pattern": {
             "shape": ""
            }
           },
           "name": "Ireland",
           "offsetgroup": "Ireland",
           "orientation": "h",
           "showlegend": true,
           "textposition": "auto",
           "type": "bar",
           "x": [
            1
           ],
           "xaxis": "x",
           "y": [
            "Ireland"
           ],
           "yaxis": "y"
          }
         ],
         "name": "1943"
        },
        {
         "data": [
          {
           "alignmentgroup": "True",
           "hovertemplate": "Pays=%{y}<br>release_year=1944<br>Nombre cumulé de films=%{x}<extra></extra>",
           "legendgroup": "Germany",
           "marker": {
            "color": "#636efa",
            "pattern": {
             "shape": ""
            }
           },
           "name": "Germany",
           "offsetgroup": "Germany",
           "orientation": "h",
           "showlegend": true,
           "textposition": "auto",
           "type": "bar",
           "x": [
            1
           ],
           "xaxis": "x",
           "y": [
            "Germany"
           ],
           "yaxis": "y"
          },
          {
           "alignmentgroup": "True",
           "hovertemplate": "Pays=%{y}<br>release_year=1944<br>Nombre cumulé de films=%{x}<extra></extra>",
           "legendgroup": "United States of America",
           "marker": {
            "color": "#EF553B",
            "pattern": {
             "shape": ""
            }
           },
           "name": "United States of America",
           "offsetgroup": "United States of America",
           "orientation": "h",
           "showlegend": true,
           "textposition": "auto",
           "type": "bar",
           "x": [
            2
           ],
           "xaxis": "x",
           "y": [
            "United States of America"
           ],
           "yaxis": "y"
          },
          {
           "alignmentgroup": "True",
           "hovertemplate": "Pays=%{y}<br>release_year=1944<br>Nombre cumulé de films=%{x}<extra></extra>",
           "legendgroup": "Brazil",
           "marker": {
            "color": "#00cc96",
            "pattern": {
             "shape": ""
            }
           },
           "name": "Brazil",
           "offsetgroup": "Brazil",
           "orientation": "h",
           "showlegend": true,
           "textposition": "auto",
           "type": "bar",
           "x": [
            0
           ],
           "xaxis": "x",
           "y": [
            "Brazil"
           ],
           "yaxis": "y"
          },
          {
           "alignmentgroup": "True",
           "hovertemplate": "Pays=%{y}<br>release_year=1944<br>Nombre cumulé de films=%{x}<extra></extra>",
           "legendgroup": "Netherlands",
           "marker": {
            "color": "#ab63fa",
            "pattern": {
             "shape": ""
            }
           },
           "name": "Netherlands",
           "offsetgroup": "Netherlands",
           "orientation": "h",
           "showlegend": true,
           "textposition": "auto",
           "type": "bar",
           "x": [
            0
           ],
           "xaxis": "x",
           "y": [
            "Netherlands"
           ],
           "yaxis": "y"
          },
          {
           "alignmentgroup": "True",
           "hovertemplate": "Pays=%{y}<br>release_year=1944<br>Nombre cumulé de films=%{x}<extra></extra>",
           "legendgroup": "France",
           "marker": {
            "color": "#19d3f3",
            "pattern": {
             "shape": ""
            }
           },
           "name": "France",
           "offsetgroup": "France",
           "orientation": "h",
           "showlegend": true,
           "textposition": "auto",
           "type": "bar",
           "x": [
            1
           ],
           "xaxis": "x",
           "y": [
            "France"
           ],
           "yaxis": "y"
          },
          {
           "alignmentgroup": "True",
           "hovertemplate": "Pays=%{y}<br>release_year=1944<br>Nombre cumulé de films=%{x}<extra></extra>",
           "legendgroup": "Czech Republic",
           "marker": {
            "color": "#FF6692",
            "pattern": {
             "shape": ""
            }
           },
           "name": "Czech Republic",
           "offsetgroup": "Czech Republic",
           "orientation": "h",
           "showlegend": true,
           "textposition": "auto",
           "type": "bar",
           "x": [
            1
           ],
           "xaxis": "x",
           "y": [
            "Czech Republic"
           ],
           "yaxis": "y"
          },
          {
           "alignmentgroup": "True",
           "hovertemplate": "Pays=%{y}<br>release_year=1944<br>Nombre cumulé de films=%{x}<extra></extra>",
           "legendgroup": "United Kingdom",
           "marker": {
            "color": "#FECB52",
            "pattern": {
             "shape": ""
            }
           },
           "name": "United Kingdom",
           "offsetgroup": "United Kingdom",
           "orientation": "h",
           "showlegend": true,
           "textposition": "auto",
           "type": "bar",
           "x": [
            26
           ],
           "xaxis": "x",
           "y": [
            "United Kingdom"
           ],
           "yaxis": "y"
          },
          {
           "alignmentgroup": "True",
           "hovertemplate": "Pays=%{y}<br>release_year=1944<br>Nombre cumulé de films=%{x}<extra></extra>",
           "legendgroup": "Romania",
           "marker": {
            "color": "#636efa",
            "pattern": {
             "shape": ""
            }
           },
           "name": "Romania",
           "offsetgroup": "Romania",
           "orientation": "h",
           "showlegend": true,
           "textposition": "auto",
           "type": "bar",
           "x": [
            1
           ],
           "xaxis": "x",
           "y": [
            "Romania"
           ],
           "yaxis": "y"
          },
          {
           "alignmentgroup": "True",
           "hovertemplate": "Pays=%{y}<br>release_year=1944<br>Nombre cumulé de films=%{x}<extra></extra>",
           "legendgroup": "Soviet Union",
           "marker": {
            "color": "#EF553B",
            "pattern": {
             "shape": ""
            }
           },
           "name": "Soviet Union",
           "offsetgroup": "Soviet Union",
           "orientation": "h",
           "showlegend": true,
           "textposition": "auto",
           "type": "bar",
           "x": [
            1
           ],
           "xaxis": "x",
           "y": [
            "Soviet Union"
           ],
           "yaxis": "y"
          },
          {
           "alignmentgroup": "True",
           "hovertemplate": "Pays=%{y}<br>release_year=1944<br>Nombre cumulé de films=%{x}<extra></extra>",
           "legendgroup": "Ireland",
           "marker": {
            "color": "#00cc96",
            "pattern": {
             "shape": ""
            }
           },
           "name": "Ireland",
           "offsetgroup": "Ireland",
           "orientation": "h",
           "showlegend": true,
           "textposition": "auto",
           "type": "bar",
           "x": [
            1
           ],
           "xaxis": "x",
           "y": [
            "Ireland"
           ],
           "yaxis": "y"
          }
         ],
         "name": "1944"
        },
        {
         "data": [
          {
           "alignmentgroup": "True",
           "hovertemplate": "Pays=%{y}<br>release_year=1945<br>Nombre cumulé de films=%{x}<extra></extra>",
           "legendgroup": "Germany",
           "marker": {
            "color": "#636efa",
            "pattern": {
             "shape": ""
            }
           },
           "name": "Germany",
           "offsetgroup": "Germany",
           "orientation": "h",
           "showlegend": true,
           "textposition": "auto",
           "type": "bar",
           "x": [
            1
           ],
           "xaxis": "x",
           "y": [
            "Germany"
           ],
           "yaxis": "y"
          },
          {
           "alignmentgroup": "True",
           "hovertemplate": "Pays=%{y}<br>release_year=1945<br>Nombre cumulé de films=%{x}<extra></extra>",
           "legendgroup": "United States of America",
           "marker": {
            "color": "#EF553B",
            "pattern": {
             "shape": ""
            }
           },
           "name": "United States of America",
           "offsetgroup": "United States of America",
           "orientation": "h",
           "showlegend": true,
           "textposition": "auto",
           "type": "bar",
           "x": [
            2
           ],
           "xaxis": "x",
           "y": [
            "United States of America"
           ],
           "yaxis": "y"
          },
          {
           "alignmentgroup": "True",
           "hovertemplate": "Pays=%{y}<br>release_year=1945<br>Nombre cumulé de films=%{x}<extra></extra>",
           "legendgroup": "Brazil",
           "marker": {
            "color": "#00cc96",
            "pattern": {
             "shape": ""
            }
           },
           "name": "Brazil",
           "offsetgroup": "Brazil",
           "orientation": "h",
           "showlegend": true,
           "textposition": "auto",
           "type": "bar",
           "x": [
            0
           ],
           "xaxis": "x",
           "y": [
            "Brazil"
           ],
           "yaxis": "y"
          },
          {
           "alignmentgroup": "True",
           "hovertemplate": "Pays=%{y}<br>release_year=1945<br>Nombre cumulé de films=%{x}<extra></extra>",
           "legendgroup": "Netherlands",
           "marker": {
            "color": "#ab63fa",
            "pattern": {
             "shape": ""
            }
           },
           "name": "Netherlands",
           "offsetgroup": "Netherlands",
           "orientation": "h",
           "showlegend": true,
           "textposition": "auto",
           "type": "bar",
           "x": [
            0
           ],
           "xaxis": "x",
           "y": [
            "Netherlands"
           ],
           "yaxis": "y"
          },
          {
           "alignmentgroup": "True",
           "hovertemplate": "Pays=%{y}<br>release_year=1945<br>Nombre cumulé de films=%{x}<extra></extra>",
           "legendgroup": "France",
           "marker": {
            "color": "#19d3f3",
            "pattern": {
             "shape": ""
            }
           },
           "name": "France",
           "offsetgroup": "France",
           "orientation": "h",
           "showlegend": true,
           "textposition": "auto",
           "type": "bar",
           "x": [
            1
           ],
           "xaxis": "x",
           "y": [
            "France"
           ],
           "yaxis": "y"
          },
          {
           "alignmentgroup": "True",
           "hovertemplate": "Pays=%{y}<br>release_year=1945<br>Nombre cumulé de films=%{x}<extra></extra>",
           "legendgroup": "Czech Republic",
           "marker": {
            "color": "#FF6692",
            "pattern": {
             "shape": ""
            }
           },
           "name": "Czech Republic",
           "offsetgroup": "Czech Republic",
           "orientation": "h",
           "showlegend": true,
           "textposition": "auto",
           "type": "bar",
           "x": [
            1
           ],
           "xaxis": "x",
           "y": [
            "Czech Republic"
           ],
           "yaxis": "y"
          },
          {
           "alignmentgroup": "True",
           "hovertemplate": "Pays=%{y}<br>release_year=1945<br>Nombre cumulé de films=%{x}<extra></extra>",
           "legendgroup": "United Kingdom",
           "marker": {
            "color": "#FECB52",
            "pattern": {
             "shape": ""
            }
           },
           "name": "United Kingdom",
           "offsetgroup": "United Kingdom",
           "orientation": "h",
           "showlegend": true,
           "textposition": "auto",
           "type": "bar",
           "x": [
            27
           ],
           "xaxis": "x",
           "y": [
            "United Kingdom"
           ],
           "yaxis": "y"
          },
          {
           "alignmentgroup": "True",
           "hovertemplate": "Pays=%{y}<br>release_year=1945<br>Nombre cumulé de films=%{x}<extra></extra>",
           "legendgroup": "Romania",
           "marker": {
            "color": "#636efa",
            "pattern": {
             "shape": ""
            }
           },
           "name": "Romania",
           "offsetgroup": "Romania",
           "orientation": "h",
           "showlegend": true,
           "textposition": "auto",
           "type": "bar",
           "x": [
            1
           ],
           "xaxis": "x",
           "y": [
            "Romania"
           ],
           "yaxis": "y"
          },
          {
           "alignmentgroup": "True",
           "hovertemplate": "Pays=%{y}<br>release_year=1945<br>Nombre cumulé de films=%{x}<extra></extra>",
           "legendgroup": "Soviet Union",
           "marker": {
            "color": "#EF553B",
            "pattern": {
             "shape": ""
            }
           },
           "name": "Soviet Union",
           "offsetgroup": "Soviet Union",
           "orientation": "h",
           "showlegend": true,
           "textposition": "auto",
           "type": "bar",
           "x": [
            1
           ],
           "xaxis": "x",
           "y": [
            "Soviet Union"
           ],
           "yaxis": "y"
          },
          {
           "alignmentgroup": "True",
           "hovertemplate": "Pays=%{y}<br>release_year=1945<br>Nombre cumulé de films=%{x}<extra></extra>",
           "legendgroup": "Ireland",
           "marker": {
            "color": "#00cc96",
            "pattern": {
             "shape": ""
            }
           },
           "name": "Ireland",
           "offsetgroup": "Ireland",
           "orientation": "h",
           "showlegend": true,
           "textposition": "auto",
           "type": "bar",
           "x": [
            1
           ],
           "xaxis": "x",
           "y": [
            "Ireland"
           ],
           "yaxis": "y"
          }
         ],
         "name": "1945"
        },
        {
         "data": [
          {
           "alignmentgroup": "True",
           "hovertemplate": "Pays=%{y}<br>release_year=1946<br>Nombre cumulé de films=%{x}<extra></extra>",
           "legendgroup": "Germany",
           "marker": {
            "color": "#636efa",
            "pattern": {
             "shape": ""
            }
           },
           "name": "Germany",
           "offsetgroup": "Germany",
           "orientation": "h",
           "showlegend": true,
           "textposition": "auto",
           "type": "bar",
           "x": [
            1
           ],
           "xaxis": "x",
           "y": [
            "Germany"
           ],
           "yaxis": "y"
          },
          {
           "alignmentgroup": "True",
           "hovertemplate": "Pays=%{y}<br>release_year=1946<br>Nombre cumulé de films=%{x}<extra></extra>",
           "legendgroup": "United States of America",
           "marker": {
            "color": "#EF553B",
            "pattern": {
             "shape": ""
            }
           },
           "name": "United States of America",
           "offsetgroup": "United States of America",
           "orientation": "h",
           "showlegend": true,
           "textposition": "auto",
           "type": "bar",
           "x": [
            2
           ],
           "xaxis": "x",
           "y": [
            "United States of America"
           ],
           "yaxis": "y"
          },
          {
           "alignmentgroup": "True",
           "hovertemplate": "Pays=%{y}<br>release_year=1946<br>Nombre cumulé de films=%{x}<extra></extra>",
           "legendgroup": "Brazil",
           "marker": {
            "color": "#00cc96",
            "pattern": {
             "shape": ""
            }
           },
           "name": "Brazil",
           "offsetgroup": "Brazil",
           "orientation": "h",
           "showlegend": true,
           "textposition": "auto",
           "type": "bar",
           "x": [
            0
           ],
           "xaxis": "x",
           "y": [
            "Brazil"
           ],
           "yaxis": "y"
          },
          {
           "alignmentgroup": "True",
           "hovertemplate": "Pays=%{y}<br>release_year=1946<br>Nombre cumulé de films=%{x}<extra></extra>",
           "legendgroup": "Netherlands",
           "marker": {
            "color": "#ab63fa",
            "pattern": {
             "shape": ""
            }
           },
           "name": "Netherlands",
           "offsetgroup": "Netherlands",
           "orientation": "h",
           "showlegend": true,
           "textposition": "auto",
           "type": "bar",
           "x": [
            0
           ],
           "xaxis": "x",
           "y": [
            "Netherlands"
           ],
           "yaxis": "y"
          },
          {
           "alignmentgroup": "True",
           "hovertemplate": "Pays=%{y}<br>release_year=1946<br>Nombre cumulé de films=%{x}<extra></extra>",
           "legendgroup": "France",
           "marker": {
            "color": "#19d3f3",
            "pattern": {
             "shape": ""
            }
           },
           "name": "France",
           "offsetgroup": "France",
           "orientation": "h",
           "showlegend": true,
           "textposition": "auto",
           "type": "bar",
           "x": [
            1
           ],
           "xaxis": "x",
           "y": [
            "France"
           ],
           "yaxis": "y"
          },
          {
           "alignmentgroup": "True",
           "hovertemplate": "Pays=%{y}<br>release_year=1946<br>Nombre cumulé de films=%{x}<extra></extra>",
           "legendgroup": "Czech Republic",
           "marker": {
            "color": "#FF6692",
            "pattern": {
             "shape": ""
            }
           },
           "name": "Czech Republic",
           "offsetgroup": "Czech Republic",
           "orientation": "h",
           "showlegend": true,
           "textposition": "auto",
           "type": "bar",
           "x": [
            1
           ],
           "xaxis": "x",
           "y": [
            "Czech Republic"
           ],
           "yaxis": "y"
          },
          {
           "alignmentgroup": "True",
           "hovertemplate": "Pays=%{y}<br>release_year=1946<br>Nombre cumulé de films=%{x}<extra></extra>",
           "legendgroup": "United Kingdom",
           "marker": {
            "color": "#FECB52",
            "pattern": {
             "shape": ""
            }
           },
           "name": "United Kingdom",
           "offsetgroup": "United Kingdom",
           "orientation": "h",
           "showlegend": true,
           "textposition": "auto",
           "type": "bar",
           "x": [
            28
           ],
           "xaxis": "x",
           "y": [
            "United Kingdom"
           ],
           "yaxis": "y"
          },
          {
           "alignmentgroup": "True",
           "hovertemplate": "Pays=%{y}<br>release_year=1946<br>Nombre cumulé de films=%{x}<extra></extra>",
           "legendgroup": "Romania",
           "marker": {
            "color": "#636efa",
            "pattern": {
             "shape": ""
            }
           },
           "name": "Romania",
           "offsetgroup": "Romania",
           "orientation": "h",
           "showlegend": true,
           "textposition": "auto",
           "type": "bar",
           "x": [
            1
           ],
           "xaxis": "x",
           "y": [
            "Romania"
           ],
           "yaxis": "y"
          },
          {
           "alignmentgroup": "True",
           "hovertemplate": "Pays=%{y}<br>release_year=1946<br>Nombre cumulé de films=%{x}<extra></extra>",
           "legendgroup": "Soviet Union",
           "marker": {
            "color": "#EF553B",
            "pattern": {
             "shape": ""
            }
           },
           "name": "Soviet Union",
           "offsetgroup": "Soviet Union",
           "orientation": "h",
           "showlegend": true,
           "textposition": "auto",
           "type": "bar",
           "x": [
            1
           ],
           "xaxis": "x",
           "y": [
            "Soviet Union"
           ],
           "yaxis": "y"
          },
          {
           "alignmentgroup": "True",
           "hovertemplate": "Pays=%{y}<br>release_year=1946<br>Nombre cumulé de films=%{x}<extra></extra>",
           "legendgroup": "Ireland",
           "marker": {
            "color": "#00cc96",
            "pattern": {
             "shape": ""
            }
           },
           "name": "Ireland",
           "offsetgroup": "Ireland",
           "orientation": "h",
           "showlegend": true,
           "textposition": "auto",
           "type": "bar",
           "x": [
            1
           ],
           "xaxis": "x",
           "y": [
            "Ireland"
           ],
           "yaxis": "y"
          }
         ],
         "name": "1946"
        },
        {
         "data": [
          {
           "alignmentgroup": "True",
           "hovertemplate": "Pays=%{y}<br>release_year=1947<br>Nombre cumulé de films=%{x}<extra></extra>",
           "legendgroup": "Germany",
           "marker": {
            "color": "#636efa",
            "pattern": {
             "shape": ""
            }
           },
           "name": "Germany",
           "offsetgroup": "Germany",
           "orientation": "h",
           "showlegend": true,
           "textposition": "auto",
           "type": "bar",
           "x": [
            1
           ],
           "xaxis": "x",
           "y": [
            "Germany"
           ],
           "yaxis": "y"
          },
          {
           "alignmentgroup": "True",
           "hovertemplate": "Pays=%{y}<br>release_year=1947<br>Nombre cumulé de films=%{x}<extra></extra>",
           "legendgroup": "United States of America",
           "marker": {
            "color": "#EF553B",
            "pattern": {
             "shape": ""
            }
           },
           "name": "United States of America",
           "offsetgroup": "United States of America",
           "orientation": "h",
           "showlegend": true,
           "textposition": "auto",
           "type": "bar",
           "x": [
            2
           ],
           "xaxis": "x",
           "y": [
            "United States of America"
           ],
           "yaxis": "y"
          },
          {
           "alignmentgroup": "True",
           "hovertemplate": "Pays=%{y}<br>release_year=1947<br>Nombre cumulé de films=%{x}<extra></extra>",
           "legendgroup": "Brazil",
           "marker": {
            "color": "#00cc96",
            "pattern": {
             "shape": ""
            }
           },
           "name": "Brazil",
           "offsetgroup": "Brazil",
           "orientation": "h",
           "showlegend": true,
           "textposition": "auto",
           "type": "bar",
           "x": [
            0
           ],
           "xaxis": "x",
           "y": [
            "Brazil"
           ],
           "yaxis": "y"
          },
          {
           "alignmentgroup": "True",
           "hovertemplate": "Pays=%{y}<br>release_year=1947<br>Nombre cumulé de films=%{x}<extra></extra>",
           "legendgroup": "Netherlands",
           "marker": {
            "color": "#ab63fa",
            "pattern": {
             "shape": ""
            }
           },
           "name": "Netherlands",
           "offsetgroup": "Netherlands",
           "orientation": "h",
           "showlegend": true,
           "textposition": "auto",
           "type": "bar",
           "x": [
            0
           ],
           "xaxis": "x",
           "y": [
            "Netherlands"
           ],
           "yaxis": "y"
          },
          {
           "alignmentgroup": "True",
           "hovertemplate": "Pays=%{y}<br>release_year=1947<br>Nombre cumulé de films=%{x}<extra></extra>",
           "legendgroup": "France",
           "marker": {
            "color": "#19d3f3",
            "pattern": {
             "shape": ""
            }
           },
           "name": "France",
           "offsetgroup": "France",
           "orientation": "h",
           "showlegend": true,
           "textposition": "auto",
           "type": "bar",
           "x": [
            1
           ],
           "xaxis": "x",
           "y": [
            "France"
           ],
           "yaxis": "y"
          },
          {
           "alignmentgroup": "True",
           "hovertemplate": "Pays=%{y}<br>release_year=1947<br>Nombre cumulé de films=%{x}<extra></extra>",
           "legendgroup": "Czech Republic",
           "marker": {
            "color": "#FF6692",
            "pattern": {
             "shape": ""
            }
           },
           "name": "Czech Republic",
           "offsetgroup": "Czech Republic",
           "orientation": "h",
           "showlegend": true,
           "textposition": "auto",
           "type": "bar",
           "x": [
            1
           ],
           "xaxis": "x",
           "y": [
            "Czech Republic"
           ],
           "yaxis": "y"
          },
          {
           "alignmentgroup": "True",
           "hovertemplate": "Pays=%{y}<br>release_year=1947<br>Nombre cumulé de films=%{x}<extra></extra>",
           "legendgroup": "United Kingdom",
           "marker": {
            "color": "#FECB52",
            "pattern": {
             "shape": ""
            }
           },
           "name": "United Kingdom",
           "offsetgroup": "United Kingdom",
           "orientation": "h",
           "showlegend": true,
           "textposition": "auto",
           "type": "bar",
           "x": [
            28
           ],
           "xaxis": "x",
           "y": [
            "United Kingdom"
           ],
           "yaxis": "y"
          },
          {
           "alignmentgroup": "True",
           "hovertemplate": "Pays=%{y}<br>release_year=1947<br>Nombre cumulé de films=%{x}<extra></extra>",
           "legendgroup": "Romania",
           "marker": {
            "color": "#636efa",
            "pattern": {
             "shape": ""
            }
           },
           "name": "Romania",
           "offsetgroup": "Romania",
           "orientation": "h",
           "showlegend": true,
           "textposition": "auto",
           "type": "bar",
           "x": [
            1
           ],
           "xaxis": "x",
           "y": [
            "Romania"
           ],
           "yaxis": "y"
          },
          {
           "alignmentgroup": "True",
           "hovertemplate": "Pays=%{y}<br>release_year=1947<br>Nombre cumulé de films=%{x}<extra></extra>",
           "legendgroup": "Soviet Union",
           "marker": {
            "color": "#EF553B",
            "pattern": {
             "shape": ""
            }
           },
           "name": "Soviet Union",
           "offsetgroup": "Soviet Union",
           "orientation": "h",
           "showlegend": true,
           "textposition": "auto",
           "type": "bar",
           "x": [
            1
           ],
           "xaxis": "x",
           "y": [
            "Soviet Union"
           ],
           "yaxis": "y"
          },
          {
           "alignmentgroup": "True",
           "hovertemplate": "Pays=%{y}<br>release_year=1947<br>Nombre cumulé de films=%{x}<extra></extra>",
           "legendgroup": "Ireland",
           "marker": {
            "color": "#00cc96",
            "pattern": {
             "shape": ""
            }
           },
           "name": "Ireland",
           "offsetgroup": "Ireland",
           "orientation": "h",
           "showlegend": true,
           "textposition": "auto",
           "type": "bar",
           "x": [
            1
           ],
           "xaxis": "x",
           "y": [
            "Ireland"
           ],
           "yaxis": "y"
          }
         ],
         "name": "1947"
        },
        {
         "data": [
          {
           "alignmentgroup": "True",
           "hovertemplate": "Pays=%{y}<br>release_year=1948<br>Nombre cumulé de films=%{x}<extra></extra>",
           "legendgroup": "Germany",
           "marker": {
            "color": "#636efa",
            "pattern": {
             "shape": ""
            }
           },
           "name": "Germany",
           "offsetgroup": "Germany",
           "orientation": "h",
           "showlegend": true,
           "textposition": "auto",
           "type": "bar",
           "x": [
            1
           ],
           "xaxis": "x",
           "y": [
            "Germany"
           ],
           "yaxis": "y"
          },
          {
           "alignmentgroup": "True",
           "hovertemplate": "Pays=%{y}<br>release_year=1948<br>Nombre cumulé de films=%{x}<extra></extra>",
           "legendgroup": "United States of America",
           "marker": {
            "color": "#EF553B",
            "pattern": {
             "shape": ""
            }
           },
           "name": "United States of America",
           "offsetgroup": "United States of America",
           "orientation": "h",
           "showlegend": true,
           "textposition": "auto",
           "type": "bar",
           "x": [
            5
           ],
           "xaxis": "x",
           "y": [
            "United States of America"
           ],
           "yaxis": "y"
          },
          {
           "alignmentgroup": "True",
           "hovertemplate": "Pays=%{y}<br>release_year=1948<br>Nombre cumulé de films=%{x}<extra></extra>",
           "legendgroup": "Brazil",
           "marker": {
            "color": "#00cc96",
            "pattern": {
             "shape": ""
            }
           },
           "name": "Brazil",
           "offsetgroup": "Brazil",
           "orientation": "h",
           "showlegend": true,
           "textposition": "auto",
           "type": "bar",
           "x": [
            0
           ],
           "xaxis": "x",
           "y": [
            "Brazil"
           ],
           "yaxis": "y"
          },
          {
           "alignmentgroup": "True",
           "hovertemplate": "Pays=%{y}<br>release_year=1948<br>Nombre cumulé de films=%{x}<extra></extra>",
           "legendgroup": "Netherlands",
           "marker": {
            "color": "#ab63fa",
            "pattern": {
             "shape": ""
            }
           },
           "name": "Netherlands",
           "offsetgroup": "Netherlands",
           "orientation": "h",
           "showlegend": true,
           "textposition": "auto",
           "type": "bar",
           "x": [
            0
           ],
           "xaxis": "x",
           "y": [
            "Netherlands"
           ],
           "yaxis": "y"
          },
          {
           "alignmentgroup": "True",
           "hovertemplate": "Pays=%{y}<br>release_year=1948<br>Nombre cumulé de films=%{x}<extra></extra>",
           "legendgroup": "France",
           "marker": {
            "color": "#19d3f3",
            "pattern": {
             "shape": ""
            }
           },
           "name": "France",
           "offsetgroup": "France",
           "orientation": "h",
           "showlegend": true,
           "textposition": "auto",
           "type": "bar",
           "x": [
            1
           ],
           "xaxis": "x",
           "y": [
            "France"
           ],
           "yaxis": "y"
          },
          {
           "alignmentgroup": "True",
           "hovertemplate": "Pays=%{y}<br>release_year=1948<br>Nombre cumulé de films=%{x}<extra></extra>",
           "legendgroup": "Czech Republic",
           "marker": {
            "color": "#FF6692",
            "pattern": {
             "shape": ""
            }
           },
           "name": "Czech Republic",
           "offsetgroup": "Czech Republic",
           "orientation": "h",
           "showlegend": true,
           "textposition": "auto",
           "type": "bar",
           "x": [
            1
           ],
           "xaxis": "x",
           "y": [
            "Czech Republic"
           ],
           "yaxis": "y"
          },
          {
           "alignmentgroup": "True",
           "hovertemplate": "Pays=%{y}<br>release_year=1948<br>Nombre cumulé de films=%{x}<extra></extra>",
           "legendgroup": "United Kingdom",
           "marker": {
            "color": "#FECB52",
            "pattern": {
             "shape": ""
            }
           },
           "name": "United Kingdom",
           "offsetgroup": "United Kingdom",
           "orientation": "h",
           "showlegend": true,
           "textposition": "auto",
           "type": "bar",
           "x": [
            32
           ],
           "xaxis": "x",
           "y": [
            "United Kingdom"
           ],
           "yaxis": "y"
          },
          {
           "alignmentgroup": "True",
           "hovertemplate": "Pays=%{y}<br>release_year=1948<br>Nombre cumulé de films=%{x}<extra></extra>",
           "legendgroup": "Romania",
           "marker": {
            "color": "#636efa",
            "pattern": {
             "shape": ""
            }
           },
           "name": "Romania",
           "offsetgroup": "Romania",
           "orientation": "h",
           "showlegend": true,
           "textposition": "auto",
           "type": "bar",
           "x": [
            1
           ],
           "xaxis": "x",
           "y": [
            "Romania"
           ],
           "yaxis": "y"
          },
          {
           "alignmentgroup": "True",
           "hovertemplate": "Pays=%{y}<br>release_year=1948<br>Nombre cumulé de films=%{x}<extra></extra>",
           "legendgroup": "Soviet Union",
           "marker": {
            "color": "#EF553B",
            "pattern": {
             "shape": ""
            }
           },
           "name": "Soviet Union",
           "offsetgroup": "Soviet Union",
           "orientation": "h",
           "showlegend": true,
           "textposition": "auto",
           "type": "bar",
           "x": [
            1
           ],
           "xaxis": "x",
           "y": [
            "Soviet Union"
           ],
           "yaxis": "y"
          },
          {
           "alignmentgroup": "True",
           "hovertemplate": "Pays=%{y}<br>release_year=1948<br>Nombre cumulé de films=%{x}<extra></extra>",
           "legendgroup": "Ireland",
           "marker": {
            "color": "#00cc96",
            "pattern": {
             "shape": ""
            }
           },
           "name": "Ireland",
           "offsetgroup": "Ireland",
           "orientation": "h",
           "showlegend": true,
           "textposition": "auto",
           "type": "bar",
           "x": [
            1
           ],
           "xaxis": "x",
           "y": [
            "Ireland"
           ],
           "yaxis": "y"
          }
         ],
         "name": "1948"
        },
        {
         "data": [
          {
           "alignmentgroup": "True",
           "hovertemplate": "Pays=%{y}<br>release_year=1949<br>Nombre cumulé de films=%{x}<extra></extra>",
           "legendgroup": "Germany",
           "marker": {
            "color": "#636efa",
            "pattern": {
             "shape": ""
            }
           },
           "name": "Germany",
           "offsetgroup": "Germany",
           "orientation": "h",
           "showlegend": true,
           "textposition": "auto",
           "type": "bar",
           "x": [
            1
           ],
           "xaxis": "x",
           "y": [
            "Germany"
           ],
           "yaxis": "y"
          },
          {
           "alignmentgroup": "True",
           "hovertemplate": "Pays=%{y}<br>release_year=1949<br>Nombre cumulé de films=%{x}<extra></extra>",
           "legendgroup": "United States of America",
           "marker": {
            "color": "#EF553B",
            "pattern": {
             "shape": ""
            }
           },
           "name": "United States of America",
           "offsetgroup": "United States of America",
           "orientation": "h",
           "showlegend": true,
           "textposition": "auto",
           "type": "bar",
           "x": [
            5
           ],
           "xaxis": "x",
           "y": [
            "United States of America"
           ],
           "yaxis": "y"
          },
          {
           "alignmentgroup": "True",
           "hovertemplate": "Pays=%{y}<br>release_year=1949<br>Nombre cumulé de films=%{x}<extra></extra>",
           "legendgroup": "Brazil",
           "marker": {
            "color": "#00cc96",
            "pattern": {
             "shape": ""
            }
           },
           "name": "Brazil",
           "offsetgroup": "Brazil",
           "orientation": "h",
           "showlegend": true,
           "textposition": "auto",
           "type": "bar",
           "x": [
            0
           ],
           "xaxis": "x",
           "y": [
            "Brazil"
           ],
           "yaxis": "y"
          },
          {
           "alignmentgroup": "True",
           "hovertemplate": "Pays=%{y}<br>release_year=1949<br>Nombre cumulé de films=%{x}<extra></extra>",
           "legendgroup": "Netherlands",
           "marker": {
            "color": "#ab63fa",
            "pattern": {
             "shape": ""
            }
           },
           "name": "Netherlands",
           "offsetgroup": "Netherlands",
           "orientation": "h",
           "showlegend": true,
           "textposition": "auto",
           "type": "bar",
           "x": [
            0
           ],
           "xaxis": "x",
           "y": [
            "Netherlands"
           ],
           "yaxis": "y"
          },
          {
           "alignmentgroup": "True",
           "hovertemplate": "Pays=%{y}<br>release_year=1949<br>Nombre cumulé de films=%{x}<extra></extra>",
           "legendgroup": "France",
           "marker": {
            "color": "#19d3f3",
            "pattern": {
             "shape": ""
            }
           },
           "name": "France",
           "offsetgroup": "France",
           "orientation": "h",
           "showlegend": true,
           "textposition": "auto",
           "type": "bar",
           "x": [
            1
           ],
           "xaxis": "x",
           "y": [
            "France"
           ],
           "yaxis": "y"
          },
          {
           "alignmentgroup": "True",
           "hovertemplate": "Pays=%{y}<br>release_year=1949<br>Nombre cumulé de films=%{x}<extra></extra>",
           "legendgroup": "Czech Republic",
           "marker": {
            "color": "#FF6692",
            "pattern": {
             "shape": ""
            }
           },
           "name": "Czech Republic",
           "offsetgroup": "Czech Republic",
           "orientation": "h",
           "showlegend": true,
           "textposition": "auto",
           "type": "bar",
           "x": [
            1
           ],
           "xaxis": "x",
           "y": [
            "Czech Republic"
           ],
           "yaxis": "y"
          },
          {
           "alignmentgroup": "True",
           "hovertemplate": "Pays=%{y}<br>release_year=1949<br>Nombre cumulé de films=%{x}<extra></extra>",
           "legendgroup": "United Kingdom",
           "marker": {
            "color": "#FECB52",
            "pattern": {
             "shape": ""
            }
           },
           "name": "United Kingdom",
           "offsetgroup": "United Kingdom",
           "orientation": "h",
           "showlegend": true,
           "textposition": "auto",
           "type": "bar",
           "x": [
            35
           ],
           "xaxis": "x",
           "y": [
            "United Kingdom"
           ],
           "yaxis": "y"
          },
          {
           "alignmentgroup": "True",
           "hovertemplate": "Pays=%{y}<br>release_year=1949<br>Nombre cumulé de films=%{x}<extra></extra>",
           "legendgroup": "Romania",
           "marker": {
            "color": "#636efa",
            "pattern": {
             "shape": ""
            }
           },
           "name": "Romania",
           "offsetgroup": "Romania",
           "orientation": "h",
           "showlegend": true,
           "textposition": "auto",
           "type": "bar",
           "x": [
            1
           ],
           "xaxis": "x",
           "y": [
            "Romania"
           ],
           "yaxis": "y"
          },
          {
           "alignmentgroup": "True",
           "hovertemplate": "Pays=%{y}<br>release_year=1949<br>Nombre cumulé de films=%{x}<extra></extra>",
           "legendgroup": "Soviet Union",
           "marker": {
            "color": "#EF553B",
            "pattern": {
             "shape": ""
            }
           },
           "name": "Soviet Union",
           "offsetgroup": "Soviet Union",
           "orientation": "h",
           "showlegend": true,
           "textposition": "auto",
           "type": "bar",
           "x": [
            1
           ],
           "xaxis": "x",
           "y": [
            "Soviet Union"
           ],
           "yaxis": "y"
          },
          {
           "alignmentgroup": "True",
           "hovertemplate": "Pays=%{y}<br>release_year=1949<br>Nombre cumulé de films=%{x}<extra></extra>",
           "legendgroup": "Ireland",
           "marker": {
            "color": "#00cc96",
            "pattern": {
             "shape": ""
            }
           },
           "name": "Ireland",
           "offsetgroup": "Ireland",
           "orientation": "h",
           "showlegend": true,
           "textposition": "auto",
           "type": "bar",
           "x": [
            1
           ],
           "xaxis": "x",
           "y": [
            "Ireland"
           ],
           "yaxis": "y"
          }
         ],
         "name": "1949"
        },
        {
         "data": [
          {
           "alignmentgroup": "True",
           "hovertemplate": "Pays=%{y}<br>release_year=1950<br>Nombre cumulé de films=%{x}<extra></extra>",
           "legendgroup": "Germany",
           "marker": {
            "color": "#636efa",
            "pattern": {
             "shape": ""
            }
           },
           "name": "Germany",
           "offsetgroup": "Germany",
           "orientation": "h",
           "showlegend": true,
           "textposition": "auto",
           "type": "bar",
           "x": [
            1
           ],
           "xaxis": "x",
           "y": [
            "Germany"
           ],
           "yaxis": "y"
          },
          {
           "alignmentgroup": "True",
           "hovertemplate": "Pays=%{y}<br>release_year=1950<br>Nombre cumulé de films=%{x}<extra></extra>",
           "legendgroup": "United States of America",
           "marker": {
            "color": "#EF553B",
            "pattern": {
             "shape": ""
            }
           },
           "name": "United States of America",
           "offsetgroup": "United States of America",
           "orientation": "h",
           "showlegend": true,
           "textposition": "auto",
           "type": "bar",
           "x": [
            6
           ],
           "xaxis": "x",
           "y": [
            "United States of America"
           ],
           "yaxis": "y"
          },
          {
           "alignmentgroup": "True",
           "hovertemplate": "Pays=%{y}<br>release_year=1950<br>Nombre cumulé de films=%{x}<extra></extra>",
           "legendgroup": "Brazil",
           "marker": {
            "color": "#00cc96",
            "pattern": {
             "shape": ""
            }
           },
           "name": "Brazil",
           "offsetgroup": "Brazil",
           "orientation": "h",
           "showlegend": true,
           "textposition": "auto",
           "type": "bar",
           "x": [
            0
           ],
           "xaxis": "x",
           "y": [
            "Brazil"
           ],
           "yaxis": "y"
          },
          {
           "alignmentgroup": "True",
           "hovertemplate": "Pays=%{y}<br>release_year=1950<br>Nombre cumulé de films=%{x}<extra></extra>",
           "legendgroup": "Netherlands",
           "marker": {
            "color": "#ab63fa",
            "pattern": {
             "shape": ""
            }
           },
           "name": "Netherlands",
           "offsetgroup": "Netherlands",
           "orientation": "h",
           "showlegend": true,
           "textposition": "auto",
           "type": "bar",
           "x": [
            0
           ],
           "xaxis": "x",
           "y": [
            "Netherlands"
           ],
           "yaxis": "y"
          },
          {
           "alignmentgroup": "True",
           "hovertemplate": "Pays=%{y}<br>release_year=1950<br>Nombre cumulé de films=%{x}<extra></extra>",
           "legendgroup": "France",
           "marker": {
            "color": "#19d3f3",
            "pattern": {
             "shape": ""
            }
           },
           "name": "France",
           "offsetgroup": "France",
           "orientation": "h",
           "showlegend": true,
           "textposition": "auto",
           "type": "bar",
           "x": [
            1
           ],
           "xaxis": "x",
           "y": [
            "France"
           ],
           "yaxis": "y"
          },
          {
           "alignmentgroup": "True",
           "hovertemplate": "Pays=%{y}<br>release_year=1950<br>Nombre cumulé de films=%{x}<extra></extra>",
           "legendgroup": "Czech Republic",
           "marker": {
            "color": "#FF6692",
            "pattern": {
             "shape": ""
            }
           },
           "name": "Czech Republic",
           "offsetgroup": "Czech Republic",
           "orientation": "h",
           "showlegend": true,
           "textposition": "auto",
           "type": "bar",
           "x": [
            1
           ],
           "xaxis": "x",
           "y": [
            "Czech Republic"
           ],
           "yaxis": "y"
          },
          {
           "alignmentgroup": "True",
           "hovertemplate": "Pays=%{y}<br>release_year=1950<br>Nombre cumulé de films=%{x}<extra></extra>",
           "legendgroup": "United Kingdom",
           "marker": {
            "color": "#FECB52",
            "pattern": {
             "shape": ""
            }
           },
           "name": "United Kingdom",
           "offsetgroup": "United Kingdom",
           "orientation": "h",
           "showlegend": true,
           "textposition": "auto",
           "type": "bar",
           "x": [
            39
           ],
           "xaxis": "x",
           "y": [
            "United Kingdom"
           ],
           "yaxis": "y"
          },
          {
           "alignmentgroup": "True",
           "hovertemplate": "Pays=%{y}<br>release_year=1950<br>Nombre cumulé de films=%{x}<extra></extra>",
           "legendgroup": "Romania",
           "marker": {
            "color": "#636efa",
            "pattern": {
             "shape": ""
            }
           },
           "name": "Romania",
           "offsetgroup": "Romania",
           "orientation": "h",
           "showlegend": true,
           "textposition": "auto",
           "type": "bar",
           "x": [
            1
           ],
           "xaxis": "x",
           "y": [
            "Romania"
           ],
           "yaxis": "y"
          },
          {
           "alignmentgroup": "True",
           "hovertemplate": "Pays=%{y}<br>release_year=1950<br>Nombre cumulé de films=%{x}<extra></extra>",
           "legendgroup": "Soviet Union",
           "marker": {
            "color": "#EF553B",
            "pattern": {
             "shape": ""
            }
           },
           "name": "Soviet Union",
           "offsetgroup": "Soviet Union",
           "orientation": "h",
           "showlegend": true,
           "textposition": "auto",
           "type": "bar",
           "x": [
            1
           ],
           "xaxis": "x",
           "y": [
            "Soviet Union"
           ],
           "yaxis": "y"
          },
          {
           "alignmentgroup": "True",
           "hovertemplate": "Pays=%{y}<br>release_year=1950<br>Nombre cumulé de films=%{x}<extra></extra>",
           "legendgroup": "Ireland",
           "marker": {
            "color": "#00cc96",
            "pattern": {
             "shape": ""
            }
           },
           "name": "Ireland",
           "offsetgroup": "Ireland",
           "orientation": "h",
           "showlegend": true,
           "textposition": "auto",
           "type": "bar",
           "x": [
            1
           ],
           "xaxis": "x",
           "y": [
            "Ireland"
           ],
           "yaxis": "y"
          }
         ],
         "name": "1950"
        },
        {
         "data": [
          {
           "alignmentgroup": "True",
           "hovertemplate": "Pays=%{y}<br>release_year=1951<br>Nombre cumulé de films=%{x}<extra></extra>",
           "legendgroup": "Germany",
           "marker": {
            "color": "#636efa",
            "pattern": {
             "shape": ""
            }
           },
           "name": "Germany",
           "offsetgroup": "Germany",
           "orientation": "h",
           "showlegend": true,
           "textposition": "auto",
           "type": "bar",
           "x": [
            1
           ],
           "xaxis": "x",
           "y": [
            "Germany"
           ],
           "yaxis": "y"
          },
          {
           "alignmentgroup": "True",
           "hovertemplate": "Pays=%{y}<br>release_year=1951<br>Nombre cumulé de films=%{x}<extra></extra>",
           "legendgroup": "United States of America",
           "marker": {
            "color": "#EF553B",
            "pattern": {
             "shape": ""
            }
           },
           "name": "United States of America",
           "offsetgroup": "United States of America",
           "orientation": "h",
           "showlegend": true,
           "textposition": "auto",
           "type": "bar",
           "x": [
            7
           ],
           "xaxis": "x",
           "y": [
            "United States of America"
           ],
           "yaxis": "y"
          },
          {
           "alignmentgroup": "True",
           "hovertemplate": "Pays=%{y}<br>release_year=1951<br>Nombre cumulé de films=%{x}<extra></extra>",
           "legendgroup": "Brazil",
           "marker": {
            "color": "#00cc96",
            "pattern": {
             "shape": ""
            }
           },
           "name": "Brazil",
           "offsetgroup": "Brazil",
           "orientation": "h",
           "showlegend": true,
           "textposition": "auto",
           "type": "bar",
           "x": [
            0
           ],
           "xaxis": "x",
           "y": [
            "Brazil"
           ],
           "yaxis": "y"
          },
          {
           "alignmentgroup": "True",
           "hovertemplate": "Pays=%{y}<br>release_year=1951<br>Nombre cumulé de films=%{x}<extra></extra>",
           "legendgroup": "Netherlands",
           "marker": {
            "color": "#ab63fa",
            "pattern": {
             "shape": ""
            }
           },
           "name": "Netherlands",
           "offsetgroup": "Netherlands",
           "orientation": "h",
           "showlegend": true,
           "textposition": "auto",
           "type": "bar",
           "x": [
            0
           ],
           "xaxis": "x",
           "y": [
            "Netherlands"
           ],
           "yaxis": "y"
          },
          {
           "alignmentgroup": "True",
           "hovertemplate": "Pays=%{y}<br>release_year=1951<br>Nombre cumulé de films=%{x}<extra></extra>",
           "legendgroup": "France",
           "marker": {
            "color": "#19d3f3",
            "pattern": {
             "shape": ""
            }
           },
           "name": "France",
           "offsetgroup": "France",
           "orientation": "h",
           "showlegend": true,
           "textposition": "auto",
           "type": "bar",
           "x": [
            1
           ],
           "xaxis": "x",
           "y": [
            "France"
           ],
           "yaxis": "y"
          },
          {
           "alignmentgroup": "True",
           "hovertemplate": "Pays=%{y}<br>release_year=1951<br>Nombre cumulé de films=%{x}<extra></extra>",
           "legendgroup": "Czech Republic",
           "marker": {
            "color": "#FF6692",
            "pattern": {
             "shape": ""
            }
           },
           "name": "Czech Republic",
           "offsetgroup": "Czech Republic",
           "orientation": "h",
           "showlegend": true,
           "textposition": "auto",
           "type": "bar",
           "x": [
            1
           ],
           "xaxis": "x",
           "y": [
            "Czech Republic"
           ],
           "yaxis": "y"
          },
          {
           "alignmentgroup": "True",
           "hovertemplate": "Pays=%{y}<br>release_year=1951<br>Nombre cumulé de films=%{x}<extra></extra>",
           "legendgroup": "United Kingdom",
           "marker": {
            "color": "#FECB52",
            "pattern": {
             "shape": ""
            }
           },
           "name": "United Kingdom",
           "offsetgroup": "United Kingdom",
           "orientation": "h",
           "showlegend": true,
           "textposition": "auto",
           "type": "bar",
           "x": [
            40
           ],
           "xaxis": "x",
           "y": [
            "United Kingdom"
           ],
           "yaxis": "y"
          },
          {
           "alignmentgroup": "True",
           "hovertemplate": "Pays=%{y}<br>release_year=1951<br>Nombre cumulé de films=%{x}<extra></extra>",
           "legendgroup": "Romania",
           "marker": {
            "color": "#636efa",
            "pattern": {
             "shape": ""
            }
           },
           "name": "Romania",
           "offsetgroup": "Romania",
           "orientation": "h",
           "showlegend": true,
           "textposition": "auto",
           "type": "bar",
           "x": [
            1
           ],
           "xaxis": "x",
           "y": [
            "Romania"
           ],
           "yaxis": "y"
          },
          {
           "alignmentgroup": "True",
           "hovertemplate": "Pays=%{y}<br>release_year=1951<br>Nombre cumulé de films=%{x}<extra></extra>",
           "legendgroup": "Soviet Union",
           "marker": {
            "color": "#EF553B",
            "pattern": {
             "shape": ""
            }
           },
           "name": "Soviet Union",
           "offsetgroup": "Soviet Union",
           "orientation": "h",
           "showlegend": true,
           "textposition": "auto",
           "type": "bar",
           "x": [
            1
           ],
           "xaxis": "x",
           "y": [
            "Soviet Union"
           ],
           "yaxis": "y"
          },
          {
           "alignmentgroup": "True",
           "hovertemplate": "Pays=%{y}<br>release_year=1951<br>Nombre cumulé de films=%{x}<extra></extra>",
           "legendgroup": "Ireland",
           "marker": {
            "color": "#00cc96",
            "pattern": {
             "shape": ""
            }
           },
           "name": "Ireland",
           "offsetgroup": "Ireland",
           "orientation": "h",
           "showlegend": true,
           "textposition": "auto",
           "type": "bar",
           "x": [
            1
           ],
           "xaxis": "x",
           "y": [
            "Ireland"
           ],
           "yaxis": "y"
          }
         ],
         "name": "1951"
        },
        {
         "data": [
          {
           "alignmentgroup": "True",
           "hovertemplate": "Pays=%{y}<br>release_year=1952<br>Nombre cumulé de films=%{x}<extra></extra>",
           "legendgroup": "Germany",
           "marker": {
            "color": "#636efa",
            "pattern": {
             "shape": ""
            }
           },
           "name": "Germany",
           "offsetgroup": "Germany",
           "orientation": "h",
           "showlegend": true,
           "textposition": "auto",
           "type": "bar",
           "x": [
            1
           ],
           "xaxis": "x",
           "y": [
            "Germany"
           ],
           "yaxis": "y"
          },
          {
           "alignmentgroup": "True",
           "hovertemplate": "Pays=%{y}<br>release_year=1952<br>Nombre cumulé de films=%{x}<extra></extra>",
           "legendgroup": "United States of America",
           "marker": {
            "color": "#EF553B",
            "pattern": {
             "shape": ""
            }
           },
           "name": "United States of America",
           "offsetgroup": "United States of America",
           "orientation": "h",
           "showlegend": true,
           "textposition": "auto",
           "type": "bar",
           "x": [
            7
           ],
           "xaxis": "x",
           "y": [
            "United States of America"
           ],
           "yaxis": "y"
          },
          {
           "alignmentgroup": "True",
           "hovertemplate": "Pays=%{y}<br>release_year=1952<br>Nombre cumulé de films=%{x}<extra></extra>",
           "legendgroup": "Brazil",
           "marker": {
            "color": "#00cc96",
            "pattern": {
             "shape": ""
            }
           },
           "name": "Brazil",
           "offsetgroup": "Brazil",
           "orientation": "h",
           "showlegend": true,
           "textposition": "auto",
           "type": "bar",
           "x": [
            0
           ],
           "xaxis": "x",
           "y": [
            "Brazil"
           ],
           "yaxis": "y"
          },
          {
           "alignmentgroup": "True",
           "hovertemplate": "Pays=%{y}<br>release_year=1952<br>Nombre cumulé de films=%{x}<extra></extra>",
           "legendgroup": "Netherlands",
           "marker": {
            "color": "#ab63fa",
            "pattern": {
             "shape": ""
            }
           },
           "name": "Netherlands",
           "offsetgroup": "Netherlands",
           "orientation": "h",
           "showlegend": true,
           "textposition": "auto",
           "type": "bar",
           "x": [
            0
           ],
           "xaxis": "x",
           "y": [
            "Netherlands"
           ],
           "yaxis": "y"
          },
          {
           "alignmentgroup": "True",
           "hovertemplate": "Pays=%{y}<br>release_year=1952<br>Nombre cumulé de films=%{x}<extra></extra>",
           "legendgroup": "France",
           "marker": {
            "color": "#19d3f3",
            "pattern": {
             "shape": ""
            }
           },
           "name": "France",
           "offsetgroup": "France",
           "orientation": "h",
           "showlegend": true,
           "textposition": "auto",
           "type": "bar",
           "x": [
            1
           ],
           "xaxis": "x",
           "y": [
            "France"
           ],
           "yaxis": "y"
          },
          {
           "alignmentgroup": "True",
           "hovertemplate": "Pays=%{y}<br>release_year=1952<br>Nombre cumulé de films=%{x}<extra></extra>",
           "legendgroup": "Czech Republic",
           "marker": {
            "color": "#FF6692",
            "pattern": {
             "shape": ""
            }
           },
           "name": "Czech Republic",
           "offsetgroup": "Czech Republic",
           "orientation": "h",
           "showlegend": true,
           "textposition": "auto",
           "type": "bar",
           "x": [
            1
           ],
           "xaxis": "x",
           "y": [
            "Czech Republic"
           ],
           "yaxis": "y"
          },
          {
           "alignmentgroup": "True",
           "hovertemplate": "Pays=%{y}<br>release_year=1952<br>Nombre cumulé de films=%{x}<extra></extra>",
           "legendgroup": "United Kingdom",
           "marker": {
            "color": "#FECB52",
            "pattern": {
             "shape": ""
            }
           },
           "name": "United Kingdom",
           "offsetgroup": "United Kingdom",
           "orientation": "h",
           "showlegend": true,
           "textposition": "auto",
           "type": "bar",
           "x": [
            40
           ],
           "xaxis": "x",
           "y": [
            "United Kingdom"
           ],
           "yaxis": "y"
          },
          {
           "alignmentgroup": "True",
           "hovertemplate": "Pays=%{y}<br>release_year=1952<br>Nombre cumulé de films=%{x}<extra></extra>",
           "legendgroup": "Romania",
           "marker": {
            "color": "#636efa",
            "pattern": {
             "shape": ""
            }
           },
           "name": "Romania",
           "offsetgroup": "Romania",
           "orientation": "h",
           "showlegend": true,
           "textposition": "auto",
           "type": "bar",
           "x": [
            1
           ],
           "xaxis": "x",
           "y": [
            "Romania"
           ],
           "yaxis": "y"
          },
          {
           "alignmentgroup": "True",
           "hovertemplate": "Pays=%{y}<br>release_year=1952<br>Nombre cumulé de films=%{x}<extra></extra>",
           "legendgroup": "Soviet Union",
           "marker": {
            "color": "#EF553B",
            "pattern": {
             "shape": ""
            }
           },
           "name": "Soviet Union",
           "offsetgroup": "Soviet Union",
           "orientation": "h",
           "showlegend": true,
           "textposition": "auto",
           "type": "bar",
           "x": [
            1
           ],
           "xaxis": "x",
           "y": [
            "Soviet Union"
           ],
           "yaxis": "y"
          },
          {
           "alignmentgroup": "True",
           "hovertemplate": "Pays=%{y}<br>release_year=1952<br>Nombre cumulé de films=%{x}<extra></extra>",
           "legendgroup": "Ireland",
           "marker": {
            "color": "#00cc96",
            "pattern": {
             "shape": ""
            }
           },
           "name": "Ireland",
           "offsetgroup": "Ireland",
           "orientation": "h",
           "showlegend": true,
           "textposition": "auto",
           "type": "bar",
           "x": [
            1
           ],
           "xaxis": "x",
           "y": [
            "Ireland"
           ],
           "yaxis": "y"
          }
         ],
         "name": "1952"
        },
        {
         "data": [
          {
           "alignmentgroup": "True",
           "hovertemplate": "Pays=%{y}<br>release_year=1953<br>Nombre cumulé de films=%{x}<extra></extra>",
           "legendgroup": "Germany",
           "marker": {
            "color": "#636efa",
            "pattern": {
             "shape": ""
            }
           },
           "name": "Germany",
           "offsetgroup": "Germany",
           "orientation": "h",
           "showlegend": true,
           "textposition": "auto",
           "type": "bar",
           "x": [
            1
           ],
           "xaxis": "x",
           "y": [
            "Germany"
           ],
           "yaxis": "y"
          },
          {
           "alignmentgroup": "True",
           "hovertemplate": "Pays=%{y}<br>release_year=1953<br>Nombre cumulé de films=%{x}<extra></extra>",
           "legendgroup": "United States of America",
           "marker": {
            "color": "#EF553B",
            "pattern": {
             "shape": ""
            }
           },
           "name": "United States of America",
           "offsetgroup": "United States of America",
           "orientation": "h",
           "showlegend": true,
           "textposition": "auto",
           "type": "bar",
           "x": [
            7
           ],
           "xaxis": "x",
           "y": [
            "United States of America"
           ],
           "yaxis": "y"
          },
          {
           "alignmentgroup": "True",
           "hovertemplate": "Pays=%{y}<br>release_year=1953<br>Nombre cumulé de films=%{x}<extra></extra>",
           "legendgroup": "Brazil",
           "marker": {
            "color": "#00cc96",
            "pattern": {
             "shape": ""
            }
           },
           "name": "Brazil",
           "offsetgroup": "Brazil",
           "orientation": "h",
           "showlegend": true,
           "textposition": "auto",
           "type": "bar",
           "x": [
            0
           ],
           "xaxis": "x",
           "y": [
            "Brazil"
           ],
           "yaxis": "y"
          },
          {
           "alignmentgroup": "True",
           "hovertemplate": "Pays=%{y}<br>release_year=1953<br>Nombre cumulé de films=%{x}<extra></extra>",
           "legendgroup": "Netherlands",
           "marker": {
            "color": "#ab63fa",
            "pattern": {
             "shape": ""
            }
           },
           "name": "Netherlands",
           "offsetgroup": "Netherlands",
           "orientation": "h",
           "showlegend": true,
           "textposition": "auto",
           "type": "bar",
           "x": [
            0
           ],
           "xaxis": "x",
           "y": [
            "Netherlands"
           ],
           "yaxis": "y"
          },
          {
           "alignmentgroup": "True",
           "hovertemplate": "Pays=%{y}<br>release_year=1953<br>Nombre cumulé de films=%{x}<extra></extra>",
           "legendgroup": "France",
           "marker": {
            "color": "#19d3f3",
            "pattern": {
             "shape": ""
            }
           },
           "name": "France",
           "offsetgroup": "France",
           "orientation": "h",
           "showlegend": true,
           "textposition": "auto",
           "type": "bar",
           "x": [
            1
           ],
           "xaxis": "x",
           "y": [
            "France"
           ],
           "yaxis": "y"
          },
          {
           "alignmentgroup": "True",
           "hovertemplate": "Pays=%{y}<br>release_year=1953<br>Nombre cumulé de films=%{x}<extra></extra>",
           "legendgroup": "Czech Republic",
           "marker": {
            "color": "#FF6692",
            "pattern": {
             "shape": ""
            }
           },
           "name": "Czech Republic",
           "offsetgroup": "Czech Republic",
           "orientation": "h",
           "showlegend": true,
           "textposition": "auto",
           "type": "bar",
           "x": [
            1
           ],
           "xaxis": "x",
           "y": [
            "Czech Republic"
           ],
           "yaxis": "y"
          },
          {
           "alignmentgroup": "True",
           "hovertemplate": "Pays=%{y}<br>release_year=1953<br>Nombre cumulé de films=%{x}<extra></extra>",
           "legendgroup": "United Kingdom",
           "marker": {
            "color": "#FECB52",
            "pattern": {
             "shape": ""
            }
           },
           "name": "United Kingdom",
           "offsetgroup": "United Kingdom",
           "orientation": "h",
           "showlegend": true,
           "textposition": "auto",
           "type": "bar",
           "x": [
            44
           ],
           "xaxis": "x",
           "y": [
            "United Kingdom"
           ],
           "yaxis": "y"
          },
          {
           "alignmentgroup": "True",
           "hovertemplate": "Pays=%{y}<br>release_year=1953<br>Nombre cumulé de films=%{x}<extra></extra>",
           "legendgroup": "Romania",
           "marker": {
            "color": "#636efa",
            "pattern": {
             "shape": ""
            }
           },
           "name": "Romania",
           "offsetgroup": "Romania",
           "orientation": "h",
           "showlegend": true,
           "textposition": "auto",
           "type": "bar",
           "x": [
            1
           ],
           "xaxis": "x",
           "y": [
            "Romania"
           ],
           "yaxis": "y"
          },
          {
           "alignmentgroup": "True",
           "hovertemplate": "Pays=%{y}<br>release_year=1953<br>Nombre cumulé de films=%{x}<extra></extra>",
           "legendgroup": "Soviet Union",
           "marker": {
            "color": "#EF553B",
            "pattern": {
             "shape": ""
            }
           },
           "name": "Soviet Union",
           "offsetgroup": "Soviet Union",
           "orientation": "h",
           "showlegend": true,
           "textposition": "auto",
           "type": "bar",
           "x": [
            1
           ],
           "xaxis": "x",
           "y": [
            "Soviet Union"
           ],
           "yaxis": "y"
          },
          {
           "alignmentgroup": "True",
           "hovertemplate": "Pays=%{y}<br>release_year=1953<br>Nombre cumulé de films=%{x}<extra></extra>",
           "legendgroup": "Ireland",
           "marker": {
            "color": "#00cc96",
            "pattern": {
             "shape": ""
            }
           },
           "name": "Ireland",
           "offsetgroup": "Ireland",
           "orientation": "h",
           "showlegend": true,
           "textposition": "auto",
           "type": "bar",
           "x": [
            1
           ],
           "xaxis": "x",
           "y": [
            "Ireland"
           ],
           "yaxis": "y"
          }
         ],
         "name": "1953"
        },
        {
         "data": [
          {
           "alignmentgroup": "True",
           "hovertemplate": "Pays=%{y}<br>release_year=1954<br>Nombre cumulé de films=%{x}<extra></extra>",
           "legendgroup": "Germany",
           "marker": {
            "color": "#636efa",
            "pattern": {
             "shape": ""
            }
           },
           "name": "Germany",
           "offsetgroup": "Germany",
           "orientation": "h",
           "showlegend": true,
           "textposition": "auto",
           "type": "bar",
           "x": [
            2
           ],
           "xaxis": "x",
           "y": [
            "Germany"
           ],
           "yaxis": "y"
          },
          {
           "alignmentgroup": "True",
           "hovertemplate": "Pays=%{y}<br>release_year=1954<br>Nombre cumulé de films=%{x}<extra></extra>",
           "legendgroup": "United States of America",
           "marker": {
            "color": "#EF553B",
            "pattern": {
             "shape": ""
            }
           },
           "name": "United States of America",
           "offsetgroup": "United States of America",
           "orientation": "h",
           "showlegend": true,
           "textposition": "auto",
           "type": "bar",
           "x": [
            7
           ],
           "xaxis": "x",
           "y": [
            "United States of America"
           ],
           "yaxis": "y"
          },
          {
           "alignmentgroup": "True",
           "hovertemplate": "Pays=%{y}<br>release_year=1954<br>Nombre cumulé de films=%{x}<extra></extra>",
           "legendgroup": "Brazil",
           "marker": {
            "color": "#00cc96",
            "pattern": {
             "shape": ""
            }
           },
           "name": "Brazil",
           "offsetgroup": "Brazil",
           "orientation": "h",
           "showlegend": true,
           "textposition": "auto",
           "type": "bar",
           "x": [
            0
           ],
           "xaxis": "x",
           "y": [
            "Brazil"
           ],
           "yaxis": "y"
          },
          {
           "alignmentgroup": "True",
           "hovertemplate": "Pays=%{y}<br>release_year=1954<br>Nombre cumulé de films=%{x}<extra></extra>",
           "legendgroup": "Netherlands",
           "marker": {
            "color": "#ab63fa",
            "pattern": {
             "shape": ""
            }
           },
           "name": "Netherlands",
           "offsetgroup": "Netherlands",
           "orientation": "h",
           "showlegend": true,
           "textposition": "auto",
           "type": "bar",
           "x": [
            0
           ],
           "xaxis": "x",
           "y": [
            "Netherlands"
           ],
           "yaxis": "y"
          },
          {
           "alignmentgroup": "True",
           "hovertemplate": "Pays=%{y}<br>release_year=1954<br>Nombre cumulé de films=%{x}<extra></extra>",
           "legendgroup": "France",
           "marker": {
            "color": "#19d3f3",
            "pattern": {
             "shape": ""
            }
           },
           "name": "France",
           "offsetgroup": "France",
           "orientation": "h",
           "showlegend": true,
           "textposition": "auto",
           "type": "bar",
           "x": [
            1
           ],
           "xaxis": "x",
           "y": [
            "France"
           ],
           "yaxis": "y"
          },
          {
           "alignmentgroup": "True",
           "hovertemplate": "Pays=%{y}<br>release_year=1954<br>Nombre cumulé de films=%{x}<extra></extra>",
           "legendgroup": "Czech Republic",
           "marker": {
            "color": "#FF6692",
            "pattern": {
             "shape": ""
            }
           },
           "name": "Czech Republic",
           "offsetgroup": "Czech Republic",
           "orientation": "h",
           "showlegend": true,
           "textposition": "auto",
           "type": "bar",
           "x": [
            1
           ],
           "xaxis": "x",
           "y": [
            "Czech Republic"
           ],
           "yaxis": "y"
          },
          {
           "alignmentgroup": "True",
           "hovertemplate": "Pays=%{y}<br>release_year=1954<br>Nombre cumulé de films=%{x}<extra></extra>",
           "legendgroup": "United Kingdom",
           "marker": {
            "color": "#FECB52",
            "pattern": {
             "shape": ""
            }
           },
           "name": "United Kingdom",
           "offsetgroup": "United Kingdom",
           "orientation": "h",
           "showlegend": true,
           "textposition": "auto",
           "type": "bar",
           "x": [
            47
           ],
           "xaxis": "x",
           "y": [
            "United Kingdom"
           ],
           "yaxis": "y"
          },
          {
           "alignmentgroup": "True",
           "hovertemplate": "Pays=%{y}<br>release_year=1954<br>Nombre cumulé de films=%{x}<extra></extra>",
           "legendgroup": "Romania",
           "marker": {
            "color": "#636efa",
            "pattern": {
             "shape": ""
            }
           },
           "name": "Romania",
           "offsetgroup": "Romania",
           "orientation": "h",
           "showlegend": true,
           "textposition": "auto",
           "type": "bar",
           "x": [
            1
           ],
           "xaxis": "x",
           "y": [
            "Romania"
           ],
           "yaxis": "y"
          },
          {
           "alignmentgroup": "True",
           "hovertemplate": "Pays=%{y}<br>release_year=1954<br>Nombre cumulé de films=%{x}<extra></extra>",
           "legendgroup": "Soviet Union",
           "marker": {
            "color": "#EF553B",
            "pattern": {
             "shape": ""
            }
           },
           "name": "Soviet Union",
           "offsetgroup": "Soviet Union",
           "orientation": "h",
           "showlegend": true,
           "textposition": "auto",
           "type": "bar",
           "x": [
            1
           ],
           "xaxis": "x",
           "y": [
            "Soviet Union"
           ],
           "yaxis": "y"
          },
          {
           "alignmentgroup": "True",
           "hovertemplate": "Pays=%{y}<br>release_year=1954<br>Nombre cumulé de films=%{x}<extra></extra>",
           "legendgroup": "Ireland",
           "marker": {
            "color": "#00cc96",
            "pattern": {
             "shape": ""
            }
           },
           "name": "Ireland",
           "offsetgroup": "Ireland",
           "orientation": "h",
           "showlegend": true,
           "textposition": "auto",
           "type": "bar",
           "x": [
            1
           ],
           "xaxis": "x",
           "y": [
            "Ireland"
           ],
           "yaxis": "y"
          }
         ],
         "name": "1954"
        },
        {
         "data": [
          {
           "alignmentgroup": "True",
           "hovertemplate": "Pays=%{y}<br>release_year=1955<br>Nombre cumulé de films=%{x}<extra></extra>",
           "legendgroup": "Germany",
           "marker": {
            "color": "#636efa",
            "pattern": {
             "shape": ""
            }
           },
           "name": "Germany",
           "offsetgroup": "Germany",
           "orientation": "h",
           "showlegend": true,
           "textposition": "auto",
           "type": "bar",
           "x": [
            2
           ],
           "xaxis": "x",
           "y": [
            "Germany"
           ],
           "yaxis": "y"
          },
          {
           "alignmentgroup": "True",
           "hovertemplate": "Pays=%{y}<br>release_year=1955<br>Nombre cumulé de films=%{x}<extra></extra>",
           "legendgroup": "United States of America",
           "marker": {
            "color": "#EF553B",
            "pattern": {
             "shape": ""
            }
           },
           "name": "United States of America",
           "offsetgroup": "United States of America",
           "orientation": "h",
           "showlegend": true,
           "textposition": "auto",
           "type": "bar",
           "x": [
            7
           ],
           "xaxis": "x",
           "y": [
            "United States of America"
           ],
           "yaxis": "y"
          },
          {
           "alignmentgroup": "True",
           "hovertemplate": "Pays=%{y}<br>release_year=1955<br>Nombre cumulé de films=%{x}<extra></extra>",
           "legendgroup": "Brazil",
           "marker": {
            "color": "#00cc96",
            "pattern": {
             "shape": ""
            }
           },
           "name": "Brazil",
           "offsetgroup": "Brazil",
           "orientation": "h",
           "showlegend": true,
           "textposition": "auto",
           "type": "bar",
           "x": [
            0
           ],
           "xaxis": "x",
           "y": [
            "Brazil"
           ],
           "yaxis": "y"
          },
          {
           "alignmentgroup": "True",
           "hovertemplate": "Pays=%{y}<br>release_year=1955<br>Nombre cumulé de films=%{x}<extra></extra>",
           "legendgroup": "Netherlands",
           "marker": {
            "color": "#ab63fa",
            "pattern": {
             "shape": ""
            }
           },
           "name": "Netherlands",
           "offsetgroup": "Netherlands",
           "orientation": "h",
           "showlegend": true,
           "textposition": "auto",
           "type": "bar",
           "x": [
            0
           ],
           "xaxis": "x",
           "y": [
            "Netherlands"
           ],
           "yaxis": "y"
          },
          {
           "alignmentgroup": "True",
           "hovertemplate": "Pays=%{y}<br>release_year=1955<br>Nombre cumulé de films=%{x}<extra></extra>",
           "legendgroup": "France",
           "marker": {
            "color": "#19d3f3",
            "pattern": {
             "shape": ""
            }
           },
           "name": "France",
           "offsetgroup": "France",
           "orientation": "h",
           "showlegend": true,
           "textposition": "auto",
           "type": "bar",
           "x": [
            1
           ],
           "xaxis": "x",
           "y": [
            "France"
           ],
           "yaxis": "y"
          },
          {
           "alignmentgroup": "True",
           "hovertemplate": "Pays=%{y}<br>release_year=1955<br>Nombre cumulé de films=%{x}<extra></extra>",
           "legendgroup": "Czech Republic",
           "marker": {
            "color": "#FF6692",
            "pattern": {
             "shape": ""
            }
           },
           "name": "Czech Republic",
           "offsetgroup": "Czech Republic",
           "orientation": "h",
           "showlegend": true,
           "textposition": "auto",
           "type": "bar",
           "x": [
            1
           ],
           "xaxis": "x",
           "y": [
            "Czech Republic"
           ],
           "yaxis": "y"
          },
          {
           "alignmentgroup": "True",
           "hovertemplate": "Pays=%{y}<br>release_year=1955<br>Nombre cumulé de films=%{x}<extra></extra>",
           "legendgroup": "United Kingdom",
           "marker": {
            "color": "#FECB52",
            "pattern": {
             "shape": ""
            }
           },
           "name": "United Kingdom",
           "offsetgroup": "United Kingdom",
           "orientation": "h",
           "showlegend": true,
           "textposition": "auto",
           "type": "bar",
           "x": [
            47
           ],
           "xaxis": "x",
           "y": [
            "United Kingdom"
           ],
           "yaxis": "y"
          },
          {
           "alignmentgroup": "True",
           "hovertemplate": "Pays=%{y}<br>release_year=1955<br>Nombre cumulé de films=%{x}<extra></extra>",
           "legendgroup": "Romania",
           "marker": {
            "color": "#636efa",
            "pattern": {
             "shape": ""
            }
           },
           "name": "Romania",
           "offsetgroup": "Romania",
           "orientation": "h",
           "showlegend": true,
           "textposition": "auto",
           "type": "bar",
           "x": [
            1
           ],
           "xaxis": "x",
           "y": [
            "Romania"
           ],
           "yaxis": "y"
          },
          {
           "alignmentgroup": "True",
           "hovertemplate": "Pays=%{y}<br>release_year=1955<br>Nombre cumulé de films=%{x}<extra></extra>",
           "legendgroup": "Soviet Union",
           "marker": {
            "color": "#EF553B",
            "pattern": {
             "shape": ""
            }
           },
           "name": "Soviet Union",
           "offsetgroup": "Soviet Union",
           "orientation": "h",
           "showlegend": true,
           "textposition": "auto",
           "type": "bar",
           "x": [
            1
           ],
           "xaxis": "x",
           "y": [
            "Soviet Union"
           ],
           "yaxis": "y"
          },
          {
           "alignmentgroup": "True",
           "hovertemplate": "Pays=%{y}<br>release_year=1955<br>Nombre cumulé de films=%{x}<extra></extra>",
           "legendgroup": "Ireland",
           "marker": {
            "color": "#00cc96",
            "pattern": {
             "shape": ""
            }
           },
           "name": "Ireland",
           "offsetgroup": "Ireland",
           "orientation": "h",
           "showlegend": true,
           "textposition": "auto",
           "type": "bar",
           "x": [
            1
           ],
           "xaxis": "x",
           "y": [
            "Ireland"
           ],
           "yaxis": "y"
          }
         ],
         "name": "1955"
        },
        {
         "data": [
          {
           "alignmentgroup": "True",
           "hovertemplate": "Pays=%{y}<br>release_year=1956<br>Nombre cumulé de films=%{x}<extra></extra>",
           "legendgroup": "Germany",
           "marker": {
            "color": "#636efa",
            "pattern": {
             "shape": ""
            }
           },
           "name": "Germany",
           "offsetgroup": "Germany",
           "orientation": "h",
           "showlegend": true,
           "textposition": "auto",
           "type": "bar",
           "x": [
            2
           ],
           "xaxis": "x",
           "y": [
            "Germany"
           ],
           "yaxis": "y"
          },
          {
           "alignmentgroup": "True",
           "hovertemplate": "Pays=%{y}<br>release_year=1956<br>Nombre cumulé de films=%{x}<extra></extra>",
           "legendgroup": "United States of America",
           "marker": {
            "color": "#EF553B",
            "pattern": {
             "shape": ""
            }
           },
           "name": "United States of America",
           "offsetgroup": "United States of America",
           "orientation": "h",
           "showlegend": true,
           "textposition": "auto",
           "type": "bar",
           "x": [
            7
           ],
           "xaxis": "x",
           "y": [
            "United States of America"
           ],
           "yaxis": "y"
          },
          {
           "alignmentgroup": "True",
           "hovertemplate": "Pays=%{y}<br>release_year=1956<br>Nombre cumulé de films=%{x}<extra></extra>",
           "legendgroup": "Brazil",
           "marker": {
            "color": "#00cc96",
            "pattern": {
             "shape": ""
            }
           },
           "name": "Brazil",
           "offsetgroup": "Brazil",
           "orientation": "h",
           "showlegend": true,
           "textposition": "auto",
           "type": "bar",
           "x": [
            0
           ],
           "xaxis": "x",
           "y": [
            "Brazil"
           ],
           "yaxis": "y"
          },
          {
           "alignmentgroup": "True",
           "hovertemplate": "Pays=%{y}<br>release_year=1956<br>Nombre cumulé de films=%{x}<extra></extra>",
           "legendgroup": "Netherlands",
           "marker": {
            "color": "#ab63fa",
            "pattern": {
             "shape": ""
            }
           },
           "name": "Netherlands",
           "offsetgroup": "Netherlands",
           "orientation": "h",
           "showlegend": true,
           "textposition": "auto",
           "type": "bar",
           "x": [
            0
           ],
           "xaxis": "x",
           "y": [
            "Netherlands"
           ],
           "yaxis": "y"
          },
          {
           "alignmentgroup": "True",
           "hovertemplate": "Pays=%{y}<br>release_year=1956<br>Nombre cumulé de films=%{x}<extra></extra>",
           "legendgroup": "France",
           "marker": {
            "color": "#19d3f3",
            "pattern": {
             "shape": ""
            }
           },
           "name": "France",
           "offsetgroup": "France",
           "orientation": "h",
           "showlegend": true,
           "textposition": "auto",
           "type": "bar",
           "x": [
            1
           ],
           "xaxis": "x",
           "y": [
            "France"
           ],
           "yaxis": "y"
          },
          {
           "alignmentgroup": "True",
           "hovertemplate": "Pays=%{y}<br>release_year=1956<br>Nombre cumulé de films=%{x}<extra></extra>",
           "legendgroup": "Czech Republic",
           "marker": {
            "color": "#FF6692",
            "pattern": {
             "shape": ""
            }
           },
           "name": "Czech Republic",
           "offsetgroup": "Czech Republic",
           "orientation": "h",
           "showlegend": true,
           "textposition": "auto",
           "type": "bar",
           "x": [
            1
           ],
           "xaxis": "x",
           "y": [
            "Czech Republic"
           ],
           "yaxis": "y"
          },
          {
           "alignmentgroup": "True",
           "hovertemplate": "Pays=%{y}<br>release_year=1956<br>Nombre cumulé de films=%{x}<extra></extra>",
           "legendgroup": "United Kingdom",
           "marker": {
            "color": "#FECB52",
            "pattern": {
             "shape": ""
            }
           },
           "name": "United Kingdom",
           "offsetgroup": "United Kingdom",
           "orientation": "h",
           "showlegend": true,
           "textposition": "auto",
           "type": "bar",
           "x": [
            49
           ],
           "xaxis": "x",
           "y": [
            "United Kingdom"
           ],
           "yaxis": "y"
          },
          {
           "alignmentgroup": "True",
           "hovertemplate": "Pays=%{y}<br>release_year=1956<br>Nombre cumulé de films=%{x}<extra></extra>",
           "legendgroup": "Romania",
           "marker": {
            "color": "#636efa",
            "pattern": {
             "shape": ""
            }
           },
           "name": "Romania",
           "offsetgroup": "Romania",
           "orientation": "h",
           "showlegend": true,
           "textposition": "auto",
           "type": "bar",
           "x": [
            1
           ],
           "xaxis": "x",
           "y": [
            "Romania"
           ],
           "yaxis": "y"
          },
          {
           "alignmentgroup": "True",
           "hovertemplate": "Pays=%{y}<br>release_year=1956<br>Nombre cumulé de films=%{x}<extra></extra>",
           "legendgroup": "Soviet Union",
           "marker": {
            "color": "#EF553B",
            "pattern": {
             "shape": ""
            }
           },
           "name": "Soviet Union",
           "offsetgroup": "Soviet Union",
           "orientation": "h",
           "showlegend": true,
           "textposition": "auto",
           "type": "bar",
           "x": [
            1
           ],
           "xaxis": "x",
           "y": [
            "Soviet Union"
           ],
           "yaxis": "y"
          },
          {
           "alignmentgroup": "True",
           "hovertemplate": "Pays=%{y}<br>release_year=1956<br>Nombre cumulé de films=%{x}<extra></extra>",
           "legendgroup": "Ireland",
           "marker": {
            "color": "#00cc96",
            "pattern": {
             "shape": ""
            }
           },
           "name": "Ireland",
           "offsetgroup": "Ireland",
           "orientation": "h",
           "showlegend": true,
           "textposition": "auto",
           "type": "bar",
           "x": [
            1
           ],
           "xaxis": "x",
           "y": [
            "Ireland"
           ],
           "yaxis": "y"
          }
         ],
         "name": "1956"
        },
        {
         "data": [
          {
           "alignmentgroup": "True",
           "hovertemplate": "Pays=%{y}<br>release_year=1957<br>Nombre cumulé de films=%{x}<extra></extra>",
           "legendgroup": "Germany",
           "marker": {
            "color": "#636efa",
            "pattern": {
             "shape": ""
            }
           },
           "name": "Germany",
           "offsetgroup": "Germany",
           "orientation": "h",
           "showlegend": true,
           "textposition": "auto",
           "type": "bar",
           "x": [
            2
           ],
           "xaxis": "x",
           "y": [
            "Germany"
           ],
           "yaxis": "y"
          },
          {
           "alignmentgroup": "True",
           "hovertemplate": "Pays=%{y}<br>release_year=1957<br>Nombre cumulé de films=%{x}<extra></extra>",
           "legendgroup": "United States of America",
           "marker": {
            "color": "#EF553B",
            "pattern": {
             "shape": ""
            }
           },
           "name": "United States of America",
           "offsetgroup": "United States of America",
           "orientation": "h",
           "showlegend": true,
           "textposition": "auto",
           "type": "bar",
           "x": [
            7
           ],
           "xaxis": "x",
           "y": [
            "United States of America"
           ],
           "yaxis": "y"
          },
          {
           "alignmentgroup": "True",
           "hovertemplate": "Pays=%{y}<br>release_year=1957<br>Nombre cumulé de films=%{x}<extra></extra>",
           "legendgroup": "Brazil",
           "marker": {
            "color": "#00cc96",
            "pattern": {
             "shape": ""
            }
           },
           "name": "Brazil",
           "offsetgroup": "Brazil",
           "orientation": "h",
           "showlegend": true,
           "textposition": "auto",
           "type": "bar",
           "x": [
            0
           ],
           "xaxis": "x",
           "y": [
            "Brazil"
           ],
           "yaxis": "y"
          },
          {
           "alignmentgroup": "True",
           "hovertemplate": "Pays=%{y}<br>release_year=1957<br>Nombre cumulé de films=%{x}<extra></extra>",
           "legendgroup": "Netherlands",
           "marker": {
            "color": "#ab63fa",
            "pattern": {
             "shape": ""
            }
           },
           "name": "Netherlands",
           "offsetgroup": "Netherlands",
           "orientation": "h",
           "showlegend": true,
           "textposition": "auto",
           "type": "bar",
           "x": [
            0
           ],
           "xaxis": "x",
           "y": [
            "Netherlands"
           ],
           "yaxis": "y"
          },
          {
           "alignmentgroup": "True",
           "hovertemplate": "Pays=%{y}<br>release_year=1957<br>Nombre cumulé de films=%{x}<extra></extra>",
           "legendgroup": "France",
           "marker": {
            "color": "#19d3f3",
            "pattern": {
             "shape": ""
            }
           },
           "name": "France",
           "offsetgroup": "France",
           "orientation": "h",
           "showlegend": true,
           "textposition": "auto",
           "type": "bar",
           "x": [
            1
           ],
           "xaxis": "x",
           "y": [
            "France"
           ],
           "yaxis": "y"
          },
          {
           "alignmentgroup": "True",
           "hovertemplate": "Pays=%{y}<br>release_year=1957<br>Nombre cumulé de films=%{x}<extra></extra>",
           "legendgroup": "Czech Republic",
           "marker": {
            "color": "#FF6692",
            "pattern": {
             "shape": ""
            }
           },
           "name": "Czech Republic",
           "offsetgroup": "Czech Republic",
           "orientation": "h",
           "showlegend": true,
           "textposition": "auto",
           "type": "bar",
           "x": [
            1
           ],
           "xaxis": "x",
           "y": [
            "Czech Republic"
           ],
           "yaxis": "y"
          },
          {
           "alignmentgroup": "True",
           "hovertemplate": "Pays=%{y}<br>release_year=1957<br>Nombre cumulé de films=%{x}<extra></extra>",
           "legendgroup": "United Kingdom",
           "marker": {
            "color": "#FECB52",
            "pattern": {
             "shape": ""
            }
           },
           "name": "United Kingdom",
           "offsetgroup": "United Kingdom",
           "orientation": "h",
           "showlegend": true,
           "textposition": "auto",
           "type": "bar",
           "x": [
            49
           ],
           "xaxis": "x",
           "y": [
            "United Kingdom"
           ],
           "yaxis": "y"
          },
          {
           "alignmentgroup": "True",
           "hovertemplate": "Pays=%{y}<br>release_year=1957<br>Nombre cumulé de films=%{x}<extra></extra>",
           "legendgroup": "Romania",
           "marker": {
            "color": "#636efa",
            "pattern": {
             "shape": ""
            }
           },
           "name": "Romania",
           "offsetgroup": "Romania",
           "orientation": "h",
           "showlegend": true,
           "textposition": "auto",
           "type": "bar",
           "x": [
            1
           ],
           "xaxis": "x",
           "y": [
            "Romania"
           ],
           "yaxis": "y"
          },
          {
           "alignmentgroup": "True",
           "hovertemplate": "Pays=%{y}<br>release_year=1957<br>Nombre cumulé de films=%{x}<extra></extra>",
           "legendgroup": "Soviet Union",
           "marker": {
            "color": "#EF553B",
            "pattern": {
             "shape": ""
            }
           },
           "name": "Soviet Union",
           "offsetgroup": "Soviet Union",
           "orientation": "h",
           "showlegend": true,
           "textposition": "auto",
           "type": "bar",
           "x": [
            1
           ],
           "xaxis": "x",
           "y": [
            "Soviet Union"
           ],
           "yaxis": "y"
          },
          {
           "alignmentgroup": "True",
           "hovertemplate": "Pays=%{y}<br>release_year=1957<br>Nombre cumulé de films=%{x}<extra></extra>",
           "legendgroup": "Ireland",
           "marker": {
            "color": "#00cc96",
            "pattern": {
             "shape": ""
            }
           },
           "name": "Ireland",
           "offsetgroup": "Ireland",
           "orientation": "h",
           "showlegend": true,
           "textposition": "auto",
           "type": "bar",
           "x": [
            1
           ],
           "xaxis": "x",
           "y": [
            "Ireland"
           ],
           "yaxis": "y"
          }
         ],
         "name": "1957"
        },
        {
         "data": [
          {
           "alignmentgroup": "True",
           "hovertemplate": "Pays=%{y}<br>release_year=1958<br>Nombre cumulé de films=%{x}<extra></extra>",
           "legendgroup": "Germany",
           "marker": {
            "color": "#636efa",
            "pattern": {
             "shape": ""
            }
           },
           "name": "Germany",
           "offsetgroup": "Germany",
           "orientation": "h",
           "showlegend": true,
           "textposition": "auto",
           "type": "bar",
           "x": [
            2
           ],
           "xaxis": "x",
           "y": [
            "Germany"
           ],
           "yaxis": "y"
          },
          {
           "alignmentgroup": "True",
           "hovertemplate": "Pays=%{y}<br>release_year=1958<br>Nombre cumulé de films=%{x}<extra></extra>",
           "legendgroup": "United States of America",
           "marker": {
            "color": "#EF553B",
            "pattern": {
             "shape": ""
            }
           },
           "name": "United States of America",
           "offsetgroup": "United States of America",
           "orientation": "h",
           "showlegend": true,
           "textposition": "auto",
           "type": "bar",
           "x": [
            7
           ],
           "xaxis": "x",
           "y": [
            "United States of America"
           ],
           "yaxis": "y"
          },
          {
           "alignmentgroup": "True",
           "hovertemplate": "Pays=%{y}<br>release_year=1958<br>Nombre cumulé de films=%{x}<extra></extra>",
           "legendgroup": "Brazil",
           "marker": {
            "color": "#00cc96",
            "pattern": {
             "shape": ""
            }
           },
           "name": "Brazil",
           "offsetgroup": "Brazil",
           "orientation": "h",
           "showlegend": true,
           "textposition": "auto",
           "type": "bar",
           "x": [
            0
           ],
           "xaxis": "x",
           "y": [
            "Brazil"
           ],
           "yaxis": "y"
          },
          {
           "alignmentgroup": "True",
           "hovertemplate": "Pays=%{y}<br>release_year=1958<br>Nombre cumulé de films=%{x}<extra></extra>",
           "legendgroup": "Netherlands",
           "marker": {
            "color": "#ab63fa",
            "pattern": {
             "shape": ""
            }
           },
           "name": "Netherlands",
           "offsetgroup": "Netherlands",
           "orientation": "h",
           "showlegend": true,
           "textposition": "auto",
           "type": "bar",
           "x": [
            0
           ],
           "xaxis": "x",
           "y": [
            "Netherlands"
           ],
           "yaxis": "y"
          },
          {
           "alignmentgroup": "True",
           "hovertemplate": "Pays=%{y}<br>release_year=1958<br>Nombre cumulé de films=%{x}<extra></extra>",
           "legendgroup": "France",
           "marker": {
            "color": "#19d3f3",
            "pattern": {
             "shape": ""
            }
           },
           "name": "France",
           "offsetgroup": "France",
           "orientation": "h",
           "showlegend": true,
           "textposition": "auto",
           "type": "bar",
           "x": [
            2
           ],
           "xaxis": "x",
           "y": [
            "France"
           ],
           "yaxis": "y"
          },
          {
           "alignmentgroup": "True",
           "hovertemplate": "Pays=%{y}<br>release_year=1958<br>Nombre cumulé de films=%{x}<extra></extra>",
           "legendgroup": "Czech Republic",
           "marker": {
            "color": "#FF6692",
            "pattern": {
             "shape": ""
            }
           },
           "name": "Czech Republic",
           "offsetgroup": "Czech Republic",
           "orientation": "h",
           "showlegend": true,
           "textposition": "auto",
           "type": "bar",
           "x": [
            1
           ],
           "xaxis": "x",
           "y": [
            "Czech Republic"
           ],
           "yaxis": "y"
          },
          {
           "alignmentgroup": "True",
           "hovertemplate": "Pays=%{y}<br>release_year=1958<br>Nombre cumulé de films=%{x}<extra></extra>",
           "legendgroup": "United Kingdom",
           "marker": {
            "color": "#FECB52",
            "pattern": {
             "shape": ""
            }
           },
           "name": "United Kingdom",
           "offsetgroup": "United Kingdom",
           "orientation": "h",
           "showlegend": true,
           "textposition": "auto",
           "type": "bar",
           "x": [
            50
           ],
           "xaxis": "x",
           "y": [
            "United Kingdom"
           ],
           "yaxis": "y"
          },
          {
           "alignmentgroup": "True",
           "hovertemplate": "Pays=%{y}<br>release_year=1958<br>Nombre cumulé de films=%{x}<extra></extra>",
           "legendgroup": "Romania",
           "marker": {
            "color": "#636efa",
            "pattern": {
             "shape": ""
            }
           },
           "name": "Romania",
           "offsetgroup": "Romania",
           "orientation": "h",
           "showlegend": true,
           "textposition": "auto",
           "type": "bar",
           "x": [
            2
           ],
           "xaxis": "x",
           "y": [
            "Romania"
           ],
           "yaxis": "y"
          },
          {
           "alignmentgroup": "True",
           "hovertemplate": "Pays=%{y}<br>release_year=1958<br>Nombre cumulé de films=%{x}<extra></extra>",
           "legendgroup": "Soviet Union",
           "marker": {
            "color": "#EF553B",
            "pattern": {
             "shape": ""
            }
           },
           "name": "Soviet Union",
           "offsetgroup": "Soviet Union",
           "orientation": "h",
           "showlegend": true,
           "textposition": "auto",
           "type": "bar",
           "x": [
            1
           ],
           "xaxis": "x",
           "y": [
            "Soviet Union"
           ],
           "yaxis": "y"
          },
          {
           "alignmentgroup": "True",
           "hovertemplate": "Pays=%{y}<br>release_year=1958<br>Nombre cumulé de films=%{x}<extra></extra>",
           "legendgroup": "Ireland",
           "marker": {
            "color": "#00cc96",
            "pattern": {
             "shape": ""
            }
           },
           "name": "Ireland",
           "offsetgroup": "Ireland",
           "orientation": "h",
           "showlegend": true,
           "textposition": "auto",
           "type": "bar",
           "x": [
            1
           ],
           "xaxis": "x",
           "y": [
            "Ireland"
           ],
           "yaxis": "y"
          }
         ],
         "name": "1958"
        },
        {
         "data": [
          {
           "alignmentgroup": "True",
           "hovertemplate": "Pays=%{y}<br>release_year=1959<br>Nombre cumulé de films=%{x}<extra></extra>",
           "legendgroup": "Germany",
           "marker": {
            "color": "#636efa",
            "pattern": {
             "shape": ""
            }
           },
           "name": "Germany",
           "offsetgroup": "Germany",
           "orientation": "h",
           "showlegend": true,
           "textposition": "auto",
           "type": "bar",
           "x": [
            2
           ],
           "xaxis": "x",
           "y": [
            "Germany"
           ],
           "yaxis": "y"
          },
          {
           "alignmentgroup": "True",
           "hovertemplate": "Pays=%{y}<br>release_year=1959<br>Nombre cumulé de films=%{x}<extra></extra>",
           "legendgroup": "United States of America",
           "marker": {
            "color": "#EF553B",
            "pattern": {
             "shape": ""
            }
           },
           "name": "United States of America",
           "offsetgroup": "United States of America",
           "orientation": "h",
           "showlegend": true,
           "textposition": "auto",
           "type": "bar",
           "x": [
            8
           ],
           "xaxis": "x",
           "y": [
            "United States of America"
           ],
           "yaxis": "y"
          },
          {
           "alignmentgroup": "True",
           "hovertemplate": "Pays=%{y}<br>release_year=1959<br>Nombre cumulé de films=%{x}<extra></extra>",
           "legendgroup": "Brazil",
           "marker": {
            "color": "#00cc96",
            "pattern": {
             "shape": ""
            }
           },
           "name": "Brazil",
           "offsetgroup": "Brazil",
           "orientation": "h",
           "showlegend": true,
           "textposition": "auto",
           "type": "bar",
           "x": [
            0
           ],
           "xaxis": "x",
           "y": [
            "Brazil"
           ],
           "yaxis": "y"
          },
          {
           "alignmentgroup": "True",
           "hovertemplate": "Pays=%{y}<br>release_year=1959<br>Nombre cumulé de films=%{x}<extra></extra>",
           "legendgroup": "Netherlands",
           "marker": {
            "color": "#ab63fa",
            "pattern": {
             "shape": ""
            }
           },
           "name": "Netherlands",
           "offsetgroup": "Netherlands",
           "orientation": "h",
           "showlegend": true,
           "textposition": "auto",
           "type": "bar",
           "x": [
            1
           ],
           "xaxis": "x",
           "y": [
            "Netherlands"
           ],
           "yaxis": "y"
          },
          {
           "alignmentgroup": "True",
           "hovertemplate": "Pays=%{y}<br>release_year=1959<br>Nombre cumulé de films=%{x}<extra></extra>",
           "legendgroup": "France",
           "marker": {
            "color": "#19d3f3",
            "pattern": {
             "shape": ""
            }
           },
           "name": "France",
           "offsetgroup": "France",
           "orientation": "h",
           "showlegend": true,
           "textposition": "auto",
           "type": "bar",
           "x": [
            2
           ],
           "xaxis": "x",
           "y": [
            "France"
           ],
           "yaxis": "y"
          },
          {
           "alignmentgroup": "True",
           "hovertemplate": "Pays=%{y}<br>release_year=1959<br>Nombre cumulé de films=%{x}<extra></extra>",
           "legendgroup": "Czech Republic",
           "marker": {
            "color": "#FF6692",
            "pattern": {
             "shape": ""
            }
           },
           "name": "Czech Republic",
           "offsetgroup": "Czech Republic",
           "orientation": "h",
           "showlegend": true,
           "textposition": "auto",
           "type": "bar",
           "x": [
            2
           ],
           "xaxis": "x",
           "y": [
            "Czech Republic"
           ],
           "yaxis": "y"
          },
          {
           "alignmentgroup": "True",
           "hovertemplate": "Pays=%{y}<br>release_year=1959<br>Nombre cumulé de films=%{x}<extra></extra>",
           "legendgroup": "United Kingdom",
           "marker": {
            "color": "#FECB52",
            "pattern": {
             "shape": ""
            }
           },
           "name": "United Kingdom",
           "offsetgroup": "United Kingdom",
           "orientation": "h",
           "showlegend": true,
           "textposition": "auto",
           "type": "bar",
           "x": [
            50
           ],
           "xaxis": "x",
           "y": [
            "United Kingdom"
           ],
           "yaxis": "y"
          },
          {
           "alignmentgroup": "True",
           "hovertemplate": "Pays=%{y}<br>release_year=1959<br>Nombre cumulé de films=%{x}<extra></extra>",
           "legendgroup": "Romania",
           "marker": {
            "color": "#636efa",
            "pattern": {
             "shape": ""
            }
           },
           "name": "Romania",
           "offsetgroup": "Romania",
           "orientation": "h",
           "showlegend": true,
           "textposition": "auto",
           "type": "bar",
           "x": [
            2
           ],
           "xaxis": "x",
           "y": [
            "Romania"
           ],
           "yaxis": "y"
          },
          {
           "alignmentgroup": "True",
           "hovertemplate": "Pays=%{y}<br>release_year=1959<br>Nombre cumulé de films=%{x}<extra></extra>",
           "legendgroup": "Soviet Union",
           "marker": {
            "color": "#EF553B",
            "pattern": {
             "shape": ""
            }
           },
           "name": "Soviet Union",
           "offsetgroup": "Soviet Union",
           "orientation": "h",
           "showlegend": true,
           "textposition": "auto",
           "type": "bar",
           "x": [
            1
           ],
           "xaxis": "x",
           "y": [
            "Soviet Union"
           ],
           "yaxis": "y"
          },
          {
           "alignmentgroup": "True",
           "hovertemplate": "Pays=%{y}<br>release_year=1959<br>Nombre cumulé de films=%{x}<extra></extra>",
           "legendgroup": "Ireland",
           "marker": {
            "color": "#00cc96",
            "pattern": {
             "shape": ""
            }
           },
           "name": "Ireland",
           "offsetgroup": "Ireland",
           "orientation": "h",
           "showlegend": true,
           "textposition": "auto",
           "type": "bar",
           "x": [
            1
           ],
           "xaxis": "x",
           "y": [
            "Ireland"
           ],
           "yaxis": "y"
          }
         ],
         "name": "1959"
        },
        {
         "data": [
          {
           "alignmentgroup": "True",
           "hovertemplate": "Pays=%{y}<br>release_year=1960<br>Nombre cumulé de films=%{x}<extra></extra>",
           "legendgroup": "Germany",
           "marker": {
            "color": "#636efa",
            "pattern": {
             "shape": ""
            }
           },
           "name": "Germany",
           "offsetgroup": "Germany",
           "orientation": "h",
           "showlegend": true,
           "textposition": "auto",
           "type": "bar",
           "x": [
            2
           ],
           "xaxis": "x",
           "y": [
            "Germany"
           ],
           "yaxis": "y"
          },
          {
           "alignmentgroup": "True",
           "hovertemplate": "Pays=%{y}<br>release_year=1960<br>Nombre cumulé de films=%{x}<extra></extra>",
           "legendgroup": "United States of America",
           "marker": {
            "color": "#EF553B",
            "pattern": {
             "shape": ""
            }
           },
           "name": "United States of America",
           "offsetgroup": "United States of America",
           "orientation": "h",
           "showlegend": true,
           "textposition": "auto",
           "type": "bar",
           "x": [
            12
           ],
           "xaxis": "x",
           "y": [
            "United States of America"
           ],
           "yaxis": "y"
          },
          {
           "alignmentgroup": "True",
           "hovertemplate": "Pays=%{y}<br>release_year=1960<br>Nombre cumulé de films=%{x}<extra></extra>",
           "legendgroup": "Brazil",
           "marker": {
            "color": "#00cc96",
            "pattern": {
             "shape": ""
            }
           },
           "name": "Brazil",
           "offsetgroup": "Brazil",
           "orientation": "h",
           "showlegend": true,
           "textposition": "auto",
           "type": "bar",
           "x": [
            0
           ],
           "xaxis": "x",
           "y": [
            "Brazil"
           ],
           "yaxis": "y"
          },
          {
           "alignmentgroup": "True",
           "hovertemplate": "Pays=%{y}<br>release_year=1960<br>Nombre cumulé de films=%{x}<extra></extra>",
           "legendgroup": "Netherlands",
           "marker": {
            "color": "#ab63fa",
            "pattern": {
             "shape": ""
            }
           },
           "name": "Netherlands",
           "offsetgroup": "Netherlands",
           "orientation": "h",
           "showlegend": true,
           "textposition": "auto",
           "type": "bar",
           "x": [
            1
           ],
           "xaxis": "x",
           "y": [
            "Netherlands"
           ],
           "yaxis": "y"
          },
          {
           "alignmentgroup": "True",
           "hovertemplate": "Pays=%{y}<br>release_year=1960<br>Nombre cumulé de films=%{x}<extra></extra>",
           "legendgroup": "France",
           "marker": {
            "color": "#19d3f3",
            "pattern": {
             "shape": ""
            }
           },
           "name": "France",
           "offsetgroup": "France",
           "orientation": "h",
           "showlegend": true,
           "textposition": "auto",
           "type": "bar",
           "x": [
            2
           ],
           "xaxis": "x",
           "y": [
            "France"
           ],
           "yaxis": "y"
          },
          {
           "alignmentgroup": "True",
           "hovertemplate": "Pays=%{y}<br>release_year=1960<br>Nombre cumulé de films=%{x}<extra></extra>",
           "legendgroup": "Czech Republic",
           "marker": {
            "color": "#FF6692",
            "pattern": {
             "shape": ""
            }
           },
           "name": "Czech Republic",
           "offsetgroup": "Czech Republic",
           "orientation": "h",
           "showlegend": true,
           "textposition": "auto",
           "type": "bar",
           "x": [
            2
           ],
           "xaxis": "x",
           "y": [
            "Czech Republic"
           ],
           "yaxis": "y"
          },
          {
           "alignmentgroup": "True",
           "hovertemplate": "Pays=%{y}<br>release_year=1960<br>Nombre cumulé de films=%{x}<extra></extra>",
           "legendgroup": "United Kingdom",
           "marker": {
            "color": "#FECB52",
            "pattern": {
             "shape": ""
            }
           },
           "name": "United Kingdom",
           "offsetgroup": "United Kingdom",
           "orientation": "h",
           "showlegend": true,
           "textposition": "auto",
           "type": "bar",
           "x": [
            52
           ],
           "xaxis": "x",
           "y": [
            "United Kingdom"
           ],
           "yaxis": "y"
          },
          {
           "alignmentgroup": "True",
           "hovertemplate": "Pays=%{y}<br>release_year=1960<br>Nombre cumulé de films=%{x}<extra></extra>",
           "legendgroup": "Romania",
           "marker": {
            "color": "#636efa",
            "pattern": {
             "shape": ""
            }
           },
           "name": "Romania",
           "offsetgroup": "Romania",
           "orientation": "h",
           "showlegend": true,
           "textposition": "auto",
           "type": "bar",
           "x": [
            2
           ],
           "xaxis": "x",
           "y": [
            "Romania"
           ],
           "yaxis": "y"
          },
          {
           "alignmentgroup": "True",
           "hovertemplate": "Pays=%{y}<br>release_year=1960<br>Nombre cumulé de films=%{x}<extra></extra>",
           "legendgroup": "Soviet Union",
           "marker": {
            "color": "#EF553B",
            "pattern": {
             "shape": ""
            }
           },
           "name": "Soviet Union",
           "offsetgroup": "Soviet Union",
           "orientation": "h",
           "showlegend": true,
           "textposition": "auto",
           "type": "bar",
           "x": [
            1
           ],
           "xaxis": "x",
           "y": [
            "Soviet Union"
           ],
           "yaxis": "y"
          },
          {
           "alignmentgroup": "True",
           "hovertemplate": "Pays=%{y}<br>release_year=1960<br>Nombre cumulé de films=%{x}<extra></extra>",
           "legendgroup": "Ireland",
           "marker": {
            "color": "#00cc96",
            "pattern": {
             "shape": ""
            }
           },
           "name": "Ireland",
           "offsetgroup": "Ireland",
           "orientation": "h",
           "showlegend": true,
           "textposition": "auto",
           "type": "bar",
           "x": [
            1
           ],
           "xaxis": "x",
           "y": [
            "Ireland"
           ],
           "yaxis": "y"
          }
         ],
         "name": "1960"
        },
        {
         "data": [
          {
           "alignmentgroup": "True",
           "hovertemplate": "Pays=%{y}<br>release_year=1961<br>Nombre cumulé de films=%{x}<extra></extra>",
           "legendgroup": "Germany",
           "marker": {
            "color": "#636efa",
            "pattern": {
             "shape": ""
            }
           },
           "name": "Germany",
           "offsetgroup": "Germany",
           "orientation": "h",
           "showlegend": true,
           "textposition": "auto",
           "type": "bar",
           "x": [
            2
           ],
           "xaxis": "x",
           "y": [
            "Germany"
           ],
           "yaxis": "y"
          },
          {
           "alignmentgroup": "True",
           "hovertemplate": "Pays=%{y}<br>release_year=1961<br>Nombre cumulé de films=%{x}<extra></extra>",
           "legendgroup": "United States of America",
           "marker": {
            "color": "#EF553B",
            "pattern": {
             "shape": ""
            }
           },
           "name": "United States of America",
           "offsetgroup": "United States of America",
           "orientation": "h",
           "showlegend": true,
           "textposition": "auto",
           "type": "bar",
           "x": [
            14
           ],
           "xaxis": "x",
           "y": [
            "United States of America"
           ],
           "yaxis": "y"
          },
          {
           "alignmentgroup": "True",
           "hovertemplate": "Pays=%{y}<br>release_year=1961<br>Nombre cumulé de films=%{x}<extra></extra>",
           "legendgroup": "Brazil",
           "marker": {
            "color": "#00cc96",
            "pattern": {
             "shape": ""
            }
           },
           "name": "Brazil",
           "offsetgroup": "Brazil",
           "orientation": "h",
           "showlegend": true,
           "textposition": "auto",
           "type": "bar",
           "x": [
            0
           ],
           "xaxis": "x",
           "y": [
            "Brazil"
           ],
           "yaxis": "y"
          },
          {
           "alignmentgroup": "True",
           "hovertemplate": "Pays=%{y}<br>release_year=1961<br>Nombre cumulé de films=%{x}<extra></extra>",
           "legendgroup": "Netherlands",
           "marker": {
            "color": "#ab63fa",
            "pattern": {
             "shape": ""
            }
           },
           "name": "Netherlands",
           "offsetgroup": "Netherlands",
           "orientation": "h",
           "showlegend": true,
           "textposition": "auto",
           "type": "bar",
           "x": [
            1
           ],
           "xaxis": "x",
           "y": [
            "Netherlands"
           ],
           "yaxis": "y"
          },
          {
           "alignmentgroup": "True",
           "hovertemplate": "Pays=%{y}<br>release_year=1961<br>Nombre cumulé de films=%{x}<extra></extra>",
           "legendgroup": "France",
           "marker": {
            "color": "#19d3f3",
            "pattern": {
             "shape": ""
            }
           },
           "name": "France",
           "offsetgroup": "France",
           "orientation": "h",
           "showlegend": true,
           "textposition": "auto",
           "type": "bar",
           "x": [
            3
           ],
           "xaxis": "x",
           "y": [
            "France"
           ],
           "yaxis": "y"
          },
          {
           "alignmentgroup": "True",
           "hovertemplate": "Pays=%{y}<br>release_year=1961<br>Nombre cumulé de films=%{x}<extra></extra>",
           "legendgroup": "Czech Republic",
           "marker": {
            "color": "#FF6692",
            "pattern": {
             "shape": ""
            }
           },
           "name": "Czech Republic",
           "offsetgroup": "Czech Republic",
           "orientation": "h",
           "showlegend": true,
           "textposition": "auto",
           "type": "bar",
           "x": [
            2
           ],
           "xaxis": "x",
           "y": [
            "Czech Republic"
           ],
           "yaxis": "y"
          },
          {
           "alignmentgroup": "True",
           "hovertemplate": "Pays=%{y}<br>release_year=1961<br>Nombre cumulé de films=%{x}<extra></extra>",
           "legendgroup": "United Kingdom",
           "marker": {
            "color": "#FECB52",
            "pattern": {
             "shape": ""
            }
           },
           "name": "United Kingdom",
           "offsetgroup": "United Kingdom",
           "orientation": "h",
           "showlegend": true,
           "textposition": "auto",
           "type": "bar",
           "x": [
            52
           ],
           "xaxis": "x",
           "y": [
            "United Kingdom"
           ],
           "yaxis": "y"
          },
          {
           "alignmentgroup": "True",
           "hovertemplate": "Pays=%{y}<br>release_year=1961<br>Nombre cumulé de films=%{x}<extra></extra>",
           "legendgroup": "Romania",
           "marker": {
            "color": "#636efa",
            "pattern": {
             "shape": ""
            }
           },
           "name": "Romania",
           "offsetgroup": "Romania",
           "orientation": "h",
           "showlegend": true,
           "textposition": "auto",
           "type": "bar",
           "x": [
            2
           ],
           "xaxis": "x",
           "y": [
            "Romania"
           ],
           "yaxis": "y"
          },
          {
           "alignmentgroup": "True",
           "hovertemplate": "Pays=%{y}<br>release_year=1961<br>Nombre cumulé de films=%{x}<extra></extra>",
           "legendgroup": "Soviet Union",
           "marker": {
            "color": "#EF553B",
            "pattern": {
             "shape": ""
            }
           },
           "name": "Soviet Union",
           "offsetgroup": "Soviet Union",
           "orientation": "h",
           "showlegend": true,
           "textposition": "auto",
           "type": "bar",
           "x": [
            1
           ],
           "xaxis": "x",
           "y": [
            "Soviet Union"
           ],
           "yaxis": "y"
          },
          {
           "alignmentgroup": "True",
           "hovertemplate": "Pays=%{y}<br>release_year=1961<br>Nombre cumulé de films=%{x}<extra></extra>",
           "legendgroup": "Ireland",
           "marker": {
            "color": "#00cc96",
            "pattern": {
             "shape": ""
            }
           },
           "name": "Ireland",
           "offsetgroup": "Ireland",
           "orientation": "h",
           "showlegend": true,
           "textposition": "auto",
           "type": "bar",
           "x": [
            1
           ],
           "xaxis": "x",
           "y": [
            "Ireland"
           ],
           "yaxis": "y"
          }
         ],
         "name": "1961"
        },
        {
         "data": [
          {
           "alignmentgroup": "True",
           "hovertemplate": "Pays=%{y}<br>release_year=1962<br>Nombre cumulé de films=%{x}<extra></extra>",
           "legendgroup": "Germany",
           "marker": {
            "color": "#636efa",
            "pattern": {
             "shape": ""
            }
           },
           "name": "Germany",
           "offsetgroup": "Germany",
           "orientation": "h",
           "showlegend": true,
           "textposition": "auto",
           "type": "bar",
           "x": [
            3
           ],
           "xaxis": "x",
           "y": [
            "Germany"
           ],
           "yaxis": "y"
          },
          {
           "alignmentgroup": "True",
           "hovertemplate": "Pays=%{y}<br>release_year=1962<br>Nombre cumulé de films=%{x}<extra></extra>",
           "legendgroup": "United States of America",
           "marker": {
            "color": "#EF553B",
            "pattern": {
             "shape": ""
            }
           },
           "name": "United States of America",
           "offsetgroup": "United States of America",
           "orientation": "h",
           "showlegend": true,
           "textposition": "auto",
           "type": "bar",
           "x": [
            15
           ],
           "xaxis": "x",
           "y": [
            "United States of America"
           ],
           "yaxis": "y"
          },
          {
           "alignmentgroup": "True",
           "hovertemplate": "Pays=%{y}<br>release_year=1962<br>Nombre cumulé de films=%{x}<extra></extra>",
           "legendgroup": "Brazil",
           "marker": {
            "color": "#00cc96",
            "pattern": {
             "shape": ""
            }
           },
           "name": "Brazil",
           "offsetgroup": "Brazil",
           "orientation": "h",
           "showlegend": true,
           "textposition": "auto",
           "type": "bar",
           "x": [
            0
           ],
           "xaxis": "x",
           "y": [
            "Brazil"
           ],
           "yaxis": "y"
          },
          {
           "alignmentgroup": "True",
           "hovertemplate": "Pays=%{y}<br>release_year=1962<br>Nombre cumulé de films=%{x}<extra></extra>",
           "legendgroup": "Netherlands",
           "marker": {
            "color": "#ab63fa",
            "pattern": {
             "shape": ""
            }
           },
           "name": "Netherlands",
           "offsetgroup": "Netherlands",
           "orientation": "h",
           "showlegend": true,
           "textposition": "auto",
           "type": "bar",
           "x": [
            1
           ],
           "xaxis": "x",
           "y": [
            "Netherlands"
           ],
           "yaxis": "y"
          },
          {
           "alignmentgroup": "True",
           "hovertemplate": "Pays=%{y}<br>release_year=1962<br>Nombre cumulé de films=%{x}<extra></extra>",
           "legendgroup": "France",
           "marker": {
            "color": "#19d3f3",
            "pattern": {
             "shape": ""
            }
           },
           "name": "France",
           "offsetgroup": "France",
           "orientation": "h",
           "showlegend": true,
           "textposition": "auto",
           "type": "bar",
           "x": [
            3
           ],
           "xaxis": "x",
           "y": [
            "France"
           ],
           "yaxis": "y"
          },
          {
           "alignmentgroup": "True",
           "hovertemplate": "Pays=%{y}<br>release_year=1962<br>Nombre cumulé de films=%{x}<extra></extra>",
           "legendgroup": "Czech Republic",
           "marker": {
            "color": "#FF6692",
            "pattern": {
             "shape": ""
            }
           },
           "name": "Czech Republic",
           "offsetgroup": "Czech Republic",
           "orientation": "h",
           "showlegend": true,
           "textposition": "auto",
           "type": "bar",
           "x": [
            2
           ],
           "xaxis": "x",
           "y": [
            "Czech Republic"
           ],
           "yaxis": "y"
          },
          {
           "alignmentgroup": "True",
           "hovertemplate": "Pays=%{y}<br>release_year=1962<br>Nombre cumulé de films=%{x}<extra></extra>",
           "legendgroup": "United Kingdom",
           "marker": {
            "color": "#FECB52",
            "pattern": {
             "shape": ""
            }
           },
           "name": "United Kingdom",
           "offsetgroup": "United Kingdom",
           "orientation": "h",
           "showlegend": true,
           "textposition": "auto",
           "type": "bar",
           "x": [
            52
           ],
           "xaxis": "x",
           "y": [
            "United Kingdom"
           ],
           "yaxis": "y"
          },
          {
           "alignmentgroup": "True",
           "hovertemplate": "Pays=%{y}<br>release_year=1962<br>Nombre cumulé de films=%{x}<extra></extra>",
           "legendgroup": "Romania",
           "marker": {
            "color": "#636efa",
            "pattern": {
             "shape": ""
            }
           },
           "name": "Romania",
           "offsetgroup": "Romania",
           "orientation": "h",
           "showlegend": true,
           "textposition": "auto",
           "type": "bar",
           "x": [
            2
           ],
           "xaxis": "x",
           "y": [
            "Romania"
           ],
           "yaxis": "y"
          },
          {
           "alignmentgroup": "True",
           "hovertemplate": "Pays=%{y}<br>release_year=1962<br>Nombre cumulé de films=%{x}<extra></extra>",
           "legendgroup": "Soviet Union",
           "marker": {
            "color": "#EF553B",
            "pattern": {
             "shape": ""
            }
           },
           "name": "Soviet Union",
           "offsetgroup": "Soviet Union",
           "orientation": "h",
           "showlegend": true,
           "textposition": "auto",
           "type": "bar",
           "x": [
            1
           ],
           "xaxis": "x",
           "y": [
            "Soviet Union"
           ],
           "yaxis": "y"
          },
          {
           "alignmentgroup": "True",
           "hovertemplate": "Pays=%{y}<br>release_year=1962<br>Nombre cumulé de films=%{x}<extra></extra>",
           "legendgroup": "Ireland",
           "marker": {
            "color": "#00cc96",
            "pattern": {
             "shape": ""
            }
           },
           "name": "Ireland",
           "offsetgroup": "Ireland",
           "orientation": "h",
           "showlegend": true,
           "textposition": "auto",
           "type": "bar",
           "x": [
            1
           ],
           "xaxis": "x",
           "y": [
            "Ireland"
           ],
           "yaxis": "y"
          }
         ],
         "name": "1962"
        },
        {
         "data": [
          {
           "alignmentgroup": "True",
           "hovertemplate": "Pays=%{y}<br>release_year=1963<br>Nombre cumulé de films=%{x}<extra></extra>",
           "legendgroup": "Germany",
           "marker": {
            "color": "#636efa",
            "pattern": {
             "shape": ""
            }
           },
           "name": "Germany",
           "offsetgroup": "Germany",
           "orientation": "h",
           "showlegend": true,
           "textposition": "auto",
           "type": "bar",
           "x": [
            3
           ],
           "xaxis": "x",
           "y": [
            "Germany"
           ],
           "yaxis": "y"
          },
          {
           "alignmentgroup": "True",
           "hovertemplate": "Pays=%{y}<br>release_year=1963<br>Nombre cumulé de films=%{x}<extra></extra>",
           "legendgroup": "United States of America",
           "marker": {
            "color": "#EF553B",
            "pattern": {
             "shape": ""
            }
           },
           "name": "United States of America",
           "offsetgroup": "United States of America",
           "orientation": "h",
           "showlegend": true,
           "textposition": "auto",
           "type": "bar",
           "x": [
            16
           ],
           "xaxis": "x",
           "y": [
            "United States of America"
           ],
           "yaxis": "y"
          },
          {
           "alignmentgroup": "True",
           "hovertemplate": "Pays=%{y}<br>release_year=1963<br>Nombre cumulé de films=%{x}<extra></extra>",
           "legendgroup": "Brazil",
           "marker": {
            "color": "#00cc96",
            "pattern": {
             "shape": ""
            }
           },
           "name": "Brazil",
           "offsetgroup": "Brazil",
           "orientation": "h",
           "showlegend": true,
           "textposition": "auto",
           "type": "bar",
           "x": [
            0
           ],
           "xaxis": "x",
           "y": [
            "Brazil"
           ],
           "yaxis": "y"
          },
          {
           "alignmentgroup": "True",
           "hovertemplate": "Pays=%{y}<br>release_year=1963<br>Nombre cumulé de films=%{x}<extra></extra>",
           "legendgroup": "Netherlands",
           "marker": {
            "color": "#ab63fa",
            "pattern": {
             "shape": ""
            }
           },
           "name": "Netherlands",
           "offsetgroup": "Netherlands",
           "orientation": "h",
           "showlegend": true,
           "textposition": "auto",
           "type": "bar",
           "x": [
            1
           ],
           "xaxis": "x",
           "y": [
            "Netherlands"
           ],
           "yaxis": "y"
          },
          {
           "alignmentgroup": "True",
           "hovertemplate": "Pays=%{y}<br>release_year=1963<br>Nombre cumulé de films=%{x}<extra></extra>",
           "legendgroup": "France",
           "marker": {
            "color": "#19d3f3",
            "pattern": {
             "shape": ""
            }
           },
           "name": "France",
           "offsetgroup": "France",
           "orientation": "h",
           "showlegend": true,
           "textposition": "auto",
           "type": "bar",
           "x": [
            3
           ],
           "xaxis": "x",
           "y": [
            "France"
           ],
           "yaxis": "y"
          },
          {
           "alignmentgroup": "True",
           "hovertemplate": "Pays=%{y}<br>release_year=1963<br>Nombre cumulé de films=%{x}<extra></extra>",
           "legendgroup": "Czech Republic",
           "marker": {
            "color": "#FF6692",
            "pattern": {
             "shape": ""
            }
           },
           "name": "Czech Republic",
           "offsetgroup": "Czech Republic",
           "orientation": "h",
           "showlegend": true,
           "textposition": "auto",
           "type": "bar",
           "x": [
            2
           ],
           "xaxis": "x",
           "y": [
            "Czech Republic"
           ],
           "yaxis": "y"
          },
          {
           "alignmentgroup": "True",
           "hovertemplate": "Pays=%{y}<br>release_year=1963<br>Nombre cumulé de films=%{x}<extra></extra>",
           "legendgroup": "United Kingdom",
           "marker": {
            "color": "#FECB52",
            "pattern": {
             "shape": ""
            }
           },
           "name": "United Kingdom",
           "offsetgroup": "United Kingdom",
           "orientation": "h",
           "showlegend": true,
           "textposition": "auto",
           "type": "bar",
           "x": [
            55
           ],
           "xaxis": "x",
           "y": [
            "United Kingdom"
           ],
           "yaxis": "y"
          },
          {
           "alignmentgroup": "True",
           "hovertemplate": "Pays=%{y}<br>release_year=1963<br>Nombre cumulé de films=%{x}<extra></extra>",
           "legendgroup": "Romania",
           "marker": {
            "color": "#636efa",
            "pattern": {
             "shape": ""
            }
           },
           "name": "Romania",
           "offsetgroup": "Romania",
           "orientation": "h",
           "showlegend": true,
           "textposition": "auto",
           "type": "bar",
           "x": [
            2
           ],
           "xaxis": "x",
           "y": [
            "Romania"
           ],
           "yaxis": "y"
          },
          {
           "alignmentgroup": "True",
           "hovertemplate": "Pays=%{y}<br>release_year=1963<br>Nombre cumulé de films=%{x}<extra></extra>",
           "legendgroup": "Soviet Union",
           "marker": {
            "color": "#EF553B",
            "pattern": {
             "shape": ""
            }
           },
           "name": "Soviet Union",
           "offsetgroup": "Soviet Union",
           "orientation": "h",
           "showlegend": true,
           "textposition": "auto",
           "type": "bar",
           "x": [
            1
           ],
           "xaxis": "x",
           "y": [
            "Soviet Union"
           ],
           "yaxis": "y"
          },
          {
           "alignmentgroup": "True",
           "hovertemplate": "Pays=%{y}<br>release_year=1963<br>Nombre cumulé de films=%{x}<extra></extra>",
           "legendgroup": "Ireland",
           "marker": {
            "color": "#00cc96",
            "pattern": {
             "shape": ""
            }
           },
           "name": "Ireland",
           "offsetgroup": "Ireland",
           "orientation": "h",
           "showlegend": true,
           "textposition": "auto",
           "type": "bar",
           "x": [
            1
           ],
           "xaxis": "x",
           "y": [
            "Ireland"
           ],
           "yaxis": "y"
          }
         ],
         "name": "1963"
        },
        {
         "data": [
          {
           "alignmentgroup": "True",
           "hovertemplate": "Pays=%{y}<br>release_year=1964<br>Nombre cumulé de films=%{x}<extra></extra>",
           "legendgroup": "Germany",
           "marker": {
            "color": "#636efa",
            "pattern": {
             "shape": ""
            }
           },
           "name": "Germany",
           "offsetgroup": "Germany",
           "orientation": "h",
           "showlegend": true,
           "textposition": "auto",
           "type": "bar",
           "x": [
            3
           ],
           "xaxis": "x",
           "y": [
            "Germany"
           ],
           "yaxis": "y"
          },
          {
           "alignmentgroup": "True",
           "hovertemplate": "Pays=%{y}<br>release_year=1964<br>Nombre cumulé de films=%{x}<extra></extra>",
           "legendgroup": "United States of America",
           "marker": {
            "color": "#EF553B",
            "pattern": {
             "shape": ""
            }
           },
           "name": "United States of America",
           "offsetgroup": "United States of America",
           "orientation": "h",
           "showlegend": true,
           "textposition": "auto",
           "type": "bar",
           "x": [
            19
           ],
           "xaxis": "x",
           "y": [
            "United States of America"
           ],
           "yaxis": "y"
          },
          {
           "alignmentgroup": "True",
           "hovertemplate": "Pays=%{y}<br>release_year=1964<br>Nombre cumulé de films=%{x}<extra></extra>",
           "legendgroup": "Brazil",
           "marker": {
            "color": "#00cc96",
            "pattern": {
             "shape": ""
            }
           },
           "name": "Brazil",
           "offsetgroup": "Brazil",
           "orientation": "h",
           "showlegend": true,
           "textposition": "auto",
           "type": "bar",
           "x": [
            0
           ],
           "xaxis": "x",
           "y": [
            "Brazil"
           ],
           "yaxis": "y"
          },
          {
           "alignmentgroup": "True",
           "hovertemplate": "Pays=%{y}<br>release_year=1964<br>Nombre cumulé de films=%{x}<extra></extra>",
           "legendgroup": "Netherlands",
           "marker": {
            "color": "#ab63fa",
            "pattern": {
             "shape": ""
            }
           },
           "name": "Netherlands",
           "offsetgroup": "Netherlands",
           "orientation": "h",
           "showlegend": true,
           "textposition": "auto",
           "type": "bar",
           "x": [
            1
           ],
           "xaxis": "x",
           "y": [
            "Netherlands"
           ],
           "yaxis": "y"
          },
          {
           "alignmentgroup": "True",
           "hovertemplate": "Pays=%{y}<br>release_year=1964<br>Nombre cumulé de films=%{x}<extra></extra>",
           "legendgroup": "France",
           "marker": {
            "color": "#19d3f3",
            "pattern": {
             "shape": ""
            }
           },
           "name": "France",
           "offsetgroup": "France",
           "orientation": "h",
           "showlegend": true,
           "textposition": "auto",
           "type": "bar",
           "x": [
            5
           ],
           "xaxis": "x",
           "y": [
            "France"
           ],
           "yaxis": "y"
          },
          {
           "alignmentgroup": "True",
           "hovertemplate": "Pays=%{y}<br>release_year=1964<br>Nombre cumulé de films=%{x}<extra></extra>",
           "legendgroup": "Czech Republic",
           "marker": {
            "color": "#FF6692",
            "pattern": {
             "shape": ""
            }
           },
           "name": "Czech Republic",
           "offsetgroup": "Czech Republic",
           "orientation": "h",
           "showlegend": true,
           "textposition": "auto",
           "type": "bar",
           "x": [
            2
           ],
           "xaxis": "x",
           "y": [
            "Czech Republic"
           ],
           "yaxis": "y"
          },
          {
           "alignmentgroup": "True",
           "hovertemplate": "Pays=%{y}<br>release_year=1964<br>Nombre cumulé de films=%{x}<extra></extra>",
           "legendgroup": "United Kingdom",
           "marker": {
            "color": "#FECB52",
            "pattern": {
             "shape": ""
            }
           },
           "name": "United Kingdom",
           "offsetgroup": "United Kingdom",
           "orientation": "h",
           "showlegend": true,
           "textposition": "auto",
           "type": "bar",
           "x": [
            56
           ],
           "xaxis": "x",
           "y": [
            "United Kingdom"
           ],
           "yaxis": "y"
          },
          {
           "alignmentgroup": "True",
           "hovertemplate": "Pays=%{y}<br>release_year=1964<br>Nombre cumulé de films=%{x}<extra></extra>",
           "legendgroup": "Romania",
           "marker": {
            "color": "#636efa",
            "pattern": {
             "shape": ""
            }
           },
           "name": "Romania",
           "offsetgroup": "Romania",
           "orientation": "h",
           "showlegend": true,
           "textposition": "auto",
           "type": "bar",
           "x": [
            2
           ],
           "xaxis": "x",
           "y": [
            "Romania"
           ],
           "yaxis": "y"
          },
          {
           "alignmentgroup": "True",
           "hovertemplate": "Pays=%{y}<br>release_year=1964<br>Nombre cumulé de films=%{x}<extra></extra>",
           "legendgroup": "Soviet Union",
           "marker": {
            "color": "#EF553B",
            "pattern": {
             "shape": ""
            }
           },
           "name": "Soviet Union",
           "offsetgroup": "Soviet Union",
           "orientation": "h",
           "showlegend": true,
           "textposition": "auto",
           "type": "bar",
           "x": [
            1
           ],
           "xaxis": "x",
           "y": [
            "Soviet Union"
           ],
           "yaxis": "y"
          },
          {
           "alignmentgroup": "True",
           "hovertemplate": "Pays=%{y}<br>release_year=1964<br>Nombre cumulé de films=%{x}<extra></extra>",
           "legendgroup": "Ireland",
           "marker": {
            "color": "#00cc96",
            "pattern": {
             "shape": ""
            }
           },
           "name": "Ireland",
           "offsetgroup": "Ireland",
           "orientation": "h",
           "showlegend": true,
           "textposition": "auto",
           "type": "bar",
           "x": [
            1
           ],
           "xaxis": "x",
           "y": [
            "Ireland"
           ],
           "yaxis": "y"
          }
         ],
         "name": "1964"
        },
        {
         "data": [
          {
           "alignmentgroup": "True",
           "hovertemplate": "Pays=%{y}<br>release_year=1965<br>Nombre cumulé de films=%{x}<extra></extra>",
           "legendgroup": "Germany",
           "marker": {
            "color": "#636efa",
            "pattern": {
             "shape": ""
            }
           },
           "name": "Germany",
           "offsetgroup": "Germany",
           "orientation": "h",
           "showlegend": true,
           "textposition": "auto",
           "type": "bar",
           "x": [
            4
           ],
           "xaxis": "x",
           "y": [
            "Germany"
           ],
           "yaxis": "y"
          },
          {
           "alignmentgroup": "True",
           "hovertemplate": "Pays=%{y}<br>release_year=1965<br>Nombre cumulé de films=%{x}<extra></extra>",
           "legendgroup": "United States of America",
           "marker": {
            "color": "#EF553B",
            "pattern": {
             "shape": ""
            }
           },
           "name": "United States of America",
           "offsetgroup": "United States of America",
           "orientation": "h",
           "showlegend": true,
           "textposition": "auto",
           "type": "bar",
           "x": [
            19
           ],
           "xaxis": "x",
           "y": [
            "United States of America"
           ],
           "yaxis": "y"
          },
          {
           "alignmentgroup": "True",
           "hovertemplate": "Pays=%{y}<br>release_year=1965<br>Nombre cumulé de films=%{x}<extra></extra>",
           "legendgroup": "Brazil",
           "marker": {
            "color": "#00cc96",
            "pattern": {
             "shape": ""
            }
           },
           "name": "Brazil",
           "offsetgroup": "Brazil",
           "orientation": "h",
           "showlegend": true,
           "textposition": "auto",
           "type": "bar",
           "x": [
            0
           ],
           "xaxis": "x",
           "y": [
            "Brazil"
           ],
           "yaxis": "y"
          },
          {
           "alignmentgroup": "True",
           "hovertemplate": "Pays=%{y}<br>release_year=1965<br>Nombre cumulé de films=%{x}<extra></extra>",
           "legendgroup": "Netherlands",
           "marker": {
            "color": "#ab63fa",
            "pattern": {
             "shape": ""
            }
           },
           "name": "Netherlands",
           "offsetgroup": "Netherlands",
           "orientation": "h",
           "showlegend": true,
           "textposition": "auto",
           "type": "bar",
           "x": [
            1
           ],
           "xaxis": "x",
           "y": [
            "Netherlands"
           ],
           "yaxis": "y"
          },
          {
           "alignmentgroup": "True",
           "hovertemplate": "Pays=%{y}<br>release_year=1965<br>Nombre cumulé de films=%{x}<extra></extra>",
           "legendgroup": "France",
           "marker": {
            "color": "#19d3f3",
            "pattern": {
             "shape": ""
            }
           },
           "name": "France",
           "offsetgroup": "France",
           "orientation": "h",
           "showlegend": true,
           "textposition": "auto",
           "type": "bar",
           "x": [
            5
           ],
           "xaxis": "x",
           "y": [
            "France"
           ],
           "yaxis": "y"
          },
          {
           "alignmentgroup": "True",
           "hovertemplate": "Pays=%{y}<br>release_year=1965<br>Nombre cumulé de films=%{x}<extra></extra>",
           "legendgroup": "Czech Republic",
           "marker": {
            "color": "#FF6692",
            "pattern": {
             "shape": ""
            }
           },
           "name": "Czech Republic",
           "offsetgroup": "Czech Republic",
           "orientation": "h",
           "showlegend": true,
           "textposition": "auto",
           "type": "bar",
           "x": [
            2
           ],
           "xaxis": "x",
           "y": [
            "Czech Republic"
           ],
           "yaxis": "y"
          },
          {
           "alignmentgroup": "True",
           "hovertemplate": "Pays=%{y}<br>release_year=1965<br>Nombre cumulé de films=%{x}<extra></extra>",
           "legendgroup": "United Kingdom",
           "marker": {
            "color": "#FECB52",
            "pattern": {
             "shape": ""
            }
           },
           "name": "United Kingdom",
           "offsetgroup": "United Kingdom",
           "orientation": "h",
           "showlegend": true,
           "textposition": "auto",
           "type": "bar",
           "x": [
            56
           ],
           "xaxis": "x",
           "y": [
            "United Kingdom"
           ],
           "yaxis": "y"
          },
          {
           "alignmentgroup": "True",
           "hovertemplate": "Pays=%{y}<br>release_year=1965<br>Nombre cumulé de films=%{x}<extra></extra>",
           "legendgroup": "Romania",
           "marker": {
            "color": "#636efa",
            "pattern": {
             "shape": ""
            }
           },
           "name": "Romania",
           "offsetgroup": "Romania",
           "orientation": "h",
           "showlegend": true,
           "textposition": "auto",
           "type": "bar",
           "x": [
            2
           ],
           "xaxis": "x",
           "y": [
            "Romania"
           ],
           "yaxis": "y"
          },
          {
           "alignmentgroup": "True",
           "hovertemplate": "Pays=%{y}<br>release_year=1965<br>Nombre cumulé de films=%{x}<extra></extra>",
           "legendgroup": "Soviet Union",
           "marker": {
            "color": "#EF553B",
            "pattern": {
             "shape": ""
            }
           },
           "name": "Soviet Union",
           "offsetgroup": "Soviet Union",
           "orientation": "h",
           "showlegend": true,
           "textposition": "auto",
           "type": "bar",
           "x": [
            1
           ],
           "xaxis": "x",
           "y": [
            "Soviet Union"
           ],
           "yaxis": "y"
          },
          {
           "alignmentgroup": "True",
           "hovertemplate": "Pays=%{y}<br>release_year=1965<br>Nombre cumulé de films=%{x}<extra></extra>",
           "legendgroup": "Ireland",
           "marker": {
            "color": "#00cc96",
            "pattern": {
             "shape": ""
            }
           },
           "name": "Ireland",
           "offsetgroup": "Ireland",
           "orientation": "h",
           "showlegend": true,
           "textposition": "auto",
           "type": "bar",
           "x": [
            1
           ],
           "xaxis": "x",
           "y": [
            "Ireland"
           ],
           "yaxis": "y"
          }
         ],
         "name": "1965"
        },
        {
         "data": [
          {
           "alignmentgroup": "True",
           "hovertemplate": "Pays=%{y}<br>release_year=1966<br>Nombre cumulé de films=%{x}<extra></extra>",
           "legendgroup": "Germany",
           "marker": {
            "color": "#636efa",
            "pattern": {
             "shape": ""
            }
           },
           "name": "Germany",
           "offsetgroup": "Germany",
           "orientation": "h",
           "showlegend": true,
           "textposition": "auto",
           "type": "bar",
           "x": [
            4
           ],
           "xaxis": "x",
           "y": [
            "Germany"
           ],
           "yaxis": "y"
          },
          {
           "alignmentgroup": "True",
           "hovertemplate": "Pays=%{y}<br>release_year=1966<br>Nombre cumulé de films=%{x}<extra></extra>",
           "legendgroup": "United States of America",
           "marker": {
            "color": "#EF553B",
            "pattern": {
             "shape": ""
            }
           },
           "name": "United States of America",
           "offsetgroup": "United States of America",
           "orientation": "h",
           "showlegend": true,
           "textposition": "auto",
           "type": "bar",
           "x": [
            20
           ],
           "xaxis": "x",
           "y": [
            "United States of America"
           ],
           "yaxis": "y"
          },
          {
           "alignmentgroup": "True",
           "hovertemplate": "Pays=%{y}<br>release_year=1966<br>Nombre cumulé de films=%{x}<extra></extra>",
           "legendgroup": "Brazil",
           "marker": {
            "color": "#00cc96",
            "pattern": {
             "shape": ""
            }
           },
           "name": "Brazil",
           "offsetgroup": "Brazil",
           "orientation": "h",
           "showlegend": true,
           "textposition": "auto",
           "type": "bar",
           "x": [
            0
           ],
           "xaxis": "x",
           "y": [
            "Brazil"
           ],
           "yaxis": "y"
          },
          {
           "alignmentgroup": "True",
           "hovertemplate": "Pays=%{y}<br>release_year=1966<br>Nombre cumulé de films=%{x}<extra></extra>",
           "legendgroup": "Netherlands",
           "marker": {
            "color": "#ab63fa",
            "pattern": {
             "shape": ""
            }
           },
           "name": "Netherlands",
           "offsetgroup": "Netherlands",
           "orientation": "h",
           "showlegend": true,
           "textposition": "auto",
           "type": "bar",
           "x": [
            1
           ],
           "xaxis": "x",
           "y": [
            "Netherlands"
           ],
           "yaxis": "y"
          },
          {
           "alignmentgroup": "True",
           "hovertemplate": "Pays=%{y}<br>release_year=1966<br>Nombre cumulé de films=%{x}<extra></extra>",
           "legendgroup": "France",
           "marker": {
            "color": "#19d3f3",
            "pattern": {
             "shape": ""
            }
           },
           "name": "France",
           "offsetgroup": "France",
           "orientation": "h",
           "showlegend": true,
           "textposition": "auto",
           "type": "bar",
           "x": [
            5
           ],
           "xaxis": "x",
           "y": [
            "France"
           ],
           "yaxis": "y"
          },
          {
           "alignmentgroup": "True",
           "hovertemplate": "Pays=%{y}<br>release_year=1966<br>Nombre cumulé de films=%{x}<extra></extra>",
           "legendgroup": "Czech Republic",
           "marker": {
            "color": "#FF6692",
            "pattern": {
             "shape": ""
            }
           },
           "name": "Czech Republic",
           "offsetgroup": "Czech Republic",
           "orientation": "h",
           "showlegend": true,
           "textposition": "auto",
           "type": "bar",
           "x": [
            2
           ],
           "xaxis": "x",
           "y": [
            "Czech Republic"
           ],
           "yaxis": "y"
          },
          {
           "alignmentgroup": "True",
           "hovertemplate": "Pays=%{y}<br>release_year=1966<br>Nombre cumulé de films=%{x}<extra></extra>",
           "legendgroup": "United Kingdom",
           "marker": {
            "color": "#FECB52",
            "pattern": {
             "shape": ""
            }
           },
           "name": "United Kingdom",
           "offsetgroup": "United Kingdom",
           "orientation": "h",
           "showlegend": true,
           "textposition": "auto",
           "type": "bar",
           "x": [
            56
           ],
           "xaxis": "x",
           "y": [
            "United Kingdom"
           ],
           "yaxis": "y"
          },
          {
           "alignmentgroup": "True",
           "hovertemplate": "Pays=%{y}<br>release_year=1966<br>Nombre cumulé de films=%{x}<extra></extra>",
           "legendgroup": "Romania",
           "marker": {
            "color": "#636efa",
            "pattern": {
             "shape": ""
            }
           },
           "name": "Romania",
           "offsetgroup": "Romania",
           "orientation": "h",
           "showlegend": true,
           "textposition": "auto",
           "type": "bar",
           "x": [
            2
           ],
           "xaxis": "x",
           "y": [
            "Romania"
           ],
           "yaxis": "y"
          },
          {
           "alignmentgroup": "True",
           "hovertemplate": "Pays=%{y}<br>release_year=1966<br>Nombre cumulé de films=%{x}<extra></extra>",
           "legendgroup": "Soviet Union",
           "marker": {
            "color": "#EF553B",
            "pattern": {
             "shape": ""
            }
           },
           "name": "Soviet Union",
           "offsetgroup": "Soviet Union",
           "orientation": "h",
           "showlegend": true,
           "textposition": "auto",
           "type": "bar",
           "x": [
            1
           ],
           "xaxis": "x",
           "y": [
            "Soviet Union"
           ],
           "yaxis": "y"
          },
          {
           "alignmentgroup": "True",
           "hovertemplate": "Pays=%{y}<br>release_year=1966<br>Nombre cumulé de films=%{x}<extra></extra>",
           "legendgroup": "Ireland",
           "marker": {
            "color": "#00cc96",
            "pattern": {
             "shape": ""
            }
           },
           "name": "Ireland",
           "offsetgroup": "Ireland",
           "orientation": "h",
           "showlegend": true,
           "textposition": "auto",
           "type": "bar",
           "x": [
            1
           ],
           "xaxis": "x",
           "y": [
            "Ireland"
           ],
           "yaxis": "y"
          }
         ],
         "name": "1966"
        },
        {
         "data": [
          {
           "alignmentgroup": "True",
           "hovertemplate": "Pays=%{y}<br>release_year=1967<br>Nombre cumulé de films=%{x}<extra></extra>",
           "legendgroup": "Germany",
           "marker": {
            "color": "#636efa",
            "pattern": {
             "shape": ""
            }
           },
           "name": "Germany",
           "offsetgroup": "Germany",
           "orientation": "h",
           "showlegend": true,
           "textposition": "auto",
           "type": "bar",
           "x": [
            4
           ],
           "xaxis": "x",
           "y": [
            "Germany"
           ],
           "yaxis": "y"
          },
          {
           "alignmentgroup": "True",
           "hovertemplate": "Pays=%{y}<br>release_year=1967<br>Nombre cumulé de films=%{x}<extra></extra>",
           "legendgroup": "United States of America",
           "marker": {
            "color": "#EF553B",
            "pattern": {
             "shape": ""
            }
           },
           "name": "United States of America",
           "offsetgroup": "United States of America",
           "orientation": "h",
           "showlegend": true,
           "textposition": "auto",
           "type": "bar",
           "x": [
            20
           ],
           "xaxis": "x",
           "y": [
            "United States of America"
           ],
           "yaxis": "y"
          },
          {
           "alignmentgroup": "True",
           "hovertemplate": "Pays=%{y}<br>release_year=1967<br>Nombre cumulé de films=%{x}<extra></extra>",
           "legendgroup": "Brazil",
           "marker": {
            "color": "#00cc96",
            "pattern": {
             "shape": ""
            }
           },
           "name": "Brazil",
           "offsetgroup": "Brazil",
           "orientation": "h",
           "showlegend": true,
           "textposition": "auto",
           "type": "bar",
           "x": [
            0
           ],
           "xaxis": "x",
           "y": [
            "Brazil"
           ],
           "yaxis": "y"
          },
          {
           "alignmentgroup": "True",
           "hovertemplate": "Pays=%{y}<br>release_year=1967<br>Nombre cumulé de films=%{x}<extra></extra>",
           "legendgroup": "Netherlands",
           "marker": {
            "color": "#ab63fa",
            "pattern": {
             "shape": ""
            }
           },
           "name": "Netherlands",
           "offsetgroup": "Netherlands",
           "orientation": "h",
           "showlegend": true,
           "textposition": "auto",
           "type": "bar",
           "x": [
            1
           ],
           "xaxis": "x",
           "y": [
            "Netherlands"
           ],
           "yaxis": "y"
          },
          {
           "alignmentgroup": "True",
           "hovertemplate": "Pays=%{y}<br>release_year=1967<br>Nombre cumulé de films=%{x}<extra></extra>",
           "legendgroup": "France",
           "marker": {
            "color": "#19d3f3",
            "pattern": {
             "shape": ""
            }
           },
           "name": "France",
           "offsetgroup": "France",
           "orientation": "h",
           "showlegend": true,
           "textposition": "auto",
           "type": "bar",
           "x": [
            6
           ],
           "xaxis": "x",
           "y": [
            "France"
           ],
           "yaxis": "y"
          },
          {
           "alignmentgroup": "True",
           "hovertemplate": "Pays=%{y}<br>release_year=1967<br>Nombre cumulé de films=%{x}<extra></extra>",
           "legendgroup": "Czech Republic",
           "marker": {
            "color": "#FF6692",
            "pattern": {
             "shape": ""
            }
           },
           "name": "Czech Republic",
           "offsetgroup": "Czech Republic",
           "orientation": "h",
           "showlegend": true,
           "textposition": "auto",
           "type": "bar",
           "x": [
            2
           ],
           "xaxis": "x",
           "y": [
            "Czech Republic"
           ],
           "yaxis": "y"
          },
          {
           "alignmentgroup": "True",
           "hovertemplate": "Pays=%{y}<br>release_year=1967<br>Nombre cumulé de films=%{x}<extra></extra>",
           "legendgroup": "United Kingdom",
           "marker": {
            "color": "#FECB52",
            "pattern": {
             "shape": ""
            }
           },
           "name": "United Kingdom",
           "offsetgroup": "United Kingdom",
           "orientation": "h",
           "showlegend": true,
           "textposition": "auto",
           "type": "bar",
           "x": [
            59
           ],
           "xaxis": "x",
           "y": [
            "United Kingdom"
           ],
           "yaxis": "y"
          },
          {
           "alignmentgroup": "True",
           "hovertemplate": "Pays=%{y}<br>release_year=1967<br>Nombre cumulé de films=%{x}<extra></extra>",
           "legendgroup": "Romania",
           "marker": {
            "color": "#636efa",
            "pattern": {
             "shape": ""
            }
           },
           "name": "Romania",
           "offsetgroup": "Romania",
           "orientation": "h",
           "showlegend": true,
           "textposition": "auto",
           "type": "bar",
           "x": [
            2
           ],
           "xaxis": "x",
           "y": [
            "Romania"
           ],
           "yaxis": "y"
          },
          {
           "alignmentgroup": "True",
           "hovertemplate": "Pays=%{y}<br>release_year=1967<br>Nombre cumulé de films=%{x}<extra></extra>",
           "legendgroup": "Soviet Union",
           "marker": {
            "color": "#EF553B",
            "pattern": {
             "shape": ""
            }
           },
           "name": "Soviet Union",
           "offsetgroup": "Soviet Union",
           "orientation": "h",
           "showlegend": true,
           "textposition": "auto",
           "type": "bar",
           "x": [
            2
           ],
           "xaxis": "x",
           "y": [
            "Soviet Union"
           ],
           "yaxis": "y"
          },
          {
           "alignmentgroup": "True",
           "hovertemplate": "Pays=%{y}<br>release_year=1967<br>Nombre cumulé de films=%{x}<extra></extra>",
           "legendgroup": "Ireland",
           "marker": {
            "color": "#00cc96",
            "pattern": {
             "shape": ""
            }
           },
           "name": "Ireland",
           "offsetgroup": "Ireland",
           "orientation": "h",
           "showlegend": true,
           "textposition": "auto",
           "type": "bar",
           "x": [
            1
           ],
           "xaxis": "x",
           "y": [
            "Ireland"
           ],
           "yaxis": "y"
          }
         ],
         "name": "1967"
        },
        {
         "data": [
          {
           "alignmentgroup": "True",
           "hovertemplate": "Pays=%{y}<br>release_year=1968<br>Nombre cumulé de films=%{x}<extra></extra>",
           "legendgroup": "Germany",
           "marker": {
            "color": "#636efa",
            "pattern": {
             "shape": ""
            }
           },
           "name": "Germany",
           "offsetgroup": "Germany",
           "orientation": "h",
           "showlegend": true,
           "textposition": "auto",
           "type": "bar",
           "x": [
            4
           ],
           "xaxis": "x",
           "y": [
            "Germany"
           ],
           "yaxis": "y"
          },
          {
           "alignmentgroup": "True",
           "hovertemplate": "Pays=%{y}<br>release_year=1968<br>Nombre cumulé de films=%{x}<extra></extra>",
           "legendgroup": "United States of America",
           "marker": {
            "color": "#EF553B",
            "pattern": {
             "shape": ""
            }
           },
           "name": "United States of America",
           "offsetgroup": "United States of America",
           "orientation": "h",
           "showlegend": true,
           "textposition": "auto",
           "type": "bar",
           "x": [
            21
           ],
           "xaxis": "x",
           "y": [
            "United States of America"
           ],
           "yaxis": "y"
          },
          {
           "alignmentgroup": "True",
           "hovertemplate": "Pays=%{y}<br>release_year=1968<br>Nombre cumulé de films=%{x}<extra></extra>",
           "legendgroup": "Brazil",
           "marker": {
            "color": "#00cc96",
            "pattern": {
             "shape": ""
            }
           },
           "name": "Brazil",
           "offsetgroup": "Brazil",
           "orientation": "h",
           "showlegend": true,
           "textposition": "auto",
           "type": "bar",
           "x": [
            0
           ],
           "xaxis": "x",
           "y": [
            "Brazil"
           ],
           "yaxis": "y"
          },
          {
           "alignmentgroup": "True",
           "hovertemplate": "Pays=%{y}<br>release_year=1968<br>Nombre cumulé de films=%{x}<extra></extra>",
           "legendgroup": "Netherlands",
           "marker": {
            "color": "#ab63fa",
            "pattern": {
             "shape": ""
            }
           },
           "name": "Netherlands",
           "offsetgroup": "Netherlands",
           "orientation": "h",
           "showlegend": true,
           "textposition": "auto",
           "type": "bar",
           "x": [
            1
           ],
           "xaxis": "x",
           "y": [
            "Netherlands"
           ],
           "yaxis": "y"
          },
          {
           "alignmentgroup": "True",
           "hovertemplate": "Pays=%{y}<br>release_year=1968<br>Nombre cumulé de films=%{x}<extra></extra>",
           "legendgroup": "France",
           "marker": {
            "color": "#19d3f3",
            "pattern": {
             "shape": ""
            }
           },
           "name": "France",
           "offsetgroup": "France",
           "orientation": "h",
           "showlegend": true,
           "textposition": "auto",
           "type": "bar",
           "x": [
            6
           ],
           "xaxis": "x",
           "y": [
            "France"
           ],
           "yaxis": "y"
          },
          {
           "alignmentgroup": "True",
           "hovertemplate": "Pays=%{y}<br>release_year=1968<br>Nombre cumulé de films=%{x}<extra></extra>",
           "legendgroup": "Czech Republic",
           "marker": {
            "color": "#FF6692",
            "pattern": {
             "shape": ""
            }
           },
           "name": "Czech Republic",
           "offsetgroup": "Czech Republic",
           "orientation": "h",
           "showlegend": true,
           "textposition": "auto",
           "type": "bar",
           "x": [
            3
           ],
           "xaxis": "x",
           "y": [
            "Czech Republic"
           ],
           "yaxis": "y"
          },
          {
           "alignmentgroup": "True",
           "hovertemplate": "Pays=%{y}<br>release_year=1968<br>Nombre cumulé de films=%{x}<extra></extra>",
           "legendgroup": "United Kingdom",
           "marker": {
            "color": "#FECB52",
            "pattern": {
             "shape": ""
            }
           },
           "name": "United Kingdom",
           "offsetgroup": "United Kingdom",
           "orientation": "h",
           "showlegend": true,
           "textposition": "auto",
           "type": "bar",
           "x": [
            62
           ],
           "xaxis": "x",
           "y": [
            "United Kingdom"
           ],
           "yaxis": "y"
          },
          {
           "alignmentgroup": "True",
           "hovertemplate": "Pays=%{y}<br>release_year=1968<br>Nombre cumulé de films=%{x}<extra></extra>",
           "legendgroup": "Romania",
           "marker": {
            "color": "#636efa",
            "pattern": {
             "shape": ""
            }
           },
           "name": "Romania",
           "offsetgroup": "Romania",
           "orientation": "h",
           "showlegend": true,
           "textposition": "auto",
           "type": "bar",
           "x": [
            2
           ],
           "xaxis": "x",
           "y": [
            "Romania"
           ],
           "yaxis": "y"
          },
          {
           "alignmentgroup": "True",
           "hovertemplate": "Pays=%{y}<br>release_year=1968<br>Nombre cumulé de films=%{x}<extra></extra>",
           "legendgroup": "Soviet Union",
           "marker": {
            "color": "#EF553B",
            "pattern": {
             "shape": ""
            }
           },
           "name": "Soviet Union",
           "offsetgroup": "Soviet Union",
           "orientation": "h",
           "showlegend": true,
           "textposition": "auto",
           "type": "bar",
           "x": [
            2
           ],
           "xaxis": "x",
           "y": [
            "Soviet Union"
           ],
           "yaxis": "y"
          },
          {
           "alignmentgroup": "True",
           "hovertemplate": "Pays=%{y}<br>release_year=1968<br>Nombre cumulé de films=%{x}<extra></extra>",
           "legendgroup": "Ireland",
           "marker": {
            "color": "#00cc96",
            "pattern": {
             "shape": ""
            }
           },
           "name": "Ireland",
           "offsetgroup": "Ireland",
           "orientation": "h",
           "showlegend": true,
           "textposition": "auto",
           "type": "bar",
           "x": [
            1
           ],
           "xaxis": "x",
           "y": [
            "Ireland"
           ],
           "yaxis": "y"
          }
         ],
         "name": "1968"
        },
        {
         "data": [
          {
           "alignmentgroup": "True",
           "hovertemplate": "Pays=%{y}<br>release_year=1969<br>Nombre cumulé de films=%{x}<extra></extra>",
           "legendgroup": "Germany",
           "marker": {
            "color": "#636efa",
            "pattern": {
             "shape": ""
            }
           },
           "name": "Germany",
           "offsetgroup": "Germany",
           "orientation": "h",
           "showlegend": true,
           "textposition": "auto",
           "type": "bar",
           "x": [
            4
           ],
           "xaxis": "x",
           "y": [
            "Germany"
           ],
           "yaxis": "y"
          },
          {
           "alignmentgroup": "True",
           "hovertemplate": "Pays=%{y}<br>release_year=1969<br>Nombre cumulé de films=%{x}<extra></extra>",
           "legendgroup": "United States of America",
           "marker": {
            "color": "#EF553B",
            "pattern": {
             "shape": ""
            }
           },
           "name": "United States of America",
           "offsetgroup": "United States of America",
           "orientation": "h",
           "showlegend": true,
           "textposition": "auto",
           "type": "bar",
           "x": [
            21
           ],
           "xaxis": "x",
           "y": [
            "United States of America"
           ],
           "yaxis": "y"
          },
          {
           "alignmentgroup": "True",
           "hovertemplate": "Pays=%{y}<br>release_year=1969<br>Nombre cumulé de films=%{x}<extra></extra>",
           "legendgroup": "Brazil",
           "marker": {
            "color": "#00cc96",
            "pattern": {
             "shape": ""
            }
           },
           "name": "Brazil",
           "offsetgroup": "Brazil",
           "orientation": "h",
           "showlegend": true,
           "textposition": "auto",
           "type": "bar",
           "x": [
            0
           ],
           "xaxis": "x",
           "y": [
            "Brazil"
           ],
           "yaxis": "y"
          },
          {
           "alignmentgroup": "True",
           "hovertemplate": "Pays=%{y}<br>release_year=1969<br>Nombre cumulé de films=%{x}<extra></extra>",
           "legendgroup": "Netherlands",
           "marker": {
            "color": "#ab63fa",
            "pattern": {
             "shape": ""
            }
           },
           "name": "Netherlands",
           "offsetgroup": "Netherlands",
           "orientation": "h",
           "showlegend": true,
           "textposition": "auto",
           "type": "bar",
           "x": [
            1
           ],
           "xaxis": "x",
           "y": [
            "Netherlands"
           ],
           "yaxis": "y"
          },
          {
           "alignmentgroup": "True",
           "hovertemplate": "Pays=%{y}<br>release_year=1969<br>Nombre cumulé de films=%{x}<extra></extra>",
           "legendgroup": "France",
           "marker": {
            "color": "#19d3f3",
            "pattern": {
             "shape": ""
            }
           },
           "name": "France",
           "offsetgroup": "France",
           "orientation": "h",
           "showlegend": true,
           "textposition": "auto",
           "type": "bar",
           "x": [
            6
           ],
           "xaxis": "x",
           "y": [
            "France"
           ],
           "yaxis": "y"
          },
          {
           "alignmentgroup": "True",
           "hovertemplate": "Pays=%{y}<br>release_year=1969<br>Nombre cumulé de films=%{x}<extra></extra>",
           "legendgroup": "Czech Republic",
           "marker": {
            "color": "#FF6692",
            "pattern": {
             "shape": ""
            }
           },
           "name": "Czech Republic",
           "offsetgroup": "Czech Republic",
           "orientation": "h",
           "showlegend": true,
           "textposition": "auto",
           "type": "bar",
           "x": [
            3
           ],
           "xaxis": "x",
           "y": [
            "Czech Republic"
           ],
           "yaxis": "y"
          },
          {
           "alignmentgroup": "True",
           "hovertemplate": "Pays=%{y}<br>release_year=1969<br>Nombre cumulé de films=%{x}<extra></extra>",
           "legendgroup": "United Kingdom",
           "marker": {
            "color": "#FECB52",
            "pattern": {
             "shape": ""
            }
           },
           "name": "United Kingdom",
           "offsetgroup": "United Kingdom",
           "orientation": "h",
           "showlegend": true,
           "textposition": "auto",
           "type": "bar",
           "x": [
            62
           ],
           "xaxis": "x",
           "y": [
            "United Kingdom"
           ],
           "yaxis": "y"
          },
          {
           "alignmentgroup": "True",
           "hovertemplate": "Pays=%{y}<br>release_year=1969<br>Nombre cumulé de films=%{x}<extra></extra>",
           "legendgroup": "Romania",
           "marker": {
            "color": "#636efa",
            "pattern": {
             "shape": ""
            }
           },
           "name": "Romania",
           "offsetgroup": "Romania",
           "orientation": "h",
           "showlegend": true,
           "textposition": "auto",
           "type": "bar",
           "x": [
            2
           ],
           "xaxis": "x",
           "y": [
            "Romania"
           ],
           "yaxis": "y"
          },
          {
           "alignmentgroup": "True",
           "hovertemplate": "Pays=%{y}<br>release_year=1969<br>Nombre cumulé de films=%{x}<extra></extra>",
           "legendgroup": "Soviet Union",
           "marker": {
            "color": "#EF553B",
            "pattern": {
             "shape": ""
            }
           },
           "name": "Soviet Union",
           "offsetgroup": "Soviet Union",
           "orientation": "h",
           "showlegend": true,
           "textposition": "auto",
           "type": "bar",
           "x": [
            2
           ],
           "xaxis": "x",
           "y": [
            "Soviet Union"
           ],
           "yaxis": "y"
          },
          {
           "alignmentgroup": "True",
           "hovertemplate": "Pays=%{y}<br>release_year=1969<br>Nombre cumulé de films=%{x}<extra></extra>",
           "legendgroup": "Ireland",
           "marker": {
            "color": "#00cc96",
            "pattern": {
             "shape": ""
            }
           },
           "name": "Ireland",
           "offsetgroup": "Ireland",
           "orientation": "h",
           "showlegend": true,
           "textposition": "auto",
           "type": "bar",
           "x": [
            1
           ],
           "xaxis": "x",
           "y": [
            "Ireland"
           ],
           "yaxis": "y"
          }
         ],
         "name": "1969"
        },
        {
         "data": [
          {
           "alignmentgroup": "True",
           "hovertemplate": "Pays=%{y}<br>release_year=1970<br>Nombre cumulé de films=%{x}<extra></extra>",
           "legendgroup": "Germany",
           "marker": {
            "color": "#636efa",
            "pattern": {
             "shape": ""
            }
           },
           "name": "Germany",
           "offsetgroup": "Germany",
           "orientation": "h",
           "showlegend": true,
           "textposition": "auto",
           "type": "bar",
           "x": [
            4
           ],
           "xaxis": "x",
           "y": [
            "Germany"
           ],
           "yaxis": "y"
          },
          {
           "alignmentgroup": "True",
           "hovertemplate": "Pays=%{y}<br>release_year=1970<br>Nombre cumulé de films=%{x}<extra></extra>",
           "legendgroup": "United States of America",
           "marker": {
            "color": "#EF553B",
            "pattern": {
             "shape": ""
            }
           },
           "name": "United States of America",
           "offsetgroup": "United States of America",
           "orientation": "h",
           "showlegend": true,
           "textposition": "auto",
           "type": "bar",
           "x": [
            22
           ],
           "xaxis": "x",
           "y": [
            "United States of America"
           ],
           "yaxis": "y"
          },
          {
           "alignmentgroup": "True",
           "hovertemplate": "Pays=%{y}<br>release_year=1970<br>Nombre cumulé de films=%{x}<extra></extra>",
           "legendgroup": "Netherlands",
           "marker": {
            "color": "#ab63fa",
            "pattern": {
             "shape": ""
            }
           },
           "name": "Netherlands",
           "offsetgroup": "Netherlands",
           "orientation": "h",
           "showlegend": true,
           "textposition": "auto",
           "type": "bar",
           "x": [
            1
           ],
           "xaxis": "x",
           "y": [
            "Netherlands"
           ],
           "yaxis": "y"
          },
          {
           "alignmentgroup": "True",
           "hovertemplate": "Pays=%{y}<br>release_year=1970<br>Nombre cumulé de films=%{x}<extra></extra>",
           "legendgroup": "France",
           "marker": {
            "color": "#19d3f3",
            "pattern": {
             "shape": ""
            }
           },
           "name": "France",
           "offsetgroup": "France",
           "orientation": "h",
           "showlegend": true,
           "textposition": "auto",
           "type": "bar",
           "x": [
            6
           ],
           "xaxis": "x",
           "y": [
            "France"
           ],
           "yaxis": "y"
          },
          {
           "alignmentgroup": "True",
           "hovertemplate": "Pays=%{y}<br>release_year=1970<br>Nombre cumulé de films=%{x}<extra></extra>",
           "legendgroup": "Czech Republic",
           "marker": {
            "color": "#FF6692",
            "pattern": {
             "shape": ""
            }
           },
           "name": "Czech Republic",
           "offsetgroup": "Czech Republic",
           "orientation": "h",
           "showlegend": true,
           "textposition": "auto",
           "type": "bar",
           "x": [
            3
           ],
           "xaxis": "x",
           "y": [
            "Czech Republic"
           ],
           "yaxis": "y"
          },
          {
           "alignmentgroup": "True",
           "hovertemplate": "Pays=%{y}<br>release_year=1970<br>Nombre cumulé de films=%{x}<extra></extra>",
           "legendgroup": "United Kingdom",
           "marker": {
            "color": "#FECB52",
            "pattern": {
             "shape": ""
            }
           },
           "name": "United Kingdom",
           "offsetgroup": "United Kingdom",
           "orientation": "h",
           "showlegend": true,
           "textposition": "auto",
           "type": "bar",
           "x": [
            67
           ],
           "xaxis": "x",
           "y": [
            "United Kingdom"
           ],
           "yaxis": "y"
          },
          {
           "alignmentgroup": "True",
           "hovertemplate": "Pays=%{y}<br>release_year=1970<br>Nombre cumulé de films=%{x}<extra></extra>",
           "legendgroup": "Romania",
           "marker": {
            "color": "#636efa",
            "pattern": {
             "shape": ""
            }
           },
           "name": "Romania",
           "offsetgroup": "Romania",
           "orientation": "h",
           "showlegend": true,
           "textposition": "auto",
           "type": "bar",
           "x": [
            3
           ],
           "xaxis": "x",
           "y": [
            "Romania"
           ],
           "yaxis": "y"
          },
          {
           "alignmentgroup": "True",
           "hovertemplate": "Pays=%{y}<br>release_year=1970<br>Nombre cumulé de films=%{x}<extra></extra>",
           "legendgroup": "Soviet Union",
           "marker": {
            "color": "#EF553B",
            "pattern": {
             "shape": ""
            }
           },
           "name": "Soviet Union",
           "offsetgroup": "Soviet Union",
           "orientation": "h",
           "showlegend": true,
           "textposition": "auto",
           "type": "bar",
           "x": [
            2
           ],
           "xaxis": "x",
           "y": [
            "Soviet Union"
           ],
           "yaxis": "y"
          },
          {
           "alignmentgroup": "True",
           "hovertemplate": "Pays=%{y}<br>release_year=1970<br>Nombre cumulé de films=%{x}<extra></extra>",
           "legendgroup": "Ireland",
           "marker": {
            "color": "#00cc96",
            "pattern": {
             "shape": ""
            }
           },
           "name": "Ireland",
           "offsetgroup": "Ireland",
           "orientation": "h",
           "showlegend": true,
           "textposition": "auto",
           "type": "bar",
           "x": [
            1
           ],
           "xaxis": "x",
           "y": [
            "Ireland"
           ],
           "yaxis": "y"
          },
          {
           "alignmentgroup": "True",
           "hovertemplate": "Pays=%{y}<br>release_year=1970<br>Nombre cumulé de films=%{x}<extra></extra>",
           "legendgroup": "Hungary",
           "marker": {
            "color": "#ab63fa",
            "pattern": {
             "shape": ""
            }
           },
           "name": "Hungary",
           "offsetgroup": "Hungary",
           "orientation": "h",
           "showlegend": true,
           "textposition": "auto",
           "type": "bar",
           "x": [
            1
           ],
           "xaxis": "x",
           "y": [
            "Hungary"
           ],
           "yaxis": "y"
          }
         ],
         "name": "1970"
        },
        {
         "data": [
          {
           "alignmentgroup": "True",
           "hovertemplate": "Pays=%{y}<br>release_year=1971<br>Nombre cumulé de films=%{x}<extra></extra>",
           "legendgroup": "Germany",
           "marker": {
            "color": "#636efa",
            "pattern": {
             "shape": ""
            }
           },
           "name": "Germany",
           "offsetgroup": "Germany",
           "orientation": "h",
           "showlegend": true,
           "textposition": "auto",
           "type": "bar",
           "x": [
            4
           ],
           "xaxis": "x",
           "y": [
            "Germany"
           ],
           "yaxis": "y"
          },
          {
           "alignmentgroup": "True",
           "hovertemplate": "Pays=%{y}<br>release_year=1971<br>Nombre cumulé de films=%{x}<extra></extra>",
           "legendgroup": "United States of America",
           "marker": {
            "color": "#EF553B",
            "pattern": {
             "shape": ""
            }
           },
           "name": "United States of America",
           "offsetgroup": "United States of America",
           "orientation": "h",
           "showlegend": true,
           "textposition": "auto",
           "type": "bar",
           "x": [
            27
           ],
           "xaxis": "x",
           "y": [
            "United States of America"
           ],
           "yaxis": "y"
          },
          {
           "alignmentgroup": "True",
           "hovertemplate": "Pays=%{y}<br>release_year=1971<br>Nombre cumulé de films=%{x}<extra></extra>",
           "legendgroup": "Netherlands",
           "marker": {
            "color": "#ab63fa",
            "pattern": {
             "shape": ""
            }
           },
           "name": "Netherlands",
           "offsetgroup": "Netherlands",
           "orientation": "h",
           "showlegend": true,
           "textposition": "auto",
           "type": "bar",
           "x": [
            1
           ],
           "xaxis": "x",
           "y": [
            "Netherlands"
           ],
           "yaxis": "y"
          },
          {
           "alignmentgroup": "True",
           "hovertemplate": "Pays=%{y}<br>release_year=1971<br>Nombre cumulé de films=%{x}<extra></extra>",
           "legendgroup": "France",
           "marker": {
            "color": "#19d3f3",
            "pattern": {
             "shape": ""
            }
           },
           "name": "France",
           "offsetgroup": "France",
           "orientation": "h",
           "showlegend": true,
           "textposition": "auto",
           "type": "bar",
           "x": [
            6
           ],
           "xaxis": "x",
           "y": [
            "France"
           ],
           "yaxis": "y"
          },
          {
           "alignmentgroup": "True",
           "hovertemplate": "Pays=%{y}<br>release_year=1971<br>Nombre cumulé de films=%{x}<extra></extra>",
           "legendgroup": "Czech Republic",
           "marker": {
            "color": "#FF6692",
            "pattern": {
             "shape": ""
            }
           },
           "name": "Czech Republic",
           "offsetgroup": "Czech Republic",
           "orientation": "h",
           "showlegend": true,
           "textposition": "auto",
           "type": "bar",
           "x": [
            3
           ],
           "xaxis": "x",
           "y": [
            "Czech Republic"
           ],
           "yaxis": "y"
          },
          {
           "alignmentgroup": "True",
           "hovertemplate": "Pays=%{y}<br>release_year=1971<br>Nombre cumulé de films=%{x}<extra></extra>",
           "legendgroup": "United Kingdom",
           "marker": {
            "color": "#FECB52",
            "pattern": {
             "shape": ""
            }
           },
           "name": "United Kingdom",
           "offsetgroup": "United Kingdom",
           "orientation": "h",
           "showlegend": true,
           "textposition": "auto",
           "type": "bar",
           "x": [
            72
           ],
           "xaxis": "x",
           "y": [
            "United Kingdom"
           ],
           "yaxis": "y"
          },
          {
           "alignmentgroup": "True",
           "hovertemplate": "Pays=%{y}<br>release_year=1971<br>Nombre cumulé de films=%{x}<extra></extra>",
           "legendgroup": "Romania",
           "marker": {
            "color": "#636efa",
            "pattern": {
             "shape": ""
            }
           },
           "name": "Romania",
           "offsetgroup": "Romania",
           "orientation": "h",
           "showlegend": true,
           "textposition": "auto",
           "type": "bar",
           "x": [
            3
           ],
           "xaxis": "x",
           "y": [
            "Romania"
           ],
           "yaxis": "y"
          },
          {
           "alignmentgroup": "True",
           "hovertemplate": "Pays=%{y}<br>release_year=1971<br>Nombre cumulé de films=%{x}<extra></extra>",
           "legendgroup": "Soviet Union",
           "marker": {
            "color": "#EF553B",
            "pattern": {
             "shape": ""
            }
           },
           "name": "Soviet Union",
           "offsetgroup": "Soviet Union",
           "orientation": "h",
           "showlegend": true,
           "textposition": "auto",
           "type": "bar",
           "x": [
            2
           ],
           "xaxis": "x",
           "y": [
            "Soviet Union"
           ],
           "yaxis": "y"
          },
          {
           "alignmentgroup": "True",
           "hovertemplate": "Pays=%{y}<br>release_year=1971<br>Nombre cumulé de films=%{x}<extra></extra>",
           "legendgroup": "Ireland",
           "marker": {
            "color": "#00cc96",
            "pattern": {
             "shape": ""
            }
           },
           "name": "Ireland",
           "offsetgroup": "Ireland",
           "orientation": "h",
           "showlegend": true,
           "textposition": "auto",
           "type": "bar",
           "x": [
            1
           ],
           "xaxis": "x",
           "y": [
            "Ireland"
           ],
           "yaxis": "y"
          },
          {
           "alignmentgroup": "True",
           "hovertemplate": "Pays=%{y}<br>release_year=1971<br>Nombre cumulé de films=%{x}<extra></extra>",
           "legendgroup": "Hungary",
           "marker": {
            "color": "#ab63fa",
            "pattern": {
             "shape": ""
            }
           },
           "name": "Hungary",
           "offsetgroup": "Hungary",
           "orientation": "h",
           "showlegend": true,
           "textposition": "auto",
           "type": "bar",
           "x": [
            1
           ],
           "xaxis": "x",
           "y": [
            "Hungary"
           ],
           "yaxis": "y"
          }
         ],
         "name": "1971"
        },
        {
         "data": [
          {
           "alignmentgroup": "True",
           "hovertemplate": "Pays=%{y}<br>release_year=1972<br>Nombre cumulé de films=%{x}<extra></extra>",
           "legendgroup": "Germany",
           "marker": {
            "color": "#636efa",
            "pattern": {
             "shape": ""
            }
           },
           "name": "Germany",
           "offsetgroup": "Germany",
           "orientation": "h",
           "showlegend": true,
           "textposition": "auto",
           "type": "bar",
           "x": [
            4
           ],
           "xaxis": "x",
           "y": [
            "Germany"
           ],
           "yaxis": "y"
          },
          {
           "alignmentgroup": "True",
           "hovertemplate": "Pays=%{y}<br>release_year=1972<br>Nombre cumulé de films=%{x}<extra></extra>",
           "legendgroup": "United States of America",
           "marker": {
            "color": "#EF553B",
            "pattern": {
             "shape": ""
            }
           },
           "name": "United States of America",
           "offsetgroup": "United States of America",
           "orientation": "h",
           "showlegend": true,
           "textposition": "auto",
           "type": "bar",
           "x": [
            27
           ],
           "xaxis": "x",
           "y": [
            "United States of America"
           ],
           "yaxis": "y"
          },
          {
           "alignmentgroup": "True",
           "hovertemplate": "Pays=%{y}<br>release_year=1972<br>Nombre cumulé de films=%{x}<extra></extra>",
           "legendgroup": "Netherlands",
           "marker": {
            "color": "#ab63fa",
            "pattern": {
             "shape": ""
            }
           },
           "name": "Netherlands",
           "offsetgroup": "Netherlands",
           "orientation": "h",
           "showlegend": true,
           "textposition": "auto",
           "type": "bar",
           "x": [
            1
           ],
           "xaxis": "x",
           "y": [
            "Netherlands"
           ],
           "yaxis": "y"
          },
          {
           "alignmentgroup": "True",
           "hovertemplate": "Pays=%{y}<br>release_year=1972<br>Nombre cumulé de films=%{x}<extra></extra>",
           "legendgroup": "France",
           "marker": {
            "color": "#19d3f3",
            "pattern": {
             "shape": ""
            }
           },
           "name": "France",
           "offsetgroup": "France",
           "orientation": "h",
           "showlegend": true,
           "textposition": "auto",
           "type": "bar",
           "x": [
            6
           ],
           "xaxis": "x",
           "y": [
            "France"
           ],
           "yaxis": "y"
          },
          {
           "alignmentgroup": "True",
           "hovertemplate": "Pays=%{y}<br>release_year=1972<br>Nombre cumulé de films=%{x}<extra></extra>",
           "legendgroup": "Czech Republic",
           "marker": {
            "color": "#FF6692",
            "pattern": {
             "shape": ""
            }
           },
           "name": "Czech Republic",
           "offsetgroup": "Czech Republic",
           "orientation": "h",
           "showlegend": true,
           "textposition": "auto",
           "type": "bar",
           "x": [
            3
           ],
           "xaxis": "x",
           "y": [
            "Czech Republic"
           ],
           "yaxis": "y"
          },
          {
           "alignmentgroup": "True",
           "hovertemplate": "Pays=%{y}<br>release_year=1972<br>Nombre cumulé de films=%{x}<extra></extra>",
           "legendgroup": "United Kingdom",
           "marker": {
            "color": "#FECB52",
            "pattern": {
             "shape": ""
            }
           },
           "name": "United Kingdom",
           "offsetgroup": "United Kingdom",
           "orientation": "h",
           "showlegend": true,
           "textposition": "auto",
           "type": "bar",
           "x": [
            73
           ],
           "xaxis": "x",
           "y": [
            "United Kingdom"
           ],
           "yaxis": "y"
          },
          {
           "alignmentgroup": "True",
           "hovertemplate": "Pays=%{y}<br>release_year=1972<br>Nombre cumulé de films=%{x}<extra></extra>",
           "legendgroup": "Romania",
           "marker": {
            "color": "#636efa",
            "pattern": {
             "shape": ""
            }
           },
           "name": "Romania",
           "offsetgroup": "Romania",
           "orientation": "h",
           "showlegend": true,
           "textposition": "auto",
           "type": "bar",
           "x": [
            3
           ],
           "xaxis": "x",
           "y": [
            "Romania"
           ],
           "yaxis": "y"
          },
          {
           "alignmentgroup": "True",
           "hovertemplate": "Pays=%{y}<br>release_year=1972<br>Nombre cumulé de films=%{x}<extra></extra>",
           "legendgroup": "Soviet Union",
           "marker": {
            "color": "#EF553B",
            "pattern": {
             "shape": ""
            }
           },
           "name": "Soviet Union",
           "offsetgroup": "Soviet Union",
           "orientation": "h",
           "showlegend": true,
           "textposition": "auto",
           "type": "bar",
           "x": [
            2
           ],
           "xaxis": "x",
           "y": [
            "Soviet Union"
           ],
           "yaxis": "y"
          },
          {
           "alignmentgroup": "True",
           "hovertemplate": "Pays=%{y}<br>release_year=1972<br>Nombre cumulé de films=%{x}<extra></extra>",
           "legendgroup": "Hungary",
           "marker": {
            "color": "#ab63fa",
            "pattern": {
             "shape": ""
            }
           },
           "name": "Hungary",
           "offsetgroup": "Hungary",
           "orientation": "h",
           "showlegend": true,
           "textposition": "auto",
           "type": "bar",
           "x": [
            1
           ],
           "xaxis": "x",
           "y": [
            "Hungary"
           ],
           "yaxis": "y"
          },
          {
           "alignmentgroup": "True",
           "hovertemplate": "Pays=%{y}<br>release_year=1972<br>Nombre cumulé de films=%{x}<extra></extra>",
           "legendgroup": "Mexico",
           "marker": {
            "color": "#FFA15A",
            "pattern": {
             "shape": ""
            }
           },
           "name": "Mexico",
           "offsetgroup": "Mexico",
           "orientation": "h",
           "showlegend": true,
           "textposition": "auto",
           "type": "bar",
           "x": [
            3
           ],
           "xaxis": "x",
           "y": [
            "Mexico"
           ],
           "yaxis": "y"
          }
         ],
         "name": "1972"
        },
        {
         "data": [
          {
           "alignmentgroup": "True",
           "hovertemplate": "Pays=%{y}<br>release_year=1973<br>Nombre cumulé de films=%{x}<extra></extra>",
           "legendgroup": "Germany",
           "marker": {
            "color": "#636efa",
            "pattern": {
             "shape": ""
            }
           },
           "name": "Germany",
           "offsetgroup": "Germany",
           "orientation": "h",
           "showlegend": true,
           "textposition": "auto",
           "type": "bar",
           "x": [
            7
           ],
           "xaxis": "x",
           "y": [
            "Germany"
           ],
           "yaxis": "y"
          },
          {
           "alignmentgroup": "True",
           "hovertemplate": "Pays=%{y}<br>release_year=1973<br>Nombre cumulé de films=%{x}<extra></extra>",
           "legendgroup": "United States of America",
           "marker": {
            "color": "#EF553B",
            "pattern": {
             "shape": ""
            }
           },
           "name": "United States of America",
           "offsetgroup": "United States of America",
           "orientation": "h",
           "showlegend": true,
           "textposition": "auto",
           "type": "bar",
           "x": [
            28
           ],
           "xaxis": "x",
           "y": [
            "United States of America"
           ],
           "yaxis": "y"
          },
          {
           "alignmentgroup": "True",
           "hovertemplate": "Pays=%{y}<br>release_year=1973<br>Nombre cumulé de films=%{x}<extra></extra>",
           "legendgroup": "Netherlands",
           "marker": {
            "color": "#ab63fa",
            "pattern": {
             "shape": ""
            }
           },
           "name": "Netherlands",
           "offsetgroup": "Netherlands",
           "orientation": "h",
           "showlegend": true,
           "textposition": "auto",
           "type": "bar",
           "x": [
            1
           ],
           "xaxis": "x",
           "y": [
            "Netherlands"
           ],
           "yaxis": "y"
          },
          {
           "alignmentgroup": "True",
           "hovertemplate": "Pays=%{y}<br>release_year=1973<br>Nombre cumulé de films=%{x}<extra></extra>",
           "legendgroup": "France",
           "marker": {
            "color": "#19d3f3",
            "pattern": {
             "shape": ""
            }
           },
           "name": "France",
           "offsetgroup": "France",
           "orientation": "h",
           "showlegend": true,
           "textposition": "auto",
           "type": "bar",
           "x": [
            9
           ],
           "xaxis": "x",
           "y": [
            "France"
           ],
           "yaxis": "y"
          },
          {
           "alignmentgroup": "True",
           "hovertemplate": "Pays=%{y}<br>release_year=1973<br>Nombre cumulé de films=%{x}<extra></extra>",
           "legendgroup": "Czech Republic",
           "marker": {
            "color": "#FF6692",
            "pattern": {
             "shape": ""
            }
           },
           "name": "Czech Republic",
           "offsetgroup": "Czech Republic",
           "orientation": "h",
           "showlegend": true,
           "textposition": "auto",
           "type": "bar",
           "x": [
            3
           ],
           "xaxis": "x",
           "y": [
            "Czech Republic"
           ],
           "yaxis": "y"
          },
          {
           "alignmentgroup": "True",
           "hovertemplate": "Pays=%{y}<br>release_year=1973<br>Nombre cumulé de films=%{x}<extra></extra>",
           "legendgroup": "United Kingdom",
           "marker": {
            "color": "#FECB52",
            "pattern": {
             "shape": ""
            }
           },
           "name": "United Kingdom",
           "offsetgroup": "United Kingdom",
           "orientation": "h",
           "showlegend": true,
           "textposition": "auto",
           "type": "bar",
           "x": [
            78
           ],
           "xaxis": "x",
           "y": [
            "United Kingdom"
           ],
           "yaxis": "y"
          },
          {
           "alignmentgroup": "True",
           "hovertemplate": "Pays=%{y}<br>release_year=1973<br>Nombre cumulé de films=%{x}<extra></extra>",
           "legendgroup": "Romania",
           "marker": {
            "color": "#636efa",
            "pattern": {
             "shape": ""
            }
           },
           "name": "Romania",
           "offsetgroup": "Romania",
           "orientation": "h",
           "showlegend": true,
           "textposition": "auto",
           "type": "bar",
           "x": [
            3
           ],
           "xaxis": "x",
           "y": [
            "Romania"
           ],
           "yaxis": "y"
          },
          {
           "alignmentgroup": "True",
           "hovertemplate": "Pays=%{y}<br>release_year=1973<br>Nombre cumulé de films=%{x}<extra></extra>",
           "legendgroup": "Soviet Union",
           "marker": {
            "color": "#EF553B",
            "pattern": {
             "shape": ""
            }
           },
           "name": "Soviet Union",
           "offsetgroup": "Soviet Union",
           "orientation": "h",
           "showlegend": true,
           "textposition": "auto",
           "type": "bar",
           "x": [
            2
           ],
           "xaxis": "x",
           "y": [
            "Soviet Union"
           ],
           "yaxis": "y"
          },
          {
           "alignmentgroup": "True",
           "hovertemplate": "Pays=%{y}<br>release_year=1973<br>Nombre cumulé de films=%{x}<extra></extra>",
           "legendgroup": "Hungary",
           "marker": {
            "color": "#ab63fa",
            "pattern": {
             "shape": ""
            }
           },
           "name": "Hungary",
           "offsetgroup": "Hungary",
           "orientation": "h",
           "showlegend": true,
           "textposition": "auto",
           "type": "bar",
           "x": [
            1
           ],
           "xaxis": "x",
           "y": [
            "Hungary"
           ],
           "yaxis": "y"
          },
          {
           "alignmentgroup": "True",
           "hovertemplate": "Pays=%{y}<br>release_year=1973<br>Nombre cumulé de films=%{x}<extra></extra>",
           "legendgroup": "Mexico",
           "marker": {
            "color": "#FFA15A",
            "pattern": {
             "shape": ""
            }
           },
           "name": "Mexico",
           "offsetgroup": "Mexico",
           "orientation": "h",
           "showlegend": true,
           "textposition": "auto",
           "type": "bar",
           "x": [
            3
           ],
           "xaxis": "x",
           "y": [
            "Mexico"
           ],
           "yaxis": "y"
          }
         ],
         "name": "1973"
        },
        {
         "data": [
          {
           "alignmentgroup": "True",
           "hovertemplate": "Pays=%{y}<br>release_year=1974<br>Nombre cumulé de films=%{x}<extra></extra>",
           "legendgroup": "Germany",
           "marker": {
            "color": "#636efa",
            "pattern": {
             "shape": ""
            }
           },
           "name": "Germany",
           "offsetgroup": "Germany",
           "orientation": "h",
           "showlegend": true,
           "textposition": "auto",
           "type": "bar",
           "x": [
            7
           ],
           "xaxis": "x",
           "y": [
            "Germany"
           ],
           "yaxis": "y"
          },
          {
           "alignmentgroup": "True",
           "hovertemplate": "Pays=%{y}<br>release_year=1974<br>Nombre cumulé de films=%{x}<extra></extra>",
           "legendgroup": "United States of America",
           "marker": {
            "color": "#EF553B",
            "pattern": {
             "shape": ""
            }
           },
           "name": "United States of America",
           "offsetgroup": "United States of America",
           "orientation": "h",
           "showlegend": true,
           "textposition": "auto",
           "type": "bar",
           "x": [
            28
           ],
           "xaxis": "x",
           "y": [
            "United States of America"
           ],
           "yaxis": "y"
          },
          {
           "alignmentgroup": "True",
           "hovertemplate": "Pays=%{y}<br>release_year=1974<br>Nombre cumulé de films=%{x}<extra></extra>",
           "legendgroup": "Netherlands",
           "marker": {
            "color": "#ab63fa",
            "pattern": {
             "shape": ""
            }
           },
           "name": "Netherlands",
           "offsetgroup": "Netherlands",
           "orientation": "h",
           "showlegend": true,
           "textposition": "auto",
           "type": "bar",
           "x": [
            1
           ],
           "xaxis": "x",
           "y": [
            "Netherlands"
           ],
           "yaxis": "y"
          },
          {
           "alignmentgroup": "True",
           "hovertemplate": "Pays=%{y}<br>release_year=1974<br>Nombre cumulé de films=%{x}<extra></extra>",
           "legendgroup": "France",
           "marker": {
            "color": "#19d3f3",
            "pattern": {
             "shape": ""
            }
           },
           "name": "France",
           "offsetgroup": "France",
           "orientation": "h",
           "showlegend": true,
           "textposition": "auto",
           "type": "bar",
           "x": [
            10
           ],
           "xaxis": "x",
           "y": [
            "France"
           ],
           "yaxis": "y"
          },
          {
           "alignmentgroup": "True",
           "hovertemplate": "Pays=%{y}<br>release_year=1974<br>Nombre cumulé de films=%{x}<extra></extra>",
           "legendgroup": "Czech Republic",
           "marker": {
            "color": "#FF6692",
            "pattern": {
             "shape": ""
            }
           },
           "name": "Czech Republic",
           "offsetgroup": "Czech Republic",
           "orientation": "h",
           "showlegend": true,
           "textposition": "auto",
           "type": "bar",
           "x": [
            3
           ],
           "xaxis": "x",
           "y": [
            "Czech Republic"
           ],
           "yaxis": "y"
          },
          {
           "alignmentgroup": "True",
           "hovertemplate": "Pays=%{y}<br>release_year=1974<br>Nombre cumulé de films=%{x}<extra></extra>",
           "legendgroup": "United Kingdom",
           "marker": {
            "color": "#FECB52",
            "pattern": {
             "shape": ""
            }
           },
           "name": "United Kingdom",
           "offsetgroup": "United Kingdom",
           "orientation": "h",
           "showlegend": true,
           "textposition": "auto",
           "type": "bar",
           "x": [
            79
           ],
           "xaxis": "x",
           "y": [
            "United Kingdom"
           ],
           "yaxis": "y"
          },
          {
           "alignmentgroup": "True",
           "hovertemplate": "Pays=%{y}<br>release_year=1974<br>Nombre cumulé de films=%{x}<extra></extra>",
           "legendgroup": "Romania",
           "marker": {
            "color": "#636efa",
            "pattern": {
             "shape": ""
            }
           },
           "name": "Romania",
           "offsetgroup": "Romania",
           "orientation": "h",
           "showlegend": true,
           "textposition": "auto",
           "type": "bar",
           "x": [
            3
           ],
           "xaxis": "x",
           "y": [
            "Romania"
           ],
           "yaxis": "y"
          },
          {
           "alignmentgroup": "True",
           "hovertemplate": "Pays=%{y}<br>release_year=1974<br>Nombre cumulé de films=%{x}<extra></extra>",
           "legendgroup": "Soviet Union",
           "marker": {
            "color": "#EF553B",
            "pattern": {
             "shape": ""
            }
           },
           "name": "Soviet Union",
           "offsetgroup": "Soviet Union",
           "orientation": "h",
           "showlegend": true,
           "textposition": "auto",
           "type": "bar",
           "x": [
            2
           ],
           "xaxis": "x",
           "y": [
            "Soviet Union"
           ],
           "yaxis": "y"
          },
          {
           "alignmentgroup": "True",
           "hovertemplate": "Pays=%{y}<br>release_year=1974<br>Nombre cumulé de films=%{x}<extra></extra>",
           "legendgroup": "Hungary",
           "marker": {
            "color": "#ab63fa",
            "pattern": {
             "shape": ""
            }
           },
           "name": "Hungary",
           "offsetgroup": "Hungary",
           "orientation": "h",
           "showlegend": true,
           "textposition": "auto",
           "type": "bar",
           "x": [
            1
           ],
           "xaxis": "x",
           "y": [
            "Hungary"
           ],
           "yaxis": "y"
          },
          {
           "alignmentgroup": "True",
           "hovertemplate": "Pays=%{y}<br>release_year=1974<br>Nombre cumulé de films=%{x}<extra></extra>",
           "legendgroup": "Mexico",
           "marker": {
            "color": "#FFA15A",
            "pattern": {
             "shape": ""
            }
           },
           "name": "Mexico",
           "offsetgroup": "Mexico",
           "orientation": "h",
           "showlegend": true,
           "textposition": "auto",
           "type": "bar",
           "x": [
            3
           ],
           "xaxis": "x",
           "y": [
            "Mexico"
           ],
           "yaxis": "y"
          }
         ],
         "name": "1974"
        },
        {
         "data": [
          {
           "alignmentgroup": "True",
           "hovertemplate": "Pays=%{y}<br>release_year=1975<br>Nombre cumulé de films=%{x}<extra></extra>",
           "legendgroup": "Germany",
           "marker": {
            "color": "#636efa",
            "pattern": {
             "shape": ""
            }
           },
           "name": "Germany",
           "offsetgroup": "Germany",
           "orientation": "h",
           "showlegend": true,
           "textposition": "auto",
           "type": "bar",
           "x": [
            7
           ],
           "xaxis": "x",
           "y": [
            "Germany"
           ],
           "yaxis": "y"
          },
          {
           "alignmentgroup": "True",
           "hovertemplate": "Pays=%{y}<br>release_year=1975<br>Nombre cumulé de films=%{x}<extra></extra>",
           "legendgroup": "United States of America",
           "marker": {
            "color": "#EF553B",
            "pattern": {
             "shape": ""
            }
           },
           "name": "United States of America",
           "offsetgroup": "United States of America",
           "orientation": "h",
           "showlegend": true,
           "textposition": "auto",
           "type": "bar",
           "x": [
            30
           ],
           "xaxis": "x",
           "y": [
            "United States of America"
           ],
           "yaxis": "y"
          },
          {
           "alignmentgroup": "True",
           "hovertemplate": "Pays=%{y}<br>release_year=1975<br>Nombre cumulé de films=%{x}<extra></extra>",
           "legendgroup": "Netherlands",
           "marker": {
            "color": "#ab63fa",
            "pattern": {
             "shape": ""
            }
           },
           "name": "Netherlands",
           "offsetgroup": "Netherlands",
           "orientation": "h",
           "showlegend": true,
           "textposition": "auto",
           "type": "bar",
           "x": [
            1
           ],
           "xaxis": "x",
           "y": [
            "Netherlands"
           ],
           "yaxis": "y"
          },
          {
           "alignmentgroup": "True",
           "hovertemplate": "Pays=%{y}<br>release_year=1975<br>Nombre cumulé de films=%{x}<extra></extra>",
           "legendgroup": "France",
           "marker": {
            "color": "#19d3f3",
            "pattern": {
             "shape": ""
            }
           },
           "name": "France",
           "offsetgroup": "France",
           "orientation": "h",
           "showlegend": true,
           "textposition": "auto",
           "type": "bar",
           "x": [
            10
           ],
           "xaxis": "x",
           "y": [
            "France"
           ],
           "yaxis": "y"
          },
          {
           "alignmentgroup": "True",
           "hovertemplate": "Pays=%{y}<br>release_year=1975<br>Nombre cumulé de films=%{x}<extra></extra>",
           "legendgroup": "Czech Republic",
           "marker": {
            "color": "#FF6692",
            "pattern": {
             "shape": ""
            }
           },
           "name": "Czech Republic",
           "offsetgroup": "Czech Republic",
           "orientation": "h",
           "showlegend": true,
           "textposition": "auto",
           "type": "bar",
           "x": [
            3
           ],
           "xaxis": "x",
           "y": [
            "Czech Republic"
           ],
           "yaxis": "y"
          },
          {
           "alignmentgroup": "True",
           "hovertemplate": "Pays=%{y}<br>release_year=1975<br>Nombre cumulé de films=%{x}<extra></extra>",
           "legendgroup": "United Kingdom",
           "marker": {
            "color": "#FECB52",
            "pattern": {
             "shape": ""
            }
           },
           "name": "United Kingdom",
           "offsetgroup": "United Kingdom",
           "orientation": "h",
           "showlegend": true,
           "textposition": "auto",
           "type": "bar",
           "x": [
            81
           ],
           "xaxis": "x",
           "y": [
            "United Kingdom"
           ],
           "yaxis": "y"
          },
          {
           "alignmentgroup": "True",
           "hovertemplate": "Pays=%{y}<br>release_year=1975<br>Nombre cumulé de films=%{x}<extra></extra>",
           "legendgroup": "Romania",
           "marker": {
            "color": "#636efa",
            "pattern": {
             "shape": ""
            }
           },
           "name": "Romania",
           "offsetgroup": "Romania",
           "orientation": "h",
           "showlegend": true,
           "textposition": "auto",
           "type": "bar",
           "x": [
            3
           ],
           "xaxis": "x",
           "y": [
            "Romania"
           ],
           "yaxis": "y"
          },
          {
           "alignmentgroup": "True",
           "hovertemplate": "Pays=%{y}<br>release_year=1975<br>Nombre cumulé de films=%{x}<extra></extra>",
           "legendgroup": "Soviet Union",
           "marker": {
            "color": "#EF553B",
            "pattern": {
             "shape": ""
            }
           },
           "name": "Soviet Union",
           "offsetgroup": "Soviet Union",
           "orientation": "h",
           "showlegend": true,
           "textposition": "auto",
           "type": "bar",
           "x": [
            2
           ],
           "xaxis": "x",
           "y": [
            "Soviet Union"
           ],
           "yaxis": "y"
          },
          {
           "alignmentgroup": "True",
           "hovertemplate": "Pays=%{y}<br>release_year=1975<br>Nombre cumulé de films=%{x}<extra></extra>",
           "legendgroup": "Hungary",
           "marker": {
            "color": "#ab63fa",
            "pattern": {
             "shape": ""
            }
           },
           "name": "Hungary",
           "offsetgroup": "Hungary",
           "orientation": "h",
           "showlegend": true,
           "textposition": "auto",
           "type": "bar",
           "x": [
            2
           ],
           "xaxis": "x",
           "y": [
            "Hungary"
           ],
           "yaxis": "y"
          },
          {
           "alignmentgroup": "True",
           "hovertemplate": "Pays=%{y}<br>release_year=1975<br>Nombre cumulé de films=%{x}<extra></extra>",
           "legendgroup": "Mexico",
           "marker": {
            "color": "#FFA15A",
            "pattern": {
             "shape": ""
            }
           },
           "name": "Mexico",
           "offsetgroup": "Mexico",
           "orientation": "h",
           "showlegend": true,
           "textposition": "auto",
           "type": "bar",
           "x": [
            3
           ],
           "xaxis": "x",
           "y": [
            "Mexico"
           ],
           "yaxis": "y"
          }
         ],
         "name": "1975"
        },
        {
         "data": [
          {
           "alignmentgroup": "True",
           "hovertemplate": "Pays=%{y}<br>release_year=1976<br>Nombre cumulé de films=%{x}<extra></extra>",
           "legendgroup": "Germany",
           "marker": {
            "color": "#636efa",
            "pattern": {
             "shape": ""
            }
           },
           "name": "Germany",
           "offsetgroup": "Germany",
           "orientation": "h",
           "showlegend": true,
           "textposition": "auto",
           "type": "bar",
           "x": [
            7
           ],
           "xaxis": "x",
           "y": [
            "Germany"
           ],
           "yaxis": "y"
          },
          {
           "alignmentgroup": "True",
           "hovertemplate": "Pays=%{y}<br>release_year=1976<br>Nombre cumulé de films=%{x}<extra></extra>",
           "legendgroup": "United States of America",
           "marker": {
            "color": "#EF553B",
            "pattern": {
             "shape": ""
            }
           },
           "name": "United States of America",
           "offsetgroup": "United States of America",
           "orientation": "h",
           "showlegend": true,
           "textposition": "auto",
           "type": "bar",
           "x": [
            33
           ],
           "xaxis": "x",
           "y": [
            "United States of America"
           ],
           "yaxis": "y"
          },
          {
           "alignmentgroup": "True",
           "hovertemplate": "Pays=%{y}<br>release_year=1976<br>Nombre cumulé de films=%{x}<extra></extra>",
           "legendgroup": "Canada",
           "marker": {
            "color": "#FFA15A",
            "pattern": {
             "shape": ""
            }
           },
           "name": "Canada",
           "offsetgroup": "Canada",
           "orientation": "h",
           "showlegend": true,
           "textposition": "auto",
           "type": "bar",
           "x": [
            2
           ],
           "xaxis": "x",
           "y": [
            "Canada"
           ],
           "yaxis": "y"
          },
          {
           "alignmentgroup": "True",
           "hovertemplate": "Pays=%{y}<br>release_year=1976<br>Nombre cumulé de films=%{x}<extra></extra>",
           "legendgroup": "France",
           "marker": {
            "color": "#19d3f3",
            "pattern": {
             "shape": ""
            }
           },
           "name": "France",
           "offsetgroup": "France",
           "orientation": "h",
           "showlegend": true,
           "textposition": "auto",
           "type": "bar",
           "x": [
            10
           ],
           "xaxis": "x",
           "y": [
            "France"
           ],
           "yaxis": "y"
          },
          {
           "alignmentgroup": "True",
           "hovertemplate": "Pays=%{y}<br>release_year=1976<br>Nombre cumulé de films=%{x}<extra></extra>",
           "legendgroup": "Czech Republic",
           "marker": {
            "color": "#FF6692",
            "pattern": {
             "shape": ""
            }
           },
           "name": "Czech Republic",
           "offsetgroup": "Czech Republic",
           "orientation": "h",
           "showlegend": true,
           "textposition": "auto",
           "type": "bar",
           "x": [
            3
           ],
           "xaxis": "x",
           "y": [
            "Czech Republic"
           ],
           "yaxis": "y"
          },
          {
           "alignmentgroup": "True",
           "hovertemplate": "Pays=%{y}<br>release_year=1976<br>Nombre cumulé de films=%{x}<extra></extra>",
           "legendgroup": "United Kingdom",
           "marker": {
            "color": "#FECB52",
            "pattern": {
             "shape": ""
            }
           },
           "name": "United Kingdom",
           "offsetgroup": "United Kingdom",
           "orientation": "h",
           "showlegend": true,
           "textposition": "auto",
           "type": "bar",
           "x": [
            85
           ],
           "xaxis": "x",
           "y": [
            "United Kingdom"
           ],
           "yaxis": "y"
          },
          {
           "alignmentgroup": "True",
           "hovertemplate": "Pays=%{y}<br>release_year=1976<br>Nombre cumulé de films=%{x}<extra></extra>",
           "legendgroup": "Romania",
           "marker": {
            "color": "#636efa",
            "pattern": {
             "shape": ""
            }
           },
           "name": "Romania",
           "offsetgroup": "Romania",
           "orientation": "h",
           "showlegend": true,
           "textposition": "auto",
           "type": "bar",
           "x": [
            3
           ],
           "xaxis": "x",
           "y": [
            "Romania"
           ],
           "yaxis": "y"
          },
          {
           "alignmentgroup": "True",
           "hovertemplate": "Pays=%{y}<br>release_year=1976<br>Nombre cumulé de films=%{x}<extra></extra>",
           "legendgroup": "Soviet Union",
           "marker": {
            "color": "#EF553B",
            "pattern": {
             "shape": ""
            }
           },
           "name": "Soviet Union",
           "offsetgroup": "Soviet Union",
           "orientation": "h",
           "showlegend": true,
           "textposition": "auto",
           "type": "bar",
           "x": [
            2
           ],
           "xaxis": "x",
           "y": [
            "Soviet Union"
           ],
           "yaxis": "y"
          },
          {
           "alignmentgroup": "True",
           "hovertemplate": "Pays=%{y}<br>release_year=1976<br>Nombre cumulé de films=%{x}<extra></extra>",
           "legendgroup": "Hungary",
           "marker": {
            "color": "#ab63fa",
            "pattern": {
             "shape": ""
            }
           },
           "name": "Hungary",
           "offsetgroup": "Hungary",
           "orientation": "h",
           "showlegend": true,
           "textposition": "auto",
           "type": "bar",
           "x": [
            2
           ],
           "xaxis": "x",
           "y": [
            "Hungary"
           ],
           "yaxis": "y"
          },
          {
           "alignmentgroup": "True",
           "hovertemplate": "Pays=%{y}<br>release_year=1976<br>Nombre cumulé de films=%{x}<extra></extra>",
           "legendgroup": "Mexico",
           "marker": {
            "color": "#FFA15A",
            "pattern": {
             "shape": ""
            }
           },
           "name": "Mexico",
           "offsetgroup": "Mexico",
           "orientation": "h",
           "showlegend": true,
           "textposition": "auto",
           "type": "bar",
           "x": [
            3
           ],
           "xaxis": "x",
           "y": [
            "Mexico"
           ],
           "yaxis": "y"
          }
         ],
         "name": "1976"
        },
        {
         "data": [
          {
           "alignmentgroup": "True",
           "hovertemplate": "Pays=%{y}<br>release_year=1977<br>Nombre cumulé de films=%{x}<extra></extra>",
           "legendgroup": "Germany",
           "marker": {
            "color": "#636efa",
            "pattern": {
             "shape": ""
            }
           },
           "name": "Germany",
           "offsetgroup": "Germany",
           "orientation": "h",
           "showlegend": true,
           "textposition": "auto",
           "type": "bar",
           "x": [
            7
           ],
           "xaxis": "x",
           "y": [
            "Germany"
           ],
           "yaxis": "y"
          },
          {
           "alignmentgroup": "True",
           "hovertemplate": "Pays=%{y}<br>release_year=1977<br>Nombre cumulé de films=%{x}<extra></extra>",
           "legendgroup": "United States of America",
           "marker": {
            "color": "#EF553B",
            "pattern": {
             "shape": ""
            }
           },
           "name": "United States of America",
           "offsetgroup": "United States of America",
           "orientation": "h",
           "showlegend": true,
           "textposition": "auto",
           "type": "bar",
           "x": [
            33
           ],
           "xaxis": "x",
           "y": [
            "United States of America"
           ],
           "yaxis": "y"
          },
          {
           "alignmentgroup": "True",
           "hovertemplate": "Pays=%{y}<br>release_year=1977<br>Nombre cumulé de films=%{x}<extra></extra>",
           "legendgroup": "Canada",
           "marker": {
            "color": "#FFA15A",
            "pattern": {
             "shape": ""
            }
           },
           "name": "Canada",
           "offsetgroup": "Canada",
           "orientation": "h",
           "showlegend": true,
           "textposition": "auto",
           "type": "bar",
           "x": [
            2
           ],
           "xaxis": "x",
           "y": [
            "Canada"
           ],
           "yaxis": "y"
          },
          {
           "alignmentgroup": "True",
           "hovertemplate": "Pays=%{y}<br>release_year=1977<br>Nombre cumulé de films=%{x}<extra></extra>",
           "legendgroup": "France",
           "marker": {
            "color": "#19d3f3",
            "pattern": {
             "shape": ""
            }
           },
           "name": "France",
           "offsetgroup": "France",
           "orientation": "h",
           "showlegend": true,
           "textposition": "auto",
           "type": "bar",
           "x": [
            10
           ],
           "xaxis": "x",
           "y": [
            "France"
           ],
           "yaxis": "y"
          },
          {
           "alignmentgroup": "True",
           "hovertemplate": "Pays=%{y}<br>release_year=1977<br>Nombre cumulé de films=%{x}<extra></extra>",
           "legendgroup": "Czech Republic",
           "marker": {
            "color": "#FF6692",
            "pattern": {
             "shape": ""
            }
           },
           "name": "Czech Republic",
           "offsetgroup": "Czech Republic",
           "orientation": "h",
           "showlegend": true,
           "textposition": "auto",
           "type": "bar",
           "x": [
            3
           ],
           "xaxis": "x",
           "y": [
            "Czech Republic"
           ],
           "yaxis": "y"
          },
          {
           "alignmentgroup": "True",
           "hovertemplate": "Pays=%{y}<br>release_year=1977<br>Nombre cumulé de films=%{x}<extra></extra>",
           "legendgroup": "United Kingdom",
           "marker": {
            "color": "#FECB52",
            "pattern": {
             "shape": ""
            }
           },
           "name": "United Kingdom",
           "offsetgroup": "United Kingdom",
           "orientation": "h",
           "showlegend": true,
           "textposition": "auto",
           "type": "bar",
           "x": [
            85
           ],
           "xaxis": "x",
           "y": [
            "United Kingdom"
           ],
           "yaxis": "y"
          },
          {
           "alignmentgroup": "True",
           "hovertemplate": "Pays=%{y}<br>release_year=1977<br>Nombre cumulé de films=%{x}<extra></extra>",
           "legendgroup": "Romania",
           "marker": {
            "color": "#636efa",
            "pattern": {
             "shape": ""
            }
           },
           "name": "Romania",
           "offsetgroup": "Romania",
           "orientation": "h",
           "showlegend": true,
           "textposition": "auto",
           "type": "bar",
           "x": [
            3
           ],
           "xaxis": "x",
           "y": [
            "Romania"
           ],
           "yaxis": "y"
          },
          {
           "alignmentgroup": "True",
           "hovertemplate": "Pays=%{y}<br>release_year=1977<br>Nombre cumulé de films=%{x}<extra></extra>",
           "legendgroup": "Soviet Union",
           "marker": {
            "color": "#EF553B",
            "pattern": {
             "shape": ""
            }
           },
           "name": "Soviet Union",
           "offsetgroup": "Soviet Union",
           "orientation": "h",
           "showlegend": true,
           "textposition": "auto",
           "type": "bar",
           "x": [
            2
           ],
           "xaxis": "x",
           "y": [
            "Soviet Union"
           ],
           "yaxis": "y"
          },
          {
           "alignmentgroup": "True",
           "hovertemplate": "Pays=%{y}<br>release_year=1977<br>Nombre cumulé de films=%{x}<extra></extra>",
           "legendgroup": "Hungary",
           "marker": {
            "color": "#ab63fa",
            "pattern": {
             "shape": ""
            }
           },
           "name": "Hungary",
           "offsetgroup": "Hungary",
           "orientation": "h",
           "showlegend": true,
           "textposition": "auto",
           "type": "bar",
           "x": [
            2
           ],
           "xaxis": "x",
           "y": [
            "Hungary"
           ],
           "yaxis": "y"
          },
          {
           "alignmentgroup": "True",
           "hovertemplate": "Pays=%{y}<br>release_year=1977<br>Nombre cumulé de films=%{x}<extra></extra>",
           "legendgroup": "Mexico",
           "marker": {
            "color": "#FFA15A",
            "pattern": {
             "shape": ""
            }
           },
           "name": "Mexico",
           "offsetgroup": "Mexico",
           "orientation": "h",
           "showlegend": true,
           "textposition": "auto",
           "type": "bar",
           "x": [
            3
           ],
           "xaxis": "x",
           "y": [
            "Mexico"
           ],
           "yaxis": "y"
          }
         ],
         "name": "1977"
        },
        {
         "data": [
          {
           "alignmentgroup": "True",
           "hovertemplate": "Pays=%{y}<br>release_year=1978<br>Nombre cumulé de films=%{x}<extra></extra>",
           "legendgroup": "Germany",
           "marker": {
            "color": "#636efa",
            "pattern": {
             "shape": ""
            }
           },
           "name": "Germany",
           "offsetgroup": "Germany",
           "orientation": "h",
           "showlegend": true,
           "textposition": "auto",
           "type": "bar",
           "x": [
            7
           ],
           "xaxis": "x",
           "y": [
            "Germany"
           ],
           "yaxis": "y"
          },
          {
           "alignmentgroup": "True",
           "hovertemplate": "Pays=%{y}<br>release_year=1978<br>Nombre cumulé de films=%{x}<extra></extra>",
           "legendgroup": "United States of America",
           "marker": {
            "color": "#EF553B",
            "pattern": {
             "shape": ""
            }
           },
           "name": "United States of America",
           "offsetgroup": "United States of America",
           "orientation": "h",
           "showlegend": true,
           "textposition": "auto",
           "type": "bar",
           "x": [
            36
           ],
           "xaxis": "x",
           "y": [
            "United States of America"
           ],
           "yaxis": "y"
          },
          {
           "alignmentgroup": "True",
           "hovertemplate": "Pays=%{y}<br>release_year=1978<br>Nombre cumulé de films=%{x}<extra></extra>",
           "legendgroup": "Canada",
           "marker": {
            "color": "#FFA15A",
            "pattern": {
             "shape": ""
            }
           },
           "name": "Canada",
           "offsetgroup": "Canada",
           "orientation": "h",
           "showlegend": true,
           "textposition": "auto",
           "type": "bar",
           "x": [
            2
           ],
           "xaxis": "x",
           "y": [
            "Canada"
           ],
           "yaxis": "y"
          },
          {
           "alignmentgroup": "True",
           "hovertemplate": "Pays=%{y}<br>release_year=1978<br>Nombre cumulé de films=%{x}<extra></extra>",
           "legendgroup": "France",
           "marker": {
            "color": "#19d3f3",
            "pattern": {
             "shape": ""
            }
           },
           "name": "France",
           "offsetgroup": "France",
           "orientation": "h",
           "showlegend": true,
           "textposition": "auto",
           "type": "bar",
           "x": [
            10
           ],
           "xaxis": "x",
           "y": [
            "France"
           ],
           "yaxis": "y"
          },
          {
           "alignmentgroup": "True",
           "hovertemplate": "Pays=%{y}<br>release_year=1978<br>Nombre cumulé de films=%{x}<extra></extra>",
           "legendgroup": "Czech Republic",
           "marker": {
            "color": "#FF6692",
            "pattern": {
             "shape": ""
            }
           },
           "name": "Czech Republic",
           "offsetgroup": "Czech Republic",
           "orientation": "h",
           "showlegend": true,
           "textposition": "auto",
           "type": "bar",
           "x": [
            3
           ],
           "xaxis": "x",
           "y": [
            "Czech Republic"
           ],
           "yaxis": "y"
          },
          {
           "alignmentgroup": "True",
           "hovertemplate": "Pays=%{y}<br>release_year=1978<br>Nombre cumulé de films=%{x}<extra></extra>",
           "legendgroup": "United Kingdom",
           "marker": {
            "color": "#FECB52",
            "pattern": {
             "shape": ""
            }
           },
           "name": "United Kingdom",
           "offsetgroup": "United Kingdom",
           "orientation": "h",
           "showlegend": true,
           "textposition": "auto",
           "type": "bar",
           "x": [
            86
           ],
           "xaxis": "x",
           "y": [
            "United Kingdom"
           ],
           "yaxis": "y"
          },
          {
           "alignmentgroup": "True",
           "hovertemplate": "Pays=%{y}<br>release_year=1978<br>Nombre cumulé de films=%{x}<extra></extra>",
           "legendgroup": "Romania",
           "marker": {
            "color": "#636efa",
            "pattern": {
             "shape": ""
            }
           },
           "name": "Romania",
           "offsetgroup": "Romania",
           "orientation": "h",
           "showlegend": true,
           "textposition": "auto",
           "type": "bar",
           "x": [
            3
           ],
           "xaxis": "x",
           "y": [
            "Romania"
           ],
           "yaxis": "y"
          },
          {
           "alignmentgroup": "True",
           "hovertemplate": "Pays=%{y}<br>release_year=1978<br>Nombre cumulé de films=%{x}<extra></extra>",
           "legendgroup": "Soviet Union",
           "marker": {
            "color": "#EF553B",
            "pattern": {
             "shape": ""
            }
           },
           "name": "Soviet Union",
           "offsetgroup": "Soviet Union",
           "orientation": "h",
           "showlegend": true,
           "textposition": "auto",
           "type": "bar",
           "x": [
            2
           ],
           "xaxis": "x",
           "y": [
            "Soviet Union"
           ],
           "yaxis": "y"
          },
          {
           "alignmentgroup": "True",
           "hovertemplate": "Pays=%{y}<br>release_year=1978<br>Nombre cumulé de films=%{x}<extra></extra>",
           "legendgroup": "Hungary",
           "marker": {
            "color": "#ab63fa",
            "pattern": {
             "shape": ""
            }
           },
           "name": "Hungary",
           "offsetgroup": "Hungary",
           "orientation": "h",
           "showlegend": true,
           "textposition": "auto",
           "type": "bar",
           "x": [
            2
           ],
           "xaxis": "x",
           "y": [
            "Hungary"
           ],
           "yaxis": "y"
          },
          {
           "alignmentgroup": "True",
           "hovertemplate": "Pays=%{y}<br>release_year=1978<br>Nombre cumulé de films=%{x}<extra></extra>",
           "legendgroup": "Mexico",
           "marker": {
            "color": "#FFA15A",
            "pattern": {
             "shape": ""
            }
           },
           "name": "Mexico",
           "offsetgroup": "Mexico",
           "orientation": "h",
           "showlegend": true,
           "textposition": "auto",
           "type": "bar",
           "x": [
            3
           ],
           "xaxis": "x",
           "y": [
            "Mexico"
           ],
           "yaxis": "y"
          }
         ],
         "name": "1978"
        },
        {
         "data": [
          {
           "alignmentgroup": "True",
           "hovertemplate": "Pays=%{y}<br>release_year=1979<br>Nombre cumulé de films=%{x}<extra></extra>",
           "legendgroup": "Germany",
           "marker": {
            "color": "#636efa",
            "pattern": {
             "shape": ""
            }
           },
           "name": "Germany",
           "offsetgroup": "Germany",
           "orientation": "h",
           "showlegend": true,
           "textposition": "auto",
           "type": "bar",
           "x": [
            7
           ],
           "xaxis": "x",
           "y": [
            "Germany"
           ],
           "yaxis": "y"
          },
          {
           "alignmentgroup": "True",
           "hovertemplate": "Pays=%{y}<br>release_year=1979<br>Nombre cumulé de films=%{x}<extra></extra>",
           "legendgroup": "United States of America",
           "marker": {
            "color": "#EF553B",
            "pattern": {
             "shape": ""
            }
           },
           "name": "United States of America",
           "offsetgroup": "United States of America",
           "orientation": "h",
           "showlegend": true,
           "textposition": "auto",
           "type": "bar",
           "x": [
            39
           ],
           "xaxis": "x",
           "y": [
            "United States of America"
           ],
           "yaxis": "y"
          },
          {
           "alignmentgroup": "True",
           "hovertemplate": "Pays=%{y}<br>release_year=1979<br>Nombre cumulé de films=%{x}<extra></extra>",
           "legendgroup": "Canada",
           "marker": {
            "color": "#FFA15A",
            "pattern": {
             "shape": ""
            }
           },
           "name": "Canada",
           "offsetgroup": "Canada",
           "orientation": "h",
           "showlegend": true,
           "textposition": "auto",
           "type": "bar",
           "x": [
            2
           ],
           "xaxis": "x",
           "y": [
            "Canada"
           ],
           "yaxis": "y"
          },
          {
           "alignmentgroup": "True",
           "hovertemplate": "Pays=%{y}<br>release_year=1979<br>Nombre cumulé de films=%{x}<extra></extra>",
           "legendgroup": "France",
           "marker": {
            "color": "#19d3f3",
            "pattern": {
             "shape": ""
            }
           },
           "name": "France",
           "offsetgroup": "France",
           "orientation": "h",
           "showlegend": true,
           "textposition": "auto",
           "type": "bar",
           "x": [
            10
           ],
           "xaxis": "x",
           "y": [
            "France"
           ],
           "yaxis": "y"
          },
          {
           "alignmentgroup": "True",
           "hovertemplate": "Pays=%{y}<br>release_year=1979<br>Nombre cumulé de films=%{x}<extra></extra>",
           "legendgroup": "Czech Republic",
           "marker": {
            "color": "#FF6692",
            "pattern": {
             "shape": ""
            }
           },
           "name": "Czech Republic",
           "offsetgroup": "Czech Republic",
           "orientation": "h",
           "showlegend": true,
           "textposition": "auto",
           "type": "bar",
           "x": [
            3
           ],
           "xaxis": "x",
           "y": [
            "Czech Republic"
           ],
           "yaxis": "y"
          },
          {
           "alignmentgroup": "True",
           "hovertemplate": "Pays=%{y}<br>release_year=1979<br>Nombre cumulé de films=%{x}<extra></extra>",
           "legendgroup": "United Kingdom",
           "marker": {
            "color": "#FECB52",
            "pattern": {
             "shape": ""
            }
           },
           "name": "United Kingdom",
           "offsetgroup": "United Kingdom",
           "orientation": "h",
           "showlegend": true,
           "textposition": "auto",
           "type": "bar",
           "x": [
            89
           ],
           "xaxis": "x",
           "y": [
            "United Kingdom"
           ],
           "yaxis": "y"
          },
          {
           "alignmentgroup": "True",
           "hovertemplate": "Pays=%{y}<br>release_year=1979<br>Nombre cumulé de films=%{x}<extra></extra>",
           "legendgroup": "Romania",
           "marker": {
            "color": "#636efa",
            "pattern": {
             "shape": ""
            }
           },
           "name": "Romania",
           "offsetgroup": "Romania",
           "orientation": "h",
           "showlegend": true,
           "textposition": "auto",
           "type": "bar",
           "x": [
            6
           ],
           "xaxis": "x",
           "y": [
            "Romania"
           ],
           "yaxis": "y"
          },
          {
           "alignmentgroup": "True",
           "hovertemplate": "Pays=%{y}<br>release_year=1979<br>Nombre cumulé de films=%{x}<extra></extra>",
           "legendgroup": "Hungary",
           "marker": {
            "color": "#ab63fa",
            "pattern": {
             "shape": ""
            }
           },
           "name": "Hungary",
           "offsetgroup": "Hungary",
           "orientation": "h",
           "showlegend": true,
           "textposition": "auto",
           "type": "bar",
           "x": [
            2
           ],
           "xaxis": "x",
           "y": [
            "Hungary"
           ],
           "yaxis": "y"
          },
          {
           "alignmentgroup": "True",
           "hovertemplate": "Pays=%{y}<br>release_year=1979<br>Nombre cumulé de films=%{x}<extra></extra>",
           "legendgroup": "Mexico",
           "marker": {
            "color": "#FFA15A",
            "pattern": {
             "shape": ""
            }
           },
           "name": "Mexico",
           "offsetgroup": "Mexico",
           "orientation": "h",
           "showlegend": true,
           "textposition": "auto",
           "type": "bar",
           "x": [
            3
           ],
           "xaxis": "x",
           "y": [
            "Mexico"
           ],
           "yaxis": "y"
          },
          {
           "alignmentgroup": "True",
           "hovertemplate": "Pays=%{y}<br>release_year=1979<br>Nombre cumulé de films=%{x}<extra></extra>",
           "legendgroup": "Italy",
           "marker": {
            "color": "#19d3f3",
            "pattern": {
             "shape": ""
            }
           },
           "name": "Italy",
           "offsetgroup": "Italy",
           "orientation": "h",
           "showlegend": true,
           "textposition": "auto",
           "type": "bar",
           "x": [
            3
           ],
           "xaxis": "x",
           "y": [
            "Italy"
           ],
           "yaxis": "y"
          }
         ],
         "name": "1979"
        },
        {
         "data": [
          {
           "alignmentgroup": "True",
           "hovertemplate": "Pays=%{y}<br>release_year=1980<br>Nombre cumulé de films=%{x}<extra></extra>",
           "legendgroup": "Germany",
           "marker": {
            "color": "#636efa",
            "pattern": {
             "shape": ""
            }
           },
           "name": "Germany",
           "offsetgroup": "Germany",
           "orientation": "h",
           "showlegend": true,
           "textposition": "auto",
           "type": "bar",
           "x": [
            7
           ],
           "xaxis": "x",
           "y": [
            "Germany"
           ],
           "yaxis": "y"
          },
          {
           "alignmentgroup": "True",
           "hovertemplate": "Pays=%{y}<br>release_year=1980<br>Nombre cumulé de films=%{x}<extra></extra>",
           "legendgroup": "United States of America",
           "marker": {
            "color": "#EF553B",
            "pattern": {
             "shape": ""
            }
           },
           "name": "United States of America",
           "offsetgroup": "United States of America",
           "orientation": "h",
           "showlegend": true,
           "textposition": "auto",
           "type": "bar",
           "x": [
            42
           ],
           "xaxis": "x",
           "y": [
            "United States of America"
           ],
           "yaxis": "y"
          },
          {
           "alignmentgroup": "True",
           "hovertemplate": "Pays=%{y}<br>release_year=1980<br>Nombre cumulé de films=%{x}<extra></extra>",
           "legendgroup": "Canada",
           "marker": {
            "color": "#FFA15A",
            "pattern": {
             "shape": ""
            }
           },
           "name": "Canada",
           "offsetgroup": "Canada",
           "orientation": "h",
           "showlegend": true,
           "textposition": "auto",
           "type": "bar",
           "x": [
            3
           ],
           "xaxis": "x",
           "y": [
            "Canada"
           ],
           "yaxis": "y"
          },
          {
           "alignmentgroup": "True",
           "hovertemplate": "Pays=%{y}<br>release_year=1980<br>Nombre cumulé de films=%{x}<extra></extra>",
           "legendgroup": "France",
           "marker": {
            "color": "#19d3f3",
            "pattern": {
             "shape": ""
            }
           },
           "name": "France",
           "offsetgroup": "France",
           "orientation": "h",
           "showlegend": true,
           "textposition": "auto",
           "type": "bar",
           "x": [
            10
           ],
           "xaxis": "x",
           "y": [
            "France"
           ],
           "yaxis": "y"
          },
          {
           "alignmentgroup": "True",
           "hovertemplate": "Pays=%{y}<br>release_year=1980<br>Nombre cumulé de films=%{x}<extra></extra>",
           "legendgroup": "Czech Republic",
           "marker": {
            "color": "#FF6692",
            "pattern": {
             "shape": ""
            }
           },
           "name": "Czech Republic",
           "offsetgroup": "Czech Republic",
           "orientation": "h",
           "showlegend": true,
           "textposition": "auto",
           "type": "bar",
           "x": [
            3
           ],
           "xaxis": "x",
           "y": [
            "Czech Republic"
           ],
           "yaxis": "y"
          },
          {
           "alignmentgroup": "True",
           "hovertemplate": "Pays=%{y}<br>release_year=1980<br>Nombre cumulé de films=%{x}<extra></extra>",
           "legendgroup": "United Kingdom",
           "marker": {
            "color": "#FECB52",
            "pattern": {
             "shape": ""
            }
           },
           "name": "United Kingdom",
           "offsetgroup": "United Kingdom",
           "orientation": "h",
           "showlegend": true,
           "textposition": "auto",
           "type": "bar",
           "x": [
            89
           ],
           "xaxis": "x",
           "y": [
            "United Kingdom"
           ],
           "yaxis": "y"
          },
          {
           "alignmentgroup": "True",
           "hovertemplate": "Pays=%{y}<br>release_year=1980<br>Nombre cumulé de films=%{x}<extra></extra>",
           "legendgroup": "Romania",
           "marker": {
            "color": "#636efa",
            "pattern": {
             "shape": ""
            }
           },
           "name": "Romania",
           "offsetgroup": "Romania",
           "orientation": "h",
           "showlegend": true,
           "textposition": "auto",
           "type": "bar",
           "x": [
            6
           ],
           "xaxis": "x",
           "y": [
            "Romania"
           ],
           "yaxis": "y"
          },
          {
           "alignmentgroup": "True",
           "hovertemplate": "Pays=%{y}<br>release_year=1980<br>Nombre cumulé de films=%{x}<extra></extra>",
           "legendgroup": "Hungary",
           "marker": {
            "color": "#ab63fa",
            "pattern": {
             "shape": ""
            }
           },
           "name": "Hungary",
           "offsetgroup": "Hungary",
           "orientation": "h",
           "showlegend": true,
           "textposition": "auto",
           "type": "bar",
           "x": [
            2
           ],
           "xaxis": "x",
           "y": [
            "Hungary"
           ],
           "yaxis": "y"
          },
          {
           "alignmentgroup": "True",
           "hovertemplate": "Pays=%{y}<br>release_year=1980<br>Nombre cumulé de films=%{x}<extra></extra>",
           "legendgroup": "Mexico",
           "marker": {
            "color": "#FFA15A",
            "pattern": {
             "shape": ""
            }
           },
           "name": "Mexico",
           "offsetgroup": "Mexico",
           "orientation": "h",
           "showlegend": true,
           "textposition": "auto",
           "type": "bar",
           "x": [
            3
           ],
           "xaxis": "x",
           "y": [
            "Mexico"
           ],
           "yaxis": "y"
          },
          {
           "alignmentgroup": "True",
           "hovertemplate": "Pays=%{y}<br>release_year=1980<br>Nombre cumulé de films=%{x}<extra></extra>",
           "legendgroup": "Italy",
           "marker": {
            "color": "#19d3f3",
            "pattern": {
             "shape": ""
            }
           },
           "name": "Italy",
           "offsetgroup": "Italy",
           "orientation": "h",
           "showlegend": true,
           "textposition": "auto",
           "type": "bar",
           "x": [
            3
           ],
           "xaxis": "x",
           "y": [
            "Italy"
           ],
           "yaxis": "y"
          }
         ],
         "name": "1980"
        },
        {
         "data": [
          {
           "alignmentgroup": "True",
           "hovertemplate": "Pays=%{y}<br>release_year=1981<br>Nombre cumulé de films=%{x}<extra></extra>",
           "legendgroup": "Germany",
           "marker": {
            "color": "#636efa",
            "pattern": {
             "shape": ""
            }
           },
           "name": "Germany",
           "offsetgroup": "Germany",
           "orientation": "h",
           "showlegend": true,
           "textposition": "auto",
           "type": "bar",
           "x": [
            7
           ],
           "xaxis": "x",
           "y": [
            "Germany"
           ],
           "yaxis": "y"
          },
          {
           "alignmentgroup": "True",
           "hovertemplate": "Pays=%{y}<br>release_year=1981<br>Nombre cumulé de films=%{x}<extra></extra>",
           "legendgroup": "United States of America",
           "marker": {
            "color": "#EF553B",
            "pattern": {
             "shape": ""
            }
           },
           "name": "United States of America",
           "offsetgroup": "United States of America",
           "orientation": "h",
           "showlegend": true,
           "textposition": "auto",
           "type": "bar",
           "x": [
            44
           ],
           "xaxis": "x",
           "y": [
            "United States of America"
           ],
           "yaxis": "y"
          },
          {
           "alignmentgroup": "True",
           "hovertemplate": "Pays=%{y}<br>release_year=1981<br>Nombre cumulé de films=%{x}<extra></extra>",
           "legendgroup": "Canada",
           "marker": {
            "color": "#FFA15A",
            "pattern": {
             "shape": ""
            }
           },
           "name": "Canada",
           "offsetgroup": "Canada",
           "orientation": "h",
           "showlegend": true,
           "textposition": "auto",
           "type": "bar",
           "x": [
            3
           ],
           "xaxis": "x",
           "y": [
            "Canada"
           ],
           "yaxis": "y"
          },
          {
           "alignmentgroup": "True",
           "hovertemplate": "Pays=%{y}<br>release_year=1981<br>Nombre cumulé de films=%{x}<extra></extra>",
           "legendgroup": "France",
           "marker": {
            "color": "#19d3f3",
            "pattern": {
             "shape": ""
            }
           },
           "name": "France",
           "offsetgroup": "France",
           "orientation": "h",
           "showlegend": true,
           "textposition": "auto",
           "type": "bar",
           "x": [
            10
           ],
           "xaxis": "x",
           "y": [
            "France"
           ],
           "yaxis": "y"
          },
          {
           "alignmentgroup": "True",
           "hovertemplate": "Pays=%{y}<br>release_year=1981<br>Nombre cumulé de films=%{x}<extra></extra>",
           "legendgroup": "Czech Republic",
           "marker": {
            "color": "#FF6692",
            "pattern": {
             "shape": ""
            }
           },
           "name": "Czech Republic",
           "offsetgroup": "Czech Republic",
           "orientation": "h",
           "showlegend": true,
           "textposition": "auto",
           "type": "bar",
           "x": [
            3
           ],
           "xaxis": "x",
           "y": [
            "Czech Republic"
           ],
           "yaxis": "y"
          },
          {
           "alignmentgroup": "True",
           "hovertemplate": "Pays=%{y}<br>release_year=1981<br>Nombre cumulé de films=%{x}<extra></extra>",
           "legendgroup": "United Kingdom",
           "marker": {
            "color": "#FECB52",
            "pattern": {
             "shape": ""
            }
           },
           "name": "United Kingdom",
           "offsetgroup": "United Kingdom",
           "orientation": "h",
           "showlegend": true,
           "textposition": "auto",
           "type": "bar",
           "x": [
            92
           ],
           "xaxis": "x",
           "y": [
            "United Kingdom"
           ],
           "yaxis": "y"
          },
          {
           "alignmentgroup": "True",
           "hovertemplate": "Pays=%{y}<br>release_year=1981<br>Nombre cumulé de films=%{x}<extra></extra>",
           "legendgroup": "Romania",
           "marker": {
            "color": "#636efa",
            "pattern": {
             "shape": ""
            }
           },
           "name": "Romania",
           "offsetgroup": "Romania",
           "orientation": "h",
           "showlegend": true,
           "textposition": "auto",
           "type": "bar",
           "x": [
            6
           ],
           "xaxis": "x",
           "y": [
            "Romania"
           ],
           "yaxis": "y"
          },
          {
           "alignmentgroup": "True",
           "hovertemplate": "Pays=%{y}<br>release_year=1981<br>Nombre cumulé de films=%{x}<extra></extra>",
           "legendgroup": "Hungary",
           "marker": {
            "color": "#ab63fa",
            "pattern": {
             "shape": ""
            }
           },
           "name": "Hungary",
           "offsetgroup": "Hungary",
           "orientation": "h",
           "showlegend": true,
           "textposition": "auto",
           "type": "bar",
           "x": [
            2
           ],
           "xaxis": "x",
           "y": [
            "Hungary"
           ],
           "yaxis": "y"
          },
          {
           "alignmentgroup": "True",
           "hovertemplate": "Pays=%{y}<br>release_year=1981<br>Nombre cumulé de films=%{x}<extra></extra>",
           "legendgroup": "Mexico",
           "marker": {
            "color": "#FFA15A",
            "pattern": {
             "shape": ""
            }
           },
           "name": "Mexico",
           "offsetgroup": "Mexico",
           "orientation": "h",
           "showlegend": true,
           "textposition": "auto",
           "type": "bar",
           "x": [
            3
           ],
           "xaxis": "x",
           "y": [
            "Mexico"
           ],
           "yaxis": "y"
          },
          {
           "alignmentgroup": "True",
           "hovertemplate": "Pays=%{y}<br>release_year=1981<br>Nombre cumulé de films=%{x}<extra></extra>",
           "legendgroup": "Italy",
           "marker": {
            "color": "#19d3f3",
            "pattern": {
             "shape": ""
            }
           },
           "name": "Italy",
           "offsetgroup": "Italy",
           "orientation": "h",
           "showlegend": true,
           "textposition": "auto",
           "type": "bar",
           "x": [
            3
           ],
           "xaxis": "x",
           "y": [
            "Italy"
           ],
           "yaxis": "y"
          }
         ],
         "name": "1981"
        },
        {
         "data": [
          {
           "alignmentgroup": "True",
           "hovertemplate": "Pays=%{y}<br>release_year=1982<br>Nombre cumulé de films=%{x}<extra></extra>",
           "legendgroup": "Germany",
           "marker": {
            "color": "#636efa",
            "pattern": {
             "shape": ""
            }
           },
           "name": "Germany",
           "offsetgroup": "Germany",
           "orientation": "h",
           "showlegend": true,
           "textposition": "auto",
           "type": "bar",
           "x": [
            7
           ],
           "xaxis": "x",
           "y": [
            "Germany"
           ],
           "yaxis": "y"
          },
          {
           "alignmentgroup": "True",
           "hovertemplate": "Pays=%{y}<br>release_year=1982<br>Nombre cumulé de films=%{x}<extra></extra>",
           "legendgroup": "United States of America",
           "marker": {
            "color": "#EF553B",
            "pattern": {
             "shape": ""
            }
           },
           "name": "United States of America",
           "offsetgroup": "United States of America",
           "orientation": "h",
           "showlegend": true,
           "textposition": "auto",
           "type": "bar",
           "x": [
            44
           ],
           "xaxis": "x",
           "y": [
            "United States of America"
           ],
           "yaxis": "y"
          },
          {
           "alignmentgroup": "True",
           "hovertemplate": "Pays=%{y}<br>release_year=1982<br>Nombre cumulé de films=%{x}<extra></extra>",
           "legendgroup": "Canada",
           "marker": {
            "color": "#FFA15A",
            "pattern": {
             "shape": ""
            }
           },
           "name": "Canada",
           "offsetgroup": "Canada",
           "orientation": "h",
           "showlegend": true,
           "textposition": "auto",
           "type": "bar",
           "x": [
            3
           ],
           "xaxis": "x",
           "y": [
            "Canada"
           ],
           "yaxis": "y"
          },
          {
           "alignmentgroup": "True",
           "hovertemplate": "Pays=%{y}<br>release_year=1982<br>Nombre cumulé de films=%{x}<extra></extra>",
           "legendgroup": "France",
           "marker": {
            "color": "#19d3f3",
            "pattern": {
             "shape": ""
            }
           },
           "name": "France",
           "offsetgroup": "France",
           "orientation": "h",
           "showlegend": true,
           "textposition": "auto",
           "type": "bar",
           "x": [
            10
           ],
           "xaxis": "x",
           "y": [
            "France"
           ],
           "yaxis": "y"
          },
          {
           "alignmentgroup": "True",
           "hovertemplate": "Pays=%{y}<br>release_year=1982<br>Nombre cumulé de films=%{x}<extra></extra>",
           "legendgroup": "Czech Republic",
           "marker": {
            "color": "#FF6692",
            "pattern": {
             "shape": ""
            }
           },
           "name": "Czech Republic",
           "offsetgroup": "Czech Republic",
           "orientation": "h",
           "showlegend": true,
           "textposition": "auto",
           "type": "bar",
           "x": [
            3
           ],
           "xaxis": "x",
           "y": [
            "Czech Republic"
           ],
           "yaxis": "y"
          },
          {
           "alignmentgroup": "True",
           "hovertemplate": "Pays=%{y}<br>release_year=1982<br>Nombre cumulé de films=%{x}<extra></extra>",
           "legendgroup": "United Kingdom",
           "marker": {
            "color": "#FECB52",
            "pattern": {
             "shape": ""
            }
           },
           "name": "United Kingdom",
           "offsetgroup": "United Kingdom",
           "orientation": "h",
           "showlegend": true,
           "textposition": "auto",
           "type": "bar",
           "x": [
            93
           ],
           "xaxis": "x",
           "y": [
            "United Kingdom"
           ],
           "yaxis": "y"
          },
          {
           "alignmentgroup": "True",
           "hovertemplate": "Pays=%{y}<br>release_year=1982<br>Nombre cumulé de films=%{x}<extra></extra>",
           "legendgroup": "Romania",
           "marker": {
            "color": "#636efa",
            "pattern": {
             "shape": ""
            }
           },
           "name": "Romania",
           "offsetgroup": "Romania",
           "orientation": "h",
           "showlegend": true,
           "textposition": "auto",
           "type": "bar",
           "x": [
            6
           ],
           "xaxis": "x",
           "y": [
            "Romania"
           ],
           "yaxis": "y"
          },
          {
           "alignmentgroup": "True",
           "hovertemplate": "Pays=%{y}<br>release_year=1982<br>Nombre cumulé de films=%{x}<extra></extra>",
           "legendgroup": "Hungary",
           "marker": {
            "color": "#ab63fa",
            "pattern": {
             "shape": ""
            }
           },
           "name": "Hungary",
           "offsetgroup": "Hungary",
           "orientation": "h",
           "showlegend": true,
           "textposition": "auto",
           "type": "bar",
           "x": [
            2
           ],
           "xaxis": "x",
           "y": [
            "Hungary"
           ],
           "yaxis": "y"
          },
          {
           "alignmentgroup": "True",
           "hovertemplate": "Pays=%{y}<br>release_year=1982<br>Nombre cumulé de films=%{x}<extra></extra>",
           "legendgroup": "Mexico",
           "marker": {
            "color": "#FFA15A",
            "pattern": {
             "shape": ""
            }
           },
           "name": "Mexico",
           "offsetgroup": "Mexico",
           "orientation": "h",
           "showlegend": true,
           "textposition": "auto",
           "type": "bar",
           "x": [
            3
           ],
           "xaxis": "x",
           "y": [
            "Mexico"
           ],
           "yaxis": "y"
          },
          {
           "alignmentgroup": "True",
           "hovertemplate": "Pays=%{y}<br>release_year=1982<br>Nombre cumulé de films=%{x}<extra></extra>",
           "legendgroup": "Italy",
           "marker": {
            "color": "#19d3f3",
            "pattern": {
             "shape": ""
            }
           },
           "name": "Italy",
           "offsetgroup": "Italy",
           "orientation": "h",
           "showlegend": true,
           "textposition": "auto",
           "type": "bar",
           "x": [
            3
           ],
           "xaxis": "x",
           "y": [
            "Italy"
           ],
           "yaxis": "y"
          }
         ],
         "name": "1982"
        },
        {
         "data": [
          {
           "alignmentgroup": "True",
           "hovertemplate": "Pays=%{y}<br>release_year=1983<br>Nombre cumulé de films=%{x}<extra></extra>",
           "legendgroup": "Germany",
           "marker": {
            "color": "#636efa",
            "pattern": {
             "shape": ""
            }
           },
           "name": "Germany",
           "offsetgroup": "Germany",
           "orientation": "h",
           "showlegend": true,
           "textposition": "auto",
           "type": "bar",
           "x": [
            8
           ],
           "xaxis": "x",
           "y": [
            "Germany"
           ],
           "yaxis": "y"
          },
          {
           "alignmentgroup": "True",
           "hovertemplate": "Pays=%{y}<br>release_year=1983<br>Nombre cumulé de films=%{x}<extra></extra>",
           "legendgroup": "United States of America",
           "marker": {
            "color": "#EF553B",
            "pattern": {
             "shape": ""
            }
           },
           "name": "United States of America",
           "offsetgroup": "United States of America",
           "orientation": "h",
           "showlegend": true,
           "textposition": "auto",
           "type": "bar",
           "x": [
            45
           ],
           "xaxis": "x",
           "y": [
            "United States of America"
           ],
           "yaxis": "y"
          },
          {
           "alignmentgroup": "True",
           "hovertemplate": "Pays=%{y}<br>release_year=1983<br>Nombre cumulé de films=%{x}<extra></extra>",
           "legendgroup": "Canada",
           "marker": {
            "color": "#FFA15A",
            "pattern": {
             "shape": ""
            }
           },
           "name": "Canada",
           "offsetgroup": "Canada",
           "orientation": "h",
           "showlegend": true,
           "textposition": "auto",
           "type": "bar",
           "x": [
            3
           ],
           "xaxis": "x",
           "y": [
            "Canada"
           ],
           "yaxis": "y"
          },
          {
           "alignmentgroup": "True",
           "hovertemplate": "Pays=%{y}<br>release_year=1983<br>Nombre cumulé de films=%{x}<extra></extra>",
           "legendgroup": "France",
           "marker": {
            "color": "#19d3f3",
            "pattern": {
             "shape": ""
            }
           },
           "name": "France",
           "offsetgroup": "France",
           "orientation": "h",
           "showlegend": true,
           "textposition": "auto",
           "type": "bar",
           "x": [
            10
           ],
           "xaxis": "x",
           "y": [
            "France"
           ],
           "yaxis": "y"
          },
          {
           "alignmentgroup": "True",
           "hovertemplate": "Pays=%{y}<br>release_year=1983<br>Nombre cumulé de films=%{x}<extra></extra>",
           "legendgroup": "Czech Republic",
           "marker": {
            "color": "#FF6692",
            "pattern": {
             "shape": ""
            }
           },
           "name": "Czech Republic",
           "offsetgroup": "Czech Republic",
           "orientation": "h",
           "showlegend": true,
           "textposition": "auto",
           "type": "bar",
           "x": [
            3
           ],
           "xaxis": "x",
           "y": [
            "Czech Republic"
           ],
           "yaxis": "y"
          },
          {
           "alignmentgroup": "True",
           "hovertemplate": "Pays=%{y}<br>release_year=1983<br>Nombre cumulé de films=%{x}<extra></extra>",
           "legendgroup": "United Kingdom",
           "marker": {
            "color": "#FECB52",
            "pattern": {
             "shape": ""
            }
           },
           "name": "United Kingdom",
           "offsetgroup": "United Kingdom",
           "orientation": "h",
           "showlegend": true,
           "textposition": "auto",
           "type": "bar",
           "x": [
            94
           ],
           "xaxis": "x",
           "y": [
            "United Kingdom"
           ],
           "yaxis": "y"
          },
          {
           "alignmentgroup": "True",
           "hovertemplate": "Pays=%{y}<br>release_year=1983<br>Nombre cumulé de films=%{x}<extra></extra>",
           "legendgroup": "Romania",
           "marker": {
            "color": "#636efa",
            "pattern": {
             "shape": ""
            }
           },
           "name": "Romania",
           "offsetgroup": "Romania",
           "orientation": "h",
           "showlegend": true,
           "textposition": "auto",
           "type": "bar",
           "x": [
            6
           ],
           "xaxis": "x",
           "y": [
            "Romania"
           ],
           "yaxis": "y"
          },
          {
           "alignmentgroup": "True",
           "hovertemplate": "Pays=%{y}<br>release_year=1983<br>Nombre cumulé de films=%{x}<extra></extra>",
           "legendgroup": "Mexico",
           "marker": {
            "color": "#FFA15A",
            "pattern": {
             "shape": ""
            }
           },
           "name": "Mexico",
           "offsetgroup": "Mexico",
           "orientation": "h",
           "showlegend": true,
           "textposition": "auto",
           "type": "bar",
           "x": [
            3
           ],
           "xaxis": "x",
           "y": [
            "Mexico"
           ],
           "yaxis": "y"
          },
          {
           "alignmentgroup": "True",
           "hovertemplate": "Pays=%{y}<br>release_year=1983<br>Nombre cumulé de films=%{x}<extra></extra>",
           "legendgroup": "Italy",
           "marker": {
            "color": "#19d3f3",
            "pattern": {
             "shape": ""
            }
           },
           "name": "Italy",
           "offsetgroup": "Italy",
           "orientation": "h",
           "showlegend": true,
           "textposition": "auto",
           "type": "bar",
           "x": [
            3
           ],
           "xaxis": "x",
           "y": [
            "Italy"
           ],
           "yaxis": "y"
          },
          {
           "alignmentgroup": "True",
           "hovertemplate": "Pays=%{y}<br>release_year=1983<br>Nombre cumulé de films=%{x}<extra></extra>",
           "legendgroup": "India",
           "marker": {
            "color": "#FF6692",
            "pattern": {
             "shape": ""
            }
           },
           "name": "India",
           "offsetgroup": "India",
           "orientation": "h",
           "showlegend": true,
           "textposition": "auto",
           "type": "bar",
           "x": [
            4
           ],
           "xaxis": "x",
           "y": [
            "India"
           ],
           "yaxis": "y"
          }
         ],
         "name": "1983"
        },
        {
         "data": [
          {
           "alignmentgroup": "True",
           "hovertemplate": "Pays=%{y}<br>release_year=1984<br>Nombre cumulé de films=%{x}<extra></extra>",
           "legendgroup": "Germany",
           "marker": {
            "color": "#636efa",
            "pattern": {
             "shape": ""
            }
           },
           "name": "Germany",
           "offsetgroup": "Germany",
           "orientation": "h",
           "showlegend": true,
           "textposition": "auto",
           "type": "bar",
           "x": [
            10
           ],
           "xaxis": "x",
           "y": [
            "Germany"
           ],
           "yaxis": "y"
          },
          {
           "alignmentgroup": "True",
           "hovertemplate": "Pays=%{y}<br>release_year=1984<br>Nombre cumulé de films=%{x}<extra></extra>",
           "legendgroup": "United States of America",
           "marker": {
            "color": "#EF553B",
            "pattern": {
             "shape": ""
            }
           },
           "name": "United States of America",
           "offsetgroup": "United States of America",
           "orientation": "h",
           "showlegend": true,
           "textposition": "auto",
           "type": "bar",
           "x": [
            48
           ],
           "xaxis": "x",
           "y": [
            "United States of America"
           ],
           "yaxis": "y"
          },
          {
           "alignmentgroup": "True",
           "hovertemplate": "Pays=%{y}<br>release_year=1984<br>Nombre cumulé de films=%{x}<extra></extra>",
           "legendgroup": "Canada",
           "marker": {
            "color": "#FFA15A",
            "pattern": {
             "shape": ""
            }
           },
           "name": "Canada",
           "offsetgroup": "Canada",
           "orientation": "h",
           "showlegend": true,
           "textposition": "auto",
           "type": "bar",
           "x": [
            3
           ],
           "xaxis": "x",
           "y": [
            "Canada"
           ],
           "yaxis": "y"
          },
          {
           "alignmentgroup": "True",
           "hovertemplate": "Pays=%{y}<br>release_year=1984<br>Nombre cumulé de films=%{x}<extra></extra>",
           "legendgroup": "France",
           "marker": {
            "color": "#19d3f3",
            "pattern": {
             "shape": ""
            }
           },
           "name": "France",
           "offsetgroup": "France",
           "orientation": "h",
           "showlegend": true,
           "textposition": "auto",
           "type": "bar",
           "x": [
            10
           ],
           "xaxis": "x",
           "y": [
            "France"
           ],
           "yaxis": "y"
          },
          {
           "alignmentgroup": "True",
           "hovertemplate": "Pays=%{y}<br>release_year=1984<br>Nombre cumulé de films=%{x}<extra></extra>",
           "legendgroup": "Czech Republic",
           "marker": {
            "color": "#FF6692",
            "pattern": {
             "shape": ""
            }
           },
           "name": "Czech Republic",
           "offsetgroup": "Czech Republic",
           "orientation": "h",
           "showlegend": true,
           "textposition": "auto",
           "type": "bar",
           "x": [
            3
           ],
           "xaxis": "x",
           "y": [
            "Czech Republic"
           ],
           "yaxis": "y"
          },
          {
           "alignmentgroup": "True",
           "hovertemplate": "Pays=%{y}<br>release_year=1984<br>Nombre cumulé de films=%{x}<extra></extra>",
           "legendgroup": "United Kingdom",
           "marker": {
            "color": "#FECB52",
            "pattern": {
             "shape": ""
            }
           },
           "name": "United Kingdom",
           "offsetgroup": "United Kingdom",
           "orientation": "h",
           "showlegend": true,
           "textposition": "auto",
           "type": "bar",
           "x": [
            95
           ],
           "xaxis": "x",
           "y": [
            "United Kingdom"
           ],
           "yaxis": "y"
          },
          {
           "alignmentgroup": "True",
           "hovertemplate": "Pays=%{y}<br>release_year=1984<br>Nombre cumulé de films=%{x}<extra></extra>",
           "legendgroup": "Romania",
           "marker": {
            "color": "#636efa",
            "pattern": {
             "shape": ""
            }
           },
           "name": "Romania",
           "offsetgroup": "Romania",
           "orientation": "h",
           "showlegend": true,
           "textposition": "auto",
           "type": "bar",
           "x": [
            6
           ],
           "xaxis": "x",
           "y": [
            "Romania"
           ],
           "yaxis": "y"
          },
          {
           "alignmentgroup": "True",
           "hovertemplate": "Pays=%{y}<br>release_year=1984<br>Nombre cumulé de films=%{x}<extra></extra>",
           "legendgroup": "Mexico",
           "marker": {
            "color": "#FFA15A",
            "pattern": {
             "shape": ""
            }
           },
           "name": "Mexico",
           "offsetgroup": "Mexico",
           "orientation": "h",
           "showlegend": true,
           "textposition": "auto",
           "type": "bar",
           "x": [
            3
           ],
           "xaxis": "x",
           "y": [
            "Mexico"
           ],
           "yaxis": "y"
          },
          {
           "alignmentgroup": "True",
           "hovertemplate": "Pays=%{y}<br>release_year=1984<br>Nombre cumulé de films=%{x}<extra></extra>",
           "legendgroup": "Italy",
           "marker": {
            "color": "#19d3f3",
            "pattern": {
             "shape": ""
            }
           },
           "name": "Italy",
           "offsetgroup": "Italy",
           "orientation": "h",
           "showlegend": true,
           "textposition": "auto",
           "type": "bar",
           "x": [
            3
           ],
           "xaxis": "x",
           "y": [
            "Italy"
           ],
           "yaxis": "y"
          },
          {
           "alignmentgroup": "True",
           "hovertemplate": "Pays=%{y}<br>release_year=1984<br>Nombre cumulé de films=%{x}<extra></extra>",
           "legendgroup": "India",
           "marker": {
            "color": "#FF6692",
            "pattern": {
             "shape": ""
            }
           },
           "name": "India",
           "offsetgroup": "India",
           "orientation": "h",
           "showlegend": true,
           "textposition": "auto",
           "type": "bar",
           "x": [
            4
           ],
           "xaxis": "x",
           "y": [
            "India"
           ],
           "yaxis": "y"
          }
         ],
         "name": "1984"
        },
        {
         "data": [
          {
           "alignmentgroup": "True",
           "hovertemplate": "Pays=%{y}<br>release_year=1985<br>Nombre cumulé de films=%{x}<extra></extra>",
           "legendgroup": "Germany",
           "marker": {
            "color": "#636efa",
            "pattern": {
             "shape": ""
            }
           },
           "name": "Germany",
           "offsetgroup": "Germany",
           "orientation": "h",
           "showlegend": true,
           "textposition": "auto",
           "type": "bar",
           "x": [
            10
           ],
           "xaxis": "x",
           "y": [
            "Germany"
           ],
           "yaxis": "y"
          },
          {
           "alignmentgroup": "True",
           "hovertemplate": "Pays=%{y}<br>release_year=1985<br>Nombre cumulé de films=%{x}<extra></extra>",
           "legendgroup": "United States of America",
           "marker": {
            "color": "#EF553B",
            "pattern": {
             "shape": ""
            }
           },
           "name": "United States of America",
           "offsetgroup": "United States of America",
           "orientation": "h",
           "showlegend": true,
           "textposition": "auto",
           "type": "bar",
           "x": [
            52
           ],
           "xaxis": "x",
           "y": [
            "United States of America"
           ],
           "yaxis": "y"
          },
          {
           "alignmentgroup": "True",
           "hovertemplate": "Pays=%{y}<br>release_year=1985<br>Nombre cumulé de films=%{x}<extra></extra>",
           "legendgroup": "Canada",
           "marker": {
            "color": "#FFA15A",
            "pattern": {
             "shape": ""
            }
           },
           "name": "Canada",
           "offsetgroup": "Canada",
           "orientation": "h",
           "showlegend": true,
           "textposition": "auto",
           "type": "bar",
           "x": [
            3
           ],
           "xaxis": "x",
           "y": [
            "Canada"
           ],
           "yaxis": "y"
          },
          {
           "alignmentgroup": "True",
           "hovertemplate": "Pays=%{y}<br>release_year=1985<br>Nombre cumulé de films=%{x}<extra></extra>",
           "legendgroup": "France",
           "marker": {
            "color": "#19d3f3",
            "pattern": {
             "shape": ""
            }
           },
           "name": "France",
           "offsetgroup": "France",
           "orientation": "h",
           "showlegend": true,
           "textposition": "auto",
           "type": "bar",
           "x": [
            10
           ],
           "xaxis": "x",
           "y": [
            "France"
           ],
           "yaxis": "y"
          },
          {
           "alignmentgroup": "True",
           "hovertemplate": "Pays=%{y}<br>release_year=1985<br>Nombre cumulé de films=%{x}<extra></extra>",
           "legendgroup": "Czech Republic",
           "marker": {
            "color": "#FF6692",
            "pattern": {
             "shape": ""
            }
           },
           "name": "Czech Republic",
           "offsetgroup": "Czech Republic",
           "orientation": "h",
           "showlegend": true,
           "textposition": "auto",
           "type": "bar",
           "x": [
            4
           ],
           "xaxis": "x",
           "y": [
            "Czech Republic"
           ],
           "yaxis": "y"
          },
          {
           "alignmentgroup": "True",
           "hovertemplate": "Pays=%{y}<br>release_year=1985<br>Nombre cumulé de films=%{x}<extra></extra>",
           "legendgroup": "United Kingdom",
           "marker": {
            "color": "#FECB52",
            "pattern": {
             "shape": ""
            }
           },
           "name": "United Kingdom",
           "offsetgroup": "United Kingdom",
           "orientation": "h",
           "showlegend": true,
           "textposition": "auto",
           "type": "bar",
           "x": [
            102
           ],
           "xaxis": "x",
           "y": [
            "United Kingdom"
           ],
           "yaxis": "y"
          },
          {
           "alignmentgroup": "True",
           "hovertemplate": "Pays=%{y}<br>release_year=1985<br>Nombre cumulé de films=%{x}<extra></extra>",
           "legendgroup": "Romania",
           "marker": {
            "color": "#636efa",
            "pattern": {
             "shape": ""
            }
           },
           "name": "Romania",
           "offsetgroup": "Romania",
           "orientation": "h",
           "showlegend": true,
           "textposition": "auto",
           "type": "bar",
           "x": [
            6
           ],
           "xaxis": "x",
           "y": [
            "Romania"
           ],
           "yaxis": "y"
          },
          {
           "alignmentgroup": "True",
           "hovertemplate": "Pays=%{y}<br>release_year=1985<br>Nombre cumulé de films=%{x}<extra></extra>",
           "legendgroup": "Mexico",
           "marker": {
            "color": "#FFA15A",
            "pattern": {
             "shape": ""
            }
           },
           "name": "Mexico",
           "offsetgroup": "Mexico",
           "orientation": "h",
           "showlegend": true,
           "textposition": "auto",
           "type": "bar",
           "x": [
            3
           ],
           "xaxis": "x",
           "y": [
            "Mexico"
           ],
           "yaxis": "y"
          },
          {
           "alignmentgroup": "True",
           "hovertemplate": "Pays=%{y}<br>release_year=1985<br>Nombre cumulé de films=%{x}<extra></extra>",
           "legendgroup": "Italy",
           "marker": {
            "color": "#19d3f3",
            "pattern": {
             "shape": ""
            }
           },
           "name": "Italy",
           "offsetgroup": "Italy",
           "orientation": "h",
           "showlegend": true,
           "textposition": "auto",
           "type": "bar",
           "x": [
            3
           ],
           "xaxis": "x",
           "y": [
            "Italy"
           ],
           "yaxis": "y"
          },
          {
           "alignmentgroup": "True",
           "hovertemplate": "Pays=%{y}<br>release_year=1985<br>Nombre cumulé de films=%{x}<extra></extra>",
           "legendgroup": "India",
           "marker": {
            "color": "#FF6692",
            "pattern": {
             "shape": ""
            }
           },
           "name": "India",
           "offsetgroup": "India",
           "orientation": "h",
           "showlegend": true,
           "textposition": "auto",
           "type": "bar",
           "x": [
            4
           ],
           "xaxis": "x",
           "y": [
            "India"
           ],
           "yaxis": "y"
          }
         ],
         "name": "1985"
        },
        {
         "data": [
          {
           "alignmentgroup": "True",
           "hovertemplate": "Pays=%{y}<br>release_year=1986<br>Nombre cumulé de films=%{x}<extra></extra>",
           "legendgroup": "Germany",
           "marker": {
            "color": "#636efa",
            "pattern": {
             "shape": ""
            }
           },
           "name": "Germany",
           "offsetgroup": "Germany",
           "orientation": "h",
           "showlegend": true,
           "textposition": "auto",
           "type": "bar",
           "x": [
            10
           ],
           "xaxis": "x",
           "y": [
            "Germany"
           ],
           "yaxis": "y"
          },
          {
           "alignmentgroup": "True",
           "hovertemplate": "Pays=%{y}<br>release_year=1986<br>Nombre cumulé de films=%{x}<extra></extra>",
           "legendgroup": "United States of America",
           "marker": {
            "color": "#EF553B",
            "pattern": {
             "shape": ""
            }
           },
           "name": "United States of America",
           "offsetgroup": "United States of America",
           "orientation": "h",
           "showlegend": true,
           "textposition": "auto",
           "type": "bar",
           "x": [
            53
           ],
           "xaxis": "x",
           "y": [
            "United States of America"
           ],
           "yaxis": "y"
          },
          {
           "alignmentgroup": "True",
           "hovertemplate": "Pays=%{y}<br>release_year=1986<br>Nombre cumulé de films=%{x}<extra></extra>",
           "legendgroup": "Canada",
           "marker": {
            "color": "#FFA15A",
            "pattern": {
             "shape": ""
            }
           },
           "name": "Canada",
           "offsetgroup": "Canada",
           "orientation": "h",
           "showlegend": true,
           "textposition": "auto",
           "type": "bar",
           "x": [
            5
           ],
           "xaxis": "x",
           "y": [
            "Canada"
           ],
           "yaxis": "y"
          },
          {
           "alignmentgroup": "True",
           "hovertemplate": "Pays=%{y}<br>release_year=1986<br>Nombre cumulé de films=%{x}<extra></extra>",
           "legendgroup": "France",
           "marker": {
            "color": "#19d3f3",
            "pattern": {
             "shape": ""
            }
           },
           "name": "France",
           "offsetgroup": "France",
           "orientation": "h",
           "showlegend": true,
           "textposition": "auto",
           "type": "bar",
           "x": [
            11
           ],
           "xaxis": "x",
           "y": [
            "France"
           ],
           "yaxis": "y"
          },
          {
           "alignmentgroup": "True",
           "hovertemplate": "Pays=%{y}<br>release_year=1986<br>Nombre cumulé de films=%{x}<extra></extra>",
           "legendgroup": "Czech Republic",
           "marker": {
            "color": "#FF6692",
            "pattern": {
             "shape": ""
            }
           },
           "name": "Czech Republic",
           "offsetgroup": "Czech Republic",
           "orientation": "h",
           "showlegend": true,
           "textposition": "auto",
           "type": "bar",
           "x": [
            4
           ],
           "xaxis": "x",
           "y": [
            "Czech Republic"
           ],
           "yaxis": "y"
          },
          {
           "alignmentgroup": "True",
           "hovertemplate": "Pays=%{y}<br>release_year=1986<br>Nombre cumulé de films=%{x}<extra></extra>",
           "legendgroup": "United Kingdom",
           "marker": {
            "color": "#FECB52",
            "pattern": {
             "shape": ""
            }
           },
           "name": "United Kingdom",
           "offsetgroup": "United Kingdom",
           "orientation": "h",
           "showlegend": true,
           "textposition": "auto",
           "type": "bar",
           "x": [
            104
           ],
           "xaxis": "x",
           "y": [
            "United Kingdom"
           ],
           "yaxis": "y"
          },
          {
           "alignmentgroup": "True",
           "hovertemplate": "Pays=%{y}<br>release_year=1986<br>Nombre cumulé de films=%{x}<extra></extra>",
           "legendgroup": "Romania",
           "marker": {
            "color": "#636efa",
            "pattern": {
             "shape": ""
            }
           },
           "name": "Romania",
           "offsetgroup": "Romania",
           "orientation": "h",
           "showlegend": true,
           "textposition": "auto",
           "type": "bar",
           "x": [
            6
           ],
           "xaxis": "x",
           "y": [
            "Romania"
           ],
           "yaxis": "y"
          },
          {
           "alignmentgroup": "True",
           "hovertemplate": "Pays=%{y}<br>release_year=1986<br>Nombre cumulé de films=%{x}<extra></extra>",
           "legendgroup": "Mexico",
           "marker": {
            "color": "#FFA15A",
            "pattern": {
             "shape": ""
            }
           },
           "name": "Mexico",
           "offsetgroup": "Mexico",
           "orientation": "h",
           "showlegend": true,
           "textposition": "auto",
           "type": "bar",
           "x": [
            3
           ],
           "xaxis": "x",
           "y": [
            "Mexico"
           ],
           "yaxis": "y"
          },
          {
           "alignmentgroup": "True",
           "hovertemplate": "Pays=%{y}<br>release_year=1986<br>Nombre cumulé de films=%{x}<extra></extra>",
           "legendgroup": "Italy",
           "marker": {
            "color": "#19d3f3",
            "pattern": {
             "shape": ""
            }
           },
           "name": "Italy",
           "offsetgroup": "Italy",
           "orientation": "h",
           "showlegend": true,
           "textposition": "auto",
           "type": "bar",
           "x": [
            3
           ],
           "xaxis": "x",
           "y": [
            "Italy"
           ],
           "yaxis": "y"
          },
          {
           "alignmentgroup": "True",
           "hovertemplate": "Pays=%{y}<br>release_year=1986<br>Nombre cumulé de films=%{x}<extra></extra>",
           "legendgroup": "India",
           "marker": {
            "color": "#FF6692",
            "pattern": {
             "shape": ""
            }
           },
           "name": "India",
           "offsetgroup": "India",
           "orientation": "h",
           "showlegend": true,
           "textposition": "auto",
           "type": "bar",
           "x": [
            4
           ],
           "xaxis": "x",
           "y": [
            "India"
           ],
           "yaxis": "y"
          }
         ],
         "name": "1986"
        },
        {
         "data": [
          {
           "alignmentgroup": "True",
           "hovertemplate": "Pays=%{y}<br>release_year=1987<br>Nombre cumulé de films=%{x}<extra></extra>",
           "legendgroup": "Germany",
           "marker": {
            "color": "#636efa",
            "pattern": {
             "shape": ""
            }
           },
           "name": "Germany",
           "offsetgroup": "Germany",
           "orientation": "h",
           "showlegend": true,
           "textposition": "auto",
           "type": "bar",
           "x": [
            11
           ],
           "xaxis": "x",
           "y": [
            "Germany"
           ],
           "yaxis": "y"
          },
          {
           "alignmentgroup": "True",
           "hovertemplate": "Pays=%{y}<br>release_year=1987<br>Nombre cumulé de films=%{x}<extra></extra>",
           "legendgroup": "United States of America",
           "marker": {
            "color": "#EF553B",
            "pattern": {
             "shape": ""
            }
           },
           "name": "United States of America",
           "offsetgroup": "United States of America",
           "orientation": "h",
           "showlegend": true,
           "textposition": "auto",
           "type": "bar",
           "x": [
            54
           ],
           "xaxis": "x",
           "y": [
            "United States of America"
           ],
           "yaxis": "y"
          },
          {
           "alignmentgroup": "True",
           "hovertemplate": "Pays=%{y}<br>release_year=1987<br>Nombre cumulé de films=%{x}<extra></extra>",
           "legendgroup": "Canada",
           "marker": {
            "color": "#FFA15A",
            "pattern": {
             "shape": ""
            }
           },
           "name": "Canada",
           "offsetgroup": "Canada",
           "orientation": "h",
           "showlegend": true,
           "textposition": "auto",
           "type": "bar",
           "x": [
            5
           ],
           "xaxis": "x",
           "y": [
            "Canada"
           ],
           "yaxis": "y"
          },
          {
           "alignmentgroup": "True",
           "hovertemplate": "Pays=%{y}<br>release_year=1987<br>Nombre cumulé de films=%{x}<extra></extra>",
           "legendgroup": "France",
           "marker": {
            "color": "#19d3f3",
            "pattern": {
             "shape": ""
            }
           },
           "name": "France",
           "offsetgroup": "France",
           "orientation": "h",
           "showlegend": true,
           "textposition": "auto",
           "type": "bar",
           "x": [
            11
           ],
           "xaxis": "x",
           "y": [
            "France"
           ],
           "yaxis": "y"
          },
          {
           "alignmentgroup": "True",
           "hovertemplate": "Pays=%{y}<br>release_year=1987<br>Nombre cumulé de films=%{x}<extra></extra>",
           "legendgroup": "Czech Republic",
           "marker": {
            "color": "#FF6692",
            "pattern": {
             "shape": ""
            }
           },
           "name": "Czech Republic",
           "offsetgroup": "Czech Republic",
           "orientation": "h",
           "showlegend": true,
           "textposition": "auto",
           "type": "bar",
           "x": [
            4
           ],
           "xaxis": "x",
           "y": [
            "Czech Republic"
           ],
           "yaxis": "y"
          },
          {
           "alignmentgroup": "True",
           "hovertemplate": "Pays=%{y}<br>release_year=1987<br>Nombre cumulé de films=%{x}<extra></extra>",
           "legendgroup": "United Kingdom",
           "marker": {
            "color": "#FECB52",
            "pattern": {
             "shape": ""
            }
           },
           "name": "United Kingdom",
           "offsetgroup": "United Kingdom",
           "orientation": "h",
           "showlegend": true,
           "textposition": "auto",
           "type": "bar",
           "x": [
            104
           ],
           "xaxis": "x",
           "y": [
            "United Kingdom"
           ],
           "yaxis": "y"
          },
          {
           "alignmentgroup": "True",
           "hovertemplate": "Pays=%{y}<br>release_year=1987<br>Nombre cumulé de films=%{x}<extra></extra>",
           "legendgroup": "Romania",
           "marker": {
            "color": "#636efa",
            "pattern": {
             "shape": ""
            }
           },
           "name": "Romania",
           "offsetgroup": "Romania",
           "orientation": "h",
           "showlegend": true,
           "textposition": "auto",
           "type": "bar",
           "x": [
            6
           ],
           "xaxis": "x",
           "y": [
            "Romania"
           ],
           "yaxis": "y"
          },
          {
           "alignmentgroup": "True",
           "hovertemplate": "Pays=%{y}<br>release_year=1987<br>Nombre cumulé de films=%{x}<extra></extra>",
           "legendgroup": "Mexico",
           "marker": {
            "color": "#FFA15A",
            "pattern": {
             "shape": ""
            }
           },
           "name": "Mexico",
           "offsetgroup": "Mexico",
           "orientation": "h",
           "showlegend": true,
           "textposition": "auto",
           "type": "bar",
           "x": [
            3
           ],
           "xaxis": "x",
           "y": [
            "Mexico"
           ],
           "yaxis": "y"
          },
          {
           "alignmentgroup": "True",
           "hovertemplate": "Pays=%{y}<br>release_year=1987<br>Nombre cumulé de films=%{x}<extra></extra>",
           "legendgroup": "Italy",
           "marker": {
            "color": "#19d3f3",
            "pattern": {
             "shape": ""
            }
           },
           "name": "Italy",
           "offsetgroup": "Italy",
           "orientation": "h",
           "showlegend": true,
           "textposition": "auto",
           "type": "bar",
           "x": [
            3
           ],
           "xaxis": "x",
           "y": [
            "Italy"
           ],
           "yaxis": "y"
          },
          {
           "alignmentgroup": "True",
           "hovertemplate": "Pays=%{y}<br>release_year=1987<br>Nombre cumulé de films=%{x}<extra></extra>",
           "legendgroup": "India",
           "marker": {
            "color": "#FF6692",
            "pattern": {
             "shape": ""
            }
           },
           "name": "India",
           "offsetgroup": "India",
           "orientation": "h",
           "showlegend": true,
           "textposition": "auto",
           "type": "bar",
           "x": [
            4
           ],
           "xaxis": "x",
           "y": [
            "India"
           ],
           "yaxis": "y"
          }
         ],
         "name": "1987"
        },
        {
         "data": [
          {
           "alignmentgroup": "True",
           "hovertemplate": "Pays=%{y}<br>release_year=1988<br>Nombre cumulé de films=%{x}<extra></extra>",
           "legendgroup": "Germany",
           "marker": {
            "color": "#636efa",
            "pattern": {
             "shape": ""
            }
           },
           "name": "Germany",
           "offsetgroup": "Germany",
           "orientation": "h",
           "showlegend": true,
           "textposition": "auto",
           "type": "bar",
           "x": [
            11
           ],
           "xaxis": "x",
           "y": [
            "Germany"
           ],
           "yaxis": "y"
          },
          {
           "alignmentgroup": "True",
           "hovertemplate": "Pays=%{y}<br>release_year=1988<br>Nombre cumulé de films=%{x}<extra></extra>",
           "legendgroup": "United States of America",
           "marker": {
            "color": "#EF553B",
            "pattern": {
             "shape": ""
            }
           },
           "name": "United States of America",
           "offsetgroup": "United States of America",
           "orientation": "h",
           "showlegend": true,
           "textposition": "auto",
           "type": "bar",
           "x": [
            54
           ],
           "xaxis": "x",
           "y": [
            "United States of America"
           ],
           "yaxis": "y"
          },
          {
           "alignmentgroup": "True",
           "hovertemplate": "Pays=%{y}<br>release_year=1988<br>Nombre cumulé de films=%{x}<extra></extra>",
           "legendgroup": "Canada",
           "marker": {
            "color": "#FFA15A",
            "pattern": {
             "shape": ""
            }
           },
           "name": "Canada",
           "offsetgroup": "Canada",
           "orientation": "h",
           "showlegend": true,
           "textposition": "auto",
           "type": "bar",
           "x": [
            5
           ],
           "xaxis": "x",
           "y": [
            "Canada"
           ],
           "yaxis": "y"
          },
          {
           "alignmentgroup": "True",
           "hovertemplate": "Pays=%{y}<br>release_year=1988<br>Nombre cumulé de films=%{x}<extra></extra>",
           "legendgroup": "France",
           "marker": {
            "color": "#19d3f3",
            "pattern": {
             "shape": ""
            }
           },
           "name": "France",
           "offsetgroup": "France",
           "orientation": "h",
           "showlegend": true,
           "textposition": "auto",
           "type": "bar",
           "x": [
            13
           ],
           "xaxis": "x",
           "y": [
            "France"
           ],
           "yaxis": "y"
          },
          {
           "alignmentgroup": "True",
           "hovertemplate": "Pays=%{y}<br>release_year=1988<br>Nombre cumulé de films=%{x}<extra></extra>",
           "legendgroup": "Czech Republic",
           "marker": {
            "color": "#FF6692",
            "pattern": {
             "shape": ""
            }
           },
           "name": "Czech Republic",
           "offsetgroup": "Czech Republic",
           "orientation": "h",
           "showlegend": true,
           "textposition": "auto",
           "type": "bar",
           "x": [
            4
           ],
           "xaxis": "x",
           "y": [
            "Czech Republic"
           ],
           "yaxis": "y"
          },
          {
           "alignmentgroup": "True",
           "hovertemplate": "Pays=%{y}<br>release_year=1988<br>Nombre cumulé de films=%{x}<extra></extra>",
           "legendgroup": "United Kingdom",
           "marker": {
            "color": "#FECB52",
            "pattern": {
             "shape": ""
            }
           },
           "name": "United Kingdom",
           "offsetgroup": "United Kingdom",
           "orientation": "h",
           "showlegend": true,
           "textposition": "auto",
           "type": "bar",
           "x": [
            105
           ],
           "xaxis": "x",
           "y": [
            "United Kingdom"
           ],
           "yaxis": "y"
          },
          {
           "alignmentgroup": "True",
           "hovertemplate": "Pays=%{y}<br>release_year=1988<br>Nombre cumulé de films=%{x}<extra></extra>",
           "legendgroup": "Romania",
           "marker": {
            "color": "#636efa",
            "pattern": {
             "shape": ""
            }
           },
           "name": "Romania",
           "offsetgroup": "Romania",
           "orientation": "h",
           "showlegend": true,
           "textposition": "auto",
           "type": "bar",
           "x": [
            6
           ],
           "xaxis": "x",
           "y": [
            "Romania"
           ],
           "yaxis": "y"
          },
          {
           "alignmentgroup": "True",
           "hovertemplate": "Pays=%{y}<br>release_year=1988<br>Nombre cumulé de films=%{x}<extra></extra>",
           "legendgroup": "Mexico",
           "marker": {
            "color": "#FFA15A",
            "pattern": {
             "shape": ""
            }
           },
           "name": "Mexico",
           "offsetgroup": "Mexico",
           "orientation": "h",
           "showlegend": true,
           "textposition": "auto",
           "type": "bar",
           "x": [
            3
           ],
           "xaxis": "x",
           "y": [
            "Mexico"
           ],
           "yaxis": "y"
          },
          {
           "alignmentgroup": "True",
           "hovertemplate": "Pays=%{y}<br>release_year=1988<br>Nombre cumulé de films=%{x}<extra></extra>",
           "legendgroup": "Italy",
           "marker": {
            "color": "#19d3f3",
            "pattern": {
             "shape": ""
            }
           },
           "name": "Italy",
           "offsetgroup": "Italy",
           "orientation": "h",
           "showlegend": true,
           "textposition": "auto",
           "type": "bar",
           "x": [
            3
           ],
           "xaxis": "x",
           "y": [
            "Italy"
           ],
           "yaxis": "y"
          },
          {
           "alignmentgroup": "True",
           "hovertemplate": "Pays=%{y}<br>release_year=1988<br>Nombre cumulé de films=%{x}<extra></extra>",
           "legendgroup": "India",
           "marker": {
            "color": "#FF6692",
            "pattern": {
             "shape": ""
            }
           },
           "name": "India",
           "offsetgroup": "India",
           "orientation": "h",
           "showlegend": true,
           "textposition": "auto",
           "type": "bar",
           "x": [
            4
           ],
           "xaxis": "x",
           "y": [
            "India"
           ],
           "yaxis": "y"
          }
         ],
         "name": "1988"
        },
        {
         "data": [
          {
           "alignmentgroup": "True",
           "hovertemplate": "Pays=%{y}<br>release_year=1989<br>Nombre cumulé de films=%{x}<extra></extra>",
           "legendgroup": "Germany",
           "marker": {
            "color": "#636efa",
            "pattern": {
             "shape": ""
            }
           },
           "name": "Germany",
           "offsetgroup": "Germany",
           "orientation": "h",
           "showlegend": true,
           "textposition": "auto",
           "type": "bar",
           "x": [
            11
           ],
           "xaxis": "x",
           "y": [
            "Germany"
           ],
           "yaxis": "y"
          },
          {
           "alignmentgroup": "True",
           "hovertemplate": "Pays=%{y}<br>release_year=1989<br>Nombre cumulé de films=%{x}<extra></extra>",
           "legendgroup": "United States of America",
           "marker": {
            "color": "#EF553B",
            "pattern": {
             "shape": ""
            }
           },
           "name": "United States of America",
           "offsetgroup": "United States of America",
           "orientation": "h",
           "showlegend": true,
           "textposition": "auto",
           "type": "bar",
           "x": [
            56
           ],
           "xaxis": "x",
           "y": [
            "United States of America"
           ],
           "yaxis": "y"
          },
          {
           "alignmentgroup": "True",
           "hovertemplate": "Pays=%{y}<br>release_year=1989<br>Nombre cumulé de films=%{x}<extra></extra>",
           "legendgroup": "Canada",
           "marker": {
            "color": "#FFA15A",
            "pattern": {
             "shape": ""
            }
           },
           "name": "Canada",
           "offsetgroup": "Canada",
           "orientation": "h",
           "showlegend": true,
           "textposition": "auto",
           "type": "bar",
           "x": [
            8
           ],
           "xaxis": "x",
           "y": [
            "Canada"
           ],
           "yaxis": "y"
          },
          {
           "alignmentgroup": "True",
           "hovertemplate": "Pays=%{y}<br>release_year=1989<br>Nombre cumulé de films=%{x}<extra></extra>",
           "legendgroup": "France",
           "marker": {
            "color": "#19d3f3",
            "pattern": {
             "shape": ""
            }
           },
           "name": "France",
           "offsetgroup": "France",
           "orientation": "h",
           "showlegend": true,
           "textposition": "auto",
           "type": "bar",
           "x": [
            13
           ],
           "xaxis": "x",
           "y": [
            "France"
           ],
           "yaxis": "y"
          },
          {
           "alignmentgroup": "True",
           "hovertemplate": "Pays=%{y}<br>release_year=1989<br>Nombre cumulé de films=%{x}<extra></extra>",
           "legendgroup": "Czech Republic",
           "marker": {
            "color": "#FF6692",
            "pattern": {
             "shape": ""
            }
           },
           "name": "Czech Republic",
           "offsetgroup": "Czech Republic",
           "orientation": "h",
           "showlegend": true,
           "textposition": "auto",
           "type": "bar",
           "x": [
            4
           ],
           "xaxis": "x",
           "y": [
            "Czech Republic"
           ],
           "yaxis": "y"
          },
          {
           "alignmentgroup": "True",
           "hovertemplate": "Pays=%{y}<br>release_year=1989<br>Nombre cumulé de films=%{x}<extra></extra>",
           "legendgroup": "United Kingdom",
           "marker": {
            "color": "#FECB52",
            "pattern": {
             "shape": ""
            }
           },
           "name": "United Kingdom",
           "offsetgroup": "United Kingdom",
           "orientation": "h",
           "showlegend": true,
           "textposition": "auto",
           "type": "bar",
           "x": [
            108
           ],
           "xaxis": "x",
           "y": [
            "United Kingdom"
           ],
           "yaxis": "y"
          },
          {
           "alignmentgroup": "True",
           "hovertemplate": "Pays=%{y}<br>release_year=1989<br>Nombre cumulé de films=%{x}<extra></extra>",
           "legendgroup": "Romania",
           "marker": {
            "color": "#636efa",
            "pattern": {
             "shape": ""
            }
           },
           "name": "Romania",
           "offsetgroup": "Romania",
           "orientation": "h",
           "showlegend": true,
           "textposition": "auto",
           "type": "bar",
           "x": [
            6
           ],
           "xaxis": "x",
           "y": [
            "Romania"
           ],
           "yaxis": "y"
          },
          {
           "alignmentgroup": "True",
           "hovertemplate": "Pays=%{y}<br>release_year=1989<br>Nombre cumulé de films=%{x}<extra></extra>",
           "legendgroup": "Mexico",
           "marker": {
            "color": "#FFA15A",
            "pattern": {
             "shape": ""
            }
           },
           "name": "Mexico",
           "offsetgroup": "Mexico",
           "orientation": "h",
           "showlegend": true,
           "textposition": "auto",
           "type": "bar",
           "x": [
            3
           ],
           "xaxis": "x",
           "y": [
            "Mexico"
           ],
           "yaxis": "y"
          },
          {
           "alignmentgroup": "True",
           "hovertemplate": "Pays=%{y}<br>release_year=1989<br>Nombre cumulé de films=%{x}<extra></extra>",
           "legendgroup": "Italy",
           "marker": {
            "color": "#19d3f3",
            "pattern": {
             "shape": ""
            }
           },
           "name": "Italy",
           "offsetgroup": "Italy",
           "orientation": "h",
           "showlegend": true,
           "textposition": "auto",
           "type": "bar",
           "x": [
            3
           ],
           "xaxis": "x",
           "y": [
            "Italy"
           ],
           "yaxis": "y"
          },
          {
           "alignmentgroup": "True",
           "hovertemplate": "Pays=%{y}<br>release_year=1989<br>Nombre cumulé de films=%{x}<extra></extra>",
           "legendgroup": "India",
           "marker": {
            "color": "#FF6692",
            "pattern": {
             "shape": ""
            }
           },
           "name": "India",
           "offsetgroup": "India",
           "orientation": "h",
           "showlegend": true,
           "textposition": "auto",
           "type": "bar",
           "x": [
            4
           ],
           "xaxis": "x",
           "y": [
            "India"
           ],
           "yaxis": "y"
          }
         ],
         "name": "1989"
        },
        {
         "data": [
          {
           "alignmentgroup": "True",
           "hovertemplate": "Pays=%{y}<br>release_year=1990<br>Nombre cumulé de films=%{x}<extra></extra>",
           "legendgroup": "Germany",
           "marker": {
            "color": "#636efa",
            "pattern": {
             "shape": ""
            }
           },
           "name": "Germany",
           "offsetgroup": "Germany",
           "orientation": "h",
           "showlegend": true,
           "textposition": "auto",
           "type": "bar",
           "x": [
            11
           ],
           "xaxis": "x",
           "y": [
            "Germany"
           ],
           "yaxis": "y"
          },
          {
           "alignmentgroup": "True",
           "hovertemplate": "Pays=%{y}<br>release_year=1990<br>Nombre cumulé de films=%{x}<extra></extra>",
           "legendgroup": "United States of America",
           "marker": {
            "color": "#EF553B",
            "pattern": {
             "shape": ""
            }
           },
           "name": "United States of America",
           "offsetgroup": "United States of America",
           "orientation": "h",
           "showlegend": true,
           "textposition": "auto",
           "type": "bar",
           "x": [
            60
           ],
           "xaxis": "x",
           "y": [
            "United States of America"
           ],
           "yaxis": "y"
          },
          {
           "alignmentgroup": "True",
           "hovertemplate": "Pays=%{y}<br>release_year=1990<br>Nombre cumulé de films=%{x}<extra></extra>",
           "legendgroup": "Canada",
           "marker": {
            "color": "#FFA15A",
            "pattern": {
             "shape": ""
            }
           },
           "name": "Canada",
           "offsetgroup": "Canada",
           "orientation": "h",
           "showlegend": true,
           "textposition": "auto",
           "type": "bar",
           "x": [
            9
           ],
           "xaxis": "x",
           "y": [
            "Canada"
           ],
           "yaxis": "y"
          },
          {
           "alignmentgroup": "True",
           "hovertemplate": "Pays=%{y}<br>release_year=1990<br>Nombre cumulé de films=%{x}<extra></extra>",
           "legendgroup": "France",
           "marker": {
            "color": "#19d3f3",
            "pattern": {
             "shape": ""
            }
           },
           "name": "France",
           "offsetgroup": "France",
           "orientation": "h",
           "showlegend": true,
           "textposition": "auto",
           "type": "bar",
           "x": [
            13
           ],
           "xaxis": "x",
           "y": [
            "France"
           ],
           "yaxis": "y"
          },
          {
           "alignmentgroup": "True",
           "hovertemplate": "Pays=%{y}<br>release_year=1990<br>Nombre cumulé de films=%{x}<extra></extra>",
           "legendgroup": "Czech Republic",
           "marker": {
            "color": "#FF6692",
            "pattern": {
             "shape": ""
            }
           },
           "name": "Czech Republic",
           "offsetgroup": "Czech Republic",
           "orientation": "h",
           "showlegend": true,
           "textposition": "auto",
           "type": "bar",
           "x": [
            4
           ],
           "xaxis": "x",
           "y": [
            "Czech Republic"
           ],
           "yaxis": "y"
          },
          {
           "alignmentgroup": "True",
           "hovertemplate": "Pays=%{y}<br>release_year=1990<br>Nombre cumulé de films=%{x}<extra></extra>",
           "legendgroup": "United Kingdom",
           "marker": {
            "color": "#FECB52",
            "pattern": {
             "shape": ""
            }
           },
           "name": "United Kingdom",
           "offsetgroup": "United Kingdom",
           "orientation": "h",
           "showlegend": true,
           "textposition": "auto",
           "type": "bar",
           "x": [
            109
           ],
           "xaxis": "x",
           "y": [
            "United Kingdom"
           ],
           "yaxis": "y"
          },
          {
           "alignmentgroup": "True",
           "hovertemplate": "Pays=%{y}<br>release_year=1990<br>Nombre cumulé de films=%{x}<extra></extra>",
           "legendgroup": "Romania",
           "marker": {
            "color": "#636efa",
            "pattern": {
             "shape": ""
            }
           },
           "name": "Romania",
           "offsetgroup": "Romania",
           "orientation": "h",
           "showlegend": true,
           "textposition": "auto",
           "type": "bar",
           "x": [
            6
           ],
           "xaxis": "x",
           "y": [
            "Romania"
           ],
           "yaxis": "y"
          },
          {
           "alignmentgroup": "True",
           "hovertemplate": "Pays=%{y}<br>release_year=1990<br>Nombre cumulé de films=%{x}<extra></extra>",
           "legendgroup": "Mexico",
           "marker": {
            "color": "#FFA15A",
            "pattern": {
             "shape": ""
            }
           },
           "name": "Mexico",
           "offsetgroup": "Mexico",
           "orientation": "h",
           "showlegend": true,
           "textposition": "auto",
           "type": "bar",
           "x": [
            3
           ],
           "xaxis": "x",
           "y": [
            "Mexico"
           ],
           "yaxis": "y"
          },
          {
           "alignmentgroup": "True",
           "hovertemplate": "Pays=%{y}<br>release_year=1990<br>Nombre cumulé de films=%{x}<extra></extra>",
           "legendgroup": "Italy",
           "marker": {
            "color": "#19d3f3",
            "pattern": {
             "shape": ""
            }
           },
           "name": "Italy",
           "offsetgroup": "Italy",
           "orientation": "h",
           "showlegend": true,
           "textposition": "auto",
           "type": "bar",
           "x": [
            3
           ],
           "xaxis": "x",
           "y": [
            "Italy"
           ],
           "yaxis": "y"
          },
          {
           "alignmentgroup": "True",
           "hovertemplate": "Pays=%{y}<br>release_year=1990<br>Nombre cumulé de films=%{x}<extra></extra>",
           "legendgroup": "India",
           "marker": {
            "color": "#FF6692",
            "pattern": {
             "shape": ""
            }
           },
           "name": "India",
           "offsetgroup": "India",
           "orientation": "h",
           "showlegend": true,
           "textposition": "auto",
           "type": "bar",
           "x": [
            4
           ],
           "xaxis": "x",
           "y": [
            "India"
           ],
           "yaxis": "y"
          }
         ],
         "name": "1990"
        },
        {
         "data": [
          {
           "alignmentgroup": "True",
           "hovertemplate": "Pays=%{y}<br>release_year=1991<br>Nombre cumulé de films=%{x}<extra></extra>",
           "legendgroup": "Germany",
           "marker": {
            "color": "#636efa",
            "pattern": {
             "shape": ""
            }
           },
           "name": "Germany",
           "offsetgroup": "Germany",
           "orientation": "h",
           "showlegend": true,
           "textposition": "auto",
           "type": "bar",
           "x": [
            11
           ],
           "xaxis": "x",
           "y": [
            "Germany"
           ],
           "yaxis": "y"
          },
          {
           "alignmentgroup": "True",
           "hovertemplate": "Pays=%{y}<br>release_year=1991<br>Nombre cumulé de films=%{x}<extra></extra>",
           "legendgroup": "United States of America",
           "marker": {
            "color": "#EF553B",
            "pattern": {
             "shape": ""
            }
           },
           "name": "United States of America",
           "offsetgroup": "United States of America",
           "orientation": "h",
           "showlegend": true,
           "textposition": "auto",
           "type": "bar",
           "x": [
            61
           ],
           "xaxis": "x",
           "y": [
            "United States of America"
           ],
           "yaxis": "y"
          },
          {
           "alignmentgroup": "True",
           "hovertemplate": "Pays=%{y}<br>release_year=1991<br>Nombre cumulé de films=%{x}<extra></extra>",
           "legendgroup": "Canada",
           "marker": {
            "color": "#FFA15A",
            "pattern": {
             "shape": ""
            }
           },
           "name": "Canada",
           "offsetgroup": "Canada",
           "orientation": "h",
           "showlegend": true,
           "textposition": "auto",
           "type": "bar",
           "x": [
            11
           ],
           "xaxis": "x",
           "y": [
            "Canada"
           ],
           "yaxis": "y"
          },
          {
           "alignmentgroup": "True",
           "hovertemplate": "Pays=%{y}<br>release_year=1991<br>Nombre cumulé de films=%{x}<extra></extra>",
           "legendgroup": "France",
           "marker": {
            "color": "#19d3f3",
            "pattern": {
             "shape": ""
            }
           },
           "name": "France",
           "offsetgroup": "France",
           "orientation": "h",
           "showlegend": true,
           "textposition": "auto",
           "type": "bar",
           "x": [
            13
           ],
           "xaxis": "x",
           "y": [
            "France"
           ],
           "yaxis": "y"
          },
          {
           "alignmentgroup": "True",
           "hovertemplate": "Pays=%{y}<br>release_year=1991<br>Nombre cumulé de films=%{x}<extra></extra>",
           "legendgroup": "Czech Republic",
           "marker": {
            "color": "#FF6692",
            "pattern": {
             "shape": ""
            }
           },
           "name": "Czech Republic",
           "offsetgroup": "Czech Republic",
           "orientation": "h",
           "showlegend": true,
           "textposition": "auto",
           "type": "bar",
           "x": [
            4
           ],
           "xaxis": "x",
           "y": [
            "Czech Republic"
           ],
           "yaxis": "y"
          },
          {
           "alignmentgroup": "True",
           "hovertemplate": "Pays=%{y}<br>release_year=1991<br>Nombre cumulé de films=%{x}<extra></extra>",
           "legendgroup": "United Kingdom",
           "marker": {
            "color": "#FECB52",
            "pattern": {
             "shape": ""
            }
           },
           "name": "United Kingdom",
           "offsetgroup": "United Kingdom",
           "orientation": "h",
           "showlegend": true,
           "textposition": "auto",
           "type": "bar",
           "x": [
            114
           ],
           "xaxis": "x",
           "y": [
            "United Kingdom"
           ],
           "yaxis": "y"
          },
          {
           "alignmentgroup": "True",
           "hovertemplate": "Pays=%{y}<br>release_year=1991<br>Nombre cumulé de films=%{x}<extra></extra>",
           "legendgroup": "Romania",
           "marker": {
            "color": "#636efa",
            "pattern": {
             "shape": ""
            }
           },
           "name": "Romania",
           "offsetgroup": "Romania",
           "orientation": "h",
           "showlegend": true,
           "textposition": "auto",
           "type": "bar",
           "x": [
            6
           ],
           "xaxis": "x",
           "y": [
            "Romania"
           ],
           "yaxis": "y"
          },
          {
           "alignmentgroup": "True",
           "hovertemplate": "Pays=%{y}<br>release_year=1991<br>Nombre cumulé de films=%{x}<extra></extra>",
           "legendgroup": "Italy",
           "marker": {
            "color": "#19d3f3",
            "pattern": {
             "shape": ""
            }
           },
           "name": "Italy",
           "offsetgroup": "Italy",
           "orientation": "h",
           "showlegend": true,
           "textposition": "auto",
           "type": "bar",
           "x": [
            3
           ],
           "xaxis": "x",
           "y": [
            "Italy"
           ],
           "yaxis": "y"
          },
          {
           "alignmentgroup": "True",
           "hovertemplate": "Pays=%{y}<br>release_year=1991<br>Nombre cumulé de films=%{x}<extra></extra>",
           "legendgroup": "India",
           "marker": {
            "color": "#FF6692",
            "pattern": {
             "shape": ""
            }
           },
           "name": "India",
           "offsetgroup": "India",
           "orientation": "h",
           "showlegend": true,
           "textposition": "auto",
           "type": "bar",
           "x": [
            4
           ],
           "xaxis": "x",
           "y": [
            "India"
           ],
           "yaxis": "y"
          },
          {
           "alignmentgroup": "True",
           "hovertemplate": "Pays=%{y}<br>release_year=1991<br>Nombre cumulé de films=%{x}<extra></extra>",
           "legendgroup": "Poland",
           "marker": {
            "color": "#B6E880",
            "pattern": {
             "shape": ""
            }
           },
           "name": "Poland",
           "offsetgroup": "Poland",
           "orientation": "h",
           "showlegend": true,
           "textposition": "auto",
           "type": "bar",
           "x": [
            4
           ],
           "xaxis": "x",
           "y": [
            "Poland"
           ],
           "yaxis": "y"
          }
         ],
         "name": "1991"
        },
        {
         "data": [
          {
           "alignmentgroup": "True",
           "hovertemplate": "Pays=%{y}<br>release_year=1992<br>Nombre cumulé de films=%{x}<extra></extra>",
           "legendgroup": "Germany",
           "marker": {
            "color": "#636efa",
            "pattern": {
             "shape": ""
            }
           },
           "name": "Germany",
           "offsetgroup": "Germany",
           "orientation": "h",
           "showlegend": true,
           "textposition": "auto",
           "type": "bar",
           "x": [
            11
           ],
           "xaxis": "x",
           "y": [
            "Germany"
           ],
           "yaxis": "y"
          },
          {
           "alignmentgroup": "True",
           "hovertemplate": "Pays=%{y}<br>release_year=1992<br>Nombre cumulé de films=%{x}<extra></extra>",
           "legendgroup": "United States of America",
           "marker": {
            "color": "#EF553B",
            "pattern": {
             "shape": ""
            }
           },
           "name": "United States of America",
           "offsetgroup": "United States of America",
           "orientation": "h",
           "showlegend": true,
           "textposition": "auto",
           "type": "bar",
           "x": [
            64
           ],
           "xaxis": "x",
           "y": [
            "United States of America"
           ],
           "yaxis": "y"
          },
          {
           "alignmentgroup": "True",
           "hovertemplate": "Pays=%{y}<br>release_year=1992<br>Nombre cumulé de films=%{x}<extra></extra>",
           "legendgroup": "Canada",
           "marker": {
            "color": "#FFA15A",
            "pattern": {
             "shape": ""
            }
           },
           "name": "Canada",
           "offsetgroup": "Canada",
           "orientation": "h",
           "showlegend": true,
           "textposition": "auto",
           "type": "bar",
           "x": [
            11
           ],
           "xaxis": "x",
           "y": [
            "Canada"
           ],
           "yaxis": "y"
          },
          {
           "alignmentgroup": "True",
           "hovertemplate": "Pays=%{y}<br>release_year=1992<br>Nombre cumulé de films=%{x}<extra></extra>",
           "legendgroup": "France",
           "marker": {
            "color": "#19d3f3",
            "pattern": {
             "shape": ""
            }
           },
           "name": "France",
           "offsetgroup": "France",
           "orientation": "h",
           "showlegend": true,
           "textposition": "auto",
           "type": "bar",
           "x": [
            14
           ],
           "xaxis": "x",
           "y": [
            "France"
           ],
           "yaxis": "y"
          },
          {
           "alignmentgroup": "True",
           "hovertemplate": "Pays=%{y}<br>release_year=1992<br>Nombre cumulé de films=%{x}<extra></extra>",
           "legendgroup": "Czech Republic",
           "marker": {
            "color": "#FF6692",
            "pattern": {
             "shape": ""
            }
           },
           "name": "Czech Republic",
           "offsetgroup": "Czech Republic",
           "orientation": "h",
           "showlegend": true,
           "textposition": "auto",
           "type": "bar",
           "x": [
            4
           ],
           "xaxis": "x",
           "y": [
            "Czech Republic"
           ],
           "yaxis": "y"
          },
          {
           "alignmentgroup": "True",
           "hovertemplate": "Pays=%{y}<br>release_year=1992<br>Nombre cumulé de films=%{x}<extra></extra>",
           "legendgroup": "United Kingdom",
           "marker": {
            "color": "#FECB52",
            "pattern": {
             "shape": ""
            }
           },
           "name": "United Kingdom",
           "offsetgroup": "United Kingdom",
           "orientation": "h",
           "showlegend": true,
           "textposition": "auto",
           "type": "bar",
           "x": [
            123
           ],
           "xaxis": "x",
           "y": [
            "United Kingdom"
           ],
           "yaxis": "y"
          },
          {
           "alignmentgroup": "True",
           "hovertemplate": "Pays=%{y}<br>release_year=1992<br>Nombre cumulé de films=%{x}<extra></extra>",
           "legendgroup": "Romania",
           "marker": {
            "color": "#636efa",
            "pattern": {
             "shape": ""
            }
           },
           "name": "Romania",
           "offsetgroup": "Romania",
           "orientation": "h",
           "showlegend": true,
           "textposition": "auto",
           "type": "bar",
           "x": [
            6
           ],
           "xaxis": "x",
           "y": [
            "Romania"
           ],
           "yaxis": "y"
          },
          {
           "alignmentgroup": "True",
           "hovertemplate": "Pays=%{y}<br>release_year=1992<br>Nombre cumulé de films=%{x}<extra></extra>",
           "legendgroup": "Italy",
           "marker": {
            "color": "#19d3f3",
            "pattern": {
             "shape": ""
            }
           },
           "name": "Italy",
           "offsetgroup": "Italy",
           "orientation": "h",
           "showlegend": true,
           "textposition": "auto",
           "type": "bar",
           "x": [
            3
           ],
           "xaxis": "x",
           "y": [
            "Italy"
           ],
           "yaxis": "y"
          },
          {
           "alignmentgroup": "True",
           "hovertemplate": "Pays=%{y}<br>release_year=1992<br>Nombre cumulé de films=%{x}<extra></extra>",
           "legendgroup": "India",
           "marker": {
            "color": "#FF6692",
            "pattern": {
             "shape": ""
            }
           },
           "name": "India",
           "offsetgroup": "India",
           "orientation": "h",
           "showlegend": true,
           "textposition": "auto",
           "type": "bar",
           "x": [
            4
           ],
           "xaxis": "x",
           "y": [
            "India"
           ],
           "yaxis": "y"
          },
          {
           "alignmentgroup": "True",
           "hovertemplate": "Pays=%{y}<br>release_year=1992<br>Nombre cumulé de films=%{x}<extra></extra>",
           "legendgroup": "Poland",
           "marker": {
            "color": "#B6E880",
            "pattern": {
             "shape": ""
            }
           },
           "name": "Poland",
           "offsetgroup": "Poland",
           "orientation": "h",
           "showlegend": true,
           "textposition": "auto",
           "type": "bar",
           "x": [
            4
           ],
           "xaxis": "x",
           "y": [
            "Poland"
           ],
           "yaxis": "y"
          }
         ],
         "name": "1992"
        },
        {
         "data": [
          {
           "alignmentgroup": "True",
           "hovertemplate": "Pays=%{y}<br>release_year=1993<br>Nombre cumulé de films=%{x}<extra></extra>",
           "legendgroup": "Germany",
           "marker": {
            "color": "#636efa",
            "pattern": {
             "shape": ""
            }
           },
           "name": "Germany",
           "offsetgroup": "Germany",
           "orientation": "h",
           "showlegend": true,
           "textposition": "auto",
           "type": "bar",
           "x": [
            11
           ],
           "xaxis": "x",
           "y": [
            "Germany"
           ],
           "yaxis": "y"
          },
          {
           "alignmentgroup": "True",
           "hovertemplate": "Pays=%{y}<br>release_year=1993<br>Nombre cumulé de films=%{x}<extra></extra>",
           "legendgroup": "United States of America",
           "marker": {
            "color": "#EF553B",
            "pattern": {
             "shape": ""
            }
           },
           "name": "United States of America",
           "offsetgroup": "United States of America",
           "orientation": "h",
           "showlegend": true,
           "textposition": "auto",
           "type": "bar",
           "x": [
            67
           ],
           "xaxis": "x",
           "y": [
            "United States of America"
           ],
           "yaxis": "y"
          },
          {
           "alignmentgroup": "True",
           "hovertemplate": "Pays=%{y}<br>release_year=1993<br>Nombre cumulé de films=%{x}<extra></extra>",
           "legendgroup": "Canada",
           "marker": {
            "color": "#FFA15A",
            "pattern": {
             "shape": ""
            }
           },
           "name": "Canada",
           "offsetgroup": "Canada",
           "orientation": "h",
           "showlegend": true,
           "textposition": "auto",
           "type": "bar",
           "x": [
            11
           ],
           "xaxis": "x",
           "y": [
            "Canada"
           ],
           "yaxis": "y"
          },
          {
           "alignmentgroup": "True",
           "hovertemplate": "Pays=%{y}<br>release_year=1993<br>Nombre cumulé de films=%{x}<extra></extra>",
           "legendgroup": "France",
           "marker": {
            "color": "#19d3f3",
            "pattern": {
             "shape": ""
            }
           },
           "name": "France",
           "offsetgroup": "France",
           "orientation": "h",
           "showlegend": true,
           "textposition": "auto",
           "type": "bar",
           "x": [
            15
           ],
           "xaxis": "x",
           "y": [
            "France"
           ],
           "yaxis": "y"
          },
          {
           "alignmentgroup": "True",
           "hovertemplate": "Pays=%{y}<br>release_year=1993<br>Nombre cumulé de films=%{x}<extra></extra>",
           "legendgroup": "Czech Republic",
           "marker": {
            "color": "#FF6692",
            "pattern": {
             "shape": ""
            }
           },
           "name": "Czech Republic",
           "offsetgroup": "Czech Republic",
           "orientation": "h",
           "showlegend": true,
           "textposition": "auto",
           "type": "bar",
           "x": [
            4
           ],
           "xaxis": "x",
           "y": [
            "Czech Republic"
           ],
           "yaxis": "y"
          },
          {
           "alignmentgroup": "True",
           "hovertemplate": "Pays=%{y}<br>release_year=1993<br>Nombre cumulé de films=%{x}<extra></extra>",
           "legendgroup": "United Kingdom",
           "marker": {
            "color": "#FECB52",
            "pattern": {
             "shape": ""
            }
           },
           "name": "United Kingdom",
           "offsetgroup": "United Kingdom",
           "orientation": "h",
           "showlegend": true,
           "textposition": "auto",
           "type": "bar",
           "x": [
            124
           ],
           "xaxis": "x",
           "y": [
            "United Kingdom"
           ],
           "yaxis": "y"
          },
          {
           "alignmentgroup": "True",
           "hovertemplate": "Pays=%{y}<br>release_year=1993<br>Nombre cumulé de films=%{x}<extra></extra>",
           "legendgroup": "Romania",
           "marker": {
            "color": "#636efa",
            "pattern": {
             "shape": ""
            }
           },
           "name": "Romania",
           "offsetgroup": "Romania",
           "orientation": "h",
           "showlegend": true,
           "textposition": "auto",
           "type": "bar",
           "x": [
            6
           ],
           "xaxis": "x",
           "y": [
            "Romania"
           ],
           "yaxis": "y"
          },
          {
           "alignmentgroup": "True",
           "hovertemplate": "Pays=%{y}<br>release_year=1993<br>Nombre cumulé de films=%{x}<extra></extra>",
           "legendgroup": "Italy",
           "marker": {
            "color": "#19d3f3",
            "pattern": {
             "shape": ""
            }
           },
           "name": "Italy",
           "offsetgroup": "Italy",
           "orientation": "h",
           "showlegend": true,
           "textposition": "auto",
           "type": "bar",
           "x": [
            3
           ],
           "xaxis": "x",
           "y": [
            "Italy"
           ],
           "yaxis": "y"
          },
          {
           "alignmentgroup": "True",
           "hovertemplate": "Pays=%{y}<br>release_year=1993<br>Nombre cumulé de films=%{x}<extra></extra>",
           "legendgroup": "India",
           "marker": {
            "color": "#FF6692",
            "pattern": {
             "shape": ""
            }
           },
           "name": "India",
           "offsetgroup": "India",
           "orientation": "h",
           "showlegend": true,
           "textposition": "auto",
           "type": "bar",
           "x": [
            4
           ],
           "xaxis": "x",
           "y": [
            "India"
           ],
           "yaxis": "y"
          },
          {
           "alignmentgroup": "True",
           "hovertemplate": "Pays=%{y}<br>release_year=1993<br>Nombre cumulé de films=%{x}<extra></extra>",
           "legendgroup": "Poland",
           "marker": {
            "color": "#B6E880",
            "pattern": {
             "shape": ""
            }
           },
           "name": "Poland",
           "offsetgroup": "Poland",
           "orientation": "h",
           "showlegend": true,
           "textposition": "auto",
           "type": "bar",
           "x": [
            4
           ],
           "xaxis": "x",
           "y": [
            "Poland"
           ],
           "yaxis": "y"
          }
         ],
         "name": "1993"
        },
        {
         "data": [
          {
           "alignmentgroup": "True",
           "hovertemplate": "Pays=%{y}<br>release_year=1994<br>Nombre cumulé de films=%{x}<extra></extra>",
           "legendgroup": "Germany",
           "marker": {
            "color": "#636efa",
            "pattern": {
             "shape": ""
            }
           },
           "name": "Germany",
           "offsetgroup": "Germany",
           "orientation": "h",
           "showlegend": true,
           "textposition": "auto",
           "type": "bar",
           "x": [
            13
           ],
           "xaxis": "x",
           "y": [
            "Germany"
           ],
           "yaxis": "y"
          },
          {
           "alignmentgroup": "True",
           "hovertemplate": "Pays=%{y}<br>release_year=1994<br>Nombre cumulé de films=%{x}<extra></extra>",
           "legendgroup": "United States of America",
           "marker": {
            "color": "#EF553B",
            "pattern": {
             "shape": ""
            }
           },
           "name": "United States of America",
           "offsetgroup": "United States of America",
           "orientation": "h",
           "showlegend": true,
           "textposition": "auto",
           "type": "bar",
           "x": [
            71
           ],
           "xaxis": "x",
           "y": [
            "United States of America"
           ],
           "yaxis": "y"
          },
          {
           "alignmentgroup": "True",
           "hovertemplate": "Pays=%{y}<br>release_year=1994<br>Nombre cumulé de films=%{x}<extra></extra>",
           "legendgroup": "Canada",
           "marker": {
            "color": "#FFA15A",
            "pattern": {
             "shape": ""
            }
           },
           "name": "Canada",
           "offsetgroup": "Canada",
           "orientation": "h",
           "showlegend": true,
           "textposition": "auto",
           "type": "bar",
           "x": [
            11
           ],
           "xaxis": "x",
           "y": [
            "Canada"
           ],
           "yaxis": "y"
          },
          {
           "alignmentgroup": "True",
           "hovertemplate": "Pays=%{y}<br>release_year=1994<br>Nombre cumulé de films=%{x}<extra></extra>",
           "legendgroup": "France",
           "marker": {
            "color": "#19d3f3",
            "pattern": {
             "shape": ""
            }
           },
           "name": "France",
           "offsetgroup": "France",
           "orientation": "h",
           "showlegend": true,
           "textposition": "auto",
           "type": "bar",
           "x": [
            15
           ],
           "xaxis": "x",
           "y": [
            "France"
           ],
           "yaxis": "y"
          },
          {
           "alignmentgroup": "True",
           "hovertemplate": "Pays=%{y}<br>release_year=1994<br>Nombre cumulé de films=%{x}<extra></extra>",
           "legendgroup": "Czech Republic",
           "marker": {
            "color": "#FF6692",
            "pattern": {
             "shape": ""
            }
           },
           "name": "Czech Republic",
           "offsetgroup": "Czech Republic",
           "orientation": "h",
           "showlegend": true,
           "textposition": "auto",
           "type": "bar",
           "x": [
            4
           ],
           "xaxis": "x",
           "y": [
            "Czech Republic"
           ],
           "yaxis": "y"
          },
          {
           "alignmentgroup": "True",
           "hovertemplate": "Pays=%{y}<br>release_year=1994<br>Nombre cumulé de films=%{x}<extra></extra>",
           "legendgroup": "United Kingdom",
           "marker": {
            "color": "#FECB52",
            "pattern": {
             "shape": ""
            }
           },
           "name": "United Kingdom",
           "offsetgroup": "United Kingdom",
           "orientation": "h",
           "showlegend": true,
           "textposition": "auto",
           "type": "bar",
           "x": [
            129
           ],
           "xaxis": "x",
           "y": [
            "United Kingdom"
           ],
           "yaxis": "y"
          },
          {
           "alignmentgroup": "True",
           "hovertemplate": "Pays=%{y}<br>release_year=1994<br>Nombre cumulé de films=%{x}<extra></extra>",
           "legendgroup": "Romania",
           "marker": {
            "color": "#636efa",
            "pattern": {
             "shape": ""
            }
           },
           "name": "Romania",
           "offsetgroup": "Romania",
           "orientation": "h",
           "showlegend": true,
           "textposition": "auto",
           "type": "bar",
           "x": [
            6
           ],
           "xaxis": "x",
           "y": [
            "Romania"
           ],
           "yaxis": "y"
          },
          {
           "alignmentgroup": "True",
           "hovertemplate": "Pays=%{y}<br>release_year=1994<br>Nombre cumulé de films=%{x}<extra></extra>",
           "legendgroup": "Italy",
           "marker": {
            "color": "#19d3f3",
            "pattern": {
             "shape": ""
            }
           },
           "name": "Italy",
           "offsetgroup": "Italy",
           "orientation": "h",
           "showlegend": true,
           "textposition": "auto",
           "type": "bar",
           "x": [
            3
           ],
           "xaxis": "x",
           "y": [
            "Italy"
           ],
           "yaxis": "y"
          },
          {
           "alignmentgroup": "True",
           "hovertemplate": "Pays=%{y}<br>release_year=1994<br>Nombre cumulé de films=%{x}<extra></extra>",
           "legendgroup": "India",
           "marker": {
            "color": "#FF6692",
            "pattern": {
             "shape": ""
            }
           },
           "name": "India",
           "offsetgroup": "India",
           "orientation": "h",
           "showlegend": true,
           "textposition": "auto",
           "type": "bar",
           "x": [
            4
           ],
           "xaxis": "x",
           "y": [
            "India"
           ],
           "yaxis": "y"
          },
          {
           "alignmentgroup": "True",
           "hovertemplate": "Pays=%{y}<br>release_year=1994<br>Nombre cumulé de films=%{x}<extra></extra>",
           "legendgroup": "Poland",
           "marker": {
            "color": "#B6E880",
            "pattern": {
             "shape": ""
            }
           },
           "name": "Poland",
           "offsetgroup": "Poland",
           "orientation": "h",
           "showlegend": true,
           "textposition": "auto",
           "type": "bar",
           "x": [
            4
           ],
           "xaxis": "x",
           "y": [
            "Poland"
           ],
           "yaxis": "y"
          }
         ],
         "name": "1994"
        },
        {
         "data": [
          {
           "alignmentgroup": "True",
           "hovertemplate": "Pays=%{y}<br>release_year=1995<br>Nombre cumulé de films=%{x}<extra></extra>",
           "legendgroup": "Germany",
           "marker": {
            "color": "#636efa",
            "pattern": {
             "shape": ""
            }
           },
           "name": "Germany",
           "offsetgroup": "Germany",
           "orientation": "h",
           "showlegend": true,
           "textposition": "auto",
           "type": "bar",
           "x": [
            13
           ],
           "xaxis": "x",
           "y": [
            "Germany"
           ],
           "yaxis": "y"
          },
          {
           "alignmentgroup": "True",
           "hovertemplate": "Pays=%{y}<br>release_year=1995<br>Nombre cumulé de films=%{x}<extra></extra>",
           "legendgroup": "United States of America",
           "marker": {
            "color": "#EF553B",
            "pattern": {
             "shape": ""
            }
           },
           "name": "United States of America",
           "offsetgroup": "United States of America",
           "orientation": "h",
           "showlegend": true,
           "textposition": "auto",
           "type": "bar",
           "x": [
            75
           ],
           "xaxis": "x",
           "y": [
            "United States of America"
           ],
           "yaxis": "y"
          },
          {
           "alignmentgroup": "True",
           "hovertemplate": "Pays=%{y}<br>release_year=1995<br>Nombre cumulé de films=%{x}<extra></extra>",
           "legendgroup": "Canada",
           "marker": {
            "color": "#FFA15A",
            "pattern": {
             "shape": ""
            }
           },
           "name": "Canada",
           "offsetgroup": "Canada",
           "orientation": "h",
           "showlegend": true,
           "textposition": "auto",
           "type": "bar",
           "x": [
            12
           ],
           "xaxis": "x",
           "y": [
            "Canada"
           ],
           "yaxis": "y"
          },
          {
           "alignmentgroup": "True",
           "hovertemplate": "Pays=%{y}<br>release_year=1995<br>Nombre cumulé de films=%{x}<extra></extra>",
           "legendgroup": "France",
           "marker": {
            "color": "#19d3f3",
            "pattern": {
             "shape": ""
            }
           },
           "name": "France",
           "offsetgroup": "France",
           "orientation": "h",
           "showlegend": true,
           "textposition": "auto",
           "type": "bar",
           "x": [
            16
           ],
           "xaxis": "x",
           "y": [
            "France"
           ],
           "yaxis": "y"
          },
          {
           "alignmentgroup": "True",
           "hovertemplate": "Pays=%{y}<br>release_year=1995<br>Nombre cumulé de films=%{x}<extra></extra>",
           "legendgroup": "Czech Republic",
           "marker": {
            "color": "#FF6692",
            "pattern": {
             "shape": ""
            }
           },
           "name": "Czech Republic",
           "offsetgroup": "Czech Republic",
           "orientation": "h",
           "showlegend": true,
           "textposition": "auto",
           "type": "bar",
           "x": [
            4
           ],
           "xaxis": "x",
           "y": [
            "Czech Republic"
           ],
           "yaxis": "y"
          },
          {
           "alignmentgroup": "True",
           "hovertemplate": "Pays=%{y}<br>release_year=1995<br>Nombre cumulé de films=%{x}<extra></extra>",
           "legendgroup": "United Kingdom",
           "marker": {
            "color": "#FECB52",
            "pattern": {
             "shape": ""
            }
           },
           "name": "United Kingdom",
           "offsetgroup": "United Kingdom",
           "orientation": "h",
           "showlegend": true,
           "textposition": "auto",
           "type": "bar",
           "x": [
            140
           ],
           "xaxis": "x",
           "y": [
            "United Kingdom"
           ],
           "yaxis": "y"
          },
          {
           "alignmentgroup": "True",
           "hovertemplate": "Pays=%{y}<br>release_year=1995<br>Nombre cumulé de films=%{x}<extra></extra>",
           "legendgroup": "Romania",
           "marker": {
            "color": "#636efa",
            "pattern": {
             "shape": ""
            }
           },
           "name": "Romania",
           "offsetgroup": "Romania",
           "orientation": "h",
           "showlegend": true,
           "textposition": "auto",
           "type": "bar",
           "x": [
            6
           ],
           "xaxis": "x",
           "y": [
            "Romania"
           ],
           "yaxis": "y"
          },
          {
           "alignmentgroup": "True",
           "hovertemplate": "Pays=%{y}<br>release_year=1995<br>Nombre cumulé de films=%{x}<extra></extra>",
           "legendgroup": "Italy",
           "marker": {
            "color": "#19d3f3",
            "pattern": {
             "shape": ""
            }
           },
           "name": "Italy",
           "offsetgroup": "Italy",
           "orientation": "h",
           "showlegend": true,
           "textposition": "auto",
           "type": "bar",
           "x": [
            3
           ],
           "xaxis": "x",
           "y": [
            "Italy"
           ],
           "yaxis": "y"
          },
          {
           "alignmentgroup": "True",
           "hovertemplate": "Pays=%{y}<br>release_year=1995<br>Nombre cumulé de films=%{x}<extra></extra>",
           "legendgroup": "India",
           "marker": {
            "color": "#FF6692",
            "pattern": {
             "shape": ""
            }
           },
           "name": "India",
           "offsetgroup": "India",
           "orientation": "h",
           "showlegend": true,
           "textposition": "auto",
           "type": "bar",
           "x": [
            4
           ],
           "xaxis": "x",
           "y": [
            "India"
           ],
           "yaxis": "y"
          },
          {
           "alignmentgroup": "True",
           "hovertemplate": "Pays=%{y}<br>release_year=1995<br>Nombre cumulé de films=%{x}<extra></extra>",
           "legendgroup": "Poland",
           "marker": {
            "color": "#B6E880",
            "pattern": {
             "shape": ""
            }
           },
           "name": "Poland",
           "offsetgroup": "Poland",
           "orientation": "h",
           "showlegend": true,
           "textposition": "auto",
           "type": "bar",
           "x": [
            4
           ],
           "xaxis": "x",
           "y": [
            "Poland"
           ],
           "yaxis": "y"
          }
         ],
         "name": "1995"
        },
        {
         "data": [
          {
           "alignmentgroup": "True",
           "hovertemplate": "Pays=%{y}<br>release_year=1996<br>Nombre cumulé de films=%{x}<extra></extra>",
           "legendgroup": "Germany",
           "marker": {
            "color": "#636efa",
            "pattern": {
             "shape": ""
            }
           },
           "name": "Germany",
           "offsetgroup": "Germany",
           "orientation": "h",
           "showlegend": true,
           "textposition": "auto",
           "type": "bar",
           "x": [
            13
           ],
           "xaxis": "x",
           "y": [
            "Germany"
           ],
           "yaxis": "y"
          },
          {
           "alignmentgroup": "True",
           "hovertemplate": "Pays=%{y}<br>release_year=1996<br>Nombre cumulé de films=%{x}<extra></extra>",
           "legendgroup": "United States of America",
           "marker": {
            "color": "#EF553B",
            "pattern": {
             "shape": ""
            }
           },
           "name": "United States of America",
           "offsetgroup": "United States of America",
           "orientation": "h",
           "showlegend": true,
           "textposition": "auto",
           "type": "bar",
           "x": [
            76
           ],
           "xaxis": "x",
           "y": [
            "United States of America"
           ],
           "yaxis": "y"
          },
          {
           "alignmentgroup": "True",
           "hovertemplate": "Pays=%{y}<br>release_year=1996<br>Nombre cumulé de films=%{x}<extra></extra>",
           "legendgroup": "Canada",
           "marker": {
            "color": "#FFA15A",
            "pattern": {
             "shape": ""
            }
           },
           "name": "Canada",
           "offsetgroup": "Canada",
           "orientation": "h",
           "showlegend": true,
           "textposition": "auto",
           "type": "bar",
           "x": [
            12
           ],
           "xaxis": "x",
           "y": [
            "Canada"
           ],
           "yaxis": "y"
          },
          {
           "alignmentgroup": "True",
           "hovertemplate": "Pays=%{y}<br>release_year=1996<br>Nombre cumulé de films=%{x}<extra></extra>",
           "legendgroup": "France",
           "marker": {
            "color": "#19d3f3",
            "pattern": {
             "shape": ""
            }
           },
           "name": "France",
           "offsetgroup": "France",
           "orientation": "h",
           "showlegend": true,
           "textposition": "auto",
           "type": "bar",
           "x": [
            16
           ],
           "xaxis": "x",
           "y": [
            "France"
           ],
           "yaxis": "y"
          },
          {
           "alignmentgroup": "True",
           "hovertemplate": "Pays=%{y}<br>release_year=1996<br>Nombre cumulé de films=%{x}<extra></extra>",
           "legendgroup": "Czech Republic",
           "marker": {
            "color": "#FF6692",
            "pattern": {
             "shape": ""
            }
           },
           "name": "Czech Republic",
           "offsetgroup": "Czech Republic",
           "orientation": "h",
           "showlegend": true,
           "textposition": "auto",
           "type": "bar",
           "x": [
            4
           ],
           "xaxis": "x",
           "y": [
            "Czech Republic"
           ],
           "yaxis": "y"
          },
          {
           "alignmentgroup": "True",
           "hovertemplate": "Pays=%{y}<br>release_year=1996<br>Nombre cumulé de films=%{x}<extra></extra>",
           "legendgroup": "United Kingdom",
           "marker": {
            "color": "#FECB52",
            "pattern": {
             "shape": ""
            }
           },
           "name": "United Kingdom",
           "offsetgroup": "United Kingdom",
           "orientation": "h",
           "showlegend": true,
           "textposition": "auto",
           "type": "bar",
           "x": [
            146
           ],
           "xaxis": "x",
           "y": [
            "United Kingdom"
           ],
           "yaxis": "y"
          },
          {
           "alignmentgroup": "True",
           "hovertemplate": "Pays=%{y}<br>release_year=1996<br>Nombre cumulé de films=%{x}<extra></extra>",
           "legendgroup": "Romania",
           "marker": {
            "color": "#636efa",
            "pattern": {
             "shape": ""
            }
           },
           "name": "Romania",
           "offsetgroup": "Romania",
           "orientation": "h",
           "showlegend": true,
           "textposition": "auto",
           "type": "bar",
           "x": [
            6
           ],
           "xaxis": "x",
           "y": [
            "Romania"
           ],
           "yaxis": "y"
          },
          {
           "alignmentgroup": "True",
           "hovertemplate": "Pays=%{y}<br>release_year=1996<br>Nombre cumulé de films=%{x}<extra></extra>",
           "legendgroup": "Italy",
           "marker": {
            "color": "#19d3f3",
            "pattern": {
             "shape": ""
            }
           },
           "name": "Italy",
           "offsetgroup": "Italy",
           "orientation": "h",
           "showlegend": true,
           "textposition": "auto",
           "type": "bar",
           "x": [
            3
           ],
           "xaxis": "x",
           "y": [
            "Italy"
           ],
           "yaxis": "y"
          },
          {
           "alignmentgroup": "True",
           "hovertemplate": "Pays=%{y}<br>release_year=1996<br>Nombre cumulé de films=%{x}<extra></extra>",
           "legendgroup": "India",
           "marker": {
            "color": "#FF6692",
            "pattern": {
             "shape": ""
            }
           },
           "name": "India",
           "offsetgroup": "India",
           "orientation": "h",
           "showlegend": true,
           "textposition": "auto",
           "type": "bar",
           "x": [
            12
           ],
           "xaxis": "x",
           "y": [
            "India"
           ],
           "yaxis": "y"
          },
          {
           "alignmentgroup": "True",
           "hovertemplate": "Pays=%{y}<br>release_year=1996<br>Nombre cumulé de films=%{x}<extra></extra>",
           "legendgroup": "Poland",
           "marker": {
            "color": "#B6E880",
            "pattern": {
             "shape": ""
            }
           },
           "name": "Poland",
           "offsetgroup": "Poland",
           "orientation": "h",
           "showlegend": true,
           "textposition": "auto",
           "type": "bar",
           "x": [
            4
           ],
           "xaxis": "x",
           "y": [
            "Poland"
           ],
           "yaxis": "y"
          }
         ],
         "name": "1996"
        },
        {
         "data": [
          {
           "alignmentgroup": "True",
           "hovertemplate": "Pays=%{y}<br>release_year=1997<br>Nombre cumulé de films=%{x}<extra></extra>",
           "legendgroup": "Germany",
           "marker": {
            "color": "#636efa",
            "pattern": {
             "shape": ""
            }
           },
           "name": "Germany",
           "offsetgroup": "Germany",
           "orientation": "h",
           "showlegend": true,
           "textposition": "auto",
           "type": "bar",
           "x": [
            15
           ],
           "xaxis": "x",
           "y": [
            "Germany"
           ],
           "yaxis": "y"
          },
          {
           "alignmentgroup": "True",
           "hovertemplate": "Pays=%{y}<br>release_year=1997<br>Nombre cumulé de films=%{x}<extra></extra>",
           "legendgroup": "United States of America",
           "marker": {
            "color": "#EF553B",
            "pattern": {
             "shape": ""
            }
           },
           "name": "United States of America",
           "offsetgroup": "United States of America",
           "orientation": "h",
           "showlegend": true,
           "textposition": "auto",
           "type": "bar",
           "x": [
            80
           ],
           "xaxis": "x",
           "y": [
            "United States of America"
           ],
           "yaxis": "y"
          },
          {
           "alignmentgroup": "True",
           "hovertemplate": "Pays=%{y}<br>release_year=1997<br>Nombre cumulé de films=%{x}<extra></extra>",
           "legendgroup": "Canada",
           "marker": {
            "color": "#FFA15A",
            "pattern": {
             "shape": ""
            }
           },
           "name": "Canada",
           "offsetgroup": "Canada",
           "orientation": "h",
           "showlegend": true,
           "textposition": "auto",
           "type": "bar",
           "x": [
            13
           ],
           "xaxis": "x",
           "y": [
            "Canada"
           ],
           "yaxis": "y"
          },
          {
           "alignmentgroup": "True",
           "hovertemplate": "Pays=%{y}<br>release_year=1997<br>Nombre cumulé de films=%{x}<extra></extra>",
           "legendgroup": "France",
           "marker": {
            "color": "#19d3f3",
            "pattern": {
             "shape": ""
            }
           },
           "name": "France",
           "offsetgroup": "France",
           "orientation": "h",
           "showlegend": true,
           "textposition": "auto",
           "type": "bar",
           "x": [
            16
           ],
           "xaxis": "x",
           "y": [
            "France"
           ],
           "yaxis": "y"
          },
          {
           "alignmentgroup": "True",
           "hovertemplate": "Pays=%{y}<br>release_year=1997<br>Nombre cumulé de films=%{x}<extra></extra>",
           "legendgroup": "Czech Republic",
           "marker": {
            "color": "#FF6692",
            "pattern": {
             "shape": ""
            }
           },
           "name": "Czech Republic",
           "offsetgroup": "Czech Republic",
           "orientation": "h",
           "showlegend": true,
           "textposition": "auto",
           "type": "bar",
           "x": [
            4
           ],
           "xaxis": "x",
           "y": [
            "Czech Republic"
           ],
           "yaxis": "y"
          },
          {
           "alignmentgroup": "True",
           "hovertemplate": "Pays=%{y}<br>release_year=1997<br>Nombre cumulé de films=%{x}<extra></extra>",
           "legendgroup": "United Kingdom",
           "marker": {
            "color": "#FECB52",
            "pattern": {
             "shape": ""
            }
           },
           "name": "United Kingdom",
           "offsetgroup": "United Kingdom",
           "orientation": "h",
           "showlegend": true,
           "textposition": "auto",
           "type": "bar",
           "x": [
            150
           ],
           "xaxis": "x",
           "y": [
            "United Kingdom"
           ],
           "yaxis": "y"
          },
          {
           "alignmentgroup": "True",
           "hovertemplate": "Pays=%{y}<br>release_year=1997<br>Nombre cumulé de films=%{x}<extra></extra>",
           "legendgroup": "Romania",
           "marker": {
            "color": "#636efa",
            "pattern": {
             "shape": ""
            }
           },
           "name": "Romania",
           "offsetgroup": "Romania",
           "orientation": "h",
           "showlegend": true,
           "textposition": "auto",
           "type": "bar",
           "x": [
            6
           ],
           "xaxis": "x",
           "y": [
            "Romania"
           ],
           "yaxis": "y"
          },
          {
           "alignmentgroup": "True",
           "hovertemplate": "Pays=%{y}<br>release_year=1997<br>Nombre cumulé de films=%{x}<extra></extra>",
           "legendgroup": "Italy",
           "marker": {
            "color": "#19d3f3",
            "pattern": {
             "shape": ""
            }
           },
           "name": "Italy",
           "offsetgroup": "Italy",
           "orientation": "h",
           "showlegend": true,
           "textposition": "auto",
           "type": "bar",
           "x": [
            3
           ],
           "xaxis": "x",
           "y": [
            "Italy"
           ],
           "yaxis": "y"
          },
          {
           "alignmentgroup": "True",
           "hovertemplate": "Pays=%{y}<br>release_year=1997<br>Nombre cumulé de films=%{x}<extra></extra>",
           "legendgroup": "India",
           "marker": {
            "color": "#FF6692",
            "pattern": {
             "shape": ""
            }
           },
           "name": "India",
           "offsetgroup": "India",
           "orientation": "h",
           "showlegend": true,
           "textposition": "auto",
           "type": "bar",
           "x": [
            12
           ],
           "xaxis": "x",
           "y": [
            "India"
           ],
           "yaxis": "y"
          },
          {
           "alignmentgroup": "True",
           "hovertemplate": "Pays=%{y}<br>release_year=1997<br>Nombre cumulé de films=%{x}<extra></extra>",
           "legendgroup": "Poland",
           "marker": {
            "color": "#B6E880",
            "pattern": {
             "shape": ""
            }
           },
           "name": "Poland",
           "offsetgroup": "Poland",
           "orientation": "h",
           "showlegend": true,
           "textposition": "auto",
           "type": "bar",
           "x": [
            4
           ],
           "xaxis": "x",
           "y": [
            "Poland"
           ],
           "yaxis": "y"
          }
         ],
         "name": "1997"
        },
        {
         "data": [
          {
           "alignmentgroup": "True",
           "hovertemplate": "Pays=%{y}<br>release_year=1998<br>Nombre cumulé de films=%{x}<extra></extra>",
           "legendgroup": "Germany",
           "marker": {
            "color": "#636efa",
            "pattern": {
             "shape": ""
            }
           },
           "name": "Germany",
           "offsetgroup": "Germany",
           "orientation": "h",
           "showlegend": true,
           "textposition": "auto",
           "type": "bar",
           "x": [
            15
           ],
           "xaxis": "x",
           "y": [
            "Germany"
           ],
           "yaxis": "y"
          },
          {
           "alignmentgroup": "True",
           "hovertemplate": "Pays=%{y}<br>release_year=1998<br>Nombre cumulé de films=%{x}<extra></extra>",
           "legendgroup": "United States of America",
           "marker": {
            "color": "#EF553B",
            "pattern": {
             "shape": ""
            }
           },
           "name": "United States of America",
           "offsetgroup": "United States of America",
           "orientation": "h",
           "showlegend": true,
           "textposition": "auto",
           "type": "bar",
           "x": [
            84
           ],
           "xaxis": "x",
           "y": [
            "United States of America"
           ],
           "yaxis": "y"
          },
          {
           "alignmentgroup": "True",
           "hovertemplate": "Pays=%{y}<br>release_year=1998<br>Nombre cumulé de films=%{x}<extra></extra>",
           "legendgroup": "Canada",
           "marker": {
            "color": "#FFA15A",
            "pattern": {
             "shape": ""
            }
           },
           "name": "Canada",
           "offsetgroup": "Canada",
           "orientation": "h",
           "showlegend": true,
           "textposition": "auto",
           "type": "bar",
           "x": [
            14
           ],
           "xaxis": "x",
           "y": [
            "Canada"
           ],
           "yaxis": "y"
          },
          {
           "alignmentgroup": "True",
           "hovertemplate": "Pays=%{y}<br>release_year=1998<br>Nombre cumulé de films=%{x}<extra></extra>",
           "legendgroup": "France",
           "marker": {
            "color": "#19d3f3",
            "pattern": {
             "shape": ""
            }
           },
           "name": "France",
           "offsetgroup": "France",
           "orientation": "h",
           "showlegend": true,
           "textposition": "auto",
           "type": "bar",
           "x": [
            20
           ],
           "xaxis": "x",
           "y": [
            "France"
           ],
           "yaxis": "y"
          },
          {
           "alignmentgroup": "True",
           "hovertemplate": "Pays=%{y}<br>release_year=1998<br>Nombre cumulé de films=%{x}<extra></extra>",
           "legendgroup": "Czech Republic",
           "marker": {
            "color": "#FF6692",
            "pattern": {
             "shape": ""
            }
           },
           "name": "Czech Republic",
           "offsetgroup": "Czech Republic",
           "orientation": "h",
           "showlegend": true,
           "textposition": "auto",
           "type": "bar",
           "x": [
            4
           ],
           "xaxis": "x",
           "y": [
            "Czech Republic"
           ],
           "yaxis": "y"
          },
          {
           "alignmentgroup": "True",
           "hovertemplate": "Pays=%{y}<br>release_year=1998<br>Nombre cumulé de films=%{x}<extra></extra>",
           "legendgroup": "United Kingdom",
           "marker": {
            "color": "#FECB52",
            "pattern": {
             "shape": ""
            }
           },
           "name": "United Kingdom",
           "offsetgroup": "United Kingdom",
           "orientation": "h",
           "showlegend": true,
           "textposition": "auto",
           "type": "bar",
           "x": [
            153
           ],
           "xaxis": "x",
           "y": [
            "United Kingdom"
           ],
           "yaxis": "y"
          },
          {
           "alignmentgroup": "True",
           "hovertemplate": "Pays=%{y}<br>release_year=1998<br>Nombre cumulé de films=%{x}<extra></extra>",
           "legendgroup": "Romania",
           "marker": {
            "color": "#636efa",
            "pattern": {
             "shape": ""
            }
           },
           "name": "Romania",
           "offsetgroup": "Romania",
           "orientation": "h",
           "showlegend": true,
           "textposition": "auto",
           "type": "bar",
           "x": [
            6
           ],
           "xaxis": "x",
           "y": [
            "Romania"
           ],
           "yaxis": "y"
          },
          {
           "alignmentgroup": "True",
           "hovertemplate": "Pays=%{y}<br>release_year=1998<br>Nombre cumulé de films=%{x}<extra></extra>",
           "legendgroup": "Italy",
           "marker": {
            "color": "#19d3f3",
            "pattern": {
             "shape": ""
            }
           },
           "name": "Italy",
           "offsetgroup": "Italy",
           "orientation": "h",
           "showlegend": true,
           "textposition": "auto",
           "type": "bar",
           "x": [
            3
           ],
           "xaxis": "x",
           "y": [
            "Italy"
           ],
           "yaxis": "y"
          },
          {
           "alignmentgroup": "True",
           "hovertemplate": "Pays=%{y}<br>release_year=1998<br>Nombre cumulé de films=%{x}<extra></extra>",
           "legendgroup": "India",
           "marker": {
            "color": "#FF6692",
            "pattern": {
             "shape": ""
            }
           },
           "name": "India",
           "offsetgroup": "India",
           "orientation": "h",
           "showlegend": true,
           "textposition": "auto",
           "type": "bar",
           "x": [
            12
           ],
           "xaxis": "x",
           "y": [
            "India"
           ],
           "yaxis": "y"
          },
          {
           "alignmentgroup": "True",
           "hovertemplate": "Pays=%{y}<br>release_year=1998<br>Nombre cumulé de films=%{x}<extra></extra>",
           "legendgroup": "Poland",
           "marker": {
            "color": "#B6E880",
            "pattern": {
             "shape": ""
            }
           },
           "name": "Poland",
           "offsetgroup": "Poland",
           "orientation": "h",
           "showlegend": true,
           "textposition": "auto",
           "type": "bar",
           "x": [
            4
           ],
           "xaxis": "x",
           "y": [
            "Poland"
           ],
           "yaxis": "y"
          }
         ],
         "name": "1998"
        },
        {
         "data": [
          {
           "alignmentgroup": "True",
           "hovertemplate": "Pays=%{y}<br>release_year=1999<br>Nombre cumulé de films=%{x}<extra></extra>",
           "legendgroup": "Germany",
           "marker": {
            "color": "#636efa",
            "pattern": {
             "shape": ""
            }
           },
           "name": "Germany",
           "offsetgroup": "Germany",
           "orientation": "h",
           "showlegend": true,
           "textposition": "auto",
           "type": "bar",
           "x": [
            15
           ],
           "xaxis": "x",
           "y": [
            "Germany"
           ],
           "yaxis": "y"
          },
          {
           "alignmentgroup": "True",
           "hovertemplate": "Pays=%{y}<br>release_year=1999<br>Nombre cumulé de films=%{x}<extra></extra>",
           "legendgroup": "United States of America",
           "marker": {
            "color": "#EF553B",
            "pattern": {
             "shape": ""
            }
           },
           "name": "United States of America",
           "offsetgroup": "United States of America",
           "orientation": "h",
           "showlegend": true,
           "textposition": "auto",
           "type": "bar",
           "x": [
            90
           ],
           "xaxis": "x",
           "y": [
            "United States of America"
           ],
           "yaxis": "y"
          },
          {
           "alignmentgroup": "True",
           "hovertemplate": "Pays=%{y}<br>release_year=1999<br>Nombre cumulé de films=%{x}<extra></extra>",
           "legendgroup": "Canada",
           "marker": {
            "color": "#FFA15A",
            "pattern": {
             "shape": ""
            }
           },
           "name": "Canada",
           "offsetgroup": "Canada",
           "orientation": "h",
           "showlegend": true,
           "textposition": "auto",
           "type": "bar",
           "x": [
            14
           ],
           "xaxis": "x",
           "y": [
            "Canada"
           ],
           "yaxis": "y"
          },
          {
           "alignmentgroup": "True",
           "hovertemplate": "Pays=%{y}<br>release_year=1999<br>Nombre cumulé de films=%{x}<extra></extra>",
           "legendgroup": "France",
           "marker": {
            "color": "#19d3f3",
            "pattern": {
             "shape": ""
            }
           },
           "name": "France",
           "offsetgroup": "France",
           "orientation": "h",
           "showlegend": true,
           "textposition": "auto",
           "type": "bar",
           "x": [
            21
           ],
           "xaxis": "x",
           "y": [
            "France"
           ],
           "yaxis": "y"
          },
          {
           "alignmentgroup": "True",
           "hovertemplate": "Pays=%{y}<br>release_year=1999<br>Nombre cumulé de films=%{x}<extra></extra>",
           "legendgroup": "Czech Republic",
           "marker": {
            "color": "#FF6692",
            "pattern": {
             "shape": ""
            }
           },
           "name": "Czech Republic",
           "offsetgroup": "Czech Republic",
           "orientation": "h",
           "showlegend": true,
           "textposition": "auto",
           "type": "bar",
           "x": [
            4
           ],
           "xaxis": "x",
           "y": [
            "Czech Republic"
           ],
           "yaxis": "y"
          },
          {
           "alignmentgroup": "True",
           "hovertemplate": "Pays=%{y}<br>release_year=1999<br>Nombre cumulé de films=%{x}<extra></extra>",
           "legendgroup": "United Kingdom",
           "marker": {
            "color": "#FECB52",
            "pattern": {
             "shape": ""
            }
           },
           "name": "United Kingdom",
           "offsetgroup": "United Kingdom",
           "orientation": "h",
           "showlegend": true,
           "textposition": "auto",
           "type": "bar",
           "x": [
            155
           ],
           "xaxis": "x",
           "y": [
            "United Kingdom"
           ],
           "yaxis": "y"
          },
          {
           "alignmentgroup": "True",
           "hovertemplate": "Pays=%{y}<br>release_year=1999<br>Nombre cumulé de films=%{x}<extra></extra>",
           "legendgroup": "Romania",
           "marker": {
            "color": "#636efa",
            "pattern": {
             "shape": ""
            }
           },
           "name": "Romania",
           "offsetgroup": "Romania",
           "orientation": "h",
           "showlegend": true,
           "textposition": "auto",
           "type": "bar",
           "x": [
            6
           ],
           "xaxis": "x",
           "y": [
            "Romania"
           ],
           "yaxis": "y"
          },
          {
           "alignmentgroup": "True",
           "hovertemplate": "Pays=%{y}<br>release_year=1999<br>Nombre cumulé de films=%{x}<extra></extra>",
           "legendgroup": "Italy",
           "marker": {
            "color": "#19d3f3",
            "pattern": {
             "shape": ""
            }
           },
           "name": "Italy",
           "offsetgroup": "Italy",
           "orientation": "h",
           "showlegend": true,
           "textposition": "auto",
           "type": "bar",
           "x": [
            3
           ],
           "xaxis": "x",
           "y": [
            "Italy"
           ],
           "yaxis": "y"
          },
          {
           "alignmentgroup": "True",
           "hovertemplate": "Pays=%{y}<br>release_year=1999<br>Nombre cumulé de films=%{x}<extra></extra>",
           "legendgroup": "India",
           "marker": {
            "color": "#FF6692",
            "pattern": {
             "shape": ""
            }
           },
           "name": "India",
           "offsetgroup": "India",
           "orientation": "h",
           "showlegend": true,
           "textposition": "auto",
           "type": "bar",
           "x": [
            12
           ],
           "xaxis": "x",
           "y": [
            "India"
           ],
           "yaxis": "y"
          },
          {
           "alignmentgroup": "True",
           "hovertemplate": "Pays=%{y}<br>release_year=1999<br>Nombre cumulé de films=%{x}<extra></extra>",
           "legendgroup": "Poland",
           "marker": {
            "color": "#B6E880",
            "pattern": {
             "shape": ""
            }
           },
           "name": "Poland",
           "offsetgroup": "Poland",
           "orientation": "h",
           "showlegend": true,
           "textposition": "auto",
           "type": "bar",
           "x": [
            4
           ],
           "xaxis": "x",
           "y": [
            "Poland"
           ],
           "yaxis": "y"
          }
         ],
         "name": "1999"
        },
        {
         "data": [
          {
           "alignmentgroup": "True",
           "hovertemplate": "Pays=%{y}<br>release_year=2000<br>Nombre cumulé de films=%{x}<extra></extra>",
           "legendgroup": "Germany",
           "marker": {
            "color": "#636efa",
            "pattern": {
             "shape": ""
            }
           },
           "name": "Germany",
           "offsetgroup": "Germany",
           "orientation": "h",
           "showlegend": true,
           "textposition": "auto",
           "type": "bar",
           "x": [
            16
           ],
           "xaxis": "x",
           "y": [
            "Germany"
           ],
           "yaxis": "y"
          },
          {
           "alignmentgroup": "True",
           "hovertemplate": "Pays=%{y}<br>release_year=2000<br>Nombre cumulé de films=%{x}<extra></extra>",
           "legendgroup": "United States of America",
           "marker": {
            "color": "#EF553B",
            "pattern": {
             "shape": ""
            }
           },
           "name": "United States of America",
           "offsetgroup": "United States of America",
           "orientation": "h",
           "showlegend": true,
           "textposition": "auto",
           "type": "bar",
           "x": [
            98
           ],
           "xaxis": "x",
           "y": [
            "United States of America"
           ],
           "yaxis": "y"
          },
          {
           "alignmentgroup": "True",
           "hovertemplate": "Pays=%{y}<br>release_year=2000<br>Nombre cumulé de films=%{x}<extra></extra>",
           "legendgroup": "Canada",
           "marker": {
            "color": "#FFA15A",
            "pattern": {
             "shape": ""
            }
           },
           "name": "Canada",
           "offsetgroup": "Canada",
           "orientation": "h",
           "showlegend": true,
           "textposition": "auto",
           "type": "bar",
           "x": [
            19
           ],
           "xaxis": "x",
           "y": [
            "Canada"
           ],
           "yaxis": "y"
          },
          {
           "alignmentgroup": "True",
           "hovertemplate": "Pays=%{y}<br>release_year=2000<br>Nombre cumulé de films=%{x}<extra></extra>",
           "legendgroup": "France",
           "marker": {
            "color": "#19d3f3",
            "pattern": {
             "shape": ""
            }
           },
           "name": "France",
           "offsetgroup": "France",
           "orientation": "h",
           "showlegend": true,
           "textposition": "auto",
           "type": "bar",
           "x": [
            22
           ],
           "xaxis": "x",
           "y": [
            "France"
           ],
           "yaxis": "y"
          },
          {
           "alignmentgroup": "True",
           "hovertemplate": "Pays=%{y}<br>release_year=2000<br>Nombre cumulé de films=%{x}<extra></extra>",
           "legendgroup": "Czech Republic",
           "marker": {
            "color": "#FF6692",
            "pattern": {
             "shape": ""
            }
           },
           "name": "Czech Republic",
           "offsetgroup": "Czech Republic",
           "orientation": "h",
           "showlegend": true,
           "textposition": "auto",
           "type": "bar",
           "x": [
            4
           ],
           "xaxis": "x",
           "y": [
            "Czech Republic"
           ],
           "yaxis": "y"
          },
          {
           "alignmentgroup": "True",
           "hovertemplate": "Pays=%{y}<br>release_year=2000<br>Nombre cumulé de films=%{x}<extra></extra>",
           "legendgroup": "United Kingdom",
           "marker": {
            "color": "#FECB52",
            "pattern": {
             "shape": ""
            }
           },
           "name": "United Kingdom",
           "offsetgroup": "United Kingdom",
           "orientation": "h",
           "showlegend": true,
           "textposition": "auto",
           "type": "bar",
           "x": [
            157
           ],
           "xaxis": "x",
           "y": [
            "United Kingdom"
           ],
           "yaxis": "y"
          },
          {
           "alignmentgroup": "True",
           "hovertemplate": "Pays=%{y}<br>release_year=2000<br>Nombre cumulé de films=%{x}<extra></extra>",
           "legendgroup": "Romania",
           "marker": {
            "color": "#636efa",
            "pattern": {
             "shape": ""
            }
           },
           "name": "Romania",
           "offsetgroup": "Romania",
           "orientation": "h",
           "showlegend": true,
           "textposition": "auto",
           "type": "bar",
           "x": [
            6
           ],
           "xaxis": "x",
           "y": [
            "Romania"
           ],
           "yaxis": "y"
          },
          {
           "alignmentgroup": "True",
           "hovertemplate": "Pays=%{y}<br>release_year=2000<br>Nombre cumulé de films=%{x}<extra></extra>",
           "legendgroup": "Italy",
           "marker": {
            "color": "#19d3f3",
            "pattern": {
             "shape": ""
            }
           },
           "name": "Italy",
           "offsetgroup": "Italy",
           "orientation": "h",
           "showlegend": true,
           "textposition": "auto",
           "type": "bar",
           "x": [
            5
           ],
           "xaxis": "x",
           "y": [
            "Italy"
           ],
           "yaxis": "y"
          },
          {
           "alignmentgroup": "True",
           "hovertemplate": "Pays=%{y}<br>release_year=2000<br>Nombre cumulé de films=%{x}<extra></extra>",
           "legendgroup": "India",
           "marker": {
            "color": "#FF6692",
            "pattern": {
             "shape": ""
            }
           },
           "name": "India",
           "offsetgroup": "India",
           "orientation": "h",
           "showlegend": true,
           "textposition": "auto",
           "type": "bar",
           "x": [
            12
           ],
           "xaxis": "x",
           "y": [
            "India"
           ],
           "yaxis": "y"
          },
          {
           "alignmentgroup": "True",
           "hovertemplate": "Pays=%{y}<br>release_year=2000<br>Nombre cumulé de films=%{x}<extra></extra>",
           "legendgroup": "China",
           "marker": {
            "color": "#FF97FF",
            "pattern": {
             "shape": ""
            }
           },
           "name": "China",
           "offsetgroup": "China",
           "orientation": "h",
           "showlegend": true,
           "textposition": "auto",
           "type": "bar",
           "x": [
            5
           ],
           "xaxis": "x",
           "y": [
            "China"
           ],
           "yaxis": "y"
          }
         ],
         "name": "2000"
        },
        {
         "data": [
          {
           "alignmentgroup": "True",
           "hovertemplate": "Pays=%{y}<br>release_year=2001<br>Nombre cumulé de films=%{x}<extra></extra>",
           "legendgroup": "Germany",
           "marker": {
            "color": "#636efa",
            "pattern": {
             "shape": ""
            }
           },
           "name": "Germany",
           "offsetgroup": "Germany",
           "orientation": "h",
           "showlegend": true,
           "textposition": "auto",
           "type": "bar",
           "x": [
            16
           ],
           "xaxis": "x",
           "y": [
            "Germany"
           ],
           "yaxis": "y"
          },
          {
           "alignmentgroup": "True",
           "hovertemplate": "Pays=%{y}<br>release_year=2001<br>Nombre cumulé de films=%{x}<extra></extra>",
           "legendgroup": "United States of America",
           "marker": {
            "color": "#EF553B",
            "pattern": {
             "shape": ""
            }
           },
           "name": "United States of America",
           "offsetgroup": "United States of America",
           "orientation": "h",
           "showlegend": true,
           "textposition": "auto",
           "type": "bar",
           "x": [
            116
           ],
           "xaxis": "x",
           "y": [
            "United States of America"
           ],
           "yaxis": "y"
          },
          {
           "alignmentgroup": "True",
           "hovertemplate": "Pays=%{y}<br>release_year=2001<br>Nombre cumulé de films=%{x}<extra></extra>",
           "legendgroup": "Canada",
           "marker": {
            "color": "#FFA15A",
            "pattern": {
             "shape": ""
            }
           },
           "name": "Canada",
           "offsetgroup": "Canada",
           "orientation": "h",
           "showlegend": true,
           "textposition": "auto",
           "type": "bar",
           "x": [
            21
           ],
           "xaxis": "x",
           "y": [
            "Canada"
           ],
           "yaxis": "y"
          },
          {
           "alignmentgroup": "True",
           "hovertemplate": "Pays=%{y}<br>release_year=2001<br>Nombre cumulé de films=%{x}<extra></extra>",
           "legendgroup": "France",
           "marker": {
            "color": "#19d3f3",
            "pattern": {
             "shape": ""
            }
           },
           "name": "France",
           "offsetgroup": "France",
           "orientation": "h",
           "showlegend": true,
           "textposition": "auto",
           "type": "bar",
           "x": [
            24
           ],
           "xaxis": "x",
           "y": [
            "France"
           ],
           "yaxis": "y"
          },
          {
           "alignmentgroup": "True",
           "hovertemplate": "Pays=%{y}<br>release_year=2001<br>Nombre cumulé de films=%{x}<extra></extra>",
           "legendgroup": "Czech Republic",
           "marker": {
            "color": "#FF6692",
            "pattern": {
             "shape": ""
            }
           },
           "name": "Czech Republic",
           "offsetgroup": "Czech Republic",
           "orientation": "h",
           "showlegend": true,
           "textposition": "auto",
           "type": "bar",
           "x": [
            4
           ],
           "xaxis": "x",
           "y": [
            "Czech Republic"
           ],
           "yaxis": "y"
          },
          {
           "alignmentgroup": "True",
           "hovertemplate": "Pays=%{y}<br>release_year=2001<br>Nombre cumulé de films=%{x}<extra></extra>",
           "legendgroup": "United Kingdom",
           "marker": {
            "color": "#FECB52",
            "pattern": {
             "shape": ""
            }
           },
           "name": "United Kingdom",
           "offsetgroup": "United Kingdom",
           "orientation": "h",
           "showlegend": true,
           "textposition": "auto",
           "type": "bar",
           "x": [
            179
           ],
           "xaxis": "x",
           "y": [
            "United Kingdom"
           ],
           "yaxis": "y"
          },
          {
           "alignmentgroup": "True",
           "hovertemplate": "Pays=%{y}<br>release_year=2001<br>Nombre cumulé de films=%{x}<extra></extra>",
           "legendgroup": "Romania",
           "marker": {
            "color": "#636efa",
            "pattern": {
             "shape": ""
            }
           },
           "name": "Romania",
           "offsetgroup": "Romania",
           "orientation": "h",
           "showlegend": true,
           "textposition": "auto",
           "type": "bar",
           "x": [
            6
           ],
           "xaxis": "x",
           "y": [
            "Romania"
           ],
           "yaxis": "y"
          },
          {
           "alignmentgroup": "True",
           "hovertemplate": "Pays=%{y}<br>release_year=2001<br>Nombre cumulé de films=%{x}<extra></extra>",
           "legendgroup": "Italy",
           "marker": {
            "color": "#19d3f3",
            "pattern": {
             "shape": ""
            }
           },
           "name": "Italy",
           "offsetgroup": "Italy",
           "orientation": "h",
           "showlegend": true,
           "textposition": "auto",
           "type": "bar",
           "x": [
            5
           ],
           "xaxis": "x",
           "y": [
            "Italy"
           ],
           "yaxis": "y"
          },
          {
           "alignmentgroup": "True",
           "hovertemplate": "Pays=%{y}<br>release_year=2001<br>Nombre cumulé de films=%{x}<extra></extra>",
           "legendgroup": "India",
           "marker": {
            "color": "#FF6692",
            "pattern": {
             "shape": ""
            }
           },
           "name": "India",
           "offsetgroup": "India",
           "orientation": "h",
           "showlegend": true,
           "textposition": "auto",
           "type": "bar",
           "x": [
            12
           ],
           "xaxis": "x",
           "y": [
            "India"
           ],
           "yaxis": "y"
          },
          {
           "alignmentgroup": "True",
           "hovertemplate": "Pays=%{y}<br>release_year=2001<br>Nombre cumulé de films=%{x}<extra></extra>",
           "legendgroup": "China",
           "marker": {
            "color": "#FF97FF",
            "pattern": {
             "shape": ""
            }
           },
           "name": "China",
           "offsetgroup": "China",
           "orientation": "h",
           "showlegend": true,
           "textposition": "auto",
           "type": "bar",
           "x": [
            5
           ],
           "xaxis": "x",
           "y": [
            "China"
           ],
           "yaxis": "y"
          }
         ],
         "name": "2001"
        },
        {
         "data": [
          {
           "alignmentgroup": "True",
           "hovertemplate": "Pays=%{y}<br>release_year=2002<br>Nombre cumulé de films=%{x}<extra></extra>",
           "legendgroup": "Germany",
           "marker": {
            "color": "#636efa",
            "pattern": {
             "shape": ""
            }
           },
           "name": "Germany",
           "offsetgroup": "Germany",
           "orientation": "h",
           "showlegend": true,
           "textposition": "auto",
           "type": "bar",
           "x": [
            18
           ],
           "xaxis": "x",
           "y": [
            "Germany"
           ],
           "yaxis": "y"
          },
          {
           "alignmentgroup": "True",
           "hovertemplate": "Pays=%{y}<br>release_year=2002<br>Nombre cumulé de films=%{x}<extra></extra>",
           "legendgroup": "United States of America",
           "marker": {
            "color": "#EF553B",
            "pattern": {
             "shape": ""
            }
           },
           "name": "United States of America",
           "offsetgroup": "United States of America",
           "orientation": "h",
           "showlegend": true,
           "textposition": "auto",
           "type": "bar",
           "x": [
            140
           ],
           "xaxis": "x",
           "y": [
            "United States of America"
           ],
           "yaxis": "y"
          },
          {
           "alignmentgroup": "True",
           "hovertemplate": "Pays=%{y}<br>release_year=2002<br>Nombre cumulé de films=%{x}<extra></extra>",
           "legendgroup": "Canada",
           "marker": {
            "color": "#FFA15A",
            "pattern": {
             "shape": ""
            }
           },
           "name": "Canada",
           "offsetgroup": "Canada",
           "orientation": "h",
           "showlegend": true,
           "textposition": "auto",
           "type": "bar",
           "x": [
            26
           ],
           "xaxis": "x",
           "y": [
            "Canada"
           ],
           "yaxis": "y"
          },
          {
           "alignmentgroup": "True",
           "hovertemplate": "Pays=%{y}<br>release_year=2002<br>Nombre cumulé de films=%{x}<extra></extra>",
           "legendgroup": "France",
           "marker": {
            "color": "#19d3f3",
            "pattern": {
             "shape": ""
            }
           },
           "name": "France",
           "offsetgroup": "France",
           "orientation": "h",
           "showlegend": true,
           "textposition": "auto",
           "type": "bar",
           "x": [
            24
           ],
           "xaxis": "x",
           "y": [
            "France"
           ],
           "yaxis": "y"
          },
          {
           "alignmentgroup": "True",
           "hovertemplate": "Pays=%{y}<br>release_year=2002<br>Nombre cumulé de films=%{x}<extra></extra>",
           "legendgroup": "Czech Republic",
           "marker": {
            "color": "#FF6692",
            "pattern": {
             "shape": ""
            }
           },
           "name": "Czech Republic",
           "offsetgroup": "Czech Republic",
           "orientation": "h",
           "showlegend": true,
           "textposition": "auto",
           "type": "bar",
           "x": [
            5
           ],
           "xaxis": "x",
           "y": [
            "Czech Republic"
           ],
           "yaxis": "y"
          },
          {
           "alignmentgroup": "True",
           "hovertemplate": "Pays=%{y}<br>release_year=2002<br>Nombre cumulé de films=%{x}<extra></extra>",
           "legendgroup": "United Kingdom",
           "marker": {
            "color": "#FECB52",
            "pattern": {
             "shape": ""
            }
           },
           "name": "United Kingdom",
           "offsetgroup": "United Kingdom",
           "orientation": "h",
           "showlegend": true,
           "textposition": "auto",
           "type": "bar",
           "x": [
            192
           ],
           "xaxis": "x",
           "y": [
            "United Kingdom"
           ],
           "yaxis": "y"
          },
          {
           "alignmentgroup": "True",
           "hovertemplate": "Pays=%{y}<br>release_year=2002<br>Nombre cumulé de films=%{x}<extra></extra>",
           "legendgroup": "Romania",
           "marker": {
            "color": "#636efa",
            "pattern": {
             "shape": ""
            }
           },
           "name": "Romania",
           "offsetgroup": "Romania",
           "orientation": "h",
           "showlegend": true,
           "textposition": "auto",
           "type": "bar",
           "x": [
            6
           ],
           "xaxis": "x",
           "y": [
            "Romania"
           ],
           "yaxis": "y"
          },
          {
           "alignmentgroup": "True",
           "hovertemplate": "Pays=%{y}<br>release_year=2002<br>Nombre cumulé de films=%{x}<extra></extra>",
           "legendgroup": "Italy",
           "marker": {
            "color": "#19d3f3",
            "pattern": {
             "shape": ""
            }
           },
           "name": "Italy",
           "offsetgroup": "Italy",
           "orientation": "h",
           "showlegend": true,
           "textposition": "auto",
           "type": "bar",
           "x": [
            5
           ],
           "xaxis": "x",
           "y": [
            "Italy"
           ],
           "yaxis": "y"
          },
          {
           "alignmentgroup": "True",
           "hovertemplate": "Pays=%{y}<br>release_year=2002<br>Nombre cumulé de films=%{x}<extra></extra>",
           "legendgroup": "India",
           "marker": {
            "color": "#FF6692",
            "pattern": {
             "shape": ""
            }
           },
           "name": "India",
           "offsetgroup": "India",
           "orientation": "h",
           "showlegend": true,
           "textposition": "auto",
           "type": "bar",
           "x": [
            12
           ],
           "xaxis": "x",
           "y": [
            "India"
           ],
           "yaxis": "y"
          },
          {
           "alignmentgroup": "True",
           "hovertemplate": "Pays=%{y}<br>release_year=2002<br>Nombre cumulé de films=%{x}<extra></extra>",
           "legendgroup": "China",
           "marker": {
            "color": "#FF97FF",
            "pattern": {
             "shape": ""
            }
           },
           "name": "China",
           "offsetgroup": "China",
           "orientation": "h",
           "showlegend": true,
           "textposition": "auto",
           "type": "bar",
           "x": [
            5
           ],
           "xaxis": "x",
           "y": [
            "China"
           ],
           "yaxis": "y"
          }
         ],
         "name": "2002"
        },
        {
         "data": [
          {
           "alignmentgroup": "True",
           "hovertemplate": "Pays=%{y}<br>release_year=2003<br>Nombre cumulé de films=%{x}<extra></extra>",
           "legendgroup": "Germany",
           "marker": {
            "color": "#636efa",
            "pattern": {
             "shape": ""
            }
           },
           "name": "Germany",
           "offsetgroup": "Germany",
           "orientation": "h",
           "showlegend": true,
           "textposition": "auto",
           "type": "bar",
           "x": [
            19
           ],
           "xaxis": "x",
           "y": [
            "Germany"
           ],
           "yaxis": "y"
          },
          {
           "alignmentgroup": "True",
           "hovertemplate": "Pays=%{y}<br>release_year=2003<br>Nombre cumulé de films=%{x}<extra></extra>",
           "legendgroup": "United States of America",
           "marker": {
            "color": "#EF553B",
            "pattern": {
             "shape": ""
            }
           },
           "name": "United States of America",
           "offsetgroup": "United States of America",
           "orientation": "h",
           "showlegend": true,
           "textposition": "auto",
           "type": "bar",
           "x": [
            165
           ],
           "xaxis": "x",
           "y": [
            "United States of America"
           ],
           "yaxis": "y"
          },
          {
           "alignmentgroup": "True",
           "hovertemplate": "Pays=%{y}<br>release_year=2003<br>Nombre cumulé de films=%{x}<extra></extra>",
           "legendgroup": "Canada",
           "marker": {
            "color": "#FFA15A",
            "pattern": {
             "shape": ""
            }
           },
           "name": "Canada",
           "offsetgroup": "Canada",
           "orientation": "h",
           "showlegend": true,
           "textposition": "auto",
           "type": "bar",
           "x": [
            28
           ],
           "xaxis": "x",
           "y": [
            "Canada"
           ],
           "yaxis": "y"
          },
          {
           "alignmentgroup": "True",
           "hovertemplate": "Pays=%{y}<br>release_year=2003<br>Nombre cumulé de films=%{x}<extra></extra>",
           "legendgroup": "France",
           "marker": {
            "color": "#19d3f3",
            "pattern": {
             "shape": ""
            }
           },
           "name": "France",
           "offsetgroup": "France",
           "orientation": "h",
           "showlegend": true,
           "textposition": "auto",
           "type": "bar",
           "x": [
            26
           ],
           "xaxis": "x",
           "y": [
            "France"
           ],
           "yaxis": "y"
          },
          {
           "alignmentgroup": "True",
           "hovertemplate": "Pays=%{y}<br>release_year=2003<br>Nombre cumulé de films=%{x}<extra></extra>",
           "legendgroup": "Czech Republic",
           "marker": {
            "color": "#FF6692",
            "pattern": {
             "shape": ""
            }
           },
           "name": "Czech Republic",
           "offsetgroup": "Czech Republic",
           "orientation": "h",
           "showlegend": true,
           "textposition": "auto",
           "type": "bar",
           "x": [
            5
           ],
           "xaxis": "x",
           "y": [
            "Czech Republic"
           ],
           "yaxis": "y"
          },
          {
           "alignmentgroup": "True",
           "hovertemplate": "Pays=%{y}<br>release_year=2003<br>Nombre cumulé de films=%{x}<extra></extra>",
           "legendgroup": "United Kingdom",
           "marker": {
            "color": "#FECB52",
            "pattern": {
             "shape": ""
            }
           },
           "name": "United Kingdom",
           "offsetgroup": "United Kingdom",
           "orientation": "h",
           "showlegend": true,
           "textposition": "auto",
           "type": "bar",
           "x": [
            214
           ],
           "xaxis": "x",
           "y": [
            "United Kingdom"
           ],
           "yaxis": "y"
          },
          {
           "alignmentgroup": "True",
           "hovertemplate": "Pays=%{y}<br>release_year=2003<br>Nombre cumulé de films=%{x}<extra></extra>",
           "legendgroup": "Romania",
           "marker": {
            "color": "#636efa",
            "pattern": {
             "shape": ""
            }
           },
           "name": "Romania",
           "offsetgroup": "Romania",
           "orientation": "h",
           "showlegend": true,
           "textposition": "auto",
           "type": "bar",
           "x": [
            7
           ],
           "xaxis": "x",
           "y": [
            "Romania"
           ],
           "yaxis": "y"
          },
          {
           "alignmentgroup": "True",
           "hovertemplate": "Pays=%{y}<br>release_year=2003<br>Nombre cumulé de films=%{x}<extra></extra>",
           "legendgroup": "Italy",
           "marker": {
            "color": "#19d3f3",
            "pattern": {
             "shape": ""
            }
           },
           "name": "Italy",
           "offsetgroup": "Italy",
           "orientation": "h",
           "showlegend": true,
           "textposition": "auto",
           "type": "bar",
           "x": [
            5
           ],
           "xaxis": "x",
           "y": [
            "Italy"
           ],
           "yaxis": "y"
          },
          {
           "alignmentgroup": "True",
           "hovertemplate": "Pays=%{y}<br>release_year=2003<br>Nombre cumulé de films=%{x}<extra></extra>",
           "legendgroup": "India",
           "marker": {
            "color": "#FF6692",
            "pattern": {
             "shape": ""
            }
           },
           "name": "India",
           "offsetgroup": "India",
           "orientation": "h",
           "showlegend": true,
           "textposition": "auto",
           "type": "bar",
           "x": [
            12
           ],
           "xaxis": "x",
           "y": [
            "India"
           ],
           "yaxis": "y"
          },
          {
           "alignmentgroup": "True",
           "hovertemplate": "Pays=%{y}<br>release_year=2003<br>Nombre cumulé de films=%{x}<extra></extra>",
           "legendgroup": "China",
           "marker": {
            "color": "#FF97FF",
            "pattern": {
             "shape": ""
            }
           },
           "name": "China",
           "offsetgroup": "China",
           "orientation": "h",
           "showlegend": true,
           "textposition": "auto",
           "type": "bar",
           "x": [
            5
           ],
           "xaxis": "x",
           "y": [
            "China"
           ],
           "yaxis": "y"
          }
         ],
         "name": "2003"
        },
        {
         "data": [
          {
           "alignmentgroup": "True",
           "hovertemplate": "Pays=%{y}<br>release_year=2004<br>Nombre cumulé de films=%{x}<extra></extra>",
           "legendgroup": "Germany",
           "marker": {
            "color": "#636efa",
            "pattern": {
             "shape": ""
            }
           },
           "name": "Germany",
           "offsetgroup": "Germany",
           "orientation": "h",
           "showlegend": true,
           "textposition": "auto",
           "type": "bar",
           "x": [
            21
           ],
           "xaxis": "x",
           "y": [
            "Germany"
           ],
           "yaxis": "y"
          },
          {
           "alignmentgroup": "True",
           "hovertemplate": "Pays=%{y}<br>release_year=2004<br>Nombre cumulé de films=%{x}<extra></extra>",
           "legendgroup": "United States of America",
           "marker": {
            "color": "#EF553B",
            "pattern": {
             "shape": ""
            }
           },
           "name": "United States of America",
           "offsetgroup": "United States of America",
           "orientation": "h",
           "showlegend": true,
           "textposition": "auto",
           "type": "bar",
           "x": [
            185
           ],
           "xaxis": "x",
           "y": [
            "United States of America"
           ],
           "yaxis": "y"
          },
          {
           "alignmentgroup": "True",
           "hovertemplate": "Pays=%{y}<br>release_year=2004<br>Nombre cumulé de films=%{x}<extra></extra>",
           "legendgroup": "Canada",
           "marker": {
            "color": "#FFA15A",
            "pattern": {
             "shape": ""
            }
           },
           "name": "Canada",
           "offsetgroup": "Canada",
           "orientation": "h",
           "showlegend": true,
           "textposition": "auto",
           "type": "bar",
           "x": [
            30
           ],
           "xaxis": "x",
           "y": [
            "Canada"
           ],
           "yaxis": "y"
          },
          {
           "alignmentgroup": "True",
           "hovertemplate": "Pays=%{y}<br>release_year=2004<br>Nombre cumulé de films=%{x}<extra></extra>",
           "legendgroup": "France",
           "marker": {
            "color": "#19d3f3",
            "pattern": {
             "shape": ""
            }
           },
           "name": "France",
           "offsetgroup": "France",
           "orientation": "h",
           "showlegend": true,
           "textposition": "auto",
           "type": "bar",
           "x": [
            26
           ],
           "xaxis": "x",
           "y": [
            "France"
           ],
           "yaxis": "y"
          },
          {
           "alignmentgroup": "True",
           "hovertemplate": "Pays=%{y}<br>release_year=2004<br>Nombre cumulé de films=%{x}<extra></extra>",
           "legendgroup": "Czech Republic",
           "marker": {
            "color": "#FF6692",
            "pattern": {
             "shape": ""
            }
           },
           "name": "Czech Republic",
           "offsetgroup": "Czech Republic",
           "orientation": "h",
           "showlegend": true,
           "textposition": "auto",
           "type": "bar",
           "x": [
            5
           ],
           "xaxis": "x",
           "y": [
            "Czech Republic"
           ],
           "yaxis": "y"
          },
          {
           "alignmentgroup": "True",
           "hovertemplate": "Pays=%{y}<br>release_year=2004<br>Nombre cumulé de films=%{x}<extra></extra>",
           "legendgroup": "Hong Kong",
           "marker": {
            "color": "#B6E880",
            "pattern": {
             "shape": ""
            }
           },
           "name": "Hong Kong",
           "offsetgroup": "Hong Kong",
           "orientation": "h",
           "showlegend": true,
           "textposition": "auto",
           "type": "bar",
           "x": [
            5
           ],
           "xaxis": "x",
           "y": [
            "Hong Kong"
           ],
           "yaxis": "y"
          },
          {
           "alignmentgroup": "True",
           "hovertemplate": "Pays=%{y}<br>release_year=2004<br>Nombre cumulé de films=%{x}<extra></extra>",
           "legendgroup": "United Kingdom",
           "marker": {
            "color": "#FECB52",
            "pattern": {
             "shape": ""
            }
           },
           "name": "United Kingdom",
           "offsetgroup": "United Kingdom",
           "orientation": "h",
           "showlegend": true,
           "textposition": "auto",
           "type": "bar",
           "x": [
            220
           ],
           "xaxis": "x",
           "y": [
            "United Kingdom"
           ],
           "yaxis": "y"
          },
          {
           "alignmentgroup": "True",
           "hovertemplate": "Pays=%{y}<br>release_year=2004<br>Nombre cumulé de films=%{x}<extra></extra>",
           "legendgroup": "Romania",
           "marker": {
            "color": "#636efa",
            "pattern": {
             "shape": ""
            }
           },
           "name": "Romania",
           "offsetgroup": "Romania",
           "orientation": "h",
           "showlegend": true,
           "textposition": "auto",
           "type": "bar",
           "x": [
            7
           ],
           "xaxis": "x",
           "y": [
            "Romania"
           ],
           "yaxis": "y"
          },
          {
           "alignmentgroup": "True",
           "hovertemplate": "Pays=%{y}<br>release_year=2004<br>Nombre cumulé de films=%{x}<extra></extra>",
           "legendgroup": "India",
           "marker": {
            "color": "#FF6692",
            "pattern": {
             "shape": ""
            }
           },
           "name": "India",
           "offsetgroup": "India",
           "orientation": "h",
           "showlegend": true,
           "textposition": "auto",
           "type": "bar",
           "x": [
            12
           ],
           "xaxis": "x",
           "y": [
            "India"
           ],
           "yaxis": "y"
          },
          {
           "alignmentgroup": "True",
           "hovertemplate": "Pays=%{y}<br>release_year=2004<br>Nombre cumulé de films=%{x}<extra></extra>",
           "legendgroup": "China",
           "marker": {
            "color": "#FF97FF",
            "pattern": {
             "shape": ""
            }
           },
           "name": "China",
           "offsetgroup": "China",
           "orientation": "h",
           "showlegend": true,
           "textposition": "auto",
           "type": "bar",
           "x": [
            9
           ],
           "xaxis": "x",
           "y": [
            "China"
           ],
           "yaxis": "y"
          }
         ],
         "name": "2004"
        },
        {
         "data": [
          {
           "alignmentgroup": "True",
           "hovertemplate": "Pays=%{y}<br>release_year=2005<br>Nombre cumulé de films=%{x}<extra></extra>",
           "legendgroup": "Germany",
           "marker": {
            "color": "#636efa",
            "pattern": {
             "shape": ""
            }
           },
           "name": "Germany",
           "offsetgroup": "Germany",
           "orientation": "h",
           "showlegend": true,
           "textposition": "auto",
           "type": "bar",
           "x": [
            21
           ],
           "xaxis": "x",
           "y": [
            "Germany"
           ],
           "yaxis": "y"
          },
          {
           "alignmentgroup": "True",
           "hovertemplate": "Pays=%{y}<br>release_year=2005<br>Nombre cumulé de films=%{x}<extra></extra>",
           "legendgroup": "United States of America",
           "marker": {
            "color": "#EF553B",
            "pattern": {
             "shape": ""
            }
           },
           "name": "United States of America",
           "offsetgroup": "United States of America",
           "orientation": "h",
           "showlegend": true,
           "textposition": "auto",
           "type": "bar",
           "x": [
            213
           ],
           "xaxis": "x",
           "y": [
            "United States of America"
           ],
           "yaxis": "y"
          },
          {
           "alignmentgroup": "True",
           "hovertemplate": "Pays=%{y}<br>release_year=2005<br>Nombre cumulé de films=%{x}<extra></extra>",
           "legendgroup": "Canada",
           "marker": {
            "color": "#FFA15A",
            "pattern": {
             "shape": ""
            }
           },
           "name": "Canada",
           "offsetgroup": "Canada",
           "orientation": "h",
           "showlegend": true,
           "textposition": "auto",
           "type": "bar",
           "x": [
            30
           ],
           "xaxis": "x",
           "y": [
            "Canada"
           ],
           "yaxis": "y"
          },
          {
           "alignmentgroup": "True",
           "hovertemplate": "Pays=%{y}<br>release_year=2005<br>Nombre cumulé de films=%{x}<extra></extra>",
           "legendgroup": "France",
           "marker": {
            "color": "#19d3f3",
            "pattern": {
             "shape": ""
            }
           },
           "name": "France",
           "offsetgroup": "France",
           "orientation": "h",
           "showlegend": true,
           "textposition": "auto",
           "type": "bar",
           "x": [
            26
           ],
           "xaxis": "x",
           "y": [
            "France"
           ],
           "yaxis": "y"
          },
          {
           "alignmentgroup": "True",
           "hovertemplate": "Pays=%{y}<br>release_year=2005<br>Nombre cumulé de films=%{x}<extra></extra>",
           "legendgroup": "Czech Republic",
           "marker": {
            "color": "#FF6692",
            "pattern": {
             "shape": ""
            }
           },
           "name": "Czech Republic",
           "offsetgroup": "Czech Republic",
           "orientation": "h",
           "showlegend": true,
           "textposition": "auto",
           "type": "bar",
           "x": [
            7
           ],
           "xaxis": "x",
           "y": [
            "Czech Republic"
           ],
           "yaxis": "y"
          },
          {
           "alignmentgroup": "True",
           "hovertemplate": "Pays=%{y}<br>release_year=2005<br>Nombre cumulé de films=%{x}<extra></extra>",
           "legendgroup": "Hong Kong",
           "marker": {
            "color": "#B6E880",
            "pattern": {
             "shape": ""
            }
           },
           "name": "Hong Kong",
           "offsetgroup": "Hong Kong",
           "orientation": "h",
           "showlegend": true,
           "textposition": "auto",
           "type": "bar",
           "x": [
            5
           ],
           "xaxis": "x",
           "y": [
            "Hong Kong"
           ],
           "yaxis": "y"
          },
          {
           "alignmentgroup": "True",
           "hovertemplate": "Pays=%{y}<br>release_year=2005<br>Nombre cumulé de films=%{x}<extra></extra>",
           "legendgroup": "United Kingdom",
           "marker": {
            "color": "#FECB52",
            "pattern": {
             "shape": ""
            }
           },
           "name": "United Kingdom",
           "offsetgroup": "United Kingdom",
           "orientation": "h",
           "showlegend": true,
           "textposition": "auto",
           "type": "bar",
           "x": [
            235
           ],
           "xaxis": "x",
           "y": [
            "United Kingdom"
           ],
           "yaxis": "y"
          },
          {
           "alignmentgroup": "True",
           "hovertemplate": "Pays=%{y}<br>release_year=2005<br>Nombre cumulé de films=%{x}<extra></extra>",
           "legendgroup": "Romania",
           "marker": {
            "color": "#636efa",
            "pattern": {
             "shape": ""
            }
           },
           "name": "Romania",
           "offsetgroup": "Romania",
           "orientation": "h",
           "showlegend": true,
           "textposition": "auto",
           "type": "bar",
           "x": [
            7
           ],
           "xaxis": "x",
           "y": [
            "Romania"
           ],
           "yaxis": "y"
          },
          {
           "alignmentgroup": "True",
           "hovertemplate": "Pays=%{y}<br>release_year=2005<br>Nombre cumulé de films=%{x}<extra></extra>",
           "legendgroup": "India",
           "marker": {
            "color": "#FF6692",
            "pattern": {
             "shape": ""
            }
           },
           "name": "India",
           "offsetgroup": "India",
           "orientation": "h",
           "showlegend": true,
           "textposition": "auto",
           "type": "bar",
           "x": [
            12
           ],
           "xaxis": "x",
           "y": [
            "India"
           ],
           "yaxis": "y"
          },
          {
           "alignmentgroup": "True",
           "hovertemplate": "Pays=%{y}<br>release_year=2005<br>Nombre cumulé de films=%{x}<extra></extra>",
           "legendgroup": "China",
           "marker": {
            "color": "#FF97FF",
            "pattern": {
             "shape": ""
            }
           },
           "name": "China",
           "offsetgroup": "China",
           "orientation": "h",
           "showlegend": true,
           "textposition": "auto",
           "type": "bar",
           "x": [
            9
           ],
           "xaxis": "x",
           "y": [
            "China"
           ],
           "yaxis": "y"
          }
         ],
         "name": "2005"
        },
        {
         "data": [
          {
           "alignmentgroup": "True",
           "hovertemplate": "Pays=%{y}<br>release_year=2006<br>Nombre cumulé de films=%{x}<extra></extra>",
           "legendgroup": "Germany",
           "marker": {
            "color": "#636efa",
            "pattern": {
             "shape": ""
            }
           },
           "name": "Germany",
           "offsetgroup": "Germany",
           "orientation": "h",
           "showlegend": true,
           "textposition": "auto",
           "type": "bar",
           "x": [
            22
           ],
           "xaxis": "x",
           "y": [
            "Germany"
           ],
           "yaxis": "y"
          },
          {
           "alignmentgroup": "True",
           "hovertemplate": "Pays=%{y}<br>release_year=2006<br>Nombre cumulé de films=%{x}<extra></extra>",
           "legendgroup": "United States of America",
           "marker": {
            "color": "#EF553B",
            "pattern": {
             "shape": ""
            }
           },
           "name": "United States of America",
           "offsetgroup": "United States of America",
           "orientation": "h",
           "showlegend": true,
           "textposition": "auto",
           "type": "bar",
           "x": [
            223
           ],
           "xaxis": "x",
           "y": [
            "United States of America"
           ],
           "yaxis": "y"
          },
          {
           "alignmentgroup": "True",
           "hovertemplate": "Pays=%{y}<br>release_year=2006<br>Nombre cumulé de films=%{x}<extra></extra>",
           "legendgroup": "Canada",
           "marker": {
            "color": "#FFA15A",
            "pattern": {
             "shape": ""
            }
           },
           "name": "Canada",
           "offsetgroup": "Canada",
           "orientation": "h",
           "showlegend": true,
           "textposition": "auto",
           "type": "bar",
           "x": [
            30
           ],
           "xaxis": "x",
           "y": [
            "Canada"
           ],
           "yaxis": "y"
          },
          {
           "alignmentgroup": "True",
           "hovertemplate": "Pays=%{y}<br>release_year=2006<br>Nombre cumulé de films=%{x}<extra></extra>",
           "legendgroup": "France",
           "marker": {
            "color": "#19d3f3",
            "pattern": {
             "shape": ""
            }
           },
           "name": "France",
           "offsetgroup": "France",
           "orientation": "h",
           "showlegend": true,
           "textposition": "auto",
           "type": "bar",
           "x": [
            33
           ],
           "xaxis": "x",
           "y": [
            "France"
           ],
           "yaxis": "y"
          },
          {
           "alignmentgroup": "True",
           "hovertemplate": "Pays=%{y}<br>release_year=2006<br>Nombre cumulé de films=%{x}<extra></extra>",
           "legendgroup": "Czech Republic",
           "marker": {
            "color": "#FF6692",
            "pattern": {
             "shape": ""
            }
           },
           "name": "Czech Republic",
           "offsetgroup": "Czech Republic",
           "orientation": "h",
           "showlegend": true,
           "textposition": "auto",
           "type": "bar",
           "x": [
            7
           ],
           "xaxis": "x",
           "y": [
            "Czech Republic"
           ],
           "yaxis": "y"
          },
          {
           "alignmentgroup": "True",
           "hovertemplate": "Pays=%{y}<br>release_year=2006<br>Nombre cumulé de films=%{x}<extra></extra>",
           "legendgroup": "Hong Kong",
           "marker": {
            "color": "#B6E880",
            "pattern": {
             "shape": ""
            }
           },
           "name": "Hong Kong",
           "offsetgroup": "Hong Kong",
           "orientation": "h",
           "showlegend": true,
           "textposition": "auto",
           "type": "bar",
           "x": [
            5
           ],
           "xaxis": "x",
           "y": [
            "Hong Kong"
           ],
           "yaxis": "y"
          },
          {
           "alignmentgroup": "True",
           "hovertemplate": "Pays=%{y}<br>release_year=2006<br>Nombre cumulé de films=%{x}<extra></extra>",
           "legendgroup": "United Kingdom",
           "marker": {
            "color": "#FECB52",
            "pattern": {
             "shape": ""
            }
           },
           "name": "United Kingdom",
           "offsetgroup": "United Kingdom",
           "orientation": "h",
           "showlegend": true,
           "textposition": "auto",
           "type": "bar",
           "x": [
            243
           ],
           "xaxis": "x",
           "y": [
            "United Kingdom"
           ],
           "yaxis": "y"
          },
          {
           "alignmentgroup": "True",
           "hovertemplate": "Pays=%{y}<br>release_year=2006<br>Nombre cumulé de films=%{x}<extra></extra>",
           "legendgroup": "Romania",
           "marker": {
            "color": "#636efa",
            "pattern": {
             "shape": ""
            }
           },
           "name": "Romania",
           "offsetgroup": "Romania",
           "orientation": "h",
           "showlegend": true,
           "textposition": "auto",
           "type": "bar",
           "x": [
            7
           ],
           "xaxis": "x",
           "y": [
            "Romania"
           ],
           "yaxis": "y"
          },
          {
           "alignmentgroup": "True",
           "hovertemplate": "Pays=%{y}<br>release_year=2006<br>Nombre cumulé de films=%{x}<extra></extra>",
           "legendgroup": "India",
           "marker": {
            "color": "#FF6692",
            "pattern": {
             "shape": ""
            }
           },
           "name": "India",
           "offsetgroup": "India",
           "orientation": "h",
           "showlegend": true,
           "textposition": "auto",
           "type": "bar",
           "x": [
            12
           ],
           "xaxis": "x",
           "y": [
            "India"
           ],
           "yaxis": "y"
          },
          {
           "alignmentgroup": "True",
           "hovertemplate": "Pays=%{y}<br>release_year=2006<br>Nombre cumulé de films=%{x}<extra></extra>",
           "legendgroup": "China",
           "marker": {
            "color": "#FF97FF",
            "pattern": {
             "shape": ""
            }
           },
           "name": "China",
           "offsetgroup": "China",
           "orientation": "h",
           "showlegend": true,
           "textposition": "auto",
           "type": "bar",
           "x": [
            9
           ],
           "xaxis": "x",
           "y": [
            "China"
           ],
           "yaxis": "y"
          }
         ],
         "name": "2006"
        },
        {
         "data": [
          {
           "alignmentgroup": "True",
           "hovertemplate": "Pays=%{y}<br>release_year=2007<br>Nombre cumulé de films=%{x}<extra></extra>",
           "legendgroup": "Germany",
           "marker": {
            "color": "#636efa",
            "pattern": {
             "shape": ""
            }
           },
           "name": "Germany",
           "offsetgroup": "Germany",
           "orientation": "h",
           "showlegend": true,
           "textposition": "auto",
           "type": "bar",
           "x": [
            22
           ],
           "xaxis": "x",
           "y": [
            "Germany"
           ],
           "yaxis": "y"
          },
          {
           "alignmentgroup": "True",
           "hovertemplate": "Pays=%{y}<br>release_year=2007<br>Nombre cumulé de films=%{x}<extra></extra>",
           "legendgroup": "United States of America",
           "marker": {
            "color": "#EF553B",
            "pattern": {
             "shape": ""
            }
           },
           "name": "United States of America",
           "offsetgroup": "United States of America",
           "orientation": "h",
           "showlegend": true,
           "textposition": "auto",
           "type": "bar",
           "x": [
            229
           ],
           "xaxis": "x",
           "y": [
            "United States of America"
           ],
           "yaxis": "y"
          },
          {
           "alignmentgroup": "True",
           "hovertemplate": "Pays=%{y}<br>release_year=2007<br>Nombre cumulé de films=%{x}<extra></extra>",
           "legendgroup": "Canada",
           "marker": {
            "color": "#FFA15A",
            "pattern": {
             "shape": ""
            }
           },
           "name": "Canada",
           "offsetgroup": "Canada",
           "orientation": "h",
           "showlegend": true,
           "textposition": "auto",
           "type": "bar",
           "x": [
            30
           ],
           "xaxis": "x",
           "y": [
            "Canada"
           ],
           "yaxis": "y"
          },
          {
           "alignmentgroup": "True",
           "hovertemplate": "Pays=%{y}<br>release_year=2007<br>Nombre cumulé de films=%{x}<extra></extra>",
           "legendgroup": "France",
           "marker": {
            "color": "#19d3f3",
            "pattern": {
             "shape": ""
            }
           },
           "name": "France",
           "offsetgroup": "France",
           "orientation": "h",
           "showlegend": true,
           "textposition": "auto",
           "type": "bar",
           "x": [
            33
           ],
           "xaxis": "x",
           "y": [
            "France"
           ],
           "yaxis": "y"
          },
          {
           "alignmentgroup": "True",
           "hovertemplate": "Pays=%{y}<br>release_year=2007<br>Nombre cumulé de films=%{x}<extra></extra>",
           "legendgroup": "Czech Republic",
           "marker": {
            "color": "#FF6692",
            "pattern": {
             "shape": ""
            }
           },
           "name": "Czech Republic",
           "offsetgroup": "Czech Republic",
           "orientation": "h",
           "showlegend": true,
           "textposition": "auto",
           "type": "bar",
           "x": [
            7
           ],
           "xaxis": "x",
           "y": [
            "Czech Republic"
           ],
           "yaxis": "y"
          },
          {
           "alignmentgroup": "True",
           "hovertemplate": "Pays=%{y}<br>release_year=2007<br>Nombre cumulé de films=%{x}<extra></extra>",
           "legendgroup": "Hong Kong",
           "marker": {
            "color": "#B6E880",
            "pattern": {
             "shape": ""
            }
           },
           "name": "Hong Kong",
           "offsetgroup": "Hong Kong",
           "orientation": "h",
           "showlegend": true,
           "textposition": "auto",
           "type": "bar",
           "x": [
            7
           ],
           "xaxis": "x",
           "y": [
            "Hong Kong"
           ],
           "yaxis": "y"
          },
          {
           "alignmentgroup": "True",
           "hovertemplate": "Pays=%{y}<br>release_year=2007<br>Nombre cumulé de films=%{x}<extra></extra>",
           "legendgroup": "United Kingdom",
           "marker": {
            "color": "#FECB52",
            "pattern": {
             "shape": ""
            }
           },
           "name": "United Kingdom",
           "offsetgroup": "United Kingdom",
           "orientation": "h",
           "showlegend": true,
           "textposition": "auto",
           "type": "bar",
           "x": [
            257
           ],
           "xaxis": "x",
           "y": [
            "United Kingdom"
           ],
           "yaxis": "y"
          },
          {
           "alignmentgroup": "True",
           "hovertemplate": "Pays=%{y}<br>release_year=2007<br>Nombre cumulé de films=%{x}<extra></extra>",
           "legendgroup": "Romania",
           "marker": {
            "color": "#636efa",
            "pattern": {
             "shape": ""
            }
           },
           "name": "Romania",
           "offsetgroup": "Romania",
           "orientation": "h",
           "showlegend": true,
           "textposition": "auto",
           "type": "bar",
           "x": [
            7
           ],
           "xaxis": "x",
           "y": [
            "Romania"
           ],
           "yaxis": "y"
          },
          {
           "alignmentgroup": "True",
           "hovertemplate": "Pays=%{y}<br>release_year=2007<br>Nombre cumulé de films=%{x}<extra></extra>",
           "legendgroup": "India",
           "marker": {
            "color": "#FF6692",
            "pattern": {
             "shape": ""
            }
           },
           "name": "India",
           "offsetgroup": "India",
           "orientation": "h",
           "showlegend": true,
           "textposition": "auto",
           "type": "bar",
           "x": [
            12
           ],
           "xaxis": "x",
           "y": [
            "India"
           ],
           "yaxis": "y"
          },
          {
           "alignmentgroup": "True",
           "hovertemplate": "Pays=%{y}<br>release_year=2007<br>Nombre cumulé de films=%{x}<extra></extra>",
           "legendgroup": "China",
           "marker": {
            "color": "#FF97FF",
            "pattern": {
             "shape": ""
            }
           },
           "name": "China",
           "offsetgroup": "China",
           "orientation": "h",
           "showlegend": true,
           "textposition": "auto",
           "type": "bar",
           "x": [
            9
           ],
           "xaxis": "x",
           "y": [
            "China"
           ],
           "yaxis": "y"
          }
         ],
         "name": "2007"
        },
        {
         "data": [
          {
           "alignmentgroup": "True",
           "hovertemplate": "Pays=%{y}<br>release_year=2008<br>Nombre cumulé de films=%{x}<extra></extra>",
           "legendgroup": "Germany",
           "marker": {
            "color": "#636efa",
            "pattern": {
             "shape": ""
            }
           },
           "name": "Germany",
           "offsetgroup": "Germany",
           "orientation": "h",
           "showlegend": true,
           "textposition": "auto",
           "type": "bar",
           "x": [
            22
           ],
           "xaxis": "x",
           "y": [
            "Germany"
           ],
           "yaxis": "y"
          },
          {
           "alignmentgroup": "True",
           "hovertemplate": "Pays=%{y}<br>release_year=2008<br>Nombre cumulé de films=%{x}<extra></extra>",
           "legendgroup": "United States of America",
           "marker": {
            "color": "#EF553B",
            "pattern": {
             "shape": ""
            }
           },
           "name": "United States of America",
           "offsetgroup": "United States of America",
           "orientation": "h",
           "showlegend": true,
           "textposition": "auto",
           "type": "bar",
           "x": [
            242
           ],
           "xaxis": "x",
           "y": [
            "United States of America"
           ],
           "yaxis": "y"
          },
          {
           "alignmentgroup": "True",
           "hovertemplate": "Pays=%{y}<br>release_year=2008<br>Nombre cumulé de films=%{x}<extra></extra>",
           "legendgroup": "Canada",
           "marker": {
            "color": "#FFA15A",
            "pattern": {
             "shape": ""
            }
           },
           "name": "Canada",
           "offsetgroup": "Canada",
           "orientation": "h",
           "showlegend": true,
           "textposition": "auto",
           "type": "bar",
           "x": [
            32
           ],
           "xaxis": "x",
           "y": [
            "Canada"
           ],
           "yaxis": "y"
          },
          {
           "alignmentgroup": "True",
           "hovertemplate": "Pays=%{y}<br>release_year=2008<br>Nombre cumulé de films=%{x}<extra></extra>",
           "legendgroup": "France",
           "marker": {
            "color": "#19d3f3",
            "pattern": {
             "shape": ""
            }
           },
           "name": "France",
           "offsetgroup": "France",
           "orientation": "h",
           "showlegend": true,
           "textposition": "auto",
           "type": "bar",
           "x": [
            33
           ],
           "xaxis": "x",
           "y": [
            "France"
           ],
           "yaxis": "y"
          },
          {
           "alignmentgroup": "True",
           "hovertemplate": "Pays=%{y}<br>release_year=2008<br>Nombre cumulé de films=%{x}<extra></extra>",
           "legendgroup": "Czech Republic",
           "marker": {
            "color": "#FF6692",
            "pattern": {
             "shape": ""
            }
           },
           "name": "Czech Republic",
           "offsetgroup": "Czech Republic",
           "orientation": "h",
           "showlegend": true,
           "textposition": "auto",
           "type": "bar",
           "x": [
            11
           ],
           "xaxis": "x",
           "y": [
            "Czech Republic"
           ],
           "yaxis": "y"
          },
          {
           "alignmentgroup": "True",
           "hovertemplate": "Pays=%{y}<br>release_year=2008<br>Nombre cumulé de films=%{x}<extra></extra>",
           "legendgroup": "Hong Kong",
           "marker": {
            "color": "#B6E880",
            "pattern": {
             "shape": ""
            }
           },
           "name": "Hong Kong",
           "offsetgroup": "Hong Kong",
           "orientation": "h",
           "showlegend": true,
           "textposition": "auto",
           "type": "bar",
           "x": [
            7
           ],
           "xaxis": "x",
           "y": [
            "Hong Kong"
           ],
           "yaxis": "y"
          },
          {
           "alignmentgroup": "True",
           "hovertemplate": "Pays=%{y}<br>release_year=2008<br>Nombre cumulé de films=%{x}<extra></extra>",
           "legendgroup": "United Kingdom",
           "marker": {
            "color": "#FECB52",
            "pattern": {
             "shape": ""
            }
           },
           "name": "United Kingdom",
           "offsetgroup": "United Kingdom",
           "orientation": "h",
           "showlegend": true,
           "textposition": "auto",
           "type": "bar",
           "x": [
            274
           ],
           "xaxis": "x",
           "y": [
            "United Kingdom"
           ],
           "yaxis": "y"
          },
          {
           "alignmentgroup": "True",
           "hovertemplate": "Pays=%{y}<br>release_year=2008<br>Nombre cumulé de films=%{x}<extra></extra>",
           "legendgroup": "Romania",
           "marker": {
            "color": "#636efa",
            "pattern": {
             "shape": ""
            }
           },
           "name": "Romania",
           "offsetgroup": "Romania",
           "orientation": "h",
           "showlegend": true,
           "textposition": "auto",
           "type": "bar",
           "x": [
            7
           ],
           "xaxis": "x",
           "y": [
            "Romania"
           ],
           "yaxis": "y"
          },
          {
           "alignmentgroup": "True",
           "hovertemplate": "Pays=%{y}<br>release_year=2008<br>Nombre cumulé de films=%{x}<extra></extra>",
           "legendgroup": "India",
           "marker": {
            "color": "#FF6692",
            "pattern": {
             "shape": ""
            }
           },
           "name": "India",
           "offsetgroup": "India",
           "orientation": "h",
           "showlegend": true,
           "textposition": "auto",
           "type": "bar",
           "x": [
            12
           ],
           "xaxis": "x",
           "y": [
            "India"
           ],
           "yaxis": "y"
          },
          {
           "alignmentgroup": "True",
           "hovertemplate": "Pays=%{y}<br>release_year=2008<br>Nombre cumulé de films=%{x}<extra></extra>",
           "legendgroup": "China",
           "marker": {
            "color": "#FF97FF",
            "pattern": {
             "shape": ""
            }
           },
           "name": "China",
           "offsetgroup": "China",
           "orientation": "h",
           "showlegend": true,
           "textposition": "auto",
           "type": "bar",
           "x": [
            9
           ],
           "xaxis": "x",
           "y": [
            "China"
           ],
           "yaxis": "y"
          }
         ],
         "name": "2008"
        },
        {
         "data": [
          {
           "alignmentgroup": "True",
           "hovertemplate": "Pays=%{y}<br>release_year=2009<br>Nombre cumulé de films=%{x}<extra></extra>",
           "legendgroup": "Germany",
           "marker": {
            "color": "#636efa",
            "pattern": {
             "shape": ""
            }
           },
           "name": "Germany",
           "offsetgroup": "Germany",
           "orientation": "h",
           "showlegend": true,
           "textposition": "auto",
           "type": "bar",
           "x": [
            26
           ],
           "xaxis": "x",
           "y": [
            "Germany"
           ],
           "yaxis": "y"
          },
          {
           "alignmentgroup": "True",
           "hovertemplate": "Pays=%{y}<br>release_year=2009<br>Nombre cumulé de films=%{x}<extra></extra>",
           "legendgroup": "United States of America",
           "marker": {
            "color": "#EF553B",
            "pattern": {
             "shape": ""
            }
           },
           "name": "United States of America",
           "offsetgroup": "United States of America",
           "orientation": "h",
           "showlegend": true,
           "textposition": "auto",
           "type": "bar",
           "x": [
            265
           ],
           "xaxis": "x",
           "y": [
            "United States of America"
           ],
           "yaxis": "y"
          },
          {
           "alignmentgroup": "True",
           "hovertemplate": "Pays=%{y}<br>release_year=2009<br>Nombre cumulé de films=%{x}<extra></extra>",
           "legendgroup": "Canada",
           "marker": {
            "color": "#FFA15A",
            "pattern": {
             "shape": ""
            }
           },
           "name": "Canada",
           "offsetgroup": "Canada",
           "orientation": "h",
           "showlegend": true,
           "textposition": "auto",
           "type": "bar",
           "x": [
            32
           ],
           "xaxis": "x",
           "y": [
            "Canada"
           ],
           "yaxis": "y"
          },
          {
           "alignmentgroup": "True",
           "hovertemplate": "Pays=%{y}<br>release_year=2009<br>Nombre cumulé de films=%{x}<extra></extra>",
           "legendgroup": "France",
           "marker": {
            "color": "#19d3f3",
            "pattern": {
             "shape": ""
            }
           },
           "name": "France",
           "offsetgroup": "France",
           "orientation": "h",
           "showlegend": true,
           "textposition": "auto",
           "type": "bar",
           "x": [
            33
           ],
           "xaxis": "x",
           "y": [
            "France"
           ],
           "yaxis": "y"
          },
          {
           "alignmentgroup": "True",
           "hovertemplate": "Pays=%{y}<br>release_year=2009<br>Nombre cumulé de films=%{x}<extra></extra>",
           "legendgroup": "Czech Republic",
           "marker": {
            "color": "#FF6692",
            "pattern": {
             "shape": ""
            }
           },
           "name": "Czech Republic",
           "offsetgroup": "Czech Republic",
           "orientation": "h",
           "showlegend": true,
           "textposition": "auto",
           "type": "bar",
           "x": [
            11
           ],
           "xaxis": "x",
           "y": [
            "Czech Republic"
           ],
           "yaxis": "y"
          },
          {
           "alignmentgroup": "True",
           "hovertemplate": "Pays=%{y}<br>release_year=2009<br>Nombre cumulé de films=%{x}<extra></extra>",
           "legendgroup": "United Kingdom",
           "marker": {
            "color": "#FECB52",
            "pattern": {
             "shape": ""
            }
           },
           "name": "United Kingdom",
           "offsetgroup": "United Kingdom",
           "orientation": "h",
           "showlegend": true,
           "textposition": "auto",
           "type": "bar",
           "x": [
            279
           ],
           "xaxis": "x",
           "y": [
            "United Kingdom"
           ],
           "yaxis": "y"
          },
          {
           "alignmentgroup": "True",
           "hovertemplate": "Pays=%{y}<br>release_year=2009<br>Nombre cumulé de films=%{x}<extra></extra>",
           "legendgroup": "India",
           "marker": {
            "color": "#FF6692",
            "pattern": {
             "shape": ""
            }
           },
           "name": "India",
           "offsetgroup": "India",
           "orientation": "h",
           "showlegend": true,
           "textposition": "auto",
           "type": "bar",
           "x": [
            15
           ],
           "xaxis": "x",
           "y": [
            "India"
           ],
           "yaxis": "y"
          },
          {
           "alignmentgroup": "True",
           "hovertemplate": "Pays=%{y}<br>release_year=2009<br>Nombre cumulé de films=%{x}<extra></extra>",
           "legendgroup": "China",
           "marker": {
            "color": "#FF97FF",
            "pattern": {
             "shape": ""
            }
           },
           "name": "China",
           "offsetgroup": "China",
           "orientation": "h",
           "showlegend": true,
           "textposition": "auto",
           "type": "bar",
           "x": [
            9
           ],
           "xaxis": "x",
           "y": [
            "China"
           ],
           "yaxis": "y"
          },
          {
           "alignmentgroup": "True",
           "hovertemplate": "Pays=%{y}<br>release_year=2009<br>Nombre cumulé de films=%{x}<extra></extra>",
           "legendgroup": "Japan",
           "marker": {
            "color": "#FECB52",
            "pattern": {
             "shape": ""
            }
           },
           "name": "Japan",
           "offsetgroup": "Japan",
           "orientation": "h",
           "showlegend": true,
           "textposition": "auto",
           "type": "bar",
           "x": [
            8
           ],
           "xaxis": "x",
           "y": [
            "Japan"
           ],
           "yaxis": "y"
          },
          {
           "alignmentgroup": "True",
           "hovertemplate": "Pays=%{y}<br>release_year=2009<br>Nombre cumulé de films=%{x}<extra></extra>",
           "legendgroup": "Sweden",
           "marker": {
            "color": "#636efa",
            "pattern": {
             "shape": ""
            }
           },
           "name": "Sweden",
           "offsetgroup": "Sweden",
           "orientation": "h",
           "showlegend": true,
           "textposition": "auto",
           "type": "bar",
           "x": [
            9
           ],
           "xaxis": "x",
           "y": [
            "Sweden"
           ],
           "yaxis": "y"
          }
         ],
         "name": "2009"
        },
        {
         "data": [
          {
           "alignmentgroup": "True",
           "hovertemplate": "Pays=%{y}<br>release_year=2010<br>Nombre cumulé de films=%{x}<extra></extra>",
           "legendgroup": "Germany",
           "marker": {
            "color": "#636efa",
            "pattern": {
             "shape": ""
            }
           },
           "name": "Germany",
           "offsetgroup": "Germany",
           "orientation": "h",
           "showlegend": true,
           "textposition": "auto",
           "type": "bar",
           "x": [
            29
           ],
           "xaxis": "x",
           "y": [
            "Germany"
           ],
           "yaxis": "y"
          },
          {
           "alignmentgroup": "True",
           "hovertemplate": "Pays=%{y}<br>release_year=2010<br>Nombre cumulé de films=%{x}<extra></extra>",
           "legendgroup": "United States of America",
           "marker": {
            "color": "#EF553B",
            "pattern": {
             "shape": ""
            }
           },
           "name": "United States of America",
           "offsetgroup": "United States of America",
           "orientation": "h",
           "showlegend": true,
           "textposition": "auto",
           "type": "bar",
           "x": [
            274
           ],
           "xaxis": "x",
           "y": [
            "United States of America"
           ],
           "yaxis": "y"
          },
          {
           "alignmentgroup": "True",
           "hovertemplate": "Pays=%{y}<br>release_year=2010<br>Nombre cumulé de films=%{x}<extra></extra>",
           "legendgroup": "Canada",
           "marker": {
            "color": "#FFA15A",
            "pattern": {
             "shape": ""
            }
           },
           "name": "Canada",
           "offsetgroup": "Canada",
           "orientation": "h",
           "showlegend": true,
           "textposition": "auto",
           "type": "bar",
           "x": [
            34
           ],
           "xaxis": "x",
           "y": [
            "Canada"
           ],
           "yaxis": "y"
          },
          {
           "alignmentgroup": "True",
           "hovertemplate": "Pays=%{y}<br>release_year=2010<br>Nombre cumulé de films=%{x}<extra></extra>",
           "legendgroup": "France",
           "marker": {
            "color": "#19d3f3",
            "pattern": {
             "shape": ""
            }
           },
           "name": "France",
           "offsetgroup": "France",
           "orientation": "h",
           "showlegend": true,
           "textposition": "auto",
           "type": "bar",
           "x": [
            33
           ],
           "xaxis": "x",
           "y": [
            "France"
           ],
           "yaxis": "y"
          },
          {
           "alignmentgroup": "True",
           "hovertemplate": "Pays=%{y}<br>release_year=2010<br>Nombre cumulé de films=%{x}<extra></extra>",
           "legendgroup": "Czech Republic",
           "marker": {
            "color": "#FF6692",
            "pattern": {
             "shape": ""
            }
           },
           "name": "Czech Republic",
           "offsetgroup": "Czech Republic",
           "orientation": "h",
           "showlegend": true,
           "textposition": "auto",
           "type": "bar",
           "x": [
            11
           ],
           "xaxis": "x",
           "y": [
            "Czech Republic"
           ],
           "yaxis": "y"
          },
          {
           "alignmentgroup": "True",
           "hovertemplate": "Pays=%{y}<br>release_year=2010<br>Nombre cumulé de films=%{x}<extra></extra>",
           "legendgroup": "United Kingdom",
           "marker": {
            "color": "#FECB52",
            "pattern": {
             "shape": ""
            }
           },
           "name": "United Kingdom",
           "offsetgroup": "United Kingdom",
           "orientation": "h",
           "showlegend": true,
           "textposition": "auto",
           "type": "bar",
           "x": [
            283
           ],
           "xaxis": "x",
           "y": [
            "United Kingdom"
           ],
           "yaxis": "y"
          },
          {
           "alignmentgroup": "True",
           "hovertemplate": "Pays=%{y}<br>release_year=2010<br>Nombre cumulé de films=%{x}<extra></extra>",
           "legendgroup": "India",
           "marker": {
            "color": "#FF6692",
            "pattern": {
             "shape": ""
            }
           },
           "name": "India",
           "offsetgroup": "India",
           "orientation": "h",
           "showlegend": true,
           "textposition": "auto",
           "type": "bar",
           "x": [
            15
           ],
           "xaxis": "x",
           "y": [
            "India"
           ],
           "yaxis": "y"
          },
          {
           "alignmentgroup": "True",
           "hovertemplate": "Pays=%{y}<br>release_year=2010<br>Nombre cumulé de films=%{x}<extra></extra>",
           "legendgroup": "China",
           "marker": {
            "color": "#FF97FF",
            "pattern": {
             "shape": ""
            }
           },
           "name": "China",
           "offsetgroup": "China",
           "orientation": "h",
           "showlegend": true,
           "textposition": "auto",
           "type": "bar",
           "x": [
            9
           ],
           "xaxis": "x",
           "y": [
            "China"
           ],
           "yaxis": "y"
          },
          {
           "alignmentgroup": "True",
           "hovertemplate": "Pays=%{y}<br>release_year=2010<br>Nombre cumulé de films=%{x}<extra></extra>",
           "legendgroup": "Japan",
           "marker": {
            "color": "#FECB52",
            "pattern": {
             "shape": ""
            }
           },
           "name": "Japan",
           "offsetgroup": "Japan",
           "orientation": "h",
           "showlegend": true,
           "textposition": "auto",
           "type": "bar",
           "x": [
            8
           ],
           "xaxis": "x",
           "y": [
            "Japan"
           ],
           "yaxis": "y"
          },
          {
           "alignmentgroup": "True",
           "hovertemplate": "Pays=%{y}<br>release_year=2010<br>Nombre cumulé de films=%{x}<extra></extra>",
           "legendgroup": "Sweden",
           "marker": {
            "color": "#636efa",
            "pattern": {
             "shape": ""
            }
           },
           "name": "Sweden",
           "offsetgroup": "Sweden",
           "orientation": "h",
           "showlegend": true,
           "textposition": "auto",
           "type": "bar",
           "x": [
            9
           ],
           "xaxis": "x",
           "y": [
            "Sweden"
           ],
           "yaxis": "y"
          }
         ],
         "name": "2010"
        }
       ],
       "layout": {
        "barmode": "relative",
        "height": 800,
        "legend": {
         "title": {
          "text": "Pays"
         },
         "tracegroupgap": 0
        },
        "sliders": [
         {
          "active": 0,
          "currentvalue": {
           "prefix": "release_year="
          },
          "len": 0.9,
          "pad": {
           "b": 10,
           "t": 60
          },
          "steps": [
           {
            "args": [
             [
              "1910"
             ],
             {
              "frame": {
               "duration": 0,
               "redraw": true
              },
              "fromcurrent": true,
              "mode": "immediate",
              "transition": {
               "duration": 0,
               "easing": "linear"
              }
             }
            ],
            "label": "1910",
            "method": "animate"
           },
           {
            "args": [
             [
              "1911"
             ],
             {
              "frame": {
               "duration": 0,
               "redraw": true
              },
              "fromcurrent": true,
              "mode": "immediate",
              "transition": {
               "duration": 0,
               "easing": "linear"
              }
             }
            ],
            "label": "1911",
            "method": "animate"
           },
           {
            "args": [
             [
              "1912"
             ],
             {
              "frame": {
               "duration": 0,
               "redraw": true
              },
              "fromcurrent": true,
              "mode": "immediate",
              "transition": {
               "duration": 0,
               "easing": "linear"
              }
             }
            ],
            "label": "1912",
            "method": "animate"
           },
           {
            "args": [
             [
              "1913"
             ],
             {
              "frame": {
               "duration": 0,
               "redraw": true
              },
              "fromcurrent": true,
              "mode": "immediate",
              "transition": {
               "duration": 0,
               "easing": "linear"
              }
             }
            ],
            "label": "1913",
            "method": "animate"
           },
           {
            "args": [
             [
              "1914"
             ],
             {
              "frame": {
               "duration": 0,
               "redraw": true
              },
              "fromcurrent": true,
              "mode": "immediate",
              "transition": {
               "duration": 0,
               "easing": "linear"
              }
             }
            ],
            "label": "1914",
            "method": "animate"
           },
           {
            "args": [
             [
              "1915"
             ],
             {
              "frame": {
               "duration": 0,
               "redraw": true
              },
              "fromcurrent": true,
              "mode": "immediate",
              "transition": {
               "duration": 0,
               "easing": "linear"
              }
             }
            ],
            "label": "1915",
            "method": "animate"
           },
           {
            "args": [
             [
              "1916"
             ],
             {
              "frame": {
               "duration": 0,
               "redraw": true
              },
              "fromcurrent": true,
              "mode": "immediate",
              "transition": {
               "duration": 0,
               "easing": "linear"
              }
             }
            ],
            "label": "1916",
            "method": "animate"
           },
           {
            "args": [
             [
              "1917"
             ],
             {
              "frame": {
               "duration": 0,
               "redraw": true
              },
              "fromcurrent": true,
              "mode": "immediate",
              "transition": {
               "duration": 0,
               "easing": "linear"
              }
             }
            ],
            "label": "1917",
            "method": "animate"
           },
           {
            "args": [
             [
              "1918"
             ],
             {
              "frame": {
               "duration": 0,
               "redraw": true
              },
              "fromcurrent": true,
              "mode": "immediate",
              "transition": {
               "duration": 0,
               "easing": "linear"
              }
             }
            ],
            "label": "1918",
            "method": "animate"
           },
           {
            "args": [
             [
              "1919"
             ],
             {
              "frame": {
               "duration": 0,
               "redraw": true
              },
              "fromcurrent": true,
              "mode": "immediate",
              "transition": {
               "duration": 0,
               "easing": "linear"
              }
             }
            ],
            "label": "1919",
            "method": "animate"
           },
           {
            "args": [
             [
              "1920"
             ],
             {
              "frame": {
               "duration": 0,
               "redraw": true
              },
              "fromcurrent": true,
              "mode": "immediate",
              "transition": {
               "duration": 0,
               "easing": "linear"
              }
             }
            ],
            "label": "1920",
            "method": "animate"
           },
           {
            "args": [
             [
              "1921"
             ],
             {
              "frame": {
               "duration": 0,
               "redraw": true
              },
              "fromcurrent": true,
              "mode": "immediate",
              "transition": {
               "duration": 0,
               "easing": "linear"
              }
             }
            ],
            "label": "1921",
            "method": "animate"
           },
           {
            "args": [
             [
              "1922"
             ],
             {
              "frame": {
               "duration": 0,
               "redraw": true
              },
              "fromcurrent": true,
              "mode": "immediate",
              "transition": {
               "duration": 0,
               "easing": "linear"
              }
             }
            ],
            "label": "1922",
            "method": "animate"
           },
           {
            "args": [
             [
              "1923"
             ],
             {
              "frame": {
               "duration": 0,
               "redraw": true
              },
              "fromcurrent": true,
              "mode": "immediate",
              "transition": {
               "duration": 0,
               "easing": "linear"
              }
             }
            ],
            "label": "1923",
            "method": "animate"
           },
           {
            "args": [
             [
              "1924"
             ],
             {
              "frame": {
               "duration": 0,
               "redraw": true
              },
              "fromcurrent": true,
              "mode": "immediate",
              "transition": {
               "duration": 0,
               "easing": "linear"
              }
             }
            ],
            "label": "1924",
            "method": "animate"
           },
           {
            "args": [
             [
              "1925"
             ],
             {
              "frame": {
               "duration": 0,
               "redraw": true
              },
              "fromcurrent": true,
              "mode": "immediate",
              "transition": {
               "duration": 0,
               "easing": "linear"
              }
             }
            ],
            "label": "1925",
            "method": "animate"
           },
           {
            "args": [
             [
              "1926"
             ],
             {
              "frame": {
               "duration": 0,
               "redraw": true
              },
              "fromcurrent": true,
              "mode": "immediate",
              "transition": {
               "duration": 0,
               "easing": "linear"
              }
             }
            ],
            "label": "1926",
            "method": "animate"
           },
           {
            "args": [
             [
              "1927"
             ],
             {
              "frame": {
               "duration": 0,
               "redraw": true
              },
              "fromcurrent": true,
              "mode": "immediate",
              "transition": {
               "duration": 0,
               "easing": "linear"
              }
             }
            ],
            "label": "1927",
            "method": "animate"
           },
           {
            "args": [
             [
              "1928"
             ],
             {
              "frame": {
               "duration": 0,
               "redraw": true
              },
              "fromcurrent": true,
              "mode": "immediate",
              "transition": {
               "duration": 0,
               "easing": "linear"
              }
             }
            ],
            "label": "1928",
            "method": "animate"
           },
           {
            "args": [
             [
              "1929"
             ],
             {
              "frame": {
               "duration": 0,
               "redraw": true
              },
              "fromcurrent": true,
              "mode": "immediate",
              "transition": {
               "duration": 0,
               "easing": "linear"
              }
             }
            ],
            "label": "1929",
            "method": "animate"
           },
           {
            "args": [
             [
              "1930"
             ],
             {
              "frame": {
               "duration": 0,
               "redraw": true
              },
              "fromcurrent": true,
              "mode": "immediate",
              "transition": {
               "duration": 0,
               "easing": "linear"
              }
             }
            ],
            "label": "1930",
            "method": "animate"
           },
           {
            "args": [
             [
              "1931"
             ],
             {
              "frame": {
               "duration": 0,
               "redraw": true
              },
              "fromcurrent": true,
              "mode": "immediate",
              "transition": {
               "duration": 0,
               "easing": "linear"
              }
             }
            ],
            "label": "1931",
            "method": "animate"
           },
           {
            "args": [
             [
              "1932"
             ],
             {
              "frame": {
               "duration": 0,
               "redraw": true
              },
              "fromcurrent": true,
              "mode": "immediate",
              "transition": {
               "duration": 0,
               "easing": "linear"
              }
             }
            ],
            "label": "1932",
            "method": "animate"
           },
           {
            "args": [
             [
              "1933"
             ],
             {
              "frame": {
               "duration": 0,
               "redraw": true
              },
              "fromcurrent": true,
              "mode": "immediate",
              "transition": {
               "duration": 0,
               "easing": "linear"
              }
             }
            ],
            "label": "1933",
            "method": "animate"
           },
           {
            "args": [
             [
              "1934"
             ],
             {
              "frame": {
               "duration": 0,
               "redraw": true
              },
              "fromcurrent": true,
              "mode": "immediate",
              "transition": {
               "duration": 0,
               "easing": "linear"
              }
             }
            ],
            "label": "1934",
            "method": "animate"
           },
           {
            "args": [
             [
              "1935"
             ],
             {
              "frame": {
               "duration": 0,
               "redraw": true
              },
              "fromcurrent": true,
              "mode": "immediate",
              "transition": {
               "duration": 0,
               "easing": "linear"
              }
             }
            ],
            "label": "1935",
            "method": "animate"
           },
           {
            "args": [
             [
              "1936"
             ],
             {
              "frame": {
               "duration": 0,
               "redraw": true
              },
              "fromcurrent": true,
              "mode": "immediate",
              "transition": {
               "duration": 0,
               "easing": "linear"
              }
             }
            ],
            "label": "1936",
            "method": "animate"
           },
           {
            "args": [
             [
              "1937"
             ],
             {
              "frame": {
               "duration": 0,
               "redraw": true
              },
              "fromcurrent": true,
              "mode": "immediate",
              "transition": {
               "duration": 0,
               "easing": "linear"
              }
             }
            ],
            "label": "1937",
            "method": "animate"
           },
           {
            "args": [
             [
              "1938"
             ],
             {
              "frame": {
               "duration": 0,
               "redraw": true
              },
              "fromcurrent": true,
              "mode": "immediate",
              "transition": {
               "duration": 0,
               "easing": "linear"
              }
             }
            ],
            "label": "1938",
            "method": "animate"
           },
           {
            "args": [
             [
              "1939"
             ],
             {
              "frame": {
               "duration": 0,
               "redraw": true
              },
              "fromcurrent": true,
              "mode": "immediate",
              "transition": {
               "duration": 0,
               "easing": "linear"
              }
             }
            ],
            "label": "1939",
            "method": "animate"
           },
           {
            "args": [
             [
              "1940"
             ],
             {
              "frame": {
               "duration": 0,
               "redraw": true
              },
              "fromcurrent": true,
              "mode": "immediate",
              "transition": {
               "duration": 0,
               "easing": "linear"
              }
             }
            ],
            "label": "1940",
            "method": "animate"
           },
           {
            "args": [
             [
              "1941"
             ],
             {
              "frame": {
               "duration": 0,
               "redraw": true
              },
              "fromcurrent": true,
              "mode": "immediate",
              "transition": {
               "duration": 0,
               "easing": "linear"
              }
             }
            ],
            "label": "1941",
            "method": "animate"
           },
           {
            "args": [
             [
              "1942"
             ],
             {
              "frame": {
               "duration": 0,
               "redraw": true
              },
              "fromcurrent": true,
              "mode": "immediate",
              "transition": {
               "duration": 0,
               "easing": "linear"
              }
             }
            ],
            "label": "1942",
            "method": "animate"
           },
           {
            "args": [
             [
              "1943"
             ],
             {
              "frame": {
               "duration": 0,
               "redraw": true
              },
              "fromcurrent": true,
              "mode": "immediate",
              "transition": {
               "duration": 0,
               "easing": "linear"
              }
             }
            ],
            "label": "1943",
            "method": "animate"
           },
           {
            "args": [
             [
              "1944"
             ],
             {
              "frame": {
               "duration": 0,
               "redraw": true
              },
              "fromcurrent": true,
              "mode": "immediate",
              "transition": {
               "duration": 0,
               "easing": "linear"
              }
             }
            ],
            "label": "1944",
            "method": "animate"
           },
           {
            "args": [
             [
              "1945"
             ],
             {
              "frame": {
               "duration": 0,
               "redraw": true
              },
              "fromcurrent": true,
              "mode": "immediate",
              "transition": {
               "duration": 0,
               "easing": "linear"
              }
             }
            ],
            "label": "1945",
            "method": "animate"
           },
           {
            "args": [
             [
              "1946"
             ],
             {
              "frame": {
               "duration": 0,
               "redraw": true
              },
              "fromcurrent": true,
              "mode": "immediate",
              "transition": {
               "duration": 0,
               "easing": "linear"
              }
             }
            ],
            "label": "1946",
            "method": "animate"
           },
           {
            "args": [
             [
              "1947"
             ],
             {
              "frame": {
               "duration": 0,
               "redraw": true
              },
              "fromcurrent": true,
              "mode": "immediate",
              "transition": {
               "duration": 0,
               "easing": "linear"
              }
             }
            ],
            "label": "1947",
            "method": "animate"
           },
           {
            "args": [
             [
              "1948"
             ],
             {
              "frame": {
               "duration": 0,
               "redraw": true
              },
              "fromcurrent": true,
              "mode": "immediate",
              "transition": {
               "duration": 0,
               "easing": "linear"
              }
             }
            ],
            "label": "1948",
            "method": "animate"
           },
           {
            "args": [
             [
              "1949"
             ],
             {
              "frame": {
               "duration": 0,
               "redraw": true
              },
              "fromcurrent": true,
              "mode": "immediate",
              "transition": {
               "duration": 0,
               "easing": "linear"
              }
             }
            ],
            "label": "1949",
            "method": "animate"
           },
           {
            "args": [
             [
              "1950"
             ],
             {
              "frame": {
               "duration": 0,
               "redraw": true
              },
              "fromcurrent": true,
              "mode": "immediate",
              "transition": {
               "duration": 0,
               "easing": "linear"
              }
             }
            ],
            "label": "1950",
            "method": "animate"
           },
           {
            "args": [
             [
              "1951"
             ],
             {
              "frame": {
               "duration": 0,
               "redraw": true
              },
              "fromcurrent": true,
              "mode": "immediate",
              "transition": {
               "duration": 0,
               "easing": "linear"
              }
             }
            ],
            "label": "1951",
            "method": "animate"
           },
           {
            "args": [
             [
              "1952"
             ],
             {
              "frame": {
               "duration": 0,
               "redraw": true
              },
              "fromcurrent": true,
              "mode": "immediate",
              "transition": {
               "duration": 0,
               "easing": "linear"
              }
             }
            ],
            "label": "1952",
            "method": "animate"
           },
           {
            "args": [
             [
              "1953"
             ],
             {
              "frame": {
               "duration": 0,
               "redraw": true
              },
              "fromcurrent": true,
              "mode": "immediate",
              "transition": {
               "duration": 0,
               "easing": "linear"
              }
             }
            ],
            "label": "1953",
            "method": "animate"
           },
           {
            "args": [
             [
              "1954"
             ],
             {
              "frame": {
               "duration": 0,
               "redraw": true
              },
              "fromcurrent": true,
              "mode": "immediate",
              "transition": {
               "duration": 0,
               "easing": "linear"
              }
             }
            ],
            "label": "1954",
            "method": "animate"
           },
           {
            "args": [
             [
              "1955"
             ],
             {
              "frame": {
               "duration": 0,
               "redraw": true
              },
              "fromcurrent": true,
              "mode": "immediate",
              "transition": {
               "duration": 0,
               "easing": "linear"
              }
             }
            ],
            "label": "1955",
            "method": "animate"
           },
           {
            "args": [
             [
              "1956"
             ],
             {
              "frame": {
               "duration": 0,
               "redraw": true
              },
              "fromcurrent": true,
              "mode": "immediate",
              "transition": {
               "duration": 0,
               "easing": "linear"
              }
             }
            ],
            "label": "1956",
            "method": "animate"
           },
           {
            "args": [
             [
              "1957"
             ],
             {
              "frame": {
               "duration": 0,
               "redraw": true
              },
              "fromcurrent": true,
              "mode": "immediate",
              "transition": {
               "duration": 0,
               "easing": "linear"
              }
             }
            ],
            "label": "1957",
            "method": "animate"
           },
           {
            "args": [
             [
              "1958"
             ],
             {
              "frame": {
               "duration": 0,
               "redraw": true
              },
              "fromcurrent": true,
              "mode": "immediate",
              "transition": {
               "duration": 0,
               "easing": "linear"
              }
             }
            ],
            "label": "1958",
            "method": "animate"
           },
           {
            "args": [
             [
              "1959"
             ],
             {
              "frame": {
               "duration": 0,
               "redraw": true
              },
              "fromcurrent": true,
              "mode": "immediate",
              "transition": {
               "duration": 0,
               "easing": "linear"
              }
             }
            ],
            "label": "1959",
            "method": "animate"
           },
           {
            "args": [
             [
              "1960"
             ],
             {
              "frame": {
               "duration": 0,
               "redraw": true
              },
              "fromcurrent": true,
              "mode": "immediate",
              "transition": {
               "duration": 0,
               "easing": "linear"
              }
             }
            ],
            "label": "1960",
            "method": "animate"
           },
           {
            "args": [
             [
              "1961"
             ],
             {
              "frame": {
               "duration": 0,
               "redraw": true
              },
              "fromcurrent": true,
              "mode": "immediate",
              "transition": {
               "duration": 0,
               "easing": "linear"
              }
             }
            ],
            "label": "1961",
            "method": "animate"
           },
           {
            "args": [
             [
              "1962"
             ],
             {
              "frame": {
               "duration": 0,
               "redraw": true
              },
              "fromcurrent": true,
              "mode": "immediate",
              "transition": {
               "duration": 0,
               "easing": "linear"
              }
             }
            ],
            "label": "1962",
            "method": "animate"
           },
           {
            "args": [
             [
              "1963"
             ],
             {
              "frame": {
               "duration": 0,
               "redraw": true
              },
              "fromcurrent": true,
              "mode": "immediate",
              "transition": {
               "duration": 0,
               "easing": "linear"
              }
             }
            ],
            "label": "1963",
            "method": "animate"
           },
           {
            "args": [
             [
              "1964"
             ],
             {
              "frame": {
               "duration": 0,
               "redraw": true
              },
              "fromcurrent": true,
              "mode": "immediate",
              "transition": {
               "duration": 0,
               "easing": "linear"
              }
             }
            ],
            "label": "1964",
            "method": "animate"
           },
           {
            "args": [
             [
              "1965"
             ],
             {
              "frame": {
               "duration": 0,
               "redraw": true
              },
              "fromcurrent": true,
              "mode": "immediate",
              "transition": {
               "duration": 0,
               "easing": "linear"
              }
             }
            ],
            "label": "1965",
            "method": "animate"
           },
           {
            "args": [
             [
              "1966"
             ],
             {
              "frame": {
               "duration": 0,
               "redraw": true
              },
              "fromcurrent": true,
              "mode": "immediate",
              "transition": {
               "duration": 0,
               "easing": "linear"
              }
             }
            ],
            "label": "1966",
            "method": "animate"
           },
           {
            "args": [
             [
              "1967"
             ],
             {
              "frame": {
               "duration": 0,
               "redraw": true
              },
              "fromcurrent": true,
              "mode": "immediate",
              "transition": {
               "duration": 0,
               "easing": "linear"
              }
             }
            ],
            "label": "1967",
            "method": "animate"
           },
           {
            "args": [
             [
              "1968"
             ],
             {
              "frame": {
               "duration": 0,
               "redraw": true
              },
              "fromcurrent": true,
              "mode": "immediate",
              "transition": {
               "duration": 0,
               "easing": "linear"
              }
             }
            ],
            "label": "1968",
            "method": "animate"
           },
           {
            "args": [
             [
              "1969"
             ],
             {
              "frame": {
               "duration": 0,
               "redraw": true
              },
              "fromcurrent": true,
              "mode": "immediate",
              "transition": {
               "duration": 0,
               "easing": "linear"
              }
             }
            ],
            "label": "1969",
            "method": "animate"
           },
           {
            "args": [
             [
              "1970"
             ],
             {
              "frame": {
               "duration": 0,
               "redraw": true
              },
              "fromcurrent": true,
              "mode": "immediate",
              "transition": {
               "duration": 0,
               "easing": "linear"
              }
             }
            ],
            "label": "1970",
            "method": "animate"
           },
           {
            "args": [
             [
              "1971"
             ],
             {
              "frame": {
               "duration": 0,
               "redraw": true
              },
              "fromcurrent": true,
              "mode": "immediate",
              "transition": {
               "duration": 0,
               "easing": "linear"
              }
             }
            ],
            "label": "1971",
            "method": "animate"
           },
           {
            "args": [
             [
              "1972"
             ],
             {
              "frame": {
               "duration": 0,
               "redraw": true
              },
              "fromcurrent": true,
              "mode": "immediate",
              "transition": {
               "duration": 0,
               "easing": "linear"
              }
             }
            ],
            "label": "1972",
            "method": "animate"
           },
           {
            "args": [
             [
              "1973"
             ],
             {
              "frame": {
               "duration": 0,
               "redraw": true
              },
              "fromcurrent": true,
              "mode": "immediate",
              "transition": {
               "duration": 0,
               "easing": "linear"
              }
             }
            ],
            "label": "1973",
            "method": "animate"
           },
           {
            "args": [
             [
              "1974"
             ],
             {
              "frame": {
               "duration": 0,
               "redraw": true
              },
              "fromcurrent": true,
              "mode": "immediate",
              "transition": {
               "duration": 0,
               "easing": "linear"
              }
             }
            ],
            "label": "1974",
            "method": "animate"
           },
           {
            "args": [
             [
              "1975"
             ],
             {
              "frame": {
               "duration": 0,
               "redraw": true
              },
              "fromcurrent": true,
              "mode": "immediate",
              "transition": {
               "duration": 0,
               "easing": "linear"
              }
             }
            ],
            "label": "1975",
            "method": "animate"
           },
           {
            "args": [
             [
              "1976"
             ],
             {
              "frame": {
               "duration": 0,
               "redraw": true
              },
              "fromcurrent": true,
              "mode": "immediate",
              "transition": {
               "duration": 0,
               "easing": "linear"
              }
             }
            ],
            "label": "1976",
            "method": "animate"
           },
           {
            "args": [
             [
              "1977"
             ],
             {
              "frame": {
               "duration": 0,
               "redraw": true
              },
              "fromcurrent": true,
              "mode": "immediate",
              "transition": {
               "duration": 0,
               "easing": "linear"
              }
             }
            ],
            "label": "1977",
            "method": "animate"
           },
           {
            "args": [
             [
              "1978"
             ],
             {
              "frame": {
               "duration": 0,
               "redraw": true
              },
              "fromcurrent": true,
              "mode": "immediate",
              "transition": {
               "duration": 0,
               "easing": "linear"
              }
             }
            ],
            "label": "1978",
            "method": "animate"
           },
           {
            "args": [
             [
              "1979"
             ],
             {
              "frame": {
               "duration": 0,
               "redraw": true
              },
              "fromcurrent": true,
              "mode": "immediate",
              "transition": {
               "duration": 0,
               "easing": "linear"
              }
             }
            ],
            "label": "1979",
            "method": "animate"
           },
           {
            "args": [
             [
              "1980"
             ],
             {
              "frame": {
               "duration": 0,
               "redraw": true
              },
              "fromcurrent": true,
              "mode": "immediate",
              "transition": {
               "duration": 0,
               "easing": "linear"
              }
             }
            ],
            "label": "1980",
            "method": "animate"
           },
           {
            "args": [
             [
              "1981"
             ],
             {
              "frame": {
               "duration": 0,
               "redraw": true
              },
              "fromcurrent": true,
              "mode": "immediate",
              "transition": {
               "duration": 0,
               "easing": "linear"
              }
             }
            ],
            "label": "1981",
            "method": "animate"
           },
           {
            "args": [
             [
              "1982"
             ],
             {
              "frame": {
               "duration": 0,
               "redraw": true
              },
              "fromcurrent": true,
              "mode": "immediate",
              "transition": {
               "duration": 0,
               "easing": "linear"
              }
             }
            ],
            "label": "1982",
            "method": "animate"
           },
           {
            "args": [
             [
              "1983"
             ],
             {
              "frame": {
               "duration": 0,
               "redraw": true
              },
              "fromcurrent": true,
              "mode": "immediate",
              "transition": {
               "duration": 0,
               "easing": "linear"
              }
             }
            ],
            "label": "1983",
            "method": "animate"
           },
           {
            "args": [
             [
              "1984"
             ],
             {
              "frame": {
               "duration": 0,
               "redraw": true
              },
              "fromcurrent": true,
              "mode": "immediate",
              "transition": {
               "duration": 0,
               "easing": "linear"
              }
             }
            ],
            "label": "1984",
            "method": "animate"
           },
           {
            "args": [
             [
              "1985"
             ],
             {
              "frame": {
               "duration": 0,
               "redraw": true
              },
              "fromcurrent": true,
              "mode": "immediate",
              "transition": {
               "duration": 0,
               "easing": "linear"
              }
             }
            ],
            "label": "1985",
            "method": "animate"
           },
           {
            "args": [
             [
              "1986"
             ],
             {
              "frame": {
               "duration": 0,
               "redraw": true
              },
              "fromcurrent": true,
              "mode": "immediate",
              "transition": {
               "duration": 0,
               "easing": "linear"
              }
             }
            ],
            "label": "1986",
            "method": "animate"
           },
           {
            "args": [
             [
              "1987"
             ],
             {
              "frame": {
               "duration": 0,
               "redraw": true
              },
              "fromcurrent": true,
              "mode": "immediate",
              "transition": {
               "duration": 0,
               "easing": "linear"
              }
             }
            ],
            "label": "1987",
            "method": "animate"
           },
           {
            "args": [
             [
              "1988"
             ],
             {
              "frame": {
               "duration": 0,
               "redraw": true
              },
              "fromcurrent": true,
              "mode": "immediate",
              "transition": {
               "duration": 0,
               "easing": "linear"
              }
             }
            ],
            "label": "1988",
            "method": "animate"
           },
           {
            "args": [
             [
              "1989"
             ],
             {
              "frame": {
               "duration": 0,
               "redraw": true
              },
              "fromcurrent": true,
              "mode": "immediate",
              "transition": {
               "duration": 0,
               "easing": "linear"
              }
             }
            ],
            "label": "1989",
            "method": "animate"
           },
           {
            "args": [
             [
              "1990"
             ],
             {
              "frame": {
               "duration": 0,
               "redraw": true
              },
              "fromcurrent": true,
              "mode": "immediate",
              "transition": {
               "duration": 0,
               "easing": "linear"
              }
             }
            ],
            "label": "1990",
            "method": "animate"
           },
           {
            "args": [
             [
              "1991"
             ],
             {
              "frame": {
               "duration": 0,
               "redraw": true
              },
              "fromcurrent": true,
              "mode": "immediate",
              "transition": {
               "duration": 0,
               "easing": "linear"
              }
             }
            ],
            "label": "1991",
            "method": "animate"
           },
           {
            "args": [
             [
              "1992"
             ],
             {
              "frame": {
               "duration": 0,
               "redraw": true
              },
              "fromcurrent": true,
              "mode": "immediate",
              "transition": {
               "duration": 0,
               "easing": "linear"
              }
             }
            ],
            "label": "1992",
            "method": "animate"
           },
           {
            "args": [
             [
              "1993"
             ],
             {
              "frame": {
               "duration": 0,
               "redraw": true
              },
              "fromcurrent": true,
              "mode": "immediate",
              "transition": {
               "duration": 0,
               "easing": "linear"
              }
             }
            ],
            "label": "1993",
            "method": "animate"
           },
           {
            "args": [
             [
              "1994"
             ],
             {
              "frame": {
               "duration": 0,
               "redraw": true
              },
              "fromcurrent": true,
              "mode": "immediate",
              "transition": {
               "duration": 0,
               "easing": "linear"
              }
             }
            ],
            "label": "1994",
            "method": "animate"
           },
           {
            "args": [
             [
              "1995"
             ],
             {
              "frame": {
               "duration": 0,
               "redraw": true
              },
              "fromcurrent": true,
              "mode": "immediate",
              "transition": {
               "duration": 0,
               "easing": "linear"
              }
             }
            ],
            "label": "1995",
            "method": "animate"
           },
           {
            "args": [
             [
              "1996"
             ],
             {
              "frame": {
               "duration": 0,
               "redraw": true
              },
              "fromcurrent": true,
              "mode": "immediate",
              "transition": {
               "duration": 0,
               "easing": "linear"
              }
             }
            ],
            "label": "1996",
            "method": "animate"
           },
           {
            "args": [
             [
              "1997"
             ],
             {
              "frame": {
               "duration": 0,
               "redraw": true
              },
              "fromcurrent": true,
              "mode": "immediate",
              "transition": {
               "duration": 0,
               "easing": "linear"
              }
             }
            ],
            "label": "1997",
            "method": "animate"
           },
           {
            "args": [
             [
              "1998"
             ],
             {
              "frame": {
               "duration": 0,
               "redraw": true
              },
              "fromcurrent": true,
              "mode": "immediate",
              "transition": {
               "duration": 0,
               "easing": "linear"
              }
             }
            ],
            "label": "1998",
            "method": "animate"
           },
           {
            "args": [
             [
              "1999"
             ],
             {
              "frame": {
               "duration": 0,
               "redraw": true
              },
              "fromcurrent": true,
              "mode": "immediate",
              "transition": {
               "duration": 0,
               "easing": "linear"
              }
             }
            ],
            "label": "1999",
            "method": "animate"
           },
           {
            "args": [
             [
              "2000"
             ],
             {
              "frame": {
               "duration": 0,
               "redraw": true
              },
              "fromcurrent": true,
              "mode": "immediate",
              "transition": {
               "duration": 0,
               "easing": "linear"
              }
             }
            ],
            "label": "2000",
            "method": "animate"
           },
           {
            "args": [
             [
              "2001"
             ],
             {
              "frame": {
               "duration": 0,
               "redraw": true
              },
              "fromcurrent": true,
              "mode": "immediate",
              "transition": {
               "duration": 0,
               "easing": "linear"
              }
             }
            ],
            "label": "2001",
            "method": "animate"
           },
           {
            "args": [
             [
              "2002"
             ],
             {
              "frame": {
               "duration": 0,
               "redraw": true
              },
              "fromcurrent": true,
              "mode": "immediate",
              "transition": {
               "duration": 0,
               "easing": "linear"
              }
             }
            ],
            "label": "2002",
            "method": "animate"
           },
           {
            "args": [
             [
              "2003"
             ],
             {
              "frame": {
               "duration": 0,
               "redraw": true
              },
              "fromcurrent": true,
              "mode": "immediate",
              "transition": {
               "duration": 0,
               "easing": "linear"
              }
             }
            ],
            "label": "2003",
            "method": "animate"
           },
           {
            "args": [
             [
              "2004"
             ],
             {
              "frame": {
               "duration": 0,
               "redraw": true
              },
              "fromcurrent": true,
              "mode": "immediate",
              "transition": {
               "duration": 0,
               "easing": "linear"
              }
             }
            ],
            "label": "2004",
            "method": "animate"
           },
           {
            "args": [
             [
              "2005"
             ],
             {
              "frame": {
               "duration": 0,
               "redraw": true
              },
              "fromcurrent": true,
              "mode": "immediate",
              "transition": {
               "duration": 0,
               "easing": "linear"
              }
             }
            ],
            "label": "2005",
            "method": "animate"
           },
           {
            "args": [
             [
              "2006"
             ],
             {
              "frame": {
               "duration": 0,
               "redraw": true
              },
              "fromcurrent": true,
              "mode": "immediate",
              "transition": {
               "duration": 0,
               "easing": "linear"
              }
             }
            ],
            "label": "2006",
            "method": "animate"
           },
           {
            "args": [
             [
              "2007"
             ],
             {
              "frame": {
               "duration": 0,
               "redraw": true
              },
              "fromcurrent": true,
              "mode": "immediate",
              "transition": {
               "duration": 0,
               "easing": "linear"
              }
             }
            ],
            "label": "2007",
            "method": "animate"
           },
           {
            "args": [
             [
              "2008"
             ],
             {
              "frame": {
               "duration": 0,
               "redraw": true
              },
              "fromcurrent": true,
              "mode": "immediate",
              "transition": {
               "duration": 0,
               "easing": "linear"
              }
             }
            ],
            "label": "2008",
            "method": "animate"
           },
           {
            "args": [
             [
              "2009"
             ],
             {
              "frame": {
               "duration": 0,
               "redraw": true
              },
              "fromcurrent": true,
              "mode": "immediate",
              "transition": {
               "duration": 0,
               "easing": "linear"
              }
             }
            ],
            "label": "2009",
            "method": "animate"
           },
           {
            "args": [
             [
              "2010"
             ],
             {
              "frame": {
               "duration": 0,
               "redraw": true
              },
              "fromcurrent": true,
              "mode": "immediate",
              "transition": {
               "duration": 0,
               "easing": "linear"
              }
             }
            ],
            "label": "2010",
            "method": "animate"
           }
          ],
          "x": 0.1,
          "xanchor": "left",
          "y": 0,
          "yanchor": "top"
         }
        ],
        "template": {
         "data": {
          "bar": [
           {
            "error_x": {
             "color": "#2a3f5f"
            },
            "error_y": {
             "color": "#2a3f5f"
            },
            "marker": {
             "line": {
              "color": "#E5ECF6",
              "width": 0.5
             },
             "pattern": {
              "fillmode": "overlay",
              "size": 10,
              "solidity": 0.2
             }
            },
            "type": "bar"
           }
          ],
          "barpolar": [
           {
            "marker": {
             "line": {
              "color": "#E5ECF6",
              "width": 0.5
             },
             "pattern": {
              "fillmode": "overlay",
              "size": 10,
              "solidity": 0.2
             }
            },
            "type": "barpolar"
           }
          ],
          "carpet": [
           {
            "aaxis": {
             "endlinecolor": "#2a3f5f",
             "gridcolor": "white",
             "linecolor": "white",
             "minorgridcolor": "white",
             "startlinecolor": "#2a3f5f"
            },
            "baxis": {
             "endlinecolor": "#2a3f5f",
             "gridcolor": "white",
             "linecolor": "white",
             "minorgridcolor": "white",
             "startlinecolor": "#2a3f5f"
            },
            "type": "carpet"
           }
          ],
          "choropleth": [
           {
            "colorbar": {
             "outlinewidth": 0,
             "ticks": ""
            },
            "type": "choropleth"
           }
          ],
          "contour": [
           {
            "colorbar": {
             "outlinewidth": 0,
             "ticks": ""
            },
            "colorscale": [
             [
              0,
              "#0d0887"
             ],
             [
              0.1111111111111111,
              "#46039f"
             ],
             [
              0.2222222222222222,
              "#7201a8"
             ],
             [
              0.3333333333333333,
              "#9c179e"
             ],
             [
              0.4444444444444444,
              "#bd3786"
             ],
             [
              0.5555555555555556,
              "#d8576b"
             ],
             [
              0.6666666666666666,
              "#ed7953"
             ],
             [
              0.7777777777777778,
              "#fb9f3a"
             ],
             [
              0.8888888888888888,
              "#fdca26"
             ],
             [
              1,
              "#f0f921"
             ]
            ],
            "type": "contour"
           }
          ],
          "contourcarpet": [
           {
            "colorbar": {
             "outlinewidth": 0,
             "ticks": ""
            },
            "type": "contourcarpet"
           }
          ],
          "heatmap": [
           {
            "colorbar": {
             "outlinewidth": 0,
             "ticks": ""
            },
            "colorscale": [
             [
              0,
              "#0d0887"
             ],
             [
              0.1111111111111111,
              "#46039f"
             ],
             [
              0.2222222222222222,
              "#7201a8"
             ],
             [
              0.3333333333333333,
              "#9c179e"
             ],
             [
              0.4444444444444444,
              "#bd3786"
             ],
             [
              0.5555555555555556,
              "#d8576b"
             ],
             [
              0.6666666666666666,
              "#ed7953"
             ],
             [
              0.7777777777777778,
              "#fb9f3a"
             ],
             [
              0.8888888888888888,
              "#fdca26"
             ],
             [
              1,
              "#f0f921"
             ]
            ],
            "type": "heatmap"
           }
          ],
          "heatmapgl": [
           {
            "colorbar": {
             "outlinewidth": 0,
             "ticks": ""
            },
            "colorscale": [
             [
              0,
              "#0d0887"
             ],
             [
              0.1111111111111111,
              "#46039f"
             ],
             [
              0.2222222222222222,
              "#7201a8"
             ],
             [
              0.3333333333333333,
              "#9c179e"
             ],
             [
              0.4444444444444444,
              "#bd3786"
             ],
             [
              0.5555555555555556,
              "#d8576b"
             ],
             [
              0.6666666666666666,
              "#ed7953"
             ],
             [
              0.7777777777777778,
              "#fb9f3a"
             ],
             [
              0.8888888888888888,
              "#fdca26"
             ],
             [
              1,
              "#f0f921"
             ]
            ],
            "type": "heatmapgl"
           }
          ],
          "histogram": [
           {
            "marker": {
             "pattern": {
              "fillmode": "overlay",
              "size": 10,
              "solidity": 0.2
             }
            },
            "type": "histogram"
           }
          ],
          "histogram2d": [
           {
            "colorbar": {
             "outlinewidth": 0,
             "ticks": ""
            },
            "colorscale": [
             [
              0,
              "#0d0887"
             ],
             [
              0.1111111111111111,
              "#46039f"
             ],
             [
              0.2222222222222222,
              "#7201a8"
             ],
             [
              0.3333333333333333,
              "#9c179e"
             ],
             [
              0.4444444444444444,
              "#bd3786"
             ],
             [
              0.5555555555555556,
              "#d8576b"
             ],
             [
              0.6666666666666666,
              "#ed7953"
             ],
             [
              0.7777777777777778,
              "#fb9f3a"
             ],
             [
              0.8888888888888888,
              "#fdca26"
             ],
             [
              1,
              "#f0f921"
             ]
            ],
            "type": "histogram2d"
           }
          ],
          "histogram2dcontour": [
           {
            "colorbar": {
             "outlinewidth": 0,
             "ticks": ""
            },
            "colorscale": [
             [
              0,
              "#0d0887"
             ],
             [
              0.1111111111111111,
              "#46039f"
             ],
             [
              0.2222222222222222,
              "#7201a8"
             ],
             [
              0.3333333333333333,
              "#9c179e"
             ],
             [
              0.4444444444444444,
              "#bd3786"
             ],
             [
              0.5555555555555556,
              "#d8576b"
             ],
             [
              0.6666666666666666,
              "#ed7953"
             ],
             [
              0.7777777777777778,
              "#fb9f3a"
             ],
             [
              0.8888888888888888,
              "#fdca26"
             ],
             [
              1,
              "#f0f921"
             ]
            ],
            "type": "histogram2dcontour"
           }
          ],
          "mesh3d": [
           {
            "colorbar": {
             "outlinewidth": 0,
             "ticks": ""
            },
            "type": "mesh3d"
           }
          ],
          "parcoords": [
           {
            "line": {
             "colorbar": {
              "outlinewidth": 0,
              "ticks": ""
             }
            },
            "type": "parcoords"
           }
          ],
          "pie": [
           {
            "automargin": true,
            "type": "pie"
           }
          ],
          "scatter": [
           {
            "fillpattern": {
             "fillmode": "overlay",
             "size": 10,
             "solidity": 0.2
            },
            "type": "scatter"
           }
          ],
          "scatter3d": [
           {
            "line": {
             "colorbar": {
              "outlinewidth": 0,
              "ticks": ""
             }
            },
            "marker": {
             "colorbar": {
              "outlinewidth": 0,
              "ticks": ""
             }
            },
            "type": "scatter3d"
           }
          ],
          "scattercarpet": [
           {
            "marker": {
             "colorbar": {
              "outlinewidth": 0,
              "ticks": ""
             }
            },
            "type": "scattercarpet"
           }
          ],
          "scattergeo": [
           {
            "marker": {
             "colorbar": {
              "outlinewidth": 0,
              "ticks": ""
             }
            },
            "type": "scattergeo"
           }
          ],
          "scattergl": [
           {
            "marker": {
             "colorbar": {
              "outlinewidth": 0,
              "ticks": ""
             }
            },
            "type": "scattergl"
           }
          ],
          "scattermapbox": [
           {
            "marker": {
             "colorbar": {
              "outlinewidth": 0,
              "ticks": ""
             }
            },
            "type": "scattermapbox"
           }
          ],
          "scatterpolar": [
           {
            "marker": {
             "colorbar": {
              "outlinewidth": 0,
              "ticks": ""
             }
            },
            "type": "scatterpolar"
           }
          ],
          "scatterpolargl": [
           {
            "marker": {
             "colorbar": {
              "outlinewidth": 0,
              "ticks": ""
             }
            },
            "type": "scatterpolargl"
           }
          ],
          "scatterternary": [
           {
            "marker": {
             "colorbar": {
              "outlinewidth": 0,
              "ticks": ""
             }
            },
            "type": "scatterternary"
           }
          ],
          "surface": [
           {
            "colorbar": {
             "outlinewidth": 0,
             "ticks": ""
            },
            "colorscale": [
             [
              0,
              "#0d0887"
             ],
             [
              0.1111111111111111,
              "#46039f"
             ],
             [
              0.2222222222222222,
              "#7201a8"
             ],
             [
              0.3333333333333333,
              "#9c179e"
             ],
             [
              0.4444444444444444,
              "#bd3786"
             ],
             [
              0.5555555555555556,
              "#d8576b"
             ],
             [
              0.6666666666666666,
              "#ed7953"
             ],
             [
              0.7777777777777778,
              "#fb9f3a"
             ],
             [
              0.8888888888888888,
              "#fdca26"
             ],
             [
              1,
              "#f0f921"
             ]
            ],
            "type": "surface"
           }
          ],
          "table": [
           {
            "cells": {
             "fill": {
              "color": "#EBF0F8"
             },
             "line": {
              "color": "white"
             }
            },
            "header": {
             "fill": {
              "color": "#C8D4E3"
             },
             "line": {
              "color": "white"
             }
            },
            "type": "table"
           }
          ]
         },
         "layout": {
          "annotationdefaults": {
           "arrowcolor": "#2a3f5f",
           "arrowhead": 0,
           "arrowwidth": 1
          },
          "autotypenumbers": "strict",
          "coloraxis": {
           "colorbar": {
            "outlinewidth": 0,
            "ticks": ""
           }
          },
          "colorscale": {
           "diverging": [
            [
             0,
             "#8e0152"
            ],
            [
             0.1,
             "#c51b7d"
            ],
            [
             0.2,
             "#de77ae"
            ],
            [
             0.3,
             "#f1b6da"
            ],
            [
             0.4,
             "#fde0ef"
            ],
            [
             0.5,
             "#f7f7f7"
            ],
            [
             0.6,
             "#e6f5d0"
            ],
            [
             0.7,
             "#b8e186"
            ],
            [
             0.8,
             "#7fbc41"
            ],
            [
             0.9,
             "#4d9221"
            ],
            [
             1,
             "#276419"
            ]
           ],
           "sequential": [
            [
             0,
             "#0d0887"
            ],
            [
             0.1111111111111111,
             "#46039f"
            ],
            [
             0.2222222222222222,
             "#7201a8"
            ],
            [
             0.3333333333333333,
             "#9c179e"
            ],
            [
             0.4444444444444444,
             "#bd3786"
            ],
            [
             0.5555555555555556,
             "#d8576b"
            ],
            [
             0.6666666666666666,
             "#ed7953"
            ],
            [
             0.7777777777777778,
             "#fb9f3a"
            ],
            [
             0.8888888888888888,
             "#fdca26"
            ],
            [
             1,
             "#f0f921"
            ]
           ],
           "sequentialminus": [
            [
             0,
             "#0d0887"
            ],
            [
             0.1111111111111111,
             "#46039f"
            ],
            [
             0.2222222222222222,
             "#7201a8"
            ],
            [
             0.3333333333333333,
             "#9c179e"
            ],
            [
             0.4444444444444444,
             "#bd3786"
            ],
            [
             0.5555555555555556,
             "#d8576b"
            ],
            [
             0.6666666666666666,
             "#ed7953"
            ],
            [
             0.7777777777777778,
             "#fb9f3a"
            ],
            [
             0.8888888888888888,
             "#fdca26"
            ],
            [
             1,
             "#f0f921"
            ]
           ]
          },
          "colorway": [
           "#636efa",
           "#EF553B",
           "#00cc96",
           "#ab63fa",
           "#FFA15A",
           "#19d3f3",
           "#FF6692",
           "#B6E880",
           "#FF97FF",
           "#FECB52"
          ],
          "font": {
           "color": "#2a3f5f"
          },
          "geo": {
           "bgcolor": "white",
           "lakecolor": "white",
           "landcolor": "#E5ECF6",
           "showlakes": true,
           "showland": true,
           "subunitcolor": "white"
          },
          "hoverlabel": {
           "align": "left"
          },
          "hovermode": "closest",
          "mapbox": {
           "style": "light"
          },
          "paper_bgcolor": "white",
          "plot_bgcolor": "#E5ECF6",
          "polar": {
           "angularaxis": {
            "gridcolor": "white",
            "linecolor": "white",
            "ticks": ""
           },
           "bgcolor": "#E5ECF6",
           "radialaxis": {
            "gridcolor": "white",
            "linecolor": "white",
            "ticks": ""
           }
          },
          "scene": {
           "xaxis": {
            "backgroundcolor": "#E5ECF6",
            "gridcolor": "white",
            "gridwidth": 2,
            "linecolor": "white",
            "showbackground": true,
            "ticks": "",
            "zerolinecolor": "white"
           },
           "yaxis": {
            "backgroundcolor": "#E5ECF6",
            "gridcolor": "white",
            "gridwidth": 2,
            "linecolor": "white",
            "showbackground": true,
            "ticks": "",
            "zerolinecolor": "white"
           },
           "zaxis": {
            "backgroundcolor": "#E5ECF6",
            "gridcolor": "white",
            "gridwidth": 2,
            "linecolor": "white",
            "showbackground": true,
            "ticks": "",
            "zerolinecolor": "white"
           }
          },
          "shapedefaults": {
           "line": {
            "color": "#2a3f5f"
           }
          },
          "ternary": {
           "aaxis": {
            "gridcolor": "white",
            "linecolor": "white",
            "ticks": ""
           },
           "baxis": {
            "gridcolor": "white",
            "linecolor": "white",
            "ticks": ""
           },
           "bgcolor": "#E5ECF6",
           "caxis": {
            "gridcolor": "white",
            "linecolor": "white",
            "ticks": ""
           }
          },
          "title": {
           "x": 0.05
          },
          "xaxis": {
           "automargin": true,
           "gridcolor": "white",
           "linecolor": "white",
           "ticks": "",
           "title": {
            "standoff": 15
           },
           "zerolinecolor": "white",
           "zerolinewidth": 2
          },
          "yaxis": {
           "automargin": true,
           "gridcolor": "white",
           "linecolor": "white",
           "ticks": "",
           "title": {
            "standoff": 15
           },
           "zerolinecolor": "white",
           "zerolinewidth": 2
          }
         }
        },
        "title": {
         "text": "Top 10 des pays par nombre cumulé de films produits"
        },
        "updatemenus": [
         {
          "buttons": [
           {
            "args": [
             null,
             {
              "frame": {
               "duration": 500,
               "redraw": true
              },
              "fromcurrent": true,
              "mode": "immediate",
              "transition": {
               "duration": 500,
               "easing": "linear"
              }
             }
            ],
            "label": "&#9654;",
            "method": "animate"
           },
           {
            "args": [
             [
              null
             ],
             {
              "frame": {
               "duration": 0,
               "redraw": true
              },
              "fromcurrent": true,
              "mode": "immediate",
              "transition": {
               "duration": 0,
               "easing": "linear"
              }
             }
            ],
            "label": "&#9724;",
            "method": "animate"
           }
          ],
          "direction": "left",
          "pad": {
           "r": 10,
           "t": 70
          },
          "showactive": false,
          "type": "buttons",
          "x": 0.1,
          "xanchor": "right",
          "y": 0,
          "yanchor": "top"
         }
        ],
        "xaxis": {
         "anchor": "y",
         "domain": [
          0,
          1
         ],
         "title": {
          "text": "Nombre cumulé de films"
         }
        },
        "yaxis": {
         "anchor": "x",
         "categoryarray": [
          "Sweden",
          "Japan",
          "China",
          "Poland",
          "India",
          "Italy",
          "Mexico",
          "Hungary",
          "Ireland",
          "Soviet Union",
          "Romania",
          "United Kingdom",
          "West Germany",
          "Hong Kong",
          "Czech Republic",
          "France",
          "Canada",
          "Netherlands",
          "Brazil",
          "United States of America",
          "Germany"
         ],
         "categoryorder": "total ascending",
         "domain": [
          0,
          1
         ],
         "title": {
          "text": "Pays"
         }
        }
       }
      }
     },
     "metadata": {},
     "output_type": "display_data"
    }
   ],
   "source": [
    "fig = px.bar(\n",
    "    top_10_df_2, \n",
    "    x='tot', \n",
    "    y='Best_Country', \n",
    "    animation_frame='release_year',  # Animation par année\n",
    "    orientation='h',  # Diagramme en barres horizontales\n",
    "    title=\"Top 10 des pays par nombre cumulé de films produits\",\n",
    "    labels={\"tot\": \"Nombre cumulé de films\", \"Best_Country\": \"Pays\", \"year\": \"Année\"},\n",
    "    color='Best_Country',  # Colorier par pays\n",
    ")\n",
    "\n",
    "# Assurez-vous que l'ordre des pays soit respecté même après l'ajout de la couleur\n",
    "fig.update_layout(\n",
    "    yaxis={'categoryorder': 'total ascending'}  # Ordre des pays décroissant selon 'tot'\n",
    ")\n",
    "\n",
    "fig.update_layout(\n",
    "    yaxis={'categoryorder': 'total ascending'},  # Ordre des pays décroissant selon 'tot'\n",
    "    height=800  # Augmenter la hauteur du graphique\n",
    ")\n",
    "# Afficher le graphique\n",
    "fig.show()"
   ]
  },
  {
   "cell_type": "markdown",
   "metadata": {},
   "source": [
    "## Fun on va montrer qules sont les personnages les plus influents"
   ]
  },
  {
   "cell_type": "code",
   "execution_count": null,
   "metadata": {},
   "outputs": [
    {
     "data": {
      "text/html": [
       "<div>\n",
       "<style scoped>\n",
       "    .dataframe tbody tr th:only-of-type {\n",
       "        vertical-align: middle;\n",
       "    }\n",
       "\n",
       "    .dataframe tbody tr th {\n",
       "        vertical-align: top;\n",
       "    }\n",
       "\n",
       "    .dataframe thead th {\n",
       "        text-align: right;\n",
       "    }\n",
       "</style>\n",
       "<table border=\"1\" class=\"dataframe\">\n",
       "  <thead>\n",
       "    <tr style=\"text-align: right;\">\n",
       "      <th></th>\n",
       "      <th>Character</th>\n",
       "      <th>character_actor_freebase_id</th>\n",
       "      <th>actor_name</th>\n",
       "      <th>first_movie_name</th>\n",
       "      <th>first_apperance_date</th>\n",
       "      <th>origin_country</th>\n",
       "      <th>all_countries</th>\n",
       "      <th>number_countries</th>\n",
       "      <th>Best_Country</th>\n",
       "      <th>Best_Score</th>\n",
       "      <th>year</th>\n",
       "      <th>cumulative_number</th>\n",
       "      <th>cumulative_films</th>\n",
       "    </tr>\n",
       "  </thead>\n",
       "  <tbody>\n",
       "    <tr>\n",
       "      <th>120</th>\n",
       "      <td>Cardinal Richelieu</td>\n",
       "      <td>/m/02vbtwv</td>\n",
       "      <td>Charlton Heston</td>\n",
       "      <td>The Three Musketeers</td>\n",
       "      <td>1973-01-01</td>\n",
       "      <td>[United States of America, Spain, United Kingdom]</td>\n",
       "      <td>[Australia, Spain, Germany, Austria, France, P...</td>\n",
       "      <td>8</td>\n",
       "      <td>France</td>\n",
       "      <td>0.689668</td>\n",
       "      <td>1973.0</td>\n",
       "      <td>9.0</td>\n",
       "      <td>26.0</td>\n",
       "    </tr>\n",
       "    <tr>\n",
       "      <th>609</th>\n",
       "      <td>Mina Harker</td>\n",
       "      <td>/m/0jxjqj</td>\n",
       "      <td>Melissa Stribling</td>\n",
       "      <td>Dracula</td>\n",
       "      <td>1958-01-01</td>\n",
       "      <td>[United Kingdom]</td>\n",
       "      <td>[Spain, Germany, West Germany, France, Czech R...</td>\n",
       "      <td>7</td>\n",
       "      <td>United Kingdom</td>\n",
       "      <td>0.318664</td>\n",
       "      <td>1958.0</td>\n",
       "      <td>257.0</td>\n",
       "      <td>166.0</td>\n",
       "    </tr>\n",
       "    <tr>\n",
       "      <th>674</th>\n",
       "      <td>Oliver Twist</td>\n",
       "      <td>/m/02tb4dl</td>\n",
       "      <td>Jackie Coogan</td>\n",
       "      <td>Oliver Twist</td>\n",
       "      <td>1922-10-30</td>\n",
       "      <td>[United States of America]</td>\n",
       "      <td>[England, Canada, Italy, France, Czech Republi...</td>\n",
       "      <td>7</td>\n",
       "      <td>United Kingdom</td>\n",
       "      <td>0.326353</td>\n",
       "      <td>1922.0</td>\n",
       "      <td>304.0</td>\n",
       "      <td>13.0</td>\n",
       "    </tr>\n",
       "    <tr>\n",
       "      <th>175</th>\n",
       "      <td>Count Dracula</td>\n",
       "      <td>/m/0jxjrv</td>\n",
       "      <td>Béla Lugosi</td>\n",
       "      <td>Dracula</td>\n",
       "      <td>1931-02-12</td>\n",
       "      <td>[United States of America]</td>\n",
       "      <td>[Spain, Germany, West Germany, France, United ...</td>\n",
       "      <td>7</td>\n",
       "      <td>Romania</td>\n",
       "      <td>0.837675</td>\n",
       "      <td>1931.0</td>\n",
       "      <td>7.0</td>\n",
       "      <td>7.0</td>\n",
       "    </tr>\n",
       "    <tr>\n",
       "      <th>124</th>\n",
       "      <td>Carlos Olivera</td>\n",
       "      <td>/m/0k2glw</td>\n",
       "      <td>Oded Fehr</td>\n",
       "      <td>Resident Evil: Apocalypse</td>\n",
       "      <td>2004-09-10</td>\n",
       "      <td>[France, Canada, United Kingdom, Germany]</td>\n",
       "      <td>[Australia, Canada, Germany, France, United Ki...</td>\n",
       "      <td>6</td>\n",
       "      <td>United States of America</td>\n",
       "      <td>0.256816</td>\n",
       "      <td>2004.0</td>\n",
       "      <td>141.0</td>\n",
       "      <td>790.0</td>\n",
       "    </tr>\n",
       "  </tbody>\n",
       "</table>\n",
       "</div>"
      ],
      "text/plain": [
       "              Character character_actor_freebase_id         actor_name  \\\n",
       "120  Cardinal Richelieu                  /m/02vbtwv    Charlton Heston   \n",
       "609         Mina Harker                   /m/0jxjqj  Melissa Stribling   \n",
       "674        Oliver Twist                  /m/02tb4dl      Jackie Coogan   \n",
       "175       Count Dracula                   /m/0jxjrv        Béla Lugosi   \n",
       "124      Carlos Olivera                   /m/0k2glw          Oded Fehr   \n",
       "\n",
       "              first_movie_name first_apperance_date  \\\n",
       "120       The Three Musketeers           1973-01-01   \n",
       "609                    Dracula           1958-01-01   \n",
       "674               Oliver Twist           1922-10-30   \n",
       "175                    Dracula           1931-02-12   \n",
       "124  Resident Evil: Apocalypse           2004-09-10   \n",
       "\n",
       "                                        origin_country  \\\n",
       "120  [United States of America, Spain, United Kingdom]   \n",
       "609                                   [United Kingdom]   \n",
       "674                         [United States of America]   \n",
       "175                         [United States of America]   \n",
       "124          [France, Canada, United Kingdom, Germany]   \n",
       "\n",
       "                                         all_countries  number_countries  \\\n",
       "120  [Australia, Spain, Germany, Austria, France, P...                 8   \n",
       "609  [Spain, Germany, West Germany, France, Czech R...                 7   \n",
       "674  [England, Canada, Italy, France, Czech Republi...                 7   \n",
       "175  [Spain, Germany, West Germany, France, United ...                 7   \n",
       "124  [Australia, Canada, Germany, France, United Ki...                 6   \n",
       "\n",
       "                 Best_Country  Best_Score    year  cumulative_number  \\\n",
       "120                    France    0.689668  1973.0                9.0   \n",
       "609            United Kingdom    0.318664  1958.0              257.0   \n",
       "674            United Kingdom    0.326353  1922.0              304.0   \n",
       "175                   Romania    0.837675  1931.0                7.0   \n",
       "124  United States of America    0.256816  2004.0              141.0   \n",
       "\n",
       "     cumulative_films  \n",
       "120              26.0  \n",
       "609             166.0  \n",
       "674              13.0  \n",
       "175               7.0  \n",
       "124             790.0  "
      ]
     },
     "metadata": {},
     "output_type": "display_data"
    }
   ],
   "source": [
    "df_character_influence_nlp.sort_values(by=['number_countries'], ascending=False).head(5)"
   ]
  }
 ],
 "metadata": {
  "kernelspec": {
   "display_name": "projet",
   "language": "python",
   "name": "python3"
  },
  "language_info": {
   "codemirror_mode": {
    "name": "ipython",
    "version": 3
   },
   "file_extension": ".py",
   "mimetype": "text/x-python",
   "name": "python",
   "nbconvert_exporter": "python",
   "pygments_lexer": "ipython3",
   "version": "3.11.10"
  }
 },
 "nbformat": 4,
 "nbformat_minor": 2
}
