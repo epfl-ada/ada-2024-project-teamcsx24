{
 "cells": [
  {
   "cell_type": "code",
   "execution_count": 10,
   "metadata": {},
   "outputs": [],
   "source": [
    "# Modules to import\n",
    "import sys\n",
    "import pandas as pd\n",
    "import matplotlib.pyplot as plt\n",
    "import numpy as np\n",
    "import seaborn as sns\n",
    "import json\n",
    "from importlib import reload\n",
    "import ast\n",
    "from sklearn.metrics import silhouette_score\n",
    "from sklearn.metrics import r2_score  \n",
    "from sklearn.cluster import KMeans\n",
    "import plotly.graph_objects as go\n",
    "import plotly.express as px\n",
    "from sklearn.preprocessing import StandardScaler\n",
    "import statsmodels.api as sm\n",
    "import statsmodels.formula.api as smf"
   ]
  },
  {
   "cell_type": "code",
   "execution_count": 11,
   "metadata": {},
   "outputs": [],
   "source": [
    "paths = ['src/data','src/models','src/scripts','src/utils']\n",
    "for path in paths:\n",
    "    sys.path.append(path)"
   ]
  },
  {
   "cell_type": "markdown",
   "metadata": {},
   "source": [
    "### IV.3 Theme Study for Cultural Influence Analysis"
   ]
  },
  {
   "cell_type": "markdown",
   "metadata": {},
   "source": [
    "### US Cultural Influence on foreign countries"
   ]
  },
  {
   "cell_type": "markdown",
   "metadata": {},
   "source": [
    "In this section, our goal is to analyze the cultural influence of the United States in the film productions of other countries. To do this, we begin by defining a cultural influence score of the U.S. on films. We will then analyze this influence from a geographical perspective and attempt to cluster the countries of the world using this influence score."
   ]
  },
  {
   "cell_type": "code",
   "execution_count": 12,
   "metadata": {},
   "outputs": [
    {
     "data": {
      "text/plain": [
       "<module 'scriptculture' from 'c:\\\\Users\\\\arnau\\\\OneDrive\\\\Documents\\\\Scolarité EPFL\\\\ADA\\\\ada-2024-project-teamcsx24\\\\src/scripts\\\\scriptculture.py'>"
      ]
     },
     "execution_count": 12,
     "metadata": {},
     "output_type": "execute_result"
    }
   ],
   "source": [
    "import scriptculture\n",
    "import generalUtils\n",
    "reload(scriptculture)"
   ]
  },
  {
   "cell_type": "code",
   "execution_count": 13,
   "metadata": {},
   "outputs": [
    {
     "data": {
      "text/html": [
       "<div>\n",
       "<style scoped>\n",
       "    .dataframe tbody tr th:only-of-type {\n",
       "        vertical-align: middle;\n",
       "    }\n",
       "\n",
       "    .dataframe tbody tr th {\n",
       "        vertical-align: top;\n",
       "    }\n",
       "\n",
       "    .dataframe thead th {\n",
       "        text-align: right;\n",
       "    }\n",
       "</style>\n",
       "<table border=\"1\" class=\"dataframe\">\n",
       "  <thead>\n",
       "    <tr style=\"text-align: right;\">\n",
       "      <th></th>\n",
       "      <th>Country</th>\n",
       "      <th>US_Term_Count</th>\n",
       "      <th>Number of movies</th>\n",
       "      <th>Naïve_Influence_score</th>\n",
       "      <th>log Number of movies</th>\n",
       "      <th>World_region</th>\n",
       "      <th>NLP US Influence Score</th>\n",
       "    </tr>\n",
       "  </thead>\n",
       "  <tbody>\n",
       "    <tr>\n",
       "      <th>0</th>\n",
       "      <td>France</td>\n",
       "      <td>531</td>\n",
       "      <td>2302</td>\n",
       "      <td>0.230669</td>\n",
       "      <td>7.741534</td>\n",
       "      <td>Europe</td>\n",
       "      <td>0.131262</td>\n",
       "    </tr>\n",
       "    <tr>\n",
       "      <th>1</th>\n",
       "      <td>Russia</td>\n",
       "      <td>49</td>\n",
       "      <td>484</td>\n",
       "      <td>0.101240</td>\n",
       "      <td>6.182085</td>\n",
       "      <td>Eastern Europe and Central Asia</td>\n",
       "      <td>0.099043</td>\n",
       "    </tr>\n",
       "    <tr>\n",
       "      <th>2</th>\n",
       "      <td>India</td>\n",
       "      <td>262</td>\n",
       "      <td>4754</td>\n",
       "      <td>0.055111</td>\n",
       "      <td>8.466742</td>\n",
       "      <td>South Asia</td>\n",
       "      <td>0.079816</td>\n",
       "    </tr>\n",
       "    <tr>\n",
       "      <th>3</th>\n",
       "      <td>Australia</td>\n",
       "      <td>160</td>\n",
       "      <td>748</td>\n",
       "      <td>0.213904</td>\n",
       "      <td>6.617403</td>\n",
       "      <td>Oceania</td>\n",
       "      <td>0.157515</td>\n",
       "    </tr>\n",
       "    <tr>\n",
       "      <th>4</th>\n",
       "      <td>New Zealand</td>\n",
       "      <td>34</td>\n",
       "      <td>256</td>\n",
       "      <td>0.132812</td>\n",
       "      <td>5.545177</td>\n",
       "      <td>Oceania</td>\n",
       "      <td>0.195417</td>\n",
       "    </tr>\n",
       "  </tbody>\n",
       "</table>\n",
       "</div>"
      ],
      "text/plain": [
       "       Country  US_Term_Count  Number of movies  Naïve_Influence_score  \\\n",
       "0       France            531              2302               0.230669   \n",
       "1       Russia             49               484               0.101240   \n",
       "2        India            262              4754               0.055111   \n",
       "3    Australia            160               748               0.213904   \n",
       "4  New Zealand             34               256               0.132812   \n",
       "\n",
       "   log Number of movies                     World_region  \\\n",
       "0              7.741534                           Europe   \n",
       "1              6.182085  Eastern Europe and Central Asia   \n",
       "2              8.466742                       South Asia   \n",
       "3              6.617403                          Oceania   \n",
       "4              5.545177                          Oceania   \n",
       "\n",
       "   NLP US Influence Score  \n",
       "0                0.131262  \n",
       "1                0.099043  \n",
       "2                0.079816  \n",
       "3                0.157515  \n",
       "4                0.195417  "
      ]
     },
     "execution_count": 13,
     "metadata": {},
     "output_type": "execute_result"
    }
   ],
   "source": [
    "from scriptculture import process_data_us_influence          # Import the function that processes the data for this study\n",
    "\n",
    "df_us_influence_final = process_data_us_influence()\n",
    "df_us_influence_final.head()"
   ]
  },
  {
   "cell_type": "markdown",
   "metadata": {},
   "source": [
    "For this analysis, we identified a list of typically american words. We then search for this words occurences in the different summaries. We then grouped the results by countries. This is the first method that we use for this analysis but it was not relevant.\n",
    "\n",
    "We have implemented a U.S. influence score using Transformers (NLP model). The code and explanations for this model are detailed in the \"nlp_code\" notebook within the \"models\" directory.\n",
    "\n",
    "The processed dataset that we'll use for this analysis is completed with the following features:\n",
    "\n",
    "- US_Term_Count: Number of U.S. terms found in the movies from each country\n",
    "- Number of movies: Number of movies produced in each country\n",
    "- Naïve_Influence_score: Ratio of US_Term_Count to the Number of movies\n",
    "- World_region: Geographical cluster that we identified\n",
    "- NLP US Influence Score: The U.S. influence score on the country, calculated using the NLP model, is more precise than the Influence score and will be the focus of this analysis.\n"
   ]
  },
  {
   "cell_type": "markdown",
   "metadata": {},
   "source": [
    "From now on, the only influence score we will consider is the U.S. cultural influence score obtained through the NLP method.\n",
    "\n",
    "Let’s start by observing the regression of this influence score with the log of the number of movies per country:"
   ]
  },
  {
   "cell_type": "code",
   "execution_count": 14,
   "metadata": {},
   "outputs": [
    {
     "name": "stdout",
     "output_type": "stream",
     "text": [
      "R^2 : 0.2279\n"
     ]
    }
   ],
   "source": [
    "\n",
    "# Calculate the R^2 of the linear regression between the number of movies and the influence score of the USA\n",
    "x = df_us_influence_final['log Number of movies']\n",
    "y = df_us_influence_final['NLP US Influence Score']\n",
    "\n",
    "# Perform the linear regression prediction \n",
    "z = np.polyfit(x, y, 1)\n",
    "p = np.poly1d(z)\n",
    "y_pred = p(x)\n",
    "\n",
    "# Calculate R^2\n",
    "r_squared = r2_score(y, y_pred)\n",
    "\n",
    "print(f\"R^2 : {r_squared:.4f}\")"
   ]
  },
  {
   "cell_type": "code",
   "execution_count": 15,
   "metadata": {},
   "outputs": [
    {
     "data": {
      "application/vnd.plotly.v1+json": {
       "config": {
        "plotlyServerURL": "https://plot.ly"
       },
       "data": [
        {
         "hovertemplate": "<b>Country:</b> %{text}<br><b>log(Number of Movies):</b> %{x}<br><b>Influence Score:</b> %{y}<extra></extra>",
         "marker": {
          "color": "blue",
          "opacity": 0.6,
          "size": 6
         },
         "mode": "markers",
         "name": "Countries",
         "text": [
          "France",
          "Russia",
          "India",
          "Australia",
          "New Zealand",
          "Canada",
          "Germany",
          "United Kingdom",
          "South Africa",
          "Spain",
          "Italy",
          "China",
          "South Korea",
          "Greece",
          "Israel",
          "Mexico",
          "Switzerland",
          "Belgium",
          "Japan",
          "Denmark",
          "Bulgaria",
          "Philippines",
          "Ireland",
          "Slovakia",
          "Norway",
          "Sweden",
          "Thailand",
          "Armenia",
          "Afghanistan",
          "Costa Rica",
          "Malaysia",
          "Netherlands",
          "Argentina",
          "Turkey",
          "Finland",
          "Mongolia",
          "Morocco",
          "Slovenia",
          "Bosnia and Herzegovina",
          "Lebanon",
          "Democratic Republic of the Congo",
          "Cambodia",
          "Poland",
          "Libya",
          "Portugal",
          "Pakistan",
          "Venezuela",
          "Indonesia",
          "Zambia",
          "Hungary",
          "Brazil",
          "Iceland",
          "Taiwan",
          "Burkina Faso",
          "Croatia",
          "Uzbekistan",
          "Vietnam",
          "Egypt",
          "Sri Lanka",
          "Chile",
          "Iran",
          "Tunisia",
          "Uruguay",
          "Nepal",
          "Romania",
          "Kuwait",
          "Austria",
          "Colombia",
          "Kenya",
          "Luxembourg",
          "Zimbabwe",
          "Iraq",
          "Cameroon",
          "Georgia",
          "Mali",
          "Estonia",
          "Cuba",
          "Guinea",
          "Bangladesh",
          "Jamaica",
          "Algeria",
          "Azerbaijan",
          "Senegal",
          "Albania",
          "Peru",
          "Ethiopia",
          "Nigeria",
          "Bolivia",
          "Lithuania",
          "Ukraine",
          "Montenegro",
          "United Arab Emirates",
          "Guinea-Bissau",
          "Qatar",
          "Bhutan",
          "Jordan",
          "Cyprus",
          "Haiti",
          "Turkmenistan"
         ],
         "type": "scatter",
         "x": [
          7.741533589281828,
          6.182084906716632,
          8.46674164792014,
          6.617402977974478,
          5.545177444479562,
          7.307872780763706,
          7.404887575616125,
          8.345930261979017,
          4.912654885736052,
          6.502790045915623,
          7.113142108707088,
          7.110696122978827,
          6.620073206530356,
          4.59511985013459,
          4.882801922586371,
          5.60947179518496,
          4.709530201312334,
          5.288267030694535,
          7.269616749608169,
          5.159055299214529,
          3.8066624897703196,
          5.5053315359323625,
          5.198497031265826,
          3.044522437723423,
          4.672828834461906,
          5.529429087511423,
          5.135798437050262,
          2.0794415416798357,
          2.0794415416798357,
          1.6094379124341003,
          4.997212273764115,
          5.407171771460119,
          5.5093883366279774,
          4.852030263919617,
          4.61512051684126,
          1.791759469228055,
          3.784189633918261,
          4.6443908991413725,
          3.1354942159291497,
          3.091042453358316,
          3.1354942159291497,
          3.7376696182833684,
          4.804021044733257,
          1.3862943611198906,
          3.970291913552122,
          4.430816798843313,
          2.833213344056216,
          4.418840607796598,
          1.3862943611198906,
          4.51085950651685,
          4.897839799950911,
          3.4965075614664802,
          4.718498871295094,
          3.4339872044851463,
          3.6888794541139363,
          2.4849066497880004,
          2.8903717578961645,
          4.574710978503383,
          3.9318256327243257,
          2.9444389791664403,
          4.553876891600541,
          3.4965075614664802,
          2.70805020110221,
          2.4849066497880004,
          4.219507705176107,
          1.3862943611198906,
          4.6913478822291435,
          3.367295829986474,
          2.4849066497880004,
          3.784189633918261,
          1.791759469228055,
          2.4849066497880004,
          2.5649493574615367,
          2.0794415416798357,
          2.4849066497880004,
          2.302585092994046,
          2.772588722239781,
          1.3862943611198906,
          3.1780538303479458,
          1.791759469228055,
          3.2188758248682006,
          1.9459101490553132,
          3.258096538021482,
          1.9459101490553132,
          2.70805020110221,
          2.1972245773362196,
          2.833213344056216,
          2.0794415416798357,
          2.0794415416798357,
          2.772588722239781,
          1.0986122886681098,
          2.70805020110221,
          0.6931471805599453,
          1.6094379124341003,
          1.0986122886681098,
          1.0986122886681098,
          0.6931471805599453,
          0.6931471805599453,
          0.6931471805599453
         ],
         "y": [
          0.1312621922675778,
          0.09904260308356347,
          0.0798162077858418,
          0.1575150997974236,
          0.19541670226643656,
          0.30206764045974116,
          0.14675240695538821,
          0.1728033881312821,
          0.0916657981736695,
          0.15119652008204953,
          0.17207693225718756,
          0.10112867234577039,
          0.1003534004647469,
          0.1083639080341647,
          0.07531224692248858,
          0.13142408659013,
          0.12759773176617273,
          0.12707290393753543,
          0.1598059110908605,
          0.15780694860879654,
          0.03296470191840354,
          0.21570008721840306,
          0.17300368219748788,
          0.21396454761046557,
          0.1393421082445696,
          0.1222240918908292,
          0.12379840195736062,
          0.0028791971126338,
          0.05711681248309708,
          0.04017196812977393,
          0.12642055260249588,
          0.18063395276197464,
          0.13057954784915343,
          0.07996601170558394,
          0.12466427169502739,
          0.09140035882592198,
          0.05821147211772765,
          0.006572137896331318,
          0.020318973640218875,
          0.04583548679338055,
          0.015195148166017811,
          0.06375811611248465,
          0.14852458954139136,
          0.027565841742519567,
          0.06607601112283394,
          0.08663255722020925,
          0.07717948559729847,
          0.10142013551076161,
          0.0001410563563695,
          0.12565073245265798,
          0.11941958629498897,
          0.11342591885204456,
          0.07500487133887979,
          0.029979471870440914,
          0.08670169948249273,
          0.0039506229528341995,
          0.039722332012388464,
          0.05602594913829018,
          0.07211716718911144,
          0.07797629917203104,
          0.09607181429601042,
          0.07854470369488806,
          0.09255584978829855,
          0.24659012673801045,
          0.1493192573174764,
          0.04126786440610885,
          0.11967371076042028,
          0.1558008883392904,
          0.06248507119259247,
          0.23164309635103564,
          0.005107666559827767,
          0.011529307182677728,
          0.042037209739366754,
          0.062494822621374575,
          0.005323558375190816,
          0.00747942135421905,
          0.08938215154297979,
          0.016693895061810765,
          0.058110321899882585,
          0.21063797121557093,
          0.023469102110539052,
          0.0028763307442810694,
          0.028989617716870232,
          0.009544971158902585,
          0.10840136597239919,
          0.0123107312887441,
          0.01339474207010681,
          0.17596035289461717,
          0.2077346321195364,
          0.05536230775260261,
          0.01559578254818915,
          0.10462592507246879,
          0.00208780169486995,
          0.22917616745689878,
          0.04857320617884394,
          0.0006638295599259,
          0.1004224494099617,
          0.15619561076164246,
          0.00005760365456805
         ]
        },
        {
         "line": {
          "color": "red",
          "dash": "dash"
         },
         "mode": "lines",
         "name": "Regression Line",
         "type": "scatter",
         "x": [
          0.6931471805599453,
          0.7716683367959069,
          0.8501894930318684,
          0.92871064926783,
          1.0072318055037917,
          1.085752961739753,
          1.1642741179757148,
          1.2427952742116761,
          1.321316430447638,
          1.3998375866835993,
          1.478358742919561,
          1.5568798991555224,
          1.6354010553914842,
          1.7139222116274455,
          1.7924433678634073,
          1.8709645240993686,
          1.9494856803353304,
          2.0280068365712918,
          2.1065279928072536,
          2.185049149043215,
          2.2635703052791767,
          2.342091461515138,
          2.4206126177511,
          2.499133773987061,
          2.577654930223023,
          2.6561760864589843,
          2.734697242694946,
          2.813218398930908,
          2.891739555166869,
          2.9702607114028305,
          3.0487818676387923,
          3.127303023874754,
          3.2058241801107155,
          3.284345336346677,
          3.3628664925826386,
          3.4413876488186004,
          3.5199088050545617,
          3.598429961290523,
          3.676951117526485,
          3.7554722737624466,
          3.833993429998408,
          3.9125145862343693,
          3.991035742470331,
          4.069556898706293,
          4.148078054942254,
          4.226599211178216,
          4.305120367414177,
          4.383641523650139,
          4.4621626798861005,
          4.540683836122062,
          4.619204992358023,
          4.697726148593985,
          4.776247304829947,
          4.854768461065908,
          4.93328961730187,
          5.011810773537832,
          5.090331929773793,
          5.168853086009754,
          5.247374242245716,
          5.325895398481678,
          5.404416554717639,
          5.482937710953601,
          5.561458867189563,
          5.639980023425524,
          5.7185011796614855,
          5.797022335897447,
          5.875543492133408,
          5.95406464836937,
          6.032585804605332,
          6.111106960841293,
          6.189628117077255,
          6.268149273313217,
          6.346670429549178,
          6.425191585785139,
          6.503712742021101,
          6.582233898257063,
          6.660755054493024,
          6.739276210728986,
          6.817797366964948,
          6.896318523200909,
          6.9748396794368706,
          7.053360835672832,
          7.131881991908793,
          7.2104031481447555,
          7.288924304380717,
          7.367445460616678,
          7.44596661685264,
          7.524487773088602,
          7.603008929324563,
          7.681530085560524,
          7.760051241796486,
          7.838572398032448,
          7.917093554268409,
          7.995614710504371,
          8.074135866740333,
          8.152657022976294,
          8.231178179212256,
          8.309699335448217,
          8.388220491684178,
          8.46674164792014
         ],
         "y": [
          0.04085952393693363,
          0.04220829668976301,
          0.04355706944259239,
          0.04490584219542177,
          0.04625461494825116,
          0.04760338770108053,
          0.04895216045390992,
          0.05030093320673929,
          0.05164970595956868,
          0.05299847871239805,
          0.05434725146522744,
          0.05569602421805681,
          0.0570447969708862,
          0.05839356972371558,
          0.05974234247654496,
          0.06109111522937433,
          0.06243988798220372,
          0.06378866073503309,
          0.06513743348786248,
          0.06648620624069186,
          0.06783497899352124,
          0.06918375174635062,
          0.07053252449918,
          0.07188129725200938,
          0.07323007000483876,
          0.07457884275766814,
          0.07592761551049752,
          0.07727638826332692,
          0.0786251610161563,
          0.07997393376898566,
          0.08132270652181506,
          0.08267147927464444,
          0.08402025202747382,
          0.08536902478030318,
          0.08671779753313258,
          0.08806657028596196,
          0.08941534303879134,
          0.0907641157916207,
          0.09211288854445009,
          0.09346166129727948,
          0.09481043405010886,
          0.09615920680293823,
          0.09750797955576762,
          0.098856752308597,
          0.10020552506142638,
          0.10155429781425575,
          0.10290307056708513,
          0.10425184331991452,
          0.1056006160727439,
          0.10694938882557327,
          0.10829816157840265,
          0.10964693433123204,
          0.11099570708406142,
          0.1123444798368908,
          0.11369325258972018,
          0.11504202534254956,
          0.11639079809537894,
          0.11773957084820832,
          0.11908834360103769,
          0.12043711635386709,
          0.12178588910669647,
          0.12313466185952585,
          0.12448343461235524,
          0.1258322073651846,
          0.127180980118014,
          0.12852975287084337,
          0.12987852562367275,
          0.13122729837650213,
          0.1325760711293315,
          0.1339248438821609,
          0.13527361663499027,
          0.13662238938781968,
          0.13797116214064903,
          0.1393199348934784,
          0.1406687076463078,
          0.1420174803991372,
          0.14336625315196655,
          0.14471502590479593,
          0.1460637986576253,
          0.14741257141045472,
          0.14876134416328407,
          0.15011011691611345,
          0.15145888966894283,
          0.15280766242177224,
          0.1541564351746016,
          0.15550520792743097,
          0.15685398068026038,
          0.15820275343308973,
          0.1595515261859191,
          0.1609002989387485,
          0.16224907169157787,
          0.16359784444440725,
          0.16494661719723663,
          0.166295389950066,
          0.16764416270289542,
          0.1689929354557248,
          0.17034170820855415,
          0.17169048096138353,
          0.17303925371421292,
          0.1743880264670423
         ]
        }
       ],
       "layout": {
        "annotations": [
         {
          "align": "left",
          "bgcolor": "white",
          "bordercolor": "black",
          "borderwidth": 1,
          "font": {
           "color": "black",
           "size": 12
          },
          "showarrow": false,
          "text": "R² = 0.23",
          "x": 0.6931471805599453,
          "y": 0.30206764045974116
         }
        ],
        "height": 400,
        "hovermode": "closest",
        "template": {
         "data": {
          "bar": [
           {
            "error_x": {
             "color": "#2a3f5f"
            },
            "error_y": {
             "color": "#2a3f5f"
            },
            "marker": {
             "line": {
              "color": "white",
              "width": 0.5
             },
             "pattern": {
              "fillmode": "overlay",
              "size": 10,
              "solidity": 0.2
             }
            },
            "type": "bar"
           }
          ],
          "barpolar": [
           {
            "marker": {
             "line": {
              "color": "white",
              "width": 0.5
             },
             "pattern": {
              "fillmode": "overlay",
              "size": 10,
              "solidity": 0.2
             }
            },
            "type": "barpolar"
           }
          ],
          "carpet": [
           {
            "aaxis": {
             "endlinecolor": "#2a3f5f",
             "gridcolor": "#C8D4E3",
             "linecolor": "#C8D4E3",
             "minorgridcolor": "#C8D4E3",
             "startlinecolor": "#2a3f5f"
            },
            "baxis": {
             "endlinecolor": "#2a3f5f",
             "gridcolor": "#C8D4E3",
             "linecolor": "#C8D4E3",
             "minorgridcolor": "#C8D4E3",
             "startlinecolor": "#2a3f5f"
            },
            "type": "carpet"
           }
          ],
          "choropleth": [
           {
            "colorbar": {
             "outlinewidth": 0,
             "ticks": ""
            },
            "type": "choropleth"
           }
          ],
          "contour": [
           {
            "colorbar": {
             "outlinewidth": 0,
             "ticks": ""
            },
            "colorscale": [
             [
              0,
              "#0d0887"
             ],
             [
              0.1111111111111111,
              "#46039f"
             ],
             [
              0.2222222222222222,
              "#7201a8"
             ],
             [
              0.3333333333333333,
              "#9c179e"
             ],
             [
              0.4444444444444444,
              "#bd3786"
             ],
             [
              0.5555555555555556,
              "#d8576b"
             ],
             [
              0.6666666666666666,
              "#ed7953"
             ],
             [
              0.7777777777777778,
              "#fb9f3a"
             ],
             [
              0.8888888888888888,
              "#fdca26"
             ],
             [
              1,
              "#f0f921"
             ]
            ],
            "type": "contour"
           }
          ],
          "contourcarpet": [
           {
            "colorbar": {
             "outlinewidth": 0,
             "ticks": ""
            },
            "type": "contourcarpet"
           }
          ],
          "heatmap": [
           {
            "colorbar": {
             "outlinewidth": 0,
             "ticks": ""
            },
            "colorscale": [
             [
              0,
              "#0d0887"
             ],
             [
              0.1111111111111111,
              "#46039f"
             ],
             [
              0.2222222222222222,
              "#7201a8"
             ],
             [
              0.3333333333333333,
              "#9c179e"
             ],
             [
              0.4444444444444444,
              "#bd3786"
             ],
             [
              0.5555555555555556,
              "#d8576b"
             ],
             [
              0.6666666666666666,
              "#ed7953"
             ],
             [
              0.7777777777777778,
              "#fb9f3a"
             ],
             [
              0.8888888888888888,
              "#fdca26"
             ],
             [
              1,
              "#f0f921"
             ]
            ],
            "type": "heatmap"
           }
          ],
          "heatmapgl": [
           {
            "colorbar": {
             "outlinewidth": 0,
             "ticks": ""
            },
            "colorscale": [
             [
              0,
              "#0d0887"
             ],
             [
              0.1111111111111111,
              "#46039f"
             ],
             [
              0.2222222222222222,
              "#7201a8"
             ],
             [
              0.3333333333333333,
              "#9c179e"
             ],
             [
              0.4444444444444444,
              "#bd3786"
             ],
             [
              0.5555555555555556,
              "#d8576b"
             ],
             [
              0.6666666666666666,
              "#ed7953"
             ],
             [
              0.7777777777777778,
              "#fb9f3a"
             ],
             [
              0.8888888888888888,
              "#fdca26"
             ],
             [
              1,
              "#f0f921"
             ]
            ],
            "type": "heatmapgl"
           }
          ],
          "histogram": [
           {
            "marker": {
             "pattern": {
              "fillmode": "overlay",
              "size": 10,
              "solidity": 0.2
             }
            },
            "type": "histogram"
           }
          ],
          "histogram2d": [
           {
            "colorbar": {
             "outlinewidth": 0,
             "ticks": ""
            },
            "colorscale": [
             [
              0,
              "#0d0887"
             ],
             [
              0.1111111111111111,
              "#46039f"
             ],
             [
              0.2222222222222222,
              "#7201a8"
             ],
             [
              0.3333333333333333,
              "#9c179e"
             ],
             [
              0.4444444444444444,
              "#bd3786"
             ],
             [
              0.5555555555555556,
              "#d8576b"
             ],
             [
              0.6666666666666666,
              "#ed7953"
             ],
             [
              0.7777777777777778,
              "#fb9f3a"
             ],
             [
              0.8888888888888888,
              "#fdca26"
             ],
             [
              1,
              "#f0f921"
             ]
            ],
            "type": "histogram2d"
           }
          ],
          "histogram2dcontour": [
           {
            "colorbar": {
             "outlinewidth": 0,
             "ticks": ""
            },
            "colorscale": [
             [
              0,
              "#0d0887"
             ],
             [
              0.1111111111111111,
              "#46039f"
             ],
             [
              0.2222222222222222,
              "#7201a8"
             ],
             [
              0.3333333333333333,
              "#9c179e"
             ],
             [
              0.4444444444444444,
              "#bd3786"
             ],
             [
              0.5555555555555556,
              "#d8576b"
             ],
             [
              0.6666666666666666,
              "#ed7953"
             ],
             [
              0.7777777777777778,
              "#fb9f3a"
             ],
             [
              0.8888888888888888,
              "#fdca26"
             ],
             [
              1,
              "#f0f921"
             ]
            ],
            "type": "histogram2dcontour"
           }
          ],
          "mesh3d": [
           {
            "colorbar": {
             "outlinewidth": 0,
             "ticks": ""
            },
            "type": "mesh3d"
           }
          ],
          "parcoords": [
           {
            "line": {
             "colorbar": {
              "outlinewidth": 0,
              "ticks": ""
             }
            },
            "type": "parcoords"
           }
          ],
          "pie": [
           {
            "automargin": true,
            "type": "pie"
           }
          ],
          "scatter": [
           {
            "fillpattern": {
             "fillmode": "overlay",
             "size": 10,
             "solidity": 0.2
            },
            "type": "scatter"
           }
          ],
          "scatter3d": [
           {
            "line": {
             "colorbar": {
              "outlinewidth": 0,
              "ticks": ""
             }
            },
            "marker": {
             "colorbar": {
              "outlinewidth": 0,
              "ticks": ""
             }
            },
            "type": "scatter3d"
           }
          ],
          "scattercarpet": [
           {
            "marker": {
             "colorbar": {
              "outlinewidth": 0,
              "ticks": ""
             }
            },
            "type": "scattercarpet"
           }
          ],
          "scattergeo": [
           {
            "marker": {
             "colorbar": {
              "outlinewidth": 0,
              "ticks": ""
             }
            },
            "type": "scattergeo"
           }
          ],
          "scattergl": [
           {
            "marker": {
             "colorbar": {
              "outlinewidth": 0,
              "ticks": ""
             }
            },
            "type": "scattergl"
           }
          ],
          "scattermapbox": [
           {
            "marker": {
             "colorbar": {
              "outlinewidth": 0,
              "ticks": ""
             }
            },
            "type": "scattermapbox"
           }
          ],
          "scatterpolar": [
           {
            "marker": {
             "colorbar": {
              "outlinewidth": 0,
              "ticks": ""
             }
            },
            "type": "scatterpolar"
           }
          ],
          "scatterpolargl": [
           {
            "marker": {
             "colorbar": {
              "outlinewidth": 0,
              "ticks": ""
             }
            },
            "type": "scatterpolargl"
           }
          ],
          "scatterternary": [
           {
            "marker": {
             "colorbar": {
              "outlinewidth": 0,
              "ticks": ""
             }
            },
            "type": "scatterternary"
           }
          ],
          "surface": [
           {
            "colorbar": {
             "outlinewidth": 0,
             "ticks": ""
            },
            "colorscale": [
             [
              0,
              "#0d0887"
             ],
             [
              0.1111111111111111,
              "#46039f"
             ],
             [
              0.2222222222222222,
              "#7201a8"
             ],
             [
              0.3333333333333333,
              "#9c179e"
             ],
             [
              0.4444444444444444,
              "#bd3786"
             ],
             [
              0.5555555555555556,
              "#d8576b"
             ],
             [
              0.6666666666666666,
              "#ed7953"
             ],
             [
              0.7777777777777778,
              "#fb9f3a"
             ],
             [
              0.8888888888888888,
              "#fdca26"
             ],
             [
              1,
              "#f0f921"
             ]
            ],
            "type": "surface"
           }
          ],
          "table": [
           {
            "cells": {
             "fill": {
              "color": "#EBF0F8"
             },
             "line": {
              "color": "white"
             }
            },
            "header": {
             "fill": {
              "color": "#C8D4E3"
             },
             "line": {
              "color": "white"
             }
            },
            "type": "table"
           }
          ]
         },
         "layout": {
          "annotationdefaults": {
           "arrowcolor": "#2a3f5f",
           "arrowhead": 0,
           "arrowwidth": 1
          },
          "autotypenumbers": "strict",
          "coloraxis": {
           "colorbar": {
            "outlinewidth": 0,
            "ticks": ""
           }
          },
          "colorscale": {
           "diverging": [
            [
             0,
             "#8e0152"
            ],
            [
             0.1,
             "#c51b7d"
            ],
            [
             0.2,
             "#de77ae"
            ],
            [
             0.3,
             "#f1b6da"
            ],
            [
             0.4,
             "#fde0ef"
            ],
            [
             0.5,
             "#f7f7f7"
            ],
            [
             0.6,
             "#e6f5d0"
            ],
            [
             0.7,
             "#b8e186"
            ],
            [
             0.8,
             "#7fbc41"
            ],
            [
             0.9,
             "#4d9221"
            ],
            [
             1,
             "#276419"
            ]
           ],
           "sequential": [
            [
             0,
             "#0d0887"
            ],
            [
             0.1111111111111111,
             "#46039f"
            ],
            [
             0.2222222222222222,
             "#7201a8"
            ],
            [
             0.3333333333333333,
             "#9c179e"
            ],
            [
             0.4444444444444444,
             "#bd3786"
            ],
            [
             0.5555555555555556,
             "#d8576b"
            ],
            [
             0.6666666666666666,
             "#ed7953"
            ],
            [
             0.7777777777777778,
             "#fb9f3a"
            ],
            [
             0.8888888888888888,
             "#fdca26"
            ],
            [
             1,
             "#f0f921"
            ]
           ],
           "sequentialminus": [
            [
             0,
             "#0d0887"
            ],
            [
             0.1111111111111111,
             "#46039f"
            ],
            [
             0.2222222222222222,
             "#7201a8"
            ],
            [
             0.3333333333333333,
             "#9c179e"
            ],
            [
             0.4444444444444444,
             "#bd3786"
            ],
            [
             0.5555555555555556,
             "#d8576b"
            ],
            [
             0.6666666666666666,
             "#ed7953"
            ],
            [
             0.7777777777777778,
             "#fb9f3a"
            ],
            [
             0.8888888888888888,
             "#fdca26"
            ],
            [
             1,
             "#f0f921"
            ]
           ]
          },
          "colorway": [
           "#636efa",
           "#EF553B",
           "#00cc96",
           "#ab63fa",
           "#FFA15A",
           "#19d3f3",
           "#FF6692",
           "#B6E880",
           "#FF97FF",
           "#FECB52"
          ],
          "font": {
           "color": "#2a3f5f"
          },
          "geo": {
           "bgcolor": "white",
           "lakecolor": "white",
           "landcolor": "white",
           "showlakes": true,
           "showland": true,
           "subunitcolor": "#C8D4E3"
          },
          "hoverlabel": {
           "align": "left"
          },
          "hovermode": "closest",
          "mapbox": {
           "style": "light"
          },
          "paper_bgcolor": "white",
          "plot_bgcolor": "white",
          "polar": {
           "angularaxis": {
            "gridcolor": "#EBF0F8",
            "linecolor": "#EBF0F8",
            "ticks": ""
           },
           "bgcolor": "white",
           "radialaxis": {
            "gridcolor": "#EBF0F8",
            "linecolor": "#EBF0F8",
            "ticks": ""
           }
          },
          "scene": {
           "xaxis": {
            "backgroundcolor": "white",
            "gridcolor": "#DFE8F3",
            "gridwidth": 2,
            "linecolor": "#EBF0F8",
            "showbackground": true,
            "ticks": "",
            "zerolinecolor": "#EBF0F8"
           },
           "yaxis": {
            "backgroundcolor": "white",
            "gridcolor": "#DFE8F3",
            "gridwidth": 2,
            "linecolor": "#EBF0F8",
            "showbackground": true,
            "ticks": "",
            "zerolinecolor": "#EBF0F8"
           },
           "zaxis": {
            "backgroundcolor": "white",
            "gridcolor": "#DFE8F3",
            "gridwidth": 2,
            "linecolor": "#EBF0F8",
            "showbackground": true,
            "ticks": "",
            "zerolinecolor": "#EBF0F8"
           }
          },
          "shapedefaults": {
           "line": {
            "color": "#2a3f5f"
           }
          },
          "ternary": {
           "aaxis": {
            "gridcolor": "#DFE8F3",
            "linecolor": "#A2B1C6",
            "ticks": ""
           },
           "baxis": {
            "gridcolor": "#DFE8F3",
            "linecolor": "#A2B1C6",
            "ticks": ""
           },
           "bgcolor": "white",
           "caxis": {
            "gridcolor": "#DFE8F3",
            "linecolor": "#A2B1C6",
            "ticks": ""
           }
          },
          "title": {
           "x": 0.05
          },
          "xaxis": {
           "automargin": true,
           "gridcolor": "#EBF0F8",
           "linecolor": "#EBF0F8",
           "ticks": "",
           "title": {
            "standoff": 15
           },
           "zerolinecolor": "#EBF0F8",
           "zerolinewidth": 2
          },
          "yaxis": {
           "automargin": true,
           "gridcolor": "#EBF0F8",
           "linecolor": "#EBF0F8",
           "ticks": "",
           "title": {
            "standoff": 15
           },
           "zerolinecolor": "#EBF0F8",
           "zerolinewidth": 2
          }
         }
        },
        "title": {
         "text": "US Influence Score vs log(Number of Movies)",
         "x": 0.5,
         "xanchor": "center",
         "yanchor": "top"
        },
        "width": 500,
        "xaxis": {
         "title": {
          "text": "log Number of Movies"
         }
        },
        "yaxis": {
         "title": {
          "text": "US Influence Score"
         }
        }
       }
      }
     },
     "metadata": {},
     "output_type": "display_data"
    }
   ],
   "source": [
    "z = np.polyfit(df_us_influence_final['log Number of movies'], df_us_influence_final['NLP US Influence Score'], 1) # Fit the linear regression model\n",
    "p = np.poly1d(z)\n",
    "\n",
    "# Interactive figure using Plotly\n",
    "fig = go.Figure()\n",
    "\n",
    "# Add points representing each country\n",
    "fig.add_trace(go.Scatter(\n",
    "    x=df_us_influence_final['log Number of movies'],\n",
    "    y=df_us_influence_final['NLP US Influence Score'],\n",
    "    mode='markers',\n",
    "    marker=dict(color='blue', size=6, opacity=0.6),\n",
    "    text=df_us_influence_final['Country'],  \n",
    "    hovertemplate=\"<b>Country:</b> %{text}<br>\" +\n",
    "                  \"<b>log(Number of Movies):</b> %{x}<br>\" +\n",
    "                  \"<b>Influence Score:</b> %{y}<extra></extra>\",\n",
    "    name='Countries'\n",
    "))\n",
    "\n",
    "# Add the regression line\n",
    "x_vals = np.linspace(df_us_influence_final['log Number of movies'].min(), \n",
    "                     df_us_influence_final['log Number of movies'].max(), 100)\n",
    "y_vals = p(x_vals)\n",
    "\n",
    "fig.add_trace(go.Scatter(\n",
    "    x=x_vals,\n",
    "    y=y_vals,\n",
    "    mode='lines',\n",
    "    line=dict(color='red', dash='dash'),\n",
    "    name='Regression Line'\n",
    "))\n",
    "\n",
    "# Add annotation for the R²\n",
    "fig.add_annotation(\n",
    "    x=df_us_influence_final['log Number of movies'].min(),  # Position on the X-axis\n",
    "    y=df_us_influence_final['NLP US Influence Score'].max(),             # Position on the Y-axis\n",
    "    text=f\"R² = {r_squared:.2f}\",\n",
    "    showarrow=False,\n",
    "    font=dict(size=12, color=\"black\"),\n",
    "    align=\"left\",\n",
    "    bgcolor=\"white\",\n",
    "    bordercolor=\"black\",\n",
    "    borderwidth=1\n",
    ")\n",
    "\n",
    "# Format the figure\n",
    "fig.update_layout(\n",
    "    xaxis_title='log Number of Movies',\n",
    "    yaxis_title='US Influence Score',\n",
    "    template='plotly_white',\n",
    "    hovermode='closest',\n",
    "    width=500,\n",
    "    height=400,\n",
    "    title={\n",
    "        'text': \"US Influence Score vs log(Number of Movies)\",\n",
    "        'x': 0.5,  # Center the title\n",
    "        'xanchor': 'center',\n",
    "        'yanchor': 'top'\n",
    "    }  \n",
    "    \n",
    ")\n",
    "\n",
    "fig.show()"
   ]
  },
  {
   "cell_type": "markdown",
   "metadata": {},
   "source": [
    "We calculate the p-value of the coefficient in the regression between log Number of Movies and US Influence Score to test if the coefficient of log Number of Movies is statistically different from 0."
   ]
  },
  {
   "cell_type": "code",
   "execution_count": 16,
   "metadata": {},
   "outputs": [
    {
     "name": "stdout",
     "output_type": "stream",
     "text": [
      "P-value of the regression: 5.838089938611666e-07\n"
     ]
    }
   ],
   "source": [
    "mod = smf.ols(formula='Q(\"NLP US Influence Score\") ~ Q(\"log Number of movies\")', data=df_us_influence_final) \n",
    "res = mod.fit()\n",
    "p_value = res.pvalues['Q(\"log Number of movies\")']\n",
    "print(f'P-value of the regression: {p_value}')"
   ]
  },
  {
   "cell_type": "markdown",
   "metadata": {},
   "source": [
    "P-value < 0.01, The coefficient of the log Number of Movies variable is statistically significant at the 99% confidence level.\n",
    "There is a significant relationship between log Number of Movies and US Influence Score. The coefficient is therefore likely different from zero, and there is an association between these two variables in your model."
   ]
  },
  {
   "cell_type": "markdown",
   "metadata": {},
   "source": [
    "Now, we determine which regions of the world have movies most influenced by American culture. To do this, we create a boxplot of the influence scores for countries grouped by world region to observe the distribution of US influence score in each region."
   ]
  },
  {
   "cell_type": "code",
   "execution_count": 17,
   "metadata": {},
   "outputs": [
    {
     "data": {
      "application/vnd.plotly.v1+json": {
       "config": {
        "plotlyServerURL": "https://plot.ly"
       },
       "data": [
        {
         "alignmentgroup": "True",
         "hovertemplate": "World Region=%{x}<br>Influence Score=%{y}<extra></extra>",
         "legendgroup": "Eastern Europe and Central Asia",
         "marker": {
          "color": "#bcbd22"
         },
         "name": "Eastern Europe and Central Asia",
         "notched": false,
         "offsetgroup": "Eastern Europe and Central Asia",
         "orientation": "v",
         "quartilemethod": "inclusive",
         "showlegend": true,
         "type": "box",
         "x": [
          "Eastern Europe and Central Asia",
          "Eastern Europe and Central Asia",
          "Eastern Europe and Central Asia",
          "Eastern Europe and Central Asia"
         ],
         "x0": " ",
         "xaxis": "x",
         "y": [
          0.09904260308356347,
          0.0039506229528341995,
          0.0028763307442810694,
          0.00005760365456805
         ],
         "y0": " ",
         "yaxis": "y"
        },
        {
         "alignmentgroup": "True",
         "hovertemplate": "World Region=%{x}<br>Influence Score=%{y}<extra></extra>",
         "legendgroup": "Africa",
         "marker": {
          "color": "#ff7f0e"
         },
         "name": "Africa",
         "notched": false,
         "offsetgroup": "Africa",
         "orientation": "v",
         "quartilemethod": "inclusive",
         "showlegend": true,
         "type": "box",
         "x": [
          "Africa",
          "Africa",
          "Africa",
          "Africa",
          "Africa",
          "Africa",
          "Africa",
          "Africa",
          "Africa",
          "Africa",
          "Africa",
          "Africa",
          "Africa",
          "Africa",
          "Africa",
          "Africa",
          "Africa"
         ],
         "x0": " ",
         "xaxis": "x",
         "y": [
          0.0916657981736695,
          0.05821147211772765,
          0.015195148166017811,
          0.027565841742519567,
          0.0001410563563695,
          0.029979471870440914,
          0.05602594913829018,
          0.07854470369488806,
          0.06248507119259247,
          0.005107666559827767,
          0.042037209739366754,
          0.005323558375190816,
          0.016693895061810765,
          0.023469102110539052,
          0.028989617716870232,
          0.0123107312887441,
          0.01339474207010681
         ],
         "y0": " ",
         "yaxis": "y"
        },
        {
         "alignmentgroup": "True",
         "hovertemplate": "World Region=%{x}<br>Influence Score=%{y}<extra></extra>",
         "legendgroup": "Middle East",
         "marker": {
          "color": "#2ca02c"
         },
         "name": "Middle East",
         "notched": false,
         "offsetgroup": "Middle East",
         "orientation": "v",
         "quartilemethod": "inclusive",
         "showlegend": true,
         "type": "box",
         "x": [
          "Middle East",
          "Middle East",
          "Middle East",
          "Middle East",
          "Middle East",
          "Middle East",
          "Middle East",
          "Middle East",
          "Middle East"
         ],
         "x0": " ",
         "xaxis": "x",
         "y": [
          0.07531224692248858,
          0.07996601170558394,
          0.04583548679338055,
          0.09607181429601042,
          0.04126786440610885,
          0.011529307182677728,
          0.10462592507246879,
          0.22917616745689878,
          0.0006638295599259
         ],
         "y0": " ",
         "yaxis": "y"
        },
        {
         "alignmentgroup": "True",
         "hovertemplate": "World Region=%{x}<br>Influence Score=%{y}<extra></extra>",
         "legendgroup": "South Asia",
         "marker": {
          "color": "#d62728"
         },
         "name": "South Asia",
         "notched": false,
         "offsetgroup": "South Asia",
         "orientation": "v",
         "quartilemethod": "inclusive",
         "showlegend": true,
         "type": "box",
         "x": [
          "South Asia",
          "South Asia",
          "South Asia",
          "South Asia",
          "South Asia",
          "South Asia"
         ],
         "x0": " ",
         "xaxis": "x",
         "y": [
          0.0798162077858418,
          0.08663255722020925,
          0.07211716718911144,
          0.24659012673801045,
          0.058110321899882585,
          0.04857320617884394
         ],
         "y0": " ",
         "yaxis": "y"
        },
        {
         "alignmentgroup": "True",
         "hovertemplate": "World Region=%{x}<br>Influence Score=%{y}<extra></extra>",
         "legendgroup": "East and Southeast Asia",
         "marker": {
          "color": "#9467bd"
         },
         "name": "East and Southeast Asia",
         "notched": false,
         "offsetgroup": "East and Southeast Asia",
         "orientation": "v",
         "quartilemethod": "inclusive",
         "showlegend": true,
         "type": "box",
         "x": [
          "East and Southeast Asia",
          "East and Southeast Asia",
          "East and Southeast Asia",
          "East and Southeast Asia",
          "East and Southeast Asia",
          "East and Southeast Asia",
          "East and Southeast Asia",
          "East and Southeast Asia",
          "East and Southeast Asia",
          "East and Southeast Asia"
         ],
         "x0": " ",
         "xaxis": "x",
         "y": [
          0.10112867234577039,
          0.1003534004647469,
          0.1598059110908605,
          0.21570008721840306,
          0.12379840195736062,
          0.12642055260249588,
          0.06375811611248465,
          0.10142013551076161,
          0.07500487133887979,
          0.039722332012388464
         ],
         "y0": " ",
         "yaxis": "y"
        },
        {
         "alignmentgroup": "True",
         "hovertemplate": "World Region=%{x}<br>Influence Score=%{y}<extra></extra>",
         "legendgroup": "South America",
         "marker": {
          "color": "#8c564b"
         },
         "name": "South America",
         "notched": false,
         "offsetgroup": "South America",
         "orientation": "v",
         "quartilemethod": "inclusive",
         "showlegend": true,
         "type": "box",
         "x": [
          "South America",
          "South America",
          "South America",
          "South America",
          "South America",
          "South America",
          "South America",
          "South America"
         ],
         "x0": " ",
         "xaxis": "x",
         "y": [
          0.13057954784915343,
          0.07717948559729847,
          0.11941958629498897,
          0.07797629917203104,
          0.09255584978829855,
          0.1558008883392904,
          0.10840136597239919,
          0.17596035289461717
         ],
         "y0": " ",
         "yaxis": "y"
        },
        {
         "alignmentgroup": "True",
         "hovertemplate": "World Region=%{x}<br>Influence Score=%{y}<extra></extra>",
         "legendgroup": "Europe",
         "marker": {
          "color": "#e377c2"
         },
         "name": "Europe",
         "notched": false,
         "offsetgroup": "Europe",
         "orientation": "v",
         "quartilemethod": "inclusive",
         "showlegend": true,
         "type": "box",
         "x": [
          "Europe",
          "Europe",
          "Europe",
          "Europe",
          "Europe",
          "Europe",
          "Europe",
          "Europe",
          "Europe",
          "Europe",
          "Europe",
          "Europe",
          "Europe",
          "Europe",
          "Europe",
          "Europe",
          "Europe",
          "Europe",
          "Europe",
          "Europe",
          "Europe",
          "Europe",
          "Europe",
          "Europe",
          "Europe",
          "Europe",
          "Europe",
          "Europe",
          "Europe",
          "Europe",
          "Europe",
          "Europe",
          "Europe"
         ],
         "x0": " ",
         "xaxis": "x",
         "y": [
          0.1312621922675778,
          0.14675240695538821,
          0.1728033881312821,
          0.15119652008204953,
          0.17207693225718756,
          0.1083639080341647,
          0.12759773176617273,
          0.12707290393753543,
          0.15780694860879654,
          0.03296470191840354,
          0.17300368219748788,
          0.21396454761046557,
          0.1393421082445696,
          0.1222240918908292,
          0.0028791971126338,
          0.18063395276197464,
          0.12466427169502739,
          0.006572137896331318,
          0.020318973640218875,
          0.14852458954139136,
          0.06607601112283394,
          0.12565073245265798,
          0.11342591885204456,
          0.08670169948249273,
          0.1493192573174764,
          0.11967371076042028,
          0.23164309635103564,
          0.062494822621374575,
          0.00747942135421905,
          0.009544971158902585,
          0.2077346321195364,
          0.05536230775260261,
          0.01559578254818915
         ],
         "y0": " ",
         "yaxis": "y"
        },
        {
         "alignmentgroup": "True",
         "hovertemplate": "World Region=%{x}<br>Influence Score=%{y}<extra></extra>",
         "legendgroup": "North America",
         "marker": {
          "color": "#7f7f7f"
         },
         "name": "North America",
         "notched": false,
         "offsetgroup": "North America",
         "orientation": "v",
         "quartilemethod": "inclusive",
         "showlegend": true,
         "type": "box",
         "x": [
          "North America",
          "North America",
          "North America",
          "North America",
          "North America"
         ],
         "x0": " ",
         "xaxis": "x",
         "y": [
          0.30206764045974116,
          0.13142408659013,
          0.08938215154297979,
          0.21063797121557093,
          0.15619561076164246
         ],
         "y0": " ",
         "yaxis": "y"
        },
        {
         "alignmentgroup": "True",
         "hovertemplate": "World Region=%{x}<br>Influence Score=%{y}<extra></extra>",
         "legendgroup": "Oceania",
         "marker": {
          "color": "#1f77b4"
         },
         "name": "Oceania",
         "notched": false,
         "offsetgroup": "Oceania",
         "orientation": "v",
         "quartilemethod": "inclusive",
         "showlegend": true,
         "type": "box",
         "x": [
          "Oceania",
          "Oceania"
         ],
         "x0": " ",
         "xaxis": "x",
         "y": [
          0.1575150997974236,
          0.19541670226643656
         ],
         "y0": " ",
         "yaxis": "y"
        }
       ],
       "layout": {
        "boxmode": "overlay",
        "height": 475,
        "legend": {
         "title": {
          "text": "World Region"
         },
         "tracegroupgap": 0
        },
        "template": {
         "data": {
          "bar": [
           {
            "error_x": {
             "color": "#2a3f5f"
            },
            "error_y": {
             "color": "#2a3f5f"
            },
            "marker": {
             "line": {
              "color": "#E5ECF6",
              "width": 0.5
             },
             "pattern": {
              "fillmode": "overlay",
              "size": 10,
              "solidity": 0.2
             }
            },
            "type": "bar"
           }
          ],
          "barpolar": [
           {
            "marker": {
             "line": {
              "color": "#E5ECF6",
              "width": 0.5
             },
             "pattern": {
              "fillmode": "overlay",
              "size": 10,
              "solidity": 0.2
             }
            },
            "type": "barpolar"
           }
          ],
          "carpet": [
           {
            "aaxis": {
             "endlinecolor": "#2a3f5f",
             "gridcolor": "white",
             "linecolor": "white",
             "minorgridcolor": "white",
             "startlinecolor": "#2a3f5f"
            },
            "baxis": {
             "endlinecolor": "#2a3f5f",
             "gridcolor": "white",
             "linecolor": "white",
             "minorgridcolor": "white",
             "startlinecolor": "#2a3f5f"
            },
            "type": "carpet"
           }
          ],
          "choropleth": [
           {
            "colorbar": {
             "outlinewidth": 0,
             "ticks": ""
            },
            "type": "choropleth"
           }
          ],
          "contour": [
           {
            "colorbar": {
             "outlinewidth": 0,
             "ticks": ""
            },
            "colorscale": [
             [
              0,
              "#0d0887"
             ],
             [
              0.1111111111111111,
              "#46039f"
             ],
             [
              0.2222222222222222,
              "#7201a8"
             ],
             [
              0.3333333333333333,
              "#9c179e"
             ],
             [
              0.4444444444444444,
              "#bd3786"
             ],
             [
              0.5555555555555556,
              "#d8576b"
             ],
             [
              0.6666666666666666,
              "#ed7953"
             ],
             [
              0.7777777777777778,
              "#fb9f3a"
             ],
             [
              0.8888888888888888,
              "#fdca26"
             ],
             [
              1,
              "#f0f921"
             ]
            ],
            "type": "contour"
           }
          ],
          "contourcarpet": [
           {
            "colorbar": {
             "outlinewidth": 0,
             "ticks": ""
            },
            "type": "contourcarpet"
           }
          ],
          "heatmap": [
           {
            "colorbar": {
             "outlinewidth": 0,
             "ticks": ""
            },
            "colorscale": [
             [
              0,
              "#0d0887"
             ],
             [
              0.1111111111111111,
              "#46039f"
             ],
             [
              0.2222222222222222,
              "#7201a8"
             ],
             [
              0.3333333333333333,
              "#9c179e"
             ],
             [
              0.4444444444444444,
              "#bd3786"
             ],
             [
              0.5555555555555556,
              "#d8576b"
             ],
             [
              0.6666666666666666,
              "#ed7953"
             ],
             [
              0.7777777777777778,
              "#fb9f3a"
             ],
             [
              0.8888888888888888,
              "#fdca26"
             ],
             [
              1,
              "#f0f921"
             ]
            ],
            "type": "heatmap"
           }
          ],
          "heatmapgl": [
           {
            "colorbar": {
             "outlinewidth": 0,
             "ticks": ""
            },
            "colorscale": [
             [
              0,
              "#0d0887"
             ],
             [
              0.1111111111111111,
              "#46039f"
             ],
             [
              0.2222222222222222,
              "#7201a8"
             ],
             [
              0.3333333333333333,
              "#9c179e"
             ],
             [
              0.4444444444444444,
              "#bd3786"
             ],
             [
              0.5555555555555556,
              "#d8576b"
             ],
             [
              0.6666666666666666,
              "#ed7953"
             ],
             [
              0.7777777777777778,
              "#fb9f3a"
             ],
             [
              0.8888888888888888,
              "#fdca26"
             ],
             [
              1,
              "#f0f921"
             ]
            ],
            "type": "heatmapgl"
           }
          ],
          "histogram": [
           {
            "marker": {
             "pattern": {
              "fillmode": "overlay",
              "size": 10,
              "solidity": 0.2
             }
            },
            "type": "histogram"
           }
          ],
          "histogram2d": [
           {
            "colorbar": {
             "outlinewidth": 0,
             "ticks": ""
            },
            "colorscale": [
             [
              0,
              "#0d0887"
             ],
             [
              0.1111111111111111,
              "#46039f"
             ],
             [
              0.2222222222222222,
              "#7201a8"
             ],
             [
              0.3333333333333333,
              "#9c179e"
             ],
             [
              0.4444444444444444,
              "#bd3786"
             ],
             [
              0.5555555555555556,
              "#d8576b"
             ],
             [
              0.6666666666666666,
              "#ed7953"
             ],
             [
              0.7777777777777778,
              "#fb9f3a"
             ],
             [
              0.8888888888888888,
              "#fdca26"
             ],
             [
              1,
              "#f0f921"
             ]
            ],
            "type": "histogram2d"
           }
          ],
          "histogram2dcontour": [
           {
            "colorbar": {
             "outlinewidth": 0,
             "ticks": ""
            },
            "colorscale": [
             [
              0,
              "#0d0887"
             ],
             [
              0.1111111111111111,
              "#46039f"
             ],
             [
              0.2222222222222222,
              "#7201a8"
             ],
             [
              0.3333333333333333,
              "#9c179e"
             ],
             [
              0.4444444444444444,
              "#bd3786"
             ],
             [
              0.5555555555555556,
              "#d8576b"
             ],
             [
              0.6666666666666666,
              "#ed7953"
             ],
             [
              0.7777777777777778,
              "#fb9f3a"
             ],
             [
              0.8888888888888888,
              "#fdca26"
             ],
             [
              1,
              "#f0f921"
             ]
            ],
            "type": "histogram2dcontour"
           }
          ],
          "mesh3d": [
           {
            "colorbar": {
             "outlinewidth": 0,
             "ticks": ""
            },
            "type": "mesh3d"
           }
          ],
          "parcoords": [
           {
            "line": {
             "colorbar": {
              "outlinewidth": 0,
              "ticks": ""
             }
            },
            "type": "parcoords"
           }
          ],
          "pie": [
           {
            "automargin": true,
            "type": "pie"
           }
          ],
          "scatter": [
           {
            "fillpattern": {
             "fillmode": "overlay",
             "size": 10,
             "solidity": 0.2
            },
            "type": "scatter"
           }
          ],
          "scatter3d": [
           {
            "line": {
             "colorbar": {
              "outlinewidth": 0,
              "ticks": ""
             }
            },
            "marker": {
             "colorbar": {
              "outlinewidth": 0,
              "ticks": ""
             }
            },
            "type": "scatter3d"
           }
          ],
          "scattercarpet": [
           {
            "marker": {
             "colorbar": {
              "outlinewidth": 0,
              "ticks": ""
             }
            },
            "type": "scattercarpet"
           }
          ],
          "scattergeo": [
           {
            "marker": {
             "colorbar": {
              "outlinewidth": 0,
              "ticks": ""
             }
            },
            "type": "scattergeo"
           }
          ],
          "scattergl": [
           {
            "marker": {
             "colorbar": {
              "outlinewidth": 0,
              "ticks": ""
             }
            },
            "type": "scattergl"
           }
          ],
          "scattermapbox": [
           {
            "marker": {
             "colorbar": {
              "outlinewidth": 0,
              "ticks": ""
             }
            },
            "type": "scattermapbox"
           }
          ],
          "scatterpolar": [
           {
            "marker": {
             "colorbar": {
              "outlinewidth": 0,
              "ticks": ""
             }
            },
            "type": "scatterpolar"
           }
          ],
          "scatterpolargl": [
           {
            "marker": {
             "colorbar": {
              "outlinewidth": 0,
              "ticks": ""
             }
            },
            "type": "scatterpolargl"
           }
          ],
          "scatterternary": [
           {
            "marker": {
             "colorbar": {
              "outlinewidth": 0,
              "ticks": ""
             }
            },
            "type": "scatterternary"
           }
          ],
          "surface": [
           {
            "colorbar": {
             "outlinewidth": 0,
             "ticks": ""
            },
            "colorscale": [
             [
              0,
              "#0d0887"
             ],
             [
              0.1111111111111111,
              "#46039f"
             ],
             [
              0.2222222222222222,
              "#7201a8"
             ],
             [
              0.3333333333333333,
              "#9c179e"
             ],
             [
              0.4444444444444444,
              "#bd3786"
             ],
             [
              0.5555555555555556,
              "#d8576b"
             ],
             [
              0.6666666666666666,
              "#ed7953"
             ],
             [
              0.7777777777777778,
              "#fb9f3a"
             ],
             [
              0.8888888888888888,
              "#fdca26"
             ],
             [
              1,
              "#f0f921"
             ]
            ],
            "type": "surface"
           }
          ],
          "table": [
           {
            "cells": {
             "fill": {
              "color": "#EBF0F8"
             },
             "line": {
              "color": "white"
             }
            },
            "header": {
             "fill": {
              "color": "#C8D4E3"
             },
             "line": {
              "color": "white"
             }
            },
            "type": "table"
           }
          ]
         },
         "layout": {
          "annotationdefaults": {
           "arrowcolor": "#2a3f5f",
           "arrowhead": 0,
           "arrowwidth": 1
          },
          "autotypenumbers": "strict",
          "coloraxis": {
           "colorbar": {
            "outlinewidth": 0,
            "ticks": ""
           }
          },
          "colorscale": {
           "diverging": [
            [
             0,
             "#8e0152"
            ],
            [
             0.1,
             "#c51b7d"
            ],
            [
             0.2,
             "#de77ae"
            ],
            [
             0.3,
             "#f1b6da"
            ],
            [
             0.4,
             "#fde0ef"
            ],
            [
             0.5,
             "#f7f7f7"
            ],
            [
             0.6,
             "#e6f5d0"
            ],
            [
             0.7,
             "#b8e186"
            ],
            [
             0.8,
             "#7fbc41"
            ],
            [
             0.9,
             "#4d9221"
            ],
            [
             1,
             "#276419"
            ]
           ],
           "sequential": [
            [
             0,
             "#0d0887"
            ],
            [
             0.1111111111111111,
             "#46039f"
            ],
            [
             0.2222222222222222,
             "#7201a8"
            ],
            [
             0.3333333333333333,
             "#9c179e"
            ],
            [
             0.4444444444444444,
             "#bd3786"
            ],
            [
             0.5555555555555556,
             "#d8576b"
            ],
            [
             0.6666666666666666,
             "#ed7953"
            ],
            [
             0.7777777777777778,
             "#fb9f3a"
            ],
            [
             0.8888888888888888,
             "#fdca26"
            ],
            [
             1,
             "#f0f921"
            ]
           ],
           "sequentialminus": [
            [
             0,
             "#0d0887"
            ],
            [
             0.1111111111111111,
             "#46039f"
            ],
            [
             0.2222222222222222,
             "#7201a8"
            ],
            [
             0.3333333333333333,
             "#9c179e"
            ],
            [
             0.4444444444444444,
             "#bd3786"
            ],
            [
             0.5555555555555556,
             "#d8576b"
            ],
            [
             0.6666666666666666,
             "#ed7953"
            ],
            [
             0.7777777777777778,
             "#fb9f3a"
            ],
            [
             0.8888888888888888,
             "#fdca26"
            ],
            [
             1,
             "#f0f921"
            ]
           ]
          },
          "colorway": [
           "#636efa",
           "#EF553B",
           "#00cc96",
           "#ab63fa",
           "#FFA15A",
           "#19d3f3",
           "#FF6692",
           "#B6E880",
           "#FF97FF",
           "#FECB52"
          ],
          "font": {
           "color": "#2a3f5f"
          },
          "geo": {
           "bgcolor": "white",
           "lakecolor": "white",
           "landcolor": "#E5ECF6",
           "showlakes": true,
           "showland": true,
           "subunitcolor": "white"
          },
          "hoverlabel": {
           "align": "left"
          },
          "hovermode": "closest",
          "mapbox": {
           "style": "light"
          },
          "paper_bgcolor": "white",
          "plot_bgcolor": "#E5ECF6",
          "polar": {
           "angularaxis": {
            "gridcolor": "white",
            "linecolor": "white",
            "ticks": ""
           },
           "bgcolor": "#E5ECF6",
           "radialaxis": {
            "gridcolor": "white",
            "linecolor": "white",
            "ticks": ""
           }
          },
          "scene": {
           "xaxis": {
            "backgroundcolor": "#E5ECF6",
            "gridcolor": "white",
            "gridwidth": 2,
            "linecolor": "white",
            "showbackground": true,
            "ticks": "",
            "zerolinecolor": "white"
           },
           "yaxis": {
            "backgroundcolor": "#E5ECF6",
            "gridcolor": "white",
            "gridwidth": 2,
            "linecolor": "white",
            "showbackground": true,
            "ticks": "",
            "zerolinecolor": "white"
           },
           "zaxis": {
            "backgroundcolor": "#E5ECF6",
            "gridcolor": "white",
            "gridwidth": 2,
            "linecolor": "white",
            "showbackground": true,
            "ticks": "",
            "zerolinecolor": "white"
           }
          },
          "shapedefaults": {
           "line": {
            "color": "#2a3f5f"
           }
          },
          "ternary": {
           "aaxis": {
            "gridcolor": "white",
            "linecolor": "white",
            "ticks": ""
           },
           "baxis": {
            "gridcolor": "white",
            "linecolor": "white",
            "ticks": ""
           },
           "bgcolor": "#E5ECF6",
           "caxis": {
            "gridcolor": "white",
            "linecolor": "white",
            "ticks": ""
           }
          },
          "title": {
           "x": 0.05
          },
          "xaxis": {
           "automargin": true,
           "gridcolor": "white",
           "linecolor": "white",
           "ticks": "",
           "title": {
            "standoff": 15
           },
           "zerolinecolor": "white",
           "zerolinewidth": 2
          },
          "yaxis": {
           "automargin": true,
           "gridcolor": "white",
           "linecolor": "white",
           "ticks": "",
           "title": {
            "standoff": 15
           },
           "zerolinecolor": "white",
           "zerolinewidth": 2
          }
         }
        },
        "title": {
         "text": "Distribution of US Influence Score by world region",
         "x": 0.5,
         "xanchor": "center",
         "yanchor": "top"
        },
        "width": 600,
        "xaxis": {
         "anchor": "y",
         "categoryarray": [
          "Eastern Europe and Central Asia",
          "Africa",
          "Middle East",
          "South Asia",
          "East and Southeast Asia",
          "South America",
          "Europe",
          "North America",
          "Oceania"
         ],
         "categoryorder": "array",
         "domain": [
          0,
          1
         ],
         "tickangle": 45,
         "title": {}
        },
        "yaxis": {
         "anchor": "x",
         "domain": [
          0,
          1
         ],
         "title": {
          "text": "US Influence Score"
         }
        }
       }
      }
     },
     "metadata": {},
     "output_type": "display_data"
    }
   ],
   "source": [
    "# Sort by the median 'NLP US Influence Score' for each region\n",
    "df_us_influence_final_world_region = df_us_influence_final[df_us_influence_final['World_region'] != 'Other'] # Remove 'Other' region as we didn't assign it to a specific region\n",
    "median_order = df_us_influence_final_world_region.groupby('World_region')['NLP US Influence Score'].median().sort_values().index\n",
    "\n",
    "region_color_mapping = {             # Define the colors for each region to keep the same color for each region in all plots\n",
    "    \"Oceania\": \"#1f77b4\",  # Blue\n",
    "    \"Africa\": \"#ff7f0e\",  # Orange\n",
    "    \"Middle East\": \"#2ca02c\",  # Green\n",
    "    \"South Asia\": \"#d62728\",  # Red\n",
    "    \"East and Southeast Asia\": \"#9467bd\",  # Violet\n",
    "    \"South America\": \"#8c564b\",  # Brown\n",
    "    \"Europe\": \"#e377c2\",  # Rose\n",
    "    \"North America\": \"#7f7f7f\",  # Grey\n",
    "    \"Eastern Europe and Central Asia\": \"#bcbd22\",  # Olive Green\n",
    "}\n",
    "\n",
    "# Create an interactive boxplot with Plotly\n",
    "fig = px.box(\n",
    "    df_us_influence_final_world_region, \n",
    "    x='World_region', \n",
    "    y='NLP US Influence Score', \n",
    "    category_orders={'World_region': median_order},  # Sort regions by median\n",
    "    color='World_region',  \n",
    "    color_discrete_map=region_color_mapping,\n",
    "    title='Distribution of US Influence Score by world region',\n",
    "    labels={'World_region': 'World Region', 'NLP US Influence Score': 'Influence Score'}\n",
    ")\n",
    "\n",
    "# Customization\n",
    "fig.update_traces(quartilemethod=\"inclusive\")  \n",
    "fig.update_layout(\n",
    "    xaxis_title=None,\n",
    "    yaxis_title='US Influence Score',\n",
    "    xaxis_tickangle=45,  \n",
    "    height=475,\n",
    "    width=600,\n",
    "    title={\n",
    "        'text': \"Distribution of US Influence Score by world region\",\n",
    "        'x': 0.5,  # Center the title\n",
    "        'xanchor': 'center',\n",
    "        'yanchor': 'top'\n",
    "    }          \n",
    ")\n",
    "\n",
    "fig.show()"
   ]
  },
  {
   "cell_type": "code",
   "execution_count": 18,
   "metadata": {},
   "outputs": [],
   "source": [
    "!pip install nbformat>=4.2.0"
   ]
  },
  {
   "cell_type": "markdown",
   "metadata": {},
   "source": [
    "### Clustering of countries"
   ]
  },
  {
   "cell_type": "markdown",
   "metadata": {},
   "source": [
    "We will cluster the countries based on their U.S. influence score and the log of the number of movies produced.\n",
    "First, we start by standardizing the two features to ensure consistent clustering."
   ]
  },
  {
   "cell_type": "code",
   "execution_count": 19,
   "metadata": {},
   "outputs": [],
   "source": [
    "df_selected = df_us_influence_final[['log Number of movies', 'NLP US Influence Score']]\n",
    "# Standardize the data thanks to the StandardScaler\n",
    "scaler = StandardScaler()\n",
    "\n",
    "df_scaled = scaler.fit_transform(df_selected)\n",
    "df_scaled = pd.DataFrame(df_scaled, columns=df_selected.columns)"
   ]
  },
  {
   "cell_type": "markdown",
   "metadata": {},
   "source": [
    "Once the features are standardized, we want to determine the optimal number of clusters to choose for this study, knowing that we will perform clustering using K-Means.\n",
    "We therefore calculate the silhouette score for different values of K and display them in a line plot."
   ]
  },
  {
   "cell_type": "code",
   "execution_count": 20,
   "metadata": {},
   "outputs": [
    {
     "data": {
      "application/vnd.plotly.v1+json": {
       "config": {
        "plotlyServerURL": "https://plot.ly"
       },
       "data": [
        {
         "hovertemplate": "Number of clusters (K)=%{x}<br>Silhouette Score=%{y}<extra></extra>",
         "legendgroup": "",
         "line": {
          "color": "#636efa",
          "dash": "solid"
         },
         "marker": {
          "symbol": "circle"
         },
         "mode": "lines+markers",
         "name": "",
         "orientation": "v",
         "showlegend": false,
         "type": "scatter",
         "x": [
          2,
          3,
          4,
          5,
          6,
          7,
          8,
          9,
          10,
          11
         ],
         "xaxis": "x",
         "y": [
          0.4715201071162343,
          0.5041494020896925,
          0.43569666732073437,
          0.3981855110233261,
          0.38290191793556816,
          0.38069548088045996,
          0.37573348494189673,
          0.36725467186381366,
          0.3614158045717611,
          0.37808521651490357
         ],
         "yaxis": "y"
        }
       ],
       "layout": {
        "height": 400,
        "legend": {
         "tracegroupgap": 0
        },
        "template": {
         "data": {
          "bar": [
           {
            "error_x": {
             "color": "#2a3f5f"
            },
            "error_y": {
             "color": "#2a3f5f"
            },
            "marker": {
             "line": {
              "color": "#E5ECF6",
              "width": 0.5
             },
             "pattern": {
              "fillmode": "overlay",
              "size": 10,
              "solidity": 0.2
             }
            },
            "type": "bar"
           }
          ],
          "barpolar": [
           {
            "marker": {
             "line": {
              "color": "#E5ECF6",
              "width": 0.5
             },
             "pattern": {
              "fillmode": "overlay",
              "size": 10,
              "solidity": 0.2
             }
            },
            "type": "barpolar"
           }
          ],
          "carpet": [
           {
            "aaxis": {
             "endlinecolor": "#2a3f5f",
             "gridcolor": "white",
             "linecolor": "white",
             "minorgridcolor": "white",
             "startlinecolor": "#2a3f5f"
            },
            "baxis": {
             "endlinecolor": "#2a3f5f",
             "gridcolor": "white",
             "linecolor": "white",
             "minorgridcolor": "white",
             "startlinecolor": "#2a3f5f"
            },
            "type": "carpet"
           }
          ],
          "choropleth": [
           {
            "colorbar": {
             "outlinewidth": 0,
             "ticks": ""
            },
            "type": "choropleth"
           }
          ],
          "contour": [
           {
            "colorbar": {
             "outlinewidth": 0,
             "ticks": ""
            },
            "colorscale": [
             [
              0,
              "#0d0887"
             ],
             [
              0.1111111111111111,
              "#46039f"
             ],
             [
              0.2222222222222222,
              "#7201a8"
             ],
             [
              0.3333333333333333,
              "#9c179e"
             ],
             [
              0.4444444444444444,
              "#bd3786"
             ],
             [
              0.5555555555555556,
              "#d8576b"
             ],
             [
              0.6666666666666666,
              "#ed7953"
             ],
             [
              0.7777777777777778,
              "#fb9f3a"
             ],
             [
              0.8888888888888888,
              "#fdca26"
             ],
             [
              1,
              "#f0f921"
             ]
            ],
            "type": "contour"
           }
          ],
          "contourcarpet": [
           {
            "colorbar": {
             "outlinewidth": 0,
             "ticks": ""
            },
            "type": "contourcarpet"
           }
          ],
          "heatmap": [
           {
            "colorbar": {
             "outlinewidth": 0,
             "ticks": ""
            },
            "colorscale": [
             [
              0,
              "#0d0887"
             ],
             [
              0.1111111111111111,
              "#46039f"
             ],
             [
              0.2222222222222222,
              "#7201a8"
             ],
             [
              0.3333333333333333,
              "#9c179e"
             ],
             [
              0.4444444444444444,
              "#bd3786"
             ],
             [
              0.5555555555555556,
              "#d8576b"
             ],
             [
              0.6666666666666666,
              "#ed7953"
             ],
             [
              0.7777777777777778,
              "#fb9f3a"
             ],
             [
              0.8888888888888888,
              "#fdca26"
             ],
             [
              1,
              "#f0f921"
             ]
            ],
            "type": "heatmap"
           }
          ],
          "heatmapgl": [
           {
            "colorbar": {
             "outlinewidth": 0,
             "ticks": ""
            },
            "colorscale": [
             [
              0,
              "#0d0887"
             ],
             [
              0.1111111111111111,
              "#46039f"
             ],
             [
              0.2222222222222222,
              "#7201a8"
             ],
             [
              0.3333333333333333,
              "#9c179e"
             ],
             [
              0.4444444444444444,
              "#bd3786"
             ],
             [
              0.5555555555555556,
              "#d8576b"
             ],
             [
              0.6666666666666666,
              "#ed7953"
             ],
             [
              0.7777777777777778,
              "#fb9f3a"
             ],
             [
              0.8888888888888888,
              "#fdca26"
             ],
             [
              1,
              "#f0f921"
             ]
            ],
            "type": "heatmapgl"
           }
          ],
          "histogram": [
           {
            "marker": {
             "pattern": {
              "fillmode": "overlay",
              "size": 10,
              "solidity": 0.2
             }
            },
            "type": "histogram"
           }
          ],
          "histogram2d": [
           {
            "colorbar": {
             "outlinewidth": 0,
             "ticks": ""
            },
            "colorscale": [
             [
              0,
              "#0d0887"
             ],
             [
              0.1111111111111111,
              "#46039f"
             ],
             [
              0.2222222222222222,
              "#7201a8"
             ],
             [
              0.3333333333333333,
              "#9c179e"
             ],
             [
              0.4444444444444444,
              "#bd3786"
             ],
             [
              0.5555555555555556,
              "#d8576b"
             ],
             [
              0.6666666666666666,
              "#ed7953"
             ],
             [
              0.7777777777777778,
              "#fb9f3a"
             ],
             [
              0.8888888888888888,
              "#fdca26"
             ],
             [
              1,
              "#f0f921"
             ]
            ],
            "type": "histogram2d"
           }
          ],
          "histogram2dcontour": [
           {
            "colorbar": {
             "outlinewidth": 0,
             "ticks": ""
            },
            "colorscale": [
             [
              0,
              "#0d0887"
             ],
             [
              0.1111111111111111,
              "#46039f"
             ],
             [
              0.2222222222222222,
              "#7201a8"
             ],
             [
              0.3333333333333333,
              "#9c179e"
             ],
             [
              0.4444444444444444,
              "#bd3786"
             ],
             [
              0.5555555555555556,
              "#d8576b"
             ],
             [
              0.6666666666666666,
              "#ed7953"
             ],
             [
              0.7777777777777778,
              "#fb9f3a"
             ],
             [
              0.8888888888888888,
              "#fdca26"
             ],
             [
              1,
              "#f0f921"
             ]
            ],
            "type": "histogram2dcontour"
           }
          ],
          "mesh3d": [
           {
            "colorbar": {
             "outlinewidth": 0,
             "ticks": ""
            },
            "type": "mesh3d"
           }
          ],
          "parcoords": [
           {
            "line": {
             "colorbar": {
              "outlinewidth": 0,
              "ticks": ""
             }
            },
            "type": "parcoords"
           }
          ],
          "pie": [
           {
            "automargin": true,
            "type": "pie"
           }
          ],
          "scatter": [
           {
            "fillpattern": {
             "fillmode": "overlay",
             "size": 10,
             "solidity": 0.2
            },
            "type": "scatter"
           }
          ],
          "scatter3d": [
           {
            "line": {
             "colorbar": {
              "outlinewidth": 0,
              "ticks": ""
             }
            },
            "marker": {
             "colorbar": {
              "outlinewidth": 0,
              "ticks": ""
             }
            },
            "type": "scatter3d"
           }
          ],
          "scattercarpet": [
           {
            "marker": {
             "colorbar": {
              "outlinewidth": 0,
              "ticks": ""
             }
            },
            "type": "scattercarpet"
           }
          ],
          "scattergeo": [
           {
            "marker": {
             "colorbar": {
              "outlinewidth": 0,
              "ticks": ""
             }
            },
            "type": "scattergeo"
           }
          ],
          "scattergl": [
           {
            "marker": {
             "colorbar": {
              "outlinewidth": 0,
              "ticks": ""
             }
            },
            "type": "scattergl"
           }
          ],
          "scattermapbox": [
           {
            "marker": {
             "colorbar": {
              "outlinewidth": 0,
              "ticks": ""
             }
            },
            "type": "scattermapbox"
           }
          ],
          "scatterpolar": [
           {
            "marker": {
             "colorbar": {
              "outlinewidth": 0,
              "ticks": ""
             }
            },
            "type": "scatterpolar"
           }
          ],
          "scatterpolargl": [
           {
            "marker": {
             "colorbar": {
              "outlinewidth": 0,
              "ticks": ""
             }
            },
            "type": "scatterpolargl"
           }
          ],
          "scatterternary": [
           {
            "marker": {
             "colorbar": {
              "outlinewidth": 0,
              "ticks": ""
             }
            },
            "type": "scatterternary"
           }
          ],
          "surface": [
           {
            "colorbar": {
             "outlinewidth": 0,
             "ticks": ""
            },
            "colorscale": [
             [
              0,
              "#0d0887"
             ],
             [
              0.1111111111111111,
              "#46039f"
             ],
             [
              0.2222222222222222,
              "#7201a8"
             ],
             [
              0.3333333333333333,
              "#9c179e"
             ],
             [
              0.4444444444444444,
              "#bd3786"
             ],
             [
              0.5555555555555556,
              "#d8576b"
             ],
             [
              0.6666666666666666,
              "#ed7953"
             ],
             [
              0.7777777777777778,
              "#fb9f3a"
             ],
             [
              0.8888888888888888,
              "#fdca26"
             ],
             [
              1,
              "#f0f921"
             ]
            ],
            "type": "surface"
           }
          ],
          "table": [
           {
            "cells": {
             "fill": {
              "color": "#EBF0F8"
             },
             "line": {
              "color": "white"
             }
            },
            "header": {
             "fill": {
              "color": "#C8D4E3"
             },
             "line": {
              "color": "white"
             }
            },
            "type": "table"
           }
          ]
         },
         "layout": {
          "annotationdefaults": {
           "arrowcolor": "#2a3f5f",
           "arrowhead": 0,
           "arrowwidth": 1
          },
          "autotypenumbers": "strict",
          "coloraxis": {
           "colorbar": {
            "outlinewidth": 0,
            "ticks": ""
           }
          },
          "colorscale": {
           "diverging": [
            [
             0,
             "#8e0152"
            ],
            [
             0.1,
             "#c51b7d"
            ],
            [
             0.2,
             "#de77ae"
            ],
            [
             0.3,
             "#f1b6da"
            ],
            [
             0.4,
             "#fde0ef"
            ],
            [
             0.5,
             "#f7f7f7"
            ],
            [
             0.6,
             "#e6f5d0"
            ],
            [
             0.7,
             "#b8e186"
            ],
            [
             0.8,
             "#7fbc41"
            ],
            [
             0.9,
             "#4d9221"
            ],
            [
             1,
             "#276419"
            ]
           ],
           "sequential": [
            [
             0,
             "#0d0887"
            ],
            [
             0.1111111111111111,
             "#46039f"
            ],
            [
             0.2222222222222222,
             "#7201a8"
            ],
            [
             0.3333333333333333,
             "#9c179e"
            ],
            [
             0.4444444444444444,
             "#bd3786"
            ],
            [
             0.5555555555555556,
             "#d8576b"
            ],
            [
             0.6666666666666666,
             "#ed7953"
            ],
            [
             0.7777777777777778,
             "#fb9f3a"
            ],
            [
             0.8888888888888888,
             "#fdca26"
            ],
            [
             1,
             "#f0f921"
            ]
           ],
           "sequentialminus": [
            [
             0,
             "#0d0887"
            ],
            [
             0.1111111111111111,
             "#46039f"
            ],
            [
             0.2222222222222222,
             "#7201a8"
            ],
            [
             0.3333333333333333,
             "#9c179e"
            ],
            [
             0.4444444444444444,
             "#bd3786"
            ],
            [
             0.5555555555555556,
             "#d8576b"
            ],
            [
             0.6666666666666666,
             "#ed7953"
            ],
            [
             0.7777777777777778,
             "#fb9f3a"
            ],
            [
             0.8888888888888888,
             "#fdca26"
            ],
            [
             1,
             "#f0f921"
            ]
           ]
          },
          "colorway": [
           "#636efa",
           "#EF553B",
           "#00cc96",
           "#ab63fa",
           "#FFA15A",
           "#19d3f3",
           "#FF6692",
           "#B6E880",
           "#FF97FF",
           "#FECB52"
          ],
          "font": {
           "color": "#2a3f5f"
          },
          "geo": {
           "bgcolor": "white",
           "lakecolor": "white",
           "landcolor": "#E5ECF6",
           "showlakes": true,
           "showland": true,
           "subunitcolor": "white"
          },
          "hoverlabel": {
           "align": "left"
          },
          "hovermode": "closest",
          "mapbox": {
           "style": "light"
          },
          "paper_bgcolor": "white",
          "plot_bgcolor": "#E5ECF6",
          "polar": {
           "angularaxis": {
            "gridcolor": "white",
            "linecolor": "white",
            "ticks": ""
           },
           "bgcolor": "#E5ECF6",
           "radialaxis": {
            "gridcolor": "white",
            "linecolor": "white",
            "ticks": ""
           }
          },
          "scene": {
           "xaxis": {
            "backgroundcolor": "#E5ECF6",
            "gridcolor": "white",
            "gridwidth": 2,
            "linecolor": "white",
            "showbackground": true,
            "ticks": "",
            "zerolinecolor": "white"
           },
           "yaxis": {
            "backgroundcolor": "#E5ECF6",
            "gridcolor": "white",
            "gridwidth": 2,
            "linecolor": "white",
            "showbackground": true,
            "ticks": "",
            "zerolinecolor": "white"
           },
           "zaxis": {
            "backgroundcolor": "#E5ECF6",
            "gridcolor": "white",
            "gridwidth": 2,
            "linecolor": "white",
            "showbackground": true,
            "ticks": "",
            "zerolinecolor": "white"
           }
          },
          "shapedefaults": {
           "line": {
            "color": "#2a3f5f"
           }
          },
          "ternary": {
           "aaxis": {
            "gridcolor": "white",
            "linecolor": "white",
            "ticks": ""
           },
           "baxis": {
            "gridcolor": "white",
            "linecolor": "white",
            "ticks": ""
           },
           "bgcolor": "#E5ECF6",
           "caxis": {
            "gridcolor": "white",
            "linecolor": "white",
            "ticks": ""
           }
          },
          "title": {
           "x": 0.05
          },
          "xaxis": {
           "automargin": true,
           "gridcolor": "white",
           "linecolor": "white",
           "ticks": "",
           "title": {
            "standoff": 15
           },
           "zerolinecolor": "white",
           "zerolinewidth": 2
          },
          "yaxis": {
           "automargin": true,
           "gridcolor": "white",
           "linecolor": "white",
           "ticks": "",
           "title": {
            "standoff": 15
           },
           "zerolinecolor": "white",
           "zerolinewidth": 2
          }
         }
        },
        "title": {
         "text": "Silhouette Score vs number of clusters K",
         "x": 0.5,
         "xanchor": "center",
         "yanchor": "top"
        },
        "width": 500,
        "xaxis": {
         "anchor": "y",
         "domain": [
          0,
          1
         ],
         "dtick": 1,
         "title": {
          "text": "Nombre de clusters (K)"
         }
        },
        "yaxis": {
         "anchor": "x",
         "domain": [
          0,
          1
         ],
         "title": {
          "text": "Silhouette Score"
         }
        }
       }
      }
     },
     "metadata": {},
     "output_type": "display_data"
    }
   ],
   "source": [
    "# Plot of the silhouette score for different values of K\n",
    "\n",
    "X = df_scaled[['log Number of movies', 'NLP US Influence Score']].values\n",
    "\n",
    "import plotly.express as px\n",
    "import pandas as pd\n",
    "from sklearn.cluster import KMeans\n",
    "from sklearn.metrics import silhouette_score\n",
    "\n",
    "# Calculate the silhouette score for different values of K\n",
    "silhouettes = []\n",
    "for k in range(2, 12):\n",
    "    labels = KMeans(n_clusters=k, random_state=10).fit_predict(X)  \n",
    "    score = silhouette_score(X, labels)\n",
    "    silhouettes.append({\"k\": k, \"score\": score})\n",
    "\n",
    "# Convert to dataframe to plot\n",
    "silhouettes = pd.DataFrame(silhouettes)\n",
    "\n",
    "# Create an interactive line plot with Plotly\n",
    "fig = px.line(\n",
    "    silhouettes, \n",
    "    x=\"k\", \n",
    "    y=\"score\", \n",
    "    title=\"Silhouette Score vs number of clusters K\", \n",
    "    labels={\"k\": \"Number of clusters (K)\", \"score\": \"Silhouette Score\"},\n",
    "    markers=True \n",
    ")\n",
    "\n",
    "# Customization\n",
    "fig.update_layout(\n",
    "    xaxis=dict(dtick=1),  \n",
    "    yaxis_title=\"Silhouette Score\",\n",
    "    xaxis_title=\"Nombre de clusters (K)\",\n",
    "    height=400,  \n",
    "    width=500 ,\n",
    "    title={\n",
    "        'text': \"Silhouette Score vs number of clusters K\",\n",
    "        'x': 0.5,  # Center the title\n",
    "        'xanchor': 'center',\n",
    "        'yanchor': 'top'\n",
    "    } \n",
    ")\n",
    "\n",
    "fig.show()"
   ]
  },
  {
   "cell_type": "markdown",
   "metadata": {},
   "source": [
    "The optimal number of clusters is K=3. We now plot the scatter plot of the countries, with the standardized influence score on the y-axis and the standardized log of the number of movies on the x-axis, to observe the distribution of countries across the different clusters"
   ]
  },
  {
   "cell_type": "code",
   "execution_count": 21,
   "metadata": {},
   "outputs": [
    {
     "data": {
      "application/vnd.plotly.v1+json": {
       "config": {
        "plotlyServerURL": "https://plot.ly"
       },
       "data": [
        {
         "hovertemplate": "<b>%{text}</b><br>log Number of movies: %{x}<br>Influence score: %{y}<extra></extra>",
         "marker": {
          "color": "rgb(139, 0, 0)",
          "opacity": 0.6,
          "size": 6
         },
         "mode": "markers",
         "name": "Cluster 0",
         "text": [
          "Bulgaria",
          "Armenia",
          "Afghanistan",
          "Costa Rica",
          "Mongolia",
          "Morocco",
          "Slovenia",
          "Bosnia and Herzegovina",
          "Lebanon",
          "Democratic Republic of the Congo",
          "Cambodia",
          "Libya",
          "Venezuela",
          "Zambia",
          "Burkina Faso",
          "Uzbekistan",
          "Vietnam",
          "Chile",
          "Kuwait",
          "Kenya",
          "Zimbabwe",
          "Iraq",
          "Cameroon",
          "Georgia",
          "Mali",
          "Estonia",
          "Guinea",
          "Bangladesh",
          "Algeria",
          "Azerbaijan",
          "Senegal",
          "Albania",
          "Ethiopia",
          "Nigeria",
          "Ukraine",
          "Montenegro",
          "Guinea-Bissau",
          "Bhutan",
          "Jordan",
          "Cyprus",
          "Turkmenistan"
         ],
         "type": "scatter",
         "x": [
          0.03194245299902414,
          -0.8983942772229595,
          -0.8983942772229595,
          -1.1515533418512311,
          -1.0533490899955595,
          0.019837850368267428,
          0.48316990600667487,
          -0.3295703563519981,
          -0.3535135047305962,
          -0.3295703563519981,
          -0.005219325601887768,
          -1.2717456323218235,
          -0.4923885518224846,
          -1.2717456323218235,
          -0.16879243661081972,
          -0.6799977348966957,
          -0.46160119257043203,
          -0.4324788490136413,
          -1.2717456323218235,
          -0.6799977348966957,
          -1.0533490899955595,
          -0.6799977348966957,
          -0.6368841592899165,
          -0.8983942772229595,
          -0.6799977348966957,
          -0.778201986752367,
          -1.2717456323218235,
          -0.3066463797978318,
          -0.28465834118291106,
          -0.9703185781258792,
          -0.2635328041910526,
          -0.9703185781258792,
          -0.8349525476692956,
          -0.4923885518224846,
          -0.5250429221240956,
          -1.4267004450944234,
          -1.645096987420687,
          -1.4267004450944234,
          -1.4267004450944234,
          -1.645096987420687,
          -1.645096987420687
         ],
         "y": [
          -0.9035811135825496,
          -1.3539749525681328,
          -0.542012914309708,
          -0.7956850248020264,
          -0.02877246343238726,
          -0.5256253563010664,
          -1.298689931178132,
          -1.0928934798782237,
          -0.7108995465613855,
          -1.1695995029453508,
          -0.4425895455871361,
          -0.9844045325831985,
          -0.24166547382118803,
          -1.394966178570771,
          -0.948271379883122,
          -1.3379352151440274,
          -0.8024162842029647,
          -0.22973680826624593,
          -0.7792789536985151,
          -0.4616476133301567,
          -1.3206137403875986,
          -1.2244788278646586,
          -0.7677615003471849,
          -0.46150162995799393,
          -1.317381740653684,
          -1.285107480682975,
          -1.147162572854869,
          -0.5271396215668009,
          -1.0457346083816352,
          -1.3540178634202082,
          -0.963089951655168,
          -1.254185250454386,
          -1.2127805497310764,
          -1.1965524099517473,
          -0.5682786567723116,
          -1.1636018220494944,
          -1.3658225058222135,
          -0.6699146286733654,
          -1.3871400233645137,
          0.10629238058651853,
          -1.396215503884763
         ]
        },
        {
         "hovertemplate": "<b>%{text}</b><br>log Number of movies: %{x}<br>Influence score: %{y}<extra></extra>",
         "marker": {
          "color": "rgba(245, 222, 179, 1)",
          "opacity": 0.6,
          "size": 6
         },
         "mode": "markers",
         "name": "Cluster 1",
         "text": [
          "South Africa",
          "Greece",
          "Israel",
          "Switzerland",
          "Slovakia",
          "Norway",
          "Thailand",
          "Malaysia",
          "Turkey",
          "Finland",
          "Poland",
          "Portugal",
          "Pakistan",
          "Indonesia",
          "Hungary",
          "Brazil",
          "Iceland",
          "Taiwan",
          "Croatia",
          "Egypt",
          "Sri Lanka",
          "Iran",
          "Tunisia",
          "Uruguay",
          "Nepal",
          "Romania",
          "Austria",
          "Colombia",
          "Luxembourg",
          "Cuba",
          "Jamaica",
          "Peru",
          "Bolivia",
          "Lithuania",
          "United Arab Emirates",
          "Qatar",
          "Haiti"
         ],
         "type": "scatter",
         "x": [
          0.6276655134741069,
          0.45663093502079494,
          0.6115857477933949,
          0.5182560282874817,
          -0.3785706807007516,
          0.49848749220757077,
          0.7478578039446993,
          0.6732108410600818,
          0.5950111431724956,
          0.4674039371006471,
          0.5691518342938443,
          0.12007852109011956,
          0.3681320294969758,
          0.3616812679825138,
          0.411245605103755,
          0.6196856319872919,
          -0.13511696240433255,
          0.5230868422695758,
          -0.03149927655463952,
          0.4456380606454069,
          0.09935934560264291,
          0.4344161516546787,
          -0.13511696240433255,
          -0.5598054444261034,
          -0.6799977348966957,
          0.2543141583752431,
          0.508462446694803,
          -0.20471455494414487,
          0.019837850368267428,
          -0.5250429221240956,
          -1.0533490899955595,
          -0.5598054444261034,
          -0.8983942772229595,
          -0.8983942772229595,
          -0.5598054444261034,
          -1.1515533418512311,
          -1.645096987420687
         ],
         "y": [
          -0.02479871435881658,
          0.22517966733777842,
          -0.26961889526049493,
          0.5131188515049586,
          1.806069792504691,
          0.6889375669543576,
          0.45624113749581635,
          0.49549593820750326,
          -0.19994989685325346,
          0.46920360555898755,
          0.8264035336844795,
          -0.4078895916120731,
          -0.10014864550352084,
          0.12122820020938398,
          0.4839713766336701,
          0.39068825383579064,
          0.3009602965800117,
          -0.27422044906541737,
          -0.09911355404844802,
          -0.5583436401143157,
          -0.31745070783173646,
          0.04116137269257054,
          -0.22122753123070674,
          -0.011474232479715333,
          2.2944897119060363,
          0.8383000756471203,
          0.3944926139189832,
          0.9353330720236015,
          2.0707257950003544,
          -0.05898595434441852,
          1.7562694144539266,
          0.22574042989472523,
          1.2371295248863812,
          1.7128050933537153,
          0.16922034383465248,
          2.033794735265513,
          0.9412422481628941
         ]
        },
        {
         "hovertemplate": "<b>%{text}</b><br>log Number of movies: %{x}<br>Influence score: %{y}<extra></extra>",
         "marker": {
          "color": "rgb(0, 0, 139)",
          "opacity": 0.6,
          "size": 6
         },
         "mode": "markers",
         "name": "Cluster 2",
         "text": [
          "France",
          "Russia",
          "India",
          "Australia",
          "New Zealand",
          "Canada",
          "Germany",
          "United Kingdom",
          "Spain",
          "Italy",
          "China",
          "South Korea",
          "Mexico",
          "Belgium",
          "Japan",
          "Denmark",
          "Philippines",
          "Ireland",
          "Sweden",
          "Netherlands",
          "Argentina"
         ],
         "type": "scatter",
         "x": [
          2.151390527440015,
          1.3114213330583584,
          2.542010902181356,
          1.545897641065334,
          0.9683624982713595,
          1.9178068744231827,
          1.9700621618118277,
          2.4769380058073818,
          1.4841634312234075,
          1.8129186741524708,
          1.8116011876044322,
          1.5473359120094003,
          1.0029935025288828,
          0.8299822901196587,
          1.897200946168399,
          0.7603846975798465,
          0.9469002109412361,
          0.7816292824556044,
          0.9598799269221036,
          0.894028206106286,
          0.9490853342159933
         ],
         "y": [
          0.5679775099750116,
          0.08563544668533073,
          -0.20219253040530258,
          0.9609956056738135,
          1.528400020189419,
          3.1250135985357788,
          0.7998731455973804,
          1.1898683109403212,
          0.866403562318836,
          1.178992932511427,
          0.11686486262702407,
          0.10525868613086713,
          0.5704011424157833,
          0.5052619376166102,
          0.9952901039547501,
          0.9653647165598118,
          1.8320516183632547,
          1.1928668051981657,
          0.432672991998628,
          1.3070954636243595,
          0.557758009180155
         ]
        },
        {
         "hovertemplate": "Centroid<br>log Number of movies: %{x}<br>Influence score: %{y}<extra></extra>",
         "marker": {
          "color": "black",
          "size": 12,
          "symbol": "x"
         },
         "mode": "markers",
         "name": "Centroids",
         "type": "scatter",
         "x": [
          -0.7579738861632253,
          0.01391718342177538,
          1.4553330260041206
         ],
         "y": [
          -0.9162642628911322,
          0.5104048875363509,
          0.8896120923662583
         ]
        }
       ],
       "layout": {
        "height": 400,
        "template": {
         "data": {
          "bar": [
           {
            "error_x": {
             "color": "#2a3f5f"
            },
            "error_y": {
             "color": "#2a3f5f"
            },
            "marker": {
             "line": {
              "color": "#E5ECF6",
              "width": 0.5
             },
             "pattern": {
              "fillmode": "overlay",
              "size": 10,
              "solidity": 0.2
             }
            },
            "type": "bar"
           }
          ],
          "barpolar": [
           {
            "marker": {
             "line": {
              "color": "#E5ECF6",
              "width": 0.5
             },
             "pattern": {
              "fillmode": "overlay",
              "size": 10,
              "solidity": 0.2
             }
            },
            "type": "barpolar"
           }
          ],
          "carpet": [
           {
            "aaxis": {
             "endlinecolor": "#2a3f5f",
             "gridcolor": "white",
             "linecolor": "white",
             "minorgridcolor": "white",
             "startlinecolor": "#2a3f5f"
            },
            "baxis": {
             "endlinecolor": "#2a3f5f",
             "gridcolor": "white",
             "linecolor": "white",
             "minorgridcolor": "white",
             "startlinecolor": "#2a3f5f"
            },
            "type": "carpet"
           }
          ],
          "choropleth": [
           {
            "colorbar": {
             "outlinewidth": 0,
             "ticks": ""
            },
            "type": "choropleth"
           }
          ],
          "contour": [
           {
            "colorbar": {
             "outlinewidth": 0,
             "ticks": ""
            },
            "colorscale": [
             [
              0,
              "#0d0887"
             ],
             [
              0.1111111111111111,
              "#46039f"
             ],
             [
              0.2222222222222222,
              "#7201a8"
             ],
             [
              0.3333333333333333,
              "#9c179e"
             ],
             [
              0.4444444444444444,
              "#bd3786"
             ],
             [
              0.5555555555555556,
              "#d8576b"
             ],
             [
              0.6666666666666666,
              "#ed7953"
             ],
             [
              0.7777777777777778,
              "#fb9f3a"
             ],
             [
              0.8888888888888888,
              "#fdca26"
             ],
             [
              1,
              "#f0f921"
             ]
            ],
            "type": "contour"
           }
          ],
          "contourcarpet": [
           {
            "colorbar": {
             "outlinewidth": 0,
             "ticks": ""
            },
            "type": "contourcarpet"
           }
          ],
          "heatmap": [
           {
            "colorbar": {
             "outlinewidth": 0,
             "ticks": ""
            },
            "colorscale": [
             [
              0,
              "#0d0887"
             ],
             [
              0.1111111111111111,
              "#46039f"
             ],
             [
              0.2222222222222222,
              "#7201a8"
             ],
             [
              0.3333333333333333,
              "#9c179e"
             ],
             [
              0.4444444444444444,
              "#bd3786"
             ],
             [
              0.5555555555555556,
              "#d8576b"
             ],
             [
              0.6666666666666666,
              "#ed7953"
             ],
             [
              0.7777777777777778,
              "#fb9f3a"
             ],
             [
              0.8888888888888888,
              "#fdca26"
             ],
             [
              1,
              "#f0f921"
             ]
            ],
            "type": "heatmap"
           }
          ],
          "heatmapgl": [
           {
            "colorbar": {
             "outlinewidth": 0,
             "ticks": ""
            },
            "colorscale": [
             [
              0,
              "#0d0887"
             ],
             [
              0.1111111111111111,
              "#46039f"
             ],
             [
              0.2222222222222222,
              "#7201a8"
             ],
             [
              0.3333333333333333,
              "#9c179e"
             ],
             [
              0.4444444444444444,
              "#bd3786"
             ],
             [
              0.5555555555555556,
              "#d8576b"
             ],
             [
              0.6666666666666666,
              "#ed7953"
             ],
             [
              0.7777777777777778,
              "#fb9f3a"
             ],
             [
              0.8888888888888888,
              "#fdca26"
             ],
             [
              1,
              "#f0f921"
             ]
            ],
            "type": "heatmapgl"
           }
          ],
          "histogram": [
           {
            "marker": {
             "pattern": {
              "fillmode": "overlay",
              "size": 10,
              "solidity": 0.2
             }
            },
            "type": "histogram"
           }
          ],
          "histogram2d": [
           {
            "colorbar": {
             "outlinewidth": 0,
             "ticks": ""
            },
            "colorscale": [
             [
              0,
              "#0d0887"
             ],
             [
              0.1111111111111111,
              "#46039f"
             ],
             [
              0.2222222222222222,
              "#7201a8"
             ],
             [
              0.3333333333333333,
              "#9c179e"
             ],
             [
              0.4444444444444444,
              "#bd3786"
             ],
             [
              0.5555555555555556,
              "#d8576b"
             ],
             [
              0.6666666666666666,
              "#ed7953"
             ],
             [
              0.7777777777777778,
              "#fb9f3a"
             ],
             [
              0.8888888888888888,
              "#fdca26"
             ],
             [
              1,
              "#f0f921"
             ]
            ],
            "type": "histogram2d"
           }
          ],
          "histogram2dcontour": [
           {
            "colorbar": {
             "outlinewidth": 0,
             "ticks": ""
            },
            "colorscale": [
             [
              0,
              "#0d0887"
             ],
             [
              0.1111111111111111,
              "#46039f"
             ],
             [
              0.2222222222222222,
              "#7201a8"
             ],
             [
              0.3333333333333333,
              "#9c179e"
             ],
             [
              0.4444444444444444,
              "#bd3786"
             ],
             [
              0.5555555555555556,
              "#d8576b"
             ],
             [
              0.6666666666666666,
              "#ed7953"
             ],
             [
              0.7777777777777778,
              "#fb9f3a"
             ],
             [
              0.8888888888888888,
              "#fdca26"
             ],
             [
              1,
              "#f0f921"
             ]
            ],
            "type": "histogram2dcontour"
           }
          ],
          "mesh3d": [
           {
            "colorbar": {
             "outlinewidth": 0,
             "ticks": ""
            },
            "type": "mesh3d"
           }
          ],
          "parcoords": [
           {
            "line": {
             "colorbar": {
              "outlinewidth": 0,
              "ticks": ""
             }
            },
            "type": "parcoords"
           }
          ],
          "pie": [
           {
            "automargin": true,
            "type": "pie"
           }
          ],
          "scatter": [
           {
            "fillpattern": {
             "fillmode": "overlay",
             "size": 10,
             "solidity": 0.2
            },
            "type": "scatter"
           }
          ],
          "scatter3d": [
           {
            "line": {
             "colorbar": {
              "outlinewidth": 0,
              "ticks": ""
             }
            },
            "marker": {
             "colorbar": {
              "outlinewidth": 0,
              "ticks": ""
             }
            },
            "type": "scatter3d"
           }
          ],
          "scattercarpet": [
           {
            "marker": {
             "colorbar": {
              "outlinewidth": 0,
              "ticks": ""
             }
            },
            "type": "scattercarpet"
           }
          ],
          "scattergeo": [
           {
            "marker": {
             "colorbar": {
              "outlinewidth": 0,
              "ticks": ""
             }
            },
            "type": "scattergeo"
           }
          ],
          "scattergl": [
           {
            "marker": {
             "colorbar": {
              "outlinewidth": 0,
              "ticks": ""
             }
            },
            "type": "scattergl"
           }
          ],
          "scattermapbox": [
           {
            "marker": {
             "colorbar": {
              "outlinewidth": 0,
              "ticks": ""
             }
            },
            "type": "scattermapbox"
           }
          ],
          "scatterpolar": [
           {
            "marker": {
             "colorbar": {
              "outlinewidth": 0,
              "ticks": ""
             }
            },
            "type": "scatterpolar"
           }
          ],
          "scatterpolargl": [
           {
            "marker": {
             "colorbar": {
              "outlinewidth": 0,
              "ticks": ""
             }
            },
            "type": "scatterpolargl"
           }
          ],
          "scatterternary": [
           {
            "marker": {
             "colorbar": {
              "outlinewidth": 0,
              "ticks": ""
             }
            },
            "type": "scatterternary"
           }
          ],
          "surface": [
           {
            "colorbar": {
             "outlinewidth": 0,
             "ticks": ""
            },
            "colorscale": [
             [
              0,
              "#0d0887"
             ],
             [
              0.1111111111111111,
              "#46039f"
             ],
             [
              0.2222222222222222,
              "#7201a8"
             ],
             [
              0.3333333333333333,
              "#9c179e"
             ],
             [
              0.4444444444444444,
              "#bd3786"
             ],
             [
              0.5555555555555556,
              "#d8576b"
             ],
             [
              0.6666666666666666,
              "#ed7953"
             ],
             [
              0.7777777777777778,
              "#fb9f3a"
             ],
             [
              0.8888888888888888,
              "#fdca26"
             ],
             [
              1,
              "#f0f921"
             ]
            ],
            "type": "surface"
           }
          ],
          "table": [
           {
            "cells": {
             "fill": {
              "color": "#EBF0F8"
             },
             "line": {
              "color": "white"
             }
            },
            "header": {
             "fill": {
              "color": "#C8D4E3"
             },
             "line": {
              "color": "white"
             }
            },
            "type": "table"
           }
          ]
         },
         "layout": {
          "annotationdefaults": {
           "arrowcolor": "#2a3f5f",
           "arrowhead": 0,
           "arrowwidth": 1
          },
          "autotypenumbers": "strict",
          "coloraxis": {
           "colorbar": {
            "outlinewidth": 0,
            "ticks": ""
           }
          },
          "colorscale": {
           "diverging": [
            [
             0,
             "#8e0152"
            ],
            [
             0.1,
             "#c51b7d"
            ],
            [
             0.2,
             "#de77ae"
            ],
            [
             0.3,
             "#f1b6da"
            ],
            [
             0.4,
             "#fde0ef"
            ],
            [
             0.5,
             "#f7f7f7"
            ],
            [
             0.6,
             "#e6f5d0"
            ],
            [
             0.7,
             "#b8e186"
            ],
            [
             0.8,
             "#7fbc41"
            ],
            [
             0.9,
             "#4d9221"
            ],
            [
             1,
             "#276419"
            ]
           ],
           "sequential": [
            [
             0,
             "#0d0887"
            ],
            [
             0.1111111111111111,
             "#46039f"
            ],
            [
             0.2222222222222222,
             "#7201a8"
            ],
            [
             0.3333333333333333,
             "#9c179e"
            ],
            [
             0.4444444444444444,
             "#bd3786"
            ],
            [
             0.5555555555555556,
             "#d8576b"
            ],
            [
             0.6666666666666666,
             "#ed7953"
            ],
            [
             0.7777777777777778,
             "#fb9f3a"
            ],
            [
             0.8888888888888888,
             "#fdca26"
            ],
            [
             1,
             "#f0f921"
            ]
           ],
           "sequentialminus": [
            [
             0,
             "#0d0887"
            ],
            [
             0.1111111111111111,
             "#46039f"
            ],
            [
             0.2222222222222222,
             "#7201a8"
            ],
            [
             0.3333333333333333,
             "#9c179e"
            ],
            [
             0.4444444444444444,
             "#bd3786"
            ],
            [
             0.5555555555555556,
             "#d8576b"
            ],
            [
             0.6666666666666666,
             "#ed7953"
            ],
            [
             0.7777777777777778,
             "#fb9f3a"
            ],
            [
             0.8888888888888888,
             "#fdca26"
            ],
            [
             1,
             "#f0f921"
            ]
           ]
          },
          "colorway": [
           "#636efa",
           "#EF553B",
           "#00cc96",
           "#ab63fa",
           "#FFA15A",
           "#19d3f3",
           "#FF6692",
           "#B6E880",
           "#FF97FF",
           "#FECB52"
          ],
          "font": {
           "color": "#2a3f5f"
          },
          "geo": {
           "bgcolor": "white",
           "lakecolor": "white",
           "landcolor": "#E5ECF6",
           "showlakes": true,
           "showland": true,
           "subunitcolor": "white"
          },
          "hoverlabel": {
           "align": "left"
          },
          "hovermode": "closest",
          "mapbox": {
           "style": "light"
          },
          "paper_bgcolor": "white",
          "plot_bgcolor": "#E5ECF6",
          "polar": {
           "angularaxis": {
            "gridcolor": "white",
            "linecolor": "white",
            "ticks": ""
           },
           "bgcolor": "#E5ECF6",
           "radialaxis": {
            "gridcolor": "white",
            "linecolor": "white",
            "ticks": ""
           }
          },
          "scene": {
           "xaxis": {
            "backgroundcolor": "#E5ECF6",
            "gridcolor": "white",
            "gridwidth": 2,
            "linecolor": "white",
            "showbackground": true,
            "ticks": "",
            "zerolinecolor": "white"
           },
           "yaxis": {
            "backgroundcolor": "#E5ECF6",
            "gridcolor": "white",
            "gridwidth": 2,
            "linecolor": "white",
            "showbackground": true,
            "ticks": "",
            "zerolinecolor": "white"
           },
           "zaxis": {
            "backgroundcolor": "#E5ECF6",
            "gridcolor": "white",
            "gridwidth": 2,
            "linecolor": "white",
            "showbackground": true,
            "ticks": "",
            "zerolinecolor": "white"
           }
          },
          "shapedefaults": {
           "line": {
            "color": "#2a3f5f"
           }
          },
          "ternary": {
           "aaxis": {
            "gridcolor": "white",
            "linecolor": "white",
            "ticks": ""
           },
           "baxis": {
            "gridcolor": "white",
            "linecolor": "white",
            "ticks": ""
           },
           "bgcolor": "#E5ECF6",
           "caxis": {
            "gridcolor": "white",
            "linecolor": "white",
            "ticks": ""
           }
          },
          "title": {
           "x": 0.05
          },
          "xaxis": {
           "automargin": true,
           "gridcolor": "white",
           "linecolor": "white",
           "ticks": "",
           "title": {
            "standoff": 15
           },
           "zerolinecolor": "white",
           "zerolinewidth": 2
          },
          "yaxis": {
           "automargin": true,
           "gridcolor": "white",
           "linecolor": "white",
           "ticks": "",
           "title": {
            "standoff": 15
           },
           "zerolinecolor": "white",
           "zerolinewidth": 2
          }
         }
        },
        "title": {
         "text": "KMeans Clustering (K = 3)",
         "x": 0.5,
         "xanchor": "center",
         "yanchor": "top"
        },
        "width": 500,
        "xaxis": {
         "title": {
          "text": "Standardized log Number of Movies"
         }
        },
        "yaxis": {
         "title": {
          "text": "Standardized US Influence score"
         }
        }
       }
      }
     },
     "metadata": {},
     "output_type": "display_data"
    }
   ],
   "source": [
    "# Cluster the data with K = 3\n",
    "kmeans = KMeans(n_clusters=3, random_state=42).fit(X)\n",
    "labels = kmeans.labels_\n",
    "centroids = kmeans.cluster_centers_\n",
    "\n",
    "# Add the cluster labels to the dataframe\n",
    "df_us_influence_final['cluster'] = labels\n",
    "\n",
    "country_names = df_us_influence_final['Country']\n",
    "\n",
    "# Define a color map for the clusters\n",
    "color_map = {\n",
    "    2: 'rgb(0, 0, 139)',  \n",
    "    1: 'rgba(245, 222, 179, 1)',  \n",
    "    0: 'rgb(139, 0, 0)'    \n",
    "}\n",
    "\n",
    "# Create the figure\n",
    "fig = go.Figure()\n",
    "\n",
    "for cluster_id in range(3):   # Loop over the 3 clusters \n",
    "    fig.add_trace(go.Scatter(\n",
    "        x=X[labels == cluster_id, 0],  # log Number of movies\n",
    "        y=X[labels == cluster_id, 1],  # Influence_Score\n",
    "        mode='markers',\n",
    "        marker=dict(\n",
    "            color=color_map[cluster_id],  # Use color_map to color by cluster\n",
    "            size=6, opacity=0.6\n",
    "        ),\n",
    "        text=country_names[labels == cluster_id],  # Add country names to the points\n",
    "        hovertemplate=\"<b>%{text}</b><br>log Number of movies: %{x}<br>Influence score: %{y}<extra></extra>\",\n",
    "        name=f'Cluster {cluster_id}'  # Name each cluster in the legend\n",
    "    ))\n",
    "\n",
    "\n",
    "# Add centroids\n",
    "fig.add_trace(go.Scatter(\n",
    "    x=centroids[:, 0], \n",
    "    y=centroids[:, 1],  \n",
    "    mode='markers',\n",
    "    marker=dict(color='black', size=12, symbol='x'),\n",
    "    hovertemplate=\"Centroid<br>log Number of movies: %{x}<br>Influence score: %{y}<extra></extra>\",\n",
    "    name='Centroids'\n",
    "))\n",
    "\n",
    "# Format the figure\n",
    "fig.update_layout(\n",
    "    title={\n",
    "        'text': \"KMeans Clustering (K = 3)\",\n",
    "        'x': 0.5,  # Center the title\n",
    "        'xanchor': 'center',\n",
    "        'yanchor': 'top'\n",
    "    } ,\n",
    "    xaxis_title=\"Standardized log Number of Movies\",\n",
    "    yaxis_title=\"Standardized US Influence score\",\n",
    "    height=400,\n",
    "    width=500,\n",
    ")\n",
    "\n",
    "fig.show()"
   ]
  },
  {
   "cell_type": "markdown",
   "metadata": {},
   "source": [
    "Here, we want to study the distribution of the clusters that we identified across the different world regions we analyzed earlier.\n",
    "To do this, we will plot a normalized stacked bar chart for each world region to clearly show the proportion of clusters within the regions."
   ]
  },
  {
   "cell_type": "code",
   "execution_count": 22,
   "metadata": {},
   "outputs": [
    {
     "data": {
      "application/vnd.plotly.v1+json": {
       "config": {
        "plotlyServerURL": "https://plot.ly"
       },
       "data": [
        {
         "marker": {
          "color": "rgb(139, 0, 0)"
         },
         "name": "Cluster 0",
         "type": "bar",
         "x": [
          "Africa",
          "Middle East",
          "South America",
          "South Asia",
          "Eastern Europe and Central Asia",
          "Europe",
          "North America",
          "East and Southeast Asia",
          "Oceania"
         ],
         "y": [
          0.8235294117647058,
          0.4444444444444444,
          0.25,
          0.3333333333333333,
          0.75,
          0.2727272727272727,
          0,
          0.2,
          0
         ]
        },
        {
         "marker": {
          "color": "rgba(245, 222, 179, 1)"
         },
         "name": "Cluster 1",
         "type": "bar",
         "x": [
          "Africa",
          "Middle East",
          "South America",
          "South Asia",
          "Eastern Europe and Central Asia",
          "Europe",
          "North America",
          "East and Southeast Asia",
          "Oceania"
         ],
         "y": [
          0.17647058823529413,
          0.5555555555555556,
          0.625,
          0.5,
          0,
          0.42424242424242425,
          0.6,
          0.4,
          0
         ]
        },
        {
         "marker": {
          "color": "rgb(0, 0, 139)"
         },
         "name": "Cluster 2",
         "type": "bar",
         "x": [
          "Africa",
          "Middle East",
          "South America",
          "South Asia",
          "Eastern Europe and Central Asia",
          "Europe",
          "North America",
          "East and Southeast Asia",
          "Oceania"
         ],
         "y": [
          0,
          0,
          0.125,
          0.16666666666666666,
          0.25,
          0.30303030303030304,
          0.4,
          0.4,
          1
         ]
        }
       ],
       "layout": {
        "barmode": "stack",
        "height": 400,
        "legend": {
         "title": {
          "text": "Cluster"
         }
        },
        "template": {
         "data": {
          "bar": [
           {
            "error_x": {
             "color": "#2a3f5f"
            },
            "error_y": {
             "color": "#2a3f5f"
            },
            "marker": {
             "line": {
              "color": "#E5ECF6",
              "width": 0.5
             },
             "pattern": {
              "fillmode": "overlay",
              "size": 10,
              "solidity": 0.2
             }
            },
            "type": "bar"
           }
          ],
          "barpolar": [
           {
            "marker": {
             "line": {
              "color": "#E5ECF6",
              "width": 0.5
             },
             "pattern": {
              "fillmode": "overlay",
              "size": 10,
              "solidity": 0.2
             }
            },
            "type": "barpolar"
           }
          ],
          "carpet": [
           {
            "aaxis": {
             "endlinecolor": "#2a3f5f",
             "gridcolor": "white",
             "linecolor": "white",
             "minorgridcolor": "white",
             "startlinecolor": "#2a3f5f"
            },
            "baxis": {
             "endlinecolor": "#2a3f5f",
             "gridcolor": "white",
             "linecolor": "white",
             "minorgridcolor": "white",
             "startlinecolor": "#2a3f5f"
            },
            "type": "carpet"
           }
          ],
          "choropleth": [
           {
            "colorbar": {
             "outlinewidth": 0,
             "ticks": ""
            },
            "type": "choropleth"
           }
          ],
          "contour": [
           {
            "colorbar": {
             "outlinewidth": 0,
             "ticks": ""
            },
            "colorscale": [
             [
              0,
              "#0d0887"
             ],
             [
              0.1111111111111111,
              "#46039f"
             ],
             [
              0.2222222222222222,
              "#7201a8"
             ],
             [
              0.3333333333333333,
              "#9c179e"
             ],
             [
              0.4444444444444444,
              "#bd3786"
             ],
             [
              0.5555555555555556,
              "#d8576b"
             ],
             [
              0.6666666666666666,
              "#ed7953"
             ],
             [
              0.7777777777777778,
              "#fb9f3a"
             ],
             [
              0.8888888888888888,
              "#fdca26"
             ],
             [
              1,
              "#f0f921"
             ]
            ],
            "type": "contour"
           }
          ],
          "contourcarpet": [
           {
            "colorbar": {
             "outlinewidth": 0,
             "ticks": ""
            },
            "type": "contourcarpet"
           }
          ],
          "heatmap": [
           {
            "colorbar": {
             "outlinewidth": 0,
             "ticks": ""
            },
            "colorscale": [
             [
              0,
              "#0d0887"
             ],
             [
              0.1111111111111111,
              "#46039f"
             ],
             [
              0.2222222222222222,
              "#7201a8"
             ],
             [
              0.3333333333333333,
              "#9c179e"
             ],
             [
              0.4444444444444444,
              "#bd3786"
             ],
             [
              0.5555555555555556,
              "#d8576b"
             ],
             [
              0.6666666666666666,
              "#ed7953"
             ],
             [
              0.7777777777777778,
              "#fb9f3a"
             ],
             [
              0.8888888888888888,
              "#fdca26"
             ],
             [
              1,
              "#f0f921"
             ]
            ],
            "type": "heatmap"
           }
          ],
          "heatmapgl": [
           {
            "colorbar": {
             "outlinewidth": 0,
             "ticks": ""
            },
            "colorscale": [
             [
              0,
              "#0d0887"
             ],
             [
              0.1111111111111111,
              "#46039f"
             ],
             [
              0.2222222222222222,
              "#7201a8"
             ],
             [
              0.3333333333333333,
              "#9c179e"
             ],
             [
              0.4444444444444444,
              "#bd3786"
             ],
             [
              0.5555555555555556,
              "#d8576b"
             ],
             [
              0.6666666666666666,
              "#ed7953"
             ],
             [
              0.7777777777777778,
              "#fb9f3a"
             ],
             [
              0.8888888888888888,
              "#fdca26"
             ],
             [
              1,
              "#f0f921"
             ]
            ],
            "type": "heatmapgl"
           }
          ],
          "histogram": [
           {
            "marker": {
             "pattern": {
              "fillmode": "overlay",
              "size": 10,
              "solidity": 0.2
             }
            },
            "type": "histogram"
           }
          ],
          "histogram2d": [
           {
            "colorbar": {
             "outlinewidth": 0,
             "ticks": ""
            },
            "colorscale": [
             [
              0,
              "#0d0887"
             ],
             [
              0.1111111111111111,
              "#46039f"
             ],
             [
              0.2222222222222222,
              "#7201a8"
             ],
             [
              0.3333333333333333,
              "#9c179e"
             ],
             [
              0.4444444444444444,
              "#bd3786"
             ],
             [
              0.5555555555555556,
              "#d8576b"
             ],
             [
              0.6666666666666666,
              "#ed7953"
             ],
             [
              0.7777777777777778,
              "#fb9f3a"
             ],
             [
              0.8888888888888888,
              "#fdca26"
             ],
             [
              1,
              "#f0f921"
             ]
            ],
            "type": "histogram2d"
           }
          ],
          "histogram2dcontour": [
           {
            "colorbar": {
             "outlinewidth": 0,
             "ticks": ""
            },
            "colorscale": [
             [
              0,
              "#0d0887"
             ],
             [
              0.1111111111111111,
              "#46039f"
             ],
             [
              0.2222222222222222,
              "#7201a8"
             ],
             [
              0.3333333333333333,
              "#9c179e"
             ],
             [
              0.4444444444444444,
              "#bd3786"
             ],
             [
              0.5555555555555556,
              "#d8576b"
             ],
             [
              0.6666666666666666,
              "#ed7953"
             ],
             [
              0.7777777777777778,
              "#fb9f3a"
             ],
             [
              0.8888888888888888,
              "#fdca26"
             ],
             [
              1,
              "#f0f921"
             ]
            ],
            "type": "histogram2dcontour"
           }
          ],
          "mesh3d": [
           {
            "colorbar": {
             "outlinewidth": 0,
             "ticks": ""
            },
            "type": "mesh3d"
           }
          ],
          "parcoords": [
           {
            "line": {
             "colorbar": {
              "outlinewidth": 0,
              "ticks": ""
             }
            },
            "type": "parcoords"
           }
          ],
          "pie": [
           {
            "automargin": true,
            "type": "pie"
           }
          ],
          "scatter": [
           {
            "fillpattern": {
             "fillmode": "overlay",
             "size": 10,
             "solidity": 0.2
            },
            "type": "scatter"
           }
          ],
          "scatter3d": [
           {
            "line": {
             "colorbar": {
              "outlinewidth": 0,
              "ticks": ""
             }
            },
            "marker": {
             "colorbar": {
              "outlinewidth": 0,
              "ticks": ""
             }
            },
            "type": "scatter3d"
           }
          ],
          "scattercarpet": [
           {
            "marker": {
             "colorbar": {
              "outlinewidth": 0,
              "ticks": ""
             }
            },
            "type": "scattercarpet"
           }
          ],
          "scattergeo": [
           {
            "marker": {
             "colorbar": {
              "outlinewidth": 0,
              "ticks": ""
             }
            },
            "type": "scattergeo"
           }
          ],
          "scattergl": [
           {
            "marker": {
             "colorbar": {
              "outlinewidth": 0,
              "ticks": ""
             }
            },
            "type": "scattergl"
           }
          ],
          "scattermapbox": [
           {
            "marker": {
             "colorbar": {
              "outlinewidth": 0,
              "ticks": ""
             }
            },
            "type": "scattermapbox"
           }
          ],
          "scatterpolar": [
           {
            "marker": {
             "colorbar": {
              "outlinewidth": 0,
              "ticks": ""
             }
            },
            "type": "scatterpolar"
           }
          ],
          "scatterpolargl": [
           {
            "marker": {
             "colorbar": {
              "outlinewidth": 0,
              "ticks": ""
             }
            },
            "type": "scatterpolargl"
           }
          ],
          "scatterternary": [
           {
            "marker": {
             "colorbar": {
              "outlinewidth": 0,
              "ticks": ""
             }
            },
            "type": "scatterternary"
           }
          ],
          "surface": [
           {
            "colorbar": {
             "outlinewidth": 0,
             "ticks": ""
            },
            "colorscale": [
             [
              0,
              "#0d0887"
             ],
             [
              0.1111111111111111,
              "#46039f"
             ],
             [
              0.2222222222222222,
              "#7201a8"
             ],
             [
              0.3333333333333333,
              "#9c179e"
             ],
             [
              0.4444444444444444,
              "#bd3786"
             ],
             [
              0.5555555555555556,
              "#d8576b"
             ],
             [
              0.6666666666666666,
              "#ed7953"
             ],
             [
              0.7777777777777778,
              "#fb9f3a"
             ],
             [
              0.8888888888888888,
              "#fdca26"
             ],
             [
              1,
              "#f0f921"
             ]
            ],
            "type": "surface"
           }
          ],
          "table": [
           {
            "cells": {
             "fill": {
              "color": "#EBF0F8"
             },
             "line": {
              "color": "white"
             }
            },
            "header": {
             "fill": {
              "color": "#C8D4E3"
             },
             "line": {
              "color": "white"
             }
            },
            "type": "table"
           }
          ]
         },
         "layout": {
          "annotationdefaults": {
           "arrowcolor": "#2a3f5f",
           "arrowhead": 0,
           "arrowwidth": 1
          },
          "autotypenumbers": "strict",
          "coloraxis": {
           "colorbar": {
            "outlinewidth": 0,
            "ticks": ""
           }
          },
          "colorscale": {
           "diverging": [
            [
             0,
             "#8e0152"
            ],
            [
             0.1,
             "#c51b7d"
            ],
            [
             0.2,
             "#de77ae"
            ],
            [
             0.3,
             "#f1b6da"
            ],
            [
             0.4,
             "#fde0ef"
            ],
            [
             0.5,
             "#f7f7f7"
            ],
            [
             0.6,
             "#e6f5d0"
            ],
            [
             0.7,
             "#b8e186"
            ],
            [
             0.8,
             "#7fbc41"
            ],
            [
             0.9,
             "#4d9221"
            ],
            [
             1,
             "#276419"
            ]
           ],
           "sequential": [
            [
             0,
             "#0d0887"
            ],
            [
             0.1111111111111111,
             "#46039f"
            ],
            [
             0.2222222222222222,
             "#7201a8"
            ],
            [
             0.3333333333333333,
             "#9c179e"
            ],
            [
             0.4444444444444444,
             "#bd3786"
            ],
            [
             0.5555555555555556,
             "#d8576b"
            ],
            [
             0.6666666666666666,
             "#ed7953"
            ],
            [
             0.7777777777777778,
             "#fb9f3a"
            ],
            [
             0.8888888888888888,
             "#fdca26"
            ],
            [
             1,
             "#f0f921"
            ]
           ],
           "sequentialminus": [
            [
             0,
             "#0d0887"
            ],
            [
             0.1111111111111111,
             "#46039f"
            ],
            [
             0.2222222222222222,
             "#7201a8"
            ],
            [
             0.3333333333333333,
             "#9c179e"
            ],
            [
             0.4444444444444444,
             "#bd3786"
            ],
            [
             0.5555555555555556,
             "#d8576b"
            ],
            [
             0.6666666666666666,
             "#ed7953"
            ],
            [
             0.7777777777777778,
             "#fb9f3a"
            ],
            [
             0.8888888888888888,
             "#fdca26"
            ],
            [
             1,
             "#f0f921"
            ]
           ]
          },
          "colorway": [
           "#636efa",
           "#EF553B",
           "#00cc96",
           "#ab63fa",
           "#FFA15A",
           "#19d3f3",
           "#FF6692",
           "#B6E880",
           "#FF97FF",
           "#FECB52"
          ],
          "font": {
           "color": "#2a3f5f"
          },
          "geo": {
           "bgcolor": "white",
           "lakecolor": "white",
           "landcolor": "#E5ECF6",
           "showlakes": true,
           "showland": true,
           "subunitcolor": "white"
          },
          "hoverlabel": {
           "align": "left"
          },
          "hovermode": "closest",
          "mapbox": {
           "style": "light"
          },
          "paper_bgcolor": "white",
          "plot_bgcolor": "#E5ECF6",
          "polar": {
           "angularaxis": {
            "gridcolor": "white",
            "linecolor": "white",
            "ticks": ""
           },
           "bgcolor": "#E5ECF6",
           "radialaxis": {
            "gridcolor": "white",
            "linecolor": "white",
            "ticks": ""
           }
          },
          "scene": {
           "xaxis": {
            "backgroundcolor": "#E5ECF6",
            "gridcolor": "white",
            "gridwidth": 2,
            "linecolor": "white",
            "showbackground": true,
            "ticks": "",
            "zerolinecolor": "white"
           },
           "yaxis": {
            "backgroundcolor": "#E5ECF6",
            "gridcolor": "white",
            "gridwidth": 2,
            "linecolor": "white",
            "showbackground": true,
            "ticks": "",
            "zerolinecolor": "white"
           },
           "zaxis": {
            "backgroundcolor": "#E5ECF6",
            "gridcolor": "white",
            "gridwidth": 2,
            "linecolor": "white",
            "showbackground": true,
            "ticks": "",
            "zerolinecolor": "white"
           }
          },
          "shapedefaults": {
           "line": {
            "color": "#2a3f5f"
           }
          },
          "ternary": {
           "aaxis": {
            "gridcolor": "white",
            "linecolor": "white",
            "ticks": ""
           },
           "baxis": {
            "gridcolor": "white",
            "linecolor": "white",
            "ticks": ""
           },
           "bgcolor": "#E5ECF6",
           "caxis": {
            "gridcolor": "white",
            "linecolor": "white",
            "ticks": ""
           }
          },
          "title": {
           "x": 0.05
          },
          "xaxis": {
           "automargin": true,
           "gridcolor": "white",
           "linecolor": "white",
           "ticks": "",
           "title": {
            "standoff": 15
           },
           "zerolinecolor": "white",
           "zerolinewidth": 2
          },
          "yaxis": {
           "automargin": true,
           "gridcolor": "white",
           "linecolor": "white",
           "ticks": "",
           "title": {
            "standoff": 15
           },
           "zerolinecolor": "white",
           "zerolinewidth": 2
          }
         }
        },
        "title": {
         "text": "Distribution of Cluster by World Region",
         "x": 0.5,
         "xanchor": "center",
         "yanchor": "top"
        },
        "width": 500,
        "xaxis": {
         "tickangle": 45,
         "title": {}
        },
        "yaxis": {
         "title": {
          "text": "Proportion of Countries"
         }
        }
       }
      }
     },
     "metadata": {},
     "output_type": "display_data"
    }
   ],
   "source": [
    "color_map = {\n",
    "    2: 'rgb(0, 0, 139)',  \n",
    "    1: 'rgba(245, 222, 179, 1)',  \n",
    "    0: 'rgb(139, 0, 0)'    \n",
    "}\n",
    "\n",
    "df_us_influence_final_world_region = df_us_influence_final[df_us_influence_final['World_region'] != 'Other'] # Remove 'Other' region as we didn't assign it to a specific region\n",
    "# Calculate the proportion of countries in each cluster per world region (normalize by region total)\n",
    "region_cluster_counts = df_us_influence_final_world_region.groupby(['World_region', 'cluster'])['Country'].count().unstack(fill_value=0)\n",
    "region_cluster_proportions = region_cluster_counts.div(region_cluster_counts.sum(axis=1), axis=0)\n",
    "\n",
    "# Sort the world regions based on the proportion of countries in cluster \n",
    "region_cluster_proportions = region_cluster_proportions.sort_values(by=2, ascending=True)\n",
    "\n",
    "\n",
    "fig = go.Figure()\n",
    "\n",
    "# Add a bar for each cluster, stacking them for each region\n",
    "for cluster in region_cluster_proportions.columns:\n",
    "    fig.add_trace(go.Bar(\n",
    "        x=region_cluster_proportions.index,  \n",
    "        y=region_cluster_proportions[cluster],  # Proportions of countries in the cluster on the y-axis\n",
    "        name=f\"Cluster {cluster}\", # Label each cluster for the legend\n",
    "        marker=dict(color=color_map[cluster])  # Apply the color for the cluster from the color_map\n",
    "    ))\n",
    "\n",
    "# Customize the layout of the plot\n",
    "fig.update_layout(\n",
    "    xaxis_title=None,\n",
    "    barmode='stack',  # Stack the bars to show proportions \n",
    "    xaxis=dict(tickangle=45), \n",
    "    yaxis=dict(title=\"Proportion of Countries\"), \n",
    "    legend=dict(title=\"Cluster\"), \n",
    "    height=400,  \n",
    "    width=500,\n",
    "    title={\n",
    "        'text': \"Distribution of Cluster by World Region\",\n",
    "        'x': 0.5,  # Center the title\n",
    "        'xanchor': 'center',\n",
    "        'yanchor': 'top'\n",
    "    }  \n",
    ")\n",
    "\n",
    "fig.show()"
   ]
  },
  {
   "cell_type": "markdown",
   "metadata": {},
   "source": [
    "Our goal is to compare the clusters we identified with an official globalization index. Using plotly, we plot a world map with countries colored by their cluster. We will then do the same with coloring based on the KOF Globalization Index."
   ]
  },
  {
   "cell_type": "code",
   "execution_count": 23,
   "metadata": {},
   "outputs": [
    {
     "data": {
      "application/vnd.plotly.v1+json": {
       "config": {
        "plotlyServerURL": "https://plot.ly"
       },
       "data": [
        {
         "coloraxis": "coloraxis",
         "geo": "geo",
         "hovertemplate": "Country=%{location}<br>Cluster ID=%{z}<extra></extra>",
         "locationmode": "country names",
         "locations": [
          "France",
          "Russia",
          "India",
          "Australia",
          "New Zealand",
          "Canada",
          "Germany",
          "United Kingdom",
          "South Africa",
          "Spain",
          "Italy",
          "China",
          "South Korea",
          "Greece",
          "Israel",
          "Mexico",
          "Switzerland",
          "Belgium",
          "Japan",
          "Denmark",
          "Bulgaria",
          "Philippines",
          "Ireland",
          "Slovakia",
          "Norway",
          "Sweden",
          "Thailand",
          "Armenia",
          "Afghanistan",
          "Costa Rica",
          "Malaysia",
          "Netherlands",
          "Argentina",
          "Turkey",
          "Finland",
          "Mongolia",
          "Morocco",
          "Slovenia",
          "Bosnia and Herzegovina",
          "Lebanon",
          "Democratic Republic of the Congo",
          "Cambodia",
          "Poland",
          "Libya",
          "Portugal",
          "Pakistan",
          "Venezuela",
          "Indonesia",
          "Zambia",
          "Hungary",
          "Brazil",
          "Iceland",
          "Taiwan",
          "Burkina Faso",
          "Croatia",
          "Uzbekistan",
          "Vietnam",
          "Egypt",
          "Sri Lanka",
          "Chile",
          "Iran",
          "Tunisia",
          "Uruguay",
          "Nepal",
          "Romania",
          "Kuwait",
          "Austria",
          "Colombia",
          "Kenya",
          "Luxembourg",
          "Zimbabwe",
          "Iraq",
          "Cameroon",
          "Georgia",
          "Mali",
          "Estonia",
          "Cuba",
          "Guinea",
          "Bangladesh",
          "Jamaica",
          "Algeria",
          "Azerbaijan",
          "Senegal",
          "Albania",
          "Peru",
          "Ethiopia",
          "Nigeria",
          "Bolivia",
          "Lithuania",
          "Ukraine",
          "Montenegro",
          "United Arab Emirates",
          "Guinea-Bissau",
          "Qatar",
          "Bhutan",
          "Jordan",
          "Cyprus",
          "Haiti",
          "Turkmenistan"
         ],
         "name": "",
         "type": "choropleth",
         "z": [
          2,
          2,
          2,
          2,
          2,
          2,
          2,
          2,
          1,
          2,
          2,
          2,
          2,
          1,
          1,
          2,
          1,
          2,
          2,
          2,
          0,
          2,
          2,
          1,
          1,
          2,
          1,
          0,
          0,
          0,
          1,
          2,
          2,
          1,
          1,
          0,
          0,
          0,
          0,
          0,
          0,
          0,
          1,
          0,
          1,
          1,
          0,
          1,
          0,
          1,
          1,
          1,
          1,
          0,
          1,
          0,
          0,
          1,
          1,
          0,
          1,
          1,
          1,
          1,
          1,
          0,
          1,
          1,
          0,
          1,
          0,
          0,
          0,
          0,
          0,
          0,
          1,
          0,
          0,
          1,
          0,
          0,
          0,
          0,
          1,
          0,
          0,
          1,
          1,
          0,
          0,
          1,
          0,
          1,
          0,
          0,
          0,
          1,
          0
         ]
        }
       ],
       "layout": {
        "coloraxis": {
         "colorbar": {
          "title": {
           "text": "Cluster ID"
          }
         },
         "colorscale": [
          [
           0,
           "rgb(165,0,38)"
          ],
          [
           0.1,
           "rgb(215,48,39)"
          ],
          [
           0.2,
           "rgb(244,109,67)"
          ],
          [
           0.3,
           "rgb(253,174,97)"
          ],
          [
           0.4,
           "rgb(254,224,144)"
          ],
          [
           0.5,
           "rgb(255,255,191)"
          ],
          [
           0.6,
           "rgb(224,243,248)"
          ],
          [
           0.7,
           "rgb(171,217,233)"
          ],
          [
           0.8,
           "rgb(116,173,209)"
          ],
          [
           0.9,
           "rgb(69,117,180)"
          ],
          [
           1,
           "rgb(49,54,149)"
          ]
         ]
        },
        "geo": {
         "center": {},
         "domain": {
          "x": [
           0,
           1
          ],
          "y": [
           0,
           1
          ]
         }
        },
        "height": 400,
        "legend": {
         "tracegroupgap": 0
        },
        "template": {
         "data": {
          "bar": [
           {
            "error_x": {
             "color": "#2a3f5f"
            },
            "error_y": {
             "color": "#2a3f5f"
            },
            "marker": {
             "line": {
              "color": "#E5ECF6",
              "width": 0.5
             },
             "pattern": {
              "fillmode": "overlay",
              "size": 10,
              "solidity": 0.2
             }
            },
            "type": "bar"
           }
          ],
          "barpolar": [
           {
            "marker": {
             "line": {
              "color": "#E5ECF6",
              "width": 0.5
             },
             "pattern": {
              "fillmode": "overlay",
              "size": 10,
              "solidity": 0.2
             }
            },
            "type": "barpolar"
           }
          ],
          "carpet": [
           {
            "aaxis": {
             "endlinecolor": "#2a3f5f",
             "gridcolor": "white",
             "linecolor": "white",
             "minorgridcolor": "white",
             "startlinecolor": "#2a3f5f"
            },
            "baxis": {
             "endlinecolor": "#2a3f5f",
             "gridcolor": "white",
             "linecolor": "white",
             "minorgridcolor": "white",
             "startlinecolor": "#2a3f5f"
            },
            "type": "carpet"
           }
          ],
          "choropleth": [
           {
            "colorbar": {
             "outlinewidth": 0,
             "ticks": ""
            },
            "type": "choropleth"
           }
          ],
          "contour": [
           {
            "colorbar": {
             "outlinewidth": 0,
             "ticks": ""
            },
            "colorscale": [
             [
              0,
              "#0d0887"
             ],
             [
              0.1111111111111111,
              "#46039f"
             ],
             [
              0.2222222222222222,
              "#7201a8"
             ],
             [
              0.3333333333333333,
              "#9c179e"
             ],
             [
              0.4444444444444444,
              "#bd3786"
             ],
             [
              0.5555555555555556,
              "#d8576b"
             ],
             [
              0.6666666666666666,
              "#ed7953"
             ],
             [
              0.7777777777777778,
              "#fb9f3a"
             ],
             [
              0.8888888888888888,
              "#fdca26"
             ],
             [
              1,
              "#f0f921"
             ]
            ],
            "type": "contour"
           }
          ],
          "contourcarpet": [
           {
            "colorbar": {
             "outlinewidth": 0,
             "ticks": ""
            },
            "type": "contourcarpet"
           }
          ],
          "heatmap": [
           {
            "colorbar": {
             "outlinewidth": 0,
             "ticks": ""
            },
            "colorscale": [
             [
              0,
              "#0d0887"
             ],
             [
              0.1111111111111111,
              "#46039f"
             ],
             [
              0.2222222222222222,
              "#7201a8"
             ],
             [
              0.3333333333333333,
              "#9c179e"
             ],
             [
              0.4444444444444444,
              "#bd3786"
             ],
             [
              0.5555555555555556,
              "#d8576b"
             ],
             [
              0.6666666666666666,
              "#ed7953"
             ],
             [
              0.7777777777777778,
              "#fb9f3a"
             ],
             [
              0.8888888888888888,
              "#fdca26"
             ],
             [
              1,
              "#f0f921"
             ]
            ],
            "type": "heatmap"
           }
          ],
          "heatmapgl": [
           {
            "colorbar": {
             "outlinewidth": 0,
             "ticks": ""
            },
            "colorscale": [
             [
              0,
              "#0d0887"
             ],
             [
              0.1111111111111111,
              "#46039f"
             ],
             [
              0.2222222222222222,
              "#7201a8"
             ],
             [
              0.3333333333333333,
              "#9c179e"
             ],
             [
              0.4444444444444444,
              "#bd3786"
             ],
             [
              0.5555555555555556,
              "#d8576b"
             ],
             [
              0.6666666666666666,
              "#ed7953"
             ],
             [
              0.7777777777777778,
              "#fb9f3a"
             ],
             [
              0.8888888888888888,
              "#fdca26"
             ],
             [
              1,
              "#f0f921"
             ]
            ],
            "type": "heatmapgl"
           }
          ],
          "histogram": [
           {
            "marker": {
             "pattern": {
              "fillmode": "overlay",
              "size": 10,
              "solidity": 0.2
             }
            },
            "type": "histogram"
           }
          ],
          "histogram2d": [
           {
            "colorbar": {
             "outlinewidth": 0,
             "ticks": ""
            },
            "colorscale": [
             [
              0,
              "#0d0887"
             ],
             [
              0.1111111111111111,
              "#46039f"
             ],
             [
              0.2222222222222222,
              "#7201a8"
             ],
             [
              0.3333333333333333,
              "#9c179e"
             ],
             [
              0.4444444444444444,
              "#bd3786"
             ],
             [
              0.5555555555555556,
              "#d8576b"
             ],
             [
              0.6666666666666666,
              "#ed7953"
             ],
             [
              0.7777777777777778,
              "#fb9f3a"
             ],
             [
              0.8888888888888888,
              "#fdca26"
             ],
             [
              1,
              "#f0f921"
             ]
            ],
            "type": "histogram2d"
           }
          ],
          "histogram2dcontour": [
           {
            "colorbar": {
             "outlinewidth": 0,
             "ticks": ""
            },
            "colorscale": [
             [
              0,
              "#0d0887"
             ],
             [
              0.1111111111111111,
              "#46039f"
             ],
             [
              0.2222222222222222,
              "#7201a8"
             ],
             [
              0.3333333333333333,
              "#9c179e"
             ],
             [
              0.4444444444444444,
              "#bd3786"
             ],
             [
              0.5555555555555556,
              "#d8576b"
             ],
             [
              0.6666666666666666,
              "#ed7953"
             ],
             [
              0.7777777777777778,
              "#fb9f3a"
             ],
             [
              0.8888888888888888,
              "#fdca26"
             ],
             [
              1,
              "#f0f921"
             ]
            ],
            "type": "histogram2dcontour"
           }
          ],
          "mesh3d": [
           {
            "colorbar": {
             "outlinewidth": 0,
             "ticks": ""
            },
            "type": "mesh3d"
           }
          ],
          "parcoords": [
           {
            "line": {
             "colorbar": {
              "outlinewidth": 0,
              "ticks": ""
             }
            },
            "type": "parcoords"
           }
          ],
          "pie": [
           {
            "automargin": true,
            "type": "pie"
           }
          ],
          "scatter": [
           {
            "fillpattern": {
             "fillmode": "overlay",
             "size": 10,
             "solidity": 0.2
            },
            "type": "scatter"
           }
          ],
          "scatter3d": [
           {
            "line": {
             "colorbar": {
              "outlinewidth": 0,
              "ticks": ""
             }
            },
            "marker": {
             "colorbar": {
              "outlinewidth": 0,
              "ticks": ""
             }
            },
            "type": "scatter3d"
           }
          ],
          "scattercarpet": [
           {
            "marker": {
             "colorbar": {
              "outlinewidth": 0,
              "ticks": ""
             }
            },
            "type": "scattercarpet"
           }
          ],
          "scattergeo": [
           {
            "marker": {
             "colorbar": {
              "outlinewidth": 0,
              "ticks": ""
             }
            },
            "type": "scattergeo"
           }
          ],
          "scattergl": [
           {
            "marker": {
             "colorbar": {
              "outlinewidth": 0,
              "ticks": ""
             }
            },
            "type": "scattergl"
           }
          ],
          "scattermapbox": [
           {
            "marker": {
             "colorbar": {
              "outlinewidth": 0,
              "ticks": ""
             }
            },
            "type": "scattermapbox"
           }
          ],
          "scatterpolar": [
           {
            "marker": {
             "colorbar": {
              "outlinewidth": 0,
              "ticks": ""
             }
            },
            "type": "scatterpolar"
           }
          ],
          "scatterpolargl": [
           {
            "marker": {
             "colorbar": {
              "outlinewidth": 0,
              "ticks": ""
             }
            },
            "type": "scatterpolargl"
           }
          ],
          "scatterternary": [
           {
            "marker": {
             "colorbar": {
              "outlinewidth": 0,
              "ticks": ""
             }
            },
            "type": "scatterternary"
           }
          ],
          "surface": [
           {
            "colorbar": {
             "outlinewidth": 0,
             "ticks": ""
            },
            "colorscale": [
             [
              0,
              "#0d0887"
             ],
             [
              0.1111111111111111,
              "#46039f"
             ],
             [
              0.2222222222222222,
              "#7201a8"
             ],
             [
              0.3333333333333333,
              "#9c179e"
             ],
             [
              0.4444444444444444,
              "#bd3786"
             ],
             [
              0.5555555555555556,
              "#d8576b"
             ],
             [
              0.6666666666666666,
              "#ed7953"
             ],
             [
              0.7777777777777778,
              "#fb9f3a"
             ],
             [
              0.8888888888888888,
              "#fdca26"
             ],
             [
              1,
              "#f0f921"
             ]
            ],
            "type": "surface"
           }
          ],
          "table": [
           {
            "cells": {
             "fill": {
              "color": "#EBF0F8"
             },
             "line": {
              "color": "white"
             }
            },
            "header": {
             "fill": {
              "color": "#C8D4E3"
             },
             "line": {
              "color": "white"
             }
            },
            "type": "table"
           }
          ]
         },
         "layout": {
          "annotationdefaults": {
           "arrowcolor": "#2a3f5f",
           "arrowhead": 0,
           "arrowwidth": 1
          },
          "autotypenumbers": "strict",
          "coloraxis": {
           "colorbar": {
            "outlinewidth": 0,
            "ticks": ""
           }
          },
          "colorscale": {
           "diverging": [
            [
             0,
             "#8e0152"
            ],
            [
             0.1,
             "#c51b7d"
            ],
            [
             0.2,
             "#de77ae"
            ],
            [
             0.3,
             "#f1b6da"
            ],
            [
             0.4,
             "#fde0ef"
            ],
            [
             0.5,
             "#f7f7f7"
            ],
            [
             0.6,
             "#e6f5d0"
            ],
            [
             0.7,
             "#b8e186"
            ],
            [
             0.8,
             "#7fbc41"
            ],
            [
             0.9,
             "#4d9221"
            ],
            [
             1,
             "#276419"
            ]
           ],
           "sequential": [
            [
             0,
             "#0d0887"
            ],
            [
             0.1111111111111111,
             "#46039f"
            ],
            [
             0.2222222222222222,
             "#7201a8"
            ],
            [
             0.3333333333333333,
             "#9c179e"
            ],
            [
             0.4444444444444444,
             "#bd3786"
            ],
            [
             0.5555555555555556,
             "#d8576b"
            ],
            [
             0.6666666666666666,
             "#ed7953"
            ],
            [
             0.7777777777777778,
             "#fb9f3a"
            ],
            [
             0.8888888888888888,
             "#fdca26"
            ],
            [
             1,
             "#f0f921"
            ]
           ],
           "sequentialminus": [
            [
             0,
             "#0d0887"
            ],
            [
             0.1111111111111111,
             "#46039f"
            ],
            [
             0.2222222222222222,
             "#7201a8"
            ],
            [
             0.3333333333333333,
             "#9c179e"
            ],
            [
             0.4444444444444444,
             "#bd3786"
            ],
            [
             0.5555555555555556,
             "#d8576b"
            ],
            [
             0.6666666666666666,
             "#ed7953"
            ],
            [
             0.7777777777777778,
             "#fb9f3a"
            ],
            [
             0.8888888888888888,
             "#fdca26"
            ],
            [
             1,
             "#f0f921"
            ]
           ]
          },
          "colorway": [
           "#636efa",
           "#EF553B",
           "#00cc96",
           "#ab63fa",
           "#FFA15A",
           "#19d3f3",
           "#FF6692",
           "#B6E880",
           "#FF97FF",
           "#FECB52"
          ],
          "font": {
           "color": "#2a3f5f"
          },
          "geo": {
           "bgcolor": "white",
           "lakecolor": "white",
           "landcolor": "#E5ECF6",
           "showlakes": true,
           "showland": true,
           "subunitcolor": "white"
          },
          "hoverlabel": {
           "align": "left"
          },
          "hovermode": "closest",
          "mapbox": {
           "style": "light"
          },
          "paper_bgcolor": "white",
          "plot_bgcolor": "#E5ECF6",
          "polar": {
           "angularaxis": {
            "gridcolor": "white",
            "linecolor": "white",
            "ticks": ""
           },
           "bgcolor": "#E5ECF6",
           "radialaxis": {
            "gridcolor": "white",
            "linecolor": "white",
            "ticks": ""
           }
          },
          "scene": {
           "xaxis": {
            "backgroundcolor": "#E5ECF6",
            "gridcolor": "white",
            "gridwidth": 2,
            "linecolor": "white",
            "showbackground": true,
            "ticks": "",
            "zerolinecolor": "white"
           },
           "yaxis": {
            "backgroundcolor": "#E5ECF6",
            "gridcolor": "white",
            "gridwidth": 2,
            "linecolor": "white",
            "showbackground": true,
            "ticks": "",
            "zerolinecolor": "white"
           },
           "zaxis": {
            "backgroundcolor": "#E5ECF6",
            "gridcolor": "white",
            "gridwidth": 2,
            "linecolor": "white",
            "showbackground": true,
            "ticks": "",
            "zerolinecolor": "white"
           }
          },
          "shapedefaults": {
           "line": {
            "color": "#2a3f5f"
           }
          },
          "ternary": {
           "aaxis": {
            "gridcolor": "white",
            "linecolor": "white",
            "ticks": ""
           },
           "baxis": {
            "gridcolor": "white",
            "linecolor": "white",
            "ticks": ""
           },
           "bgcolor": "#E5ECF6",
           "caxis": {
            "gridcolor": "white",
            "linecolor": "white",
            "ticks": ""
           }
          },
          "title": {
           "x": 0.05
          },
          "xaxis": {
           "automargin": true,
           "gridcolor": "white",
           "linecolor": "white",
           "ticks": "",
           "title": {
            "standoff": 15
           },
           "zerolinecolor": "white",
           "zerolinewidth": 2
          },
          "yaxis": {
           "automargin": true,
           "gridcolor": "white",
           "linecolor": "white",
           "ticks": "",
           "title": {
            "standoff": 15
           },
           "zerolinecolor": "white",
           "zerolinewidth": 2
          }
         }
        },
        "title": {
         "font": {
          "size": 14
         },
         "text": "Countries cluster based on US Influence Score and Number of Movies",
         "x": 0.5,
         "xanchor": "center",
         "yanchor": "top"
        },
        "width": 600
       }
      }
     },
     "metadata": {},
     "output_type": "display_data"
    }
   ],
   "source": [
    "# Create a choropleth map with Plotly representing the clusters\n",
    "fig = px.choropleth(df_us_influence_final,\n",
    "                    locations='Country',  \n",
    "                    locationmode='country names',  \n",
    "                    color='cluster',  # Color based on the cluster column\n",
    "                    color_continuous_scale='RdYlBu',  # Use the specified color scale\n",
    "                    labels={'cluster': 'Cluster ID'},  \n",
    "                    title=\"Countries cluster based on US Influence Score and Number of Movies\",)\n",
    "\n",
    "# Display the map\n",
    "fig.update_layout(\n",
    "    height=400,  \n",
    "    width=600,\n",
    "    title={\n",
    "        'text': \"Countries cluster based on US Influence Score and Number of Movies\",\n",
    "        'x': 0.5,  # Center the title\n",
    "        'xanchor': 'center',\n",
    "        'yanchor': 'top',\n",
    "        'font': {'size': 14}\n",
    "    }\n",
    ")\n",
    "\n",
    "fig.show()"
   ]
  },
  {
   "cell_type": "code",
   "execution_count": 24,
   "metadata": {},
   "outputs": [
    {
     "name": "stdout",
     "output_type": "stream",
     "text": [
      "Collecting openpyxl\n",
      "  Downloading openpyxl-3.1.5-py2.py3-none-any.whl.metadata (2.5 kB)\n",
      "Collecting et-xmlfile (from openpyxl)\n",
      "  Downloading et_xmlfile-2.0.0-py3-none-any.whl.metadata (2.7 kB)\n",
      "Downloading openpyxl-3.1.5-py2.py3-none-any.whl (250 kB)\n",
      "Downloading et_xmlfile-2.0.0-py3-none-any.whl (18 kB)\n",
      "Installing collected packages: et-xmlfile, openpyxl\n",
      "Successfully installed et-xmlfile-2.0.0 openpyxl-3.1.5\n"
     ]
    }
   ],
   "source": [
    "!pip install openpyxl"
   ]
  },
  {
   "cell_type": "markdown",
   "metadata": {},
   "source": [
    "And here is the map of countries with their KOF Globalization Index. The data comes from the KOF online website, and we downloaded this data in Excel format."
   ]
  },
  {
   "cell_type": "code",
   "execution_count": 25,
   "metadata": {},
   "outputs": [],
   "source": [
    "# Load the globalization index data from the KOF\n",
    "df_globalization = pd.read_excel('data/additionalData/globalization_index.xlsx')"
   ]
  },
  {
   "cell_type": "code",
   "execution_count": 26,
   "metadata": {},
   "outputs": [
    {
     "data": {
      "application/vnd.plotly.v1+json": {
       "config": {
        "plotlyServerURL": "https://plot.ly"
       },
       "data": [
        {
         "coloraxis": "coloraxis",
         "geo": "geo",
         "hovertemplate": "Country=%{location}<br>Globalization=%{z}<extra></extra>",
         "locationmode": "country names",
         "locations": [
          "Switzerland",
          "Belgium",
          "Netherlands",
          "Sweden",
          "Germany",
          "Austria",
          "United Kingdom",
          "Denmark",
          "Finland",
          "France",
          "Luxembourg",
          "Ireland",
          "Spain",
          "Norway",
          "Czech Republic",
          "Portugal",
          "Greece",
          "Canada",
          "Hungary",
          "Italy",
          "Slovak Republic",
          "Singapore",
          "Estonia",
          "Lithuania",
          "United States",
          "Croatia",
          "Slovenia",
          "Poland",
          "Malta",
          "Malaysia",
          "Australia",
          "Cyprus",
          "Romania",
          "Bulgaria",
          "Serbia",
          "Korea, Rep",
          "Latvia",
          "United Arab Emirates",
          "Israel",
          "Chile",
          "Japan",
          "New Zealand",
          "Ukraine",
          "Mexico",
          "Jordan",
          "Uruguay",
          "Thailand",
          "Qatar",
          "Costa Rica",
          "Mauritius",
          "Iceland",
          "Montenegro",
          "Georgia",
          "Turkey",
          "Russian Federation",
          "South Africa",
          "Panama",
          "Kuwait",
          "Morocco",
          "Lebanon",
          "Argentina",
          "North Macedonia",
          "Bahrain",
          "Peru",
          "Armenia",
          "Belarus",
          "Hong Kong SAR, China",
          "Moldova",
          "Bosnia and Herzegovina",
          "Saudi Arabia",
          "Tunisia",
          "Egypt, Arab Rep",
          "Albania",
          "Dominican Republic",
          "Philippines",
          "El Salvador",
          "Azerbaijan",
          "Brazil",
          "China",
          "Mongolia",
          "Colombia",
          "Kazakhstan",
          "Seychelles",
          "Oman",
          "Vietnam",
          "Paraguay",
          "India",
          "Brunei Darussalam",
          "Indonesia",
          "Senegal",
          "Guatemala",
          "Kyrgyz Republic",
          "Barbados",
          "Trinidad and Tobago",
          "Jamaica",
          "Honduras",
          "Ghana",
          "Ecuador",
          "Nicaragua",
          "San Marino",
          "Cuba",
          "Libya",
          "Zambia",
          "Bolivia",
          "Sri Lanka",
          "Namibia",
          "Antigua and Barbuda",
          "Djibouti",
          "Fiji",
          "Macao SAR, China",
          "Cambodia",
          "St Lucia",
          "Kenya",
          "Andorra",
          "Iran, Islamic Rep",
          "Nigeria",
          "Belize",
          "Guyana",
          "Bahamas, The",
          "Algeria",
          "Cabo Verde",
          "Pakistan",
          "Cote d'Ivoire",
          "Suriname",
          "Botswana",
          "Liechtenstein",
          "Gabon",
          "Uganda",
          "Zimbabwe",
          "Dominica",
          "Grenada",
          "Uzbekistan",
          "Tajikistan",
          "Burkina Faso",
          "Maldives",
          "Mozambique",
          "Rwanda",
          "Gambia, The",
          "Venezuela, RB",
          "Mauritania",
          "Togo",
          "St Vincent and the Grenadines",
          "Papua New Guinea",
          "Bangladesh",
          "Benin",
          "Mali",
          "Samoa",
          "St Kitts and Nevis",
          "Guinea",
          "Congo, Rep",
          "Monaco",
          "Syrian Arab Republic",
          "Tanzania",
          "Cameroon",
          "Vanuatu",
          "Liberia",
          "Lesotho",
          "Malawi",
          "Yemen, Rep",
          "Sudan",
          "Tonga",
          "Nepal",
          "Madagascar",
          "Congo, Dem Rep",
          "Eswatini",
          "Timor-Leste",
          "Sierra Leone",
          "Micronesia, Fed Sts",
          "Equatorial Guinea",
          "Niger",
          "Cayman Islands",
          "Marshall Islands",
          "Myanmar",
          "Ethiopia",
          "Palau",
          "Iraq",
          "Lao PDR",
          "Aruba",
          "Sao Tome and Principe",
          "Bermuda",
          "Kiribati",
          "Guinea-Bissau",
          "Angola",
          "Faroe Islands",
          "Burundi",
          "Bhutan",
          "Haiti",
          "Chad",
          "Comoros",
          "Solomon Islands",
          "Turkmenistan",
          "Afghanistan",
          "West Bank and Gaza",
          "Central African Republic",
          "Eritrea",
          "Somalia"
         ],
         "name": "",
         "type": "choropleth",
         "z": [
          90.75,
          90.37999725341797,
          90.31999969482422,
          89.01000213623047,
          88.97000122070312,
          88.5,
          88.38999938964844,
          87.79000091552734,
          87.33000183105469,
          87.19000244140625,
          85.73999786376953,
          85.41000366210938,
          85.3499984741211,
          84.9000015258789,
          84.69999694824219,
          84.54000091552734,
          83.68000030517578,
          83.62000274658203,
          83.44999694824219,
          83.02999877929688,
          82.77999877929688,
          82.4800033569336,
          82.1500015258789,
          81.33000183105469,
          81.31999969482422,
          81.18000030517578,
          81.13999938964844,
          80.95999908447266,
          80.66000366210938,
          80.4800033569336,
          79.58999633789062,
          79.29000091552734,
          79.19999694824219,
          78.70999908447266,
          78.29000091552734,
          78.2699966430664,
          77.1500015258789,
          76.95999908447266,
          76.44999694824219,
          75.63999938964844,
          75.37000274658203,
          74.80999755859375,
          73.41000366210938,
          72.95999908447266,
          72.58999633789062,
          72.55999755859375,
          72.37999725341797,
          71.41000366210938,
          71.41000366210938,
          71.19999694824219,
          70.9800033569336,
          70.7300033569336,
          70.31999969482422,
          70.30000305175781,
          70.02999877929688,
          69.7300033569336,
          69.69999694824219,
          69.05000305175781,
          69.04000091552734,
          68.83000183105469,
          68.70999908447266,
          68.54000091552734,
          68.51000213623047,
          67.87999725341797,
          67.4800033569336,
          67.3499984741211,
          67.31999969482422,
          66.91000366210938,
          66.7300033569336,
          66.69000244140625,
          66.29000091552734,
          66.08000183105469,
          65.91999816894531,
          65.62999725341797,
          65.61000061035156,
          65.51000213623047,
          65.1500015258789,
          64.63999938964844,
          64.55000305175781,
          64.13999938964844,
          63.939998626708984,
          63.75,
          63.380001068115234,
          63.02000045776367,
          62.93000030517578,
          62.619998931884766,
          62.5,
          62.459999084472656,
          62.380001068115234,
          62.20000076293945,
          62.040000915527344,
          61.720001220703125,
          61.5099983215332,
          61.4900016784668,
          60.38999938964844,
          60.31999969482422,
          60.27000045776367,
          60.189998626708984,
          59.90999984741211,
          59,
          58.849998474121094,
          58.459999084472656,
          57.9900016784668,
          57.63999938964844,
          57.43000030517578,
          57.290000915527344,
          57.290000915527344,
          56.689998626708984,
          56.529998779296875,
          55.880001068115234,
          55.79999923706055,
          55.65999984741211,
          55.529998779296875,
          55.279998779296875,
          55.06999969482422,
          55.029998779296875,
          55.0099983215332,
          54.5,
          54.27000045776367,
          54.099998474121094,
          53.58000183105469,
          53.56999969482422,
          53.56999969482422,
          53.54999923706055,
          53.33000183105469,
          53.220001220703125,
          53.04999923706055,
          52.790000915527344,
          52.650001525878906,
          52.400001525878906,
          52.2400016784668,
          52.18000030517578,
          52.16999816894531,
          51.79999923706055,
          51.66999816894531,
          51.36000061035156,
          51,
          50.95000076293945,
          50.650001525878906,
          50.38999938964844,
          50.290000915527344,
          50.290000915527344,
          50.150001525878906,
          50.060001373291016,
          49.900001525878906,
          49.7599983215332,
          49.5,
          49.5,
          49.11000061035156,
          49.040000915527344,
          48.83000183105469,
          48.7599983215332,
          48.599998474121094,
          48.41999816894531,
          48.209999084472656,
          48.18000030517578,
          48.0099983215332,
          47.90999984741211,
          47.52000045776367,
          47.099998474121094,
          46.58000183105469,
          46.459999084472656,
          46.38999938964844,
          46.220001220703125,
          45.90999984741211,
          45.869998931884766,
          45.4900016784668,
          45.380001068115234,
          45.33000183105469,
          45.27000045776367,
          45.16999816894531,
          44.95000076293945,
          44.88999938964844,
          44.56999969482422,
          44.540000915527344,
          44.27000045776367,
          43.77000045776367,
          43.36000061035156,
          43.2400016784668,
          42.95000076293945,
          42.70000076293945,
          42.400001525878906,
          42.150001525878906,
          41.689998626708984,
          41.25,
          40.689998626708984,
          40.459999084472656,
          40.45000076293945,
          40.40999984741211,
          39.720001220703125,
          39.68000030517578,
          38.43000030517578,
          38.0099983215332,
          36.9900016784668,
          31.510000228881836,
          30.389999389648438
         ]
        }
       ],
       "layout": {
        "coloraxis": {
         "colorbar": {
          "title": {
           "text": "Globalization"
          }
         },
         "colorscale": [
          [
           0,
           "rgb(165,0,38)"
          ],
          [
           0.1,
           "rgb(215,48,39)"
          ],
          [
           0.2,
           "rgb(244,109,67)"
          ],
          [
           0.3,
           "rgb(253,174,97)"
          ],
          [
           0.4,
           "rgb(254,224,144)"
          ],
          [
           0.5,
           "rgb(255,255,191)"
          ],
          [
           0.6,
           "rgb(224,243,248)"
          ],
          [
           0.7,
           "rgb(171,217,233)"
          ],
          [
           0.8,
           "rgb(116,173,209)"
          ],
          [
           0.9,
           "rgb(69,117,180)"
          ],
          [
           1,
           "rgb(49,54,149)"
          ]
         ]
        },
        "geo": {
         "center": {},
         "domain": {
          "x": [
           0,
           1
          ],
          "y": [
           0,
           1
          ]
         }
        },
        "height": 400,
        "legend": {
         "tracegroupgap": 0
        },
        "template": {
         "data": {
          "bar": [
           {
            "error_x": {
             "color": "#2a3f5f"
            },
            "error_y": {
             "color": "#2a3f5f"
            },
            "marker": {
             "line": {
              "color": "#E5ECF6",
              "width": 0.5
             },
             "pattern": {
              "fillmode": "overlay",
              "size": 10,
              "solidity": 0.2
             }
            },
            "type": "bar"
           }
          ],
          "barpolar": [
           {
            "marker": {
             "line": {
              "color": "#E5ECF6",
              "width": 0.5
             },
             "pattern": {
              "fillmode": "overlay",
              "size": 10,
              "solidity": 0.2
             }
            },
            "type": "barpolar"
           }
          ],
          "carpet": [
           {
            "aaxis": {
             "endlinecolor": "#2a3f5f",
             "gridcolor": "white",
             "linecolor": "white",
             "minorgridcolor": "white",
             "startlinecolor": "#2a3f5f"
            },
            "baxis": {
             "endlinecolor": "#2a3f5f",
             "gridcolor": "white",
             "linecolor": "white",
             "minorgridcolor": "white",
             "startlinecolor": "#2a3f5f"
            },
            "type": "carpet"
           }
          ],
          "choropleth": [
           {
            "colorbar": {
             "outlinewidth": 0,
             "ticks": ""
            },
            "type": "choropleth"
           }
          ],
          "contour": [
           {
            "colorbar": {
             "outlinewidth": 0,
             "ticks": ""
            },
            "colorscale": [
             [
              0,
              "#0d0887"
             ],
             [
              0.1111111111111111,
              "#46039f"
             ],
             [
              0.2222222222222222,
              "#7201a8"
             ],
             [
              0.3333333333333333,
              "#9c179e"
             ],
             [
              0.4444444444444444,
              "#bd3786"
             ],
             [
              0.5555555555555556,
              "#d8576b"
             ],
             [
              0.6666666666666666,
              "#ed7953"
             ],
             [
              0.7777777777777778,
              "#fb9f3a"
             ],
             [
              0.8888888888888888,
              "#fdca26"
             ],
             [
              1,
              "#f0f921"
             ]
            ],
            "type": "contour"
           }
          ],
          "contourcarpet": [
           {
            "colorbar": {
             "outlinewidth": 0,
             "ticks": ""
            },
            "type": "contourcarpet"
           }
          ],
          "heatmap": [
           {
            "colorbar": {
             "outlinewidth": 0,
             "ticks": ""
            },
            "colorscale": [
             [
              0,
              "#0d0887"
             ],
             [
              0.1111111111111111,
              "#46039f"
             ],
             [
              0.2222222222222222,
              "#7201a8"
             ],
             [
              0.3333333333333333,
              "#9c179e"
             ],
             [
              0.4444444444444444,
              "#bd3786"
             ],
             [
              0.5555555555555556,
              "#d8576b"
             ],
             [
              0.6666666666666666,
              "#ed7953"
             ],
             [
              0.7777777777777778,
              "#fb9f3a"
             ],
             [
              0.8888888888888888,
              "#fdca26"
             ],
             [
              1,
              "#f0f921"
             ]
            ],
            "type": "heatmap"
           }
          ],
          "heatmapgl": [
           {
            "colorbar": {
             "outlinewidth": 0,
             "ticks": ""
            },
            "colorscale": [
             [
              0,
              "#0d0887"
             ],
             [
              0.1111111111111111,
              "#46039f"
             ],
             [
              0.2222222222222222,
              "#7201a8"
             ],
             [
              0.3333333333333333,
              "#9c179e"
             ],
             [
              0.4444444444444444,
              "#bd3786"
             ],
             [
              0.5555555555555556,
              "#d8576b"
             ],
             [
              0.6666666666666666,
              "#ed7953"
             ],
             [
              0.7777777777777778,
              "#fb9f3a"
             ],
             [
              0.8888888888888888,
              "#fdca26"
             ],
             [
              1,
              "#f0f921"
             ]
            ],
            "type": "heatmapgl"
           }
          ],
          "histogram": [
           {
            "marker": {
             "pattern": {
              "fillmode": "overlay",
              "size": 10,
              "solidity": 0.2
             }
            },
            "type": "histogram"
           }
          ],
          "histogram2d": [
           {
            "colorbar": {
             "outlinewidth": 0,
             "ticks": ""
            },
            "colorscale": [
             [
              0,
              "#0d0887"
             ],
             [
              0.1111111111111111,
              "#46039f"
             ],
             [
              0.2222222222222222,
              "#7201a8"
             ],
             [
              0.3333333333333333,
              "#9c179e"
             ],
             [
              0.4444444444444444,
              "#bd3786"
             ],
             [
              0.5555555555555556,
              "#d8576b"
             ],
             [
              0.6666666666666666,
              "#ed7953"
             ],
             [
              0.7777777777777778,
              "#fb9f3a"
             ],
             [
              0.8888888888888888,
              "#fdca26"
             ],
             [
              1,
              "#f0f921"
             ]
            ],
            "type": "histogram2d"
           }
          ],
          "histogram2dcontour": [
           {
            "colorbar": {
             "outlinewidth": 0,
             "ticks": ""
            },
            "colorscale": [
             [
              0,
              "#0d0887"
             ],
             [
              0.1111111111111111,
              "#46039f"
             ],
             [
              0.2222222222222222,
              "#7201a8"
             ],
             [
              0.3333333333333333,
              "#9c179e"
             ],
             [
              0.4444444444444444,
              "#bd3786"
             ],
             [
              0.5555555555555556,
              "#d8576b"
             ],
             [
              0.6666666666666666,
              "#ed7953"
             ],
             [
              0.7777777777777778,
              "#fb9f3a"
             ],
             [
              0.8888888888888888,
              "#fdca26"
             ],
             [
              1,
              "#f0f921"
             ]
            ],
            "type": "histogram2dcontour"
           }
          ],
          "mesh3d": [
           {
            "colorbar": {
             "outlinewidth": 0,
             "ticks": ""
            },
            "type": "mesh3d"
           }
          ],
          "parcoords": [
           {
            "line": {
             "colorbar": {
              "outlinewidth": 0,
              "ticks": ""
             }
            },
            "type": "parcoords"
           }
          ],
          "pie": [
           {
            "automargin": true,
            "type": "pie"
           }
          ],
          "scatter": [
           {
            "fillpattern": {
             "fillmode": "overlay",
             "size": 10,
             "solidity": 0.2
            },
            "type": "scatter"
           }
          ],
          "scatter3d": [
           {
            "line": {
             "colorbar": {
              "outlinewidth": 0,
              "ticks": ""
             }
            },
            "marker": {
             "colorbar": {
              "outlinewidth": 0,
              "ticks": ""
             }
            },
            "type": "scatter3d"
           }
          ],
          "scattercarpet": [
           {
            "marker": {
             "colorbar": {
              "outlinewidth": 0,
              "ticks": ""
             }
            },
            "type": "scattercarpet"
           }
          ],
          "scattergeo": [
           {
            "marker": {
             "colorbar": {
              "outlinewidth": 0,
              "ticks": ""
             }
            },
            "type": "scattergeo"
           }
          ],
          "scattergl": [
           {
            "marker": {
             "colorbar": {
              "outlinewidth": 0,
              "ticks": ""
             }
            },
            "type": "scattergl"
           }
          ],
          "scattermapbox": [
           {
            "marker": {
             "colorbar": {
              "outlinewidth": 0,
              "ticks": ""
             }
            },
            "type": "scattermapbox"
           }
          ],
          "scatterpolar": [
           {
            "marker": {
             "colorbar": {
              "outlinewidth": 0,
              "ticks": ""
             }
            },
            "type": "scatterpolar"
           }
          ],
          "scatterpolargl": [
           {
            "marker": {
             "colorbar": {
              "outlinewidth": 0,
              "ticks": ""
             }
            },
            "type": "scatterpolargl"
           }
          ],
          "scatterternary": [
           {
            "marker": {
             "colorbar": {
              "outlinewidth": 0,
              "ticks": ""
             }
            },
            "type": "scatterternary"
           }
          ],
          "surface": [
           {
            "colorbar": {
             "outlinewidth": 0,
             "ticks": ""
            },
            "colorscale": [
             [
              0,
              "#0d0887"
             ],
             [
              0.1111111111111111,
              "#46039f"
             ],
             [
              0.2222222222222222,
              "#7201a8"
             ],
             [
              0.3333333333333333,
              "#9c179e"
             ],
             [
              0.4444444444444444,
              "#bd3786"
             ],
             [
              0.5555555555555556,
              "#d8576b"
             ],
             [
              0.6666666666666666,
              "#ed7953"
             ],
             [
              0.7777777777777778,
              "#fb9f3a"
             ],
             [
              0.8888888888888888,
              "#fdca26"
             ],
             [
              1,
              "#f0f921"
             ]
            ],
            "type": "surface"
           }
          ],
          "table": [
           {
            "cells": {
             "fill": {
              "color": "#EBF0F8"
             },
             "line": {
              "color": "white"
             }
            },
            "header": {
             "fill": {
              "color": "#C8D4E3"
             },
             "line": {
              "color": "white"
             }
            },
            "type": "table"
           }
          ]
         },
         "layout": {
          "annotationdefaults": {
           "arrowcolor": "#2a3f5f",
           "arrowhead": 0,
           "arrowwidth": 1
          },
          "autotypenumbers": "strict",
          "coloraxis": {
           "colorbar": {
            "outlinewidth": 0,
            "ticks": ""
           }
          },
          "colorscale": {
           "diverging": [
            [
             0,
             "#8e0152"
            ],
            [
             0.1,
             "#c51b7d"
            ],
            [
             0.2,
             "#de77ae"
            ],
            [
             0.3,
             "#f1b6da"
            ],
            [
             0.4,
             "#fde0ef"
            ],
            [
             0.5,
             "#f7f7f7"
            ],
            [
             0.6,
             "#e6f5d0"
            ],
            [
             0.7,
             "#b8e186"
            ],
            [
             0.8,
             "#7fbc41"
            ],
            [
             0.9,
             "#4d9221"
            ],
            [
             1,
             "#276419"
            ]
           ],
           "sequential": [
            [
             0,
             "#0d0887"
            ],
            [
             0.1111111111111111,
             "#46039f"
            ],
            [
             0.2222222222222222,
             "#7201a8"
            ],
            [
             0.3333333333333333,
             "#9c179e"
            ],
            [
             0.4444444444444444,
             "#bd3786"
            ],
            [
             0.5555555555555556,
             "#d8576b"
            ],
            [
             0.6666666666666666,
             "#ed7953"
            ],
            [
             0.7777777777777778,
             "#fb9f3a"
            ],
            [
             0.8888888888888888,
             "#fdca26"
            ],
            [
             1,
             "#f0f921"
            ]
           ],
           "sequentialminus": [
            [
             0,
             "#0d0887"
            ],
            [
             0.1111111111111111,
             "#46039f"
            ],
            [
             0.2222222222222222,
             "#7201a8"
            ],
            [
             0.3333333333333333,
             "#9c179e"
            ],
            [
             0.4444444444444444,
             "#bd3786"
            ],
            [
             0.5555555555555556,
             "#d8576b"
            ],
            [
             0.6666666666666666,
             "#ed7953"
            ],
            [
             0.7777777777777778,
             "#fb9f3a"
            ],
            [
             0.8888888888888888,
             "#fdca26"
            ],
            [
             1,
             "#f0f921"
            ]
           ]
          },
          "colorway": [
           "#636efa",
           "#EF553B",
           "#00cc96",
           "#ab63fa",
           "#FFA15A",
           "#19d3f3",
           "#FF6692",
           "#B6E880",
           "#FF97FF",
           "#FECB52"
          ],
          "font": {
           "color": "#2a3f5f"
          },
          "geo": {
           "bgcolor": "white",
           "lakecolor": "white",
           "landcolor": "#E5ECF6",
           "showlakes": true,
           "showland": true,
           "subunitcolor": "white"
          },
          "hoverlabel": {
           "align": "left"
          },
          "hovermode": "closest",
          "mapbox": {
           "style": "light"
          },
          "paper_bgcolor": "white",
          "plot_bgcolor": "#E5ECF6",
          "polar": {
           "angularaxis": {
            "gridcolor": "white",
            "linecolor": "white",
            "ticks": ""
           },
           "bgcolor": "#E5ECF6",
           "radialaxis": {
            "gridcolor": "white",
            "linecolor": "white",
            "ticks": ""
           }
          },
          "scene": {
           "xaxis": {
            "backgroundcolor": "#E5ECF6",
            "gridcolor": "white",
            "gridwidth": 2,
            "linecolor": "white",
            "showbackground": true,
            "ticks": "",
            "zerolinecolor": "white"
           },
           "yaxis": {
            "backgroundcolor": "#E5ECF6",
            "gridcolor": "white",
            "gridwidth": 2,
            "linecolor": "white",
            "showbackground": true,
            "ticks": "",
            "zerolinecolor": "white"
           },
           "zaxis": {
            "backgroundcolor": "#E5ECF6",
            "gridcolor": "white",
            "gridwidth": 2,
            "linecolor": "white",
            "showbackground": true,
            "ticks": "",
            "zerolinecolor": "white"
           }
          },
          "shapedefaults": {
           "line": {
            "color": "#2a3f5f"
           }
          },
          "ternary": {
           "aaxis": {
            "gridcolor": "white",
            "linecolor": "white",
            "ticks": ""
           },
           "baxis": {
            "gridcolor": "white",
            "linecolor": "white",
            "ticks": ""
           },
           "bgcolor": "#E5ECF6",
           "caxis": {
            "gridcolor": "white",
            "linecolor": "white",
            "ticks": ""
           }
          },
          "title": {
           "x": 0.05
          },
          "xaxis": {
           "automargin": true,
           "gridcolor": "white",
           "linecolor": "white",
           "ticks": "",
           "title": {
            "standoff": 15
           },
           "zerolinecolor": "white",
           "zerolinewidth": 2
          },
          "yaxis": {
           "automargin": true,
           "gridcolor": "white",
           "linecolor": "white",
           "ticks": "",
           "title": {
            "standoff": 15
           },
           "zerolinecolor": "white",
           "zerolinewidth": 2
          }
         }
        },
        "title": {
         "text": "Globalization Index by Country",
         "x": 0.5,
         "xanchor": "center",
         "yanchor": "top"
        },
        "width": 600
       }
      }
     },
     "metadata": {},
     "output_type": "display_data"
    }
   ],
   "source": [
    "# Create a choropleth map with Plotly representing the globalization index\n",
    "fig = px.choropleth(df_globalization, \n",
    "                    locations='Country',  \n",
    "                    locationmode='country names',  \n",
    "                    color='Globalization',     # Color based on the globalization index\n",
    "                    color_continuous_scale='RdYlBu',  \n",
    "                    title=\"Globalization Index by Country\",\n",
    "                    labels={'globalization': 'Globalization Index'}\n",
    "                    )  \n",
    "\n",
    "fig.update_layout(\n",
    "    height=400,  \n",
    "    width=600,\n",
    "    title={\n",
    "        'text': \"Globalization Index by Country\",\n",
    "        'x': 0.5,  \n",
    "        'xanchor': 'center',\n",
    "        'yanchor': 'top'\n",
    "    }\n",
    ")\n",
    "\n",
    "fig.show()"
   ]
  }
 ],
 "metadata": {
  "kernelspec": {
   "display_name": "new_env",
   "language": "python",
   "name": "python3"
  },
  "language_info": {
   "codemirror_mode": {
    "name": "ipython",
    "version": 3
   },
   "file_extension": ".py",
   "mimetype": "text/x-python",
   "name": "python",
   "nbconvert_exporter": "python",
   "pygments_lexer": "ipython3",
   "version": "3.10.15"
  }
 },
 "nbformat": 4,
 "nbformat_minor": 2
}
